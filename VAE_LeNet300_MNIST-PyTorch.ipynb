{
 "cells": [
  {
   "cell_type": "markdown",
   "id": "ec90a05e-e98c-47b5-a04d-c9377fa6a5d3",
   "metadata": {},
   "source": [
    "# Variational Autoencoder: LeNet-300-100 _full-connected_ with PyTorch and MNIST"
   ]
  },
  {
   "cell_type": "code",
   "execution_count": 1,
   "id": "89d7b9c9-67af-42cf-abc0-a2441bda8f64",
   "metadata": {},
   "outputs": [
    {
     "name": "stdout",
     "output_type": "stream",
     "text": [
      "env: CUDA_DEVICE_ORDER=PCI_BUS_ID\n",
      "env: CUDA_VISIBLE_DEVICES=0\n"
     ]
    }
   ],
   "source": [
    "# Specify GPU to be used-\n",
    "%env CUDA_DEVICE_ORDER = PCI_BUS_ID\n",
    "%env CUDA_VISIBLE_DEVICES = 0"
   ]
  },
  {
   "cell_type": "code",
   "execution_count": 92,
   "id": "4548515b-b2af-49a3-8d13-a81a2e8e7fb9",
   "metadata": {},
   "outputs": [],
   "source": [
    "import torch\n",
    "import torch.nn as nn\n",
    "import torch.nn.functional as F\n",
    "import torchvision\n",
    "import torchvision.transforms as transforms\n",
    "\n",
    "from tqdm import tqdm\n",
    "from tqdm import trange\n",
    "import matplotlib.pyplot as plt\n",
    "import plotly\n",
    "import plotly.express as px\n",
    "import seaborn as sns\n",
    "import numpy as np"
   ]
  },
  {
   "cell_type": "code",
   "execution_count": null,
   "id": "38fb14b1-15f6-4881-8c93-a3b8d698e239",
   "metadata": {},
   "outputs": [],
   "source": []
  },
  {
   "cell_type": "code",
   "execution_count": null,
   "id": "604c2149-9c31-48e7-a525-a91163ffb976",
   "metadata": {},
   "outputs": [],
   "source": []
  },
  {
   "cell_type": "code",
   "execution_count": 3,
   "id": "411af825-c307-455f-8158-b4379444f8ac",
   "metadata": {},
   "outputs": [
    {
     "name": "stdout",
     "output_type": "stream",
     "text": [
      "torch version: 1.12.0\n"
     ]
    }
   ],
   "source": [
    "print(f\"torch version: {torch.__version__}\")"
   ]
  },
  {
   "cell_type": "code",
   "execution_count": 4,
   "id": "d87ac8fb-9d75-4de7-9829-794656a957f8",
   "metadata": {},
   "outputs": [
    {
     "name": "stdout",
     "output_type": "stream",
     "text": [
      "Number of GPU(s) available = 1\n",
      "Current GPU: 0\n",
      "Current GPU name: NVIDIA GeForce RTX 3080 Laptop GPU\n"
     ]
    }
   ],
   "source": [
    "# Check if there are multiple devices (i.e., GPU cards)-\n",
    "print(f\"Number of GPU(s) available = {torch.cuda.device_count()}\")\n",
    "\n",
    "# Which GPU Is The Current GPU?\n",
    "# print(f\"current GPU: {torch.cuda.current_device()}\")\n",
    "\n",
    "# Get the name of the current GPU-\n",
    "# print(f\"Current GPU name: {torch.cuda.get_device_name(torch.cuda.current_device())}\")\n",
    "\n",
    "# Is PyTorch using a GPU?\n",
    "# print(f\"Is PyTorch using a GPU? {torch.cuda.is_available()}\")\n",
    "\n",
    "if torch.cuda.is_available():\n",
    "    print(f\"Current GPU: {torch.cuda.current_device()}\")\n",
    "    print(f\"Current GPU name: {torch.cuda.get_device_name(torch.cuda.current_device())}\")\n",
    "else:\n",
    "    print(\"PyTorch does not have access to GPU\")"
   ]
  },
  {
   "cell_type": "code",
   "execution_count": 5,
   "id": "16a07e3a-afc5-4b01-862c-3e73fe0ec6af",
   "metadata": {},
   "outputs": [
    {
     "name": "stdout",
     "output_type": "stream",
     "text": [
      "Available device is cuda\n"
     ]
    }
   ],
   "source": [
    "# Device configuration-\n",
    "device = torch.device('cuda' if torch.cuda.is_available() else 'cpu')\n",
    "print(f'Available device is {device}')"
   ]
  },
  {
   "cell_type": "code",
   "execution_count": null,
   "id": "d1b51561-fdd8-4918-8754-9f040e4d4bb4",
   "metadata": {},
   "outputs": [],
   "source": []
  },
  {
   "cell_type": "code",
   "execution_count": null,
   "id": "ffb0b897-8b3e-43d6-b3a9-8ef209d1a51d",
   "metadata": {},
   "outputs": [],
   "source": []
  },
  {
   "cell_type": "code",
   "execution_count": 6,
   "id": "7932d653-14ee-4eff-9a12-4125e2efa55d",
   "metadata": {},
   "outputs": [],
   "source": [
    "# Hyper-parameters-\n",
    "num_epochs = 80\n",
    "batch_size = 256\n",
    "learning_rate = 0.001"
   ]
  },
  {
   "cell_type": "code",
   "execution_count": null,
   "id": "9fa13f72-0d1d-4835-a7c4-3f00f6c429a7",
   "metadata": {},
   "outputs": [],
   "source": []
  },
  {
   "cell_type": "code",
   "execution_count": null,
   "id": "2136fd65-b9e5-4ef9-ac96-71a16e21c162",
   "metadata": {},
   "outputs": [],
   "source": []
  },
  {
   "cell_type": "markdown",
   "id": "ae65062a-22f0-4535-a16f-a6f2c5f83ee6",
   "metadata": {},
   "source": [
    "### MNIST data pre-processing:"
   ]
  },
  {
   "cell_type": "markdown",
   "id": "267f62e4-ab84-42c4-a2bb-7310de515903",
   "metadata": {},
   "source": [
    "#### Compute mean and standard deviation for different datasets\n",
    "\n",
    "```\n",
    "import argparse\n",
    "import os\n",
    "import numpy as np\n",
    "import torchvision\n",
    "import torchvision.transforms as transforms\n",
    "\n",
    "dataset_names = ('cifar10','cifar100','mnist')\n",
    "\n",
    "parser = argparse.ArgumentParser(description='PyTorchLab')\n",
    "parser.add_argument('-d', '--dataset', metavar='DATA', default='cifar10', choices=dataset_names,\n",
    "                    help='dataset to be used: ' + ' | '.join(dataset_names) + ' (default: cifar10)')\n",
    "\n",
    "args = parser.parse_args()\n",
    "\n",
    "data_dir = os.path.join('.', args.dataset)\n",
    "\n",
    "print(args.dataset)\n",
    "\n",
    "if args.dataset == \"cifar10\":\n",
    "    train_transform = transforms.Compose([transforms.ToTensor()])\n",
    "    train_set = torchvision.datasets.CIFAR10(root=data_dir, train=True, download=True, transform=train_transform)\n",
    "    #print(vars(train_set))\n",
    "    print(train_set.train_data.shape)\n",
    "    print(train_set.train_data.mean(axis=(0,1,2))/255)\n",
    "    print(train_set.train_data.std(axis=(0,1,2))/255)\n",
    "\n",
    "elif args.dataset == \"cifar100\":\n",
    "    train_transform = transforms.Compose([transforms.ToTensor()])\n",
    "    train_set = torchvision.datasets.CIFAR100(root=data_dir, train=True, download=True, transform=train_transform)\n",
    "    #print(vars(train_set))\n",
    "    print(train_set.train_data.shape)\n",
    "    print(np.mean(train_set.train_data, axis=(0,1,2))/255)\n",
    "    print(np.std(train_set.train_data, axis=(0,1,2))/255)\n",
    "\n",
    "elif args.dataset == \"mnist\":\n",
    "    train_transform = transforms.Compose([transforms.ToTensor()])\n",
    "    train_set = torchvision.datasets.MNIST(root=data_dir, train=True, download=True, transform=train_transform)\n",
    "    #print(vars(train_set))\n",
    "    print(list(train_set.train_data.size()))\n",
    "    print(train_set.train_data.float().mean()/255)\n",
    "    print(train_set.train_data.float().std()/255)\n",
    "```\n",
    "\n",
    "[Reference](https://discuss.pytorch.org/t/normalization-in-the-mnist-example/457/11)"
   ]
  },
  {
   "cell_type": "code",
   "execution_count": 7,
   "id": "62c69969-db81-4c40-b233-a4805166a555",
   "metadata": {},
   "outputs": [],
   "source": [
    "# Define transformations for MNIST dataset-\n",
    "# MNIST dataset statistics-\n",
    "mean = np.array([0.1307])\n",
    "std_dev = np.array([0.3081])\n",
    "\n",
    "transforms_apply = transforms.Compose(\n",
    "    [\n",
    "        transforms.ToTensor(),\n",
    "        transforms.Normalize(mean = mean, std = std_dev)\n",
    "    ]\n",
    ")"
   ]
  },
  {
   "cell_type": "code",
   "execution_count": 8,
   "id": "3bf9299d-eab6-4f35-83dd-0feef02c5985",
   "metadata": {},
   "outputs": [],
   "source": [
    "path_to_data = \"C:\\\\Users\\\\arjun\\Downloads\\\\\""
   ]
  },
  {
   "cell_type": "code",
   "execution_count": 9,
   "id": "6396d0a7-bb5e-4328-a3d7-eab9eff9938e",
   "metadata": {},
   "outputs": [],
   "source": [
    "# Load MNIST dataset-\n",
    "train_dataset = torchvision.datasets.MNIST(\n",
    "        # root = './data', train = True,\n",
    "        root = path_to_data + \"data\", train = True,\n",
    "        transform = transforms_apply, download = True\n",
    "        )\n",
    "\n",
    "test_dataset = torchvision.datasets.MNIST(\n",
    "        # root = './data', train = False,\n",
    "        root = path_to_data + \"data\", train = False,\n",
    "        transform = transforms_apply\n",
    "        )"
   ]
  },
  {
   "cell_type": "code",
   "execution_count": 10,
   "id": "e6926221-1549-486d-bfe0-d1cbb762168b",
   "metadata": {},
   "outputs": [
    {
     "data": {
      "text/plain": [
       "(60000, 60000)"
      ]
     },
     "execution_count": 10,
     "metadata": {},
     "output_type": "execute_result"
    }
   ],
   "source": [
    "len(train_dataset.targets), len(train_dataset.data)"
   ]
  },
  {
   "cell_type": "code",
   "execution_count": 11,
   "id": "c40bed16-1bc9-494d-8586-b71b18793d23",
   "metadata": {},
   "outputs": [
    {
     "data": {
      "text/plain": [
       "(10000, 10000)"
      ]
     },
     "execution_count": 11,
     "metadata": {},
     "output_type": "execute_result"
    }
   ],
   "source": [
    "len(test_dataset.targets), len(test_dataset.data)"
   ]
  },
  {
   "cell_type": "code",
   "execution_count": 12,
   "id": "8fc1eb11-f9f7-404b-a800-95f960fe29ad",
   "metadata": {},
   "outputs": [
    {
     "name": "stdout",
     "output_type": "stream",
     "text": [
      "training dataset length/shape: [60000, 28, 28]\n"
     ]
    }
   ],
   "source": [
    "print(f\"training dataset length/shape: {list(train_dataset.data.size())}\")"
   ]
  },
  {
   "cell_type": "code",
   "execution_count": 13,
   "id": "f151f33e-bed5-4b43-ae24-a9b859f5e4f3",
   "metadata": {},
   "outputs": [
    {
     "name": "stdout",
     "output_type": "stream",
     "text": [
      "mean = 0.1307\n"
     ]
    }
   ],
   "source": [
    "print(f\"mean = {train_dataset.data.float().mean() / 255:.4f}\")"
   ]
  },
  {
   "cell_type": "code",
   "execution_count": 14,
   "id": "41de4113-dd98-4ef0-8499-f0314dbe70f5",
   "metadata": {},
   "outputs": [
    {
     "name": "stdout",
     "output_type": "stream",
     "text": [
      "std dev = 0.3081\n"
     ]
    }
   ],
   "source": [
    "print(f\"std dev = {train_dataset.data.float().std() / 255:.4f}\")"
   ]
  },
  {
   "cell_type": "markdown",
   "id": "a694d261-cf07-409b-b10c-f98f9ac8708f",
   "metadata": {},
   "source": [
    "#### NOTE:\n",
    "\n",
    "Since MNIST has only one channel, therefore, the mean and standard deviation is computed for one channel!"
   ]
  },
  {
   "cell_type": "code",
   "execution_count": null,
   "id": "3ba6d495-6643-4f29-94ff-edb6cafe5db9",
   "metadata": {},
   "outputs": [],
   "source": []
  },
  {
   "cell_type": "code",
   "execution_count": 15,
   "id": "f28ddefa-d115-4665-a8cd-b4c7b422d9df",
   "metadata": {},
   "outputs": [
    {
     "data": {
      "text/plain": [
       "(tensor(0, dtype=torch.uint8), tensor(255, dtype=torch.uint8))"
      ]
     },
     "execution_count": 15,
     "metadata": {},
     "output_type": "execute_result"
    }
   ],
   "source": [
    "# Sanity check-\n",
    "train_dataset.data.min(), train_dataset.data.max()"
   ]
  },
  {
   "cell_type": "code",
   "execution_count": 16,
   "id": "5285b62e-3c12-4ecf-945e-5ac5b0722b01",
   "metadata": {},
   "outputs": [
    {
     "data": {
      "text/plain": [
       "(tensor(0, dtype=torch.uint8), tensor(255, dtype=torch.uint8))"
      ]
     },
     "execution_count": 16,
     "metadata": {},
     "output_type": "execute_result"
    }
   ],
   "source": [
    "test_dataset.data.min(), test_dataset.data.max()"
   ]
  },
  {
   "cell_type": "code",
   "execution_count": null,
   "id": "91ae5de8-1bd6-4b84-a89a-b875ca10998b",
   "metadata": {},
   "outputs": [],
   "source": []
  },
  {
   "cell_type": "markdown",
   "id": "1b7f22a0-1728-45a3-ae35-03062029c501",
   "metadata": {},
   "source": [
    "#### Scale pixel values in the range 0 to 1\n",
    "\n",
    "To manually convert the pixel values in the range 0 to 1, divide the training and testing datasets by 255.0."
   ]
  },
  {
   "cell_type": "code",
   "execution_count": 17,
   "id": "ed4ab5df-4c6b-4ce5-bc78-bd8a7047fb24",
   "metadata": {},
   "outputs": [],
   "source": [
    "train = train_dataset.data.float() / 255.0\n",
    "test = test_dataset.data.float() / 255.0"
   ]
  },
  {
   "cell_type": "code",
   "execution_count": 18,
   "id": "c97019b0-c9c3-4512-b178-5615a2adbb82",
   "metadata": {},
   "outputs": [
    {
     "data": {
      "text/plain": [
       "(torch.Tensor, torch.Tensor)"
      ]
     },
     "execution_count": 18,
     "metadata": {},
     "output_type": "execute_result"
    }
   ],
   "source": [
    "type(train), type(test)"
   ]
  },
  {
   "cell_type": "code",
   "execution_count": 19,
   "id": "89267044-361c-45e9-8488-dfc7e30cb3bd",
   "metadata": {},
   "outputs": [
    {
     "data": {
      "text/plain": [
       "(torch.Size([60000, 28, 28]), torch.Size([10000, 28, 28]))"
      ]
     },
     "execution_count": 19,
     "metadata": {},
     "output_type": "execute_result"
    }
   ],
   "source": [
    "train.shape, test.shape"
   ]
  },
  {
   "cell_type": "code",
   "execution_count": 20,
   "id": "d17b7423-5600-4622-b9f7-1ca2acb2b92a",
   "metadata": {},
   "outputs": [],
   "source": [
    "# Reshape to include gray-scale channel-\n",
    "# train = train.reshape(60000, 1, 28, 28)\n",
    "# test = test.reshape(10000, 1, 28, 28)\n",
    "\n",
    "# Reshape the datasets into a flattened shape for LeNet300\n",
    "# architecture-\n",
    "train = train.view(-1, 28 * 28 * 1)\n",
    "test = test.view(-1, 28 * 28 * 1)"
   ]
  },
  {
   "cell_type": "code",
   "execution_count": 21,
   "id": "4d60a8fc-7c59-4cb6-90bc-ba977587b86d",
   "metadata": {},
   "outputs": [
    {
     "data": {
      "text/plain": [
       "(torch.Size([60000, 784]), torch.Size([10000, 784]))"
      ]
     },
     "execution_count": 21,
     "metadata": {},
     "output_type": "execute_result"
    }
   ],
   "source": [
    "# Sanity check-\n",
    "train.shape, test.shape"
   ]
  },
  {
   "cell_type": "code",
   "execution_count": null,
   "id": "c2a3169b-3c2a-4051-8ff7-e60c7a31cbdc",
   "metadata": {},
   "outputs": [],
   "source": []
  },
  {
   "cell_type": "code",
   "execution_count": 22,
   "id": "815e91c3-d92e-4c68-8a4b-4272a2662bcb",
   "metadata": {},
   "outputs": [
    {
     "data": {
      "text/plain": [
       "(tensor(0.), tensor(1.))"
      ]
     },
     "execution_count": 22,
     "metadata": {},
     "output_type": "execute_result"
    }
   ],
   "source": [
    "# Sanity check- min and max pixel values are in the range 0 to 1-\n",
    "train.data.min(), train.data.max()"
   ]
  },
  {
   "cell_type": "code",
   "execution_count": 23,
   "id": "bee0db56-0e86-45db-b27b-c012f34c2db7",
   "metadata": {},
   "outputs": [
    {
     "data": {
      "text/plain": [
       "(tensor(0.), tensor(1.))"
      ]
     },
     "execution_count": 23,
     "metadata": {},
     "output_type": "execute_result"
    }
   ],
   "source": [
    "test.data.min(), test.data.max()"
   ]
  },
  {
   "cell_type": "code",
   "execution_count": 24,
   "id": "b8bd6140-e57a-444a-8a50-6c7f2a1a629b",
   "metadata": {},
   "outputs": [],
   "source": [
    "del train_dataset, test_dataset"
   ]
  },
  {
   "cell_type": "code",
   "execution_count": null,
   "id": "a2c8d8e1-f745-43e9-9966-d210b0f513d3",
   "metadata": {},
   "outputs": [],
   "source": []
  },
  {
   "cell_type": "code",
   "execution_count": 25,
   "id": "bf2a58ea-8d7a-4421-b1bf-1070299ab97d",
   "metadata": {},
   "outputs": [
    {
     "name": "stdout",
     "output_type": "stream",
     "text": [
      "batch size to be used = 256\n"
     ]
    }
   ],
   "source": [
    "print(f\"batch size to be used = {batch_size}\")"
   ]
  },
  {
   "cell_type": "code",
   "execution_count": 26,
   "id": "5e52ca4c-2e40-43ef-8421-f0429acb3b60",
   "metadata": {},
   "outputs": [],
   "source": [
    "# Create training and testing dataloaders-\n",
    "train_loader = torch.utils.data.DataLoader(\n",
    "        dataset = train, batch_size = batch_size,\n",
    "        shuffle = True\n",
    "        )\n",
    "\n",
    "test_loader = torch.utils.data.DataLoader(\n",
    "        dataset = test, batch_size = batch_size,\n",
    "        shuffle = False\n",
    "        )"
   ]
  },
  {
   "cell_type": "code",
   "execution_count": 27,
   "id": "8607e038-7c41-4c2a-997b-8f6b14698c2b",
   "metadata": {},
   "outputs": [
    {
     "name": "stdout",
     "output_type": "stream",
     "text": [
      "Sizes of train_dataset: 60000 and test_dataet: 10000\n",
      "Sizes of train_loader: 235 and test_loader: 40\n"
     ]
    }
   ],
   "source": [
    "print(f\"Sizes of train_dataset: {len(train)} and test_dataet: {len(test)}\")\n",
    "print(f\"Sizes of train_loader: {len(train_loader)} and test_loader: {len(test_loader)}\")"
   ]
  },
  {
   "cell_type": "code",
   "execution_count": 28,
   "id": "370bfbbb-de2c-44ba-acdf-6caee8886888",
   "metadata": {},
   "outputs": [
    {
     "name": "stdout",
     "output_type": "stream",
     "text": [
      "len(train_loader) = 235 & len(test_loader) = 40\n"
     ]
    }
   ],
   "source": [
    "print(f\"len(train_loader) = {len(train_loader)} & len(test_loader) = {len(test_loader)}\")"
   ]
  },
  {
   "cell_type": "code",
   "execution_count": 29,
   "id": "2279e99e-022b-4238-b22c-6d4a6c2ba394",
   "metadata": {},
   "outputs": [
    {
     "data": {
      "text/plain": [
       "(234.375, 39.0625)"
      ]
     },
     "execution_count": 29,
     "metadata": {},
     "output_type": "execute_result"
    }
   ],
   "source": [
    "# Sanity check-\n",
    "len(train) / batch_size, len(test) / batch_size"
   ]
  },
  {
   "cell_type": "code",
   "execution_count": null,
   "id": "c62811bb-f21d-4505-b431-7273a6ee6cce",
   "metadata": {},
   "outputs": [],
   "source": []
  },
  {
   "cell_type": "code",
   "execution_count": 30,
   "id": "992559ef-5dca-4c28-9de4-74d8ea9aaafc",
   "metadata": {},
   "outputs": [
    {
     "name": "stdout",
     "output_type": "stream",
     "text": [
      "images.shape: torch.Size([256, 784])\n"
     ]
    }
   ],
   "source": [
    "# Get some random batch of training images & labels-\n",
    "# images, labels = next(iter(train_loader))\n",
    "images = next(iter(train_loader))\n",
    "\n",
    "# You get 64 images due to the specified batch size-\n",
    "# print(f\"images.shape: {images.shape} & labels.shape: {labels.shape}\")\n",
    "print(f\"images.shape: {images.shape}\")"
   ]
  },
  {
   "cell_type": "code",
   "execution_count": null,
   "id": "94a87340-e47d-4a9f-97ed-410624ecf612",
   "metadata": {},
   "outputs": [],
   "source": []
  },
  {
   "cell_type": "code",
   "execution_count": 31,
   "id": "4349ff13-8b38-4562-9499-99fdd6efd332",
   "metadata": {},
   "outputs": [
    {
     "data": {
      "text/plain": [
       "(tensor(0.), tensor(1.))"
      ]
     },
     "execution_count": 31,
     "metadata": {},
     "output_type": "execute_result"
    }
   ],
   "source": [
    "images.min(), images.max()"
   ]
  },
  {
   "cell_type": "code",
   "execution_count": 32,
   "id": "75e13a28-852a-42c4-933c-503668427b97",
   "metadata": {},
   "outputs": [],
   "source": [
    "# De-normalize the batch of images-\n",
    "images *= 255.0"
   ]
  },
  {
   "cell_type": "code",
   "execution_count": 33,
   "id": "7b13a40a-39e3-4546-be0d-b7e94970f6ba",
   "metadata": {},
   "outputs": [
    {
     "data": {
      "text/plain": [
       "(tensor(0.), tensor(255.))"
      ]
     },
     "execution_count": 33,
     "metadata": {},
     "output_type": "execute_result"
    }
   ],
   "source": [
    "images.min(), images.max()"
   ]
  },
  {
   "cell_type": "code",
   "execution_count": 34,
   "id": "6b5c1c30-4f45-4c58-b99d-a54f1319a0b4",
   "metadata": {},
   "outputs": [],
   "source": [
    "# Reshape images for visualization-\n",
    "images = images.view(-1, 1, 28, 28)"
   ]
  },
  {
   "cell_type": "code",
   "execution_count": null,
   "id": "34c0f855-170c-4661-909f-3e7ff5cd5705",
   "metadata": {},
   "outputs": [],
   "source": []
  },
  {
   "cell_type": "code",
   "execution_count": 36,
   "id": "c63d53a2-c24e-4ff4-8e57-0602f27955ea",
   "metadata": {},
   "outputs": [
    {
     "data": {
      "image/png": "[encoded data removed]",
      "text/plain": [
       "<Figure size 504x432 with 20 Axes>"
      ]
     },
     "metadata": {
      "needs_background": "light"
     },
     "output_type": "display_data"
    }
   ],
   "source": [
    "# Visualize 20 images from training set-\n",
    "plt.figure(figsize = (7, 6))\n",
    "for i in range(20):\n",
    "    # 4 rows & 5 columns-\n",
    "    plt.subplot(4, 5, i + 1)\n",
    "    # plt.imshow(images[i], cmap = 'gray')\n",
    "    # 0 to access first channel-\n",
    "    plt.imshow(images[i][0], cmap = 'gray')\n",
    "    \n",
    "plt.suptitle(\"Sample MNIST training images\")\n",
    "plt.show()"
   ]
  },
  {
   "cell_type": "code",
   "execution_count": 35,
   "id": "2bb03f1b-465c-4581-9678-42340bab3263",
   "metadata": {},
   "outputs": [],
   "source": [
    "del images"
   ]
  },
  {
   "cell_type": "code",
   "execution_count": null,
   "id": "ef847aae-ac60-41f5-b7e0-b6ebd02c860c",
   "metadata": {},
   "outputs": [],
   "source": []
  },
  {
   "cell_type": "code",
   "execution_count": null,
   "id": "77d41658-3f5b-4a8c-9065-f8a36828930b",
   "metadata": {},
   "outputs": [],
   "source": []
  },
  {
   "cell_type": "markdown",
   "id": "81156902-c9f2-4aea-a2f5-64850f2b2af8",
   "metadata": {},
   "source": [
    "### Define Variational Autoencoder architecture using _dense_ layers"
   ]
  },
  {
   "cell_type": "code",
   "execution_count": 36,
   "id": "b9328748-53c8-46ea-979c-395586ff68f9",
   "metadata": {},
   "outputs": [],
   "source": [
    "class LeNet300_Encoder(nn.Module):\n",
    "    def __init__(self, latent_space):\n",
    "        super(LeNet300_Encoder, self).__init__()\n",
    "        self.latent_space = latent_space\n",
    "        \n",
    "        # Define layers-\n",
    "        self.fc1 = nn.Linear(in_features = 28 * 28 * 1, out_features = 300)\n",
    "        self.fc2 = nn.Linear(in_features = 300, out_features = 100)\n",
    "        self.encoder_output = nn.Linear(in_features = 100, out_features = self.latent_space)\n",
    "        \n",
    "        self.weights_initialization()\n",
    "    \n",
    "    \n",
    "    def forward(self, x):\n",
    "        x = F.relu(self.fc1(x))\n",
    "        x = F.relu(self.fc2(x))\n",
    "        x = F.relu(self.encoder_output(x))\n",
    "        return x\n",
    "    \n",
    "    \n",
    "    def weights_initialization(self):\n",
    "        '''\n",
    "        When we define all the modules such as the layers in '__init__()'\n",
    "        method above, these are all stored in 'self.modules()'.\n",
    "        We go through each module one by one. This is the entire network,\n",
    "        basically.\n",
    "        '''\n",
    "        for m in self.modules():\n",
    "            if isinstance(m, nn.Linear):\n",
    "                nn.init.xavier_normal_(m.weight)\n",
    "                nn.init.constant_(m.bias, 0)\n",
    "    \n",
    "    def shape_computation(self, x):\n",
    "        print(f\"Input shape: {x.shape}\")\n",
    "        x = self.fc1(x)\n",
    "        print(f\"dense1 output shape: {x.shape}\")\n",
    "        x = self.fc2(x)\n",
    "        print(f\"dense2 output shape: {x.shape}\")\n",
    "        x = self.encoder_output(x)\n",
    "        print(f\"encoder output shape: {x.shape}\")\n",
    "        del x\n",
    "        return None\n",
    "    \n",
    "    "
   ]
  },
  {
   "cell_type": "code",
   "execution_count": 37,
   "id": "bdf33496-a61b-4a14-845a-711180a0b1ff",
   "metadata": {},
   "outputs": [],
   "source": [
    "class LeNet300_Decoder(nn.Module):\n",
    "    def __init__(self, latent_space):\n",
    "        super(LeNet300_Decoder, self).__init__()\n",
    "        self.latent_space = latent_space\n",
    "        \n",
    "        # Define layers-\n",
    "        self.fc1 = nn.Linear(in_features = self.latent_space, out_features = 50)\n",
    "        self.fc2 = nn.Linear(in_features = 50, out_features = 100)\n",
    "        self.fc3 = nn.Linear(in_features = 100, out_features = 300)\n",
    "        self.decoder_output = nn.Linear(in_features = 300, out_features = 28 * 28 * 1)\n",
    "    \n",
    "    \n",
    "    def forward(self, x):\n",
    "        x = F.relu(self.fc1(x))\n",
    "        x = F.relu(self.fc2(x))\n",
    "        x = F.relu(self.fc3(x))\n",
    "        x = self.decoder_output(x)\n",
    "        return x\n",
    "    \n",
    "    \n",
    "    def weights_initialization(self):\n",
    "        '''\n",
    "        When we define all the modules such as the layers in '__init__()'\n",
    "        method above, these are all stored in 'self.modules()'.\n",
    "        We go through each module one by one. This is the entire network,\n",
    "        basically.\n",
    "        '''\n",
    "        for m in self.modules():\n",
    "            if isinstance(m, nn.Linear):\n",
    "                # nn.init.kaiming_normal_(m.weight)\n",
    "                nn.init.xavier_normal_(m.weight)\n",
    "                nn.init.constant_(m.bias, 0)\n",
    "    \n",
    "    \n",
    "    def shape_computation(self, x):\n",
    "        print(f\"Input shape: {x.shape}\")\n",
    "        x = self.fc1(x)\n",
    "        print(f\"dense1 output shape: {x.shape}\")\n",
    "        x = self.fc2(x)\n",
    "        print(f\"dense2 output shape: {x.shape}\")\n",
    "        x = self.fc3(x)\n",
    "        print(f\"dense3 output shape: {x.shape}\")\n",
    "        x = self.decoder_output(x)\n",
    "        print(f\"decoder output shape: {x.shape}\")\n",
    "        del x\n",
    "        return None\n",
    "    "
   ]
  },
  {
   "cell_type": "code",
   "execution_count": null,
   "id": "f4405c53-ae04-42f1-8bca-df5614a8d476",
   "metadata": {},
   "outputs": [],
   "source": []
  },
  {
   "cell_type": "code",
   "execution_count": 38,
   "id": "134ffb7a-22fd-4e72-b361-960a260a7102",
   "metadata": {},
   "outputs": [],
   "source": [
    "class VAE_Dense(nn.Module):\n",
    "    def __init__(self, latent_space = 5):\n",
    "        super(VAE_Dense, self).__init__()\n",
    "        \n",
    "        self.latent_space = latent_space\n",
    "        \n",
    "        # Encoder-\n",
    "        self.encoder = LeNet300_Encoder(latent_space = self.latent_space).to(device)\n",
    "        \n",
    "        # Two additional layers 'mu' & 'log_var' vectors to convert the bottleneck into\n",
    "        # μ and σ vectors-\n",
    "        self.mu = nn.Linear(\n",
    "            in_features = self.latent_space, out_features = self.latent_space,\n",
    "            bias = True\n",
    "        )\n",
    "        self.log_var = nn.Linear(\n",
    "            in_features = self.latent_space, out_features = self.latent_space,\n",
    "            bias = True\n",
    "        )\n",
    "        \n",
    "        # Decoder-\n",
    "        self.decoder = LeNet300_Decoder(latent_space = self.latent_space).to(device)\n",
    "        \n",
    "        \n",
    "    def reparameterize(self, mu, log_var):\n",
    "        '''\n",
    "        Input arguments:\n",
    "        1. mu - mean coming from the encoder's latent space\n",
    "        2. log_var - log variance coming from the encoder's latent space\n",
    "        \n",
    "        The log-var trick allows us to have both positive and negative values instead\n",
    "        of only having positive values if standard deviation was used. Having both\n",
    "        positive & negative values is good for the neural network training process.\n",
    "        '''\n",
    "        # Compute standard deviation using 'log_var'-\n",
    "        std = torch.exp(0.5 * log_var)\n",
    "        \n",
    "        # 'eps' is sampled from a standard normal distribution\n",
    "        # to add stochasticity to the sampling process-\n",
    "        eps = torch.randn_like(std)\n",
    "        \n",
    "        # Reparameterization trick - sample as if it's from the input\n",
    "        # space-\n",
    "        z = mu + (std * eps)\n",
    "        \n",
    "        return z\n",
    "    \n",
    "    \n",
    "    def forward(self, x):\n",
    "        # Encode input data using encoder-\n",
    "        x = self.encoder(x)\n",
    "        # NOTE: The line of code above does NOT give us the latent vector!\n",
    "        \n",
    "        mu = self.mu(x)\n",
    "        log_var = self.log_var(x)\n",
    "        \n",
    "        # Obtain the latent vector using reparameterization-\n",
    "        z = self.reparameterize(mu, log_var)\n",
    "        # latent vector 'z' is obtained through reparameterization trick using mu and log_var\n",
    "        \n",
    "        # Decode latent vector using decoder-\n",
    "        recon_data = torch.sigmoid(self.decoder(z))\n",
    "        # recon_data = torch.tanh(self.decoder(z))\n",
    "        \n",
    "        return recon_data, mu, log_var\n",
    "    \n",
    "    \n",
    "    def shape_computation(self, x):\n",
    "        print(f\"Input shape: {x.shape}\")\n",
    "        x = self.encoder(x)\n",
    "        print(f\"Encoder output shape: {x.shape}\")\n",
    "        mu = self.mu(x)\n",
    "        log_var = self.log_var(x)\n",
    "        z = self.reparameterize(mu, log_var)\n",
    "        print(f\"mu.shape: {mu.shape}, log_var.shape: {log_var.shape}\"\n",
    "              f\" & z.shape: {z.shape}\")\n",
    "        x = self.decoder(z)\n",
    "        print(f\"Decoder output shape: {x.shape}\")\n",
    "        del x, mu, log_var, z\n",
    "        return None\n",
    "    \n",
    "    "
   ]
  },
  {
   "cell_type": "code",
   "execution_count": null,
   "id": "8a97aaf2-078c-4814-89f6-c50f6fabb9a2",
   "metadata": {},
   "outputs": [],
   "source": []
  },
  {
   "cell_type": "code",
   "execution_count": 39,
   "id": "c860ddf0-1696-4fb7-a5f9-73b301925075",
   "metadata": {},
   "outputs": [],
   "source": [
    "# Initialize a VAE object-\n",
    "model = VAE_Dense(latent_space = 3).to(device)"
   ]
  },
  {
   "cell_type": "code",
   "execution_count": null,
   "id": "0ff6b87d-d3a0-4bb1-b563-9383583b5fc9",
   "metadata": {},
   "outputs": [],
   "source": []
  },
  {
   "cell_type": "code",
   "execution_count": 42,
   "id": "2bc50f58-a33a-4695-a965-d9457e0e8495",
   "metadata": {},
   "outputs": [
    {
     "name": "stdout",
     "output_type": "stream",
     "text": [
      "VAE_Dense(\n",
      "  (encoder): LeNet300_Encoder(\n",
      "    (fc1): Linear(in_features=784, out_features=300, bias=True)\n",
      "    (fc2): Linear(in_features=300, out_features=100, bias=True)\n",
      "    (encoder_output): Linear(in_features=100, out_features=3, bias=True)\n",
      "  )\n",
      "  (mu): Linear(in_features=3, out_features=3, bias=True)\n",
      "  (log_var): Linear(in_features=3, out_features=3, bias=True)\n",
      "  (decoder): LeNet300_Decoder(\n",
      "    (fc1): Linear(in_features=3, out_features=50, bias=True)\n",
      "    (fc2): Linear(in_features=50, out_features=100, bias=True)\n",
      "    (fc3): Linear(in_features=100, out_features=300, bias=True)\n",
      "    (decoder_output): Linear(in_features=300, out_features=784, bias=True)\n",
      "  )\n",
      ")\n"
     ]
    }
   ],
   "source": [
    "print(model)"
   ]
  },
  {
   "cell_type": "code",
   "execution_count": 43,
   "id": "bde96bb4-603a-4d4d-8c88-db73fe31cb02",
   "metadata": {},
   "outputs": [
    {
     "name": "stdout",
     "output_type": "stream",
     "text": [
      "layer.shape = torch.Size([300, 784]) has 235200 parameters\n",
      "layer.shape = torch.Size([300]) has 300 parameters\n",
      "layer.shape = torch.Size([100, 300]) has 30000 parameters\n",
      "layer.shape = torch.Size([100]) has 100 parameters\n",
      "layer.shape = torch.Size([3, 100]) has 300 parameters\n",
      "layer.shape = torch.Size([3]) has 3 parameters\n",
      "layer.shape = torch.Size([3, 3]) has 9 parameters\n",
      "layer.shape = torch.Size([3]) has 3 parameters\n",
      "layer.shape = torch.Size([3, 3]) has 9 parameters\n",
      "layer.shape = torch.Size([3]) has 3 parameters\n",
      "layer.shape = torch.Size([50, 3]) has 150 parameters\n",
      "layer.shape = torch.Size([50]) has 50 parameters\n",
      "layer.shape = torch.Size([100, 50]) has 5000 parameters\n",
      "layer.shape = torch.Size([100]) has 100 parameters\n",
      "layer.shape = torch.Size([300, 100]) has 30000 parameters\n",
      "layer.shape = torch.Size([300]) has 300 parameters\n",
      "layer.shape = torch.Size([784, 300]) has 235200 parameters\n",
      "layer.shape = torch.Size([784]) has 784 parameters\n"
     ]
    }
   ],
   "source": [
    "# Count number of layer-wise parameters and total parameters-\n",
    "tot_params = 0\n",
    "for param in model.parameters():\n",
    "    print(f\"layer.shape = {param.shape} has {param.nelement()} parameters\")\n",
    "    tot_params += param.nelement()"
   ]
  },
  {
   "cell_type": "code",
   "execution_count": 44,
   "id": "19dc32ee-0f02-4912-a87b-1dc4425c5669",
   "metadata": {},
   "outputs": [
    {
     "name": "stdout",
     "output_type": "stream",
     "text": [
      "Total number of parameters in VAE Conv model = 537511\n"
     ]
    }
   ],
   "source": [
    "print(f\"Total number of parameters in VAE Conv model = {tot_params}\")"
   ]
  },
  {
   "cell_type": "code",
   "execution_count": null,
   "id": "6224ef02-b0df-445e-8891-2b1ce3956587",
   "metadata": {},
   "outputs": [],
   "source": []
  },
  {
   "cell_type": "code",
   "execution_count": 56,
   "id": "08599482-b2ab-4d73-9e36-18e684b49a3e",
   "metadata": {},
   "outputs": [],
   "source": [
    "# Save trained VAE model's weights-\n",
    "torch.save(model.state_dict(), 'VAE_LeNet300_MNIST_Random_Weights.pth')"
   ]
  },
  {
   "cell_type": "code",
   "execution_count": null,
   "id": "5f0e2a9d-b43d-4751-98a6-40e27b5b8eaa",
   "metadata": {},
   "outputs": [],
   "source": [
    "# Load trained weights from before-\n",
    "# loaded_model = VAE_Dense(latent_space = 3).to(device)\n",
    "# loaded_model.load_state_dict(torch.load(VAE_LeNet300_MNIST_Random_Weights.pth', map_location = torch.device('cpu')))"
   ]
  },
  {
   "cell_type": "code",
   "execution_count": null,
   "id": "15532c76-5f54-4dbf-a0b5-3d1a3d41e0af",
   "metadata": {},
   "outputs": [],
   "source": []
  },
  {
   "cell_type": "code",
   "execution_count": null,
   "id": "72eeef8c-55e6-4f2a-8182-6585bd97d120",
   "metadata": {},
   "outputs": [],
   "source": []
  },
  {
   "cell_type": "markdown",
   "id": "10180047-ebcf-4668-9a41-52214832f1a2",
   "metadata": {},
   "source": [
    "### Initial variance - Sanity check:\n",
    "\n",
    "Before training the VAE neural network model, there should be some initial variance."
   ]
  },
  {
   "cell_type": "code",
   "execution_count": 45,
   "id": "5ceb04a8-2c72-4341-a35c-50d151dddfcc",
   "metadata": {},
   "outputs": [
    {
     "name": "stdout",
     "output_type": "stream",
     "text": [
      "torch.Size([3, 3]) 9\n",
      "torch.Size([3]) 3\n"
     ]
    }
   ],
   "source": [
    "for x in model.mu.parameters():\n",
    "    print(x.shape, x.nelement())"
   ]
  },
  {
   "cell_type": "code",
   "execution_count": 46,
   "id": "6855f32c-16de-4276-a95a-da0c3051f646",
   "metadata": {},
   "outputs": [],
   "source": [
    "log_var_wts = model.log_var.weight\n",
    "mu_wts = model.mu.weight"
   ]
  },
  {
   "cell_type": "code",
   "execution_count": 47,
   "id": "a4f1adb8-b8fa-41f6-8c8d-c1a24ee90501",
   "metadata": {},
   "outputs": [],
   "source": [
    "mu_wts = mu_wts.detach().cpu().numpy()\n",
    "log_var_wts = log_var_wts.detach().cpu().numpy()"
   ]
  },
  {
   "cell_type": "code",
   "execution_count": 48,
   "id": "fab189d5-b508-49d2-b2de-99a97f8e287f",
   "metadata": {},
   "outputs": [
    {
     "data": {
      "text/plain": [
       "((3, 3), (3, 3))"
      ]
     },
     "execution_count": 48,
     "metadata": {},
     "output_type": "execute_result"
    }
   ],
   "source": [
    "mu_wts.shape, log_var_wts.shape"
   ]
  },
  {
   "cell_type": "code",
   "execution_count": null,
   "id": "a783e454-7dc3-47f2-90de-c40a27ad81c2",
   "metadata": {},
   "outputs": [],
   "source": []
  },
  {
   "cell_type": "code",
   "execution_count": 50,
   "id": "56b20880-500b-4073-b874-c5e9e194c814",
   "metadata": {},
   "outputs": [
    {
     "data": {
      "image/png": "[encoded data removed]",
      "text/plain": [
       "<Figure size 504x432 with 1 Axes>"
      ]
     },
     "metadata": {
      "needs_background": "light"
     },
     "output_type": "display_data"
    }
   ],
   "source": [
    "plt.figure(figsize = (7, 6))\n",
    "# sns.displot(data = mu_wts.flatten(), bins = int(np.ceil(np.sqrt(mu_wts.size))))\n",
    "n, bins, patches = plt.hist(mu_wts.flatten(), bins = int(np.ceil(np.sqrt(mu_wts.size))))\n",
    "plt.title(\"mu randomly initialized - Visualization\")\n",
    "plt.show()"
   ]
  },
  {
   "cell_type": "code",
   "execution_count": 51,
   "id": "f88f920c-1821-4892-a0b2-ec3599066380",
   "metadata": {},
   "outputs": [
    {
     "data": {
      "image/png": "[encoded data removed]",
      "text/plain": [
       "<Figure size 504x432 with 1 Axes>"
      ]
     },
     "metadata": {
      "needs_background": "light"
     },
     "output_type": "display_data"
    }
   ],
   "source": [
    "plt.figure(figsize = (7, 6))\n",
    "# sns.displot(data = log_var_wts.flatten(), bins = int(np.ceil(np.sqrt(log_var_wts.size))))\n",
    "n, bins, patches = plt.hist(log_var_wts.flatten(), bins = int(np.ceil(np.sqrt(log_var_wts.size))))\n",
    "plt.title(\"log variance randomly initialized - Visualization\")\n",
    "plt.show()"
   ]
  },
  {
   "cell_type": "code",
   "execution_count": 52,
   "id": "578feabd-88d6-4825-9423-7c405a9c38de",
   "metadata": {},
   "outputs": [],
   "source": [
    "del mu_wts, log_var_wts"
   ]
  },
  {
   "cell_type": "code",
   "execution_count": null,
   "id": "b137f5cd-4c93-4538-9ecd-630eaba5a5da",
   "metadata": {},
   "outputs": [],
   "source": []
  },
  {
   "cell_type": "code",
   "execution_count": 54,
   "id": "ba95dc6b-7244-45af-bc8f-d9bc9ff055f6",
   "metadata": {},
   "outputs": [],
   "source": [
    "# Sanity check-\n",
    "images = next(iter(train_loader))\n",
    "images = images.to(device)"
   ]
  },
  {
   "cell_type": "code",
   "execution_count": 55,
   "id": "6ea8fe83-5237-4adc-8cdf-735eb2c4422b",
   "metadata": {},
   "outputs": [
    {
     "data": {
      "text/plain": [
       "torch.Size([256, 784])"
      ]
     },
     "execution_count": 55,
     "metadata": {},
     "output_type": "execute_result"
    }
   ],
   "source": [
    "images.shape"
   ]
  },
  {
   "cell_type": "code",
   "execution_count": 56,
   "id": "2e556c89-162e-42aa-bcf9-06e88ff9605b",
   "metadata": {},
   "outputs": [
    {
     "data": {
      "text/plain": [
       "(tensor(0., device='cuda:0'), tensor(1., device='cuda:0'))"
      ]
     },
     "execution_count": 56,
     "metadata": {},
     "output_type": "execute_result"
    }
   ],
   "source": [
    "images.min(), images.max()"
   ]
  },
  {
   "cell_type": "code",
   "execution_count": 57,
   "id": "069a1a91-252e-4e76-87b6-ca5007f7656e",
   "metadata": {},
   "outputs": [],
   "source": [
    "# Sanity check-\n",
    "recon_images, mu, log_var = model(images)"
   ]
  },
  {
   "cell_type": "code",
   "execution_count": 58,
   "id": "12c16baf-5d48-47fd-8f18-61024e61e179",
   "metadata": {},
   "outputs": [
    {
     "data": {
      "text/plain": [
       "(torch.Size([256, 784]), torch.Size([256, 3]), torch.Size([256, 3]))"
      ]
     },
     "execution_count": 58,
     "metadata": {},
     "output_type": "execute_result"
    }
   ],
   "source": [
    "recon_images.shape, mu.shape, log_var.shape"
   ]
  },
  {
   "cell_type": "code",
   "execution_count": 59,
   "id": "013f9625-8530-44e9-9e0f-30d926bcc715",
   "metadata": {},
   "outputs": [
    {
     "data": {
      "text/plain": [
       "(array(0.37977085, dtype=float32), array(0.5937908, dtype=float32))"
      ]
     },
     "execution_count": 59,
     "metadata": {},
     "output_type": "execute_result"
    }
   ],
   "source": [
    "recon_images.min().detach().cpu().numpy(), recon_images.max().detach().cpu().numpy()"
   ]
  },
  {
   "cell_type": "code",
   "execution_count": 60,
   "id": "64c376b6-fbe3-421c-a202-847eac66e66d",
   "metadata": {},
   "outputs": [],
   "source": [
    "del images, recon_images, mu, log_var"
   ]
  },
  {
   "cell_type": "code",
   "execution_count": null,
   "id": "36b9e27b-f255-4a5e-a52e-95a96a670657",
   "metadata": {},
   "outputs": [],
   "source": []
  },
  {
   "cell_type": "code",
   "execution_count": null,
   "id": "92f42140-3d1b-4d1d-81bc-921d6366dce8",
   "metadata": {},
   "outputs": [],
   "source": []
  },
  {
   "cell_type": "code",
   "execution_count": 40,
   "id": "cf4eeb0d-4591-4e50-bf28-12f7a2402758",
   "metadata": {},
   "outputs": [
    {
     "name": "stdout",
     "output_type": "stream",
     "text": [
      "Adam optimizer with learning rate = 0.001 will be used\n"
     ]
    }
   ],
   "source": [
    "print(f\"Adam optimizer with learning rate = {learning_rate} will be used\")"
   ]
  },
  {
   "cell_type": "code",
   "execution_count": 41,
   "id": "8e74e056-e63e-4260-89e6-99a86fc6fa6a",
   "metadata": {},
   "outputs": [],
   "source": [
    "# Define gradient descent optimizer-\n",
    "optimizer = torch.optim.Adam(model.parameters(), lr = learning_rate)\n",
    "\n",
    "# optimizer = torch.optim.SGD(model.parameters(), lr = 0.01, momentum = 0.9, weight_decay = 5e-4)"
   ]
  },
  {
   "cell_type": "code",
   "execution_count": null,
   "id": "0eeede8b-1f03-49a1-9413-9b65d3587dd0",
   "metadata": {},
   "outputs": [],
   "source": []
  },
  {
   "cell_type": "code",
   "execution_count": null,
   "id": "13955768-396e-4dc2-811f-c769b2a10c4a",
   "metadata": {},
   "outputs": [],
   "source": []
  },
  {
   "cell_type": "code",
   "execution_count": 42,
   "id": "ac73daed-4bfd-445c-9879-6cf06e8a8671",
   "metadata": {},
   "outputs": [],
   "source": [
    "def total_loss(data, data_recon, mu, log_var, alpha = 1):\n",
    "    '''\n",
    "    Function to compute loss = reconstruction loss * reconstruction_term_weight + KL-Divergence loss.\n",
    "    KL-Divergence = 0.5 * sum(1 + log(sigma^2) - mu^2 - sigma^2)\n",
    "    \n",
    "    Inputs:\n",
    "    1. mu: mean from the latent vector\n",
    "    2. logvar: log variance from the latent vector\n",
    "    3. alpha (int): Hyperparameter to control the importance of reconstruction\n",
    "    loss vs KL-Divergence Loss - reconstruction term weight\n",
    "    4. data: training data\n",
    "    5. data_recon: VAE's reconstructed data\n",
    "    '''\n",
    "    \n",
    "    # Compute KL-Divergence loss:\n",
    "    \n",
    "    # Sum over latent dimensions-\n",
    "    kl_div = -0.5 * torch.sum(1 + log_var - mu.pow(2) - torch.exp(log_var), axis = 1)\n",
    "    # kl_div = -0.5 * torch.sum(1 + log_var - (mu **2) - torch.exp(log_var), axis = 1)\n",
    "    \n",
    "    '''\n",
    "    Omitting 'axis' will give bad results as it will sum over everything!\n",
    "    First, sum over the latent dimensions and then average over the batches.\n",
    "    '''\n",
    "    \n",
    "    # kl_div.shape\n",
    "    # torch.Size([64])\n",
    "    \n",
    "    batchsize = kl_div.size(0)\n",
    "\n",
    "    # Compute average KL-divergence over batch size-\n",
    "    kl_div = kl_div.mean()\n",
    "    \n",
    "    \n",
    "    # Compute Reconstruction loss:\n",
    "    \n",
    "    reconstruction_loss_fn = F.mse_loss\n",
    "    recon_loss = reconstruction_loss_fn(data_recon, data, reduction = 'none')\n",
    "    \n",
    "    # recon_loss.shape\n",
    "    # torch.Size([32, 1, 28, 28])\n",
    "    \n",
    "    # Sum over all pixels-\n",
    "    # Reshape recon_loss so that it is the batchsize and a vector. So, instead\n",
    "    # of having a tensor, it is now a matrix (table). Then, sum over the pixels.\n",
    "    # This is equivalent to summing over the latent dimensions for kl_div above.\n",
    "    # We are summing first the squared error over the pixels and then average over\n",
    "    # the batch dimensions below-\n",
    "    recon_loss = recon_loss.view(batchsize, -1).sum(axis = 1)\n",
    "    \n",
    "    # recon_loss.shape\n",
    "    # torch.Size([64, 784])\n",
    "    \n",
    "    # Average over mini-batch dimension-\n",
    "    recon_loss = recon_loss.mean()\n",
    "    \n",
    "    final_loss = (alpha * recon_loss) + kl_div\n",
    "    \n",
    "    return final_loss, recon_loss, kl_div\n"
   ]
  },
  {
   "cell_type": "code",
   "execution_count": null,
   "id": "c1b420dd-c66b-48f4-9441-cc02dd9ee1b2",
   "metadata": {},
   "outputs": [],
   "source": []
  },
  {
   "cell_type": "code",
   "execution_count": null,
   "id": "71c8b904-71e7-4b32-bfde-f4cb9cbc991c",
   "metadata": {},
   "outputs": [],
   "source": [
    "'''\n",
    "# Sanity check-\n",
    "final_loss, recon_loss, kl_div_loss = total_loss(\n",
    "    data = images, data_recon = recon_images,\n",
    "    mu = mu, log_var = log_var,\n",
    "    alpha = 1\n",
    ")\n",
    "'''"
   ]
  },
  {
   "cell_type": "code",
   "execution_count": null,
   "id": "77640ef9-86a4-47fc-a1a8-5e5580b9d44d",
   "metadata": {},
   "outputs": [],
   "source": [
    "'''\n",
    "print(f\"final loss = {final_loss.cpu().detach().numpy():.4f},\"\n",
    "      f\" reconstruction loss = {recon_loss.cpu().detach().numpy():.4f}\"\n",
    "      f\" & kl-div loss = {kl_div_loss.cpu().detach().numpy():.4f}\"\n",
    "     )\n",
    "'''"
   ]
  },
  {
   "cell_type": "code",
   "execution_count": null,
   "id": "cb8451a2-c052-4420-b705-2bf3119293f5",
   "metadata": {},
   "outputs": [],
   "source": []
  },
  {
   "cell_type": "code",
   "execution_count": null,
   "id": "fdf99a9c-7a9f-4edd-b85d-01beb92747b4",
   "metadata": {},
   "outputs": [],
   "source": []
  },
  {
   "cell_type": "code",
   "execution_count": 43,
   "id": "55a47fa4-1eff-41bc-a8ac-bf6130140baa",
   "metadata": {},
   "outputs": [],
   "source": [
    "def train_one_epoch(model, dataloader, alpha):\n",
    "    \n",
    "    # Place model to device-\n",
    "    model.to(device)\n",
    "    \n",
    "    # Enable training mode-\n",
    "    model.train()\n",
    "    \n",
    "    # Initialize variables to keep track of 3 losses-\n",
    "    running_final_loss = 0.0\n",
    "    running_recon_loss = 0.0\n",
    "    running_kl_loss = 0.0\n",
    "    \n",
    "    \n",
    "    for i, data in tqdm(\n",
    "        enumerate(dataloader),\n",
    "        # total = int(len(train_dataset) / dataloader.batch_size)\n",
    "        total = int(len(train) / dataloader.batch_size)\n",
    "        ):\n",
    "      \n",
    "        # Ignore labels-\n",
    "        # data, _ = data\n",
    "\n",
    "        # Push data points to 'device'-\n",
    "        data = data.to(device)\n",
    "        \n",
    "        # Flatten input data to feed into a dense layer-\n",
    "        # data = data.view(data.size(0), -1)\n",
    "        \n",
    "        # Empty accumulated gradients-\n",
    "        optimizer.zero_grad()\n",
    "        \n",
    "        # Perform forward propagation-\n",
    "        recon_data, mu, logvar = model(data)\n",
    "        \n",
    "        final_loss, recon_loss, kl_div_loss = total_loss(\n",
    "            data = data, data_recon = recon_data,\n",
    "            mu = mu, log_var = logvar,\n",
    "            alpha = alpha\n",
    "        )\n",
    "        \n",
    "        # Update losses-\n",
    "        running_final_loss += final_loss.item()\n",
    "        running_kl_loss += kl_div_loss.cpu().detach().numpy()\n",
    "        running_recon_loss += recon_loss.cpu().detach().numpy()\n",
    "        \n",
    "        # Compute gradients wrt total loss-\n",
    "        final_loss.backward()\n",
    "        \n",
    "        # Perform gradient descent-\n",
    "        optimizer.step()\n",
    "    \n",
    "    # Compute losses as float values-\n",
    "    train_loss = running_final_loss / len(dataloader.dataset)\n",
    "    kl_loss = running_kl_loss / len(dataloader.dataset)\n",
    "    recon_loss = running_recon_loss / len(dataloader.dataset)\n",
    "    \n",
    "    return train_loss, kl_loss, recon_loss\n"
   ]
  },
  {
   "cell_type": "code",
   "execution_count": null,
   "id": "9f30417d-7cfd-43d5-a10d-8e9319ef59a1",
   "metadata": {},
   "outputs": [],
   "source": []
  },
  {
   "cell_type": "code",
   "execution_count": 44,
   "id": "df50563a-0221-4820-b5f3-15da1935b2fa",
   "metadata": {},
   "outputs": [],
   "source": [
    "def validate_one_epoch(model, dataloader, alpha):\n",
    "    \n",
    "    # Place model to device-\n",
    "    model.to(device)\n",
    "    \n",
    "    # Enable evaluation mode-\n",
    "    model.eval()\n",
    "    \n",
    "    running_final_loss = 0.0\n",
    "    running_recon_loss = 0.0\n",
    "    running_kl_loss = 0.0\n",
    "    \n",
    "    with torch.no_grad():\n",
    "        for i, data in tqdm(\n",
    "            enumerate(dataloader),\n",
    "            # total = int(len(test_dataset) / dataloader.batch_size)):\n",
    "            total = int(len(test) / test_loader.batch_size)):\n",
    "          \n",
    "            # Ignore labels-\n",
    "            # data, _ = data\n",
    "\n",
    "            # Push data points to 'device'-\n",
    "            data = data.to(device)\n",
    "            \n",
    "            # Flatten data to feed into a dense layer-\n",
    "            # data = data.view(data.size(0), -1)\n",
    "            \n",
    "            # Forward propagation-\n",
    "            recon_data, mu, logvar = model(data)\n",
    "            \n",
    "            final_loss, recon_loss, kl_div_loss = total_loss(\n",
    "                data = data, data_recon = recon_data,\n",
    "                mu = mu, log_var = logvar,\n",
    "                alpha = alpha\n",
    "            )\n",
    "        \n",
    "            # Update losses-\n",
    "            running_final_loss += final_loss.item()\n",
    "            running_kl_loss += kl_div_loss.cpu().detach().numpy()\n",
    "            running_recon_loss += recon_loss.cpu().detach().numpy()\n",
    "            \n",
    "                \n",
    "    val_loss = running_final_loss / len(dataloader.dataset)\n",
    "    val_kl_loss = running_kl_loss / len(dataloader.dataset)\n",
    "    val_recon_loss = running_recon_loss / len(dataloader.dataset)\n",
    "    \n",
    "    return val_loss, val_kl_loss, val_recon_loss\n",
    "\n",
    "    "
   ]
  },
  {
   "cell_type": "code",
   "execution_count": null,
   "id": "e1296d86-0b78-443e-b3bc-9f4277a572f2",
   "metadata": {},
   "outputs": [],
   "source": []
  },
  {
   "cell_type": "code",
   "execution_count": null,
   "id": "c9bbca5a-2858-4d7d-af58-0889a92a8942",
   "metadata": {},
   "outputs": [],
   "source": [
    "'''\n",
    "# Sanity check-\n",
    "train_loss, kl_train_loss, recon_train_loss = train_one_epoch(\n",
    "    model = model, dataloader = train_loader,\n",
    "    alpha = 1\n",
    ")\n",
    "'''"
   ]
  },
  {
   "cell_type": "code",
   "execution_count": null,
   "id": "53f5a60e-5553-4d7c-9948-e7b326f4edb6",
   "metadata": {},
   "outputs": [],
   "source": [
    "'''\n",
    "val_loss, val_kl_loss, val_recon_loss = validate_one_epoch(\n",
    "    model = model, dataloader = test_loader,\n",
    "    alpha = 1\n",
    ")\n",
    "'''"
   ]
  },
  {
   "cell_type": "code",
   "execution_count": null,
   "id": "e6fd568f-cc24-4e40-8c42-9b2841d83182",
   "metadata": {},
   "outputs": [],
   "source": [
    "'''\n",
    "print(f\"After one epoch: train loss = {train_loss:.4f}, recon loss = {recon_train_loss:.4f}\"\n",
    "      f\" & kl-div loss = {kl_train_loss:.4f}\"\n",
    "     )\n",
    "'''"
   ]
  },
  {
   "cell_type": "code",
   "execution_count": null,
   "id": "4873ff07-effb-402a-a731-0ec3af9f62cf",
   "metadata": {},
   "outputs": [],
   "source": [
    "'''\n",
    "print(f\"After one epoch: val train loss = {val_loss:.4f}, val recon loss = {val_recon_loss:.4f}\"\n",
    "      f\" & val kl-div loss = {val_kl_loss:.4f}\"\n",
    "     )\n",
    "'''"
   ]
  },
  {
   "cell_type": "code",
   "execution_count": null,
   "id": "2a21a697-feda-4eea-bd8c-875442ca5322",
   "metadata": {},
   "outputs": [],
   "source": []
  },
  {
   "cell_type": "code",
   "execution_count": null,
   "id": "54648c05-3d69-4e5e-8770-196e966574f8",
   "metadata": {},
   "outputs": [],
   "source": []
  },
  {
   "cell_type": "markdown",
   "id": "ed088246-0263-4d4b-815d-78900045110c",
   "metadata": {},
   "source": [
    "### Train VAE model "
   ]
  },
  {
   "cell_type": "code",
   "execution_count": 76,
   "id": "52afd351-f408-471d-b7cd-37af0630ed0f",
   "metadata": {},
   "outputs": [],
   "source": [
    "# Initialize a VAE objetc-\n",
    "model = VAE_Dense(latent_space = 3).to(device)"
   ]
  },
  {
   "cell_type": "code",
   "execution_count": 77,
   "id": "5a903f9a-5478-4ea3-8a8e-498d1726b3d3",
   "metadata": {},
   "outputs": [],
   "source": [
    "# Save trained VAE model's weights-\n",
    "torch.save(model.state_dict(), 'VAE_LeNet300_MNIST_Random_Weights.pth')"
   ]
  },
  {
   "cell_type": "code",
   "execution_count": null,
   "id": "2c72bd30-aa1f-4bd3-9750-880062140396",
   "metadata": {},
   "outputs": [],
   "source": [
    "# Load trained weights from before-\n",
    "# loaded_model = VAE_Dense(latent_space = 3).to(device)\n",
    "# loaded_model.load_state_dict(torch.load(VAE_LeNet300_MNIST_Random_Weights.pth', map_location = torch.device('cpu')))"
   ]
  },
  {
   "cell_type": "code",
   "execution_count": null,
   "id": "61c36626-0046-4758-a3de-74237619ad66",
   "metadata": {},
   "outputs": [],
   "source": []
  },
  {
   "cell_type": "code",
   "execution_count": 45,
   "id": "211f1230-dc78-4fb2-8d7d-a4638d45ac9b",
   "metadata": {},
   "outputs": [],
   "source": [
    "# Specify alpha - Hyperparameter to control the importance of reconstruction\n",
    "# loss vs KL-Divergence Loss-\n",
    "alpha = 1"
   ]
  },
  {
   "cell_type": "code",
   "execution_count": null,
   "id": "08cc7665-8649-4bdf-b960-2aff762e5440",
   "metadata": {},
   "outputs": [],
   "source": []
  },
  {
   "cell_type": "code",
   "execution_count": 46,
   "id": "7590d624-d225-41f0-bf7b-d331077ce12a",
   "metadata": {},
   "outputs": [],
   "source": [
    "# Python dict to contain training metrics-\n",
    "train_history = {}"
   ]
  },
  {
   "cell_type": "code",
   "execution_count": null,
   "id": "7209bcf3-db27-4942-a5b9-00663432a784",
   "metadata": {},
   "outputs": [],
   "source": []
  },
  {
   "cell_type": "code",
   "execution_count": 47,
   "id": "82769bb9-af9c-4c44-bb0d-74348e529f80",
   "metadata": {},
   "outputs": [
    {
     "name": "stdout",
     "output_type": "stream",
     "text": [
      "Training VAE model for 80 epochs\n"
     ]
    }
   ],
   "source": [
    "print(f\"Training VAE model for {num_epochs} epochs\")"
   ]
  },
  {
   "cell_type": "code",
   "execution_count": null,
   "id": "ba060fbd-f507-4d6c-8112-744b7e7e5f0f",
   "metadata": {},
   "outputs": [],
   "source": []
  },
  {
   "cell_type": "code",
   "execution_count": 48,
   "id": "b18c02b8-638b-4378-8ee2-fae264a56056",
   "metadata": {},
   "outputs": [],
   "source": [
    "# Initialize parameter for saving 'best' parameters-\n",
    "best_val_loss = 10000"
   ]
  },
  {
   "cell_type": "code",
   "execution_count": null,
   "id": "aae4639f-9c8f-43d2-a211-9a2a574800eb",
   "metadata": {},
   "outputs": [],
   "source": []
  },
  {
   "cell_type": "code",
   "execution_count": null,
   "id": "2a7dbfa1-beb2-4dd1-bc75-3011aaea6a4c",
   "metadata": {},
   "outputs": [],
   "source": []
  },
  {
   "cell_type": "code",
   "execution_count": 49,
   "id": "43d999c0-420f-419c-ab92-851ac952769c",
   "metadata": {},
   "outputs": [
    {
     "name": "stderr",
     "output_type": "stream",
     "text": [
      "235it [00:03, 74.80it/s]                                                                                               \n",
      "40it [00:00, 571.30it/s]                                                                                               \n"
     ]
    },
    {
     "name": "stdout",
     "output_type": "stream",
     "text": [
      "Epoch = 1; train loss = 0.2245 , kl-loss = 0.0048, recon loss = 0.2197 , val loss = 0.1991, val kl-loss = 0.0053  & val recon loss = 0.1938\n",
      "Saving model with lowest val_loss = 0.1991\n",
      "\n"
     ]
    },
    {
     "name": "stderr",
     "output_type": "stream",
     "text": [
      "235it [00:01, 218.35it/s]                                                                                              \n",
      "40it [00:00, 588.11it/s]                                                                                               \n"
     ]
    },
    {
     "name": "stdout",
     "output_type": "stream",
     "text": [
      "Epoch = 2; train loss = 0.1918 , kl-loss = 0.0061, recon loss = 0.1857 , val loss = 0.1943, val kl-loss = 0.0065  & val recon loss = 0.1878\n",
      "Saving model with lowest val_loss = 0.1943\n",
      "\n"
     ]
    },
    {
     "name": "stderr",
     "output_type": "stream",
     "text": [
      "235it [00:01, 219.06it/s]                                                                                              \n",
      "40it [00:00, 506.21it/s]                                                                                               \n"
     ]
    },
    {
     "name": "stdout",
     "output_type": "stream",
     "text": [
      "Epoch = 3; train loss = 0.1861 , kl-loss = 0.0083, recon loss = 0.1778 , val loss = 0.1871, val kl-loss = 0.0100  & val recon loss = 0.1771\n",
      "Saving model with lowest val_loss = 0.1871\n",
      "\n"
     ]
    },
    {
     "name": "stderr",
     "output_type": "stream",
     "text": [
      "235it [00:01, 218.96it/s]                                                                                              \n",
      "40it [00:00, 588.10it/s]                                                                                               \n"
     ]
    },
    {
     "name": "stdout",
     "output_type": "stream",
     "text": [
      "Epoch = 4; train loss = 0.1805 , kl-loss = 0.0106, recon loss = 0.1700 , val loss = 0.1828, val kl-loss = 0.0117  & val recon loss = 0.1711\n",
      "Saving model with lowest val_loss = 0.1828\n",
      "\n"
     ]
    },
    {
     "name": "stderr",
     "output_type": "stream",
     "text": [
      "235it [00:01, 209.82it/s]                                                                                              \n",
      "40it [00:00, 540.42it/s]                                                                                               \n"
     ]
    },
    {
     "name": "stdout",
     "output_type": "stream",
     "text": [
      "Epoch = 5; train loss = 0.1747 , kl-loss = 0.0118, recon loss = 0.1630 , val loss = 0.1759, val kl-loss = 0.0123  & val recon loss = 0.1636\n",
      "Saving model with lowest val_loss = 0.1759\n",
      "\n"
     ]
    },
    {
     "name": "stderr",
     "output_type": "stream",
     "text": [
      "235it [00:01, 218.35it/s]                                                                                              \n",
      "40it [00:00, 588.10it/s]                                                                                               \n"
     ]
    },
    {
     "name": "stdout",
     "output_type": "stream",
     "text": [
      "Epoch = 6; train loss = 0.1706 , kl-loss = 0.0125, recon loss = 0.1581 , val loss = 0.1729, val kl-loss = 0.0133  & val recon loss = 0.1595\n",
      "Saving model with lowest val_loss = 0.1729\n",
      "\n"
     ]
    },
    {
     "name": "stderr",
     "output_type": "stream",
     "text": [
      "235it [00:01, 221.23it/s]                                                                                              \n",
      "40it [00:00, 596.88it/s]                                                                                               \n"
     ]
    },
    {
     "name": "stdout",
     "output_type": "stream",
     "text": [
      "Epoch = 7; train loss = 0.1672 , kl-loss = 0.0138, recon loss = 0.1534 , val loss = 0.1694, val kl-loss = 0.0151  & val recon loss = 0.1543\n",
      "Saving model with lowest val_loss = 0.1694\n",
      "\n"
     ]
    },
    {
     "name": "stderr",
     "output_type": "stream",
     "text": [
      "235it [00:01, 218.35it/s]                                                                                              \n",
      "40it [00:00, 555.42it/s]                                                                                               \n"
     ]
    },
    {
     "name": "stdout",
     "output_type": "stream",
     "text": [
      "Epoch = 8; train loss = 0.1640 , kl-loss = 0.0150, recon loss = 0.1489 , val loss = 0.1664, val kl-loss = 0.0159  & val recon loss = 0.1505\n",
      "Saving model with lowest val_loss = 0.1664\n",
      "\n"
     ]
    },
    {
     "name": "stderr",
     "output_type": "stream",
     "text": [
      "235it [00:01, 221.88it/s]                                                                                              \n",
      "40it [00:00, 588.10it/s]                                                                                               \n"
     ]
    },
    {
     "name": "stdout",
     "output_type": "stream",
     "text": [
      "Epoch = 9; train loss = 0.1610 , kl-loss = 0.0160, recon loss = 0.1451 , val loss = 0.1628, val kl-loss = 0.0169  & val recon loss = 0.1459\n",
      "Saving model with lowest val_loss = 0.1628\n",
      "\n"
     ]
    },
    {
     "name": "stderr",
     "output_type": "stream",
     "text": [
      "235it [00:01, 219.02it/s]                                                                                              \n",
      "40it [00:00, 645.02it/s]                                                                                               \n"
     ]
    },
    {
     "name": "stdout",
     "output_type": "stream",
     "text": [
      "Epoch = 10; train loss = 0.1585 , kl-loss = 0.0168, recon loss = 0.1417 , val loss = 0.1599, val kl-loss = 0.0178  & val recon loss = 0.1422\n",
      "Saving model with lowest val_loss = 0.1599\n",
      "\n"
     ]
    },
    {
     "name": "stderr",
     "output_type": "stream",
     "text": [
      "235it [00:01, 219.88it/s]                                                                                              \n",
      "40it [00:00, 571.30it/s]                                                                                               \n"
     ]
    },
    {
     "name": "stdout",
     "output_type": "stream",
     "text": [
      "Epoch = 11; train loss = 0.1559 , kl-loss = 0.0177, recon loss = 0.1383 , val loss = 0.1578, val kl-loss = 0.0184  & val recon loss = 0.1394\n",
      "Saving model with lowest val_loss = 0.1578\n",
      "\n"
     ]
    },
    {
     "name": "stderr",
     "output_type": "stream",
     "text": [
      "235it [00:01, 215.75it/s]                                                                                              \n",
      "40it [00:00, 555.43it/s]                                                                                               \n"
     ]
    },
    {
     "name": "stdout",
     "output_type": "stream",
     "text": [
      "Epoch = 12; train loss = 0.1541 , kl-loss = 0.0181, recon loss = 0.1360 , val loss = 0.1570, val kl-loss = 0.0188  & val recon loss = 0.1382\n",
      "Saving model with lowest val_loss = 0.1570\n",
      "\n"
     ]
    },
    {
     "name": "stderr",
     "output_type": "stream",
     "text": [
      "235it [00:01, 218.35it/s]                                                                                              \n",
      "40it [00:00, 596.88it/s]                                                                                               \n"
     ]
    },
    {
     "name": "stdout",
     "output_type": "stream",
     "text": [
      "Epoch = 13; train loss = 0.1526 , kl-loss = 0.0185, recon loss = 0.1340 , val loss = 0.1551, val kl-loss = 0.0192  & val recon loss = 0.1359\n",
      "Saving model with lowest val_loss = 0.1551\n",
      "\n"
     ]
    },
    {
     "name": "stderr",
     "output_type": "stream",
     "text": [
      "235it [00:01, 218.55it/s]                                                                                              \n",
      "40it [00:00, 571.30it/s]                                                                                               \n"
     ]
    },
    {
     "name": "stdout",
     "output_type": "stream",
     "text": [
      "Epoch = 14; train loss = 0.1511 , kl-loss = 0.0188, recon loss = 0.1323 , val loss = 0.1538, val kl-loss = 0.0189  & val recon loss = 0.1350\n",
      "Saving model with lowest val_loss = 0.1538\n",
      "\n"
     ]
    },
    {
     "name": "stderr",
     "output_type": "stream",
     "text": [
      "235it [00:01, 219.79it/s]                                                                                              \n",
      "40it [00:00, 596.88it/s]                                                                                               \n"
     ]
    },
    {
     "name": "stdout",
     "output_type": "stream",
     "text": [
      "Epoch = 15; train loss = 0.1496 , kl-loss = 0.0192, recon loss = 0.1305 , val loss = 0.1519, val kl-loss = 0.0196  & val recon loss = 0.1323\n",
      "Saving model with lowest val_loss = 0.1519\n",
      "\n"
     ]
    },
    {
     "name": "stderr",
     "output_type": "stream",
     "text": [
      "235it [00:01, 218.30it/s]                                                                                              \n",
      "40it [00:00, 596.88it/s]                                                                                               \n"
     ]
    },
    {
     "name": "stdout",
     "output_type": "stream",
     "text": [
      "Epoch = 16; train loss = 0.1484 , kl-loss = 0.0194, recon loss = 0.1290 , val loss = 0.1514, val kl-loss = 0.0201  & val recon loss = 0.1313\n",
      "Saving model with lowest val_loss = 0.1514\n",
      "\n"
     ]
    },
    {
     "name": "stderr",
     "output_type": "stream",
     "text": [
      "235it [00:01, 221.17it/s]                                                                                              \n",
      "40it [00:00, 547.82it/s]                                                                                               \n"
     ]
    },
    {
     "name": "stdout",
     "output_type": "stream",
     "text": [
      "Epoch = 17; train loss = 0.1473 , kl-loss = 0.0196, recon loss = 0.1276 , val loss = 0.1505, val kl-loss = 0.0199  & val recon loss = 0.1306\n",
      "Saving model with lowest val_loss = 0.1505\n",
      "\n"
     ]
    },
    {
     "name": "stderr",
     "output_type": "stream",
     "text": [
      "235it [00:01, 220.40it/s]                                                                                              \n",
      "40it [00:00, 540.42it/s]                                                                                               \n"
     ]
    },
    {
     "name": "stdout",
     "output_type": "stream",
     "text": [
      "Epoch = 18; train loss = 0.1462 , kl-loss = 0.0198, recon loss = 0.1265 , val loss = 0.1493, val kl-loss = 0.0200  & val recon loss = 0.1293\n",
      "Saving model with lowest val_loss = 0.1493\n",
      "\n"
     ]
    },
    {
     "name": "stderr",
     "output_type": "stream",
     "text": [
      "235it [00:01, 218.35it/s]                                                                                              \n",
      "40it [00:00, 571.30it/s]                                                                                               \n"
     ]
    },
    {
     "name": "stdout",
     "output_type": "stream",
     "text": [
      "Epoch = 19; train loss = 0.1452 , kl-loss = 0.0199, recon loss = 0.1254 , val loss = 0.1486, val kl-loss = 0.0203  & val recon loss = 0.1283\n",
      "Saving model with lowest val_loss = 0.1486\n",
      "\n"
     ]
    },
    {
     "name": "stderr",
     "output_type": "stream",
     "text": [
      "235it [00:01, 219.37it/s]                                                                                              \n",
      "40it [00:00, 596.88it/s]                                                                                               \n"
     ]
    },
    {
     "name": "stdout",
     "output_type": "stream",
     "text": [
      "Epoch = 20; train loss = 0.1445 , kl-loss = 0.0200, recon loss = 0.1245 , val loss = 0.1479, val kl-loss = 0.0205  & val recon loss = 0.1273\n",
      "Saving model with lowest val_loss = 0.1479\n",
      "\n"
     ]
    },
    {
     "name": "stderr",
     "output_type": "stream",
     "text": [
      "235it [00:01, 217.34it/s]                                                                                              \n",
      "40it [00:00, 624.86it/s]                                                                                               \n"
     ]
    },
    {
     "name": "stdout",
     "output_type": "stream",
     "text": [
      "Epoch = 21; train loss = 0.1437 , kl-loss = 0.0200, recon loss = 0.1237 , val loss = 0.1478, val kl-loss = 0.0208  & val recon loss = 0.1270\n",
      "Saving model with lowest val_loss = 0.1478\n",
      "\n"
     ]
    },
    {
     "name": "stderr",
     "output_type": "stream",
     "text": [
      "235it [00:01, 218.76it/s]                                                                                              \n",
      "40it [00:00, 588.10it/s]                                                                                               \n"
     ]
    },
    {
     "name": "stdout",
     "output_type": "stream",
     "text": [
      "Epoch = 22; train loss = 0.1432 , kl-loss = 0.0201, recon loss = 0.1231 , val loss = 0.1472, val kl-loss = 0.0206  & val recon loss = 0.1266\n",
      "Saving model with lowest val_loss = 0.1472\n",
      "\n"
     ]
    },
    {
     "name": "stderr",
     "output_type": "stream",
     "text": [
      "235it [00:01, 206.82it/s]                                                                                              \n",
      "40it [00:00, 624.86it/s]                                                                                               \n"
     ]
    },
    {
     "name": "stdout",
     "output_type": "stream",
     "text": [
      "Epoch = 23; train loss = 0.1426 , kl-loss = 0.0202, recon loss = 0.1224 , val loss = 0.1464, val kl-loss = 0.0206  & val recon loss = 0.1258\n",
      "Saving model with lowest val_loss = 0.1464\n",
      "\n"
     ]
    },
    {
     "name": "stderr",
     "output_type": "stream",
     "text": [
      "235it [00:01, 220.40it/s]                                                                                              \n",
      "40it [00:00, 615.24it/s]                                                                                               \n"
     ]
    },
    {
     "name": "stdout",
     "output_type": "stream",
     "text": [
      "Epoch = 24; train loss = 0.1422 , kl-loss = 0.0204, recon loss = 0.1218 , val loss = 0.1466, val kl-loss = 0.0204  & val recon loss = 0.1262\n"
     ]
    },
    {
     "name": "stderr",
     "output_type": "stream",
     "text": [
      "235it [00:01, 213.98it/s]                                                                                              \n",
      "40it [00:00, 563.25it/s]                                                                                               \n"
     ]
    },
    {
     "name": "stdout",
     "output_type": "stream",
     "text": [
      "Epoch = 25; train loss = 0.1414 , kl-loss = 0.0204, recon loss = 0.1210 , val loss = 0.1454, val kl-loss = 0.0209  & val recon loss = 0.1244\n",
      "Saving model with lowest val_loss = 0.1454\n",
      "\n"
     ]
    },
    {
     "name": "stderr",
     "output_type": "stream",
     "text": [
      "235it [00:01, 223.76it/s]                                                                                              \n",
      "40it [00:00, 605.93it/s]                                                                                               \n"
     ]
    },
    {
     "name": "stdout",
     "output_type": "stream",
     "text": [
      "Epoch = 26; train loss = 0.1410 , kl-loss = 0.0205, recon loss = 0.1205 , val loss = 0.1446, val kl-loss = 0.0208  & val recon loss = 0.1238\n",
      "Saving model with lowest val_loss = 0.1446\n",
      "\n"
     ]
    },
    {
     "name": "stderr",
     "output_type": "stream",
     "text": [
      "235it [00:01, 222.91it/s]                                                                                              \n",
      "40it [00:00, 624.86it/s]                                                                                               \n"
     ]
    },
    {
     "name": "stdout",
     "output_type": "stream",
     "text": [
      "Epoch = 27; train loss = 0.1407 , kl-loss = 0.0207, recon loss = 0.1200 , val loss = 0.1442, val kl-loss = 0.0212  & val recon loss = 0.1230\n",
      "Saving model with lowest val_loss = 0.1442\n",
      "\n"
     ]
    },
    {
     "name": "stderr",
     "output_type": "stream",
     "text": [
      "235it [00:01, 224.19it/s]                                                                                              \n",
      "40it [00:00, 634.78it/s]                                                                                               \n"
     ]
    },
    {
     "name": "stdout",
     "output_type": "stream",
     "text": [
      "Epoch = 28; train loss = 0.1402 , kl-loss = 0.0208, recon loss = 0.1195 , val loss = 0.1450, val kl-loss = 0.0209  & val recon loss = 0.1241\n"
     ]
    },
    {
     "name": "stderr",
     "output_type": "stream",
     "text": [
      "235it [00:01, 222.28it/s]                                                                                              \n",
      "40it [00:00, 634.77it/s]                                                                                               \n"
     ]
    },
    {
     "name": "stdout",
     "output_type": "stream",
     "text": [
      "Epoch = 29; train loss = 0.1397 , kl-loss = 0.0209, recon loss = 0.1189 , val loss = 0.1436, val kl-loss = 0.0210  & val recon loss = 0.1225\n",
      "Saving model with lowest val_loss = 0.1436\n",
      "\n"
     ]
    },
    {
     "name": "stderr",
     "output_type": "stream",
     "text": [
      "235it [00:01, 221.23it/s]                                                                                              \n",
      "40it [00:00, 555.43it/s]                                                                                               \n"
     ]
    },
    {
     "name": "stdout",
     "output_type": "stream",
     "text": [
      "Epoch = 30; train loss = 0.1394 , kl-loss = 0.0210, recon loss = 0.1185 , val loss = 0.1438, val kl-loss = 0.0216  & val recon loss = 0.1222\n"
     ]
    },
    {
     "name": "stderr",
     "output_type": "stream",
     "text": [
      "235it [00:01, 222.70it/s]                                                                                              \n",
      "40it [00:00, 605.93it/s]                                                                                               \n"
     ]
    },
    {
     "name": "stdout",
     "output_type": "stream",
     "text": [
      "Epoch = 31; train loss = 0.1389 , kl-loss = 0.0211, recon loss = 0.1178 , val loss = 0.1433, val kl-loss = 0.0213  & val recon loss = 0.1220\n",
      "Saving model with lowest val_loss = 0.1433\n",
      "\n"
     ]
    },
    {
     "name": "stderr",
     "output_type": "stream",
     "text": [
      "235it [00:01, 221.23it/s]                                                                                              \n",
      "40it [00:00, 645.01it/s]                                                                                               \n"
     ]
    },
    {
     "name": "stdout",
     "output_type": "stream",
     "text": [
      "Epoch = 32; train loss = 0.1386 , kl-loss = 0.0212, recon loss = 0.1174 , val loss = 0.1439, val kl-loss = 0.0215  & val recon loss = 0.1225\n"
     ]
    },
    {
     "name": "stderr",
     "output_type": "stream",
     "text": [
      "235it [00:01, 222.91it/s]                                                                                              \n",
      "40it [00:00, 563.26it/s]                                                                                               \n"
     ]
    },
    {
     "name": "stdout",
     "output_type": "stream",
     "text": [
      "Epoch = 33; train loss = 0.1383 , kl-loss = 0.0213, recon loss = 0.1170 , val loss = 0.1425, val kl-loss = 0.0215  & val recon loss = 0.1210\n",
      "Saving model with lowest val_loss = 0.1425\n",
      "\n"
     ]
    },
    {
     "name": "stderr",
     "output_type": "stream",
     "text": [
      "235it [00:01, 222.70it/s]                                                                                              \n",
      "40it [00:00, 645.02it/s]                                                                                               \n"
     ]
    },
    {
     "name": "stdout",
     "output_type": "stream",
     "text": [
      "Epoch = 34; train loss = 0.1378 , kl-loss = 0.0214, recon loss = 0.1164 , val loss = 0.1427, val kl-loss = 0.0218  & val recon loss = 0.1209\n"
     ]
    },
    {
     "name": "stderr",
     "output_type": "stream",
     "text": [
      "235it [00:01, 221.65it/s]                                                                                              \n",
      "40it [00:00, 605.93it/s]                                                                                               \n"
     ]
    },
    {
     "name": "stdout",
     "output_type": "stream",
     "text": [
      "Epoch = 35; train loss = 0.1374 , kl-loss = 0.0215, recon loss = 0.1160 , val loss = 0.1420, val kl-loss = 0.0220  & val recon loss = 0.1200\n",
      "Saving model with lowest val_loss = 0.1420\n",
      "\n"
     ]
    },
    {
     "name": "stderr",
     "output_type": "stream",
     "text": [
      "235it [00:01, 222.70it/s]                                                                                              \n",
      "40it [00:00, 579.58it/s]                                                                                               \n"
     ]
    },
    {
     "name": "stdout",
     "output_type": "stream",
     "text": [
      "Epoch = 36; train loss = 0.1371 , kl-loss = 0.0216, recon loss = 0.1156 , val loss = 0.1422, val kl-loss = 0.0216  & val recon loss = 0.1206\n"
     ]
    },
    {
     "name": "stderr",
     "output_type": "stream",
     "text": [
      "235it [00:01, 222.70it/s]                                                                                              \n",
      "40it [00:00, 615.24it/s]                                                                                               \n"
     ]
    },
    {
     "name": "stdout",
     "output_type": "stream",
     "text": [
      "Epoch = 37; train loss = 0.1369 , kl-loss = 0.0216, recon loss = 0.1153 , val loss = 0.1416, val kl-loss = 0.0222  & val recon loss = 0.1194\n",
      "Saving model with lowest val_loss = 0.1416\n",
      "\n"
     ]
    },
    {
     "name": "stderr",
     "output_type": "stream",
     "text": [
      "235it [00:01, 222.49it/s]                                                                                              \n",
      "40it [00:00, 588.11it/s]                                                                                               \n"
     ]
    },
    {
     "name": "stdout",
     "output_type": "stream",
     "text": [
      "Epoch = 38; train loss = 0.1368 , kl-loss = 0.0217, recon loss = 0.1151 , val loss = 0.1421, val kl-loss = 0.0221  & val recon loss = 0.1199\n"
     ]
    },
    {
     "name": "stderr",
     "output_type": "stream",
     "text": [
      "235it [00:01, 222.91it/s]                                                                                              \n",
      "40it [00:00, 579.58it/s]                                                                                               \n"
     ]
    },
    {
     "name": "stdout",
     "output_type": "stream",
     "text": [
      "Epoch = 39; train loss = 0.1364 , kl-loss = 0.0218, recon loss = 0.1146 , val loss = 0.1417, val kl-loss = 0.0222  & val recon loss = 0.1195\n"
     ]
    },
    {
     "name": "stderr",
     "output_type": "stream",
     "text": [
      "235it [00:01, 221.86it/s]                                                                                              \n",
      "40it [00:00, 615.24it/s]                                                                                               \n"
     ]
    },
    {
     "name": "stdout",
     "output_type": "stream",
     "text": [
      "Epoch = 40; train loss = 0.1361 , kl-loss = 0.0218, recon loss = 0.1143 , val loss = 0.1413, val kl-loss = 0.0219  & val recon loss = 0.1194\n",
      "Saving model with lowest val_loss = 0.1413\n",
      "\n"
     ]
    },
    {
     "name": "stderr",
     "output_type": "stream",
     "text": [
      "235it [00:01, 221.23it/s]                                                                                              \n",
      "40it [00:00, 605.93it/s]                                                                                               \n"
     ]
    },
    {
     "name": "stdout",
     "output_type": "stream",
     "text": [
      "Epoch = 41; train loss = 0.1358 , kl-loss = 0.0219, recon loss = 0.1139 , val loss = 0.1412, val kl-loss = 0.0224  & val recon loss = 0.1188\n",
      "Saving model with lowest val_loss = 0.1412\n",
      "\n"
     ]
    },
    {
     "name": "stderr",
     "output_type": "stream",
     "text": [
      "235it [00:01, 221.86it/s]                                                                                              \n",
      "40it [00:00, 634.78it/s]                                                                                               \n"
     ]
    },
    {
     "name": "stdout",
     "output_type": "stream",
     "text": [
      "Epoch = 42; train loss = 0.1355 , kl-loss = 0.0219, recon loss = 0.1136 , val loss = 0.1411, val kl-loss = 0.0221  & val recon loss = 0.1190\n",
      "Saving model with lowest val_loss = 0.1411\n",
      "\n"
     ]
    },
    {
     "name": "stderr",
     "output_type": "stream",
     "text": [
      "235it [00:01, 222.28it/s]                                                                                              \n",
      "40it [00:00, 579.58it/s]                                                                                               \n"
     ]
    },
    {
     "name": "stdout",
     "output_type": "stream",
     "text": [
      "Epoch = 43; train loss = 0.1355 , kl-loss = 0.0220, recon loss = 0.1135 , val loss = 0.1401, val kl-loss = 0.0223  & val recon loss = 0.1178\n",
      "Saving model with lowest val_loss = 0.1401\n",
      "\n"
     ]
    },
    {
     "name": "stderr",
     "output_type": "stream",
     "text": [
      "235it [00:01, 222.49it/s]                                                                                              \n",
      "40it [00:00, 571.30it/s]                                                                                               \n"
     ]
    },
    {
     "name": "stdout",
     "output_type": "stream",
     "text": [
      "Epoch = 44; train loss = 0.1354 , kl-loss = 0.0221, recon loss = 0.1133 , val loss = 0.1412, val kl-loss = 0.0224  & val recon loss = 0.1187\n"
     ]
    },
    {
     "name": "stderr",
     "output_type": "stream",
     "text": [
      "235it [00:01, 221.23it/s]                                                                                              \n",
      "40it [00:00, 588.11it/s]                                                                                               \n"
     ]
    },
    {
     "name": "stdout",
     "output_type": "stream",
     "text": [
      "Epoch = 45; train loss = 0.1352 , kl-loss = 0.0221, recon loss = 0.1130 , val loss = 0.1399, val kl-loss = 0.0224  & val recon loss = 0.1175\n",
      "Saving model with lowest val_loss = 0.1399\n",
      "\n"
     ]
    },
    {
     "name": "stderr",
     "output_type": "stream",
     "text": [
      "235it [00:01, 222.70it/s]                                                                                              \n",
      "40it [00:00, 624.85it/s]                                                                                               \n"
     ]
    },
    {
     "name": "stdout",
     "output_type": "stream",
     "text": [
      "Epoch = 46; train loss = 0.1350 , kl-loss = 0.0222, recon loss = 0.1128 , val loss = 0.1400, val kl-loss = 0.0225  & val recon loss = 0.1175\n"
     ]
    },
    {
     "name": "stderr",
     "output_type": "stream",
     "text": [
      "235it [00:01, 221.44it/s]                                                                                              \n",
      "40it [00:00, 596.88it/s]                                                                                               \n"
     ]
    },
    {
     "name": "stdout",
     "output_type": "stream",
     "text": [
      "Epoch = 47; train loss = 0.1350 , kl-loss = 0.0222, recon loss = 0.1127 , val loss = 0.1403, val kl-loss = 0.0228  & val recon loss = 0.1175\n"
     ]
    },
    {
     "name": "stderr",
     "output_type": "stream",
     "text": [
      "235it [00:01, 221.86it/s]                                                                                              \n",
      "40it [00:00, 615.24it/s]                                                                                               \n"
     ]
    },
    {
     "name": "stdout",
     "output_type": "stream",
     "text": [
      "Epoch = 48; train loss = 0.1345 , kl-loss = 0.0223, recon loss = 0.1122 , val loss = 0.1407, val kl-loss = 0.0229  & val recon loss = 0.1179\n"
     ]
    },
    {
     "name": "stderr",
     "output_type": "stream",
     "text": [
      "235it [00:01, 222.07it/s]                                                                                              \n",
      "40it [00:00, 579.58it/s]                                                                                               \n"
     ]
    },
    {
     "name": "stdout",
     "output_type": "stream",
     "text": [
      "Epoch = 49; train loss = 0.1344 , kl-loss = 0.0223, recon loss = 0.1120 , val loss = 0.1398, val kl-loss = 0.0226  & val recon loss = 0.1171\n",
      "Saving model with lowest val_loss = 0.1398\n",
      "\n"
     ]
    },
    {
     "name": "stderr",
     "output_type": "stream",
     "text": [
      "235it [00:01, 205.19it/s]                                                                                              \n",
      "40it [00:00, 588.11it/s]                                                                                               \n"
     ]
    },
    {
     "name": "stdout",
     "output_type": "stream",
     "text": [
      "Epoch = 50; train loss = 0.1341 , kl-loss = 0.0224, recon loss = 0.1117 , val loss = 0.1400, val kl-loss = 0.0226  & val recon loss = 0.1174\n"
     ]
    },
    {
     "name": "stderr",
     "output_type": "stream",
     "text": [
      "235it [00:01, 217.47it/s]                                                                                              \n",
      "40it [00:00, 605.93it/s]                                                                                               \n"
     ]
    },
    {
     "name": "stdout",
     "output_type": "stream",
     "text": [
      "Epoch = 51; train loss = 0.1339 , kl-loss = 0.0224, recon loss = 0.1115 , val loss = 0.1401, val kl-loss = 0.0227  & val recon loss = 0.1174\n"
     ]
    },
    {
     "name": "stderr",
     "output_type": "stream",
     "text": [
      "235it [00:01, 218.02it/s]                                                                                              \n",
      "40it [00:00, 655.59it/s]                                                                                               \n"
     ]
    },
    {
     "name": "stdout",
     "output_type": "stream",
     "text": [
      "Epoch = 52; train loss = 0.1339 , kl-loss = 0.0225, recon loss = 0.1114 , val loss = 0.1400, val kl-loss = 0.0227  & val recon loss = 0.1173\n"
     ]
    },
    {
     "name": "stderr",
     "output_type": "stream",
     "text": [
      "235it [00:01, 215.94it/s]                                                                                              \n",
      "40it [00:00, 605.93it/s]                                                                                               \n"
     ]
    },
    {
     "name": "stdout",
     "output_type": "stream",
     "text": [
      "Epoch = 53; train loss = 0.1338 , kl-loss = 0.0225, recon loss = 0.1113 , val loss = 0.1393, val kl-loss = 0.0228  & val recon loss = 0.1164\n",
      "Saving model with lowest val_loss = 0.1393\n",
      "\n"
     ]
    },
    {
     "name": "stderr",
     "output_type": "stream",
     "text": [
      "235it [00:01, 217.34it/s]                                                                                              \n",
      "40it [00:00, 634.77it/s]                                                                                               \n"
     ]
    },
    {
     "name": "stdout",
     "output_type": "stream",
     "text": [
      "Epoch = 54; train loss = 0.1338 , kl-loss = 0.0226, recon loss = 0.1112 , val loss = 0.1397, val kl-loss = 0.0229  & val recon loss = 0.1169\n"
     ]
    },
    {
     "name": "stderr",
     "output_type": "stream",
     "text": [
      "235it [00:01, 217.54it/s]                                                                                              \n",
      "40it [00:00, 624.86it/s]                                                                                               \n"
     ]
    },
    {
     "name": "stdout",
     "output_type": "stream",
     "text": [
      "Epoch = 55; train loss = 0.1335 , kl-loss = 0.0226, recon loss = 0.1109 , val loss = 0.1390, val kl-loss = 0.0232  & val recon loss = 0.1158\n",
      "Saving model with lowest val_loss = 0.1390\n",
      "\n"
     ]
    },
    {
     "name": "stderr",
     "output_type": "stream",
     "text": [
      "235it [00:01, 219.58it/s]                                                                                              \n",
      "40it [00:00, 579.58it/s]                                                                                               \n"
     ]
    },
    {
     "name": "stdout",
     "output_type": "stream",
     "text": [
      "Epoch = 56; train loss = 0.1333 , kl-loss = 0.0229, recon loss = 0.1104 , val loss = 0.1395, val kl-loss = 0.0235  & val recon loss = 0.1161\n"
     ]
    },
    {
     "name": "stderr",
     "output_type": "stream",
     "text": [
      "235it [00:01, 217.34it/s]                                                                                              \n",
      "40it [00:00, 624.86it/s]                                                                                               \n"
     ]
    },
    {
     "name": "stdout",
     "output_type": "stream",
     "text": [
      "Epoch = 57; train loss = 0.1326 , kl-loss = 0.0235, recon loss = 0.1092 , val loss = 0.1381, val kl-loss = 0.0241  & val recon loss = 0.1140\n",
      "Saving model with lowest val_loss = 0.1381\n",
      "\n"
     ]
    },
    {
     "name": "stderr",
     "output_type": "stream",
     "text": [
      "235it [00:01, 216.14it/s]                                                                                              \n",
      "40it [00:00, 563.26it/s]                                                                                               \n"
     ]
    },
    {
     "name": "stdout",
     "output_type": "stream",
     "text": [
      "Epoch = 58; train loss = 0.1317 , kl-loss = 0.0239, recon loss = 0.1077 , val loss = 0.1370, val kl-loss = 0.0242  & val recon loss = 0.1128\n",
      "Saving model with lowest val_loss = 0.1370\n",
      "\n"
     ]
    },
    {
     "name": "stderr",
     "output_type": "stream",
     "text": [
      "235it [00:01, 217.75it/s]                                                                                              \n",
      "40it [00:00, 634.78it/s]                                                                                               \n"
     ]
    },
    {
     "name": "stdout",
     "output_type": "stream",
     "text": [
      "Epoch = 59; train loss = 0.1310 , kl-loss = 0.0240, recon loss = 0.1070 , val loss = 0.1367, val kl-loss = 0.0243  & val recon loss = 0.1124\n",
      "Saving model with lowest val_loss = 0.1367\n",
      "\n"
     ]
    },
    {
     "name": "stderr",
     "output_type": "stream",
     "text": [
      "235it [00:01, 218.15it/s]                                                                                              \n",
      "40it [00:00, 655.59it/s]                                                                                               \n"
     ]
    },
    {
     "name": "stdout",
     "output_type": "stream",
     "text": [
      "Epoch = 60; train loss = 0.1309 , kl-loss = 0.0242, recon loss = 0.1067 , val loss = 0.1364, val kl-loss = 0.0244  & val recon loss = 0.1119\n",
      "Saving model with lowest val_loss = 0.1364\n",
      "\n"
     ]
    },
    {
     "name": "stderr",
     "output_type": "stream",
     "text": [
      "235it [00:01, 218.96it/s]                                                                                              \n",
      "40it [00:00, 634.78it/s]                                                                                               \n"
     ]
    },
    {
     "name": "stdout",
     "output_type": "stream",
     "text": [
      "Epoch = 61; train loss = 0.1305 , kl-loss = 0.0242, recon loss = 0.1062 , val loss = 0.1363, val kl-loss = 0.0246  & val recon loss = 0.1117\n",
      "Saving model with lowest val_loss = 0.1363\n",
      "\n"
     ]
    },
    {
     "name": "stderr",
     "output_type": "stream",
     "text": [
      "235it [00:01, 216.94it/s]                                                                                              \n",
      "40it [00:00, 624.86it/s]                                                                                               \n"
     ]
    },
    {
     "name": "stdout",
     "output_type": "stream",
     "text": [
      "Epoch = 62; train loss = 0.1302 , kl-loss = 0.0244, recon loss = 0.1058 , val loss = 0.1358, val kl-loss = 0.0247  & val recon loss = 0.1111\n",
      "Saving model with lowest val_loss = 0.1358\n",
      "\n"
     ]
    },
    {
     "name": "stderr",
     "output_type": "stream",
     "text": [
      "235it [00:01, 216.74it/s]                                                                                              \n",
      "40it [00:00, 588.10it/s]                                                                                               \n"
     ]
    },
    {
     "name": "stdout",
     "output_type": "stream",
     "text": [
      "Epoch = 63; train loss = 0.1300 , kl-loss = 0.0245, recon loss = 0.1055 , val loss = 0.1357, val kl-loss = 0.0248  & val recon loss = 0.1109\n",
      "Saving model with lowest val_loss = 0.1357\n",
      "\n"
     ]
    },
    {
     "name": "stderr",
     "output_type": "stream",
     "text": [
      "235it [00:01, 216.14it/s]                                                                                              \n",
      "40it [00:00, 579.58it/s]                                                                                               \n"
     ]
    },
    {
     "name": "stdout",
     "output_type": "stream",
     "text": [
      "Epoch = 64; train loss = 0.1300 , kl-loss = 0.0245, recon loss = 0.1055 , val loss = 0.1362, val kl-loss = 0.0249  & val recon loss = 0.1113\n"
     ]
    },
    {
     "name": "stderr",
     "output_type": "stream",
     "text": [
      "235it [00:01, 216.74it/s]                                                                                              \n",
      "40it [00:00, 596.89it/s]                                                                                               \n"
     ]
    },
    {
     "name": "stdout",
     "output_type": "stream",
     "text": [
      "Epoch = 65; train loss = 0.1298 , kl-loss = 0.0246, recon loss = 0.1052 , val loss = 0.1361, val kl-loss = 0.0249  & val recon loss = 0.1112\n"
     ]
    },
    {
     "name": "stderr",
     "output_type": "stream",
     "text": [
      "235it [00:01, 216.14it/s]                                                                                              \n",
      "40it [00:00, 605.92it/s]                                                                                               \n"
     ]
    },
    {
     "name": "stdout",
     "output_type": "stream",
     "text": [
      "Epoch = 66; train loss = 0.1296 , kl-loss = 0.0246, recon loss = 0.1051 , val loss = 0.1355, val kl-loss = 0.0248  & val recon loss = 0.1107\n",
      "Saving model with lowest val_loss = 0.1355\n",
      "\n"
     ]
    },
    {
     "name": "stderr",
     "output_type": "stream",
     "text": [
      "235it [00:01, 216.94it/s]                                                                                              \n",
      "40it [00:00, 579.58it/s]                                                                                               \n"
     ]
    },
    {
     "name": "stdout",
     "output_type": "stream",
     "text": [
      "Epoch = 67; train loss = 0.1293 , kl-loss = 0.0248, recon loss = 0.1045 , val loss = 0.1353, val kl-loss = 0.0250  & val recon loss = 0.1103\n",
      "Saving model with lowest val_loss = 0.1353\n",
      "\n"
     ]
    },
    {
     "name": "stderr",
     "output_type": "stream",
     "text": [
      "235it [00:01, 217.95it/s]                                                                                              \n",
      "40it [00:00, 624.86it/s]                                                                                               \n"
     ]
    },
    {
     "name": "stdout",
     "output_type": "stream",
     "text": [
      "Epoch = 68; train loss = 0.1291 , kl-loss = 0.0248, recon loss = 0.1043 , val loss = 0.1353, val kl-loss = 0.0250  & val recon loss = 0.1103\n"
     ]
    },
    {
     "name": "stderr",
     "output_type": "stream",
     "text": [
      "235it [00:01, 217.64it/s]                                                                                              \n",
      "40it [00:00, 615.24it/s]                                                                                               \n"
     ]
    },
    {
     "name": "stdout",
     "output_type": "stream",
     "text": [
      "Epoch = 69; train loss = 0.1289 , kl-loss = 0.0249, recon loss = 0.1040 , val loss = 0.1353, val kl-loss = 0.0253  & val recon loss = 0.1100\n"
     ]
    },
    {
     "name": "stderr",
     "output_type": "stream",
     "text": [
      "235it [00:01, 217.54it/s]                                                                                              \n",
      "40it [00:00, 588.10it/s]                                                                                               \n"
     ]
    },
    {
     "name": "stdout",
     "output_type": "stream",
     "text": [
      "Epoch = 70; train loss = 0.1288 , kl-loss = 0.0249, recon loss = 0.1039 , val loss = 0.1351, val kl-loss = 0.0253  & val recon loss = 0.1098\n",
      "Saving model with lowest val_loss = 0.1351\n",
      "\n"
     ]
    },
    {
     "name": "stderr",
     "output_type": "stream",
     "text": [
      "235it [00:01, 217.34it/s]                                                                                              \n",
      "40it [00:00, 588.10it/s]                                                                                               \n"
     ]
    },
    {
     "name": "stdout",
     "output_type": "stream",
     "text": [
      "Epoch = 71; train loss = 0.1288 , kl-loss = 0.0250, recon loss = 0.1038 , val loss = 0.1350, val kl-loss = 0.0256  & val recon loss = 0.1094\n",
      "Saving model with lowest val_loss = 0.1350\n",
      "\n"
     ]
    },
    {
     "name": "stderr",
     "output_type": "stream",
     "text": [
      "235it [00:01, 216.94it/s]                                                                                              \n",
      "40it [00:00, 547.83it/s]                                                                                               \n"
     ]
    },
    {
     "name": "stdout",
     "output_type": "stream",
     "text": [
      "Epoch = 72; train loss = 0.1284 , kl-loss = 0.0251, recon loss = 0.1033 , val loss = 0.1351, val kl-loss = 0.0252  & val recon loss = 0.1099\n"
     ]
    },
    {
     "name": "stderr",
     "output_type": "stream",
     "text": [
      "235it [00:01, 215.35it/s]                                                                                              \n",
      "40it [00:00, 624.86it/s]                                                                                               \n"
     ]
    },
    {
     "name": "stdout",
     "output_type": "stream",
     "text": [
      "Epoch = 73; train loss = 0.1284 , kl-loss = 0.0251, recon loss = 0.1032 , val loss = 0.1345, val kl-loss = 0.0254  & val recon loss = 0.1091\n",
      "Saving model with lowest val_loss = 0.1345\n",
      "\n"
     ]
    },
    {
     "name": "stderr",
     "output_type": "stream",
     "text": [
      "235it [00:01, 218.45it/s]                                                                                              \n",
      "40it [00:00, 547.82it/s]                                                                                               \n"
     ]
    },
    {
     "name": "stdout",
     "output_type": "stream",
     "text": [
      "Epoch = 74; train loss = 0.1281 , kl-loss = 0.0251, recon loss = 0.1030 , val loss = 0.1346, val kl-loss = 0.0253  & val recon loss = 0.1093\n"
     ]
    },
    {
     "name": "stderr",
     "output_type": "stream",
     "text": [
      "235it [00:01, 218.54it/s]                                                                                              \n",
      "40it [00:00, 579.58it/s]                                                                                               \n"
     ]
    },
    {
     "name": "stdout",
     "output_type": "stream",
     "text": [
      "Epoch = 75; train loss = 0.1282 , kl-loss = 0.0252, recon loss = 0.1030 , val loss = 0.1344, val kl-loss = 0.0254  & val recon loss = 0.1090\n",
      "Saving model with lowest val_loss = 0.1344\n",
      "\n"
     ]
    },
    {
     "name": "stderr",
     "output_type": "stream",
     "text": [
      "235it [00:01, 218.35it/s]                                                                                              \n",
      "40it [00:00, 596.88it/s]                                                                                               \n"
     ]
    },
    {
     "name": "stdout",
     "output_type": "stream",
     "text": [
      "Epoch = 76; train loss = 0.1278 , kl-loss = 0.0252, recon loss = 0.1026 , val loss = 0.1344, val kl-loss = 0.0254  & val recon loss = 0.1090\n"
     ]
    },
    {
     "name": "stderr",
     "output_type": "stream",
     "text": [
      "235it [00:01, 216.34it/s]                                                                                              \n",
      "40it [00:00, 571.30it/s]                                                                                               \n"
     ]
    },
    {
     "name": "stdout",
     "output_type": "stream",
     "text": [
      "Epoch = 77; train loss = 0.1278 , kl-loss = 0.0252, recon loss = 0.1026 , val loss = 0.1346, val kl-loss = 0.0253  & val recon loss = 0.1093\n"
     ]
    },
    {
     "name": "stderr",
     "output_type": "stream",
     "text": [
      "235it [00:01, 216.54it/s]                                                                                              \n",
      "40it [00:00, 579.58it/s]                                                                                               \n"
     ]
    },
    {
     "name": "stdout",
     "output_type": "stream",
     "text": [
      "Epoch = 78; train loss = 0.1278 , kl-loss = 0.0253, recon loss = 0.1025 , val loss = 0.1343, val kl-loss = 0.0256  & val recon loss = 0.1087\n",
      "Saving model with lowest val_loss = 0.1343\n",
      "\n"
     ]
    },
    {
     "name": "stderr",
     "output_type": "stream",
     "text": [
      "235it [00:01, 220.42it/s]                                                                                              \n",
      "40it [00:00, 605.93it/s]                                                                                               \n"
     ]
    },
    {
     "name": "stdout",
     "output_type": "stream",
     "text": [
      "Epoch = 79; train loss = 0.1276 , kl-loss = 0.0253, recon loss = 0.1023 , val loss = 0.1340, val kl-loss = 0.0255  & val recon loss = 0.1084\n",
      "Saving model with lowest val_loss = 0.1340\n",
      "\n"
     ]
    },
    {
     "name": "stderr",
     "output_type": "stream",
     "text": [
      "235it [00:01, 217.30it/s]                                                                                              \n",
      "40it [00:00, 634.78it/s]                                                                                               "
     ]
    },
    {
     "name": "stdout",
     "output_type": "stream",
     "text": [
      "Epoch = 80; train loss = 0.1275 , kl-loss = 0.0254, recon loss = 0.1022 , val loss = 0.1341, val kl-loss = 0.0256  & val recon loss = 0.1086\n"
     ]
    },
    {
     "name": "stderr",
     "output_type": "stream",
     "text": [
      "\n"
     ]
    }
   ],
   "source": [
    "for epoch in range(1, num_epochs + 1):\n",
    "    \n",
    "    # Train model for 1 epoch-\n",
    "    train_loss, kl_train_loss, recon_train_loss = train_one_epoch(\n",
    "        model = model, dataloader = train_loader,\n",
    "        alpha = alpha\n",
    "    )\n",
    "    \n",
    "    # Get validation after 1 epoch-\n",
    "    val_loss, val_kl_loss, val_recon_loss = validate_one_epoch(\n",
    "        model = model, dataloader = test_loader,\n",
    "        alpha = alpha\n",
    "    )\n",
    "    \n",
    "    # Store model performance metrics in Python3 dict-\n",
    "    train_history[epoch] = {\n",
    "        'train_loss': train_loss,\n",
    "        'train_recon_loss': kl_train_loss,\n",
    "        'train_kl_loss': kl_train_loss,\n",
    "        'val_loss': val_loss,\n",
    "        'val_recon_loss': val_recon_loss,\n",
    "        'val_kl_loss': val_kl_loss\n",
    "    }\n",
    "    \n",
    "    print(f\"Epoch = {epoch}; train loss = {train_loss:.4f}\",\n",
    "          f\", kl-loss = {kl_train_loss:.4f}, recon loss = {recon_train_loss:.4f}\",\n",
    "          f\", val loss = {val_loss:.4f}, val kl-loss = {val_kl_loss:.4f}\",\n",
    "          f\" & val recon loss = {val_recon_loss:.4f}\"\n",
    "         )\n",
    "    \n",
    "    \n",
    "    # Code for manual Early Stopping:\n",
    "    if (val_loss < best_val_loss):\n",
    "\n",
    "        # update 'best_val_loss' variable to lowest loss encountered so far-\n",
    "        best_val_loss = val_loss\n",
    "        \n",
    "        print(f\"Saving model with lowest val_loss = {val_loss:.4f}\\n\")\n",
    "        \n",
    "        # Save trained model with 'best' validation accuracy-\n",
    "        torch.save(model.state_dict(), \"VAE_LeNet300_MNIST_best_model.pth\")\n",
    "        \n",
    "    "
   ]
  },
  {
   "cell_type": "code",
   "execution_count": null,
   "id": "b302b205-eb78-4cbe-8c2e-1fe22a029466",
   "metadata": {},
   "outputs": [],
   "source": []
  },
  {
   "cell_type": "code",
   "execution_count": null,
   "id": "aa16d6b9-b60c-49b3-ad26-72430e25214d",
   "metadata": {},
   "outputs": [],
   "source": []
  },
  {
   "cell_type": "markdown",
   "id": "77f80299-57ab-4d7e-9d67-58ed5481a263",
   "metadata": {},
   "source": [
    "### Visualize Training metrics"
   ]
  },
  {
   "cell_type": "code",
   "execution_count": 50,
   "id": "b0c18cb1-28b4-4da6-8e93-296064f59691",
   "metadata": {},
   "outputs": [
    {
     "data": {
      "image/png": "[encoded data removed]",
      "text/plain": [
       "<Figure size 648x576 with 1 Axes>"
      ]
     },
     "metadata": {
      "needs_background": "light"
     },
     "output_type": "display_data"
    }
   ],
   "source": [
    "plt.figure(figsize = (9, 8))\n",
    "plt.plot([train_history[e]['train_loss'] for e in train_history.keys()], label = 'train_loss')\n",
    "plt.plot([train_history[e]['val_loss'] for e in train_history.keys()], label = 'val_loss')\n",
    "plt.xlabel(\"epochs\")\n",
    "plt.ylabel(\"loss\")\n",
    "plt.legend(loc = 'best')\n",
    "plt.title(\"VAE Training: Total Loss\")\n",
    "plt.show()"
   ]
  },
  {
   "cell_type": "code",
   "execution_count": 51,
   "id": "fdba47be-7cd2-490f-8938-d4caaaf12160",
   "metadata": {},
   "outputs": [
    {
     "data": {
      "image/png": "[encoded data removed]",
      "text/plain": [
       "<Figure size 648x576 with 1 Axes>"
      ]
     },
     "metadata": {
      "needs_background": "light"
     },
     "output_type": "display_data"
    }
   ],
   "source": [
    "plt.figure(figsize = (9, 8))\n",
    "plt.plot([train_history[e]['train_recon_loss'] for e in train_history.keys()], label = 'train_recon_loss')\n",
    "plt.xlabel(\"epochs\")\n",
    "plt.ylabel(\"loss\")\n",
    "plt.legend(loc = 'best')\n",
    "plt.title(\"VAE Training: Reconstruction Loss\")\n",
    "plt.show()"
   ]
  },
  {
   "cell_type": "code",
   "execution_count": 52,
   "id": "1e89ef5e-0a90-4059-b9c3-b09f19ef5e88",
   "metadata": {},
   "outputs": [
    {
     "data": {
      "image/png": "[encoded data removed]",
      "text/plain": [
       "<Figure size 648x576 with 1 Axes>"
      ]
     },
     "metadata": {
      "needs_background": "light"
     },
     "output_type": "display_data"
    }
   ],
   "source": [
    "plt.figure(figsize = (9, 8))\n",
    "plt.plot([train_history[e]['val_recon_loss'] for e in train_history.keys()], label = 'val_recon_loss')\n",
    "plt.xlabel(\"epochs\")\n",
    "plt.ylabel(\"loss\")\n",
    "plt.legend(loc = 'best')\n",
    "plt.title(\"VAE Training: Reconstruction Loss\")\n",
    "plt.show()"
   ]
  },
  {
   "cell_type": "markdown",
   "id": "284beda7-4da1-444f-a189-760911758ca3",
   "metadata": {},
   "source": [
    "_Reconstruction loss_ has 2 plots since training and validation losses are on different scales."
   ]
  },
  {
   "cell_type": "code",
   "execution_count": null,
   "id": "ab330dd5-fe53-4fab-8921-e2682f7c6689",
   "metadata": {},
   "outputs": [],
   "source": []
  },
  {
   "cell_type": "code",
   "execution_count": 53,
   "id": "c1bc26cf-3950-4e50-8447-8d5980dfa7ba",
   "metadata": {},
   "outputs": [
    {
     "data": {
      "image/png": "[encoded data removed]",
      "text/plain": [
       "<Figure size 648x576 with 1 Axes>"
      ]
     },
     "metadata": {
      "needs_background": "light"
     },
     "output_type": "display_data"
    }
   ],
   "source": [
    "plt.figure(figsize = (9, 8))\n",
    "plt.plot([train_history[e]['train_kl_loss'] for e in train_history.keys()], label = 'train_kl_loss')\n",
    "plt.plot([train_history[e]['val_kl_loss'] for e in train_history.keys()], label = 'val_kl_loss')\n",
    "plt.xlabel(\"epochs\")\n",
    "plt.ylabel(\"loss\")\n",
    "plt.legend(loc = 'best')\n",
    "plt.title(\"VAE Training: KL-Divergence Loss\")\n",
    "plt.show()"
   ]
  },
  {
   "cell_type": "code",
   "execution_count": null,
   "id": "8554f789-f6fd-4f9c-af97-5c986a584cba",
   "metadata": {},
   "outputs": [],
   "source": []
  },
  {
   "cell_type": "code",
   "execution_count": null,
   "id": "30caef6a-81e4-4e16-9de1-1d4a13151207",
   "metadata": {},
   "outputs": [],
   "source": []
  },
  {
   "cell_type": "code",
   "execution_count": 84,
   "id": "75764321-d3dc-4690-ad80-43d8c147aa8c",
   "metadata": {},
   "outputs": [],
   "source": [
    "# Save trained VAE model's weights-\n",
    "# torch.save(model.state_dict(), 'VAE_LeNet300_MNIST_Trained_Weights.pth')"
   ]
  },
  {
   "cell_type": "code",
   "execution_count": null,
   "id": "1b9d5e9d-523d-4187-9eb7-8689d0ca95a1",
   "metadata": {},
   "outputs": [],
   "source": [
    "# Load trained weights from before-\n",
    "# loaded_model = VAE_Dense(latent_space = 3).to(device)\n",
    "# loaded_model.load_state_dict(torch.load('VAE_LeNet300_MNIST_Trained_Weights.pth', map_location = torch.device('cpu')))"
   ]
  },
  {
   "cell_type": "code",
   "execution_count": null,
   "id": "a6135d86-7021-41bb-b3f3-11ceb52723f2",
   "metadata": {},
   "outputs": [],
   "source": [
    "# Define gradient descent optimizer-\n",
    "# optimizer = torch.optim.Adam(loaded_model.parameters(), lr = learning_rate)"
   ]
  },
  {
   "cell_type": "code",
   "execution_count": null,
   "id": "be206cd0-8d1a-445c-b51e-77f6c5ffe3e6",
   "metadata": {},
   "outputs": [],
   "source": []
  },
  {
   "cell_type": "code",
   "execution_count": 54,
   "id": "e71d59cf-6ed5-4385-8bec-da4a0a52d675",
   "metadata": {},
   "outputs": [],
   "source": [
    "import pickle\n",
    "\n",
    "# Save training history as pickle file-\n",
    "with open(\"VAE_LeNet300_MNIST_training_history.pkl\", \"wb\") as file:\n",
    "    pickle.dump(train_history, file)"
   ]
  },
  {
   "cell_type": "code",
   "execution_count": null,
   "id": "f32414c6-f56a-41a6-be95-6116b16152c2",
   "metadata": {},
   "outputs": [],
   "source": [
    "'''\n",
    "# Load training history from pickle file-\n",
    "with open(\"VAE_LeNet300_MNIST_training_history.pkl\", \"rb\") as file:\n",
    "    training_history_lr_scheduler = pickle.load(file)\n",
    "'''"
   ]
  },
  {
   "cell_type": "code",
   "execution_count": null,
   "id": "31810f61-6280-4b90-99c6-091b7b733bb6",
   "metadata": {},
   "outputs": [],
   "source": []
  },
  {
   "cell_type": "code",
   "execution_count": null,
   "id": "e200650d-1544-416c-95b3-b8f33bb4485d",
   "metadata": {},
   "outputs": [],
   "source": []
  },
  {
   "cell_type": "markdown",
   "id": "6b0eeef1-2a2d-457b-ae60-695ef7474263",
   "metadata": {},
   "source": [
    "### Reconstruct/Generate images using _trained_ VAE model"
   ]
  },
  {
   "cell_type": "code",
   "execution_count": 66,
   "id": "770963af-cf56-4a2f-990e-a75cee358491",
   "metadata": {},
   "outputs": [],
   "source": [
    "def synthesize_mnist_images(model, num_samples = 256, latent_dim = 3):\n",
    "    # Create new MNIST samples using trained model.\n",
    "    \n",
    "    # Sample from a multivariate, standard normal distribution-\n",
    "    z = torch.randn(num_samples, latent_dim).to(device)\n",
    "\n",
    "    reconstructions = torch.sigmoid(model.decoder(z)).cpu().detach().numpy()\n",
    "    reconstructions = reconstructions.reshape(-1, 1, 28, 28)\n",
    "    reconstructions = np.transpose(reconstructions, (0, 2, 3, 1))\n",
    "    \n",
    "    return reconstructions\n"
   ]
  },
  {
   "cell_type": "code",
   "execution_count": null,
   "id": "1a0c5f2f-5622-45f2-82dd-9366694c0438",
   "metadata": {},
   "outputs": [],
   "source": []
  },
  {
   "cell_type": "code",
   "execution_count": 67,
   "id": "d3e0af32-a6b5-4345-9dcb-2a7a282d66e7",
   "metadata": {},
   "outputs": [],
   "source": [
    "reconstructions = synthesize_mnist_images(\n",
    "    model = model, num_samples = 256,\n",
    "    latent_dim = 3\n",
    ")"
   ]
  },
  {
   "cell_type": "code",
   "execution_count": 68,
   "id": "75d59ada-9425-4d05-bd84-542aed338f5e",
   "metadata": {},
   "outputs": [
    {
     "data": {
      "text/plain": [
       "(256, 28, 28, 1)"
      ]
     },
     "execution_count": 68,
     "metadata": {},
     "output_type": "execute_result"
    }
   ],
   "source": [
    "reconstructions.shape"
   ]
  },
  {
   "cell_type": "code",
   "execution_count": null,
   "id": "750ea57f-2e84-4cb9-bd23-08c31df1285c",
   "metadata": {},
   "outputs": [],
   "source": []
  },
  {
   "cell_type": "code",
   "execution_count": 70,
   "id": "5750d1ee-34f3-45b5-b561-886d1d8b1200",
   "metadata": {},
   "outputs": [
    {
     "data": {
      "image/png": "[encoded data removed]",
      "text/plain": [
       "<Figure size 648x576 with 50 Axes>"
      ]
     },
     "metadata": {
      "needs_background": "light"
     },
     "output_type": "display_data"
    }
   ],
   "source": [
    "# Visualize 100 synthetic MNIST images-\n",
    "plt.figure(figsize = (9, 8))\n",
    "for i in range(50):\n",
    "    # 10 rows and 10 columns-\n",
    "    plt.subplot(10, 10, i + 1)\n",
    "    plt.imshow(reconstructions[i], cmap = 'gray')\n",
    "\n",
    "plt.suptitle(\"MNIST Synthetic Images\")\n",
    "plt.show()"
   ]
  },
  {
   "cell_type": "code",
   "execution_count": null,
   "id": "55fc444d-9d35-452c-a476-e085fc6ee7b0",
   "metadata": {},
   "outputs": [],
   "source": []
  },
  {
   "cell_type": "code",
   "execution_count": null,
   "id": "30384084-e6f7-4ade-a692-78080cb019d5",
   "metadata": {},
   "outputs": [],
   "source": []
  },
  {
   "cell_type": "markdown",
   "id": "b09e64f3-1460-4c0b-8f48-aa5b62f3d8c9",
   "metadata": {},
   "source": [
    "### Visualize _mean_ and _log-varinace_ in latent-space"
   ]
  },
  {
   "cell_type": "code",
   "execution_count": 82,
   "id": "e76a55db-9462-4307-a286-aa0aa8b4a96a",
   "metadata": {},
   "outputs": [],
   "source": [
    "mu_l = []\n",
    "logvar_l = []"
   ]
  },
  {
   "cell_type": "code",
   "execution_count": 85,
   "id": "d688ecd2-00e6-4a60-80cf-e8473eac9b97",
   "metadata": {},
   "outputs": [],
   "source": [
    "for x in train_loader:\n",
    "    x = x.to(device)\n",
    "    x_enc = model.encoder(x)\n",
    "    mu = model.mu(x_enc)\n",
    "    log_var = model.log_var(x_enc)\n",
    "    mu_l.append(mu.cpu().detach().numpy())\n",
    "    logvar_l.append(log_var.cpu().detach().numpy())"
   ]
  },
  {
   "cell_type": "code",
   "execution_count": 86,
   "id": "be31eb4c-575d-4f70-9496-b868a0f38d1f",
   "metadata": {},
   "outputs": [
    {
     "data": {
      "text/plain": [
       "(235, 235)"
      ]
     },
     "execution_count": 86,
     "metadata": {},
     "output_type": "execute_result"
    }
   ],
   "source": [
    "len(mu_l), len(logvar_l)"
   ]
  },
  {
   "cell_type": "code",
   "execution_count": 87,
   "id": "8681f87b-7969-42d9-a5ba-dae040abc695",
   "metadata": {},
   "outputs": [],
   "source": [
    "mu_l = np.vstack(mu_l)\n",
    "logvar_l = np.vstack(logvar_l)"
   ]
  },
  {
   "cell_type": "code",
   "execution_count": 89,
   "id": "22f3d4de-4363-47c6-8dcb-88332db61a50",
   "metadata": {},
   "outputs": [
    {
     "data": {
      "text/plain": [
       "((60000, 3), (60000, 3))"
      ]
     },
     "execution_count": 89,
     "metadata": {},
     "output_type": "execute_result"
    }
   ],
   "source": [
    "# Sanity check-\n",
    "mu_l.shape, logvar_l.shape"
   ]
  },
  {
   "cell_type": "code",
   "execution_count": 90,
   "id": "94a6a875-c7d8-40e3-8c8c-521bc86f918f",
   "metadata": {},
   "outputs": [],
   "source": [
    "del x"
   ]
  },
  {
   "cell_type": "code",
   "execution_count": null,
   "id": "31f8e410-a407-44bf-9f27-515a66fc43c6",
   "metadata": {},
   "outputs": [],
   "source": []
  },
  {
   "cell_type": "code",
   "execution_count": null,
   "id": "8d8e6e8e-f2d1-4c0e-b58d-ab77ab16f642",
   "metadata": {},
   "outputs": [],
   "source": [
    "# Visualize latent space for 'mu' vector-\n",
    "fig = px.scatter_3d(\n",
    "    x = mu_l[:, 0], y = mu_l[:, 1],\n",
    "    z = mu_l[:, 2],\n",
    "    # color = y_train\n",
    "    )\n",
    "fig.show()"
   ]
  },
  {
   "cell_type": "code",
   "execution_count": null,
   "id": "8ca37430-a3f0-4f9e-89c1-46ea83a388f4",
   "metadata": {},
   "outputs": [],
   "source": [
    "# Visualize latent space for 'log variance' vector-\n",
    "fig = px.scatter_3d(\n",
    "    x = logvar_l[:, 0], y = logvar_l[:, 1],\n",
    "    z = logvar_l[:, 2],\n",
    "    # color = y_train\n",
    "    )\n",
    "fig.show()"
   ]
  },
  {
   "cell_type": "code",
   "execution_count": null,
   "id": "f4539311-e532-47f0-9bc4-78981a8a09ea",
   "metadata": {},
   "outputs": [],
   "source": []
  },
  {
   "cell_type": "code",
   "execution_count": null,
   "id": "365fe0f6-86f5-407f-b70b-805c753b6895",
   "metadata": {},
   "outputs": [],
   "source": []
  },
  {
   "cell_type": "code",
   "execution_count": 98,
   "id": "1fbf3dc5-1932-4a92-a6ab-6d62315cdaf7",
   "metadata": {},
   "outputs": [
    {
     "name": "stdout",
     "output_type": "stream",
     "text": [
      "Mean vector (mu): mean = 0.009633 & std dev = 0.9713\n"
     ]
    }
   ],
   "source": [
    "print(f\"Mean vector (mu): mean = {mu_l.mean():4f} & std dev = {mu_l.std():.4f}\")"
   ]
  },
  {
   "cell_type": "code",
   "execution_count": 99,
   "id": "91a03ac1-264c-4b0c-9378-221fac412c90",
   "metadata": {},
   "outputs": [
    {
     "name": "stdout",
     "output_type": "stream",
     "text": [
      "log-variance (log-var): mean = -4.3080 & std dev = 1.7222\n"
     ]
    }
   ],
   "source": [
    "print(f\"log-variance (log-var): mean = {logvar_l.mean():.4f} & std dev = {logvar_l.std():.4f}\")"
   ]
  },
  {
   "cell_type": "code",
   "execution_count": null,
   "id": "070d2f72-d1ea-434c-93fe-0d344ff51a8a",
   "metadata": {},
   "outputs": [],
   "source": []
  },
  {
   "cell_type": "code",
   "execution_count": 100,
   "id": "e01bbf74-5ce9-47dc-833f-70f441b43395",
   "metadata": {},
   "outputs": [
    {
     "data": {
      "text/plain": [
       "array([-1450.2408,  3982.6306,  -798.3585], dtype=float32)"
      ]
     },
     "execution_count": 100,
     "metadata": {},
     "output_type": "execute_result"
    }
   ],
   "source": [
    "np.sum(mu_l, axis = 0)"
   ]
  },
  {
   "cell_type": "code",
   "execution_count": 101,
   "id": "c841e140-fa54-4ddd-9215-429c74a17efd",
   "metadata": {},
   "outputs": [
    {
     "data": {
      "text/plain": [
       "array([-120267.12, -314710.28, -340454.56], dtype=float32)"
      ]
     },
     "execution_count": 101,
     "metadata": {},
     "output_type": "execute_result"
    }
   ],
   "source": [
    "np.sum(logvar_l, axis = 0)"
   ]
  },
  {
   "cell_type": "code",
   "execution_count": 102,
   "id": "a4d7992a-9e82-4a03-a96a-45d7c3cfb79c",
   "metadata": {},
   "outputs": [
    {
     "name": "stdout",
     "output_type": "stream",
     "text": [
      "mean vector statistics:\n",
      "lv = 1: mean = -0.0242 & std dev = 0.9115\n",
      "lv = 2: mean = 0.0664 & std dev = 0.9576\n",
      "lv = 3: mean = -0.0133 & std dev = 1.0380\n"
     ]
    }
   ],
   "source": [
    "print(\"mean vector statistics:\")\n",
    "for i in range(3):\n",
    "    print(f\"lv = {i + 1}: mean = {mu_l[:, i].mean():.4f} & std dev =\"\n",
    "          f\" {mu_l[:, i].std():.4f}\"\n",
    "         )"
   ]
  },
  {
   "cell_type": "code",
   "execution_count": 103,
   "id": "a2a23f29-afc8-4a09-bc71-fba4444a9bcf",
   "metadata": {},
   "outputs": [
    {
     "name": "stdout",
     "output_type": "stream",
     "text": [
      "log-variance vector statistics:\n",
      "lv = 1: mean = -2.0044 & std dev = 0.5936\n",
      "lv = 2: mean = -5.2452 & std dev = 0.5672\n",
      "lv = 3: mean = -5.6743 & std dev = 0.4156\n"
     ]
    }
   ],
   "source": [
    "print(\"log-variance vector statistics:\")\n",
    "for i in range(3):\n",
    "    print(f\"lv = {i + 1}: mean = {logvar_l[:, i].mean():.4f} & std dev =\"\n",
    "          f\" {logvar_l[:, i].std():.4f}\"\n",
    "         )"
   ]
  },
  {
   "cell_type": "markdown",
   "id": "cd9cfbed-d804-44bb-bd57-ce5741c97fc7",
   "metadata": {},
   "source": [
    "__Observation:__ All of the 3 latent variables are learning some useful information in the latent space."
   ]
  },
  {
   "cell_type": "code",
   "execution_count": null,
   "id": "5bf8fb3e-facb-4b1f-ad97-efdb8d731469",
   "metadata": {},
   "outputs": [],
   "source": []
  },
  {
   "cell_type": "code",
   "execution_count": null,
   "id": "fbed31fa-fb29-4154-b43e-f7d174b4df4a",
   "metadata": {},
   "outputs": [],
   "source": []
  },
  {
   "cell_type": "markdown",
   "id": "cb32c504-659d-4b80-ba6e-e3d09e6ccfe7",
   "metadata": {},
   "source": [
    "#### Manually synthetize MNIST images by creating latent points"
   ]
  },
  {
   "cell_type": "code",
   "execution_count": 129,
   "id": "e80eb042-5057-420c-933f-a31a00603d5b",
   "metadata": {},
   "outputs": [],
   "source": [
    "random_point = torch.tensor(\n",
    "    [\n",
    "        [0.0, 0.0, 0.0],\n",
    "        [0.1, 0.5, -0.9],\n",
    "        [-0.9, 0.2, 1.2],\n",
    "        [2.5, 1.0, -2.5],\n",
    "        [-0.3, 0.3, -0.3]\n",
    "    ]\n",
    ").to(device)"
   ]
  },
  {
   "cell_type": "code",
   "execution_count": 130,
   "id": "5578d63e-258a-4f29-9a51-df7438834c33",
   "metadata": {},
   "outputs": [
    {
     "data": {
      "text/plain": [
       "torch.Size([5, 3])"
      ]
     },
     "execution_count": 130,
     "metadata": {},
     "output_type": "execute_result"
    }
   ],
   "source": [
    "random_point.shape"
   ]
  },
  {
   "cell_type": "code",
   "execution_count": 135,
   "id": "125b01c5-013c-45d9-8536-7fb4731ffc5c",
   "metadata": {},
   "outputs": [],
   "source": [
    "# Get synthetic image-\n",
    "recon_manual_points = torch.sigmoid(model.decoder(random_point)).cpu().detach().numpy()"
   ]
  },
  {
   "cell_type": "code",
   "execution_count": 137,
   "id": "188d9ad3-4caa-441f-b431-6693198c62d6",
   "metadata": {},
   "outputs": [],
   "source": [
    "recon_manual_points = recon_manual_points.reshape(-1, 1, 28, 28)\n",
    "recon_manual_points = np.transpose(recon_manual_points, (0, 2, 3, 1))"
   ]
  },
  {
   "cell_type": "code",
   "execution_count": 139,
   "id": "f14b0b72-a105-4b91-8239-2e5410d6df2b",
   "metadata": {},
   "outputs": [
    {
     "data": {
      "text/plain": [
       "(5, 28, 28, 1)"
      ]
     },
     "execution_count": 139,
     "metadata": {},
     "output_type": "execute_result"
    }
   ],
   "source": [
    "recon_manual_points.shape"
   ]
  },
  {
   "cell_type": "code",
   "execution_count": null,
   "id": "5bfc67af-dd31-4413-8a03-39ced5f76b2b",
   "metadata": {},
   "outputs": [],
   "source": []
  },
  {
   "cell_type": "code",
   "execution_count": 142,
   "id": "cb6dbc50-45f5-4732-abcb-fe457a804d5c",
   "metadata": {},
   "outputs": [
    {
     "data": {
      "image/png": "[encoded data removed]",
      "text/plain": [
       "<Figure size 504x432 with 5 Axes>"
      ]
     },
     "metadata": {
      "needs_background": "light"
     },
     "output_type": "display_data"
    }
   ],
   "source": [
    "# Visualize 5 manually created synthetic MNIST images-\n",
    "plt.figure(figsize = (7, 6))\n",
    "for i in range(5):\n",
    "    # 1 row and 5 columns-\n",
    "    plt.subplot(1, 5, i + 1)\n",
    "    plt.imshow(recon_manual_points[i], cmap = 'gray')\n",
    "\n",
    "plt.suptitle(\"MNIST Manually created synthetic images\")\n",
    "plt.show()"
   ]
  },
  {
   "cell_type": "code",
   "execution_count": null,
   "id": "02e31672-a698-4e1a-b436-29985215a535",
   "metadata": {},
   "outputs": [],
   "source": []
  },
  {
   "cell_type": "code",
   "execution_count": null,
   "id": "7a2a203e-cc5c-46fe-ae9e-9b1f2e3b4fe7",
   "metadata": {},
   "outputs": [],
   "source": []
  },
  {
   "cell_type": "code",
   "execution_count": null,
   "id": "5f15d0be-6c09-436e-80c6-761b8e12a691",
   "metadata": {},
   "outputs": [],
   "source": [
    "# Save _encoded_ representation for training data-\n",
    "'''\n",
    "with open('MNIST_LeNet300_z.npy', 'wb') as file:\n",
    "    np.save(file, z)\n",
    "'''"
   ]
  },
  {
   "cell_type": "code",
   "execution_count": null,
   "id": "f5080932-b6ff-4693-b764-6391feb9d662",
   "metadata": {},
   "outputs": [],
   "source": [
    "\"\"\"\n",
    "with open('MNIST_LeNet300_z.npy', 'rb') as file:\n",
    "    z_encoded = np.load(file)\n",
    "\"\"\""
   ]
  },
  {
   "cell_type": "code",
   "execution_count": null,
   "id": "d231a78d-f6a7-438b-be57-643e7aabd4ca",
   "metadata": {},
   "outputs": [],
   "source": []
  },
  {
   "cell_type": "code",
   "execution_count": null,
   "id": "4224bbc8-2faa-4c2d-ab8c-d4b4644d799b",
   "metadata": {},
   "outputs": [],
   "source": []
  }
 ],
 "metadata": {
  "kernelspec": {
   "display_name": "Python 3 (ipykernel)",
   "language": "python",
   "name": "python3"
  },
  "language_info": {
   "codemirror_mode": {
    "name": "ipython",
    "version": 3
   },
   "file_extension": ".py",
   "mimetype": "text/x-python",
   "name": "python",
   "nbconvert_exporter": "python",
   "pygments_lexer": "ipython3",
   "version": "3.10.4"
  }
 },
 "nbformat": 4,
 "nbformat_minor": 5
}
