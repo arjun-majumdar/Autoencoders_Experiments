{
 "cells": [
  {
   "cell_type": "markdown",
   "id": "ec90a05e-e98c-47b5-a04d-c9377fa6a5d3",
   "metadata": {},
   "source": [
    "# Variational Autoencoder: LeNet-300-100 _full-connected_ with PyTorch and MNIST\n",
    "\n",
    "- [VAE MNIST CNN VAE](https://www.youtube.com/watch?v=afNuE5z2CQ8)\n",
    "\n",
    "- [VAE MNIST GitHub reference](https://github.com/rasbt/stat453-deep-learning-ss21/blob/main/L17/1_VAE_mnist_sigmoid_mse.ipynb)\n",
    "\n",
    "- [GitHub helper functions](https://github.com/rasbt/stat453-deep-learning-ss21/blob/main/L17/helper_train.py)"
   ]
  },
  {
   "cell_type": "code",
   "execution_count": 1,
   "id": "89d7b9c9-67af-42cf-abc0-a2441bda8f64",
   "metadata": {},
   "outputs": [
    {
     "name": "stdout",
     "output_type": "stream",
     "text": [
      "env: CUDA_DEVICE_ORDER=PCI_BUS_ID\n",
      "env: CUDA_VISIBLE_DEVICES=0\n"
     ]
    }
   ],
   "source": [
    "# Specify GPU to be used-\n",
    "%env CUDA_DEVICE_ORDER = PCI_BUS_ID\n",
    "%env CUDA_VISIBLE_DEVICES = 0"
   ]
  },
  {
   "cell_type": "code",
   "execution_count": 2,
   "id": "4548515b-b2af-49a3-8d13-a81a2e8e7fb9",
   "metadata": {},
   "outputs": [],
   "source": [
    "import torch\n",
    "import torch.nn as nn\n",
    "import torch.nn.functional as F\n",
    "import torchvision\n",
    "import torchvision.transforms as transforms\n",
    "\n",
    "from tqdm import tqdm\n",
    "from tqdm import trange\n",
    "import matplotlib.pyplot as plt\n",
    "import seaborn as sns\n",
    "import numpy as np"
   ]
  },
  {
   "cell_type": "code",
   "execution_count": null,
   "id": "38fb14b1-15f6-4881-8c93-a3b8d698e239",
   "metadata": {},
   "outputs": [],
   "source": []
  },
  {
   "cell_type": "code",
   "execution_count": null,
   "id": "604c2149-9c31-48e7-a525-a91163ffb976",
   "metadata": {},
   "outputs": [],
   "source": []
  },
  {
   "cell_type": "code",
   "execution_count": 3,
   "id": "411af825-c307-455f-8158-b4379444f8ac",
   "metadata": {},
   "outputs": [
    {
     "name": "stdout",
     "output_type": "stream",
     "text": [
      "torch version: 1.11.0\n"
     ]
    }
   ],
   "source": [
    "print(f\"torch version: {torch.__version__}\")"
   ]
  },
  {
   "cell_type": "code",
   "execution_count": 4,
   "id": "d87ac8fb-9d75-4de7-9829-794656a957f8",
   "metadata": {},
   "outputs": [
    {
     "name": "stdout",
     "output_type": "stream",
     "text": [
      "Number of GPU(s) available = 1\n",
      "Current GPU: 0\n",
      "Current GPU name: NVIDIA GeForce RTX 3080 Laptop GPU\n"
     ]
    }
   ],
   "source": [
    "# Check if there are multiple devices (i.e., GPU cards)-\n",
    "print(f\"Number of GPU(s) available = {torch.cuda.device_count()}\")\n",
    "\n",
    "# Which GPU Is The Current GPU?\n",
    "# print(f\"current GPU: {torch.cuda.current_device()}\")\n",
    "\n",
    "# Get the name of the current GPU-\n",
    "# print(f\"Current GPU name: {torch.cuda.get_device_name(torch.cuda.current_device())}\")\n",
    "\n",
    "# Is PyTorch using a GPU?\n",
    "# print(f\"Is PyTorch using a GPU? {torch.cuda.is_available()}\")\n",
    "\n",
    "if torch.cuda.is_available():\n",
    "    print(f\"Current GPU: {torch.cuda.current_device()}\")\n",
    "    print(f\"Current GPU name: {torch.cuda.get_device_name(torch.cuda.current_device())}\")\n",
    "else:\n",
    "    print(\"PyTorch does not have access to GPU\")"
   ]
  },
  {
   "cell_type": "code",
   "execution_count": 5,
   "id": "16a07e3a-afc5-4b01-862c-3e73fe0ec6af",
   "metadata": {},
   "outputs": [
    {
     "name": "stdout",
     "output_type": "stream",
     "text": [
      "Available device is cuda\n"
     ]
    }
   ],
   "source": [
    "# Device configuration-\n",
    "device = torch.device('cuda' if torch.cuda.is_available() else 'cpu')\n",
    "print(f'Available device is {device}')"
   ]
  },
  {
   "cell_type": "code",
   "execution_count": null,
   "id": "d1b51561-fdd8-4918-8754-9f040e4d4bb4",
   "metadata": {},
   "outputs": [],
   "source": []
  },
  {
   "cell_type": "code",
   "execution_count": null,
   "id": "ffb0b897-8b3e-43d6-b3a9-8ef209d1a51d",
   "metadata": {},
   "outputs": [],
   "source": []
  },
  {
   "cell_type": "code",
   "execution_count": 6,
   "id": "7932d653-14ee-4eff-9a12-4125e2efa55d",
   "metadata": {},
   "outputs": [],
   "source": [
    "# Hyper-parameters-\n",
    "num_epochs = 50\n",
    "batch_size = 64\n",
    "learning_rate = 0.001"
   ]
  },
  {
   "cell_type": "code",
   "execution_count": null,
   "id": "9fa13f72-0d1d-4835-a7c4-3f00f6c429a7",
   "metadata": {},
   "outputs": [],
   "source": []
  },
  {
   "cell_type": "code",
   "execution_count": null,
   "id": "2136fd65-b9e5-4ef9-ac96-71a16e21c162",
   "metadata": {},
   "outputs": [],
   "source": []
  },
  {
   "cell_type": "markdown",
   "id": "ae65062a-22f0-4535-a16f-a6f2c5f83ee6",
   "metadata": {},
   "source": [
    "### MNIST data pre-processing:"
   ]
  },
  {
   "cell_type": "markdown",
   "id": "267f62e4-ab84-42c4-a2bb-7310de515903",
   "metadata": {},
   "source": [
    "#### Compute mean and standard deviation for different datasets\n",
    "\n",
    "```\n",
    "import argparse\n",
    "import os\n",
    "import numpy as np\n",
    "import torchvision\n",
    "import torchvision.transforms as transforms\n",
    "\n",
    "dataset_names = ('cifar10','cifar100','mnist')\n",
    "\n",
    "parser = argparse.ArgumentParser(description='PyTorchLab')\n",
    "parser.add_argument('-d', '--dataset', metavar='DATA', default='cifar10', choices=dataset_names,\n",
    "                    help='dataset to be used: ' + ' | '.join(dataset_names) + ' (default: cifar10)')\n",
    "\n",
    "args = parser.parse_args()\n",
    "\n",
    "data_dir = os.path.join('.', args.dataset)\n",
    "\n",
    "print(args.dataset)\n",
    "\n",
    "if args.dataset == \"cifar10\":\n",
    "    train_transform = transforms.Compose([transforms.ToTensor()])\n",
    "    train_set = torchvision.datasets.CIFAR10(root=data_dir, train=True, download=True, transform=train_transform)\n",
    "    #print(vars(train_set))\n",
    "    print(train_set.train_data.shape)\n",
    "    print(train_set.train_data.mean(axis=(0,1,2))/255)\n",
    "    print(train_set.train_data.std(axis=(0,1,2))/255)\n",
    "\n",
    "elif args.dataset == \"cifar100\":\n",
    "    train_transform = transforms.Compose([transforms.ToTensor()])\n",
    "    train_set = torchvision.datasets.CIFAR100(root=data_dir, train=True, download=True, transform=train_transform)\n",
    "    #print(vars(train_set))\n",
    "    print(train_set.train_data.shape)\n",
    "    print(np.mean(train_set.train_data, axis=(0,1,2))/255)\n",
    "    print(np.std(train_set.train_data, axis=(0,1,2))/255)\n",
    "\n",
    "elif args.dataset == \"mnist\":\n",
    "    train_transform = transforms.Compose([transforms.ToTensor()])\n",
    "    train_set = torchvision.datasets.MNIST(root=data_dir, train=True, download=True, transform=train_transform)\n",
    "    #print(vars(train_set))\n",
    "    print(list(train_set.train_data.size()))\n",
    "    print(train_set.train_data.float().mean()/255)\n",
    "    print(train_set.train_data.float().std()/255)\n",
    "```\n",
    "\n",
    "[Reference](https://discuss.pytorch.org/t/normalization-in-the-mnist-example/457/11)"
   ]
  },
  {
   "cell_type": "code",
   "execution_count": 7,
   "id": "62c69969-db81-4c40-b233-a4805166a555",
   "metadata": {},
   "outputs": [],
   "source": [
    "# Define transformations for MNIST dataset-\n",
    "# MNIST dataset statistics-\n",
    "mean = np.array([0.1307])\n",
    "std_dev = np.array([0.3081])\n",
    "\n",
    "transforms_apply = transforms.Compose(\n",
    "    [\n",
    "        transforms.ToTensor(),\n",
    "        transforms.Normalize(mean = mean, std = std_dev)\n",
    "    ]\n",
    ")"
   ]
  },
  {
   "cell_type": "code",
   "execution_count": 8,
   "id": "3bf9299d-eab6-4f35-83dd-0feef02c5985",
   "metadata": {},
   "outputs": [],
   "source": [
    "path_to_data = \"C:\\\\Users\\\\arjun\\Downloads\\\\\""
   ]
  },
  {
   "cell_type": "code",
   "execution_count": 9,
   "id": "6396d0a7-bb5e-4328-a3d7-eab9eff9938e",
   "metadata": {},
   "outputs": [],
   "source": [
    "# Load MNIST dataset-\n",
    "train_dataset = torchvision.datasets.MNIST(\n",
    "        # root = './data', train = True,\n",
    "        root = path_to_data + \"data\", train = True,\n",
    "        transform = transforms_apply, download = True\n",
    "        )\n",
    "\n",
    "test_dataset = torchvision.datasets.MNIST(\n",
    "        # root = './data', train = False,\n",
    "        root = path_to_data + \"data\", train = False,\n",
    "        transform = transforms_apply\n",
    "        )"
   ]
  },
  {
   "cell_type": "code",
   "execution_count": 10,
   "id": "e6926221-1549-486d-bfe0-d1cbb762168b",
   "metadata": {},
   "outputs": [
    {
     "data": {
      "text/plain": [
       "(60000, 60000)"
      ]
     },
     "execution_count": 10,
     "metadata": {},
     "output_type": "execute_result"
    }
   ],
   "source": [
    "len(train_dataset.targets), len(train_dataset.data)"
   ]
  },
  {
   "cell_type": "code",
   "execution_count": 11,
   "id": "c40bed16-1bc9-494d-8586-b71b18793d23",
   "metadata": {},
   "outputs": [
    {
     "data": {
      "text/plain": [
       "(10000, 10000)"
      ]
     },
     "execution_count": 11,
     "metadata": {},
     "output_type": "execute_result"
    }
   ],
   "source": [
    "len(test_dataset.targets), len(test_dataset.data)"
   ]
  },
  {
   "cell_type": "code",
   "execution_count": 12,
   "id": "8fc1eb11-f9f7-404b-a800-95f960fe29ad",
   "metadata": {},
   "outputs": [
    {
     "name": "stdout",
     "output_type": "stream",
     "text": [
      "training dataset length/shape: [60000, 28, 28]\n"
     ]
    }
   ],
   "source": [
    "print(f\"training dataset length/shape: {list(train_dataset.data.size())}\")"
   ]
  },
  {
   "cell_type": "code",
   "execution_count": 13,
   "id": "f151f33e-bed5-4b43-ae24-a9b859f5e4f3",
   "metadata": {},
   "outputs": [
    {
     "name": "stdout",
     "output_type": "stream",
     "text": [
      "mean = 0.1307\n"
     ]
    }
   ],
   "source": [
    "print(f\"mean = {train_dataset.data.float().mean() / 255:.4f}\")"
   ]
  },
  {
   "cell_type": "code",
   "execution_count": 14,
   "id": "41de4113-dd98-4ef0-8499-f0314dbe70f5",
   "metadata": {},
   "outputs": [
    {
     "name": "stdout",
     "output_type": "stream",
     "text": [
      "std dev = 0.3081\n"
     ]
    }
   ],
   "source": [
    "print(f\"std dev = {train_dataset.data.float().std() / 255:.4f}\")"
   ]
  },
  {
   "cell_type": "markdown",
   "id": "a694d261-cf07-409b-b10c-f98f9ac8708f",
   "metadata": {},
   "source": [
    "#### NOTE:\n",
    "\n",
    "Since MNIST has only one channel, therefore, the mean and standard deviation is computed for one channel!"
   ]
  },
  {
   "cell_type": "code",
   "execution_count": null,
   "id": "3ba6d495-6643-4f29-94ff-edb6cafe5db9",
   "metadata": {},
   "outputs": [],
   "source": []
  },
  {
   "cell_type": "code",
   "execution_count": 15,
   "id": "f28ddefa-d115-4665-a8cd-b4c7b422d9df",
   "metadata": {},
   "outputs": [
    {
     "data": {
      "text/plain": [
       "(tensor(0, dtype=torch.uint8), tensor(255, dtype=torch.uint8))"
      ]
     },
     "execution_count": 15,
     "metadata": {},
     "output_type": "execute_result"
    }
   ],
   "source": [
    "# Sanity check-\n",
    "train_dataset.data.min(), train_dataset.data.max()"
   ]
  },
  {
   "cell_type": "code",
   "execution_count": 16,
   "id": "5285b62e-3c12-4ecf-945e-5ac5b0722b01",
   "metadata": {},
   "outputs": [
    {
     "data": {
      "text/plain": [
       "(tensor(0, dtype=torch.uint8), tensor(255, dtype=torch.uint8))"
      ]
     },
     "execution_count": 16,
     "metadata": {},
     "output_type": "execute_result"
    }
   ],
   "source": [
    "test_dataset.data.min(), test_dataset.data.max()"
   ]
  },
  {
   "cell_type": "code",
   "execution_count": null,
   "id": "91ae5de8-1bd6-4b84-a89a-b875ca10998b",
   "metadata": {},
   "outputs": [],
   "source": []
  },
  {
   "cell_type": "markdown",
   "id": "1b7f22a0-1728-45a3-ae35-03062029c501",
   "metadata": {},
   "source": [
    "#### Scale pixel values in the range 0 to 1\n",
    "\n",
    "To manually convert the pixel values in the range 0 to 1, divide the training and testing datasets by 255.0."
   ]
  },
  {
   "cell_type": "code",
   "execution_count": 17,
   "id": "ed4ab5df-4c6b-4ce5-bc78-bd8a7047fb24",
   "metadata": {},
   "outputs": [],
   "source": [
    "train = train_dataset.data.float() / 255.0\n",
    "test = test_dataset.data.float() / 255.0"
   ]
  },
  {
   "cell_type": "code",
   "execution_count": 18,
   "id": "c97019b0-c9c3-4512-b178-5615a2adbb82",
   "metadata": {},
   "outputs": [
    {
     "data": {
      "text/plain": [
       "(torch.Tensor, torch.Tensor)"
      ]
     },
     "execution_count": 18,
     "metadata": {},
     "output_type": "execute_result"
    }
   ],
   "source": [
    "type(train), type(test)"
   ]
  },
  {
   "cell_type": "code",
   "execution_count": 19,
   "id": "89267044-361c-45e9-8488-dfc7e30cb3bd",
   "metadata": {},
   "outputs": [
    {
     "data": {
      "text/plain": [
       "(torch.Size([60000, 28, 28]), torch.Size([10000, 28, 28]))"
      ]
     },
     "execution_count": 19,
     "metadata": {},
     "output_type": "execute_result"
    }
   ],
   "source": [
    "train.shape, test.shape"
   ]
  },
  {
   "cell_type": "code",
   "execution_count": 20,
   "id": "d17b7423-5600-4622-b9f7-1ca2acb2b92a",
   "metadata": {},
   "outputs": [],
   "source": [
    "# Reshape to include gray-scale channel-\n",
    "# train = train.reshape(60000, 1, 28, 28)\n",
    "# test = test.reshape(10000, 1, 28, 28)\n",
    "\n",
    "# Reshape the datasets into a flattened shape for LeNet300\n",
    "# architecture-\n",
    "train = train.view(-1, 28 * 28 * 1)\n",
    "test = test.view(-1, 28 * 28 * 1)"
   ]
  },
  {
   "cell_type": "code",
   "execution_count": 21,
   "id": "4d60a8fc-7c59-4cb6-90bc-ba977587b86d",
   "metadata": {},
   "outputs": [
    {
     "data": {
      "text/plain": [
       "(torch.Size([60000, 784]), torch.Size([10000, 784]))"
      ]
     },
     "execution_count": 21,
     "metadata": {},
     "output_type": "execute_result"
    }
   ],
   "source": [
    "# Sanity check-\n",
    "train.shape, test.shape"
   ]
  },
  {
   "cell_type": "code",
   "execution_count": null,
   "id": "c2a3169b-3c2a-4051-8ff7-e60c7a31cbdc",
   "metadata": {},
   "outputs": [],
   "source": []
  },
  {
   "cell_type": "code",
   "execution_count": 22,
   "id": "815e91c3-d92e-4c68-8a4b-4272a2662bcb",
   "metadata": {},
   "outputs": [
    {
     "data": {
      "text/plain": [
       "(tensor(0.), tensor(1.))"
      ]
     },
     "execution_count": 22,
     "metadata": {},
     "output_type": "execute_result"
    }
   ],
   "source": [
    "# Sanity check- min and max pixel values are in the range 0 to 1-\n",
    "train.data.min(), train.data.max()"
   ]
  },
  {
   "cell_type": "code",
   "execution_count": 23,
   "id": "bee0db56-0e86-45db-b27b-c012f34c2db7",
   "metadata": {},
   "outputs": [
    {
     "data": {
      "text/plain": [
       "(tensor(0.), tensor(1.))"
      ]
     },
     "execution_count": 23,
     "metadata": {},
     "output_type": "execute_result"
    }
   ],
   "source": [
    "test.data.min(), test.data.max()"
   ]
  },
  {
   "cell_type": "code",
   "execution_count": 24,
   "id": "b8bd6140-e57a-444a-8a50-6c7f2a1a629b",
   "metadata": {},
   "outputs": [],
   "source": [
    "del train_dataset, test_dataset"
   ]
  },
  {
   "cell_type": "code",
   "execution_count": null,
   "id": "a2c8d8e1-f745-43e9-9966-d210b0f513d3",
   "metadata": {},
   "outputs": [],
   "source": []
  },
  {
   "cell_type": "code",
   "execution_count": 25,
   "id": "bf2a58ea-8d7a-4421-b1bf-1070299ab97d",
   "metadata": {},
   "outputs": [
    {
     "name": "stdout",
     "output_type": "stream",
     "text": [
      "batch size to be used = 64\n"
     ]
    }
   ],
   "source": [
    "print(f\"batch size to be used = {batch_size}\")"
   ]
  },
  {
   "cell_type": "code",
   "execution_count": 26,
   "id": "5e52ca4c-2e40-43ef-8421-f0429acb3b60",
   "metadata": {},
   "outputs": [],
   "source": [
    "# Create training and testing dataloaders-\n",
    "train_loader = torch.utils.data.DataLoader(\n",
    "        dataset = train, batch_size = batch_size,\n",
    "        shuffle = True\n",
    "        )\n",
    "\n",
    "test_loader = torch.utils.data.DataLoader(\n",
    "        dataset = test, batch_size = batch_size,\n",
    "        shuffle = False\n",
    "        )"
   ]
  },
  {
   "cell_type": "code",
   "execution_count": 27,
   "id": "8607e038-7c41-4c2a-997b-8f6b14698c2b",
   "metadata": {},
   "outputs": [
    {
     "name": "stdout",
     "output_type": "stream",
     "text": [
      "Sizes of train_dataset: 60000 and test_dataet: 10000\n",
      "Sizes of train_loader: 938 and test_loader: 157\n"
     ]
    }
   ],
   "source": [
    "print(f\"Sizes of train_dataset: {len(train)} and test_dataet: {len(test)}\")\n",
    "print(f\"Sizes of train_loader: {len(train_loader)} and test_loader: {len(test_loader)}\")"
   ]
  },
  {
   "cell_type": "code",
   "execution_count": 28,
   "id": "370bfbbb-de2c-44ba-acdf-6caee8886888",
   "metadata": {},
   "outputs": [
    {
     "name": "stdout",
     "output_type": "stream",
     "text": [
      "len(train_loader) = 938 & len(test_loader) = 157\n"
     ]
    }
   ],
   "source": [
    "print(f\"len(train_loader) = {len(train_loader)} & len(test_loader) = {len(test_loader)}\")"
   ]
  },
  {
   "cell_type": "code",
   "execution_count": 29,
   "id": "2279e99e-022b-4238-b22c-6d4a6c2ba394",
   "metadata": {},
   "outputs": [
    {
     "data": {
      "text/plain": [
       "(937.5, 156.25)"
      ]
     },
     "execution_count": 29,
     "metadata": {},
     "output_type": "execute_result"
    }
   ],
   "source": [
    "# Sanity check-\n",
    "len(train) / batch_size, len(test) / batch_size"
   ]
  },
  {
   "cell_type": "code",
   "execution_count": null,
   "id": "c62811bb-f21d-4505-b431-7273a6ee6cce",
   "metadata": {},
   "outputs": [],
   "source": []
  },
  {
   "cell_type": "code",
   "execution_count": 30,
   "id": "992559ef-5dca-4c28-9de4-74d8ea9aaafc",
   "metadata": {},
   "outputs": [
    {
     "name": "stdout",
     "output_type": "stream",
     "text": [
      "images.shape: torch.Size([64, 784])\n"
     ]
    }
   ],
   "source": [
    "# Get some random batch of training images & labels-\n",
    "# images, labels = next(iter(train_loader))\n",
    "images = next(iter(train_loader))\n",
    "\n",
    "# You get 64 images due to the specified batch size-\n",
    "# print(f\"images.shape: {images.shape} & labels.shape: {labels.shape}\")\n",
    "print(f\"images.shape: {images.shape}\")"
   ]
  },
  {
   "cell_type": "code",
   "execution_count": null,
   "id": "94a87340-e47d-4a9f-97ed-410624ecf612",
   "metadata": {},
   "outputs": [],
   "source": []
  },
  {
   "cell_type": "code",
   "execution_count": 31,
   "id": "4349ff13-8b38-4562-9499-99fdd6efd332",
   "metadata": {},
   "outputs": [
    {
     "data": {
      "text/plain": [
       "(tensor(0.), tensor(1.))"
      ]
     },
     "execution_count": 31,
     "metadata": {},
     "output_type": "execute_result"
    }
   ],
   "source": [
    "images.min(), images.max()"
   ]
  },
  {
   "cell_type": "code",
   "execution_count": 32,
   "id": "75e13a28-852a-42c4-933c-503668427b97",
   "metadata": {},
   "outputs": [],
   "source": [
    "# De-normalize the batch of images-\n",
    "images *= 255.0"
   ]
  },
  {
   "cell_type": "code",
   "execution_count": 33,
   "id": "7b13a40a-39e3-4546-be0d-b7e94970f6ba",
   "metadata": {},
   "outputs": [
    {
     "data": {
      "text/plain": [
       "(tensor(0.), tensor(255.))"
      ]
     },
     "execution_count": 33,
     "metadata": {},
     "output_type": "execute_result"
    }
   ],
   "source": [
    "images.min(), images.max()"
   ]
  },
  {
   "cell_type": "code",
   "execution_count": 34,
   "id": "6b5c1c30-4f45-4c58-b99d-a54f1319a0b4",
   "metadata": {},
   "outputs": [],
   "source": [
    "# Reshape images for visualization-\n",
    "images = images.view(-1, 1, 28, 28)"
   ]
  },
  {
   "cell_type": "code",
   "execution_count": null,
   "id": "34c0f855-170c-4661-909f-3e7ff5cd5705",
   "metadata": {},
   "outputs": [],
   "source": []
  },
  {
   "cell_type": "code",
   "execution_count": 35,
   "id": "c63d53a2-c24e-4ff4-8e57-0602f27955ea",
   "metadata": {},
   "outputs": [
    {
     "data": {
      "image/png": "[encoded data removed]",
      "text/plain": [
       "<Figure size 576x504 with 20 Axes>"
      ]
     },
     "metadata": {
      "needs_background": "light"
     },
     "output_type": "display_data"
    }
   ],
   "source": [
    "# Visualize 20 images from training set-\n",
    "plt.figure(figsize = (8, 7))\n",
    "for i in range(20):\n",
    "    # 4 rows & 5 columns-\n",
    "    plt.subplot(4, 5, i + 1)\n",
    "    # plt.imshow(images[i], cmap = 'gray')\n",
    "    # 0 to access first channel-\n",
    "    plt.imshow(images[i][0], cmap = 'gray')\n",
    "    \n",
    "plt.suptitle(\"Sample MNIST training images\")\n",
    "plt.show()"
   ]
  },
  {
   "cell_type": "code",
   "execution_count": 36,
   "id": "2bb03f1b-465c-4581-9678-42340bab3263",
   "metadata": {},
   "outputs": [],
   "source": [
    "del images"
   ]
  },
  {
   "cell_type": "code",
   "execution_count": null,
   "id": "ef847aae-ac60-41f5-b7e0-b6ebd02c860c",
   "metadata": {},
   "outputs": [],
   "source": []
  },
  {
   "cell_type": "code",
   "execution_count": null,
   "id": "77d41658-3f5b-4a8c-9065-f8a36828930b",
   "metadata": {},
   "outputs": [],
   "source": []
  },
  {
   "cell_type": "markdown",
   "id": "81156902-c9f2-4aea-a2f5-64850f2b2af8",
   "metadata": {},
   "source": [
    "### Define Variational Autoencoder architecture using _dense_ layers"
   ]
  },
  {
   "cell_type": "code",
   "execution_count": 37,
   "id": "b9328748-53c8-46ea-979c-395586ff68f9",
   "metadata": {},
   "outputs": [],
   "source": [
    "class LeNet300_Encoder(nn.Module):\n",
    "    def __init__(self, latent_space):\n",
    "        super(LeNet300_Encoder, self).__init__()\n",
    "        self.latent_space = latent_space\n",
    "        \n",
    "        # Define layers-\n",
    "        self.fc1 = nn.Linear(in_features = 28 * 28 * 1, out_features = 300)\n",
    "        self.fc2 = nn.Linear(in_features = 300, out_features = 100)\n",
    "        self.encoder_output = nn.Linear(in_features = 100, out_features = self.latent_space)\n",
    "        \n",
    "        self.weights_initialization()\n",
    "    \n",
    "    \n",
    "    def forward(self, x):\n",
    "        x = F.relu(self.fc1(x))\n",
    "        x = F.relu(self.fc2(x))\n",
    "        x = F.relu(self.encoder_output(x))\n",
    "        return x\n",
    "    \n",
    "    \n",
    "    def weights_initialization(self):\n",
    "        '''\n",
    "        When we define all the modules such as the layers in '__init__()'\n",
    "        method above, these are all stored in 'self.modules()'.\n",
    "        We go through each module one by one. This is the entire network,\n",
    "        basically.\n",
    "        '''\n",
    "        for m in self.modules():\n",
    "            if isinstance(m, nn.Linear):\n",
    "                nn.init.xavier_normal_(m.weight)\n",
    "                nn.init.constant_(m.bias, 0)\n",
    "    \n",
    "    def shape_computation(self, x):\n",
    "        print(f\"Input shape: {x.shape}\")\n",
    "        x = self.fc1(x)\n",
    "        print(f\"dense1 output shape: {x.shape}\")\n",
    "        x = self.fc2(x)\n",
    "        print(f\"dense2 output shape: {x.shape}\")\n",
    "        x = self.encoder_output(x)\n",
    "        print(f\"encoder output shape: {x.shape}\")\n",
    "        del x\n",
    "        return None\n",
    "    \n",
    "    "
   ]
  },
  {
   "cell_type": "code",
   "execution_count": 38,
   "id": "bdf33496-a61b-4a14-845a-711180a0b1ff",
   "metadata": {},
   "outputs": [],
   "source": [
    "class LeNet300_Decoder(nn.Module):\n",
    "    def __init__(self, latent_space):\n",
    "        super(LeNet300_Decoder, self).__init__()\n",
    "        self.latent_space = latent_space\n",
    "        \n",
    "        # Define layers-\n",
    "        self.fc1 = nn.Linear(in_features = self.latent_space, out_features = 100)\n",
    "        self.fc2 = nn.Linear(in_features = 100, out_features = 300)\n",
    "        self.decoder_output = nn.Linear(in_features = 300, out_features = 28 * 28 * 1)\n",
    "    \n",
    "    \n",
    "    def forward(self, x):\n",
    "        x = F.relu(self.fc1(x))\n",
    "        x = F.relu(self.fc2(x))\n",
    "        x = self.decoder_output(x)\n",
    "        return x\n",
    "    \n",
    "    \n",
    "    def weights_initialization(self):\n",
    "        '''\n",
    "        When we define all the modules such as the layers in '__init__()'\n",
    "        method above, these are all stored in 'self.modules()'.\n",
    "        We go through each module one by one. This is the entire network,\n",
    "        basically.\n",
    "        '''\n",
    "        for m in self.modules():\n",
    "            if isinstance(m, nn.Linear):\n",
    "                # nn.init.kaiming_normal_(m.weight)\n",
    "                nn.init.xavier_normal_(m.weight)\n",
    "                nn.init.constant_(m.bias, 0)\n",
    "    \n",
    "    \n",
    "    def shape_computation(self, x):\n",
    "        print(f\"Input shape: {x.shape}\")\n",
    "        x = self.fc1(x)\n",
    "        print(f\"dense1 output shape: {x.shape}\")\n",
    "        x = self.fc2(x)\n",
    "        print(f\"dense2 output shape: {x.shape}\")\n",
    "        x = self.decoder_output(x)\n",
    "        print(f\"decoder output shape: {x.shape}\")\n",
    "        del x\n",
    "        return None\n",
    "    "
   ]
  },
  {
   "cell_type": "code",
   "execution_count": null,
   "id": "f4405c53-ae04-42f1-8bca-df5614a8d476",
   "metadata": {},
   "outputs": [],
   "source": []
  },
  {
   "cell_type": "code",
   "execution_count": null,
   "id": "7a229693-e7de-43f7-8293-5f92337ed6a8",
   "metadata": {},
   "outputs": [],
   "source": []
  },
  {
   "cell_type": "markdown",
   "id": "8841472a-ef58-4552-abdc-c944767ee1b9",
   "metadata": {},
   "source": [
    "#### Sanity check"
   ]
  },
  {
   "cell_type": "code",
   "execution_count": 39,
   "id": "c79db4b0-d5ff-4b5e-a2bf-abcdc4caa307",
   "metadata": {},
   "outputs": [],
   "source": [
    "images = next(iter(train_loader))"
   ]
  },
  {
   "cell_type": "code",
   "execution_count": 40,
   "id": "50e54f70-549f-4a0f-bd7f-8841d520c1c6",
   "metadata": {},
   "outputs": [
    {
     "data": {
      "text/plain": [
       "torch.Size([64, 784])"
      ]
     },
     "execution_count": 40,
     "metadata": {},
     "output_type": "execute_result"
    }
   ],
   "source": [
    "images.shape"
   ]
  },
  {
   "cell_type": "code",
   "execution_count": null,
   "id": "9284bb17-dcd1-40f3-94bf-b33ca9a225a7",
   "metadata": {},
   "outputs": [],
   "source": []
  },
  {
   "cell_type": "code",
   "execution_count": 41,
   "id": "2aa57e81-9472-4bcc-b0c8-4aaa65fb6193",
   "metadata": {},
   "outputs": [],
   "source": [
    "encoder = LeNet300_Encoder(latent_space = 3)"
   ]
  },
  {
   "cell_type": "code",
   "execution_count": 42,
   "id": "205f7a9e-617b-4e78-a45f-681927eb8bfb",
   "metadata": {},
   "outputs": [],
   "source": [
    "encoded_images = encoder(images)"
   ]
  },
  {
   "cell_type": "code",
   "execution_count": 43,
   "id": "e649ae88-f28e-4b60-a195-2de49af10c36",
   "metadata": {},
   "outputs": [],
   "source": [
    "decoder = LeNet300_Decoder(latent_space = 3)"
   ]
  },
  {
   "cell_type": "code",
   "execution_count": 44,
   "id": "f5ea961e-2738-4b88-a8cc-533d3e27d83e",
   "metadata": {},
   "outputs": [],
   "source": [
    "decoded_images = decoder(encoded_images)"
   ]
  },
  {
   "cell_type": "code",
   "execution_count": 45,
   "id": "5563100e-6318-4791-a4e5-4ab94e54396b",
   "metadata": {},
   "outputs": [
    {
     "data": {
      "text/plain": [
       "(torch.Size([64, 784]), torch.Size([64, 784]))"
      ]
     },
     "execution_count": 45,
     "metadata": {},
     "output_type": "execute_result"
    }
   ],
   "source": [
    "decoded_images.shape, images.shape"
   ]
  },
  {
   "cell_type": "code",
   "execution_count": 46,
   "id": "758fa3b6-e062-4014-983b-95afe67190bc",
   "metadata": {},
   "outputs": [
    {
     "name": "stdout",
     "output_type": "stream",
     "text": [
      "Input shape: torch.Size([64, 784])\n",
      "dense1 output shape: torch.Size([64, 300])\n",
      "dense2 output shape: torch.Size([64, 100])\n",
      "encoder output shape: torch.Size([64, 3])\n"
     ]
    }
   ],
   "source": [
    "encoder.shape_computation(images)"
   ]
  },
  {
   "cell_type": "code",
   "execution_count": 47,
   "id": "7b4ffe14-b6c3-434c-a817-056b53097442",
   "metadata": {},
   "outputs": [
    {
     "name": "stdout",
     "output_type": "stream",
     "text": [
      "Input shape: torch.Size([64, 3])\n",
      "dense1 output shape: torch.Size([64, 100])\n",
      "dense2 output shape: torch.Size([64, 300])\n",
      "decoder output shape: torch.Size([64, 784])\n"
     ]
    }
   ],
   "source": [
    "decoder.shape_computation(encoded_images)"
   ]
  },
  {
   "cell_type": "code",
   "execution_count": 48,
   "id": "05809754-9a01-4ce8-b81d-d8f9a6e0a99e",
   "metadata": {},
   "outputs": [
    {
     "data": {
      "text/plain": [
       "(tensor(0.), tensor(1.))"
      ]
     },
     "execution_count": 48,
     "metadata": {},
     "output_type": "execute_result"
    }
   ],
   "source": [
    "images.min(), images.max()"
   ]
  },
  {
   "cell_type": "code",
   "execution_count": 49,
   "id": "efaa98c7-e6ed-4e12-8f59-5e52dbf3d813",
   "metadata": {},
   "outputs": [
    {
     "data": {
      "text/plain": [
       "(tensor(0., grad_fn=<MinBackward1>), tensor(0.6244, grad_fn=<MaxBackward1>))"
      ]
     },
     "execution_count": 49,
     "metadata": {},
     "output_type": "execute_result"
    }
   ],
   "source": [
    "encoded_images.min(), encoded_images.max()"
   ]
  },
  {
   "cell_type": "code",
   "execution_count": 50,
   "id": "9ca69d28-8e49-4a6d-8972-1ae9f164c291",
   "metadata": {},
   "outputs": [],
   "source": [
    "del encoded_images, decoded_images, encoder, decoder"
   ]
  },
  {
   "cell_type": "code",
   "execution_count": null,
   "id": "b1dba136-d059-4d60-a486-eaf8f761818c",
   "metadata": {},
   "outputs": [],
   "source": []
  },
  {
   "cell_type": "code",
   "execution_count": null,
   "id": "13f69ed7-dd61-4cd1-820d-3be39944852b",
   "metadata": {},
   "outputs": [],
   "source": []
  },
  {
   "cell_type": "markdown",
   "id": "de4a3953-59b1-457a-8619-c71079f34f30",
   "metadata": {},
   "source": [
    "#### NOTE: The decoder's output should be on the same scale as input"
   ]
  },
  {
   "cell_type": "code",
   "execution_count": 51,
   "id": "134ffb7a-22fd-4e72-b361-960a260a7102",
   "metadata": {},
   "outputs": [],
   "source": [
    "class VAE_Dense(nn.Module):\n",
    "    def __init__(self, latent_space = 5):\n",
    "        super(VAE_Dense, self).__init__()\n",
    "        \n",
    "        self.latent_space = latent_space\n",
    "        \n",
    "        # Encoder-\n",
    "        self.encoder = LeNet300_Encoder(latent_space = self.latent_space).to(device)\n",
    "        \n",
    "        # Two additional layers 'mu' & 'log_var' vectors to convert the bottleneck into\n",
    "        # μ and σ vectors-\n",
    "        self.mu = nn.Linear(\n",
    "            in_features = self.latent_space, out_features = self.latent_space,\n",
    "            bias = True\n",
    "        )\n",
    "        self.log_var = nn.Linear(\n",
    "            in_features = self.latent_space, out_features = self.latent_space,\n",
    "            bias = True\n",
    "        )\n",
    "        \n",
    "        # Decoder-\n",
    "        self.decoder = LeNet300_Decoder(latent_space = self.latent_space).to(device)\n",
    "        \n",
    "        \n",
    "    def reparameterize(self, mu, log_var):\n",
    "        '''\n",
    "        Input arguments:\n",
    "        1. mu - mean coming from the encoder's latent space\n",
    "        2. log_var - log variance coming from the encoder's latent space\n",
    "        \n",
    "        The log-var trick allows us to have both positive and negative values instead\n",
    "        of only having positive values if standard deviation was used. Having both\n",
    "        positive & negative values is good for the neural network training process.\n",
    "        '''\n",
    "        # Compute standard deviation using 'log_var'-\n",
    "        std = torch.exp(0.5 * log_var)\n",
    "        \n",
    "        # 'eps' is sampled from a standard normal distribution\n",
    "        # to add stochasticity to the sampling process-\n",
    "        eps = torch.randn_like(std)\n",
    "        \n",
    "        # Reparameterization trick - sample as if it's from the input\n",
    "        # space-\n",
    "        z = mu + (std * eps)\n",
    "        \n",
    "        return z\n",
    "    \n",
    "    \n",
    "    def forward(self, x):\n",
    "        # Encode input data using encoder-\n",
    "        x = self.encoder(x)\n",
    "        # NOTE: The line of code above does NOT give us the latent vector!\n",
    "        \n",
    "        mu = self.mu(x)\n",
    "        log_var = self.log_var(x)\n",
    "        \n",
    "        # Obtain the latent vector using reparameterization-\n",
    "        z = self.reparameterize(mu, log_var)\n",
    "        # latent vector 'z' is obtained through reparameterization trick using mu and log_var\n",
    "        \n",
    "        # Decode latent vector using decoder-\n",
    "        recon_data = torch.sigmoid(self.decoder(z))\n",
    "        # recon_data = torch.tanh(self.decoder(z))\n",
    "        \n",
    "        return recon_data, mu, log_var\n",
    "    \n",
    "    \n",
    "    def shape_computation(self, x):\n",
    "        print(f\"Input shape: {x.shape}\")\n",
    "        x = self.encoder(x)\n",
    "        print(f\"Encoder output shape: {x.shape}\")\n",
    "        mu = self.mu(x)\n",
    "        log_var = self.log_var(x)\n",
    "        z = self.reparameterize(mu, log_var)\n",
    "        print(f\"mu.shape: {mu.shape}, log_var.shape: {log_var.shape}\"\n",
    "              f\" & z.shape: {z.shape}\")\n",
    "        x = self.decoder(z)\n",
    "        print(f\"Decoder output shape: {x.shape}\")\n",
    "        del x, mu, log_var, z\n",
    "        return None\n",
    "    \n",
    "    "
   ]
  },
  {
   "cell_type": "code",
   "execution_count": null,
   "id": "8a97aaf2-078c-4814-89f6-c50f6fabb9a2",
   "metadata": {},
   "outputs": [],
   "source": []
  },
  {
   "cell_type": "code",
   "execution_count": 52,
   "id": "c860ddf0-1696-4fb7-a5f9-73b301925075",
   "metadata": {},
   "outputs": [],
   "source": [
    "# Initialize a VAE object-\n",
    "model = VAE_Dense(latent_space = 3).to(device)"
   ]
  },
  {
   "cell_type": "code",
   "execution_count": null,
   "id": "0ff6b87d-d3a0-4bb1-b563-9383583b5fc9",
   "metadata": {},
   "outputs": [],
   "source": []
  },
  {
   "cell_type": "code",
   "execution_count": 53,
   "id": "2bc50f58-a33a-4695-a965-d9457e0e8495",
   "metadata": {},
   "outputs": [
    {
     "name": "stdout",
     "output_type": "stream",
     "text": [
      "VAE_Dense(\n",
      "  (encoder): LeNet300_Encoder(\n",
      "    (fc1): Linear(in_features=784, out_features=300, bias=True)\n",
      "    (fc2): Linear(in_features=300, out_features=100, bias=True)\n",
      "    (encoder_output): Linear(in_features=100, out_features=3, bias=True)\n",
      "  )\n",
      "  (mu): Linear(in_features=3, out_features=3, bias=True)\n",
      "  (log_var): Linear(in_features=3, out_features=3, bias=True)\n",
      "  (decoder): LeNet300_Decoder(\n",
      "    (fc1): Linear(in_features=3, out_features=100, bias=True)\n",
      "    (fc2): Linear(in_features=100, out_features=300, bias=True)\n",
      "    (decoder_output): Linear(in_features=300, out_features=784, bias=True)\n",
      "  )\n",
      ")\n"
     ]
    }
   ],
   "source": [
    "print(model)"
   ]
  },
  {
   "cell_type": "code",
   "execution_count": 54,
   "id": "bde96bb4-603a-4d4d-8c88-db73fe31cb02",
   "metadata": {},
   "outputs": [
    {
     "name": "stdout",
     "output_type": "stream",
     "text": [
      "layer.shape = torch.Size([300, 784]) has 235200 parameters\n",
      "layer.shape = torch.Size([300]) has 300 parameters\n",
      "layer.shape = torch.Size([100, 300]) has 30000 parameters\n",
      "layer.shape = torch.Size([100]) has 100 parameters\n",
      "layer.shape = torch.Size([3, 100]) has 300 parameters\n",
      "layer.shape = torch.Size([3]) has 3 parameters\n",
      "layer.shape = torch.Size([3, 3]) has 9 parameters\n",
      "layer.shape = torch.Size([3]) has 3 parameters\n",
      "layer.shape = torch.Size([3, 3]) has 9 parameters\n",
      "layer.shape = torch.Size([3]) has 3 parameters\n",
      "layer.shape = torch.Size([100, 3]) has 300 parameters\n",
      "layer.shape = torch.Size([100]) has 100 parameters\n",
      "layer.shape = torch.Size([300, 100]) has 30000 parameters\n",
      "layer.shape = torch.Size([300]) has 300 parameters\n",
      "layer.shape = torch.Size([784, 300]) has 235200 parameters\n",
      "layer.shape = torch.Size([784]) has 784 parameters\n"
     ]
    }
   ],
   "source": [
    "# Count number of layer-wise parameters and total parameters-\n",
    "tot_params = 0\n",
    "for param in model.parameters():\n",
    "    print(f\"layer.shape = {param.shape} has {param.nelement()} parameters\")\n",
    "    tot_params += param.nelement()"
   ]
  },
  {
   "cell_type": "code",
   "execution_count": 55,
   "id": "19dc32ee-0f02-4912-a87b-1dc4425c5669",
   "metadata": {},
   "outputs": [
    {
     "name": "stdout",
     "output_type": "stream",
     "text": [
      "Total number of parameters in VAE Conv model = 532611\n"
     ]
    }
   ],
   "source": [
    "print(f\"Total number of parameters in VAE Conv model = {tot_params}\")"
   ]
  },
  {
   "cell_type": "code",
   "execution_count": null,
   "id": "6224ef02-b0df-445e-8891-2b1ce3956587",
   "metadata": {},
   "outputs": [],
   "source": []
  },
  {
   "cell_type": "code",
   "execution_count": 56,
   "id": "08599482-b2ab-4d73-9e36-18e684b49a3e",
   "metadata": {},
   "outputs": [],
   "source": [
    "# Save trained VAE model's weights-\n",
    "torch.save(model.state_dict(), 'VAE_LeNet300_MNIST_Random_Weights.pth')"
   ]
  },
  {
   "cell_type": "code",
   "execution_count": null,
   "id": "5f0e2a9d-b43d-4751-98a6-40e27b5b8eaa",
   "metadata": {},
   "outputs": [],
   "source": [
    "# Load trained weights from before-\n",
    "# loaded_model = VAE_Dense(latent_space = 3).to(device)\n",
    "# loaded_model.load_state_dict(torch.load(VAE_LeNet300_MNIST_Random_Weights.pth', map_location = torch.device('cpu')))"
   ]
  },
  {
   "cell_type": "code",
   "execution_count": null,
   "id": "15532c76-5f54-4dbf-a0b5-3d1a3d41e0af",
   "metadata": {},
   "outputs": [],
   "source": []
  },
  {
   "cell_type": "code",
   "execution_count": null,
   "id": "72eeef8c-55e6-4f2a-8182-6585bd97d120",
   "metadata": {},
   "outputs": [],
   "source": []
  },
  {
   "cell_type": "markdown",
   "id": "10180047-ebcf-4668-9a41-52214832f1a2",
   "metadata": {},
   "source": [
    "### Initial variance - Sanity check:\n",
    "\n",
    "Before training the VAE neural network model, there should be some initial variance."
   ]
  },
  {
   "cell_type": "code",
   "execution_count": 57,
   "id": "5ceb04a8-2c72-4341-a35c-50d151dddfcc",
   "metadata": {},
   "outputs": [
    {
     "name": "stdout",
     "output_type": "stream",
     "text": [
      "torch.Size([3, 3]) 9\n",
      "torch.Size([3]) 3\n"
     ]
    }
   ],
   "source": [
    "for x in model.mu.parameters():\n",
    "    print(x.shape, x.nelement())"
   ]
  },
  {
   "cell_type": "code",
   "execution_count": 58,
   "id": "6855f32c-16de-4276-a95a-da0c3051f646",
   "metadata": {},
   "outputs": [],
   "source": [
    "log_var_wts = model.log_var.weight\n",
    "mu_wts = model.mu.weight"
   ]
  },
  {
   "cell_type": "code",
   "execution_count": 59,
   "id": "a4f1adb8-b8fa-41f6-8c8d-c1a24ee90501",
   "metadata": {},
   "outputs": [],
   "source": [
    "mu_wts = mu_wts.detach().cpu().numpy()\n",
    "log_var_wts = log_var_wts.detach().cpu().numpy()"
   ]
  },
  {
   "cell_type": "code",
   "execution_count": 60,
   "id": "fab189d5-b508-49d2-b2de-99a97f8e287f",
   "metadata": {},
   "outputs": [
    {
     "data": {
      "text/plain": [
       "((3, 3), (3, 3))"
      ]
     },
     "execution_count": 60,
     "metadata": {},
     "output_type": "execute_result"
    }
   ],
   "source": [
    "mu_wts.shape, log_var_wts.shape"
   ]
  },
  {
   "cell_type": "code",
   "execution_count": null,
   "id": "a783e454-7dc3-47f2-90de-c40a27ad81c2",
   "metadata": {},
   "outputs": [],
   "source": []
  },
  {
   "cell_type": "code",
   "execution_count": 61,
   "id": "56b20880-500b-4073-b874-c5e9e194c814",
   "metadata": {},
   "outputs": [
    {
     "data": {
      "image/png": "[encoded data removed]",
      "text/plain": [
       "<Figure size 360x360 with 1 Axes>"
      ]
     },
     "metadata": {
      "needs_background": "light"
     },
     "output_type": "display_data"
    }
   ],
   "source": [
    "sns.displot(data = mu_wts.flatten(), bins = int(np.ceil(np.sqrt(mu_wts.size))))\n",
    "plt.title(\"mu randomly initialized - Visualization\")\n",
    "plt.show()"
   ]
  },
  {
   "cell_type": "code",
   "execution_count": 62,
   "id": "f88f920c-1821-4892-a0b2-ec3599066380",
   "metadata": {},
   "outputs": [
    {
     "data": {
      "image/png": "[encoded data removed]",
      "text/plain": [
       "<Figure size 360x360 with 1 Axes>"
      ]
     },
     "metadata": {
      "needs_background": "light"
     },
     "output_type": "display_data"
    }
   ],
   "source": [
    "sns.displot(data = log_var_wts.flatten(), bins = int(np.ceil(np.sqrt(log_var_wts.size))))\n",
    "plt.title(\"log variance randomly initialized - Visualization\")\n",
    "plt.show()"
   ]
  },
  {
   "cell_type": "code",
   "execution_count": 63,
   "id": "578feabd-88d6-4825-9423-7c405a9c38de",
   "metadata": {},
   "outputs": [],
   "source": [
    "del mu_wts, log_var_wts"
   ]
  },
  {
   "cell_type": "code",
   "execution_count": null,
   "id": "b137f5cd-4c93-4538-9ecd-630eaba5a5da",
   "metadata": {},
   "outputs": [],
   "source": []
  },
  {
   "cell_type": "code",
   "execution_count": 64,
   "id": "ba95dc6b-7244-45af-bc8f-d9bc9ff055f6",
   "metadata": {},
   "outputs": [],
   "source": [
    "# Sanity check-\n",
    "images = images.to(device)"
   ]
  },
  {
   "cell_type": "code",
   "execution_count": 65,
   "id": "6ea8fe83-5237-4adc-8cdf-735eb2c4422b",
   "metadata": {},
   "outputs": [
    {
     "data": {
      "text/plain": [
       "torch.Size([64, 784])"
      ]
     },
     "execution_count": 65,
     "metadata": {},
     "output_type": "execute_result"
    }
   ],
   "source": [
    "images.shape"
   ]
  },
  {
   "cell_type": "code",
   "execution_count": 66,
   "id": "2e556c89-162e-42aa-bcf9-06e88ff9605b",
   "metadata": {},
   "outputs": [
    {
     "data": {
      "text/plain": [
       "(tensor(0., device='cuda:0'), tensor(1., device='cuda:0'))"
      ]
     },
     "execution_count": 66,
     "metadata": {},
     "output_type": "execute_result"
    }
   ],
   "source": [
    "images.min(), images.max()"
   ]
  },
  {
   "cell_type": "code",
   "execution_count": 67,
   "id": "069a1a91-252e-4e76-87b6-ca5007f7656e",
   "metadata": {},
   "outputs": [],
   "source": [
    "# Sanity check-\n",
    "recon_images, mu, log_var = model(images)"
   ]
  },
  {
   "cell_type": "code",
   "execution_count": 68,
   "id": "12c16baf-5d48-47fd-8f18-61024e61e179",
   "metadata": {},
   "outputs": [
    {
     "data": {
      "text/plain": [
       "(torch.Size([64, 784]), torch.Size([64, 3]), torch.Size([64, 3]))"
      ]
     },
     "execution_count": 68,
     "metadata": {},
     "output_type": "execute_result"
    }
   ],
   "source": [
    "recon_images.shape, mu.shape, log_var.shape"
   ]
  },
  {
   "cell_type": "code",
   "execution_count": 69,
   "id": "013f9625-8530-44e9-9e0f-30d926bcc715",
   "metadata": {},
   "outputs": [
    {
     "data": {
      "text/plain": [
       "(array(0.31054595, dtype=float32), array(0.70962816, dtype=float32))"
      ]
     },
     "execution_count": 69,
     "metadata": {},
     "output_type": "execute_result"
    }
   ],
   "source": [
    "recon_images.min().detach().cpu().numpy(), recon_images.max().detach().cpu().numpy()"
   ]
  },
  {
   "cell_type": "code",
   "execution_count": 70,
   "id": "64c376b6-fbe3-421c-a202-847eac66e66d",
   "metadata": {},
   "outputs": [],
   "source": [
    "del recon_images, mu, log_var"
   ]
  },
  {
   "cell_type": "code",
   "execution_count": null,
   "id": "36b9e27b-f255-4a5e-a52e-95a96a670657",
   "metadata": {},
   "outputs": [],
   "source": []
  },
  {
   "cell_type": "code",
   "execution_count": null,
   "id": "92f42140-3d1b-4d1d-81bc-921d6366dce8",
   "metadata": {},
   "outputs": [],
   "source": []
  },
  {
   "cell_type": "code",
   "execution_count": 71,
   "id": "cf4eeb0d-4591-4e50-bf28-12f7a2402758",
   "metadata": {},
   "outputs": [
    {
     "name": "stdout",
     "output_type": "stream",
     "text": [
      "Adam optimizer with learning rate = 0.001 will be used\n"
     ]
    }
   ],
   "source": [
    "print(f\"Adam optimizer with learning rate = {learning_rate} will be used\")"
   ]
  },
  {
   "cell_type": "code",
   "execution_count": 72,
   "id": "8e74e056-e63e-4260-89e6-99a86fc6fa6a",
   "metadata": {},
   "outputs": [],
   "source": [
    "# Define gradient descent optimizer-\n",
    "optimizer = torch.optim.Adam(model.parameters(), lr = learning_rate)\n",
    "\n",
    "# optimizer = torch.optim.SGD(model.parameters(), lr = 0.01, momentum = 0.9, weight_decay = 5e-4)"
   ]
  },
  {
   "cell_type": "code",
   "execution_count": null,
   "id": "0eeede8b-1f03-49a1-9413-9b65d3587dd0",
   "metadata": {},
   "outputs": [],
   "source": []
  },
  {
   "cell_type": "code",
   "execution_count": null,
   "id": "13955768-396e-4dc2-811f-c769b2a10c4a",
   "metadata": {},
   "outputs": [],
   "source": []
  },
  {
   "cell_type": "code",
   "execution_count": 73,
   "id": "ac73daed-4bfd-445c-9879-6cf06e8a8671",
   "metadata": {},
   "outputs": [],
   "source": [
    "def total_loss(data, data_recon, mu, log_var, alpha = 1):\n",
    "    '''\n",
    "    Function to compute loss = reconstruction loss * reconstruction_term_weight + KL-Divergence loss.\n",
    "    KL-Divergence = 0.5 * sum(1 + log(sigma^2) - mu^2 - sigma^2)\n",
    "    \n",
    "    Inputs:\n",
    "    1. mu: mean from the latent vector\n",
    "    2. logvar: log variance from the latent vector\n",
    "    3. alpha (int): Hyperparameter to control the importance of reconstruction\n",
    "    loss vs KL-Divergence Loss - reconstruction term weight\n",
    "    4. data: training data\n",
    "    5. data_recon: VAE's reconstructed data\n",
    "    '''\n",
    "    \n",
    "    # Compute KL-Divergence loss:\n",
    "    \n",
    "    # Sum over latent dimensions-\n",
    "    kl_div = -0.5 * torch.sum(1 + log_var - mu.pow(2) - torch.exp(log_var), axis = 1)\n",
    "    # kl_div = -0.5 * torch.sum(1 + log_var - (mu **2) - torch.exp(log_var), axis = 1)\n",
    "    \n",
    "    '''\n",
    "    Omitting 'axis' will give bad results as it will sum over everything!\n",
    "    First, sum over the latent dimensions and then average over the batches.\n",
    "    '''\n",
    "    \n",
    "    # kl_div.shape\n",
    "    # torch.Size([64])\n",
    "    \n",
    "    batchsize = kl_div.size(0)\n",
    "\n",
    "    # Compute average KL-divergence over batch size-\n",
    "    kl_div = kl_div.mean()\n",
    "    \n",
    "    \n",
    "    # Compute Reconstruction loss:\n",
    "    \n",
    "    reconstruction_loss_fn = F.mse_loss\n",
    "    recon_loss = reconstruction_loss_fn(data_recon, data, reduction = 'none')\n",
    "    \n",
    "    # recon_loss.shape\n",
    "    # torch.Size([32, 1, 28, 28])\n",
    "    \n",
    "    # Sum over all pixels-\n",
    "    # Reshape recon_loss so that it is the batchsize and a vector. So, instead\n",
    "    # of having a tensor, it is now a matrix (table). Then, sum over the pixels.\n",
    "    # This is equivalent to summing over the latent dimensions for kl_div above.\n",
    "    # We are summing first the squared error over the pixels and then average over\n",
    "    # the batch dimensions below-\n",
    "    recon_loss = recon_loss.view(batchsize, -1).sum(axis = 1)\n",
    "    \n",
    "    # recon_loss.shape\n",
    "    # torch.Size([64, 784])\n",
    "    \n",
    "    # Average over mini-batch dimension-\n",
    "    recon_loss = recon_loss.mean()\n",
    "    \n",
    "    final_loss = (alpha * recon_loss) + kl_div\n",
    "    \n",
    "    return final_loss, recon_loss, kl_div\n"
   ]
  },
  {
   "cell_type": "code",
   "execution_count": null,
   "id": "c1b420dd-c66b-48f4-9441-cc02dd9ee1b2",
   "metadata": {},
   "outputs": [],
   "source": []
  },
  {
   "cell_type": "code",
   "execution_count": null,
   "id": "71c8b904-71e7-4b32-bfde-f4cb9cbc991c",
   "metadata": {},
   "outputs": [],
   "source": [
    "'''\n",
    "# Sanity check-\n",
    "final_loss, recon_loss, kl_div_loss = total_loss(\n",
    "    data = images, data_recon = recon_images,\n",
    "    mu = mu, log_var = log_var,\n",
    "    alpha = 1\n",
    ")\n",
    "'''"
   ]
  },
  {
   "cell_type": "code",
   "execution_count": null,
   "id": "77640ef9-86a4-47fc-a1a8-5e5580b9d44d",
   "metadata": {},
   "outputs": [],
   "source": [
    "'''\n",
    "print(f\"final loss = {final_loss.cpu().detach().numpy():.4f},\"\n",
    "      f\" reconstruction loss = {recon_loss.cpu().detach().numpy():.4f}\"\n",
    "      f\" & kl-div loss = {kl_div_loss.cpu().detach().numpy():.4f}\"\n",
    "     )\n",
    "'''"
   ]
  },
  {
   "cell_type": "code",
   "execution_count": null,
   "id": "cb8451a2-c052-4420-b705-2bf3119293f5",
   "metadata": {},
   "outputs": [],
   "source": []
  },
  {
   "cell_type": "code",
   "execution_count": null,
   "id": "fdf99a9c-7a9f-4edd-b85d-01beb92747b4",
   "metadata": {},
   "outputs": [],
   "source": []
  },
  {
   "cell_type": "code",
   "execution_count": 74,
   "id": "55a47fa4-1eff-41bc-a8ac-bf6130140baa",
   "metadata": {},
   "outputs": [],
   "source": [
    "def train_one_epoch(model, dataloader, alpha):\n",
    "    \n",
    "    # Place model to device-\n",
    "    model.to(device)\n",
    "    \n",
    "    # Enable training mode-\n",
    "    model.train()\n",
    "    \n",
    "    # Initialize variables to keep track of 3 losses-\n",
    "    running_final_loss = 0.0\n",
    "    running_recon_loss = 0.0\n",
    "    running_kl_loss = 0.0\n",
    "    \n",
    "    \n",
    "    for i, data in tqdm(\n",
    "        enumerate(dataloader),\n",
    "        # total = int(len(train_dataset) / dataloader.batch_size)\n",
    "        total = int(len(train) / dataloader.batch_size)\n",
    "        ):\n",
    "      \n",
    "        # Ignore labels-\n",
    "        # data, _ = data\n",
    "\n",
    "        # Push data points to 'device'-\n",
    "        data = data.to(device)\n",
    "        \n",
    "        # Flatten input data to feed into a dense layer-\n",
    "        # data = data.view(data.size(0), -1)\n",
    "        \n",
    "        # Empty accumulated gradients-\n",
    "        optimizer.zero_grad()\n",
    "        \n",
    "        # Perform forward propagation-\n",
    "        recon_data, mu, logvar = model(data)\n",
    "        \n",
    "        final_loss, recon_loss, kl_div_loss = total_loss(\n",
    "            data = data, data_recon = recon_data,\n",
    "            mu = mu, log_var = logvar,\n",
    "            alpha = alpha\n",
    "        )\n",
    "        \n",
    "        # Update losses-\n",
    "        running_final_loss += final_loss.item()\n",
    "        running_kl_loss += kl_div_loss.cpu().detach().numpy()\n",
    "        running_recon_loss += recon_loss.cpu().detach().numpy()\n",
    "        \n",
    "        # Compute gradients wrt total loss-\n",
    "        final_loss.backward()\n",
    "        \n",
    "        # Perform gradient descent-\n",
    "        optimizer.step()\n",
    "    \n",
    "    # Compute losses as float values-\n",
    "    train_loss = running_final_loss / len(dataloader.dataset)\n",
    "    kl_loss = running_kl_loss / len(dataloader.dataset)\n",
    "    recon_loss = running_recon_loss / len(dataloader.dataset)\n",
    "    \n",
    "    return train_loss, kl_loss, recon_loss\n"
   ]
  },
  {
   "cell_type": "code",
   "execution_count": null,
   "id": "9f30417d-7cfd-43d5-a10d-8e9319ef59a1",
   "metadata": {},
   "outputs": [],
   "source": []
  },
  {
   "cell_type": "code",
   "execution_count": 75,
   "id": "df50563a-0221-4820-b5f3-15da1935b2fa",
   "metadata": {},
   "outputs": [],
   "source": [
    "def validate_one_epoch(model, dataloader, alpha):\n",
    "    \n",
    "    # Place model to device-\n",
    "    model.to(device)\n",
    "    \n",
    "    # Enable evaluation mode-\n",
    "    model.eval()\n",
    "    \n",
    "    running_final_loss = 0.0\n",
    "    running_recon_loss = 0.0\n",
    "    running_kl_loss = 0.0\n",
    "    \n",
    "    with torch.no_grad():\n",
    "        for i, data in tqdm(\n",
    "            enumerate(dataloader),\n",
    "            # total = int(len(test_dataset) / dataloader.batch_size)):\n",
    "            total = int(len(test) / test_loader.batch_size)):\n",
    "          \n",
    "            # Ignore labels-\n",
    "            # data, _ = data\n",
    "\n",
    "            # Push data points to 'device'-\n",
    "            data = data.to(device)\n",
    "            \n",
    "            # Flatten data to feed into a dense layer-\n",
    "            # data = data.view(data.size(0), -1)\n",
    "            \n",
    "            # Forward propagation-\n",
    "            recon_data, mu, logvar = model(data)\n",
    "            \n",
    "            final_loss, recon_loss, kl_div_loss = total_loss(\n",
    "                data = data, data_recon = recon_data,\n",
    "                mu = mu, log_var = logvar,\n",
    "                alpha = alpha\n",
    "            )\n",
    "        \n",
    "            # Update losses-\n",
    "            running_final_loss += final_loss.item()\n",
    "            running_kl_loss += kl_div_loss.cpu().detach().numpy()\n",
    "            running_recon_loss += recon_loss.cpu().detach().numpy()\n",
    "            \n",
    "                \n",
    "    val_loss = running_final_loss / len(dataloader.dataset)\n",
    "    val_kl_loss = running_kl_loss / len(dataloader.dataset)\n",
    "    val_recon_loss = running_recon_loss / len(dataloader.dataset)\n",
    "    \n",
    "    return val_loss, val_kl_loss, val_recon_loss\n",
    "\n",
    "    "
   ]
  },
  {
   "cell_type": "code",
   "execution_count": null,
   "id": "e1296d86-0b78-443e-b3bc-9f4277a572f2",
   "metadata": {},
   "outputs": [],
   "source": []
  },
  {
   "cell_type": "code",
   "execution_count": null,
   "id": "c9bbca5a-2858-4d7d-af58-0889a92a8942",
   "metadata": {},
   "outputs": [],
   "source": [
    "'''\n",
    "# Sanity check-\n",
    "train_loss, kl_train_loss, recon_train_loss = train_one_epoch(\n",
    "    model = model, dataloader = train_loader,\n",
    "    alpha = 1\n",
    ")\n",
    "'''"
   ]
  },
  {
   "cell_type": "code",
   "execution_count": null,
   "id": "53f5a60e-5553-4d7c-9948-e7b326f4edb6",
   "metadata": {},
   "outputs": [],
   "source": [
    "'''\n",
    "val_loss, val_kl_loss, val_recon_loss = validate_one_epoch(\n",
    "    model = model, dataloader = test_loader,\n",
    "    alpha = 1\n",
    ")\n",
    "'''"
   ]
  },
  {
   "cell_type": "code",
   "execution_count": null,
   "id": "e6fd568f-cc24-4e40-8c42-9b2841d83182",
   "metadata": {},
   "outputs": [],
   "source": [
    "'''\n",
    "print(f\"After one epoch: train loss = {train_loss:.4f}, recon loss = {recon_train_loss:.4f}\"\n",
    "      f\" & kl-div loss = {kl_train_loss:.4f}\"\n",
    "     )\n",
    "'''"
   ]
  },
  {
   "cell_type": "code",
   "execution_count": null,
   "id": "4873ff07-effb-402a-a731-0ec3af9f62cf",
   "metadata": {},
   "outputs": [],
   "source": [
    "'''\n",
    "print(f\"After one epoch: val train loss = {val_loss:.4f}, val recon loss = {val_recon_loss:.4f}\"\n",
    "      f\" & val kl-div loss = {val_kl_loss:.4f}\"\n",
    "     )\n",
    "'''"
   ]
  },
  {
   "cell_type": "code",
   "execution_count": null,
   "id": "2a21a697-feda-4eea-bd8c-875442ca5322",
   "metadata": {},
   "outputs": [],
   "source": []
  },
  {
   "cell_type": "code",
   "execution_count": null,
   "id": "54648c05-3d69-4e5e-8770-196e966574f8",
   "metadata": {},
   "outputs": [],
   "source": []
  },
  {
   "cell_type": "markdown",
   "id": "ed088246-0263-4d4b-815d-78900045110c",
   "metadata": {},
   "source": [
    "### Train VAE model "
   ]
  },
  {
   "cell_type": "markdown",
   "id": "422c47ac-bdb7-4859-aa1b-47d501024784",
   "metadata": {},
   "source": [
    "#### _alpha_ hyper-parameter\n",
    "\n",
    "- For LeNet5 CNN, ```alpha = 1``` did not result into __vanishing KL-divergence problem__!\n",
    "\n",
    "- But, for LeNet-300-100 dense neural network, ```alpha = 1``` results into the __vanishing KL-divergence problem__!\n",
    "\n",
    "- To fix this, choose appropriate value of ```alpha``` with hyper-parameter tuning and/or heuristic experiments."
   ]
  },
  {
   "cell_type": "code",
   "execution_count": 76,
   "id": "52afd351-f408-471d-b7cd-37af0630ed0f",
   "metadata": {},
   "outputs": [],
   "source": [
    "# Initialize a VAE objetc-\n",
    "model = VAE_Dense(latent_space = 3).to(device)"
   ]
  },
  {
   "cell_type": "code",
   "execution_count": 77,
   "id": "5a903f9a-5478-4ea3-8a8e-498d1726b3d3",
   "metadata": {},
   "outputs": [],
   "source": [
    "# Save trained VAE model's weights-\n",
    "torch.save(model.state_dict(), 'VAE_LeNet300_MNIST_Random_Weights.pth')"
   ]
  },
  {
   "cell_type": "code",
   "execution_count": null,
   "id": "2c72bd30-aa1f-4bd3-9750-880062140396",
   "metadata": {},
   "outputs": [],
   "source": [
    "# Load trained weights from before-\n",
    "# loaded_model = VAE_Dense(latent_space = 3).to(device)\n",
    "# loaded_model.load_state_dict(torch.load(VAE_LeNet300_MNIST_Random_Weights.pth', map_location = torch.device('cpu')))"
   ]
  },
  {
   "cell_type": "code",
   "execution_count": null,
   "id": "61c36626-0046-4758-a3de-74237619ad66",
   "metadata": {},
   "outputs": [],
   "source": []
  },
  {
   "cell_type": "code",
   "execution_count": 76,
   "id": "211f1230-dc78-4fb2-8d7d-a4638d45ac9b",
   "metadata": {},
   "outputs": [],
   "source": [
    "# Specify alpha - Hyperparameter to control the importance of reconstruction\n",
    "# loss vs KL-Divergence Loss-\n",
    "alpha = 28 * 28"
   ]
  },
  {
   "cell_type": "code",
   "execution_count": null,
   "id": "08cc7665-8649-4bdf-b960-2aff762e5440",
   "metadata": {},
   "outputs": [],
   "source": []
  },
  {
   "cell_type": "code",
   "execution_count": 77,
   "id": "7590d624-d225-41f0-bf7b-d331077ce12a",
   "metadata": {},
   "outputs": [],
   "source": [
    "# Python dict to contain training metrics-\n",
    "train_history = {}"
   ]
  },
  {
   "cell_type": "code",
   "execution_count": null,
   "id": "7209bcf3-db27-4942-a5b9-00663432a784",
   "metadata": {},
   "outputs": [],
   "source": []
  },
  {
   "cell_type": "code",
   "execution_count": 78,
   "id": "82769bb9-af9c-4c44-bb0d-74348e529f80",
   "metadata": {},
   "outputs": [
    {
     "name": "stdout",
     "output_type": "stream",
     "text": [
      "Training VAE model for 50 epochs\n"
     ]
    }
   ],
   "source": [
    "print(f\"Training VAE model for {num_epochs} epochs\")"
   ]
  },
  {
   "cell_type": "code",
   "execution_count": null,
   "id": "ba060fbd-f507-4d6c-8112-744b7e7e5f0f",
   "metadata": {},
   "outputs": [],
   "source": []
  },
  {
   "cell_type": "code",
   "execution_count": null,
   "id": "b18c02b8-638b-4378-8ee2-fae264a56056",
   "metadata": {},
   "outputs": [],
   "source": [
    "# Initialize parameters for Early Stopping manual implementation-\n",
    "# best_val_loss = 10000\n",
    "# loc_patience = 0"
   ]
  },
  {
   "cell_type": "code",
   "execution_count": null,
   "id": "e85b6c94-07ea-47f9-a44b-b44c2f1fa3af",
   "metadata": {},
   "outputs": [],
   "source": [
    "# User input parameters for Early Stopping in manual implementation-\n",
    "# minimum_delta = 0.001\n",
    "# patience = 3"
   ]
  },
  {
   "cell_type": "code",
   "execution_count": null,
   "id": "aae4639f-9c8f-43d2-a211-9a2a574800eb",
   "metadata": {},
   "outputs": [],
   "source": []
  },
  {
   "cell_type": "code",
   "execution_count": null,
   "id": "2a7dbfa1-beb2-4dd1-bc75-3011aaea6a4c",
   "metadata": {},
   "outputs": [],
   "source": []
  },
  {
   "cell_type": "code",
   "execution_count": 79,
   "id": "43d999c0-420f-419c-ab92-851ac952769c",
   "metadata": {},
   "outputs": [
    {
     "name": "stderr",
     "output_type": "stream",
     "text": [
      "938it [00:03, 301.93it/s]                                                                                              \n",
      "157it [00:00, 981.03it/s]                                                                                              \n"
     ]
    },
    {
     "name": "stdout",
     "output_type": "stream",
     "text": [
      "Epoch = 1; train loss = 481.4621 , kl-loss = 1.2966, recon loss = 0.6125 , val loss = 397.5299, val kl-loss = 1.4092  & val recon loss = 0.5053\n"
     ]
    },
    {
     "name": "stderr",
     "output_type": "stream",
     "text": [
      "938it [00:02, 319.08it/s]                                                                                              \n",
      "157it [00:00, 1019.25it/s]                                                                                             \n"
     ]
    },
    {
     "name": "stdout",
     "output_type": "stream",
     "text": [
      "Epoch = 2; train loss = 372.5717 , kl-loss = 1.3505, recon loss = 0.4735 , val loss = 356.8796, val kl-loss = 1.2537  & val recon loss = 0.4536\n"
     ]
    },
    {
     "name": "stderr",
     "output_type": "stream",
     "text": [
      "938it [00:03, 309.50it/s]                                                                                              \n",
      "157it [00:00, 896.94it/s]                                                                                              \n"
     ]
    },
    {
     "name": "stdout",
     "output_type": "stream",
     "text": [
      "Epoch = 3; train loss = 345.9315 , kl-loss = 1.2029, recon loss = 0.4397 , val loss = 337.5854, val kl-loss = 1.1823  & val recon loss = 0.4291\n"
     ]
    },
    {
     "name": "stderr",
     "output_type": "stream",
     "text": [
      "938it [00:03, 248.73it/s]                                                                                              \n",
      "157it [00:00, 800.84it/s]                                                                                              \n"
     ]
    },
    {
     "name": "stdout",
     "output_type": "stream",
     "text": [
      "Epoch = 4; train loss = 331.5108 , kl-loss = 1.1131, recon loss = 0.4214 , val loss = 327.9907, val kl-loss = 1.0563  & val recon loss = 0.4170\n"
     ]
    },
    {
     "name": "stderr",
     "output_type": "stream",
     "text": [
      "938it [00:03, 289.30it/s]                                                                                              \n",
      "157it [00:00, 488.99it/s]                                                                                              \n"
     ]
    },
    {
     "name": "stdout",
     "output_type": "stream",
     "text": [
      "Epoch = 5; train loss = 322.4081 , kl-loss = 1.0327, recon loss = 0.4099 , val loss = 320.7483, val kl-loss = 0.9350  & val recon loss = 0.4079\n"
     ]
    },
    {
     "name": "stderr",
     "output_type": "stream",
     "text": [
      "938it [00:03, 291.30it/s]                                                                                              \n",
      "157it [00:00, 962.98it/s]                                                                                              \n"
     ]
    },
    {
     "name": "stdout",
     "output_type": "stream",
     "text": [
      "Epoch = 6; train loss = 315.8823 , kl-loss = 0.9516, recon loss = 0.4017 , val loss = 317.1561, val kl-loss = 0.9120  & val recon loss = 0.4034\n"
     ]
    },
    {
     "name": "stderr",
     "output_type": "stream",
     "text": [
      "938it [00:03, 292.68it/s]                                                                                              \n",
      "157it [00:00, 902.09it/s]                                                                                              \n"
     ]
    },
    {
     "name": "stdout",
     "output_type": "stream",
     "text": [
      "Epoch = 7; train loss = 310.7653 , kl-loss = 0.8944, recon loss = 0.3952 , val loss = 312.6617, val kl-loss = 0.8490  & val recon loss = 0.3977\n"
     ]
    },
    {
     "name": "stderr",
     "output_type": "stream",
     "text": [
      "938it [00:03, 254.58it/s]                                                                                              \n",
      "157it [00:00, 733.85it/s]                                                                                              \n"
     ]
    },
    {
     "name": "stdout",
     "output_type": "stream",
     "text": [
      "Epoch = 8; train loss = 306.7767 , kl-loss = 0.8497, recon loss = 0.3902 , val loss = 309.4021, val kl-loss = 0.8235  & val recon loss = 0.3936\n"
     ]
    },
    {
     "name": "stderr",
     "output_type": "stream",
     "text": [
      "938it [00:03, 293.89it/s]                                                                                              \n",
      "157it [00:00, 962.97it/s]                                                                                              \n"
     ]
    },
    {
     "name": "stdout",
     "output_type": "stream",
     "text": [
      "Epoch = 9; train loss = 303.0000 , kl-loss = 0.8096, recon loss = 0.3854 , val loss = 306.9666, val kl-loss = 0.7542  & val recon loss = 0.3906\n"
     ]
    },
    {
     "name": "stderr",
     "output_type": "stream",
     "text": [
      "938it [00:03, 274.85it/s]                                                                                              \n",
      "157it [00:00, 713.45it/s]                                                                                              \n"
     ]
    },
    {
     "name": "stdout",
     "output_type": "stream",
     "text": [
      "Epoch = 10; train loss = 300.3059 , kl-loss = 0.7794, recon loss = 0.3820 , val loss = 304.6019, val kl-loss = 0.7386  & val recon loss = 0.3876\n"
     ]
    },
    {
     "name": "stderr",
     "output_type": "stream",
     "text": [
      "938it [00:03, 289.64it/s]                                                                                              \n",
      "157it [00:00, 856.65it/s]                                                                                              \n"
     ]
    },
    {
     "name": "stdout",
     "output_type": "stream",
     "text": [
      "Epoch = 11; train loss = 297.8953 , kl-loss = 0.7514, recon loss = 0.3790 , val loss = 303.3437, val kl-loss = 0.7173  & val recon loss = 0.3860\n"
     ]
    },
    {
     "name": "stderr",
     "output_type": "stream",
     "text": [
      "938it [00:03, 278.48it/s]                                                                                              \n",
      "157it [00:00, 968.91it/s]                                                                                              \n"
     ]
    },
    {
     "name": "stdout",
     "output_type": "stream",
     "text": [
      "Epoch = 12; train loss = 295.3636 , kl-loss = 0.7339, recon loss = 0.3758 , val loss = 302.3492, val kl-loss = 0.6901  & val recon loss = 0.3848\n"
     ]
    },
    {
     "name": "stderr",
     "output_type": "stream",
     "text": [
      "938it [00:03, 288.43it/s]                                                                                              \n",
      "157it [00:00, 720.02it/s]                                                                                              \n"
     ]
    },
    {
     "name": "stdout",
     "output_type": "stream",
     "text": [
      "Epoch = 13; train loss = 293.4916 , kl-loss = 0.7236, recon loss = 0.3734 , val loss = 301.5064, val kl-loss = 0.7207  & val recon loss = 0.3837\n"
     ]
    },
    {
     "name": "stderr",
     "output_type": "stream",
     "text": [
      "938it [00:03, 296.88it/s]                                                                                              \n",
      "157it [00:00, 934.31it/s]                                                                                              \n"
     ]
    },
    {
     "name": "stdout",
     "output_type": "stream",
     "text": [
      "Epoch = 14; train loss = 291.4550 , kl-loss = 0.7028, recon loss = 0.3709 , val loss = 298.2057, val kl-loss = 0.6763  & val recon loss = 0.3795\n"
     ]
    },
    {
     "name": "stderr",
     "output_type": "stream",
     "text": [
      "938it [00:03, 287.95it/s]                                                                                              \n",
      "157it [00:00, 761.96it/s]                                                                                              \n"
     ]
    },
    {
     "name": "stdout",
     "output_type": "stream",
     "text": [
      "Epoch = 15; train loss = 289.6307 , kl-loss = 0.6867, recon loss = 0.3686 , val loss = 297.8306, val kl-loss = 0.6649  & val recon loss = 0.3790\n"
     ]
    },
    {
     "name": "stderr",
     "output_type": "stream",
     "text": [
      "938it [00:03, 289.93it/s]                                                                                              \n",
      "157it [00:00, 907.31it/s]                                                                                              \n"
     ]
    },
    {
     "name": "stdout",
     "output_type": "stream",
     "text": [
      "Epoch = 16; train loss = 288.2365 , kl-loss = 0.6774, recon loss = 0.3668 , val loss = 295.7163, val kl-loss = 0.6452  & val recon loss = 0.3764\n"
     ]
    },
    {
     "name": "stderr",
     "output_type": "stream",
     "text": [
      "938it [00:03, 287.26it/s]                                                                                              \n",
      "157it [00:00, 896.94it/s]                                                                                              \n"
     ]
    },
    {
     "name": "stdout",
     "output_type": "stream",
     "text": [
      "Epoch = 17; train loss = 286.6049 , kl-loss = 0.6629, recon loss = 0.3647 , val loss = 295.4102, val kl-loss = 0.6387  & val recon loss = 0.3760\n"
     ]
    },
    {
     "name": "stderr",
     "output_type": "stream",
     "text": [
      "938it [00:03, 269.82it/s]                                                                                              \n",
      "157it [00:00, 934.32it/s]                                                                                              \n"
     ]
    },
    {
     "name": "stdout",
     "output_type": "stream",
     "text": [
      "Epoch = 18; train loss = 285.1541 , kl-loss = 0.6511, recon loss = 0.3629 , val loss = 293.4317, val kl-loss = 0.6356  & val recon loss = 0.3735\n"
     ]
    },
    {
     "name": "stderr",
     "output_type": "stream",
     "text": [
      "938it [00:03, 280.51it/s]                                                                                              \n",
      "157it [00:00, 962.97it/s]                                                                                              \n"
     ]
    },
    {
     "name": "stdout",
     "output_type": "stream",
     "text": [
      "Epoch = 19; train loss = 284.3421 , kl-loss = 0.6421, recon loss = 0.3619 , val loss = 292.9355, val kl-loss = 0.6157  & val recon loss = 0.3729\n"
     ]
    },
    {
     "name": "stderr",
     "output_type": "stream",
     "text": [
      "938it [00:03, 278.94it/s]                                                                                              \n",
      "157it [00:00, 976.15it/s]                                                                                              \n"
     ]
    },
    {
     "name": "stdout",
     "output_type": "stream",
     "text": [
      "Epoch = 20; train loss = 282.7154 , kl-loss = 0.6332, recon loss = 0.3598 , val loss = 292.6961, val kl-loss = 0.6057  & val recon loss = 0.3726\n"
     ]
    },
    {
     "name": "stderr",
     "output_type": "stream",
     "text": [
      "938it [00:03, 279.12it/s]                                                                                              \n",
      "157it [00:00, 945.57it/s]                                                                                              \n"
     ]
    },
    {
     "name": "stdout",
     "output_type": "stream",
     "text": [
      "Epoch = 21; train loss = 281.6745 , kl-loss = 0.6254, recon loss = 0.3585 , val loss = 291.9045, val kl-loss = 0.5900  & val recon loss = 0.3716\n"
     ]
    },
    {
     "name": "stderr",
     "output_type": "stream",
     "text": [
      "938it [00:03, 276.56it/s]                                                                                              \n",
      "157it [00:00, 699.66it/s]                                                                                              \n"
     ]
    },
    {
     "name": "stdout",
     "output_type": "stream",
     "text": [
      "Epoch = 22; train loss = 280.7073 , kl-loss = 0.6185, recon loss = 0.3573 , val loss = 292.8337, val kl-loss = 0.6059  & val recon loss = 0.3727\n"
     ]
    },
    {
     "name": "stderr",
     "output_type": "stream",
     "text": [
      "938it [00:03, 290.35it/s]                                                                                              \n",
      "157it [00:00, 912.59it/s]                                                                                              \n"
     ]
    },
    {
     "name": "stdout",
     "output_type": "stream",
     "text": [
      "Epoch = 23; train loss = 279.8470 , kl-loss = 0.6116, recon loss = 0.3562 , val loss = 290.2334, val kl-loss = 0.5940  & val recon loss = 0.3694\n"
     ]
    },
    {
     "name": "stderr",
     "output_type": "stream",
     "text": [
      "938it [00:03, 281.30it/s]                                                                                              \n",
      "157it [00:00, 737.81it/s]                                                                                              \n"
     ]
    },
    {
     "name": "stdout",
     "output_type": "stream",
     "text": [
      "Epoch = 24; train loss = 279.0679 , kl-loss = 0.6077, recon loss = 0.3552 , val loss = 291.5391, val kl-loss = 0.5739  & val recon loss = 0.3711\n"
     ]
    },
    {
     "name": "stderr",
     "output_type": "stream",
     "text": [
      "938it [00:03, 293.88it/s]                                                                                              \n",
      "157it [00:00, 928.78it/s]                                                                                              \n"
     ]
    },
    {
     "name": "stdout",
     "output_type": "stream",
     "text": [
      "Epoch = 25; train loss = 278.1673 , kl-loss = 0.5950, recon loss = 0.3540 , val loss = 290.3105, val kl-loss = 0.5797  & val recon loss = 0.3696\n"
     ]
    },
    {
     "name": "stderr",
     "output_type": "stream",
     "text": [
      "938it [00:03, 286.48it/s]                                                                                              \n",
      "157it [00:00, 821.80it/s]                                                                                              \n"
     ]
    },
    {
     "name": "stdout",
     "output_type": "stream",
     "text": [
      "Epoch = 26; train loss = 277.5552 , kl-loss = 0.5968, recon loss = 0.3533 , val loss = 289.5265, val kl-loss = 0.5668  & val recon loss = 0.3686\n"
     ]
    },
    {
     "name": "stderr",
     "output_type": "stream",
     "text": [
      "938it [00:03, 290.65it/s]                                                                                              \n",
      "157it [00:00, 939.91it/s]                                                                                              \n"
     ]
    },
    {
     "name": "stdout",
     "output_type": "stream",
     "text": [
      "Epoch = 27; train loss = 276.3813 , kl-loss = 0.5881, recon loss = 0.3518 , val loss = 289.2230, val kl-loss = 0.5547  & val recon loss = 0.3682\n"
     ]
    },
    {
     "name": "stderr",
     "output_type": "stream",
     "text": [
      "938it [00:03, 284.61it/s]                                                                                              \n",
      "157it [00:00, 902.10it/s]                                                                                              \n"
     ]
    },
    {
     "name": "stdout",
     "output_type": "stream",
     "text": [
      "Epoch = 28; train loss = 275.5168 , kl-loss = 0.5824, recon loss = 0.3507 , val loss = 289.2921, val kl-loss = 0.5714  & val recon loss = 0.3683\n"
     ]
    },
    {
     "name": "stderr",
     "output_type": "stream",
     "text": [
      "938it [00:03, 280.34it/s]                                                                                              \n",
      "157it [00:00, 800.84it/s]                                                                                              \n"
     ]
    },
    {
     "name": "stdout",
     "output_type": "stream",
     "text": [
      "Epoch = 29; train loss = 274.8191 , kl-loss = 0.5795, recon loss = 0.3498 , val loss = 289.8854, val kl-loss = 0.5520  & val recon loss = 0.3690\n"
     ]
    },
    {
     "name": "stderr",
     "output_type": "stream",
     "text": [
      "938it [00:03, 278.89it/s]                                                                                              \n",
      "157it [00:00, 843.90it/s]                                                                                              \n"
     ]
    },
    {
     "name": "stdout",
     "output_type": "stream",
     "text": [
      "Epoch = 30; train loss = 274.2736 , kl-loss = 0.5721, recon loss = 0.3491 , val loss = 289.3956, val kl-loss = 0.5479  & val recon loss = 0.3684\n"
     ]
    },
    {
     "name": "stderr",
     "output_type": "stream",
     "text": [
      "938it [00:03, 266.99it/s]                                                                                              \n",
      "157it [00:00, 945.57it/s]                                                                                              \n"
     ]
    },
    {
     "name": "stdout",
     "output_type": "stream",
     "text": [
      "Epoch = 31; train loss = 273.7486 , kl-loss = 0.5701, recon loss = 0.3484 , val loss = 288.6970, val kl-loss = 0.5408  & val recon loss = 0.3675\n"
     ]
    },
    {
     "name": "stderr",
     "output_type": "stream",
     "text": [
      "938it [00:03, 263.42it/s]                                                                                              \n",
      "157it [00:00, 912.58it/s]                                                                                              \n"
     ]
    },
    {
     "name": "stdout",
     "output_type": "stream",
     "text": [
      "Epoch = 32; train loss = 273.2456 , kl-loss = 0.5637, recon loss = 0.3478 , val loss = 288.5041, val kl-loss = 0.5475  & val recon loss = 0.3673\n"
     ]
    },
    {
     "name": "stderr",
     "output_type": "stream",
     "text": [
      "938it [00:03, 268.58it/s]                                                                                              \n",
      "157it [00:00, 703.87it/s]                                                                                              \n"
     ]
    },
    {
     "name": "stdout",
     "output_type": "stream",
     "text": [
      "Epoch = 33; train loss = 272.6459 , kl-loss = 0.5612, recon loss = 0.3470 , val loss = 288.9095, val kl-loss = 0.5346  & val recon loss = 0.3678\n"
     ]
    },
    {
     "name": "stderr",
     "output_type": "stream",
     "text": [
      "938it [00:03, 273.47it/s]                                                                                              \n",
      "157it [00:00, 999.78it/s]                                                                                              \n"
     ]
    },
    {
     "name": "stdout",
     "output_type": "stream",
     "text": [
      "Epoch = 34; train loss = 272.1348 , kl-loss = 0.5566, recon loss = 0.3464 , val loss = 288.5462, val kl-loss = 0.5359  & val recon loss = 0.3674\n"
     ]
    },
    {
     "name": "stderr",
     "output_type": "stream",
     "text": [
      "938it [00:03, 268.14it/s]                                                                                              \n",
      "157it [00:00, 968.91it/s]                                                                                              \n"
     ]
    },
    {
     "name": "stdout",
     "output_type": "stream",
     "text": [
      "Epoch = 35; train loss = 271.4749 , kl-loss = 0.5531, recon loss = 0.3456 , val loss = 287.8767, val kl-loss = 0.5297  & val recon loss = 0.3665\n"
     ]
    },
    {
     "name": "stderr",
     "output_type": "stream",
     "text": [
      "938it [00:03, 273.90it/s]                                                                                              \n",
      "157it [00:00, 754.63it/s]                                                                                              \n"
     ]
    },
    {
     "name": "stdout",
     "output_type": "stream",
     "text": [
      "Epoch = 36; train loss = 270.6159 , kl-loss = 0.5484, recon loss = 0.3445 , val loss = 286.6024, val kl-loss = 0.5334  & val recon loss = 0.3649\n"
     ]
    },
    {
     "name": "stderr",
     "output_type": "stream",
     "text": [
      "938it [00:03, 267.53it/s]                                                                                              \n",
      "157it [00:00, 934.31it/s]                                                                                              \n"
     ]
    },
    {
     "name": "stdout",
     "output_type": "stream",
     "text": [
      "Epoch = 37; train loss = 270.2494 , kl-loss = 0.5465, recon loss = 0.3440 , val loss = 287.0680, val kl-loss = 0.5244  & val recon loss = 0.3655\n"
     ]
    },
    {
     "name": "stderr",
     "output_type": "stream",
     "text": [
      "938it [00:03, 285.70it/s]                                                                                              \n",
      "157it [00:00, 934.30it/s]                                                                                              \n"
     ]
    },
    {
     "name": "stdout",
     "output_type": "stream",
     "text": [
      "Epoch = 38; train loss = 270.0238 , kl-loss = 0.5405, recon loss = 0.3437 , val loss = 287.8359, val kl-loss = 0.5235  & val recon loss = 0.3665\n"
     ]
    },
    {
     "name": "stderr",
     "output_type": "stream",
     "text": [
      "938it [00:03, 287.25it/s]                                                                                              \n",
      "157it [00:00, 962.97it/s]                                                                                              \n"
     ]
    },
    {
     "name": "stdout",
     "output_type": "stream",
     "text": [
      "Epoch = 39; train loss = 269.0550 , kl-loss = 0.5395, recon loss = 0.3425 , val loss = 286.6843, val kl-loss = 0.5322  & val recon loss = 0.3650\n"
     ]
    },
    {
     "name": "stderr",
     "output_type": "stream",
     "text": [
      "938it [00:03, 272.39it/s]                                                                                              \n",
      "157it [00:00, 957.10it/s]                                                                                              \n"
     ]
    },
    {
     "name": "stdout",
     "output_type": "stream",
     "text": [
      "Epoch = 40; train loss = 268.6615 , kl-loss = 0.5425, recon loss = 0.3420 , val loss = 286.4858, val kl-loss = 0.5265  & val recon loss = 0.3647\n"
     ]
    },
    {
     "name": "stderr",
     "output_type": "stream",
     "text": [
      "938it [00:03, 280.01it/s]                                                                                              \n",
      "157it [00:00, 876.90it/s]                                                                                              \n"
     ]
    },
    {
     "name": "stdout",
     "output_type": "stream",
     "text": [
      "Epoch = 41; train loss = 268.3061 , kl-loss = 0.5354, recon loss = 0.3415 , val loss = 287.8109, val kl-loss = 0.5206  & val recon loss = 0.3664\n"
     ]
    },
    {
     "name": "stderr",
     "output_type": "stream",
     "text": [
      "938it [00:03, 262.83it/s]                                                                                              \n",
      "157it [00:00, 876.90it/s]                                                                                              \n"
     ]
    },
    {
     "name": "stdout",
     "output_type": "stream",
     "text": [
      "Epoch = 42; train loss = 268.1376 , kl-loss = 0.5362, recon loss = 0.3413 , val loss = 286.7589, val kl-loss = 0.5271  & val recon loss = 0.3651\n"
     ]
    },
    {
     "name": "stderr",
     "output_type": "stream",
     "text": [
      "938it [00:03, 280.98it/s]                                                                                              \n",
      "157it [00:00, 886.80it/s]                                                                                              \n"
     ]
    },
    {
     "name": "stdout",
     "output_type": "stream",
     "text": [
      "Epoch = 43; train loss = 267.5880 , kl-loss = 0.5345, recon loss = 0.3406 , val loss = 287.1043, val kl-loss = 0.5221  & val recon loss = 0.3655\n"
     ]
    },
    {
     "name": "stderr",
     "output_type": "stream",
     "text": [
      "938it [00:03, 270.85it/s]                                                                                              \n",
      "157it [00:00, 773.22it/s]                                                                                              \n"
     ]
    },
    {
     "name": "stdout",
     "output_type": "stream",
     "text": [
      "Epoch = 44; train loss = 267.1992 , kl-loss = 0.5313, recon loss = 0.3401 , val loss = 287.2163, val kl-loss = 0.5165  & val recon loss = 0.3657\n"
     ]
    },
    {
     "name": "stderr",
     "output_type": "stream",
     "text": [
      "938it [00:03, 293.06it/s]                                                                                              \n",
      "157it [00:00, 804.95it/s]                                                                                              \n"
     ]
    },
    {
     "name": "stdout",
     "output_type": "stream",
     "text": [
      "Epoch = 45; train loss = 266.6440 , kl-loss = 0.5300, recon loss = 0.3394 , val loss = 286.2481, val kl-loss = 0.5239  & val recon loss = 0.3644\n"
     ]
    },
    {
     "name": "stderr",
     "output_type": "stream",
     "text": [
      "938it [00:03, 274.24it/s]                                                                                              \n",
      "157it [00:00, 912.59it/s]                                                                                              \n"
     ]
    },
    {
     "name": "stdout",
     "output_type": "stream",
     "text": [
      "Epoch = 46; train loss = 266.4242 , kl-loss = 0.5272, recon loss = 0.3392 , val loss = 285.9616, val kl-loss = 0.5080  & val recon loss = 0.3641\n"
     ]
    },
    {
     "name": "stderr",
     "output_type": "stream",
     "text": [
      "938it [00:03, 288.86it/s]                                                                                              \n",
      "157it [00:00, 826.13it/s]                                                                                              \n"
     ]
    },
    {
     "name": "stdout",
     "output_type": "stream",
     "text": [
      "Epoch = 47; train loss = 265.9534 , kl-loss = 0.5248, recon loss = 0.3386 , val loss = 285.8030, val kl-loss = 0.5132  & val recon loss = 0.3639\n"
     ]
    },
    {
     "name": "stderr",
     "output_type": "stream",
     "text": [
      "938it [00:03, 292.09it/s]                                                                                              \n",
      "157it [00:00, 665.11it/s]                                                                                              \n"
     ]
    },
    {
     "name": "stdout",
     "output_type": "stream",
     "text": [
      "Epoch = 48; train loss = 265.3540 , kl-loss = 0.5254, recon loss = 0.3378 , val loss = 287.2914, val kl-loss = 0.5110  & val recon loss = 0.3658\n"
     ]
    },
    {
     "name": "stderr",
     "output_type": "stream",
     "text": [
      "938it [00:04, 188.38it/s]                                                                                              \n",
      "157it [00:00, 974.93it/s]                                                                                              \n"
     ]
    },
    {
     "name": "stdout",
     "output_type": "stream",
     "text": [
      "Epoch = 49; train loss = 265.1163 , kl-loss = 0.5259, recon loss = 0.3375 , val loss = 286.2323, val kl-loss = 0.5152  & val recon loss = 0.3644\n"
     ]
    },
    {
     "name": "stderr",
     "output_type": "stream",
     "text": [
      "938it [00:03, 298.09it/s]                                                                                              \n",
      "157it [00:00, 853.07it/s]                                                                                              "
     ]
    },
    {
     "name": "stdout",
     "output_type": "stream",
     "text": [
      "Epoch = 50; train loss = 264.9378 , kl-loss = 0.5256, recon loss = 0.3373 , val loss = 285.6771, val kl-loss = 0.5098  & val recon loss = 0.3637\n"
     ]
    },
    {
     "name": "stderr",
     "output_type": "stream",
     "text": [
      "\n"
     ]
    }
   ],
   "source": [
    "for epoch in range(1, num_epochs + 1):\n",
    "    '''\n",
    "    # Manual early stopping implementation-\n",
    "    if loc_patience >= patience:\n",
    "        print(\"\\n'EarlyStopping' called!\\n\")\n",
    "        break\n",
    "    '''\n",
    "    \n",
    "    # Train model for 1 epoch-\n",
    "    train_loss, kl_train_loss, recon_train_loss = train_one_epoch(\n",
    "        model = model, dataloader = train_loader,\n",
    "        alpha = alpha\n",
    "    )\n",
    "    \n",
    "    # Get validation after 1 epoch-\n",
    "    val_loss, val_kl_loss, val_recon_loss = validate_one_epoch(\n",
    "        model = model, dataloader = test_loader,\n",
    "        alpha = alpha\n",
    "    )\n",
    "    \n",
    "    # Store model performance metrics in Python3 dict-\n",
    "    train_history[epoch] = {\n",
    "        'train_loss': train_loss,\n",
    "        'train_recon_loss': kl_train_loss,\n",
    "        'train_kl_loss': kl_train_loss,\n",
    "        'val_loss': val_loss,\n",
    "        'val_recon_loss': val_recon_loss,\n",
    "        'val_kl_loss': val_kl_loss\n",
    "    }\n",
    "    \n",
    "    print(f\"Epoch = {epoch}; train loss = {train_loss:.4f}\",\n",
    "          f\", kl-loss = {kl_train_loss:.4f}, recon loss = {recon_train_loss:.4f}\",\n",
    "          f\", val loss = {val_loss:.4f}, val kl-loss = {val_kl_loss:.4f}\",\n",
    "          f\" & val recon loss = {val_recon_loss:.4f}\"\n",
    "         )\n",
    "    \n",
    "    '''\n",
    "    # Code for manual Early Stopping:\n",
    "    if (val_epoch_loss < best_val_loss) and \\\n",
    "    (np.abs(val_epoch_loss - best_val_loss) >= minimum_delta):\n",
    "\n",
    "        # update 'best_val_loss' variable to lowest loss encountered so far-\n",
    "        best_val_loss = val_loss\n",
    "        \n",
    "        # reset 'loc_patience' variable-\n",
    "        loc_patience = 0\n",
    "\n",
    "        print(f\"Saving model with lowest val_loss = {val_loss:.4f}\\n\")\n",
    "        \n",
    "        # Save trained model with 'best' validation accuracy-\n",
    "        torch.save(model.state_dict(), \"VAE_LeNet5_MNIST_best_model.pth\")\n",
    "        \n",
    "    else:  # there is no improvement in monitored metric 'val_loss'\n",
    "        loc_patience += 1  # number of epochs without any improvement\n",
    "    '''\n",
    "    \n",
    "    "
   ]
  },
  {
   "cell_type": "code",
   "execution_count": null,
   "id": "b302b205-eb78-4cbe-8c2e-1fe22a029466",
   "metadata": {},
   "outputs": [],
   "source": []
  },
  {
   "cell_type": "code",
   "execution_count": null,
   "id": "aa16d6b9-b60c-49b3-ad26-72430e25214d",
   "metadata": {},
   "outputs": [],
   "source": []
  },
  {
   "cell_type": "markdown",
   "id": "77f80299-57ab-4d7e-9d67-58ed5481a263",
   "metadata": {},
   "source": [
    "### Visualize Training metrics"
   ]
  },
  {
   "cell_type": "code",
   "execution_count": 80,
   "id": "b0c18cb1-28b4-4da6-8e93-296064f59691",
   "metadata": {},
   "outputs": [
    {
     "data": {
      "image/png": "[encoded data removed]",
      "text/plain": [
       "<Figure size 648x576 with 1 Axes>"
      ]
     },
     "metadata": {
      "needs_background": "light"
     },
     "output_type": "display_data"
    }
   ],
   "source": [
    "plt.figure(figsize = (9, 8))\n",
    "plt.plot([train_history[e]['train_loss'] for e in train_history.keys()], label = 'train_loss')\n",
    "plt.plot([train_history[e]['val_loss'] for e in train_history.keys()], label = 'val_loss')\n",
    "plt.xlabel(\"epochs\")\n",
    "plt.ylabel(\"loss\")\n",
    "plt.legend(loc = 'best')\n",
    "plt.title(\"VAE Training: Total Loss\")\n",
    "plt.show()"
   ]
  },
  {
   "cell_type": "code",
   "execution_count": 81,
   "id": "fdba47be-7cd2-490f-8938-d4caaaf12160",
   "metadata": {},
   "outputs": [
    {
     "data": {
      "image/png": "[encoded data removed]",
      "text/plain": [
       "<Figure size 648x576 with 1 Axes>"
      ]
     },
     "metadata": {
      "needs_background": "light"
     },
     "output_type": "display_data"
    }
   ],
   "source": [
    "plt.figure(figsize = (9, 8))\n",
    "plt.plot([train_history[e]['train_recon_loss'] for e in train_history.keys()], label = 'train_recon_loss')\n",
    "plt.xlabel(\"epochs\")\n",
    "plt.ylabel(\"loss\")\n",
    "plt.legend(loc = 'best')\n",
    "plt.title(\"VAE Training: Reconstruction Loss\")\n",
    "plt.show()"
   ]
  },
  {
   "cell_type": "code",
   "execution_count": 82,
   "id": "1e89ef5e-0a90-4059-b9c3-b09f19ef5e88",
   "metadata": {},
   "outputs": [
    {
     "data": {
      "image/png": "[encoded data removed]",
      "text/plain": [
       "<Figure size 648x576 with 1 Axes>"
      ]
     },
     "metadata": {
      "needs_background": "light"
     },
     "output_type": "display_data"
    }
   ],
   "source": [
    "plt.figure(figsize = (9, 8))\n",
    "plt.plot([train_history[e]['val_recon_loss'] for e in train_history.keys()], label = 'val_recon_loss')\n",
    "plt.xlabel(\"epochs\")\n",
    "plt.ylabel(\"loss\")\n",
    "plt.legend(loc = 'best')\n",
    "plt.title(\"VAE Training: Reconstruction Loss\")\n",
    "plt.show()"
   ]
  },
  {
   "cell_type": "markdown",
   "id": "284beda7-4da1-444f-a189-760911758ca3",
   "metadata": {},
   "source": [
    "_Reconstruction loss_ has 2 plots since training and validation losses are on different scales."
   ]
  },
  {
   "cell_type": "code",
   "execution_count": null,
   "id": "ab330dd5-fe53-4fab-8921-e2682f7c6689",
   "metadata": {},
   "outputs": [],
   "source": []
  },
  {
   "cell_type": "code",
   "execution_count": 83,
   "id": "c1bc26cf-3950-4e50-8447-8d5980dfa7ba",
   "metadata": {},
   "outputs": [
    {
     "data": {
      "image/png": "[encoded data removed]",
      "text/plain": [
       "<Figure size 648x576 with 1 Axes>"
      ]
     },
     "metadata": {
      "needs_background": "light"
     },
     "output_type": "display_data"
    }
   ],
   "source": [
    "plt.figure(figsize = (9, 8))\n",
    "plt.plot([train_history[e]['train_kl_loss'] for e in train_history.keys()], label = 'train_kl_loss')\n",
    "plt.plot([train_history[e]['val_kl_loss'] for e in train_history.keys()], label = 'val_kl_loss')\n",
    "plt.xlabel(\"epochs\")\n",
    "plt.ylabel(\"loss\")\n",
    "plt.legend(loc = 'best')\n",
    "plt.title(\"VAE Training: KL-Divergence Loss\")\n",
    "plt.show()"
   ]
  },
  {
   "cell_type": "code",
   "execution_count": null,
   "id": "8554f789-f6fd-4f9c-af97-5c986a584cba",
   "metadata": {},
   "outputs": [],
   "source": []
  },
  {
   "cell_type": "code",
   "execution_count": null,
   "id": "30caef6a-81e4-4e16-9de1-1d4a13151207",
   "metadata": {},
   "outputs": [],
   "source": []
  },
  {
   "cell_type": "code",
   "execution_count": 84,
   "id": "75764321-d3dc-4690-ad80-43d8c147aa8c",
   "metadata": {},
   "outputs": [],
   "source": [
    "# Save trained VAE model's weights-\n",
    "torch.save(model.state_dict(), 'VAE_LeNet300_MNIST_Trained_Weights.pth')"
   ]
  },
  {
   "cell_type": "code",
   "execution_count": null,
   "id": "1b9d5e9d-523d-4187-9eb7-8689d0ca95a1",
   "metadata": {},
   "outputs": [],
   "source": [
    "# Load trained weights from before-\n",
    "# loaded_model = VAE_Dense(latent_space = 3).to(device)\n",
    "# loaded_model.load_state_dict(torch.load('VAE_LeNet300_MNIST_Trained_Weights.pth', map_location = torch.device('cpu')))"
   ]
  },
  {
   "cell_type": "code",
   "execution_count": null,
   "id": "a6135d86-7021-41bb-b3f3-11ceb52723f2",
   "metadata": {},
   "outputs": [],
   "source": [
    "# Define gradient descent optimizer-\n",
    "# optimizer = torch.optim.Adam(loaded_model.parameters(), lr = learning_rate)"
   ]
  },
  {
   "cell_type": "code",
   "execution_count": null,
   "id": "be206cd0-8d1a-445c-b51e-77f6c5ffe3e6",
   "metadata": {},
   "outputs": [],
   "source": []
  },
  {
   "cell_type": "code",
   "execution_count": 85,
   "id": "e71d59cf-6ed5-4385-8bec-da4a0a52d675",
   "metadata": {},
   "outputs": [],
   "source": [
    "import pickle\n",
    "\n",
    "# Save training history as pickle file-\n",
    "with open(\"VAE_LeNet300_MNIST_training_history.pkl\", \"wb\") as file:\n",
    "    pickle.dump(train_history, file)"
   ]
  },
  {
   "cell_type": "code",
   "execution_count": null,
   "id": "f32414c6-f56a-41a6-be95-6116b16152c2",
   "metadata": {},
   "outputs": [],
   "source": [
    "'''\n",
    "# Load training history from pickle file-\n",
    "with open(\"VAE_LeNet300_MNIST_training_history.pkl\", \"rb\") as file:\n",
    "    training_history_lr_scheduler = pickle.load(file)\n",
    "'''"
   ]
  },
  {
   "cell_type": "code",
   "execution_count": null,
   "id": "31810f61-6280-4b90-99c6-091b7b733bb6",
   "metadata": {},
   "outputs": [],
   "source": []
  },
  {
   "cell_type": "code",
   "execution_count": null,
   "id": "e200650d-1544-416c-95b3-b8f33bb4485d",
   "metadata": {},
   "outputs": [],
   "source": []
  },
  {
   "cell_type": "markdown",
   "id": "6b0eeef1-2a2d-457b-ae60-695ef7474263",
   "metadata": {},
   "source": [
    "### Reconstruct/Generate images using _trained_ VAE model"
   ]
  },
  {
   "cell_type": "code",
   "execution_count": 86,
   "id": "a84949bc-b2d1-49d8-9376-660f47c1d6df",
   "metadata": {},
   "outputs": [],
   "source": [
    "images = next(iter(train_loader))"
   ]
  },
  {
   "cell_type": "code",
   "execution_count": 87,
   "id": "d1e8543c-6a66-448d-bef9-db16d6e005f0",
   "metadata": {},
   "outputs": [],
   "source": [
    "images = images.to(device)"
   ]
  },
  {
   "cell_type": "code",
   "execution_count": 88,
   "id": "07876508-8b3b-484d-ba34-e6604342320b",
   "metadata": {},
   "outputs": [],
   "source": [
    "images_recon, mu, log_var = model(images)"
   ]
  },
  {
   "cell_type": "code",
   "execution_count": 89,
   "id": "9bdd0e8f-aef5-471b-8e1d-0e81b7941bc4",
   "metadata": {},
   "outputs": [
    {
     "data": {
      "text/plain": [
       "(torch.Size([64, 784]), torch.Size([64, 784]))"
      ]
     },
     "execution_count": 89,
     "metadata": {},
     "output_type": "execute_result"
    }
   ],
   "source": [
    "images.shape, images_recon.shape"
   ]
  },
  {
   "cell_type": "code",
   "execution_count": 90,
   "id": "4d1a8e30-a1ae-44a5-ab15-8724ca1c3bc6",
   "metadata": {},
   "outputs": [
    {
     "data": {
      "text/plain": [
       "(torch.Size([64, 3]), torch.Size([64, 3]))"
      ]
     },
     "execution_count": 90,
     "metadata": {},
     "output_type": "execute_result"
    }
   ],
   "source": [
    "mu.shape, log_var.shape"
   ]
  },
  {
   "cell_type": "code",
   "execution_count": 91,
   "id": "c2e56eb7-17c9-4dd2-ad84-2e78044d7954",
   "metadata": {},
   "outputs": [],
   "source": [
    "images_recon = images_recon.cpu().detach().numpy()\n",
    "mu = mu.cpu().detach().numpy()\n",
    "log_var = log_var.cpu().detach().numpy()"
   ]
  },
  {
   "cell_type": "code",
   "execution_count": null,
   "id": "ee52a492-b7a3-4591-92bb-79a477d2d07e",
   "metadata": {},
   "outputs": [],
   "source": []
  },
  {
   "cell_type": "code",
   "execution_count": 92,
   "id": "907a6ded-5a69-4ee9-a94e-e6a4a022e19c",
   "metadata": {},
   "outputs": [],
   "source": [
    "images = images.cpu().detach().numpy()"
   ]
  },
  {
   "cell_type": "code",
   "execution_count": 93,
   "id": "00b47f76-6b13-45d1-9e81-527f3a0ee44a",
   "metadata": {},
   "outputs": [
    {
     "data": {
      "text/plain": [
       "((64, 784), (64, 784))"
      ]
     },
     "execution_count": 93,
     "metadata": {},
     "output_type": "execute_result"
    }
   ],
   "source": [
    "images.shape, images_recon.shape"
   ]
  },
  {
   "cell_type": "code",
   "execution_count": 94,
   "id": "44974286-714f-4bad-83e8-04572a9ac805",
   "metadata": {},
   "outputs": [],
   "source": [
    "# Reshape for visualization-\n",
    "images = images.reshape(-1, 784)\n",
    "images_recon = images_recon.reshape(-1, 784)"
   ]
  },
  {
   "cell_type": "code",
   "execution_count": 95,
   "id": "0c2fe635-abb5-425b-bb9b-b01d75239075",
   "metadata": {},
   "outputs": [],
   "source": [
    "images = images.reshape(-1, 1, 28, 28)\n",
    "images_recon = images_recon.reshape(-1, 1, 28, 28)"
   ]
  },
  {
   "cell_type": "code",
   "execution_count": 96,
   "id": "4ad31f68-f814-43da-bf3b-39a37d90d05f",
   "metadata": {},
   "outputs": [
    {
     "data": {
      "text/plain": [
       "(64, 28, 28, 1)"
      ]
     },
     "execution_count": 96,
     "metadata": {},
     "output_type": "execute_result"
    }
   ],
   "source": [
    "np.transpose(images, (0, 2, 3, 1)).shape"
   ]
  },
  {
   "cell_type": "code",
   "execution_count": 97,
   "id": "9b52b348-1195-4ce1-aa07-3eb567c179b4",
   "metadata": {},
   "outputs": [
    {
     "data": {
      "text/plain": [
       "(64, 28, 28, 1)"
      ]
     },
     "execution_count": 97,
     "metadata": {},
     "output_type": "execute_result"
    }
   ],
   "source": [
    "np.transpose(images_recon, (0, 2, 3, 1)).shape"
   ]
  },
  {
   "cell_type": "code",
   "execution_count": 98,
   "id": "0b8294ea-29b3-420e-ba8e-c9e2375d95ea",
   "metadata": {},
   "outputs": [],
   "source": [
    "images = np.transpose(images, (0, 2, 3, 1))"
   ]
  },
  {
   "cell_type": "code",
   "execution_count": 99,
   "id": "e92e67df-5324-4ec6-a0ae-df6eef2e7c6c",
   "metadata": {},
   "outputs": [],
   "source": [
    "images_recon = np.transpose(images_recon, (0, 2, 3, 1))"
   ]
  },
  {
   "cell_type": "code",
   "execution_count": 100,
   "id": "24be758a-5865-4b62-ba31-9705bd992fce",
   "metadata": {},
   "outputs": [
    {
     "data": {
      "text/plain": [
       "((64, 28, 28, 1), (64, 28, 28, 1))"
      ]
     },
     "execution_count": 100,
     "metadata": {},
     "output_type": "execute_result"
    }
   ],
   "source": [
    "images.shape, images_recon.shape"
   ]
  },
  {
   "cell_type": "code",
   "execution_count": null,
   "id": "cdf0b460-72ee-4b87-a5ca-5aeabf358ba8",
   "metadata": {},
   "outputs": [],
   "source": []
  },
  {
   "cell_type": "code",
   "execution_count": 101,
   "id": "e7f0c4b0-72cf-4db6-aa09-b7729ce26a63",
   "metadata": {},
   "outputs": [
    {
     "data": {
      "image/png": "[encoded data removed]",
      "text/plain": [
       "<Figure size 576x504 with 20 Axes>"
      ]
     },
     "metadata": {
      "needs_background": "light"
     },
     "output_type": "display_data"
    }
   ],
   "source": [
    "# Visualize 32 images from training set-\n",
    "plt.figure(figsize = (8, 7))\n",
    "for i in range(20):\n",
    "    # 4 rows and 8 columns-\n",
    "    plt.subplot(4, 8, i + 1)\n",
    "    plt.imshow(images[i], cmap = 'gray')\n",
    "\n",
    "plt.suptitle(\"MNIST Images\")\n",
    "plt.show()"
   ]
  },
  {
   "cell_type": "code",
   "execution_count": 102,
   "id": "679bb8f3-881b-43ea-96ae-d451bde39347",
   "metadata": {},
   "outputs": [
    {
     "data": {
      "image/png": "[encoded data removed]",
      "text/plain": [
       "<Figure size 576x504 with 20 Axes>"
      ]
     },
     "metadata": {
      "needs_background": "light"
     },
     "output_type": "display_data"
    }
   ],
   "source": [
    "# Visualize 32 reconstructed images-\n",
    "plt.figure(figsize = (8, 7))\n",
    "for i in range(20):\n",
    "    # 4 rows and 8 columns-\n",
    "    plt.subplot(4, 8, i + 1)\n",
    "    plt.imshow(images_recon[i], cmap = 'gray')\n",
    "\n",
    "plt.suptitle(\"MNIST Reconstructed Images\")\n",
    "plt.show()"
   ]
  },
  {
   "cell_type": "code",
   "execution_count": null,
   "id": "4af5cc74-0c15-4eb7-aba0-299a0ab507d5",
   "metadata": {},
   "outputs": [],
   "source": []
  },
  {
   "cell_type": "code",
   "execution_count": 103,
   "id": "ecc2587c-130b-4f0b-af89-5d45dcd548e6",
   "metadata": {},
   "outputs": [],
   "source": [
    "del images, images_recon, mu, log_var"
   ]
  },
  {
   "cell_type": "code",
   "execution_count": null,
   "id": "483232cb-af58-4244-9546-6a3dfa8fcae9",
   "metadata": {},
   "outputs": [],
   "source": []
  },
  {
   "cell_type": "code",
   "execution_count": null,
   "id": "9106d4c0-e72d-44a1-990b-3014987a2671",
   "metadata": {},
   "outputs": [],
   "source": []
  },
  {
   "cell_type": "code",
   "execution_count": 104,
   "id": "48418c51-ac0e-42ee-bfd3-7684b1e3fabf",
   "metadata": {},
   "outputs": [
    {
     "data": {
      "text/plain": [
       "torch.Size([60000, 784])"
      ]
     },
     "execution_count": 104,
     "metadata": {},
     "output_type": "execute_result"
    }
   ],
   "source": [
    "train.shape"
   ]
  },
  {
   "cell_type": "code",
   "execution_count": 105,
   "id": "c96563a8-7216-4a2c-87de-49d5d7b07130",
   "metadata": {},
   "outputs": [],
   "source": [
    "train = train.to(device)"
   ]
  },
  {
   "cell_type": "code",
   "execution_count": 106,
   "id": "7d2ff2e9-aeb9-4c68-864b-01edff0e345c",
   "metadata": {},
   "outputs": [],
   "source": [
    "_, mu, log_var = model(train)"
   ]
  },
  {
   "cell_type": "code",
   "execution_count": 107,
   "id": "3333fdb2-e918-433f-9a2d-e03c4c278ef3",
   "metadata": {},
   "outputs": [
    {
     "data": {
      "text/plain": [
       "(torch.Size([60000, 3]), torch.Size([60000, 3]))"
      ]
     },
     "execution_count": 107,
     "metadata": {},
     "output_type": "execute_result"
    }
   ],
   "source": [
    "mu.shape, log_var.shape"
   ]
  },
  {
   "cell_type": "code",
   "execution_count": 108,
   "id": "cf417b5d-627e-4f5f-a63a-ac7f84359306",
   "metadata": {},
   "outputs": [
    {
     "data": {
      "text/plain": [
       "torch.Size([60000, 784])"
      ]
     },
     "execution_count": 108,
     "metadata": {},
     "output_type": "execute_result"
    }
   ],
   "source": [
    "train.shape"
   ]
  },
  {
   "cell_type": "code",
   "execution_count": 109,
   "id": "fb8d4ed6-1c00-4500-8905-e884fbbbb86c",
   "metadata": {},
   "outputs": [],
   "source": [
    "mu = mu.cpu().detach().numpy()\n",
    "log_var = log_var.cpu().detach().numpy()"
   ]
  },
  {
   "cell_type": "code",
   "execution_count": 110,
   "id": "cb3869f5-a768-40ee-ba61-d3067aa48689",
   "metadata": {},
   "outputs": [],
   "source": [
    "train = train.cpu().detach()"
   ]
  },
  {
   "cell_type": "code",
   "execution_count": 111,
   "id": "07ff6133-9fa5-4075-ae0f-72cf3494f80e",
   "metadata": {},
   "outputs": [
    {
     "data": {
      "text/plain": [
       "((60000, 3), (60000, 3))"
      ]
     },
     "execution_count": 111,
     "metadata": {},
     "output_type": "execute_result"
    }
   ],
   "source": [
    "# Sanity check-\n",
    "mu.shape, log_var.shape"
   ]
  },
  {
   "cell_type": "code",
   "execution_count": 112,
   "id": "2446abcf-cbcc-4c1a-8ba9-e1b6934a0fa6",
   "metadata": {},
   "outputs": [
    {
     "data": {
      "text/plain": [
       "torch.Size([60000, 784])"
      ]
     },
     "execution_count": 112,
     "metadata": {},
     "output_type": "execute_result"
    }
   ],
   "source": [
    "train.shape"
   ]
  },
  {
   "cell_type": "code",
   "execution_count": null,
   "id": "399f9b51-d096-43c4-9d48-4fb38471828a",
   "metadata": {},
   "outputs": [],
   "source": []
  },
  {
   "cell_type": "code",
   "execution_count": null,
   "id": "278e9b41-9e42-46cc-af71-5d3bb5b929c8",
   "metadata": {},
   "outputs": [],
   "source": []
  },
  {
   "cell_type": "markdown",
   "id": "17a6c4c0-44d6-4ce8-87b0-d9daaf15f43f",
   "metadata": {},
   "source": [
    "### Visualize _mu_ & _log_var_ trained vectors"
   ]
  },
  {
   "cell_type": "code",
   "execution_count": 113,
   "id": "31f8e410-a407-44bf-9f27-515a66fc43c6",
   "metadata": {},
   "outputs": [],
   "source": [
    "import plotly\n",
    "import plotly.express as px"
   ]
  },
  {
   "cell_type": "code",
   "execution_count": null,
   "id": "8d8e6e8e-f2d1-4c0e-b58d-ab77ab16f642",
   "metadata": {},
   "outputs": [],
   "source": [
    "# Visualize latent space for 'mu' vector-\n",
    "fig = px.scatter_3d(\n",
    "    x = mu[:, 0], y = mu[:, 1],\n",
    "    z = mu[:, 2],\n",
    "    # color = y_train\n",
    "    )\n",
    "fig.show()"
   ]
  },
  {
   "cell_type": "code",
   "execution_count": null,
   "id": "8ca37430-a3f0-4f9e-89c1-46ea83a388f4",
   "metadata": {},
   "outputs": [],
   "source": [
    "# Visualize latent space for 'log variance' vector-\n",
    "fig = px.scatter_3d(\n",
    "    x = log_var[:, 0], y = log_var[:, 1],\n",
    "    z = log_var[:, 2],\n",
    "    # color = y_train\n",
    "    )\n",
    "fig.show()"
   ]
  },
  {
   "cell_type": "code",
   "execution_count": null,
   "id": "f4539311-e532-47f0-9bc4-78981a8a09ea",
   "metadata": {},
   "outputs": [],
   "source": []
  },
  {
   "cell_type": "code",
   "execution_count": null,
   "id": "365fe0f6-86f5-407f-b70b-805c753b6895",
   "metadata": {},
   "outputs": [],
   "source": []
  },
  {
   "cell_type": "code",
   "execution_count": 116,
   "id": "1fbf3dc5-1932-4a92-a6ab-6d62315cdaf7",
   "metadata": {},
   "outputs": [
    {
     "name": "stdout",
     "output_type": "stream",
     "text": [
      "Mean vector (mu): mean = 0.594813 & std dev = 3.5165\n"
     ]
    }
   ],
   "source": [
    "print(f\"Mean vector (mu): mean = {mu.mean():4f} & std dev = {mu.std():.4f}\")"
   ]
  },
  {
   "cell_type": "code",
   "execution_count": 117,
   "id": "91a03ac1-264c-4b0c-9378-221fac412c90",
   "metadata": {},
   "outputs": [
    {
     "name": "stdout",
     "output_type": "stream",
     "text": [
      "log-variance (log-var): mean = -10.6344 & std dev = 1.0273\n"
     ]
    }
   ],
   "source": [
    "print(f\"log-variance (log-var): mean = {log_var.mean():.4f} & std dev = {log_var.std():.4f}\")"
   ]
  },
  {
   "cell_type": "code",
   "execution_count": null,
   "id": "070d2f72-d1ea-434c-93fe-0d344ff51a8a",
   "metadata": {},
   "outputs": [],
   "source": []
  },
  {
   "cell_type": "code",
   "execution_count": 118,
   "id": "e01bbf74-5ce9-47dc-833f-70f441b43395",
   "metadata": {},
   "outputs": [
    {
     "data": {
      "text/plain": [
       "array([ 158932.33,   49853.36, -101719.81], dtype=float32)"
      ]
     },
     "execution_count": 118,
     "metadata": {},
     "output_type": "execute_result"
    }
   ],
   "source": [
    "np.sum(mu, axis = 0)"
   ]
  },
  {
   "cell_type": "code",
   "execution_count": 119,
   "id": "c841e140-fa54-4ddd-9215-429c74a17efd",
   "metadata": {},
   "outputs": [
    {
     "data": {
      "text/plain": [
       "array([-645438.1 , -631807.56, -636951.  ], dtype=float32)"
      ]
     },
     "execution_count": 119,
     "metadata": {},
     "output_type": "execute_result"
    }
   ],
   "source": [
    "np.sum(log_var, axis = 0)"
   ]
  },
  {
   "cell_type": "code",
   "execution_count": null,
   "id": "fbed31fa-fb29-4154-b43e-f7d174b4df4a",
   "metadata": {},
   "outputs": [],
   "source": []
  },
  {
   "cell_type": "code",
   "execution_count": 120,
   "id": "4718a567-b4ce-449a-84e2-58e918a6c6cc",
   "metadata": {},
   "outputs": [],
   "source": [
    "train = train.to(device)"
   ]
  },
  {
   "cell_type": "code",
   "execution_count": 121,
   "id": "0a00fb5a-5165-4532-aac8-a90928d97b8e",
   "metadata": {},
   "outputs": [],
   "source": [
    "train_encoded = model.encoder(train)"
   ]
  },
  {
   "cell_type": "code",
   "execution_count": 122,
   "id": "e5eb1efd-1081-4bfa-8453-ffd0ff1d1cc6",
   "metadata": {},
   "outputs": [],
   "source": [
    "train = train.cpu().detach()\n",
    "train_encoded = train_encoded.cpu().detach().numpy()"
   ]
  },
  {
   "cell_type": "code",
   "execution_count": 123,
   "id": "66dfe84f-9e97-4fca-8643-8ffcc05c3c4a",
   "metadata": {},
   "outputs": [
    {
     "data": {
      "text/plain": [
       "(torch.Size([60000, 784]), (60000, 3))"
      ]
     },
     "execution_count": 123,
     "metadata": {},
     "output_type": "execute_result"
    }
   ],
   "source": [
    "train.shape, train_encoded.shape"
   ]
  },
  {
   "cell_type": "code",
   "execution_count": null,
   "id": "8505578a-ec3f-4ad9-a7ef-dce8a7551320",
   "metadata": {},
   "outputs": [],
   "source": []
  },
  {
   "cell_type": "code",
   "execution_count": 124,
   "id": "5963257d-0fb1-40be-a772-fb27c92dec3d",
   "metadata": {},
   "outputs": [
    {
     "name": "stdout",
     "output_type": "stream",
     "text": [
      "lv = 1: mean = 16.0851 & std dev = 9.0970\n",
      "lv = 2: mean = 10.7505 & std dev = 5.9430\n",
      "lv = 3: mean = 12.3705 & std dev = 6.4443\n"
     ]
    }
   ],
   "source": [
    "for i in range(3):\n",
    "    print(f\"lv = {i + 1}: mean = {train_encoded[:, i].mean():.4f} & std dev =\"\n",
    "          f\" {train_encoded[:, i].std():.4f}\"\n",
    "         )"
   ]
  },
  {
   "cell_type": "code",
   "execution_count": null,
   "id": "325a7555-6f56-4e0c-97a7-4ed001eaf959",
   "metadata": {},
   "outputs": [],
   "source": []
  },
  {
   "cell_type": "code",
   "execution_count": 125,
   "id": "401f8488-ac5d-477f-a971-ad78756f1f2f",
   "metadata": {},
   "outputs": [],
   "source": [
    "train_encoded = torch.tensor(train_encoded).to(device)"
   ]
  },
  {
   "cell_type": "code",
   "execution_count": 126,
   "id": "c74cf708-913d-4ecb-9668-85ac08800bb8",
   "metadata": {},
   "outputs": [],
   "source": [
    "z = model.mu(train_encoded) + model.log_var(train_encoded)"
   ]
  },
  {
   "cell_type": "code",
   "execution_count": 127,
   "id": "3d75c14d-739e-4809-9a24-ac8618965b15",
   "metadata": {},
   "outputs": [],
   "source": [
    "z = z.cpu().detach().numpy()\n",
    "train_encoded = train_encoded.cpu().detach().numpy()"
   ]
  },
  {
   "cell_type": "code",
   "execution_count": 128,
   "id": "71f200b0-22d6-43f6-8d3f-058f2692a4f2",
   "metadata": {},
   "outputs": [
    {
     "data": {
      "text/plain": [
       "((60000, 3), (60000, 3), (60000, 3))"
      ]
     },
     "execution_count": 128,
     "metadata": {},
     "output_type": "execute_result"
    }
   ],
   "source": [
    "mu.shape, log_var.shape, z.shape"
   ]
  },
  {
   "cell_type": "code",
   "execution_count": 129,
   "id": "4c6aed0b-44b3-4a7f-a919-c981b7f46969",
   "metadata": {},
   "outputs": [
    {
     "data": {
      "text/plain": [
       "(-16.83474, 16.982918)"
      ]
     },
     "execution_count": 129,
     "metadata": {},
     "output_type": "execute_result"
    }
   ],
   "source": [
    "mu.min(), mu.max()"
   ]
  },
  {
   "cell_type": "code",
   "execution_count": 130,
   "id": "6807766d-24d9-4e1b-9480-c0c7cf8eefb6",
   "metadata": {},
   "outputs": [
    {
     "data": {
      "text/plain": [
       "(-18.180424, -7.993333)"
      ]
     },
     "execution_count": 130,
     "metadata": {},
     "output_type": "execute_result"
    }
   ],
   "source": [
    "log_var.min(), log_var.max()"
   ]
  },
  {
   "cell_type": "code",
   "execution_count": 131,
   "id": "4bc86c2c-a948-4e7a-81bd-47ce611f1995",
   "metadata": {},
   "outputs": [
    {
     "data": {
      "text/plain": [
       "(-31.38552, 5.614538)"
      ]
     },
     "execution_count": 131,
     "metadata": {},
     "output_type": "execute_result"
    }
   ],
   "source": [
    "z.min(), z.max()"
   ]
  },
  {
   "cell_type": "code",
   "execution_count": 132,
   "id": "5108ffcd-ca8d-4297-9e12-aae053cc84b5",
   "metadata": {},
   "outputs": [
    {
     "data": {
      "text/plain": [
       "(-10.039625, 3.457062)"
      ]
     },
     "execution_count": 132,
     "metadata": {},
     "output_type": "execute_result"
    }
   ],
   "source": [
    "z.mean(), z.std()"
   ]
  },
  {
   "cell_type": "code",
   "execution_count": null,
   "id": "3aae1f74-d03c-4d2a-b31e-752424637ec3",
   "metadata": {},
   "outputs": [],
   "source": []
  },
  {
   "cell_type": "code",
   "execution_count": 134,
   "id": "64555371-da39-4f5b-9260-72fa690d6c9b",
   "metadata": {},
   "outputs": [
    {
     "name": "stdout",
     "output_type": "stream",
     "text": [
      "lv = 1: min = -16.8894 & max = 5.6145\n",
      "lv = 2: min = -26.5813 & max = 3.1853\n",
      "lv = 3: min = -31.3855 & max = -0.2336\n"
     ]
    }
   ],
   "source": [
    "for i in range(3):\n",
    "    print(f\"lv = {i + 1}: min = {z[:, i].min():.4f} & max = {z[:, i].max():.4f}\")"
   ]
  },
  {
   "cell_type": "code",
   "execution_count": null,
   "id": "1a2c888b-13e1-4dc3-9f7a-7d5648d9e395",
   "metadata": {},
   "outputs": [],
   "source": []
  },
  {
   "cell_type": "code",
   "execution_count": null,
   "id": "b4963686-ec7e-4505-bc47-0d003d3e00e4",
   "metadata": {},
   "outputs": [],
   "source": []
  },
  {
   "cell_type": "code",
   "execution_count": null,
   "id": "dff02c74-62ea-416c-a9ef-549330decd7f",
   "metadata": {},
   "outputs": [],
   "source": [
    "# Visualize encoded space for all training images-\n",
    "fig = px.scatter_3d(\n",
    "    x = z[:, 0], y = z[:, 1],\n",
    "    z = z[:, 2],\n",
    "    # color = y_train\n",
    "    )\n",
    "fig.show()"
   ]
  },
  {
   "cell_type": "code",
   "execution_count": null,
   "id": "cec67f1b-a2b9-446a-81dc-ad29fcca18ec",
   "metadata": {},
   "outputs": [],
   "source": []
  },
  {
   "cell_type": "code",
   "execution_count": null,
   "id": "1991364a-5e9a-4723-aabb-9b29f8c8e6a3",
   "metadata": {},
   "outputs": [],
   "source": []
  },
  {
   "cell_type": "code",
   "execution_count": 151,
   "id": "8172501f-c222-4fd2-828c-148d8015e47d",
   "metadata": {},
   "outputs": [
    {
     "data": {
      "text/plain": [
       "(2, 3)"
      ]
     },
     "execution_count": 151,
     "metadata": {},
     "output_type": "execute_result"
    }
   ],
   "source": [
    "z[:2, :].shape"
   ]
  },
  {
   "cell_type": "code",
   "execution_count": 152,
   "id": "28cd6d12-956c-4e02-87a2-6c42072d3f57",
   "metadata": {},
   "outputs": [
    {
     "data": {
      "text/plain": [
       "array([[ -6.6833634, -11.151882 , -12.127437 ],\n",
       "       [ -3.2855802,  -9.503002 ,  -8.816118 ]], dtype=float32)"
      ]
     },
     "execution_count": 152,
     "metadata": {},
     "output_type": "execute_result"
    }
   ],
   "source": [
    "z[:2, :]"
   ]
  },
  {
   "cell_type": "code",
   "execution_count": null,
   "id": "1ac3f4e1-5cce-4069-8a51-e05a202564b1",
   "metadata": {},
   "outputs": [],
   "source": []
  },
  {
   "cell_type": "code",
   "execution_count": 180,
   "id": "e80eb042-5057-420c-933f-a31a00603d5b",
   "metadata": {},
   "outputs": [],
   "source": [
    "random_point = torch.tensor(\n",
    "    [\n",
    "        [0.0, 0.0, 0.0],\n",
    "        [0.1, 0.5, -0.9]\n",
    "    ]\n",
    ")"
   ]
  },
  {
   "cell_type": "code",
   "execution_count": 155,
   "id": "8fef6759-2a9d-46c5-8b4a-4099b4cefc2c",
   "metadata": {},
   "outputs": [],
   "source": [
    "# Returns a tensor filled with random numbers sampled from a normal distribution-\n",
    "random_point = torch.randn(2, 3)"
   ]
  },
  {
   "cell_type": "code",
   "execution_count": 181,
   "id": "e6372bb4-9ff9-4173-988f-8103a3ae8e6b",
   "metadata": {},
   "outputs": [
    {
     "data": {
      "text/plain": [
       "tensor([[ 0.0000,  0.0000,  0.0000],\n",
       "        [ 0.1000,  0.5000, -0.9000]], device='cuda:0')"
      ]
     },
     "execution_count": 181,
     "metadata": {},
     "output_type": "execute_result"
    }
   ],
   "source": [
    "random_point.to(device)"
   ]
  },
  {
   "cell_type": "code",
   "execution_count": 182,
   "id": "5578d63e-258a-4f29-9a51-df7438834c33",
   "metadata": {},
   "outputs": [
    {
     "data": {
      "text/plain": [
       "torch.Size([2, 3])"
      ]
     },
     "execution_count": 182,
     "metadata": {},
     "output_type": "execute_result"
    }
   ],
   "source": [
    "random_point.shape"
   ]
  },
  {
   "cell_type": "code",
   "execution_count": 184,
   "id": "0e083657-d982-4153-a156-1f5df6afb788",
   "metadata": {},
   "outputs": [],
   "source": [
    "# random_recon = model.decoder(random_point)"
   ]
  },
  {
   "cell_type": "code",
   "execution_count": null,
   "id": "edd23500-795d-4195-b8d7-a9cfe2115b4a",
   "metadata": {},
   "outputs": [],
   "source": []
  },
  {
   "cell_type": "code",
   "execution_count": 162,
   "id": "17914f1e-08be-43f6-aff2-09f8f5ffcd4a",
   "metadata": {},
   "outputs": [],
   "source": [
    "z = torch.tensor(z)"
   ]
  },
  {
   "cell_type": "code",
   "execution_count": 163,
   "id": "125b01c5-013c-45d9-8536-7fb4731ffc5c",
   "metadata": {},
   "outputs": [],
   "source": [
    "z = z.to(device)"
   ]
  },
  {
   "cell_type": "code",
   "execution_count": 167,
   "id": "cce2f6b5-abfe-4fb3-8edd-32dce8604016",
   "metadata": {},
   "outputs": [],
   "source": [
    "# random_recon = model.decoder(random_point)\n",
    "z_recon = model.decoder(z[:2, :])"
   ]
  },
  {
   "cell_type": "code",
   "execution_count": 169,
   "id": "e8654119-fc83-4b4b-904f-0958e467675a",
   "metadata": {},
   "outputs": [],
   "source": [
    "z_recon = z_recon.cpu().detach().numpy()"
   ]
  },
  {
   "cell_type": "code",
   "execution_count": 170,
   "id": "f8ce2a66-b793-4e6e-ab77-a8dfdebdccdd",
   "metadata": {},
   "outputs": [
    {
     "data": {
      "text/plain": [
       "(2, 784)"
      ]
     },
     "execution_count": 170,
     "metadata": {},
     "output_type": "execute_result"
    }
   ],
   "source": [
    "z_recon.shape"
   ]
  },
  {
   "cell_type": "code",
   "execution_count": 171,
   "id": "188d9ad3-4caa-441f-b431-6693198c62d6",
   "metadata": {},
   "outputs": [],
   "source": [
    "z_recon = z_recon.reshape(-1, 1, 28, 28)"
   ]
  },
  {
   "cell_type": "code",
   "execution_count": 174,
   "id": "c7bf56aa-075b-4e7a-a9ae-8fb6600a4b1a",
   "metadata": {},
   "outputs": [],
   "source": [
    "z_recon = np.transpose(z_recon, (0, 2, 3, 1))"
   ]
  },
  {
   "cell_type": "code",
   "execution_count": 175,
   "id": "f14b0b72-a105-4b91-8239-2e5410d6df2b",
   "metadata": {},
   "outputs": [
    {
     "data": {
      "text/plain": [
       "(2, 28, 28, 1)"
      ]
     },
     "execution_count": 175,
     "metadata": {},
     "output_type": "execute_result"
    }
   ],
   "source": [
    "z_recon.shape"
   ]
  },
  {
   "cell_type": "code",
   "execution_count": null,
   "id": "5da42964-454a-46a9-b12c-158ff0f26d62",
   "metadata": {},
   "outputs": [],
   "source": []
  },
  {
   "cell_type": "code",
   "execution_count": 178,
   "id": "ef197fc3-1f41-4467-8738-614dd12740e0",
   "metadata": {},
   "outputs": [
    {
     "data": {
      "image/png": "[encoded data removed]",
      "text/plain": [
       "<Figure size 432x360 with 1 Axes>"
      ]
     },
     "metadata": {
      "needs_background": "light"
     },
     "output_type": "display_data"
    }
   ],
   "source": [
    "plt.figure(figsize = (6, 5))\n",
    "plt.imshow(z_recon[0], cmap = 'gray')\n",
    "plt.title(\"Reconstructed Image\")\n",
    "plt.show()"
   ]
  },
  {
   "cell_type": "code",
   "execution_count": 179,
   "id": "66cca102-b38c-47ba-a752-8621be7d26d8",
   "metadata": {},
   "outputs": [
    {
     "data": {
      "image/png": "[encoded data removed]",
      "text/plain": [
       "<Figure size 432x360 with 1 Axes>"
      ]
     },
     "metadata": {
      "needs_background": "light"
     },
     "output_type": "display_data"
    }
   ],
   "source": [
    "plt.figure(figsize = (6, 5))\n",
    "plt.imshow(z_recon[1], cmap = 'gray')\n",
    "plt.title(\"Reconstructed Image\")\n",
    "plt.show()"
   ]
  },
  {
   "cell_type": "code",
   "execution_count": null,
   "id": "f7ff31ae-23e0-4d9c-bca9-c3504b86c6f7",
   "metadata": {},
   "outputs": [],
   "source": []
  },
  {
   "cell_type": "code",
   "execution_count": null,
   "id": "ac82c672-cfaa-4b31-b0b6-75f38cf68b8a",
   "metadata": {},
   "outputs": [],
   "source": []
  },
  {
   "cell_type": "markdown",
   "id": "f1ea3eae-d2de-4f3f-927f-9ba16846ac41",
   "metadata": {},
   "source": [
    "### Save _encoded_ representation for training data"
   ]
  },
  {
   "cell_type": "code",
   "execution_count": 141,
   "id": "5f15d0be-6c09-436e-80c6-761b8e12a691",
   "metadata": {},
   "outputs": [],
   "source": [
    "with open('MNIST_LeNet300_z.npy', 'wb') as file:\n",
    "    np.save(file, z)"
   ]
  },
  {
   "cell_type": "code",
   "execution_count": null,
   "id": "f5080932-b6ff-4693-b764-6391feb9d662",
   "metadata": {},
   "outputs": [],
   "source": [
    "\"\"\"\n",
    "with open('MNIST_LeNet300_z.npy', 'rb') as file:\n",
    "    z_encoded = np.load(file)\n",
    "\"\"\""
   ]
  },
  {
   "cell_type": "code",
   "execution_count": null,
   "id": "d231a78d-f6a7-438b-be57-643e7aabd4ca",
   "metadata": {},
   "outputs": [],
   "source": []
  },
  {
   "cell_type": "code",
   "execution_count": null,
   "id": "4224bbc8-2faa-4c2d-ab8c-d4b4644d799b",
   "metadata": {},
   "outputs": [],
   "source": []
  }
 ],
 "metadata": {
  "kernelspec": {
   "display_name": "Python 3 (ipykernel)",
   "language": "python",
   "name": "python3"
  },
  "language_info": {
   "codemirror_mode": {
    "name": "ipython",
    "version": 3
   },
   "file_extension": ".py",
   "mimetype": "text/x-python",
   "name": "python",
   "nbconvert_exporter": "python",
   "pygments_lexer": "ipython3",
   "version": "3.8.12"
  }
 },
 "nbformat": 4,
 "nbformat_minor": 5
}
