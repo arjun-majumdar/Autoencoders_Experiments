{
 "cells": [
  {
   "cell_type": "markdown",
   "id": "ec90a05e-e98c-47b5-a04d-c9377fa6a5d3",
   "metadata": {},
   "source": [
    "# Variational Autoencoder: LeNet-5 CNN with PyTorch and MNIST\n",
    "\n",
    "[Reference](https://github.com/rasbt/stat453-deep-learning-ss21/blob/main/L17/1_VAE_mnist_sigmoid_mse.ipynb) and [Second reference](https://github.com/rasbt/stat453-deep-learning-ss21/blob/main/L17/helper_train.py)"
   ]
  },
  {
   "cell_type": "code",
   "execution_count": 1,
   "id": "89d7b9c9-67af-42cf-abc0-a2441bda8f64",
   "metadata": {},
   "outputs": [
    {
     "name": "stdout",
     "output_type": "stream",
     "text": [
      "env: CUDA_DEVICE_ORDER=PCI_BUS_ID\n",
      "env: CUDA_VISIBLE_DEVICES=0\n"
     ]
    }
   ],
   "source": [
    "# Specify GPU to be used-\n",
    "%env CUDA_DEVICE_ORDER = PCI_BUS_ID\n",
    "%env CUDA_VISIBLE_DEVICES = 0"
   ]
  },
  {
   "cell_type": "code",
   "execution_count": 2,
   "id": "4548515b-b2af-49a3-8d13-a81a2e8e7fb9",
   "metadata": {},
   "outputs": [
    {
     "name": "stderr",
     "output_type": "stream",
     "text": [
      "/home/arjun/anaconda3/envs/pytorch-gpu/lib/python3.9/site-packages/tqdm/auto.py:22: TqdmWarning: IProgress not found. Please update jupyter and ipywidgets. See https://ipywidgets.readthedocs.io/en/stable/user_install.html\n",
      "  from .autonotebook import tqdm as notebook_tqdm\n",
      "/home/arjun/anaconda3/envs/pytorch-gpu/lib/python3.9/site-packages/scipy/__init__.py:146: UserWarning: A NumPy version >=1.16.5 and <1.23.0 is required for this version of SciPy (detected version 1.23.1\n",
      "  warnings.warn(f\"A NumPy version >={np_minversion} and <{np_maxversion}\"\n"
     ]
    }
   ],
   "source": [
    "import torch\n",
    "import torch.nn as nn\n",
    "import torch.nn.functional as F\n",
    "import torchvision\n",
    "import torchvision.transforms as transforms\n",
    "\n",
    "from tqdm import tqdm\n",
    "from tqdm import trange\n",
    "import matplotlib.pyplot as plt\n",
    "import seaborn as sns\n",
    "import numpy as np"
   ]
  },
  {
   "cell_type": "code",
   "execution_count": null,
   "id": "38fb14b1-15f6-4881-8c93-a3b8d698e239",
   "metadata": {},
   "outputs": [],
   "source": []
  },
  {
   "cell_type": "code",
   "execution_count": null,
   "id": "604c2149-9c31-48e7-a525-a91163ffb976",
   "metadata": {},
   "outputs": [],
   "source": []
  },
  {
   "cell_type": "code",
   "execution_count": 3,
   "id": "411af825-c307-455f-8158-b4379444f8ac",
   "metadata": {},
   "outputs": [
    {
     "name": "stdout",
     "output_type": "stream",
     "text": [
      "torch version: 1.11.0\n"
     ]
    }
   ],
   "source": [
    "print(f\"torch version: {torch.__version__}\")"
   ]
  },
  {
   "cell_type": "code",
   "execution_count": 4,
   "id": "d87ac8fb-9d75-4de7-9829-794656a957f8",
   "metadata": {},
   "outputs": [
    {
     "name": "stdout",
     "output_type": "stream",
     "text": [
      "Number of GPU(s) available = 1\n",
      "Current GPU: 0\n",
      "Current GPU name: NVIDIA GeForce RTX 3080\n"
     ]
    }
   ],
   "source": [
    "# Check if there are multiple devices (i.e., GPU cards)-\n",
    "print(f\"Number of GPU(s) available = {torch.cuda.device_count()}\")\n",
    "\n",
    "# Which GPU Is The Current GPU?\n",
    "# print(f\"current GPU: {torch.cuda.current_device()}\")\n",
    "\n",
    "# Get the name of the current GPU-\n",
    "# print(f\"Current GPU name: {torch.cuda.get_device_name(torch.cuda.current_device())}\")\n",
    "\n",
    "# Is PyTorch using a GPU?\n",
    "# print(f\"Is PyTorch using a GPU? {torch.cuda.is_available()}\")\n",
    "\n",
    "if torch.cuda.is_available():\n",
    "    print(f\"Current GPU: {torch.cuda.current_device()}\")\n",
    "    print(f\"Current GPU name: {torch.cuda.get_device_name(torch.cuda.current_device())}\")\n",
    "else:\n",
    "    print(\"PyTorch does not have access to GPU\")"
   ]
  },
  {
   "cell_type": "code",
   "execution_count": 5,
   "id": "16a07e3a-afc5-4b01-862c-3e73fe0ec6af",
   "metadata": {},
   "outputs": [
    {
     "name": "stdout",
     "output_type": "stream",
     "text": [
      "Available device is cuda\n"
     ]
    }
   ],
   "source": [
    "# Device configuration-\n",
    "device = torch.device('cuda' if torch.cuda.is_available() else 'cpu')\n",
    "print(f'Available device is {device}')"
   ]
  },
  {
   "cell_type": "code",
   "execution_count": null,
   "id": "d1b51561-fdd8-4918-8754-9f040e4d4bb4",
   "metadata": {},
   "outputs": [],
   "source": []
  },
  {
   "cell_type": "code",
   "execution_count": null,
   "id": "ffb0b897-8b3e-43d6-b3a9-8ef209d1a51d",
   "metadata": {},
   "outputs": [],
   "source": []
  },
  {
   "cell_type": "code",
   "execution_count": 6,
   "id": "7932d653-14ee-4eff-9a12-4125e2efa55d",
   "metadata": {},
   "outputs": [],
   "source": [
    "# Hyper-parameters-\n",
    "num_epochs = 60\n",
    "batch_size = 256\n",
    "learning_rate = 0.001"
   ]
  },
  {
   "cell_type": "code",
   "execution_count": null,
   "id": "2136fd65-b9e5-4ef9-ac96-71a16e21c162",
   "metadata": {},
   "outputs": [],
   "source": []
  },
  {
   "cell_type": "markdown",
   "id": "ae65062a-22f0-4535-a16f-a6f2c5f83ee6",
   "metadata": {},
   "source": [
    "### MNIST data pre-processing:"
   ]
  },
  {
   "cell_type": "markdown",
   "id": "267f62e4-ab84-42c4-a2bb-7310de515903",
   "metadata": {},
   "source": [
    "#### Compute mean and standard deviation for different datasets\n",
    "\n",
    "```\n",
    "import argparse\n",
    "import os\n",
    "import numpy as np\n",
    "import torchvision\n",
    "import torchvision.transforms as transforms\n",
    "\n",
    "dataset_names = ('cifar10','cifar100','mnist')\n",
    "\n",
    "parser = argparse.ArgumentParser(description='PyTorchLab')\n",
    "parser.add_argument('-d', '--dataset', metavar='DATA', default='cifar10', choices=dataset_names,\n",
    "                    help='dataset to be used: ' + ' | '.join(dataset_names) + ' (default: cifar10)')\n",
    "\n",
    "args = parser.parse_args()\n",
    "\n",
    "data_dir = os.path.join('.', args.dataset)\n",
    "\n",
    "print(args.dataset)\n",
    "\n",
    "if args.dataset == \"cifar10\":\n",
    "    train_transform = transforms.Compose([transforms.ToTensor()])\n",
    "    train_set = torchvision.datasets.CIFAR10(root=data_dir, train=True, download=True, transform=train_transform)\n",
    "    #print(vars(train_set))\n",
    "    print(train_set.train_data.shape)\n",
    "    print(train_set.train_data.mean(axis=(0,1,2))/255)\n",
    "    print(train_set.train_data.std(axis=(0,1,2))/255)\n",
    "\n",
    "elif args.dataset == \"cifar100\":\n",
    "    train_transform = transforms.Compose([transforms.ToTensor()])\n",
    "    train_set = torchvision.datasets.CIFAR100(root=data_dir, train=True, download=True, transform=train_transform)\n",
    "    #print(vars(train_set))\n",
    "    print(train_set.train_data.shape)\n",
    "    print(np.mean(train_set.train_data, axis=(0,1,2))/255)\n",
    "    print(np.std(train_set.train_data, axis=(0,1,2))/255)\n",
    "\n",
    "elif args.dataset == \"mnist\":\n",
    "    train_transform = transforms.Compose([transforms.ToTensor()])\n",
    "    train_set = torchvision.datasets.MNIST(root=data_dir, train=True, download=True, transform=train_transform)\n",
    "    #print(vars(train_set))\n",
    "    print(list(train_set.train_data.size()))\n",
    "    print(train_set.train_data.float().mean()/255)\n",
    "    print(train_set.train_data.float().std()/255)\n",
    "```\n",
    "\n",
    "[Reference](https://discuss.pytorch.org/t/normalization-in-the-mnist-example/457/11)"
   ]
  },
  {
   "cell_type": "code",
   "execution_count": 7,
   "id": "62c69969-db81-4c40-b233-a4805166a555",
   "metadata": {},
   "outputs": [],
   "source": [
    "# Define transformations for MNIST dataset-\n",
    "# MNIST dataset statistics-\n",
    "mean = np.array([0.1307])\n",
    "std_dev = np.array([0.3081])\n",
    "\n",
    "transforms_apply = transforms.Compose(\n",
    "    [\n",
    "        transforms.ToTensor(),\n",
    "        transforms.Normalize(mean = mean, std = std_dev)\n",
    "    ]\n",
    ")"
   ]
  },
  {
   "cell_type": "code",
   "execution_count": 8,
   "id": "6396d0a7-bb5e-4328-a3d7-eab9eff9938e",
   "metadata": {},
   "outputs": [],
   "source": [
    "# Load MNIST dataset-\n",
    "train_dataset = torchvision.datasets.MNIST(\n",
    "        root = './data', train = True,\n",
    "        transform = transforms_apply, download = True\n",
    "        )\n",
    "\n",
    "test_dataset = torchvision.datasets.MNIST(\n",
    "        root = './data', train = False,\n",
    "        transform = transforms_apply\n",
    "        )"
   ]
  },
  {
   "cell_type": "code",
   "execution_count": 9,
   "id": "8fc1eb11-f9f7-404b-a800-95f960fe29ad",
   "metadata": {},
   "outputs": [
    {
     "name": "stdout",
     "output_type": "stream",
     "text": [
      "training dataset length/shape: [60000, 28, 28]\n"
     ]
    }
   ],
   "source": [
    "# Sanity check-\n",
    "print(f\"training dataset length/shape: {list(train_dataset.data.size())}\")"
   ]
  },
  {
   "cell_type": "code",
   "execution_count": 10,
   "id": "f151f33e-bed5-4b43-ae24-a9b859f5e4f3",
   "metadata": {},
   "outputs": [
    {
     "name": "stdout",
     "output_type": "stream",
     "text": [
      "mean = 0.1307\n"
     ]
    }
   ],
   "source": [
    "print(f\"mean = {train_dataset.data.float().mean() / 255:.4f}\")"
   ]
  },
  {
   "cell_type": "code",
   "execution_count": 11,
   "id": "41de4113-dd98-4ef0-8499-f0314dbe70f5",
   "metadata": {},
   "outputs": [
    {
     "name": "stdout",
     "output_type": "stream",
     "text": [
      "std dev = 0.3081\n"
     ]
    }
   ],
   "source": [
    "print(f\"std dev = {train_dataset.data.float().std() / 255:.4f}\")"
   ]
  },
  {
   "cell_type": "markdown",
   "id": "a694d261-cf07-409b-b10c-f98f9ac8708f",
   "metadata": {},
   "source": [
    "#### NOTE:\n",
    "\n",
    "Since MNIST has only one channel, therefore, the mean and standard deviation is computed for one channel!"
   ]
  },
  {
   "cell_type": "code",
   "execution_count": null,
   "id": "b38aa6a3-22cd-4fce-b9d9-55a62f6b3c90",
   "metadata": {},
   "outputs": [],
   "source": []
  },
  {
   "cell_type": "code",
   "execution_count": 12,
   "id": "f28ddefa-d115-4665-a8cd-b4c7b422d9df",
   "metadata": {},
   "outputs": [
    {
     "data": {
      "text/plain": [
       "(tensor(0, dtype=torch.uint8), tensor(255, dtype=torch.uint8))"
      ]
     },
     "execution_count": 12,
     "metadata": {},
     "output_type": "execute_result"
    }
   ],
   "source": [
    "# Sanity check-\n",
    "train_dataset.data.min(), train_dataset.data.max()"
   ]
  },
  {
   "cell_type": "code",
   "execution_count": 13,
   "id": "5285b62e-3c12-4ecf-945e-5ac5b0722b01",
   "metadata": {},
   "outputs": [
    {
     "data": {
      "text/plain": [
       "(tensor(0, dtype=torch.uint8), tensor(255, dtype=torch.uint8))"
      ]
     },
     "execution_count": 13,
     "metadata": {},
     "output_type": "execute_result"
    }
   ],
   "source": [
    "test_dataset.data.min(), test_dataset.data.max()"
   ]
  },
  {
   "cell_type": "code",
   "execution_count": null,
   "id": "91ae5de8-1bd6-4b84-a89a-b875ca10998b",
   "metadata": {},
   "outputs": [],
   "source": []
  },
  {
   "cell_type": "markdown",
   "id": "1b7f22a0-1728-45a3-ae35-03062029c501",
   "metadata": {},
   "source": [
    "#### Scale pixel values in the range 0 to 1\n",
    "\n",
    "To manually convert the pixel values in the range 0 to 1."
   ]
  },
  {
   "cell_type": "code",
   "execution_count": 14,
   "id": "ed4ab5df-4c6b-4ce5-bc78-bd8a7047fb24",
   "metadata": {},
   "outputs": [],
   "source": [
    "train = train_dataset.data.float() / 255.0\n",
    "test = test_dataset.data.float() / 255.0"
   ]
  },
  {
   "cell_type": "code",
   "execution_count": 15,
   "id": "c97019b0-c9c3-4512-b178-5615a2adbb82",
   "metadata": {},
   "outputs": [
    {
     "data": {
      "text/plain": [
       "(torch.Tensor, torch.Tensor)"
      ]
     },
     "execution_count": 15,
     "metadata": {},
     "output_type": "execute_result"
    }
   ],
   "source": [
    "type(train), type(test)"
   ]
  },
  {
   "cell_type": "code",
   "execution_count": 16,
   "id": "89267044-361c-45e9-8488-dfc7e30cb3bd",
   "metadata": {},
   "outputs": [
    {
     "data": {
      "text/plain": [
       "(torch.Size([60000, 28, 28]), torch.Size([10000, 28, 28]))"
      ]
     },
     "execution_count": 16,
     "metadata": {},
     "output_type": "execute_result"
    }
   ],
   "source": [
    "train.shape, test.shape"
   ]
  },
  {
   "cell_type": "code",
   "execution_count": 17,
   "id": "d17b7423-5600-4622-b9f7-1ca2acb2b92a",
   "metadata": {},
   "outputs": [],
   "source": [
    "# Reshape to include gray-scale channel-\n",
    "train = train.reshape(60000, 1, 28, 28)\n",
    "test = test.reshape(10000, 1, 28, 28)"
   ]
  },
  {
   "cell_type": "code",
   "execution_count": 18,
   "id": "4d60a8fc-7c59-4cb6-90bc-ba977587b86d",
   "metadata": {},
   "outputs": [
    {
     "data": {
      "text/plain": [
       "(torch.Size([60000, 1, 28, 28]), torch.Size([10000, 1, 28, 28]))"
      ]
     },
     "execution_count": 18,
     "metadata": {},
     "output_type": "execute_result"
    }
   ],
   "source": [
    "train.shape, test.shape"
   ]
  },
  {
   "cell_type": "code",
   "execution_count": null,
   "id": "c2a3169b-3c2a-4051-8ff7-e60c7a31cbdc",
   "metadata": {},
   "outputs": [],
   "source": []
  },
  {
   "cell_type": "code",
   "execution_count": 19,
   "id": "815e91c3-d92e-4c68-8a4b-4272a2662bcb",
   "metadata": {},
   "outputs": [
    {
     "data": {
      "text/plain": [
       "(tensor(0.), tensor(1.))"
      ]
     },
     "execution_count": 19,
     "metadata": {},
     "output_type": "execute_result"
    }
   ],
   "source": [
    "# Sanity check- min and max pixel values are in the range 0 to 1-\n",
    "train.data.min(), train.data.max()"
   ]
  },
  {
   "cell_type": "code",
   "execution_count": 20,
   "id": "bee0db56-0e86-45db-b27b-c012f34c2db7",
   "metadata": {},
   "outputs": [
    {
     "data": {
      "text/plain": [
       "(tensor(0.), tensor(1.))"
      ]
     },
     "execution_count": 20,
     "metadata": {},
     "output_type": "execute_result"
    }
   ],
   "source": [
    "test.data.min(), test.data.max()"
   ]
  },
  {
   "cell_type": "code",
   "execution_count": 21,
   "id": "b8bd6140-e57a-444a-8a50-6c7f2a1a629b",
   "metadata": {},
   "outputs": [],
   "source": [
    "del train_dataset, test_dataset"
   ]
  },
  {
   "cell_type": "code",
   "execution_count": null,
   "id": "a2c8d8e1-f745-43e9-9966-d210b0f513d3",
   "metadata": {},
   "outputs": [],
   "source": []
  },
  {
   "cell_type": "code",
   "execution_count": 22,
   "id": "bf2a58ea-8d7a-4421-b1bf-1070299ab97d",
   "metadata": {},
   "outputs": [
    {
     "name": "stdout",
     "output_type": "stream",
     "text": [
      "batch size to be used = 256\n"
     ]
    }
   ],
   "source": [
    "print(f\"batch size to be used = {batch_size}\")"
   ]
  },
  {
   "cell_type": "code",
   "execution_count": 23,
   "id": "5e52ca4c-2e40-43ef-8421-f0429acb3b60",
   "metadata": {},
   "outputs": [],
   "source": [
    "# Create training and testing dataloaders-\n",
    "train_loader = torch.utils.data.DataLoader(\n",
    "        dataset = train, batch_size = batch_size,\n",
    "        shuffle = True\n",
    "        )\n",
    "\n",
    "test_loader = torch.utils.data.DataLoader(\n",
    "        dataset = test, batch_size = batch_size,\n",
    "        shuffle = False\n",
    "        )"
   ]
  },
  {
   "cell_type": "code",
   "execution_count": 24,
   "id": "8607e038-7c41-4c2a-997b-8f6b14698c2b",
   "metadata": {},
   "outputs": [
    {
     "name": "stdout",
     "output_type": "stream",
     "text": [
      "Sizes of train_dataset: 60000 and test_dataet: 10000\n",
      "Sizes of train_loader: 235 and test_loader: 40\n"
     ]
    }
   ],
   "source": [
    "print(f\"Sizes of train_dataset: {len(train)} and test_dataet: {len(test)}\")\n",
    "print(f\"Sizes of train_loader: {len(train_loader)} and test_loader: {len(test_loader)}\")"
   ]
  },
  {
   "cell_type": "code",
   "execution_count": 25,
   "id": "370bfbbb-de2c-44ba-acdf-6caee8886888",
   "metadata": {},
   "outputs": [
    {
     "name": "stdout",
     "output_type": "stream",
     "text": [
      "len(train_loader) = 235 & len(test_loader) = 40\n"
     ]
    }
   ],
   "source": [
    "print(f\"len(train_loader) = {len(train_loader)} & len(test_loader) = {len(test_loader)}\")"
   ]
  },
  {
   "cell_type": "code",
   "execution_count": 26,
   "id": "2279e99e-022b-4238-b22c-6d4a6c2ba394",
   "metadata": {},
   "outputs": [
    {
     "data": {
      "text/plain": [
       "(234.375, 39.0625)"
      ]
     },
     "execution_count": 26,
     "metadata": {},
     "output_type": "execute_result"
    }
   ],
   "source": [
    "# Sanity check-\n",
    "len(train) / batch_size, len(test) / batch_size"
   ]
  },
  {
   "cell_type": "code",
   "execution_count": null,
   "id": "c62811bb-f21d-4505-b431-7273a6ee6cce",
   "metadata": {},
   "outputs": [],
   "source": []
  },
  {
   "cell_type": "code",
   "execution_count": 27,
   "id": "992559ef-5dca-4c28-9de4-74d8ea9aaafc",
   "metadata": {},
   "outputs": [
    {
     "name": "stdout",
     "output_type": "stream",
     "text": [
      "images.shape: torch.Size([256, 1, 28, 28])\n"
     ]
    }
   ],
   "source": [
    "# Get some random batch of training images & labels-\n",
    "# images, labels = next(iter(train_loader))\n",
    "images = next(iter(train_loader))\n",
    "\n",
    "# You get 64 images due to the specified batch size-\n",
    "# print(f\"images.shape: {images.shape} & labels.shape: {labels.shape}\")\n",
    "print(f\"images.shape: {images.shape}\")"
   ]
  },
  {
   "cell_type": "code",
   "execution_count": null,
   "id": "94a87340-e47d-4a9f-97ed-410624ecf612",
   "metadata": {},
   "outputs": [],
   "source": []
  },
  {
   "cell_type": "code",
   "execution_count": 28,
   "id": "4349ff13-8b38-4562-9499-99fdd6efd332",
   "metadata": {},
   "outputs": [
    {
     "data": {
      "text/plain": [
       "(tensor(0.), tensor(1.))"
      ]
     },
     "execution_count": 28,
     "metadata": {},
     "output_type": "execute_result"
    }
   ],
   "source": [
    "images.min(), images.max()"
   ]
  },
  {
   "cell_type": "code",
   "execution_count": 29,
   "id": "75e13a28-852a-42c4-933c-503668427b97",
   "metadata": {},
   "outputs": [],
   "source": [
    "# De-normalize the batch of images-\n",
    "images *= 255.0"
   ]
  },
  {
   "cell_type": "code",
   "execution_count": 30,
   "id": "7b13a40a-39e3-4546-be0d-b7e94970f6ba",
   "metadata": {},
   "outputs": [
    {
     "data": {
      "text/plain": [
       "(tensor(0.), tensor(255.))"
      ]
     },
     "execution_count": 30,
     "metadata": {},
     "output_type": "execute_result"
    }
   ],
   "source": [
    "images.min(), images.max()"
   ]
  },
  {
   "cell_type": "code",
   "execution_count": null,
   "id": "34c0f855-170c-4661-909f-3e7ff5cd5705",
   "metadata": {},
   "outputs": [],
   "source": []
  },
  {
   "cell_type": "code",
   "execution_count": 31,
   "id": "c63d53a2-c24e-4ff4-8e57-0602f27955ea",
   "metadata": {},
   "outputs": [
    {
     "data": {
      "image/png": "[encoded data removed]",
      "text/plain": [
       "<Figure size 576x504 with 50 Axes>"
      ]
     },
     "metadata": {
      "needs_background": "light"
     },
     "output_type": "display_data"
    }
   ],
   "source": [
    "# Visualize 10 images from training set-\n",
    "plt.figure(figsize = (8, 7))\n",
    "for i in range(50):\n",
    "    # 4 rows & 5 columns-\n",
    "    plt.subplot(5, 10, i + 1)\n",
    "    # plt.imshow(images[i], cmap = 'gray')\n",
    "    # 0 to access first channel-\n",
    "    plt.imshow(images[i][0], cmap = 'gray')\n",
    "    \n",
    "plt.suptitle(\"Sample MNIST training images\")\n",
    "plt.show()"
   ]
  },
  {
   "cell_type": "code",
   "execution_count": null,
   "id": "7403b985-c91d-4f86-bf6c-7374e3cab440",
   "metadata": {},
   "outputs": [],
   "source": []
  },
  {
   "cell_type": "code",
   "execution_count": null,
   "id": "77d41658-3f5b-4a8c-9065-f8a36828930b",
   "metadata": {},
   "outputs": [],
   "source": []
  },
  {
   "cell_type": "markdown",
   "id": "81156902-c9f2-4aea-a2f5-64850f2b2af8",
   "metadata": {},
   "source": [
    "### Define Variational Autoencoder architecture using _convolutional_ layers"
   ]
  },
  {
   "cell_type": "code",
   "execution_count": 32,
   "id": "c4daa92d-2620-4150-a0f0-d2159d4c04cc",
   "metadata": {},
   "outputs": [],
   "source": [
    "class LeNet_Encoder(nn.Module):\n",
    "    def __init__(self, latent_space):\n",
    "        super(LeNet_Encoder, self).__init__()\n",
    "        \n",
    "        self.latent_space = latent_space\n",
    "        self.conv1 = nn.Conv2d(\n",
    "            in_channels = 1, out_channels = 6,\n",
    "            kernel_size = 3, stride = 2,\n",
    "            padding = 1, bias = True\n",
    "        )\n",
    "        self.conv2 = nn.Conv2d(\n",
    "            in_channels = 6, out_channels = 16,\n",
    "            kernel_size = 5, stride = 1,\n",
    "            padding = 0, bias = True\n",
    "        )\n",
    "        self.conv3 = nn.Conv2d(\n",
    "            in_channels = 16, out_channels = 16,\n",
    "            kernel_size = 5, stride = 1,\n",
    "            padding = 0, bias = True\n",
    "        )\n",
    "        self.conv4 = nn.Conv2d(\n",
    "            in_channels = 16, out_channels = 16,\n",
    "            kernel_size = 5, stride = 1,\n",
    "            padding = 0, bias = True\n",
    "        )\n",
    "        self.dense = nn.Linear(\n",
    "            in_features = 64, out_features = 10,\n",
    "            bias = True\n",
    "        )\n",
    "        '''\n",
    "        self.dense2 = nn.Linear(\n",
    "            in_features = 30, out_features = 10,\n",
    "            bias = True\n",
    "        )\n",
    "        '''\n",
    "        self.encoder_output = nn.Linear(\n",
    "            in_features = 10, out_features = self.latent_space,\n",
    "            bias = True\n",
    "        )\n",
    "        \n",
    "        self.initialize_weights()\n",
    "        \n",
    "    \n",
    "    def initialize_weights(self):\n",
    "        for m in self.modules():\n",
    "            # print(m)\n",
    "            if isinstance(m, nn.Conv2d):\n",
    "                nn.init.kaiming_uniform_(m.weight)\n",
    "                \n",
    "                # Do not initialize bias (due to batchnorm)-\n",
    "                if m.bias is not None:\n",
    "                    nn.init.constant_(m.bias, 0)\n",
    "                \n",
    "            elif isinstance(m, nn.BatchNorm2d):\n",
    "                # Standard initialization for batch normalization-\n",
    "                nn.init.constant_(m.weight, 1)\n",
    "                nn.init.constant_(m.bias, 0)\n",
    "\n",
    "            elif isinstance(m, nn.Linear):\n",
    "                nn.init.kaiming_normal_(m.weight)\n",
    "                nn.init.constant_(m.bias, 0)\n",
    "        \n",
    "    \n",
    "    def forward(self, x):\n",
    "        x = F.leaky_relu(self.conv1(x))\n",
    "        x = F.leaky_relu(self.conv2(x))\n",
    "        x = F.leaky_relu(self.conv3(x))\n",
    "        x = F.leaky_relu(self.conv4(x))\n",
    "        # print(f\"before flatten, x.shape: {x.shape}\")\n",
    "        x = torch.flatten(x, start_dim = 1)\n",
    "        x = F.leaky_relu(self.dense(x))\n",
    "        # x = F.leaky_relu(self.dense2(x))\n",
    "        x = F.leaky_relu(self.encoder_output(x))\n",
    "        return x\n",
    "        \n",
    "        \n",
    "    def shape_computation(self, x):\n",
    "        print(f\"Input shape: {x.shape}\")\n",
    "        x = self.conv1(x)\n",
    "        print(f\"conv1 output shape: {x.shape}\")\n",
    "        x = self.conv2(x)\n",
    "        print(f\"conv2 output shape: {x.shape}\")\n",
    "        x = self.conv3(x)\n",
    "        print(f\"conv3 output shape: {x.shape}\")\n",
    "        x = self.conv4(x)\n",
    "        print(f\"conv4 output shape: {x.shape}\")\n",
    "        x = torch.flatten(x, start_dim = 1)\n",
    "        print(f\"flattened shape: {x.shape}\")\n",
    "        x = self.dense(x)\n",
    "        print(f\"dense output shape: {x.shape}\")\n",
    "        # x = self.dense2(x)\n",
    "        # print(f\"dense2 output shape: {x.shape}\")\n",
    "        x = self.encoder_output(x)\n",
    "        print(f\"encoder output shape: {x.shape}\")\n",
    "        del x\n",
    "        return None\n",
    "        "
   ]
  },
  {
   "cell_type": "code",
   "execution_count": 33,
   "id": "ba7b11c1-adb2-43c5-879f-7da06c0234c7",
   "metadata": {},
   "outputs": [],
   "source": [
    "class LeNet_Decoder(nn.Module):\n",
    "    def __init__(self, latent_space):\n",
    "        super(LeNet_Decoder, self).__init__()\n",
    "        \n",
    "        self.latent_space = latent_space\n",
    "        self.dense_layer1 = nn.Linear(\n",
    "            in_features = self.latent_space, out_features = 10,\n",
    "            bias = True\n",
    "        )\n",
    "        \n",
    "        self.dense_layer2 = nn.Linear(\n",
    "            in_features = 10, out_features = 64,\n",
    "            bias = True\n",
    "        )\n",
    "        '''\n",
    "        self.dense_layer3 = nn.Linear(\n",
    "            in_features = 30, out_features = 64,\n",
    "            bias = True\n",
    "        )\n",
    "        '''\n",
    "        self.conv_tran_layer1 = nn.ConvTranspose2d(\n",
    "            in_channels = 16, out_channels = 16,\n",
    "            kernel_size = 5, stride = 1,\n",
    "            padding = 0\n",
    "        )\n",
    "        self.conv_tran_layer2 = nn.ConvTranspose2d(\n",
    "            in_channels = 16, out_channels = 16,\n",
    "            kernel_size = 5, stride = 1,\n",
    "            padding = 0\n",
    "        )\n",
    "        self.conv_tran_layer3 = nn.ConvTranspose2d(\n",
    "            in_channels = 16, out_channels = 6,\n",
    "            kernel_size = 5, stride = 1,\n",
    "            padding = 0\n",
    "        )\n",
    "        self.op_conv_tran_layer = nn.ConvTranspose2d(\n",
    "            in_channels = 6, out_channels = 1,\n",
    "            kernel_size = 2, stride = 2,\n",
    "            padding = 0\n",
    "        )\n",
    "        \n",
    "        self.initialize_weights()\n",
    "        \n",
    "    \n",
    "    def initialize_weights(self):\n",
    "        for m in self.modules():\n",
    "            # print(m)\n",
    "            if isinstance(m, nn.Conv2d):\n",
    "                nn.init.kaiming_uniform_(m.weight)\n",
    "                \n",
    "                # Do not initialize bias (due to batchnorm)-\n",
    "                if m.bias is not None:\n",
    "                    nn.init.constant_(m.bias, 0)\n",
    "                \n",
    "            elif isinstance(m, nn.BatchNorm2d):\n",
    "                # Standard initialization for batch normalization-\n",
    "                nn.init.constant_(m.weight, 1)\n",
    "                nn.init.constant_(m.bias, 0)\n",
    "\n",
    "            elif isinstance(m, nn.Linear):\n",
    "                nn.init.kaiming_normal_(m.weight)\n",
    "                nn.init.constant_(m.bias, 0)\n",
    "        \n",
    "        \n",
    "    def forward(self, x):\n",
    "        x = F.leaky_relu(self.dense_layer1(x))\n",
    "        x = F.leaky_relu(self.dense_layer2(x))\n",
    "        # x = F.leaky_relu(self.dense_layer3(x))\n",
    "        x = x.view(-1, 16, 2, 2)\n",
    "        x = F.leaky_relu(self.conv_tran_layer1(x))\n",
    "        x = F.leaky_relu(self.conv_tran_layer2(x))\n",
    "        x = F.leaky_relu(self.conv_tran_layer3(x))\n",
    "        x = self.op_conv_tran_layer(x)\n",
    "        return x\n",
    " \n",
    "\n",
    "    def shape_computation(self, x):\n",
    "        print(f\"Input shape: {x.shape}\")\n",
    "        x = self.dense_layer1(x)\n",
    "        print(f\"dense1 output shape: {x.shape}\")\n",
    "        x = self.dense_layer2(x)\n",
    "        print(f\"dense2 output shape: {x.shape}\")\n",
    "        # x = self.dense_layer3(x)\n",
    "        # print(f\"dense3 output shape: {x.shape}\")\n",
    "        x = x.view(-1, 16, 2, 2)\n",
    "        print(f\"reshaped output shape: {x.shape}\")\n",
    "        x = self.conv_tran_layer1(x)\n",
    "        print(f\"conv transpose1 output shape: {x.shape}\")\n",
    "        x = self.conv_tran_layer2(x)\n",
    "        print(f\"conv transpose2 output shape: {x.shape}\")\n",
    "        x = self.conv_tran_layer3(x)\n",
    "        print(f\"conv transpose3 output shape: {x.shape}\")\n",
    "        x = self.op_conv_tran_layer(x)\n",
    "        print(f\"decoder output shape: {x.shape}\")\n",
    "        del x\n",
    "        return None\n"
   ]
  },
  {
   "cell_type": "code",
   "execution_count": null,
   "id": "4696c004-58e3-4b72-84ab-7766fddde76c",
   "metadata": {},
   "outputs": [],
   "source": []
  },
  {
   "cell_type": "code",
   "execution_count": 34,
   "id": "134ffb7a-22fd-4e72-b361-960a260a7102",
   "metadata": {},
   "outputs": [],
   "source": [
    "class VAE_Conv(nn.Module):\n",
    "    def __init__(self, latent_space = 5):\n",
    "        super(VAE_Conv, self).__init__()\n",
    "        \n",
    "        self.latent_space = latent_space\n",
    "        \n",
    "        # Encoder-\n",
    "        self.encoder = LeNet_Encoder(latent_space = self.latent_space).to(device)\n",
    "        \n",
    "        # Two additional layers 'mu' & 'log_var' to convert the bottleneck into the μ and σ vectors-\n",
    "        self.mu = nn.Linear(\n",
    "            in_features = self.latent_space, out_features = self.latent_space,\n",
    "            bias = True\n",
    "        )\n",
    "        self.log_var = nn.Linear(\n",
    "            in_features = self.latent_space, out_features = self.latent_space,\n",
    "            bias = True\n",
    "        )\n",
    "        \n",
    "        # Decoder-\n",
    "        self.decoder = LeNet_Decoder(latent_space = self.latent_space).to(device)\n",
    "        \n",
    "        \n",
    "    def reparameterize(self, mu, log_var):\n",
    "        '''\n",
    "        Input arguments:\n",
    "        1. mu - mean coming from the encoder's latent space\n",
    "        2. log_var - log variance coming from the encoder's latent space\n",
    "        '''\n",
    "        # Compute standard deviation using 'log_var'-\n",
    "        std = torch.exp(0.5 * log_var)\n",
    "        \n",
    "        # 'eps' samples from a normal standard distribution to add\n",
    "        # stochasticity to the sampling process-\n",
    "        eps = torch.randn_like(std)\n",
    "        \n",
    "        # Reparameterization trick - sample as if it's from the input\n",
    "        # space-\n",
    "        z = mu + (std * eps)\n",
    "        \n",
    "        return z\n",
    "    \n",
    "    \n",
    "    def forward(self, x):\n",
    "        # Encode input data-\n",
    "        x = self.encoder(x)\n",
    "        # NOTE: The line of code above does NOT give us the latent vector!\n",
    "        \n",
    "        mu = self.mu(x)\n",
    "        log_var = self.log_var(x)\n",
    "        \n",
    "        # Obtain the latent vector using reparameterization-\n",
    "        z = self.reparameterize(mu, log_var)\n",
    "        # latent vector 'z' is obtained through reparameterization trick using mu and log_var\n",
    "        \n",
    "        # Decode latent vector-\n",
    "        recon_data = torch.sigmoid(self.decoder(z))\n",
    "        # recon_data = torch.tanh(self.decoder(z))\n",
    "        \n",
    "        return recon_data, mu, log_var\n",
    "    \n",
    "    \n",
    "    def shape_computation(self, x):\n",
    "        print(f\"Input shape: {x.shape}\")\n",
    "        x = self.encoder(x)\n",
    "        print(f\"Encoder output shape: {x.shape}\")\n",
    "        mu = self.mu(x)\n",
    "        log_var = self.log_var(x)\n",
    "        z = self.reparameterize(mu, log_var)\n",
    "        print(f\"mu.shape: {mu.shape}, log_var.shape: {log_var.shape}\"\n",
    "              f\" & z.shape: {z.shape}\")\n",
    "        x = self.decoder(z)\n",
    "        print(f\"Decoder output shape: {x.shape}\")\n",
    "        del x, mu, log_var, z\n",
    "        return None\n",
    "    \n",
    "    "
   ]
  },
  {
   "cell_type": "code",
   "execution_count": null,
   "id": "8a97aaf2-078c-4814-89f6-c50f6fabb9a2",
   "metadata": {},
   "outputs": [],
   "source": []
  },
  {
   "cell_type": "code",
   "execution_count": 35,
   "id": "c860ddf0-1696-4fb7-a5f9-73b301925075",
   "metadata": {},
   "outputs": [],
   "source": [
    "# Initialize a VAE objetc-\n",
    "model = VAE_Conv(latent_space = 3).to(device)"
   ]
  },
  {
   "cell_type": "code",
   "execution_count": null,
   "id": "0ff6b87d-d3a0-4bb1-b563-9383583b5fc9",
   "metadata": {},
   "outputs": [],
   "source": []
  },
  {
   "cell_type": "code",
   "execution_count": null,
   "id": "2bc50f58-a33a-4695-a965-d9457e0e8495",
   "metadata": {},
   "outputs": [],
   "source": [
    "# print(model)"
   ]
  },
  {
   "cell_type": "code",
   "execution_count": 36,
   "id": "bde96bb4-603a-4d4d-8c88-db73fe31cb02",
   "metadata": {},
   "outputs": [
    {
     "name": "stdout",
     "output_type": "stream",
     "text": [
      "layer.shape = torch.Size([6, 1, 3, 3]) has 54 parameters\n",
      "layer.shape = torch.Size([6]) has 6 parameters\n",
      "layer.shape = torch.Size([16, 6, 5, 5]) has 2400 parameters\n",
      "layer.shape = torch.Size([16]) has 16 parameters\n",
      "layer.shape = torch.Size([16, 16, 5, 5]) has 6400 parameters\n",
      "layer.shape = torch.Size([16]) has 16 parameters\n",
      "layer.shape = torch.Size([16, 16, 5, 5]) has 6400 parameters\n",
      "layer.shape = torch.Size([16]) has 16 parameters\n",
      "layer.shape = torch.Size([10, 64]) has 640 parameters\n",
      "layer.shape = torch.Size([10]) has 10 parameters\n",
      "layer.shape = torch.Size([3, 10]) has 30 parameters\n",
      "layer.shape = torch.Size([3]) has 3 parameters\n",
      "layer.shape = torch.Size([3, 3]) has 9 parameters\n",
      "layer.shape = torch.Size([3]) has 3 parameters\n",
      "layer.shape = torch.Size([3, 3]) has 9 parameters\n",
      "layer.shape = torch.Size([3]) has 3 parameters\n",
      "layer.shape = torch.Size([10, 3]) has 30 parameters\n",
      "layer.shape = torch.Size([10]) has 10 parameters\n",
      "layer.shape = torch.Size([64, 10]) has 640 parameters\n",
      "layer.shape = torch.Size([64]) has 64 parameters\n",
      "layer.shape = torch.Size([16, 16, 5, 5]) has 6400 parameters\n",
      "layer.shape = torch.Size([16]) has 16 parameters\n",
      "layer.shape = torch.Size([16, 16, 5, 5]) has 6400 parameters\n",
      "layer.shape = torch.Size([16]) has 16 parameters\n",
      "layer.shape = torch.Size([16, 6, 5, 5]) has 2400 parameters\n",
      "layer.shape = torch.Size([6]) has 6 parameters\n",
      "layer.shape = torch.Size([6, 1, 2, 2]) has 24 parameters\n",
      "layer.shape = torch.Size([1]) has 1 parameters\n"
     ]
    }
   ],
   "source": [
    "# Count number of layer-wise parameters and total parameters-\n",
    "tot_params = 0\n",
    "for param in model.parameters():\n",
    "    print(f\"layer.shape = {param.shape} has {param.nelement()} parameters\")\n",
    "    tot_params += param.nelement()"
   ]
  },
  {
   "cell_type": "code",
   "execution_count": 37,
   "id": "19dc32ee-0f02-4912-a87b-1dc4425c5669",
   "metadata": {},
   "outputs": [
    {
     "name": "stdout",
     "output_type": "stream",
     "text": [
      "Total number of parameters in VAE Conv model = 32022\n"
     ]
    }
   ],
   "source": [
    "print(f\"Total number of parameters in VAE Conv model = {tot_params}\")"
   ]
  },
  {
   "cell_type": "code",
   "execution_count": null,
   "id": "15532c76-5f54-4dbf-a0b5-3d1a3d41e0af",
   "metadata": {},
   "outputs": [],
   "source": []
  },
  {
   "cell_type": "markdown",
   "id": "10180047-ebcf-4668-9a41-52214832f1a2",
   "metadata": {},
   "source": [
    "### Initial variance - Sanity check:\n",
    "\n",
    "Before training the VAE neural network model, there should be some initial variance."
   ]
  },
  {
   "cell_type": "code",
   "execution_count": 40,
   "id": "5ceb04a8-2c72-4341-a35c-50d151dddfcc",
   "metadata": {},
   "outputs": [
    {
     "name": "stdout",
     "output_type": "stream",
     "text": [
      "torch.Size([3, 3]) 9\n",
      "torch.Size([3]) 3\n"
     ]
    }
   ],
   "source": [
    "for x in model.mu.parameters():\n",
    "    print(x.shape, x.nelement())"
   ]
  },
  {
   "cell_type": "code",
   "execution_count": 41,
   "id": "6855f32c-16de-4276-a95a-da0c3051f646",
   "metadata": {},
   "outputs": [],
   "source": [
    "log_var_wts = model.log_var.weight\n",
    "mu_wts = model.mu.weight"
   ]
  },
  {
   "cell_type": "code",
   "execution_count": 42,
   "id": "a4f1adb8-b8fa-41f6-8c8d-c1a24ee90501",
   "metadata": {},
   "outputs": [],
   "source": [
    "mu_wts = mu_wts.detach().cpu().numpy()\n",
    "log_var_wts = log_var_wts.detach().cpu().numpy()"
   ]
  },
  {
   "cell_type": "code",
   "execution_count": 43,
   "id": "fab189d5-b508-49d2-b2de-99a97f8e287f",
   "metadata": {},
   "outputs": [
    {
     "data": {
      "text/plain": [
       "((3, 3), (3, 3))"
      ]
     },
     "execution_count": 43,
     "metadata": {},
     "output_type": "execute_result"
    }
   ],
   "source": [
    "mu_wts.shape, log_var_wts.shape"
   ]
  },
  {
   "cell_type": "code",
   "execution_count": null,
   "id": "a783e454-7dc3-47f2-90de-c40a27ad81c2",
   "metadata": {},
   "outputs": [],
   "source": []
  },
  {
   "cell_type": "code",
   "execution_count": 44,
   "id": "56b20880-500b-4073-b874-c5e9e194c814",
   "metadata": {},
   "outputs": [
    {
     "data": {
      "image/png": "[encoded data removed]",
      "text/plain": [
       "<Figure size 360x360 with 1 Axes>"
      ]
     },
     "metadata": {
      "needs_background": "light"
     },
     "output_type": "display_data"
    }
   ],
   "source": [
    "sns.displot(data = mu_wts.flatten(), bins = int(np.ceil(np.sqrt(mu_wts.size))))\n",
    "plt.title(\"mu randomly initialized - Visualization\")\n",
    "plt.show()"
   ]
  },
  {
   "cell_type": "code",
   "execution_count": 45,
   "id": "f88f920c-1821-4892-a0b2-ec3599066380",
   "metadata": {},
   "outputs": [
    {
     "data": {
      "image/png": "[encoded data removed]",
      "text/plain": [
       "<Figure size 360x360 with 1 Axes>"
      ]
     },
     "metadata": {
      "needs_background": "light"
     },
     "output_type": "display_data"
    }
   ],
   "source": [
    "sns.displot(data = log_var_wts.flatten(), bins = int(np.ceil(np.sqrt(log_var_wts.size))))\n",
    "plt.title(\"log variance randomly initialized - Visualization\")\n",
    "plt.show()"
   ]
  },
  {
   "cell_type": "code",
   "execution_count": 46,
   "id": "578feabd-88d6-4825-9423-7c405a9c38de",
   "metadata": {},
   "outputs": [],
   "source": [
    "del mu_wts, log_var_wts"
   ]
  },
  {
   "cell_type": "code",
   "execution_count": null,
   "id": "b137f5cd-4c93-4538-9ecd-630eaba5a5da",
   "metadata": {},
   "outputs": [],
   "source": []
  },
  {
   "cell_type": "code",
   "execution_count": 47,
   "id": "ba95dc6b-7244-45af-bc8f-d9bc9ff055f6",
   "metadata": {},
   "outputs": [],
   "source": [
    "images = images.to(device)"
   ]
  },
  {
   "cell_type": "code",
   "execution_count": 48,
   "id": "6ea8fe83-5237-4adc-8cdf-735eb2c4422b",
   "metadata": {},
   "outputs": [
    {
     "data": {
      "text/plain": [
       "torch.Size([256, 1, 28, 28])"
      ]
     },
     "execution_count": 48,
     "metadata": {},
     "output_type": "execute_result"
    }
   ],
   "source": [
    "images.shape"
   ]
  },
  {
   "cell_type": "code",
   "execution_count": 49,
   "id": "2e556c89-162e-42aa-bcf9-06e88ff9605b",
   "metadata": {},
   "outputs": [
    {
     "data": {
      "text/plain": [
       "(tensor(0., device='cuda:0'), tensor(255., device='cuda:0'))"
      ]
     },
     "execution_count": 49,
     "metadata": {},
     "output_type": "execute_result"
    }
   ],
   "source": [
    "images.min(), images.max()"
   ]
  },
  {
   "cell_type": "code",
   "execution_count": 50,
   "id": "069a1a91-252e-4e76-87b6-ca5007f7656e",
   "metadata": {},
   "outputs": [],
   "source": [
    "# Sanity check-\n",
    "recon_images, mu, log_var = model(images)"
   ]
  },
  {
   "cell_type": "code",
   "execution_count": 51,
   "id": "12c16baf-5d48-47fd-8f18-61024e61e179",
   "metadata": {},
   "outputs": [
    {
     "data": {
      "text/plain": [
       "(torch.Size([256, 1, 28, 28]), torch.Size([256, 3]), torch.Size([256, 3]))"
      ]
     },
     "execution_count": 51,
     "metadata": {},
     "output_type": "execute_result"
    }
   ],
   "source": [
    "recon_images.shape, mu.shape, log_var.shape"
   ]
  },
  {
   "cell_type": "code",
   "execution_count": 52,
   "id": "013f9625-8530-44e9-9e0f-30d926bcc715",
   "metadata": {},
   "outputs": [
    {
     "data": {
      "text/plain": [
       "(array(0., dtype=float32), array(1., dtype=float32))"
      ]
     },
     "execution_count": 52,
     "metadata": {},
     "output_type": "execute_result"
    }
   ],
   "source": [
    "recon_images.min().detach().cpu().numpy(), recon_images.max().detach().cpu().numpy()"
   ]
  },
  {
   "cell_type": "code",
   "execution_count": 53,
   "id": "64c376b6-fbe3-421c-a202-847eac66e66d",
   "metadata": {},
   "outputs": [],
   "source": [
    "del recon_images, mu, log_var"
   ]
  },
  {
   "cell_type": "code",
   "execution_count": null,
   "id": "36b9e27b-f255-4a5e-a52e-95a96a670657",
   "metadata": {},
   "outputs": [],
   "source": []
  },
  {
   "cell_type": "code",
   "execution_count": null,
   "id": "92f42140-3d1b-4d1d-81bc-921d6366dce8",
   "metadata": {},
   "outputs": [],
   "source": []
  },
  {
   "cell_type": "code",
   "execution_count": 38,
   "id": "cf4eeb0d-4591-4e50-bf28-12f7a2402758",
   "metadata": {},
   "outputs": [
    {
     "name": "stdout",
     "output_type": "stream",
     "text": [
      "Adam optimizer with learning rate = 0.001 will be used\n"
     ]
    }
   ],
   "source": [
    "print(f\"Adam optimizer with learning rate = {learning_rate} will be used\")"
   ]
  },
  {
   "cell_type": "code",
   "execution_count": 39,
   "id": "8e74e056-e63e-4260-89e6-99a86fc6fa6a",
   "metadata": {},
   "outputs": [],
   "source": [
    "# Define gradient descent optimizer-\n",
    "optimizer = torch.optim.Adam(model.parameters(), lr = learning_rate)\n",
    "\n",
    "# optimizer = torch.optim.SGD(model.parameters(), lr = 0.01, momentum = 0.9, weight_decay = 5e-4)"
   ]
  },
  {
   "cell_type": "code",
   "execution_count": null,
   "id": "0eeede8b-1f03-49a1-9413-9b65d3587dd0",
   "metadata": {},
   "outputs": [],
   "source": []
  },
  {
   "cell_type": "code",
   "execution_count": null,
   "id": "13955768-396e-4dc2-811f-c769b2a10c4a",
   "metadata": {},
   "outputs": [],
   "source": []
  },
  {
   "cell_type": "code",
   "execution_count": 40,
   "id": "ac73daed-4bfd-445c-9879-6cf06e8a8671",
   "metadata": {},
   "outputs": [],
   "source": [
    "def total_loss(data, data_recon, mu, log_var, alpha = 1, beta = 1):\n",
    "    '''\n",
    "    Function to compute loss = reconstruction loss * reconstruction_term_weight + KL-Divergence loss.\n",
    "    KL-Divergence = 0.5 * sum(1 + log(sigma^2) - mu^2 - sigma^2)\n",
    "    \n",
    "    Inputs:\n",
    "    1. mu: mean from the latent vector\n",
    "    2. logvar: log variance from the latent vector\n",
    "    3. alpha (int): Hyperparameter to control the importance of reconstruction\n",
    "    loss vs KL-Divergence Loss - reconstruction term weight\n",
    "    4. data: training data\n",
    "    5. data_recon: VAE's reconstructed data\n",
    "    '''\n",
    "    \n",
    "    # Sum over latent dimensions-\n",
    "    kl_div = -0.5 * torch.sum(1 + log_var - mu.pow(2) - torch.exp(log_var), axis = 1)\n",
    "    # kl_div = -0.5 * torch.sum(1 + log_var - (mu **2) - torch.exp(log_var), axis = 1)\n",
    "    \n",
    "    # kl_div.shape\n",
    "    # torch.Size([32])\n",
    "    \n",
    "    batchsize = kl_div.size(0)\n",
    "\n",
    "    # Average over batch dimension-\n",
    "    kl_div = kl_div.mean()\n",
    "    \n",
    "    reconstruction_loss_fn = F.mse_loss\n",
    "    recon_loss = reconstruction_loss_fn(data_recon, data, reduction = 'none')\n",
    "    \n",
    "    # recon_loss.shape\n",
    "    # torch.Size([32, 1, 28, 28])\n",
    "    \n",
    "    # Sum over all pixels-\n",
    "    recon_loss = recon_loss.view(batchsize, -1).sum(axis = 1)\n",
    "    \n",
    "    # recon_loss.shape\n",
    "    # torch.Size([32])\n",
    "    \n",
    "    # Average over mini-batch dimension-\n",
    "    recon_loss = recon_loss.mean()\n",
    "    \n",
    "    final_loss = (alpha * recon_loss) + (beta * kl_div)\n",
    "    \n",
    "    return final_loss, recon_loss, kl_div\n"
   ]
  },
  {
   "cell_type": "code",
   "execution_count": null,
   "id": "71c8b904-71e7-4b32-bfde-f4cb9cbc991c",
   "metadata": {},
   "outputs": [],
   "source": [
    "'''\n",
    "# Sanity check-\n",
    "final_loss, recon_loss, kl_div_loss = total_loss(\n",
    "    data = images, data_recon = recon_images,\n",
    "    mu = mu, log_var = log_var,\n",
    "    alpha = 1, beta = 1\n",
    ")\n",
    "'''"
   ]
  },
  {
   "cell_type": "code",
   "execution_count": null,
   "id": "77640ef9-86a4-47fc-a1a8-5e5580b9d44d",
   "metadata": {},
   "outputs": [],
   "source": [
    "'''\n",
    "print(f\"final loss = {final_loss.cpu().detach().numpy():.4f},\"\n",
    "      f\" reconstruction loss = {recon_loss.cpu().detach().numpy():.4f}\"\n",
    "      f\" & kl-div loss = {kl_div_loss.cpu().detach().numpy():.4f}\"\n",
    "     )\n",
    "'''"
   ]
  },
  {
   "cell_type": "code",
   "execution_count": null,
   "id": "cb8451a2-c052-4420-b705-2bf3119293f5",
   "metadata": {},
   "outputs": [],
   "source": []
  },
  {
   "cell_type": "code",
   "execution_count": null,
   "id": "fdf99a9c-7a9f-4edd-b85d-01beb92747b4",
   "metadata": {},
   "outputs": [],
   "source": []
  },
  {
   "cell_type": "code",
   "execution_count": 43,
   "id": "55a47fa4-1eff-41bc-a8ac-bf6130140baa",
   "metadata": {},
   "outputs": [],
   "source": [
    "def train_one_epoch(model, dataloader, alpha, beta):\n",
    "    \n",
    "    # Place model to device-\n",
    "    model.to(device)\n",
    "    \n",
    "    # Enable training mode-\n",
    "    model.train()\n",
    "    \n",
    "    # Initialize variables to keep track of 3 losses-\n",
    "    running_final_loss = 0.0\n",
    "    running_recon_loss = 0.0\n",
    "    running_kl_loss = 0.0\n",
    "    \n",
    "    \n",
    "    for i, data in tqdm(\n",
    "        enumerate(dataloader),\n",
    "        # total = int(len(train_dataset) / dataloader.batch_size)\n",
    "        total = int(len(train) / dataloader.batch_size)\n",
    "        ):\n",
    "      \n",
    "        # Ignore labels-\n",
    "        # data, _ = data\n",
    "\n",
    "        # Push data points to 'device'-\n",
    "        data = data.to(device)\n",
    "        \n",
    "        # Flatten input data to feed into a dense layer-\n",
    "        # data = data.view(data.size(0), -1)\n",
    "        \n",
    "        # Empty accumulated gradients-\n",
    "        optimizer.zero_grad()\n",
    "        \n",
    "        # Perform forward propagation-\n",
    "        recon_data, mu, logvar = model(data)\n",
    "        \n",
    "        final_loss, recon_loss, kl_div_loss = total_loss(\n",
    "            data = data, data_recon = recon_data,\n",
    "            mu = mu, log_var = logvar,\n",
    "            alpha = alpha, beta = beta\n",
    "        )\n",
    "        \n",
    "        # Update losses-\n",
    "        running_final_loss += final_loss.item()\n",
    "        running_kl_loss += kl_div_loss.cpu().detach().numpy()\n",
    "        running_recon_loss += recon_loss.cpu().detach().numpy()\n",
    "        \n",
    "        # Compute gradients wrt total loss-\n",
    "        final_loss.backward()\n",
    "        \n",
    "        # Perform gradient descent-\n",
    "        optimizer.step()\n",
    "    \n",
    "    # Compute losses as float values-\n",
    "    train_loss = running_final_loss / len(dataloader.dataset)\n",
    "    kl_loss = running_kl_loss / len(dataloader.dataset)\n",
    "    recon_loss = running_recon_loss / len(dataloader.dataset)\n",
    "    \n",
    "    return train_loss, kl_loss, recon_loss\n"
   ]
  },
  {
   "cell_type": "code",
   "execution_count": 44,
   "id": "df50563a-0221-4820-b5f3-15da1935b2fa",
   "metadata": {},
   "outputs": [],
   "source": [
    "def validate_one_epoch(model, dataloader, alpha, beta):\n",
    "    \n",
    "    # Place model to device-\n",
    "    model.to(device)\n",
    "    \n",
    "    # Enable evaluation mode-\n",
    "    model.eval()\n",
    "    \n",
    "    running_final_loss = 0.0\n",
    "    running_recon_loss = 0.0\n",
    "    running_kl_loss = 0.0\n",
    "    \n",
    "    with torch.no_grad():\n",
    "        for i, data in tqdm(\n",
    "            enumerate(dataloader),\n",
    "            # total = int(len(test_dataset) / dataloader.batch_size)):\n",
    "            total = int(len(test) / test_loader.batch_size)):\n",
    "          \n",
    "            # Ignore labels-\n",
    "            # data, _ = data\n",
    "\n",
    "            # Push data points to 'device'-\n",
    "            data = data.to(device)\n",
    "            \n",
    "            # Flatten data to feed into a dense layer-\n",
    "            # data = data.view(data.size(0), -1)\n",
    "            \n",
    "            # Forward propagation-\n",
    "            recon_data, mu, logvar = model(data)\n",
    "            \n",
    "            final_loss, recon_loss, kl_div_loss = total_loss(\n",
    "                data = data, data_recon = recon_data,\n",
    "                mu = mu, log_var = logvar,\n",
    "                alpha = alpha, beta = beta\n",
    "            )\n",
    "        \n",
    "            # Update losses-\n",
    "            running_final_loss += final_loss.item()\n",
    "            running_kl_loss += kl_div_loss.cpu().detach().numpy()\n",
    "            running_recon_loss += recon_loss.cpu().detach().numpy()\n",
    "            \n",
    "                \n",
    "    val_loss = running_final_loss / len(dataloader.dataset)\n",
    "    val_kl_loss = running_kl_loss / len(dataloader.dataset)\n",
    "    val_recon_loss = running_recon_loss / len(dataloader.dataset)\n",
    "    \n",
    "    return val_loss, val_kl_loss, val_recon_loss\n",
    "\n",
    "    "
   ]
  },
  {
   "cell_type": "code",
   "execution_count": null,
   "id": "c9bbca5a-2858-4d7d-af58-0889a92a8942",
   "metadata": {},
   "outputs": [],
   "source": [
    "'''\n",
    "# Sanity check-\n",
    "train_loss, kl_train_loss, recon_train_loss = train_one_epoch(\n",
    "    model = model, dataloader = train_loader,\n",
    "    alpha = 1, beta = 1\n",
    ")\n",
    "'''"
   ]
  },
  {
   "cell_type": "code",
   "execution_count": null,
   "id": "53f5a60e-5553-4d7c-9948-e7b326f4edb6",
   "metadata": {},
   "outputs": [],
   "source": [
    "'''\n",
    "val_loss, val_kl_loss, val_recon_loss = validate_one_epoch(\n",
    "    model = model, dataloader = test_loader,\n",
    "    alpha = 1, beta = 1\n",
    ")\n",
    "'''"
   ]
  },
  {
   "cell_type": "code",
   "execution_count": null,
   "id": "e6fd568f-cc24-4e40-8c42-9b2841d83182",
   "metadata": {},
   "outputs": [],
   "source": [
    "'''\n",
    "print(f\"After one epoch: train loss = {train_loss:.4f}, recon loss = {recon_train_loss:.4f}\"\n",
    "      f\" & kl-div loss = {kl_train_loss:.4f}\"\n",
    "     )\n",
    "'''"
   ]
  },
  {
   "cell_type": "code",
   "execution_count": null,
   "id": "4873ff07-effb-402a-a731-0ec3af9f62cf",
   "metadata": {},
   "outputs": [],
   "source": [
    "'''\n",
    "print(f\"After one epoch: val train loss = {val_loss:.4f}, val recon loss = {val_recon_loss:.4f}\"\n",
    "      f\" & val kl-div loss = {val_kl_loss:.4f}\"\n",
    "     )\n",
    "'''"
   ]
  },
  {
   "cell_type": "code",
   "execution_count": null,
   "id": "2a21a697-feda-4eea-bd8c-875442ca5322",
   "metadata": {},
   "outputs": [],
   "source": []
  },
  {
   "cell_type": "code",
   "execution_count": null,
   "id": "54648c05-3d69-4e5e-8770-196e966574f8",
   "metadata": {},
   "outputs": [],
   "source": []
  },
  {
   "cell_type": "markdown",
   "id": "ed088246-0263-4d4b-815d-78900045110c",
   "metadata": {},
   "source": [
    "### Train VAE model "
   ]
  },
  {
   "cell_type": "code",
   "execution_count": 45,
   "id": "211f1230-dc78-4fb2-8d7d-a4638d45ac9b",
   "metadata": {},
   "outputs": [],
   "source": [
    "# Specify alpha - Hyperparameter to control the importance of reconstruction\n",
    "# loss vs KL-Divergence Loss-\n",
    "alpha = 1\n",
    "beta = 1"
   ]
  },
  {
   "cell_type": "code",
   "execution_count": null,
   "id": "08cc7665-8649-4bdf-b960-2aff762e5440",
   "metadata": {},
   "outputs": [],
   "source": []
  },
  {
   "cell_type": "code",
   "execution_count": 46,
   "id": "7590d624-d225-41f0-bf7b-d331077ce12a",
   "metadata": {},
   "outputs": [],
   "source": [
    "# Python dict to contain training metrics-\n",
    "train_history = {}"
   ]
  },
  {
   "cell_type": "code",
   "execution_count": null,
   "id": "7209bcf3-db27-4942-a5b9-00663432a784",
   "metadata": {},
   "outputs": [],
   "source": []
  },
  {
   "cell_type": "code",
   "execution_count": 47,
   "id": "82769bb9-af9c-4c44-bb0d-74348e529f80",
   "metadata": {},
   "outputs": [
    {
     "name": "stdout",
     "output_type": "stream",
     "text": [
      "Training VAE model for 60 epochs\n"
     ]
    }
   ],
   "source": [
    "print(f\"Training VAE model for {num_epochs} epochs\")"
   ]
  },
  {
   "cell_type": "code",
   "execution_count": null,
   "id": "ba060fbd-f507-4d6c-8112-744b7e7e5f0f",
   "metadata": {},
   "outputs": [],
   "source": []
  },
  {
   "cell_type": "code",
   "execution_count": 48,
   "id": "b18c02b8-638b-4378-8ee2-fae264a56056",
   "metadata": {},
   "outputs": [],
   "source": [
    "# Initialize parameters for Early Stopping manual implementation-\n",
    "best_val_loss = 10000\n",
    "# loc_patience = 0"
   ]
  },
  {
   "cell_type": "code",
   "execution_count": null,
   "id": "e85b6c94-07ea-47f9-a44b-b44c2f1fa3af",
   "metadata": {},
   "outputs": [],
   "source": [
    "# User input parameters for Early Stopping in manual implementation-\n",
    "# minimum_delta = 0.001\n",
    "# patience = 3"
   ]
  },
  {
   "cell_type": "code",
   "execution_count": null,
   "id": "aae4639f-9c8f-43d2-a211-9a2a574800eb",
   "metadata": {},
   "outputs": [],
   "source": []
  },
  {
   "cell_type": "code",
   "execution_count": null,
   "id": "2a7dbfa1-beb2-4dd1-bc75-3011aaea6a4c",
   "metadata": {},
   "outputs": [],
   "source": []
  },
  {
   "cell_type": "code",
   "execution_count": 50,
   "id": "43d999c0-420f-419c-ab92-851ac952769c",
   "metadata": {},
   "outputs": [
    {
     "name": "stderr",
     "output_type": "stream",
     "text": [
      "235it [00:01, 139.84it/s]                                                                                                                               \n",
      "40it [00:00, 716.83it/s]                                                                                                                                \n"
     ]
    },
    {
     "name": "stdout",
     "output_type": "stream",
     "text": [
      "Epoch = 1; train loss = 0.4090 , kl-loss = 0.0102, recon loss = 0.3989 , val loss = 0.3305, val kl-loss = 0.0027  & val recon loss = 0.3279\n",
      "Saving model with lowest val_loss = 0.3305\n",
      "\n"
     ]
    },
    {
     "name": "stderr",
     "output_type": "stream",
     "text": [
      "235it [00:01, 187.67it/s]                                                                                                                               \n",
      "40it [00:00, 725.92it/s]                                                                                                                                \n"
     ]
    },
    {
     "name": "stdout",
     "output_type": "stream",
     "text": [
      "Epoch = 2; train loss = 0.3136 , kl-loss = 0.0013, recon loss = 0.3123 , val loss = 0.3249, val kl-loss = 0.0007  & val recon loss = 0.3242\n",
      "Saving model with lowest val_loss = 0.3249\n",
      "\n"
     ]
    },
    {
     "name": "stderr",
     "output_type": "stream",
     "text": [
      "235it [00:01, 187.68it/s]                                                                                                                               \n",
      "40it [00:00, 723.64it/s]                                                                                                                                \n"
     ]
    },
    {
     "name": "stdout",
     "output_type": "stream",
     "text": [
      "Epoch = 3; train loss = 0.3111 , kl-loss = 0.0007, recon loss = 0.3104 , val loss = 0.3258, val kl-loss = 0.0007  & val recon loss = 0.3251\n"
     ]
    },
    {
     "name": "stderr",
     "output_type": "stream",
     "text": [
      "235it [00:01, 187.02it/s]                                                                                                                               \n",
      "40it [00:00, 723.13it/s]                                                                                                                                \n"
     ]
    },
    {
     "name": "stdout",
     "output_type": "stream",
     "text": [
      "Epoch = 4; train loss = 0.3103 , kl-loss = 0.0010, recon loss = 0.3094 , val loss = 0.3228, val kl-loss = 0.0011  & val recon loss = 0.3217\n",
      "Saving model with lowest val_loss = 0.3228\n",
      "\n"
     ]
    },
    {
     "name": "stderr",
     "output_type": "stream",
     "text": [
      "235it [00:01, 188.08it/s]                                                                                                                               \n",
      "40it [00:00, 725.78it/s]                                                                                                                                \n"
     ]
    },
    {
     "name": "stdout",
     "output_type": "stream",
     "text": [
      "Epoch = 5; train loss = 0.3099 , kl-loss = 0.0012, recon loss = 0.3086 , val loss = 0.3226, val kl-loss = 0.0014  & val recon loss = 0.3211\n",
      "Saving model with lowest val_loss = 0.3226\n",
      "\n"
     ]
    },
    {
     "name": "stderr",
     "output_type": "stream",
     "text": [
      "235it [00:01, 188.48it/s]                                                                                                                               \n",
      "40it [00:00, 723.98it/s]                                                                                                                                \n"
     ]
    },
    {
     "name": "stdout",
     "output_type": "stream",
     "text": [
      "Epoch = 6; train loss = 0.3096 , kl-loss = 0.0014, recon loss = 0.3082 , val loss = 0.3235, val kl-loss = 0.0015  & val recon loss = 0.3221\n"
     ]
    },
    {
     "name": "stderr",
     "output_type": "stream",
     "text": [
      "235it [00:01, 187.82it/s]                                                                                                                               \n",
      "40it [00:00, 726.50it/s]                                                                                                                                \n"
     ]
    },
    {
     "name": "stdout",
     "output_type": "stream",
     "text": [
      "Epoch = 7; train loss = 0.3094 , kl-loss = 0.0016, recon loss = 0.3078 , val loss = 0.3232, val kl-loss = 0.0018  & val recon loss = 0.3214\n"
     ]
    },
    {
     "name": "stderr",
     "output_type": "stream",
     "text": [
      "235it [00:01, 187.94it/s]                                                                                                                               \n",
      "40it [00:00, 724.08it/s]                                                                                                                                \n"
     ]
    },
    {
     "name": "stdout",
     "output_type": "stream",
     "text": [
      "Epoch = 8; train loss = 0.3090 , kl-loss = 0.0018, recon loss = 0.3071 , val loss = 0.3216, val kl-loss = 0.0020  & val recon loss = 0.3196\n",
      "Saving model with lowest val_loss = 0.3216\n",
      "\n"
     ]
    },
    {
     "name": "stderr",
     "output_type": "stream",
     "text": [
      "235it [00:01, 188.38it/s]                                                                                                                               \n",
      "40it [00:00, 728.19it/s]                                                                                                                                \n"
     ]
    },
    {
     "name": "stdout",
     "output_type": "stream",
     "text": [
      "Epoch = 9; train loss = 0.3087 , kl-loss = 0.0021, recon loss = 0.3066 , val loss = 0.3214, val kl-loss = 0.0022  & val recon loss = 0.3192\n",
      "Saving model with lowest val_loss = 0.3214\n",
      "\n"
     ]
    },
    {
     "name": "stderr",
     "output_type": "stream",
     "text": [
      "235it [00:01, 188.19it/s]                                                                                                                               \n",
      "40it [00:00, 726.95it/s]                                                                                                                                \n"
     ]
    },
    {
     "name": "stdout",
     "output_type": "stream",
     "text": [
      "Epoch = 10; train loss = 0.3083 , kl-loss = 0.0023, recon loss = 0.3060 , val loss = 0.3210, val kl-loss = 0.0024  & val recon loss = 0.3185\n",
      "Saving model with lowest val_loss = 0.3210\n",
      "\n"
     ]
    },
    {
     "name": "stderr",
     "output_type": "stream",
     "text": [
      "235it [00:01, 188.70it/s]                                                                                                                               \n",
      "40it [00:00, 726.73it/s]                                                                                                                                \n"
     ]
    },
    {
     "name": "stdout",
     "output_type": "stream",
     "text": [
      "Epoch = 11; train loss = 0.3081 , kl-loss = 0.0024, recon loss = 0.3057 , val loss = 0.3210, val kl-loss = 0.0026  & val recon loss = 0.3184\n"
     ]
    },
    {
     "name": "stderr",
     "output_type": "stream",
     "text": [
      "235it [00:01, 186.94it/s]                                                                                                                               \n",
      "40it [00:00, 724.58it/s]                                                                                                                                \n"
     ]
    },
    {
     "name": "stdout",
     "output_type": "stream",
     "text": [
      "Epoch = 12; train loss = 0.3079 , kl-loss = 0.0025, recon loss = 0.3054 , val loss = 0.3210, val kl-loss = 0.0028  & val recon loss = 0.3182\n"
     ]
    },
    {
     "name": "stderr",
     "output_type": "stream",
     "text": [
      "235it [00:01, 187.59it/s]                                                                                                                               \n",
      "40it [00:00, 722.40it/s]                                                                                                                                \n"
     ]
    },
    {
     "name": "stdout",
     "output_type": "stream",
     "text": [
      "Epoch = 13; train loss = 0.3078 , kl-loss = 0.0026, recon loss = 0.3053 , val loss = 0.3217, val kl-loss = 0.0027  & val recon loss = 0.3190\n"
     ]
    },
    {
     "name": "stderr",
     "output_type": "stream",
     "text": [
      "235it [00:01, 187.24it/s]                                                                                                                               \n",
      "40it [00:00, 723.86it/s]                                                                                                                                \n"
     ]
    },
    {
     "name": "stdout",
     "output_type": "stream",
     "text": [
      "Epoch = 14; train loss = 0.3079 , kl-loss = 0.0026, recon loss = 0.3052 , val loss = 0.3206, val kl-loss = 0.0028  & val recon loss = 0.3178\n",
      "Saving model with lowest val_loss = 0.3206\n",
      "\n"
     ]
    },
    {
     "name": "stderr",
     "output_type": "stream",
     "text": [
      "235it [00:01, 188.08it/s]                                                                                                                               \n",
      "40it [00:00, 723.62it/s]                                                                                                                                \n"
     ]
    },
    {
     "name": "stdout",
     "output_type": "stream",
     "text": [
      "Epoch = 15; train loss = 0.3078 , kl-loss = 0.0027, recon loss = 0.3051 , val loss = 0.3207, val kl-loss = 0.0028  & val recon loss = 0.3179\n"
     ]
    },
    {
     "name": "stderr",
     "output_type": "stream",
     "text": [
      "235it [00:01, 187.67it/s]                                                                                                                               \n",
      "40it [00:00, 723.88it/s]                                                                                                                                \n"
     ]
    },
    {
     "name": "stdout",
     "output_type": "stream",
     "text": [
      "Epoch = 16; train loss = 0.3077 , kl-loss = 0.0027, recon loss = 0.3049 , val loss = 0.3207, val kl-loss = 0.0029  & val recon loss = 0.3178\n"
     ]
    },
    {
     "name": "stderr",
     "output_type": "stream",
     "text": [
      "235it [00:01, 187.19it/s]                                                                                                                               \n",
      "40it [00:00, 722.79it/s]                                                                                                                                \n"
     ]
    },
    {
     "name": "stdout",
     "output_type": "stream",
     "text": [
      "Epoch = 17; train loss = 0.3076 , kl-loss = 0.0028, recon loss = 0.3048 , val loss = 0.3206, val kl-loss = 0.0031  & val recon loss = 0.3176\n"
     ]
    },
    {
     "name": "stderr",
     "output_type": "stream",
     "text": [
      "235it [00:01, 187.19it/s]                                                                                                                               \n",
      "40it [00:00, 723.85it/s]                                                                                                                                \n"
     ]
    },
    {
     "name": "stdout",
     "output_type": "stream",
     "text": [
      "Epoch = 18; train loss = 0.3076 , kl-loss = 0.0028, recon loss = 0.3048 , val loss = 0.3205, val kl-loss = 0.0030  & val recon loss = 0.3175\n",
      "Saving model with lowest val_loss = 0.3205\n",
      "\n"
     ]
    },
    {
     "name": "stderr",
     "output_type": "stream",
     "text": [
      "235it [00:01, 187.69it/s]                                                                                                                               \n",
      "40it [00:00, 723.98it/s]                                                                                                                                \n"
     ]
    },
    {
     "name": "stdout",
     "output_type": "stream",
     "text": [
      "Epoch = 19; train loss = 0.2940 , kl-loss = 0.0032, recon loss = 0.2907 , val loss = 0.2037, val kl-loss = 0.0055  & val recon loss = 0.1982\n",
      "Saving model with lowest val_loss = 0.2037\n",
      "\n"
     ]
    },
    {
     "name": "stderr",
     "output_type": "stream",
     "text": [
      "235it [00:01, 187.89it/s]                                                                                                                               \n",
      "40it [00:00, 722.52it/s]                                                                                                                                \n"
     ]
    },
    {
     "name": "stdout",
     "output_type": "stream",
     "text": [
      "Epoch = 20; train loss = 0.1905 , kl-loss = 0.0057, recon loss = 0.1848 , val loss = 0.1916, val kl-loss = 0.0063  & val recon loss = 0.1853\n",
      "Saving model with lowest val_loss = 0.1916\n",
      "\n"
     ]
    },
    {
     "name": "stderr",
     "output_type": "stream",
     "text": [
      "235it [00:01, 187.75it/s]                                                                                                                               \n",
      "40it [00:00, 723.92it/s]                                                                                                                                \n"
     ]
    },
    {
     "name": "stdout",
     "output_type": "stream",
     "text": [
      "Epoch = 21; train loss = 0.1862 , kl-loss = 0.0066, recon loss = 0.1796 , val loss = 0.1883, val kl-loss = 0.0072  & val recon loss = 0.1811\n",
      "Saving model with lowest val_loss = 0.1883\n",
      "\n"
     ]
    },
    {
     "name": "stderr",
     "output_type": "stream",
     "text": [
      "235it [00:01, 187.80it/s]                                                                                                                               \n",
      "40it [00:00, 722.03it/s]                                                                                                                                \n"
     ]
    },
    {
     "name": "stdout",
     "output_type": "stream",
     "text": [
      "Epoch = 22; train loss = 0.1833 , kl-loss = 0.0075, recon loss = 0.1758 , val loss = 0.1874, val kl-loss = 0.0082  & val recon loss = 0.1792\n",
      "Saving model with lowest val_loss = 0.1874\n",
      "\n"
     ]
    },
    {
     "name": "stderr",
     "output_type": "stream",
     "text": [
      "235it [00:01, 187.73it/s]                                                                                                                               \n",
      "40it [00:00, 718.65it/s]                                                                                                                                \n"
     ]
    },
    {
     "name": "stdout",
     "output_type": "stream",
     "text": [
      "Epoch = 23; train loss = 0.1811 , kl-loss = 0.0081, recon loss = 0.1730 , val loss = 0.1835, val kl-loss = 0.0089  & val recon loss = 0.1747\n",
      "Saving model with lowest val_loss = 0.1835\n",
      "\n"
     ]
    },
    {
     "name": "stderr",
     "output_type": "stream",
     "text": [
      "235it [00:01, 187.37it/s]                                                                                                                               \n",
      "40it [00:00, 723.17it/s]                                                                                                                                \n"
     ]
    },
    {
     "name": "stdout",
     "output_type": "stream",
     "text": [
      "Epoch = 24; train loss = 0.1787 , kl-loss = 0.0087, recon loss = 0.1700 , val loss = 0.1813, val kl-loss = 0.0091  & val recon loss = 0.1721\n",
      "Saving model with lowest val_loss = 0.1813\n",
      "\n"
     ]
    },
    {
     "name": "stderr",
     "output_type": "stream",
     "text": [
      "235it [00:01, 188.31it/s]                                                                                                                               \n",
      "40it [00:00, 725.29it/s]                                                                                                                                \n"
     ]
    },
    {
     "name": "stdout",
     "output_type": "stream",
     "text": [
      "Epoch = 25; train loss = 0.1768 , kl-loss = 0.0092, recon loss = 0.1677 , val loss = 0.1804, val kl-loss = 0.0093  & val recon loss = 0.1711\n",
      "Saving model with lowest val_loss = 0.1804\n",
      "\n"
     ]
    },
    {
     "name": "stderr",
     "output_type": "stream",
     "text": [
      "235it [00:01, 187.69it/s]                                                                                                                               \n",
      "40it [00:00, 723.20it/s]                                                                                                                                \n"
     ]
    },
    {
     "name": "stdout",
     "output_type": "stream",
     "text": [
      "Epoch = 26; train loss = 0.1750 , kl-loss = 0.0096, recon loss = 0.1655 , val loss = 0.1771, val kl-loss = 0.0099  & val recon loss = 0.1672\n",
      "Saving model with lowest val_loss = 0.1771\n",
      "\n"
     ]
    },
    {
     "name": "stderr",
     "output_type": "stream",
     "text": [
      "235it [00:01, 188.14it/s]                                                                                                                               \n",
      "40it [00:00, 723.10it/s]                                                                                                                                \n"
     ]
    },
    {
     "name": "stdout",
     "output_type": "stream",
     "text": [
      "Epoch = 27; train loss = 0.1733 , kl-loss = 0.0099, recon loss = 0.1634 , val loss = 0.1760, val kl-loss = 0.0106  & val recon loss = 0.1654\n",
      "Saving model with lowest val_loss = 0.1760\n",
      "\n"
     ]
    },
    {
     "name": "stderr",
     "output_type": "stream",
     "text": [
      "235it [00:01, 187.47it/s]                                                                                                                               \n",
      "40it [00:00, 723.07it/s]                                                                                                                                \n"
     ]
    },
    {
     "name": "stdout",
     "output_type": "stream",
     "text": [
      "Epoch = 28; train loss = 0.1719 , kl-loss = 0.0101, recon loss = 0.1618 , val loss = 0.1749, val kl-loss = 0.0107  & val recon loss = 0.1642\n",
      "Saving model with lowest val_loss = 0.1749\n",
      "\n"
     ]
    },
    {
     "name": "stderr",
     "output_type": "stream",
     "text": [
      "235it [00:01, 188.36it/s]                                                                                                                               \n",
      "40it [00:00, 724.52it/s]                                                                                                                                \n"
     ]
    },
    {
     "name": "stdout",
     "output_type": "stream",
     "text": [
      "Epoch = 29; train loss = 0.1708 , kl-loss = 0.0104, recon loss = 0.1604 , val loss = 0.1735, val kl-loss = 0.0101  & val recon loss = 0.1634\n",
      "Saving model with lowest val_loss = 0.1735\n",
      "\n"
     ]
    },
    {
     "name": "stderr",
     "output_type": "stream",
     "text": [
      "235it [00:01, 188.26it/s]                                                                                                                               \n",
      "40it [00:00, 726.53it/s]                                                                                                                                \n"
     ]
    },
    {
     "name": "stdout",
     "output_type": "stream",
     "text": [
      "Epoch = 30; train loss = 0.1698 , kl-loss = 0.0105, recon loss = 0.1593 , val loss = 0.1732, val kl-loss = 0.0113  & val recon loss = 0.1620\n",
      "Saving model with lowest val_loss = 0.1732\n",
      "\n"
     ]
    },
    {
     "name": "stderr",
     "output_type": "stream",
     "text": [
      "235it [00:01, 188.29it/s]                                                                                                                               \n",
      "40it [00:00, 723.20it/s]                                                                                                                                \n"
     ]
    },
    {
     "name": "stdout",
     "output_type": "stream",
     "text": [
      "Epoch = 31; train loss = 0.1692 , kl-loss = 0.0107, recon loss = 0.1585 , val loss = 0.1725, val kl-loss = 0.0109  & val recon loss = 0.1616\n",
      "Saving model with lowest val_loss = 0.1725\n",
      "\n"
     ]
    },
    {
     "name": "stderr",
     "output_type": "stream",
     "text": [
      "235it [00:01, 187.42it/s]                                                                                                                               \n",
      "40it [00:00, 722.26it/s]                                                                                                                                \n"
     ]
    },
    {
     "name": "stdout",
     "output_type": "stream",
     "text": [
      "Epoch = 32; train loss = 0.1690 , kl-loss = 0.0107, recon loss = 0.1583 , val loss = 0.1714, val kl-loss = 0.0108  & val recon loss = 0.1606\n",
      "Saving model with lowest val_loss = 0.1714\n",
      "\n"
     ]
    },
    {
     "name": "stderr",
     "output_type": "stream",
     "text": [
      "235it [00:01, 188.16it/s]                                                                                                                               \n",
      "40it [00:00, 724.15it/s]                                                                                                                                \n"
     ]
    },
    {
     "name": "stdout",
     "output_type": "stream",
     "text": [
      "Epoch = 33; train loss = 0.1679 , kl-loss = 0.0110, recon loss = 0.1570 , val loss = 0.1710, val kl-loss = 0.0113  & val recon loss = 0.1597\n",
      "Saving model with lowest val_loss = 0.1710\n",
      "\n"
     ]
    },
    {
     "name": "stderr",
     "output_type": "stream",
     "text": [
      "235it [00:01, 187.51it/s]                                                                                                                               \n",
      "40it [00:00, 723.62it/s]                                                                                                                                \n"
     ]
    },
    {
     "name": "stdout",
     "output_type": "stream",
     "text": [
      "Epoch = 34; train loss = 0.1675 , kl-loss = 0.0110, recon loss = 0.1565 , val loss = 0.1709, val kl-loss = 0.0109  & val recon loss = 0.1599\n",
      "Saving model with lowest val_loss = 0.1709\n",
      "\n"
     ]
    },
    {
     "name": "stderr",
     "output_type": "stream",
     "text": [
      "235it [00:01, 187.96it/s]                                                                                                                               \n",
      "40it [00:00, 724.83it/s]                                                                                                                                \n"
     ]
    },
    {
     "name": "stdout",
     "output_type": "stream",
     "text": [
      "Epoch = 35; train loss = 0.1670 , kl-loss = 0.0111, recon loss = 0.1559 , val loss = 0.1704, val kl-loss = 0.0113  & val recon loss = 0.1591\n",
      "Saving model with lowest val_loss = 0.1704\n",
      "\n"
     ]
    },
    {
     "name": "stderr",
     "output_type": "stream",
     "text": [
      "235it [00:01, 187.99it/s]                                                                                                                               \n",
      "40it [00:00, 724.58it/s]                                                                                                                                \n"
     ]
    },
    {
     "name": "stdout",
     "output_type": "stream",
     "text": [
      "Epoch = 36; train loss = 0.1667 , kl-loss = 0.0111, recon loss = 0.1556 , val loss = 0.1692, val kl-loss = 0.0114  & val recon loss = 0.1578\n",
      "Saving model with lowest val_loss = 0.1692\n",
      "\n"
     ]
    },
    {
     "name": "stderr",
     "output_type": "stream",
     "text": [
      "235it [00:01, 187.49it/s]                                                                                                                               \n",
      "40it [00:00, 724.72it/s]                                                                                                                                \n"
     ]
    },
    {
     "name": "stdout",
     "output_type": "stream",
     "text": [
      "Epoch = 37; train loss = 0.1662 , kl-loss = 0.0113, recon loss = 0.1549 , val loss = 0.1688, val kl-loss = 0.0113  & val recon loss = 0.1576\n",
      "Saving model with lowest val_loss = 0.1688\n",
      "\n"
     ]
    },
    {
     "name": "stderr",
     "output_type": "stream",
     "text": [
      "235it [00:01, 190.17it/s]                                                                                                                               \n",
      "40it [00:00, 728.79it/s]                                                                                                                                \n"
     ]
    },
    {
     "name": "stdout",
     "output_type": "stream",
     "text": [
      "Epoch = 38; train loss = 0.1659 , kl-loss = 0.0113, recon loss = 0.1547 , val loss = 0.1691, val kl-loss = 0.0116  & val recon loss = 0.1575\n"
     ]
    },
    {
     "name": "stderr",
     "output_type": "stream",
     "text": [
      "235it [00:01, 187.28it/s]                                                                                                                               \n",
      "40it [00:00, 721.14it/s]                                                                                                                                \n"
     ]
    },
    {
     "name": "stdout",
     "output_type": "stream",
     "text": [
      "Epoch = 39; train loss = 0.1659 , kl-loss = 0.0113, recon loss = 0.1545 , val loss = 0.1688, val kl-loss = 0.0117  & val recon loss = 0.1571\n",
      "Saving model with lowest val_loss = 0.1688\n",
      "\n"
     ]
    },
    {
     "name": "stderr",
     "output_type": "stream",
     "text": [
      "235it [00:01, 190.55it/s]                                                                                                                               \n",
      "40it [00:00, 728.77it/s]                                                                                                                                \n"
     ]
    },
    {
     "name": "stdout",
     "output_type": "stream",
     "text": [
      "Epoch = 40; train loss = 0.1656 , kl-loss = 0.0115, recon loss = 0.1541 , val loss = 0.1690, val kl-loss = 0.0113  & val recon loss = 0.1578\n"
     ]
    },
    {
     "name": "stderr",
     "output_type": "stream",
     "text": [
      "235it [00:01, 187.55it/s]                                                                                                                               \n",
      "40it [00:00, 724.32it/s]                                                                                                                                \n"
     ]
    },
    {
     "name": "stdout",
     "output_type": "stream",
     "text": [
      "Epoch = 41; train loss = 0.1651 , kl-loss = 0.0115, recon loss = 0.1536 , val loss = 0.1682, val kl-loss = 0.0117  & val recon loss = 0.1566\n",
      "Saving model with lowest val_loss = 0.1682\n",
      "\n"
     ]
    },
    {
     "name": "stderr",
     "output_type": "stream",
     "text": [
      "235it [00:01, 190.47it/s]                                                                                                                               \n",
      "40it [00:00, 728.02it/s]                                                                                                                                \n"
     ]
    },
    {
     "name": "stdout",
     "output_type": "stream",
     "text": [
      "Epoch = 42; train loss = 0.1647 , kl-loss = 0.0116, recon loss = 0.1532 , val loss = 0.1680, val kl-loss = 0.0125  & val recon loss = 0.1556\n",
      "Saving model with lowest val_loss = 0.1680\n",
      "\n"
     ]
    },
    {
     "name": "stderr",
     "output_type": "stream",
     "text": [
      "235it [00:01, 190.83it/s]                                                                                                                               \n",
      "40it [00:00, 728.54it/s]                                                                                                                                \n"
     ]
    },
    {
     "name": "stdout",
     "output_type": "stream",
     "text": [
      "Epoch = 43; train loss = 0.1645 , kl-loss = 0.0116, recon loss = 0.1529 , val loss = 0.1673, val kl-loss = 0.0117  & val recon loss = 0.1557\n",
      "Saving model with lowest val_loss = 0.1673\n",
      "\n"
     ]
    },
    {
     "name": "stderr",
     "output_type": "stream",
     "text": [
      "235it [00:01, 190.74it/s]                                                                                                                               \n",
      "40it [00:00, 729.13it/s]                                                                                                                                \n"
     ]
    },
    {
     "name": "stdout",
     "output_type": "stream",
     "text": [
      "Epoch = 44; train loss = 0.1642 , kl-loss = 0.0117, recon loss = 0.1526 , val loss = 0.1678, val kl-loss = 0.0119  & val recon loss = 0.1559\n"
     ]
    },
    {
     "name": "stderr",
     "output_type": "stream",
     "text": [
      "235it [00:01, 187.27it/s]                                                                                                                               \n",
      "40it [00:00, 723.93it/s]                                                                                                                                \n"
     ]
    },
    {
     "name": "stdout",
     "output_type": "stream",
     "text": [
      "Epoch = 45; train loss = 0.1641 , kl-loss = 0.0118, recon loss = 0.1523 , val loss = 0.1669, val kl-loss = 0.0121  & val recon loss = 0.1548\n",
      "Saving model with lowest val_loss = 0.1669\n",
      "\n"
     ]
    },
    {
     "name": "stderr",
     "output_type": "stream",
     "text": [
      "235it [00:01, 190.26it/s]                                                                                                                               \n",
      "40it [00:00, 728.50it/s]                                                                                                                                \n"
     ]
    },
    {
     "name": "stdout",
     "output_type": "stream",
     "text": [
      "Epoch = 46; train loss = 0.1637 , kl-loss = 0.0118, recon loss = 0.1519 , val loss = 0.1670, val kl-loss = 0.0123  & val recon loss = 0.1547\n"
     ]
    },
    {
     "name": "stderr",
     "output_type": "stream",
     "text": [
      "235it [00:01, 186.93it/s]                                                                                                                               \n",
      "40it [00:00, 724.64it/s]                                                                                                                                \n"
     ]
    },
    {
     "name": "stdout",
     "output_type": "stream",
     "text": [
      "Epoch = 47; train loss = 0.1635 , kl-loss = 0.0119, recon loss = 0.1516 , val loss = 0.1660, val kl-loss = 0.0121  & val recon loss = 0.1539\n",
      "Saving model with lowest val_loss = 0.1660\n",
      "\n"
     ]
    },
    {
     "name": "stderr",
     "output_type": "stream",
     "text": [
      "235it [00:01, 190.56it/s]                                                                                                                               \n",
      "40it [00:00, 729.07it/s]                                                                                                                                \n"
     ]
    },
    {
     "name": "stdout",
     "output_type": "stream",
     "text": [
      "Epoch = 48; train loss = 0.1634 , kl-loss = 0.0119, recon loss = 0.1515 , val loss = 0.1666, val kl-loss = 0.0121  & val recon loss = 0.1545\n"
     ]
    },
    {
     "name": "stderr",
     "output_type": "stream",
     "text": [
      "235it [00:01, 187.13it/s]                                                                                                                               \n",
      "40it [00:00, 721.55it/s]                                                                                                                                \n"
     ]
    },
    {
     "name": "stdout",
     "output_type": "stream",
     "text": [
      "Epoch = 49; train loss = 0.1634 , kl-loss = 0.0120, recon loss = 0.1514 , val loss = 0.1665, val kl-loss = 0.0121  & val recon loss = 0.1544\n"
     ]
    },
    {
     "name": "stderr",
     "output_type": "stream",
     "text": [
      "235it [00:01, 190.27it/s]                                                                                                                               \n",
      "40it [00:00, 730.13it/s]                                                                                                                                \n"
     ]
    },
    {
     "name": "stdout",
     "output_type": "stream",
     "text": [
      "Epoch = 50; train loss = 0.1636 , kl-loss = 0.0119, recon loss = 0.1517 , val loss = 0.1664, val kl-loss = 0.0122  & val recon loss = 0.1542\n"
     ]
    },
    {
     "name": "stderr",
     "output_type": "stream",
     "text": [
      "235it [00:01, 196.86it/s]                                                                                                                               \n",
      "40it [00:00, 729.61it/s]                                                                                                                                \n"
     ]
    },
    {
     "name": "stdout",
     "output_type": "stream",
     "text": [
      "Epoch = 51; train loss = 0.1629 , kl-loss = 0.0120, recon loss = 0.1509 , val loss = 0.1655, val kl-loss = 0.0118  & val recon loss = 0.1537\n",
      "Saving model with lowest val_loss = 0.1655\n",
      "\n"
     ]
    },
    {
     "name": "stderr",
     "output_type": "stream",
     "text": [
      "235it [00:01, 196.77it/s]                                                                                                                               \n",
      "40it [00:00, 728.05it/s]                                                                                                                                \n"
     ]
    },
    {
     "name": "stdout",
     "output_type": "stream",
     "text": [
      "Epoch = 52; train loss = 0.1623 , kl-loss = 0.0122, recon loss = 0.1501 , val loss = 0.1648, val kl-loss = 0.0122  & val recon loss = 0.1526\n",
      "Saving model with lowest val_loss = 0.1648\n",
      "\n"
     ]
    },
    {
     "name": "stderr",
     "output_type": "stream",
     "text": [
      "235it [00:01, 196.65it/s]                                                                                                                               \n",
      "40it [00:00, 727.41it/s]                                                                                                                                \n"
     ]
    },
    {
     "name": "stdout",
     "output_type": "stream",
     "text": [
      "Epoch = 53; train loss = 0.1621 , kl-loss = 0.0122, recon loss = 0.1499 , val loss = 0.1650, val kl-loss = 0.0124  & val recon loss = 0.1526\n"
     ]
    },
    {
     "name": "stderr",
     "output_type": "stream",
     "text": [
      "235it [00:01, 196.85it/s]                                                                                                                               \n",
      "40it [00:00, 727.48it/s]                                                                                                                                \n"
     ]
    },
    {
     "name": "stdout",
     "output_type": "stream",
     "text": [
      "Epoch = 54; train loss = 0.1614 , kl-loss = 0.0123, recon loss = 0.1491 , val loss = 0.1642, val kl-loss = 0.0126  & val recon loss = 0.1516\n",
      "Saving model with lowest val_loss = 0.1642\n",
      "\n"
     ]
    },
    {
     "name": "stderr",
     "output_type": "stream",
     "text": [
      "235it [00:01, 196.92it/s]                                                                                                                               \n",
      "40it [00:00, 728.28it/s]                                                                                                                                \n"
     ]
    },
    {
     "name": "stdout",
     "output_type": "stream",
     "text": [
      "Epoch = 55; train loss = 0.1612 , kl-loss = 0.0124, recon loss = 0.1488 , val loss = 0.1636, val kl-loss = 0.0125  & val recon loss = 0.1511\n",
      "Saving model with lowest val_loss = 0.1636\n",
      "\n"
     ]
    },
    {
     "name": "stderr",
     "output_type": "stream",
     "text": [
      "235it [00:01, 196.92it/s]                                                                                                                               \n",
      "40it [00:00, 727.93it/s]                                                                                                                                \n"
     ]
    },
    {
     "name": "stdout",
     "output_type": "stream",
     "text": [
      "Epoch = 56; train loss = 0.1610 , kl-loss = 0.0124, recon loss = 0.1486 , val loss = 0.1648, val kl-loss = 0.0127  & val recon loss = 0.1521\n"
     ]
    },
    {
     "name": "stderr",
     "output_type": "stream",
     "text": [
      "235it [00:01, 196.90it/s]                                                                                                                               \n",
      "40it [00:00, 724.48it/s]                                                                                                                                \n"
     ]
    },
    {
     "name": "stdout",
     "output_type": "stream",
     "text": [
      "Epoch = 57; train loss = 0.1608 , kl-loss = 0.0125, recon loss = 0.1483 , val loss = 0.1643, val kl-loss = 0.0128  & val recon loss = 0.1515\n"
     ]
    },
    {
     "name": "stderr",
     "output_type": "stream",
     "text": [
      "235it [00:01, 196.78it/s]                                                                                                                               \n",
      "40it [00:00, 727.49it/s]                                                                                                                                \n"
     ]
    },
    {
     "name": "stdout",
     "output_type": "stream",
     "text": [
      "Epoch = 58; train loss = 0.1606 , kl-loss = 0.0126, recon loss = 0.1480 , val loss = 0.1633, val kl-loss = 0.0130  & val recon loss = 0.1503\n",
      "Saving model with lowest val_loss = 0.1633\n",
      "\n"
     ]
    },
    {
     "name": "stderr",
     "output_type": "stream",
     "text": [
      "235it [00:01, 196.74it/s]                                                                                                                               \n",
      "40it [00:00, 728.34it/s]                                                                                                                                \n"
     ]
    },
    {
     "name": "stdout",
     "output_type": "stream",
     "text": [
      "Epoch = 59; train loss = 0.1603 , kl-loss = 0.0127, recon loss = 0.1477 , val loss = 0.1642, val kl-loss = 0.0131  & val recon loss = 0.1511\n"
     ]
    },
    {
     "name": "stderr",
     "output_type": "stream",
     "text": [
      "235it [00:01, 196.73it/s]                                                                                                                               \n",
      "40it [00:00, 729.48it/s]                                                                                                                                "
     ]
    },
    {
     "name": "stdout",
     "output_type": "stream",
     "text": [
      "Epoch = 60; train loss = 0.1603 , kl-loss = 0.0126, recon loss = 0.1477 , val loss = 0.1631, val kl-loss = 0.0131  & val recon loss = 0.1500\n",
      "Saving model with lowest val_loss = 0.1631\n",
      "\n"
     ]
    },
    {
     "name": "stderr",
     "output_type": "stream",
     "text": [
      "\n"
     ]
    }
   ],
   "source": [
    "for epoch in range(1, num_epochs + 1):\n",
    "    '''\n",
    "    # Manual early stopping implementation-\n",
    "    if loc_patience >= patience:\n",
    "        print(\"\\n'EarlyStopping' called!\\n\")\n",
    "        break\n",
    "    '''\n",
    "    \n",
    "    # Train model for 1 epoch-\n",
    "    train_loss, kl_train_loss, recon_train_loss = train_one_epoch(\n",
    "        model = model, dataloader = train_loader,\n",
    "        alpha = alpha, beta = beta\n",
    "    )\n",
    "    \n",
    "    # Get validation after 1 epoch-\n",
    "    val_loss, val_kl_loss, val_recon_loss = validate_one_epoch(\n",
    "        model = model, dataloader = test_loader,\n",
    "        alpha = alpha, beta = beta\n",
    "    )\n",
    "    \n",
    "    # Store model performance metrics in Python3 dict-\n",
    "    train_history[epoch] = {\n",
    "        'train_loss': train_loss,\n",
    "        'train_recon_loss': kl_train_loss,\n",
    "        'train_kl_loss': kl_train_loss,\n",
    "        'val_loss': val_loss,\n",
    "        'val_recon_loss': val_recon_loss,\n",
    "        'val_kl_loss': val_kl_loss\n",
    "    }\n",
    "    \n",
    "    print(f\"Epoch = {epoch}; train loss = {train_loss:.4f}\",\n",
    "          f\", kl-loss = {kl_train_loss:.4f}, recon loss = {recon_train_loss:.4f}\",\n",
    "          f\", val loss = {val_loss:.4f}, val kl-loss = {val_kl_loss:.4f}\",\n",
    "          f\" & val recon loss = {val_recon_loss:.4f}\"\n",
    "         )\n",
    "    \n",
    "    \n",
    "    # Code for manual Early Stopping:\n",
    "    if (val_loss < best_val_loss):\n",
    "    # (np.abs(val_epoch_loss - best_val_loss) >= minimum_delta):\n",
    "\n",
    "        # update 'best_val_loss' variable to lowest loss encountered so far-\n",
    "        best_val_loss = val_loss\n",
    "        \n",
    "        # reset 'loc_patience' variable-\n",
    "        # loc_patience = 0\n",
    "\n",
    "        print(f\"Saving model with lowest val_loss = {val_loss:.4f}\\n\")\n",
    "        \n",
    "        # Save trained model with 'best' validation accuracy-\n",
    "        torch.save(model.state_dict(), \"VAE_LeNet5_MNIST_best_model.pth\")\n",
    "        \n",
    "    '''\n",
    "    else:  # there is no improvement in monitored metric 'val_loss'\n",
    "        loc_patience += 1  # number of epochs without any improvement\n",
    "    '''\n",
    "    \n",
    "    "
   ]
  },
  {
   "cell_type": "code",
   "execution_count": null,
   "id": "b302b205-eb78-4cbe-8c2e-1fe22a029466",
   "metadata": {},
   "outputs": [],
   "source": []
  },
  {
   "cell_type": "code",
   "execution_count": 51,
   "id": "e71d59cf-6ed5-4385-8bec-da4a0a52d675",
   "metadata": {},
   "outputs": [],
   "source": [
    "import pickle\n",
    "\n",
    "# Save training history as pickle file-\n",
    "with open(\"VAE_LeNet5_MNIST_training_history.pkl\", \"wb\") as file:\n",
    "    pickle.dump(train_history, file)"
   ]
  },
  {
   "cell_type": "code",
   "execution_count": null,
   "id": "f32414c6-f56a-41a6-be95-6116b16152c2",
   "metadata": {},
   "outputs": [],
   "source": [
    "'''\n",
    "# Load training history from pickle file-\n",
    "with open(\"VAE_LeNet5_MNIST_training_history.pkl\", \"rb\") as file:\n",
    "    training_history_lr_scheduler = pickle.load(file)\n",
    "'''"
   ]
  },
  {
   "cell_type": "code",
   "execution_count": null,
   "id": "aa16d6b9-b60c-49b3-ad26-72430e25214d",
   "metadata": {},
   "outputs": [],
   "source": []
  },
  {
   "cell_type": "code",
   "execution_count": null,
   "id": "75764321-d3dc-4690-ad80-43d8c147aa8c",
   "metadata": {},
   "outputs": [],
   "source": [
    "# Save trained VAE model's weights-\n",
    "# torch.save(model.state_dict(), 'VAE_LeNet5_MNIST_Trained_Weights.pth')"
   ]
  },
  {
   "cell_type": "code",
   "execution_count": 54,
   "id": "1b9d5e9d-523d-4187-9eb7-8689d0ca95a1",
   "metadata": {},
   "outputs": [
    {
     "data": {
      "text/plain": [
       "<All keys matched successfully>"
      ]
     },
     "execution_count": 54,
     "metadata": {},
     "output_type": "execute_result"
    }
   ],
   "source": [
    "# Load trained weights from before-\n",
    "trained_model = VAE_Conv(latent_space = 3).to(device)\n",
    "trained_model.load_state_dict(torch.load('VAE_LeNet5_MNIST_best_model.pth'))\n",
    "# trained_model.load_state_dict(torch.load('VAE_LeNet5_MNIST_best_model.pth', map_location = torch.device('cpu')))"
   ]
  },
  {
   "cell_type": "code",
   "execution_count": null,
   "id": "a6135d86-7021-41bb-b3f3-11ceb52723f2",
   "metadata": {},
   "outputs": [],
   "source": [
    "# Define gradient descent optimizer-\n",
    "# optimizer = torch.optim.Adam(loaded_model.parameters(), lr = learning_rate)"
   ]
  },
  {
   "cell_type": "code",
   "execution_count": null,
   "id": "bb6757ea-625b-4464-a3b1-c0fd016c0b17",
   "metadata": {},
   "outputs": [],
   "source": []
  },
  {
   "cell_type": "markdown",
   "id": "1d0d2fea-8af9-4374-aafb-6e8c7101a9a7",
   "metadata": {},
   "source": [
    "#### Synthesize MNIST images by sampling from a _standard Normal_ distribution and feeding through decoder"
   ]
  },
  {
   "cell_type": "code",
   "execution_count": 55,
   "id": "b898803c-0c22-4eb6-8258-b4ec1a8fa550",
   "metadata": {},
   "outputs": [],
   "source": [
    "synthesized_images = []"
   ]
  },
  {
   "cell_type": "code",
   "execution_count": 56,
   "id": "bb0805da-5635-4dbe-be0a-4da32de03a4d",
   "metadata": {},
   "outputs": [],
   "source": [
    "for _ in test_loader:\n",
    "    z = torch.randn(batch_size, 3).to(device)\n",
    "    pred = torch.sigmoid(trained_model.decoder(z)).cpu().detach().numpy()\n",
    "    synthesized_images.append(pred)"
   ]
  },
  {
   "cell_type": "code",
   "execution_count": 57,
   "id": "ac9144b6-4e30-4093-825c-255042733870",
   "metadata": {},
   "outputs": [],
   "source": [
    "synthesized_images = np.vstack(synthesized_images)"
   ]
  },
  {
   "cell_type": "code",
   "execution_count": 62,
   "id": "4ad31f68-f814-43da-bf3b-39a37d90d05f",
   "metadata": {},
   "outputs": [],
   "source": [
    "synthesized_images = np.transpose(synthesized_images, (0, 2, 3, 1))"
   ]
  },
  {
   "cell_type": "code",
   "execution_count": 63,
   "id": "9de0ffd2-0c8f-48a8-8ff6-32e969473a82",
   "metadata": {},
   "outputs": [
    {
     "data": {
      "text/plain": [
       "(10240, 28, 28, 1)"
      ]
     },
     "execution_count": 63,
     "metadata": {},
     "output_type": "execute_result"
    }
   ],
   "source": [
    "synthesized_images.shape"
   ]
  },
  {
   "cell_type": "code",
   "execution_count": 65,
   "id": "b54bf294-1b6d-4233-94c4-87a437cb585a",
   "metadata": {},
   "outputs": [],
   "source": [
    "# De-normalize the batch of images-\n",
    "synthesized_images *= 255.0"
   ]
  },
  {
   "cell_type": "code",
   "execution_count": null,
   "id": "50cdf07c-c0c7-4c7d-a2d0-0fd1a8807f1c",
   "metadata": {},
   "outputs": [],
   "source": []
  },
  {
   "cell_type": "code",
   "execution_count": null,
   "id": "44d9fb82-e15a-4445-91b5-e8ce5ec5330f",
   "metadata": {},
   "outputs": [],
   "source": []
  },
  {
   "cell_type": "markdown",
   "id": "ed17b3a9-3c46-45c9-b90a-b8f2691cf463",
   "metadata": {},
   "source": [
    "### Visualize training metrics"
   ]
  },
  {
   "cell_type": "code",
   "execution_count": 58,
   "id": "b0c18cb1-28b4-4da6-8e93-296064f59691",
   "metadata": {},
   "outputs": [
    {
     "data": {
      "image/png": "[encoded data removed]",
      "text/plain": [
       "<Figure size 648x576 with 1 Axes>"
      ]
     },
     "metadata": {
      "needs_background": "light"
     },
     "output_type": "display_data"
    }
   ],
   "source": [
    "plt.figure(figsize = (9, 8))\n",
    "plt.plot([train_history[e]['train_loss'] for e in train_history.keys()], label = 'train_loss')\n",
    "plt.plot([train_history[e]['val_loss'] for e in train_history.keys()], label = 'val_loss')\n",
    "plt.xlabel(\"epochs\")\n",
    "plt.ylabel(\"loss\")\n",
    "plt.legend(loc = 'best')\n",
    "plt.title(\"VAE Training: Total Loss\")\n",
    "plt.show()"
   ]
  },
  {
   "cell_type": "code",
   "execution_count": 59,
   "id": "fdba47be-7cd2-490f-8938-d4caaaf12160",
   "metadata": {},
   "outputs": [
    {
     "data": {
      "image/png": "[encoded data removed]",
      "text/plain": [
       "<Figure size 648x576 with 1 Axes>"
      ]
     },
     "metadata": {
      "needs_background": "light"
     },
     "output_type": "display_data"
    }
   ],
   "source": [
    "plt.figure(figsize = (9, 8))\n",
    "plt.plot([train_history[e]['train_recon_loss'] for e in train_history.keys()], label = 'train_recon_loss')\n",
    "plt.xlabel(\"epochs\")\n",
    "plt.ylabel(\"loss\")\n",
    "plt.legend(loc = 'best')\n",
    "plt.title(\"VAE Training: Reconstruction Loss\")\n",
    "plt.show()"
   ]
  },
  {
   "cell_type": "code",
   "execution_count": 60,
   "id": "1e89ef5e-0a90-4059-b9c3-b09f19ef5e88",
   "metadata": {},
   "outputs": [
    {
     "data": {
      "image/png": "[encoded data removed]",
      "text/plain": [
       "<Figure size 648x576 with 1 Axes>"
      ]
     },
     "metadata": {
      "needs_background": "light"
     },
     "output_type": "display_data"
    }
   ],
   "source": [
    "plt.figure(figsize = (9, 8))\n",
    "plt.plot([train_history[e]['val_recon_loss'] for e in train_history.keys()], label = 'val_recon_loss')\n",
    "plt.xlabel(\"epochs\")\n",
    "plt.ylabel(\"loss\")\n",
    "plt.legend(loc = 'best')\n",
    "plt.title(\"VAE Training: Reconstruction Loss\")\n",
    "plt.show()"
   ]
  },
  {
   "cell_type": "markdown",
   "id": "284beda7-4da1-444f-a189-760911758ca3",
   "metadata": {},
   "source": [
    "_Reconstruction loss_ has 2 plots since training and validation losses are on different scales."
   ]
  },
  {
   "cell_type": "code",
   "execution_count": null,
   "id": "ab330dd5-fe53-4fab-8921-e2682f7c6689",
   "metadata": {},
   "outputs": [],
   "source": []
  },
  {
   "cell_type": "code",
   "execution_count": 61,
   "id": "c1bc26cf-3950-4e50-8447-8d5980dfa7ba",
   "metadata": {},
   "outputs": [
    {
     "data": {
      "image/png": "[encoded data removed]",
      "text/plain": [
       "<Figure size 648x576 with 1 Axes>"
      ]
     },
     "metadata": {
      "needs_background": "light"
     },
     "output_type": "display_data"
    }
   ],
   "source": [
    "plt.figure(figsize = (9, 8))\n",
    "plt.plot([train_history[e]['train_kl_loss'] for e in train_history.keys()], label = 'train_kl_loss')\n",
    "plt.plot([train_history[e]['val_kl_loss'] for e in train_history.keys()], label = 'val_kl_loss')\n",
    "plt.xlabel(\"epochs\")\n",
    "plt.ylabel(\"loss\")\n",
    "plt.legend(loc = 'best')\n",
    "plt.title(\"VAE Training: KL-Divergence Loss\")\n",
    "plt.show()"
   ]
  },
  {
   "cell_type": "code",
   "execution_count": null,
   "id": "8554f789-f6fd-4f9c-af97-5c986a584cba",
   "metadata": {},
   "outputs": [],
   "source": []
  },
  {
   "cell_type": "code",
   "execution_count": null,
   "id": "cdf0b460-72ee-4b87-a5ca-5aeabf358ba8",
   "metadata": {},
   "outputs": [],
   "source": []
  },
  {
   "cell_type": "code",
   "execution_count": 66,
   "id": "e7f0c4b0-72cf-4db6-aa09-b7729ce26a63",
   "metadata": {},
   "outputs": [
    {
     "data": {
      "image/png": "[encoded data removed]",
      "text/plain": [
       "<Figure size 576x504 with 50 Axes>"
      ]
     },
     "metadata": {
      "needs_background": "light"
     },
     "output_type": "display_data"
    }
   ],
   "source": [
    "# Visualize 50 images from training set-\n",
    "plt.figure(figsize = (8, 7))\n",
    "for i in range(50):\n",
    "    # 5 rows and 10 columns-\n",
    "    plt.subplot(5, 10, i + 1)\n",
    "    # plt.imshow(images[i], cmap = 'gray')\n",
    "    plt.imshow(synthesized_images[i], cmap = 'gray')\n",
    "\n",
    "plt.suptitle(\"Synthesized MNIST Images\")\n",
    "plt.show()"
   ]
  },
  {
   "cell_type": "code",
   "execution_count": 67,
   "id": "4af5cc74-0c15-4eb7-aba0-299a0ab507d5",
   "metadata": {},
   "outputs": [
    {
     "data": {
      "image/png": "[encoded data removed]",
      "text/plain": [
       "<Figure size 576x504 with 50 Axes>"
      ]
     },
     "metadata": {
      "needs_background": "light"
     },
     "output_type": "display_data"
    }
   ],
   "source": [
    "# Visualize 50 images from training set-\n",
    "plt.figure(figsize = (8, 7))\n",
    "for i in range(50):\n",
    "    # 5 rows and 10 columns-\n",
    "    plt.subplot(5, 10, i + 1)\n",
    "    plt.imshow(synthesized_images[i + 5000], cmap = 'gray')\n",
    "\n",
    "plt.suptitle(\"Synthesized MNIST Images\")\n",
    "plt.show()"
   ]
  },
  {
   "cell_type": "code",
   "execution_count": null,
   "id": "ecc2587c-130b-4f0b-af89-5d45dcd548e6",
   "metadata": {},
   "outputs": [],
   "source": []
  },
  {
   "cell_type": "code",
   "execution_count": null,
   "id": "278e9b41-9e42-46cc-af71-5d3bb5b929c8",
   "metadata": {},
   "outputs": [],
   "source": []
  },
  {
   "cell_type": "markdown",
   "id": "17a6c4c0-44d6-4ce8-87b0-d9daaf15f43f",
   "metadata": {},
   "source": [
    "### Visualize _mu_ & _log_var_ trained vectors"
   ]
  },
  {
   "cell_type": "code",
   "execution_count": 215,
   "id": "31f8e410-a407-44bf-9f27-515a66fc43c6",
   "metadata": {},
   "outputs": [],
   "source": [
    "import plotly\n",
    "import plotly.express as px"
   ]
  },
  {
   "cell_type": "code",
   "execution_count": null,
   "id": "8d8e6e8e-f2d1-4c0e-b58d-ab77ab16f642",
   "metadata": {},
   "outputs": [],
   "source": [
    "# Visualize latent space for 'mu' vector-\n",
    "fig = px.scatter_3d(\n",
    "    x = mu[:, 0], y = mu[:, 1],\n",
    "    z = mu[:, 2],\n",
    "    # color = y_train\n",
    "    )\n",
    "fig.show()"
   ]
  },
  {
   "cell_type": "code",
   "execution_count": null,
   "id": "8ca37430-a3f0-4f9e-89c1-46ea83a388f4",
   "metadata": {},
   "outputs": [],
   "source": [
    "# Visualize latent space for 'log variance' vector-\n",
    "fig = px.scatter_3d(\n",
    "    x = log_var[:, 0], y = log_var[:, 1],\n",
    "    z = log_var[:, 2],\n",
    "    # color = y_train\n",
    "    )\n",
    "fig.show()"
   ]
  },
  {
   "cell_type": "code",
   "execution_count": null,
   "id": "f4539311-e532-47f0-9bc4-78981a8a09ea",
   "metadata": {},
   "outputs": [],
   "source": []
  },
  {
   "cell_type": "code",
   "execution_count": null,
   "id": "365fe0f6-86f5-407f-b70b-805c753b6895",
   "metadata": {},
   "outputs": [],
   "source": []
  },
  {
   "cell_type": "code",
   "execution_count": 217,
   "id": "1fbf3dc5-1932-4a92-a6ab-6d62315cdaf7",
   "metadata": {},
   "outputs": [
    {
     "name": "stdout",
     "output_type": "stream",
     "text": [
      "Mean vector (mu): mean = -0.008894 & std dev = 0.8598\n"
     ]
    }
   ],
   "source": [
    "print(f\"Mean vector (mu): mean = {mu.mean():4f} & std dev = {mu.std():.4f}\")"
   ]
  },
  {
   "cell_type": "code",
   "execution_count": 218,
   "id": "91a03ac1-264c-4b0c-9378-221fac412c90",
   "metadata": {},
   "outputs": [
    {
     "name": "stdout",
     "output_type": "stream",
     "text": [
      "log-variance (log-var): mean = -3.4641 & std dev = 2.5549\n"
     ]
    }
   ],
   "source": [
    "print(f\"log-variance (log-var): mean = {log_var.mean():.4f} & std dev = {log_var.std():.4f}\")"
   ]
  },
  {
   "cell_type": "code",
   "execution_count": null,
   "id": "070d2f72-d1ea-434c-93fe-0d344ff51a8a",
   "metadata": {},
   "outputs": [],
   "source": []
  },
  {
   "cell_type": "code",
   "execution_count": 204,
   "id": "e01bbf74-5ce9-47dc-833f-70f441b43395",
   "metadata": {},
   "outputs": [
    {
     "data": {
      "text/plain": [
       "array([-1483.6248  ,    20.069199,  -137.35129 ], dtype=float32)"
      ]
     },
     "execution_count": 204,
     "metadata": {},
     "output_type": "execute_result"
    }
   ],
   "source": [
    "np.sum(mu, axis = 0)"
   ]
  },
  {
   "cell_type": "code",
   "execution_count": 205,
   "id": "c841e140-fa54-4ddd-9215-429c74a17efd",
   "metadata": {},
   "outputs": [
    {
     "data": {
      "text/plain": [
       "array([-2.7039500e+05,  3.3001474e+02, -3.5346928e+05], dtype=float32)"
      ]
     },
     "execution_count": 205,
     "metadata": {},
     "output_type": "execute_result"
    }
   ],
   "source": [
    "np.sum(log_var, axis = 0)"
   ]
  },
  {
   "cell_type": "code",
   "execution_count": null,
   "id": "fbed31fa-fb29-4154-b43e-f7d174b4df4a",
   "metadata": {},
   "outputs": [],
   "source": []
  },
  {
   "cell_type": "code",
   "execution_count": null,
   "id": "4718a567-b4ce-449a-84e2-58e918a6c6cc",
   "metadata": {},
   "outputs": [],
   "source": []
  },
  {
   "cell_type": "code",
   "execution_count": null,
   "id": "0a00fb5a-5165-4532-aac8-a90928d97b8e",
   "metadata": {},
   "outputs": [],
   "source": []
  },
  {
   "cell_type": "code",
   "execution_count": null,
   "id": "5963257d-0fb1-40be-a772-fb27c92dec3d",
   "metadata": {},
   "outputs": [],
   "source": [
    "for i in range(3):\n",
    "    print(f\"lv = {i + 1}: mean = {train_recon[:, i].mean():.4f} & std dev =\"\n",
    "          f\" {train_recon[:, i].std():.4f}\"\n",
    "         )"
   ]
  },
  {
   "cell_type": "code",
   "execution_count": null,
   "id": "11a523c2-848a-4fce-8f94-9fa43b94a7e2",
   "metadata": {},
   "outputs": [],
   "source": []
  },
  {
   "cell_type": "code",
   "execution_count": null,
   "id": "b4963686-ec7e-4505-bc47-0d003d3e00e4",
   "metadata": {},
   "outputs": [],
   "source": []
  }
 ],
 "metadata": {
  "kernelspec": {
   "display_name": "Python 3 (ipykernel)",
   "language": "python",
   "name": "python3"
  },
  "language_info": {
   "codemirror_mode": {
    "name": "ipython",
    "version": 3
   },
   "file_extension": ".py",
   "mimetype": "text/x-python",
   "name": "python",
   "nbconvert_exporter": "python",
   "pygments_lexer": "ipython3",
   "version": "3.9.12"
  }
 },
 "nbformat": 4,
 "nbformat_minor": 5
}
