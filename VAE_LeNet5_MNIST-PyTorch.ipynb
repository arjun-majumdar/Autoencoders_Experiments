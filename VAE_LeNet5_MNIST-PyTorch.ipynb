{
 "cells": [
  {
   "cell_type": "markdown",
   "id": "ec90a05e-e98c-47b5-a04d-c9377fa6a5d3",
   "metadata": {},
   "source": [
    "# Variational Autoencoder: LeNet-5 CNN with PyTorch and MNIST\n",
    "\n",
    "[Reference](https://github.com/rasbt/stat453-deep-learning-ss21/blob/main/L17/1_VAE_mnist_sigmoid_mse.ipynb) and [Second reference](https://github.com/rasbt/stat453-deep-learning-ss21/blob/main/L17/helper_train.py)"
   ]
  },
  {
   "cell_type": "code",
   "execution_count": null,
   "id": "89d7b9c9-67af-42cf-abc0-a2441bda8f64",
   "metadata": {},
   "outputs": [],
   "source": [
    "# Specify GPU to be used-\n",
    "%env CUDA_DEVICE_ORDER = PCI_BUS_ID\n",
    "%env CUDA_VISIBLE_DEVICES = 0"
   ]
  },
  {
   "cell_type": "code",
   "execution_count": 1,
   "id": "4548515b-b2af-49a3-8d13-a81a2e8e7fb9",
   "metadata": {},
   "outputs": [],
   "source": [
    "import torch\n",
    "import torch.nn as nn\n",
    "import torch.nn.functional as F\n",
    "import torchvision\n",
    "import torchvision.transforms as transforms\n",
    "\n",
    "from tqdm import tqdm\n",
    "from tqdm import trange\n",
    "import matplotlib.pyplot as plt\n",
    "import seaborn as sns\n",
    "import numpy as np"
   ]
  },
  {
   "cell_type": "code",
   "execution_count": null,
   "id": "38fb14b1-15f6-4881-8c93-a3b8d698e239",
   "metadata": {},
   "outputs": [],
   "source": []
  },
  {
   "cell_type": "code",
   "execution_count": null,
   "id": "604c2149-9c31-48e7-a525-a91163ffb976",
   "metadata": {},
   "outputs": [],
   "source": []
  },
  {
   "cell_type": "code",
   "execution_count": 2,
   "id": "411af825-c307-455f-8158-b4379444f8ac",
   "metadata": {},
   "outputs": [
    {
     "name": "stdout",
     "output_type": "stream",
     "text": [
      "torch version: 1.11.0\n"
     ]
    }
   ],
   "source": [
    "print(f\"torch version: {torch.__version__}\")"
   ]
  },
  {
   "cell_type": "code",
   "execution_count": 3,
   "id": "d87ac8fb-9d75-4de7-9829-794656a957f8",
   "metadata": {},
   "outputs": [
    {
     "name": "stdout",
     "output_type": "stream",
     "text": [
      "Number of GPU(s) available = 1\n",
      "Current GPU: 0\n",
      "Current GPU name: NVIDIA GeForce RTX 3080 Laptop GPU\n"
     ]
    }
   ],
   "source": [
    "# Check if there are multiple devices (i.e., GPU cards)-\n",
    "print(f\"Number of GPU(s) available = {torch.cuda.device_count()}\")\n",
    "\n",
    "# Which GPU Is The Current GPU?\n",
    "# print(f\"current GPU: {torch.cuda.current_device()}\")\n",
    "\n",
    "# Get the name of the current GPU-\n",
    "# print(f\"Current GPU name: {torch.cuda.get_device_name(torch.cuda.current_device())}\")\n",
    "\n",
    "# Is PyTorch using a GPU?\n",
    "# print(f\"Is PyTorch using a GPU? {torch.cuda.is_available()}\")\n",
    "\n",
    "if torch.cuda.is_available():\n",
    "    print(f\"Current GPU: {torch.cuda.current_device()}\")\n",
    "    print(f\"Current GPU name: {torch.cuda.get_device_name(torch.cuda.current_device())}\")\n",
    "else:\n",
    "    print(\"PyTorch does not have access to GPU\")"
   ]
  },
  {
   "cell_type": "code",
   "execution_count": 4,
   "id": "16a07e3a-afc5-4b01-862c-3e73fe0ec6af",
   "metadata": {},
   "outputs": [
    {
     "name": "stdout",
     "output_type": "stream",
     "text": [
      "Available device is cuda\n"
     ]
    }
   ],
   "source": [
    "# Device configuration-\n",
    "device = torch.device('cuda' if torch.cuda.is_available() else 'cpu')\n",
    "print(f'Available device is {device}')"
   ]
  },
  {
   "cell_type": "code",
   "execution_count": null,
   "id": "d1b51561-fdd8-4918-8754-9f040e4d4bb4",
   "metadata": {},
   "outputs": [],
   "source": []
  },
  {
   "cell_type": "code",
   "execution_count": null,
   "id": "ffb0b897-8b3e-43d6-b3a9-8ef209d1a51d",
   "metadata": {},
   "outputs": [],
   "source": []
  },
  {
   "cell_type": "code",
   "execution_count": 5,
   "id": "7932d653-14ee-4eff-9a12-4125e2efa55d",
   "metadata": {},
   "outputs": [],
   "source": [
    "# Hyper-parameters-\n",
    "num_epochs = 50\n",
    "batch_size = 32\n",
    "learning_rate = 0.001"
   ]
  },
  {
   "cell_type": "code",
   "execution_count": null,
   "id": "9fa13f72-0d1d-4835-a7c4-3f00f6c429a7",
   "metadata": {},
   "outputs": [],
   "source": []
  },
  {
   "cell_type": "code",
   "execution_count": null,
   "id": "2136fd65-b9e5-4ef9-ac96-71a16e21c162",
   "metadata": {},
   "outputs": [],
   "source": []
  },
  {
   "cell_type": "markdown",
   "id": "ae65062a-22f0-4535-a16f-a6f2c5f83ee6",
   "metadata": {},
   "source": [
    "### MNIST data pre-processing:"
   ]
  },
  {
   "cell_type": "markdown",
   "id": "267f62e4-ab84-42c4-a2bb-7310de515903",
   "metadata": {},
   "source": [
    "#### Compute mean and standard deviation for different datasets\n",
    "\n",
    "```\n",
    "import argparse\n",
    "import os\n",
    "import numpy as np\n",
    "import torchvision\n",
    "import torchvision.transforms as transforms\n",
    "\n",
    "dataset_names = ('cifar10','cifar100','mnist')\n",
    "\n",
    "parser = argparse.ArgumentParser(description='PyTorchLab')\n",
    "parser.add_argument('-d', '--dataset', metavar='DATA', default='cifar10', choices=dataset_names,\n",
    "                    help='dataset to be used: ' + ' | '.join(dataset_names) + ' (default: cifar10)')\n",
    "\n",
    "args = parser.parse_args()\n",
    "\n",
    "data_dir = os.path.join('.', args.dataset)\n",
    "\n",
    "print(args.dataset)\n",
    "\n",
    "if args.dataset == \"cifar10\":\n",
    "    train_transform = transforms.Compose([transforms.ToTensor()])\n",
    "    train_set = torchvision.datasets.CIFAR10(root=data_dir, train=True, download=True, transform=train_transform)\n",
    "    #print(vars(train_set))\n",
    "    print(train_set.train_data.shape)\n",
    "    print(train_set.train_data.mean(axis=(0,1,2))/255)\n",
    "    print(train_set.train_data.std(axis=(0,1,2))/255)\n",
    "\n",
    "elif args.dataset == \"cifar100\":\n",
    "    train_transform = transforms.Compose([transforms.ToTensor()])\n",
    "    train_set = torchvision.datasets.CIFAR100(root=data_dir, train=True, download=True, transform=train_transform)\n",
    "    #print(vars(train_set))\n",
    "    print(train_set.train_data.shape)\n",
    "    print(np.mean(train_set.train_data, axis=(0,1,2))/255)\n",
    "    print(np.std(train_set.train_data, axis=(0,1,2))/255)\n",
    "\n",
    "elif args.dataset == \"mnist\":\n",
    "    train_transform = transforms.Compose([transforms.ToTensor()])\n",
    "    train_set = torchvision.datasets.MNIST(root=data_dir, train=True, download=True, transform=train_transform)\n",
    "    #print(vars(train_set))\n",
    "    print(list(train_set.train_data.size()))\n",
    "    print(train_set.train_data.float().mean()/255)\n",
    "    print(train_set.train_data.float().std()/255)\n",
    "```\n",
    "\n",
    "[Reference](https://discuss.pytorch.org/t/normalization-in-the-mnist-example/457/11)"
   ]
  },
  {
   "cell_type": "code",
   "execution_count": 6,
   "id": "62c69969-db81-4c40-b233-a4805166a555",
   "metadata": {},
   "outputs": [],
   "source": [
    "# Define transformations for MNIST dataset-\n",
    "# MNIST dataset statistics-\n",
    "mean = np.array([0.1307])\n",
    "std_dev = np.array([0.3081])\n",
    "\n",
    "transforms_apply = transforms.Compose(\n",
    "    [\n",
    "        transforms.ToTensor(),\n",
    "        transforms.Normalize(mean = mean, std = std_dev)\n",
    "    ]\n",
    ")"
   ]
  },
  {
   "cell_type": "code",
   "execution_count": 7,
   "id": "3bf9299d-eab6-4f35-83dd-0feef02c5985",
   "metadata": {},
   "outputs": [],
   "source": [
    "path_to_data = \"C:\\\\Users\\\\arjun\\Downloads\\\\\""
   ]
  },
  {
   "cell_type": "code",
   "execution_count": 8,
   "id": "6396d0a7-bb5e-4328-a3d7-eab9eff9938e",
   "metadata": {},
   "outputs": [],
   "source": [
    "# Load MNIST dataset-\n",
    "train_dataset = torchvision.datasets.MNIST(\n",
    "        # root = './data', train = True,\n",
    "        root = path_to_data + \"data\", train = True,\n",
    "        transform = transforms_apply, download = True\n",
    "        )\n",
    "\n",
    "test_dataset = torchvision.datasets.MNIST(\n",
    "        # root = './data', train = False,\n",
    "        root = path_to_data + \"data\", train = False,\n",
    "        transform = transforms_apply\n",
    "        )"
   ]
  },
  {
   "cell_type": "code",
   "execution_count": 9,
   "id": "8fc1eb11-f9f7-404b-a800-95f960fe29ad",
   "metadata": {},
   "outputs": [
    {
     "name": "stdout",
     "output_type": "stream",
     "text": [
      "training dataset length/shape: [60000, 28, 28]\n"
     ]
    }
   ],
   "source": [
    "print(f\"training dataset length/shape: {list(train_dataset.data.size())}\")"
   ]
  },
  {
   "cell_type": "code",
   "execution_count": 10,
   "id": "f151f33e-bed5-4b43-ae24-a9b859f5e4f3",
   "metadata": {},
   "outputs": [
    {
     "name": "stdout",
     "output_type": "stream",
     "text": [
      "mean = 0.1307\n"
     ]
    }
   ],
   "source": [
    "print(f\"mean = {train_dataset.data.float().mean() / 255:.4f}\")"
   ]
  },
  {
   "cell_type": "code",
   "execution_count": 11,
   "id": "41de4113-dd98-4ef0-8499-f0314dbe70f5",
   "metadata": {},
   "outputs": [
    {
     "name": "stdout",
     "output_type": "stream",
     "text": [
      "std dev = 0.3081\n"
     ]
    }
   ],
   "source": [
    "print(f\"std dev = {train_dataset.data.float().std() / 255:.4f}\")"
   ]
  },
  {
   "cell_type": "markdown",
   "id": "a694d261-cf07-409b-b10c-f98f9ac8708f",
   "metadata": {},
   "source": [
    "#### NOTE:\n",
    "\n",
    "Since MNIST has only one channel, therefore, the mean and standard deviation is computed for one channel!"
   ]
  },
  {
   "cell_type": "code",
   "execution_count": null,
   "id": "b38aa6a3-22cd-4fce-b9d9-55a62f6b3c90",
   "metadata": {},
   "outputs": [],
   "source": []
  },
  {
   "cell_type": "code",
   "execution_count": 12,
   "id": "f28ddefa-d115-4665-a8cd-b4c7b422d9df",
   "metadata": {},
   "outputs": [
    {
     "data": {
      "text/plain": [
       "(tensor(0, dtype=torch.uint8), tensor(255, dtype=torch.uint8))"
      ]
     },
     "execution_count": 12,
     "metadata": {},
     "output_type": "execute_result"
    }
   ],
   "source": [
    "# Sanity check-\n",
    "train_dataset.data.min(), train_dataset.data.max()"
   ]
  },
  {
   "cell_type": "code",
   "execution_count": 13,
   "id": "5285b62e-3c12-4ecf-945e-5ac5b0722b01",
   "metadata": {},
   "outputs": [
    {
     "data": {
      "text/plain": [
       "(tensor(0, dtype=torch.uint8), tensor(255, dtype=torch.uint8))"
      ]
     },
     "execution_count": 13,
     "metadata": {},
     "output_type": "execute_result"
    }
   ],
   "source": [
    "test_dataset.data.min(), test_dataset.data.max()"
   ]
  },
  {
   "cell_type": "code",
   "execution_count": null,
   "id": "91ae5de8-1bd6-4b84-a89a-b875ca10998b",
   "metadata": {},
   "outputs": [],
   "source": []
  },
  {
   "cell_type": "markdown",
   "id": "1b7f22a0-1728-45a3-ae35-03062029c501",
   "metadata": {},
   "source": [
    "#### Scale pixel values in the range 0 to 1\n",
    "\n",
    "To manually convert the pixel values in the range 0 to 1."
   ]
  },
  {
   "cell_type": "code",
   "execution_count": 14,
   "id": "ed4ab5df-4c6b-4ce5-bc78-bd8a7047fb24",
   "metadata": {},
   "outputs": [],
   "source": [
    "train = train_dataset.data.float() / 255.0\n",
    "test = test_dataset.data.float() / 255.0"
   ]
  },
  {
   "cell_type": "code",
   "execution_count": 15,
   "id": "c97019b0-c9c3-4512-b178-5615a2adbb82",
   "metadata": {},
   "outputs": [
    {
     "data": {
      "text/plain": [
       "(torch.Tensor, torch.Tensor)"
      ]
     },
     "execution_count": 15,
     "metadata": {},
     "output_type": "execute_result"
    }
   ],
   "source": [
    "type(train), type(test)"
   ]
  },
  {
   "cell_type": "code",
   "execution_count": 16,
   "id": "89267044-361c-45e9-8488-dfc7e30cb3bd",
   "metadata": {},
   "outputs": [
    {
     "data": {
      "text/plain": [
       "(torch.Size([60000, 28, 28]), torch.Size([10000, 28, 28]))"
      ]
     },
     "execution_count": 16,
     "metadata": {},
     "output_type": "execute_result"
    }
   ],
   "source": [
    "train.shape, test.shape"
   ]
  },
  {
   "cell_type": "code",
   "execution_count": 17,
   "id": "d17b7423-5600-4622-b9f7-1ca2acb2b92a",
   "metadata": {},
   "outputs": [],
   "source": [
    "# Reshape to include gray-scale channel-\n",
    "train = train.reshape(60000, 1, 28, 28)\n",
    "test = test.reshape(10000, 1, 28, 28)"
   ]
  },
  {
   "cell_type": "code",
   "execution_count": 18,
   "id": "4d60a8fc-7c59-4cb6-90bc-ba977587b86d",
   "metadata": {},
   "outputs": [
    {
     "data": {
      "text/plain": [
       "(torch.Size([60000, 1, 28, 28]), torch.Size([10000, 1, 28, 28]))"
      ]
     },
     "execution_count": 18,
     "metadata": {},
     "output_type": "execute_result"
    }
   ],
   "source": [
    "train.shape, test.shape"
   ]
  },
  {
   "cell_type": "code",
   "execution_count": null,
   "id": "c2a3169b-3c2a-4051-8ff7-e60c7a31cbdc",
   "metadata": {},
   "outputs": [],
   "source": []
  },
  {
   "cell_type": "code",
   "execution_count": 19,
   "id": "815e91c3-d92e-4c68-8a4b-4272a2662bcb",
   "metadata": {},
   "outputs": [
    {
     "data": {
      "text/plain": [
       "(tensor(0.), tensor(1.))"
      ]
     },
     "execution_count": 19,
     "metadata": {},
     "output_type": "execute_result"
    }
   ],
   "source": [
    "# Sanity check- min and max pixel values are in the range 0 to 1-\n",
    "train.data.min(), train.data.max()"
   ]
  },
  {
   "cell_type": "code",
   "execution_count": 20,
   "id": "bee0db56-0e86-45db-b27b-c012f34c2db7",
   "metadata": {},
   "outputs": [
    {
     "data": {
      "text/plain": [
       "(tensor(0.), tensor(1.))"
      ]
     },
     "execution_count": 20,
     "metadata": {},
     "output_type": "execute_result"
    }
   ],
   "source": [
    "test.data.min(), test.data.max()"
   ]
  },
  {
   "cell_type": "code",
   "execution_count": 21,
   "id": "b8bd6140-e57a-444a-8a50-6c7f2a1a629b",
   "metadata": {},
   "outputs": [],
   "source": [
    "del train_dataset, test_dataset"
   ]
  },
  {
   "cell_type": "code",
   "execution_count": null,
   "id": "a2c8d8e1-f745-43e9-9966-d210b0f513d3",
   "metadata": {},
   "outputs": [],
   "source": []
  },
  {
   "cell_type": "code",
   "execution_count": 22,
   "id": "bf2a58ea-8d7a-4421-b1bf-1070299ab97d",
   "metadata": {},
   "outputs": [
    {
     "name": "stdout",
     "output_type": "stream",
     "text": [
      "batch size to be used = 32\n"
     ]
    }
   ],
   "source": [
    "print(f\"batch size to be used = {batch_size}\")"
   ]
  },
  {
   "cell_type": "code",
   "execution_count": 23,
   "id": "5e52ca4c-2e40-43ef-8421-f0429acb3b60",
   "metadata": {},
   "outputs": [],
   "source": [
    "# Create training and testing dataloaders-\n",
    "train_loader = torch.utils.data.DataLoader(\n",
    "        dataset = train, batch_size = batch_size,\n",
    "        shuffle = True\n",
    "        )\n",
    "\n",
    "test_loader = torch.utils.data.DataLoader(\n",
    "        dataset = test, batch_size = batch_size,\n",
    "        shuffle = False\n",
    "        )"
   ]
  },
  {
   "cell_type": "code",
   "execution_count": 24,
   "id": "8607e038-7c41-4c2a-997b-8f6b14698c2b",
   "metadata": {},
   "outputs": [
    {
     "name": "stdout",
     "output_type": "stream",
     "text": [
      "Sizes of train_dataset: 60000 and test_dataet: 10000\n",
      "Sizes of train_loader: 1875 and test_loader: 313\n"
     ]
    }
   ],
   "source": [
    "print(f\"Sizes of train_dataset: {len(train)} and test_dataet: {len(test)}\")\n",
    "print(f\"Sizes of train_loader: {len(train_loader)} and test_loader: {len(test_loader)}\")"
   ]
  },
  {
   "cell_type": "code",
   "execution_count": 25,
   "id": "370bfbbb-de2c-44ba-acdf-6caee8886888",
   "metadata": {},
   "outputs": [
    {
     "name": "stdout",
     "output_type": "stream",
     "text": [
      "len(train_loader) = 1875 & len(test_loader) = 313\n"
     ]
    }
   ],
   "source": [
    "print(f\"len(train_loader) = {len(train_loader)} & len(test_loader) = {len(test_loader)}\")"
   ]
  },
  {
   "cell_type": "code",
   "execution_count": 26,
   "id": "2279e99e-022b-4238-b22c-6d4a6c2ba394",
   "metadata": {},
   "outputs": [
    {
     "data": {
      "text/plain": [
       "(1875.0, 312.5)"
      ]
     },
     "execution_count": 26,
     "metadata": {},
     "output_type": "execute_result"
    }
   ],
   "source": [
    "# Sanity check-\n",
    "len(train) / batch_size, len(test) / batch_size"
   ]
  },
  {
   "cell_type": "code",
   "execution_count": null,
   "id": "c62811bb-f21d-4505-b431-7273a6ee6cce",
   "metadata": {},
   "outputs": [],
   "source": []
  },
  {
   "cell_type": "code",
   "execution_count": 27,
   "id": "992559ef-5dca-4c28-9de4-74d8ea9aaafc",
   "metadata": {},
   "outputs": [
    {
     "name": "stdout",
     "output_type": "stream",
     "text": [
      "images.shape: torch.Size([32, 1, 28, 28])\n"
     ]
    }
   ],
   "source": [
    "# Get some random batch of training images & labels-\n",
    "# images, labels = next(iter(train_loader))\n",
    "images = next(iter(train_loader))\n",
    "\n",
    "# You get 64 images due to the specified batch size-\n",
    "# print(f\"images.shape: {images.shape} & labels.shape: {labels.shape}\")\n",
    "print(f\"images.shape: {images.shape}\")"
   ]
  },
  {
   "cell_type": "code",
   "execution_count": null,
   "id": "94a87340-e47d-4a9f-97ed-410624ecf612",
   "metadata": {},
   "outputs": [],
   "source": []
  },
  {
   "cell_type": "code",
   "execution_count": 28,
   "id": "4349ff13-8b38-4562-9499-99fdd6efd332",
   "metadata": {},
   "outputs": [
    {
     "data": {
      "text/plain": [
       "(tensor(0.), tensor(1.))"
      ]
     },
     "execution_count": 28,
     "metadata": {},
     "output_type": "execute_result"
    }
   ],
   "source": [
    "images.min(), images.max()"
   ]
  },
  {
   "cell_type": "code",
   "execution_count": 29,
   "id": "75e13a28-852a-42c4-933c-503668427b97",
   "metadata": {},
   "outputs": [],
   "source": [
    "# De-normalize the batch of images-\n",
    "images *= 255.0"
   ]
  },
  {
   "cell_type": "code",
   "execution_count": 30,
   "id": "7b13a40a-39e3-4546-be0d-b7e94970f6ba",
   "metadata": {},
   "outputs": [
    {
     "data": {
      "text/plain": [
       "(tensor(0.), tensor(255.))"
      ]
     },
     "execution_count": 30,
     "metadata": {},
     "output_type": "execute_result"
    }
   ],
   "source": [
    "images.min(), images.max()"
   ]
  },
  {
   "cell_type": "code",
   "execution_count": null,
   "id": "34c0f855-170c-4661-909f-3e7ff5cd5705",
   "metadata": {},
   "outputs": [],
   "source": []
  },
  {
   "cell_type": "code",
   "execution_count": 31,
   "id": "c63d53a2-c24e-4ff4-8e57-0602f27955ea",
   "metadata": {},
   "outputs": [
    {
     "data": {
      "image/png": "[encoded data removed]",
      "text/plain": [
       "<Figure size 576x504 with 10 Axes>"
      ]
     },
     "metadata": {
      "needs_background": "light"
     },
     "output_type": "display_data"
    }
   ],
   "source": [
    "# Visualize 10 images from training set-\n",
    "plt.figure(figsize = (8, 7))\n",
    "for i in range(10):\n",
    "    plt.subplot(2, 5, i + 1)    # 2 rows & 5 columns\n",
    "    # plt.imshow(images[i], cmap = 'gray')\n",
    "    # 0 to access first channel-\n",
    "    plt.imshow(images[i][0], cmap = 'gray')\n",
    "    \n",
    "plt.suptitle(\"Sample MNIST training images\")\n",
    "plt.show()"
   ]
  },
  {
   "cell_type": "code",
   "execution_count": null,
   "id": "7403b985-c91d-4f86-bf6c-7374e3cab440",
   "metadata": {},
   "outputs": [],
   "source": []
  },
  {
   "cell_type": "code",
   "execution_count": null,
   "id": "77d41658-3f5b-4a8c-9065-f8a36828930b",
   "metadata": {},
   "outputs": [],
   "source": []
  },
  {
   "cell_type": "markdown",
   "id": "81156902-c9f2-4aea-a2f5-64850f2b2af8",
   "metadata": {},
   "source": [
    "### Define Variational Autoencoder architecture using _convolutional_ layers"
   ]
  },
  {
   "cell_type": "code",
   "execution_count": 32,
   "id": "c4daa92d-2620-4150-a0f0-d2159d4c04cc",
   "metadata": {},
   "outputs": [],
   "source": [
    "class LeNet_Encoder(nn.Module):\n",
    "    def __init__(self, latent_space):\n",
    "        super(LeNet_Encoder, self).__init__()\n",
    "        \n",
    "        self.latent_space = latent_space\n",
    "        self.conv1 = nn.Conv2d(\n",
    "            in_channels = 1, out_channels = 6,\n",
    "            kernel_size = 3, stride = 2,\n",
    "            padding = 1, bias = True\n",
    "        )\n",
    "        self.conv2 = nn.Conv2d(\n",
    "            in_channels = 6, out_channels = 16,\n",
    "            kernel_size = 5, stride = 1,\n",
    "            padding = 0, bias = True\n",
    "        )\n",
    "        self.conv3 = nn.Conv2d(\n",
    "            in_channels = 16, out_channels = 16,\n",
    "            kernel_size = 5, stride = 1,\n",
    "            padding = 0, bias = True\n",
    "        )\n",
    "        self.conv4 = nn.Conv2d(\n",
    "            in_channels = 16, out_channels = 16,\n",
    "            kernel_size = 5, stride = 1,\n",
    "            padding = 0, bias = True\n",
    "        )\n",
    "        self.dense = nn.Linear(\n",
    "            in_features = 64, out_features = 10,\n",
    "            bias = True\n",
    "        )\n",
    "        '''\n",
    "        self.dense2 = nn.Linear(\n",
    "            in_features = 30, out_features = 10,\n",
    "            bias = True\n",
    "        )\n",
    "        '''\n",
    "        self.encoder_output = nn.Linear(\n",
    "            in_features = 10, out_features = self.latent_space,\n",
    "            bias = True\n",
    "        )\n",
    "        \n",
    "        self.initialize_weights()\n",
    "        \n",
    "    \n",
    "    def initialize_weights(self):\n",
    "        for m in self.modules():\n",
    "            # print(m)\n",
    "            if isinstance(m, nn.Conv2d):\n",
    "                nn.init.kaiming_uniform_(m.weight)\n",
    "                \n",
    "                # Do not initialize bias (due to batchnorm)-\n",
    "                if m.bias is not None:\n",
    "                    nn.init.constant_(m.bias, 0)\n",
    "                \n",
    "            elif isinstance(m, nn.BatchNorm2d):\n",
    "                # Standard initialization for batch normalization-\n",
    "                nn.init.constant_(m.weight, 1)\n",
    "                nn.init.constant_(m.bias, 0)\n",
    "\n",
    "            elif isinstance(m, nn.Linear):\n",
    "                nn.init.kaiming_normal_(m.weight)\n",
    "                nn.init.constant_(m.bias, 0)\n",
    "        \n",
    "    \n",
    "    def forward(self, x):\n",
    "        x = F.leaky_relu(self.conv1(x))\n",
    "        x = F.leaky_relu(self.conv2(x))\n",
    "        x = F.leaky_relu(self.conv3(x))\n",
    "        x = F.leaky_relu(self.conv4(x))\n",
    "        # print(f\"before flatten, x.shape: {x.shape}\")\n",
    "        x = torch.flatten(x, start_dim = 1)\n",
    "        x = F.leaky_relu(self.dense(x))\n",
    "        # x = F.leaky_relu(self.dense2(x))\n",
    "        x = F.leaky_relu(self.encoder_output(x))\n",
    "        return x\n",
    "        \n",
    "        \n",
    "    def shape_computation(self, x):\n",
    "        print(f\"Input shape: {x.shape}\")\n",
    "        x = self.conv1(x)\n",
    "        print(f\"conv1 output shape: {x.shape}\")\n",
    "        x = self.conv2(x)\n",
    "        print(f\"conv2 output shape: {x.shape}\")\n",
    "        x = self.conv3(x)\n",
    "        print(f\"conv3 output shape: {x.shape}\")\n",
    "        x = self.conv4(x)\n",
    "        print(f\"conv4 output shape: {x.shape}\")\n",
    "        x = torch.flatten(x, start_dim = 1)\n",
    "        print(f\"flattened shape: {x.shape}\")\n",
    "        x = self.dense(x)\n",
    "        print(f\"dense output shape: {x.shape}\")\n",
    "        # x = self.dense2(x)\n",
    "        # print(f\"dense2 output shape: {x.shape}\")\n",
    "        x = self.encoder_output(x)\n",
    "        print(f\"encoder output shape: {x.shape}\")\n",
    "        del x\n",
    "        return None\n",
    "        "
   ]
  },
  {
   "cell_type": "code",
   "execution_count": null,
   "id": "13f69ed7-dd61-4cd1-820d-3be39944852b",
   "metadata": {},
   "outputs": [],
   "source": []
  },
  {
   "cell_type": "code",
   "execution_count": 41,
   "id": "ba7b11c1-adb2-43c5-879f-7da06c0234c7",
   "metadata": {},
   "outputs": [],
   "source": [
    "class LeNet_Decoder(nn.Module):\n",
    "    def __init__(self, latent_space):\n",
    "        super(LeNet_Decoder, self).__init__()\n",
    "        \n",
    "        self.latent_space = latent_space\n",
    "        self.dense_layer1 = nn.Linear(\n",
    "            in_features = self.latent_space, out_features = 10,\n",
    "            bias = True\n",
    "        )\n",
    "        \n",
    "        self.dense_layer2 = nn.Linear(\n",
    "            in_features = 10, out_features = 64,\n",
    "            bias = True\n",
    "        )\n",
    "        '''\n",
    "        self.dense_layer3 = nn.Linear(\n",
    "            in_features = 30, out_features = 64,\n",
    "            bias = True\n",
    "        )\n",
    "        '''\n",
    "        self.conv_tran_layer1 = nn.ConvTranspose2d(\n",
    "            in_channels = 16, out_channels = 16,\n",
    "            kernel_size = 5, stride = 1,\n",
    "            padding = 0\n",
    "        )\n",
    "        self.conv_tran_layer2 = nn.ConvTranspose2d(\n",
    "            in_channels = 16, out_channels = 16,\n",
    "            kernel_size = 5, stride = 1,\n",
    "            padding = 0\n",
    "        )\n",
    "        self.conv_tran_layer3 = nn.ConvTranspose2d(\n",
    "            in_channels = 16, out_channels = 6,\n",
    "            kernel_size = 5, stride = 1,\n",
    "            padding = 0\n",
    "        )\n",
    "        self.op_conv_tran_layer = nn.ConvTranspose2d(\n",
    "            in_channels = 6, out_channels = 1,\n",
    "            kernel_size = 2, stride = 2,\n",
    "            padding = 0\n",
    "        )\n",
    "        \n",
    "        self.initialize_weights()\n",
    "        \n",
    "    \n",
    "    def initialize_weights(self):\n",
    "        for m in self.modules():\n",
    "            # print(m)\n",
    "            if isinstance(m, nn.Conv2d):\n",
    "                nn.init.kaiming_uniform_(m.weight)\n",
    "                \n",
    "                # Do not initialize bias (due to batchnorm)-\n",
    "                if m.bias is not None:\n",
    "                    nn.init.constant_(m.bias, 0)\n",
    "                \n",
    "            elif isinstance(m, nn.BatchNorm2d):\n",
    "                # Standard initialization for batch normalization-\n",
    "                nn.init.constant_(m.weight, 1)\n",
    "                nn.init.constant_(m.bias, 0)\n",
    "\n",
    "            elif isinstance(m, nn.Linear):\n",
    "                nn.init.kaiming_normal_(m.weight)\n",
    "                nn.init.constant_(m.bias, 0)\n",
    "        \n",
    "        \n",
    "    def forward(self, x):\n",
    "        x = F.leaky_relu(self.dense_layer1(x))\n",
    "        x = F.leaky_relu(self.dense_layer2(x))\n",
    "        # x = F.leaky_relu(self.dense_layer3(x))\n",
    "        x = x.view(-1, 16, 2, 2)\n",
    "        x = F.leaky_relu(self.conv_tran_layer1(x))\n",
    "        x = F.leaky_relu(self.conv_tran_layer2(x))\n",
    "        x = F.leaky_relu(self.conv_tran_layer3(x))\n",
    "        x = self.op_conv_tran_layer(x)\n",
    "        return x\n",
    " \n",
    "\n",
    "    def shape_computation(self, x):\n",
    "        print(f\"Input shape: {x.shape}\")\n",
    "        x = self.dense_layer1(x)\n",
    "        print(f\"dense1 output shape: {x.shape}\")\n",
    "        x = self.dense_layer2(x)\n",
    "        print(f\"dense2 output shape: {x.shape}\")\n",
    "        # x = self.dense_layer3(x)\n",
    "        # print(f\"dense3 output shape: {x.shape}\")\n",
    "        x = x.view(-1, 16, 2, 2)\n",
    "        print(f\"reshaped output shape: {x.shape}\")\n",
    "        x = self.conv_tran_layer1(x)\n",
    "        print(f\"conv transpose1 output shape: {x.shape}\")\n",
    "        x = self.conv_tran_layer2(x)\n",
    "        print(f\"conv transpose2 output shape: {x.shape}\")\n",
    "        x = self.conv_tran_layer3(x)\n",
    "        print(f\"conv transpose3 output shape: {x.shape}\")\n",
    "        x = self.op_conv_tran_layer(x)\n",
    "        print(f\"decoder output shape: {x.shape}\")\n",
    "        del x\n",
    "        return None\n"
   ]
  },
  {
   "cell_type": "code",
   "execution_count": null,
   "id": "4696c004-58e3-4b72-84ab-7766fddde76c",
   "metadata": {},
   "outputs": [],
   "source": []
  },
  {
   "cell_type": "markdown",
   "id": "c94e02c7-c8d6-4efb-ba4a-cea2500f1b5b",
   "metadata": {},
   "source": [
    "#### Sanity check"
   ]
  },
  {
   "cell_type": "code",
   "execution_count": 34,
   "id": "e9e24070-38bf-46d1-a21f-48ebd557b3c0",
   "metadata": {},
   "outputs": [],
   "source": [
    "encoder = LeNet_Encoder(latent_space = 3)"
   ]
  },
  {
   "cell_type": "code",
   "execution_count": 35,
   "id": "b421c1df-b108-4703-93d2-43e476d0b628",
   "metadata": {},
   "outputs": [],
   "source": [
    "encoded_images = encoder(images)"
   ]
  },
  {
   "cell_type": "code",
   "execution_count": 42,
   "id": "747cad00-9c4d-4afe-888b-2b10f97a3c3a",
   "metadata": {},
   "outputs": [],
   "source": [
    "decoder = LeNet_Decoder(latent_space = 3)"
   ]
  },
  {
   "cell_type": "code",
   "execution_count": 43,
   "id": "61a94436-9503-47ea-853a-eb77856ffaf5",
   "metadata": {},
   "outputs": [],
   "source": [
    "decoded_images = decoder(encoded_images)"
   ]
  },
  {
   "cell_type": "code",
   "execution_count": 44,
   "id": "649dd804-fdae-4bd8-90ad-5814bfeb8d60",
   "metadata": {},
   "outputs": [
    {
     "data": {
      "text/plain": [
       "(torch.Size([32, 1, 28, 28]), torch.Size([32, 1, 28, 28]))"
      ]
     },
     "execution_count": 44,
     "metadata": {},
     "output_type": "execute_result"
    }
   ],
   "source": [
    "decoded_images.shape, images.shape"
   ]
  },
  {
   "cell_type": "code",
   "execution_count": 39,
   "id": "eedad845-2184-4cc3-bf8e-9e9d037612a8",
   "metadata": {},
   "outputs": [
    {
     "name": "stdout",
     "output_type": "stream",
     "text": [
      "Input shape: torch.Size([32, 1, 28, 28])\n",
      "conv1 output shape: torch.Size([32, 6, 14, 14])\n",
      "conv2 output shape: torch.Size([32, 16, 10, 10])\n",
      "conv3 output shape: torch.Size([32, 16, 6, 6])\n",
      "conv4 output shape: torch.Size([32, 16, 2, 2])\n",
      "flattened shape: torch.Size([32, 64])\n",
      "dense output shape: torch.Size([32, 10])\n",
      "encoder output shape: torch.Size([32, 3])\n"
     ]
    }
   ],
   "source": [
    "encoder.shape_computation(images)"
   ]
  },
  {
   "cell_type": "code",
   "execution_count": 45,
   "id": "411b1a52-47c1-4043-a96a-a0c1b7da7c4b",
   "metadata": {},
   "outputs": [
    {
     "name": "stdout",
     "output_type": "stream",
     "text": [
      "Input shape: torch.Size([32, 3])\n",
      "dense1 output shape: torch.Size([32, 10])\n",
      "dense2 output shape: torch.Size([32, 64])\n",
      "reshaped output shape: torch.Size([32, 16, 2, 2])\n",
      "conv transpose1 output shape: torch.Size([32, 16, 6, 6])\n",
      "conv transpose2 output shape: torch.Size([32, 16, 10, 10])\n",
      "conv transpose3 output shape: torch.Size([32, 6, 14, 14])\n",
      "decoder output shape: torch.Size([32, 1, 28, 28])\n"
     ]
    }
   ],
   "source": [
    "decoder.shape_computation(encoded_images)"
   ]
  },
  {
   "cell_type": "code",
   "execution_count": 46,
   "id": "a889fb94-914b-4723-849a-e30f884b6b4b",
   "metadata": {},
   "outputs": [],
   "source": [
    "del encoded_images, decoded_images, encoder, decoder"
   ]
  },
  {
   "cell_type": "code",
   "execution_count": null,
   "id": "be7d7681-9687-41f5-812d-f567b957df0f",
   "metadata": {},
   "outputs": [],
   "source": []
  },
  {
   "cell_type": "code",
   "execution_count": null,
   "id": "2cfa2007-9d3d-4f45-88b2-6131715c524a",
   "metadata": {},
   "outputs": [],
   "source": []
  },
  {
   "cell_type": "code",
   "execution_count": 47,
   "id": "134ffb7a-22fd-4e72-b361-960a260a7102",
   "metadata": {},
   "outputs": [],
   "source": [
    "class VAE_Conv(nn.Module):\n",
    "    def __init__(self, latent_space = 5):\n",
    "        super(VAE_Conv, self).__init__()\n",
    "        \n",
    "        self.latent_space = latent_space\n",
    "        \n",
    "        # Encoder-\n",
    "        self.encoder = LeNet_Encoder(latent_space = self.latent_space).to(device)\n",
    "        \n",
    "        # Two additional layers 'mu' & 'log_var' to convert the bottleneck into the μ and σ vectors-\n",
    "        self.mu = nn.Linear(\n",
    "            in_features = self.latent_space, out_features = self.latent_space,\n",
    "            bias = True\n",
    "        )\n",
    "        self.log_var = nn.Linear(\n",
    "            in_features = self.latent_space, out_features = self.latent_space,\n",
    "            bias = True\n",
    "        )\n",
    "        \n",
    "        # Decoder-\n",
    "        self.decoder = LeNet_Decoder(latent_space = self.latent_space).to(device)\n",
    "        \n",
    "        \n",
    "    def reparameterize(self, mu, log_var):\n",
    "        '''\n",
    "        Input arguments:\n",
    "        1. mu - mean coming from the encoder's latent space\n",
    "        2. log_var - log variance coming from the encoder's latent space\n",
    "        '''\n",
    "        # Compute standard deviation using 'log_var'-\n",
    "        std = torch.exp(0.5 * log_var)\n",
    "        \n",
    "        # 'eps' samples from a normal standard distribution to add\n",
    "        # stochasticity to the sampling process-\n",
    "        eps = torch.randn_like(std)\n",
    "        \n",
    "        # Reparameterization trick - sample as if it's from the input\n",
    "        # space-\n",
    "        z = mu + (std * eps)\n",
    "        \n",
    "        return z\n",
    "    \n",
    "    \n",
    "    def forward(self, x):\n",
    "        # Encode input data-\n",
    "        x = self.encoder(x)\n",
    "        # NOTE: The line of code above does NOT give us the latent vector!\n",
    "        \n",
    "        mu = self.mu(x)\n",
    "        log_var = self.log_var(x)\n",
    "        \n",
    "        # Obtain the latent vector using reparameterization-\n",
    "        z = self.reparameterize(mu, log_var)\n",
    "        # latent vector 'z' is obtained through reparameterization trick using mu and log_var\n",
    "        \n",
    "        # Decode latent vector-\n",
    "        recon_data = torch.sigmoid(self.decoder(z))\n",
    "        # recon_data = torch.tanh(self.decoder(z))\n",
    "        \n",
    "        return recon_data, mu, log_var\n",
    "    \n",
    "    \n",
    "    def shape_computation(self, x):\n",
    "        print(f\"Input shape: {x.shape}\")\n",
    "        x = self.encoder(x)\n",
    "        print(f\"Encoder output shape: {x.shape}\")\n",
    "        mu = self.mu(x)\n",
    "        log_var = self.log_var(x)\n",
    "        z = self.reparameterize(mu, log_var)\n",
    "        print(f\"mu.shape: {mu.shape}, log_var.shape: {log_var.shape}\"\n",
    "              f\" & z.shape: {z.shape}\")\n",
    "        x = self.decoder(z)\n",
    "        print(f\"Decoder output shape: {x.shape}\")\n",
    "        del x, mu, log_var, z\n",
    "        return None\n",
    "    \n",
    "    "
   ]
  },
  {
   "cell_type": "code",
   "execution_count": null,
   "id": "8a97aaf2-078c-4814-89f6-c50f6fabb9a2",
   "metadata": {},
   "outputs": [],
   "source": []
  },
  {
   "cell_type": "code",
   "execution_count": 48,
   "id": "c860ddf0-1696-4fb7-a5f9-73b301925075",
   "metadata": {},
   "outputs": [],
   "source": [
    "# Initialize a VAE objetc-\n",
    "model = VAE_Conv(latent_space = 3).to(device)"
   ]
  },
  {
   "cell_type": "code",
   "execution_count": null,
   "id": "0ff6b87d-d3a0-4bb1-b563-9383583b5fc9",
   "metadata": {},
   "outputs": [],
   "source": []
  },
  {
   "cell_type": "code",
   "execution_count": 49,
   "id": "2bc50f58-a33a-4695-a965-d9457e0e8495",
   "metadata": {},
   "outputs": [
    {
     "name": "stdout",
     "output_type": "stream",
     "text": [
      "VAE_Conv(\n",
      "  (encoder): LeNet_Encoder(\n",
      "    (conv1): Conv2d(1, 6, kernel_size=(3, 3), stride=(2, 2), padding=(1, 1))\n",
      "    (conv2): Conv2d(6, 16, kernel_size=(5, 5), stride=(1, 1))\n",
      "    (conv3): Conv2d(16, 16, kernel_size=(5, 5), stride=(1, 1))\n",
      "    (conv4): Conv2d(16, 16, kernel_size=(5, 5), stride=(1, 1))\n",
      "    (dense): Linear(in_features=64, out_features=10, bias=True)\n",
      "    (encoder_output): Linear(in_features=10, out_features=3, bias=True)\n",
      "  )\n",
      "  (mu): Linear(in_features=3, out_features=3, bias=True)\n",
      "  (log_var): Linear(in_features=3, out_features=3, bias=True)\n",
      "  (decoder): LeNet_Decoder(\n",
      "    (dense_layer1): Linear(in_features=3, out_features=10, bias=True)\n",
      "    (dense_layer2): Linear(in_features=10, out_features=64, bias=True)\n",
      "    (conv_tran_layer1): ConvTranspose2d(16, 16, kernel_size=(5, 5), stride=(1, 1))\n",
      "    (conv_tran_layer2): ConvTranspose2d(16, 16, kernel_size=(5, 5), stride=(1, 1))\n",
      "    (conv_tran_layer3): ConvTranspose2d(16, 6, kernel_size=(5, 5), stride=(1, 1))\n",
      "    (op_conv_tran_layer): ConvTranspose2d(6, 1, kernel_size=(2, 2), stride=(2, 2))\n",
      "  )\n",
      ")\n"
     ]
    }
   ],
   "source": [
    "print(model)"
   ]
  },
  {
   "cell_type": "code",
   "execution_count": 50,
   "id": "bde96bb4-603a-4d4d-8c88-db73fe31cb02",
   "metadata": {},
   "outputs": [
    {
     "name": "stdout",
     "output_type": "stream",
     "text": [
      "layer.shape = torch.Size([6, 1, 3, 3]) has 54 parameters\n",
      "layer.shape = torch.Size([6]) has 6 parameters\n",
      "layer.shape = torch.Size([16, 6, 5, 5]) has 2400 parameters\n",
      "layer.shape = torch.Size([16]) has 16 parameters\n",
      "layer.shape = torch.Size([16, 16, 5, 5]) has 6400 parameters\n",
      "layer.shape = torch.Size([16]) has 16 parameters\n",
      "layer.shape = torch.Size([16, 16, 5, 5]) has 6400 parameters\n",
      "layer.shape = torch.Size([16]) has 16 parameters\n",
      "layer.shape = torch.Size([10, 64]) has 640 parameters\n",
      "layer.shape = torch.Size([10]) has 10 parameters\n",
      "layer.shape = torch.Size([3, 10]) has 30 parameters\n",
      "layer.shape = torch.Size([3]) has 3 parameters\n",
      "layer.shape = torch.Size([3, 3]) has 9 parameters\n",
      "layer.shape = torch.Size([3]) has 3 parameters\n",
      "layer.shape = torch.Size([3, 3]) has 9 parameters\n",
      "layer.shape = torch.Size([3]) has 3 parameters\n",
      "layer.shape = torch.Size([10, 3]) has 30 parameters\n",
      "layer.shape = torch.Size([10]) has 10 parameters\n",
      "layer.shape = torch.Size([64, 10]) has 640 parameters\n",
      "layer.shape = torch.Size([64]) has 64 parameters\n",
      "layer.shape = torch.Size([16, 16, 5, 5]) has 6400 parameters\n",
      "layer.shape = torch.Size([16]) has 16 parameters\n",
      "layer.shape = torch.Size([16, 16, 5, 5]) has 6400 parameters\n",
      "layer.shape = torch.Size([16]) has 16 parameters\n",
      "layer.shape = torch.Size([16, 6, 5, 5]) has 2400 parameters\n",
      "layer.shape = torch.Size([6]) has 6 parameters\n",
      "layer.shape = torch.Size([6, 1, 2, 2]) has 24 parameters\n",
      "layer.shape = torch.Size([1]) has 1 parameters\n"
     ]
    }
   ],
   "source": [
    "# Count number of layer-wise parameters and total parameters-\n",
    "tot_params = 0\n",
    "for param in model.parameters():\n",
    "    print(f\"layer.shape = {param.shape} has {param.nelement()} parameters\")\n",
    "    tot_params += param.nelement()"
   ]
  },
  {
   "cell_type": "code",
   "execution_count": 51,
   "id": "19dc32ee-0f02-4912-a87b-1dc4425c5669",
   "metadata": {},
   "outputs": [
    {
     "name": "stdout",
     "output_type": "stream",
     "text": [
      "Total number of parameters in VAE Conv model = 32022\n"
     ]
    }
   ],
   "source": [
    "print(f\"Total number of parameters in VAE Conv model = {tot_params}\")"
   ]
  },
  {
   "cell_type": "code",
   "execution_count": null,
   "id": "15532c76-5f54-4dbf-a0b5-3d1a3d41e0af",
   "metadata": {},
   "outputs": [],
   "source": []
  },
  {
   "cell_type": "markdown",
   "id": "10180047-ebcf-4668-9a41-52214832f1a2",
   "metadata": {},
   "source": [
    "### Initial variance - Sanity check:\n",
    "\n",
    "Before training the VAE neural network model, there should be some initial variance."
   ]
  },
  {
   "cell_type": "code",
   "execution_count": 52,
   "id": "5ceb04a8-2c72-4341-a35c-50d151dddfcc",
   "metadata": {},
   "outputs": [
    {
     "name": "stdout",
     "output_type": "stream",
     "text": [
      "torch.Size([3, 3]) 9\n",
      "torch.Size([3]) 3\n"
     ]
    }
   ],
   "source": [
    "for x in model.mu.parameters():\n",
    "    print(x.shape, x.nelement())"
   ]
  },
  {
   "cell_type": "code",
   "execution_count": 53,
   "id": "6855f32c-16de-4276-a95a-da0c3051f646",
   "metadata": {},
   "outputs": [],
   "source": [
    "log_var_wts = model.log_var.weight\n",
    "mu_wts = model.mu.weight"
   ]
  },
  {
   "cell_type": "code",
   "execution_count": 54,
   "id": "a4f1adb8-b8fa-41f6-8c8d-c1a24ee90501",
   "metadata": {},
   "outputs": [],
   "source": [
    "mu_wts = mu_wts.detach().cpu().numpy()\n",
    "log_var_wts = log_var_wts.detach().cpu().numpy()"
   ]
  },
  {
   "cell_type": "code",
   "execution_count": 55,
   "id": "fab189d5-b508-49d2-b2de-99a97f8e287f",
   "metadata": {},
   "outputs": [
    {
     "data": {
      "text/plain": [
       "((3, 3), (3, 3))"
      ]
     },
     "execution_count": 55,
     "metadata": {},
     "output_type": "execute_result"
    }
   ],
   "source": [
    "mu_wts.shape, log_var_wts.shape"
   ]
  },
  {
   "cell_type": "code",
   "execution_count": null,
   "id": "a783e454-7dc3-47f2-90de-c40a27ad81c2",
   "metadata": {},
   "outputs": [],
   "source": []
  },
  {
   "cell_type": "code",
   "execution_count": 56,
   "id": "56b20880-500b-4073-b874-c5e9e194c814",
   "metadata": {},
   "outputs": [
    {
     "data": {
      "image/png": "[encoded data removed]",
      "text/plain": [
       "<Figure size 360x360 with 1 Axes>"
      ]
     },
     "metadata": {
      "needs_background": "light"
     },
     "output_type": "display_data"
    }
   ],
   "source": [
    "sns.displot(data = mu_wts.flatten(), bins = int(np.ceil(np.sqrt(mu_wts.size))))\n",
    "plt.title(\"mu randomly initialized - Visualization\")\n",
    "plt.show()"
   ]
  },
  {
   "cell_type": "code",
   "execution_count": 57,
   "id": "f88f920c-1821-4892-a0b2-ec3599066380",
   "metadata": {},
   "outputs": [
    {
     "data": {
      "image/png": "[encoded data removed]",
      "text/plain": [
       "<Figure size 360x360 with 1 Axes>"
      ]
     },
     "metadata": {
      "needs_background": "light"
     },
     "output_type": "display_data"
    }
   ],
   "source": [
    "sns.displot(data = log_var_wts.flatten(), bins = int(np.ceil(np.sqrt(log_var_wts.size))))\n",
    "plt.title(\"log variance randomly initialized - Visualization\")\n",
    "plt.show()"
   ]
  },
  {
   "cell_type": "code",
   "execution_count": 58,
   "id": "578feabd-88d6-4825-9423-7c405a9c38de",
   "metadata": {},
   "outputs": [],
   "source": [
    "del mu_wts, log_var_wts"
   ]
  },
  {
   "cell_type": "code",
   "execution_count": null,
   "id": "b137f5cd-4c93-4538-9ecd-630eaba5a5da",
   "metadata": {},
   "outputs": [],
   "source": []
  },
  {
   "cell_type": "code",
   "execution_count": 68,
   "id": "ba95dc6b-7244-45af-bc8f-d9bc9ff055f6",
   "metadata": {},
   "outputs": [],
   "source": [
    "images = images.to(device)"
   ]
  },
  {
   "cell_type": "code",
   "execution_count": 69,
   "id": "6ea8fe83-5237-4adc-8cdf-735eb2c4422b",
   "metadata": {},
   "outputs": [
    {
     "data": {
      "text/plain": [
       "torch.Size([32, 1, 28, 28])"
      ]
     },
     "execution_count": 69,
     "metadata": {},
     "output_type": "execute_result"
    }
   ],
   "source": [
    "images.shape"
   ]
  },
  {
   "cell_type": "code",
   "execution_count": 70,
   "id": "2e556c89-162e-42aa-bcf9-06e88ff9605b",
   "metadata": {},
   "outputs": [
    {
     "data": {
      "text/plain": [
       "(tensor(0., device='cuda:0'), tensor(255., device='cuda:0'))"
      ]
     },
     "execution_count": 70,
     "metadata": {},
     "output_type": "execute_result"
    }
   ],
   "source": [
    "images.min(), images.max()"
   ]
  },
  {
   "cell_type": "code",
   "execution_count": 71,
   "id": "069a1a91-252e-4e76-87b6-ca5007f7656e",
   "metadata": {},
   "outputs": [],
   "source": [
    "# Sanity check-\n",
    "recon_images, mu, log_var = model(images)"
   ]
  },
  {
   "cell_type": "code",
   "execution_count": 72,
   "id": "12c16baf-5d48-47fd-8f18-61024e61e179",
   "metadata": {},
   "outputs": [
    {
     "data": {
      "text/plain": [
       "(torch.Size([32, 1, 28, 28]), torch.Size([32, 3]), torch.Size([32, 3]))"
      ]
     },
     "execution_count": 72,
     "metadata": {},
     "output_type": "execute_result"
    }
   ],
   "source": [
    "recon_images.shape, mu.shape, log_var.shape"
   ]
  },
  {
   "cell_type": "code",
   "execution_count": 73,
   "id": "013f9625-8530-44e9-9e0f-30d926bcc715",
   "metadata": {},
   "outputs": [
    {
     "data": {
      "text/plain": [
       "(array(0.32189932, dtype=float32), array(0.6281065, dtype=float32))"
      ]
     },
     "execution_count": 73,
     "metadata": {},
     "output_type": "execute_result"
    }
   ],
   "source": [
    "recon_images.min().detach().cpu().numpy(), recon_images.max().detach().cpu().numpy()"
   ]
  },
  {
   "cell_type": "code",
   "execution_count": 65,
   "id": "64c376b6-fbe3-421c-a202-847eac66e66d",
   "metadata": {},
   "outputs": [],
   "source": [
    "del recon_images, mu, log_var"
   ]
  },
  {
   "cell_type": "code",
   "execution_count": null,
   "id": "36b9e27b-f255-4a5e-a52e-95a96a670657",
   "metadata": {},
   "outputs": [],
   "source": []
  },
  {
   "cell_type": "code",
   "execution_count": null,
   "id": "92f42140-3d1b-4d1d-81bc-921d6366dce8",
   "metadata": {},
   "outputs": [],
   "source": []
  },
  {
   "cell_type": "code",
   "execution_count": 66,
   "id": "cf4eeb0d-4591-4e50-bf28-12f7a2402758",
   "metadata": {},
   "outputs": [
    {
     "name": "stdout",
     "output_type": "stream",
     "text": [
      "Adam optimizer with learning rate = 0.001 will be used\n"
     ]
    }
   ],
   "source": [
    "print(f\"Adam optimizer with learning rate = {learning_rate} will be used\")"
   ]
  },
  {
   "cell_type": "code",
   "execution_count": 67,
   "id": "8e74e056-e63e-4260-89e6-99a86fc6fa6a",
   "metadata": {},
   "outputs": [],
   "source": [
    "# Define gradient descent optimizer-\n",
    "optimizer = torch.optim.Adam(model.parameters(), lr = learning_rate)\n",
    "\n",
    "# optimizer = torch.optim.SGD(model.parameters(), lr = 0.01, momentum = 0.9, weight_decay = 5e-4)"
   ]
  },
  {
   "cell_type": "code",
   "execution_count": null,
   "id": "0eeede8b-1f03-49a1-9413-9b65d3587dd0",
   "metadata": {},
   "outputs": [],
   "source": []
  },
  {
   "cell_type": "code",
   "execution_count": null,
   "id": "13955768-396e-4dc2-811f-c769b2a10c4a",
   "metadata": {},
   "outputs": [],
   "source": []
  },
  {
   "cell_type": "code",
   "execution_count": 109,
   "id": "ac73daed-4bfd-445c-9879-6cf06e8a8671",
   "metadata": {},
   "outputs": [],
   "source": [
    "def total_loss(data, data_recon, mu, log_var, alpha = 1):\n",
    "    '''\n",
    "    Function to compute loss = reconstruction loss * reconstruction_term_weight + KL-Divergence loss.\n",
    "    KL-Divergence = 0.5 * sum(1 + log(sigma^2) - mu^2 - sigma^2)\n",
    "    \n",
    "    Inputs:\n",
    "    1. mu: mean from the latent vector\n",
    "    2. logvar: log variance from the latent vector\n",
    "    3. alpha (int): Hyperparameter to control the importance of reconstruction\n",
    "    loss vs KL-Divergence Loss - reconstruction term weight\n",
    "    4. data: training data\n",
    "    5. data_recon: VAE's reconstructed data\n",
    "    '''\n",
    "    \n",
    "    # Sum over latent dimensions-\n",
    "    kl_div = -0.5 * torch.sum(1 + log_var - mu.pow(2) - torch.exp(log_var), axis = 1)\n",
    "    # kl_div = -0.5 * torch.sum(1 + log_var - (mu **2) - torch.exp(log_var), axis = 1)\n",
    "    \n",
    "    # kl_div.shape\n",
    "    # torch.Size([32])\n",
    "    \n",
    "    batchsize = kl_div.size(0)\n",
    "\n",
    "    # Average over batch dimension-\n",
    "    kl_div = kl_div.mean()\n",
    "    \n",
    "    reconstruction_loss_fn = F.mse_loss\n",
    "    recon_loss = reconstruction_loss_fn(data_recon, data, reduction = 'none')\n",
    "    \n",
    "    # recon_loss.shape\n",
    "    # torch.Size([32, 1, 28, 28])\n",
    "    \n",
    "    # Sum over all pixels-\n",
    "    recon_loss = recon_loss.view(batchsize, -1).sum(axis = 1)\n",
    "    \n",
    "    # recon_loss.shape\n",
    "    # torch.Size([32])\n",
    "    \n",
    "    # Average over mini-batch dimension-\n",
    "    recon_loss = recon_loss.mean()\n",
    "    \n",
    "    final_loss = (alpha * recon_loss) + kl_div\n",
    "    \n",
    "    return final_loss, recon_loss, kl_div\n"
   ]
  },
  {
   "cell_type": "code",
   "execution_count": null,
   "id": "c1b420dd-c66b-48f4-9441-cc02dd9ee1b2",
   "metadata": {},
   "outputs": [],
   "source": []
  },
  {
   "cell_type": "code",
   "execution_count": null,
   "id": "71c8b904-71e7-4b32-bfde-f4cb9cbc991c",
   "metadata": {},
   "outputs": [],
   "source": [
    "'''\n",
    "# Sanity check-\n",
    "final_loss, recon_loss, kl_div_loss = total_loss(\n",
    "    data = images, data_recon = recon_images,\n",
    "    mu = mu, log_var = log_var,\n",
    "    alpha = 1\n",
    ")\n",
    "'''"
   ]
  },
  {
   "cell_type": "code",
   "execution_count": null,
   "id": "77640ef9-86a4-47fc-a1a8-5e5580b9d44d",
   "metadata": {},
   "outputs": [],
   "source": [
    "'''\n",
    "print(f\"final loss = {final_loss.cpu().detach().numpy():.4f},\"\n",
    "      f\" reconstruction loss = {recon_loss.cpu().detach().numpy():.4f}\"\n",
    "      f\" & kl-div loss = {kl_div_loss.cpu().detach().numpy():.4f}\"\n",
    "     )\n",
    "'''"
   ]
  },
  {
   "cell_type": "code",
   "execution_count": null,
   "id": "cb8451a2-c052-4420-b705-2bf3119293f5",
   "metadata": {},
   "outputs": [],
   "source": []
  },
  {
   "cell_type": "code",
   "execution_count": null,
   "id": "fdf99a9c-7a9f-4edd-b85d-01beb92747b4",
   "metadata": {},
   "outputs": [],
   "source": []
  },
  {
   "cell_type": "code",
   "execution_count": 126,
   "id": "55a47fa4-1eff-41bc-a8ac-bf6130140baa",
   "metadata": {},
   "outputs": [],
   "source": [
    "def train_one_epoch(model, dataloader, alpha):\n",
    "    \n",
    "    # Place model to device-\n",
    "    model.to(device)\n",
    "    \n",
    "    # Enable training mode-\n",
    "    model.train()\n",
    "    \n",
    "    # Initialize variables to keep track of 3 losses-\n",
    "    running_final_loss = 0.0\n",
    "    running_recon_loss = 0.0\n",
    "    running_kl_loss = 0.0\n",
    "    \n",
    "    \n",
    "    for i, data in tqdm(\n",
    "        enumerate(dataloader),\n",
    "        # total = int(len(train_dataset) / dataloader.batch_size)\n",
    "        total = int(len(train) / dataloader.batch_size)\n",
    "        ):\n",
    "      \n",
    "        # Ignore labels-\n",
    "        # data, _ = data\n",
    "\n",
    "        # Push data points to 'device'-\n",
    "        data = data.to(device)\n",
    "        \n",
    "        # Flatten input data to feed into a dense layer-\n",
    "        # data = data.view(data.size(0), -1)\n",
    "        \n",
    "        # Empty accumulated gradients-\n",
    "        optimizer.zero_grad()\n",
    "        \n",
    "        # Perform forward propagation-\n",
    "        recon_data, mu, logvar = model(data)\n",
    "        \n",
    "        final_loss, recon_loss, kl_div_loss = total_loss(\n",
    "            data = data, data_recon = recon_data,\n",
    "            mu = mu, log_var = logvar,\n",
    "            alpha = alpha\n",
    "        )\n",
    "        \n",
    "        # Update losses-\n",
    "        running_final_loss += final_loss.item()\n",
    "        running_kl_loss += kl_div_loss.cpu().detach().numpy()\n",
    "        running_recon_loss += recon_loss.cpu().detach().numpy()\n",
    "        \n",
    "        # Compute gradients wrt total loss-\n",
    "        final_loss.backward()\n",
    "        \n",
    "        # Perform gradient descent-\n",
    "        optimizer.step()\n",
    "    \n",
    "    # Compute losses as float values-\n",
    "    train_loss = running_final_loss / len(dataloader.dataset)\n",
    "    kl_loss = running_kl_loss / len(dataloader.dataset)\n",
    "    recon_loss = running_recon_loss / len(dataloader.dataset)\n",
    "    \n",
    "    return train_loss, kl_loss, recon_loss\n"
   ]
  },
  {
   "cell_type": "code",
   "execution_count": null,
   "id": "9f30417d-7cfd-43d5-a10d-8e9319ef59a1",
   "metadata": {},
   "outputs": [],
   "source": []
  },
  {
   "cell_type": "code",
   "execution_count": 127,
   "id": "df50563a-0221-4820-b5f3-15da1935b2fa",
   "metadata": {},
   "outputs": [],
   "source": [
    "def validate_one_epoch(model, dataloader, alpha):\n",
    "    \n",
    "    # Place model to device-\n",
    "    model.to(device)\n",
    "    \n",
    "    # Enable evaluation mode-\n",
    "    model.eval()\n",
    "    \n",
    "    running_final_loss = 0.0\n",
    "    running_recon_loss = 0.0\n",
    "    running_kl_loss = 0.0\n",
    "    \n",
    "    with torch.no_grad():\n",
    "        for i, data in tqdm(\n",
    "            enumerate(dataloader),\n",
    "            # total = int(len(test_dataset) / dataloader.batch_size)):\n",
    "            total = int(len(test) / test_loader.batch_size)):\n",
    "          \n",
    "            # Ignore labels-\n",
    "            # data, _ = data\n",
    "\n",
    "            # Push data points to 'device'-\n",
    "            data = data.to(device)\n",
    "            \n",
    "            # Flatten data to feed into a dense layer-\n",
    "            # data = data.view(data.size(0), -1)\n",
    "            \n",
    "            # Forward propagation-\n",
    "            recon_data, mu, logvar = model(data)\n",
    "            \n",
    "            final_loss, recon_loss, kl_div_loss = total_loss(\n",
    "                data = data, data_recon = recon_data,\n",
    "                mu = mu, log_var = logvar,\n",
    "                alpha = alpha\n",
    "            )\n",
    "        \n",
    "            # Update losses-\n",
    "            running_final_loss += final_loss.item()\n",
    "            running_kl_loss += kl_div_loss.cpu().detach().numpy()\n",
    "            running_recon_loss += recon_loss.cpu().detach().numpy()\n",
    "            \n",
    "                \n",
    "    val_loss = running_final_loss / len(dataloader.dataset)\n",
    "    val_kl_loss = running_kl_loss / len(dataloader.dataset)\n",
    "    val_recon_loss = running_recon_loss / len(dataloader.dataset)\n",
    "    \n",
    "    return val_loss, val_kl_loss, val_recon_loss\n",
    "\n",
    "    "
   ]
  },
  {
   "cell_type": "code",
   "execution_count": null,
   "id": "e1296d86-0b78-443e-b3bc-9f4277a572f2",
   "metadata": {},
   "outputs": [],
   "source": []
  },
  {
   "cell_type": "code",
   "execution_count": null,
   "id": "c9bbca5a-2858-4d7d-af58-0889a92a8942",
   "metadata": {},
   "outputs": [],
   "source": [
    "'''\n",
    "# Sanity check-\n",
    "train_loss, kl_train_loss, recon_train_loss = train_one_epoch(\n",
    "    model = model, dataloader = train_loader,\n",
    "    alpha = 1\n",
    ")\n",
    "'''"
   ]
  },
  {
   "cell_type": "code",
   "execution_count": null,
   "id": "53f5a60e-5553-4d7c-9948-e7b326f4edb6",
   "metadata": {},
   "outputs": [],
   "source": [
    "'''\n",
    "val_loss, val_kl_loss, val_recon_loss = validate_one_epoch(\n",
    "    model = model, dataloader = test_loader,\n",
    "    alpha = 1\n",
    ")\n",
    "'''"
   ]
  },
  {
   "cell_type": "code",
   "execution_count": null,
   "id": "e6fd568f-cc24-4e40-8c42-9b2841d83182",
   "metadata": {},
   "outputs": [],
   "source": [
    "'''\n",
    "print(f\"After one epoch: train loss = {train_loss:.4f}, recon loss = {recon_train_loss:.4f}\"\n",
    "      f\" & kl-div loss = {kl_train_loss:.4f}\"\n",
    "     )\n",
    "'''"
   ]
  },
  {
   "cell_type": "code",
   "execution_count": null,
   "id": "4873ff07-effb-402a-a731-0ec3af9f62cf",
   "metadata": {},
   "outputs": [],
   "source": [
    "'''\n",
    "print(f\"After one epoch: val train loss = {val_loss:.4f}, val recon loss = {val_recon_loss:.4f}\"\n",
    "      f\" & val kl-div loss = {val_kl_loss:.4f}\"\n",
    "     )\n",
    "'''"
   ]
  },
  {
   "cell_type": "code",
   "execution_count": null,
   "id": "2a21a697-feda-4eea-bd8c-875442ca5322",
   "metadata": {},
   "outputs": [],
   "source": []
  },
  {
   "cell_type": "code",
   "execution_count": null,
   "id": "54648c05-3d69-4e5e-8770-196e966574f8",
   "metadata": {},
   "outputs": [],
   "source": []
  },
  {
   "cell_type": "markdown",
   "id": "ed088246-0263-4d4b-815d-78900045110c",
   "metadata": {},
   "source": [
    "### Train VAE model "
   ]
  },
  {
   "cell_type": "code",
   "execution_count": 132,
   "id": "211f1230-dc78-4fb2-8d7d-a4638d45ac9b",
   "metadata": {},
   "outputs": [],
   "source": [
    "# Specify alpha - Hyperparameter to control the importance of reconstruction\n",
    "# loss vs KL-Divergence Loss-\n",
    "alpha = 1"
   ]
  },
  {
   "cell_type": "code",
   "execution_count": null,
   "id": "08cc7665-8649-4bdf-b960-2aff762e5440",
   "metadata": {},
   "outputs": [],
   "source": []
  },
  {
   "cell_type": "code",
   "execution_count": 133,
   "id": "7590d624-d225-41f0-bf7b-d331077ce12a",
   "metadata": {},
   "outputs": [],
   "source": [
    "# Python dict to contain training metrics-\n",
    "train_history = {}"
   ]
  },
  {
   "cell_type": "code",
   "execution_count": null,
   "id": "7209bcf3-db27-4942-a5b9-00663432a784",
   "metadata": {},
   "outputs": [],
   "source": []
  },
  {
   "cell_type": "code",
   "execution_count": 134,
   "id": "82769bb9-af9c-4c44-bb0d-74348e529f80",
   "metadata": {},
   "outputs": [
    {
     "name": "stdout",
     "output_type": "stream",
     "text": [
      "Training VAE model for 50 epochs\n"
     ]
    }
   ],
   "source": [
    "print(f\"Training VAE model for {num_epochs} epochs\")"
   ]
  },
  {
   "cell_type": "code",
   "execution_count": null,
   "id": "ba060fbd-f507-4d6c-8112-744b7e7e5f0f",
   "metadata": {},
   "outputs": [],
   "source": []
  },
  {
   "cell_type": "code",
   "execution_count": null,
   "id": "b18c02b8-638b-4378-8ee2-fae264a56056",
   "metadata": {},
   "outputs": [],
   "source": [
    "# Initialize parameters for Early Stopping manual implementation-\n",
    "# best_val_loss = 10000\n",
    "# loc_patience = 0"
   ]
  },
  {
   "cell_type": "code",
   "execution_count": null,
   "id": "e85b6c94-07ea-47f9-a44b-b44c2f1fa3af",
   "metadata": {},
   "outputs": [],
   "source": [
    "# User input parameters for Early Stopping in manual implementation-\n",
    "# minimum_delta = 0.001\n",
    "# patience = 3"
   ]
  },
  {
   "cell_type": "code",
   "execution_count": null,
   "id": "aae4639f-9c8f-43d2-a211-9a2a574800eb",
   "metadata": {},
   "outputs": [],
   "source": []
  },
  {
   "cell_type": "code",
   "execution_count": null,
   "id": "2a7dbfa1-beb2-4dd1-bc75-3011aaea6a4c",
   "metadata": {},
   "outputs": [],
   "source": []
  },
  {
   "cell_type": "code",
   "execution_count": 141,
   "id": "43d999c0-420f-419c-ab92-851ac952769c",
   "metadata": {},
   "outputs": [
    {
     "name": "stderr",
     "output_type": "stream",
     "text": [
      "100%|█████████████████████████████████████████████████████████████████████████████| 1875/1875 [00:09<00:00, 191.22it/s]\n",
      "313it [00:00, 660.19it/s]                                                                                              \n"
     ]
    },
    {
     "name": "stdout",
     "output_type": "stream",
     "text": [
      "Epoch = 1; train loss = 1.4284 , kl-loss = 0.0684, recon loss = 1.3601 , val loss = 1.4130, val kl-loss = 0.0728  & val recon loss = 1.3402\n"
     ]
    },
    {
     "name": "stderr",
     "output_type": "stream",
     "text": [
      "100%|█████████████████████████████████████████████████████████████████████████████| 1875/1875 [00:09<00:00, 192.74it/s]\n",
      "313it [00:00, 642.57it/s]                                                                                              \n"
     ]
    },
    {
     "name": "stdout",
     "output_type": "stream",
     "text": [
      "Epoch = 2; train loss = 1.3919 , kl-loss = 0.0820, recon loss = 1.3099 , val loss = 1.3554, val kl-loss = 0.0994  & val recon loss = 1.2559\n"
     ]
    },
    {
     "name": "stderr",
     "output_type": "stream",
     "text": [
      "100%|█████████████████████████████████████████████████████████████████████████████| 1875/1875 [00:09<00:00, 192.44it/s]\n",
      "313it [00:00, 667.23it/s]                                                                                              \n"
     ]
    },
    {
     "name": "stdout",
     "output_type": "stream",
     "text": [
      "Epoch = 3; train loss = 1.3339 , kl-loss = 0.1068, recon loss = 1.2271 , val loss = 1.3048, val kl-loss = 0.1146  & val recon loss = 1.1902\n"
     ]
    },
    {
     "name": "stderr",
     "output_type": "stream",
     "text": [
      "100%|█████████████████████████████████████████████████████████████████████████████| 1875/1875 [00:09<00:00, 192.30it/s]\n",
      "313it [00:00, 667.23it/s]                                                                                              \n"
     ]
    },
    {
     "name": "stdout",
     "output_type": "stream",
     "text": [
      "Epoch = 4; train loss = 1.2761 , kl-loss = 0.1229, recon loss = 1.1532 , val loss = 1.2548, val kl-loss = 0.1305  & val recon loss = 1.1242\n"
     ]
    },
    {
     "name": "stderr",
     "output_type": "stream",
     "text": [
      "100%|█████████████████████████████████████████████████████████████████████████████| 1875/1875 [00:09<00:00, 190.14it/s]\n",
      "313it [00:00, 612.39it/s]                                                                                              \n"
     ]
    },
    {
     "name": "stdout",
     "output_type": "stream",
     "text": [
      "Epoch = 5; train loss = 1.2404 , kl-loss = 0.1315, recon loss = 1.1088 , val loss = 1.2337, val kl-loss = 0.1366  & val recon loss = 1.0971\n"
     ]
    },
    {
     "name": "stderr",
     "output_type": "stream",
     "text": [
      "100%|█████████████████████████████████████████████████████████████████████████████| 1875/1875 [00:09<00:00, 190.41it/s]\n",
      "313it [00:00, 657.41it/s]                                                                                              \n"
     ]
    },
    {
     "name": "stdout",
     "output_type": "stream",
     "text": [
      "Epoch = 6; train loss = 1.2185 , kl-loss = 0.1369, recon loss = 1.0816 , val loss = 1.2032, val kl-loss = 0.1408  & val recon loss = 1.0624\n"
     ]
    },
    {
     "name": "stderr",
     "output_type": "stream",
     "text": [
      "100%|█████████████████████████████████████████████████████████████████████████████| 1875/1875 [00:09<00:00, 190.99it/s]\n",
      "313it [00:00, 653.30it/s]                                                                                              \n"
     ]
    },
    {
     "name": "stdout",
     "output_type": "stream",
     "text": [
      "Epoch = 7; train loss = 1.2061 , kl-loss = 0.1407, recon loss = 1.0654 , val loss = 1.1931, val kl-loss = 0.1412  & val recon loss = 1.0519\n"
     ]
    },
    {
     "name": "stderr",
     "output_type": "stream",
     "text": [
      "100%|█████████████████████████████████████████████████████████████████████████████| 1875/1875 [00:10<00:00, 183.67it/s]\n",
      "313it [00:00, 605.28it/s]                                                                                              \n"
     ]
    },
    {
     "name": "stdout",
     "output_type": "stream",
     "text": [
      "Epoch = 8; train loss = 1.1936 , kl-loss = 0.1447, recon loss = 1.0489 , val loss = 1.1860, val kl-loss = 0.1473  & val recon loss = 1.0387\n"
     ]
    },
    {
     "name": "stderr",
     "output_type": "stream",
     "text": [
      "100%|█████████████████████████████████████████████████████████████████████████████| 1875/1875 [00:09<00:00, 192.38it/s]\n",
      "313it [00:00, 670.08it/s]                                                                                              \n"
     ]
    },
    {
     "name": "stdout",
     "output_type": "stream",
     "text": [
      "Epoch = 9; train loss = 1.1849 , kl-loss = 0.1467, recon loss = 1.0382 , val loss = 1.1839, val kl-loss = 0.1505  & val recon loss = 1.0335\n"
     ]
    },
    {
     "name": "stderr",
     "output_type": "stream",
     "text": [
      "100%|█████████████████████████████████████████████████████████████████████████████| 1875/1875 [00:09<00:00, 192.48it/s]\n",
      "313it [00:00, 650.58it/s]                                                                                              \n"
     ]
    },
    {
     "name": "stdout",
     "output_type": "stream",
     "text": [
      "Epoch = 10; train loss = 1.1782 , kl-loss = 0.1485, recon loss = 1.0297 , val loss = 1.1769, val kl-loss = 0.1511  & val recon loss = 1.0258\n"
     ]
    },
    {
     "name": "stderr",
     "output_type": "stream",
     "text": [
      "100%|█████████████████████████████████████████████████████████████████████████████| 1875/1875 [00:09<00:00, 192.84it/s]\n",
      "313it [00:00, 653.30it/s]                                                                                              \n"
     ]
    },
    {
     "name": "stdout",
     "output_type": "stream",
     "text": [
      "Epoch = 11; train loss = 1.1734 , kl-loss = 0.1496, recon loss = 1.0238 , val loss = 1.1743, val kl-loss = 0.1483  & val recon loss = 1.0261\n"
     ]
    },
    {
     "name": "stderr",
     "output_type": "stream",
     "text": [
      "100%|█████████████████████████████████████████████████████████████████████████████| 1875/1875 [00:09<00:00, 190.20it/s]\n",
      "313it [00:00, 675.87it/s]                                                                                              \n"
     ]
    },
    {
     "name": "stdout",
     "output_type": "stream",
     "text": [
      "Epoch = 12; train loss = 1.1677 , kl-loss = 0.1509, recon loss = 1.0168 , val loss = 1.1610, val kl-loss = 0.1511  & val recon loss = 1.0099\n"
     ]
    },
    {
     "name": "stderr",
     "output_type": "stream",
     "text": [
      "100%|█████████████████████████████████████████████████████████████████████████████| 1875/1875 [00:10<00:00, 180.98it/s]\n",
      "313it [00:00, 656.04it/s]                                                                                              \n"
     ]
    },
    {
     "name": "stdout",
     "output_type": "stream",
     "text": [
      "Epoch = 13; train loss = 1.1640 , kl-loss = 0.1526, recon loss = 1.0115 , val loss = 1.1615, val kl-loss = 0.1509  & val recon loss = 1.0106\n"
     ]
    },
    {
     "name": "stderr",
     "output_type": "stream",
     "text": [
      "100%|█████████████████████████████████████████████████████████████████████████████| 1875/1875 [00:09<00:00, 191.87it/s]\n",
      "313it [00:00, 670.08it/s]                                                                                              \n"
     ]
    },
    {
     "name": "stdout",
     "output_type": "stream",
     "text": [
      "Epoch = 14; train loss = 1.1601 , kl-loss = 0.1530, recon loss = 1.0071 , val loss = 1.1528, val kl-loss = 0.1525  & val recon loss = 1.0003\n"
     ]
    },
    {
     "name": "stderr",
     "output_type": "stream",
     "text": [
      "100%|█████████████████████████████████████████████████████████████████████████████| 1875/1875 [00:09<00:00, 191.32it/s]\n",
      "313it [00:00, 667.23it/s]                                                                                              \n"
     ]
    },
    {
     "name": "stdout",
     "output_type": "stream",
     "text": [
      "Epoch = 15; train loss = 1.1562 , kl-loss = 0.1543, recon loss = 1.0019 , val loss = 1.1540, val kl-loss = 0.1534  & val recon loss = 1.0006\n"
     ]
    },
    {
     "name": "stderr",
     "output_type": "stream",
     "text": [
      "100%|█████████████████████████████████████████████████████████████████████████████| 1875/1875 [00:09<00:00, 191.46it/s]\n",
      "313it [00:00, 647.89it/s]                                                                                              \n"
     ]
    },
    {
     "name": "stdout",
     "output_type": "stream",
     "text": [
      "Epoch = 16; train loss = 1.1552 , kl-loss = 0.1549, recon loss = 1.0003 , val loss = 1.1673, val kl-loss = 0.1552  & val recon loss = 1.0121\n"
     ]
    },
    {
     "name": "stderr",
     "output_type": "stream",
     "text": [
      "100%|█████████████████████████████████████████████████████████████████████████████| 1875/1875 [00:09<00:00, 192.48it/s]\n",
      "313it [00:00, 675.87it/s]                                                                                              \n"
     ]
    },
    {
     "name": "stdout",
     "output_type": "stream",
     "text": [
      "Epoch = 17; train loss = 1.1502 , kl-loss = 0.1554, recon loss = 0.9947 , val loss = 1.1535, val kl-loss = 0.1570  & val recon loss = 0.9965\n"
     ]
    },
    {
     "name": "stderr",
     "output_type": "stream",
     "text": [
      "100%|█████████████████████████████████████████████████████████████████████████████| 1875/1875 [00:09<00:00, 192.38it/s]\n",
      "313it [00:00, 667.23it/s]                                                                                              \n"
     ]
    },
    {
     "name": "stdout",
     "output_type": "stream",
     "text": [
      "Epoch = 18; train loss = 1.1481 , kl-loss = 0.1568, recon loss = 0.9913 , val loss = 1.1497, val kl-loss = 0.1581  & val recon loss = 0.9915\n"
     ]
    },
    {
     "name": "stderr",
     "output_type": "stream",
     "text": [
      "100%|█████████████████████████████████████████████████████████████████████████████| 1875/1875 [00:09<00:00, 193.10it/s]\n",
      "313it [00:00, 658.80it/s]                                                                                              \n"
     ]
    },
    {
     "name": "stdout",
     "output_type": "stream",
     "text": [
      "Epoch = 19; train loss = 1.1464 , kl-loss = 0.1572, recon loss = 0.9892 , val loss = 1.1461, val kl-loss = 0.1571  & val recon loss = 0.9890\n"
     ]
    },
    {
     "name": "stderr",
     "output_type": "stream",
     "text": [
      "100%|█████████████████████████████████████████████████████████████████████████████| 1875/1875 [00:09<00:00, 192.98it/s]\n",
      "313it [00:00, 660.19it/s]                                                                                              \n"
     ]
    },
    {
     "name": "stdout",
     "output_type": "stream",
     "text": [
      "Epoch = 20; train loss = 1.1455 , kl-loss = 0.1571, recon loss = 0.9884 , val loss = 1.1464, val kl-loss = 0.1569  & val recon loss = 0.9894\n"
     ]
    },
    {
     "name": "stderr",
     "output_type": "stream",
     "text": [
      "100%|█████████████████████████████████████████████████████████████████████████████| 1875/1875 [00:09<00:00, 192.26it/s]\n",
      "313it [00:00, 657.42it/s]                                                                                              \n"
     ]
    },
    {
     "name": "stdout",
     "output_type": "stream",
     "text": [
      "Epoch = 21; train loss = 1.1419 , kl-loss = 0.1584, recon loss = 0.9835 , val loss = 1.1384, val kl-loss = 0.1584  & val recon loss = 0.9800\n"
     ]
    },
    {
     "name": "stderr",
     "output_type": "stream",
     "text": [
      "100%|█████████████████████████████████████████████████████████████████████████████| 1875/1875 [00:09<00:00, 192.78it/s]\n",
      "313it [00:00, 681.76it/s]                                                                                              \n"
     ]
    },
    {
     "name": "stdout",
     "output_type": "stream",
     "text": [
      "Epoch = 22; train loss = 1.1390 , kl-loss = 0.1582, recon loss = 0.9808 , val loss = 1.1548, val kl-loss = 0.1591  & val recon loss = 0.9956\n"
     ]
    },
    {
     "name": "stderr",
     "output_type": "stream",
     "text": [
      "100%|█████████████████████████████████████████████████████████████████████████████| 1875/1875 [00:09<00:00, 193.04it/s]\n",
      "313it [00:00, 670.09it/s]                                                                                              \n"
     ]
    },
    {
     "name": "stdout",
     "output_type": "stream",
     "text": [
      "Epoch = 23; train loss = 1.1392 , kl-loss = 0.1595, recon loss = 0.9797 , val loss = 1.1337, val kl-loss = 0.1613  & val recon loss = 0.9725\n"
     ]
    },
    {
     "name": "stderr",
     "output_type": "stream",
     "text": [
      "100%|█████████████████████████████████████████████████████████████████████████████| 1875/1875 [00:09<00:00, 193.16it/s]\n",
      "313it [00:00, 661.58it/s]                                                                                              \n"
     ]
    },
    {
     "name": "stdout",
     "output_type": "stream",
     "text": [
      "Epoch = 24; train loss = 1.1364 , kl-loss = 0.1589, recon loss = 0.9775 , val loss = 1.1352, val kl-loss = 0.1597  & val recon loss = 0.9755\n"
     ]
    },
    {
     "name": "stderr",
     "output_type": "stream",
     "text": [
      "100%|█████████████████████████████████████████████████████████████████████████████| 1875/1875 [00:09<00:00, 193.02it/s]\n",
      "313it [00:00, 650.58it/s]                                                                                              \n"
     ]
    },
    {
     "name": "stdout",
     "output_type": "stream",
     "text": [
      "Epoch = 25; train loss = 1.1345 , kl-loss = 0.1601, recon loss = 0.9745 , val loss = 1.1525, val kl-loss = 0.1584  & val recon loss = 0.9942\n"
     ]
    },
    {
     "name": "stderr",
     "output_type": "stream",
     "text": [
      "100%|█████████████████████████████████████████████████████████████████████████████| 1875/1875 [00:09<00:00, 194.64it/s]\n",
      "313it [00:00, 677.33it/s]                                                                                              \n"
     ]
    },
    {
     "name": "stdout",
     "output_type": "stream",
     "text": [
      "Epoch = 26; train loss = 1.1348 , kl-loss = 0.1603, recon loss = 0.9744 , val loss = 1.1420, val kl-loss = 0.1589  & val recon loss = 0.9831\n"
     ]
    },
    {
     "name": "stderr",
     "output_type": "stream",
     "text": [
      "100%|█████████████████████████████████████████████████████████████████████████████| 1875/1875 [00:09<00:00, 195.09it/s]\n",
      "313it [00:00, 672.96it/s]                                                                                              \n"
     ]
    },
    {
     "name": "stdout",
     "output_type": "stream",
     "text": [
      "Epoch = 27; train loss = 1.1348 , kl-loss = 0.1603, recon loss = 0.9745 , val loss = 1.1399, val kl-loss = 0.1609  & val recon loss = 0.9790\n"
     ]
    },
    {
     "name": "stderr",
     "output_type": "stream",
     "text": [
      "100%|█████████████████████████████████████████████████████████████████████████████| 1875/1875 [00:09<00:00, 194.72it/s]\n",
      "313it [00:00, 667.23it/s]                                                                                              \n"
     ]
    },
    {
     "name": "stdout",
     "output_type": "stream",
     "text": [
      "Epoch = 28; train loss = 1.1314 , kl-loss = 0.1606, recon loss = 0.9708 , val loss = 1.1351, val kl-loss = 0.1602  & val recon loss = 0.9750\n"
     ]
    },
    {
     "name": "stderr",
     "output_type": "stream",
     "text": [
      "100%|█████████████████████████████████████████████████████████████████████████████| 1875/1875 [00:09<00:00, 195.31it/s]\n",
      "313it [00:00, 681.76it/s]                                                                                              \n"
     ]
    },
    {
     "name": "stdout",
     "output_type": "stream",
     "text": [
      "Epoch = 29; train loss = 1.1304 , kl-loss = 0.1610, recon loss = 0.9694 , val loss = 1.1327, val kl-loss = 0.1603  & val recon loss = 0.9724\n"
     ]
    },
    {
     "name": "stderr",
     "output_type": "stream",
     "text": [
      "100%|█████████████████████████████████████████████████████████████████████████████| 1875/1875 [00:09<00:00, 195.29it/s]\n",
      "313it [00:00, 658.80it/s]                                                                                              \n"
     ]
    },
    {
     "name": "stdout",
     "output_type": "stream",
     "text": [
      "Epoch = 30; train loss = 1.1299 , kl-loss = 0.1612, recon loss = 0.9687 , val loss = 1.1389, val kl-loss = 0.1610  & val recon loss = 0.9779\n"
     ]
    },
    {
     "name": "stderr",
     "output_type": "stream",
     "text": [
      "100%|█████████████████████████████████████████████████████████████████████████████| 1875/1875 [00:09<00:00, 195.00it/s]\n",
      "313it [00:00, 660.19it/s]                                                                                              \n"
     ]
    },
    {
     "name": "stdout",
     "output_type": "stream",
     "text": [
      "Epoch = 31; train loss = 1.1280 , kl-loss = 0.1618, recon loss = 0.9662 , val loss = 1.1258, val kl-loss = 0.1609  & val recon loss = 0.9650\n"
     ]
    },
    {
     "name": "stderr",
     "output_type": "stream",
     "text": [
      "100%|█████████████████████████████████████████████████████████████████████████████| 1875/1875 [00:09<00:00, 195.13it/s]\n",
      "313it [00:00, 662.98it/s]                                                                                              \n"
     ]
    },
    {
     "name": "stdout",
     "output_type": "stream",
     "text": [
      "Epoch = 32; train loss = 1.1248 , kl-loss = 0.1619, recon loss = 0.9629 , val loss = 1.1316, val kl-loss = 0.1611  & val recon loss = 0.9705\n"
     ]
    },
    {
     "name": "stderr",
     "output_type": "stream",
     "text": [
      "100%|█████████████████████████████████████████████████████████████████████████████| 1875/1875 [00:09<00:00, 195.59it/s]\n",
      "313it [00:00, 675.87it/s]                                                                                              \n"
     ]
    },
    {
     "name": "stdout",
     "output_type": "stream",
     "text": [
      "Epoch = 33; train loss = 1.1241 , kl-loss = 0.1624, recon loss = 0.9617 , val loss = 1.1318, val kl-loss = 0.1655  & val recon loss = 0.9663\n"
     ]
    },
    {
     "name": "stderr",
     "output_type": "stream",
     "text": [
      "100%|█████████████████████████████████████████████████████████████████████████████| 1875/1875 [00:09<00:00, 194.24it/s]\n",
      "313it [00:00, 668.65it/s]                                                                                              \n"
     ]
    },
    {
     "name": "stdout",
     "output_type": "stream",
     "text": [
      "Epoch = 34; train loss = 1.1228 , kl-loss = 0.1627, recon loss = 0.9601 , val loss = 1.1292, val kl-loss = 0.1636  & val recon loss = 0.9656\n"
     ]
    },
    {
     "name": "stderr",
     "output_type": "stream",
     "text": [
      "100%|█████████████████████████████████████████████████████████████████████████████| 1875/1875 [00:09<00:00, 195.00it/s]\n",
      "313it [00:00, 665.81it/s]                                                                                              \n"
     ]
    },
    {
     "name": "stdout",
     "output_type": "stream",
     "text": [
      "Epoch = 35; train loss = 1.1236 , kl-loss = 0.1626, recon loss = 0.9610 , val loss = 1.1296, val kl-loss = 0.1619  & val recon loss = 0.9676\n"
     ]
    },
    {
     "name": "stderr",
     "output_type": "stream",
     "text": [
      "100%|█████████████████████████████████████████████████████████████████████████████| 1875/1875 [00:09<00:00, 195.11it/s]\n",
      "313it [00:00, 672.97it/s]                                                                                              \n"
     ]
    },
    {
     "name": "stdout",
     "output_type": "stream",
     "text": [
      "Epoch = 36; train loss = 1.1222 , kl-loss = 0.1638, recon loss = 0.9584 , val loss = 1.1277, val kl-loss = 0.1639  & val recon loss = 0.9638\n"
     ]
    },
    {
     "name": "stderr",
     "output_type": "stream",
     "text": [
      "100%|█████████████████████████████████████████████████████████████████████████████| 1875/1875 [00:09<00:00, 195.21it/s]\n",
      "313it [00:00, 662.99it/s]                                                                                              \n"
     ]
    },
    {
     "name": "stdout",
     "output_type": "stream",
     "text": [
      "Epoch = 37; train loss = 1.1221 , kl-loss = 0.1626, recon loss = 0.9595 , val loss = 1.1311, val kl-loss = 0.1656  & val recon loss = 0.9655\n"
     ]
    },
    {
     "name": "stderr",
     "output_type": "stream",
     "text": [
      "100%|█████████████████████████████████████████████████████████████████████████████| 1875/1875 [00:09<00:00, 192.24it/s]\n",
      "313it [00:00, 665.80it/s]                                                                                              \n"
     ]
    },
    {
     "name": "stdout",
     "output_type": "stream",
     "text": [
      "Epoch = 38; train loss = 1.1204 , kl-loss = 0.1633, recon loss = 0.9571 , val loss = 1.1207, val kl-loss = 0.1621  & val recon loss = 0.9586\n"
     ]
    },
    {
     "name": "stderr",
     "output_type": "stream",
     "text": [
      "100%|█████████████████████████████████████████████████████████████████████████████| 1875/1875 [00:09<00:00, 194.34it/s]\n",
      "313it [00:00, 671.52it/s]                                                                                              \n"
     ]
    },
    {
     "name": "stdout",
     "output_type": "stream",
     "text": [
      "Epoch = 39; train loss = 1.1199 , kl-loss = 0.1632, recon loss = 0.9567 , val loss = 1.1194, val kl-loss = 0.1615  & val recon loss = 0.9579\n"
     ]
    },
    {
     "name": "stderr",
     "output_type": "stream",
     "text": [
      "100%|█████████████████████████████████████████████████████████████████████████████| 1875/1875 [00:09<00:00, 194.46it/s]\n",
      "313it [00:00, 681.76it/s]                                                                                              \n"
     ]
    },
    {
     "name": "stdout",
     "output_type": "stream",
     "text": [
      "Epoch = 40; train loss = 1.1193 , kl-loss = 0.1632, recon loss = 0.9561 , val loss = 1.1235, val kl-loss = 0.1625  & val recon loss = 0.9610\n"
     ]
    },
    {
     "name": "stderr",
     "output_type": "stream",
     "text": [
      "100%|█████████████████████████████████████████████████████████████████████████████| 1875/1875 [00:09<00:00, 195.25it/s]\n",
      "313it [00:00, 665.81it/s]                                                                                              \n"
     ]
    },
    {
     "name": "stdout",
     "output_type": "stream",
     "text": [
      "Epoch = 41; train loss = 1.1185 , kl-loss = 0.1639, recon loss = 0.9546 , val loss = 1.1229, val kl-loss = 0.1615  & val recon loss = 0.9614\n"
     ]
    },
    {
     "name": "stderr",
     "output_type": "stream",
     "text": [
      "100%|█████████████████████████████████████████████████████████████████████████████| 1875/1875 [00:09<00:00, 195.00it/s]\n",
      "313it [00:00, 668.65it/s]                                                                                              \n"
     ]
    },
    {
     "name": "stdout",
     "output_type": "stream",
     "text": [
      "Epoch = 42; train loss = 1.1160 , kl-loss = 0.1638, recon loss = 0.9522 , val loss = 1.1181, val kl-loss = 0.1637  & val recon loss = 0.9544\n"
     ]
    },
    {
     "name": "stderr",
     "output_type": "stream",
     "text": [
      "100%|█████████████████████████████████████████████████████████████████████████████| 1875/1875 [00:09<00:00, 195.09it/s]\n",
      "313it [00:00, 668.65it/s]                                                                                              \n"
     ]
    },
    {
     "name": "stdout",
     "output_type": "stream",
     "text": [
      "Epoch = 43; train loss = 1.1166 , kl-loss = 0.1639, recon loss = 0.9527 , val loss = 1.1150, val kl-loss = 0.1662  & val recon loss = 0.9488\n"
     ]
    },
    {
     "name": "stderr",
     "output_type": "stream",
     "text": [
      "100%|█████████████████████████████████████████████████████████████████████████████| 1875/1875 [00:09<00:00, 195.21it/s]\n",
      "313it [00:00, 675.87it/s]                                                                                              \n"
     ]
    },
    {
     "name": "stdout",
     "output_type": "stream",
     "text": [
      "Epoch = 44; train loss = 1.1158 , kl-loss = 0.1641, recon loss = 0.9518 , val loss = 1.1183, val kl-loss = 0.1632  & val recon loss = 0.9550\n"
     ]
    },
    {
     "name": "stderr",
     "output_type": "stream",
     "text": [
      "100%|█████████████████████████████████████████████████████████████████████████████| 1875/1875 [00:09<00:00, 195.02it/s]\n",
      "313it [00:00, 670.08it/s]                                                                                              \n"
     ]
    },
    {
     "name": "stdout",
     "output_type": "stream",
     "text": [
      "Epoch = 45; train loss = 1.1163 , kl-loss = 0.1641, recon loss = 0.9522 , val loss = 1.1276, val kl-loss = 0.1638  & val recon loss = 0.9638\n"
     ]
    },
    {
     "name": "stderr",
     "output_type": "stream",
     "text": [
      "100%|█████████████████████████████████████████████████████████████████████████████| 1875/1875 [00:09<00:00, 194.90it/s]\n",
      "313it [00:00, 657.41it/s]                                                                                              \n"
     ]
    },
    {
     "name": "stdout",
     "output_type": "stream",
     "text": [
      "Epoch = 46; train loss = 1.1136 , kl-loss = 0.1643, recon loss = 0.9493 , val loss = 1.1156, val kl-loss = 0.1634  & val recon loss = 0.9523\n"
     ]
    },
    {
     "name": "stderr",
     "output_type": "stream",
     "text": [
      "100%|█████████████████████████████████████████████████████████████████████████████| 1875/1875 [00:09<00:00, 195.07it/s]\n",
      "313it [00:00, 662.98it/s]                                                                                              \n"
     ]
    },
    {
     "name": "stdout",
     "output_type": "stream",
     "text": [
      "Epoch = 47; train loss = 1.1123 , kl-loss = 0.1645, recon loss = 0.9478 , val loss = 1.1127, val kl-loss = 0.1649  & val recon loss = 0.9477\n"
     ]
    },
    {
     "name": "stderr",
     "output_type": "stream",
     "text": [
      "100%|█████████████████████████████████████████████████████████████████████████████| 1875/1875 [00:09<00:00, 194.28it/s]\n",
      "313it [00:00, 672.96it/s]                                                                                              \n"
     ]
    },
    {
     "name": "stdout",
     "output_type": "stream",
     "text": [
      "Epoch = 48; train loss = 1.1121 , kl-loss = 0.1648, recon loss = 0.9473 , val loss = 1.1179, val kl-loss = 0.1651  & val recon loss = 0.9529\n"
     ]
    },
    {
     "name": "stderr",
     "output_type": "stream",
     "text": [
      "100%|█████████████████████████████████████████████████████████████████████████████| 1875/1875 [00:09<00:00, 195.17it/s]\n",
      "313it [00:00, 670.08it/s]                                                                                              \n"
     ]
    },
    {
     "name": "stdout",
     "output_type": "stream",
     "text": [
      "Epoch = 49; train loss = 1.1127 , kl-loss = 0.1648, recon loss = 0.9478 , val loss = 1.1099, val kl-loss = 0.1634  & val recon loss = 0.9465\n"
     ]
    },
    {
     "name": "stderr",
     "output_type": "stream",
     "text": [
      "100%|█████████████████████████████████████████████████████████████████████████████| 1875/1875 [00:09<00:00, 195.11it/s]\n",
      "313it [00:00, 653.29it/s]                                                                                              "
     ]
    },
    {
     "name": "stdout",
     "output_type": "stream",
     "text": [
      "Epoch = 50; train loss = 1.1095 , kl-loss = 0.1650, recon loss = 0.9445 , val loss = 1.1121, val kl-loss = 0.1661  & val recon loss = 0.9459\n"
     ]
    },
    {
     "name": "stderr",
     "output_type": "stream",
     "text": [
      "\n"
     ]
    }
   ],
   "source": [
    "for epoch in range(1, num_epochs + 1):\n",
    "    '''\n",
    "    # Manual early stopping implementation-\n",
    "    if loc_patience >= patience:\n",
    "        print(\"\\n'EarlyStopping' called!\\n\")\n",
    "        break\n",
    "    '''\n",
    "    \n",
    "    # Train model for 1 epoch-\n",
    "    train_loss, kl_train_loss, recon_train_loss = train_one_epoch(\n",
    "        model = model, dataloader = train_loader,\n",
    "        alpha = alpha\n",
    "    )\n",
    "    \n",
    "    # Get validation after 1 epoch-\n",
    "    val_loss, val_kl_loss, val_recon_loss = validate_one_epoch(\n",
    "        model = model, dataloader = test_loader,\n",
    "        alpha = alpha\n",
    "    )\n",
    "    \n",
    "    # Store model performance metrics in Python3 dict-\n",
    "    train_history[epoch] = {\n",
    "        'train_loss': train_loss,\n",
    "        'train_recon_loss': kl_train_loss,\n",
    "        'train_kl_loss': kl_train_loss,\n",
    "        'val_loss': val_loss,\n",
    "        'val_recon_loss': val_recon_loss,\n",
    "        'val_kl_loss': val_kl_loss\n",
    "    }\n",
    "    \n",
    "    print(f\"Epoch = {epoch}; train loss = {train_loss:.4f}\",\n",
    "          f\", kl-loss = {kl_train_loss:.4f}, recon loss = {recon_train_loss:.4f}\",\n",
    "          f\", val loss = {val_loss:.4f}, val kl-loss = {val_kl_loss:.4f}\",\n",
    "          f\" & val recon loss = {val_recon_loss:.4f}\"\n",
    "         )\n",
    "    \n",
    "    '''\n",
    "    # Code for manual Early Stopping:\n",
    "    if (val_epoch_loss < best_val_loss) and \\\n",
    "    (np.abs(val_epoch_loss - best_val_loss) >= minimum_delta):\n",
    "\n",
    "        # update 'best_val_loss' variable to lowest loss encountered so far-\n",
    "        best_val_loss = val_loss\n",
    "        \n",
    "        # reset 'loc_patience' variable-\n",
    "        loc_patience = 0\n",
    "\n",
    "        print(f\"Saving model with lowest val_loss = {val_loss:.4f}\\n\")\n",
    "        \n",
    "        # Save trained model with 'best' validation accuracy-\n",
    "        torch.save(model.state_dict(), \"VAE_LeNet5_MNIST_best_model.pth\")\n",
    "        \n",
    "    else:  # there is no improvement in monitored metric 'val_loss'\n",
    "        loc_patience += 1  # number of epochs without any improvement\n",
    "    '''\n",
    "    \n",
    "    "
   ]
  },
  {
   "cell_type": "code",
   "execution_count": null,
   "id": "b302b205-eb78-4cbe-8c2e-1fe22a029466",
   "metadata": {},
   "outputs": [],
   "source": []
  },
  {
   "cell_type": "code",
   "execution_count": 142,
   "id": "5d3a940f-a1d0-46e8-bd4a-6d43a7abe379",
   "metadata": {},
   "outputs": [
    {
     "data": {
      "text/plain": [
       "dict_keys([1, 2, 3, 4, 5, 6, 7, 8, 9, 10, 11, 12, 13, 14, 15, 16, 17, 18, 19, 20, 21, 22, 23, 24, 25, 26, 27, 28, 29, 30, 31, 32, 33, 34, 35, 36, 37, 38, 39, 40, 41, 42, 43, 44, 45, 46, 47, 48, 49, 50])"
      ]
     },
     "execution_count": 142,
     "metadata": {},
     "output_type": "execute_result"
    }
   ],
   "source": [
    "train_history.keys()"
   ]
  },
  {
   "cell_type": "code",
   "execution_count": 143,
   "id": "6a81f1f1-ea66-4471-aa07-3a3d33482e23",
   "metadata": {},
   "outputs": [
    {
     "data": {
      "text/plain": [
       "dict_keys(['train_loss', 'train_recon_loss', 'train_kl_loss', 'val_loss', 'val_recon_loss', 'val_kl_loss'])"
      ]
     },
     "execution_count": 143,
     "metadata": {},
     "output_type": "execute_result"
    }
   ],
   "source": [
    "train_history[2].keys()"
   ]
  },
  {
   "cell_type": "code",
   "execution_count": null,
   "id": "aa16d6b9-b60c-49b3-ad26-72430e25214d",
   "metadata": {},
   "outputs": [],
   "source": []
  },
  {
   "cell_type": "code",
   "execution_count": 146,
   "id": "b0c18cb1-28b4-4da6-8e93-296064f59691",
   "metadata": {},
   "outputs": [
    {
     "data": {
      "image/png": "[encoded data removed]",
      "text/plain": [
       "<Figure size 648x576 with 1 Axes>"
      ]
     },
     "metadata": {
      "needs_background": "light"
     },
     "output_type": "display_data"
    }
   ],
   "source": [
    "plt.figure(figsize = (9, 8))\n",
    "plt.plot([train_history[e]['train_loss'] for e in train_history.keys()], label = 'train_loss')\n",
    "plt.plot([train_history[e]['val_loss'] for e in train_history.keys()], label = 'val_loss')\n",
    "plt.xlabel(\"epochs\")\n",
    "plt.ylabel(\"loss\")\n",
    "plt.legend(loc = 'best')\n",
    "plt.title(\"VAE Training: Total Loss\")\n",
    "plt.show()"
   ]
  },
  {
   "cell_type": "code",
   "execution_count": 148,
   "id": "fdba47be-7cd2-490f-8938-d4caaaf12160",
   "metadata": {},
   "outputs": [
    {
     "data": {
      "image/png": "[encoded data removed]",
      "text/plain": [
       "<Figure size 648x576 with 1 Axes>"
      ]
     },
     "metadata": {
      "needs_background": "light"
     },
     "output_type": "display_data"
    }
   ],
   "source": [
    "plt.figure(figsize = (9, 8))\n",
    "plt.plot([train_history[e]['train_recon_loss'] for e in train_history.keys()], label = 'train_recon_loss')\n",
    "plt.xlabel(\"epochs\")\n",
    "plt.ylabel(\"loss\")\n",
    "plt.legend(loc = 'best')\n",
    "plt.title(\"VAE Training: Reconstruction Loss\")\n",
    "plt.show()"
   ]
  },
  {
   "cell_type": "code",
   "execution_count": 149,
   "id": "1e89ef5e-0a90-4059-b9c3-b09f19ef5e88",
   "metadata": {},
   "outputs": [
    {
     "data": {
      "image/png": "[encoded data removed]",
      "text/plain": [
       "<Figure size 648x576 with 1 Axes>"
      ]
     },
     "metadata": {
      "needs_background": "light"
     },
     "output_type": "display_data"
    }
   ],
   "source": [
    "plt.figure(figsize = (9, 8))\n",
    "plt.plot([train_history[e]['val_recon_loss'] for e in train_history.keys()], label = 'val_recon_loss')\n",
    "plt.xlabel(\"epochs\")\n",
    "plt.ylabel(\"loss\")\n",
    "plt.legend(loc = 'best')\n",
    "plt.title(\"VAE Training: Reconstruction Loss\")\n",
    "plt.show()"
   ]
  },
  {
   "cell_type": "markdown",
   "id": "284beda7-4da1-444f-a189-760911758ca3",
   "metadata": {},
   "source": [
    "_Reconstruction loss_ has 2 plots since training and validation losses are on different scales."
   ]
  },
  {
   "cell_type": "code",
   "execution_count": null,
   "id": "ab330dd5-fe53-4fab-8921-e2682f7c6689",
   "metadata": {},
   "outputs": [],
   "source": []
  },
  {
   "cell_type": "code",
   "execution_count": 150,
   "id": "c1bc26cf-3950-4e50-8447-8d5980dfa7ba",
   "metadata": {},
   "outputs": [
    {
     "data": {
      "image/png": "[encoded data removed]",
      "text/plain": [
       "<Figure size 648x576 with 1 Axes>"
      ]
     },
     "metadata": {
      "needs_background": "light"
     },
     "output_type": "display_data"
    }
   ],
   "source": [
    "plt.figure(figsize = (9, 8))\n",
    "plt.plot([train_history[e]['train_kl_loss'] for e in train_history.keys()], label = 'train_kl_loss')\n",
    "plt.plot([train_history[e]['val_kl_loss'] for e in train_history.keys()], label = 'val_kl_loss')\n",
    "plt.xlabel(\"epochs\")\n",
    "plt.ylabel(\"loss\")\n",
    "plt.legend(loc = 'best')\n",
    "plt.title(\"VAE Training: KL-Divergence Loss\")\n",
    "plt.show()"
   ]
  },
  {
   "cell_type": "code",
   "execution_count": null,
   "id": "8554f789-f6fd-4f9c-af97-5c986a584cba",
   "metadata": {},
   "outputs": [],
   "source": []
  },
  {
   "cell_type": "code",
   "execution_count": null,
   "id": "30caef6a-81e4-4e16-9de1-1d4a13151207",
   "metadata": {},
   "outputs": [],
   "source": []
  },
  {
   "cell_type": "code",
   "execution_count": 151,
   "id": "75764321-d3dc-4690-ad80-43d8c147aa8c",
   "metadata": {},
   "outputs": [],
   "source": [
    "# Save trained VAE model's weights-\n",
    "torch.save(model.state_dict(), 'VAE_LeNet5_MNIST_Trained_Weights.pth')"
   ]
  },
  {
   "cell_type": "code",
   "execution_count": null,
   "id": "1b9d5e9d-523d-4187-9eb7-8689d0ca95a1",
   "metadata": {},
   "outputs": [],
   "source": [
    "# Load trained weights from before-\n",
    "# loaded_model = VAE_Dense(latent_space = 3).to(device)\n",
    "# loaded_model.load_state_dict(torch.load('VAE_LeNet5_MNIST_Trained_Weights.pth', map_location = torch.device('cpu')))"
   ]
  },
  {
   "cell_type": "code",
   "execution_count": null,
   "id": "a6135d86-7021-41bb-b3f3-11ceb52723f2",
   "metadata": {},
   "outputs": [],
   "source": [
    "# Define gradient descent optimizer-\n",
    "# optimizer = torch.optim.Adam(loaded_model.parameters(), lr = learning_rate)"
   ]
  },
  {
   "cell_type": "code",
   "execution_count": null,
   "id": "be206cd0-8d1a-445c-b51e-77f6c5ffe3e6",
   "metadata": {},
   "outputs": [],
   "source": []
  },
  {
   "cell_type": "code",
   "execution_count": 152,
   "id": "e71d59cf-6ed5-4385-8bec-da4a0a52d675",
   "metadata": {},
   "outputs": [],
   "source": [
    "import pickle\n",
    "\n",
    "# Save training history as pickle file-\n",
    "with open(\"VAE_LeNet5_MNIST_training_history.pkl\", \"wb\") as file:\n",
    "    pickle.dump(train_history, file)"
   ]
  },
  {
   "cell_type": "code",
   "execution_count": null,
   "id": "f32414c6-f56a-41a6-be95-6116b16152c2",
   "metadata": {},
   "outputs": [],
   "source": [
    "'''\n",
    "# Load training history from pickle file-\n",
    "with open(\"VAE_LeNet5_MNIST_training_history.pkl\", \"rb\") as file:\n",
    "    training_history_lr_scheduler = pickle.load(file)\n",
    "'''"
   ]
  },
  {
   "cell_type": "code",
   "execution_count": null,
   "id": "31810f61-6280-4b90-99c6-091b7b733bb6",
   "metadata": {},
   "outputs": [],
   "source": []
  },
  {
   "cell_type": "code",
   "execution_count": null,
   "id": "e200650d-1544-416c-95b3-b8f33bb4485d",
   "metadata": {},
   "outputs": [],
   "source": []
  },
  {
   "cell_type": "markdown",
   "id": "6b0eeef1-2a2d-457b-ae60-695ef7474263",
   "metadata": {},
   "source": [
    "### Reconstruct/Generate images using _trained_ VAE model"
   ]
  },
  {
   "cell_type": "code",
   "execution_count": 155,
   "id": "a84949bc-b2d1-49d8-9376-660f47c1d6df",
   "metadata": {},
   "outputs": [],
   "source": [
    "images = next(iter(train_loader))"
   ]
  },
  {
   "cell_type": "code",
   "execution_count": 156,
   "id": "d1e8543c-6a66-448d-bef9-db16d6e005f0",
   "metadata": {},
   "outputs": [],
   "source": [
    "images = images.to(device)"
   ]
  },
  {
   "cell_type": "code",
   "execution_count": 157,
   "id": "07876508-8b3b-484d-ba34-e6604342320b",
   "metadata": {},
   "outputs": [],
   "source": [
    "images_recon, mu, log_var = model(images)"
   ]
  },
  {
   "cell_type": "code",
   "execution_count": 158,
   "id": "9bdd0e8f-aef5-471b-8e1d-0e81b7941bc4",
   "metadata": {},
   "outputs": [
    {
     "data": {
      "text/plain": [
       "(torch.Size([32, 1, 28, 28]), torch.Size([32, 1, 28, 28]))"
      ]
     },
     "execution_count": 158,
     "metadata": {},
     "output_type": "execute_result"
    }
   ],
   "source": [
    "images.shape, images_recon.shape"
   ]
  },
  {
   "cell_type": "code",
   "execution_count": 159,
   "id": "4d1a8e30-a1ae-44a5-ab15-8724ca1c3bc6",
   "metadata": {},
   "outputs": [
    {
     "data": {
      "text/plain": [
       "(torch.Size([32, 3]), torch.Size([32, 3]))"
      ]
     },
     "execution_count": 159,
     "metadata": {},
     "output_type": "execute_result"
    }
   ],
   "source": [
    "mu.shape, log_var.shape"
   ]
  },
  {
   "cell_type": "code",
   "execution_count": 160,
   "id": "c2e56eb7-17c9-4dd2-ad84-2e78044d7954",
   "metadata": {},
   "outputs": [],
   "source": [
    "images_recon = images_recon.cpu().detach().numpy()\n",
    "mu = mu.cpu().detach().numpy()\n",
    "log_var = log_var.cpu().detach().numpy()"
   ]
  },
  {
   "cell_type": "code",
   "execution_count": null,
   "id": "ee52a492-b7a3-4591-92bb-79a477d2d07e",
   "metadata": {},
   "outputs": [],
   "source": []
  },
  {
   "cell_type": "code",
   "execution_count": 162,
   "id": "907a6ded-5a69-4ee9-a94e-e6a4a022e19c",
   "metadata": {},
   "outputs": [],
   "source": [
    "images = images.cpu().detach().numpy()"
   ]
  },
  {
   "cell_type": "code",
   "execution_count": 167,
   "id": "00b47f76-6b13-45d1-9e81-527f3a0ee44a",
   "metadata": {},
   "outputs": [
    {
     "data": {
      "text/plain": [
       "((32, 1, 28, 28), (32, 1, 28, 28))"
      ]
     },
     "execution_count": 167,
     "metadata": {},
     "output_type": "execute_result"
    }
   ],
   "source": [
    "images.shape, images_recon.shape"
   ]
  },
  {
   "cell_type": "code",
   "execution_count": 171,
   "id": "4ad31f68-f814-43da-bf3b-39a37d90d05f",
   "metadata": {},
   "outputs": [
    {
     "data": {
      "text/plain": [
       "(32, 28, 28, 1)"
      ]
     },
     "execution_count": 171,
     "metadata": {},
     "output_type": "execute_result"
    }
   ],
   "source": [
    "np.transpose(images, (0, 2, 3, 1)).shape"
   ]
  },
  {
   "cell_type": "code",
   "execution_count": 172,
   "id": "9b52b348-1195-4ce1-aa07-3eb567c179b4",
   "metadata": {},
   "outputs": [
    {
     "data": {
      "text/plain": [
       "(32, 28, 28, 1)"
      ]
     },
     "execution_count": 172,
     "metadata": {},
     "output_type": "execute_result"
    }
   ],
   "source": [
    "np.transpose(images_recon, (0, 2, 3, 1)).shape"
   ]
  },
  {
   "cell_type": "code",
   "execution_count": 179,
   "id": "0b8294ea-29b3-420e-ba8e-c9e2375d95ea",
   "metadata": {},
   "outputs": [],
   "source": [
    "images = np.transpose(images, (0, 2, 3, 1))"
   ]
  },
  {
   "cell_type": "code",
   "execution_count": 180,
   "id": "e92e67df-5324-4ec6-a0ae-df6eef2e7c6c",
   "metadata": {},
   "outputs": [],
   "source": [
    "images_recon = np.transpose(images_recon, (0, 2, 3, 1))"
   ]
  },
  {
   "cell_type": "code",
   "execution_count": 181,
   "id": "24be758a-5865-4b62-ba31-9705bd992fce",
   "metadata": {},
   "outputs": [
    {
     "data": {
      "text/plain": [
       "((32, 28, 28, 1), (32, 28, 28, 1))"
      ]
     },
     "execution_count": 181,
     "metadata": {},
     "output_type": "execute_result"
    }
   ],
   "source": [
    "images.shape, images_recon.shape"
   ]
  },
  {
   "cell_type": "code",
   "execution_count": null,
   "id": "cdf0b460-72ee-4b87-a5ca-5aeabf358ba8",
   "metadata": {},
   "outputs": [],
   "source": []
  },
  {
   "cell_type": "code",
   "execution_count": 186,
   "id": "e7f0c4b0-72cf-4db6-aa09-b7729ce26a63",
   "metadata": {},
   "outputs": [
    {
     "data": {
      "image/png": "[encoded data removed]",
      "text/plain": [
       "<Figure size 576x504 with 20 Axes>"
      ]
     },
     "metadata": {
      "needs_background": "light"
     },
     "output_type": "display_data"
    }
   ],
   "source": [
    "# Visualize 32 images from training set-\n",
    "plt.figure(figsize = (8, 7))\n",
    "for i in range(20):\n",
    "    # 4 rows and 8 columns-\n",
    "    plt.subplot(4, 8, i + 1)\n",
    "    plt.imshow(images[i], cmap = 'gray')\n",
    "\n",
    "plt.suptitle(\"MNIST Images\")\n",
    "plt.show()"
   ]
  },
  {
   "cell_type": "code",
   "execution_count": 187,
   "id": "679bb8f3-881b-43ea-96ae-d451bde39347",
   "metadata": {},
   "outputs": [
    {
     "data": {
      "image/png": "[encoded data removed]",
      "text/plain": [
       "<Figure size 576x504 with 20 Axes>"
      ]
     },
     "metadata": {
      "needs_background": "light"
     },
     "output_type": "display_data"
    }
   ],
   "source": [
    "# Visualize 32 reconstructed images-\n",
    "plt.figure(figsize = (8, 7))\n",
    "for i in range(20):\n",
    "    # 4 rows and 8 columns-\n",
    "    plt.subplot(4, 8, i + 1)\n",
    "    plt.imshow(images_recon[i], cmap = 'gray')\n",
    "\n",
    "plt.suptitle(\"MNIST Reconstructed Images\")\n",
    "plt.show()"
   ]
  },
  {
   "cell_type": "code",
   "execution_count": null,
   "id": "4af5cc74-0c15-4eb7-aba0-299a0ab507d5",
   "metadata": {},
   "outputs": [],
   "source": []
  },
  {
   "cell_type": "code",
   "execution_count": null,
   "id": "ecc2587c-130b-4f0b-af89-5d45dcd548e6",
   "metadata": {},
   "outputs": [],
   "source": []
  },
  {
   "cell_type": "code",
   "execution_count": 192,
   "id": "48418c51-ac0e-42ee-bfd3-7684b1e3fabf",
   "metadata": {},
   "outputs": [
    {
     "data": {
      "text/plain": [
       "torch.Size([60000, 1, 28, 28])"
      ]
     },
     "execution_count": 192,
     "metadata": {},
     "output_type": "execute_result"
    }
   ],
   "source": [
    "train.shape"
   ]
  },
  {
   "cell_type": "code",
   "execution_count": 230,
   "id": "c96563a8-7216-4a2c-87de-49d5d7b07130",
   "metadata": {},
   "outputs": [],
   "source": [
    "train = train.to(device)"
   ]
  },
  {
   "cell_type": "code",
   "execution_count": null,
   "id": "7d2ff2e9-aeb9-4c68-864b-01edff0e345c",
   "metadata": {},
   "outputs": [],
   "source": [
    "_, mu, log_var = model(train)"
   ]
  },
  {
   "cell_type": "code",
   "execution_count": 232,
   "id": "3333fdb2-e918-433f-9a2d-e03c4c278ef3",
   "metadata": {},
   "outputs": [
    {
     "data": {
      "text/plain": [
       "((60000, 3), (60000, 3))"
      ]
     },
     "execution_count": 232,
     "metadata": {},
     "output_type": "execute_result"
    }
   ],
   "source": [
    "mu.shape, log_var.shape"
   ]
  },
  {
   "cell_type": "code",
   "execution_count": 225,
   "id": "cf417b5d-627e-4f5f-a63a-ac7f84359306",
   "metadata": {},
   "outputs": [
    {
     "data": {
      "text/plain": [
       "torch.Size([60000, 1, 28, 28])"
      ]
     },
     "execution_count": 225,
     "metadata": {},
     "output_type": "execute_result"
    }
   ],
   "source": [
    "train.shape"
   ]
  },
  {
   "cell_type": "code",
   "execution_count": 226,
   "id": "fb8d4ed6-1c00-4500-8905-e884fbbbb86c",
   "metadata": {},
   "outputs": [],
   "source": [
    "mu = mu.cpu().detach().numpy()\n",
    "log_var = log_var.cpu().detach().numpy()"
   ]
  },
  {
   "cell_type": "code",
   "execution_count": 227,
   "id": "cb3869f5-a768-40ee-ba61-d3067aa48689",
   "metadata": {},
   "outputs": [],
   "source": [
    "train = train.cpu().detach()"
   ]
  },
  {
   "cell_type": "code",
   "execution_count": 228,
   "id": "07ff6133-9fa5-4075-ae0f-72cf3494f80e",
   "metadata": {},
   "outputs": [
    {
     "data": {
      "text/plain": [
       "((60000, 3), (60000, 3))"
      ]
     },
     "execution_count": 228,
     "metadata": {},
     "output_type": "execute_result"
    }
   ],
   "source": [
    "# Sanity check-\n",
    "mu.shape, log_var.shape"
   ]
  },
  {
   "cell_type": "code",
   "execution_count": 229,
   "id": "2446abcf-cbcc-4c1a-8ba9-e1b6934a0fa6",
   "metadata": {},
   "outputs": [
    {
     "data": {
      "text/plain": [
       "torch.Size([60000, 1, 28, 28])"
      ]
     },
     "execution_count": 229,
     "metadata": {},
     "output_type": "execute_result"
    }
   ],
   "source": [
    "train.shape"
   ]
  },
  {
   "cell_type": "code",
   "execution_count": null,
   "id": "399f9b51-d096-43c4-9d48-4fb38471828a",
   "metadata": {},
   "outputs": [],
   "source": []
  },
  {
   "cell_type": "code",
   "execution_count": null,
   "id": "278e9b41-9e42-46cc-af71-5d3bb5b929c8",
   "metadata": {},
   "outputs": [],
   "source": []
  },
  {
   "cell_type": "markdown",
   "id": "17a6c4c0-44d6-4ce8-87b0-d9daaf15f43f",
   "metadata": {},
   "source": [
    "### Visualize _mu_ & _log_var_ trained vectors"
   ]
  },
  {
   "cell_type": "code",
   "execution_count": 215,
   "id": "31f8e410-a407-44bf-9f27-515a66fc43c6",
   "metadata": {},
   "outputs": [],
   "source": [
    "import plotly\n",
    "import plotly.express as px"
   ]
  },
  {
   "cell_type": "code",
   "execution_count": null,
   "id": "8d8e6e8e-f2d1-4c0e-b58d-ab77ab16f642",
   "metadata": {},
   "outputs": [],
   "source": [
    "# Visualize latent space for 'mu' vector-\n",
    "fig = px.scatter_3d(\n",
    "    x = mu[:, 0], y = mu[:, 1],\n",
    "    z = mu[:, 2],\n",
    "    # color = y_train\n",
    "    )\n",
    "fig.show()"
   ]
  },
  {
   "cell_type": "code",
   "execution_count": null,
   "id": "8ca37430-a3f0-4f9e-89c1-46ea83a388f4",
   "metadata": {},
   "outputs": [],
   "source": [
    "# Visualize latent space for 'log variance' vector-\n",
    "fig = px.scatter_3d(\n",
    "    x = log_var[:, 0], y = log_var[:, 1],\n",
    "    z = log_var[:, 2],\n",
    "    # color = y_train\n",
    "    )\n",
    "fig.show()"
   ]
  },
  {
   "cell_type": "code",
   "execution_count": null,
   "id": "f4539311-e532-47f0-9bc4-78981a8a09ea",
   "metadata": {},
   "outputs": [],
   "source": []
  },
  {
   "cell_type": "code",
   "execution_count": null,
   "id": "365fe0f6-86f5-407f-b70b-805c753b6895",
   "metadata": {},
   "outputs": [],
   "source": []
  },
  {
   "cell_type": "code",
   "execution_count": 217,
   "id": "1fbf3dc5-1932-4a92-a6ab-6d62315cdaf7",
   "metadata": {},
   "outputs": [
    {
     "name": "stdout",
     "output_type": "stream",
     "text": [
      "Mean vector (mu): mean = -0.008894 & std dev = 0.8598\n"
     ]
    }
   ],
   "source": [
    "print(f\"Mean vector (mu): mean = {mu.mean():4f} & std dev = {mu.std():.4f}\")"
   ]
  },
  {
   "cell_type": "code",
   "execution_count": 218,
   "id": "91a03ac1-264c-4b0c-9378-221fac412c90",
   "metadata": {},
   "outputs": [
    {
     "name": "stdout",
     "output_type": "stream",
     "text": [
      "log-variance (log-var): mean = -3.4641 & std dev = 2.5549\n"
     ]
    }
   ],
   "source": [
    "print(f\"log-variance (log-var): mean = {log_var.mean():.4f} & std dev = {log_var.std():.4f}\")"
   ]
  },
  {
   "cell_type": "code",
   "execution_count": null,
   "id": "070d2f72-d1ea-434c-93fe-0d344ff51a8a",
   "metadata": {},
   "outputs": [],
   "source": []
  },
  {
   "cell_type": "code",
   "execution_count": 204,
   "id": "e01bbf74-5ce9-47dc-833f-70f441b43395",
   "metadata": {},
   "outputs": [
    {
     "data": {
      "text/plain": [
       "array([-1483.6248  ,    20.069199,  -137.35129 ], dtype=float32)"
      ]
     },
     "execution_count": 204,
     "metadata": {},
     "output_type": "execute_result"
    }
   ],
   "source": [
    "np.sum(mu, axis = 0)"
   ]
  },
  {
   "cell_type": "code",
   "execution_count": 205,
   "id": "c841e140-fa54-4ddd-9215-429c74a17efd",
   "metadata": {},
   "outputs": [
    {
     "data": {
      "text/plain": [
       "array([-2.7039500e+05,  3.3001474e+02, -3.5346928e+05], dtype=float32)"
      ]
     },
     "execution_count": 205,
     "metadata": {},
     "output_type": "execute_result"
    }
   ],
   "source": [
    "np.sum(log_var, axis = 0)"
   ]
  },
  {
   "cell_type": "code",
   "execution_count": null,
   "id": "fbed31fa-fb29-4154-b43e-f7d174b4df4a",
   "metadata": {},
   "outputs": [],
   "source": []
  },
  {
   "cell_type": "code",
   "execution_count": null,
   "id": "4718a567-b4ce-449a-84e2-58e918a6c6cc",
   "metadata": {},
   "outputs": [],
   "source": []
  },
  {
   "cell_type": "code",
   "execution_count": null,
   "id": "0a00fb5a-5165-4532-aac8-a90928d97b8e",
   "metadata": {},
   "outputs": [],
   "source": []
  },
  {
   "cell_type": "code",
   "execution_count": null,
   "id": "5963257d-0fb1-40be-a772-fb27c92dec3d",
   "metadata": {},
   "outputs": [],
   "source": [
    "for i in range(3):\n",
    "    print(f\"lv = {i + 1}: mean = {train_recon[:, i].mean():.4f} & std dev =\"\n",
    "          f\" {train_recon[:, i].std():.4f}\"\n",
    "         )"
   ]
  },
  {
   "cell_type": "code",
   "execution_count": null,
   "id": "11a523c2-848a-4fce-8f94-9fa43b94a7e2",
   "metadata": {},
   "outputs": [],
   "source": []
  },
  {
   "cell_type": "code",
   "execution_count": null,
   "id": "b4963686-ec7e-4505-bc47-0d003d3e00e4",
   "metadata": {},
   "outputs": [],
   "source": []
  },
  {
   "cell_type": "code",
   "execution_count": null,
   "id": "4224bbc8-2faa-4c2d-ab8c-d4b4644d799b",
   "metadata": {},
   "outputs": [],
   "source": []
  }
 ],
 "metadata": {
  "kernelspec": {
   "display_name": "Python 3 (ipykernel)",
   "language": "python",
   "name": "python3"
  },
  "language_info": {
   "codemirror_mode": {
    "name": "ipython",
    "version": 3
   },
   "file_extension": ".py",
   "mimetype": "text/x-python",
   "name": "python",
   "nbconvert_exporter": "python",
   "pygments_lexer": "ipython3",
   "version": "3.8.12"
  }
 },
 "nbformat": 4,
 "nbformat_minor": 5
}
