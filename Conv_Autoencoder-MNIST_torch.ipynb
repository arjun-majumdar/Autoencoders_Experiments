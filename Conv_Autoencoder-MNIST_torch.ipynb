{
 "cells": [
  {
   "cell_type": "markdown",
   "id": "f6473afb-c341-4e4e-a27a-9cd9bbc2aa2a",
   "metadata": {},
   "source": [
    "# EXP: Autoencoder: PyTorch and MNIST"
   ]
  },
  {
   "cell_type": "code",
   "execution_count": 1,
   "id": "af4d7dc5-b930-46e3-84ee-d0c178fa255c",
   "metadata": {},
   "outputs": [
    {
     "name": "stdout",
     "output_type": "stream",
     "text": [
      "env: CUDA_DEVICE_ORDER=PCI_BUS_ID\n",
      "env: CUDA_VISIBLE_DEVICES=0\n"
     ]
    }
   ],
   "source": [
    "# Specify GPU to be used-\n",
    "%env CUDA_DEVICE_ORDER = PCI_BUS_ID\n",
    "%env CUDA_VISIBLE_DEVICES = 0"
   ]
  },
  {
   "cell_type": "code",
   "execution_count": 2,
   "id": "e64f2060-5a87-4de6-bbce-ff67c8003f9d",
   "metadata": {},
   "outputs": [
    {
     "name": "stderr",
     "output_type": "stream",
     "text": [
      "C:\\Users\\arjun\\anaconda3\\envs\\torch-gpu\\lib\\site-packages\\tqdm\\auto.py:22: TqdmWarning: IProgress not found. Please update jupyter and ipywidgets. See https://ipywidgets.readthedocs.io/en/stable/user_install.html\n",
      "  from .autonotebook import tqdm as notebook_tqdm\n"
     ]
    }
   ],
   "source": [
    "import torch\n",
    "import torch.nn as nn\n",
    "import torch.nn.functional as F\n",
    "import torchvision\n",
    "import torchvision.transforms as transforms\n",
    "\n",
    "from tqdm import tqdm\n",
    "from tqdm import trange\n",
    "import matplotlib.pyplot as plt\n",
    "import plotly\n",
    "import plotly.express as px\n",
    "import seaborn as sns\n",
    "import numpy as np"
   ]
  },
  {
   "cell_type": "code",
   "execution_count": null,
   "id": "fbf2b8f9-a91c-4d26-bf77-43d8f12da74e",
   "metadata": {},
   "outputs": [],
   "source": []
  },
  {
   "cell_type": "code",
   "execution_count": null,
   "id": "a5f23e95-2349-4517-bc8f-0f061dcfff5a",
   "metadata": {},
   "outputs": [],
   "source": []
  },
  {
   "cell_type": "code",
   "execution_count": 3,
   "id": "fcaab803-e6dd-4189-91c3-f8f319383944",
   "metadata": {},
   "outputs": [
    {
     "name": "stdout",
     "output_type": "stream",
     "text": [
      "torch version: 1.12.1\n"
     ]
    }
   ],
   "source": [
    "print(f\"torch version: {torch.__version__}\")"
   ]
  },
  {
   "cell_type": "code",
   "execution_count": 4,
   "id": "688b1646-7a44-4fd6-8dfd-f08e995a67dc",
   "metadata": {},
   "outputs": [
    {
     "name": "stdout",
     "output_type": "stream",
     "text": [
      "Number of GPU(s) available = 1\n",
      "Current GPU: 0\n",
      "Current GPU name: NVIDIA GeForce RTX 3080 Laptop GPU\n"
     ]
    }
   ],
   "source": [
    "# Check if there are multiple devices (i.e., GPU cards)-\n",
    "print(f\"Number of GPU(s) available = {torch.cuda.device_count()}\")\n",
    "\n",
    "# Which GPU Is The Current GPU?\n",
    "# print(f\"current GPU: {torch.cuda.current_device()}\")\n",
    "\n",
    "# Get the name of the current GPU-\n",
    "# print(f\"Current GPU name: {torch.cuda.get_device_name(torch.cuda.current_device())}\")\n",
    "\n",
    "# Is PyTorch using a GPU?\n",
    "# print(f\"Is PyTorch using a GPU? {torch.cuda.is_available()}\")\n",
    "\n",
    "if torch.cuda.is_available():\n",
    "    print(f\"Current GPU: {torch.cuda.current_device()}\")\n",
    "    print(f\"Current GPU name: {torch.cuda.get_device_name(torch.cuda.current_device())}\")\n",
    "else:\n",
    "    print(\"PyTorch does not have access to GPU\")"
   ]
  },
  {
   "cell_type": "code",
   "execution_count": 5,
   "id": "daeb5054-8c1d-4fb3-b898-d0caee0e4fc9",
   "metadata": {},
   "outputs": [
    {
     "name": "stdout",
     "output_type": "stream",
     "text": [
      "Available device is cuda\n"
     ]
    }
   ],
   "source": [
    "# Device configuration-\n",
    "device = torch.device('cuda' if torch.cuda.is_available() else 'cpu')\n",
    "print(f'Available device is {device}')"
   ]
  },
  {
   "cell_type": "code",
   "execution_count": null,
   "id": "74df46b2-6dee-47e0-845a-7e7e10011281",
   "metadata": {},
   "outputs": [],
   "source": []
  },
  {
   "cell_type": "code",
   "execution_count": null,
   "id": "d3217198-02b1-4f2f-9960-0fe9ea0ce1af",
   "metadata": {},
   "outputs": [],
   "source": []
  },
  {
   "cell_type": "code",
   "execution_count": 6,
   "id": "45aac23e-1cac-4560-bf48-b1ffa3980807",
   "metadata": {},
   "outputs": [],
   "source": [
    "# Specify hyper-parameters-\n",
    "num_epochs = 50\n",
    "batch_size = 256\n",
    "learning_rate = 0.001"
   ]
  },
  {
   "cell_type": "code",
   "execution_count": null,
   "id": "7585bf9f-da7f-460e-95cf-325b65d352b7",
   "metadata": {},
   "outputs": [],
   "source": []
  },
  {
   "cell_type": "code",
   "execution_count": null,
   "id": "8b57a960-98a2-4bb4-b436-eb90aac4600f",
   "metadata": {},
   "outputs": [],
   "source": []
  },
  {
   "cell_type": "markdown",
   "id": "0ae56660-e6d7-431e-825e-612dfe60b4f5",
   "metadata": {},
   "source": [
    "### MNIST data pre-processing"
   ]
  },
  {
   "cell_type": "code",
   "execution_count": 7,
   "id": "8bca8784-02b4-4543-984e-aa31d41dc946",
   "metadata": {},
   "outputs": [],
   "source": [
    "# Define transformations for MNIST dataset-\n",
    "# MNIST dataset statistics-\n",
    "mean = np.array([0.1307])\n",
    "std_dev = np.array([0.3081])\n",
    "\n",
    "transforms_apply = transforms.Compose(\n",
    "    [\n",
    "        transforms.ToTensor(),\n",
    "        transforms.Normalize(mean = mean, std = std_dev)\n",
    "    ]\n",
    ")"
   ]
  },
  {
   "cell_type": "code",
   "execution_count": 8,
   "id": "68583723-3213-4f16-a18b-d1142d2edf76",
   "metadata": {},
   "outputs": [],
   "source": [
    "path_to_data = \"C:\\\\Users\\\\arjun\\Downloads\\\\\""
   ]
  },
  {
   "cell_type": "code",
   "execution_count": 9,
   "id": "4e7a99f5-6f03-4397-8a0e-37e8da5389fe",
   "metadata": {},
   "outputs": [],
   "source": [
    "# Load MNIST dataset-\n",
    "train_dataset = torchvision.datasets.MNIST(\n",
    "    # root = './data', train = True,\n",
    "    root = path_to_data + \"data\", train = True,\n",
    "    transform = transforms_apply, download = True\n",
    ")\n",
    "\n",
    "test_dataset = torchvision.datasets.MNIST(\n",
    "    # root = './data', train = False,\n",
    "    root = path_to_data + \"data\", train = False,\n",
    "    transform = transforms_apply\n",
    ")"
   ]
  },
  {
   "cell_type": "code",
   "execution_count": 10,
   "id": "325a9ca9-4cd1-4e1b-8dd4-e8f584ae305f",
   "metadata": {},
   "outputs": [
    {
     "data": {
      "text/plain": [
       "(60000, 60000)"
      ]
     },
     "execution_count": 10,
     "metadata": {},
     "output_type": "execute_result"
    }
   ],
   "source": [
    "len(train_dataset.targets), len(train_dataset.data)"
   ]
  },
  {
   "cell_type": "code",
   "execution_count": 11,
   "id": "45d36d33-18ba-42a4-a025-cee803ace8d1",
   "metadata": {},
   "outputs": [
    {
     "data": {
      "text/plain": [
       "(10000, 10000)"
      ]
     },
     "execution_count": 11,
     "metadata": {},
     "output_type": "execute_result"
    }
   ],
   "source": [
    "len(test_dataset.targets), len(test_dataset.data)"
   ]
  },
  {
   "cell_type": "code",
   "execution_count": 12,
   "id": "ed057793-938e-44ed-baaf-d0e33960c0ee",
   "metadata": {},
   "outputs": [
    {
     "name": "stdout",
     "output_type": "stream",
     "text": [
      "training dataset length/shape: [60000, 28, 28]\n"
     ]
    }
   ],
   "source": [
    "print(f\"training dataset length/shape: {list(train_dataset.data.size())}\")"
   ]
  },
  {
   "cell_type": "code",
   "execution_count": 13,
   "id": "fc5de5e1-9e9c-401f-8669-e26d862e7fd0",
   "metadata": {},
   "outputs": [
    {
     "name": "stdout",
     "output_type": "stream",
     "text": [
      "mean = 0.1307\n",
      "std dev = 0.3081\n"
     ]
    }
   ],
   "source": [
    "print(f\"mean = {train_dataset.data.float().mean() / 255:.4f}\")\n",
    "print(f\"std dev = {train_dataset.data.float().std() / 255:.4f}\")"
   ]
  },
  {
   "cell_type": "markdown",
   "id": "7584f019-93ea-49cb-8a14-2ce04e515535",
   "metadata": {},
   "source": [
    "Note: Since MNIST has only one channel, therefore, the mean and standard deviation is computed for one channel!"
   ]
  },
  {
   "cell_type": "code",
   "execution_count": 14,
   "id": "89310d95-6f25-4616-b7ea-829ccfa1abdf",
   "metadata": {},
   "outputs": [
    {
     "data": {
      "text/plain": [
       "(tensor(0, dtype=torch.uint8), tensor(255, dtype=torch.uint8))"
      ]
     },
     "execution_count": 14,
     "metadata": {},
     "output_type": "execute_result"
    }
   ],
   "source": [
    "# Sanity check-\n",
    "train_dataset.data.min(), train_dataset.data.max()"
   ]
  },
  {
   "cell_type": "code",
   "execution_count": 15,
   "id": "7ae626d2-bfe1-4fb0-9956-2848d74eb20b",
   "metadata": {},
   "outputs": [
    {
     "data": {
      "text/plain": [
       "(tensor(0, dtype=torch.uint8), tensor(255, dtype=torch.uint8))"
      ]
     },
     "execution_count": 15,
     "metadata": {},
     "output_type": "execute_result"
    }
   ],
   "source": [
    "test_dataset.data.min(), test_dataset.data.max()"
   ]
  },
  {
   "cell_type": "code",
   "execution_count": 16,
   "id": "fd4c4d67-67fe-48da-8aac-1741f0d19698",
   "metadata": {},
   "outputs": [],
   "source": [
    "# Scale pixel values in the range 0 to 1\n",
    "# To manually convert the pixel values in the range 0 to 1, divide the training and testing\n",
    "# datasets by 255.0-\n",
    "train = train_dataset.data.float() / 255.0\n",
    "test = test_dataset.data.float() / 255.0"
   ]
  },
  {
   "cell_type": "code",
   "execution_count": 17,
   "id": "1a5c347f-94eb-49cf-a047-b2eb6e896b37",
   "metadata": {},
   "outputs": [],
   "source": [
    "# Reshape to include gray-scale channel-\n",
    "train = train.reshape(60000, 1, 28, 28)\n",
    "test = test.reshape(10000, 1, 28, 28)"
   ]
  },
  {
   "cell_type": "code",
   "execution_count": 18,
   "id": "fb68f10e-418a-4974-9d78-11bdb417aebd",
   "metadata": {},
   "outputs": [
    {
     "data": {
      "text/plain": [
       "(torch.Size([60000, 1, 28, 28]), torch.Size([10000, 1, 28, 28]))"
      ]
     },
     "execution_count": 18,
     "metadata": {},
     "output_type": "execute_result"
    }
   ],
   "source": [
    "train.shape, test.shape"
   ]
  },
  {
   "cell_type": "code",
   "execution_count": 19,
   "id": "1ef147fc-bd9f-4631-9a75-9ce47c021055",
   "metadata": {},
   "outputs": [
    {
     "data": {
      "text/plain": [
       "(tensor(0.), tensor(1.))"
      ]
     },
     "execution_count": 19,
     "metadata": {},
     "output_type": "execute_result"
    }
   ],
   "source": [
    "# Sanity check- min and max pixel values are in the range 0 to 1-\n",
    "train.data.min(), train.data.max()"
   ]
  },
  {
   "cell_type": "code",
   "execution_count": 20,
   "id": "8610279a-b306-4210-b28a-65f6c78c67cd",
   "metadata": {},
   "outputs": [
    {
     "data": {
      "text/plain": [
       "(tensor(0.), tensor(1.))"
      ]
     },
     "execution_count": 20,
     "metadata": {},
     "output_type": "execute_result"
    }
   ],
   "source": [
    "test.data.min(), test.data.max()"
   ]
  },
  {
   "cell_type": "code",
   "execution_count": 21,
   "id": "b9d77d45-a92d-4f15-acd2-c93ec33bda42",
   "metadata": {},
   "outputs": [],
   "source": [
    "del train_dataset, test_dataset"
   ]
  },
  {
   "cell_type": "code",
   "execution_count": 22,
   "id": "bb29cb12-6727-4546-9ac9-9fc706b3ce3d",
   "metadata": {},
   "outputs": [],
   "source": [
    "# Create training and testing dataloaders-\n",
    "train_loader = torch.utils.data.DataLoader(\n",
    "    dataset = train, batch_size = batch_size,\n",
    "    shuffle = True\n",
    ")\n",
    "\n",
    "test_loader = torch.utils.data.DataLoader(\n",
    "    dataset = test, batch_size = batch_size,\n",
    "    shuffle = False\n",
    ")"
   ]
  },
  {
   "cell_type": "code",
   "execution_count": 23,
   "id": "8765fc77-47de-498a-8af5-6f9a140145e6",
   "metadata": {},
   "outputs": [
    {
     "name": "stdout",
     "output_type": "stream",
     "text": [
      "Sizes of train_dataset: 60000 and test_dataet: 10000\n",
      "Sizes of train_loader: 235 and test_loader: 40\n"
     ]
    }
   ],
   "source": [
    "print(f\"Sizes of train_dataset: {len(train)} and test_dataet: {len(test)}\")\n",
    "print(f\"Sizes of train_loader: {len(train_loader)} and test_loader: {len(test_loader)}\")"
   ]
  },
  {
   "cell_type": "code",
   "execution_count": 24,
   "id": "684e2452-4eaa-4b64-a1f7-62a4b159dd63",
   "metadata": {},
   "outputs": [
    {
     "name": "stdout",
     "output_type": "stream",
     "text": [
      "len(train_loader) = 235 & len(test_loader) = 40\n"
     ]
    }
   ],
   "source": [
    "print(f\"len(train_loader) = {len(train_loader)} & len(test_loader) = {len(test_loader)}\")"
   ]
  },
  {
   "cell_type": "code",
   "execution_count": 25,
   "id": "75d6d60b-b0ed-4160-b5a2-87bd757b22b9",
   "metadata": {},
   "outputs": [
    {
     "data": {
      "text/plain": [
       "(234.375, 39.0625)"
      ]
     },
     "execution_count": 25,
     "metadata": {},
     "output_type": "execute_result"
    }
   ],
   "source": [
    "# Sanity check-\n",
    "len(train) / batch_size, len(test) / batch_size"
   ]
  },
  {
   "cell_type": "code",
   "execution_count": null,
   "id": "d13914da-df3b-4fd9-8a73-c9beaced0e2b",
   "metadata": {},
   "outputs": [],
   "source": []
  },
  {
   "cell_type": "code",
   "execution_count": 26,
   "id": "caf9f6a7-fc38-4591-9110-13d6cdb6bb0f",
   "metadata": {},
   "outputs": [
    {
     "name": "stdout",
     "output_type": "stream",
     "text": [
      "images.shape: torch.Size([256, 1, 28, 28])\n"
     ]
    }
   ],
   "source": [
    "# Get some random batch of training images & labels-\n",
    "images = next(iter(train_loader))\n",
    "\n",
    "# You get 64 images due to the specified batch size-\n",
    "# print(f\"images.shape: {images.shape} & labels.shape: {labels.shape}\")\n",
    "print(f\"images.shape: {images.shape}\")"
   ]
  },
  {
   "cell_type": "code",
   "execution_count": 27,
   "id": "6440e1ed-3200-42d5-adda-7e20adbd89c2",
   "metadata": {},
   "outputs": [
    {
     "data": {
      "text/plain": [
       "(tensor(0.), tensor(1.))"
      ]
     },
     "execution_count": 27,
     "metadata": {},
     "output_type": "execute_result"
    }
   ],
   "source": [
    "images.min(), images.max()"
   ]
  },
  {
   "cell_type": "code",
   "execution_count": 28,
   "id": "dc6f9fe8-0517-47fc-9b83-465b619322d6",
   "metadata": {},
   "outputs": [
    {
     "data": {
      "text/plain": [
       "(tensor(0.), tensor(255.))"
      ]
     },
     "execution_count": 28,
     "metadata": {},
     "output_type": "execute_result"
    }
   ],
   "source": [
    "# De-normalize the batch of images-\n",
    "images *= 255.0\n",
    "\n",
    "images.min(), images.max()"
   ]
  },
  {
   "cell_type": "code",
   "execution_count": 29,
   "id": "9f1f8a0c-ba14-4bf5-89ca-3e8f631e0354",
   "metadata": {},
   "outputs": [],
   "source": [
    "# Reshape images for visualization-\n",
    "images = images.view(-1, 1, 28, 28)"
   ]
  },
  {
   "cell_type": "code",
   "execution_count": 30,
   "id": "c21f09a7-8829-410f-bf97-2f164f665017",
   "metadata": {},
   "outputs": [
    {
     "data": {
      "image/png": "[encoded data removed]",
      "text/plain": [
       "<Figure size 600x500 with 20 Axes>"
      ]
     },
     "metadata": {},
     "output_type": "display_data"
    }
   ],
   "source": [
    "# Visualize 20 images from training set-\n",
    "plt.figure(figsize = (6, 5))\n",
    "for i in range(20):\n",
    "    # 4 rows & 5 columns-\n",
    "    plt.subplot(4, 5, i + 1)\n",
    "    # plt.imshow(images[i], cmap = 'gray')\n",
    "    # 0 to access first channel-\n",
    "    plt.imshow(images[i][0], cmap = 'gray')\n",
    "    \n",
    "plt.suptitle(\"Sample MNIST training images\")\n",
    "plt.show()"
   ]
  },
  {
   "cell_type": "code",
   "execution_count": 31,
   "id": "e091b764-3d6b-411b-9f5e-472d26317cc6",
   "metadata": {},
   "outputs": [],
   "source": [
    "del images"
   ]
  },
  {
   "cell_type": "code",
   "execution_count": null,
   "id": "3f229acc-bce4-47f1-83ff-f5c9fec49226",
   "metadata": {},
   "outputs": [],
   "source": []
  },
  {
   "cell_type": "code",
   "execution_count": null,
   "id": "e647a71f-cb05-4657-a620-8c8af4d93d67",
   "metadata": {},
   "outputs": [],
   "source": []
  },
  {
   "cell_type": "markdown",
   "id": "67bb1fd4-63d9-470e-88b2-41f8ca7773e5",
   "metadata": {},
   "source": [
    "### Define _Convolutional_ Autoencoder"
   ]
  },
  {
   "cell_type": "code",
   "execution_count": 32,
   "id": "f982d114-9c3b-4775-94f2-a30116a5da26",
   "metadata": {},
   "outputs": [],
   "source": [
    "class Conv_Encoder(nn.Module):\n",
    "    def __init__(self, latent_space):\n",
    "        super(Conv_Encoder, self).__init__()\n",
    "        self.latent_space = latent_space\n",
    "        \n",
    "        self.conv1 = nn.Conv2d(\n",
    "            in_channels = 1, out_channels = 32,\n",
    "            kernel_size = 3, stride = 1,\n",
    "            padding = 0, bias = True\n",
    "        )\n",
    "        self.conv2 = nn.Conv2d(\n",
    "            in_channels = 32, out_channels = 32,\n",
    "            kernel_size = 3, stride = 1,\n",
    "            padding = 0, bias = True\n",
    "        )\n",
    "        self.conv3 = nn.Conv2d(\n",
    "            in_channels = 32, out_channels = 64,\n",
    "            kernel_size = 3, stride = 2,\n",
    "            padding = 0, bias = True\n",
    "        )\n",
    "        self.conv4 = nn.Conv2d(\n",
    "            in_channels = 64, out_channels = 64,\n",
    "            kernel_size = 3, stride = 1,\n",
    "            padding = 0, bias = True\n",
    "        )\n",
    "        self.conv5 = nn.Conv2d(\n",
    "            in_channels = 64, out_channels = 128,\n",
    "            kernel_size = 3, stride = 1,\n",
    "            padding = 0, bias = True\n",
    "        )\n",
    "        self.conv6 = nn.Conv2d(\n",
    "            in_channels = 128, out_channels = 128,\n",
    "            kernel_size = 3, stride = 2,\n",
    "            padding = 0, bias = True\n",
    "        )\n",
    "        self.conv7 = nn.Conv2d(\n",
    "            in_channels = 128, out_channels = 128,\n",
    "            kernel_size = 3, stride = 1,\n",
    "            padding = 0, bias = True\n",
    "        )\n",
    "        self.conv8 = nn.Conv2d(\n",
    "            in_channels = 128, out_channels = self.latent_space,\n",
    "            kernel_size = 1, stride = 1,\n",
    "            padding = 0, bias = True)\n",
    "        '''\n",
    "        self.dense = nn.Linear(\n",
    "            in_features = 128, out_features = 50,\n",
    "            bias = True\n",
    "        )\n",
    "        self.dense2 = nn.Linear(\n",
    "            in_features = 50, out_features = 10,\n",
    "            bias = True\n",
    "        )\n",
    "        self.dense3 = nn.Linear(\n",
    "            in_features = 10, out_features = self.latent_space,\n",
    "            bias = True\n",
    "        )\n",
    "        '''\n",
    "        self.initialize_weights()\n",
    "        \n",
    "    \n",
    "    def initialize_weights(self):\n",
    "        for m in self.modules():\n",
    "            # print(m)\n",
    "            if isinstance(m, nn.Conv2d):\n",
    "                nn.init.kaiming_uniform_(m.weight)\n",
    "                \n",
    "                # Do not initialize bias (due to batchnorm)-\n",
    "                if m.bias is not None:\n",
    "                    nn.init.constant_(m.bias, 0)\n",
    "                \n",
    "            elif isinstance(m, nn.BatchNorm2d):\n",
    "                # Standard initialization for batch normalization-\n",
    "                nn.init.constant_(m.weight, 1)\n",
    "                nn.init.constant_(m.bias, 0)\n",
    "\n",
    "            elif isinstance(m, nn.Linear):\n",
    "                nn.init.kaiming_normal_(m.weight)\n",
    "                nn.init.constant_(m.bias, 0)\n",
    "    \n",
    "    \n",
    "    def forward(self, x):\n",
    "        x = F.relu(self.conv1(x))\n",
    "        x = F.relu(self.conv2(x))\n",
    "        x = F.relu(self.conv3(x))\n",
    "        x = F.relu(self.conv4(x))\n",
    "        x = F.relu(self.conv5(x))\n",
    "        x = F.relu(self.conv6(x))\n",
    "        x = F.relu(self.conv7(x))\n",
    "        x = F.relu(self.conv8(x))\n",
    "        '''\n",
    "        x = torch.flatten(x, start_dim = 1)\n",
    "        x = F.relu(self.dense(x))\n",
    "        x = F.relu(self.dense2(x))\n",
    "        x = F.relu(self.dense3(x))\n",
    "        '''\n",
    "        return x\n",
    "    \n",
    "    \n",
    "    def shape_computation(self, x):\n",
    "        print(f\"Input shape: {x.shape}\")\n",
    "        x = F.relu(self.conv1(x))\n",
    "        print(f\"conv1 output shape: {x.shape}\")\n",
    "        x = F.relu(self.conv2(x))\n",
    "        print(f\"conv2 output shape: {x.shape}\")\n",
    "        x = F.relu(self.conv3(x))\n",
    "        print(f\"conv3 output shape: {x.shape}\")\n",
    "        x = F.relu(self.conv4(x))\n",
    "        print(f\"conv4 output shape: {x.shape}\")\n",
    "        x = F.relu(self.conv5(x))\n",
    "        print(f\"conv5 output shape: {x.shape}\")\n",
    "        x = F.relu(self.conv6(x))\n",
    "        print(f\"conv6 output shape: {x.shape}\")\n",
    "        x = F.relu(self.conv7(x))\n",
    "        print(f\"conv7 output shape: {x.shape}\")\n",
    "        x = F.relu(self.conv8(x))\n",
    "        print(f\"conv8 output shape: {x.shape}\")\n",
    "        '''\n",
    "        x = torch.flatten(x, start_dim = 1)\n",
    "        print(f\"flattened output shape: {x.shape}\")\n",
    "        x = F.relu(self.dense(x))\n",
    "        print(f\"dense output shape: {x.shape}\")\n",
    "        x = F.relu(self.dense2(x))\n",
    "        print(f\"dense2 output shape: {x.shape}\")\n",
    "        x = F.relu(self.dense3(x))\n",
    "        '''\n",
    "        print(f\"encoder output shape: {x.shape}\")\n",
    "        return None\n",
    "    "
   ]
  },
  {
   "cell_type": "code",
   "execution_count": 33,
   "id": "451c24e4-395c-49ab-9bf3-fc4913c38bf5",
   "metadata": {},
   "outputs": [],
   "source": [
    "class Conv_Decoder(nn.Module):\n",
    "    def __init__(self, latent_space):\n",
    "        super(Conv_Decoder, self).__init__()\n",
    "        \n",
    "        self.latent_space = latent_space\n",
    "        '''\n",
    "        self.dense = nn.Linear(\n",
    "            in_features = self.latent_space, out_features = 10,\n",
    "            bias = True\n",
    "        )\n",
    "        self.dense2 = nn.Linear(\n",
    "            in_features = 10, out_features = 50,\n",
    "            bias = True\n",
    "        )\n",
    "        self.dense3 = nn.Linear(\n",
    "            in_features = 50, out_features = 128,\n",
    "            bias = True\n",
    "        )\n",
    "        '''\n",
    "        self.conv_tran1 = nn.ConvTranspose2d(\n",
    "            in_channels = self.latent_space, out_channels = 32,\n",
    "            kernel_size = 3, stride = 1,\n",
    "            padding = 0\n",
    "        )\n",
    "        self.conv_tran2 = nn.ConvTranspose2d(\n",
    "            in_channels = 32, out_channels = 32,\n",
    "            kernel_size = 3, stride = 1,\n",
    "            padding = 1\n",
    "        )\n",
    "        self.conv_tran3 = nn.ConvTranspose2d(\n",
    "            in_channels = 32, out_channels = 64,\n",
    "            kernel_size = 3, stride = 2,\n",
    "            padding = 0\n",
    "        )\n",
    "        self.conv_tran4 = nn.ConvTranspose2d(\n",
    "            in_channels = 64, out_channels = 64,\n",
    "            kernel_size = 3, stride = 1,\n",
    "            padding = 1\n",
    "        )\n",
    "        self.conv_tran5 = nn.ConvTranspose2d(\n",
    "            in_channels = 64, out_channels = 128,\n",
    "            kernel_size = 3, stride = 1,\n",
    "            padding = 0\n",
    "        )\n",
    "        self.conv_tran6 = nn.ConvTranspose2d(\n",
    "            in_channels = 128, out_channels = 128,\n",
    "            kernel_size = 3, stride = 1,\n",
    "            padding = 0\n",
    "        )\n",
    "        self.conv_tran7 = nn.ConvTranspose2d(\n",
    "            in_channels = 128, out_channels = 256,\n",
    "            kernel_size = 3, stride = 2,\n",
    "            padding = 0\n",
    "        )\n",
    "        self.conv_tran8 = nn.ConvTranspose2d(\n",
    "            in_channels = 256, out_channels = 256,\n",
    "            kernel_size = 3, stride = 1,\n",
    "            padding = 0\n",
    "        )\n",
    "        self.conv_tran9 = nn.ConvTranspose2d(\n",
    "            in_channels = 256, out_channels = 64,\n",
    "            kernel_size = 3, stride = 1,\n",
    "            padding = 0\n",
    "        )\n",
    "        self.conv_tran10 = nn.ConvTranspose2d(\n",
    "            in_channels = 64, out_channels = 1,\n",
    "            kernel_size = 2, stride = 1,\n",
    "            padding = 0\n",
    "        )\n",
    "        self.initialize_weights()\n",
    "        \n",
    "    \n",
    "    def initialize_weights(self):\n",
    "        for m in self.modules():\n",
    "            # print(m)\n",
    "            if isinstance(m, nn.Conv2d):\n",
    "                nn.init.kaiming_uniform_(m.weight)\n",
    "                \n",
    "                # Do not initialize bias (due to batchnorm)-\n",
    "                if m.bias is not None:\n",
    "                    nn.init.constant_(m.bias, 0)\n",
    "                \n",
    "            elif isinstance(m, nn.BatchNorm2d):\n",
    "                # Standard initialization for batch normalization-\n",
    "                nn.init.constant_(m.weight, 1)\n",
    "                nn.init.constant_(m.bias, 0)\n",
    "\n",
    "            elif isinstance(m, nn.Linear):\n",
    "                nn.init.kaiming_normal_(m.weight)\n",
    "                nn.init.constant_(m.bias, 0)\n",
    "    \n",
    "    \n",
    "    def forward(self, x):\n",
    "        '''\n",
    "        x = self.dense(x)\n",
    "        x = self.dense2(x)\n",
    "        x = self.dense3(x)\n",
    "        x = x.view(-1, 128, 1, 1)\n",
    "        '''\n",
    "        x = F.relu(self.conv_tran1(x))\n",
    "        x = F.relu(self.conv_tran2(x))\n",
    "        x = F.relu(self.conv_tran3(x))\n",
    "        x = F.relu(self.conv_tran4(x))\n",
    "        x = F.relu(self.conv_tran5(x))\n",
    "        x = F.relu(self.conv_tran6(x))\n",
    "        x = F.relu(self.conv_tran7(x))\n",
    "        x = F.relu(self.conv_tran8(x))\n",
    "        x = F.relu(self.conv_tran9(x))\n",
    "        # Use sigmoid activation function due to data pre-processing-\n",
    "        x = torch.sigmoid(self.conv_tran10(x))\n",
    "        return x\n",
    "    \n",
    "    \n",
    "    def shape_computation(self, x):\n",
    "        print(f\"Input shape: {x.shape}\")\n",
    "        '''\n",
    "        x = self.dense(x)\n",
    "        print(f\"dense output shape: {x.shape}\")\n",
    "        x = self.dense2(x)\n",
    "        print(f\"dense2 output shape: {x.shape}\")\n",
    "        x = self.dense3(x)\n",
    "        print(f\"dense3 output shape: {x.shape}\")\n",
    "        '''\n",
    "        x = self.conv_tran1(x)\n",
    "        print(f\"conv transpose1 output shape: {x.shape}\")\n",
    "        x = self.conv_tran2(x)\n",
    "        print(f\"conv transpose2 output shape: {x.shape}\")\n",
    "        x = self.conv_tran3(x)\n",
    "        print(f\"conv transpose3 output shape: {x.shape}\")\n",
    "        x = self.conv_tran4(x)\n",
    "        print(f\"conv transpose4 output shape: {x.shape}\")\n",
    "        x = self.conv_tran5(x)\n",
    "        print(f\"conv transpose5 output shape: {x.shape}\")\n",
    "        x = self.conv_tran6(x)\n",
    "        print(f\"conv transpose6 output shape: {x.shape}\")\n",
    "        x = self.conv_tran7(x)\n",
    "        print(f\"conv transpose7 output shape: {x.shape}\")\n",
    "        x = self.conv_tran8(x)\n",
    "        print(f\"conv transpose8 output shape: {x.shape}\")\n",
    "        x = self.conv_tran9(x)\n",
    "        print(f\"conv transpose9 output shape: {x.shape}\")\n",
    "        x = self.conv_tran10(x)\n",
    "        print(f\"conv transpose10 output shape: {x.shape}\")\n",
    "        return None\n",
    "        "
   ]
  },
  {
   "cell_type": "code",
   "execution_count": 34,
   "id": "67cb7a23-e6d2-4071-a0a3-8a428436474c",
   "metadata": {},
   "outputs": [],
   "source": [
    "class Conv_Autoencoder(nn.Module):\n",
    "    def __init__(self, latent_space = 5):\n",
    "        super(Conv_Autoencoder, self).__init__()\n",
    "        self.latent_space = latent_space\n",
    "        \n",
    "        self.encoder = Conv_Encoder(latent_space = self.latent_space)\n",
    "        self.decoder = Conv_Decoder(latent_space = self.latent_space)\n",
    "    \n",
    "    \n",
    "    def forward(self, x):\n",
    "        x_enc = self.encoder(x)\n",
    "        return self.decoder(x_enc)\n",
    "    \n",
    "    \n",
    "    def shape_computation(self, x):\n",
    "        print(f\"Input shape: {x.shape}\")\n",
    "        x = self.encoder(x)\n",
    "        print(f\"Encoder output shape: {x.shape}\")\n",
    "        x = self.decoder(x)\n",
    "        print(f\"Decoder output shape: {x.shape}\")\n",
    "        return None\n",
    "    "
   ]
  },
  {
   "cell_type": "code",
   "execution_count": null,
   "id": "a06b5c1f-4002-4f65-8c7e-c97824cb564a",
   "metadata": {},
   "outputs": [],
   "source": []
  },
  {
   "cell_type": "code",
   "execution_count": 35,
   "id": "155458f4-d0f2-45bd-8361-4d2b242e0a9f",
   "metadata": {},
   "outputs": [],
   "source": [
    "# Initialize Conv Autoencoder-\n",
    "model = Conv_Autoencoder(latent_space = 3).to(device)"
   ]
  },
  {
   "cell_type": "code",
   "execution_count": 36,
   "id": "84ce12a4-e6e7-485b-85e4-02448408eddf",
   "metadata": {},
   "outputs": [
    {
     "data": {
      "text/plain": [
       "torch.Size([256, 1, 28, 28])"
      ]
     },
     "execution_count": 36,
     "metadata": {},
     "output_type": "execute_result"
    }
   ],
   "source": [
    "# Sanity check-\n",
    "images = next(iter(train_loader))\n",
    "images = images.to(device)\n",
    "images.shape"
   ]
  },
  {
   "cell_type": "code",
   "execution_count": 37,
   "id": "3a230a41-562d-4de7-887e-551342cce575",
   "metadata": {},
   "outputs": [],
   "source": [
    "# Get reconstructions-\n",
    "output = model(images)"
   ]
  },
  {
   "cell_type": "code",
   "execution_count": 38,
   "id": "0cfe109b-03ec-4657-bd67-fc0fa18d052c",
   "metadata": {},
   "outputs": [
    {
     "data": {
      "text/plain": [
       "(torch.Size([256, 1, 28, 28]), torch.Size([256, 1, 28, 28]))"
      ]
     },
     "execution_count": 38,
     "metadata": {},
     "output_type": "execute_result"
    }
   ],
   "source": [
    "# Sanity check-\n",
    "output.shape, images.shape"
   ]
  },
  {
   "cell_type": "code",
   "execution_count": 39,
   "id": "f484c58b-9198-44d2-a421-99dea357abaf",
   "metadata": {},
   "outputs": [
    {
     "name": "stdout",
     "output_type": "stream",
     "text": [
      "Input shape: torch.Size([256, 1, 28, 28])\n",
      "Encoder output shape: torch.Size([256, 3, 1, 1])\n",
      "Decoder output shape: torch.Size([256, 1, 28, 28])\n"
     ]
    }
   ],
   "source": [
    "model.shape_computation(images)"
   ]
  },
  {
   "cell_type": "code",
   "execution_count": 40,
   "id": "9cda12c8-5f12-4ce6-bd02-896589e8e9dc",
   "metadata": {},
   "outputs": [
    {
     "name": "stdout",
     "output_type": "stream",
     "text": [
      "Input shape: torch.Size([256, 1, 28, 28])\n",
      "conv1 output shape: torch.Size([256, 32, 26, 26])\n",
      "conv2 output shape: torch.Size([256, 32, 24, 24])\n",
      "conv3 output shape: torch.Size([256, 64, 11, 11])\n",
      "conv4 output shape: torch.Size([256, 64, 9, 9])\n",
      "conv5 output shape: torch.Size([256, 128, 7, 7])\n",
      "conv6 output shape: torch.Size([256, 128, 3, 3])\n",
      "conv7 output shape: torch.Size([256, 128, 1, 1])\n",
      "conv8 output shape: torch.Size([256, 3, 1, 1])\n",
      "encoder output shape: torch.Size([256, 3, 1, 1])\n"
     ]
    }
   ],
   "source": [
    "model.encoder.shape_computation(images)"
   ]
  },
  {
   "cell_type": "code",
   "execution_count": 41,
   "id": "9c3bf307-4854-4f44-acb4-a391580538a9",
   "metadata": {},
   "outputs": [],
   "source": [
    "images_enc = model.encoder(images)"
   ]
  },
  {
   "cell_type": "code",
   "execution_count": 42,
   "id": "994601d0-9545-4ce5-a8ac-728c17e2fd5c",
   "metadata": {},
   "outputs": [
    {
     "name": "stdout",
     "output_type": "stream",
     "text": [
      "Input shape: torch.Size([256, 3, 1, 1])\n",
      "conv transpose1 output shape: torch.Size([256, 32, 3, 3])\n",
      "conv transpose2 output shape: torch.Size([256, 32, 3, 3])\n",
      "conv transpose3 output shape: torch.Size([256, 64, 7, 7])\n",
      "conv transpose4 output shape: torch.Size([256, 64, 7, 7])\n",
      "conv transpose5 output shape: torch.Size([256, 128, 9, 9])\n",
      "conv transpose6 output shape: torch.Size([256, 128, 11, 11])\n",
      "conv transpose7 output shape: torch.Size([256, 256, 23, 23])\n",
      "conv transpose8 output shape: torch.Size([256, 256, 25, 25])\n",
      "conv transpose9 output shape: torch.Size([256, 64, 27, 27])\n",
      "conv transpose10 output shape: torch.Size([256, 1, 28, 28])\n"
     ]
    }
   ],
   "source": [
    "model.decoder.shape_computation(images_enc)"
   ]
  },
  {
   "cell_type": "code",
   "execution_count": 43,
   "id": "080d28b0-18e7-4892-951c-3c2b8b37db38",
   "metadata": {},
   "outputs": [],
   "source": [
    "del images, images_enc, output"
   ]
  },
  {
   "cell_type": "code",
   "execution_count": null,
   "id": "951ba538-0e42-40a0-ac18-c4c0696a4433",
   "metadata": {},
   "outputs": [],
   "source": []
  },
  {
   "cell_type": "code",
   "execution_count": 44,
   "id": "1d55db72-1480-4eb6-a6d6-0c7d6300d511",
   "metadata": {},
   "outputs": [
    {
     "name": "stdout",
     "output_type": "stream",
     "text": [
      "layer.shape = torch.Size([32, 1, 3, 3]) has 288 parameters\n",
      "layer.shape = torch.Size([32]) has 32 parameters\n",
      "layer.shape = torch.Size([32, 32, 3, 3]) has 9216 parameters\n",
      "layer.shape = torch.Size([32]) has 32 parameters\n",
      "layer.shape = torch.Size([64, 32, 3, 3]) has 18432 parameters\n",
      "layer.shape = torch.Size([64]) has 64 parameters\n",
      "layer.shape = torch.Size([64, 64, 3, 3]) has 36864 parameters\n",
      "layer.shape = torch.Size([64]) has 64 parameters\n",
      "layer.shape = torch.Size([128, 64, 3, 3]) has 73728 parameters\n",
      "layer.shape = torch.Size([128]) has 128 parameters\n",
      "layer.shape = torch.Size([128, 128, 3, 3]) has 147456 parameters\n",
      "layer.shape = torch.Size([128]) has 128 parameters\n",
      "layer.shape = torch.Size([128, 128, 3, 3]) has 147456 parameters\n",
      "layer.shape = torch.Size([128]) has 128 parameters\n",
      "layer.shape = torch.Size([3, 128, 1, 1]) has 384 parameters\n",
      "layer.shape = torch.Size([3]) has 3 parameters\n",
      "layer.shape = torch.Size([3, 32, 3, 3]) has 864 parameters\n",
      "layer.shape = torch.Size([32]) has 32 parameters\n",
      "layer.shape = torch.Size([32, 32, 3, 3]) has 9216 parameters\n",
      "layer.shape = torch.Size([32]) has 32 parameters\n",
      "layer.shape = torch.Size([32, 64, 3, 3]) has 18432 parameters\n",
      "layer.shape = torch.Size([64]) has 64 parameters\n",
      "layer.shape = torch.Size([64, 64, 3, 3]) has 36864 parameters\n",
      "layer.shape = torch.Size([64]) has 64 parameters\n",
      "layer.shape = torch.Size([64, 128, 3, 3]) has 73728 parameters\n",
      "layer.shape = torch.Size([128]) has 128 parameters\n",
      "layer.shape = torch.Size([128, 128, 3, 3]) has 147456 parameters\n",
      "layer.shape = torch.Size([128]) has 128 parameters\n",
      "layer.shape = torch.Size([128, 256, 3, 3]) has 294912 parameters\n",
      "layer.shape = torch.Size([256]) has 256 parameters\n",
      "layer.shape = torch.Size([256, 256, 3, 3]) has 589824 parameters\n",
      "layer.shape = torch.Size([256]) has 256 parameters\n",
      "layer.shape = torch.Size([256, 64, 3, 3]) has 147456 parameters\n",
      "layer.shape = torch.Size([64]) has 64 parameters\n",
      "layer.shape = torch.Size([64, 1, 2, 2]) has 256 parameters\n",
      "layer.shape = torch.Size([1]) has 1 parameters\n"
     ]
    }
   ],
   "source": [
    "# Count number of layer-wise parameters and total parameters-\n",
    "tot_params = 0\n",
    "for param in model.parameters():\n",
    "    print(f\"layer.shape = {param.shape} has {param.nelement()} parameters\")\n",
    "    tot_params += param.nelement()"
   ]
  },
  {
   "cell_type": "code",
   "execution_count": 45,
   "id": "7fb0e90e-4011-4a09-bdb9-f7fbb7ac40a8",
   "metadata": {},
   "outputs": [
    {
     "name": "stdout",
     "output_type": "stream",
     "text": [
      "Total number of parameters in Conv Autoencoder model = 1754436\n"
     ]
    }
   ],
   "source": [
    "print(f\"Total number of parameters in Conv Autoencoder model = {tot_params}\")"
   ]
  },
  {
   "cell_type": "code",
   "execution_count": null,
   "id": "e80c31c8-4ddb-4b29-9e48-340e4487babe",
   "metadata": {},
   "outputs": [],
   "source": []
  },
  {
   "cell_type": "code",
   "execution_count": 46,
   "id": "2830e60f-8221-4edd-bf67-f67537bb49c2",
   "metadata": {},
   "outputs": [
    {
     "name": "stdout",
     "output_type": "stream",
     "text": [
      "Adam optimizer with learning rate = 0.001 will be used\n"
     ]
    }
   ],
   "source": [
    "print(f\"Adam optimizer with learning rate = {learning_rate} will be used\")"
   ]
  },
  {
   "cell_type": "code",
   "execution_count": 47,
   "id": "a6019a78-fc95-4620-b7eb-c5328e902cda",
   "metadata": {},
   "outputs": [],
   "source": [
    "# Define gradient descent optimizer-\n",
    "optimizer = torch.optim.Adam(model.parameters(), lr = learning_rate)\n",
    "# optimizer = torch.optim.SGD(model.parameters(), lr = 0.01, momentum = 0.9, weight_decay = 5e-4)"
   ]
  },
  {
   "cell_type": "code",
   "execution_count": null,
   "id": "01fd5e4f-0f20-46f2-8c48-70695f1f55e3",
   "metadata": {},
   "outputs": [],
   "source": []
  },
  {
   "cell_type": "code",
   "execution_count": 48,
   "id": "6ba1c0e2-8c89-4ae2-97c6-9867ca75a7e9",
   "metadata": {},
   "outputs": [],
   "source": [
    "# Define reconstruction loss as MSE-\n",
    "reconstruction_loss_fn = F.mse_loss"
   ]
  },
  {
   "cell_type": "code",
   "execution_count": null,
   "id": "a7a8fe1c-8866-488b-94a0-7d3609b419b3",
   "metadata": {},
   "outputs": [],
   "source": []
  },
  {
   "cell_type": "code",
   "execution_count": null,
   "id": "d74abc2c-b937-42b2-b61b-0bbf273f8e14",
   "metadata": {},
   "outputs": [],
   "source": []
  },
  {
   "cell_type": "code",
   "execution_count": 49,
   "id": "5a8c392f-e6bd-4944-8b36-daff2b6ce92e",
   "metadata": {},
   "outputs": [],
   "source": [
    "def train_one_epoch(model, dataloader):\n",
    "    \n",
    "    # Place model to device-\n",
    "    model.to(device)\n",
    "    \n",
    "    # Enable training mode-\n",
    "    model.train()\n",
    "    \n",
    "    # Initialize variables to reconstruction loss-\n",
    "    running_recon_loss = 0.0\n",
    "    \n",
    "    for i, data in tqdm(\n",
    "        enumerate(dataloader),\n",
    "        total = int(len(train) / dataloader.batch_size)\n",
    "        ):\n",
    "        \n",
    "        # Push data samples to device-\n",
    "        data = data.to(device)\n",
    "        \n",
    "        # Empty accumulated gradients-\n",
    "        optimizer.zero_grad()\n",
    "        \n",
    "        # Get reconstructions-\n",
    "        recon_data = model(data)\n",
    "        \n",
    "        # Compute reconstruction loss-\n",
    "        recon_loss = reconstruction_loss_fn(data, recon_data)\n",
    "        \n",
    "        # Compute gradienst wrt computed loss-\n",
    "        recon_loss.backward()\n",
    "        \n",
    "        # Perform one step of gradient descent-\n",
    "        optimizer.step()\n",
    "        \n",
    "        # Compute total reconstruction loss-\n",
    "        running_recon_loss += recon_loss.cpu().detach().numpy()\n",
    "        \n",
    "    # Compute loss as float value-\n",
    "    recon_loss = running_recon_loss / len(dataloader.dataset)\n",
    "\n",
    "    return recon_loss\n"
   ]
  },
  {
   "cell_type": "code",
   "execution_count": 50,
   "id": "2b2b5d58-61f4-4282-83cc-b99ecf5c5f27",
   "metadata": {},
   "outputs": [],
   "source": [
    "def validate_one_epoch(model, dataloader):\n",
    "    \n",
    "    # Place model to device-\n",
    "    model.to(device)\n",
    "    \n",
    "    # Enable evaluation mode-\n",
    "    model.eval()\n",
    "    \n",
    "    running_recon_loss = 0.0\n",
    "    \n",
    "    with torch.no_grad():\n",
    "        for i, data in tqdm(\n",
    "            enumerate(dataloader),\n",
    "            total = int(len(test) / test_loader.batch_size)):\n",
    "        \n",
    "            # Push data points to 'device'-\n",
    "            data = data.to(device)\n",
    "            \n",
    "            # Forward propagation-\n",
    "            recon_data = model(data)\n",
    "            \n",
    "            # Compute reconstruction loss-\n",
    "            recon_loss = reconstruction_loss_fn(data, recon_data)\n",
    "            \n",
    "            # Compute total reconstruction loss-\n",
    "            running_recon_loss += recon_loss.cpu().detach().numpy()\n",
    "                \n",
    "    val_recon_loss = running_recon_loss / len(dataloader.dataset)\n",
    "    \n",
    "    return val_recon_loss\n"
   ]
  },
  {
   "cell_type": "code",
   "execution_count": null,
   "id": "490b64a1-4ec7-4561-88d8-42b3cce4c737",
   "metadata": {},
   "outputs": [],
   "source": []
  },
  {
   "cell_type": "code",
   "execution_count": 51,
   "id": "1139ca98-3ad7-4c4c-b5ce-051fd24c59f8",
   "metadata": {},
   "outputs": [],
   "source": [
    "# Python dict to contain training metrics-\n",
    "train_history = {}"
   ]
  },
  {
   "cell_type": "code",
   "execution_count": 52,
   "id": "17c43dac-29dc-4540-ac43-5892da0d45e8",
   "metadata": {},
   "outputs": [
    {
     "name": "stdout",
     "output_type": "stream",
     "text": [
      "Training Conv-AE model for 50 epochs\n"
     ]
    }
   ],
   "source": [
    "print(f\"Training Conv-AE model for {num_epochs} epochs\")"
   ]
  },
  {
   "cell_type": "code",
   "execution_count": null,
   "id": "b7cc61ef-1d08-42a9-af9c-e7502970ce9b",
   "metadata": {},
   "outputs": [],
   "source": []
  },
  {
   "cell_type": "code",
   "execution_count": 56,
   "id": "f47fb9d4-fa27-4683-957a-10334326d7a4",
   "metadata": {},
   "outputs": [],
   "source": [
    "# To save 'best' parameters-\n",
    "best_val_loss = 10000"
   ]
  },
  {
   "cell_type": "code",
   "execution_count": 57,
   "id": "1baf8278-b9ec-4ee4-af4f-3ce3c0560877",
   "metadata": {},
   "outputs": [],
   "source": [
    "# User input parameters for Early Stopping in manual implementation-\n",
    "minimum_delta = 10e-5\n",
    "patience = 3\n",
    "loc_patience = 0"
   ]
  },
  {
   "cell_type": "code",
   "execution_count": null,
   "id": "d13755d7-71ac-44b3-8ac5-1752a976bb9f",
   "metadata": {},
   "outputs": [],
   "source": []
  },
  {
   "cell_type": "code",
   "execution_count": 58,
   "id": "00e1b26f-c65e-4d30-bba8-1e0dade8f171",
   "metadata": {},
   "outputs": [
    {
     "name": "stderr",
     "output_type": "stream",
     "text": [
      "235it [00:17, 13.14it/s]                                                                                               \n",
      "40it [00:01, 38.39it/s]                                                                                                \n"
     ]
    },
    {
     "name": "stdout",
     "output_type": "stream",
     "text": [
      "Epoch = 1; train loss = 0.000148 & , val loss = 0.000142\n",
      "Saving model with lowest val_loss = 0.0001\n",
      "\n"
     ]
    },
    {
     "name": "stderr",
     "output_type": "stream",
     "text": [
      "235it [00:17, 13.28it/s]                                                                                               \n",
      "40it [00:01, 38.64it/s]                                                                                                \n"
     ]
    },
    {
     "name": "stdout",
     "output_type": "stream",
     "text": [
      "Epoch = 2; train loss = 0.000135 & , val loss = 0.000133\n",
      "Saving model with lowest val_loss = 0.0001\n",
      "\n"
     ]
    },
    {
     "name": "stderr",
     "output_type": "stream",
     "text": [
      "235it [00:17, 13.52it/s]                                                                                               \n",
      "40it [00:01, 38.86it/s]                                                                                                \n"
     ]
    },
    {
     "name": "stdout",
     "output_type": "stream",
     "text": [
      "Epoch = 3; train loss = 0.000128 & , val loss = 0.000130\n",
      "Saving model with lowest val_loss = 0.0001\n",
      "\n"
     ]
    },
    {
     "name": "stderr",
     "output_type": "stream",
     "text": [
      "235it [00:17, 13.52it/s]                                                                                               \n",
      "40it [00:01, 38.92it/s]                                                                                                \n"
     ]
    },
    {
     "name": "stdout",
     "output_type": "stream",
     "text": [
      "Epoch = 4; train loss = 0.000124 & , val loss = 0.000126\n",
      "Saving model with lowest val_loss = 0.0001\n",
      "\n"
     ]
    },
    {
     "name": "stderr",
     "output_type": "stream",
     "text": [
      "235it [00:17, 13.53it/s]                                                                                               \n",
      "40it [00:01, 38.96it/s]                                                                                                \n"
     ]
    },
    {
     "name": "stdout",
     "output_type": "stream",
     "text": [
      "Epoch = 5; train loss = 0.000121 & , val loss = 0.000124\n",
      "Saving model with lowest val_loss = 0.0001\n",
      "\n"
     ]
    },
    {
     "name": "stderr",
     "output_type": "stream",
     "text": [
      "235it [00:17, 13.52it/s]                                                                                               \n",
      "40it [00:01, 38.96it/s]                                                                                                \n"
     ]
    },
    {
     "name": "stdout",
     "output_type": "stream",
     "text": [
      "Epoch = 6; train loss = 0.000119 & , val loss = 0.000122\n",
      "Saving model with lowest val_loss = 0.0001\n",
      "\n"
     ]
    },
    {
     "name": "stderr",
     "output_type": "stream",
     "text": [
      "235it [00:17, 13.55it/s]                                                                                               \n",
      "40it [00:01, 39.02it/s]                                                                                                \n"
     ]
    },
    {
     "name": "stdout",
     "output_type": "stream",
     "text": [
      "Epoch = 7; train loss = 0.000117 & , val loss = 0.000121\n",
      "Saving model with lowest val_loss = 0.0001\n",
      "\n"
     ]
    },
    {
     "name": "stderr",
     "output_type": "stream",
     "text": [
      "235it [00:17, 13.56it/s]                                                                                               \n",
      "40it [00:01, 39.01it/s]                                                                                                \n"
     ]
    },
    {
     "name": "stdout",
     "output_type": "stream",
     "text": [
      "Epoch = 8; train loss = 0.000116 & , val loss = 0.000119\n",
      "Saving model with lowest val_loss = 0.0001\n",
      "\n"
     ]
    },
    {
     "name": "stderr",
     "output_type": "stream",
     "text": [
      "235it [00:17, 13.56it/s]                                                                                               \n",
      "40it [00:01, 39.02it/s]                                                                                                \n"
     ]
    },
    {
     "name": "stdout",
     "output_type": "stream",
     "text": [
      "Epoch = 9; train loss = 0.000115 & , val loss = 0.000120\n"
     ]
    },
    {
     "name": "stderr",
     "output_type": "stream",
     "text": [
      "235it [00:17, 13.56it/s]                                                                                               \n",
      "40it [00:01, 38.79it/s]                                                                                                \n"
     ]
    },
    {
     "name": "stdout",
     "output_type": "stream",
     "text": [
      "Epoch = 10; train loss = 0.000114 & , val loss = 0.000117\n",
      "Saving model with lowest val_loss = 0.0001\n",
      "\n"
     ]
    },
    {
     "name": "stderr",
     "output_type": "stream",
     "text": [
      "235it [00:17, 13.57it/s]                                                                                               \n",
      "40it [00:01, 39.09it/s]                                                                                                \n"
     ]
    },
    {
     "name": "stdout",
     "output_type": "stream",
     "text": [
      "Epoch = 11; train loss = 0.000113 & , val loss = 0.000119\n"
     ]
    },
    {
     "name": "stderr",
     "output_type": "stream",
     "text": [
      "235it [00:17, 13.57it/s]                                                                                               \n",
      "40it [00:01, 39.05it/s]                                                                                                \n"
     ]
    },
    {
     "name": "stdout",
     "output_type": "stream",
     "text": [
      "Epoch = 12; train loss = 0.000112 & , val loss = 0.000117\n",
      "Saving model with lowest val_loss = 0.0001\n",
      "\n"
     ]
    },
    {
     "name": "stderr",
     "output_type": "stream",
     "text": [
      "235it [00:17, 13.56it/s]                                                                                               \n",
      "40it [00:01, 39.09it/s]                                                                                                \n"
     ]
    },
    {
     "name": "stdout",
     "output_type": "stream",
     "text": [
      "Epoch = 13; train loss = 0.000111 & , val loss = 0.000116\n",
      "Saving model with lowest val_loss = 0.0001\n",
      "\n"
     ]
    },
    {
     "name": "stderr",
     "output_type": "stream",
     "text": [
      "235it [00:17, 13.57it/s]                                                                                               \n",
      "40it [00:01, 39.09it/s]                                                                                                \n"
     ]
    },
    {
     "name": "stdout",
     "output_type": "stream",
     "text": [
      "Epoch = 14; train loss = 0.000111 & , val loss = 0.000115\n",
      "Saving model with lowest val_loss = 0.0001\n",
      "\n"
     ]
    },
    {
     "name": "stderr",
     "output_type": "stream",
     "text": [
      "235it [00:17, 13.57it/s]                                                                                               \n",
      "40it [00:01, 38.91it/s]                                                                                                \n"
     ]
    },
    {
     "name": "stdout",
     "output_type": "stream",
     "text": [
      "Epoch = 15; train loss = 0.000110 & , val loss = 0.000115\n",
      "Saving model with lowest val_loss = 0.0001\n",
      "\n"
     ]
    },
    {
     "name": "stderr",
     "output_type": "stream",
     "text": [
      "235it [00:17, 13.57it/s]                                                                                               \n",
      "40it [00:01, 39.02it/s]                                                                                                \n"
     ]
    },
    {
     "name": "stdout",
     "output_type": "stream",
     "text": [
      "Epoch = 16; train loss = 0.000110 & , val loss = 0.000114\n",
      "Saving model with lowest val_loss = 0.0001\n",
      "\n"
     ]
    },
    {
     "name": "stderr",
     "output_type": "stream",
     "text": [
      "235it [00:17, 13.57it/s]                                                                                               \n",
      "40it [00:01, 39.06it/s]                                                                                                \n"
     ]
    },
    {
     "name": "stdout",
     "output_type": "stream",
     "text": [
      "Epoch = 17; train loss = 0.000109 & , val loss = 0.000114\n"
     ]
    },
    {
     "name": "stderr",
     "output_type": "stream",
     "text": [
      "235it [00:17, 13.57it/s]                                                                                               \n",
      "40it [00:01, 38.98it/s]                                                                                                \n"
     ]
    },
    {
     "name": "stdout",
     "output_type": "stream",
     "text": [
      "Epoch = 18; train loss = 0.000109 & , val loss = 0.000114\n",
      "Saving model with lowest val_loss = 0.0001\n",
      "\n"
     ]
    },
    {
     "name": "stderr",
     "output_type": "stream",
     "text": [
      "235it [00:17, 13.57it/s]                                                                                               \n",
      "40it [00:01, 39.00it/s]                                                                                                \n"
     ]
    },
    {
     "name": "stdout",
     "output_type": "stream",
     "text": [
      "Epoch = 19; train loss = 0.000108 & , val loss = 0.000114\n"
     ]
    },
    {
     "name": "stderr",
     "output_type": "stream",
     "text": [
      "235it [00:17, 13.57it/s]                                                                                               \n",
      "40it [00:01, 39.07it/s]                                                                                                \n"
     ]
    },
    {
     "name": "stdout",
     "output_type": "stream",
     "text": [
      "Epoch = 20; train loss = 0.000108 & , val loss = 0.000115\n"
     ]
    },
    {
     "name": "stderr",
     "output_type": "stream",
     "text": [
      "235it [00:17, 13.57it/s]                                                                                               \n",
      "40it [00:01, 39.11it/s]                                                                                                \n"
     ]
    },
    {
     "name": "stdout",
     "output_type": "stream",
     "text": [
      "Epoch = 21; train loss = 0.000108 & , val loss = 0.000114\n",
      "Saving model with lowest val_loss = 0.0001\n",
      "\n"
     ]
    },
    {
     "name": "stderr",
     "output_type": "stream",
     "text": [
      "235it [00:17, 13.57it/s]                                                                                               \n",
      "40it [00:01, 39.13it/s]                                                                                                \n"
     ]
    },
    {
     "name": "stdout",
     "output_type": "stream",
     "text": [
      "Epoch = 22; train loss = 0.000107 & , val loss = 0.000114\n",
      "Saving model with lowest val_loss = 0.0001\n",
      "\n"
     ]
    },
    {
     "name": "stderr",
     "output_type": "stream",
     "text": [
      "235it [00:17, 13.57it/s]                                                                                               \n",
      "40it [00:01, 39.09it/s]                                                                                                \n"
     ]
    },
    {
     "name": "stdout",
     "output_type": "stream",
     "text": [
      "Epoch = 23; train loss = 0.000106 & , val loss = 0.000113\n",
      "Saving model with lowest val_loss = 0.0001\n",
      "\n"
     ]
    },
    {
     "name": "stderr",
     "output_type": "stream",
     "text": [
      "235it [00:17, 13.57it/s]                                                                                               \n",
      "40it [00:01, 39.09it/s]                                                                                                \n"
     ]
    },
    {
     "name": "stdout",
     "output_type": "stream",
     "text": [
      "Epoch = 24; train loss = 0.000106 & , val loss = 0.000113\n",
      "Saving model with lowest val_loss = 0.0001\n",
      "\n"
     ]
    },
    {
     "name": "stderr",
     "output_type": "stream",
     "text": [
      "235it [00:17, 13.58it/s]                                                                                               \n",
      "40it [00:01, 39.07it/s]                                                                                                \n"
     ]
    },
    {
     "name": "stdout",
     "output_type": "stream",
     "text": [
      "Epoch = 25; train loss = 0.000105 & , val loss = 0.000112\n",
      "Saving model with lowest val_loss = 0.0001\n",
      "\n"
     ]
    },
    {
     "name": "stderr",
     "output_type": "stream",
     "text": [
      "235it [00:17, 13.57it/s]                                                                                               \n",
      "40it [00:01, 39.21it/s]                                                                                                \n"
     ]
    },
    {
     "name": "stdout",
     "output_type": "stream",
     "text": [
      "Epoch = 26; train loss = 0.000105 & , val loss = 0.000114\n"
     ]
    },
    {
     "name": "stderr",
     "output_type": "stream",
     "text": [
      "235it [00:17, 13.57it/s]                                                                                               \n",
      "40it [00:01, 39.02it/s]                                                                                                \n"
     ]
    },
    {
     "name": "stdout",
     "output_type": "stream",
     "text": [
      "Epoch = 27; train loss = 0.000105 & , val loss = 0.000112\n"
     ]
    },
    {
     "name": "stderr",
     "output_type": "stream",
     "text": [
      "235it [00:17, 13.59it/s]                                                                                               \n",
      "40it [00:01, 39.09it/s]                                                                                                \n"
     ]
    },
    {
     "name": "stdout",
     "output_type": "stream",
     "text": [
      "Epoch = 28; train loss = 0.000105 & , val loss = 0.000111\n",
      "Saving model with lowest val_loss = 0.0001\n",
      "\n"
     ]
    },
    {
     "name": "stderr",
     "output_type": "stream",
     "text": [
      "235it [00:17, 13.59it/s]                                                                                               \n",
      "40it [00:01, 39.05it/s]                                                                                                \n"
     ]
    },
    {
     "name": "stdout",
     "output_type": "stream",
     "text": [
      "Epoch = 29; train loss = 0.000104 & , val loss = 0.000111\n",
      "Saving model with lowest val_loss = 0.0001\n",
      "\n"
     ]
    },
    {
     "name": "stderr",
     "output_type": "stream",
     "text": [
      "235it [00:17, 13.58it/s]                                                                                               \n",
      "40it [00:01, 39.09it/s]                                                                                                \n"
     ]
    },
    {
     "name": "stdout",
     "output_type": "stream",
     "text": [
      "Epoch = 30; train loss = 0.000104 & , val loss = 0.000112\n"
     ]
    },
    {
     "name": "stderr",
     "output_type": "stream",
     "text": [
      "235it [00:17, 13.59it/s]                                                                                               \n",
      "40it [00:01, 39.05it/s]                                                                                                \n"
     ]
    },
    {
     "name": "stdout",
     "output_type": "stream",
     "text": [
      "Epoch = 31; train loss = 0.000104 & , val loss = 0.000111\n"
     ]
    },
    {
     "name": "stderr",
     "output_type": "stream",
     "text": [
      "235it [00:17, 13.58it/s]                                                                                               \n",
      "40it [00:01, 39.04it/s]                                                                                                \n"
     ]
    },
    {
     "name": "stdout",
     "output_type": "stream",
     "text": [
      "Epoch = 32; train loss = 0.000104 & , val loss = 0.000111\n",
      "Saving model with lowest val_loss = 0.0001\n",
      "\n"
     ]
    },
    {
     "name": "stderr",
     "output_type": "stream",
     "text": [
      "235it [00:17, 13.59it/s]                                                                                               \n",
      "40it [00:01, 39.09it/s]                                                                                                \n"
     ]
    },
    {
     "name": "stdout",
     "output_type": "stream",
     "text": [
      "Epoch = 33; train loss = 0.000103 & , val loss = 0.000111\n"
     ]
    },
    {
     "name": "stderr",
     "output_type": "stream",
     "text": [
      "235it [00:17, 13.58it/s]                                                                                               \n",
      "40it [00:01, 39.04it/s]                                                                                                \n"
     ]
    },
    {
     "name": "stdout",
     "output_type": "stream",
     "text": [
      "Epoch = 34; train loss = 0.000103 & , val loss = 0.000111\n",
      "Saving model with lowest val_loss = 0.0001\n",
      "\n"
     ]
    },
    {
     "name": "stderr",
     "output_type": "stream",
     "text": [
      "235it [00:17, 13.58it/s]                                                                                               \n",
      "40it [00:01, 39.01it/s]                                                                                                \n"
     ]
    },
    {
     "name": "stdout",
     "output_type": "stream",
     "text": [
      "Epoch = 35; train loss = 0.000103 & , val loss = 0.000110\n",
      "Saving model with lowest val_loss = 0.0001\n",
      "\n"
     ]
    },
    {
     "name": "stderr",
     "output_type": "stream",
     "text": [
      "235it [00:17, 13.58it/s]                                                                                               \n",
      "40it [00:01, 38.92it/s]                                                                                                \n"
     ]
    },
    {
     "name": "stdout",
     "output_type": "stream",
     "text": [
      "Epoch = 36; train loss = 0.000103 & , val loss = 0.000113\n"
     ]
    },
    {
     "name": "stderr",
     "output_type": "stream",
     "text": [
      "235it [00:17, 13.58it/s]                                                                                               \n",
      "40it [00:01, 39.09it/s]                                                                                                \n"
     ]
    },
    {
     "name": "stdout",
     "output_type": "stream",
     "text": [
      "Epoch = 37; train loss = 0.000103 & , val loss = 0.000111\n"
     ]
    },
    {
     "name": "stderr",
     "output_type": "stream",
     "text": [
      "235it [00:17, 13.59it/s]                                                                                               \n",
      "40it [00:01, 39.05it/s]                                                                                                "
     ]
    },
    {
     "name": "stdout",
     "output_type": "stream",
     "text": [
      "Epoch = 38; train loss = 0.000102 & , val loss = 0.000113\n",
      "\n",
      "'EarlyStopping' called!\n",
      "\n"
     ]
    },
    {
     "name": "stderr",
     "output_type": "stream",
     "text": [
      "\n"
     ]
    }
   ],
   "source": [
    "for epoch in range(1, num_epochs + 1):\n",
    "    # Manual early stopping implementation-\n",
    "    if loc_patience >= patience:\n",
    "        print(\"\\n'EarlyStopping' called!\\n\")\n",
    "        break\n",
    "    \n",
    "    # Train model for 1 epoch-\n",
    "    train_loss = train_one_epoch(model = model, dataloader = train_loader)\n",
    "    \n",
    "    # Get validation after 1 epoch-\n",
    "    val_loss = validate_one_epoch(model = model, dataloader = test_loader)\n",
    "    \n",
    "    # Store model performance metrics in Python3 dict-\n",
    "    train_history[epoch] = {\n",
    "        'train_loss': train_loss, 'val_loss': val_loss\n",
    "    }\n",
    "    \n",
    "    print(f\"Epoch = {epoch}; train loss = {train_loss:.6f} &\",\n",
    "          f\", val loss = {val_loss:.6f}\"\n",
    "         )\n",
    "    \n",
    "    \n",
    "    # Save 'best' parameters-\n",
    "    if (val_loss < best_val_loss):\n",
    "\n",
    "        # update 'best_val_loss' variable to lowest loss encountered so far-\n",
    "        best_val_loss = val_loss\n",
    "        \n",
    "        # reset 'loc_patience' variable-\n",
    "        loc_patience = 0\n",
    "        \n",
    "        print(f\"Saving model with lowest val_loss = {val_loss:.4f}\\n\")\n",
    "        \n",
    "        # Save trained model with 'best' validation accuracy-\n",
    "        torch.save(model.state_dict(), \"Conv_AE_MNIST_best_model.pth\")\n",
    "    else:  # there is no improvement in monitored metric 'val_loss'\n",
    "        loc_patience += 1  # number of epochs without any improvement\n",
    "        "
   ]
  },
  {
   "cell_type": "code",
   "execution_count": null,
   "id": "b9c291ba-3774-4721-8c78-70ebf71e1c9f",
   "metadata": {},
   "outputs": [],
   "source": []
  },
  {
   "cell_type": "code",
   "execution_count": 59,
   "id": "7bff5eab-1ee1-4d0d-b51a-3489bb6aaf37",
   "metadata": {},
   "outputs": [],
   "source": [
    "import pickle\n",
    "\n",
    "# Save training history as pickle file-\n",
    "with open(\"Conv_AE_MNIST_training_history.pkl\", \"wb\") as file:\n",
    "    pickle.dump(train_history, file)"
   ]
  },
  {
   "cell_type": "code",
   "execution_count": null,
   "id": "d5cb762e-01c1-4692-a9db-16fdc3d8bfd8",
   "metadata": {},
   "outputs": [],
   "source": []
  },
  {
   "cell_type": "code",
   "execution_count": 73,
   "id": "0530f0a8-b9ae-4482-a7b8-7fcb9067cd57",
   "metadata": {},
   "outputs": [
    {
     "data": {
      "image/png": "[encoded data removed]",
      "text/plain": [
       "<Figure size 700x600 with 1 Axes>"
      ]
     },
     "metadata": {},
     "output_type": "display_data"
    }
   ],
   "source": [
    "plt.figure(figsize = (7, 6))\n",
    "plt.plot([train_history[e]['train_loss'] for e in train_history.keys()], label = 'loss')\n",
    "plt.plot([train_history[e]['val_loss'] for e in train_history.keys()], label = 'val loss')\n",
    "plt.xlabel(\"epochs\")\n",
    "plt.ylabel(\"loss\")\n",
    "plt.title(\"Conv-Autoencoder training visualization\")\n",
    "plt.legend(loc = 'best')\n",
    "plt.show()"
   ]
  },
  {
   "cell_type": "code",
   "execution_count": null,
   "id": "d4a6ed50-3a69-4a29-9c4a-74a4acb6e902",
   "metadata": {},
   "outputs": [],
   "source": []
  },
  {
   "cell_type": "code",
   "execution_count": null,
   "id": "1e685b0d-8363-4016-8c56-7b27e2c1596a",
   "metadata": {},
   "outputs": [],
   "source": []
  },
  {
   "cell_type": "code",
   "execution_count": 60,
   "id": "3d5beec4-8cee-4f85-ac18-b095c6a61475",
   "metadata": {},
   "outputs": [
    {
     "data": {
      "text/plain": [
       "<All keys matched successfully>"
      ]
     },
     "execution_count": 60,
     "metadata": {},
     "output_type": "execute_result"
    }
   ],
   "source": [
    "# Load trained weights from before-\n",
    "trained_model = Conv_Autoencoder(latent_space = 3).to(device)\n",
    "trained_model.load_state_dict(torch.load('Conv_AE_MNIST_best_model.pth'))\n",
    "# trained_model.load_state_dict(torch.load('Conv_AE_MNIST_best_model.pth', map_location = torch.device('cpu')))"
   ]
  },
  {
   "cell_type": "code",
   "execution_count": 61,
   "id": "9b61a481-8be2-4ad3-ad4d-b79ca731213b",
   "metadata": {},
   "outputs": [],
   "source": [
    "# Sanity check-\n",
    "images = next(iter(test_loader)).to(device)"
   ]
  },
  {
   "cell_type": "code",
   "execution_count": 62,
   "id": "ac87ecfe-e935-4bf5-abe5-7885c6b2e56a",
   "metadata": {},
   "outputs": [],
   "source": [
    "# Get reconstructions-\n",
    "output = trained_model(images)"
   ]
  },
  {
   "cell_type": "code",
   "execution_count": 63,
   "id": "689c4b55-2691-4468-8076-2621b16e68d1",
   "metadata": {},
   "outputs": [
    {
     "data": {
      "text/plain": [
       "(torch.Size([256, 1, 28, 28]), torch.Size([256, 1, 28, 28]))"
      ]
     },
     "execution_count": 63,
     "metadata": {},
     "output_type": "execute_result"
    }
   ],
   "source": [
    "# Sanity check-\n",
    "output.shape, images.shape"
   ]
  },
  {
   "cell_type": "code",
   "execution_count": 64,
   "id": "cd2658df-a260-4e8a-95c3-3f60039a349f",
   "metadata": {},
   "outputs": [
    {
     "data": {
      "text/plain": [
       "(tensor(0., device='cuda:0', grad_fn=<MinBackward1>),\n",
       " tensor(0.9977, device='cuda:0', grad_fn=<MaxBackward1>))"
      ]
     },
     "execution_count": 64,
     "metadata": {},
     "output_type": "execute_result"
    }
   ],
   "source": [
    "output.min(), output.max()"
   ]
  },
  {
   "cell_type": "code",
   "execution_count": 65,
   "id": "377ca91d-09fa-4677-9025-be333519e8e7",
   "metadata": {},
   "outputs": [
    {
     "data": {
      "text/plain": [
       "(tensor(0., device='cuda:0', grad_fn=<MinBackward1>),\n",
       " tensor(254.4247, device='cuda:0', grad_fn=<MaxBackward1>))"
      ]
     },
     "execution_count": 65,
     "metadata": {},
     "output_type": "execute_result"
    }
   ],
   "source": [
    "# De-normalize the batch of images-\n",
    "output *= 255.0\n",
    "\n",
    "output.min(), output.max()"
   ]
  },
  {
   "cell_type": "code",
   "execution_count": 66,
   "id": "fd0829f7-5b37-4fbb-80bf-a569a751ff47",
   "metadata": {},
   "outputs": [],
   "source": [
    "# Reshape images for visualization-\n",
    "output = output.view(-1, 1, 28, 28)"
   ]
  },
  {
   "cell_type": "code",
   "execution_count": 67,
   "id": "2e48cb49-fca1-4445-8b7c-b1fb32f213ff",
   "metadata": {},
   "outputs": [],
   "source": [
    "output = output.cpu().detach().numpy()"
   ]
  },
  {
   "cell_type": "code",
   "execution_count": 100,
   "id": "94f0c92d-2550-464b-9ef5-c53d751e36be",
   "metadata": {},
   "outputs": [
    {
     "data": {
      "image/png": "[encoded data removed]",
      "text/plain": [
       "<Figure size 600x500 with 50 Axes>"
      ]
     },
     "metadata": {},
     "output_type": "display_data"
    }
   ],
   "source": [
    "# Visualize 50 images from training set-\n",
    "plt.figure(figsize = (6, 5))\n",
    "for i in range(50):\n",
    "    # 5 rows & 10 columns-\n",
    "    plt.subplot(5, 10, i + 1)\n",
    "    # plt.imshow(images[i], cmap = 'gray')\n",
    "    # 0 to access first channel-\n",
    "    plt.imshow(output[i][0], cmap = 'gray')\n",
    "    \n",
    "plt.suptitle(\"Reconstructed MNIST training images\")\n",
    "plt.show()"
   ]
  },
  {
   "cell_type": "code",
   "execution_count": 101,
   "id": "354492dc-1ed8-4e09-992c-b8cefc9337c3",
   "metadata": {},
   "outputs": [
    {
     "data": {
      "image/png": "[encoded data removed]",
      "text/plain": [
       "<Figure size 600x500 with 50 Axes>"
      ]
     },
     "metadata": {},
     "output_type": "display_data"
    }
   ],
   "source": [
    "# Visualize 50 images from training set-\n",
    "plt.figure(figsize = (6, 5))\n",
    "for i in range(50):\n",
    "    # 5 rows & 10 columns-\n",
    "    plt.subplot(5, 10, i + 1)\n",
    "    plt.imshow(output[150 + i][0], cmap = 'gray')\n",
    "    \n",
    "plt.suptitle(\"Reconstructed MNIST training images\")\n",
    "plt.show()"
   ]
  },
  {
   "cell_type": "code",
   "execution_count": null,
   "id": "dd34f6d3-6b8b-48d9-a023-55ddde1b08aa",
   "metadata": {},
   "outputs": [],
   "source": []
  },
  {
   "cell_type": "code",
   "execution_count": 94,
   "id": "26e1b7af-7709-41ba-b7ad-a527cb4b59ba",
   "metadata": {},
   "outputs": [],
   "source": [
    "# Python list to contain encoded vectors-\n",
    "val_images_enc = []"
   ]
  },
  {
   "cell_type": "code",
   "execution_count": 95,
   "id": "93071bff-fcd6-47df-bb86-e3840adfaf79",
   "metadata": {},
   "outputs": [],
   "source": [
    "# Get encoded representations-\n",
    "for images in test_loader:\n",
    "    images = images.to(device)\n",
    "    images_enc = trained_model.encoder(images)\n",
    "    images_enc = images_enc.detach().cpu().numpy()\n",
    "    images_enc = images_enc.reshape(-1, 3)\n",
    "    val_images_enc.append(images_enc)"
   ]
  },
  {
   "cell_type": "code",
   "execution_count": 96,
   "id": "4eeea4a0-90bf-4e5a-883b-19bae300b997",
   "metadata": {},
   "outputs": [],
   "source": [
    "val_images_enc = np.vstack(val_images_enc)"
   ]
  },
  {
   "cell_type": "code",
   "execution_count": 97,
   "id": "763888c2-3c1f-4d5c-a1d1-41c9cf5cd754",
   "metadata": {},
   "outputs": [
    {
     "data": {
      "text/plain": [
       "(10000, 3)"
      ]
     },
     "execution_count": 97,
     "metadata": {},
     "output_type": "execute_result"
    }
   ],
   "source": [
    "val_images_enc.shape"
   ]
  },
  {
   "cell_type": "code",
   "execution_count": null,
   "id": "5d3e3544-3ec7-4a0c-959c-cfa27a2bcf6c",
   "metadata": {},
   "outputs": [],
   "source": [
    "# Visualize latent space for encoded data-\n",
    "fig = px.scatter_3d(\n",
    "    x = val_images_enc[:, 0], y = val_images_enc[:, 1],\n",
    "    z = val_images_enc[:, 2],\n",
    "    # color = y_train\n",
    "    )\n",
    "fig.show()"
   ]
  },
  {
   "cell_type": "code",
   "execution_count": null,
   "id": "ce36b364-6542-4085-92d3-c9cbc52565ac",
   "metadata": {},
   "outputs": [],
   "source": []
  },
  {
   "cell_type": "code",
   "execution_count": 104,
   "id": "8cb66c59-f324-4534-9ddf-2b0276915f22",
   "metadata": {},
   "outputs": [],
   "source": [
    "z = torch.randn(10000, 3).cpu().detach().numpy()"
   ]
  },
  {
   "cell_type": "code",
   "execution_count": 105,
   "id": "746f0565-536b-4865-82e5-7fe0e826fd74",
   "metadata": {},
   "outputs": [
    {
     "data": {
      "text/plain": [
       "((10000, 3), (10000, 3))"
      ]
     },
     "execution_count": 105,
     "metadata": {},
     "output_type": "execute_result"
    }
   ],
   "source": [
    "z.shape, val_images_enc.shape"
   ]
  },
  {
   "cell_type": "code",
   "execution_count": null,
   "id": "239ab5ee-5d14-4c11-9043-9fb0ebe28787",
   "metadata": {},
   "outputs": [],
   "source": []
  },
  {
   "cell_type": "code",
   "execution_count": 116,
   "id": "f7744276-37fc-45a4-b91a-974e38192eb9",
   "metadata": {},
   "outputs": [
    {
     "data": {
      "image/png": "[encoded data removed]",
      "text/plain": [
       "<Figure size 600x500 with 1 Axes>"
      ]
     },
     "metadata": {},
     "output_type": "display_data"
    }
   ],
   "source": [
    "plt.figure(figsize = (6, 5))\n",
    "n, b, _ = plt.hist(val_images_enc.flatten(), bins = int(np.ceil(np.sqrt(val_images_enc.size))))\n",
    "plt.title(\"Encoded vectors distribution\")\n",
    "plt.show()"
   ]
  },
  {
   "cell_type": "code",
   "execution_count": 117,
   "id": "80027c58-9f53-4b07-b84d-6e630c5b96a2",
   "metadata": {},
   "outputs": [
    {
     "data": {
      "image/png": "[encoded data removed]",
      "text/plain": [
       "<Figure size 600x500 with 1 Axes>"
      ]
     },
     "metadata": {},
     "output_type": "display_data"
    }
   ],
   "source": [
    "plt.figure(figsize = (6, 5))\n",
    "n, b, _ = plt.hist(z.flatten(), bins = int(np.ceil(np.sqrt(z.size))))\n",
    "plt.title(\"Gaussian distribution\")\n",
    "plt.show()"
   ]
  },
  {
   "cell_type": "code",
   "execution_count": null,
   "id": "c5a718d1-c60e-458e-9f76-8783b68f714e",
   "metadata": {},
   "outputs": [],
   "source": []
  },
  {
   "cell_type": "code",
   "execution_count": null,
   "id": "9f9c587f-f620-4fc5-bbc2-cc8a0cbc1115",
   "metadata": {},
   "outputs": [],
   "source": []
  }
 ],
 "metadata": {
  "kernelspec": {
   "display_name": "Python 3 (ipykernel)",
   "language": "python",
   "name": "python3"
  },
  "language_info": {
   "codemirror_mode": {
    "name": "ipython",
    "version": 3
   },
   "file_extension": ".py",
   "mimetype": "text/x-python",
   "name": "python",
   "nbconvert_exporter": "python",
   "pygments_lexer": "ipython3",
   "version": "3.10.4"
  }
 },
 "nbformat": 4,
 "nbformat_minor": 5
}
