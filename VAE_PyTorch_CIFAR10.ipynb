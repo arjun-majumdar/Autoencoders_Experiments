{
  "cells": [
    {
      "cell_type": "markdown",
      "id": "8af2c1b5-edfa-484f-b4af-da608dbdc608",
      "metadata": {
        "id": "8af2c1b5-edfa-484f-b4af-da608dbdc608"
      },
      "source": [
        "# Variational Autoencoder: PyTorch and CIFAR-10"
      ]
    },
    {
      "cell_type": "code",
      "execution_count": null,
      "id": "f00c8a07-22a4-4b9d-8fe4-d639ff5af408",
      "metadata": {
        "id": "f00c8a07-22a4-4b9d-8fe4-d639ff5af408"
      },
      "outputs": [],
      "source": [
        "import torch\n",
        "import torch.nn as nn\n",
        "import torch.nn.functional as F\n",
        "import torchvision\n",
        "import torchvision.transforms as transforms\n",
        "\n",
        "from tqdm import tqdm\n",
        "from tqdm import trange\n",
        "import matplotlib.pyplot as plt\n",
        "import seaborn as sns\n",
        "import numpy as np"
      ]
    },
    {
      "cell_type": "code",
      "execution_count": null,
      "id": "dd46203c-313e-45ca-b3ca-84f684a8b738",
      "metadata": {
        "id": "dd46203c-313e-45ca-b3ca-84f684a8b738"
      },
      "outputs": [],
      "source": [
        ""
      ]
    },
    {
      "cell_type": "code",
      "execution_count": null,
      "id": "18e21536-7fe0-4039-8dc9-8adf0c55cb37",
      "metadata": {
        "colab": {
          "base_uri": "https://localhost:8080/"
        },
        "id": "18e21536-7fe0-4039-8dc9-8adf0c55cb37",
        "outputId": "3f3a46e4-fb10-492c-c678-07c3f0f1d543"
      },
      "outputs": [
        {
          "output_type": "stream",
          "name": "stdout",
          "text": [
            "torch version: 1.10.0+cu111\n"
          ]
        }
      ],
      "source": [
        "print(f\"torch version: {torch.__version__}\")"
      ]
    },
    {
      "cell_type": "code",
      "execution_count": null,
      "id": "e30dfd56-16b3-4b9c-91a4-2b427aeba608",
      "metadata": {
        "id": "e30dfd56-16b3-4b9c-91a4-2b427aeba608"
      },
      "outputs": [],
      "source": [
        ""
      ]
    },
    {
      "cell_type": "code",
      "execution_count": null,
      "id": "9799277f-fe49-492d-ac9b-54da0b939360",
      "metadata": {
        "colab": {
          "base_uri": "https://localhost:8080/"
        },
        "id": "9799277f-fe49-492d-ac9b-54da0b939360",
        "outputId": "feebf7f2-3cf4-4b82-dd21-266d1b188450"
      },
      "outputs": [
        {
          "output_type": "stream",
          "name": "stdout",
          "text": [
            "Number of GPU(s) available = 1\n",
            "Current GPU: 0\n",
            "Current GPU name: Tesla K80\n"
          ]
        }
      ],
      "source": [
        "# Check if there are multiple devices (i.e., GPU cards)-\n",
        "print(f\"Number of GPU(s) available = {torch.cuda.device_count()}\")\n",
        "\n",
        "# Which GPU Is The Current GPU?\n",
        "# print(f\"current GPU: {torch.cuda.current_device()}\")\n",
        "\n",
        "# Get the name of the current GPU-\n",
        "# print(f\"Current GPU name: {torch.cuda.get_device_name(torch.cuda.current_device())}\")\n",
        "\n",
        "# Is PyTorch using a GPU?\n",
        "# print(f\"Is PyTorch using a GPU? {torch.cuda.is_available()}\")\n",
        "\n",
        "if torch.cuda.is_available():\n",
        "    print(f\"Current GPU: {torch.cuda.current_device()}\")\n",
        "    print(f\"Current GPU name: {torch.cuda.get_device_name(torch.cuda.current_device())}\")\n",
        "else:\n",
        "    print(\"PyTorch does not have access to GPU\")"
      ]
    },
    {
      "cell_type": "code",
      "execution_count": null,
      "id": "a258671c-447d-4007-bc5e-a1129a6aeec2",
      "metadata": {
        "colab": {
          "base_uri": "https://localhost:8080/"
        },
        "id": "a258671c-447d-4007-bc5e-a1129a6aeec2",
        "outputId": "7ba37993-63f4-409d-c6d9-347e46aa0858"
      },
      "outputs": [
        {
          "output_type": "stream",
          "name": "stdout",
          "text": [
            "Available device is cuda\n"
          ]
        }
      ],
      "source": [
        "# Device configuration-\n",
        "device = torch.device('cuda' if torch.cuda.is_available() else 'cpu')\n",
        "print(f'Available device is {device}')"
      ]
    },
    {
      "cell_type": "code",
      "execution_count": null,
      "id": "5c66c4ba-8858-46dd-8ce1-b896a07b045c",
      "metadata": {
        "id": "5c66c4ba-8858-46dd-8ce1-b896a07b045c"
      },
      "outputs": [],
      "source": [
        ""
      ]
    },
    {
      "cell_type": "code",
      "execution_count": null,
      "id": "5240ccb6-f84e-44a1-9224-09da6456241f",
      "metadata": {
        "id": "5240ccb6-f84e-44a1-9224-09da6456241f"
      },
      "outputs": [],
      "source": [
        ""
      ]
    },
    {
      "cell_type": "code",
      "execution_count": null,
      "id": "bc52052e-3948-4899-b58c-68416a209c65",
      "metadata": {
        "id": "bc52052e-3948-4899-b58c-68416a209c65"
      },
      "outputs": [],
      "source": [
        "# Hyper-parameters-\n",
        "num_epochs = 50\n",
        "batch_size = 32\n",
        "learning_rate = 0.001"
      ]
    },
    {
      "cell_type": "code",
      "execution_count": null,
      "id": "7094333c-06dd-4709-a8e6-90ea674c7d75",
      "metadata": {
        "id": "7094333c-06dd-4709-a8e6-90ea674c7d75"
      },
      "outputs": [],
      "source": [
        ""
      ]
    },
    {
      "cell_type": "code",
      "execution_count": null,
      "id": "39e17972-b637-44dd-b9ca-f564bed570c7",
      "metadata": {
        "id": "39e17972-b637-44dd-b9ca-f564bed570c7"
      },
      "outputs": [],
      "source": [
        ""
      ]
    },
    {
      "cell_type": "markdown",
      "id": "b81592db-a763-4028-a9bd-d9c2dbdc49d7",
      "metadata": {
        "id": "b81592db-a763-4028-a9bd-d9c2dbdc49d7"
      },
      "source": [
        "### CIFAR-10 data pre-processing:"
      ]
    },
    {
      "cell_type": "code",
      "execution_count": null,
      "id": "7d95b76a-3dc1-438b-a9fe-ee5c4dc6b578",
      "metadata": {
        "id": "7d95b76a-3dc1-438b-a9fe-ee5c4dc6b578"
      },
      "outputs": [],
      "source": [
        "\"\"\"\n",
        "# Dataset has PILImage images of range [0, 1]. We transform them to Tensors\n",
        "# of normalized range [-1, 1]\n",
        "transform = transforms.Compose(\n",
        "        [\n",
        "            transforms.ToTensor(),\n",
        "            transforms.Normalize((0.5, 0.5, 0.5), (0.5, 0.5, 0.5))\n",
        "            ]\n",
        "        )\n",
        "\"\"\"\n",
        "\n",
        "# Define transformations for CIFAR-10 training & test sets-\n",
        "transform_train = transforms.Compose(\n",
        "    [\n",
        "      transforms.RandomCrop(32, padding = 4),\n",
        "      transforms.RandomHorizontalFlip(),\n",
        "      transforms.ToTensor(),\n",
        "      # transforms.Normalize((0.4914, 0.4822, 0.4465), (0.2023, 0.1994, 0.2010))\n",
        "      transforms.Normalize((0.5, 0.5, 0.5), (0.5, 0.5, 0.5))\n",
        "     ]\n",
        "     )\n",
        "\n",
        "transform_test = transforms.Compose(\n",
        "    [\n",
        "      transforms.ToTensor(),\n",
        "      # transforms.Normalize((0.4914, 0.4822, 0.4465), (0.2023, 0.1994, 0.2010))\n",
        "      transforms.Normalize((0.5, 0.5, 0.5), (0.5, 0.5, 0.5))\n",
        "     ]\n",
        "     )"
      ]
    },
    {
      "cell_type": "code",
      "execution_count": null,
      "id": "01f4a0a2-bb6b-464c-a3b1-5e153f972e16",
      "metadata": {
        "id": "01f4a0a2-bb6b-464c-a3b1-5e153f972e16"
      },
      "outputs": [],
      "source": [
        "path_to_data = \"C:\\\\Users\\\\Arjun\\\\Desktop\\\\VAE_resources\\\\\"\n",
        "# path_to_data = \"C:\\\\Users\\\\arjun\\Downloads\\\\\""
      ]
    },
    {
      "cell_type": "code",
      "execution_count": null,
      "id": "47afabcf-eb57-44d5-aace-571cd32633a9",
      "metadata": {
        "id": "47afabcf-eb57-44d5-aace-571cd32633a9",
        "colab": {
          "base_uri": "https://localhost:8080/",
          "height": 105,
          "referenced_widgets": [
            "ea0558f4cc7d486e830a4adb1acc6406",
            "9ae27e43a3c5461aaf22e3a5e8175fdc",
            "bd98ca655ce94231b30611563503c64f",
            "f51dacd12d394615b3c8cbdd36f728f7",
            "aa1b332fb3cd4ceca6fd44218da50ce5",
            "1898ce5ce7a74e9caf1def82c05e706b",
            "12b9819008e4404691ea9a43c982a63d",
            "6d77bb12d11e422992108fcfa1715164",
            "74bd0e25b2a84052a1facbc18ca3ef45",
            "9844a7e49bd7434f846f7d2db3d15c04",
            "05a3d5fa93134db49f437a50b80cb823"
          ]
        },
        "outputId": "23ad9608-da9b-4ddd-b8c5-4b31d1050767"
      },
      "outputs": [
        {
          "output_type": "stream",
          "name": "stdout",
          "text": [
            "Downloading https://www.cs.toronto.edu/~kriz/cifar-10-python.tar.gz to ./data/cifar-10-python.tar.gz\n"
          ]
        },
        {
          "output_type": "display_data",
          "data": {
            "application/vnd.jupyter.widget-view+json": {
              "model_id": "ea0558f4cc7d486e830a4adb1acc6406",
              "version_minor": 0,
              "version_major": 2
            },
            "text/plain": [
              "  0%|          | 0/170498071 [00:00<?, ?it/s]"
            ]
          },
          "metadata": {}
        },
        {
          "output_type": "stream",
          "name": "stdout",
          "text": [
            "Extracting ./data/cifar-10-python.tar.gz to ./data\n",
            "Files already downloaded and verified\n"
          ]
        }
      ],
      "source": [
        "# Load CIFAR-10 dataset-\n",
        "train_dataset = torchvision.datasets.CIFAR10(\n",
        "        root = './data', train = True,\n",
        "        # root = path_to_data + \"data\", train = True,\n",
        "        download = True, transform = transform_train\n",
        "        )\n",
        "\n",
        "test_dataset = torchvision.datasets.CIFAR10(\n",
        "        root = './data', train = False,\n",
        "        # root = path_to_data + \"data\", train = True,\n",
        "        download = True, transform = transform_test\n",
        "        )"
      ]
    },
    {
      "cell_type": "code",
      "execution_count": null,
      "id": "ae76f405-d109-4260-b286-3cbfa6633dd6",
      "metadata": {
        "id": "ae76f405-d109-4260-b286-3cbfa6633dd6"
      },
      "outputs": [],
      "source": [
        "# Create training and testing loaders-\n",
        "train_loader = torch.utils.data.DataLoader(\n",
        "        train_dataset, batch_size = batch_size,\n",
        "        shuffle = True\n",
        "        )\n",
        "\n",
        "test_loader = torch.utils.data.DataLoader(\n",
        "        test_dataset, batch_size = batch_size,\n",
        "        shuffle = False\n",
        "        )"
      ]
    },
    {
      "cell_type": "code",
      "execution_count": null,
      "id": "9f230fe2-cb5d-4b3e-ae0f-02a00084c93d",
      "metadata": {
        "colab": {
          "base_uri": "https://localhost:8080/"
        },
        "id": "9f230fe2-cb5d-4b3e-ae0f-02a00084c93d",
        "outputId": "b5cf003d-74ab-404a-9429-47eff8ceaf6a"
      },
      "outputs": [
        {
          "output_type": "stream",
          "name": "stdout",
          "text": [
            "Sizes of train_dataset: 50000 and test_dataet: 10000\n",
            "Sizes of train_loader: 1563 and test_loader: 313\n"
          ]
        }
      ],
      "source": [
        "print(f\"Sizes of train_dataset: {len(train_dataset)} and test_dataet: {len(test_dataset)}\")\n",
        "print(f\"Sizes of train_loader: {len(train_loader)} and test_loader: {len(test_loader)}\")"
      ]
    },
    {
      "cell_type": "code",
      "execution_count": null,
      "id": "12bfaf5a-2353-4ee0-95a8-0d35c265c3d6",
      "metadata": {
        "colab": {
          "base_uri": "https://localhost:8080/"
        },
        "id": "12bfaf5a-2353-4ee0-95a8-0d35c265c3d6",
        "outputId": "bab3d34f-2ea3-4c4f-c6b5-10862344ffd5"
      },
      "outputs": [
        {
          "output_type": "stream",
          "name": "stdout",
          "text": [
            "len(train_loader) = 1563 & len(test_loader) = 313\n"
          ]
        }
      ],
      "source": [
        "print(f\"len(train_loader) = {len(train_loader)} & len(test_loader) = {len(test_loader)}\")"
      ]
    },
    {
      "cell_type": "code",
      "execution_count": null,
      "id": "cc665ae6-9f01-4ed5-b110-e5e722bbd996",
      "metadata": {
        "colab": {
          "base_uri": "https://localhost:8080/"
        },
        "id": "cc665ae6-9f01-4ed5-b110-e5e722bbd996",
        "outputId": "a715e1e0-b8c4-4b24-b72a-09924c8d163c"
      },
      "outputs": [
        {
          "output_type": "execute_result",
          "data": {
            "text/plain": [
              "(1562.5, 312.5)"
            ]
          },
          "metadata": {},
          "execution_count": 11
        }
      ],
      "source": [
        "# Sanity check-\n",
        "len(train_dataset) / batch_size, len(test_dataset) / batch_size"
      ]
    },
    {
      "cell_type": "code",
      "execution_count": null,
      "id": "4985135f-4c9e-49c6-aced-61771b151480",
      "metadata": {
        "id": "4985135f-4c9e-49c6-aced-61771b151480"
      },
      "outputs": [],
      "source": [
        ""
      ]
    },
    {
      "cell_type": "code",
      "execution_count": null,
      "id": "1c25a3a0-e120-4e0f-b7f4-68fe063e3747",
      "metadata": {
        "colab": {
          "base_uri": "https://localhost:8080/"
        },
        "id": "1c25a3a0-e120-4e0f-b7f4-68fe063e3747",
        "outputId": "1a368c3b-38c6-4ca4-815e-41b1bbe0b080"
      },
      "outputs": [
        {
          "output_type": "stream",
          "name": "stdout",
          "text": [
            "images.shape: torch.Size([32, 3, 32, 32]) & labels.shape: torch.Size([32])\n"
          ]
        }
      ],
      "source": [
        "# Get some random batch of training images & labels-\n",
        "images, labels = next(iter(train_loader))\n",
        "\n",
        "# You get 64 images due to the specified batch size-\n",
        "print(f\"images.shape: {images.shape} & labels.shape: {labels.shape}\")"
      ]
    },
    {
      "cell_type": "code",
      "execution_count": null,
      "id": "4eda2200-0e19-4487-ac2f-a1cfe34eb649",
      "metadata": {
        "id": "4eda2200-0e19-4487-ac2f-a1cfe34eb649"
      },
      "outputs": [],
      "source": [
        ""
      ]
    },
    {
      "cell_type": "code",
      "execution_count": null,
      "id": "24a1f5b0-a756-4ade-a451-18e2dab89e93",
      "metadata": {
        "id": "24a1f5b0-a756-4ade-a451-18e2dab89e93"
      },
      "outputs": [],
      "source": [
        "# Unnormalize images-\n",
        "images = images / 2 + 0.5\n",
        "images = np.transpose(images.numpy(), (0, 2, 3, 1))"
      ]
    },
    {
      "cell_type": "code",
      "execution_count": null,
      "id": "dc42283c-2761-4f8e-aaa1-e5d0c630ce3b",
      "metadata": {
        "colab": {
          "base_uri": "https://localhost:8080/"
        },
        "id": "dc42283c-2761-4f8e-aaa1-e5d0c630ce3b",
        "outputId": "4c516a34-7c01-498f-edea-b64970f2de8d"
      },
      "outputs": [
        {
          "data": {
            "text/plain": [
              "(32, 32, 32, 3)"
            ]
          },
          "execution_count": 14,
          "metadata": {},
          "output_type": "execute_result"
        }
      ],
      "source": [
        "images.shape"
      ]
    },
    {
      "cell_type": "code",
      "execution_count": null,
      "id": "d1584fd9-8a90-4668-9c85-29f5751cb2e6",
      "metadata": {
        "colab": {
          "base_uri": "https://localhost:8080/"
        },
        "id": "d1584fd9-8a90-4668-9c85-29f5751cb2e6",
        "outputId": "21768263-0192-46b4-9037-15e7f5fd5b6b"
      },
      "outputs": [
        {
          "data": {
            "text/plain": [
              "(32, 32, 3)"
            ]
          },
          "execution_count": 15,
          "metadata": {},
          "output_type": "execute_result"
        }
      ],
      "source": [
        "images[0].shape"
      ]
    },
    {
      "cell_type": "code",
      "execution_count": null,
      "id": "f18dab55-df42-47fe-ab6c-b7406578f553",
      "metadata": {
        "colab": {
          "base_uri": "https://localhost:8080/",
          "height": 374
        },
        "id": "f18dab55-df42-47fe-ab6c-b7406578f553",
        "outputId": "8765e5af-0dc1-4bf1-d748-383e9062e513"
      },
      "outputs": [
        {
          "data": {
            "image/png": "[encoded data removed]",
            "text/plain": [
              "<Figure size 504x432 with 1 Axes>"
            ]
          },
          "metadata": {
            "needs_background": "light"
          },
          "output_type": "display_data"
        }
      ],
      "source": [
        "plt.figure(figsize = (7, 6))\n",
        "plt.imshow(images[0])\n",
        "plt.show()"
      ]
    },
    {
      "cell_type": "code",
      "execution_count": null,
      "id": "385944f5-271b-4ba3-9bb5-4468482a7285",
      "metadata": {
        "colab": {
          "base_uri": "https://localhost:8080/",
          "height": 274
        },
        "id": "385944f5-271b-4ba3-9bb5-4468482a7285",
        "outputId": "a892a007-1f41-4eca-f71d-ec540f280dda"
      },
      "outputs": [
        {
          "data": {
            "image/png": "[encoded data removed]",
            "text/plain": [
              "<Figure size 432x288 with 10 Axes>"
            ]
          },
          "metadata": {
            "needs_background": "light"
          },
          "output_type": "display_data"
        }
      ],
      "source": [
        "# Visualize 10 images from training set-\n",
        "for i in range(10):\n",
        "    plt.subplot(2, 5, i + 1)    # 2 rows & 5 columns\n",
        "    plt.imshow(images[i])\n",
        "    \n",
        "plt.suptitle(\"Sample CIFAR-10 training images\")\n",
        "plt.show()"
      ]
    },
    {
      "cell_type": "code",
      "execution_count": null,
      "id": "7a7d0933-0e32-48c8-b05d-c4559825c71c",
      "metadata": {
        "id": "7a7d0933-0e32-48c8-b05d-c4559825c71c"
      },
      "outputs": [],
      "source": [
        ""
      ]
    },
    {
      "cell_type": "code",
      "execution_count": null,
      "id": "3b5228a3-fe70-4178-8814-1c0ac81ebc12",
      "metadata": {
        "id": "3b5228a3-fe70-4178-8814-1c0ac81ebc12"
      },
      "outputs": [],
      "source": [
        ""
      ]
    },
    {
      "cell_type": "markdown",
      "id": "6085dc68-8c57-4a95-8a75-0a23776e24ef",
      "metadata": {
        "id": "6085dc68-8c57-4a95-8a75-0a23776e24ef"
      },
      "source": [
        "### Define _Variational Autoencoder_ architecture:"
      ]
    },
    {
      "cell_type": "code",
      "execution_count": null,
      "id": "b4ca6753-4c10-4f0b-9ff5-f996bdb0be7e",
      "metadata": {
        "id": "b4ca6753-4c10-4f0b-9ff5-f996bdb0be7e"
      },
      "outputs": [],
      "source": [
        "class cnn_block(nn.Module):\n",
        "    def __init__(self, input_channels, output_channels):\n",
        "        super(cnn_block, self).__init__()\n",
        "\n",
        "        # Define layers-\n",
        "        self.conv1 = nn.Conv2d(\n",
        "            in_channels = input_channels, out_channels = output_channels,\n",
        "            kernel_size = 3, stride = 1,\n",
        "            padding = 1, bias = True\n",
        "        )\n",
        "        self.conv2 = nn.Conv2d(\n",
        "            in_channels = output_channels, out_channels = output_channels,\n",
        "            kernel_size = 3, stride = 1,\n",
        "            padding = 1, bias = True\n",
        "        )\n",
        "        self.pool = nn.MaxPool2d(\n",
        "            kernel_size = 2, stride = 2\n",
        "        )\n",
        "  \n",
        "\n",
        "    def forward(self, x):\n",
        "        x = F.leaky_relu(self.conv1(x))\n",
        "        x = F.leaky_relu(self.conv2(x))\n",
        "        return self.pool(x)\n",
        "    "
      ]
    },
    {
      "cell_type": "code",
      "execution_count": null,
      "id": "2ce57cf6-ef89-4503-bf0b-075a9bdc60fc",
      "metadata": {
        "id": "2ce57cf6-ef89-4503-bf0b-075a9bdc60fc"
      },
      "outputs": [],
      "source": [
        ""
      ]
    },
    {
      "cell_type": "code",
      "execution_count": null,
      "id": "acefede4-125f-4ad5-944b-7f03b75eaf5e",
      "metadata": {
        "id": "acefede4-125f-4ad5-944b-7f03b75eaf5e"
      },
      "outputs": [],
      "source": [
        "class Conv6_Encoder(nn.Module):\n",
        "    def __init__(self, latent_space):\n",
        "        super(Conv6_Encoder, self).__init__()\n",
        "        self.latent_space = latent_space\n",
        "        \n",
        "        self.block1 = cnn_block(input_channels = 3, output_channels = 64)\n",
        "        self.block2 = cnn_block(input_channels = 64, output_channels = 128)\n",
        "        self.block3 = cnn_block(input_channels = 128, output_channels = 256)\n",
        "        self.conv_layer = nn.Conv2d(\n",
        "            in_channels = 256, out_channels = 256,\n",
        "            kernel_size = 3, stride = 1,\n",
        "            padding = 0, bias = True\n",
        "        )\n",
        "        self.dense_layer1 = nn.Linear(\n",
        "            in_features = 1024, out_features = 500,\n",
        "            bias = True\n",
        "        )\n",
        "        self.op_layer = nn.Linear(\n",
        "            in_features = 500, out_features = self.latent_space,\n",
        "            bias = True\n",
        "        )\n",
        "\n",
        "    def forward(self, x):\n",
        "        x = self.block1(x)\n",
        "        x = self.block2(x)\n",
        "        x = self.block3(x)\n",
        "        x = F.leaky_relu(self.conv_layer(x))\n",
        "        x = torch.flatten(x, start_dim = 1)\n",
        "        x = F.leaky_relu(self.dense_layer1(x))\n",
        "        x = F.leaky_relu(self.op_layer(x))\n",
        "        return x"
      ]
    },
    {
      "cell_type": "code",
      "execution_count": null,
      "id": "0090a4b2-a120-4263-bf82-ecb60d83b7c5",
      "metadata": {
        "id": "0090a4b2-a120-4263-bf82-ecb60d83b7c5"
      },
      "outputs": [],
      "source": [
        ""
      ]
    },
    {
      "cell_type": "code",
      "execution_count": null,
      "id": "ee7c52fa-49cf-49c8-bc5b-5f8409495454",
      "metadata": {
        "id": "ee7c52fa-49cf-49c8-bc5b-5f8409495454"
      },
      "outputs": [],
      "source": [
        "class Conv6_Decoder(nn.Module):\n",
        "    def __init__(self, latent_space):\n",
        "        super(Conv6_Decoder, self).__init__()\n",
        "        self.latent_space = latent_space\n",
        "    \n",
        "        self.dense_layer1 = nn.Linear(\n",
        "            in_features = self.latent_space, out_features = 500,\n",
        "            bias = True\n",
        "        )\n",
        "        self.dense_layer2 = nn.Linear(\n",
        "            in_features = 500, out_features = 1024,\n",
        "            bias = True\n",
        "        )\n",
        "        self.conv_tran_layer = nn.ConvTranspose2d(\n",
        "            in_channels = 256, out_channels = 256,\n",
        "            kernel_size = 4, stride = 2,\n",
        "            padding = 1\n",
        "        )\n",
        "        self.conv_tran_layer1 = nn.ConvTranspose2d(\n",
        "            in_channels = 256, out_channels = 256,\n",
        "            kernel_size = 4, stride = 2,\n",
        "            padding = 1\n",
        "        )\n",
        "        self.conv_tran_layer2 = nn.ConvTranspose2d(\n",
        "            in_channels = 256, out_channels = 256,\n",
        "            kernel_size = 3, stride = 1,\n",
        "            padding = 1\n",
        "        )\n",
        "        self.conv_tran_layer3 = nn.ConvTranspose2d(\n",
        "            in_channels = 256, out_channels = 128,\n",
        "            kernel_size = 4, stride = 2,\n",
        "            padding = 1\n",
        "        )\n",
        "        self.conv_tran_layer4 = nn.ConvTranspose2d(\n",
        "            in_channels = 128, out_channels = 128,\n",
        "            kernel_size = 3, stride = 1,\n",
        "            padding = 1\n",
        "        )\n",
        "        self.conv_tran_layer5 = nn.ConvTranspose2d(\n",
        "            in_channels = 128, out_channels = 64,\n",
        "            kernel_size = 4, stride = 2,\n",
        "            padding = 1\n",
        "        )\n",
        "        self.conv_tran_layer6 = nn.ConvTranspose2d(\n",
        "            in_channels = 64, out_channels = 64,\n",
        "            kernel_size = 3, stride = 1,\n",
        "            padding = 1\n",
        "        )\n",
        "        self.output_conv_layer = nn.ConvTranspose2d(\n",
        "            in_channels = 64, out_channels = 3,\n",
        "            kernel_size = 3, stride = 1,\n",
        "            padding = 1\n",
        "        )\n",
        "        \n",
        "    \n",
        "    def forward(self, x):\n",
        "        x = F.leaky_relu(self.dense_layer1(x))\n",
        "        x = F.leaky_relu(self.dense_layer2(x))\n",
        "        # x = x.view(-1, 256, 4, 4)\n",
        "        x = x.view(-1, 256, 2, 2)\n",
        "        x = F.leaky_relu(self.conv_tran_layer(x))\n",
        "        x = F.leaky_relu(self.conv_tran_layer1(x))\n",
        "        x = F.leaky_relu(self.conv_tran_layer2(x))\n",
        "        x = F.leaky_relu(self.conv_tran_layer3(x))\n",
        "        x = F.leaky_relu(self.conv_tran_layer4(x))\n",
        "        x = F.leaky_relu(self.conv_tran_layer5(x))\n",
        "        x = F.leaky_relu(self.conv_tran_layer6(x))\n",
        "        x = self.output_conv_layer(x)\n",
        "        return x\n",
        " "
      ]
    },
    {
      "cell_type": "code",
      "execution_count": null,
      "id": "102b1831-30cb-464e-a00e-ad69b5774268",
      "metadata": {
        "id": "102b1831-30cb-464e-a00e-ad69b5774268"
      },
      "outputs": [],
      "source": [
        ""
      ]
    },
    {
      "cell_type": "code",
      "execution_count": null,
      "id": "df4237c1-bdaa-4fb0-8716-7c0623f1366a",
      "metadata": {
        "id": "df4237c1-bdaa-4fb0-8716-7c0623f1366a"
      },
      "outputs": [],
      "source": [
        "# encoder = Conv6_Encoder(latent_space = 200)"
      ]
    },
    {
      "cell_type": "code",
      "execution_count": null,
      "id": "1faa4834-50be-440a-bcc3-159bb5bdcb6e",
      "metadata": {
        "id": "1faa4834-50be-440a-bcc3-159bb5bdcb6e"
      },
      "outputs": [],
      "source": [
        "# decoder = Conv6_Decoder(latent_space = 200)"
      ]
    },
    {
      "cell_type": "code",
      "execution_count": null,
      "id": "BL-rpxMUuTEW",
      "metadata": {
        "id": "BL-rpxMUuTEW"
      },
      "outputs": [],
      "source": [
        "# x = encoder(images)"
      ]
    },
    {
      "cell_type": "code",
      "execution_count": null,
      "id": "0f344e17-fe8e-4b0b-bbab-8924a8b7ac94",
      "metadata": {
        "id": "0f344e17-fe8e-4b0b-bbab-8924a8b7ac94"
      },
      "outputs": [],
      "source": [
        "# x_recon = decoder(x)\n",
        "# x_recon.shape, images.shape\n",
        "# (torch.Size([32, 3, 32, 32]), torch.Size([32, 3, 32, 32]))"
      ]
    },
    {
      "cell_type": "code",
      "execution_count": null,
      "id": "65c7caff-6957-490b-a94b-6e422a13b7a5",
      "metadata": {
        "id": "65c7caff-6957-490b-a94b-6e422a13b7a5"
      },
      "outputs": [],
      "source": [
        "# del encoder, decoder, x, x_recon"
      ]
    },
    {
      "cell_type": "code",
      "execution_count": null,
      "id": "77e87b68-83c3-4c22-a869-77c4647bc941",
      "metadata": {
        "id": "77e87b68-83c3-4c22-a869-77c4647bc941"
      },
      "outputs": [],
      "source": [
        ""
      ]
    },
    {
      "cell_type": "code",
      "execution_count": null,
      "id": "1f61ef23-2a85-41f8-b956-4277376b8c1b",
      "metadata": {
        "id": "1f61ef23-2a85-41f8-b956-4277376b8c1b"
      },
      "outputs": [],
      "source": [
        "class VAE_Conv(nn.Module):\n",
        "    def __init__(self, latent_space = 5):\n",
        "        super(VAE_Conv, self).__init__()\n",
        "        \n",
        "        self.latent_space = latent_space\n",
        "        \n",
        "        # Encoder-\n",
        "        self.encoder = Conv6_Encoder(latent_space = self.latent_space).to(device)\n",
        "        \n",
        "        # Two additional layers 'hidden2mu' & 'hidden2log' to convert the bottleneck into the μ and σ vectors-\n",
        "        self.hidden2mu = nn.Linear(in_features = latent_space, out_features = latent_space, bias = True)\n",
        "        self.hidden2log_var = nn.Linear(in_features = latent_space, out_features = latent_space, bias = True)\n",
        "        \n",
        "        # Decoder-\n",
        "        self.decoder = Conv6_Decoder(latent_space = self.latent_space).to(device)\n",
        "        \n",
        "        \n",
        "    def reparameterize(self, mu, log_var):\n",
        "        '''\n",
        "        Input arguments:\n",
        "        1. mu - mean coming from the encoder's latent space\n",
        "        2. log_var - log variance coming from the encoder's latent space\n",
        "        '''\n",
        "        # Compute standard deviation using 'log_var'-\n",
        "        std = torch.exp(0.5 * log_var)\n",
        "        \n",
        "        # 'eps' samples from a normal standard distribution to add\n",
        "        # stochasticity to the sampling process-\n",
        "        eps = torch.randn_like(std)\n",
        "        \n",
        "        # Reparameterization trick - sample as if it's from the input\n",
        "        # space-\n",
        "        sample = mu + (std * eps)\n",
        "        \n",
        "        return sample\n",
        "    \n",
        "    \n",
        "    def forward(self, x):\n",
        "        # Encode input data-\n",
        "        x = self.encoder(x)\n",
        "        # NOTE: The line of code above does NOT give us the latent vector!\n",
        "        \n",
        "        # print(f\"encoder's output x.shape: {x.shape}\")\n",
        "        \n",
        "        mu = self.hidden2mu(x)\n",
        "        log_var = self.hidden2log_var(x)\n",
        "        \n",
        "        # Obtain the latent vector using reparameterization-\n",
        "        z = self.reparameterize(mu, log_var)\n",
        "        # latent vector 'z' is obtained through reparameterization trick using mu and log_var\n",
        "        \n",
        "        '''\n",
        "        print(f\"mu.shape: {mu.shape}, log_var.shape: {log_var.shape} &\"\n",
        "              f\" z.shape: {z.shape}\")\n",
        "        '''\n",
        "        \n",
        "        # Decode latent vector-\n",
        "        recon_data = torch.sigmoid(self.decoder(z))\n",
        "        # recon_data = torch.tanh(self.decoder(z))\n",
        "        # x = self.decoder(z)\n",
        "        # recon_data = torch.sigmoid(x) # or, tanh\n",
        "        \n",
        "        return recon_data, mu, log_var\n",
        "        "
      ]
    },
    {
      "cell_type": "code",
      "execution_count": null,
      "id": "ea79f596-e7ff-40fe-bfa2-5f074e665d0d",
      "metadata": {
        "id": "ea79f596-e7ff-40fe-bfa2-5f074e665d0d"
      },
      "outputs": [],
      "source": [
        ""
      ]
    },
    {
      "cell_type": "code",
      "execution_count": null,
      "id": "60ab401d-bfd3-443f-a777-970b74941b68",
      "metadata": {
        "id": "60ab401d-bfd3-443f-a777-970b74941b68"
      },
      "outputs": [],
      "source": [
        "# Initialize a VAE objetc-\n",
        "model = VAE_Conv(latent_space = 200).to(device)"
      ]
    },
    {
      "cell_type": "code",
      "execution_count": null,
      "id": "454fc338-0e0a-4234-83f6-dd72cd9278bf",
      "metadata": {
        "id": "454fc338-0e0a-4234-83f6-dd72cd9278bf"
      },
      "outputs": [],
      "source": [
        ""
      ]
    },
    {
      "cell_type": "code",
      "execution_count": null,
      "id": "690f97c3-35f3-459e-8c3f-dfb994d824e0",
      "metadata": {
        "colab": {
          "base_uri": "https://localhost:8080/"
        },
        "id": "690f97c3-35f3-459e-8c3f-dfb994d824e0",
        "outputId": "f5fce4cc-093e-46a6-e3cd-fb200f4aa73b"
      },
      "outputs": [
        {
          "output_type": "stream",
          "name": "stdout",
          "text": [
            "VAE_Conv(\n",
            "  (encoder): Conv6_Encoder(\n",
            "    (block1): cnn_block(\n",
            "      (conv1): Conv2d(3, 64, kernel_size=(3, 3), stride=(1, 1), padding=(1, 1))\n",
            "      (conv2): Conv2d(64, 64, kernel_size=(3, 3), stride=(1, 1), padding=(1, 1))\n",
            "      (pool): MaxPool2d(kernel_size=2, stride=2, padding=0, dilation=1, ceil_mode=False)\n",
            "    )\n",
            "    (block2): cnn_block(\n",
            "      (conv1): Conv2d(64, 128, kernel_size=(3, 3), stride=(1, 1), padding=(1, 1))\n",
            "      (conv2): Conv2d(128, 128, kernel_size=(3, 3), stride=(1, 1), padding=(1, 1))\n",
            "      (pool): MaxPool2d(kernel_size=2, stride=2, padding=0, dilation=1, ceil_mode=False)\n",
            "    )\n",
            "    (block3): cnn_block(\n",
            "      (conv1): Conv2d(128, 256, kernel_size=(3, 3), stride=(1, 1), padding=(1, 1))\n",
            "      (conv2): Conv2d(256, 256, kernel_size=(3, 3), stride=(1, 1), padding=(1, 1))\n",
            "      (pool): MaxPool2d(kernel_size=2, stride=2, padding=0, dilation=1, ceil_mode=False)\n",
            "    )\n",
            "    (conv_layer): Conv2d(256, 256, kernel_size=(3, 3), stride=(1, 1))\n",
            "    (dense_layer1): Linear(in_features=1024, out_features=500, bias=True)\n",
            "    (op_layer): Linear(in_features=500, out_features=200, bias=True)\n",
            "  )\n",
            "  (hidden2mu): Linear(in_features=200, out_features=200, bias=True)\n",
            "  (hidden2log_var): Linear(in_features=200, out_features=200, bias=True)\n",
            "  (decoder): Conv6_Decoder(\n",
            "    (dense_layer1): Linear(in_features=200, out_features=500, bias=True)\n",
            "    (dense_layer2): Linear(in_features=500, out_features=1024, bias=True)\n",
            "    (conv_tran_layer): ConvTranspose2d(256, 256, kernel_size=(4, 4), stride=(2, 2), padding=(1, 1))\n",
            "    (conv_tran_layer1): ConvTranspose2d(256, 256, kernel_size=(4, 4), stride=(2, 2), padding=(1, 1))\n",
            "    (conv_tran_layer2): ConvTranspose2d(256, 256, kernel_size=(3, 3), stride=(1, 1), padding=(1, 1))\n",
            "    (conv_tran_layer3): ConvTranspose2d(256, 128, kernel_size=(4, 4), stride=(2, 2), padding=(1, 1))\n",
            "    (conv_tran_layer4): ConvTranspose2d(128, 128, kernel_size=(3, 3), stride=(1, 1), padding=(1, 1))\n",
            "    (conv_tran_layer5): ConvTranspose2d(128, 64, kernel_size=(4, 4), stride=(2, 2), padding=(1, 1))\n",
            "    (conv_tran_layer6): ConvTranspose2d(64, 64, kernel_size=(3, 3), stride=(1, 1), padding=(1, 1))\n",
            "    (output_conv_layer): ConvTranspose2d(64, 3, kernel_size=(3, 3), stride=(1, 1), padding=(1, 1))\n",
            "  )\n",
            ")\n"
          ]
        }
      ],
      "source": [
        "print(model)"
      ]
    },
    {
      "cell_type": "code",
      "execution_count": null,
      "id": "1f605ec5-2607-4a80-bdc3-e4257b24fce5",
      "metadata": {
        "id": "1f605ec5-2607-4a80-bdc3-e4257b24fce5"
      },
      "outputs": [],
      "source": [
        ""
      ]
    },
    {
      "cell_type": "code",
      "execution_count": null,
      "id": "9e827468-9683-4181-99e3-3a2b0d05518d",
      "metadata": {
        "colab": {
          "base_uri": "https://localhost:8080/"
        },
        "id": "9e827468-9683-4181-99e3-3a2b0d05518d",
        "outputId": "cd75de57-4e6d-42b8-fae0-bb1e64851435"
      },
      "outputs": [
        {
          "output_type": "stream",
          "name": "stdout",
          "text": [
            "layer.shape = torch.Size([64, 3, 3, 3]) has 1728 parameters\n",
            "layer.shape = torch.Size([64]) has 64 parameters\n",
            "layer.shape = torch.Size([64, 64, 3, 3]) has 36864 parameters\n",
            "layer.shape = torch.Size([64]) has 64 parameters\n",
            "layer.shape = torch.Size([128, 64, 3, 3]) has 73728 parameters\n",
            "layer.shape = torch.Size([128]) has 128 parameters\n",
            "layer.shape = torch.Size([128, 128, 3, 3]) has 147456 parameters\n",
            "layer.shape = torch.Size([128]) has 128 parameters\n",
            "layer.shape = torch.Size([256, 128, 3, 3]) has 294912 parameters\n",
            "layer.shape = torch.Size([256]) has 256 parameters\n",
            "layer.shape = torch.Size([256, 256, 3, 3]) has 589824 parameters\n",
            "layer.shape = torch.Size([256]) has 256 parameters\n",
            "layer.shape = torch.Size([256, 256, 3, 3]) has 589824 parameters\n",
            "layer.shape = torch.Size([256]) has 256 parameters\n",
            "layer.shape = torch.Size([500, 1024]) has 512000 parameters\n",
            "layer.shape = torch.Size([500]) has 500 parameters\n",
            "layer.shape = torch.Size([200, 500]) has 100000 parameters\n",
            "layer.shape = torch.Size([200]) has 200 parameters\n",
            "layer.shape = torch.Size([200, 200]) has 40000 parameters\n",
            "layer.shape = torch.Size([200]) has 200 parameters\n",
            "layer.shape = torch.Size([200, 200]) has 40000 parameters\n",
            "layer.shape = torch.Size([200]) has 200 parameters\n",
            "layer.shape = torch.Size([500, 200]) has 100000 parameters\n",
            "layer.shape = torch.Size([500]) has 500 parameters\n",
            "layer.shape = torch.Size([1024, 500]) has 512000 parameters\n",
            "layer.shape = torch.Size([1024]) has 1024 parameters\n",
            "layer.shape = torch.Size([256, 256, 4, 4]) has 1048576 parameters\n",
            "layer.shape = torch.Size([256]) has 256 parameters\n",
            "layer.shape = torch.Size([256, 256, 4, 4]) has 1048576 parameters\n",
            "layer.shape = torch.Size([256]) has 256 parameters\n",
            "layer.shape = torch.Size([256, 256, 3, 3]) has 589824 parameters\n",
            "layer.shape = torch.Size([256]) has 256 parameters\n",
            "layer.shape = torch.Size([256, 128, 4, 4]) has 524288 parameters\n",
            "layer.shape = torch.Size([128]) has 128 parameters\n",
            "layer.shape = torch.Size([128, 128, 3, 3]) has 147456 parameters\n",
            "layer.shape = torch.Size([128]) has 128 parameters\n",
            "layer.shape = torch.Size([128, 64, 4, 4]) has 131072 parameters\n",
            "layer.shape = torch.Size([64]) has 64 parameters\n",
            "layer.shape = torch.Size([64, 64, 3, 3]) has 36864 parameters\n",
            "layer.shape = torch.Size([64]) has 64 parameters\n",
            "layer.shape = torch.Size([64, 3, 3, 3]) has 1728 parameters\n",
            "layer.shape = torch.Size([3]) has 3 parameters\n"
          ]
        }
      ],
      "source": [
        "# Count number of layer-wise parameters and total parameters-\n",
        "tot_params = 0\n",
        "for param in model.parameters():\n",
        "    print(f\"layer.shape = {param.shape} has {param.nelement()} parameters\")\n",
        "    tot_params += param.nelement()"
      ]
    },
    {
      "cell_type": "code",
      "execution_count": null,
      "id": "4c4517d0-5b78-4584-8337-25994f91de24",
      "metadata": {
        "colab": {
          "base_uri": "https://localhost:8080/"
        },
        "id": "4c4517d0-5b78-4584-8337-25994f91de24",
        "outputId": "63a3500d-e05a-48f5-cfa4-de7816450125"
      },
      "outputs": [
        {
          "output_type": "stream",
          "name": "stdout",
          "text": [
            "Total number of parameters in VAE Dense model = 6571651\n"
          ]
        }
      ],
      "source": [
        "print(f\"Total number of parameters in VAE Dense model = {tot_params}\")"
      ]
    },
    {
      "cell_type": "code",
      "execution_count": null,
      "id": "c476c09b-d6ef-43fe-8ff9-8f7139b62b6e",
      "metadata": {
        "id": "c476c09b-d6ef-43fe-8ff9-8f7139b62b6e"
      },
      "outputs": [],
      "source": [
        ""
      ]
    },
    {
      "cell_type": "code",
      "execution_count": null,
      "id": "WeCYzsSAx5Tn",
      "metadata": {
        "id": "WeCYzsSAx5Tn"
      },
      "outputs": [],
      "source": [
        ""
      ]
    },
    {
      "cell_type": "markdown",
      "id": "rMH47UZ-xse_",
      "metadata": {
        "id": "rMH47UZ-xse_"
      },
      "source": [
        "### Initial _variance_ - Sanity check:\n",
        "\n",
        "_Before_ training the VAE neural network model, there should be some initial variance."
      ]
    },
    {
      "cell_type": "code",
      "execution_count": null,
      "id": "hJzaYABYvhXv",
      "metadata": {
        "colab": {
          "base_uri": "https://localhost:8080/"
        },
        "id": "hJzaYABYvhXv",
        "outputId": "a1b87920-f304-4c00-ee92-2ec6435a76a5"
      },
      "outputs": [
        {
          "output_type": "stream",
          "name": "stdout",
          "text": [
            "torch.Size([200, 200]) 40000\n",
            "torch.Size([200]) 200\n"
          ]
        }
      ],
      "source": [
        "for x in model.hidden2mu.parameters():\n",
        "    print(x.shape, x.nelement())"
      ]
    },
    {
      "cell_type": "code",
      "execution_count": null,
      "id": "rh66ZwUAwPKJ",
      "metadata": {
        "id": "rh66ZwUAwPKJ"
      },
      "outputs": [],
      "source": [
        "log_var_wts = model.hidden2log_var.weight\n",
        "mu_wts = model.hidden2mu.weight"
      ]
    },
    {
      "cell_type": "code",
      "execution_count": null,
      "id": "dJARYX0cwJfD",
      "metadata": {
        "id": "dJARYX0cwJfD"
      },
      "outputs": [],
      "source": [
        "mu_wts = mu_wts.detach().cpu().numpy()\n",
        "log_var_wts = log_var_wts.detach().cpu().numpy()"
      ]
    },
    {
      "cell_type": "code",
      "execution_count": null,
      "id": "cdhDQZU-wWQ7",
      "metadata": {
        "colab": {
          "base_uri": "https://localhost:8080/"
        },
        "id": "cdhDQZU-wWQ7",
        "outputId": "1a4046d6-cfab-417f-c204-8dac20a73eb1"
      },
      "outputs": [
        {
          "output_type": "execute_result",
          "data": {
            "text/plain": [
              "((200, 200), (200, 200))"
            ]
          },
          "metadata": {},
          "execution_count": 24
        }
      ],
      "source": [
        "mu_wts.shape, log_var_wts.shape"
      ]
    },
    {
      "cell_type": "code",
      "execution_count": null,
      "id": "m3Gz3BmCwp4h",
      "metadata": {
        "id": "m3Gz3BmCwp4h"
      },
      "outputs": [],
      "source": [
        ""
      ]
    },
    {
      "cell_type": "code",
      "execution_count": null,
      "id": "HgzluinKxO2f",
      "metadata": {
        "colab": {
          "base_uri": "https://localhost:8080/",
          "height": 385
        },
        "id": "HgzluinKxO2f",
        "outputId": "bca209bc-e8eb-4838-c02d-ea1dcc5ea1e8"
      },
      "outputs": [
        {
          "output_type": "display_data",
          "data": {
            "image/png": "[encoded data removed]",
            "text/plain": [
              "<Figure size 360x360 with 1 Axes>"
            ]
          },
          "metadata": {
            "needs_background": "light"
          }
        }
      ],
      "source": [
        "sns.displot(data = mu_wts.flatten(), bins = int(np.ceil(np.sqrt(mu_wts.size))))\n",
        "plt.title(\"mu randomly initialized - Visualization\")\n",
        "plt.show()"
      ]
    },
    {
      "cell_type": "code",
      "execution_count": null,
      "id": "M3M9In0DxYx9",
      "metadata": {
        "colab": {
          "base_uri": "https://localhost:8080/",
          "height": 385
        },
        "id": "M3M9In0DxYx9",
        "outputId": "5f1b28fe-01b3-49f9-dd61-b31d43266857"
      },
      "outputs": [
        {
          "output_type": "display_data",
          "data": {
            "image/png": "[encoded data removed]",
            "text/plain": [
              "<Figure size 360x360 with 1 Axes>"
            ]
          },
          "metadata": {
            "needs_background": "light"
          }
        }
      ],
      "source": [
        "sns.displot(data = log_var_wts.flatten(), bins = int(np.ceil(np.sqrt(log_var_wts.size))))\n",
        "plt.title(\"log variance randomly initialized - Visualization\")\n",
        "plt.show()"
      ]
    },
    {
      "cell_type": "code",
      "execution_count": null,
      "id": "0jBPklKuxg38",
      "metadata": {
        "id": "0jBPklKuxg38"
      },
      "outputs": [],
      "source": [
        "del mu_wts, log_var_wts"
      ]
    },
    {
      "cell_type": "code",
      "execution_count": null,
      "id": "E8JLR1l0xpyJ",
      "metadata": {
        "id": "E8JLR1l0xpyJ"
      },
      "outputs": [],
      "source": [
        ""
      ]
    },
    {
      "cell_type": "code",
      "execution_count": null,
      "id": "41db8f08-7228-4c94-93d2-73d701953bdb",
      "metadata": {
        "id": "41db8f08-7228-4c94-93d2-73d701953bdb"
      },
      "outputs": [],
      "source": [
        "images = images.to(device)"
      ]
    },
    {
      "cell_type": "code",
      "execution_count": null,
      "id": "2362adeb-106a-4b84-a696-322448199fcc",
      "metadata": {
        "colab": {
          "base_uri": "https://localhost:8080/"
        },
        "id": "2362adeb-106a-4b84-a696-322448199fcc",
        "outputId": "a76b9054-9834-4051-ec1f-34a8bd690834"
      },
      "outputs": [
        {
          "output_type": "execute_result",
          "data": {
            "text/plain": [
              "torch.Size([32, 3, 32, 32])"
            ]
          },
          "metadata": {},
          "execution_count": 29
        }
      ],
      "source": [
        "images.shape"
      ]
    },
    {
      "cell_type": "code",
      "execution_count": null,
      "id": "67034b3c-ef9d-45ac-b05b-2ad5768069b3",
      "metadata": {
        "colab": {
          "base_uri": "https://localhost:8080/"
        },
        "id": "67034b3c-ef9d-45ac-b05b-2ad5768069b3",
        "outputId": "5e31c5e0-d24f-4e9a-a7fc-d5f62e587642"
      },
      "outputs": [
        {
          "output_type": "execute_result",
          "data": {
            "text/plain": [
              "(tensor(-1., device='cuda:0'), tensor(1., device='cuda:0'))"
            ]
          },
          "metadata": {},
          "execution_count": 30
        }
      ],
      "source": [
        "images.min(), images.max()"
      ]
    },
    {
      "cell_type": "code",
      "execution_count": null,
      "id": "aac462c2-430a-4a4d-ac7b-a48678314917",
      "metadata": {
        "id": "aac462c2-430a-4a4d-ac7b-a48678314917"
      },
      "outputs": [],
      "source": [
        ""
      ]
    },
    {
      "cell_type": "code",
      "execution_count": null,
      "id": "8113e149-a1df-4fed-94ec-7601ecd8530e",
      "metadata": {
        "id": "8113e149-a1df-4fed-94ec-7601ecd8530e"
      },
      "outputs": [],
      "source": [
        "# Sanity check-\n",
        "recon_images, mu, log_var = model(images)"
      ]
    },
    {
      "cell_type": "code",
      "execution_count": null,
      "id": "b654101c-692b-4e8e-be65-436bf75610f8",
      "metadata": {
        "colab": {
          "base_uri": "https://localhost:8080/"
        },
        "id": "b654101c-692b-4e8e-be65-436bf75610f8",
        "outputId": "f40e0323-6387-4d1a-c416-5cf379687d2c"
      },
      "outputs": [
        {
          "output_type": "execute_result",
          "data": {
            "text/plain": [
              "(torch.Size([32, 3, 32, 32]), torch.Size([32, 200]), torch.Size([32, 200]))"
            ]
          },
          "metadata": {},
          "execution_count": 32
        }
      ],
      "source": [
        "recon_images.shape, mu.shape, log_var.shape"
      ]
    },
    {
      "cell_type": "code",
      "execution_count": null,
      "id": "491a9b05-a2b9-453a-94db-c401c9dfb4f8",
      "metadata": {
        "colab": {
          "base_uri": "https://localhost:8080/"
        },
        "id": "491a9b05-a2b9-453a-94db-c401c9dfb4f8",
        "outputId": "4ba580c7-59d0-4e51-84d9-2514f372ea1b"
      },
      "outputs": [
        {
          "output_type": "execute_result",
          "data": {
            "text/plain": [
              "(array(0.44527864, dtype=float32), array(0.52809894, dtype=float32))"
            ]
          },
          "metadata": {},
          "execution_count": 33
        }
      ],
      "source": [
        "recon_images.min().detach().cpu().numpy(), recon_images.max().detach().cpu().numpy()\n",
        "\n",
        "# tanh activation function-\n",
        "# (array(-0.05745536, dtype=float32), array(0.23623492, dtype=float32))\n",
        "\n",
        "# sigmoid activation function-\n",
        "# (array(0.43894547, dtype=float32), array(0.5463941, dtype=float32))"
      ]
    },
    {
      "cell_type": "code",
      "execution_count": null,
      "id": "ff3a75d4-c742-4d83-b755-fe639471e1de",
      "metadata": {
        "id": "ff3a75d4-c742-4d83-b755-fe639471e1de"
      },
      "outputs": [],
      "source": [
        "del recon_images, mu, log_var"
      ]
    },
    {
      "cell_type": "code",
      "execution_count": null,
      "id": "3d18f7c4-8418-4aad-8cd1-90ef0bc2734f",
      "metadata": {
        "id": "3d18f7c4-8418-4aad-8cd1-90ef0bc2734f"
      },
      "outputs": [],
      "source": [
        ""
      ]
    },
    {
      "cell_type": "code",
      "execution_count": null,
      "id": "d23eb0b2-9459-40e7-9bc5-3a60b5ee5f7f",
      "metadata": {
        "id": "d23eb0b2-9459-40e7-9bc5-3a60b5ee5f7f"
      },
      "outputs": [],
      "source": [
        ""
      ]
    },
    {
      "cell_type": "code",
      "execution_count": null,
      "id": "f11e6244-761a-4994-955c-1ced8fd23fde",
      "metadata": {
        "colab": {
          "base_uri": "https://localhost:8080/"
        },
        "id": "f11e6244-761a-4994-955c-1ced8fd23fde",
        "outputId": "9b3b0862-331c-4fbe-f6c2-a04c10e28d78"
      },
      "outputs": [
        {
          "output_type": "stream",
          "name": "stdout",
          "text": [
            "Adam optimizer with learning rate = 0.001 will be used\n"
          ]
        }
      ],
      "source": [
        "print(f\"Adam optimizer with learning rate = {learning_rate} will be used\")"
      ]
    },
    {
      "cell_type": "code",
      "execution_count": null,
      "id": "8eb045e5-fa5b-4053-a590-d6e46009eef7",
      "metadata": {
        "id": "8eb045e5-fa5b-4053-a590-d6e46009eef7"
      },
      "outputs": [],
      "source": [
        "# Define gradient descent optimizer-\n",
        "optimizer = torch.optim.Adam(model.parameters(), lr = learning_rate)"
      ]
    },
    {
      "cell_type": "code",
      "execution_count": null,
      "id": "787d9698-7999-4b7e-bfe3-3cb933254a17",
      "metadata": {
        "id": "787d9698-7999-4b7e-bfe3-3cb933254a17"
      },
      "outputs": [],
      "source": [
        "# Reconstruction loss-\n",
        "# criterion = nn.BCELoss(reduction = 'sum')\n",
        "\n",
        "# Note: reduction='sum' is used for the BCELoss(). If you read the PyTorch\n",
        "# documentations, then this is specifically for the case of autoencoders only.\n",
        "\n",
        "# Also, MSE loss could also be used-\n",
        "criterion = nn.MSELoss(reduction = 'sum')"
      ]
    },
    {
      "cell_type": "code",
      "execution_count": null,
      "id": "3861e73d-04a6-4915-9bef-1ba813f3a46d",
      "metadata": {
        "id": "3861e73d-04a6-4915-9bef-1ba813f3a46d"
      },
      "outputs": [],
      "source": [
        ""
      ]
    },
    {
      "cell_type": "code",
      "execution_count": null,
      "id": "59e964b6-1abe-4a5e-92c0-10390a440c3a",
      "metadata": {
        "id": "59e964b6-1abe-4a5e-92c0-10390a440c3a"
      },
      "outputs": [],
      "source": [
        ""
      ]
    },
    {
      "cell_type": "code",
      "execution_count": null,
      "id": "f64c085e-aba2-4a72-b17d-3b4de26808b4",
      "metadata": {
        "id": "f64c085e-aba2-4a72-b17d-3b4de26808b4"
      },
      "outputs": [],
      "source": [
        "def total_loss(reconstruction_loss, mu, log_var, alpha = 1):\n",
        "    '''\n",
        "    Function to add reconstruction loss and KL-Divergence loss.\n",
        "    KL-Divergence = 0.5 * sum(1 + log(sigma^2) - mu^2 - sigma^2)\n",
        "    \n",
        "    Inputs:\n",
        "    1. recontruction loss - BCE or MSE loss\n",
        "    2. mu: mean from the latent vector\n",
        "    3. logvar: log variance from the latent vector\n",
        "    4. alpha (int): Hyperparameter to control the importance of reconstruction\n",
        "    loss vs KL-Divergence Loss.\n",
        "    '''\n",
        "    \n",
        "    # reconstruction_loss = F.binary_cross_entropy_with_logits(input, target)\n",
        "    \n",
        "    KLD = -0.5 * torch.sum(1 + log_var - mu.pow(2) - log_var.exp())\n",
        "    \n",
        "    # final_loss = reconstruction_loss + KLD\n",
        "    final_loss = (reconstruction_loss * alpha) + KLD\n",
        "    \n",
        "    return final_loss\n"
      ]
    },
    {
      "cell_type": "code",
      "execution_count": null,
      "id": "157ee991-37e0-4d84-a2aa-f3dfa6cddb15",
      "metadata": {
        "id": "157ee991-37e0-4d84-a2aa-f3dfa6cddb15"
      },
      "outputs": [],
      "source": [
        ""
      ]
    },
    {
      "cell_type": "code",
      "execution_count": null,
      "id": "a5aee2cd-b598-4731-9577-93103e6c8e88",
      "metadata": {
        "id": "a5aee2cd-b598-4731-9577-93103e6c8e88"
      },
      "outputs": [],
      "source": [
        ""
      ]
    },
    {
      "cell_type": "code",
      "execution_count": null,
      "id": "03f9f120-28e9-4e4a-a3dd-98e1061a03a6",
      "metadata": {
        "id": "03f9f120-28e9-4e4a-a3dd-98e1061a03a6"
      },
      "outputs": [],
      "source": [
        "def train_one_epoch(model, dataloader, alpha):\n",
        "    \n",
        "    # Place model to device-\n",
        "    model.to(device)\n",
        "    \n",
        "    # Enable training mode-\n",
        "    model.train()\n",
        "    \n",
        "    running_loss = 0.0\n",
        "    \n",
        "    for i, data in tqdm(\n",
        "        enumerate(dataloader),\n",
        "        total = int(len(train_dataset) / dataloader.batch_size)\n",
        "        ):\n",
        "      \n",
        "        # Ignore labels-\n",
        "        data, _ = data\n",
        "\n",
        "        # Push data points to 'device'-\n",
        "        data = data.to(device)\n",
        "        \n",
        "        # Flatten input data to feed into a dense layer-\n",
        "        # data = data.view(data.size(0), -1)\n",
        "        \n",
        "        # Empty accumulated gradients-\n",
        "        optimizer.zero_grad()\n",
        "        \n",
        "        # Perform forward propagation-\n",
        "        reconstruction, mu, logvar = model(data)\n",
        "        \n",
        "        # Compute reconstruction loss-\n",
        "        recon_loss = criterion(reconstruction, data)\n",
        "        \n",
        "        # Compute final loss-\n",
        "        loss = total_loss(recon_loss, mu, logvar, alpha)\n",
        "        \n",
        "        # Update loss-\n",
        "        running_loss += loss.item()\n",
        "        \n",
        "        # Compute gradients wrt loss-\n",
        "        loss.backward()\n",
        "        \n",
        "        # Perform gradient descent-\n",
        "        optimizer.step()\n",
        "        \n",
        "    train_loss = running_loss / len(dataloader.dataset)\n",
        "    \n",
        "    return train_loss, mu, logvar\n"
      ]
    },
    {
      "cell_type": "code",
      "execution_count": null,
      "id": "a4126525-a389-4c83-8648-81e3dca98309",
      "metadata": {
        "id": "a4126525-a389-4c83-8648-81e3dca98309"
      },
      "outputs": [],
      "source": [
        ""
      ]
    },
    {
      "cell_type": "code",
      "execution_count": null,
      "id": "9a030239-e970-424f-a1fe-b16690622673",
      "metadata": {
        "id": "9a030239-e970-424f-a1fe-b16690622673"
      },
      "outputs": [],
      "source": [
        "def validate_one_epoch(model, dataloader, alpha):\n",
        "    \n",
        "    # Place model to device-\n",
        "    model.to(device)\n",
        "    \n",
        "    # Enable evaluation mode-\n",
        "    model.eval()\n",
        "    \n",
        "    running_loss = 0.0\n",
        "    \n",
        "    with torch.no_grad():\n",
        "        for i, data in tqdm(\n",
        "            enumerate(dataloader),\n",
        "            total = int(len(test_dataset) / dataloader.batch_size)):\n",
        "          \n",
        "            # Ignore labels-\n",
        "            data, _ = data\n",
        "\n",
        "            # Push data points to 'device'-\n",
        "            data = data.to(device)\n",
        "            \n",
        "            # Flatten data to feed into a dense layer-\n",
        "            # data = data.view(data.size(0), -1)\n",
        "            \n",
        "            # Forward propagation-\n",
        "            reconstruction, mu, logvar = model(data)\n",
        "            \n",
        "            # Compute reconstruction loss-\n",
        "            recon_loss = criterion(reconstruction, data)\n",
        "            \n",
        "            # Compute total loss-\n",
        "            loss = total_loss(recon_loss, mu, logvar, alpha)\n",
        "            \n",
        "            # Update loss-\n",
        "            running_loss += loss.item()\n",
        "            \n",
        "    val_loss = running_loss / len(dataloader.dataset)\n",
        "    \n",
        "    return val_loss, mu, logvar\n"
      ]
    },
    {
      "cell_type": "code",
      "execution_count": null,
      "id": "df263f24-1a96-4b1b-b066-623f9e56f76f",
      "metadata": {
        "id": "df263f24-1a96-4b1b-b066-623f9e56f76f"
      },
      "outputs": [],
      "source": [
        ""
      ]
    },
    {
      "cell_type": "code",
      "execution_count": null,
      "id": "XpbMm0H8PPNT",
      "metadata": {
        "id": "XpbMm0H8PPNT"
      },
      "outputs": [],
      "source": [
        "# alpha = 1"
      ]
    },
    {
      "cell_type": "code",
      "execution_count": null,
      "id": "df7c4ede-b4e7-4dce-b342-78f0b7a6fec2",
      "metadata": {
        "id": "df7c4ede-b4e7-4dce-b342-78f0b7a6fec2"
      },
      "outputs": [],
      "source": [
        "# Sanity check-\n",
        "'''\n",
        "train_epoch_loss, mu_train, logvar_train = train_one_epoch(\n",
        "    model = model, dataloader = train_loader,\n",
        "    alpha = alpha\n",
        "    )\n",
        "'''"
      ]
    },
    {
      "cell_type": "code",
      "execution_count": null,
      "id": "36f2c85c-de95-4d4e-8878-fac91b832dd1",
      "metadata": {
        "id": "36f2c85c-de95-4d4e-8878-fac91b832dd1"
      },
      "outputs": [],
      "source": [
        "# Sanity check-\n",
        "'''\n",
        "val_epoch_loss, mu_val, logvar_val = validate_one_epoch(\n",
        "    model = model, dataloader = test_loader,\n",
        "    alpha = alpha\n",
        "    )\n",
        "'''"
      ]
    },
    {
      "cell_type": "code",
      "execution_count": null,
      "id": "3e999296-c9b0-44a7-b137-f4e1869c1889",
      "metadata": {
        "id": "3e999296-c9b0-44a7-b137-f4e1869c1889"
      },
      "outputs": [],
      "source": [
        "# print(f\"train loss = {train_loss:.4f} & test loss = {test_loss:.4f}\")"
      ]
    },
    {
      "cell_type": "code",
      "execution_count": null,
      "id": "3fc03399-f103-4744-be1d-3b5a318041bf",
      "metadata": {
        "id": "3fc03399-f103-4744-be1d-3b5a318041bf"
      },
      "outputs": [],
      "source": [
        ""
      ]
    },
    {
      "cell_type": "code",
      "execution_count": null,
      "id": "d764ab87-e775-469d-a423-5949ba2ef641",
      "metadata": {
        "id": "d764ab87-e775-469d-a423-5949ba2ef641"
      },
      "outputs": [],
      "source": [
        ""
      ]
    },
    {
      "cell_type": "code",
      "execution_count": null,
      "id": "bbfcaf9d-e34e-4518-8dd5-7b9415f4502b",
      "metadata": {
        "id": "bbfcaf9d-e34e-4518-8dd5-7b9415f4502b"
      },
      "outputs": [],
      "source": [
        "# Specify alpha - Hyperparameter to control the importance of reconstruction\n",
        "# loss vs KL-Divergence Loss-\n",
        "alpha = 1"
      ]
    },
    {
      "cell_type": "code",
      "execution_count": null,
      "id": "d5680d41-651e-41c9-84fd-5ba5dd845a04",
      "metadata": {
        "id": "d5680d41-651e-41c9-84fd-5ba5dd845a04"
      },
      "outputs": [],
      "source": [
        ""
      ]
    },
    {
      "cell_type": "code",
      "execution_count": null,
      "id": "6fb16c17-d884-4d85-bc85-8df9c84c8de2",
      "metadata": {
        "id": "6fb16c17-d884-4d85-bc85-8df9c84c8de2"
      },
      "outputs": [],
      "source": [
        "# Python dict to contain training metrics-\n",
        "train_history = {}"
      ]
    },
    {
      "cell_type": "code",
      "execution_count": null,
      "id": "nhMY1nkiElZG",
      "metadata": {
        "colab": {
          "base_uri": "https://localhost:8080/"
        },
        "id": "nhMY1nkiElZG",
        "outputId": "8271bc28-8202-4c1a-9dd3-8ae96aef3c67"
      },
      "outputs": [
        {
          "output_type": "stream",
          "name": "stdout",
          "text": [
            "Training VAE model for 50 epochs\n"
          ]
        }
      ],
      "source": [
        "print(f\"Training VAE model for {num_epochs} epochs\")"
      ]
    },
    {
      "cell_type": "code",
      "execution_count": null,
      "id": "t0PibAAJEots",
      "metadata": {
        "id": "t0PibAAJEots"
      },
      "outputs": [],
      "source": [
        ""
      ]
    },
    {
      "cell_type": "code",
      "execution_count": null,
      "id": "8a71980b-7296-4f21-83f4-9ffaf76f2234",
      "metadata": {
        "colab": {
          "base_uri": "https://localhost:8080/"
        },
        "id": "8a71980b-7296-4f21-83f4-9ffaf76f2234",
        "outputId": "c736616a-3bd5-4e4f-b174-1ee88db0c616"
      },
      "outputs": [
        {
          "output_type": "stream",
          "name": "stderr",
          "text": [
            "1563it [02:17, 11.39it/s]                          \n",
            "313it [00:12, 24.94it/s]                         \n"
          ]
        },
        {
          "output_type": "stream",
          "name": "stdout",
          "text": [
            "Epoch = 1; train loss = 1087.6041,test loss = 782.2479, train_logvar = 0.000001, train_mu = 0.000000, val_logvar = 0.000001 & val_mu = 0.000000\n"
          ]
        },
        {
          "output_type": "stream",
          "name": "stderr",
          "text": [
            "1563it [02:17, 11.40it/s]                          \n",
            "313it [00:12, 24.91it/s]                         \n"
          ]
        },
        {
          "output_type": "stream",
          "name": "stdout",
          "text": [
            "Epoch = 2; train loss = 1083.2018,test loss = 782.2479, train_logvar = 0.000002, train_mu = -0.000000, val_logvar = 0.000001 & val_mu = -0.000000\n"
          ]
        },
        {
          "output_type": "stream",
          "name": "stderr",
          "text": [
            "1563it [02:17, 11.39it/s]                          \n",
            "313it [00:12, 24.92it/s]                         \n"
          ]
        },
        {
          "output_type": "stream",
          "name": "stdout",
          "text": [
            "Epoch = 3; train loss = 1084.6293,test loss = 782.2479, train_logvar = -0.000004, train_mu = -0.000001, val_logvar = -0.000004 & val_mu = -0.000001\n"
          ]
        },
        {
          "output_type": "stream",
          "name": "stderr",
          "text": [
            "1563it [02:17, 11.39it/s]                          \n",
            "313it [00:12, 24.95it/s]                         \n"
          ]
        },
        {
          "output_type": "stream",
          "name": "stdout",
          "text": [
            "Epoch = 4; train loss = 1083.9148,test loss = 782.2479, train_logvar = -0.000002, train_mu = -0.000000, val_logvar = -0.000002 & val_mu = -0.000000\n"
          ]
        },
        {
          "output_type": "stream",
          "name": "stderr",
          "text": [
            "1563it [02:17, 11.38it/s]                          \n",
            "313it [00:12, 25.01it/s]                         \n"
          ]
        },
        {
          "output_type": "stream",
          "name": "stdout",
          "text": [
            "Epoch = 5; train loss = 1082.7947,test loss = 782.2479, train_logvar = 0.000000, train_mu = 0.000001, val_logvar = -0.000000 & val_mu = 0.000001\n"
          ]
        },
        {
          "output_type": "stream",
          "name": "stderr",
          "text": [
            "1563it [02:17, 11.39it/s]                          \n",
            "313it [00:12, 25.02it/s]                         \n"
          ]
        },
        {
          "output_type": "stream",
          "name": "stdout",
          "text": [
            "Epoch = 6; train loss = 1083.7899,test loss = 782.2479, train_logvar = -0.000001, train_mu = -0.000001, val_logvar = -0.000001 & val_mu = -0.000000\n"
          ]
        },
        {
          "output_type": "stream",
          "name": "stderr",
          "text": [
            "1563it [02:17, 11.40it/s]                          \n",
            "313it [00:12, 24.92it/s]                         \n"
          ]
        },
        {
          "output_type": "stream",
          "name": "stdout",
          "text": [
            "Epoch = 7; train loss = 1084.3868,test loss = 782.2479, train_logvar = 0.000000, train_mu = -0.000008, val_logvar = 0.000007 & val_mu = -0.000007\n"
          ]
        },
        {
          "output_type": "stream",
          "name": "stderr",
          "text": [
            "1563it [02:16, 11.44it/s]                          \n",
            "313it [00:12, 25.05it/s]                         \n"
          ]
        },
        {
          "output_type": "stream",
          "name": "stdout",
          "text": [
            "Epoch = 8; train loss = 1083.4225,test loss = 782.2479, train_logvar = 0.000000, train_mu = -0.000005, val_logvar = -0.000003 & val_mu = -0.000005\n"
          ]
        },
        {
          "output_type": "stream",
          "name": "stderr",
          "text": [
            "1563it [02:16, 11.41it/s]                          \n",
            "313it [00:12, 24.93it/s]                         \n"
          ]
        },
        {
          "output_type": "stream",
          "name": "stdout",
          "text": [
            "Epoch = 9; train loss = 1083.7084,test loss = 782.2479, train_logvar = 0.000000, train_mu = 0.000000, val_logvar = 0.000001 & val_mu = 0.000000\n"
          ]
        },
        {
          "output_type": "stream",
          "name": "stderr",
          "text": [
            "1563it [02:16, 11.41it/s]                          \n",
            "313it [00:12, 24.95it/s]                         \n"
          ]
        },
        {
          "output_type": "stream",
          "name": "stdout",
          "text": [
            "Epoch = 10; train loss = 1082.7533,test loss = 782.2479, train_logvar = -0.000002, train_mu = 0.000001, val_logvar = -0.000003 & val_mu = 0.000001\n"
          ]
        },
        {
          "output_type": "stream",
          "name": "stderr",
          "text": [
            "1563it [02:17, 11.40it/s]                          \n",
            "313it [00:12, 24.81it/s]                         \n"
          ]
        },
        {
          "output_type": "stream",
          "name": "stdout",
          "text": [
            "Epoch = 11; train loss = 1083.8688,test loss = 782.2479, train_logvar = 0.000000, train_mu = -0.000003, val_logvar = 0.000001 & val_mu = -0.000003\n"
          ]
        },
        {
          "output_type": "stream",
          "name": "stderr",
          "text": [
            "1563it [02:17, 11.40it/s]                          \n",
            "313it [00:12, 24.90it/s]                         \n"
          ]
        },
        {
          "output_type": "stream",
          "name": "stdout",
          "text": [
            "Epoch = 12; train loss = 1082.7780,test loss = 782.2479, train_logvar = 0.000003, train_mu = -0.000007, val_logvar = 0.000004 & val_mu = -0.000011\n"
          ]
        },
        {
          "output_type": "stream",
          "name": "stderr",
          "text": [
            "1563it [02:17, 11.40it/s]                          \n",
            "313it [00:12, 24.93it/s]                         \n"
          ]
        },
        {
          "output_type": "stream",
          "name": "stdout",
          "text": [
            "Epoch = 13; train loss = 1084.4801,test loss = 782.2479, train_logvar = -0.000003, train_mu = -0.000002, val_logvar = -0.000003 & val_mu = -0.000004\n"
          ]
        },
        {
          "output_type": "stream",
          "name": "stderr",
          "text": [
            "1563it [02:17, 11.40it/s]                          \n",
            "313it [00:12, 24.94it/s]                         \n"
          ]
        },
        {
          "output_type": "stream",
          "name": "stdout",
          "text": [
            "Epoch = 14; train loss = 1083.9334,test loss = 782.2479, train_logvar = 0.000000, train_mu = 0.000000, val_logvar = -0.000000 & val_mu = -0.000000\n"
          ]
        },
        {
          "output_type": "stream",
          "name": "stderr",
          "text": [
            "1563it [02:17, 11.41it/s]                          \n",
            "313it [00:12, 24.96it/s]                         \n"
          ]
        },
        {
          "output_type": "stream",
          "name": "stdout",
          "text": [
            "Epoch = 15; train loss = 1083.6225,test loss = 782.2479, train_logvar = -0.000002, train_mu = 0.000002, val_logvar = -0.000002 & val_mu = 0.000002\n"
          ]
        },
        {
          "output_type": "stream",
          "name": "stderr",
          "text": [
            "1563it [02:17, 11.41it/s]                          \n",
            "313it [00:12, 25.00it/s]                         \n"
          ]
        },
        {
          "output_type": "stream",
          "name": "stdout",
          "text": [
            "Epoch = 16; train loss = 1083.0517,test loss = 782.2479, train_logvar = -0.000000, train_mu = 0.000000, val_logvar = 0.000000 & val_mu = 0.000000\n"
          ]
        },
        {
          "output_type": "stream",
          "name": "stderr",
          "text": [
            "1563it [02:16, 11.41it/s]                          \n",
            "313it [00:12, 24.95it/s]                         \n"
          ]
        },
        {
          "output_type": "stream",
          "name": "stdout",
          "text": [
            "Epoch = 17; train loss = 1082.9789,test loss = 782.2479, train_logvar = -0.000001, train_mu = 0.000000, val_logvar = -0.000001 & val_mu = 0.000000\n"
          ]
        },
        {
          "output_type": "stream",
          "name": "stderr",
          "text": [
            "1563it [02:16, 11.42it/s]                          \n",
            "313it [00:12, 24.85it/s]                         \n"
          ]
        },
        {
          "output_type": "stream",
          "name": "stdout",
          "text": [
            "Epoch = 18; train loss = 1083.0934,test loss = 782.2479, train_logvar = -0.000005, train_mu = 0.000002, val_logvar = -0.000010 & val_mu = 0.000001\n"
          ]
        },
        {
          "output_type": "stream",
          "name": "stderr",
          "text": [
            "1563it [02:16, 11.42it/s]                          \n",
            "313it [00:12, 24.90it/s]                         \n"
          ]
        },
        {
          "output_type": "stream",
          "name": "stdout",
          "text": [
            "Epoch = 19; train loss = 1083.8172,test loss = 782.2479, train_logvar = 0.000000, train_mu = 0.000003, val_logvar = 0.000000 & val_mu = 0.000002\n"
          ]
        },
        {
          "output_type": "stream",
          "name": "stderr",
          "text": [
            "1563it [02:16, 11.43it/s]                          \n",
            "313it [00:12, 25.00it/s]                         \n"
          ]
        },
        {
          "output_type": "stream",
          "name": "stdout",
          "text": [
            "Epoch = 20; train loss = 1083.9420,test loss = 782.2479, train_logvar = -0.000000, train_mu = -0.000000, val_logvar = -0.000000 & val_mu = -0.000000\n"
          ]
        },
        {
          "output_type": "stream",
          "name": "stderr",
          "text": [
            "1563it [02:16, 11.42it/s]                          \n",
            "313it [00:12, 24.87it/s]                         \n"
          ]
        },
        {
          "output_type": "stream",
          "name": "stdout",
          "text": [
            "Epoch = 21; train loss = 1082.9437,test loss = 782.2479, train_logvar = 0.000007, train_mu = 0.000002, val_logvar = 0.000005 & val_mu = 0.000002\n"
          ]
        },
        {
          "output_type": "stream",
          "name": "stderr",
          "text": [
            "1563it [02:16, 11.42it/s]                          \n",
            "313it [00:12, 24.90it/s]                         \n"
          ]
        },
        {
          "output_type": "stream",
          "name": "stdout",
          "text": [
            "Epoch = 22; train loss = 1082.4313,test loss = 782.2479, train_logvar = -0.000007, train_mu = 0.000001, val_logvar = -0.000008 & val_mu = 0.000001\n"
          ]
        },
        {
          "output_type": "stream",
          "name": "stderr",
          "text": [
            "1563it [02:16, 11.42it/s]                          \n",
            "313it [00:12, 24.83it/s]                         \n"
          ]
        },
        {
          "output_type": "stream",
          "name": "stdout",
          "text": [
            "Epoch = 23; train loss = 1084.2525,test loss = 782.2479, train_logvar = 0.000002, train_mu = -0.000000, val_logvar = 0.000001 & val_mu = -0.000000\n"
          ]
        },
        {
          "output_type": "stream",
          "name": "stderr",
          "text": [
            "1563it [02:16, 11.42it/s]                          \n",
            "313it [00:12, 25.01it/s]                         \n"
          ]
        },
        {
          "output_type": "stream",
          "name": "stdout",
          "text": [
            "Epoch = 24; train loss = 1083.7469,test loss = 782.2479, train_logvar = -0.000002, train_mu = 0.000001, val_logvar = -0.000002 & val_mu = 0.000001\n"
          ]
        },
        {
          "output_type": "stream",
          "name": "stderr",
          "text": [
            "1563it [02:16, 11.43it/s]                          \n",
            "313it [00:12, 24.93it/s]                         \n"
          ]
        },
        {
          "output_type": "stream",
          "name": "stdout",
          "text": [
            "Epoch = 25; train loss = 1084.3268,test loss = 782.2479, train_logvar = 0.000002, train_mu = -0.000001, val_logvar = -0.000000 & val_mu = -0.000001\n"
          ]
        },
        {
          "output_type": "stream",
          "name": "stderr",
          "text": [
            "1563it [02:17, 11.41it/s]                          \n",
            "313it [00:12, 24.76it/s]                         \n"
          ]
        },
        {
          "output_type": "stream",
          "name": "stdout",
          "text": [
            "Epoch = 26; train loss = 1083.4851,test loss = 782.2479, train_logvar = 0.000000, train_mu = -0.000000, val_logvar = 0.000000 & val_mu = -0.000000\n"
          ]
        },
        {
          "output_type": "stream",
          "name": "stderr",
          "text": [
            "1563it [02:17, 11.40it/s]                          \n",
            "313it [00:12, 24.87it/s]                         \n"
          ]
        },
        {
          "output_type": "stream",
          "name": "stdout",
          "text": [
            "Epoch = 27; train loss = 1083.6993,test loss = 782.2479, train_logvar = -0.000002, train_mu = -0.000001, val_logvar = -0.000003 & val_mu = -0.000001\n"
          ]
        },
        {
          "output_type": "stream",
          "name": "stderr",
          "text": [
            "1563it [02:17, 11.39it/s]                          \n",
            "313it [00:12, 24.91it/s]                         \n"
          ]
        },
        {
          "output_type": "stream",
          "name": "stdout",
          "text": [
            "Epoch = 28; train loss = 1082.8906,test loss = 782.2479, train_logvar = 0.000000, train_mu = 0.000001, val_logvar = 0.000000 & val_mu = 0.000000\n"
          ]
        },
        {
          "output_type": "stream",
          "name": "stderr",
          "text": [
            "1563it [02:17, 11.40it/s]                          \n",
            "313it [00:12, 24.92it/s]                         \n"
          ]
        },
        {
          "output_type": "stream",
          "name": "stdout",
          "text": [
            "Epoch = 29; train loss = 1083.8256,test loss = 782.2479, train_logvar = 0.000013, train_mu = -0.000002, val_logvar = 0.000011 & val_mu = -0.000002\n"
          ]
        },
        {
          "output_type": "stream",
          "name": "stderr",
          "text": [
            "1563it [02:17, 11.40it/s]                          \n",
            "313it [00:12, 24.82it/s]                         \n"
          ]
        },
        {
          "output_type": "stream",
          "name": "stdout",
          "text": [
            "Epoch = 30; train loss = 1083.6519,test loss = 782.2479, train_logvar = 0.000001, train_mu = 0.000008, val_logvar = -0.000002 & val_mu = 0.000009\n"
          ]
        },
        {
          "output_type": "stream",
          "name": "stderr",
          "text": [
            "1563it [02:17, 11.40it/s]                          \n",
            "313it [00:12, 24.82it/s]                         \n"
          ]
        },
        {
          "output_type": "stream",
          "name": "stdout",
          "text": [
            "Epoch = 31; train loss = 1082.9941,test loss = 782.2479, train_logvar = -0.000001, train_mu = 0.000000, val_logvar = 0.000001 & val_mu = 0.000000\n"
          ]
        },
        {
          "output_type": "stream",
          "name": "stderr",
          "text": [
            "1563it [02:17, 11.39it/s]                          \n",
            "313it [00:12, 24.94it/s]                         \n"
          ]
        },
        {
          "output_type": "stream",
          "name": "stdout",
          "text": [
            "Epoch = 32; train loss = 1083.9925,test loss = 782.2479, train_logvar = 0.000007, train_mu = -0.000003, val_logvar = 0.000007 & val_mu = -0.000003\n"
          ]
        },
        {
          "output_type": "stream",
          "name": "stderr",
          "text": [
            "1563it [02:17, 11.40it/s]                          \n",
            "313it [00:12, 24.82it/s]                         \n"
          ]
        },
        {
          "output_type": "stream",
          "name": "stdout",
          "text": [
            "Epoch = 33; train loss = 1083.6738,test loss = 782.2479, train_logvar = -0.000005, train_mu = 0.000001, val_logvar = -0.000007 & val_mu = 0.000002\n"
          ]
        },
        {
          "output_type": "stream",
          "name": "stderr",
          "text": [
            "1563it [02:17, 11.39it/s]                          \n",
            "313it [00:12, 24.81it/s]                         \n"
          ]
        },
        {
          "output_type": "stream",
          "name": "stdout",
          "text": [
            "Epoch = 34; train loss = 1083.1765,test loss = 782.2479, train_logvar = 0.000011, train_mu = -0.000005, val_logvar = 0.000025 & val_mu = 0.000016\n"
          ]
        },
        {
          "output_type": "stream",
          "name": "stderr",
          "text": [
            "1563it [02:17, 11.39it/s]                          \n",
            "313it [00:12, 24.91it/s]                         \n"
          ]
        },
        {
          "output_type": "stream",
          "name": "stdout",
          "text": [
            "Epoch = 35; train loss = 1083.7017,test loss = 782.2479, train_logvar = -0.000000, train_mu = 0.000000, val_logvar = -0.000000 & val_mu = -0.000000\n"
          ]
        },
        {
          "output_type": "stream",
          "name": "stderr",
          "text": [
            "1563it [02:17, 11.40it/s]                          \n",
            "313it [00:12, 24.94it/s]                         \n"
          ]
        },
        {
          "output_type": "stream",
          "name": "stdout",
          "text": [
            "Epoch = 36; train loss = 1083.2250,test loss = 782.2479, train_logvar = 0.000001, train_mu = 0.000000, val_logvar = 0.000001 & val_mu = 0.000000\n"
          ]
        },
        {
          "output_type": "stream",
          "name": "stderr",
          "text": [
            "1563it [02:17, 11.39it/s]                          \n",
            "313it [00:12, 24.85it/s]                         \n"
          ]
        },
        {
          "output_type": "stream",
          "name": "stdout",
          "text": [
            "Epoch = 37; train loss = 1083.6151,test loss = 782.2479, train_logvar = -0.000001, train_mu = 0.000001, val_logvar = -0.000001 & val_mu = 0.000000\n"
          ]
        },
        {
          "output_type": "stream",
          "name": "stderr",
          "text": [
            "1563it [02:17, 11.39it/s]                          \n",
            "313it [00:12, 24.81it/s]                         \n"
          ]
        },
        {
          "output_type": "stream",
          "name": "stdout",
          "text": [
            "Epoch = 38; train loss = 1083.8761,test loss = 782.2479, train_logvar = 0.000000, train_mu = -0.000000, val_logvar = 0.000001 & val_mu = -0.000000\n"
          ]
        },
        {
          "output_type": "stream",
          "name": "stderr",
          "text": [
            "1563it [02:17, 11.39it/s]                          \n",
            "313it [00:12, 24.81it/s]                         \n"
          ]
        },
        {
          "output_type": "stream",
          "name": "stdout",
          "text": [
            "Epoch = 39; train loss = 1083.0064,test loss = 782.2479, train_logvar = -0.000001, train_mu = 0.000000, val_logvar = -0.000001 & val_mu = 0.000000\n"
          ]
        },
        {
          "output_type": "stream",
          "name": "stderr",
          "text": [
            "1563it [02:16, 11.41it/s]                          \n",
            "313it [00:12, 24.92it/s]                         \n"
          ]
        },
        {
          "output_type": "stream",
          "name": "stdout",
          "text": [
            "Epoch = 40; train loss = 1083.5551,test loss = 782.2479, train_logvar = 0.000005, train_mu = -0.000002, val_logvar = 0.000004 & val_mu = -0.000001\n"
          ]
        },
        {
          "output_type": "stream",
          "name": "stderr",
          "text": [
            "1563it [02:17, 11.38it/s]                          \n",
            "313it [00:12, 24.81it/s]                         \n"
          ]
        },
        {
          "output_type": "stream",
          "name": "stdout",
          "text": [
            "Epoch = 41; train loss = 1083.6618,test loss = 782.2479, train_logvar = 0.000000, train_mu = 0.000001, val_logvar = 0.000000 & val_mu = 0.000001\n"
          ]
        },
        {
          "output_type": "stream",
          "name": "stderr",
          "text": [
            "1563it [02:17, 11.38it/s]                          \n",
            "313it [00:12, 24.87it/s]                         \n"
          ]
        },
        {
          "output_type": "stream",
          "name": "stdout",
          "text": [
            "Epoch = 42; train loss = 1083.2539,test loss = 782.2479, train_logvar = 0.000001, train_mu = 0.000000, val_logvar = 0.000000 & val_mu = -0.000000\n"
          ]
        },
        {
          "output_type": "stream",
          "name": "stderr",
          "text": [
            "1563it [02:17, 11.39it/s]                          \n",
            "313it [00:12, 24.80it/s]                         \n"
          ]
        },
        {
          "output_type": "stream",
          "name": "stdout",
          "text": [
            "Epoch = 43; train loss = 1083.6479,test loss = 782.2479, train_logvar = -0.000000, train_mu = -0.000001, val_logvar = -0.000001 & val_mu = -0.000001\n"
          ]
        },
        {
          "output_type": "stream",
          "name": "stderr",
          "text": [
            "1563it [02:17, 11.38it/s]                          \n",
            "313it [00:12, 24.91it/s]                         \n"
          ]
        },
        {
          "output_type": "stream",
          "name": "stdout",
          "text": [
            "Epoch = 44; train loss = 1083.5556,test loss = 782.2479, train_logvar = 0.000004, train_mu = 0.000002, val_logvar = 0.000003 & val_mu = 0.000002\n"
          ]
        },
        {
          "output_type": "stream",
          "name": "stderr",
          "text": [
            "1563it [02:17, 11.38it/s]                          \n",
            "313it [00:12, 24.86it/s]                         \n"
          ]
        },
        {
          "output_type": "stream",
          "name": "stdout",
          "text": [
            "Epoch = 45; train loss = 1082.8083,test loss = 782.2479, train_logvar = -0.000000, train_mu = -0.000000, val_logvar = -0.000000 & val_mu = -0.000000\n"
          ]
        },
        {
          "output_type": "stream",
          "name": "stderr",
          "text": [
            "1563it [02:17, 11.39it/s]                          \n",
            "313it [00:12, 24.80it/s]                         \n"
          ]
        },
        {
          "output_type": "stream",
          "name": "stdout",
          "text": [
            "Epoch = 46; train loss = 1084.1856,test loss = 782.2479, train_logvar = 0.000005, train_mu = -0.000000, val_logvar = 0.000004 & val_mu = -0.000001\n"
          ]
        },
        {
          "output_type": "stream",
          "name": "stderr",
          "text": [
            "1563it [02:17, 11.39it/s]                          \n",
            "313it [00:12, 24.81it/s]                         \n"
          ]
        },
        {
          "output_type": "stream",
          "name": "stdout",
          "text": [
            "Epoch = 47; train loss = 1083.9267,test loss = 782.2479, train_logvar = 0.000001, train_mu = -0.000000, val_logvar = 0.000001 & val_mu = -0.000001\n"
          ]
        },
        {
          "output_type": "stream",
          "name": "stderr",
          "text": [
            "1563it [02:17, 11.39it/s]                          \n",
            "313it [00:12, 24.85it/s]                         \n"
          ]
        },
        {
          "output_type": "stream",
          "name": "stdout",
          "text": [
            "Epoch = 48; train loss = 1084.0362,test loss = 782.2479, train_logvar = -0.000001, train_mu = -0.000001, val_logvar = -0.000001 & val_mu = -0.000001\n"
          ]
        },
        {
          "output_type": "stream",
          "name": "stderr",
          "text": [
            "1563it [02:17, 11.39it/s]                          \n",
            "313it [00:12, 24.86it/s]                         \n"
          ]
        },
        {
          "output_type": "stream",
          "name": "stdout",
          "text": [
            "Epoch = 49; train loss = 1083.1120,test loss = 782.2479, train_logvar = -0.000002, train_mu = 0.000001, val_logvar = -0.000002 & val_mu = -0.000000\n"
          ]
        },
        {
          "output_type": "stream",
          "name": "stderr",
          "text": [
            "1563it [02:17, 11.40it/s]                          \n",
            "313it [00:12, 24.79it/s]                         "
          ]
        },
        {
          "output_type": "stream",
          "name": "stdout",
          "text": [
            "Epoch = 50; train loss = 1083.4633,test loss = 782.2479, train_logvar = 0.000002, train_mu = 0.000003, val_logvar = 0.000001 & val_mu = 0.000003\n"
          ]
        },
        {
          "output_type": "stream",
          "name": "stderr",
          "text": [
            "\n"
          ]
        }
      ],
      "source": [
        "for epoch in range(1, num_epochs + 1):\n",
        "    # Train model for 1 epoch-\n",
        "    train_epoch_loss, mu_train, logvar_train = train_one_epoch(\n",
        "        model = model, dataloader = train_loader,\n",
        "        alpha = alpha\n",
        "    )\n",
        "    \n",
        "    # Get validation metrics-\n",
        "    val_epoch_loss, mu_val, logvar_val = validate_one_epoch(\n",
        "        model = model, dataloader = test_loader,\n",
        "        alpha = alpha\n",
        "    )\n",
        "    \n",
        "    # Retrieve model performance metrics-\n",
        "    logvar_train = logvar_train.mean().detach().cpu().numpy()\n",
        "    logvar_val = logvar_val.mean().detach().cpu().numpy()\n",
        "    mu_train = mu_train.mean().detach().cpu().numpy()\n",
        "    mu_val = mu_val.mean().detach().cpu().numpy()\n",
        "\n",
        "    # Store model performance metrics in Python3 dict-\n",
        "    train_history[epoch] = {\n",
        "        'train_loss': train_epoch_loss,\n",
        "        'val_loss': val_epoch_loss,\n",
        "        'train_logvar': logvar_train,\n",
        "        'val_logvar': logvar_val,\n",
        "        'train_mu': mu_train,\n",
        "        'val_mu': mu_val\n",
        "    }\n",
        "\n",
        "    print(f\"Epoch = {epoch}; train loss = {train_epoch_loss:.4f},\"\n",
        "    f\"test loss = {val_epoch_loss:.4f}, train_logvar = {logvar_train:.6f}\"\n",
        "    f\", train_mu = {mu_train:.6f}, val_logvar = {logvar_val:.6f} &\"\n",
        "    f\" val_mu = {mu_val:.6f}\")\n",
        "    "
      ]
    },
    {
      "cell_type": "code",
      "execution_count": null,
      "id": "tqNNvrFjGXLn",
      "metadata": {
        "id": "tqNNvrFjGXLn"
      },
      "outputs": [],
      "source": [
        ""
      ]
    },
    {
      "cell_type": "code",
      "execution_count": null,
      "id": "156dec76-37a6-4791-b65f-302a0d7cc167",
      "metadata": {
        "id": "156dec76-37a6-4791-b65f-302a0d7cc167"
      },
      "outputs": [],
      "source": [
        ""
      ]
    },
    {
      "cell_type": "code",
      "execution_count": null,
      "id": "e6b7b73c-da68-4d41-95a1-d88bc1a85e1b",
      "metadata": {
        "id": "e6b7b73c-da68-4d41-95a1-d88bc1a85e1b"
      },
      "outputs": [],
      "source": [
        "# Save trained VAE model's weights-\n",
        "torch.save(model.state_dict(), 'VAE_Conv_CIFAR10_Trained_Weights.pth')"
      ]
    },
    {
      "cell_type": "code",
      "execution_count": null,
      "id": "d39c6ca2-552c-42b9-bd55-f7a0da7f076b",
      "metadata": {
        "id": "d39c6ca2-552c-42b9-bd55-f7a0da7f076b"
      },
      "outputs": [],
      "source": [
        "# Load trained weights from before-\n",
        "# loaded_model = VAE_Dense(latent_space = 5).to(device)\n",
        "# loaded_model.load_state_dict(torch.load('VAE_Conv_CIFAR10_Trained_Weights', map_location = torch.device('cpu')))"
      ]
    },
    {
      "cell_type": "code",
      "execution_count": null,
      "id": "32ceef18-bf04-40e0-a3b9-09332af446d2",
      "metadata": {
        "id": "32ceef18-bf04-40e0-a3b9-09332af446d2"
      },
      "outputs": [],
      "source": [
        "# Define gradient descent optimizer-\n",
        "# optimizer = torch.optim.Adam(loaded_model.parameters(), lr = learning_rate)"
      ]
    },
    {
      "cell_type": "code",
      "execution_count": null,
      "id": "c0494cc3-3059-46e7-ab85-c4d04fd37960",
      "metadata": {
        "id": "c0494cc3-3059-46e7-ab85-c4d04fd37960"
      },
      "outputs": [],
      "source": [
        ""
      ]
    },
    {
      "cell_type": "code",
      "execution_count": null,
      "id": "f7ede4f1-a757-4c47-91eb-280828a40489",
      "metadata": {
        "id": "f7ede4f1-a757-4c47-91eb-280828a40489"
      },
      "outputs": [],
      "source": [
        "\n",
        "import pickle\n",
        "\n",
        "# Save training history as pickle file-\n",
        "with open(\"VAE_Conv_CIFAR10_training_history.pkl\", \"wb\") as file:\n",
        "    pickle.dump(train_history, file)"
      ]
    },
    {
      "cell_type": "code",
      "execution_count": null,
      "id": "3b855080-7263-45a8-8c47-f6b94db50cf4",
      "metadata": {
        "id": "3b855080-7263-45a8-8c47-f6b94db50cf4"
      },
      "outputs": [],
      "source": [
        "'''\n",
        "# Load training history from pickle file-\n",
        "with open(\"VAE_Conv_CIFAR10_training_history.pkl\", \"rb\") as file:\n",
        "    training_history_lr_scheduler = pickle.load(file)\n",
        "'''"
      ]
    },
    {
      "cell_type": "code",
      "execution_count": null,
      "id": "e6cb576e-d042-476c-851e-8e5bc8ab833b",
      "metadata": {
        "id": "e6cb576e-d042-476c-851e-8e5bc8ab833b"
      },
      "outputs": [],
      "source": [
        ""
      ]
    },
    {
      "cell_type": "code",
      "execution_count": null,
      "id": "8abd0a72-b722-4b88-8928-6b3e30f8b07f",
      "metadata": {
        "colab": {
          "base_uri": "https://localhost:8080/",
          "height": 444
        },
        "id": "8abd0a72-b722-4b88-8928-6b3e30f8b07f",
        "outputId": "a5e64ef5-e91e-40ea-fbc3-cf0913722c81"
      },
      "outputs": [
        {
          "output_type": "display_data",
          "data": {
            "image/png": "[encoded data removed]",
            "text/plain": [
              "<Figure size 648x504 with 1 Axes>"
            ]
          },
          "metadata": {
            "needs_background": "light"
          }
        }
      ],
      "source": [
        "# VAE Training Visualization-\n",
        "plt.figure(figsize = (9, 7))\n",
        "plt.plot([train_history[x]['train_loss'] for x in train_history.keys()], label = 'train_loss')\n",
        "plt.plot([train_history[x]['val_loss'] for x in train_history.keys()], label = 'val_loss')\n",
        "plt.legend(loc = 'best')\n",
        "plt.title(\"VAE-Convolutional: CIFAR-10 Training Visualizations\")\n",
        "plt.show()"
      ]
    },
    {
      "cell_type": "code",
      "execution_count": null,
      "id": "cde9e68e-ab50-44d0-b518-66f43d5859c2",
      "metadata": {
        "colab": {
          "base_uri": "https://localhost:8080/",
          "height": 444
        },
        "id": "cde9e68e-ab50-44d0-b518-66f43d5859c2",
        "outputId": "b5e86496-1ec7-4677-b71b-363fadc04281"
      },
      "outputs": [
        {
          "output_type": "display_data",
          "data": {
            "image/png": "[encoded data removed]",
            "text/plain": [
              "<Figure size 648x504 with 1 Axes>"
            ]
          },
          "metadata": {
            "needs_background": "light"
          }
        }
      ],
      "source": [
        "# VAE Training Visualization-\n",
        "plt.figure(figsize = (9, 7))\n",
        "plt.plot([train_history[x]['train_logvar'] for x in train_history.keys()], label = 'train_logvar')\n",
        "plt.plot([train_history[x]['val_logvar'] for x in train_history.keys()], label = 'val_logvar')\n",
        "plt.legend(loc = 'best')\n",
        "plt.title(\"VAE-Convolutional: (log_var) CIFAR-10 Training Visualizations\")\n",
        "plt.show()"
      ]
    },
    {
      "cell_type": "code",
      "execution_count": null,
      "id": "7GzHc6tKUXMc",
      "metadata": {
        "colab": {
          "base_uri": "https://localhost:8080/",
          "height": 444
        },
        "id": "7GzHc6tKUXMc",
        "outputId": "3d77442d-a79e-42dd-cbc7-df20f2eff760"
      },
      "outputs": [
        {
          "output_type": "display_data",
          "data": {
            "image/png": "[encoded data removed]",
            "text/plain": [
              "<Figure size 648x504 with 1 Axes>"
            ]
          },
          "metadata": {
            "needs_background": "light"
          }
        }
      ],
      "source": [
        "# VAE Training Visualization-\n",
        "plt.figure(figsize = (9, 7))\n",
        "plt.plot([train_history[x]['train_mu'] for x in train_history.keys()], label = 'mu_train')\n",
        "plt.plot([train_history[x]['val_mu'] for x in train_history.keys()], label = 'mu_val')\n",
        "plt.legend(loc = 'best')\n",
        "plt.title(\"VAE-Convolutional: (mu) CIFAR-10 Training Visualizations\")\n",
        "plt.show()"
      ]
    },
    {
      "cell_type": "code",
      "execution_count": null,
      "id": "ilazeVy0UpIz",
      "metadata": {
        "id": "ilazeVy0UpIz"
      },
      "outputs": [],
      "source": [
        ""
      ]
    },
    {
      "cell_type": "code",
      "execution_count": null,
      "id": "0cc651e6-a817-44f9-b004-b9ac1970f5d6",
      "metadata": {
        "id": "0cc651e6-a817-44f9-b004-b9ac1970f5d6"
      },
      "outputs": [],
      "source": [
        ""
      ]
    },
    {
      "cell_type": "markdown",
      "id": "0698a9e4-67bf-41a9-827f-9cb3a61149cc",
      "metadata": {
        "id": "0698a9e4-67bf-41a9-827f-9cb3a61149cc"
      },
      "source": [
        "### Reconstruct/Generate images using _trained_ VAE model:"
      ]
    },
    {
      "cell_type": "code",
      "execution_count": null,
      "id": "86e135bd-6f94-4cf6-a510-1f982577d6e2",
      "metadata": {
        "id": "86e135bd-6f94-4cf6-a510-1f982577d6e2"
      },
      "outputs": [],
      "source": [
        "images = images.to(device)"
      ]
    },
    {
      "cell_type": "code",
      "execution_count": null,
      "id": "f209a7f7-5678-44a8-85ef-107a3ea3935a",
      "metadata": {
        "id": "f209a7f7-5678-44a8-85ef-107a3ea3935a"
      },
      "outputs": [],
      "source": [
        "# Perform forward propagation-\n",
        "recon_images, mu, log_var = model(images)"
      ]
    },
    {
      "cell_type": "code",
      "execution_count": null,
      "id": "10aee1c7-4981-4d3a-b29c-5da864ecb916",
      "metadata": {
        "id": "10aee1c7-4981-4d3a-b29c-5da864ecb916"
      },
      "outputs": [],
      "source": [
        "# For CPU-\n",
        "recon_images = recon_images.detach().numpy()\n",
        "mu = mu.detach().numpy()\n",
        "log_var = log_var.detach().numpy()"
      ]
    },
    {
      "cell_type": "code",
      "execution_count": null,
      "id": "rETVI8LXU1mS",
      "metadata": {
        "id": "rETVI8LXU1mS"
      },
      "outputs": [],
      "source": [
        "# For GPU-\n",
        "recon_images = recon_images.cpu().detach().numpy()\n",
        "mu = mu.cpu().detach().numpy()\n",
        "log_var = log_var.cpu().detach().numpy()"
      ]
    },
    {
      "cell_type": "code",
      "execution_count": null,
      "id": "2c91d879-658f-41be-904a-a15b174c6193",
      "metadata": {
        "colab": {
          "base_uri": "https://localhost:8080/"
        },
        "id": "2c91d879-658f-41be-904a-a15b174c6193",
        "outputId": "07027aee-4d4e-4cf2-bf16-700c316dbb48"
      },
      "outputs": [
        {
          "output_type": "execute_result",
          "data": {
            "text/plain": [
              "((32, 3, 32, 32), (32, 200), (32, 200))"
            ]
          },
          "metadata": {},
          "execution_count": 39
        }
      ],
      "source": [
        "recon_images.shape, mu.shape, log_var.shape"
      ]
    },
    {
      "cell_type": "code",
      "execution_count": null,
      "id": "9ddb7ac2-7706-4461-89c3-edfbb693c8a2",
      "metadata": {
        "id": "9ddb7ac2-7706-4461-89c3-edfbb693c8a2"
      },
      "outputs": [],
      "source": [
        ""
      ]
    },
    {
      "cell_type": "code",
      "execution_count": null,
      "id": "5CEmRaxOnAeF",
      "metadata": {
        "id": "5CEmRaxOnAeF"
      },
      "outputs": [],
      "source": [
        "# Unnormalize images-\n",
        "recon_images = recon_images / 2 + 0.5\n",
        "recon_images = np.transpose(recon_images, (0, 2, 3, 1))"
      ]
    },
    {
      "cell_type": "code",
      "execution_count": null,
      "id": "kyg3MCSunFmt",
      "metadata": {
        "colab": {
          "base_uri": "https://localhost:8080/"
        },
        "id": "kyg3MCSunFmt",
        "outputId": "2adc6aff-dcf9-4178-e19f-9c12b69b9847"
      },
      "outputs": [
        {
          "output_type": "execute_result",
          "data": {
            "text/plain": [
              "(32, 32, 32, 3)"
            ]
          },
          "metadata": {},
          "execution_count": 41
        }
      ],
      "source": [
        "recon_images.shape"
      ]
    },
    {
      "cell_type": "code",
      "execution_count": null,
      "id": "JGJCTEx8nKhw",
      "metadata": {
        "colab": {
          "base_uri": "https://localhost:8080/",
          "height": 374
        },
        "id": "JGJCTEx8nKhw",
        "outputId": "6e09f239-e1fb-4a7f-9e41-747b61fefed6"
      },
      "outputs": [
        {
          "output_type": "display_data",
          "data": {
            "image/png": "[encoded data removed]",
            "text/plain": [
              "<Figure size 504x432 with 1 Axes>"
            ]
          },
          "metadata": {
            "needs_background": "light"
          }
        }
      ],
      "source": [
        "plt.figure(figsize = (7, 6))\n",
        "plt.imshow(recon_images[0])\n",
        "plt.show()\n"
      ]
    },
    {
      "cell_type": "code",
      "execution_count": null,
      "id": "yAvxGKUHnON-",
      "metadata": {
        "colab": {
          "base_uri": "https://localhost:8080/",
          "height": 274
        },
        "id": "yAvxGKUHnON-",
        "outputId": "37c3f93c-e86f-4fc5-dabd-3921d386aa3b"
      },
      "outputs": [
        {
          "output_type": "display_data",
          "data": {
            "image/png": "[encoded data removed]",
            "text/plain": [
              "<Figure size 432x288 with 10 Axes>"
            ]
          },
          "metadata": {
            "needs_background": "light"
          }
        }
      ],
      "source": [
        "# Visualize 10 images from reconstructions-\n",
        "for i in range(10):\n",
        "    plt.subplot(2, 5, i + 1)    # 2 rows & 5 columns\n",
        "    plt.imshow(recon_images[i])\n",
        "    \n",
        "plt.suptitle(\"Reconstructed CIFAR-10 training images\")\n",
        "plt.show()\n"
      ]
    },
    {
      "cell_type": "code",
      "execution_count": null,
      "id": "CI-kZOL5nWeM",
      "metadata": {
        "id": "CI-kZOL5nWeM"
      },
      "outputs": [],
      "source": [
        ""
      ]
    },
    {
      "cell_type": "code",
      "execution_count": null,
      "id": "wKGifaJgh9MQ",
      "metadata": {
        "id": "wKGifaJgh9MQ"
      },
      "outputs": [],
      "source": [
        ""
      ]
    },
    {
      "cell_type": "code",
      "execution_count": null,
      "id": "a5Zuy8okh-8w",
      "metadata": {
        "colab": {
          "base_uri": "https://localhost:8080/"
        },
        "id": "a5Zuy8okh-8w",
        "outputId": "4c045320-84c9-4cf9-e108-50d59161e34a"
      },
      "outputs": [
        {
          "data": {
            "text/plain": [
              "(638,)"
            ]
          },
          "execution_count": 108,
          "metadata": {},
          "output_type": "execute_result"
        }
      ],
      "source": [
        "mu[mu > 0.0002].shape"
      ]
    },
    {
      "cell_type": "code",
      "execution_count": null,
      "id": "6uAn0TDniBFI",
      "metadata": {
        "colab": {
          "base_uri": "https://localhost:8080/"
        },
        "id": "6uAn0TDniBFI",
        "outputId": "61002326-fea6-410b-bd2d-aa8e61c17dc5"
      },
      "outputs": [
        {
          "data": {
            "text/plain": [
              "(57,)"
            ]
          },
          "execution_count": 116,
          "metadata": {},
          "output_type": "execute_result"
        }
      ],
      "source": [
        "log_var[log_var <= -0.001].shape"
      ]
    },
    {
      "cell_type": "code",
      "execution_count": null,
      "id": "SeYzCUO4gvkL",
      "metadata": {
        "colab": {
          "base_uri": "https://localhost:8080/"
        },
        "id": "SeYzCUO4gvkL",
        "outputId": "9e29eb93-4c42-4c0f-fa6e-aa6fda3dad39"
      },
      "outputs": [
        {
          "data": {
            "text/plain": [
              "(64, 20)"
            ]
          },
          "execution_count": 93,
          "metadata": {},
          "output_type": "execute_result"
        }
      ],
      "source": [
        "mu.shape"
      ]
    },
    {
      "cell_type": "code",
      "execution_count": null,
      "id": "b1BnoBNQgwrD",
      "metadata": {
        "colab": {
          "base_uri": "https://localhost:8080/",
          "height": 428
        },
        "id": "b1BnoBNQgwrD",
        "outputId": "6e85b515-ed25-4aee-895d-76b351794fc2"
      },
      "outputs": [
        {
          "data": {
            "image/png": "[encoded data removed]",
            "text/plain": [
              "<Figure size 648x504 with 1 Axes>"
            ]
          },
          "metadata": {
            "needs_background": "light"
          },
          "output_type": "display_data"
        }
      ],
      "source": [
        "plt.figure(figsize = (9, 7))\n",
        "plt.scatter(x = mu[:, 2], y = mu[:, 3])\n",
        "plt.show()"
      ]
    },
    {
      "cell_type": "code",
      "execution_count": null,
      "id": "-gWgveqWhEKE",
      "metadata": {
        "colab": {
          "base_uri": "https://localhost:8080/",
          "height": 428
        },
        "id": "-gWgveqWhEKE",
        "outputId": "15d6bda7-e105-433c-d0a4-2ac0e21947c4"
      },
      "outputs": [
        {
          "data": {
            "image/png": "[encoded data removed]",
            "text/plain": [
              "<Figure size 648x504 with 1 Axes>"
            ]
          },
          "metadata": {
            "needs_background": "light"
          },
          "output_type": "display_data"
        }
      ],
      "source": [
        "plt.figure(figsize = (9, 7))\n",
        "plt.scatter(x = log_var[:, 2], y = log_var[:, 3])\n",
        "plt.show()"
      ]
    },
    {
      "cell_type": "code",
      "execution_count": null,
      "id": "D1CeZbwThKdQ",
      "metadata": {
        "id": "D1CeZbwThKdQ"
      },
      "outputs": [],
      "source": [
        ""
      ]
    },
    {
      "cell_type": "code",
      "execution_count": null,
      "id": "WIyH3Hk8g_bE",
      "metadata": {
        "id": "WIyH3Hk8g_bE"
      },
      "outputs": [],
      "source": [
        ""
      ]
    },
    {
      "cell_type": "code",
      "execution_count": null,
      "id": "6bGPIAyYg6J3",
      "metadata": {
        "id": "6bGPIAyYg6J3"
      },
      "outputs": [],
      "source": [
        ""
      ]
    },
    {
      "cell_type": "code",
      "execution_count": null,
      "id": "KmVB27P9gyJ5",
      "metadata": {
        "id": "KmVB27P9gyJ5"
      },
      "outputs": [],
      "source": [
        ""
      ]
    },
    {
      "cell_type": "code",
      "execution_count": null,
      "id": "f406200d-f733-494b-b02f-3103dca7d86d",
      "metadata": {
        "id": "f406200d-f733-494b-b02f-3103dca7d86d"
      },
      "outputs": [],
      "source": [
        ""
      ]
    },
    {
      "cell_type": "code",
      "execution_count": null,
      "id": "077b2f05-e594-43ff-961b-eb730b28f150",
      "metadata": {
        "id": "077b2f05-e594-43ff-961b-eb730b28f150",
        "colab": {
          "base_uri": "https://localhost:8080/",
          "height": 495
        },
        "outputId": "5c7696bc-0b1a-4c51-900e-578a3da7564a"
      },
      "outputs": [
        {
          "output_type": "error",
          "ename": "TypeError",
          "evalue": "ignored",
          "traceback": [
            "\u001b[0;31m---------------------------------------------------------------------------\u001b[0m",
            "\u001b[0;31mTypeError\u001b[0m                                 Traceback (most recent call last)",
            "\u001b[0;32m<ipython-input-46-c0013ac319f0>\u001b[0m in \u001b[0;36m<module>\u001b[0;34m()\u001b[0m\n\u001b[1;32m      2\u001b[0m \u001b[0;32mfor\u001b[0m \u001b[0mi\u001b[0m \u001b[0;32min\u001b[0m \u001b[0mrange\u001b[0m\u001b[0;34m(\u001b[0m\u001b[0;36m10\u001b[0m\u001b[0;34m)\u001b[0m\u001b[0;34m:\u001b[0m\u001b[0;34m\u001b[0m\u001b[0;34m\u001b[0m\u001b[0m\n\u001b[1;32m      3\u001b[0m     \u001b[0mplt\u001b[0m\u001b[0;34m.\u001b[0m\u001b[0msubplot\u001b[0m\u001b[0;34m(\u001b[0m\u001b[0;36m2\u001b[0m\u001b[0;34m,\u001b[0m \u001b[0;36m5\u001b[0m\u001b[0;34m,\u001b[0m \u001b[0mi\u001b[0m \u001b[0;34m+\u001b[0m \u001b[0;36m1\u001b[0m\u001b[0;34m)\u001b[0m    \u001b[0;31m# 2 rows & 5 columns\u001b[0m\u001b[0;34m\u001b[0m\u001b[0;34m\u001b[0m\u001b[0m\n\u001b[0;32m----> 4\u001b[0;31m     \u001b[0mplt\u001b[0m\u001b[0;34m.\u001b[0m\u001b[0mimshow\u001b[0m\u001b[0;34m(\u001b[0m\u001b[0mimages\u001b[0m\u001b[0;34m[\u001b[0m\u001b[0mi\u001b[0m\u001b[0;34m]\u001b[0m\u001b[0;34m.\u001b[0m\u001b[0mcpu\u001b[0m\u001b[0;34m(\u001b[0m\u001b[0;34m)\u001b[0m\u001b[0;34m)\u001b[0m\u001b[0;34m\u001b[0m\u001b[0;34m\u001b[0m\u001b[0m\n\u001b[0m\u001b[1;32m      5\u001b[0m \u001b[0;34m\u001b[0m\u001b[0m\n\u001b[1;32m      6\u001b[0m \u001b[0mplt\u001b[0m\u001b[0;34m.\u001b[0m\u001b[0msuptitle\u001b[0m\u001b[0;34m(\u001b[0m\u001b[0;34m\"Sample CIFAR-10 training images\"\u001b[0m\u001b[0;34m)\u001b[0m\u001b[0;34m\u001b[0m\u001b[0;34m\u001b[0m\u001b[0m\n",
            "\u001b[0;32m/usr/local/lib/python3.7/dist-packages/matplotlib/pyplot.py\u001b[0m in \u001b[0;36mimshow\u001b[0;34m(X, cmap, norm, aspect, interpolation, alpha, vmin, vmax, origin, extent, shape, filternorm, filterrad, imlim, resample, url, data, **kwargs)\u001b[0m\n\u001b[1;32m   2649\u001b[0m         \u001b[0mfilternorm\u001b[0m\u001b[0;34m=\u001b[0m\u001b[0mfilternorm\u001b[0m\u001b[0;34m,\u001b[0m \u001b[0mfilterrad\u001b[0m\u001b[0;34m=\u001b[0m\u001b[0mfilterrad\u001b[0m\u001b[0;34m,\u001b[0m \u001b[0mimlim\u001b[0m\u001b[0;34m=\u001b[0m\u001b[0mimlim\u001b[0m\u001b[0;34m,\u001b[0m\u001b[0;34m\u001b[0m\u001b[0;34m\u001b[0m\u001b[0m\n\u001b[1;32m   2650\u001b[0m         resample=resample, url=url, **({\"data\": data} if data is not\n\u001b[0;32m-> 2651\u001b[0;31m         None else {}), **kwargs)\n\u001b[0m\u001b[1;32m   2652\u001b[0m     \u001b[0msci\u001b[0m\u001b[0;34m(\u001b[0m\u001b[0m__ret\u001b[0m\u001b[0;34m)\u001b[0m\u001b[0;34m\u001b[0m\u001b[0;34m\u001b[0m\u001b[0m\n\u001b[1;32m   2653\u001b[0m     \u001b[0;32mreturn\u001b[0m \u001b[0m__ret\u001b[0m\u001b[0;34m\u001b[0m\u001b[0;34m\u001b[0m\u001b[0m\n",
            "\u001b[0;32m/usr/local/lib/python3.7/dist-packages/matplotlib/__init__.py\u001b[0m in \u001b[0;36minner\u001b[0;34m(ax, data, *args, **kwargs)\u001b[0m\n\u001b[1;32m   1563\u001b[0m     \u001b[0;32mdef\u001b[0m \u001b[0minner\u001b[0m\u001b[0;34m(\u001b[0m\u001b[0max\u001b[0m\u001b[0;34m,\u001b[0m \u001b[0;34m*\u001b[0m\u001b[0margs\u001b[0m\u001b[0;34m,\u001b[0m \u001b[0mdata\u001b[0m\u001b[0;34m=\u001b[0m\u001b[0;32mNone\u001b[0m\u001b[0;34m,\u001b[0m \u001b[0;34m**\u001b[0m\u001b[0mkwargs\u001b[0m\u001b[0;34m)\u001b[0m\u001b[0;34m:\u001b[0m\u001b[0;34m\u001b[0m\u001b[0;34m\u001b[0m\u001b[0m\n\u001b[1;32m   1564\u001b[0m         \u001b[0;32mif\u001b[0m \u001b[0mdata\u001b[0m \u001b[0;32mis\u001b[0m \u001b[0;32mNone\u001b[0m\u001b[0;34m:\u001b[0m\u001b[0;34m\u001b[0m\u001b[0;34m\u001b[0m\u001b[0m\n\u001b[0;32m-> 1565\u001b[0;31m             \u001b[0;32mreturn\u001b[0m \u001b[0mfunc\u001b[0m\u001b[0;34m(\u001b[0m\u001b[0max\u001b[0m\u001b[0;34m,\u001b[0m \u001b[0;34m*\u001b[0m\u001b[0mmap\u001b[0m\u001b[0;34m(\u001b[0m\u001b[0msanitize_sequence\u001b[0m\u001b[0;34m,\u001b[0m \u001b[0margs\u001b[0m\u001b[0;34m)\u001b[0m\u001b[0;34m,\u001b[0m \u001b[0;34m**\u001b[0m\u001b[0mkwargs\u001b[0m\u001b[0;34m)\u001b[0m\u001b[0;34m\u001b[0m\u001b[0;34m\u001b[0m\u001b[0m\n\u001b[0m\u001b[1;32m   1566\u001b[0m \u001b[0;34m\u001b[0m\u001b[0m\n\u001b[1;32m   1567\u001b[0m         \u001b[0mbound\u001b[0m \u001b[0;34m=\u001b[0m \u001b[0mnew_sig\u001b[0m\u001b[0;34m.\u001b[0m\u001b[0mbind\u001b[0m\u001b[0;34m(\u001b[0m\u001b[0max\u001b[0m\u001b[0;34m,\u001b[0m \u001b[0;34m*\u001b[0m\u001b[0margs\u001b[0m\u001b[0;34m,\u001b[0m \u001b[0;34m**\u001b[0m\u001b[0mkwargs\u001b[0m\u001b[0;34m)\u001b[0m\u001b[0;34m\u001b[0m\u001b[0;34m\u001b[0m\u001b[0m\n",
            "\u001b[0;32m/usr/local/lib/python3.7/dist-packages/matplotlib/cbook/deprecation.py\u001b[0m in \u001b[0;36mwrapper\u001b[0;34m(*args, **kwargs)\u001b[0m\n\u001b[1;32m    356\u001b[0m                 \u001b[0;34mf\"%(removal)s.  If any parameter follows {name!r}, they \"\u001b[0m\u001b[0;34m\u001b[0m\u001b[0;34m\u001b[0m\u001b[0m\n\u001b[1;32m    357\u001b[0m                 f\"should be pass as keyword, not positionally.\")\n\u001b[0;32m--> 358\u001b[0;31m         \u001b[0;32mreturn\u001b[0m \u001b[0mfunc\u001b[0m\u001b[0;34m(\u001b[0m\u001b[0;34m*\u001b[0m\u001b[0margs\u001b[0m\u001b[0;34m,\u001b[0m \u001b[0;34m**\u001b[0m\u001b[0mkwargs\u001b[0m\u001b[0;34m)\u001b[0m\u001b[0;34m\u001b[0m\u001b[0;34m\u001b[0m\u001b[0m\n\u001b[0m\u001b[1;32m    359\u001b[0m \u001b[0;34m\u001b[0m\u001b[0m\n\u001b[1;32m    360\u001b[0m     \u001b[0;32mreturn\u001b[0m \u001b[0mwrapper\u001b[0m\u001b[0;34m\u001b[0m\u001b[0;34m\u001b[0m\u001b[0m\n",
            "\u001b[0;32m/usr/local/lib/python3.7/dist-packages/matplotlib/cbook/deprecation.py\u001b[0m in \u001b[0;36mwrapper\u001b[0;34m(*args, **kwargs)\u001b[0m\n\u001b[1;32m    356\u001b[0m                 \u001b[0;34mf\"%(removal)s.  If any parameter follows {name!r}, they \"\u001b[0m\u001b[0;34m\u001b[0m\u001b[0;34m\u001b[0m\u001b[0m\n\u001b[1;32m    357\u001b[0m                 f\"should be pass as keyword, not positionally.\")\n\u001b[0;32m--> 358\u001b[0;31m         \u001b[0;32mreturn\u001b[0m \u001b[0mfunc\u001b[0m\u001b[0;34m(\u001b[0m\u001b[0;34m*\u001b[0m\u001b[0margs\u001b[0m\u001b[0;34m,\u001b[0m \u001b[0;34m**\u001b[0m\u001b[0mkwargs\u001b[0m\u001b[0;34m)\u001b[0m\u001b[0;34m\u001b[0m\u001b[0;34m\u001b[0m\u001b[0m\n\u001b[0m\u001b[1;32m    359\u001b[0m \u001b[0;34m\u001b[0m\u001b[0m\n\u001b[1;32m    360\u001b[0m     \u001b[0;32mreturn\u001b[0m \u001b[0mwrapper\u001b[0m\u001b[0;34m\u001b[0m\u001b[0;34m\u001b[0m\u001b[0m\n",
            "\u001b[0;32m/usr/local/lib/python3.7/dist-packages/matplotlib/axes/_axes.py\u001b[0m in \u001b[0;36mimshow\u001b[0;34m(self, X, cmap, norm, aspect, interpolation, alpha, vmin, vmax, origin, extent, shape, filternorm, filterrad, imlim, resample, url, **kwargs)\u001b[0m\n\u001b[1;32m   5624\u001b[0m                               resample=resample, **kwargs)\n\u001b[1;32m   5625\u001b[0m \u001b[0;34m\u001b[0m\u001b[0m\n\u001b[0;32m-> 5626\u001b[0;31m         \u001b[0mim\u001b[0m\u001b[0;34m.\u001b[0m\u001b[0mset_data\u001b[0m\u001b[0;34m(\u001b[0m\u001b[0mX\u001b[0m\u001b[0;34m)\u001b[0m\u001b[0;34m\u001b[0m\u001b[0;34m\u001b[0m\u001b[0m\n\u001b[0m\u001b[1;32m   5627\u001b[0m         \u001b[0mim\u001b[0m\u001b[0;34m.\u001b[0m\u001b[0mset_alpha\u001b[0m\u001b[0;34m(\u001b[0m\u001b[0malpha\u001b[0m\u001b[0;34m)\u001b[0m\u001b[0;34m\u001b[0m\u001b[0;34m\u001b[0m\u001b[0m\n\u001b[1;32m   5628\u001b[0m         \u001b[0;32mif\u001b[0m \u001b[0mim\u001b[0m\u001b[0;34m.\u001b[0m\u001b[0mget_clip_path\u001b[0m\u001b[0;34m(\u001b[0m\u001b[0;34m)\u001b[0m \u001b[0;32mis\u001b[0m \u001b[0;32mNone\u001b[0m\u001b[0;34m:\u001b[0m\u001b[0;34m\u001b[0m\u001b[0;34m\u001b[0m\u001b[0m\n",
            "\u001b[0;32m/usr/local/lib/python3.7/dist-packages/matplotlib/image.py\u001b[0m in \u001b[0;36mset_data\u001b[0;34m(self, A)\u001b[0m\n\u001b[1;32m    697\u001b[0m                 or self._A.ndim == 3 and self._A.shape[-1] in [3, 4]):\n\u001b[1;32m    698\u001b[0m             raise TypeError(\"Invalid shape {} for image data\"\n\u001b[0;32m--> 699\u001b[0;31m                             .format(self._A.shape))\n\u001b[0m\u001b[1;32m    700\u001b[0m \u001b[0;34m\u001b[0m\u001b[0m\n\u001b[1;32m    701\u001b[0m         \u001b[0;32mif\u001b[0m \u001b[0mself\u001b[0m\u001b[0;34m.\u001b[0m\u001b[0m_A\u001b[0m\u001b[0;34m.\u001b[0m\u001b[0mndim\u001b[0m \u001b[0;34m==\u001b[0m \u001b[0;36m3\u001b[0m\u001b[0;34m:\u001b[0m\u001b[0;34m\u001b[0m\u001b[0;34m\u001b[0m\u001b[0m\n",
            "\u001b[0;31mTypeError\u001b[0m: Invalid shape (3, 32, 32) for image data"
          ]
        },
        {
          "output_type": "display_data",
          "data": {
            "image/png": "[encoded data removed]",
            "text/plain": [
              "<Figure size 432x288 with 1 Axes>"
            ]
          },
          "metadata": {
            "needs_background": "light"
          }
        }
      ],
      "source": [
        "# Print 10 images from training set-\n",
        "for i in range(10):\n",
        "    plt.subplot(2, 5, i + 1)    # 2 rows & 5 columns\n",
        "    plt.imshow(images[i].cpu())\n",
        "    \n",
        "plt.suptitle(\"Sample CIFAR-10 training images\")\n",
        "plt.show()"
      ]
    },
    {
      "cell_type": "code",
      "execution_count": null,
      "id": "dfc2d1c5-20d3-435f-9783-5b8b8ced6e60",
      "metadata": {
        "id": "dfc2d1c5-20d3-435f-9783-5b8b8ced6e60"
      },
      "outputs": [],
      "source": [
        "# Print 10 images from reconstructions-\n",
        "for i in range(10):\n",
        "    plt.subplot(2, 5, i + 1)    # 2 rows & 5 columns\n",
        "    # plt.imshow(recon_images[i][0].cpu().detach().numpy(), cmap = 'gray')     # '0' to access first channel\n",
        "    plt.imshow(recon_images[i][0], cmap = 'gray')\n",
        "    \n",
        "plt.suptitle(\"Sample CIFAR-10 reconstructed images\")\n",
        "plt.show()"
      ]
    },
    {
      "cell_type": "code",
      "execution_count": null,
      "id": "989feaa8-4847-4cfd-af77-60a81292bb27",
      "metadata": {
        "id": "989feaa8-4847-4cfd-af77-60a81292bb27"
      },
      "outputs": [],
      "source": [
        ""
      ]
    },
    {
      "cell_type": "code",
      "execution_count": null,
      "id": "b2e60344-3291-4f80-a284-9481bcf7f5ec",
      "metadata": {
        "id": "b2e60344-3291-4f80-a284-9481bcf7f5ec"
      },
      "outputs": [],
      "source": [
        "# Print 50 images from reconstructions-\n",
        "plt.figure(figsize = (9, 7))\n",
        "\n",
        "for i in range(50):\n",
        "    plt.subplot(10, 5, i + 1)    # 10 rows & 5 columns\n",
        "    # plt.imshow(recon_images[i][0].cpu().detach().numpy(), cmap = 'gray')     # '0' to access first channel\n",
        "    plt.imshow(recon_images[i][0], cmap = 'gray')\n",
        "    \n",
        "plt.suptitle(\"Sample CIFAR-10 reconstructed images\")\n",
        "plt.show()"
      ]
    },
    {
      "cell_type": "code",
      "execution_count": null,
      "id": "a7f6e0cd-d576-47fc-82bf-4a842b801c60",
      "metadata": {
        "id": "a7f6e0cd-d576-47fc-82bf-4a842b801c60"
      },
      "outputs": [],
      "source": [
        ""
      ]
    },
    {
      "cell_type": "code",
      "execution_count": null,
      "id": "437cf8ed-8713-4146-a62a-07481ca3063a",
      "metadata": {
        "id": "437cf8ed-8713-4146-a62a-07481ca3063a"
      },
      "outputs": [],
      "source": [
        ""
      ]
    },
    {
      "cell_type": "code",
      "execution_count": null,
      "id": "be2b5cf7-a219-42dd-946b-bd3b74a78824",
      "metadata": {
        "id": "be2b5cf7-a219-42dd-946b-bd3b74a78824"
      },
      "outputs": [],
      "source": [
        "'''\n",
        "# Iterating over train loader-\n",
        "for img, label in train_loader:\n",
        "    print(img.shape, label.shape)\n",
        "'''"
      ]
    },
    {
      "cell_type": "code",
      "execution_count": null,
      "id": "238fa76d-efe4-4954-a03b-949355c7c2ee",
      "metadata": {
        "id": "238fa76d-efe4-4954-a03b-949355c7c2ee"
      },
      "outputs": [],
      "source": [
        ""
      ]
    },
    {
      "cell_type": "code",
      "execution_count": null,
      "id": "f8ff5514-6fba-4f01-ab61-eff8d34efa60",
      "metadata": {
        "id": "f8ff5514-6fba-4f01-ab61-eff8d34efa60"
      },
      "outputs": [],
      "source": [
        "# Get a batch of training data & it's corresponding labels-\n",
        "images, labels = next(iter(train_loader))\n",
        "images = images.to(device)"
      ]
    },
    {
      "cell_type": "code",
      "execution_count": null,
      "id": "bfb9c311-1fe5-4033-ab4c-6f883e92f552",
      "metadata": {
        "id": "bfb9c311-1fe5-4033-ab4c-6f883e92f552"
      },
      "outputs": [],
      "source": [
        "# Perform forward propagation-\n",
        "recon_images, mu, log_var = model(images)"
      ]
    },
    {
      "cell_type": "code",
      "execution_count": null,
      "id": "d9bd9d44-b946-4a9f-9ad0-50cfde19494a",
      "metadata": {
        "id": "d9bd9d44-b946-4a9f-9ad0-50cfde19494a"
      },
      "outputs": [],
      "source": [
        "# FOR CUDA/GPU-\n",
        "recon_images = recon_images.detach().cpu().numpy()\n",
        "mu = mu.detach().cpu().numpy()\n",
        "log_var = log_var.detach().cpu().numpy()"
      ]
    },
    {
      "cell_type": "code",
      "execution_count": null,
      "id": "778d8199-645b-4fb4-98db-bbc7b5a4feb7",
      "metadata": {
        "id": "778d8199-645b-4fb4-98db-bbc7b5a4feb7"
      },
      "outputs": [],
      "source": [
        "recon_images.shape, mu.shape, log_var.shape"
      ]
    },
    {
      "cell_type": "code",
      "execution_count": null,
      "id": "c0d6bfe6-e953-455f-9208-1750f09ceefa",
      "metadata": {
        "id": "c0d6bfe6-e953-455f-9208-1750f09ceefa"
      },
      "outputs": [],
      "source": [
        ""
      ]
    },
    {
      "cell_type": "code",
      "execution_count": null,
      "id": "4de7d3c9-a4e2-4c24-a2eb-7741c201842b",
      "metadata": {
        "id": "4de7d3c9-a4e2-4c24-a2eb-7741c201842b"
      },
      "outputs": [],
      "source": [
        "!pip install umap-learn"
      ]
    },
    {
      "cell_type": "code",
      "execution_count": null,
      "id": "6c4bb058-331d-4d58-8e82-c9dcbb1795fa",
      "metadata": {
        "id": "6c4bb058-331d-4d58-8e82-c9dcbb1795fa"
      },
      "outputs": [],
      "source": [
        "import umap\n",
        "import umap.umap_ as umap"
      ]
    },
    {
      "cell_type": "code",
      "execution_count": null,
      "id": "435badc7-efbf-402a-a5c2-c9ae67a8fe05",
      "metadata": {
        "id": "435badc7-efbf-402a-a5c2-c9ae67a8fe05"
      },
      "outputs": [],
      "source": [
        "reducer = umap.UMAP(\n",
        "    n_neighbors = 15,\n",
        "    n_components = 3\n",
        ")"
      ]
    },
    {
      "cell_type": "code",
      "execution_count": null,
      "id": "aa4d4778-02a6-452c-ab56-4e9bbea85c2e",
      "metadata": {
        "colab": {
          "base_uri": "https://localhost:8080/"
        },
        "id": "aa4d4778-02a6-452c-ab56-4e9bbea85c2e",
        "outputId": "38255243-0c4e-4df7-deea-6a010f9c9897"
      },
      "outputs": [
        {
          "name": "stderr",
          "output_type": "stream",
          "text": [
            "/usr/local/lib/python3.7/dist-packages/numba/np/ufunc/parallel.py:363: NumbaWarning: The TBB threading layer requires TBB version 2019.5 or later i.e., TBB_INTERFACE_VERSION >= 11005. Found TBB_INTERFACE_VERSION = 9107. The TBB threading layer is disabled.\n",
            "  warnings.warn(problem)\n"
          ]
        },
        {
          "data": {
            "text/plain": [
              "(64, 3)"
            ]
          },
          "execution_count": 87,
          "metadata": {},
          "output_type": "execute_result"
        }
      ],
      "source": [
        "embedding_mu = reducer.fit_transform(mu)\n",
        "embedding_mu.shape"
      ]
    },
    {
      "cell_type": "code",
      "execution_count": null,
      "id": "6cacf19a-cba4-4556-8c0c-8633d72bfb96",
      "metadata": {
        "id": "6cacf19a-cba4-4556-8c0c-8633d72bfb96"
      },
      "outputs": [],
      "source": [
        ""
      ]
    },
    {
      "cell_type": "code",
      "execution_count": null,
      "id": "d32212df-3210-4c53-b187-39c63f931f63",
      "metadata": {
        "id": "d32212df-3210-4c53-b187-39c63f931f63"
      },
      "outputs": [],
      "source": [
        "reducer_logvar = umap.UMAP(\n",
        "    n_neighbors = 15,\n",
        "    n_components = 3\n",
        ")"
      ]
    },
    {
      "cell_type": "code",
      "execution_count": null,
      "id": "c3149d53-467c-44ea-9a6b-556156a94351",
      "metadata": {
        "colab": {
          "base_uri": "https://localhost:8080/"
        },
        "id": "c3149d53-467c-44ea-9a6b-556156a94351",
        "outputId": "385bd428-6dd0-4af2-d92d-c68efb7d3e08"
      },
      "outputs": [
        {
          "data": {
            "text/plain": [
              "(64, 3)"
            ]
          },
          "execution_count": 89,
          "metadata": {},
          "output_type": "execute_result"
        }
      ],
      "source": [
        "embedding_logvar = reducer.fit_transform(log_var)\n",
        "embedding_logvar.shape"
      ]
    },
    {
      "cell_type": "code",
      "execution_count": null,
      "id": "ea22e171-9c9e-40fb-9135-ad384b9a9010",
      "metadata": {
        "id": "ea22e171-9c9e-40fb-9135-ad384b9a9010"
      },
      "outputs": [],
      "source": [
        ""
      ]
    },
    {
      "cell_type": "code",
      "execution_count": null,
      "id": "f01d7be3-0f02-4c21-bad3-7b1c57697db6",
      "metadata": {
        "id": "f01d7be3-0f02-4c21-bad3-7b1c57697db6"
      },
      "outputs": [],
      "source": [
        "import plotly\n",
        "import plotly.express as px"
      ]
    },
    {
      "cell_type": "code",
      "execution_count": null,
      "id": "3462c4b2-db53-40b3-b7a5-a0027173776e",
      "metadata": {
        "id": "3462c4b2-db53-40b3-b7a5-a0027173776e"
      },
      "outputs": [],
      "source": [
        ""
      ]
    },
    {
      "cell_type": "code",
      "execution_count": null,
      "id": "94818963-9269-478a-9fe3-e0666eb4141d",
      "metadata": {
        "id": "94818963-9269-478a-9fe3-e0666eb4141d"
      },
      "outputs": [],
      "source": [
        "# Visualize latent space for 'mean'-\n",
        "fig = px.scatter_3d(\n",
        "    x = embedding_mu[:, 0], y = embedding_mu[:, 1],\n",
        "    z = embedding_mu[:, 2],\n",
        "    # color = y_train\n",
        "    )\n",
        "fig.show()"
      ]
    },
    {
      "cell_type": "code",
      "execution_count": null,
      "id": "b10547be-77ce-4981-9a84-33f4f0376238",
      "metadata": {
        "id": "b10547be-77ce-4981-9a84-33f4f0376238"
      },
      "outputs": [],
      "source": [
        "# Visualize latent space for 'log variance'-\n",
        "fig = px.scatter_3d(\n",
        "    x = embedding_logvar[:, 0], y = embedding_logvar[:, 1],\n",
        "    z = embedding_logvar[:, 2],\n",
        "    # color = y_train\n",
        "    )\n",
        "fig.show()"
      ]
    },
    {
      "cell_type": "code",
      "execution_count": null,
      "id": "b483d671-acdf-4a7d-8761-c47ed0559f2f",
      "metadata": {
        "id": "b483d671-acdf-4a7d-8761-c47ed0559f2f"
      },
      "outputs": [],
      "source": [
        ""
      ]
    },
    {
      "cell_type": "code",
      "execution_count": null,
      "id": "faf80ab7-7c8b-4f12-8a60-6b2bfa4bf3de",
      "metadata": {
        "id": "faf80ab7-7c8b-4f12-8a60-6b2bfa4bf3de"
      },
      "outputs": [],
      "source": [
        ""
      ]
    }
  ],
  "metadata": {
    "accelerator": "GPU",
    "colab": {
      "collapsed_sections": [],
      "name": "VAE_PyTorch_CIFAR10.ipynb",
      "provenance": []
    },
    "kernelspec": {
      "display_name": "Python 3 (ipykernel)",
      "language": "python",
      "name": "python3"
    },
    "language_info": {
      "codemirror_mode": {
        "name": "ipython",
        "version": 3
      },
      "file_extension": ".py",
      "mimetype": "text/x-python",
      "name": "python",
      "nbconvert_exporter": "python",
      "pygments_lexer": "ipython3",
      "version": "3.9.7"
    },
    "widgets": {
      "application/vnd.jupyter.widget-state+json": {
        "ea0558f4cc7d486e830a4adb1acc6406": {
          "model_module": "@jupyter-widgets/controls",
          "model_name": "HBoxModel",
          "model_module_version": "1.5.0",
          "state": {
            "_view_name": "HBoxView",
            "_dom_classes": [],
            "_model_name": "HBoxModel",
            "_view_module": "@jupyter-widgets/controls",
            "_model_module_version": "1.5.0",
            "_view_count": null,
            "_view_module_version": "1.5.0",
            "box_style": "",
            "layout": "IPY_MODEL_9ae27e43a3c5461aaf22e3a5e8175fdc",
            "_model_module": "@jupyter-widgets/controls",
            "children": [
              "IPY_MODEL_bd98ca655ce94231b30611563503c64f",
              "IPY_MODEL_f51dacd12d394615b3c8cbdd36f728f7",
              "IPY_MODEL_aa1b332fb3cd4ceca6fd44218da50ce5"
            ]
          }
        },
        "9ae27e43a3c5461aaf22e3a5e8175fdc": {
          "model_module": "@jupyter-widgets/base",
          "model_name": "LayoutModel",
          "model_module_version": "1.2.0",
          "state": {
            "_view_name": "LayoutView",
            "grid_template_rows": null,
            "right": null,
            "justify_content": null,
            "_view_module": "@jupyter-widgets/base",
            "overflow": null,
            "_model_module_version": "1.2.0",
            "_view_count": null,
            "flex_flow": null,
            "width": null,
            "min_width": null,
            "border": null,
            "align_items": null,
            "bottom": null,
            "_model_module": "@jupyter-widgets/base",
            "top": null,
            "grid_column": null,
            "overflow_y": null,
            "overflow_x": null,
            "grid_auto_flow": null,
            "grid_area": null,
            "grid_template_columns": null,
            "flex": null,
            "_model_name": "LayoutModel",
            "justify_items": null,
            "grid_row": null,
            "max_height": null,
            "align_content": null,
            "visibility": null,
            "align_self": null,
            "height": null,
            "min_height": null,
            "padding": null,
            "grid_auto_rows": null,
            "grid_gap": null,
            "max_width": null,
            "order": null,
            "_view_module_version": "1.2.0",
            "grid_template_areas": null,
            "object_position": null,
            "object_fit": null,
            "grid_auto_columns": null,
            "margin": null,
            "display": null,
            "left": null
          }
        },
        "bd98ca655ce94231b30611563503c64f": {
          "model_module": "@jupyter-widgets/controls",
          "model_name": "HTMLModel",
          "model_module_version": "1.5.0",
          "state": {
            "_view_name": "HTMLView",
            "style": "IPY_MODEL_1898ce5ce7a74e9caf1def82c05e706b",
            "_dom_classes": [],
            "description": "",
            "_model_name": "HTMLModel",
            "placeholder": "​",
            "_view_module": "@jupyter-widgets/controls",
            "_model_module_version": "1.5.0",
            "value": "",
            "_view_count": null,
            "_view_module_version": "1.5.0",
            "description_tooltip": null,
            "_model_module": "@jupyter-widgets/controls",
            "layout": "IPY_MODEL_12b9819008e4404691ea9a43c982a63d"
          }
        },
        "f51dacd12d394615b3c8cbdd36f728f7": {
          "model_module": "@jupyter-widgets/controls",
          "model_name": "FloatProgressModel",
          "model_module_version": "1.5.0",
          "state": {
            "_view_name": "ProgressView",
            "style": "IPY_MODEL_6d77bb12d11e422992108fcfa1715164",
            "_dom_classes": [],
            "description": "",
            "_model_name": "FloatProgressModel",
            "bar_style": "success",
            "max": 170498071,
            "_view_module": "@jupyter-widgets/controls",
            "_model_module_version": "1.5.0",
            "value": 170498071,
            "_view_count": null,
            "_view_module_version": "1.5.0",
            "orientation": "horizontal",
            "min": 0,
            "description_tooltip": null,
            "_model_module": "@jupyter-widgets/controls",
            "layout": "IPY_MODEL_74bd0e25b2a84052a1facbc18ca3ef45"
          }
        },
        "aa1b332fb3cd4ceca6fd44218da50ce5": {
          "model_module": "@jupyter-widgets/controls",
          "model_name": "HTMLModel",
          "model_module_version": "1.5.0",
          "state": {
            "_view_name": "HTMLView",
            "style": "IPY_MODEL_9844a7e49bd7434f846f7d2db3d15c04",
            "_dom_classes": [],
            "description": "",
            "_model_name": "HTMLModel",
            "placeholder": "​",
            "_view_module": "@jupyter-widgets/controls",
            "_model_module_version": "1.5.0",
            "value": " 170499072/? [00:06&lt;00:00, 22252606.27it/s]",
            "_view_count": null,
            "_view_module_version": "1.5.0",
            "description_tooltip": null,
            "_model_module": "@jupyter-widgets/controls",
            "layout": "IPY_MODEL_05a3d5fa93134db49f437a50b80cb823"
          }
        },
        "1898ce5ce7a74e9caf1def82c05e706b": {
          "model_module": "@jupyter-widgets/controls",
          "model_name": "DescriptionStyleModel",
          "model_module_version": "1.5.0",
          "state": {
            "_view_name": "StyleView",
            "_model_name": "DescriptionStyleModel",
            "description_width": "",
            "_view_module": "@jupyter-widgets/base",
            "_model_module_version": "1.5.0",
            "_view_count": null,
            "_view_module_version": "1.2.0",
            "_model_module": "@jupyter-widgets/controls"
          }
        },
        "12b9819008e4404691ea9a43c982a63d": {
          "model_module": "@jupyter-widgets/base",
          "model_name": "LayoutModel",
          "model_module_version": "1.2.0",
          "state": {
            "_view_name": "LayoutView",
            "grid_template_rows": null,
            "right": null,
            "justify_content": null,
            "_view_module": "@jupyter-widgets/base",
            "overflow": null,
            "_model_module_version": "1.2.0",
            "_view_count": null,
            "flex_flow": null,
            "width": null,
            "min_width": null,
            "border": null,
            "align_items": null,
            "bottom": null,
            "_model_module": "@jupyter-widgets/base",
            "top": null,
            "grid_column": null,
            "overflow_y": null,
            "overflow_x": null,
            "grid_auto_flow": null,
            "grid_area": null,
            "grid_template_columns": null,
            "flex": null,
            "_model_name": "LayoutModel",
            "justify_items": null,
            "grid_row": null,
            "max_height": null,
            "align_content": null,
            "visibility": null,
            "align_self": null,
            "height": null,
            "min_height": null,
            "padding": null,
            "grid_auto_rows": null,
            "grid_gap": null,
            "max_width": null,
            "order": null,
            "_view_module_version": "1.2.0",
            "grid_template_areas": null,
            "object_position": null,
            "object_fit": null,
            "grid_auto_columns": null,
            "margin": null,
            "display": null,
            "left": null
          }
        },
        "6d77bb12d11e422992108fcfa1715164": {
          "model_module": "@jupyter-widgets/controls",
          "model_name": "ProgressStyleModel",
          "model_module_version": "1.5.0",
          "state": {
            "_view_name": "StyleView",
            "_model_name": "ProgressStyleModel",
            "description_width": "",
            "_view_module": "@jupyter-widgets/base",
            "_model_module_version": "1.5.0",
            "_view_count": null,
            "_view_module_version": "1.2.0",
            "bar_color": null,
            "_model_module": "@jupyter-widgets/controls"
          }
        },
        "74bd0e25b2a84052a1facbc18ca3ef45": {
          "model_module": "@jupyter-widgets/base",
          "model_name": "LayoutModel",
          "model_module_version": "1.2.0",
          "state": {
            "_view_name": "LayoutView",
            "grid_template_rows": null,
            "right": null,
            "justify_content": null,
            "_view_module": "@jupyter-widgets/base",
            "overflow": null,
            "_model_module_version": "1.2.0",
            "_view_count": null,
            "flex_flow": null,
            "width": null,
            "min_width": null,
            "border": null,
            "align_items": null,
            "bottom": null,
            "_model_module": "@jupyter-widgets/base",
            "top": null,
            "grid_column": null,
            "overflow_y": null,
            "overflow_x": null,
            "grid_auto_flow": null,
            "grid_area": null,
            "grid_template_columns": null,
            "flex": null,
            "_model_name": "LayoutModel",
            "justify_items": null,
            "grid_row": null,
            "max_height": null,
            "align_content": null,
            "visibility": null,
            "align_self": null,
            "height": null,
            "min_height": null,
            "padding": null,
            "grid_auto_rows": null,
            "grid_gap": null,
            "max_width": null,
            "order": null,
            "_view_module_version": "1.2.0",
            "grid_template_areas": null,
            "object_position": null,
            "object_fit": null,
            "grid_auto_columns": null,
            "margin": null,
            "display": null,
            "left": null
          }
        },
        "9844a7e49bd7434f846f7d2db3d15c04": {
          "model_module": "@jupyter-widgets/controls",
          "model_name": "DescriptionStyleModel",
          "model_module_version": "1.5.0",
          "state": {
            "_view_name": "StyleView",
            "_model_name": "DescriptionStyleModel",
            "description_width": "",
            "_view_module": "@jupyter-widgets/base",
            "_model_module_version": "1.5.0",
            "_view_count": null,
            "_view_module_version": "1.2.0",
            "_model_module": "@jupyter-widgets/controls"
          }
        },
        "05a3d5fa93134db49f437a50b80cb823": {
          "model_module": "@jupyter-widgets/base",
          "model_name": "LayoutModel",
          "model_module_version": "1.2.0",
          "state": {
            "_view_name": "LayoutView",
            "grid_template_rows": null,
            "right": null,
            "justify_content": null,
            "_view_module": "@jupyter-widgets/base",
            "overflow": null,
            "_model_module_version": "1.2.0",
            "_view_count": null,
            "flex_flow": null,
            "width": null,
            "min_width": null,
            "border": null,
            "align_items": null,
            "bottom": null,
            "_model_module": "@jupyter-widgets/base",
            "top": null,
            "grid_column": null,
            "overflow_y": null,
            "overflow_x": null,
            "grid_auto_flow": null,
            "grid_area": null,
            "grid_template_columns": null,
            "flex": null,
            "_model_name": "LayoutModel",
            "justify_items": null,
            "grid_row": null,
            "max_height": null,
            "align_content": null,
            "visibility": null,
            "align_self": null,
            "height": null,
            "min_height": null,
            "padding": null,
            "grid_auto_rows": null,
            "grid_gap": null,
            "max_width": null,
            "order": null,
            "_view_module_version": "1.2.0",
            "grid_template_areas": null,
            "object_position": null,
            "object_fit": null,
            "grid_auto_columns": null,
            "margin": null,
            "display": null,
            "left": null
          }
        }
      }
    }
  },
  "nbformat": 4,
  "nbformat_minor": 5
}