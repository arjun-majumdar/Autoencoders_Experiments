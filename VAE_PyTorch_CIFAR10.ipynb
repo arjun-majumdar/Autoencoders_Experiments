{
 "cells": [
  {
   "cell_type": "markdown",
   "id": "8af2c1b5-edfa-484f-b4af-da608dbdc608",
   "metadata": {
    "id": "8af2c1b5-edfa-484f-b4af-da608dbdc608"
   },
   "source": [
    "# Variational Autoencoder: PyTorch and CIFAR-10"
   ]
  },
  {
   "cell_type": "code",
   "execution_count": 1,
   "id": "f00c8a07-22a4-4b9d-8fe4-d639ff5af408",
   "metadata": {
    "id": "f00c8a07-22a4-4b9d-8fe4-d639ff5af408"
   },
   "outputs": [],
   "source": [
    "import torch\n",
    "import torch.nn as nn\n",
    "import torch.nn.functional as F\n",
    "import torchvision\n",
    "import torchvision.transforms as transforms\n",
    "\n",
    "from tqdm import tqdm\n",
    "from tqdm import trange\n",
    "import matplotlib.pyplot as plt\n",
    "import seaborn as sns\n",
    "import numpy as np"
   ]
  },
  {
   "cell_type": "code",
   "execution_count": null,
   "id": "dd46203c-313e-45ca-b3ca-84f684a8b738",
   "metadata": {
    "id": "dd46203c-313e-45ca-b3ca-84f684a8b738"
   },
   "outputs": [],
   "source": []
  },
  {
   "cell_type": "code",
   "execution_count": 2,
   "id": "18e21536-7fe0-4039-8dc9-8adf0c55cb37",
   "metadata": {
    "colab": {
     "base_uri": "https://localhost:8080/"
    },
    "id": "18e21536-7fe0-4039-8dc9-8adf0c55cb37",
    "outputId": "0e1f2180-d1a3-486a-dd49-95ff6c344362"
   },
   "outputs": [
    {
     "name": "stdout",
     "output_type": "stream",
     "text": [
      "torch version: 1.9.0\n"
     ]
    }
   ],
   "source": [
    "print(f\"torch version: {torch.__version__}\")"
   ]
  },
  {
   "cell_type": "code",
   "execution_count": null,
   "id": "e30dfd56-16b3-4b9c-91a4-2b427aeba608",
   "metadata": {
    "id": "e30dfd56-16b3-4b9c-91a4-2b427aeba608"
   },
   "outputs": [],
   "source": []
  },
  {
   "cell_type": "code",
   "execution_count": 3,
   "id": "9799277f-fe49-492d-ac9b-54da0b939360",
   "metadata": {
    "colab": {
     "base_uri": "https://localhost:8080/"
    },
    "id": "9799277f-fe49-492d-ac9b-54da0b939360",
    "outputId": "72ce1485-572d-47e3-d20b-3862bdcab999"
   },
   "outputs": [
    {
     "name": "stdout",
     "output_type": "stream",
     "text": [
      "Number of GPU(s) available = 0\n",
      "PyTorch does not have access to GPU\n"
     ]
    }
   ],
   "source": [
    "# Check if there are multiple devices (i.e., GPU cards)-\n",
    "print(f\"Number of GPU(s) available = {torch.cuda.device_count()}\")\n",
    "\n",
    "# Which GPU Is The Current GPU?\n",
    "# print(f\"current GPU: {torch.cuda.current_device()}\")\n",
    "\n",
    "# Get the name of the current GPU-\n",
    "# print(f\"Current GPU name: {torch.cuda.get_device_name(torch.cuda.current_device())}\")\n",
    "\n",
    "# Is PyTorch using a GPU?\n",
    "# print(f\"Is PyTorch using a GPU? {torch.cuda.is_available()}\")\n",
    "\n",
    "if torch.cuda.is_available():\n",
    "    print(f\"Current GPU: {torch.cuda.current_device()}\")\n",
    "    print(f\"Current GPU name: {torch.cuda.get_device_name(torch.cuda.current_device())}\")\n",
    "else:\n",
    "    print(\"PyTorch does not have access to GPU\")"
   ]
  },
  {
   "cell_type": "code",
   "execution_count": 4,
   "id": "a258671c-447d-4007-bc5e-a1129a6aeec2",
   "metadata": {
    "colab": {
     "base_uri": "https://localhost:8080/"
    },
    "id": "a258671c-447d-4007-bc5e-a1129a6aeec2",
    "outputId": "62942592-677d-4d61-bb9f-f180befd4be5"
   },
   "outputs": [
    {
     "name": "stdout",
     "output_type": "stream",
     "text": [
      "Available device is cpu\n"
     ]
    }
   ],
   "source": [
    "# Device configuration-\n",
    "device = torch.device('cuda' if torch.cuda.is_available() else 'cpu')\n",
    "print(f'Available device is {device}')"
   ]
  },
  {
   "cell_type": "code",
   "execution_count": null,
   "id": "5c66c4ba-8858-46dd-8ce1-b896a07b045c",
   "metadata": {
    "id": "5c66c4ba-8858-46dd-8ce1-b896a07b045c"
   },
   "outputs": [],
   "source": []
  },
  {
   "cell_type": "code",
   "execution_count": null,
   "id": "5240ccb6-f84e-44a1-9224-09da6456241f",
   "metadata": {
    "id": "5240ccb6-f84e-44a1-9224-09da6456241f"
   },
   "outputs": [],
   "source": []
  },
  {
   "cell_type": "code",
   "execution_count": 5,
   "id": "bc52052e-3948-4899-b58c-68416a209c65",
   "metadata": {
    "id": "bc52052e-3948-4899-b58c-68416a209c65"
   },
   "outputs": [],
   "source": [
    "# Hyper-parameters-\n",
    "num_epochs = 50\n",
    "batch_size = 32\n",
    "learning_rate = 0.001"
   ]
  },
  {
   "cell_type": "code",
   "execution_count": null,
   "id": "7094333c-06dd-4709-a8e6-90ea674c7d75",
   "metadata": {
    "id": "7094333c-06dd-4709-a8e6-90ea674c7d75"
   },
   "outputs": [],
   "source": []
  },
  {
   "cell_type": "code",
   "execution_count": null,
   "id": "39e17972-b637-44dd-b9ca-f564bed570c7",
   "metadata": {
    "id": "39e17972-b637-44dd-b9ca-f564bed570c7"
   },
   "outputs": [],
   "source": []
  },
  {
   "cell_type": "markdown",
   "id": "b81592db-a763-4028-a9bd-d9c2dbdc49d7",
   "metadata": {
    "id": "b81592db-a763-4028-a9bd-d9c2dbdc49d7"
   },
   "source": [
    "### CIFAR-10 data pre-processing:"
   ]
  },
  {
   "cell_type": "code",
   "execution_count": 6,
   "id": "7d95b76a-3dc1-438b-a9fe-ee5c4dc6b578",
   "metadata": {
    "id": "7d95b76a-3dc1-438b-a9fe-ee5c4dc6b578"
   },
   "outputs": [],
   "source": [
    "\"\"\"\n",
    "# Dataset has PILImage images of range [0, 1]. We transform them to Tensors\n",
    "# of normalized range [-1, 1]\n",
    "transform = transforms.Compose(\n",
    "        [\n",
    "            transforms.ToTensor(),\n",
    "            transforms.Normalize((0.5, 0.5, 0.5), (0.5, 0.5, 0.5))\n",
    "            ]\n",
    "        )\n",
    "\"\"\"\n",
    "\n",
    "# Define transformations for CIFAR-10 training & test sets-\n",
    "transform_train = transforms.Compose(\n",
    "    [\n",
    "        transforms.RandomCrop(32, padding = 4),\n",
    "        transforms.RandomHorizontalFlip(),\n",
    "        transforms.ToTensor(),\n",
    "        # transforms.Normalize((0.4914, 0.4822, 0.4465), (0.2023, 0.1994, 0.2010))\n",
    "        transforms.Normalize((0.5, 0.5, 0.5), (0.5, 0.5, 0.5))\n",
    "    ]\n",
    ")\n",
    "\n",
    "transform_test = transforms.Compose(\n",
    "    [\n",
    "        transforms.ToTensor(),\n",
    "        # transforms.Normalize((0.4914, 0.4822, 0.4465), (0.2023, 0.1994, 0.2010))\n",
    "        transforms.Normalize((0.5, 0.5, 0.5), (0.5, 0.5, 0.5))\n",
    "    ]\n",
    ")"
   ]
  },
  {
   "cell_type": "code",
   "execution_count": 7,
   "id": "01f4a0a2-bb6b-464c-a3b1-5e153f972e16",
   "metadata": {
    "id": "01f4a0a2-bb6b-464c-a3b1-5e153f972e16"
   },
   "outputs": [],
   "source": [
    "path_to_data = \"C:\\\\Users\\\\Arjun\\\\Desktop\\\\VAE_resources\\\\\""
   ]
  },
  {
   "cell_type": "code",
   "execution_count": 8,
   "id": "47afabcf-eb57-44d5-aace-571cd32633a9",
   "metadata": {
    "colab": {
     "base_uri": "https://localhost:8080/",
     "height": 104,
     "referenced_widgets": [
      "7c09ff395d704a0abad2fc26c8de1760",
      "6f542c9e2daf49a29ae6056332845a4a",
      "fa644e8957534b0fbef2b453828dbddc",
      "41a357e050c749dfb111e3f09a0455c7",
      "3370ec02910f4eb59b9d14d093030b9a",
      "f348a3440f4d4d42800e2e9af74691ba",
      "dfaf7a634bb14087a0b07a5fd2ee8836",
      "02877e46495b4f2dbc4cc12b5d982123",
      "0b13959261bd435a9202f1a90bc7813d",
      "12bfb77048f042a999a73c7df191b56d",
      "e4a0f8a846b845779aec9141f286de84"
     ]
    },
    "id": "47afabcf-eb57-44d5-aace-571cd32633a9",
    "outputId": "da4050b8-3880-4995-f7d2-16b5583c0df0"
   },
   "outputs": [
    {
     "name": "stdout",
     "output_type": "stream",
     "text": [
      "Files already downloaded and verified\n",
      "Files already downloaded and verified\n"
     ]
    }
   ],
   "source": [
    "# Load CIFAR-10 dataset-\n",
    "train_dataset = torchvision.datasets.CIFAR10(\n",
    "        # root = './data', train = True,\n",
    "        root = path_to_data + \"data\", train = True,\n",
    "        download = True, transform = transform_train\n",
    "        )\n",
    "\n",
    "test_dataset = torchvision.datasets.CIFAR10(\n",
    "        # root = './data', train = False,\n",
    "        root = path_to_data + \"data\", train = True,\n",
    "        download = True, transform = transform_test\n",
    "        )"
   ]
  },
  {
   "cell_type": "code",
   "execution_count": 9,
   "id": "ae76f405-d109-4260-b286-3cbfa6633dd6",
   "metadata": {
    "id": "ae76f405-d109-4260-b286-3cbfa6633dd6"
   },
   "outputs": [],
   "source": [
    "# Create training and testing loaders-\n",
    "train_loader = torch.utils.data.DataLoader(\n",
    "        train_dataset, batch_size = batch_size,\n",
    "        shuffle = True\n",
    "        )\n",
    "\n",
    "test_loader = torch.utils.data.DataLoader(\n",
    "        test_dataset, batch_size = batch_size,\n",
    "        shuffle = False\n",
    "        )"
   ]
  },
  {
   "cell_type": "code",
   "execution_count": 10,
   "id": "9f230fe2-cb5d-4b3e-ae0f-02a00084c93d",
   "metadata": {
    "colab": {
     "base_uri": "https://localhost:8080/"
    },
    "id": "9f230fe2-cb5d-4b3e-ae0f-02a00084c93d",
    "outputId": "3b61e812-a7bc-4622-a393-5ebe21f64ea5"
   },
   "outputs": [
    {
     "name": "stdout",
     "output_type": "stream",
     "text": [
      "Sizes of train_dataset: 50000 and test_dataet: 50000\n",
      "Sizes of train_loader: 1563 and test_loader: 1563\n"
     ]
    }
   ],
   "source": [
    "print(f\"Sizes of train_dataset: {len(train_dataset)} and test_dataet: {len(test_dataset)}\")\n",
    "print(f\"Sizes of train_loader: {len(train_loader)} and test_loader: {len(test_loader)}\")"
   ]
  },
  {
   "cell_type": "code",
   "execution_count": 11,
   "id": "12bfaf5a-2353-4ee0-95a8-0d35c265c3d6",
   "metadata": {
    "colab": {
     "base_uri": "https://localhost:8080/"
    },
    "id": "12bfaf5a-2353-4ee0-95a8-0d35c265c3d6",
    "outputId": "234b1373-e280-4788-a98f-272ebadf80a8"
   },
   "outputs": [
    {
     "name": "stdout",
     "output_type": "stream",
     "text": [
      "len(train_loader) = 1563 & len(test_loader) = 1563\n"
     ]
    }
   ],
   "source": [
    "print(f\"len(train_loader) = {len(train_loader)} & len(test_loader) = {len(test_loader)}\")"
   ]
  },
  {
   "cell_type": "code",
   "execution_count": 12,
   "id": "cc665ae6-9f01-4ed5-b110-e5e722bbd996",
   "metadata": {
    "colab": {
     "base_uri": "https://localhost:8080/"
    },
    "id": "cc665ae6-9f01-4ed5-b110-e5e722bbd996",
    "outputId": "f628c712-5950-43d7-dd3e-9f7c05c2e709"
   },
   "outputs": [
    {
     "data": {
      "text/plain": [
       "(1562.5, 1562.5)"
      ]
     },
     "execution_count": 12,
     "metadata": {},
     "output_type": "execute_result"
    }
   ],
   "source": [
    "# Sanity check-\n",
    "len(train_dataset) / batch_size, len(test_dataset) / batch_size"
   ]
  },
  {
   "cell_type": "code",
   "execution_count": null,
   "id": "4985135f-4c9e-49c6-aced-61771b151480",
   "metadata": {
    "id": "4985135f-4c9e-49c6-aced-61771b151480"
   },
   "outputs": [],
   "source": []
  },
  {
   "cell_type": "code",
   "execution_count": 19,
   "id": "1c25a3a0-e120-4e0f-b7f4-68fe063e3747",
   "metadata": {
    "colab": {
     "base_uri": "https://localhost:8080/"
    },
    "id": "1c25a3a0-e120-4e0f-b7f4-68fe063e3747",
    "outputId": "fd29e484-f218-461a-9593-6505d3a0d01a"
   },
   "outputs": [
    {
     "name": "stdout",
     "output_type": "stream",
     "text": [
      "images.shape: torch.Size([32, 3, 32, 32]) & labels.shape: torch.Size([32])\n"
     ]
    }
   ],
   "source": [
    "# Get some random batch of training images & labels-\n",
    "images, labels = next(iter(train_loader))\n",
    "\n",
    "# You get 64 images due to the specified batch size-\n",
    "print(f\"images.shape: {images.shape} & labels.shape: {labels.shape}\")"
   ]
  },
  {
   "cell_type": "code",
   "execution_count": null,
   "id": "4eda2200-0e19-4487-ac2f-a1cfe34eb649",
   "metadata": {
    "id": "4eda2200-0e19-4487-ac2f-a1cfe34eb649"
   },
   "outputs": [],
   "source": []
  },
  {
   "cell_type": "code",
   "execution_count": 14,
   "id": "24a1f5b0-a756-4ade-a451-18e2dab89e93",
   "metadata": {
    "id": "24a1f5b0-a756-4ade-a451-18e2dab89e93"
   },
   "outputs": [],
   "source": [
    "# Unnormalize images-\n",
    "images = images / 2 + 0.5\n",
    "images = np.transpose(images.numpy(), (0, 2, 3, 1))"
   ]
  },
  {
   "cell_type": "code",
   "execution_count": 15,
   "id": "dc42283c-2761-4f8e-aaa1-e5d0c630ce3b",
   "metadata": {
    "colab": {
     "base_uri": "https://localhost:8080/"
    },
    "id": "dc42283c-2761-4f8e-aaa1-e5d0c630ce3b",
    "outputId": "b5ea9693-233e-44ba-d9d7-02190f2a4b6d"
   },
   "outputs": [
    {
     "data": {
      "text/plain": [
       "(32, 32, 32, 3)"
      ]
     },
     "execution_count": 15,
     "metadata": {},
     "output_type": "execute_result"
    }
   ],
   "source": [
    "images.shape"
   ]
  },
  {
   "cell_type": "code",
   "execution_count": 16,
   "id": "d1584fd9-8a90-4668-9c85-29f5751cb2e6",
   "metadata": {
    "colab": {
     "base_uri": "https://localhost:8080/"
    },
    "id": "d1584fd9-8a90-4668-9c85-29f5751cb2e6",
    "outputId": "957b05e6-7ee9-42b5-bb1a-8ac37def32a4"
   },
   "outputs": [
    {
     "data": {
      "text/plain": [
       "(32, 32, 3)"
      ]
     },
     "execution_count": 16,
     "metadata": {},
     "output_type": "execute_result"
    }
   ],
   "source": [
    "images[0].shape"
   ]
  },
  {
   "cell_type": "code",
   "execution_count": 17,
   "id": "f18dab55-df42-47fe-ab6c-b7406578f553",
   "metadata": {
    "colab": {
     "base_uri": "https://localhost:8080/",
     "height": 392
    },
    "id": "f18dab55-df42-47fe-ab6c-b7406578f553",
    "outputId": "4491b6e1-5a15-49af-d8b7-c729f4d8b1b9"
   },
   "outputs": [
    {
     "data": {
      "image/png": "[encoded data removed]",
      "text/plain": [
       "<Figure size 504x432 with 1 Axes>"
      ]
     },
     "metadata": {
      "needs_background": "light"
     },
     "output_type": "display_data"
    }
   ],
   "source": [
    "plt.figure(figsize = (7, 6))\n",
    "plt.imshow(images[0])\n",
    "plt.show()"
   ]
  },
  {
   "cell_type": "code",
   "execution_count": 18,
   "id": "385944f5-271b-4ba3-9bb5-4468482a7285",
   "metadata": {
    "colab": {
     "base_uri": "https://localhost:8080/",
     "height": 458
    },
    "id": "385944f5-271b-4ba3-9bb5-4468482a7285",
    "outputId": "827ded3e-da27-4945-c35d-7b4e6036f2e1"
   },
   "outputs": [
    {
     "data": {
      "image/png": "[encoded data removed]",
      "text/plain": [
       "<Figure size 432x288 with 10 Axes>"
      ]
     },
     "metadata": {
      "needs_background": "light"
     },
     "output_type": "display_data"
    }
   ],
   "source": [
    "# Visualize 10 images from training set-\n",
    "for i in range(10):\n",
    "    plt.subplot(2, 5, i + 1)    # 2 rows & 5 columns\n",
    "    plt.imshow(images[i])\n",
    "    \n",
    "plt.suptitle(\"Sample CIFAR-10 training images\")\n",
    "plt.show()"
   ]
  },
  {
   "cell_type": "code",
   "execution_count": null,
   "id": "7a7d0933-0e32-48c8-b05d-c4559825c71c",
   "metadata": {
    "id": "7a7d0933-0e32-48c8-b05d-c4559825c71c"
   },
   "outputs": [],
   "source": []
  },
  {
   "cell_type": "code",
   "execution_count": null,
   "id": "3b5228a3-fe70-4178-8814-1c0ac81ebc12",
   "metadata": {
    "id": "3b5228a3-fe70-4178-8814-1c0ac81ebc12"
   },
   "outputs": [],
   "source": []
  },
  {
   "cell_type": "markdown",
   "id": "6085dc68-8c57-4a95-8a75-0a23776e24ef",
   "metadata": {
    "id": "6085dc68-8c57-4a95-8a75-0a23776e24ef"
   },
   "source": [
    "### Define _Variational Autoencoder_ architecture:"
   ]
  },
  {
   "cell_type": "code",
   "execution_count": 20,
   "id": "b4ca6753-4c10-4f0b-9ff5-f996bdb0be7e",
   "metadata": {
    "id": "b4ca6753-4c10-4f0b-9ff5-f996bdb0be7e"
   },
   "outputs": [],
   "source": [
    "class cnn_block(nn.Module):\n",
    "    def __init__(self, input_channels, output_channels):\n",
    "        super(cnn_block, self).__init__()\n",
    "\n",
    "        # Define layers-\n",
    "        self.conv1 = nn.Conv2d(\n",
    "            in_channels = input_channels, out_channels = output_channels,\n",
    "            kernel_size = 3, stride = 1,\n",
    "            padding = 1, bias = True\n",
    "        )\n",
    "        self.conv2 = nn.Conv2d(\n",
    "            in_channels = output_channels, out_channels = output_channels,\n",
    "            kernel_size = 3, stride = 1,\n",
    "            padding = 1, bias = True\n",
    "        )\n",
    "        self.pool = nn.MaxPool2d(\n",
    "            kernel_size = 2, stride = 2\n",
    "        )\n",
    "  \n",
    "\n",
    "    def forward(self, x):\n",
    "        # x = F.relu(self.conv1(x))\n",
    "        x = F.leaky_relu(self.conv1(x))\n",
    "        # x = F.relu(self.conv2(x))\n",
    "        x = F.leaky_relu(self.conv2(x))\n",
    "        return self.pool(x)\n",
    "    "
   ]
  },
  {
   "cell_type": "code",
   "execution_count": null,
   "id": "2ce57cf6-ef89-4503-bf0b-075a9bdc60fc",
   "metadata": {
    "id": "2ce57cf6-ef89-4503-bf0b-075a9bdc60fc"
   },
   "outputs": [],
   "source": []
  },
  {
   "cell_type": "code",
   "execution_count": 21,
   "id": "acefede4-125f-4ad5-944b-7f03b75eaf5e",
   "metadata": {
    "id": "acefede4-125f-4ad5-944b-7f03b75eaf5e"
   },
   "outputs": [],
   "source": [
    "class Conv6_Encoder(nn.Module):\n",
    "    def __init__(self, latent_space):\n",
    "        super(Conv6_Encoder, self).__init__()\n",
    "        self.latent_space = latent_space\n",
    "        \n",
    "        self.block1 = cnn_block(input_channels = 3, output_channels = 64)\n",
    "        self.block2 = cnn_block(input_channels = 64, output_channels = 128)\n",
    "        self.block3 = cnn_block(input_channels = 128, output_channels = 256)\n",
    "        self.conv_layer = nn.Conv2d(\n",
    "            in_channels = 256, out_channels = 256,\n",
    "            kernel_size = 3, stride = 1,\n",
    "            padding = 0, bias = True\n",
    "        )\n",
    "        self.dense_layer1 = nn.Linear(\n",
    "            in_features = 1024, out_features = 500,\n",
    "            bias = True\n",
    "        )\n",
    "        self.op_layer = nn.Linear(\n",
    "            in_features = 500, out_features = self.latent_space,\n",
    "            bias = True\n",
    "        )\n",
    "\n",
    "    def forward(self, x):\n",
    "        x = self.block1(x)\n",
    "        x = self.block2(x)\n",
    "        x = self.block3(x)\n",
    "        x = self.conv_layer(x)\n",
    "        x = torch.flatten(x, start_dim = 1)\n",
    "        x = F.leaky_relu(self.dense_layer1(x))\n",
    "        x = self.op_layer(x)\n",
    "        return x"
   ]
  },
  {
   "cell_type": "code",
   "execution_count": null,
   "id": "0090a4b2-a120-4263-bf82-ecb60d83b7c5",
   "metadata": {
    "id": "0090a4b2-a120-4263-bf82-ecb60d83b7c5"
   },
   "outputs": [],
   "source": []
  },
  {
   "cell_type": "code",
   "execution_count": null,
   "id": "fa18b553-da0f-42e4-b023-e04bd3531abd",
   "metadata": {
    "id": "fa18b553-da0f-42e4-b023-e04bd3531abd"
   },
   "outputs": [],
   "source": [
    "\"\"\"\n",
    "class Conv6_Encoder(nn.Module):\n",
    "    def __init__(self, latent_space):\n",
    "        super(Conv6_Encoder, self).__init__()\n",
    "        self.latent_space = latent_space\n",
    "        \n",
    "        self.block1 = cnn_block(input_channels = 3, output_channels = 64)\n",
    "        self.block2 = cnn_block(input_channels = 64, output_channels = 128)\n",
    "        self.block3 = cnn_block(input_channels = 128, output_channels = 256)\n",
    "        self.dense_layer1 = nn.Linear(\n",
    "            in_features = 4096, out_features = 256,\n",
    "            bias = True\n",
    "        )\n",
    "        self.op_layer = nn.Linear(\n",
    "            in_features = 256, out_features = self.latent_space,\n",
    "            bias = True\n",
    "        )\n",
    "\n",
    "    def forward(self, x):\n",
    "        x = self.block1(x)\n",
    "        x = self.block2(x)\n",
    "        x = self.block3(x)\n",
    "        x = torch.flatten(x, start_dim = 1)\n",
    "        x = self.dense_layer1(x)\n",
    "        x = self.op_layer(x)\n",
    "        return x\n",
    "\"\"\""
   ]
  },
  {
   "cell_type": "code",
   "execution_count": null,
   "id": "c2b9b954-76c8-4028-bef2-cf35b785561c",
   "metadata": {
    "id": "c2b9b954-76c8-4028-bef2-cf35b785561c"
   },
   "outputs": [],
   "source": []
  },
  {
   "cell_type": "code",
   "execution_count": 34,
   "id": "ee7c52fa-49cf-49c8-bc5b-5f8409495454",
   "metadata": {
    "id": "ee7c52fa-49cf-49c8-bc5b-5f8409495454"
   },
   "outputs": [],
   "source": [
    "class Conv6_Decoder(nn.Module):\n",
    "    def __init__(self, latent_space):\n",
    "        super(Conv6_Decoder, self).__init__()\n",
    "        self.latent_space = latent_space\n",
    "    \n",
    "        self.dense_layer1 = nn.Linear(\n",
    "            in_features = self.latent_space, out_features = 500,\n",
    "            bias = True\n",
    "        )\n",
    "        self.dense_layer2 = nn.Linear(\n",
    "            in_features = 500, out_features = 1024,\n",
    "            bias = True\n",
    "        )\n",
    "        self.conv_tran_layer = nn.ConvTranspose2d(\n",
    "            in_channels = 256, out_channels = 256,\n",
    "            kernel_size = 4, stride = 2,\n",
    "            padding = 1\n",
    "        )\n",
    "        self.conv_tran_layer1 = nn.ConvTranspose2d(\n",
    "            in_channels = 256, out_channels = 256,\n",
    "            kernel_size = 4, stride = 2,\n",
    "            padding = 1\n",
    "        )\n",
    "        self.conv_tran_layer2 = nn.ConvTranspose2d(\n",
    "            in_channels = 256, out_channels = 256,\n",
    "            kernel_size = 3, stride = 1,\n",
    "            padding = 1\n",
    "        )\n",
    "        self.conv_tran_layer3 = nn.ConvTranspose2d(\n",
    "            in_channels = 256, out_channels = 128,\n",
    "            kernel_size = 4, stride = 2,\n",
    "            padding = 1\n",
    "        )\n",
    "        self.conv_tran_layer4 = nn.ConvTranspose2d(\n",
    "            in_channels = 128, out_channels = 128,\n",
    "            kernel_size = 3, stride = 1,\n",
    "            padding = 1\n",
    "        )\n",
    "        self.conv_tran_layer5 = nn.ConvTranspose2d(\n",
    "            in_channels = 128, out_channels = 64,\n",
    "            kernel_size = 4, stride = 2,\n",
    "            padding = 1\n",
    "        )\n",
    "        self.conv_tran_layer6 = nn.ConvTranspose2d(\n",
    "            in_channels = 64, out_channels = 64,\n",
    "            kernel_size = 3, stride = 1,\n",
    "            padding = 1\n",
    "        )\n",
    "        self.output_conv_layer = nn.ConvTranspose2d(\n",
    "            in_channels = 64, out_channels = 3,\n",
    "            kernel_size = 3, stride = 1,\n",
    "            padding = 1\n",
    "        )\n",
    "        \n",
    "    \n",
    "    def forward(self, x):\n",
    "        x = F.leaky_relu(self.dense_layer1(x))\n",
    "        # x = F.relu(self.dense_layer2(x))\n",
    "        x = F.leaky_relu(self.dense_layer2(x))\n",
    "        # x = x.view(-1, 256, 4, 4)\n",
    "        x = x.view(-1, 256, 2, 2)\n",
    "        # x = F.relu(self.conv_tran_layer(x))\n",
    "        x = F.leaky_relu(self.conv_tran_layer(x))\n",
    "        # x = F.relu(self.conv_tran_layer1(x))\n",
    "        x = F.leaky_relu(self.conv_tran_layer1(x))\n",
    "        # x = F.relu(self.conv_tran_layer2(x))\n",
    "        x = F.leaky_relu(self.conv_tran_layer2(x))\n",
    "        # x = F.relu(self.conv_tran_layer3(x))\n",
    "        x = F.leaky_relu(self.conv_tran_layer3(x))\n",
    "        # x = F.relu(self.conv_tran_layer4(x))\n",
    "        x = F.leaky_relu(self.conv_tran_layer4(x))\n",
    "        # x = F.relu(self.conv_tran_layer5(x))\n",
    "        x = F.leaky_relu(self.conv_tran_layer5(x))\n",
    "        # x = F.relu(self.conv_tran_layer6(x))\n",
    "        x = F.leaky_relu(self.conv_tran_layer6(x))\n",
    "        x = self.output_conv_layer(x)\n",
    "        return x\n",
    " "
   ]
  },
  {
   "cell_type": "code",
   "execution_count": null,
   "id": "102b1831-30cb-464e-a00e-ad69b5774268",
   "metadata": {
    "id": "102b1831-30cb-464e-a00e-ad69b5774268"
   },
   "outputs": [],
   "source": []
  },
  {
   "cell_type": "code",
   "execution_count": null,
   "id": "58377e40-8d9c-478a-901c-6e17f5a9ae91",
   "metadata": {
    "id": "58377e40-8d9c-478a-901c-6e17f5a9ae91"
   },
   "outputs": [],
   "source": [
    "\"\"\"\n",
    "class Conv6_Decoder(nn.Module):\n",
    "    def __init__(self, latent_space):\n",
    "        super(Conv6_Decoder, self).__init__()\n",
    "        self.latent_space = latent_space\n",
    "    \n",
    "        self.dense_layer1 = nn.Linear(\n",
    "            in_features = self.latent_space, out_features = 256,\n",
    "            bias = True\n",
    "        )\n",
    "        self.dense_layer2 = nn.Linear(\n",
    "            in_features = 256, out_features = 4096,\n",
    "            bias = True\n",
    "        )\n",
    "        self.conv_tran_layer1 = nn.ConvTranspose2d(\n",
    "            in_channels = 256, out_channels = 256,\n",
    "            kernel_size = 4, stride = 2,\n",
    "            padding = 1\n",
    "        )\n",
    "        self.conv_tran_layer2 = nn.ConvTranspose2d(\n",
    "            in_channels = 256, out_channels = 256,\n",
    "            kernel_size = 3, stride = 1,\n",
    "            padding = 1\n",
    "        )\n",
    "        self.conv_tran_layer3 = nn.ConvTranspose2d(\n",
    "            in_channels = 256, out_channels = 128,\n",
    "            kernel_size = 4, stride = 2,\n",
    "            padding = 1\n",
    "        )\n",
    "        self.conv_tran_layer4 = nn.ConvTranspose2d(\n",
    "            in_channels = 128, out_channels = 128,\n",
    "            kernel_size = 3, stride = 1,\n",
    "            padding = 1\n",
    "        )\n",
    "        self.conv_tran_layer5 = nn.ConvTranspose2d(\n",
    "            in_channels = 128, out_channels = 64,\n",
    "            kernel_size = 4, stride = 2,\n",
    "            padding = 1\n",
    "        )\n",
    "        self.conv_tran_layer6 = nn.ConvTranspose2d(\n",
    "            in_channels = 64, out_channels = 64,\n",
    "            kernel_size = 3, stride = 1,\n",
    "            padding = 1\n",
    "        )\n",
    "        self.output_conv_layer = nn.ConvTranspose2d(\n",
    "            in_channels = 64, out_channels = 3,\n",
    "            kernel_size = 3, stride = 1,\n",
    "            padding = 1\n",
    "        )\n",
    "        \n",
    "    \n",
    "    def forward(self, x):\n",
    "        x = F.relu(self.dense_layer1(x))\n",
    "        x = F.relu(self.dense_layer2(x))\n",
    "        x = x.view(-1, 256, 4, 4)\n",
    "        x = F.relu(self.conv_tran_layer1(x))\n",
    "        x = F.relu(self.conv_tran_layer2(x))\n",
    "        x = F.relu(self.conv_tran_layer3(x))\n",
    "        x = F.relu(self.conv_tran_layer4(x))\n",
    "        x = F.relu(self.conv_tran_layer5(x))\n",
    "        x = F.relu(self.conv_tran_layer6(x))\n",
    "        x = self.output_conv_layer(x)\n",
    "        return x\n",
    "\"\"\""
   ]
  },
  {
   "cell_type": "code",
   "execution_count": null,
   "id": "9eaf44e6-2e9d-421a-a31a-8f3dd5b8f875",
   "metadata": {
    "id": "9eaf44e6-2e9d-421a-a31a-8f3dd5b8f875"
   },
   "outputs": [],
   "source": []
  },
  {
   "cell_type": "code",
   "execution_count": 27,
   "id": "df4237c1-bdaa-4fb0-8716-7c0623f1366a",
   "metadata": {
    "id": "df4237c1-bdaa-4fb0-8716-7c0623f1366a"
   },
   "outputs": [],
   "source": [
    "# encoder = Conv6_Encoder(latent_space = 200)"
   ]
  },
  {
   "cell_type": "code",
   "execution_count": 35,
   "id": "1faa4834-50be-440a-bcc3-159bb5bdcb6e",
   "metadata": {
    "id": "1faa4834-50be-440a-bcc3-159bb5bdcb6e"
   },
   "outputs": [],
   "source": [
    "# decoder = Conv6_Decoder(latent_space = 200)"
   ]
  },
  {
   "cell_type": "code",
   "execution_count": 31,
   "id": "9f14b5d8-3775-480a-bb1c-86174a585f64",
   "metadata": {},
   "outputs": [],
   "source": [
    "# x = encoder(images)"
   ]
  },
  {
   "cell_type": "code",
   "execution_count": 38,
   "id": "67e26c87-9b7e-475b-9b15-d4f861efcb15",
   "metadata": {},
   "outputs": [],
   "source": [
    "# x.shape, images.shape\n",
    "# (torch.Size([32, 200]), torch.Size([32, 3, 32, 32]))"
   ]
  },
  {
   "cell_type": "code",
   "execution_count": null,
   "id": "5acfe01b-2842-47f1-bf25-886e0a73a3aa",
   "metadata": {},
   "outputs": [],
   "source": []
  },
  {
   "cell_type": "code",
   "execution_count": 39,
   "id": "0f344e17-fe8e-4b0b-bbab-8924a8b7ac94",
   "metadata": {
    "id": "0f344e17-fe8e-4b0b-bbab-8924a8b7ac94"
   },
   "outputs": [],
   "source": [
    "# x_recon = decoder(x)\n",
    "# x_recon.shape, images.shape\n",
    "# (torch.Size([32, 3, 32, 32]), torch.Size([32, 3, 32, 32]))"
   ]
  },
  {
   "cell_type": "code",
   "execution_count": 37,
   "id": "65c7caff-6957-490b-a94b-6e422a13b7a5",
   "metadata": {
    "id": "65c7caff-6957-490b-a94b-6e422a13b7a5"
   },
   "outputs": [],
   "source": [
    "# del encoder, decoder, x, x_recon"
   ]
  },
  {
   "cell_type": "code",
   "execution_count": null,
   "id": "77e87b68-83c3-4c22-a869-77c4647bc941",
   "metadata": {
    "id": "77e87b68-83c3-4c22-a869-77c4647bc941"
   },
   "outputs": [],
   "source": []
  },
  {
   "cell_type": "code",
   "execution_count": 40,
   "id": "1f61ef23-2a85-41f8-b956-4277376b8c1b",
   "metadata": {
    "id": "1f61ef23-2a85-41f8-b956-4277376b8c1b"
   },
   "outputs": [],
   "source": [
    "class VAE_Conv(nn.Module):\n",
    "    def __init__(self, latent_space = 5):\n",
    "        super(VAE_Conv, self).__init__()\n",
    "        \n",
    "        self.latent_space = latent_space\n",
    "        \n",
    "        # Encoder-\n",
    "        self.encoder = Conv6_Encoder(latent_space = self.latent_space).to(device)\n",
    "        \n",
    "        # Two additional layers 'hidden2mu' & 'hidden2log' to convert the bottleneck into the μ and σ vectors-\n",
    "        self.hidden2mu = nn.Linear(in_features = latent_space, out_features = latent_space, bias = True)\n",
    "        self.hidden2log_var = nn.Linear(in_features = latent_space, out_features = latent_space, bias = True)\n",
    "        \n",
    "        # Decoder-\n",
    "        self.decoder = Conv6_Decoder(latent_space = self.latent_space).to(device)\n",
    "        \n",
    "        \n",
    "    def reparameterize(self, mu, log_var):\n",
    "        '''\n",
    "        Input arguments:\n",
    "        1. mu - mean coming from the encoder's latent space\n",
    "        2. log_var - log variance coming from the encoder's latent space\n",
    "        '''\n",
    "        # Compute standard deviation using 'log_var'-\n",
    "        std = torch.exp(0.5 * log_var)\n",
    "        \n",
    "        # 'eps' samples from a normal standard distribution to add\n",
    "        # stochasticity to the sampling process-\n",
    "        eps = torch.randn_like(std)\n",
    "        \n",
    "        # Reparameterization trick - sample as if it's from the input\n",
    "        # space-\n",
    "        sample = mu + (std * eps)\n",
    "        \n",
    "        return sample\n",
    "    \n",
    "    \n",
    "    def forward(self, x):\n",
    "        # Encode input data-\n",
    "        x = self.encoder(x)\n",
    "        # NOTE: The line of code above does NOT give us the latent vector!\n",
    "        \n",
    "        # print(f\"encoder's output x.shape: {x.shape}\")\n",
    "        \n",
    "        mu = self.hidden2mu(x)\n",
    "        log_var = self.hidden2log_var(x)\n",
    "        \n",
    "        # Obtain the latent vector using reparameterization-\n",
    "        z = self.reparameterize(mu, log_var)\n",
    "        # latent vector 'z' is obtained through reparameterization trick using mu and log_var\n",
    "        \n",
    "        '''\n",
    "        print(f\"mu.shape: {mu.shape}, log_var.shape: {log_var.shape} &\"\n",
    "              f\" z.shape: {z.shape}\")\n",
    "        '''\n",
    "        \n",
    "        # Decode latent vector-\n",
    "        # recon_data = torch.sigmoid(self.decoder(z))\n",
    "        recon_data = torch.tanh(self.decoder(z))\n",
    "        # x = self.decoder(z)\n",
    "        # recon_data = torch.sigmoid(x) # or, tanh\n",
    "        \n",
    "        return recon_data, mu, log_var\n",
    "        "
   ]
  },
  {
   "cell_type": "code",
   "execution_count": null,
   "id": "ea79f596-e7ff-40fe-bfa2-5f074e665d0d",
   "metadata": {
    "id": "ea79f596-e7ff-40fe-bfa2-5f074e665d0d"
   },
   "outputs": [],
   "source": []
  },
  {
   "cell_type": "code",
   "execution_count": 41,
   "id": "60ab401d-bfd3-443f-a777-970b74941b68",
   "metadata": {
    "id": "60ab401d-bfd3-443f-a777-970b74941b68"
   },
   "outputs": [],
   "source": [
    "# Initialize a VAE objetc-\n",
    "model = VAE_Conv(latent_space = 200).to(device)"
   ]
  },
  {
   "cell_type": "code",
   "execution_count": null,
   "id": "454fc338-0e0a-4234-83f6-dd72cd9278bf",
   "metadata": {
    "id": "454fc338-0e0a-4234-83f6-dd72cd9278bf"
   },
   "outputs": [],
   "source": []
  },
  {
   "cell_type": "code",
   "execution_count": 42,
   "id": "690f97c3-35f3-459e-8c3f-dfb994d824e0",
   "metadata": {
    "colab": {
     "base_uri": "https://localhost:8080/"
    },
    "id": "690f97c3-35f3-459e-8c3f-dfb994d824e0",
    "outputId": "fa827c94-5f8f-4473-8c5a-129f83cab6ac"
   },
   "outputs": [
    {
     "name": "stdout",
     "output_type": "stream",
     "text": [
      "VAE_Conv(\n",
      "  (encoder): Conv6_Encoder(\n",
      "    (block1): cnn_block(\n",
      "      (conv1): Conv2d(3, 64, kernel_size=(3, 3), stride=(1, 1), padding=(1, 1))\n",
      "      (conv2): Conv2d(64, 64, kernel_size=(3, 3), stride=(1, 1), padding=(1, 1))\n",
      "      (pool): MaxPool2d(kernel_size=2, stride=2, padding=0, dilation=1, ceil_mode=False)\n",
      "    )\n",
      "    (block2): cnn_block(\n",
      "      (conv1): Conv2d(64, 128, kernel_size=(3, 3), stride=(1, 1), padding=(1, 1))\n",
      "      (conv2): Conv2d(128, 128, kernel_size=(3, 3), stride=(1, 1), padding=(1, 1))\n",
      "      (pool): MaxPool2d(kernel_size=2, stride=2, padding=0, dilation=1, ceil_mode=False)\n",
      "    )\n",
      "    (block3): cnn_block(\n",
      "      (conv1): Conv2d(128, 256, kernel_size=(3, 3), stride=(1, 1), padding=(1, 1))\n",
      "      (conv2): Conv2d(256, 256, kernel_size=(3, 3), stride=(1, 1), padding=(1, 1))\n",
      "      (pool): MaxPool2d(kernel_size=2, stride=2, padding=0, dilation=1, ceil_mode=False)\n",
      "    )\n",
      "    (conv_layer): Conv2d(256, 256, kernel_size=(3, 3), stride=(1, 1))\n",
      "    (dense_layer1): Linear(in_features=1024, out_features=500, bias=True)\n",
      "    (op_layer): Linear(in_features=500, out_features=200, bias=True)\n",
      "  )\n",
      "  (hidden2mu): Linear(in_features=200, out_features=200, bias=True)\n",
      "  (hidden2log_var): Linear(in_features=200, out_features=200, bias=True)\n",
      "  (decoder): Conv6_Decoder(\n",
      "    (dense_layer1): Linear(in_features=200, out_features=500, bias=True)\n",
      "    (dense_layer2): Linear(in_features=500, out_features=1024, bias=True)\n",
      "    (conv_tran_layer): ConvTranspose2d(256, 256, kernel_size=(4, 4), stride=(2, 2), padding=(1, 1))\n",
      "    (conv_tran_layer1): ConvTranspose2d(256, 256, kernel_size=(4, 4), stride=(2, 2), padding=(1, 1))\n",
      "    (conv_tran_layer2): ConvTranspose2d(256, 256, kernel_size=(3, 3), stride=(1, 1), padding=(1, 1))\n",
      "    (conv_tran_layer3): ConvTranspose2d(256, 128, kernel_size=(4, 4), stride=(2, 2), padding=(1, 1))\n",
      "    (conv_tran_layer4): ConvTranspose2d(128, 128, kernel_size=(3, 3), stride=(1, 1), padding=(1, 1))\n",
      "    (conv_tran_layer5): ConvTranspose2d(128, 64, kernel_size=(4, 4), stride=(2, 2), padding=(1, 1))\n",
      "    (conv_tran_layer6): ConvTranspose2d(64, 64, kernel_size=(3, 3), stride=(1, 1), padding=(1, 1))\n",
      "    (output_conv_layer): ConvTranspose2d(64, 3, kernel_size=(3, 3), stride=(1, 1), padding=(1, 1))\n",
      "  )\n",
      ")\n"
     ]
    }
   ],
   "source": [
    "print(model)"
   ]
  },
  {
   "cell_type": "code",
   "execution_count": null,
   "id": "1f605ec5-2607-4a80-bdc3-e4257b24fce5",
   "metadata": {
    "id": "1f605ec5-2607-4a80-bdc3-e4257b24fce5"
   },
   "outputs": [],
   "source": []
  },
  {
   "cell_type": "code",
   "execution_count": 43,
   "id": "9e827468-9683-4181-99e3-3a2b0d05518d",
   "metadata": {
    "colab": {
     "base_uri": "https://localhost:8080/"
    },
    "id": "9e827468-9683-4181-99e3-3a2b0d05518d",
    "outputId": "f111f4fa-b53a-429d-d72f-db038cb39652"
   },
   "outputs": [
    {
     "name": "stdout",
     "output_type": "stream",
     "text": [
      "layer.shape = torch.Size([64, 3, 3, 3]) has 1728 parameters\n",
      "layer.shape = torch.Size([64]) has 64 parameters\n",
      "layer.shape = torch.Size([64, 64, 3, 3]) has 36864 parameters\n",
      "layer.shape = torch.Size([64]) has 64 parameters\n",
      "layer.shape = torch.Size([128, 64, 3, 3]) has 73728 parameters\n",
      "layer.shape = torch.Size([128]) has 128 parameters\n",
      "layer.shape = torch.Size([128, 128, 3, 3]) has 147456 parameters\n",
      "layer.shape = torch.Size([128]) has 128 parameters\n",
      "layer.shape = torch.Size([256, 128, 3, 3]) has 294912 parameters\n",
      "layer.shape = torch.Size([256]) has 256 parameters\n",
      "layer.shape = torch.Size([256, 256, 3, 3]) has 589824 parameters\n",
      "layer.shape = torch.Size([256]) has 256 parameters\n",
      "layer.shape = torch.Size([256, 256, 3, 3]) has 589824 parameters\n",
      "layer.shape = torch.Size([256]) has 256 parameters\n",
      "layer.shape = torch.Size([500, 1024]) has 512000 parameters\n",
      "layer.shape = torch.Size([500]) has 500 parameters\n",
      "layer.shape = torch.Size([200, 500]) has 100000 parameters\n",
      "layer.shape = torch.Size([200]) has 200 parameters\n",
      "layer.shape = torch.Size([200, 200]) has 40000 parameters\n",
      "layer.shape = torch.Size([200]) has 200 parameters\n",
      "layer.shape = torch.Size([200, 200]) has 40000 parameters\n",
      "layer.shape = torch.Size([200]) has 200 parameters\n",
      "layer.shape = torch.Size([500, 200]) has 100000 parameters\n",
      "layer.shape = torch.Size([500]) has 500 parameters\n",
      "layer.shape = torch.Size([1024, 500]) has 512000 parameters\n",
      "layer.shape = torch.Size([1024]) has 1024 parameters\n",
      "layer.shape = torch.Size([256, 256, 4, 4]) has 1048576 parameters\n",
      "layer.shape = torch.Size([256]) has 256 parameters\n",
      "layer.shape = torch.Size([256, 256, 4, 4]) has 1048576 parameters\n",
      "layer.shape = torch.Size([256]) has 256 parameters\n",
      "layer.shape = torch.Size([256, 256, 3, 3]) has 589824 parameters\n",
      "layer.shape = torch.Size([256]) has 256 parameters\n",
      "layer.shape = torch.Size([256, 128, 4, 4]) has 524288 parameters\n",
      "layer.shape = torch.Size([128]) has 128 parameters\n",
      "layer.shape = torch.Size([128, 128, 3, 3]) has 147456 parameters\n",
      "layer.shape = torch.Size([128]) has 128 parameters\n",
      "layer.shape = torch.Size([128, 64, 4, 4]) has 131072 parameters\n",
      "layer.shape = torch.Size([64]) has 64 parameters\n",
      "layer.shape = torch.Size([64, 64, 3, 3]) has 36864 parameters\n",
      "layer.shape = torch.Size([64]) has 64 parameters\n",
      "layer.shape = torch.Size([64, 3, 3, 3]) has 1728 parameters\n",
      "layer.shape = torch.Size([3]) has 3 parameters\n"
     ]
    }
   ],
   "source": [
    "# Count number of layer-wise parameters and total parameters-\n",
    "tot_params = 0\n",
    "for param in model.parameters():\n",
    "    print(f\"layer.shape = {param.shape} has {param.nelement()} parameters\")\n",
    "    tot_params += param.nelement()"
   ]
  },
  {
   "cell_type": "code",
   "execution_count": 44,
   "id": "4c4517d0-5b78-4584-8337-25994f91de24",
   "metadata": {
    "colab": {
     "base_uri": "https://localhost:8080/"
    },
    "id": "4c4517d0-5b78-4584-8337-25994f91de24",
    "outputId": "fe138630-3d1f-40cc-8c21-8845d1dd12f0"
   },
   "outputs": [
    {
     "name": "stdout",
     "output_type": "stream",
     "text": [
      "Total number of parameters in VAE Dense model = 6571651\n"
     ]
    }
   ],
   "source": [
    "print(f\"Total number of parameters in VAE Dense model = {tot_params}\")"
   ]
  },
  {
   "cell_type": "code",
   "execution_count": null,
   "id": "c476c09b-d6ef-43fe-8ff9-8f7139b62b6e",
   "metadata": {
    "id": "c476c09b-d6ef-43fe-8ff9-8f7139b62b6e"
   },
   "outputs": [],
   "source": []
  },
  {
   "cell_type": "code",
   "execution_count": null,
   "id": "WeCYzsSAx5Tn",
   "metadata": {
    "id": "WeCYzsSAx5Tn"
   },
   "outputs": [],
   "source": []
  },
  {
   "cell_type": "markdown",
   "id": "rMH47UZ-xse_",
   "metadata": {
    "id": "rMH47UZ-xse_"
   },
   "source": [
    "### Initial _variance_ - Sanity check:\n",
    "\n",
    "_Before_ training the VAE neural network model, there should be some initial variance."
   ]
  },
  {
   "cell_type": "code",
   "execution_count": 45,
   "id": "hJzaYABYvhXv",
   "metadata": {
    "colab": {
     "base_uri": "https://localhost:8080/"
    },
    "id": "hJzaYABYvhXv",
    "outputId": "8d14eaa0-78a5-4084-f120-1e0dcb3f34c4"
   },
   "outputs": [
    {
     "name": "stdout",
     "output_type": "stream",
     "text": [
      "torch.Size([200, 200]) 40000\n",
      "torch.Size([200]) 200\n"
     ]
    }
   ],
   "source": [
    "for x in model.hidden2mu.parameters():\n",
    "    print(x.shape, x.nelement())"
   ]
  },
  {
   "cell_type": "code",
   "execution_count": 46,
   "id": "rh66ZwUAwPKJ",
   "metadata": {
    "id": "rh66ZwUAwPKJ"
   },
   "outputs": [],
   "source": [
    "log_var_wts = model.hidden2log_var.weight"
   ]
  },
  {
   "cell_type": "code",
   "execution_count": 47,
   "id": "q-j-5_VGv1jt",
   "metadata": {
    "id": "q-j-5_VGv1jt"
   },
   "outputs": [],
   "source": [
    "mu_wts = model.hidden2mu.weight"
   ]
  },
  {
   "cell_type": "code",
   "execution_count": 48,
   "id": "dJARYX0cwJfD",
   "metadata": {
    "id": "dJARYX0cwJfD"
   },
   "outputs": [],
   "source": [
    "mu_wts = mu_wts.detach().cpu().numpy()"
   ]
  },
  {
   "cell_type": "code",
   "execution_count": 49,
   "id": "x7-zEsvcwN2V",
   "metadata": {
    "id": "x7-zEsvcwN2V"
   },
   "outputs": [],
   "source": [
    "log_var_wts = log_var_wts.detach().cpu().numpy()"
   ]
  },
  {
   "cell_type": "code",
   "execution_count": 50,
   "id": "cdhDQZU-wWQ7",
   "metadata": {
    "colab": {
     "base_uri": "https://localhost:8080/"
    },
    "id": "cdhDQZU-wWQ7",
    "outputId": "cb18867f-67cd-47fb-de92-14d7a7d4e4e7"
   },
   "outputs": [
    {
     "data": {
      "text/plain": [
       "((200, 200), (200, 200))"
      ]
     },
     "execution_count": 50,
     "metadata": {},
     "output_type": "execute_result"
    }
   ],
   "source": [
    "mu_wts.shape, log_var_wts.shape"
   ]
  },
  {
   "cell_type": "code",
   "execution_count": null,
   "id": "m3Gz3BmCwp4h",
   "metadata": {
    "id": "m3Gz3BmCwp4h"
   },
   "outputs": [],
   "source": []
  },
  {
   "cell_type": "code",
   "execution_count": 51,
   "id": "HgzluinKxO2f",
   "metadata": {
    "colab": {
     "base_uri": "https://localhost:8080/",
     "height": 385
    },
    "id": "HgzluinKxO2f",
    "outputId": "740ebaca-97f3-4c98-ccf6-30aa4fc6cac7"
   },
   "outputs": [
    {
     "data": {
      "image/png": "[encoded data removed]",
      "text/plain": [
       "<Figure size 360x360 with 1 Axes>"
      ]
     },
     "metadata": {
      "needs_background": "light"
     },
     "output_type": "display_data"
    }
   ],
   "source": [
    "sns.displot(data = mu_wts.flatten(), bins = int(np.ceil(np.sqrt(mu_wts.size))))\n",
    "plt.title(\"mu Visualization\")\n",
    "plt.show()"
   ]
  },
  {
   "cell_type": "code",
   "execution_count": 52,
   "id": "M3M9In0DxYx9",
   "metadata": {
    "colab": {
     "base_uri": "https://localhost:8080/",
     "height": 385
    },
    "id": "M3M9In0DxYx9",
    "outputId": "a2592eaf-4b7c-47a0-eb29-64866f59f2b0"
   },
   "outputs": [
    {
     "data": {
      "image/png": "[encoded data removed]",
      "text/plain": [
       "<Figure size 360x360 with 1 Axes>"
      ]
     },
     "metadata": {
      "needs_background": "light"
     },
     "output_type": "display_data"
    }
   ],
   "source": [
    "sns.displot(data = log_var_wts.flatten(), bins = int(np.ceil(np.sqrt(log_var_wts.size))))\n",
    "plt.title(\"log variance Visualization\")\n",
    "plt.show()"
   ]
  },
  {
   "cell_type": "code",
   "execution_count": 53,
   "id": "0jBPklKuxg38",
   "metadata": {
    "id": "0jBPklKuxg38"
   },
   "outputs": [],
   "source": [
    "del mu_wts, log_var_wts"
   ]
  },
  {
   "cell_type": "code",
   "execution_count": null,
   "id": "E8JLR1l0xpyJ",
   "metadata": {
    "id": "E8JLR1l0xpyJ"
   },
   "outputs": [],
   "source": []
  },
  {
   "cell_type": "code",
   "execution_count": 54,
   "id": "41db8f08-7228-4c94-93d2-73d701953bdb",
   "metadata": {
    "id": "41db8f08-7228-4c94-93d2-73d701953bdb"
   },
   "outputs": [],
   "source": [
    "images = images.to(device)"
   ]
  },
  {
   "cell_type": "code",
   "execution_count": 55,
   "id": "2362adeb-106a-4b84-a696-322448199fcc",
   "metadata": {
    "colab": {
     "base_uri": "https://localhost:8080/"
    },
    "id": "2362adeb-106a-4b84-a696-322448199fcc",
    "outputId": "91967ae6-53d5-4026-ed15-a0329abf4c62"
   },
   "outputs": [
    {
     "data": {
      "text/plain": [
       "torch.Size([32, 3, 32, 32])"
      ]
     },
     "execution_count": 55,
     "metadata": {},
     "output_type": "execute_result"
    }
   ],
   "source": [
    "images.shape"
   ]
  },
  {
   "cell_type": "code",
   "execution_count": 56,
   "id": "8113e149-a1df-4fed-94ec-7601ecd8530e",
   "metadata": {
    "id": "8113e149-a1df-4fed-94ec-7601ecd8530e"
   },
   "outputs": [],
   "source": [
    "# Sanity check-\n",
    "recon_images, mu, log_var = model(images)"
   ]
  },
  {
   "cell_type": "code",
   "execution_count": 57,
   "id": "b654101c-692b-4e8e-be65-436bf75610f8",
   "metadata": {
    "colab": {
     "base_uri": "https://localhost:8080/"
    },
    "id": "b654101c-692b-4e8e-be65-436bf75610f8",
    "outputId": "7684ade5-4790-466c-8c48-529797f53ab7"
   },
   "outputs": [
    {
     "data": {
      "text/plain": [
       "(torch.Size([32, 3, 32, 32]), torch.Size([32, 200]), torch.Size([32, 200]))"
      ]
     },
     "execution_count": 57,
     "metadata": {},
     "output_type": "execute_result"
    }
   ],
   "source": [
    "recon_images.shape, mu.shape, log_var.shape"
   ]
  },
  {
   "cell_type": "code",
   "execution_count": 58,
   "id": "ff3a75d4-c742-4d83-b755-fe639471e1de",
   "metadata": {
    "id": "ff3a75d4-c742-4d83-b755-fe639471e1de"
   },
   "outputs": [],
   "source": [
    "del recon_images, mu, log_var"
   ]
  },
  {
   "cell_type": "code",
   "execution_count": null,
   "id": "3d18f7c4-8418-4aad-8cd1-90ef0bc2734f",
   "metadata": {
    "id": "3d18f7c4-8418-4aad-8cd1-90ef0bc2734f"
   },
   "outputs": [],
   "source": []
  },
  {
   "cell_type": "code",
   "execution_count": null,
   "id": "0af8c0c0-023c-4627-b9a8-135aa6243e2c",
   "metadata": {
    "id": "0af8c0c0-023c-4627-b9a8-135aa6243e2c"
   },
   "outputs": [],
   "source": []
  },
  {
   "cell_type": "code",
   "execution_count": 61,
   "id": "f11e6244-761a-4994-955c-1ced8fd23fde",
   "metadata": {
    "colab": {
     "base_uri": "https://localhost:8080/"
    },
    "id": "f11e6244-761a-4994-955c-1ced8fd23fde",
    "outputId": "27c9ade9-f5d7-4dbb-a604-5aa1554bb1f5"
   },
   "outputs": [
    {
     "name": "stdout",
     "output_type": "stream",
     "text": [
      "Adam optimizer with learning rate = 0.001 will be used\n"
     ]
    }
   ],
   "source": [
    "print(f\"Adam optimizer with learning rate = {learning_rate} will be used\")"
   ]
  },
  {
   "cell_type": "code",
   "execution_count": 60,
   "id": "8eb045e5-fa5b-4053-a590-d6e46009eef7",
   "metadata": {
    "id": "8eb045e5-fa5b-4053-a590-d6e46009eef7"
   },
   "outputs": [],
   "source": [
    "# Define gradient descent optimizer-\n",
    "optimizer = torch.optim.Adam(model.parameters(), lr = learning_rate)"
   ]
  },
  {
   "cell_type": "code",
   "execution_count": 59,
   "id": "787d9698-7999-4b7e-bfe3-3cb933254a17",
   "metadata": {
    "id": "787d9698-7999-4b7e-bfe3-3cb933254a17"
   },
   "outputs": [],
   "source": [
    "# Reconstruction loss-\n",
    "criterion = nn.BCELoss(reduction = 'sum')\n",
    "\n",
    "# Note: reduction='sum' is used for the BCELoss(). If you read the PyTorch documentations, then this is\n",
    "# specifically for the case of autoencoders only.\n",
    "\n",
    "# Also, MSE loss could also be used-\n",
    "# criterion = nn.MSELoss(reduction = 'sum')"
   ]
  },
  {
   "cell_type": "code",
   "execution_count": null,
   "id": "59e964b6-1abe-4a5e-92c0-10390a440c3a",
   "metadata": {
    "id": "59e964b6-1abe-4a5e-92c0-10390a440c3a"
   },
   "outputs": [],
   "source": []
  },
  {
   "cell_type": "code",
   "execution_count": 62,
   "id": "f64c085e-aba2-4a72-b17d-3b4de26808b4",
   "metadata": {
    "id": "f64c085e-aba2-4a72-b17d-3b4de26808b4"
   },
   "outputs": [],
   "source": [
    "def total_loss(reconstruction_loss, mu, log_var, alpha = 1):\n",
    "    '''\n",
    "    Function to add reconstruction loss and KL-Divergence loss.\n",
    "    KL-Divergence = 0.5 * sum(1 + log(sigma^2) - mu^2 - sigma^2)\n",
    "    \n",
    "    Inputs:\n",
    "    1. recontruction loss - BCE or MSE loss\n",
    "    2. mu: mean from the latent vector\n",
    "    3. logvar: log variance from the latent vector\n",
    "    4. alpha (int): Hyperparameter to control the importance of reconstruction\n",
    "    loss vs KL-Divergence Loss.\n",
    "    '''\n",
    "    KLD = -0.5 * torch.sum(1 + log_var - mu.pow(2) - log_var.exp())\n",
    "    \n",
    "    # final_loss = reconstruction_loss + KLD\n",
    "    final_loss = (reconstruction_loss * alpha) + KLD\n",
    "    \n",
    "    return final_loss\n"
   ]
  },
  {
   "cell_type": "code",
   "execution_count": null,
   "id": "157ee991-37e0-4d84-a2aa-f3dfa6cddb15",
   "metadata": {
    "id": "157ee991-37e0-4d84-a2aa-f3dfa6cddb15"
   },
   "outputs": [],
   "source": []
  },
  {
   "cell_type": "code",
   "execution_count": null,
   "id": "a5aee2cd-b598-4731-9577-93103e6c8e88",
   "metadata": {
    "id": "a5aee2cd-b598-4731-9577-93103e6c8e88"
   },
   "outputs": [],
   "source": []
  },
  {
   "cell_type": "code",
   "execution_count": 63,
   "id": "03f9f120-28e9-4e4a-a3dd-98e1061a03a6",
   "metadata": {
    "id": "03f9f120-28e9-4e4a-a3dd-98e1061a03a6"
   },
   "outputs": [],
   "source": [
    "def train_one_epoch(model, dataloader, alpha):\n",
    "    \n",
    "    # Place model to device-\n",
    "    model.to(device)\n",
    "    \n",
    "    # Enable training mode-\n",
    "    model.train()\n",
    "    \n",
    "    running_loss = 0.0\n",
    "    \n",
    "    for i, data in tqdm(enumerate(dataloader), total = int(len(train_dataset) / dataloader.batch_size)):\n",
    "        data, _ = data\n",
    "        data = data.to(device)\n",
    "        \n",
    "        # Flatten input data to feed into a dense layer-\n",
    "        # data = data.view(data.size(0), -1)\n",
    "        \n",
    "        # Empty accumulated gradients-\n",
    "        optimizer.zero_grad()\n",
    "        \n",
    "        # Perform forward propagation-\n",
    "        reconstruction, mu, logvar = model(data)\n",
    "        \n",
    "        # Compute reconstruction loss-\n",
    "        recon_loss = criterion(reconstruction, data)\n",
    "        \n",
    "        # Compute final loss-\n",
    "        loss = total_loss(recon_loss, mu, logvar, alpha)\n",
    "        \n",
    "        # Update loss-\n",
    "        running_loss += loss.item()\n",
    "        \n",
    "        # Compute gradients wrt loss-\n",
    "        loss.backward()\n",
    "        \n",
    "        # Perform gradient descent-\n",
    "        optimizer.step()\n",
    "        \n",
    "    train_loss = running_loss / len(dataloader.dataset)\n",
    "    \n",
    "    return train_loss, mu, logvar\n"
   ]
  },
  {
   "cell_type": "code",
   "execution_count": null,
   "id": "a4126525-a389-4c83-8648-81e3dca98309",
   "metadata": {
    "id": "a4126525-a389-4c83-8648-81e3dca98309"
   },
   "outputs": [],
   "source": []
  },
  {
   "cell_type": "code",
   "execution_count": 64,
   "id": "9a030239-e970-424f-a1fe-b16690622673",
   "metadata": {
    "id": "9a030239-e970-424f-a1fe-b16690622673"
   },
   "outputs": [],
   "source": [
    "def validate_one_epoch(model, dataloader, alpha):\n",
    "    \n",
    "    # Place model to device-\n",
    "    model.to(device)\n",
    "    \n",
    "    # Enable evaluation mode-\n",
    "    model.eval()\n",
    "    \n",
    "    running_loss = 0.0\n",
    "    \n",
    "    with torch.no_grad():\n",
    "        for i, data in tqdm(enumerate(dataloader), total = int(len(test_dataset) / dataloader.batch_size)):\n",
    "            data, _ = data\n",
    "            data = data.to(device)\n",
    "            \n",
    "            # Flatten data to feed into a dense layer-\n",
    "            # data = data.view(data.size(0), -1)\n",
    "            \n",
    "            # Forward propagation-\n",
    "            reconstruction, mu, logvar = model(data)\n",
    "            \n",
    "            # Compute reconstruction loss-\n",
    "            recon_loss = criterion(reconstruction, data)\n",
    "            \n",
    "            # Compute total loss-\n",
    "            loss = total_loss(recon_loss, mu, logvar, alpha)\n",
    "            \n",
    "            # Update loss-\n",
    "            running_loss += loss.item()\n",
    "\n",
    "            '''\n",
    "            # save the last batch input and output of every epoch\n",
    "            if i == int(len(test_dataset) / dataloader.batch_size) - 1:\n",
    "                num_rows = 8\n",
    "                both = torch.cat((data.view(batch_size, 1, 28, 28)[:8], \n",
    "                                  reconstruction.view(batch_size, 1, 28, 28)[:8]))\n",
    "                save_image(both.cpu(), f\"../outputs/output{epoch}.png\", nrow=num_rows)\n",
    "            '''\n",
    "            \n",
    "    val_loss = running_loss / len(dataloader.dataset)\n",
    "    \n",
    "    return val_loss, mu, logvar\n"
   ]
  },
  {
   "cell_type": "code",
   "execution_count": null,
   "id": "df263f24-1a96-4b1b-b066-623f9e56f76f",
   "metadata": {
    "id": "df263f24-1a96-4b1b-b066-623f9e56f76f"
   },
   "outputs": [],
   "source": []
  },
  {
   "cell_type": "code",
   "execution_count": null,
   "id": "XpbMm0H8PPNT",
   "metadata": {
    "id": "XpbMm0H8PPNT"
   },
   "outputs": [],
   "source": [
    "# alpha = 1"
   ]
  },
  {
   "cell_type": "code",
   "execution_count": null,
   "id": "df7c4ede-b4e7-4dce-b342-78f0b7a6fec2",
   "metadata": {
    "id": "df7c4ede-b4e7-4dce-b342-78f0b7a6fec2"
   },
   "outputs": [],
   "source": [
    "# Sanity check-\n",
    "'''\n",
    "train_loss = train_one_epoch(\n",
    "    model = model, dataloader = train_loader,\n",
    "    alpha = alpha\n",
    "    )\n",
    "'''"
   ]
  },
  {
   "cell_type": "code",
   "execution_count": null,
   "id": "36f2c85c-de95-4d4e-8878-fac91b832dd1",
   "metadata": {
    "id": "36f2c85c-de95-4d4e-8878-fac91b832dd1"
   },
   "outputs": [],
   "source": [
    "# Sanity check-\n",
    "'''\n",
    "test_loss = validate_one_epoch(\n",
    "    model = model, dataloader = test_loader,\n",
    "    alpha = alpha\n",
    "    )\n",
    "'''"
   ]
  },
  {
   "cell_type": "code",
   "execution_count": null,
   "id": "3e999296-c9b0-44a7-b137-f4e1869c1889",
   "metadata": {
    "id": "3e999296-c9b0-44a7-b137-f4e1869c1889"
   },
   "outputs": [],
   "source": [
    "# print(f\"train loss = {train_loss:.4f} & test loss = {test_loss:.4f}\")"
   ]
  },
  {
   "cell_type": "code",
   "execution_count": null,
   "id": "3fc03399-f103-4744-be1d-3b5a318041bf",
   "metadata": {
    "id": "3fc03399-f103-4744-be1d-3b5a318041bf"
   },
   "outputs": [],
   "source": []
  },
  {
   "cell_type": "code",
   "execution_count": null,
   "id": "d764ab87-e775-469d-a423-5949ba2ef641",
   "metadata": {
    "id": "d764ab87-e775-469d-a423-5949ba2ef641"
   },
   "outputs": [],
   "source": []
  },
  {
   "cell_type": "code",
   "execution_count": 41,
   "id": "bbfcaf9d-e34e-4518-8dd5-7b9415f4502b",
   "metadata": {
    "id": "bbfcaf9d-e34e-4518-8dd5-7b9415f4502b"
   },
   "outputs": [],
   "source": [
    "# Specify alpha - Hyperparameter to control the importance of reconstruction\n",
    "# loss vs KL-Divergence Loss-\n",
    "alpha = 1"
   ]
  },
  {
   "cell_type": "code",
   "execution_count": null,
   "id": "d5680d41-651e-41c9-84fd-5ba5dd845a04",
   "metadata": {
    "id": "d5680d41-651e-41c9-84fd-5ba5dd845a04"
   },
   "outputs": [],
   "source": []
  },
  {
   "cell_type": "code",
   "execution_count": 42,
   "id": "6fb16c17-d884-4d85-bc85-8df9c84c8de2",
   "metadata": {
    "id": "6fb16c17-d884-4d85-bc85-8df9c84c8de2"
   },
   "outputs": [],
   "source": [
    "# Python dict to contain training metrics-\n",
    "train_history = {}"
   ]
  },
  {
   "cell_type": "code",
   "execution_count": 43,
   "id": "nhMY1nkiElZG",
   "metadata": {
    "colab": {
     "base_uri": "https://localhost:8080/"
    },
    "id": "nhMY1nkiElZG",
    "outputId": "00697258-8053-48ab-9e98-30397e5d6262"
   },
   "outputs": [
    {
     "name": "stdout",
     "output_type": "stream",
     "text": [
      "Training VAE model for 50 epochs\n"
     ]
    }
   ],
   "source": [
    "print(f\"Training VAE model for {num_epochs} epochs\")"
   ]
  },
  {
   "cell_type": "code",
   "execution_count": null,
   "id": "t0PibAAJEots",
   "metadata": {
    "id": "t0PibAAJEots"
   },
   "outputs": [],
   "source": []
  },
  {
   "cell_type": "code",
   "execution_count": 44,
   "id": "8a71980b-7296-4f21-83f4-9ffaf76f2234",
   "metadata": {
    "colab": {
     "base_uri": "https://localhost:8080/",
     "height": 1000
    },
    "id": "8a71980b-7296-4f21-83f4-9ffaf76f2234",
    "outputId": "5f209f52-7728-435a-dd2e-6b9a45b79c69"
   },
   "outputs": [
    {
     "name": "stderr",
     "output_type": "stream",
     "text": [
      "1563it [02:14, 11.65it/s]                          \n",
      "313it [00:12, 25.47it/s]                         \n"
     ]
    },
    {
     "name": "stdout",
     "output_type": "stream",
     "text": [
      "Epoch = 1; train loss = 6372.3547,test loss = 4776.8856, train_logvar = 0.000018, train_mu = 0.000002, val_logvar = 0.000033 & val_mu = 0.000004\n"
     ]
    },
    {
     "name": "stderr",
     "output_type": "stream",
     "text": [
      "1563it [02:14, 11.64it/s]                          \n",
      "313it [00:12, 25.57it/s]                         \n"
     ]
    },
    {
     "name": "stdout",
     "output_type": "stream",
     "text": [
      "Epoch = 2; train loss = 6372.8814,test loss = 4776.8856, train_logvar = -0.000010, train_mu = -0.000001, val_logvar = 0.000018 & val_mu = 0.000002\n"
     ]
    },
    {
     "name": "stderr",
     "output_type": "stream",
     "text": [
      "1563it [02:14, 11.65it/s]                          \n",
      "313it [00:12, 25.53it/s]                         \n"
     ]
    },
    {
     "name": "stdout",
     "output_type": "stream",
     "text": [
      "Epoch = 3; train loss = 6364.4709,test loss = 4776.8856, train_logvar = -0.000049, train_mu = -0.000004, val_logvar = -0.000051 & val_mu = -0.000004\n"
     ]
    },
    {
     "name": "stderr",
     "output_type": "stream",
     "text": [
      "1563it [02:14, 11.66it/s]                          \n",
      "313it [00:12, 25.48it/s]                         \n"
     ]
    },
    {
     "name": "stdout",
     "output_type": "stream",
     "text": [
      "Epoch = 4; train loss = 6363.3133,test loss = 4776.8856, train_logvar = -0.000001, train_mu = 0.000001, val_logvar = -0.000002 & val_mu = 0.000001\n"
     ]
    },
    {
     "name": "stderr",
     "output_type": "stream",
     "text": [
      "1563it [02:14, 11.65it/s]                          \n",
      "313it [00:12, 25.42it/s]                         \n"
     ]
    },
    {
     "name": "stdout",
     "output_type": "stream",
     "text": [
      "Epoch = 5; train loss = 6358.3143,test loss = 4776.8856, train_logvar = -0.000001, train_mu = 0.000001, val_logvar = -0.000002 & val_mu = 0.000001\n"
     ]
    },
    {
     "name": "stderr",
     "output_type": "stream",
     "text": [
      "1563it [02:14, 11.65it/s]                          \n",
      "313it [00:12, 25.36it/s]                         \n"
     ]
    },
    {
     "name": "stdout",
     "output_type": "stream",
     "text": [
      "Epoch = 6; train loss = 6368.9157,test loss = 4776.8856, train_logvar = -0.000052, train_mu = 0.000013, val_logvar = -0.000045 & val_mu = 0.000013\n"
     ]
    },
    {
     "name": "stderr",
     "output_type": "stream",
     "text": [
      "1563it [02:14, 11.65it/s]                          \n",
      "313it [00:12, 25.47it/s]                         \n"
     ]
    },
    {
     "name": "stdout",
     "output_type": "stream",
     "text": [
      "Epoch = 7; train loss = 6373.2241,test loss = 4776.8856, train_logvar = 0.000116, train_mu = -0.000001, val_logvar = 0.000154 & val_mu = -0.000014\n"
     ]
    },
    {
     "name": "stderr",
     "output_type": "stream",
     "text": [
      "1563it [02:14, 11.64it/s]                          \n",
      "313it [00:12, 25.56it/s]                         \n"
     ]
    },
    {
     "name": "stdout",
     "output_type": "stream",
     "text": [
      "Epoch = 8; train loss = 6368.6686,test loss = 4776.8856, train_logvar = -0.000002, train_mu = 0.000001, val_logvar = -0.000001 & val_mu = 0.000001\n"
     ]
    },
    {
     "name": "stderr",
     "output_type": "stream",
     "text": [
      "1563it [02:14, 11.65it/s]                          \n",
      "313it [00:12, 25.61it/s]                         \n"
     ]
    },
    {
     "name": "stdout",
     "output_type": "stream",
     "text": [
      "Epoch = 9; train loss = 6369.7425,test loss = 4776.8856, train_logvar = -0.000022, train_mu = 0.000016, val_logvar = 0.000009 & val_mu = 0.000010\n"
     ]
    },
    {
     "name": "stderr",
     "output_type": "stream",
     "text": [
      "1563it [02:14, 11.66it/s]                          \n",
      "313it [00:12, 25.44it/s]                         \n"
     ]
    },
    {
     "name": "stdout",
     "output_type": "stream",
     "text": [
      "Epoch = 10; train loss = 6371.3154,test loss = 4776.8856, train_logvar = -0.000021, train_mu = -0.000021, val_logvar = -0.000013 & val_mu = -0.000024\n"
     ]
    },
    {
     "name": "stderr",
     "output_type": "stream",
     "text": [
      "1563it [02:14, 11.65it/s]                          \n",
      "313it [00:12, 25.55it/s]                         \n"
     ]
    },
    {
     "name": "stdout",
     "output_type": "stream",
     "text": [
      "Epoch = 11; train loss = 6366.9345,test loss = 4776.8856, train_logvar = -0.000000, train_mu = -0.000000, val_logvar = 0.000013 & val_mu = 0.000004\n"
     ]
    },
    {
     "name": "stderr",
     "output_type": "stream",
     "text": [
      "1563it [02:14, 11.65it/s]                          \n",
      "313it [00:12, 25.51it/s]                         \n"
     ]
    },
    {
     "name": "stdout",
     "output_type": "stream",
     "text": [
      "Epoch = 12; train loss = 6368.8937,test loss = 4776.8856, train_logvar = 0.000025, train_mu = 0.000012, val_logvar = 0.000012 & val_mu = -0.000040\n"
     ]
    },
    {
     "name": "stderr",
     "output_type": "stream",
     "text": [
      "1563it [02:14, 11.65it/s]                          \n",
      "313it [00:12, 25.64it/s]                         \n"
     ]
    },
    {
     "name": "stdout",
     "output_type": "stream",
     "text": [
      "Epoch = 13; train loss = 6372.9025,test loss = 4776.8856, train_logvar = -0.000003, train_mu = 0.000001, val_logvar = -0.000004 & val_mu = 0.000001\n"
     ]
    },
    {
     "name": "stderr",
     "output_type": "stream",
     "text": [
      "1563it [02:14, 11.66it/s]                          \n",
      "313it [00:12, 25.46it/s]                         \n"
     ]
    },
    {
     "name": "stdout",
     "output_type": "stream",
     "text": [
      "Epoch = 14; train loss = 6367.2526,test loss = 4776.8856, train_logvar = 0.000009, train_mu = -0.000006, val_logvar = 0.000016 & val_mu = -0.000009\n"
     ]
    },
    {
     "name": "stderr",
     "output_type": "stream",
     "text": [
      "1563it [02:14, 11.66it/s]                          \n",
      "313it [00:12, 25.59it/s]                         \n"
     ]
    },
    {
     "name": "stdout",
     "output_type": "stream",
     "text": [
      "Epoch = 15; train loss = 6368.0344,test loss = 4776.8856, train_logvar = -0.000001, train_mu = 0.000000, val_logvar = 0.000001 & val_mu = -0.000000\n"
     ]
    },
    {
     "name": "stderr",
     "output_type": "stream",
     "text": [
      "1563it [02:14, 11.66it/s]                          \n",
      "313it [00:12, 25.50it/s]                         \n"
     ]
    },
    {
     "name": "stdout",
     "output_type": "stream",
     "text": [
      "Epoch = 16; train loss = 6367.0127,test loss = 4776.8856, train_logvar = -0.000001, train_mu = -0.000000, val_logvar = -0.000002 & val_mu = -0.000000\n"
     ]
    },
    {
     "name": "stderr",
     "output_type": "stream",
     "text": [
      "1563it [02:14, 11.66it/s]                          \n",
      "313it [00:12, 25.58it/s]                         \n"
     ]
    },
    {
     "name": "stdout",
     "output_type": "stream",
     "text": [
      "Epoch = 17; train loss = 6369.6845,test loss = 4776.8856, train_logvar = 0.000000, train_mu = -0.000000, val_logvar = 0.000001 & val_mu = -0.000000\n"
     ]
    },
    {
     "name": "stderr",
     "output_type": "stream",
     "text": [
      "1563it [02:14, 11.66it/s]                          \n",
      "313it [00:12, 25.52it/s]                         \n"
     ]
    },
    {
     "name": "stdout",
     "output_type": "stream",
     "text": [
      "Epoch = 18; train loss = 6368.5031,test loss = 4776.9098, train_logvar = 0.000899, train_mu = 0.000209, val_logvar = 0.001225 & val_mu = 0.000463\n"
     ]
    },
    {
     "name": "stderr",
     "output_type": "stream",
     "text": [
      "1563it [02:14, 11.66it/s]                          \n",
      "313it [00:12, 25.47it/s]                         \n"
     ]
    },
    {
     "name": "stdout",
     "output_type": "stream",
     "text": [
      "Epoch = 19; train loss = 6372.9835,test loss = 4776.8856, train_logvar = 0.000006, train_mu = 0.000001, val_logvar = 0.000020 & val_mu = -0.000003\n"
     ]
    },
    {
     "name": "stderr",
     "output_type": "stream",
     "text": [
      "1563it [02:13, 11.67it/s]                          \n",
      "313it [00:12, 25.49it/s]                         \n"
     ]
    },
    {
     "name": "stdout",
     "output_type": "stream",
     "text": [
      "Epoch = 20; train loss = 6366.1424,test loss = 4776.8856, train_logvar = 0.000007, train_mu = -0.000000, val_logvar = 0.000011 & val_mu = 0.000000\n"
     ]
    },
    {
     "name": "stderr",
     "output_type": "stream",
     "text": [
      "1563it [02:13, 11.67it/s]                          \n",
      "313it [00:12, 25.53it/s]                         \n"
     ]
    },
    {
     "name": "stdout",
     "output_type": "stream",
     "text": [
      "Epoch = 21; train loss = 6370.8685,test loss = 4776.8856, train_logvar = -0.000009, train_mu = -0.000001, val_logvar = 0.000018 & val_mu = -0.000000\n"
     ]
    },
    {
     "name": "stderr",
     "output_type": "stream",
     "text": [
      "1563it [02:13, 11.67it/s]                          \n",
      "313it [00:12, 25.51it/s]                         \n"
     ]
    },
    {
     "name": "stdout",
     "output_type": "stream",
     "text": [
      "Epoch = 22; train loss = 6374.3593,test loss = 4776.8856, train_logvar = -0.000022, train_mu = 0.000002, val_logvar = -0.000040 & val_mu = 0.000001\n"
     ]
    },
    {
     "name": "stderr",
     "output_type": "stream",
     "text": [
      "1563it [02:13, 11.67it/s]                          \n",
      "313it [00:12, 25.56it/s]                         \n"
     ]
    },
    {
     "name": "stdout",
     "output_type": "stream",
     "text": [
      "Epoch = 23; train loss = 6369.1266,test loss = 4776.8856, train_logvar = 0.000096, train_mu = -0.000007, val_logvar = 0.000075 & val_mu = -0.000005\n"
     ]
    },
    {
     "name": "stderr",
     "output_type": "stream",
     "text": [
      "1563it [02:13, 11.67it/s]                          \n",
      "313it [00:12, 25.64it/s]                         \n"
     ]
    },
    {
     "name": "stdout",
     "output_type": "stream",
     "text": [
      "Epoch = 24; train loss = 6374.1579,test loss = 4776.8856, train_logvar = -0.000000, train_mu = -0.000000, val_logvar = -0.000000 & val_mu = -0.000000\n"
     ]
    },
    {
     "name": "stderr",
     "output_type": "stream",
     "text": [
      "1563it [02:13, 11.67it/s]                          \n",
      "313it [00:12, 25.70it/s]                         \n"
     ]
    },
    {
     "name": "stdout",
     "output_type": "stream",
     "text": [
      "Epoch = 25; train loss = 6373.7690,test loss = 4776.8856, train_logvar = -0.000000, train_mu = 0.000000, val_logvar = -0.000000 & val_mu = 0.000000\n"
     ]
    },
    {
     "name": "stderr",
     "output_type": "stream",
     "text": [
      " 44%|████▍     | 691/1562 [00:59<01:14, 11.68it/s]\n"
     ]
    },
    {
     "ename": "KeyboardInterrupt",
     "evalue": "ignored",
     "output_type": "error",
     "traceback": [
      "\u001b[0;31m---------------------------------------------------------------------------\u001b[0m",
      "\u001b[0;31mKeyboardInterrupt\u001b[0m                         Traceback (most recent call last)",
      "\u001b[0;32m<ipython-input-44-d7d48fe804e6>\u001b[0m in \u001b[0;36m<module>\u001b[0;34m()\u001b[0m\n\u001b[1;32m      3\u001b[0m     train_epoch_loss, mu_train, logvar_train = train_one_epoch(\n\u001b[1;32m      4\u001b[0m         \u001b[0mmodel\u001b[0m \u001b[0;34m=\u001b[0m \u001b[0mmodel\u001b[0m\u001b[0;34m,\u001b[0m \u001b[0mdataloader\u001b[0m \u001b[0;34m=\u001b[0m \u001b[0mtrain_loader\u001b[0m\u001b[0;34m,\u001b[0m\u001b[0;34m\u001b[0m\u001b[0;34m\u001b[0m\u001b[0m\n\u001b[0;32m----> 5\u001b[0;31m         \u001b[0malpha\u001b[0m \u001b[0;34m=\u001b[0m \u001b[0malpha\u001b[0m\u001b[0;34m\u001b[0m\u001b[0;34m\u001b[0m\u001b[0m\n\u001b[0m\u001b[1;32m      6\u001b[0m     )\n\u001b[1;32m      7\u001b[0m \u001b[0;34m\u001b[0m\u001b[0m\n",
      "\u001b[0;32m<ipython-input-39-7960e5a9a973>\u001b[0m in \u001b[0;36mtrain_one_epoch\u001b[0;34m(model, dataloader, alpha)\u001b[0m\n\u001b[1;32m     11\u001b[0m     \u001b[0;32mfor\u001b[0m \u001b[0mi\u001b[0m\u001b[0;34m,\u001b[0m \u001b[0mdata\u001b[0m \u001b[0;32min\u001b[0m \u001b[0mtqdm\u001b[0m\u001b[0;34m(\u001b[0m\u001b[0menumerate\u001b[0m\u001b[0;34m(\u001b[0m\u001b[0mdataloader\u001b[0m\u001b[0;34m)\u001b[0m\u001b[0;34m,\u001b[0m \u001b[0mtotal\u001b[0m \u001b[0;34m=\u001b[0m \u001b[0mint\u001b[0m\u001b[0;34m(\u001b[0m\u001b[0mlen\u001b[0m\u001b[0;34m(\u001b[0m\u001b[0mtrain_dataset\u001b[0m\u001b[0;34m)\u001b[0m \u001b[0;34m/\u001b[0m \u001b[0mdataloader\u001b[0m\u001b[0;34m.\u001b[0m\u001b[0mbatch_size\u001b[0m\u001b[0;34m)\u001b[0m\u001b[0;34m)\u001b[0m\u001b[0;34m:\u001b[0m\u001b[0;34m\u001b[0m\u001b[0;34m\u001b[0m\u001b[0m\n\u001b[1;32m     12\u001b[0m         \u001b[0mdata\u001b[0m\u001b[0;34m,\u001b[0m \u001b[0m_\u001b[0m \u001b[0;34m=\u001b[0m \u001b[0mdata\u001b[0m\u001b[0;34m\u001b[0m\u001b[0;34m\u001b[0m\u001b[0m\n\u001b[0;32m---> 13\u001b[0;31m         \u001b[0mdata\u001b[0m \u001b[0;34m=\u001b[0m \u001b[0mdata\u001b[0m\u001b[0;34m.\u001b[0m\u001b[0mto\u001b[0m\u001b[0;34m(\u001b[0m\u001b[0mdevice\u001b[0m\u001b[0;34m)\u001b[0m\u001b[0;34m\u001b[0m\u001b[0;34m\u001b[0m\u001b[0m\n\u001b[0m\u001b[1;32m     14\u001b[0m \u001b[0;34m\u001b[0m\u001b[0m\n\u001b[1;32m     15\u001b[0m         \u001b[0;31m# Flatten input data to feed into a dense layer-\u001b[0m\u001b[0;34m\u001b[0m\u001b[0;34m\u001b[0m\u001b[0;34m\u001b[0m\u001b[0m\n",
      "\u001b[0;31mKeyboardInterrupt\u001b[0m: "
     ]
    }
   ],
   "source": [
    "for epoch in range(1, num_epochs + 1):\n",
    "    # Train model for 1 epoch-\n",
    "    train_epoch_loss, mu_train, logvar_train = train_one_epoch(\n",
    "        model = model, dataloader = train_loader,\n",
    "        alpha = alpha\n",
    "    )\n",
    "    \n",
    "    # Get validation metrics-\n",
    "    val_epoch_loss, mu_val, logvar_val = validate_one_epoch(\n",
    "        model = model, dataloader = test_loader,\n",
    "        alpha = alpha\n",
    "    )\n",
    "    \n",
    "    # Retrieve model performance metrics-\n",
    "    logvar_train = logvar_train.mean().detach().cpu().numpy()\n",
    "    logvar_val = logvar_val.mean().detach().cpu().numpy()\n",
    "    mu_train = mu_train.mean().detach().cpu().numpy()\n",
    "    mu_val = mu_val.mean().detach().cpu().numpy()\n",
    "\n",
    "    # Store model performance metrics in Python3 dict-\n",
    "    train_history[epoch] = {\n",
    "        'train_loss': train_epoch_loss,\n",
    "        'val_loss': val_epoch_loss,\n",
    "        'train_logvar': logvar_train,\n",
    "        'val_logvar': logvar_val,\n",
    "        'train_mu': mu_train,\n",
    "        'val_mu': mu_val\n",
    "    }\n",
    "\n",
    "    print(f\"Epoch = {epoch}; train loss = {train_epoch_loss:.4f},\"\n",
    "    f\"test loss = {val_epoch_loss:.4f}, train_logvar = {logvar_train:.6f}\"\n",
    "    f\", train_mu = {mu_train:.6f}, val_logvar = {logvar_val:.6f} &\"\n",
    "    f\" val_mu = {mu_val:.6f}\")\n",
    "    "
   ]
  },
  {
   "cell_type": "code",
   "execution_count": null,
   "id": "tqNNvrFjGXLn",
   "metadata": {
    "id": "tqNNvrFjGXLn"
   },
   "outputs": [],
   "source": []
  },
  {
   "cell_type": "code",
   "execution_count": null,
   "id": "156dec76-37a6-4791-b65f-302a0d7cc167",
   "metadata": {
    "id": "156dec76-37a6-4791-b65f-302a0d7cc167"
   },
   "outputs": [],
   "source": []
  },
  {
   "cell_type": "code",
   "execution_count": null,
   "id": "e6b7b73c-da68-4d41-95a1-d88bc1a85e1b",
   "metadata": {
    "id": "e6b7b73c-da68-4d41-95a1-d88bc1a85e1b"
   },
   "outputs": [],
   "source": [
    "# Save trained VAE model's weights-\n",
    "torch.save(model.state_dict(), 'VAE_Conv_CIFAR10_Trained_Weights.pth')"
   ]
  },
  {
   "cell_type": "code",
   "execution_count": null,
   "id": "d39c6ca2-552c-42b9-bd55-f7a0da7f076b",
   "metadata": {
    "id": "d39c6ca2-552c-42b9-bd55-f7a0da7f076b"
   },
   "outputs": [],
   "source": [
    "# Load trained weights from before-\n",
    "# loaded_model = VAE_Dense(latent_space = 5).to(device)\n",
    "# loaded_model.load_state_dict(torch.load('VAE_Conv_CIFAR10_Trained_Weights', map_location = torch.device('cpu')))"
   ]
  },
  {
   "cell_type": "code",
   "execution_count": null,
   "id": "32ceef18-bf04-40e0-a3b9-09332af446d2",
   "metadata": {
    "id": "32ceef18-bf04-40e0-a3b9-09332af446d2"
   },
   "outputs": [],
   "source": [
    "# Define gradient descent optimizer-\n",
    "# optimizer = torch.optim.Adam(loaded_model.parameters(), lr = learning_rate)"
   ]
  },
  {
   "cell_type": "code",
   "execution_count": null,
   "id": "c0494cc3-3059-46e7-ab85-c4d04fd37960",
   "metadata": {
    "id": "c0494cc3-3059-46e7-ab85-c4d04fd37960"
   },
   "outputs": [],
   "source": []
  },
  {
   "cell_type": "code",
   "execution_count": 45,
   "id": "f7ede4f1-a757-4c47-91eb-280828a40489",
   "metadata": {
    "id": "f7ede4f1-a757-4c47-91eb-280828a40489"
   },
   "outputs": [],
   "source": [
    "\n",
    "import pickle\n",
    "\n",
    "# Save training history as pickle file-\n",
    "with open(\"VAE_Conv_CIFAR10_training_history.pkl\", \"wb\") as file:\n",
    "    pickle.dump(train_history, file)"
   ]
  },
  {
   "cell_type": "code",
   "execution_count": null,
   "id": "3b855080-7263-45a8-8c47-f6b94db50cf4",
   "metadata": {
    "id": "3b855080-7263-45a8-8c47-f6b94db50cf4"
   },
   "outputs": [],
   "source": [
    "'''\n",
    "# Load training history from pickle file-\n",
    "with open(\"VAE_Conv_CIFAR10_training_history.pkl\", \"rb\") as file:\n",
    "    training_history_lr_scheduler = pickle.load(file)\n",
    "'''"
   ]
  },
  {
   "cell_type": "code",
   "execution_count": null,
   "id": "e6cb576e-d042-476c-851e-8e5bc8ab833b",
   "metadata": {
    "id": "e6cb576e-d042-476c-851e-8e5bc8ab833b"
   },
   "outputs": [],
   "source": []
  },
  {
   "cell_type": "code",
   "execution_count": 46,
   "id": "8abd0a72-b722-4b88-8928-6b3e30f8b07f",
   "metadata": {
    "colab": {
     "base_uri": "https://localhost:8080/",
     "height": 444
    },
    "id": "8abd0a72-b722-4b88-8928-6b3e30f8b07f",
    "outputId": "cadcd353-2354-482c-9e60-876a78f27d94"
   },
   "outputs": [
    {
     "data": {
      "image/png": "[encoded data removed]",
      "text/plain": [
       "<Figure size 648x504 with 1 Axes>"
      ]
     },
     "metadata": {
      "needs_background": "light"
     },
     "output_type": "display_data"
    }
   ],
   "source": [
    "# VAE Training Visualization-\n",
    "plt.figure(figsize = (9, 7))\n",
    "plt.plot([train_history[x]['train_loss'] for x in train_history.keys()], label = 'train_loss')\n",
    "plt.plot([train_history[x]['val_loss'] for x in train_history.keys()], label = 'val_loss')\n",
    "plt.legend(loc = 'best')\n",
    "plt.title(\"VAE-Convolutional: CIFAR-10 Training Visualizations\")\n",
    "plt.show()"
   ]
  },
  {
   "cell_type": "code",
   "execution_count": 47,
   "id": "cde9e68e-ab50-44d0-b518-66f43d5859c2",
   "metadata": {
    "colab": {
     "base_uri": "https://localhost:8080/",
     "height": 444
    },
    "id": "cde9e68e-ab50-44d0-b518-66f43d5859c2",
    "outputId": "24751009-5d1f-4336-f254-0845ee682afc"
   },
   "outputs": [
    {
     "data": {
      "image/png": "[encoded data removed]",
      "text/plain": [
       "<Figure size 648x504 with 1 Axes>"
      ]
     },
     "metadata": {
      "needs_background": "light"
     },
     "output_type": "display_data"
    }
   ],
   "source": [
    "# VAE Training Visualization-\n",
    "plt.figure(figsize = (9, 7))\n",
    "plt.plot([train_history[x]['train_logvar'] for x in train_history.keys()], label = 'train_logvar')\n",
    "plt.plot([train_history[x]['val_logvar'] for x in train_history.keys()], label = 'val_logvar')\n",
    "plt.legend(loc = 'best')\n",
    "plt.title(\"VAE-Convolutional: (log_var) CIFAR-10 Training Visualizations\")\n",
    "plt.show()"
   ]
  },
  {
   "cell_type": "code",
   "execution_count": 49,
   "id": "7GzHc6tKUXMc",
   "metadata": {
    "colab": {
     "base_uri": "https://localhost:8080/",
     "height": 444
    },
    "id": "7GzHc6tKUXMc",
    "outputId": "34ec2ef1-a5b6-4c58-d508-8238b7241a72"
   },
   "outputs": [
    {
     "data": {
      "image/png": "[encoded data removed]",
      "text/plain": [
       "<Figure size 648x504 with 1 Axes>"
      ]
     },
     "metadata": {
      "needs_background": "light"
     },
     "output_type": "display_data"
    }
   ],
   "source": [
    "# VAE Training Visualization-\n",
    "plt.figure(figsize = (9, 7))\n",
    "plt.plot([train_history[x]['train_mu'] for x in train_history.keys()], label = 'mu_train')\n",
    "plt.plot([train_history[x]['val_mu'] for x in train_history.keys()], label = 'mu_val')\n",
    "plt.legend(loc = 'best')\n",
    "plt.title(\"VAE-Convolutional: (mu) CIFAR-10 Training Visualizations\")\n",
    "plt.show()"
   ]
  },
  {
   "cell_type": "code",
   "execution_count": null,
   "id": "ilazeVy0UpIz",
   "metadata": {
    "id": "ilazeVy0UpIz"
   },
   "outputs": [],
   "source": []
  },
  {
   "cell_type": "code",
   "execution_count": null,
   "id": "0cc651e6-a817-44f9-b004-b9ac1970f5d6",
   "metadata": {
    "id": "0cc651e6-a817-44f9-b004-b9ac1970f5d6"
   },
   "outputs": [],
   "source": []
  },
  {
   "cell_type": "markdown",
   "id": "0698a9e4-67bf-41a9-827f-9cb3a61149cc",
   "metadata": {
    "id": "0698a9e4-67bf-41a9-827f-9cb3a61149cc"
   },
   "source": [
    "### Reconstruct/Generate images using _trained_ VAE model:"
   ]
  },
  {
   "cell_type": "code",
   "execution_count": 50,
   "id": "86e135bd-6f94-4cf6-a510-1f982577d6e2",
   "metadata": {
    "id": "86e135bd-6f94-4cf6-a510-1f982577d6e2"
   },
   "outputs": [],
   "source": [
    "images = images.to(device)"
   ]
  },
  {
   "cell_type": "code",
   "execution_count": 51,
   "id": "f209a7f7-5678-44a8-85ef-107a3ea3935a",
   "metadata": {
    "id": "f209a7f7-5678-44a8-85ef-107a3ea3935a"
   },
   "outputs": [],
   "source": [
    "# Perform forward propagation-\n",
    "recon_images, mu, log_var = model(images)"
   ]
  },
  {
   "cell_type": "code",
   "execution_count": null,
   "id": "10aee1c7-4981-4d3a-b29c-5da864ecb916",
   "metadata": {
    "id": "10aee1c7-4981-4d3a-b29c-5da864ecb916"
   },
   "outputs": [],
   "source": [
    "# For CPU-\n",
    "recon_images = recon_images.detach().numpy()\n",
    "mu = mu.detach().numpy()\n",
    "log_var = log_var.detach().numpy()"
   ]
  },
  {
   "cell_type": "code",
   "execution_count": 53,
   "id": "rETVI8LXU1mS",
   "metadata": {
    "id": "rETVI8LXU1mS"
   },
   "outputs": [],
   "source": [
    "# For GPU-\n",
    "recon_images = recon_images.cpu().detach().numpy()\n",
    "mu = mu.cpu().detach().numpy()\n",
    "log_var = log_var.cpu().detach().numpy()"
   ]
  },
  {
   "cell_type": "code",
   "execution_count": 54,
   "id": "2c91d879-658f-41be-904a-a15b174c6193",
   "metadata": {
    "colab": {
     "base_uri": "https://localhost:8080/"
    },
    "id": "2c91d879-658f-41be-904a-a15b174c6193",
    "outputId": "5e1755c9-725e-4eae-8053-09bc2b52dcd2"
   },
   "outputs": [
    {
     "data": {
      "text/plain": [
       "((32, 3, 32, 32), (32, 200), (32, 200))"
      ]
     },
     "execution_count": 54,
     "metadata": {},
     "output_type": "execute_result"
    }
   ],
   "source": [
    "recon_images.shape, mu.shape, log_var.shape"
   ]
  },
  {
   "cell_type": "code",
   "execution_count": null,
   "id": "9ddb7ac2-7706-4461-89c3-edfbb693c8a2",
   "metadata": {
    "id": "9ddb7ac2-7706-4461-89c3-edfbb693c8a2"
   },
   "outputs": [],
   "source": []
  },
  {
   "cell_type": "code",
   "execution_count": 55,
   "id": "5CEmRaxOnAeF",
   "metadata": {
    "id": "5CEmRaxOnAeF"
   },
   "outputs": [],
   "source": [
    "# Unnormalize images-\n",
    "recon_images = recon_images / 2 + 0.5\n",
    "recon_images = np.transpose(recon_images, (0, 2, 3, 1))"
   ]
  },
  {
   "cell_type": "code",
   "execution_count": 56,
   "id": "kyg3MCSunFmt",
   "metadata": {
    "colab": {
     "base_uri": "https://localhost:8080/"
    },
    "id": "kyg3MCSunFmt",
    "outputId": "7ab561a3-9e48-42c2-9e57-c09dd075f99d"
   },
   "outputs": [
    {
     "data": {
      "text/plain": [
       "(32, 32, 32, 3)"
      ]
     },
     "execution_count": 56,
     "metadata": {},
     "output_type": "execute_result"
    }
   ],
   "source": [
    "recon_images.shape"
   ]
  },
  {
   "cell_type": "code",
   "execution_count": 57,
   "id": "JGJCTEx8nKhw",
   "metadata": {
    "colab": {
     "base_uri": "https://localhost:8080/",
     "height": 374
    },
    "id": "JGJCTEx8nKhw",
    "outputId": "a77ba3ac-add8-4233-8749-f057f995fcc2"
   },
   "outputs": [
    {
     "data": {
      "image/png": "[encoded data removed]",
      "text/plain": [
       "<Figure size 504x432 with 1 Axes>"
      ]
     },
     "metadata": {
      "needs_background": "light"
     },
     "output_type": "display_data"
    }
   ],
   "source": [
    "plt.figure(figsize = (7, 6))\n",
    "plt.imshow(recon_images[0])\n",
    "plt.show()\n"
   ]
  },
  {
   "cell_type": "code",
   "execution_count": 58,
   "id": "yAvxGKUHnON-",
   "metadata": {
    "colab": {
     "base_uri": "https://localhost:8080/",
     "height": 274
    },
    "id": "yAvxGKUHnON-",
    "outputId": "7e78a08d-09ea-4f57-8b9b-fb51fa8ae501"
   },
   "outputs": [
    {
     "data": {
      "image/png": "[encoded data removed]",
      "text/plain": [
       "<Figure size 432x288 with 10 Axes>"
      ]
     },
     "metadata": {
      "needs_background": "light"
     },
     "output_type": "display_data"
    }
   ],
   "source": [
    "# Visualize 10 images from reconstructions-\n",
    "for i in range(10):\n",
    "    plt.subplot(2, 5, i + 1)    # 2 rows & 5 columns\n",
    "    plt.imshow(recon_images[i])\n",
    "    \n",
    "plt.suptitle(\"Reconstructed CIFAR-10 training images\")\n",
    "plt.show()\n"
   ]
  },
  {
   "cell_type": "code",
   "execution_count": null,
   "id": "CI-kZOL5nWeM",
   "metadata": {
    "id": "CI-kZOL5nWeM"
   },
   "outputs": [],
   "source": []
  },
  {
   "cell_type": "code",
   "execution_count": null,
   "id": "wKGifaJgh9MQ",
   "metadata": {
    "id": "wKGifaJgh9MQ"
   },
   "outputs": [],
   "source": []
  },
  {
   "cell_type": "code",
   "execution_count": null,
   "id": "a5Zuy8okh-8w",
   "metadata": {
    "colab": {
     "base_uri": "https://localhost:8080/"
    },
    "id": "a5Zuy8okh-8w",
    "outputId": "4c045320-84c9-4cf9-e108-50d59161e34a"
   },
   "outputs": [
    {
     "data": {
      "text/plain": [
       "(638,)"
      ]
     },
     "execution_count": 108,
     "metadata": {},
     "output_type": "execute_result"
    }
   ],
   "source": [
    "mu[mu > 0.0002].shape"
   ]
  },
  {
   "cell_type": "code",
   "execution_count": null,
   "id": "6uAn0TDniBFI",
   "metadata": {
    "colab": {
     "base_uri": "https://localhost:8080/"
    },
    "id": "6uAn0TDniBFI",
    "outputId": "61002326-fea6-410b-bd2d-aa8e61c17dc5"
   },
   "outputs": [
    {
     "data": {
      "text/plain": [
       "(57,)"
      ]
     },
     "execution_count": 116,
     "metadata": {},
     "output_type": "execute_result"
    }
   ],
   "source": [
    "log_var[log_var <= -0.001].shape"
   ]
  },
  {
   "cell_type": "code",
   "execution_count": null,
   "id": "SeYzCUO4gvkL",
   "metadata": {
    "colab": {
     "base_uri": "https://localhost:8080/"
    },
    "id": "SeYzCUO4gvkL",
    "outputId": "9e29eb93-4c42-4c0f-fa6e-aa6fda3dad39"
   },
   "outputs": [
    {
     "data": {
      "text/plain": [
       "(64, 20)"
      ]
     },
     "execution_count": 93,
     "metadata": {},
     "output_type": "execute_result"
    }
   ],
   "source": [
    "mu.shape"
   ]
  },
  {
   "cell_type": "code",
   "execution_count": null,
   "id": "b1BnoBNQgwrD",
   "metadata": {
    "colab": {
     "base_uri": "https://localhost:8080/",
     "height": 428
    },
    "id": "b1BnoBNQgwrD",
    "outputId": "6e85b515-ed25-4aee-895d-76b351794fc2"
   },
   "outputs": [
    {
     "data": {
      "image/png": "[encoded data removed]",
      "text/plain": [
       "<Figure size 648x504 with 1 Axes>"
      ]
     },
     "metadata": {
      "needs_background": "light"
     },
     "output_type": "display_data"
    }
   ],
   "source": [
    "plt.figure(figsize = (9, 7))\n",
    "plt.scatter(x = mu[:, 2], y = mu[:, 3])\n",
    "plt.show()"
   ]
  },
  {
   "cell_type": "code",
   "execution_count": null,
   "id": "-gWgveqWhEKE",
   "metadata": {
    "colab": {
     "base_uri": "https://localhost:8080/",
     "height": 428
    },
    "id": "-gWgveqWhEKE",
    "outputId": "15d6bda7-e105-433c-d0a4-2ac0e21947c4"
   },
   "outputs": [
    {
     "data": {
      "image/png": "[encoded data removed]",
      "text/plain": [
       "<Figure size 648x504 with 1 Axes>"
      ]
     },
     "metadata": {
      "needs_background": "light"
     },
     "output_type": "display_data"
    }
   ],
   "source": [
    "plt.figure(figsize = (9, 7))\n",
    "plt.scatter(x = log_var[:, 2], y = log_var[:, 3])\n",
    "plt.show()"
   ]
  },
  {
   "cell_type": "code",
   "execution_count": null,
   "id": "D1CeZbwThKdQ",
   "metadata": {
    "id": "D1CeZbwThKdQ"
   },
   "outputs": [],
   "source": []
  },
  {
   "cell_type": "code",
   "execution_count": null,
   "id": "WIyH3Hk8g_bE",
   "metadata": {
    "id": "WIyH3Hk8g_bE"
   },
   "outputs": [],
   "source": []
  },
  {
   "cell_type": "code",
   "execution_count": null,
   "id": "6bGPIAyYg6J3",
   "metadata": {
    "id": "6bGPIAyYg6J3"
   },
   "outputs": [],
   "source": []
  },
  {
   "cell_type": "code",
   "execution_count": null,
   "id": "KmVB27P9gyJ5",
   "metadata": {
    "id": "KmVB27P9gyJ5"
   },
   "outputs": [],
   "source": []
  },
  {
   "cell_type": "code",
   "execution_count": null,
   "id": "f406200d-f733-494b-b02f-3103dca7d86d",
   "metadata": {
    "id": "f406200d-f733-494b-b02f-3103dca7d86d"
   },
   "outputs": [],
   "source": []
  },
  {
   "cell_type": "code",
   "execution_count": null,
   "id": "077b2f05-e594-43ff-961b-eb730b28f150",
   "metadata": {
    "id": "077b2f05-e594-43ff-961b-eb730b28f150"
   },
   "outputs": [],
   "source": [
    "# Print 10 images from training set-\n",
    "for i in range(10):\n",
    "    plt.subplot(2, 5, i + 1)    # 2 rows & 5 columns\n",
    "    plt.imshow(images[i][0].cpu(), cmap = 'gray')     # '0' to access first channel\n",
    "    \n",
    "plt.suptitle(\"Sample CIFAR-10 training images\")\n",
    "plt.show()"
   ]
  },
  {
   "cell_type": "code",
   "execution_count": null,
   "id": "dfc2d1c5-20d3-435f-9783-5b8b8ced6e60",
   "metadata": {
    "id": "dfc2d1c5-20d3-435f-9783-5b8b8ced6e60"
   },
   "outputs": [],
   "source": [
    "# Print 10 images from reconstructions-\n",
    "for i in range(10):\n",
    "    plt.subplot(2, 5, i + 1)    # 2 rows & 5 columns\n",
    "    # plt.imshow(recon_images[i][0].cpu().detach().numpy(), cmap = 'gray')     # '0' to access first channel\n",
    "    plt.imshow(recon_images[i][0], cmap = 'gray')\n",
    "    \n",
    "plt.suptitle(\"Sample CIFAR-10 reconstructed images\")\n",
    "plt.show()"
   ]
  },
  {
   "cell_type": "code",
   "execution_count": null,
   "id": "989feaa8-4847-4cfd-af77-60a81292bb27",
   "metadata": {
    "id": "989feaa8-4847-4cfd-af77-60a81292bb27"
   },
   "outputs": [],
   "source": []
  },
  {
   "cell_type": "code",
   "execution_count": null,
   "id": "b2e60344-3291-4f80-a284-9481bcf7f5ec",
   "metadata": {
    "id": "b2e60344-3291-4f80-a284-9481bcf7f5ec"
   },
   "outputs": [],
   "source": [
    "# Print 50 images from reconstructions-\n",
    "plt.figure(figsize = (9, 7))\n",
    "\n",
    "for i in range(50):\n",
    "    plt.subplot(10, 5, i + 1)    # 10 rows & 5 columns\n",
    "    # plt.imshow(recon_images[i][0].cpu().detach().numpy(), cmap = 'gray')     # '0' to access first channel\n",
    "    plt.imshow(recon_images[i][0], cmap = 'gray')\n",
    "    \n",
    "plt.suptitle(\"Sample CIFAR-10 reconstructed images\")\n",
    "plt.show()"
   ]
  },
  {
   "cell_type": "code",
   "execution_count": null,
   "id": "a7f6e0cd-d576-47fc-82bf-4a842b801c60",
   "metadata": {
    "id": "a7f6e0cd-d576-47fc-82bf-4a842b801c60"
   },
   "outputs": [],
   "source": []
  },
  {
   "cell_type": "code",
   "execution_count": null,
   "id": "437cf8ed-8713-4146-a62a-07481ca3063a",
   "metadata": {
    "id": "437cf8ed-8713-4146-a62a-07481ca3063a"
   },
   "outputs": [],
   "source": []
  },
  {
   "cell_type": "code",
   "execution_count": null,
   "id": "be2b5cf7-a219-42dd-946b-bd3b74a78824",
   "metadata": {
    "id": "be2b5cf7-a219-42dd-946b-bd3b74a78824"
   },
   "outputs": [],
   "source": [
    "'''\n",
    "# Iterating over train loader-\n",
    "for img, label in train_loader:\n",
    "    print(img.shape, label.shape)\n",
    "'''"
   ]
  },
  {
   "cell_type": "code",
   "execution_count": null,
   "id": "238fa76d-efe4-4954-a03b-949355c7c2ee",
   "metadata": {
    "id": "238fa76d-efe4-4954-a03b-949355c7c2ee"
   },
   "outputs": [],
   "source": []
  },
  {
   "cell_type": "code",
   "execution_count": null,
   "id": "f8ff5514-6fba-4f01-ab61-eff8d34efa60",
   "metadata": {
    "id": "f8ff5514-6fba-4f01-ab61-eff8d34efa60"
   },
   "outputs": [],
   "source": [
    "# Get a batch of training data & it's corresponding labels-\n",
    "images, labels = next(iter(train_loader))\n",
    "images = images.to(device)"
   ]
  },
  {
   "cell_type": "code",
   "execution_count": null,
   "id": "bfb9c311-1fe5-4033-ab4c-6f883e92f552",
   "metadata": {
    "id": "bfb9c311-1fe5-4033-ab4c-6f883e92f552"
   },
   "outputs": [],
   "source": [
    "# Perform forward propagation-\n",
    "recon_images, mu, log_var = model(images)"
   ]
  },
  {
   "cell_type": "code",
   "execution_count": null,
   "id": "d9bd9d44-b946-4a9f-9ad0-50cfde19494a",
   "metadata": {
    "id": "d9bd9d44-b946-4a9f-9ad0-50cfde19494a"
   },
   "outputs": [],
   "source": [
    "# FOR CUDA/GPU-\n",
    "recon_images = recon_images.detach().cpu().numpy()\n",
    "mu = mu.detach().cpu().numpy()\n",
    "log_var = log_var.detach().cpu().numpy()"
   ]
  },
  {
   "cell_type": "code",
   "execution_count": null,
   "id": "778d8199-645b-4fb4-98db-bbc7b5a4feb7",
   "metadata": {
    "id": "778d8199-645b-4fb4-98db-bbc7b5a4feb7"
   },
   "outputs": [],
   "source": [
    "recon_images.shape, mu.shape, log_var.shape"
   ]
  },
  {
   "cell_type": "code",
   "execution_count": null,
   "id": "c0d6bfe6-e953-455f-9208-1750f09ceefa",
   "metadata": {
    "id": "c0d6bfe6-e953-455f-9208-1750f09ceefa"
   },
   "outputs": [],
   "source": []
  },
  {
   "cell_type": "code",
   "execution_count": null,
   "id": "4de7d3c9-a4e2-4c24-a2eb-7741c201842b",
   "metadata": {
    "id": "4de7d3c9-a4e2-4c24-a2eb-7741c201842b"
   },
   "outputs": [],
   "source": [
    "!pip install umap-learn"
   ]
  },
  {
   "cell_type": "code",
   "execution_count": null,
   "id": "6c4bb058-331d-4d58-8e82-c9dcbb1795fa",
   "metadata": {
    "id": "6c4bb058-331d-4d58-8e82-c9dcbb1795fa"
   },
   "outputs": [],
   "source": [
    "import umap\n",
    "import umap.umap_ as umap"
   ]
  },
  {
   "cell_type": "code",
   "execution_count": null,
   "id": "435badc7-efbf-402a-a5c2-c9ae67a8fe05",
   "metadata": {
    "id": "435badc7-efbf-402a-a5c2-c9ae67a8fe05"
   },
   "outputs": [],
   "source": [
    "reducer = umap.UMAP(\n",
    "    n_neighbors = 15,\n",
    "    n_components = 3\n",
    ")"
   ]
  },
  {
   "cell_type": "code",
   "execution_count": null,
   "id": "aa4d4778-02a6-452c-ab56-4e9bbea85c2e",
   "metadata": {
    "colab": {
     "base_uri": "https://localhost:8080/"
    },
    "id": "aa4d4778-02a6-452c-ab56-4e9bbea85c2e",
    "outputId": "38255243-0c4e-4df7-deea-6a010f9c9897"
   },
   "outputs": [
    {
     "name": "stderr",
     "output_type": "stream",
     "text": [
      "/usr/local/lib/python3.7/dist-packages/numba/np/ufunc/parallel.py:363: NumbaWarning: The TBB threading layer requires TBB version 2019.5 or later i.e., TBB_INTERFACE_VERSION >= 11005. Found TBB_INTERFACE_VERSION = 9107. The TBB threading layer is disabled.\n",
      "  warnings.warn(problem)\n"
     ]
    },
    {
     "data": {
      "text/plain": [
       "(64, 3)"
      ]
     },
     "execution_count": 87,
     "metadata": {},
     "output_type": "execute_result"
    }
   ],
   "source": [
    "embedding_mu = reducer.fit_transform(mu)\n",
    "embedding_mu.shape"
   ]
  },
  {
   "cell_type": "code",
   "execution_count": null,
   "id": "6cacf19a-cba4-4556-8c0c-8633d72bfb96",
   "metadata": {
    "id": "6cacf19a-cba4-4556-8c0c-8633d72bfb96"
   },
   "outputs": [],
   "source": []
  },
  {
   "cell_type": "code",
   "execution_count": null,
   "id": "d32212df-3210-4c53-b187-39c63f931f63",
   "metadata": {
    "id": "d32212df-3210-4c53-b187-39c63f931f63"
   },
   "outputs": [],
   "source": [
    "reducer_logvar = umap.UMAP(\n",
    "    n_neighbors = 15,\n",
    "    n_components = 3\n",
    ")"
   ]
  },
  {
   "cell_type": "code",
   "execution_count": null,
   "id": "c3149d53-467c-44ea-9a6b-556156a94351",
   "metadata": {
    "colab": {
     "base_uri": "https://localhost:8080/"
    },
    "id": "c3149d53-467c-44ea-9a6b-556156a94351",
    "outputId": "385bd428-6dd0-4af2-d92d-c68efb7d3e08"
   },
   "outputs": [
    {
     "data": {
      "text/plain": [
       "(64, 3)"
      ]
     },
     "execution_count": 89,
     "metadata": {},
     "output_type": "execute_result"
    }
   ],
   "source": [
    "embedding_logvar = reducer.fit_transform(log_var)\n",
    "embedding_logvar.shape"
   ]
  },
  {
   "cell_type": "code",
   "execution_count": null,
   "id": "ea22e171-9c9e-40fb-9135-ad384b9a9010",
   "metadata": {
    "id": "ea22e171-9c9e-40fb-9135-ad384b9a9010"
   },
   "outputs": [],
   "source": []
  },
  {
   "cell_type": "code",
   "execution_count": null,
   "id": "f01d7be3-0f02-4c21-bad3-7b1c57697db6",
   "metadata": {
    "id": "f01d7be3-0f02-4c21-bad3-7b1c57697db6"
   },
   "outputs": [],
   "source": [
    "import plotly\n",
    "import plotly.express as px"
   ]
  },
  {
   "cell_type": "code",
   "execution_count": null,
   "id": "3462c4b2-db53-40b3-b7a5-a0027173776e",
   "metadata": {
    "id": "3462c4b2-db53-40b3-b7a5-a0027173776e"
   },
   "outputs": [],
   "source": []
  },
  {
   "cell_type": "code",
   "execution_count": null,
   "id": "94818963-9269-478a-9fe3-e0666eb4141d",
   "metadata": {
    "id": "94818963-9269-478a-9fe3-e0666eb4141d"
   },
   "outputs": [],
   "source": [
    "# Visualize latent space for 'mean'-\n",
    "fig = px.scatter_3d(\n",
    "    x = embedding_mu[:, 0], y = embedding_mu[:, 1],\n",
    "    z = embedding_mu[:, 2],\n",
    "    # color = y_train\n",
    "    )\n",
    "fig.show()"
   ]
  },
  {
   "cell_type": "code",
   "execution_count": null,
   "id": "b10547be-77ce-4981-9a84-33f4f0376238",
   "metadata": {
    "id": "b10547be-77ce-4981-9a84-33f4f0376238"
   },
   "outputs": [],
   "source": [
    "# Visualize latent space for 'log variance'-\n",
    "fig = px.scatter_3d(\n",
    "    x = embedding_logvar[:, 0], y = embedding_logvar[:, 1],\n",
    "    z = embedding_logvar[:, 2],\n",
    "    # color = y_train\n",
    "    )\n",
    "fig.show()"
   ]
  },
  {
   "cell_type": "code",
   "execution_count": null,
   "id": "b483d671-acdf-4a7d-8761-c47ed0559f2f",
   "metadata": {
    "id": "b483d671-acdf-4a7d-8761-c47ed0559f2f"
   },
   "outputs": [],
   "source": []
  },
  {
   "cell_type": "code",
   "execution_count": null,
   "id": "faf80ab7-7c8b-4f12-8a60-6b2bfa4bf3de",
   "metadata": {
    "id": "faf80ab7-7c8b-4f12-8a60-6b2bfa4bf3de"
   },
   "outputs": [],
   "source": []
  }
 ],
 "metadata": {
  "accelerator": "GPU",
  "colab": {
   "collapsed_sections": [],
   "name": "VAE_PyTorch_CIFAR10.ipynb",
   "provenance": []
  },
  "kernelspec": {
   "display_name": "Python 3 (ipykernel)",
   "language": "python",
   "name": "python3"
  },
  "language_info": {
   "codemirror_mode": {
    "name": "ipython",
    "version": 3
   },
   "file_extension": ".py",
   "mimetype": "text/x-python",
   "name": "python",
   "nbconvert_exporter": "python",
   "pygments_lexer": "ipython3",
   "version": "3.9.7"
  },
  "widgets": {
   "application/vnd.jupyter.widget-state+json": {
    "02877e46495b4f2dbc4cc12b5d982123": {
     "model_module": "@jupyter-widgets/controls",
     "model_module_version": "1.5.0",
     "model_name": "ProgressStyleModel",
     "state": {
      "_model_module": "@jupyter-widgets/controls",
      "_model_module_version": "1.5.0",
      "_model_name": "ProgressStyleModel",
      "_view_count": null,
      "_view_module": "@jupyter-widgets/base",
      "_view_module_version": "1.2.0",
      "_view_name": "StyleView",
      "bar_color": null,
      "description_width": ""
     }
    },
    "0b13959261bd435a9202f1a90bc7813d": {
     "model_module": "@jupyter-widgets/base",
     "model_module_version": "1.2.0",
     "model_name": "LayoutModel",
     "state": {
      "_model_module": "@jupyter-widgets/base",
      "_model_module_version": "1.2.0",
      "_model_name": "LayoutModel",
      "_view_count": null,
      "_view_module": "@jupyter-widgets/base",
      "_view_module_version": "1.2.0",
      "_view_name": "LayoutView",
      "align_content": null,
      "align_items": null,
      "align_self": null,
      "border": null,
      "bottom": null,
      "display": null,
      "flex": null,
      "flex_flow": null,
      "grid_area": null,
      "grid_auto_columns": null,
      "grid_auto_flow": null,
      "grid_auto_rows": null,
      "grid_column": null,
      "grid_gap": null,
      "grid_row": null,
      "grid_template_areas": null,
      "grid_template_columns": null,
      "grid_template_rows": null,
      "height": null,
      "justify_content": null,
      "justify_items": null,
      "left": null,
      "margin": null,
      "max_height": null,
      "max_width": null,
      "min_height": null,
      "min_width": null,
      "object_fit": null,
      "object_position": null,
      "order": null,
      "overflow": null,
      "overflow_x": null,
      "overflow_y": null,
      "padding": null,
      "right": null,
      "top": null,
      "visibility": null,
      "width": null
     }
    },
    "12bfb77048f042a999a73c7df191b56d": {
     "model_module": "@jupyter-widgets/controls",
     "model_module_version": "1.5.0",
     "model_name": "DescriptionStyleModel",
     "state": {
      "_model_module": "@jupyter-widgets/controls",
      "_model_module_version": "1.5.0",
      "_model_name": "DescriptionStyleModel",
      "_view_count": null,
      "_view_module": "@jupyter-widgets/base",
      "_view_module_version": "1.2.0",
      "_view_name": "StyleView",
      "description_width": ""
     }
    },
    "3370ec02910f4eb59b9d14d093030b9a": {
     "model_module": "@jupyter-widgets/controls",
     "model_module_version": "1.5.0",
     "model_name": "HTMLModel",
     "state": {
      "_dom_classes": [],
      "_model_module": "@jupyter-widgets/controls",
      "_model_module_version": "1.5.0",
      "_model_name": "HTMLModel",
      "_view_count": null,
      "_view_module": "@jupyter-widgets/controls",
      "_view_module_version": "1.5.0",
      "_view_name": "HTMLView",
      "description": "",
      "description_tooltip": null,
      "layout": "IPY_MODEL_e4a0f8a846b845779aec9141f286de84",
      "placeholder": "​",
      "style": "IPY_MODEL_12bfb77048f042a999a73c7df191b56d",
      "value": " 170499072/? [00:06&lt;00:00, 32624271.87it/s]"
     }
    },
    "41a357e050c749dfb111e3f09a0455c7": {
     "model_module": "@jupyter-widgets/controls",
     "model_module_version": "1.5.0",
     "model_name": "FloatProgressModel",
     "state": {
      "_dom_classes": [],
      "_model_module": "@jupyter-widgets/controls",
      "_model_module_version": "1.5.0",
      "_model_name": "FloatProgressModel",
      "_view_count": null,
      "_view_module": "@jupyter-widgets/controls",
      "_view_module_version": "1.5.0",
      "_view_name": "ProgressView",
      "bar_style": "success",
      "description": "",
      "description_tooltip": null,
      "layout": "IPY_MODEL_0b13959261bd435a9202f1a90bc7813d",
      "max": 170498071,
      "min": 0,
      "orientation": "horizontal",
      "style": "IPY_MODEL_02877e46495b4f2dbc4cc12b5d982123",
      "value": 170498071
     }
    },
    "6f542c9e2daf49a29ae6056332845a4a": {
     "model_module": "@jupyter-widgets/base",
     "model_module_version": "1.2.0",
     "model_name": "LayoutModel",
     "state": {
      "_model_module": "@jupyter-widgets/base",
      "_model_module_version": "1.2.0",
      "_model_name": "LayoutModel",
      "_view_count": null,
      "_view_module": "@jupyter-widgets/base",
      "_view_module_version": "1.2.0",
      "_view_name": "LayoutView",
      "align_content": null,
      "align_items": null,
      "align_self": null,
      "border": null,
      "bottom": null,
      "display": null,
      "flex": null,
      "flex_flow": null,
      "grid_area": null,
      "grid_auto_columns": null,
      "grid_auto_flow": null,
      "grid_auto_rows": null,
      "grid_column": null,
      "grid_gap": null,
      "grid_row": null,
      "grid_template_areas": null,
      "grid_template_columns": null,
      "grid_template_rows": null,
      "height": null,
      "justify_content": null,
      "justify_items": null,
      "left": null,
      "margin": null,
      "max_height": null,
      "max_width": null,
      "min_height": null,
      "min_width": null,
      "object_fit": null,
      "object_position": null,
      "order": null,
      "overflow": null,
      "overflow_x": null,
      "overflow_y": null,
      "padding": null,
      "right": null,
      "top": null,
      "visibility": null,
      "width": null
     }
    },
    "7c09ff395d704a0abad2fc26c8de1760": {
     "model_module": "@jupyter-widgets/controls",
     "model_module_version": "1.5.0",
     "model_name": "HBoxModel",
     "state": {
      "_dom_classes": [],
      "_model_module": "@jupyter-widgets/controls",
      "_model_module_version": "1.5.0",
      "_model_name": "HBoxModel",
      "_view_count": null,
      "_view_module": "@jupyter-widgets/controls",
      "_view_module_version": "1.5.0",
      "_view_name": "HBoxView",
      "box_style": "",
      "children": [
       "IPY_MODEL_fa644e8957534b0fbef2b453828dbddc",
       "IPY_MODEL_41a357e050c749dfb111e3f09a0455c7",
       "IPY_MODEL_3370ec02910f4eb59b9d14d093030b9a"
      ],
      "layout": "IPY_MODEL_6f542c9e2daf49a29ae6056332845a4a"
     }
    },
    "dfaf7a634bb14087a0b07a5fd2ee8836": {
     "model_module": "@jupyter-widgets/base",
     "model_module_version": "1.2.0",
     "model_name": "LayoutModel",
     "state": {
      "_model_module": "@jupyter-widgets/base",
      "_model_module_version": "1.2.0",
      "_model_name": "LayoutModel",
      "_view_count": null,
      "_view_module": "@jupyter-widgets/base",
      "_view_module_version": "1.2.0",
      "_view_name": "LayoutView",
      "align_content": null,
      "align_items": null,
      "align_self": null,
      "border": null,
      "bottom": null,
      "display": null,
      "flex": null,
      "flex_flow": null,
      "grid_area": null,
      "grid_auto_columns": null,
      "grid_auto_flow": null,
      "grid_auto_rows": null,
      "grid_column": null,
      "grid_gap": null,
      "grid_row": null,
      "grid_template_areas": null,
      "grid_template_columns": null,
      "grid_template_rows": null,
      "height": null,
      "justify_content": null,
      "justify_items": null,
      "left": null,
      "margin": null,
      "max_height": null,
      "max_width": null,
      "min_height": null,
      "min_width": null,
      "object_fit": null,
      "object_position": null,
      "order": null,
      "overflow": null,
      "overflow_x": null,
      "overflow_y": null,
      "padding": null,
      "right": null,
      "top": null,
      "visibility": null,
      "width": null
     }
    },
    "e4a0f8a846b845779aec9141f286de84": {
     "model_module": "@jupyter-widgets/base",
     "model_module_version": "1.2.0",
     "model_name": "LayoutModel",
     "state": {
      "_model_module": "@jupyter-widgets/base",
      "_model_module_version": "1.2.0",
      "_model_name": "LayoutModel",
      "_view_count": null,
      "_view_module": "@jupyter-widgets/base",
      "_view_module_version": "1.2.0",
      "_view_name": "LayoutView",
      "align_content": null,
      "align_items": null,
      "align_self": null,
      "border": null,
      "bottom": null,
      "display": null,
      "flex": null,
      "flex_flow": null,
      "grid_area": null,
      "grid_auto_columns": null,
      "grid_auto_flow": null,
      "grid_auto_rows": null,
      "grid_column": null,
      "grid_gap": null,
      "grid_row": null,
      "grid_template_areas": null,
      "grid_template_columns": null,
      "grid_template_rows": null,
      "height": null,
      "justify_content": null,
      "justify_items": null,
      "left": null,
      "margin": null,
      "max_height": null,
      "max_width": null,
      "min_height": null,
      "min_width": null,
      "object_fit": null,
      "object_position": null,
      "order": null,
      "overflow": null,
      "overflow_x": null,
      "overflow_y": null,
      "padding": null,
      "right": null,
      "top": null,
      "visibility": null,
      "width": null
     }
    },
    "f348a3440f4d4d42800e2e9af74691ba": {
     "model_module": "@jupyter-widgets/controls",
     "model_module_version": "1.5.0",
     "model_name": "DescriptionStyleModel",
     "state": {
      "_model_module": "@jupyter-widgets/controls",
      "_model_module_version": "1.5.0",
      "_model_name": "DescriptionStyleModel",
      "_view_count": null,
      "_view_module": "@jupyter-widgets/base",
      "_view_module_version": "1.2.0",
      "_view_name": "StyleView",
      "description_width": ""
     }
    },
    "fa644e8957534b0fbef2b453828dbddc": {
     "model_module": "@jupyter-widgets/controls",
     "model_module_version": "1.5.0",
     "model_name": "HTMLModel",
     "state": {
      "_dom_classes": [],
      "_model_module": "@jupyter-widgets/controls",
      "_model_module_version": "1.5.0",
      "_model_name": "HTMLModel",
      "_view_count": null,
      "_view_module": "@jupyter-widgets/controls",
      "_view_module_version": "1.5.0",
      "_view_name": "HTMLView",
      "description": "",
      "description_tooltip": null,
      "layout": "IPY_MODEL_dfaf7a634bb14087a0b07a5fd2ee8836",
      "placeholder": "​",
      "style": "IPY_MODEL_f348a3440f4d4d42800e2e9af74691ba",
      "value": ""
     }
    }
   }
  }
 },
 "nbformat": 4,
 "nbformat_minor": 5
}
