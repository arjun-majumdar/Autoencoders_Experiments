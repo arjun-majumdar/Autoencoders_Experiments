{
  "cells": [
    {
      "cell_type": "markdown",
      "id": "8af2c1b5-edfa-484f-b4af-da608dbdc608",
      "metadata": {
        "id": "8af2c1b5-edfa-484f-b4af-da608dbdc608"
      },
      "source": [
        "# Variational Autoencoder: PyTorch and CIFAR-10"
      ]
    },
    {
      "cell_type": "code",
      "execution_count": 1,
      "id": "f00c8a07-22a4-4b9d-8fe4-d639ff5af408",
      "metadata": {
        "id": "f00c8a07-22a4-4b9d-8fe4-d639ff5af408"
      },
      "outputs": [],
      "source": [
        "import torch\n",
        "import torch.nn as nn\n",
        "import torch.nn.functional as F\n",
        "import torchvision\n",
        "import torchvision.transforms as transforms\n",
        "\n",
        "from tqdm import tqdm\n",
        "from tqdm import trange\n",
        "import matplotlib.pyplot as plt\n",
        "import seaborn as sns\n",
        "import numpy as np"
      ]
    },
    {
      "cell_type": "code",
      "execution_count": null,
      "id": "dd46203c-313e-45ca-b3ca-84f684a8b738",
      "metadata": {
        "id": "dd46203c-313e-45ca-b3ca-84f684a8b738"
      },
      "outputs": [],
      "source": [
        ""
      ]
    },
    {
      "cell_type": "code",
      "execution_count": 2,
      "id": "18e21536-7fe0-4039-8dc9-8adf0c55cb37",
      "metadata": {
        "colab": {
          "base_uri": "https://localhost:8080/"
        },
        "id": "18e21536-7fe0-4039-8dc9-8adf0c55cb37",
        "outputId": "5661fac8-6805-4831-feba-30977008fa14"
      },
      "outputs": [
        {
          "output_type": "stream",
          "name": "stdout",
          "text": [
            "torch version: 1.10.0+cu111\n"
          ]
        }
      ],
      "source": [
        "print(f\"torch version: {torch.__version__}\")"
      ]
    },
    {
      "cell_type": "code",
      "execution_count": null,
      "id": "e30dfd56-16b3-4b9c-91a4-2b427aeba608",
      "metadata": {
        "id": "e30dfd56-16b3-4b9c-91a4-2b427aeba608"
      },
      "outputs": [],
      "source": [
        ""
      ]
    },
    {
      "cell_type": "code",
      "execution_count": 3,
      "id": "9799277f-fe49-492d-ac9b-54da0b939360",
      "metadata": {
        "colab": {
          "base_uri": "https://localhost:8080/"
        },
        "id": "9799277f-fe49-492d-ac9b-54da0b939360",
        "outputId": "9046a078-6d0f-4110-9446-217787096d1d"
      },
      "outputs": [
        {
          "output_type": "stream",
          "name": "stdout",
          "text": [
            "Number of GPU(s) available = 1\n",
            "Current GPU: 0\n",
            "Current GPU name: Tesla K80\n"
          ]
        }
      ],
      "source": [
        "# Check if there are multiple devices (i.e., GPU cards)-\n",
        "print(f\"Number of GPU(s) available = {torch.cuda.device_count()}\")\n",
        "\n",
        "# Which GPU Is The Current GPU?\n",
        "# print(f\"current GPU: {torch.cuda.current_device()}\")\n",
        "\n",
        "# Get the name of the current GPU-\n",
        "# print(f\"Current GPU name: {torch.cuda.get_device_name(torch.cuda.current_device())}\")\n",
        "\n",
        "# Is PyTorch using a GPU?\n",
        "# print(f\"Is PyTorch using a GPU? {torch.cuda.is_available()}\")\n",
        "\n",
        "if torch.cuda.is_available():\n",
        "    print(f\"Current GPU: {torch.cuda.current_device()}\")\n",
        "    print(f\"Current GPU name: {torch.cuda.get_device_name(torch.cuda.current_device())}\")\n",
        "else:\n",
        "    print(\"PyTorch does not have access to GPU\")"
      ]
    },
    {
      "cell_type": "code",
      "execution_count": 4,
      "id": "a258671c-447d-4007-bc5e-a1129a6aeec2",
      "metadata": {
        "colab": {
          "base_uri": "https://localhost:8080/"
        },
        "id": "a258671c-447d-4007-bc5e-a1129a6aeec2",
        "outputId": "6405e30d-de59-4570-c018-4d17d82d4385"
      },
      "outputs": [
        {
          "output_type": "stream",
          "name": "stdout",
          "text": [
            "Available device is cuda\n"
          ]
        }
      ],
      "source": [
        "# Device configuration-\n",
        "device = torch.device('cuda' if torch.cuda.is_available() else 'cpu')\n",
        "print(f'Available device is {device}')"
      ]
    },
    {
      "cell_type": "code",
      "execution_count": null,
      "id": "5c66c4ba-8858-46dd-8ce1-b896a07b045c",
      "metadata": {
        "id": "5c66c4ba-8858-46dd-8ce1-b896a07b045c"
      },
      "outputs": [],
      "source": [
        ""
      ]
    },
    {
      "cell_type": "code",
      "execution_count": null,
      "id": "5240ccb6-f84e-44a1-9224-09da6456241f",
      "metadata": {
        "id": "5240ccb6-f84e-44a1-9224-09da6456241f"
      },
      "outputs": [],
      "source": [
        ""
      ]
    },
    {
      "cell_type": "code",
      "execution_count": 5,
      "id": "bc52052e-3948-4899-b58c-68416a209c65",
      "metadata": {
        "id": "bc52052e-3948-4899-b58c-68416a209c65"
      },
      "outputs": [],
      "source": [
        "# Hyper-parameters-\n",
        "num_epochs = 50\n",
        "batch_size = 64\n",
        "learning_rate = 0.001"
      ]
    },
    {
      "cell_type": "code",
      "execution_count": null,
      "id": "7094333c-06dd-4709-a8e6-90ea674c7d75",
      "metadata": {
        "id": "7094333c-06dd-4709-a8e6-90ea674c7d75"
      },
      "outputs": [],
      "source": [
        ""
      ]
    },
    {
      "cell_type": "code",
      "execution_count": null,
      "id": "39e17972-b637-44dd-b9ca-f564bed570c7",
      "metadata": {
        "id": "39e17972-b637-44dd-b9ca-f564bed570c7"
      },
      "outputs": [],
      "source": [
        ""
      ]
    },
    {
      "cell_type": "markdown",
      "id": "b81592db-a763-4028-a9bd-d9c2dbdc49d7",
      "metadata": {
        "id": "b81592db-a763-4028-a9bd-d9c2dbdc49d7"
      },
      "source": [
        "### CIFAR-10 data pre-processing:"
      ]
    },
    {
      "cell_type": "code",
      "execution_count": 6,
      "id": "7d95b76a-3dc1-438b-a9fe-ee5c4dc6b578",
      "metadata": {
        "id": "7d95b76a-3dc1-438b-a9fe-ee5c4dc6b578"
      },
      "outputs": [],
      "source": [
        "\"\"\"\n",
        "# Dataset has PILImage images of range [0, 1]. We transform them to Tensors\n",
        "# of normalized range [-1, 1]\n",
        "transform = transforms.Compose(\n",
        "        [\n",
        "            transforms.ToTensor(),\n",
        "            transforms.Normalize((0.5, 0.5, 0.5), (0.5, 0.5, 0.5))\n",
        "            ]\n",
        "        )\n",
        "\"\"\"\n",
        "\n",
        "# Define transformations for CIFAR-10 training & test sets-\n",
        "transform_train = transforms.Compose(\n",
        "    [\n",
        "      transforms.RandomCrop(32, padding = 4),\n",
        "      transforms.RandomHorizontalFlip(),\n",
        "      transforms.ToTensor(),\n",
        "      transforms.Normalize((0.4914, 0.4822, 0.4465), (0.2023, 0.1994, 0.2010)),\n",
        "     ]\n",
        "     )\n",
        "\n",
        "transform_test = transforms.Compose(\n",
        "    [\n",
        "      transforms.ToTensor(),\n",
        "      transforms.Normalize((0.4914, 0.4822, 0.4465), (0.2023, 0.1994, 0.2010)),\n",
        "     ]\n",
        "     )"
      ]
    },
    {
      "cell_type": "code",
      "execution_count": null,
      "id": "01f4a0a2-bb6b-464c-a3b1-5e153f972e16",
      "metadata": {
        "id": "01f4a0a2-bb6b-464c-a3b1-5e153f972e16"
      },
      "outputs": [],
      "source": [
        "path_to_data = \"C:\\\\Users\\\\Arjun\\\\Desktop\\\\VAE_resources\\\\\""
      ]
    },
    {
      "cell_type": "code",
      "execution_count": 7,
      "id": "47afabcf-eb57-44d5-aace-571cd32633a9",
      "metadata": {
        "colab": {
          "base_uri": "https://localhost:8080/",
          "height": 105,
          "referenced_widgets": [
            "afff1ea3b8ab4bbe8b8ec84394d82c3d",
            "0c92e724ea31486fa886830a4fbc4d06",
            "e0fe40693f614380acbb89840c89d76d",
            "626cd831d67e4434a2f7cf91a99eb544",
            "e4e0f04271c84a39aa52ace0cdaba64f",
            "2a3cc275895146a9b0d981deb5559fba",
            "e9c93f9187984780b59cac97809ec91e",
            "71efbc324f634d78a9865623adc100ab",
            "be79e4f2cfbd414c924d9f5a115fa653",
            "7c82c41cea2a4bfea5bb00435081c091",
            "ac9b11cbaede43a2ba256878655d0fdd"
          ]
        },
        "id": "47afabcf-eb57-44d5-aace-571cd32633a9",
        "outputId": "3de7f72c-ce60-4083-d9d3-46c7fdeebebb"
      },
      "outputs": [
        {
          "output_type": "stream",
          "name": "stdout",
          "text": [
            "Downloading https://www.cs.toronto.edu/~kriz/cifar-10-python.tar.gz to ./data/cifar-10-python.tar.gz\n"
          ]
        },
        {
          "output_type": "display_data",
          "data": {
            "application/vnd.jupyter.widget-view+json": {
              "model_id": "afff1ea3b8ab4bbe8b8ec84394d82c3d",
              "version_minor": 0,
              "version_major": 2
            },
            "text/plain": [
              "  0%|          | 0/170498071 [00:00<?, ?it/s]"
            ]
          },
          "metadata": {}
        },
        {
          "output_type": "stream",
          "name": "stdout",
          "text": [
            "Extracting ./data/cifar-10-python.tar.gz to ./data\n",
            "Files already downloaded and verified\n"
          ]
        }
      ],
      "source": [
        "# Load CIFAR-10 dataset-\n",
        "train_dataset = torchvision.datasets.CIFAR10(\n",
        "        root = './data', train = True,\n",
        "        # root = path_to_data + \"data\", train = True,\n",
        "        download = True, transform = transform_train\n",
        "        )\n",
        "\n",
        "test_dataset = torchvision.datasets.CIFAR10(\n",
        "        root = './data', train = False,\n",
        "        # root = path_to_data + \"data\", train = True,\n",
        "        download = True, transform = transform_test\n",
        "        )"
      ]
    },
    {
      "cell_type": "code",
      "execution_count": 8,
      "id": "ae76f405-d109-4260-b286-3cbfa6633dd6",
      "metadata": {
        "id": "ae76f405-d109-4260-b286-3cbfa6633dd6"
      },
      "outputs": [],
      "source": [
        "# Create training and testing loaders-\n",
        "train_loader = torch.utils.data.DataLoader(\n",
        "        train_dataset, batch_size = batch_size,\n",
        "        shuffle = True\n",
        "        )\n",
        "\n",
        "test_loader = torch.utils.data.DataLoader(\n",
        "        test_dataset, batch_size = batch_size,\n",
        "        shuffle = False\n",
        "        )"
      ]
    },
    {
      "cell_type": "code",
      "execution_count": 9,
      "id": "9f230fe2-cb5d-4b3e-ae0f-02a00084c93d",
      "metadata": {
        "colab": {
          "base_uri": "https://localhost:8080/"
        },
        "id": "9f230fe2-cb5d-4b3e-ae0f-02a00084c93d",
        "outputId": "41018688-0b29-4453-f19e-5799b4740e94"
      },
      "outputs": [
        {
          "output_type": "stream",
          "name": "stdout",
          "text": [
            "Sizes of train_dataset: 50000 and test_dataet: 10000\n",
            "Sizes of train_loader: 782 and test_loader: 157\n"
          ]
        }
      ],
      "source": [
        "print(f\"Sizes of train_dataset: {len(train_dataset)} and test_dataet: {len(test_dataset)}\")\n",
        "print(f\"Sizes of train_loader: {len(train_loader)} and test_loader: {len(test_loader)}\")"
      ]
    },
    {
      "cell_type": "code",
      "execution_count": 10,
      "id": "12bfaf5a-2353-4ee0-95a8-0d35c265c3d6",
      "metadata": {
        "colab": {
          "base_uri": "https://localhost:8080/"
        },
        "id": "12bfaf5a-2353-4ee0-95a8-0d35c265c3d6",
        "outputId": "26c5f32d-a3c6-4149-aef4-3e53c0ccd2ae"
      },
      "outputs": [
        {
          "output_type": "stream",
          "name": "stdout",
          "text": [
            "len(train_loader) = 782 & len(test_loader) = 157\n"
          ]
        }
      ],
      "source": [
        "print(f\"len(train_loader) = {len(train_loader)} & len(test_loader) = {len(test_loader)}\")"
      ]
    },
    {
      "cell_type": "code",
      "execution_count": 11,
      "id": "cc665ae6-9f01-4ed5-b110-e5e722bbd996",
      "metadata": {
        "colab": {
          "base_uri": "https://localhost:8080/"
        },
        "id": "cc665ae6-9f01-4ed5-b110-e5e722bbd996",
        "outputId": "7067e947-2e18-4c5a-b57e-6516fcacd993"
      },
      "outputs": [
        {
          "output_type": "execute_result",
          "data": {
            "text/plain": [
              "(781.25, 156.25)"
            ]
          },
          "metadata": {},
          "execution_count": 11
        }
      ],
      "source": [
        "# Sanity check-\n",
        "len(train_dataset) / batch_size, len(test_dataset) / batch_size"
      ]
    },
    {
      "cell_type": "code",
      "execution_count": null,
      "id": "4985135f-4c9e-49c6-aced-61771b151480",
      "metadata": {
        "id": "4985135f-4c9e-49c6-aced-61771b151480"
      },
      "outputs": [],
      "source": [
        ""
      ]
    },
    {
      "cell_type": "code",
      "execution_count": 15,
      "id": "1c25a3a0-e120-4e0f-b7f4-68fe063e3747",
      "metadata": {
        "colab": {
          "base_uri": "https://localhost:8080/"
        },
        "id": "1c25a3a0-e120-4e0f-b7f4-68fe063e3747",
        "outputId": "8e248b97-339e-4fd2-c9e0-b259e8dc4457"
      },
      "outputs": [
        {
          "output_type": "stream",
          "name": "stdout",
          "text": [
            "images.shape: torch.Size([64, 3, 32, 32]) & labels.shape: torch.Size([64])\n"
          ]
        }
      ],
      "source": [
        "# Get some random batch of training images & labels-\n",
        "images, labels = next(iter(train_loader))\n",
        "\n",
        "# You get 64 images due to the specified batch size-\n",
        "print(f\"images.shape: {images.shape} & labels.shape: {labels.shape}\")"
      ]
    },
    {
      "cell_type": "code",
      "execution_count": null,
      "id": "4eda2200-0e19-4487-ac2f-a1cfe34eb649",
      "metadata": {
        "id": "4eda2200-0e19-4487-ac2f-a1cfe34eb649"
      },
      "outputs": [],
      "source": [
        ""
      ]
    },
    {
      "cell_type": "code",
      "execution_count": 13,
      "id": "24a1f5b0-a756-4ade-a451-18e2dab89e93",
      "metadata": {
        "id": "24a1f5b0-a756-4ade-a451-18e2dab89e93"
      },
      "outputs": [],
      "source": [
        "# Unnormalize images-\n",
        "images = images / 2 + 0.5\n",
        "images = np.transpose(images.numpy(), (0, 2, 3, 1))"
      ]
    },
    {
      "cell_type": "code",
      "execution_count": 14,
      "id": "dc42283c-2761-4f8e-aaa1-e5d0c630ce3b",
      "metadata": {
        "colab": {
          "base_uri": "https://localhost:8080/"
        },
        "id": "dc42283c-2761-4f8e-aaa1-e5d0c630ce3b",
        "outputId": "b5ea9693-233e-44ba-d9d7-02190f2a4b6d"
      },
      "outputs": [
        {
          "output_type": "execute_result",
          "data": {
            "text/plain": [
              "(64, 32, 32, 3)"
            ]
          },
          "metadata": {},
          "execution_count": 14
        }
      ],
      "source": [
        "images.shape"
      ]
    },
    {
      "cell_type": "code",
      "execution_count": null,
      "id": "d1584fd9-8a90-4668-9c85-29f5751cb2e6",
      "metadata": {
        "colab": {
          "base_uri": "https://localhost:8080/"
        },
        "id": "d1584fd9-8a90-4668-9c85-29f5751cb2e6",
        "outputId": "957b05e6-7ee9-42b5-bb1a-8ac37def32a4"
      },
      "outputs": [
        {
          "output_type": "execute_result",
          "data": {
            "text/plain": [
              "(32, 32, 3)"
            ]
          },
          "metadata": {},
          "execution_count": 15
        }
      ],
      "source": [
        "images[0].shape"
      ]
    },
    {
      "cell_type": "code",
      "execution_count": null,
      "id": "f18dab55-df42-47fe-ab6c-b7406578f553",
      "metadata": {
        "colab": {
          "base_uri": "https://localhost:8080/",
          "height": 392
        },
        "id": "f18dab55-df42-47fe-ab6c-b7406578f553",
        "outputId": "4491b6e1-5a15-49af-d8b7-c729f4d8b1b9"
      },
      "outputs": [
        {
          "output_type": "stream",
          "name": "stderr",
          "text": [
            "Clipping input data to the valid range for imshow with RGB data ([0..1] for floats or [0..255] for integers).\n"
          ]
        },
        {
          "output_type": "display_data",
          "data": {
            "image/png": "[encoded data removed]",
            "text/plain": [
              "<Figure size 504x432 with 1 Axes>"
            ]
          },
          "metadata": {
            "needs_background": "light"
          }
        }
      ],
      "source": [
        "plt.figure(figsize = (7, 6))\n",
        "plt.imshow(images[0])\n",
        "plt.show()"
      ]
    },
    {
      "cell_type": "code",
      "execution_count": null,
      "id": "385944f5-271b-4ba3-9bb5-4468482a7285",
      "metadata": {
        "colab": {
          "base_uri": "https://localhost:8080/",
          "height": 458
        },
        "id": "385944f5-271b-4ba3-9bb5-4468482a7285",
        "outputId": "827ded3e-da27-4945-c35d-7b4e6036f2e1"
      },
      "outputs": [
        {
          "output_type": "stream",
          "name": "stderr",
          "text": [
            "Clipping input data to the valid range for imshow with RGB data ([0..1] for floats or [0..255] for integers).\n",
            "Clipping input data to the valid range for imshow with RGB data ([0..1] for floats or [0..255] for integers).\n",
            "Clipping input data to the valid range for imshow with RGB data ([0..1] for floats or [0..255] for integers).\n",
            "Clipping input data to the valid range for imshow with RGB data ([0..1] for floats or [0..255] for integers).\n",
            "Clipping input data to the valid range for imshow with RGB data ([0..1] for floats or [0..255] for integers).\n",
            "Clipping input data to the valid range for imshow with RGB data ([0..1] for floats or [0..255] for integers).\n",
            "Clipping input data to the valid range for imshow with RGB data ([0..1] for floats or [0..255] for integers).\n",
            "Clipping input data to the valid range for imshow with RGB data ([0..1] for floats or [0..255] for integers).\n",
            "Clipping input data to the valid range for imshow with RGB data ([0..1] for floats or [0..255] for integers).\n",
            "Clipping input data to the valid range for imshow with RGB data ([0..1] for floats or [0..255] for integers).\n"
          ]
        },
        {
          "output_type": "display_data",
          "data": {
            "image/png": "[encoded data removed]",
            "text/plain": [
              "<Figure size 432x288 with 10 Axes>"
            ]
          },
          "metadata": {
            "needs_background": "light"
          }
        }
      ],
      "source": [
        "# Visualize 10 images from training set-\n",
        "for i in range(10):\n",
        "    plt.subplot(2, 5, i + 1)    # 2 rows & 5 columns\n",
        "    plt.imshow(images[i])\n",
        "    \n",
        "plt.suptitle(\"Sample CIFAR-10 training images\")\n",
        "plt.show()"
      ]
    },
    {
      "cell_type": "code",
      "execution_count": null,
      "id": "7a7d0933-0e32-48c8-b05d-c4559825c71c",
      "metadata": {
        "id": "7a7d0933-0e32-48c8-b05d-c4559825c71c"
      },
      "outputs": [],
      "source": [
        ""
      ]
    },
    {
      "cell_type": "code",
      "execution_count": null,
      "id": "3b5228a3-fe70-4178-8814-1c0ac81ebc12",
      "metadata": {
        "id": "3b5228a3-fe70-4178-8814-1c0ac81ebc12"
      },
      "outputs": [],
      "source": [
        ""
      ]
    },
    {
      "cell_type": "markdown",
      "id": "6085dc68-8c57-4a95-8a75-0a23776e24ef",
      "metadata": {
        "id": "6085dc68-8c57-4a95-8a75-0a23776e24ef"
      },
      "source": [
        "### Define _Variational Autoencoder_ architecture:"
      ]
    },
    {
      "cell_type": "code",
      "execution_count": 16,
      "id": "b4ca6753-4c10-4f0b-9ff5-f996bdb0be7e",
      "metadata": {
        "id": "b4ca6753-4c10-4f0b-9ff5-f996bdb0be7e"
      },
      "outputs": [],
      "source": [
        "class cnn_block(nn.Module):\n",
        "    def __init__(self, input_channels, output_channels):\n",
        "        super(cnn_block, self).__init__()\n",
        "\n",
        "        # Define layers-\n",
        "        self.conv1 = nn.Conv2d(\n",
        "            in_channels = input_channels, out_channels = output_channels,\n",
        "            kernel_size = 3, stride = 1,\n",
        "            padding = 1, bias = True\n",
        "        )\n",
        "        self.conv2 = nn.Conv2d(\n",
        "            in_channels = output_channels, out_channels = output_channels,\n",
        "            kernel_size = 3, stride = 1,\n",
        "            padding = 1, bias = True\n",
        "        )\n",
        "        self.pool = nn.MaxPool2d(\n",
        "            kernel_size = 2, stride = 2\n",
        "        )\n",
        "  \n",
        "\n",
        "    def forward(self, x):\n",
        "        x = F.relu(self.conv1(x))\n",
        "        x = F.relu(self.conv2(x))\n",
        "        return self.pool(x)\n",
        "    "
      ]
    },
    {
      "cell_type": "code",
      "execution_count": null,
      "id": "06076821-fccb-4a05-998b-2b6eb7f8d876",
      "metadata": {
        "id": "06076821-fccb-4a05-998b-2b6eb7f8d876"
      },
      "outputs": [],
      "source": [
        ""
      ]
    },
    {
      "cell_type": "code",
      "execution_count": 17,
      "id": "fa18b553-da0f-42e4-b023-e04bd3531abd",
      "metadata": {
        "id": "fa18b553-da0f-42e4-b023-e04bd3531abd"
      },
      "outputs": [],
      "source": [
        "class Conv6_Encoder(nn.Module):\n",
        "    def __init__(self, latent_space):\n",
        "        super(Conv6_Encoder, self).__init__()\n",
        "        self.latent_space = latent_space\n",
        "        \n",
        "        self.block1 = cnn_block(input_channels = 3, output_channels = 64)\n",
        "        self.block2 = cnn_block(input_channels = 64, output_channels = 128)\n",
        "        self.block3 = cnn_block(input_channels = 128, output_channels = 256)\n",
        "        self.dense_layer1 = nn.Linear(\n",
        "            in_features = 4096, out_features = 256,\n",
        "            bias = True\n",
        "        )\n",
        "        self.op_layer = nn.Linear(\n",
        "            in_features = 256, out_features = self.latent_space,\n",
        "            bias = True\n",
        "        )\n",
        "\n",
        "    def forward(self, x):\n",
        "        x = self.block1(x)\n",
        "        x = self.block2(x)\n",
        "        x = self.block3(x)\n",
        "        x = torch.flatten(x, start_dim = 1)\n",
        "        x = self.dense_layer1(x)\n",
        "        x = self.op_layer(x)\n",
        "        return x"
      ]
    },
    {
      "cell_type": "code",
      "execution_count": null,
      "id": "24355ca3-6300-439b-a540-c1ee4b615977",
      "metadata": {
        "id": "24355ca3-6300-439b-a540-c1ee4b615977"
      },
      "outputs": [],
      "source": [
        ""
      ]
    },
    {
      "cell_type": "code",
      "execution_count": 18,
      "id": "58377e40-8d9c-478a-901c-6e17f5a9ae91",
      "metadata": {
        "id": "58377e40-8d9c-478a-901c-6e17f5a9ae91"
      },
      "outputs": [],
      "source": [
        "class Conv6_Decoder(nn.Module):\n",
        "    def __init__(self, latent_space):\n",
        "        super(Conv6_Decoder, self).__init__()\n",
        "        self.latent_space = latent_space\n",
        "    \n",
        "        self.dense_layer1 = nn.Linear(\n",
        "            in_features = self.latent_space, out_features = 256,\n",
        "            bias = True\n",
        "        )\n",
        "        self.dense_layer2 = nn.Linear(\n",
        "            in_features = 256, out_features = 4096,\n",
        "            bias = True\n",
        "        )\n",
        "        self.conv_tran_layer1 = nn.ConvTranspose2d(\n",
        "            in_channels = 256, out_channels = 256,\n",
        "            kernel_size = 4, stride = 2,\n",
        "            padding = 1\n",
        "        )\n",
        "        self.conv_tran_layer2 = nn.ConvTranspose2d(\n",
        "            in_channels = 256, out_channels = 256,\n",
        "            kernel_size = 3, stride = 1,\n",
        "            padding = 1\n",
        "        )\n",
        "        self.conv_tran_layer3 = nn.ConvTranspose2d(\n",
        "            in_channels = 256, out_channels = 128,\n",
        "            kernel_size = 4, stride = 2,\n",
        "            padding = 1\n",
        "        )\n",
        "        self.conv_tran_layer4 = nn.ConvTranspose2d(\n",
        "            in_channels = 128, out_channels = 128,\n",
        "            kernel_size = 3, stride = 1,\n",
        "            padding = 1\n",
        "        )\n",
        "        self.conv_tran_layer5 = nn.ConvTranspose2d(\n",
        "            in_channels = 128, out_channels = 64,\n",
        "            kernel_size = 4, stride = 2,\n",
        "            padding = 1\n",
        "        )\n",
        "        self.conv_tran_layer6 = nn.ConvTranspose2d(\n",
        "            in_channels = 64, out_channels = 64,\n",
        "            kernel_size = 3, stride = 1,\n",
        "            padding = 1\n",
        "        )\n",
        "        self.output_conv_layer = nn.ConvTranspose2d(\n",
        "            in_channels = 64, out_channels = 3,\n",
        "            kernel_size = 3, stride = 1,\n",
        "            padding = 1\n",
        "        )\n",
        "        \n",
        "    \n",
        "    def forward(self, x):\n",
        "        x = F.relu(self.dense_layer1(x))\n",
        "        x = F.relu(self.dense_layer2(x))\n",
        "        x = x.view(-1, 256, 4, 4)\n",
        "        x = F.relu(self.conv_tran_layer1(x))\n",
        "        x = F.relu(self.conv_tran_layer2(x))\n",
        "        x = F.relu(self.conv_tran_layer3(x))\n",
        "        x = F.relu(self.conv_tran_layer4(x))\n",
        "        x = F.relu(self.conv_tran_layer5(x))\n",
        "        x = F.relu(self.conv_tran_layer6(x))\n",
        "        x = self.output_conv_layer(x)\n",
        "        return x\n",
        " "
      ]
    },
    {
      "cell_type": "code",
      "execution_count": null,
      "id": "77411859-8dd1-4914-b383-9e609a95c0ef",
      "metadata": {
        "id": "77411859-8dd1-4914-b383-9e609a95c0ef"
      },
      "outputs": [],
      "source": [
        ""
      ]
    },
    {
      "cell_type": "code",
      "execution_count": null,
      "id": "e3ff8cb6-1369-49b8-baef-79db04d06f93",
      "metadata": {
        "id": "e3ff8cb6-1369-49b8-baef-79db04d06f93"
      },
      "outputs": [],
      "source": [
        "# Instantiate an instance of encoder-\n",
        "# encoder = Conv6_Encoder(latent_space = 20).to(device)"
      ]
    },
    {
      "cell_type": "code",
      "execution_count": null,
      "id": "4681ae21-921a-4f22-8780-c66073c47f48",
      "metadata": {
        "id": "4681ae21-921a-4f22-8780-c66073c47f48",
        "outputId": "63449f52-55cb-4050-df3f-117f55ac7cc3"
      },
      "outputs": [
        {
          "data": {
            "text/plain": [
              "torch.Size([64, 3, 32, 32])"
            ]
          },
          "execution_count": 80,
          "metadata": {},
          "output_type": "execute_result"
        }
      ],
      "source": [
        "# images.shape"
      ]
    },
    {
      "cell_type": "code",
      "execution_count": null,
      "id": "7fa76888-4a05-4b02-8c13-8663151cfb1b",
      "metadata": {
        "id": "7fa76888-4a05-4b02-8c13-8663151cfb1b"
      },
      "outputs": [],
      "source": [
        "# encoded_images = encoder(images)"
      ]
    },
    {
      "cell_type": "code",
      "execution_count": null,
      "id": "8886f5c5-424c-4431-99c9-103a1e5e4acc",
      "metadata": {
        "id": "8886f5c5-424c-4431-99c9-103a1e5e4acc",
        "outputId": "3c0faaaa-4235-4ac0-b321-782507632f5a"
      },
      "outputs": [
        {
          "data": {
            "text/plain": [
              "torch.Size([64, 20])"
            ]
          },
          "execution_count": 82,
          "metadata": {},
          "output_type": "execute_result"
        }
      ],
      "source": [
        "# encoded_images.shape"
      ]
    },
    {
      "cell_type": "code",
      "execution_count": null,
      "id": "a09fdf0b-9f8b-478d-836b-9ce7fa978732",
      "metadata": {
        "id": "a09fdf0b-9f8b-478d-836b-9ce7fa978732"
      },
      "outputs": [],
      "source": [
        "# Instantiate an instance of decoder-\n",
        "# decoder = Conv6_Decoder(latent_space = 20).to(device)"
      ]
    },
    {
      "cell_type": "code",
      "execution_count": null,
      "id": "49e779e5-745e-4951-9841-f1d823b1f6e4",
      "metadata": {
        "id": "49e779e5-745e-4951-9841-f1d823b1f6e4"
      },
      "outputs": [],
      "source": [
        "# decoded_output = decoder(encoded_images)"
      ]
    },
    {
      "cell_type": "code",
      "execution_count": null,
      "id": "1c86e30a-3ee3-4bdd-bc53-ab656a6f844d",
      "metadata": {
        "id": "1c86e30a-3ee3-4bdd-bc53-ab656a6f844d",
        "outputId": "ecbcb9a6-d525-46e3-df84-1e8d27c30c7b"
      },
      "outputs": [
        {
          "data": {
            "text/plain": [
              "torch.Size([64, 3, 32, 32])"
            ]
          },
          "execution_count": 85,
          "metadata": {},
          "output_type": "execute_result"
        }
      ],
      "source": [
        "# decoded_output.shape"
      ]
    },
    {
      "cell_type": "code",
      "execution_count": null,
      "id": "65c7caff-6957-490b-a94b-6e422a13b7a5",
      "metadata": {
        "id": "65c7caff-6957-490b-a94b-6e422a13b7a5"
      },
      "outputs": [],
      "source": [
        "# del encoder, decoder, encoded_images, decoded_output"
      ]
    },
    {
      "cell_type": "code",
      "execution_count": null,
      "id": "6b142b60-92b9-47e5-936e-ff17c8cb5857",
      "metadata": {
        "id": "6b142b60-92b9-47e5-936e-ff17c8cb5857"
      },
      "outputs": [],
      "source": [
        ""
      ]
    },
    {
      "cell_type": "code",
      "execution_count": null,
      "id": "77e87b68-83c3-4c22-a869-77c4647bc941",
      "metadata": {
        "id": "77e87b68-83c3-4c22-a869-77c4647bc941"
      },
      "outputs": [],
      "source": [
        ""
      ]
    },
    {
      "cell_type": "code",
      "execution_count": 19,
      "id": "1f61ef23-2a85-41f8-b956-4277376b8c1b",
      "metadata": {
        "id": "1f61ef23-2a85-41f8-b956-4277376b8c1b"
      },
      "outputs": [],
      "source": [
        "class VAE_Conv(nn.Module):\n",
        "    def __init__(self, latent_space = 5):\n",
        "        super(VAE_Conv, self).__init__()\n",
        "        \n",
        "        self.latent_space = latent_space\n",
        "        \n",
        "        # Encoder-\n",
        "        self.encoder = Conv6_Encoder(latent_space = self.latent_space).to(device)\n",
        "        \n",
        "        # Two additional layers 'hidden2mu' & 'hidden2log' to convert the bottleneck into the μ and σ vectors-\n",
        "        self.hidden2mu = nn.Linear(in_features = latent_space, out_features = latent_space, bias = True)\n",
        "        self.hidden2log_var = nn.Linear(in_features = latent_space, out_features = latent_space, bias = True)\n",
        "        \n",
        "        # Decoder-\n",
        "        self.decoder = Conv6_Decoder(latent_space = self.latent_space).to(device)\n",
        "        \n",
        "        \n",
        "    def reparameterize(self, mu, log_var):\n",
        "        '''\n",
        "        Input arguments:\n",
        "        1. mu - mean coming from the encoder's latent space\n",
        "        2. log_var - log variance coming from the encoder's latent space\n",
        "        '''\n",
        "        # Compute standard deviation using 'log_var'-\n",
        "        std = torch.exp(0.5 * log_var)\n",
        "        \n",
        "        # 'eps' samples from a normal standard distribution to add\n",
        "        # stochasticity to the sampling process-\n",
        "        eps = torch.randn_like(std)\n",
        "        \n",
        "        # Reparameterization trick - sample as if it's from the input\n",
        "        # space-\n",
        "        sample = mu + (std * eps)\n",
        "        \n",
        "        return sample\n",
        "    \n",
        "    \n",
        "    def forward(self, x):\n",
        "        # Encode input data-\n",
        "        x = self.encoder(x)\n",
        "        # NOTE: The line of code above does NOT give us the latent vector!\n",
        "        \n",
        "        # print(f\"encoder's output x.shape: {x.shape}\")\n",
        "        \n",
        "        mu = self.hidden2mu(x)\n",
        "        log_var = self.hidden2log_var(x)\n",
        "        \n",
        "        # Obtain the latent vector using reparameterization-\n",
        "        z = self.reparameterize(mu, log_var)\n",
        "        # latent vector 'z' is obtained through reparameterization trick using mu and log_var\n",
        "        \n",
        "        '''\n",
        "        print(f\"mu.shape: {mu.shape}, log_var.shape: {log_var.shape} &\"\n",
        "              f\" z.shape: {z.shape}\")\n",
        "        '''\n",
        "        \n",
        "        # Decode latent vector-\n",
        "        recon_data = torch.sigmoid(self.decoder(z))  # or, tanh\n",
        "        # x = self.decoder(z)\n",
        "        # recon_data = torch.sigmoid(x) # or, tanh\n",
        "        \n",
        "        return recon_data, mu, log_var\n",
        "        "
      ]
    },
    {
      "cell_type": "code",
      "execution_count": null,
      "id": "ea79f596-e7ff-40fe-bfa2-5f074e665d0d",
      "metadata": {
        "id": "ea79f596-e7ff-40fe-bfa2-5f074e665d0d"
      },
      "outputs": [],
      "source": [
        ""
      ]
    },
    {
      "cell_type": "code",
      "execution_count": 20,
      "id": "60ab401d-bfd3-443f-a777-970b74941b68",
      "metadata": {
        "id": "60ab401d-bfd3-443f-a777-970b74941b68"
      },
      "outputs": [],
      "source": [
        "# Initialize a VAE objetc-\n",
        "model = VAE_Conv(latent_space = 20).to(device)"
      ]
    },
    {
      "cell_type": "code",
      "execution_count": null,
      "id": "454fc338-0e0a-4234-83f6-dd72cd9278bf",
      "metadata": {
        "id": "454fc338-0e0a-4234-83f6-dd72cd9278bf"
      },
      "outputs": [],
      "source": [
        ""
      ]
    },
    {
      "cell_type": "code",
      "execution_count": 21,
      "id": "690f97c3-35f3-459e-8c3f-dfb994d824e0",
      "metadata": {
        "colab": {
          "base_uri": "https://localhost:8080/"
        },
        "id": "690f97c3-35f3-459e-8c3f-dfb994d824e0",
        "outputId": "9539780c-dc19-4002-8d77-d49a631c18f2"
      },
      "outputs": [
        {
          "output_type": "stream",
          "name": "stdout",
          "text": [
            "VAE_Conv(\n",
            "  (encoder): Conv6_Encoder(\n",
            "    (block1): cnn_block(\n",
            "      (conv1): Conv2d(3, 64, kernel_size=(3, 3), stride=(1, 1), padding=(1, 1))\n",
            "      (conv2): Conv2d(64, 64, kernel_size=(3, 3), stride=(1, 1), padding=(1, 1))\n",
            "      (pool): MaxPool2d(kernel_size=2, stride=2, padding=0, dilation=1, ceil_mode=False)\n",
            "    )\n",
            "    (block2): cnn_block(\n",
            "      (conv1): Conv2d(64, 128, kernel_size=(3, 3), stride=(1, 1), padding=(1, 1))\n",
            "      (conv2): Conv2d(128, 128, kernel_size=(3, 3), stride=(1, 1), padding=(1, 1))\n",
            "      (pool): MaxPool2d(kernel_size=2, stride=2, padding=0, dilation=1, ceil_mode=False)\n",
            "    )\n",
            "    (block3): cnn_block(\n",
            "      (conv1): Conv2d(128, 256, kernel_size=(3, 3), stride=(1, 1), padding=(1, 1))\n",
            "      (conv2): Conv2d(256, 256, kernel_size=(3, 3), stride=(1, 1), padding=(1, 1))\n",
            "      (pool): MaxPool2d(kernel_size=2, stride=2, padding=0, dilation=1, ceil_mode=False)\n",
            "    )\n",
            "    (dense_layer1): Linear(in_features=4096, out_features=256, bias=True)\n",
            "    (op_layer): Linear(in_features=256, out_features=20, bias=True)\n",
            "  )\n",
            "  (hidden2mu): Linear(in_features=20, out_features=20, bias=True)\n",
            "  (hidden2log_var): Linear(in_features=20, out_features=20, bias=True)\n",
            "  (decoder): Conv6_Decoder(\n",
            "    (dense_layer1): Linear(in_features=20, out_features=256, bias=True)\n",
            "    (dense_layer2): Linear(in_features=256, out_features=4096, bias=True)\n",
            "    (conv_tran_layer1): ConvTranspose2d(256, 256, kernel_size=(4, 4), stride=(2, 2), padding=(1, 1))\n",
            "    (conv_tran_layer2): ConvTranspose2d(256, 256, kernel_size=(3, 3), stride=(1, 1), padding=(1, 1))\n",
            "    (conv_tran_layer3): ConvTranspose2d(256, 128, kernel_size=(4, 4), stride=(2, 2), padding=(1, 1))\n",
            "    (conv_tran_layer4): ConvTranspose2d(128, 128, kernel_size=(3, 3), stride=(1, 1), padding=(1, 1))\n",
            "    (conv_tran_layer5): ConvTranspose2d(128, 64, kernel_size=(4, 4), stride=(2, 2), padding=(1, 1))\n",
            "    (conv_tran_layer6): ConvTranspose2d(64, 64, kernel_size=(3, 3), stride=(1, 1), padding=(1, 1))\n",
            "    (output_conv_layer): ConvTranspose2d(64, 3, kernel_size=(3, 3), stride=(1, 1), padding=(1, 1))\n",
            "  )\n",
            ")\n"
          ]
        }
      ],
      "source": [
        "print(model)"
      ]
    },
    {
      "cell_type": "code",
      "execution_count": null,
      "id": "1f605ec5-2607-4a80-bdc3-e4257b24fce5",
      "metadata": {
        "id": "1f605ec5-2607-4a80-bdc3-e4257b24fce5"
      },
      "outputs": [],
      "source": [
        ""
      ]
    },
    {
      "cell_type": "code",
      "execution_count": 22,
      "id": "9e827468-9683-4181-99e3-3a2b0d05518d",
      "metadata": {
        "colab": {
          "base_uri": "https://localhost:8080/"
        },
        "id": "9e827468-9683-4181-99e3-3a2b0d05518d",
        "outputId": "1cd1a28c-be6a-4e6d-acc9-9c1f49eafaa9"
      },
      "outputs": [
        {
          "output_type": "stream",
          "name": "stdout",
          "text": [
            "layer.shape = torch.Size([64, 3, 3, 3]) has 1728 parameters\n",
            "layer.shape = torch.Size([64]) has 64 parameters\n",
            "layer.shape = torch.Size([64, 64, 3, 3]) has 36864 parameters\n",
            "layer.shape = torch.Size([64]) has 64 parameters\n",
            "layer.shape = torch.Size([128, 64, 3, 3]) has 73728 parameters\n",
            "layer.shape = torch.Size([128]) has 128 parameters\n",
            "layer.shape = torch.Size([128, 128, 3, 3]) has 147456 parameters\n",
            "layer.shape = torch.Size([128]) has 128 parameters\n",
            "layer.shape = torch.Size([256, 128, 3, 3]) has 294912 parameters\n",
            "layer.shape = torch.Size([256]) has 256 parameters\n",
            "layer.shape = torch.Size([256, 256, 3, 3]) has 589824 parameters\n",
            "layer.shape = torch.Size([256]) has 256 parameters\n",
            "layer.shape = torch.Size([256, 4096]) has 1048576 parameters\n",
            "layer.shape = torch.Size([256]) has 256 parameters\n",
            "layer.shape = torch.Size([20, 256]) has 5120 parameters\n",
            "layer.shape = torch.Size([20]) has 20 parameters\n",
            "layer.shape = torch.Size([20, 20]) has 400 parameters\n",
            "layer.shape = torch.Size([20]) has 20 parameters\n",
            "layer.shape = torch.Size([20, 20]) has 400 parameters\n",
            "layer.shape = torch.Size([20]) has 20 parameters\n",
            "layer.shape = torch.Size([256, 20]) has 5120 parameters\n",
            "layer.shape = torch.Size([256]) has 256 parameters\n",
            "layer.shape = torch.Size([4096, 256]) has 1048576 parameters\n",
            "layer.shape = torch.Size([4096]) has 4096 parameters\n",
            "layer.shape = torch.Size([256, 256, 4, 4]) has 1048576 parameters\n",
            "layer.shape = torch.Size([256]) has 256 parameters\n",
            "layer.shape = torch.Size([256, 256, 3, 3]) has 589824 parameters\n",
            "layer.shape = torch.Size([256]) has 256 parameters\n",
            "layer.shape = torch.Size([256, 128, 4, 4]) has 524288 parameters\n",
            "layer.shape = torch.Size([128]) has 128 parameters\n",
            "layer.shape = torch.Size([128, 128, 3, 3]) has 147456 parameters\n",
            "layer.shape = torch.Size([128]) has 128 parameters\n",
            "layer.shape = torch.Size([128, 64, 4, 4]) has 131072 parameters\n",
            "layer.shape = torch.Size([64]) has 64 parameters\n",
            "layer.shape = torch.Size([64, 64, 3, 3]) has 36864 parameters\n",
            "layer.shape = torch.Size([64]) has 64 parameters\n",
            "layer.shape = torch.Size([64, 3, 3, 3]) has 1728 parameters\n",
            "layer.shape = torch.Size([3]) has 3 parameters\n"
          ]
        }
      ],
      "source": [
        "# Count number of layer-wise parameters and total parameters-\n",
        "tot_params = 0\n",
        "for param in model.parameters():\n",
        "    print(f\"layer.shape = {param.shape} has {param.nelement()} parameters\")\n",
        "    tot_params += param.nelement()"
      ]
    },
    {
      "cell_type": "code",
      "execution_count": 23,
      "id": "4c4517d0-5b78-4584-8337-25994f91de24",
      "metadata": {
        "colab": {
          "base_uri": "https://localhost:8080/"
        },
        "id": "4c4517d0-5b78-4584-8337-25994f91de24",
        "outputId": "28997513-251c-4131-a8bb-1644aaa96111"
      },
      "outputs": [
        {
          "output_type": "stream",
          "name": "stdout",
          "text": [
            "Total number of parameters in VAE Dense model = 5738975\n"
          ]
        }
      ],
      "source": [
        "print(f\"Total number of parameters in VAE Dense model = {tot_params}\")"
      ]
    },
    {
      "cell_type": "code",
      "execution_count": null,
      "id": "c476c09b-d6ef-43fe-8ff9-8f7139b62b6e",
      "metadata": {
        "id": "c476c09b-d6ef-43fe-8ff9-8f7139b62b6e"
      },
      "outputs": [],
      "source": [
        ""
      ]
    },
    {
      "cell_type": "code",
      "source": [
        ""
      ],
      "metadata": {
        "id": "WeCYzsSAx5Tn"
      },
      "id": "WeCYzsSAx5Tn",
      "execution_count": null,
      "outputs": []
    },
    {
      "cell_type": "markdown",
      "source": [
        "### Initial _variance_ - Sanity check:\n",
        "\n",
        "_Before_ training the VAE neural network model, there should be some initial variance."
      ],
      "metadata": {
        "id": "rMH47UZ-xse_"
      },
      "id": "rMH47UZ-xse_"
    },
    {
      "cell_type": "code",
      "source": [
        "for x in model.hidden2mu.parameters():\n",
        "    print(x.shape, x.nelement())"
      ],
      "metadata": {
        "colab": {
          "base_uri": "https://localhost:8080/"
        },
        "id": "hJzaYABYvhXv",
        "outputId": "cf9f8945-dc9a-4e8d-9cc4-fde6755a09e4"
      },
      "id": "hJzaYABYvhXv",
      "execution_count": null,
      "outputs": [
        {
          "output_type": "stream",
          "name": "stdout",
          "text": [
            "torch.Size([20, 20]) 400\n",
            "torch.Size([20]) 20\n"
          ]
        }
      ]
    },
    {
      "cell_type": "code",
      "source": [
        "log_var_wts = model.hidden2log_var.weight"
      ],
      "metadata": {
        "id": "rh66ZwUAwPKJ"
      },
      "id": "rh66ZwUAwPKJ",
      "execution_count": null,
      "outputs": []
    },
    {
      "cell_type": "code",
      "source": [
        "mu_wts = model.hidden2mu.weight"
      ],
      "metadata": {
        "id": "q-j-5_VGv1jt"
      },
      "id": "q-j-5_VGv1jt",
      "execution_count": null,
      "outputs": []
    },
    {
      "cell_type": "code",
      "source": [
        "mu_wts = mu_wts.detach().cpu().numpy()"
      ],
      "metadata": {
        "id": "dJARYX0cwJfD"
      },
      "id": "dJARYX0cwJfD",
      "execution_count": null,
      "outputs": []
    },
    {
      "cell_type": "code",
      "source": [
        "log_var_wts = log_var_wts.detach().cpu().numpy()"
      ],
      "metadata": {
        "id": "x7-zEsvcwN2V"
      },
      "id": "x7-zEsvcwN2V",
      "execution_count": null,
      "outputs": []
    },
    {
      "cell_type": "code",
      "source": [
        "mu_wts.shape, log_var_wts.shape"
      ],
      "metadata": {
        "colab": {
          "base_uri": "https://localhost:8080/"
        },
        "id": "cdhDQZU-wWQ7",
        "outputId": "e1de5a61-3b0c-4c58-853d-6d21fc3c530c"
      },
      "id": "cdhDQZU-wWQ7",
      "execution_count": null,
      "outputs": [
        {
          "output_type": "execute_result",
          "data": {
            "text/plain": [
              "((20, 20), (20, 20))"
            ]
          },
          "metadata": {},
          "execution_count": 25
        }
      ]
    },
    {
      "cell_type": "code",
      "source": [
        ""
      ],
      "metadata": {
        "id": "m3Gz3BmCwp4h"
      },
      "id": "m3Gz3BmCwp4h",
      "execution_count": null,
      "outputs": []
    },
    {
      "cell_type": "code",
      "source": [
        "sns.displot(data = mu_wts.flatten(), bins = int(np.ceil(np.sqrt(mu_wts.size))))\n",
        "plt.title(\"mu Visualization\")\n",
        "plt.show()"
      ],
      "metadata": {
        "colab": {
          "base_uri": "https://localhost:8080/",
          "height": 385
        },
        "id": "HgzluinKxO2f",
        "outputId": "3863d89b-d5f5-4545-ff90-1a140fa7815a"
      },
      "id": "HgzluinKxO2f",
      "execution_count": null,
      "outputs": [
        {
          "output_type": "display_data",
          "data": {
            "image/png": "[encoded data removed]",
            "text/plain": [
              "<Figure size 360x360 with 1 Axes>"
            ]
          },
          "metadata": {
            "needs_background": "light"
          }
        }
      ]
    },
    {
      "cell_type": "code",
      "source": [
        "sns.displot(data = log_var_wts.flatten(), bins = int(np.ceil(np.sqrt(log_var_wts.size))))\n",
        "plt.title(\"log variance Visualization\")\n",
        "plt.show()"
      ],
      "metadata": {
        "colab": {
          "base_uri": "https://localhost:8080/",
          "height": 385
        },
        "id": "M3M9In0DxYx9",
        "outputId": "9409acf0-9680-4f9a-e9f1-28a94554cfde"
      },
      "id": "M3M9In0DxYx9",
      "execution_count": null,
      "outputs": [
        {
          "output_type": "display_data",
          "data": {
            "image/png": "[encoded data removed]",
            "text/plain": [
              "<Figure size 360x360 with 1 Axes>"
            ]
          },
          "metadata": {
            "needs_background": "light"
          }
        }
      ]
    },
    {
      "cell_type": "code",
      "source": [
        "del mu_wts, log_var_wts"
      ],
      "metadata": {
        "id": "0jBPklKuxg38"
      },
      "id": "0jBPklKuxg38",
      "execution_count": null,
      "outputs": []
    },
    {
      "cell_type": "code",
      "source": [
        ""
      ],
      "metadata": {
        "id": "E8JLR1l0xpyJ"
      },
      "id": "E8JLR1l0xpyJ",
      "execution_count": null,
      "outputs": []
    },
    {
      "cell_type": "code",
      "execution_count": null,
      "id": "41db8f08-7228-4c94-93d2-73d701953bdb",
      "metadata": {
        "id": "41db8f08-7228-4c94-93d2-73d701953bdb"
      },
      "outputs": [],
      "source": [
        "images = images.to(device)"
      ]
    },
    {
      "cell_type": "code",
      "execution_count": null,
      "id": "2362adeb-106a-4b84-a696-322448199fcc",
      "metadata": {
        "colab": {
          "base_uri": "https://localhost:8080/"
        },
        "id": "2362adeb-106a-4b84-a696-322448199fcc",
        "outputId": "965c9e24-e3cc-4922-ef4f-cafe67b320af"
      },
      "outputs": [
        {
          "output_type": "execute_result",
          "data": {
            "text/plain": [
              "torch.Size([64, 3, 32, 32])"
            ]
          },
          "metadata": {},
          "execution_count": 30
        }
      ],
      "source": [
        "images.shape"
      ]
    },
    {
      "cell_type": "code",
      "execution_count": null,
      "id": "8113e149-a1df-4fed-94ec-7601ecd8530e",
      "metadata": {
        "id": "8113e149-a1df-4fed-94ec-7601ecd8530e"
      },
      "outputs": [],
      "source": [
        "# Sanity check-\n",
        "recon_images, mu, log_var = model(images)"
      ]
    },
    {
      "cell_type": "code",
      "execution_count": null,
      "id": "b654101c-692b-4e8e-be65-436bf75610f8",
      "metadata": {
        "colab": {
          "base_uri": "https://localhost:8080/"
        },
        "id": "b654101c-692b-4e8e-be65-436bf75610f8",
        "outputId": "8f903774-b1c2-4f2b-f18a-6f8906a62473"
      },
      "outputs": [
        {
          "output_type": "execute_result",
          "data": {
            "text/plain": [
              "(torch.Size([64, 3, 32, 32]), torch.Size([64, 20]), torch.Size([64, 20]))"
            ]
          },
          "metadata": {},
          "execution_count": 32
        }
      ],
      "source": [
        "recon_images.shape, mu.shape, log_var.shape"
      ]
    },
    {
      "cell_type": "code",
      "execution_count": null,
      "id": "ff3a75d4-c742-4d83-b755-fe639471e1de",
      "metadata": {
        "id": "ff3a75d4-c742-4d83-b755-fe639471e1de"
      },
      "outputs": [],
      "source": [
        "del recon_images, mu, log_var"
      ]
    },
    {
      "cell_type": "code",
      "execution_count": null,
      "id": "3d18f7c4-8418-4aad-8cd1-90ef0bc2734f",
      "metadata": {
        "id": "3d18f7c4-8418-4aad-8cd1-90ef0bc2734f"
      },
      "outputs": [],
      "source": [
        ""
      ]
    },
    {
      "cell_type": "code",
      "execution_count": null,
      "id": "0af8c0c0-023c-4627-b9a8-135aa6243e2c",
      "metadata": {
        "id": "0af8c0c0-023c-4627-b9a8-135aa6243e2c"
      },
      "outputs": [],
      "source": [
        ""
      ]
    },
    {
      "cell_type": "code",
      "execution_count": 24,
      "id": "f11e6244-761a-4994-955c-1ced8fd23fde",
      "metadata": {
        "colab": {
          "base_uri": "https://localhost:8080/"
        },
        "id": "f11e6244-761a-4994-955c-1ced8fd23fde",
        "outputId": "76ba9c50-4280-4bed-842e-5bf40557a4ac"
      },
      "outputs": [
        {
          "output_type": "stream",
          "name": "stdout",
          "text": [
            "Adam optimizer with learning rate = 0.001 will be used\n"
          ]
        }
      ],
      "source": [
        "print(f\"Adam optimizer with learning rate = {learning_rate} will be used\")"
      ]
    },
    {
      "cell_type": "code",
      "execution_count": 25,
      "id": "8eb045e5-fa5b-4053-a590-d6e46009eef7",
      "metadata": {
        "id": "8eb045e5-fa5b-4053-a590-d6e46009eef7"
      },
      "outputs": [],
      "source": [
        "# Define gradient descent optimizer-\n",
        "optimizer = torch.optim.Adam(model.parameters(), lr = learning_rate)"
      ]
    },
    {
      "cell_type": "code",
      "execution_count": 26,
      "id": "787d9698-7999-4b7e-bfe3-3cb933254a17",
      "metadata": {
        "id": "787d9698-7999-4b7e-bfe3-3cb933254a17"
      },
      "outputs": [],
      "source": [
        "# Reconstruction loss-\n",
        "# criterion = nn.BCELoss(reduction = 'sum')\n",
        "\n",
        "# Note: reduction='sum' is used for the BCELoss(). If you read the PyTorch documentations, then this is\n",
        "# specifically for the case of autoencoders only.\n",
        "\n",
        "# Also, MSE loss could also be used-\n",
        "criterion = nn.MSELoss(reduction = 'sum')"
      ]
    },
    {
      "cell_type": "code",
      "execution_count": null,
      "id": "59e964b6-1abe-4a5e-92c0-10390a440c3a",
      "metadata": {
        "id": "59e964b6-1abe-4a5e-92c0-10390a440c3a"
      },
      "outputs": [],
      "source": [
        ""
      ]
    },
    {
      "cell_type": "code",
      "execution_count": 27,
      "id": "f64c085e-aba2-4a72-b17d-3b4de26808b4",
      "metadata": {
        "id": "f64c085e-aba2-4a72-b17d-3b4de26808b4"
      },
      "outputs": [],
      "source": [
        "def total_loss(reconstruction_loss, mu, log_var, alpha = 1):\n",
        "    '''\n",
        "    Function to add reconstruction loss and KL-Divergence loss.\n",
        "    KL-Divergence = 0.5 * sum(1 + log(sigma^2) - mu^2 - sigma^2)\n",
        "    \n",
        "    Inputs:\n",
        "    1. recontruction loss - BCE or MSE loss\n",
        "    2. mu: mean from the latent vector\n",
        "    3. logvar: log variance from the latent vector\n",
        "    4. alpha (int): Hyperparameter to control the importance of reconstruction\n",
        "    loss vs KL-Divergence Loss.\n",
        "    '''\n",
        "    KLD = -0.5 * torch.sum(1 + log_var - mu.pow(2) - log_var.exp())\n",
        "    \n",
        "    # final_loss = reconstruction_loss + KLD\n",
        "    final_loss = (reconstruction_loss * alpha) + KLD\n",
        "    \n",
        "    return final_loss\n"
      ]
    },
    {
      "cell_type": "code",
      "execution_count": null,
      "id": "157ee991-37e0-4d84-a2aa-f3dfa6cddb15",
      "metadata": {
        "id": "157ee991-37e0-4d84-a2aa-f3dfa6cddb15"
      },
      "outputs": [],
      "source": [
        ""
      ]
    },
    {
      "cell_type": "code",
      "execution_count": null,
      "id": "a5aee2cd-b598-4731-9577-93103e6c8e88",
      "metadata": {
        "id": "a5aee2cd-b598-4731-9577-93103e6c8e88"
      },
      "outputs": [],
      "source": [
        ""
      ]
    },
    {
      "cell_type": "code",
      "execution_count": 28,
      "id": "03f9f120-28e9-4e4a-a3dd-98e1061a03a6",
      "metadata": {
        "id": "03f9f120-28e9-4e4a-a3dd-98e1061a03a6"
      },
      "outputs": [],
      "source": [
        "def train_one_epoch(model, dataloader, alpha):\n",
        "    \n",
        "    # Place model to device-\n",
        "    model.to(device)\n",
        "    \n",
        "    # Enable training mode-\n",
        "    model.train()\n",
        "    \n",
        "    running_loss = 0.0\n",
        "    \n",
        "    for i, data in tqdm(enumerate(dataloader), total = int(len(train_dataset) / dataloader.batch_size)):\n",
        "        data, _ = data\n",
        "        data = data.to(device)\n",
        "        \n",
        "        # Flatten input data to feed into a dense layer-\n",
        "        # data = data.view(data.size(0), -1)\n",
        "        \n",
        "        # Empty accumulated gradients-\n",
        "        optimizer.zero_grad()\n",
        "        \n",
        "        # Perform forward propagation-\n",
        "        reconstruction, mu, logvar = model(data)\n",
        "        \n",
        "        # Compute reconstruction loss-\n",
        "        recon_loss = criterion(reconstruction, data)\n",
        "        \n",
        "        # Compute final loss-\n",
        "        loss = total_loss(recon_loss, mu, logvar, alpha)\n",
        "        \n",
        "        # Update loss-\n",
        "        running_loss += loss.item()\n",
        "        \n",
        "        # Compute gradients wrt loss-\n",
        "        loss.backward()\n",
        "        \n",
        "        # Perform gradient descent-\n",
        "        optimizer.step()\n",
        "        \n",
        "    train_loss = running_loss/len(dataloader.dataset)\n",
        "    \n",
        "    return train_loss, mu, logvar\n"
      ]
    },
    {
      "cell_type": "code",
      "execution_count": null,
      "id": "a4126525-a389-4c83-8648-81e3dca98309",
      "metadata": {
        "id": "a4126525-a389-4c83-8648-81e3dca98309"
      },
      "outputs": [],
      "source": [
        ""
      ]
    },
    {
      "cell_type": "code",
      "execution_count": 29,
      "id": "9a030239-e970-424f-a1fe-b16690622673",
      "metadata": {
        "id": "9a030239-e970-424f-a1fe-b16690622673"
      },
      "outputs": [],
      "source": [
        "def validate_one_epoch(model, dataloader, alpha):\n",
        "    \n",
        "    # Place model to device-\n",
        "    model.to(device)\n",
        "    \n",
        "    # Enable evaluation mode-\n",
        "    model.eval()\n",
        "    \n",
        "    running_loss = 0.0\n",
        "    \n",
        "    with torch.no_grad():\n",
        "        for i, data in tqdm(enumerate(dataloader), total = int(len(test_dataset) / dataloader.batch_size)):\n",
        "            data, _ = data\n",
        "            data = data.to(device)\n",
        "            \n",
        "            # Flatten data to feed into a dense layer-\n",
        "            # data = data.view(data.size(0), -1)\n",
        "            \n",
        "            # Forward propagation-\n",
        "            reconstruction, mu, logvar = model(data)\n",
        "            \n",
        "            # Compute reconstruction loss-\n",
        "            recon_loss = criterion(reconstruction, data)\n",
        "            \n",
        "            # Compute total loss-\n",
        "            loss = total_loss(recon_loss, mu, logvar, alpha)\n",
        "            \n",
        "            # Update loss-\n",
        "            running_loss += loss.item()\n",
        "\n",
        "            '''\n",
        "            # save the last batch input and output of every epoch\n",
        "            if i == int(len(test_dataset) / dataloader.batch_size) - 1:\n",
        "                num_rows = 8\n",
        "                both = torch.cat((data.view(batch_size, 1, 28, 28)[:8], \n",
        "                                  reconstruction.view(batch_size, 1, 28, 28)[:8]))\n",
        "                save_image(both.cpu(), f\"../outputs/output{epoch}.png\", nrow=num_rows)\n",
        "            '''\n",
        "            \n",
        "    val_loss = running_loss / len(dataloader.dataset)\n",
        "    \n",
        "    return val_loss, mu, logvar\n"
      ]
    },
    {
      "cell_type": "code",
      "execution_count": null,
      "id": "df263f24-1a96-4b1b-b066-623f9e56f76f",
      "metadata": {
        "id": "df263f24-1a96-4b1b-b066-623f9e56f76f"
      },
      "outputs": [],
      "source": [
        ""
      ]
    },
    {
      "cell_type": "code",
      "source": [
        "# alpha = 1"
      ],
      "metadata": {
        "id": "XpbMm0H8PPNT"
      },
      "id": "XpbMm0H8PPNT",
      "execution_count": null,
      "outputs": []
    },
    {
      "cell_type": "code",
      "execution_count": null,
      "id": "df7c4ede-b4e7-4dce-b342-78f0b7a6fec2",
      "metadata": {
        "id": "df7c4ede-b4e7-4dce-b342-78f0b7a6fec2"
      },
      "outputs": [],
      "source": [
        "# Sanity check-\n",
        "'''\n",
        "train_loss = train_one_epoch(\n",
        "    model = model, dataloader = train_loader,\n",
        "    alpha = alpha\n",
        "    )\n",
        "'''"
      ]
    },
    {
      "cell_type": "code",
      "execution_count": null,
      "id": "36f2c85c-de95-4d4e-8878-fac91b832dd1",
      "metadata": {
        "id": "36f2c85c-de95-4d4e-8878-fac91b832dd1",
        "outputId": "eb23d688-9c8d-4949-d168-72ce6f003ceb",
        "colab": {
          "base_uri": "https://localhost:8080/"
        }
      },
      "outputs": [
        {
          "output_type": "stream",
          "name": "stderr",
          "text": [
            "157it [00:09, 16.04it/s]                         \n"
          ]
        }
      ],
      "source": [
        "# Sanity check-\n",
        "'''\n",
        "test_loss = validate_one_epoch(\n",
        "    model = model, dataloader = test_loader,\n",
        "    alpha = alpha\n",
        "    )\n",
        "'''"
      ]
    },
    {
      "cell_type": "code",
      "execution_count": null,
      "id": "3e999296-c9b0-44a7-b137-f4e1869c1889",
      "metadata": {
        "id": "3e999296-c9b0-44a7-b137-f4e1869c1889",
        "outputId": "47954a9b-bfa7-4ec2-f9e3-351453022d6e",
        "colab": {
          "base_uri": "https://localhost:8080/"
        }
      },
      "outputs": [
        {
          "output_type": "stream",
          "name": "stdout",
          "text": [
            "train loss = 21299.9876 & test loss = 21293.4824\n"
          ]
        }
      ],
      "source": [
        "# print(f\"train loss = {train_loss:.4f} & test loss = {test_loss:.4f}\")"
      ]
    },
    {
      "cell_type": "code",
      "execution_count": null,
      "id": "3fc03399-f103-4744-be1d-3b5a318041bf",
      "metadata": {
        "id": "3fc03399-f103-4744-be1d-3b5a318041bf"
      },
      "outputs": [],
      "source": [
        ""
      ]
    },
    {
      "cell_type": "code",
      "execution_count": null,
      "id": "d764ab87-e775-469d-a423-5949ba2ef641",
      "metadata": {
        "id": "d764ab87-e775-469d-a423-5949ba2ef641"
      },
      "outputs": [],
      "source": [
        ""
      ]
    },
    {
      "cell_type": "code",
      "execution_count": 30,
      "id": "bbfcaf9d-e34e-4518-8dd5-7b9415f4502b",
      "metadata": {
        "id": "bbfcaf9d-e34e-4518-8dd5-7b9415f4502b"
      },
      "outputs": [],
      "source": [
        "# Specify alpha - Hyperparameter to control the importance of reconstruction\n",
        "# loss vs KL-Divergence Loss-\n",
        "alpha = 1"
      ]
    },
    {
      "cell_type": "code",
      "execution_count": null,
      "id": "d5680d41-651e-41c9-84fd-5ba5dd845a04",
      "metadata": {
        "id": "d5680d41-651e-41c9-84fd-5ba5dd845a04"
      },
      "outputs": [],
      "source": [
        ""
      ]
    },
    {
      "cell_type": "code",
      "execution_count": 31,
      "id": "6fb16c17-d884-4d85-bc85-8df9c84c8de2",
      "metadata": {
        "id": "6fb16c17-d884-4d85-bc85-8df9c84c8de2"
      },
      "outputs": [],
      "source": [
        "# Python dict to contain training metrics-\n",
        "train_history = {}"
      ]
    },
    {
      "cell_type": "code",
      "source": [
        "print(f\"Training VAE model for {num_epochs} epochs\")"
      ],
      "metadata": {
        "colab": {
          "base_uri": "https://localhost:8080/"
        },
        "id": "nhMY1nkiElZG",
        "outputId": "f6497f64-a535-4c57-b41b-07a9695bb5c4"
      },
      "id": "nhMY1nkiElZG",
      "execution_count": 32,
      "outputs": [
        {
          "output_type": "stream",
          "name": "stdout",
          "text": [
            "Training VAE model for 50 epochs\n"
          ]
        }
      ]
    },
    {
      "cell_type": "code",
      "source": [
        ""
      ],
      "metadata": {
        "id": "t0PibAAJEots"
      },
      "id": "t0PibAAJEots",
      "execution_count": null,
      "outputs": []
    },
    {
      "cell_type": "code",
      "execution_count": 33,
      "id": "8a71980b-7296-4f21-83f4-9ffaf76f2234",
      "metadata": {
        "colab": {
          "base_uri": "https://localhost:8080/",
          "height": 979
        },
        "id": "8a71980b-7296-4f21-83f4-9ffaf76f2234",
        "outputId": "1eb6c041-6ceb-496c-a58e-0042b1b00f92"
      },
      "outputs": [
        {
          "output_type": "stream",
          "name": "stderr",
          "text": [
            "782it [02:22,  5.49it/s]\n",
            "157it [00:12, 12.86it/s]                         \n"
          ]
        },
        {
          "output_type": "stream",
          "name": "stdout",
          "text": [
            "Epoch = 1; train loss = 6379.1685,test loss = 4776.8861, train_logvar = 0.001016, train_mu = 0.000182, val_logvar = 0.001007 & val_mu = 0.000172\n"
          ]
        },
        {
          "output_type": "stream",
          "name": "stderr",
          "text": [
            "782it [02:21,  5.53it/s]\n",
            "157it [00:12, 12.78it/s]                         \n"
          ]
        },
        {
          "output_type": "stream",
          "name": "stdout",
          "text": [
            "Epoch = 2; train loss = 6369.2239,test loss = 4776.8856, train_logvar = 0.000027, train_mu = 0.000003, val_logvar = 0.000029 & val_mu = -0.000000\n"
          ]
        },
        {
          "output_type": "stream",
          "name": "stderr",
          "text": [
            "782it [02:21,  5.54it/s]\n",
            "157it [00:12, 12.89it/s]                         \n"
          ]
        },
        {
          "output_type": "stream",
          "name": "stdout",
          "text": [
            "Epoch = 3; train loss = 6368.6680,test loss = 4776.8856, train_logvar = -0.000001, train_mu = 0.000012, val_logvar = -0.000004 & val_mu = 0.000039\n"
          ]
        },
        {
          "output_type": "stream",
          "name": "stderr",
          "text": [
            "782it [02:23,  5.45it/s]\n",
            "157it [00:12, 12.78it/s]                         \n"
          ]
        },
        {
          "output_type": "stream",
          "name": "stdout",
          "text": [
            "Epoch = 4; train loss = 6369.8587,test loss = 4776.8856, train_logvar = 0.000005, train_mu = -0.000010, val_logvar = 0.000018 & val_mu = -0.000044\n"
          ]
        },
        {
          "output_type": "stream",
          "name": "stderr",
          "text": [
            "782it [02:22,  5.48it/s]\n",
            "157it [00:12, 12.85it/s]                         \n"
          ]
        },
        {
          "output_type": "stream",
          "name": "stdout",
          "text": [
            "Epoch = 5; train loss = 6365.1827,test loss = 4776.8856, train_logvar = -0.000005, train_mu = 0.000023, val_logvar = -0.000006 & val_mu = 0.000043\n"
          ]
        },
        {
          "output_type": "stream",
          "name": "stderr",
          "text": [
            "782it [02:21,  5.53it/s]\n",
            "157it [00:12, 12.81it/s]                         \n"
          ]
        },
        {
          "output_type": "stream",
          "name": "stdout",
          "text": [
            "Epoch = 6; train loss = 6370.2585,test loss = 4776.8856, train_logvar = 0.000007, train_mu = -0.000003, val_logvar = 0.000002 & val_mu = 0.000012\n"
          ]
        },
        {
          "output_type": "stream",
          "name": "stderr",
          "text": [
            "782it [02:21,  5.53it/s]\n",
            "157it [00:12, 12.85it/s]                         \n"
          ]
        },
        {
          "output_type": "stream",
          "name": "stdout",
          "text": [
            "Epoch = 7; train loss = 6370.9306,test loss = 4776.8856, train_logvar = 0.000003, train_mu = -0.000062, val_logvar = 0.000008 & val_mu = -0.000119\n"
          ]
        },
        {
          "output_type": "stream",
          "name": "stderr",
          "text": [
            "782it [02:23,  5.45it/s]\n",
            "157it [00:12, 12.88it/s]                         \n"
          ]
        },
        {
          "output_type": "stream",
          "name": "stdout",
          "text": [
            "Epoch = 8; train loss = 6368.0712,test loss = 4776.8856, train_logvar = 0.000026, train_mu = -0.000058, val_logvar = 0.000040 & val_mu = -0.000091\n"
          ]
        },
        {
          "output_type": "stream",
          "name": "stderr",
          "text": [
            "782it [02:22,  5.49it/s]\n",
            "157it [00:12, 12.79it/s]                         \n"
          ]
        },
        {
          "output_type": "stream",
          "name": "stdout",
          "text": [
            "Epoch = 9; train loss = 6364.9516,test loss = 4776.8856, train_logvar = 0.000002, train_mu = -0.000015, val_logvar = 0.000013 & val_mu = -0.000037\n"
          ]
        },
        {
          "output_type": "stream",
          "name": "stderr",
          "text": [
            "782it [02:21,  5.53it/s]\n",
            "157it [00:12, 12.82it/s]                         \n"
          ]
        },
        {
          "output_type": "stream",
          "name": "stdout",
          "text": [
            "Epoch = 10; train loss = 6363.6801,test loss = 4776.8856, train_logvar = 0.000013, train_mu = -0.000024, val_logvar = 0.000020 & val_mu = -0.000033\n"
          ]
        },
        {
          "output_type": "stream",
          "name": "stderr",
          "text": [
            " 52%|█████▏    | 407/781 [01:13<01:07,  5.52it/s]\n"
          ]
        },
        {
          "output_type": "error",
          "ename": "KeyboardInterrupt",
          "evalue": "ignored",
          "traceback": [
            "\u001b[0;31m---------------------------------------------------------------------------\u001b[0m",
            "\u001b[0;31mKeyboardInterrupt\u001b[0m                         Traceback (most recent call last)",
            "\u001b[0;32m<ipython-input-33-422995f24ee4>\u001b[0m in \u001b[0;36m<module>\u001b[0;34m()\u001b[0m\n\u001b[1;32m      2\u001b[0m     train_epoch_loss, mu_train, logvar_train = train_one_epoch(\n\u001b[1;32m      3\u001b[0m         \u001b[0mmodel\u001b[0m \u001b[0;34m=\u001b[0m \u001b[0mmodel\u001b[0m\u001b[0;34m,\u001b[0m \u001b[0mdataloader\u001b[0m \u001b[0;34m=\u001b[0m \u001b[0mtrain_loader\u001b[0m\u001b[0;34m,\u001b[0m\u001b[0;34m\u001b[0m\u001b[0;34m\u001b[0m\u001b[0m\n\u001b[0;32m----> 4\u001b[0;31m         \u001b[0malpha\u001b[0m \u001b[0;34m=\u001b[0m \u001b[0malpha\u001b[0m\u001b[0;34m\u001b[0m\u001b[0;34m\u001b[0m\u001b[0m\n\u001b[0m\u001b[1;32m      5\u001b[0m     )\n\u001b[1;32m      6\u001b[0m \u001b[0;34m\u001b[0m\u001b[0m\n",
            "\u001b[0;32m<ipython-input-28-7960e5a9a973>\u001b[0m in \u001b[0;36mtrain_one_epoch\u001b[0;34m(model, dataloader, alpha)\u001b[0m\n\u001b[1;32m     29\u001b[0m \u001b[0;34m\u001b[0m\u001b[0m\n\u001b[1;32m     30\u001b[0m         \u001b[0;31m# Update loss-\u001b[0m\u001b[0;34m\u001b[0m\u001b[0;34m\u001b[0m\u001b[0;34m\u001b[0m\u001b[0m\n\u001b[0;32m---> 31\u001b[0;31m         \u001b[0mrunning_loss\u001b[0m \u001b[0;34m+=\u001b[0m \u001b[0mloss\u001b[0m\u001b[0;34m.\u001b[0m\u001b[0mitem\u001b[0m\u001b[0;34m(\u001b[0m\u001b[0;34m)\u001b[0m\u001b[0;34m\u001b[0m\u001b[0;34m\u001b[0m\u001b[0m\n\u001b[0m\u001b[1;32m     32\u001b[0m \u001b[0;34m\u001b[0m\u001b[0m\n\u001b[1;32m     33\u001b[0m         \u001b[0;31m# Compute gradients wrt loss-\u001b[0m\u001b[0;34m\u001b[0m\u001b[0;34m\u001b[0m\u001b[0;34m\u001b[0m\u001b[0m\n",
            "\u001b[0;31mKeyboardInterrupt\u001b[0m: "
          ]
        }
      ],
      "source": [
        "for epoch in range(1, num_epochs + 1):\n",
        "    train_epoch_loss, mu_train, logvar_train = train_one_epoch(\n",
        "        model = model, dataloader = train_loader,\n",
        "        alpha = alpha\n",
        "    )\n",
        "\n",
        "    val_epoch_loss, mu_val, logvar_val = validate_one_epoch(\n",
        "        model = model, dataloader = test_loader,\n",
        "        alpha = alpha\n",
        "    )\n",
        "\n",
        "    logvar_train = logvar_train.mean().detach().cpu().numpy()\n",
        "    logvar_val = logvar_val.mean().detach().cpu().numpy()\n",
        "    mu_train = mu_train.mean().detach().cpu().numpy()\n",
        "    mu_val = mu_val.mean().detach().cpu().numpy()\n",
        "\n",
        "    train_history[epoch] = {\n",
        "        'train_loss': train_epoch_loss,\n",
        "        'val_loss': val_epoch_loss,\n",
        "        'train_logvar': logvar_train,\n",
        "        'val_logvar': logvar_val,\n",
        "        'train_mu': mu_train,\n",
        "        'val_mu': mu_val\n",
        "    }\n",
        "\n",
        "    print(f\"Epoch = {epoch}; train loss = {train_epoch_loss:.4f},\"\n",
        "    f\"test loss = {val_epoch_loss:.4f}, train_logvar = {logvar_train:.6f}\"\n",
        "    f\", train_mu = {mu_train:.6f}, val_logvar = {logvar_val:.6f} &\"\n",
        "    f\" val_mu = {mu_val:.6f}\")\n",
        "    "
      ]
    },
    {
      "cell_type": "code",
      "source": [
        ""
      ],
      "metadata": {
        "id": "tqNNvrFjGXLn"
      },
      "id": "tqNNvrFjGXLn",
      "execution_count": null,
      "outputs": []
    },
    {
      "cell_type": "code",
      "execution_count": null,
      "id": "156dec76-37a6-4791-b65f-302a0d7cc167",
      "metadata": {
        "id": "156dec76-37a6-4791-b65f-302a0d7cc167"
      },
      "outputs": [],
      "source": [
        ""
      ]
    },
    {
      "cell_type": "code",
      "execution_count": null,
      "id": "e6b7b73c-da68-4d41-95a1-d88bc1a85e1b",
      "metadata": {
        "id": "e6b7b73c-da68-4d41-95a1-d88bc1a85e1b"
      },
      "outputs": [],
      "source": [
        "# Save trained VAE model's weights-\n",
        "torch.save(model.state_dict(), 'VAE_Conv_CIFAR10_Trained_Weights.pth')"
      ]
    },
    {
      "cell_type": "code",
      "execution_count": null,
      "id": "d39c6ca2-552c-42b9-bd55-f7a0da7f076b",
      "metadata": {
        "id": "d39c6ca2-552c-42b9-bd55-f7a0da7f076b"
      },
      "outputs": [],
      "source": [
        "# Load trained weights from before-\n",
        "# loaded_model = VAE_Dense(latent_space = 5).to(device)\n",
        "# loaded_model.load_state_dict(torch.load('VAE_Conv_CIFAR10_Trained_Weights', map_location = torch.device('cpu')))"
      ]
    },
    {
      "cell_type": "code",
      "execution_count": null,
      "id": "32ceef18-bf04-40e0-a3b9-09332af446d2",
      "metadata": {
        "id": "32ceef18-bf04-40e0-a3b9-09332af446d2"
      },
      "outputs": [],
      "source": [
        "# Define gradient descent optimizer-\n",
        "# optimizer = torch.optim.Adam(loaded_model.parameters(), lr = learning_rate)"
      ]
    },
    {
      "cell_type": "code",
      "execution_count": null,
      "id": "c0494cc3-3059-46e7-ab85-c4d04fd37960",
      "metadata": {
        "id": "c0494cc3-3059-46e7-ab85-c4d04fd37960"
      },
      "outputs": [],
      "source": [
        ""
      ]
    },
    {
      "cell_type": "code",
      "execution_count": null,
      "id": "f7ede4f1-a757-4c47-91eb-280828a40489",
      "metadata": {
        "id": "f7ede4f1-a757-4c47-91eb-280828a40489"
      },
      "outputs": [],
      "source": [
        "import pickle\n",
        "\n",
        "# Save training history as pickle file-\n",
        "with open(\"VAE_Conv_CIFAR10_training_history.pkl\", \"wb\") as file:\n",
        "    pickle.dump(train_history, file)"
      ]
    },
    {
      "cell_type": "code",
      "execution_count": null,
      "id": "3b855080-7263-45a8-8c47-f6b94db50cf4",
      "metadata": {
        "id": "3b855080-7263-45a8-8c47-f6b94db50cf4"
      },
      "outputs": [],
      "source": [
        "'''\n",
        "# Load training history from pickle file-\n",
        "with open(\"VAE_Conv_CIFAR10_training_history.pkl\", \"rb\") as file:\n",
        "    training_history_lr_scheduler = pickle.load(file)\n",
        "'''"
      ]
    },
    {
      "cell_type": "code",
      "execution_count": null,
      "id": "e6cb576e-d042-476c-851e-8e5bc8ab833b",
      "metadata": {
        "id": "e6cb576e-d042-476c-851e-8e5bc8ab833b"
      },
      "outputs": [],
      "source": [
        ""
      ]
    },
    {
      "cell_type": "code",
      "execution_count": null,
      "id": "8abd0a72-b722-4b88-8928-6b3e30f8b07f",
      "metadata": {
        "colab": {
          "base_uri": "https://localhost:8080/",
          "height": 444
        },
        "id": "8abd0a72-b722-4b88-8928-6b3e30f8b07f",
        "outputId": "08c7c039-3ef3-4a39-c1c0-0ed0ac6aa54f"
      },
      "outputs": [
        {
          "output_type": "display_data",
          "data": {
            "image/png": "[encoded data removed]",
            "text/plain": [
              "<Figure size 648x504 with 1 Axes>"
            ]
          },
          "metadata": {
            "needs_background": "light"
          }
        }
      ],
      "source": [
        "# VAE Training Visualization-\n",
        "plt.figure(figsize = (9, 7))\n",
        "plt.plot([train_history[x]['train_loss'] for x in train_history.keys()], label = 'train_loss')\n",
        "plt.plot([train_history[x]['val_loss'] for x in train_history.keys()], label = 'val_loss')\n",
        "plt.legend(loc = 'best')\n",
        "plt.title(\"VAE-Convolutional: CIFAR-10 Training Visualizations\")\n",
        "plt.show()"
      ]
    },
    {
      "cell_type": "code",
      "execution_count": null,
      "id": "cde9e68e-ab50-44d0-b518-66f43d5859c2",
      "metadata": {
        "id": "cde9e68e-ab50-44d0-b518-66f43d5859c2"
      },
      "outputs": [],
      "source": [
        ""
      ]
    },
    {
      "cell_type": "code",
      "execution_count": null,
      "id": "0cc651e6-a817-44f9-b004-b9ac1970f5d6",
      "metadata": {
        "id": "0cc651e6-a817-44f9-b004-b9ac1970f5d6"
      },
      "outputs": [],
      "source": [
        ""
      ]
    },
    {
      "cell_type": "markdown",
      "id": "0698a9e4-67bf-41a9-827f-9cb3a61149cc",
      "metadata": {
        "id": "0698a9e4-67bf-41a9-827f-9cb3a61149cc"
      },
      "source": [
        "### Reconstruct/Generate images using _trained_ VAE model:"
      ]
    },
    {
      "cell_type": "code",
      "execution_count": null,
      "id": "86e135bd-6f94-4cf6-a510-1f982577d6e2",
      "metadata": {
        "id": "86e135bd-6f94-4cf6-a510-1f982577d6e2"
      },
      "outputs": [],
      "source": [
        "images = images.to(device)"
      ]
    },
    {
      "cell_type": "code",
      "execution_count": null,
      "id": "f209a7f7-5678-44a8-85ef-107a3ea3935a",
      "metadata": {
        "id": "f209a7f7-5678-44a8-85ef-107a3ea3935a"
      },
      "outputs": [],
      "source": [
        "# Perform forward propagation-\n",
        "recon_images, mu, log_var = model(images)"
      ]
    },
    {
      "cell_type": "code",
      "execution_count": null,
      "id": "10aee1c7-4981-4d3a-b29c-5da864ecb916",
      "metadata": {
        "id": "10aee1c7-4981-4d3a-b29c-5da864ecb916"
      },
      "outputs": [],
      "source": [
        "# For CPU-\n",
        "recon_images = recon_images.detach().numpy()\n",
        "mu = mu.detach().numpy()\n",
        "log_var = log_var.detach().numpy()"
      ]
    },
    {
      "cell_type": "code",
      "execution_count": null,
      "id": "2c91d879-658f-41be-904a-a15b174c6193",
      "metadata": {
        "id": "2c91d879-658f-41be-904a-a15b174c6193"
      },
      "outputs": [],
      "source": [
        "recon_images.shape, mu.shape, log_var.shape"
      ]
    },
    {
      "cell_type": "code",
      "execution_count": null,
      "id": "9ddb7ac2-7706-4461-89c3-edfbb693c8a2",
      "metadata": {
        "id": "9ddb7ac2-7706-4461-89c3-edfbb693c8a2"
      },
      "outputs": [],
      "source": [
        ""
      ]
    },
    {
      "cell_type": "code",
      "source": [
        "# Unnormalize images-\n",
        "recon_images = recon_images / 2 + 0.5\n",
        "recon_images = np.transpose(recon_images, (0, 2, 3, 1))"
      ],
      "metadata": {
        "id": "5CEmRaxOnAeF"
      },
      "id": "5CEmRaxOnAeF",
      "execution_count": null,
      "outputs": []
    },
    {
      "cell_type": "code",
      "source": [
        "recon_images.shape"
      ],
      "metadata": {
        "colab": {
          "base_uri": "https://localhost:8080/"
        },
        "id": "kyg3MCSunFmt",
        "outputId": "ee427586-44fa-44f0-92de-9549eb273aa9"
      },
      "id": "kyg3MCSunFmt",
      "execution_count": null,
      "outputs": [
        {
          "output_type": "execute_result",
          "data": {
            "text/plain": [
              "(64, 32, 32, 3)"
            ]
          },
          "metadata": {},
          "execution_count": 119
        }
      ]
    },
    {
      "cell_type": "code",
      "source": [
        "plt.figure(figsize = (7, 6))\n",
        "plt.imshow(recon_images[0])\n",
        "plt.show()\n"
      ],
      "metadata": {
        "colab": {
          "base_uri": "https://localhost:8080/",
          "height": 374
        },
        "id": "JGJCTEx8nKhw",
        "outputId": "e689cd03-b690-4605-9704-f1628e8d3d02"
      },
      "id": "JGJCTEx8nKhw",
      "execution_count": null,
      "outputs": [
        {
          "output_type": "display_data",
          "data": {
            "image/png": "[encoded data removed]",
            "text/plain": [
              "<Figure size 504x432 with 1 Axes>"
            ]
          },
          "metadata": {
            "needs_background": "light"
          }
        }
      ]
    },
    {
      "cell_type": "code",
      "source": [
        "# Visualize 10 images from reconstructions-\n",
        "for i in range(10):\n",
        "    plt.subplot(2, 5, i + 1)    # 2 rows & 5 columns\n",
        "    plt.imshow(recon_images[i])\n",
        "    \n",
        "plt.suptitle(\"Reconstructed CIFAR-10 training images\")\n",
        "plt.show()\n"
      ],
      "metadata": {
        "colab": {
          "base_uri": "https://localhost:8080/",
          "height": 274
        },
        "id": "yAvxGKUHnON-",
        "outputId": "9b29cd64-60ea-465c-e2f9-ee7bde19ff6f"
      },
      "id": "yAvxGKUHnON-",
      "execution_count": null,
      "outputs": [
        {
          "output_type": "display_data",
          "data": {
            "image/png": "[encoded data removed]",
            "text/plain": [
              "<Figure size 432x288 with 10 Axes>"
            ]
          },
          "metadata": {
            "needs_background": "light"
          }
        }
      ]
    },
    {
      "cell_type": "code",
      "source": [
        ""
      ],
      "metadata": {
        "id": "CI-kZOL5nWeM"
      },
      "id": "CI-kZOL5nWeM",
      "execution_count": null,
      "outputs": []
    },
    {
      "cell_type": "code",
      "source": [
        ""
      ],
      "metadata": {
        "id": "isOg0XPRnAi8"
      },
      "id": "isOg0XPRnAi8",
      "execution_count": null,
      "outputs": []
    },
    {
      "cell_type": "code",
      "execution_count": null,
      "id": "d8b05dcd-0206-4e8c-96a5-bf9218083366",
      "metadata": {
        "id": "d8b05dcd-0206-4e8c-96a5-bf9218083366"
      },
      "outputs": [],
      "source": [
        "# FOR CUDA/GPU-\n",
        "recon_images = recon_images.detach().cpu().numpy()\n",
        "mu = mu.detach().cpu().numpy()\n",
        "log_var = log_var.detach().cpu().numpy()"
      ]
    },
    {
      "cell_type": "code",
      "execution_count": null,
      "id": "929d4052-c60e-4577-bf5e-18f7d48b29bc",
      "metadata": {
        "colab": {
          "base_uri": "https://localhost:8080/"
        },
        "id": "929d4052-c60e-4577-bf5e-18f7d48b29bc",
        "outputId": "f1530fc5-049b-41ae-a20d-016e05b28952"
      },
      "outputs": [
        {
          "output_type": "execute_result",
          "data": {
            "text/plain": [
              "(64, 3, 32, 32)"
            ]
          },
          "metadata": {},
          "execution_count": 83
        }
      ],
      "source": [
        "recon_images.shape"
      ]
    },
    {
      "cell_type": "code",
      "source": [
        ""
      ],
      "metadata": {
        "id": "wKGifaJgh9MQ"
      },
      "id": "wKGifaJgh9MQ",
      "execution_count": null,
      "outputs": []
    },
    {
      "cell_type": "code",
      "source": [
        "mu[mu > 0.0002].shape"
      ],
      "metadata": {
        "colab": {
          "base_uri": "https://localhost:8080/"
        },
        "id": "a5Zuy8okh-8w",
        "outputId": "4c045320-84c9-4cf9-e108-50d59161e34a"
      },
      "id": "a5Zuy8okh-8w",
      "execution_count": null,
      "outputs": [
        {
          "output_type": "execute_result",
          "data": {
            "text/plain": [
              "(638,)"
            ]
          },
          "metadata": {},
          "execution_count": 108
        }
      ]
    },
    {
      "cell_type": "code",
      "source": [
        "log_var[log_var <= -0.001].shape"
      ],
      "metadata": {
        "colab": {
          "base_uri": "https://localhost:8080/"
        },
        "id": "6uAn0TDniBFI",
        "outputId": "61002326-fea6-410b-bd2d-aa8e61c17dc5"
      },
      "id": "6uAn0TDniBFI",
      "execution_count": null,
      "outputs": [
        {
          "output_type": "execute_result",
          "data": {
            "text/plain": [
              "(57,)"
            ]
          },
          "metadata": {},
          "execution_count": 116
        }
      ]
    },
    {
      "cell_type": "code",
      "source": [
        ""
      ],
      "metadata": {
        "id": "SPqAppJSiMpc"
      },
      "id": "SPqAppJSiMpc",
      "execution_count": null,
      "outputs": []
    },
    {
      "cell_type": "code",
      "source": [
        "mu.shape"
      ],
      "metadata": {
        "colab": {
          "base_uri": "https://localhost:8080/"
        },
        "id": "SeYzCUO4gvkL",
        "outputId": "9e29eb93-4c42-4c0f-fa6e-aa6fda3dad39"
      },
      "id": "SeYzCUO4gvkL",
      "execution_count": null,
      "outputs": [
        {
          "output_type": "execute_result",
          "data": {
            "text/plain": [
              "(64, 20)"
            ]
          },
          "metadata": {},
          "execution_count": 93
        }
      ]
    },
    {
      "cell_type": "code",
      "source": [
        "plt.figure(figsize = (9, 7))\n",
        "plt.scatter(x = mu[:, 2], y = mu[:, 3])\n",
        "plt.show()"
      ],
      "metadata": {
        "colab": {
          "base_uri": "https://localhost:8080/",
          "height": 428
        },
        "id": "b1BnoBNQgwrD",
        "outputId": "6e85b515-ed25-4aee-895d-76b351794fc2"
      },
      "id": "b1BnoBNQgwrD",
      "execution_count": null,
      "outputs": [
        {
          "output_type": "display_data",
          "data": {
            "image/png": "[encoded data removed]",
            "text/plain": [
              "<Figure size 648x504 with 1 Axes>"
            ]
          },
          "metadata": {
            "needs_background": "light"
          }
        }
      ]
    },
    {
      "cell_type": "code",
      "source": [
        "plt.figure(figsize = (9, 7))\n",
        "plt.scatter(x = log_var[:, 2], y = log_var[:, 3])\n",
        "plt.show()"
      ],
      "metadata": {
        "colab": {
          "base_uri": "https://localhost:8080/",
          "height": 428
        },
        "id": "-gWgveqWhEKE",
        "outputId": "15d6bda7-e105-433c-d0a4-2ac0e21947c4"
      },
      "id": "-gWgveqWhEKE",
      "execution_count": null,
      "outputs": [
        {
          "output_type": "display_data",
          "data": {
            "image/png": "[encoded data removed]",
            "text/plain": [
              "<Figure size 648x504 with 1 Axes>"
            ]
          },
          "metadata": {
            "needs_background": "light"
          }
        }
      ]
    },
    {
      "cell_type": "code",
      "source": [
        ""
      ],
      "metadata": {
        "id": "D1CeZbwThKdQ"
      },
      "id": "D1CeZbwThKdQ",
      "execution_count": null,
      "outputs": []
    },
    {
      "cell_type": "code",
      "source": [
        ""
      ],
      "metadata": {
        "id": "WIyH3Hk8g_bE"
      },
      "id": "WIyH3Hk8g_bE",
      "execution_count": null,
      "outputs": []
    },
    {
      "cell_type": "code",
      "source": [
        ""
      ],
      "metadata": {
        "id": "6bGPIAyYg6J3"
      },
      "id": "6bGPIAyYg6J3",
      "execution_count": null,
      "outputs": []
    },
    {
      "cell_type": "code",
      "source": [
        ""
      ],
      "metadata": {
        "id": "KmVB27P9gyJ5"
      },
      "id": "KmVB27P9gyJ5",
      "execution_count": null,
      "outputs": []
    },
    {
      "cell_type": "code",
      "execution_count": null,
      "id": "f406200d-f733-494b-b02f-3103dca7d86d",
      "metadata": {
        "id": "f406200d-f733-494b-b02f-3103dca7d86d"
      },
      "outputs": [],
      "source": [
        ""
      ]
    },
    {
      "cell_type": "code",
      "execution_count": null,
      "id": "077b2f05-e594-43ff-961b-eb730b28f150",
      "metadata": {
        "id": "077b2f05-e594-43ff-961b-eb730b28f150"
      },
      "outputs": [],
      "source": [
        "# Print 10 images from training set-\n",
        "for i in range(10):\n",
        "    plt.subplot(2, 5, i + 1)    # 2 rows & 5 columns\n",
        "    plt.imshow(images[i][0].cpu(), cmap = 'gray')     # '0' to access first channel\n",
        "    \n",
        "plt.suptitle(\"Sample CIFAR-10 training images\")\n",
        "plt.show()"
      ]
    },
    {
      "cell_type": "code",
      "execution_count": null,
      "id": "dfc2d1c5-20d3-435f-9783-5b8b8ced6e60",
      "metadata": {
        "id": "dfc2d1c5-20d3-435f-9783-5b8b8ced6e60"
      },
      "outputs": [],
      "source": [
        "# Print 10 images from reconstructions-\n",
        "for i in range(10):\n",
        "    plt.subplot(2, 5, i + 1)    # 2 rows & 5 columns\n",
        "    # plt.imshow(recon_images[i][0].cpu().detach().numpy(), cmap = 'gray')     # '0' to access first channel\n",
        "    plt.imshow(recon_images[i][0], cmap = 'gray')\n",
        "    \n",
        "plt.suptitle(\"Sample CIFAR-10 reconstructed images\")\n",
        "plt.show()"
      ]
    },
    {
      "cell_type": "code",
      "execution_count": null,
      "id": "989feaa8-4847-4cfd-af77-60a81292bb27",
      "metadata": {
        "id": "989feaa8-4847-4cfd-af77-60a81292bb27"
      },
      "outputs": [],
      "source": [
        ""
      ]
    },
    {
      "cell_type": "code",
      "execution_count": null,
      "id": "b2e60344-3291-4f80-a284-9481bcf7f5ec",
      "metadata": {
        "id": "b2e60344-3291-4f80-a284-9481bcf7f5ec"
      },
      "outputs": [],
      "source": [
        "# Print 50 images from reconstructions-\n",
        "plt.figure(figsize = (9, 7))\n",
        "\n",
        "for i in range(50):\n",
        "    plt.subplot(10, 5, i + 1)    # 10 rows & 5 columns\n",
        "    # plt.imshow(recon_images[i][0].cpu().detach().numpy(), cmap = 'gray')     # '0' to access first channel\n",
        "    plt.imshow(recon_images[i][0], cmap = 'gray')\n",
        "    \n",
        "plt.suptitle(\"Sample CIFAR-10 reconstructed images\")\n",
        "plt.show()"
      ]
    },
    {
      "cell_type": "code",
      "execution_count": null,
      "id": "a7f6e0cd-d576-47fc-82bf-4a842b801c60",
      "metadata": {
        "id": "a7f6e0cd-d576-47fc-82bf-4a842b801c60"
      },
      "outputs": [],
      "source": [
        ""
      ]
    },
    {
      "cell_type": "code",
      "execution_count": null,
      "id": "437cf8ed-8713-4146-a62a-07481ca3063a",
      "metadata": {
        "id": "437cf8ed-8713-4146-a62a-07481ca3063a"
      },
      "outputs": [],
      "source": [
        ""
      ]
    },
    {
      "cell_type": "code",
      "execution_count": null,
      "id": "be2b5cf7-a219-42dd-946b-bd3b74a78824",
      "metadata": {
        "id": "be2b5cf7-a219-42dd-946b-bd3b74a78824"
      },
      "outputs": [],
      "source": [
        "'''\n",
        "# Iterating over train loader-\n",
        "for img, label in train_loader:\n",
        "    print(img.shape, label.shape)\n",
        "'''"
      ]
    },
    {
      "cell_type": "code",
      "execution_count": null,
      "id": "238fa76d-efe4-4954-a03b-949355c7c2ee",
      "metadata": {
        "id": "238fa76d-efe4-4954-a03b-949355c7c2ee"
      },
      "outputs": [],
      "source": [
        ""
      ]
    },
    {
      "cell_type": "code",
      "execution_count": null,
      "id": "f8ff5514-6fba-4f01-ab61-eff8d34efa60",
      "metadata": {
        "id": "f8ff5514-6fba-4f01-ab61-eff8d34efa60"
      },
      "outputs": [],
      "source": [
        "# Get a batch of training data & it's corresponding labels-\n",
        "images, labels = next(iter(train_loader))\n",
        "images = images.to(device)"
      ]
    },
    {
      "cell_type": "code",
      "execution_count": null,
      "id": "bfb9c311-1fe5-4033-ab4c-6f883e92f552",
      "metadata": {
        "id": "bfb9c311-1fe5-4033-ab4c-6f883e92f552"
      },
      "outputs": [],
      "source": [
        "# Perform forward propagation-\n",
        "recon_images, mu, log_var = model(images)"
      ]
    },
    {
      "cell_type": "code",
      "execution_count": null,
      "id": "d9bd9d44-b946-4a9f-9ad0-50cfde19494a",
      "metadata": {
        "id": "d9bd9d44-b946-4a9f-9ad0-50cfde19494a"
      },
      "outputs": [],
      "source": [
        "# FOR CUDA/GPU-\n",
        "recon_images = recon_images.detach().cpu().numpy()\n",
        "mu = mu.detach().cpu().numpy()\n",
        "log_var = log_var.detach().cpu().numpy()"
      ]
    },
    {
      "cell_type": "code",
      "execution_count": null,
      "id": "778d8199-645b-4fb4-98db-bbc7b5a4feb7",
      "metadata": {
        "id": "778d8199-645b-4fb4-98db-bbc7b5a4feb7"
      },
      "outputs": [],
      "source": [
        "recon_images.shape, mu.shape, log_var.shape"
      ]
    },
    {
      "cell_type": "code",
      "execution_count": null,
      "id": "c0d6bfe6-e953-455f-9208-1750f09ceefa",
      "metadata": {
        "id": "c0d6bfe6-e953-455f-9208-1750f09ceefa"
      },
      "outputs": [],
      "source": [
        ""
      ]
    },
    {
      "cell_type": "code",
      "execution_count": null,
      "id": "4de7d3c9-a4e2-4c24-a2eb-7741c201842b",
      "metadata": {
        "id": "4de7d3c9-a4e2-4c24-a2eb-7741c201842b"
      },
      "outputs": [],
      "source": [
        "!pip install umap-learn"
      ]
    },
    {
      "cell_type": "code",
      "execution_count": null,
      "id": "6c4bb058-331d-4d58-8e82-c9dcbb1795fa",
      "metadata": {
        "id": "6c4bb058-331d-4d58-8e82-c9dcbb1795fa"
      },
      "outputs": [],
      "source": [
        "import umap\n",
        "import umap.umap_ as umap"
      ]
    },
    {
      "cell_type": "code",
      "execution_count": null,
      "id": "435badc7-efbf-402a-a5c2-c9ae67a8fe05",
      "metadata": {
        "id": "435badc7-efbf-402a-a5c2-c9ae67a8fe05"
      },
      "outputs": [],
      "source": [
        "reducer = umap.UMAP(\n",
        "    n_neighbors = 15,\n",
        "    n_components = 3\n",
        ")"
      ]
    },
    {
      "cell_type": "code",
      "execution_count": null,
      "id": "aa4d4778-02a6-452c-ab56-4e9bbea85c2e",
      "metadata": {
        "colab": {
          "base_uri": "https://localhost:8080/"
        },
        "id": "aa4d4778-02a6-452c-ab56-4e9bbea85c2e",
        "outputId": "38255243-0c4e-4df7-deea-6a010f9c9897"
      },
      "outputs": [
        {
          "output_type": "stream",
          "name": "stderr",
          "text": [
            "/usr/local/lib/python3.7/dist-packages/numba/np/ufunc/parallel.py:363: NumbaWarning: The TBB threading layer requires TBB version 2019.5 or later i.e., TBB_INTERFACE_VERSION >= 11005. Found TBB_INTERFACE_VERSION = 9107. The TBB threading layer is disabled.\n",
            "  warnings.warn(problem)\n"
          ]
        },
        {
          "output_type": "execute_result",
          "data": {
            "text/plain": [
              "(64, 3)"
            ]
          },
          "metadata": {},
          "execution_count": 87
        }
      ],
      "source": [
        "embedding_mu = reducer.fit_transform(mu)\n",
        "embedding_mu.shape"
      ]
    },
    {
      "cell_type": "code",
      "execution_count": null,
      "id": "6cacf19a-cba4-4556-8c0c-8633d72bfb96",
      "metadata": {
        "id": "6cacf19a-cba4-4556-8c0c-8633d72bfb96"
      },
      "outputs": [],
      "source": [
        ""
      ]
    },
    {
      "cell_type": "code",
      "execution_count": null,
      "id": "d32212df-3210-4c53-b187-39c63f931f63",
      "metadata": {
        "id": "d32212df-3210-4c53-b187-39c63f931f63"
      },
      "outputs": [],
      "source": [
        "reducer_logvar = umap.UMAP(\n",
        "    n_neighbors = 15,\n",
        "    n_components = 3\n",
        ")"
      ]
    },
    {
      "cell_type": "code",
      "execution_count": null,
      "id": "c3149d53-467c-44ea-9a6b-556156a94351",
      "metadata": {
        "colab": {
          "base_uri": "https://localhost:8080/"
        },
        "id": "c3149d53-467c-44ea-9a6b-556156a94351",
        "outputId": "385bd428-6dd0-4af2-d92d-c68efb7d3e08"
      },
      "outputs": [
        {
          "output_type": "execute_result",
          "data": {
            "text/plain": [
              "(64, 3)"
            ]
          },
          "metadata": {},
          "execution_count": 89
        }
      ],
      "source": [
        "embedding_logvar = reducer.fit_transform(log_var)\n",
        "embedding_logvar.shape"
      ]
    },
    {
      "cell_type": "code",
      "execution_count": null,
      "id": "ea22e171-9c9e-40fb-9135-ad384b9a9010",
      "metadata": {
        "id": "ea22e171-9c9e-40fb-9135-ad384b9a9010"
      },
      "outputs": [],
      "source": [
        ""
      ]
    },
    {
      "cell_type": "code",
      "execution_count": null,
      "id": "f01d7be3-0f02-4c21-bad3-7b1c57697db6",
      "metadata": {
        "id": "f01d7be3-0f02-4c21-bad3-7b1c57697db6"
      },
      "outputs": [],
      "source": [
        "import plotly\n",
        "import plotly.express as px"
      ]
    },
    {
      "cell_type": "code",
      "execution_count": null,
      "id": "3462c4b2-db53-40b3-b7a5-a0027173776e",
      "metadata": {
        "id": "3462c4b2-db53-40b3-b7a5-a0027173776e"
      },
      "outputs": [],
      "source": [
        ""
      ]
    },
    {
      "cell_type": "code",
      "execution_count": null,
      "id": "94818963-9269-478a-9fe3-e0666eb4141d",
      "metadata": {
        "colab": {
          "base_uri": "https://localhost:8080/",
          "height": 542
        },
        "id": "94818963-9269-478a-9fe3-e0666eb4141d",
        "outputId": "04d573fb-d040-4856-9a04-d658d8ca000e"
      },
      "outputs": [
        {
          "output_type": "display_data",
          "data": {
            "text/html": [
              "<html>\n",
              "<head><meta charset=\"utf-8\" /></head>\n",
              "<body>\n",
              "    <div>\n",
              "            <script src=\"https://cdnjs.cloudflare.com/ajax/libs/mathjax/2.7.5/MathJax.js?config=TeX-AMS-MML_SVG\"></script><script type=\"text/javascript\">if (window.MathJax) {MathJax.Hub.Config({SVG: {font: \"STIX-Web\"}});}</script>\n",
              "                <script type=\"text/javascript\">window.PlotlyConfig = {MathJaxConfig: 'local'};</script>\n",
              "        <script src=\"https://cdn.plot.ly/plotly-latest.min.js\"></script>    \n",
              "            <div id=\"1806783d-d9da-4481-8da1-1431b130efd5\" class=\"plotly-graph-div\" style=\"height:525px; width:100%;\"></div>\n",
              "            <script type=\"text/javascript\">\n",
              "                \n",
              "                    window.PLOTLYENV=window.PLOTLYENV || {};\n",
              "                    \n",
              "                if (document.getElementById(\"1806783d-d9da-4481-8da1-1431b130efd5\")) {\n",
              "                    Plotly.newPlot(\n",
              "                        '1806783d-d9da-4481-8da1-1431b130efd5',\n",
              "                        [{\"hoverlabel\": {\"namelength\": 0}, \"hovertemplate\": \"x=%{x}<br>y=%{y}<br>z=%{z}\", \"legendgroup\": \"\", \"marker\": {\"color\": \"#636efa\", \"symbol\": \"circle\"}, \"mode\": \"markers\", \"name\": \"\", \"scene\": \"scene\", \"showlegend\": false, \"type\": \"scatter3d\", \"x\": [4.696122169494629, 4.704776287078857, 5.178299427032471, 5.370876312255859, 5.8467793464660645, 5.0941057205200195, 5.289585590362549, 4.881890296936035, 5.146554946899414, 5.314159393310547, 4.155396461486816, 5.330725193023682, 5.248829364776611, 4.901878833770752, 6.074189186096191, 5.3092522621154785, 5.0435895919799805, 5.25510311126709, 4.194119930267334, 4.96333646774292, 5.4065141677856445, 5.271734237670898, 4.435186862945557, 4.681899547576904, 4.893471717834473, 4.209658145904541, 5.669347286224365, 4.480213165283203, 4.9864115715026855, 5.427205562591553, 5.429140090942383, 5.070781230926514, 4.8069868087768555, 4.8213887214660645, 5.932423114776611, 4.741749286651611, 5.2252702713012695, 5.9438934326171875, 4.712007999420166, 5.149837493896484, 4.969388008117676, 4.977023601531982, 5.437129974365234, 4.721553802490234, 4.900125980377197, 4.747001647949219, 5.287034511566162, 5.067724227905273, 5.428199768066406, 5.540315628051758, 4.940122127532959, 5.638705730438232, 5.297121047973633, 5.09240198135376, 5.414281845092773, 5.437094688415527, 5.380145072937012, 4.655932903289795, 4.672269821166992, 4.7129669189453125, 5.493276119232178, 4.873545169830322, 4.36774206161499, 6.017878532409668], \"y\": [12.235442161560059, 15.623061180114746, 10.425029754638672, 11.807878494262695, 13.522295951843262, 10.718602180480957, 11.054985046386719, 10.125999450683594, 11.226094245910645, 13.498305320739746, 10.879094123840332, 13.944326400756836, 12.825260162353516, 12.888947486877441, 13.54590129852295, 10.394429206848145, 15.547863960266113, 14.205818176269531, 10.879840850830078, 12.630579948425293, 14.495912551879883, 11.538437843322754, 10.384339332580566, 15.365954399108887, 13.432866096496582, 10.580973625183105, 13.671298027038574, 10.494675636291504, 13.540281295776367, 11.16658878326416, 12.49787712097168, 14.295390129089355, 13.451905250549316, 10.080292701721191, 13.215286254882812, 15.29186725616455, 14.66765308380127, 13.896685600280762, 12.088850975036621, 13.78213119506836, 13.261070251464844, 15.636252403259277, 12.29200267791748, 11.575994491577148, 11.163785934448242, 15.582376480102539, 11.342154502868652, 10.41479206085205, 13.73864459991455, 12.82142448425293, 15.012702941894531, 13.279033660888672, 14.735130310058594, 15.123943328857422, 13.31386661529541, 13.176462173461914, 12.102296829223633, 10.06957721710205, 9.990803718566895, 12.370354652404785, 14.216679573059082, 12.858015060424805, 10.35816478729248, 13.66611385345459], \"z\": [3.613785982131958, 1.7182111740112305, 5.290759563446045, 5.239055633544922, 3.9241201877593994, 5.707486152648926, 4.774575710296631, 6.372772216796875, 4.9151129722595215, 4.06730842590332, 5.962251663208008, 4.192595958709717, 3.0226986408233643, 2.75437331199646, 4.293679714202881, 5.611774921417236, 2.1149706840515137, 3.527421712875366, 6.45292329788208, 3.185593366622925, 3.0545573234558105, 5.200648784637451, 5.723285675048828, 1.8128557205200195, 2.6246070861816406, 6.213143348693848, 3.221433401107788, 6.009800434112549, 2.1287522315979004, 5.221734523773193, 4.123157024383545, 2.3264100551605225, 2.1454005241394043, 6.440977573394775, 4.376295566558838, 2.394569158554077, 2.6453399658203125, 4.25534725189209, 4.101230621337891, 2.324350118637085, 2.4200658798217773, 2.1787726879119873, 4.5174994468688965, 5.05167818069458, 5.010996341705322, 1.9420396089553833, 5.445013046264648, 5.380513668060303, 3.364293098449707, 3.724087715148926, 2.18528151512146, 4.1228203773498535, 2.3499977588653564, 2.0348763465881348, 3.405261754989624, 4.680736541748047, 4.831340312957764, 5.827425479888916, 6.506947040557861, 3.8624629974365234, 3.336859941482544, 3.5927023887634277, 6.30226469039917, 4.235342502593994]}],\n",
              "                        {\"legend\": {\"tracegroupgap\": 0}, \"margin\": {\"t\": 60}, \"scene\": {\"domain\": {\"x\": [0.0, 1.0], \"y\": [0.0, 1.0]}, \"xaxis\": {\"title\": {\"text\": \"x\"}}, \"yaxis\": {\"title\": {\"text\": \"y\"}}, \"zaxis\": {\"title\": {\"text\": \"z\"}}}, \"template\": {\"data\": {\"bar\": [{\"error_x\": {\"color\": \"#2a3f5f\"}, \"error_y\": {\"color\": \"#2a3f5f\"}, \"marker\": {\"line\": {\"color\": \"#E5ECF6\", \"width\": 0.5}}, \"type\": \"bar\"}], \"barpolar\": [{\"marker\": {\"line\": {\"color\": \"#E5ECF6\", \"width\": 0.5}}, \"type\": \"barpolar\"}], \"carpet\": [{\"aaxis\": {\"endlinecolor\": \"#2a3f5f\", \"gridcolor\": \"white\", \"linecolor\": \"white\", \"minorgridcolor\": \"white\", \"startlinecolor\": \"#2a3f5f\"}, \"baxis\": {\"endlinecolor\": \"#2a3f5f\", \"gridcolor\": \"white\", \"linecolor\": \"white\", \"minorgridcolor\": \"white\", \"startlinecolor\": \"#2a3f5f\"}, \"type\": \"carpet\"}], \"choropleth\": [{\"colorbar\": {\"outlinewidth\": 0, \"ticks\": \"\"}, \"type\": \"choropleth\"}], \"contour\": [{\"colorbar\": {\"outlinewidth\": 0, \"ticks\": \"\"}, \"colorscale\": [[0.0, \"#0d0887\"], [0.1111111111111111, \"#46039f\"], [0.2222222222222222, \"#7201a8\"], [0.3333333333333333, \"#9c179e\"], [0.4444444444444444, \"#bd3786\"], [0.5555555555555556, \"#d8576b\"], [0.6666666666666666, \"#ed7953\"], [0.7777777777777778, \"#fb9f3a\"], [0.8888888888888888, \"#fdca26\"], [1.0, \"#f0f921\"]], \"type\": \"contour\"}], \"contourcarpet\": [{\"colorbar\": {\"outlinewidth\": 0, \"ticks\": \"\"}, \"type\": \"contourcarpet\"}], \"heatmap\": [{\"colorbar\": {\"outlinewidth\": 0, \"ticks\": \"\"}, \"colorscale\": [[0.0, \"#0d0887\"], [0.1111111111111111, \"#46039f\"], [0.2222222222222222, \"#7201a8\"], [0.3333333333333333, \"#9c179e\"], [0.4444444444444444, \"#bd3786\"], [0.5555555555555556, \"#d8576b\"], [0.6666666666666666, \"#ed7953\"], [0.7777777777777778, \"#fb9f3a\"], [0.8888888888888888, \"#fdca26\"], [1.0, \"#f0f921\"]], \"type\": \"heatmap\"}], \"heatmapgl\": [{\"colorbar\": {\"outlinewidth\": 0, \"ticks\": \"\"}, \"colorscale\": [[0.0, \"#0d0887\"], [0.1111111111111111, \"#46039f\"], [0.2222222222222222, \"#7201a8\"], [0.3333333333333333, \"#9c179e\"], [0.4444444444444444, \"#bd3786\"], [0.5555555555555556, \"#d8576b\"], [0.6666666666666666, \"#ed7953\"], [0.7777777777777778, \"#fb9f3a\"], [0.8888888888888888, \"#fdca26\"], [1.0, \"#f0f921\"]], \"type\": \"heatmapgl\"}], \"histogram\": [{\"marker\": {\"colorbar\": {\"outlinewidth\": 0, \"ticks\": \"\"}}, \"type\": \"histogram\"}], \"histogram2d\": [{\"colorbar\": {\"outlinewidth\": 0, \"ticks\": \"\"}, \"colorscale\": [[0.0, \"#0d0887\"], [0.1111111111111111, \"#46039f\"], [0.2222222222222222, \"#7201a8\"], [0.3333333333333333, \"#9c179e\"], [0.4444444444444444, \"#bd3786\"], [0.5555555555555556, \"#d8576b\"], [0.6666666666666666, \"#ed7953\"], [0.7777777777777778, \"#fb9f3a\"], [0.8888888888888888, \"#fdca26\"], [1.0, \"#f0f921\"]], \"type\": \"histogram2d\"}], \"histogram2dcontour\": [{\"colorbar\": {\"outlinewidth\": 0, \"ticks\": \"\"}, \"colorscale\": [[0.0, \"#0d0887\"], [0.1111111111111111, \"#46039f\"], [0.2222222222222222, \"#7201a8\"], [0.3333333333333333, \"#9c179e\"], [0.4444444444444444, \"#bd3786\"], [0.5555555555555556, \"#d8576b\"], [0.6666666666666666, \"#ed7953\"], [0.7777777777777778, \"#fb9f3a\"], [0.8888888888888888, \"#fdca26\"], [1.0, \"#f0f921\"]], \"type\": \"histogram2dcontour\"}], \"mesh3d\": [{\"colorbar\": {\"outlinewidth\": 0, \"ticks\": \"\"}, \"type\": \"mesh3d\"}], \"parcoords\": [{\"line\": {\"colorbar\": {\"outlinewidth\": 0, \"ticks\": \"\"}}, \"type\": \"parcoords\"}], \"pie\": [{\"automargin\": true, \"type\": \"pie\"}], \"scatter\": [{\"marker\": {\"colorbar\": {\"outlinewidth\": 0, \"ticks\": \"\"}}, \"type\": \"scatter\"}], \"scatter3d\": [{\"line\": {\"colorbar\": {\"outlinewidth\": 0, \"ticks\": \"\"}}, \"marker\": {\"colorbar\": {\"outlinewidth\": 0, \"ticks\": \"\"}}, \"type\": \"scatter3d\"}], \"scattercarpet\": [{\"marker\": {\"colorbar\": {\"outlinewidth\": 0, \"ticks\": \"\"}}, \"type\": \"scattercarpet\"}], \"scattergeo\": [{\"marker\": {\"colorbar\": {\"outlinewidth\": 0, \"ticks\": \"\"}}, \"type\": \"scattergeo\"}], \"scattergl\": [{\"marker\": {\"colorbar\": {\"outlinewidth\": 0, \"ticks\": \"\"}}, \"type\": \"scattergl\"}], \"scattermapbox\": [{\"marker\": {\"colorbar\": {\"outlinewidth\": 0, \"ticks\": \"\"}}, \"type\": \"scattermapbox\"}], \"scatterpolar\": [{\"marker\": {\"colorbar\": {\"outlinewidth\": 0, \"ticks\": \"\"}}, \"type\": \"scatterpolar\"}], \"scatterpolargl\": [{\"marker\": {\"colorbar\": {\"outlinewidth\": 0, \"ticks\": \"\"}}, \"type\": \"scatterpolargl\"}], \"scatterternary\": [{\"marker\": {\"colorbar\": {\"outlinewidth\": 0, \"ticks\": \"\"}}, \"type\": \"scatterternary\"}], \"surface\": [{\"colorbar\": {\"outlinewidth\": 0, \"ticks\": \"\"}, \"colorscale\": [[0.0, \"#0d0887\"], [0.1111111111111111, \"#46039f\"], [0.2222222222222222, \"#7201a8\"], [0.3333333333333333, \"#9c179e\"], [0.4444444444444444, \"#bd3786\"], [0.5555555555555556, \"#d8576b\"], [0.6666666666666666, \"#ed7953\"], [0.7777777777777778, \"#fb9f3a\"], [0.8888888888888888, \"#fdca26\"], [1.0, \"#f0f921\"]], \"type\": \"surface\"}], \"table\": [{\"cells\": {\"fill\": {\"color\": \"#EBF0F8\"}, \"line\": {\"color\": \"white\"}}, \"header\": {\"fill\": {\"color\": \"#C8D4E3\"}, \"line\": {\"color\": \"white\"}}, \"type\": \"table\"}]}, \"layout\": {\"annotationdefaults\": {\"arrowcolor\": \"#2a3f5f\", \"arrowhead\": 0, \"arrowwidth\": 1}, \"coloraxis\": {\"colorbar\": {\"outlinewidth\": 0, \"ticks\": \"\"}}, \"colorscale\": {\"diverging\": [[0, \"#8e0152\"], [0.1, \"#c51b7d\"], [0.2, \"#de77ae\"], [0.3, \"#f1b6da\"], [0.4, \"#fde0ef\"], [0.5, \"#f7f7f7\"], [0.6, \"#e6f5d0\"], [0.7, \"#b8e186\"], [0.8, \"#7fbc41\"], [0.9, \"#4d9221\"], [1, \"#276419\"]], \"sequential\": [[0.0, \"#0d0887\"], [0.1111111111111111, \"#46039f\"], [0.2222222222222222, \"#7201a8\"], [0.3333333333333333, \"#9c179e\"], [0.4444444444444444, \"#bd3786\"], [0.5555555555555556, \"#d8576b\"], [0.6666666666666666, \"#ed7953\"], [0.7777777777777778, \"#fb9f3a\"], [0.8888888888888888, \"#fdca26\"], [1.0, \"#f0f921\"]], \"sequentialminus\": [[0.0, \"#0d0887\"], [0.1111111111111111, \"#46039f\"], [0.2222222222222222, \"#7201a8\"], [0.3333333333333333, \"#9c179e\"], [0.4444444444444444, \"#bd3786\"], [0.5555555555555556, \"#d8576b\"], [0.6666666666666666, \"#ed7953\"], [0.7777777777777778, \"#fb9f3a\"], [0.8888888888888888, \"#fdca26\"], [1.0, \"#f0f921\"]]}, \"colorway\": [\"#636efa\", \"#EF553B\", \"#00cc96\", \"#ab63fa\", \"#FFA15A\", \"#19d3f3\", \"#FF6692\", \"#B6E880\", \"#FF97FF\", \"#FECB52\"], \"font\": {\"color\": \"#2a3f5f\"}, \"geo\": {\"bgcolor\": \"white\", \"lakecolor\": \"white\", \"landcolor\": \"#E5ECF6\", \"showlakes\": true, \"showland\": true, \"subunitcolor\": \"white\"}, \"hoverlabel\": {\"align\": \"left\"}, \"hovermode\": \"closest\", \"mapbox\": {\"style\": \"light\"}, \"paper_bgcolor\": \"white\", \"plot_bgcolor\": \"#E5ECF6\", \"polar\": {\"angularaxis\": {\"gridcolor\": \"white\", \"linecolor\": \"white\", \"ticks\": \"\"}, \"bgcolor\": \"#E5ECF6\", \"radialaxis\": {\"gridcolor\": \"white\", \"linecolor\": \"white\", \"ticks\": \"\"}}, \"scene\": {\"xaxis\": {\"backgroundcolor\": \"#E5ECF6\", \"gridcolor\": \"white\", \"gridwidth\": 2, \"linecolor\": \"white\", \"showbackground\": true, \"ticks\": \"\", \"zerolinecolor\": \"white\"}, \"yaxis\": {\"backgroundcolor\": \"#E5ECF6\", \"gridcolor\": \"white\", \"gridwidth\": 2, \"linecolor\": \"white\", \"showbackground\": true, \"ticks\": \"\", \"zerolinecolor\": \"white\"}, \"zaxis\": {\"backgroundcolor\": \"#E5ECF6\", \"gridcolor\": \"white\", \"gridwidth\": 2, \"linecolor\": \"white\", \"showbackground\": true, \"ticks\": \"\", \"zerolinecolor\": \"white\"}}, \"shapedefaults\": {\"line\": {\"color\": \"#2a3f5f\"}}, \"ternary\": {\"aaxis\": {\"gridcolor\": \"white\", \"linecolor\": \"white\", \"ticks\": \"\"}, \"baxis\": {\"gridcolor\": \"white\", \"linecolor\": \"white\", \"ticks\": \"\"}, \"bgcolor\": \"#E5ECF6\", \"caxis\": {\"gridcolor\": \"white\", \"linecolor\": \"white\", \"ticks\": \"\"}}, \"title\": {\"x\": 0.05}, \"xaxis\": {\"automargin\": true, \"gridcolor\": \"white\", \"linecolor\": \"white\", \"ticks\": \"\", \"title\": {\"standoff\": 15}, \"zerolinecolor\": \"white\", \"zerolinewidth\": 2}, \"yaxis\": {\"automargin\": true, \"gridcolor\": \"white\", \"linecolor\": \"white\", \"ticks\": \"\", \"title\": {\"standoff\": 15}, \"zerolinecolor\": \"white\", \"zerolinewidth\": 2}}}},\n",
              "                        {\"responsive\": true}\n",
              "                    ).then(function(){\n",
              "                            \n",
              "var gd = document.getElementById('1806783d-d9da-4481-8da1-1431b130efd5');\n",
              "var x = new MutationObserver(function (mutations, observer) {{\n",
              "        var display = window.getComputedStyle(gd).display;\n",
              "        if (!display || display === 'none') {{\n",
              "            console.log([gd, 'removed!']);\n",
              "            Plotly.purge(gd);\n",
              "            observer.disconnect();\n",
              "        }}\n",
              "}});\n",
              "\n",
              "// Listen for the removal of the full notebook cells\n",
              "var notebookContainer = gd.closest('#notebook-container');\n",
              "if (notebookContainer) {{\n",
              "    x.observe(notebookContainer, {childList: true});\n",
              "}}\n",
              "\n",
              "// Listen for the clearing of the current output cell\n",
              "var outputEl = gd.closest('.output');\n",
              "if (outputEl) {{\n",
              "    x.observe(outputEl, {childList: true});\n",
              "}}\n",
              "\n",
              "                        })\n",
              "                };\n",
              "                \n",
              "            </script>\n",
              "        </div>\n",
              "</body>\n",
              "</html>"
            ]
          },
          "metadata": {}
        }
      ],
      "source": [
        "# Visualize latent space for 'mean'-\n",
        "fig = px.scatter_3d(\n",
        "    x = embedding_mu[:, 0], y = embedding_mu[:, 1],\n",
        "    z = embedding_mu[:, 2],\n",
        "    # color = y_train\n",
        "    )\n",
        "fig.show()"
      ]
    },
    {
      "cell_type": "code",
      "execution_count": null,
      "id": "b10547be-77ce-4981-9a84-33f4f0376238",
      "metadata": {
        "colab": {
          "base_uri": "https://localhost:8080/",
          "height": 542
        },
        "id": "b10547be-77ce-4981-9a84-33f4f0376238",
        "outputId": "c2b050d2-7e04-4308-ee7a-3b7ad4990c79"
      },
      "outputs": [
        {
          "output_type": "display_data",
          "data": {
            "text/html": [
              "<html>\n",
              "<head><meta charset=\"utf-8\" /></head>\n",
              "<body>\n",
              "    <div>\n",
              "            <script src=\"https://cdnjs.cloudflare.com/ajax/libs/mathjax/2.7.5/MathJax.js?config=TeX-AMS-MML_SVG\"></script><script type=\"text/javascript\">if (window.MathJax) {MathJax.Hub.Config({SVG: {font: \"STIX-Web\"}});}</script>\n",
              "                <script type=\"text/javascript\">window.PlotlyConfig = {MathJaxConfig: 'local'};</script>\n",
              "        <script src=\"https://cdn.plot.ly/plotly-latest.min.js\"></script>    \n",
              "            <div id=\"d6ef12f7-2622-4b11-b89a-5a873aa5a21b\" class=\"plotly-graph-div\" style=\"height:525px; width:100%;\"></div>\n",
              "            <script type=\"text/javascript\">\n",
              "                \n",
              "                    window.PLOTLYENV=window.PLOTLYENV || {};\n",
              "                    \n",
              "                if (document.getElementById(\"d6ef12f7-2622-4b11-b89a-5a873aa5a21b\")) {\n",
              "                    Plotly.newPlot(\n",
              "                        'd6ef12f7-2622-4b11-b89a-5a873aa5a21b',\n",
              "                        [{\"hoverlabel\": {\"namelength\": 0}, \"hovertemplate\": \"x=%{x}<br>y=%{y}<br>z=%{z}\", \"legendgroup\": \"\", \"marker\": {\"color\": \"#636efa\", \"symbol\": \"circle\"}, \"mode\": \"markers\", \"name\": \"\", \"scene\": \"scene\", \"showlegend\": false, \"type\": \"scatter3d\", \"x\": [8.26882266998291, 5.153037071228027, 10.110079765319824, 9.55985164642334, 5.542043685913086, 11.257760047912598, 8.792906761169434, 10.8142728805542, 9.002090454101562, 6.1083855628967285, 10.837894439697266, 5.755076885223389, 6.976349353790283, 6.638756275177002, 5.77490234375, 11.207389831542969, 5.186312675476074, 4.90036678314209, 10.462348937988281, 6.978394985198975, 4.978283405303955, 9.856152534484863, 10.959868431091309, 5.171276569366455, 5.234227657318115, 10.8758544921875, 5.832886695861816, 10.956209182739258, 5.638698101043701, 9.2246732711792, 7.568150043487549, 5.0867838859558105, 5.809315204620361, 10.948933601379395, 7.166382789611816, 5.420644760131836, 4.898082733154297, 5.868589878082275, 8.681975364685059, 5.490931987762451, 5.323378086090088, 4.976349353790283, 8.443424224853516, 9.146963119506836, 9.54330062866211, 4.955070495605469, 9.45472240447998, 10.896007537841797, 5.542932510375977, 6.541839122772217, 5.117992877960205, 6.1342291831970215, 5.032043933868408, 5.30102014541626, 6.089989185333252, 7.836294174194336, 9.936269760131836, 10.811541557312012, 10.678614616394043, 8.435741424560547, 5.020631313323975, 6.7411112785339355, 10.795936584472656, 5.73030948638916], \"y\": [5.532417297363281, 6.2952117919921875, 4.8577189445495605, 5.394559383392334, 6.348796844482422, 5.661900520324707, 4.757903575897217, 5.159783840179443, 4.8283610343933105, 6.297600746154785, 5.733882427215576, 6.604986667633057, 6.280280590057373, 6.162351131439209, 6.288876533508301, 5.269192218780518, 5.976909160614014, 6.619504928588867, 5.822144031524658, 6.118715763092041, 6.628904819488525, 5.408193111419678, 5.52225399017334, 6.416776180267334, 6.357517242431641, 5.907350063323975, 5.894704341888428, 5.654608726501465, 6.117820739746094, 4.7715744972229, 5.8225202560424805, 6.188661575317383, 5.90215539932251, 5.017516613006592, 5.945150852203369, 5.815438747406006, 6.2348527908325195, 6.372433662414551, 5.6005425453186035, 5.964273452758789, 6.08416748046875, 6.326521396636963, 5.732367992401123, 5.441228866577148, 5.02070951461792, 6.146172046661377, 5.099452018737793, 5.205749988555908, 6.224902629852295, 5.966598033905029, 5.947746276855469, 5.95994234085083, 6.127129554748535, 6.019491195678711, 5.9318342208862305, 5.388392925262451, 5.732882022857666, 5.236733913421631, 5.0052289962768555, 5.326091289520264, 6.6082892417907715, 5.720109939575195, 5.53455114364624, 6.1484293937683105], \"z\": [8.791475296020508, 4.543398380279541, 9.665590286254883, 9.11647891998291, 8.237194061279297, 10.474924087524414, 9.509458541870117, 10.896907806396484, 9.263618469238281, 8.077421188354492, 9.94493579864502, 7.686241626739502, 8.716498374938965, 8.06075382232666, 8.626853942871094, 10.146411895751953, 5.007538318634033, 6.127180099487305, 10.0682373046875, 8.44366455078125, 6.333985805511475, 9.488879203796387, 10.35290241241455, 4.734740257263184, 6.816905975341797, 10.406950950622559, 7.635730743408203, 10.119839668273926, 7.1747612953186035, 9.466595649719238, 8.971902847290039, 6.034659385681152, 7.108723163604736, 10.800586700439453, 8.967406272888184, 5.137360095977783, 5.496368408203125, 8.341684341430664, 8.994537353515625, 6.852705001831055, 7.251916408538818, 4.925485610961914, 9.164651870727539, 9.228537559509277, 9.054693222045898, 4.7226362228393555, 9.364962577819824, 10.068653106689453, 7.614675998687744, 8.590736389160156, 5.275821685791016, 8.5043306350708, 5.637058258056641, 5.362323760986328, 7.9915289878845215, 9.285680770874023, 9.666481018066406, 10.557999610900879, 11.023362159729004, 8.977014541625977, 6.498756408691406, 8.491137504577637, 10.587697982788086, 8.402693748474121]}],\n",
              "                        {\"legend\": {\"tracegroupgap\": 0}, \"margin\": {\"t\": 60}, \"scene\": {\"domain\": {\"x\": [0.0, 1.0], \"y\": [0.0, 1.0]}, \"xaxis\": {\"title\": {\"text\": \"x\"}}, \"yaxis\": {\"title\": {\"text\": \"y\"}}, \"zaxis\": {\"title\": {\"text\": \"z\"}}}, \"template\": {\"data\": {\"bar\": [{\"error_x\": {\"color\": \"#2a3f5f\"}, \"error_y\": {\"color\": \"#2a3f5f\"}, \"marker\": {\"line\": {\"color\": \"#E5ECF6\", \"width\": 0.5}}, \"type\": \"bar\"}], \"barpolar\": [{\"marker\": {\"line\": {\"color\": \"#E5ECF6\", \"width\": 0.5}}, \"type\": \"barpolar\"}], \"carpet\": [{\"aaxis\": {\"endlinecolor\": \"#2a3f5f\", \"gridcolor\": \"white\", \"linecolor\": \"white\", \"minorgridcolor\": \"white\", \"startlinecolor\": \"#2a3f5f\"}, \"baxis\": {\"endlinecolor\": \"#2a3f5f\", \"gridcolor\": \"white\", \"linecolor\": \"white\", \"minorgridcolor\": \"white\", \"startlinecolor\": \"#2a3f5f\"}, \"type\": \"carpet\"}], \"choropleth\": [{\"colorbar\": {\"outlinewidth\": 0, \"ticks\": \"\"}, \"type\": \"choropleth\"}], \"contour\": [{\"colorbar\": {\"outlinewidth\": 0, \"ticks\": \"\"}, \"colorscale\": [[0.0, \"#0d0887\"], [0.1111111111111111, \"#46039f\"], [0.2222222222222222, \"#7201a8\"], [0.3333333333333333, \"#9c179e\"], [0.4444444444444444, \"#bd3786\"], [0.5555555555555556, \"#d8576b\"], [0.6666666666666666, \"#ed7953\"], [0.7777777777777778, \"#fb9f3a\"], [0.8888888888888888, \"#fdca26\"], [1.0, \"#f0f921\"]], \"type\": \"contour\"}], \"contourcarpet\": [{\"colorbar\": {\"outlinewidth\": 0, \"ticks\": \"\"}, \"type\": \"contourcarpet\"}], \"heatmap\": [{\"colorbar\": {\"outlinewidth\": 0, \"ticks\": \"\"}, \"colorscale\": [[0.0, \"#0d0887\"], [0.1111111111111111, \"#46039f\"], [0.2222222222222222, \"#7201a8\"], [0.3333333333333333, \"#9c179e\"], [0.4444444444444444, \"#bd3786\"], [0.5555555555555556, \"#d8576b\"], [0.6666666666666666, \"#ed7953\"], [0.7777777777777778, \"#fb9f3a\"], [0.8888888888888888, \"#fdca26\"], [1.0, \"#f0f921\"]], \"type\": \"heatmap\"}], \"heatmapgl\": [{\"colorbar\": {\"outlinewidth\": 0, \"ticks\": \"\"}, \"colorscale\": [[0.0, \"#0d0887\"], [0.1111111111111111, \"#46039f\"], [0.2222222222222222, \"#7201a8\"], [0.3333333333333333, \"#9c179e\"], [0.4444444444444444, \"#bd3786\"], [0.5555555555555556, \"#d8576b\"], [0.6666666666666666, \"#ed7953\"], [0.7777777777777778, \"#fb9f3a\"], [0.8888888888888888, \"#fdca26\"], [1.0, \"#f0f921\"]], \"type\": \"heatmapgl\"}], \"histogram\": [{\"marker\": {\"colorbar\": {\"outlinewidth\": 0, \"ticks\": \"\"}}, \"type\": \"histogram\"}], \"histogram2d\": [{\"colorbar\": {\"outlinewidth\": 0, \"ticks\": \"\"}, \"colorscale\": [[0.0, \"#0d0887\"], [0.1111111111111111, \"#46039f\"], [0.2222222222222222, \"#7201a8\"], [0.3333333333333333, \"#9c179e\"], [0.4444444444444444, \"#bd3786\"], [0.5555555555555556, \"#d8576b\"], [0.6666666666666666, \"#ed7953\"], [0.7777777777777778, \"#fb9f3a\"], [0.8888888888888888, \"#fdca26\"], [1.0, \"#f0f921\"]], \"type\": \"histogram2d\"}], \"histogram2dcontour\": [{\"colorbar\": {\"outlinewidth\": 0, \"ticks\": \"\"}, \"colorscale\": [[0.0, \"#0d0887\"], [0.1111111111111111, \"#46039f\"], [0.2222222222222222, \"#7201a8\"], [0.3333333333333333, \"#9c179e\"], [0.4444444444444444, \"#bd3786\"], [0.5555555555555556, \"#d8576b\"], [0.6666666666666666, \"#ed7953\"], [0.7777777777777778, \"#fb9f3a\"], [0.8888888888888888, \"#fdca26\"], [1.0, \"#f0f921\"]], \"type\": \"histogram2dcontour\"}], \"mesh3d\": [{\"colorbar\": {\"outlinewidth\": 0, \"ticks\": \"\"}, \"type\": \"mesh3d\"}], \"parcoords\": [{\"line\": {\"colorbar\": {\"outlinewidth\": 0, \"ticks\": \"\"}}, \"type\": \"parcoords\"}], \"pie\": [{\"automargin\": true, \"type\": \"pie\"}], \"scatter\": [{\"marker\": {\"colorbar\": {\"outlinewidth\": 0, \"ticks\": \"\"}}, \"type\": \"scatter\"}], \"scatter3d\": [{\"line\": {\"colorbar\": {\"outlinewidth\": 0, \"ticks\": \"\"}}, \"marker\": {\"colorbar\": {\"outlinewidth\": 0, \"ticks\": \"\"}}, \"type\": \"scatter3d\"}], \"scattercarpet\": [{\"marker\": {\"colorbar\": {\"outlinewidth\": 0, \"ticks\": \"\"}}, \"type\": \"scattercarpet\"}], \"scattergeo\": [{\"marker\": {\"colorbar\": {\"outlinewidth\": 0, \"ticks\": \"\"}}, \"type\": \"scattergeo\"}], \"scattergl\": [{\"marker\": {\"colorbar\": {\"outlinewidth\": 0, \"ticks\": \"\"}}, \"type\": \"scattergl\"}], \"scattermapbox\": [{\"marker\": {\"colorbar\": {\"outlinewidth\": 0, \"ticks\": \"\"}}, \"type\": \"scattermapbox\"}], \"scatterpolar\": [{\"marker\": {\"colorbar\": {\"outlinewidth\": 0, \"ticks\": \"\"}}, \"type\": \"scatterpolar\"}], \"scatterpolargl\": [{\"marker\": {\"colorbar\": {\"outlinewidth\": 0, \"ticks\": \"\"}}, \"type\": \"scatterpolargl\"}], \"scatterternary\": [{\"marker\": {\"colorbar\": {\"outlinewidth\": 0, \"ticks\": \"\"}}, \"type\": \"scatterternary\"}], \"surface\": [{\"colorbar\": {\"outlinewidth\": 0, \"ticks\": \"\"}, \"colorscale\": [[0.0, \"#0d0887\"], [0.1111111111111111, \"#46039f\"], [0.2222222222222222, \"#7201a8\"], [0.3333333333333333, \"#9c179e\"], [0.4444444444444444, \"#bd3786\"], [0.5555555555555556, \"#d8576b\"], [0.6666666666666666, \"#ed7953\"], [0.7777777777777778, \"#fb9f3a\"], [0.8888888888888888, \"#fdca26\"], [1.0, \"#f0f921\"]], \"type\": \"surface\"}], \"table\": [{\"cells\": {\"fill\": {\"color\": \"#EBF0F8\"}, \"line\": {\"color\": \"white\"}}, \"header\": {\"fill\": {\"color\": \"#C8D4E3\"}, \"line\": {\"color\": \"white\"}}, \"type\": \"table\"}]}, \"layout\": {\"annotationdefaults\": {\"arrowcolor\": \"#2a3f5f\", \"arrowhead\": 0, \"arrowwidth\": 1}, \"coloraxis\": {\"colorbar\": {\"outlinewidth\": 0, \"ticks\": \"\"}}, \"colorscale\": {\"diverging\": [[0, \"#8e0152\"], [0.1, \"#c51b7d\"], [0.2, \"#de77ae\"], [0.3, \"#f1b6da\"], [0.4, \"#fde0ef\"], [0.5, \"#f7f7f7\"], [0.6, \"#e6f5d0\"], [0.7, \"#b8e186\"], [0.8, \"#7fbc41\"], [0.9, \"#4d9221\"], [1, \"#276419\"]], \"sequential\": [[0.0, \"#0d0887\"], [0.1111111111111111, \"#46039f\"], [0.2222222222222222, \"#7201a8\"], [0.3333333333333333, \"#9c179e\"], [0.4444444444444444, \"#bd3786\"], [0.5555555555555556, \"#d8576b\"], [0.6666666666666666, \"#ed7953\"], [0.7777777777777778, \"#fb9f3a\"], [0.8888888888888888, \"#fdca26\"], [1.0, \"#f0f921\"]], \"sequentialminus\": [[0.0, \"#0d0887\"], [0.1111111111111111, \"#46039f\"], [0.2222222222222222, \"#7201a8\"], [0.3333333333333333, \"#9c179e\"], [0.4444444444444444, \"#bd3786\"], [0.5555555555555556, \"#d8576b\"], [0.6666666666666666, \"#ed7953\"], [0.7777777777777778, \"#fb9f3a\"], [0.8888888888888888, \"#fdca26\"], [1.0, \"#f0f921\"]]}, \"colorway\": [\"#636efa\", \"#EF553B\", \"#00cc96\", \"#ab63fa\", \"#FFA15A\", \"#19d3f3\", \"#FF6692\", \"#B6E880\", \"#FF97FF\", \"#FECB52\"], \"font\": {\"color\": \"#2a3f5f\"}, \"geo\": {\"bgcolor\": \"white\", \"lakecolor\": \"white\", \"landcolor\": \"#E5ECF6\", \"showlakes\": true, \"showland\": true, \"subunitcolor\": \"white\"}, \"hoverlabel\": {\"align\": \"left\"}, \"hovermode\": \"closest\", \"mapbox\": {\"style\": \"light\"}, \"paper_bgcolor\": \"white\", \"plot_bgcolor\": \"#E5ECF6\", \"polar\": {\"angularaxis\": {\"gridcolor\": \"white\", \"linecolor\": \"white\", \"ticks\": \"\"}, \"bgcolor\": \"#E5ECF6\", \"radialaxis\": {\"gridcolor\": \"white\", \"linecolor\": \"white\", \"ticks\": \"\"}}, \"scene\": {\"xaxis\": {\"backgroundcolor\": \"#E5ECF6\", \"gridcolor\": \"white\", \"gridwidth\": 2, \"linecolor\": \"white\", \"showbackground\": true, \"ticks\": \"\", \"zerolinecolor\": \"white\"}, \"yaxis\": {\"backgroundcolor\": \"#E5ECF6\", \"gridcolor\": \"white\", \"gridwidth\": 2, \"linecolor\": \"white\", \"showbackground\": true, \"ticks\": \"\", \"zerolinecolor\": \"white\"}, \"zaxis\": {\"backgroundcolor\": \"#E5ECF6\", \"gridcolor\": \"white\", \"gridwidth\": 2, \"linecolor\": \"white\", \"showbackground\": true, \"ticks\": \"\", \"zerolinecolor\": \"white\"}}, \"shapedefaults\": {\"line\": {\"color\": \"#2a3f5f\"}}, \"ternary\": {\"aaxis\": {\"gridcolor\": \"white\", \"linecolor\": \"white\", \"ticks\": \"\"}, \"baxis\": {\"gridcolor\": \"white\", \"linecolor\": \"white\", \"ticks\": \"\"}, \"bgcolor\": \"#E5ECF6\", \"caxis\": {\"gridcolor\": \"white\", \"linecolor\": \"white\", \"ticks\": \"\"}}, \"title\": {\"x\": 0.05}, \"xaxis\": {\"automargin\": true, \"gridcolor\": \"white\", \"linecolor\": \"white\", \"ticks\": \"\", \"title\": {\"standoff\": 15}, \"zerolinecolor\": \"white\", \"zerolinewidth\": 2}, \"yaxis\": {\"automargin\": true, \"gridcolor\": \"white\", \"linecolor\": \"white\", \"ticks\": \"\", \"title\": {\"standoff\": 15}, \"zerolinecolor\": \"white\", \"zerolinewidth\": 2}}}},\n",
              "                        {\"responsive\": true}\n",
              "                    ).then(function(){\n",
              "                            \n",
              "var gd = document.getElementById('d6ef12f7-2622-4b11-b89a-5a873aa5a21b');\n",
              "var x = new MutationObserver(function (mutations, observer) {{\n",
              "        var display = window.getComputedStyle(gd).display;\n",
              "        if (!display || display === 'none') {{\n",
              "            console.log([gd, 'removed!']);\n",
              "            Plotly.purge(gd);\n",
              "            observer.disconnect();\n",
              "        }}\n",
              "}});\n",
              "\n",
              "// Listen for the removal of the full notebook cells\n",
              "var notebookContainer = gd.closest('#notebook-container');\n",
              "if (notebookContainer) {{\n",
              "    x.observe(notebookContainer, {childList: true});\n",
              "}}\n",
              "\n",
              "// Listen for the clearing of the current output cell\n",
              "var outputEl = gd.closest('.output');\n",
              "if (outputEl) {{\n",
              "    x.observe(outputEl, {childList: true});\n",
              "}}\n",
              "\n",
              "                        })\n",
              "                };\n",
              "                \n",
              "            </script>\n",
              "        </div>\n",
              "</body>\n",
              "</html>"
            ]
          },
          "metadata": {}
        }
      ],
      "source": [
        "# Visualize latent space for 'log variance'-\n",
        "fig = px.scatter_3d(\n",
        "    x = embedding_logvar[:, 0], y = embedding_logvar[:, 1],\n",
        "    z = embedding_logvar[:, 2],\n",
        "    # color = y_train\n",
        "    )\n",
        "fig.show()"
      ]
    },
    {
      "cell_type": "code",
      "execution_count": null,
      "id": "b483d671-acdf-4a7d-8761-c47ed0559f2f",
      "metadata": {
        "id": "b483d671-acdf-4a7d-8761-c47ed0559f2f"
      },
      "outputs": [],
      "source": [
        ""
      ]
    },
    {
      "cell_type": "code",
      "execution_count": null,
      "id": "faf80ab7-7c8b-4f12-8a60-6b2bfa4bf3de",
      "metadata": {
        "id": "faf80ab7-7c8b-4f12-8a60-6b2bfa4bf3de"
      },
      "outputs": [],
      "source": [
        ""
      ]
    }
  ],
  "metadata": {
    "kernelspec": {
      "display_name": "Python 3 (ipykernel)",
      "language": "python",
      "name": "python3"
    },
    "language_info": {
      "codemirror_mode": {
        "name": "ipython",
        "version": 3
      },
      "file_extension": ".py",
      "mimetype": "text/x-python",
      "name": "python",
      "nbconvert_exporter": "python",
      "pygments_lexer": "ipython3",
      "version": "3.9.7"
    },
    "colab": {
      "name": "VAE_PyTorch-CIFAR10.ipynb",
      "provenance": [],
      "collapsed_sections": []
    },
    "accelerator": "GPU",
    "widgets": {
      "application/vnd.jupyter.widget-state+json": {
        "afff1ea3b8ab4bbe8b8ec84394d82c3d": {
          "model_module": "@jupyter-widgets/controls",
          "model_name": "HBoxModel",
          "model_module_version": "1.5.0",
          "state": {
            "_view_name": "HBoxView",
            "_dom_classes": [],
            "_model_name": "HBoxModel",
            "_view_module": "@jupyter-widgets/controls",
            "_model_module_version": "1.5.0",
            "_view_count": null,
            "_view_module_version": "1.5.0",
            "box_style": "",
            "layout": "IPY_MODEL_0c92e724ea31486fa886830a4fbc4d06",
            "_model_module": "@jupyter-widgets/controls",
            "children": [
              "IPY_MODEL_e0fe40693f614380acbb89840c89d76d",
              "IPY_MODEL_626cd831d67e4434a2f7cf91a99eb544",
              "IPY_MODEL_e4e0f04271c84a39aa52ace0cdaba64f"
            ]
          }
        },
        "0c92e724ea31486fa886830a4fbc4d06": {
          "model_module": "@jupyter-widgets/base",
          "model_name": "LayoutModel",
          "model_module_version": "1.2.0",
          "state": {
            "_view_name": "LayoutView",
            "grid_template_rows": null,
            "right": null,
            "justify_content": null,
            "_view_module": "@jupyter-widgets/base",
            "overflow": null,
            "_model_module_version": "1.2.0",
            "_view_count": null,
            "flex_flow": null,
            "width": null,
            "min_width": null,
            "border": null,
            "align_items": null,
            "bottom": null,
            "_model_module": "@jupyter-widgets/base",
            "top": null,
            "grid_column": null,
            "overflow_y": null,
            "overflow_x": null,
            "grid_auto_flow": null,
            "grid_area": null,
            "grid_template_columns": null,
            "flex": null,
            "_model_name": "LayoutModel",
            "justify_items": null,
            "grid_row": null,
            "max_height": null,
            "align_content": null,
            "visibility": null,
            "align_self": null,
            "height": null,
            "min_height": null,
            "padding": null,
            "grid_auto_rows": null,
            "grid_gap": null,
            "max_width": null,
            "order": null,
            "_view_module_version": "1.2.0",
            "grid_template_areas": null,
            "object_position": null,
            "object_fit": null,
            "grid_auto_columns": null,
            "margin": null,
            "display": null,
            "left": null
          }
        },
        "e0fe40693f614380acbb89840c89d76d": {
          "model_module": "@jupyter-widgets/controls",
          "model_name": "HTMLModel",
          "model_module_version": "1.5.0",
          "state": {
            "_view_name": "HTMLView",
            "style": "IPY_MODEL_2a3cc275895146a9b0d981deb5559fba",
            "_dom_classes": [],
            "description": "",
            "_model_name": "HTMLModel",
            "placeholder": "​",
            "_view_module": "@jupyter-widgets/controls",
            "_model_module_version": "1.5.0",
            "value": "",
            "_view_count": null,
            "_view_module_version": "1.5.0",
            "description_tooltip": null,
            "_model_module": "@jupyter-widgets/controls",
            "layout": "IPY_MODEL_e9c93f9187984780b59cac97809ec91e"
          }
        },
        "626cd831d67e4434a2f7cf91a99eb544": {
          "model_module": "@jupyter-widgets/controls",
          "model_name": "FloatProgressModel",
          "model_module_version": "1.5.0",
          "state": {
            "_view_name": "ProgressView",
            "style": "IPY_MODEL_71efbc324f634d78a9865623adc100ab",
            "_dom_classes": [],
            "description": "",
            "_model_name": "FloatProgressModel",
            "bar_style": "success",
            "max": 170498071,
            "_view_module": "@jupyter-widgets/controls",
            "_model_module_version": "1.5.0",
            "value": 170498071,
            "_view_count": null,
            "_view_module_version": "1.5.0",
            "orientation": "horizontal",
            "min": 0,
            "description_tooltip": null,
            "_model_module": "@jupyter-widgets/controls",
            "layout": "IPY_MODEL_be79e4f2cfbd414c924d9f5a115fa653"
          }
        },
        "e4e0f04271c84a39aa52ace0cdaba64f": {
          "model_module": "@jupyter-widgets/controls",
          "model_name": "HTMLModel",
          "model_module_version": "1.5.0",
          "state": {
            "_view_name": "HTMLView",
            "style": "IPY_MODEL_7c82c41cea2a4bfea5bb00435081c091",
            "_dom_classes": [],
            "description": "",
            "_model_name": "HTMLModel",
            "placeholder": "​",
            "_view_module": "@jupyter-widgets/controls",
            "_model_module_version": "1.5.0",
            "value": " 170499072/? [00:02&lt;00:00, 70219375.38it/s]",
            "_view_count": null,
            "_view_module_version": "1.5.0",
            "description_tooltip": null,
            "_model_module": "@jupyter-widgets/controls",
            "layout": "IPY_MODEL_ac9b11cbaede43a2ba256878655d0fdd"
          }
        },
        "2a3cc275895146a9b0d981deb5559fba": {
          "model_module": "@jupyter-widgets/controls",
          "model_name": "DescriptionStyleModel",
          "model_module_version": "1.5.0",
          "state": {
            "_view_name": "StyleView",
            "_model_name": "DescriptionStyleModel",
            "description_width": "",
            "_view_module": "@jupyter-widgets/base",
            "_model_module_version": "1.5.0",
            "_view_count": null,
            "_view_module_version": "1.2.0",
            "_model_module": "@jupyter-widgets/controls"
          }
        },
        "e9c93f9187984780b59cac97809ec91e": {
          "model_module": "@jupyter-widgets/base",
          "model_name": "LayoutModel",
          "model_module_version": "1.2.0",
          "state": {
            "_view_name": "LayoutView",
            "grid_template_rows": null,
            "right": null,
            "justify_content": null,
            "_view_module": "@jupyter-widgets/base",
            "overflow": null,
            "_model_module_version": "1.2.0",
            "_view_count": null,
            "flex_flow": null,
            "width": null,
            "min_width": null,
            "border": null,
            "align_items": null,
            "bottom": null,
            "_model_module": "@jupyter-widgets/base",
            "top": null,
            "grid_column": null,
            "overflow_y": null,
            "overflow_x": null,
            "grid_auto_flow": null,
            "grid_area": null,
            "grid_template_columns": null,
            "flex": null,
            "_model_name": "LayoutModel",
            "justify_items": null,
            "grid_row": null,
            "max_height": null,
            "align_content": null,
            "visibility": null,
            "align_self": null,
            "height": null,
            "min_height": null,
            "padding": null,
            "grid_auto_rows": null,
            "grid_gap": null,
            "max_width": null,
            "order": null,
            "_view_module_version": "1.2.0",
            "grid_template_areas": null,
            "object_position": null,
            "object_fit": null,
            "grid_auto_columns": null,
            "margin": null,
            "display": null,
            "left": null
          }
        },
        "71efbc324f634d78a9865623adc100ab": {
          "model_module": "@jupyter-widgets/controls",
          "model_name": "ProgressStyleModel",
          "model_module_version": "1.5.0",
          "state": {
            "_view_name": "StyleView",
            "_model_name": "ProgressStyleModel",
            "description_width": "",
            "_view_module": "@jupyter-widgets/base",
            "_model_module_version": "1.5.0",
            "_view_count": null,
            "_view_module_version": "1.2.0",
            "bar_color": null,
            "_model_module": "@jupyter-widgets/controls"
          }
        },
        "be79e4f2cfbd414c924d9f5a115fa653": {
          "model_module": "@jupyter-widgets/base",
          "model_name": "LayoutModel",
          "model_module_version": "1.2.0",
          "state": {
            "_view_name": "LayoutView",
            "grid_template_rows": null,
            "right": null,
            "justify_content": null,
            "_view_module": "@jupyter-widgets/base",
            "overflow": null,
            "_model_module_version": "1.2.0",
            "_view_count": null,
            "flex_flow": null,
            "width": null,
            "min_width": null,
            "border": null,
            "align_items": null,
            "bottom": null,
            "_model_module": "@jupyter-widgets/base",
            "top": null,
            "grid_column": null,
            "overflow_y": null,
            "overflow_x": null,
            "grid_auto_flow": null,
            "grid_area": null,
            "grid_template_columns": null,
            "flex": null,
            "_model_name": "LayoutModel",
            "justify_items": null,
            "grid_row": null,
            "max_height": null,
            "align_content": null,
            "visibility": null,
            "align_self": null,
            "height": null,
            "min_height": null,
            "padding": null,
            "grid_auto_rows": null,
            "grid_gap": null,
            "max_width": null,
            "order": null,
            "_view_module_version": "1.2.0",
            "grid_template_areas": null,
            "object_position": null,
            "object_fit": null,
            "grid_auto_columns": null,
            "margin": null,
            "display": null,
            "left": null
          }
        },
        "7c82c41cea2a4bfea5bb00435081c091": {
          "model_module": "@jupyter-widgets/controls",
          "model_name": "DescriptionStyleModel",
          "model_module_version": "1.5.0",
          "state": {
            "_view_name": "StyleView",
            "_model_name": "DescriptionStyleModel",
            "description_width": "",
            "_view_module": "@jupyter-widgets/base",
            "_model_module_version": "1.5.0",
            "_view_count": null,
            "_view_module_version": "1.2.0",
            "_model_module": "@jupyter-widgets/controls"
          }
        },
        "ac9b11cbaede43a2ba256878655d0fdd": {
          "model_module": "@jupyter-widgets/base",
          "model_name": "LayoutModel",
          "model_module_version": "1.2.0",
          "state": {
            "_view_name": "LayoutView",
            "grid_template_rows": null,
            "right": null,
            "justify_content": null,
            "_view_module": "@jupyter-widgets/base",
            "overflow": null,
            "_model_module_version": "1.2.0",
            "_view_count": null,
            "flex_flow": null,
            "width": null,
            "min_width": null,
            "border": null,
            "align_items": null,
            "bottom": null,
            "_model_module": "@jupyter-widgets/base",
            "top": null,
            "grid_column": null,
            "overflow_y": null,
            "overflow_x": null,
            "grid_auto_flow": null,
            "grid_area": null,
            "grid_template_columns": null,
            "flex": null,
            "_model_name": "LayoutModel",
            "justify_items": null,
            "grid_row": null,
            "max_height": null,
            "align_content": null,
            "visibility": null,
            "align_self": null,
            "height": null,
            "min_height": null,
            "padding": null,
            "grid_auto_rows": null,
            "grid_gap": null,
            "max_width": null,
            "order": null,
            "_view_module_version": "1.2.0",
            "grid_template_areas": null,
            "object_position": null,
            "object_fit": null,
            "grid_auto_columns": null,
            "margin": null,
            "display": null,
            "left": null
          }
        }
      }
    }
  },
  "nbformat": 4,
  "nbformat_minor": 5
}