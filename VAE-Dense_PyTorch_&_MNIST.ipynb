{
 "cells": [
  {
   "cell_type": "markdown",
   "id": "QDedy7D46dMF",
   "metadata": {
    "id": "QDedy7D46dMF"
   },
   "source": [
    "# _Variational Autoencoder_: PyTorch & MNIST - _Dense_ layers"
   ]
  },
  {
   "cell_type": "code",
   "execution_count": 1,
   "id": "94a36bdf-f0e0-4281-ae7b-48f2f1c45420",
   "metadata": {
    "id": "94a36bdf-f0e0-4281-ae7b-48f2f1c45420"
   },
   "outputs": [],
   "source": [
    "import torch\n",
    "import torch.nn as nn\n",
    "import torch.nn.functional as F\n",
    "import torchvision\n",
    "import torchvision.transforms as transforms\n",
    "\n",
    "from tqdm import tqdm\n",
    "from tqdm import trange\n",
    "\n",
    "import matplotlib.pyplot as plt\n",
    "import seaborn as sns\n",
    "import numpy as np\n",
    "import os"
   ]
  },
  {
   "cell_type": "code",
   "execution_count": null,
   "id": "6f92df6c-4eda-4a9b-b68f-4caf46335ea6",
   "metadata": {
    "id": "6f92df6c-4eda-4a9b-b68f-4caf46335ea6"
   },
   "outputs": [],
   "source": []
  },
  {
   "cell_type": "code",
   "execution_count": null,
   "id": "bf34eced-c2a1-4b49-8449-057743793f13",
   "metadata": {
    "id": "bf34eced-c2a1-4b49-8449-057743793f13"
   },
   "outputs": [],
   "source": []
  },
  {
   "cell_type": "code",
   "execution_count": 2,
   "id": "e446e0e6-0e2c-467a-b5df-a23036ee8eaa",
   "metadata": {
    "colab": {
     "base_uri": "https://localhost:8080/"
    },
    "id": "e446e0e6-0e2c-467a-b5df-a23036ee8eaa",
    "outputId": "e028fdb5-4caf-41bf-f897-2a966b230491"
   },
   "outputs": [
    {
     "name": "stdout",
     "output_type": "stream",
     "text": [
      "torch version: 1.9.0\n"
     ]
    }
   ],
   "source": [
    "print(f\"torch version: {torch.__version__}\")"
   ]
  },
  {
   "cell_type": "code",
   "execution_count": null,
   "id": "f236b5bd-5e1e-4536-830f-b6868a3cd5c8",
   "metadata": {
    "id": "f236b5bd-5e1e-4536-830f-b6868a3cd5c8"
   },
   "outputs": [],
   "source": []
  },
  {
   "cell_type": "code",
   "execution_count": 3,
   "id": "80021e85-5368-49ff-a1d3-cd3a47ced799",
   "metadata": {
    "colab": {
     "base_uri": "https://localhost:8080/"
    },
    "id": "80021e85-5368-49ff-a1d3-cd3a47ced799",
    "outputId": "f08c9acb-2d9c-4aa8-d1d8-fe524698e023"
   },
   "outputs": [
    {
     "name": "stdout",
     "output_type": "stream",
     "text": [
      "Number of GPU(s) available = 0\n",
      "PyTorch does not have access to GPU\n"
     ]
    }
   ],
   "source": [
    "# Check if there are multiple devices (i.e., GPU cards)-\n",
    "print(f\"Number of GPU(s) available = {torch.cuda.device_count()}\")\n",
    "\n",
    "# Which GPU Is The Current GPU?\n",
    "# print(f\"current GPU: {torch.cuda.current_device()}\")\n",
    "\n",
    "# Get the name of the current GPU-\n",
    "# print(f\"Current GPU name: {torch.cuda.get_device_name(torch.cuda.current_device())}\")\n",
    "\n",
    "# Is PyTorch using a GPU?\n",
    "# print(f\"Is PyTorch using a GPU? {torch.cuda.is_available()}\")\n",
    "\n",
    "if torch.cuda.is_available():\n",
    "    print(f\"Current GPU: {torch.cuda.current_device()}\")\n",
    "    print(f\"Current GPU name: {torch.cuda.get_device_name(torch.cuda.current_device())}\")\n",
    "else:\n",
    "    print(\"PyTorch does not have access to GPU\")"
   ]
  },
  {
   "cell_type": "code",
   "execution_count": 4,
   "id": "a74fb3c6-51dd-4623-a08a-15ff802f0f26",
   "metadata": {
    "colab": {
     "base_uri": "https://localhost:8080/"
    },
    "id": "a74fb3c6-51dd-4623-a08a-15ff802f0f26",
    "outputId": "3b662b07-08a1-4b32-c969-3b637d21e2dc"
   },
   "outputs": [
    {
     "name": "stdout",
     "output_type": "stream",
     "text": [
      "Available device is cpu\n"
     ]
    }
   ],
   "source": [
    "# Device configuration-\n",
    "device = torch.device('cuda' if torch.cuda.is_available() else 'cpu')\n",
    "print(f'Available device is {device}')"
   ]
  },
  {
   "cell_type": "code",
   "execution_count": null,
   "id": "3f61144c-4ebd-43ee-813e-4cca8eb252ee",
   "metadata": {
    "id": "3f61144c-4ebd-43ee-813e-4cca8eb252ee"
   },
   "outputs": [],
   "source": []
  },
  {
   "cell_type": "code",
   "execution_count": null,
   "id": "967c6909-825c-4026-8754-cea2f30da1e9",
   "metadata": {
    "id": "967c6909-825c-4026-8754-cea2f30da1e9"
   },
   "outputs": [],
   "source": []
  },
  {
   "cell_type": "code",
   "execution_count": 5,
   "id": "31eea16a-4876-43a5-8a12-4ca9d96869aa",
   "metadata": {
    "id": "31eea16a-4876-43a5-8a12-4ca9d96869aa"
   },
   "outputs": [],
   "source": [
    "# Specify hyper-parameters-\n",
    "num_epochs = 30\n",
    "batch_size = 64\n",
    "learning_rate = 0.001"
   ]
  },
  {
   "cell_type": "code",
   "execution_count": null,
   "id": "085c86a4-5f2f-4757-823f-8079fdcd438f",
   "metadata": {
    "id": "085c86a4-5f2f-4757-823f-8079fdcd438f"
   },
   "outputs": [],
   "source": []
  },
  {
   "cell_type": "code",
   "execution_count": null,
   "id": "5aa6cb32-16dd-4ac6-82c8-2efedd5c4a4b",
   "metadata": {
    "id": "5aa6cb32-16dd-4ac6-82c8-2efedd5c4a4b"
   },
   "outputs": [],
   "source": []
  },
  {
   "cell_type": "markdown",
   "id": "214c0655-166a-4473-ac0c-a6dcdf72f939",
   "metadata": {
    "id": "214c0655-166a-4473-ac0c-a6dcdf72f939"
   },
   "source": [
    "### Load and pre-process MNIST dataset:"
   ]
  },
  {
   "cell_type": "code",
   "execution_count": 6,
   "id": "d2a14267-abef-4c2e-a051-653fceac9588",
   "metadata": {
    "id": "d2a14267-abef-4c2e-a051-653fceac9588"
   },
   "outputs": [],
   "source": [
    "# Define transformations for MNIST dataset-\n",
    "# MNIST dataset statistics:\n",
    "# mean = tensor([0.1307]) & std dev = tensor([0.3081])\n",
    "mean = np.array([0.1307])\n",
    "std_dev = np.array([0.3081])\n",
    "\n",
    "transforms_apply = transforms.Compose([\n",
    "    transforms.ToTensor(),\n",
    "    transforms.Normalize(mean = mean, std = std_dev)\n",
    "    ])"
   ]
  },
  {
   "cell_type": "code",
   "execution_count": 7,
   "id": "830d7c67-0b8f-47c4-b91d-72743a066b14",
   "metadata": {
    "id": "830d7c67-0b8f-47c4-b91d-72743a066b14"
   },
   "outputs": [],
   "source": [
    "path_to_data = \"C:\\\\Users\\\\Arjun\\\\Desktop\\\\VAE_resources\\\\\""
   ]
  },
  {
   "cell_type": "code",
   "execution_count": 8,
   "id": "0a287d2c-eb3f-468c-b2bc-cab05168c862",
   "metadata": {
    "id": "0a287d2c-eb3f-468c-b2bc-cab05168c862"
   },
   "outputs": [
    {
     "name": "stderr",
     "output_type": "stream",
     "text": [
      "C:\\Users\\Arjun\\anaconda3\\envs\\pytorch-cpu\\lib\\site-packages\\torchvision\\datasets\\mnist.py:498: UserWarning: The given NumPy array is not writeable, and PyTorch does not support non-writeable tensors. This means you can write to the underlying (supposedly non-writeable) NumPy array using the tensor. You may want to copy the array to protect its data or make it writeable before converting it to a tensor. This type of warning will be suppressed for the rest of this program. (Triggered internally at  ..\\torch\\csrc\\utils\\tensor_numpy.cpp:180.)\n",
      "  return torch.from_numpy(parsed.astype(m[2], copy=False)).view(*s)\n"
     ]
    }
   ],
   "source": [
    "# Load MNIST dataset-\n",
    "train_dataset = torchvision.datasets.MNIST(\n",
    "        # root = './data', train = True,\n",
    "        root = path_to_data + \"data\", train = True,\n",
    "        transform = transforms_apply, download = True\n",
    "        )\n",
    "\n",
    "test_dataset = torchvision.datasets.MNIST(\n",
    "        # root = './data', train = False,\n",
    "        root = path_to_data + \"data\", train = False,\n",
    "        transform = transforms_apply\n",
    "        )\n"
   ]
  },
  {
   "cell_type": "code",
   "execution_count": 9,
   "id": "42a5c341-e339-4e15-abea-e6876a90194c",
   "metadata": {
    "id": "42a5c341-e339-4e15-abea-e6876a90194c"
   },
   "outputs": [],
   "source": [
    "# Create training and testing dataloaders-\n",
    "train_loader = torch.utils.data.DataLoader(\n",
    "        dataset = train_dataset, batch_size = batch_size,\n",
    "        shuffle = True\n",
    "        )\n",
    "\n",
    "test_loader = torch.utils.data.DataLoader(\n",
    "        dataset = test_dataset, batch_size = batch_size,\n",
    "        shuffle = False\n",
    "        )"
   ]
  },
  {
   "cell_type": "code",
   "execution_count": 10,
   "id": "aec56e76-da61-4795-b7f2-f409921f031b",
   "metadata": {
    "colab": {
     "base_uri": "https://localhost:8080/"
    },
    "id": "aec56e76-da61-4795-b7f2-f409921f031b",
    "outputId": "cc698e16-6beb-43e8-c8c8-7f9a6fc52d37"
   },
   "outputs": [
    {
     "name": "stdout",
     "output_type": "stream",
     "text": [
      "Sizes of train_dataset: 60000 and test_dataet: 10000\n",
      "Sizes of train_loader: 938 and test_loader: 157\n"
     ]
    }
   ],
   "source": [
    "print(f\"Sizes of train_dataset: {len(train_dataset)} and test_dataet: {len(test_dataset)}\")\n",
    "print(f\"Sizes of train_loader: {len(train_loader)} and test_loader: {len(test_loader)}\")"
   ]
  },
  {
   "cell_type": "code",
   "execution_count": 11,
   "id": "90848f57-ed68-4bd1-916a-500ee3e1f05b",
   "metadata": {
    "colab": {
     "base_uri": "https://localhost:8080/"
    },
    "id": "90848f57-ed68-4bd1-916a-500ee3e1f05b",
    "outputId": "167df965-ac14-4b09-e5c4-73b99940d17a"
   },
   "outputs": [
    {
     "name": "stdout",
     "output_type": "stream",
     "text": [
      "len(train_loader) = 938 & len(test_loader) = 157\n"
     ]
    }
   ],
   "source": [
    "print(f\"len(train_loader) = {len(train_loader)} & len(test_loader) = {len(test_loader)}\")"
   ]
  },
  {
   "cell_type": "code",
   "execution_count": 12,
   "id": "9089dc4c-ba3d-4cff-a444-f659340cdc13",
   "metadata": {
    "colab": {
     "base_uri": "https://localhost:8080/"
    },
    "id": "9089dc4c-ba3d-4cff-a444-f659340cdc13",
    "outputId": "24a7a018-763d-4379-fe8a-9bfc0afb6962"
   },
   "outputs": [
    {
     "data": {
      "text/plain": [
       "(937.5, 156.25)"
      ]
     },
     "execution_count": 12,
     "metadata": {},
     "output_type": "execute_result"
    }
   ],
   "source": [
    "# Sanity check-\n",
    "len(train_dataset) / batch_size, len(test_dataset) / batch_size"
   ]
  },
  {
   "cell_type": "code",
   "execution_count": null,
   "id": "ca93e9e4-e350-4ff0-9462-514045296497",
   "metadata": {
    "id": "ca93e9e4-e350-4ff0-9462-514045296497"
   },
   "outputs": [],
   "source": []
  },
  {
   "cell_type": "code",
   "execution_count": 13,
   "id": "f15cb805-f890-4d32-8a80-e3a305802f35",
   "metadata": {
    "colab": {
     "base_uri": "https://localhost:8080/"
    },
    "id": "f15cb805-f890-4d32-8a80-e3a305802f35",
    "outputId": "3a060080-9a2a-47a1-a5c6-dea02567e6bd"
   },
   "outputs": [
    {
     "name": "stdout",
     "output_type": "stream",
     "text": [
      "images.shape: torch.Size([64, 1, 28, 28]) & labels.shape: torch.Size([64])\n"
     ]
    }
   ],
   "source": [
    "# Get some random batch of training images & labels-\n",
    "images, labels = next(iter(train_loader))\n",
    "\n",
    "# You get 64 images due to the specified batch size-\n",
    "print(f\"images.shape: {images.shape} & labels.shape: {labels.shape}\")"
   ]
  },
  {
   "cell_type": "code",
   "execution_count": 14,
   "id": "452fdb3a-801b-4b98-8471-ffadc8f3f85a",
   "metadata": {
    "colab": {
     "base_uri": "https://localhost:8080/"
    },
    "id": "452fdb3a-801b-4b98-8471-ffadc8f3f85a",
    "outputId": "e3bdf0de-9335-4b59-c4be-82ab597753a3"
   },
   "outputs": [
    {
     "data": {
      "text/plain": [
       "torch.Size([64, 784])"
      ]
     },
     "execution_count": 14,
     "metadata": {},
     "output_type": "execute_result"
    }
   ],
   "source": [
    "# Reshape input so that it can be fed into LeNet-300-100 architecture model-\n",
    "images.reshape(-1, 28 * 28 * 1).shape"
   ]
  },
  {
   "cell_type": "code",
   "execution_count": null,
   "id": "b13b1d9a-87be-43ca-ab06-145056edef8f",
   "metadata": {
    "id": "b13b1d9a-87be-43ca-ab06-145056edef8f"
   },
   "outputs": [],
   "source": []
  },
  {
   "cell_type": "code",
   "execution_count": 15,
   "id": "309c02db-9103-4b37-8b53-55d8984c8b9b",
   "metadata": {
    "colab": {
     "base_uri": "https://localhost:8080/",
     "height": 274
    },
    "id": "309c02db-9103-4b37-8b53-55d8984c8b9b",
    "outputId": "76f52366-a3ba-4b59-bca7-06e71ea8ad9e"
   },
   "outputs": [
    {
     "data": {
      "image/png": "[encoded data removed]",
      "text/plain": [
       "<Figure size 432x288 with 10 Axes>"
      ]
     },
     "metadata": {
      "needs_background": "light"
     },
     "output_type": "display_data"
    }
   ],
   "source": [
    "# Visualize 10 images from training set-\n",
    "for i in range(10):\n",
    "    plt.subplot(2, 5, i + 1)    # 2 rows & 5 columns\n",
    "    plt.imshow(images[i][0], cmap = 'gray')     # '0' to access first channel\n",
    "    \n",
    "plt.suptitle(\"Sample MNIST training images\")\n",
    "plt.show()"
   ]
  },
  {
   "cell_type": "code",
   "execution_count": null,
   "id": "c2bcaf73-93af-407e-adb1-c0066d4deed7",
   "metadata": {
    "id": "c2bcaf73-93af-407e-adb1-c0066d4deed7"
   },
   "outputs": [],
   "source": []
  },
  {
   "cell_type": "code",
   "execution_count": null,
   "id": "3e73c656-ce0a-4bfd-b78d-7a03faf40607",
   "metadata": {
    "id": "3e73c656-ce0a-4bfd-b78d-7a03faf40607"
   },
   "outputs": [],
   "source": []
  },
  {
   "cell_type": "markdown",
   "id": "4029600b-f16f-45f0-9dbf-f0e0bedaeaf9",
   "metadata": {
    "id": "4029600b-f16f-45f0-9dbf-f0e0bedaeaf9"
   },
   "source": [
    "### _Variational Autoencoder_ architecture - _Dense_ layers"
   ]
  },
  {
   "cell_type": "code",
   "execution_count": 16,
   "id": "76f5e8ca-d998-457b-a848-18691eb61adf",
   "metadata": {
    "id": "76f5e8ca-d998-457b-a848-18691eb61adf"
   },
   "outputs": [],
   "source": [
    "class VAE_Dense(nn.Module):\n",
    "    def __init__(self, latent_space = 5):\n",
    "        super(VAE_Dense, self).__init__()\n",
    "        \n",
    "        self.latent_space = latent_space\n",
    "        \n",
    "        # Encoder-\n",
    "        self.enc_layer1 = nn.Linear(\n",
    "            in_features = 28 * 28 * 1, out_features = 512,\n",
    "            bias = True\n",
    "        )\n",
    "        \n",
    "        self.enc_layer2 = nn.Linear(\n",
    "            in_features = 512, out_features = latent_space,\n",
    "            bias = True\n",
    "        )\n",
    "        \n",
    "        # Two additional layers 'hidden2mu' & 'hidden2log' to convert the bottleneck into the μ and σ vectors-\n",
    "        self.hidden2mu = nn.Linear(in_features = latent_space, out_features = latent_space, bias = True)\n",
    "        self.hidden2log_var = nn.Linear(in_features = latent_space, out_features = latent_space, bias = True)\n",
    "        \n",
    "        # Decoder-\n",
    "        self.dec_layer1 = nn.Linear(\n",
    "            in_features = self.latent_space, out_features = 512,\n",
    "            bias = True\n",
    "        )\n",
    "        self.dec_layer2 = nn.Linear(\n",
    "            in_features = 512, out_features = 28 * 28 * 1,\n",
    "            bias = True\n",
    "        )\n",
    "        \n",
    "        \n",
    "    def reparameterize(self, mu, log_var):\n",
    "        '''\n",
    "        Input arguments:\n",
    "        1. mu - mean coming from the encoder's latent space\n",
    "        2. log_var - log variance coming from the encoder's latent space\n",
    "        '''\n",
    "        # Compute standard deviation using 'log_var'-\n",
    "        std = torch.exp(0.5 * log_var)\n",
    "        \n",
    "        # 'eps' samples from a normal standard distribution to add\n",
    "        # stochasticity to the sampling process-\n",
    "        eps = torch.randn_like(std)\n",
    "        \n",
    "        # Reparameterization trick - sample as if it's from the input\n",
    "        # space-\n",
    "        sample = mu + (std * eps)\n",
    "        \n",
    "        return sample\n",
    "    \n",
    "    \n",
    "    def forward(self, x):\n",
    "        # Encode input data-\n",
    "        x = F.relu(self.enc_layer1(x.view(-1, 28 * 28 * 1)))\n",
    "        x = F.relu(self.enc_layer2(x))\n",
    "        # NOTE: The line of code above does NOT give us the latent vector!\n",
    "        \n",
    "        # print(f\"encoder's output x.shape: {x.shape}\")\n",
    "        \n",
    "        mu = self.hidden2mu(x)\n",
    "        log_var = self.hidden2log_var(x)\n",
    "        \n",
    "        # Obtain the latent vector using reparameterization-\n",
    "        z = self.reparameterize(mu, log_var)\n",
    "        # latent vector 'z' is obtained through reparameterization trick using mu and log_var\n",
    "        \n",
    "        '''\n",
    "        print(f\"mu.shape: {mu.shape}, log_var.shape: {log_var.shape} &\"\n",
    "              f\" z.shape: {z.shape}\")\n",
    "        '''\n",
    "        \n",
    "        # Decode latent vector-\n",
    "        x = F.relu(self.dec_layer1(z))\n",
    "        recon_data = torch.sigmoid(self.dec_layer2(x)) # or, tanh\n",
    "        \n",
    "        return recon_data, mu, log_var\n",
    "        "
   ]
  },
  {
   "cell_type": "code",
   "execution_count": null,
   "id": "b9c5c07a-fa64-49e4-944c-22814fbb94de",
   "metadata": {
    "id": "b9c5c07a-fa64-49e4-944c-22814fbb94de"
   },
   "outputs": [],
   "source": []
  },
  {
   "cell_type": "code",
   "execution_count": 17,
   "id": "9d08548f-5dd2-4e09-95b6-e43bcbbf598d",
   "metadata": {
    "id": "9d08548f-5dd2-4e09-95b6-e43bcbbf598d"
   },
   "outputs": [],
   "source": [
    "# Initialize a VAE objetc-\n",
    "model = VAE_Dense(latent_space = 5).to(device)"
   ]
  },
  {
   "cell_type": "code",
   "execution_count": null,
   "id": "3db12ec6-36dc-4cd8-9fc4-a46523ac5ce7",
   "metadata": {
    "id": "3db12ec6-36dc-4cd8-9fc4-a46523ac5ce7"
   },
   "outputs": [],
   "source": []
  },
  {
   "cell_type": "code",
   "execution_count": 18,
   "id": "be32f07f-999e-47ce-9367-c2d285f0a157",
   "metadata": {
    "colab": {
     "base_uri": "https://localhost:8080/"
    },
    "id": "be32f07f-999e-47ce-9367-c2d285f0a157",
    "outputId": "20ee94a3-85cc-4893-da8a-93f6aa360554"
   },
   "outputs": [
    {
     "name": "stdout",
     "output_type": "stream",
     "text": [
      "VAE_Dense(\n",
      "  (enc_layer1): Linear(in_features=784, out_features=512, bias=True)\n",
      "  (enc_layer2): Linear(in_features=512, out_features=5, bias=True)\n",
      "  (hidden2mu): Linear(in_features=5, out_features=5, bias=True)\n",
      "  (hidden2log_var): Linear(in_features=5, out_features=5, bias=True)\n",
      "  (dec_layer1): Linear(in_features=5, out_features=512, bias=True)\n",
      "  (dec_layer2): Linear(in_features=512, out_features=784, bias=True)\n",
      ")\n"
     ]
    }
   ],
   "source": [
    "print(model)"
   ]
  },
  {
   "cell_type": "code",
   "execution_count": null,
   "id": "fbd4ec8d-40e9-4c44-ae96-9a4964ad4e46",
   "metadata": {
    "id": "fbd4ec8d-40e9-4c44-ae96-9a4964ad4e46"
   },
   "outputs": [],
   "source": []
  },
  {
   "cell_type": "code",
   "execution_count": 19,
   "id": "0e0ef2ec-357a-4d35-acb0-e5a3ad519905",
   "metadata": {
    "colab": {
     "base_uri": "https://localhost:8080/"
    },
    "id": "0e0ef2ec-357a-4d35-acb0-e5a3ad519905",
    "outputId": "192e8636-f9c1-46ab-a4ea-263b3a00a1a3"
   },
   "outputs": [
    {
     "name": "stdout",
     "output_type": "stream",
     "text": [
      "layer.shape = torch.Size([512, 784]) has 401408 parameters\n",
      "layer.shape = torch.Size([512]) has 512 parameters\n",
      "layer.shape = torch.Size([5, 512]) has 2560 parameters\n",
      "layer.shape = torch.Size([5]) has 5 parameters\n",
      "layer.shape = torch.Size([5, 5]) has 25 parameters\n",
      "layer.shape = torch.Size([5]) has 5 parameters\n",
      "layer.shape = torch.Size([5, 5]) has 25 parameters\n",
      "layer.shape = torch.Size([5]) has 5 parameters\n",
      "layer.shape = torch.Size([512, 5]) has 2560 parameters\n",
      "layer.shape = torch.Size([512]) has 512 parameters\n",
      "layer.shape = torch.Size([784, 512]) has 401408 parameters\n",
      "layer.shape = torch.Size([784]) has 784 parameters\n"
     ]
    }
   ],
   "source": [
    "# Count number of layer-wise parameters and total parameters-\n",
    "tot_params = 0\n",
    "for param in model.parameters():\n",
    "    print(f\"layer.shape = {param.shape} has {param.nelement()} parameters\")\n",
    "    tot_params += param.nelement()"
   ]
  },
  {
   "cell_type": "code",
   "execution_count": 22,
   "id": "ff8bc997-fe2d-465d-bbb5-929b4c2292b3",
   "metadata": {
    "colab": {
     "base_uri": "https://localhost:8080/"
    },
    "id": "ff8bc997-fe2d-465d-bbb5-929b4c2292b3",
    "outputId": "4cfd3275-82c3-4062-fd54-e89609a7100a"
   },
   "outputs": [
    {
     "name": "stdout",
     "output_type": "stream",
     "text": [
      "Total number of parameters in VAE Dense model = 809809\n"
     ]
    }
   ],
   "source": [
    "print(f\"Total number of parameters in VAE Dense model = {tot_params}\")"
   ]
  },
  {
   "cell_type": "code",
   "execution_count": null,
   "id": "dc482d31-8b13-4184-9e75-2b2c36444f37",
   "metadata": {},
   "outputs": [],
   "source": []
  },
  {
   "cell_type": "code",
   "execution_count": null,
   "id": "c10446b5-5dec-4ec7-8a89-83fbe4e4d72c",
   "metadata": {},
   "outputs": [],
   "source": []
  },
  {
   "cell_type": "markdown",
   "id": "d57ccc99-5c10-4456-af38-4801c9fe80e9",
   "metadata": {
    "id": "rMH47UZ-xse_"
   },
   "source": [
    "### Initial _variance_ - Sanity check:\n",
    "\n",
    "_Before_ training the VAE neural network model, there should be some initial variance."
   ]
  },
  {
   "cell_type": "code",
   "execution_count": 20,
   "id": "85b2242c-1d07-4a75-b2b2-3b2c7fdb8c62",
   "metadata": {
    "colab": {
     "base_uri": "https://localhost:8080/"
    },
    "id": "hJzaYABYvhXv",
    "outputId": "41911c72-31ea-45af-ba86-d92aaa5f7210"
   },
   "outputs": [
    {
     "name": "stdout",
     "output_type": "stream",
     "text": [
      "torch.Size([5, 5]) 25\n",
      "torch.Size([5]) 5\n"
     ]
    }
   ],
   "source": [
    "for x in model.hidden2mu.parameters():\n",
    "    print(x.shape, x.nelement())"
   ]
  },
  {
   "cell_type": "code",
   "execution_count": 21,
   "id": "42ca4c7e-ff68-45bd-9f30-5017c4cbdde2",
   "metadata": {
    "id": "rh66ZwUAwPKJ"
   },
   "outputs": [],
   "source": [
    "log_var_wts = model.hidden2log_var.weight"
   ]
  },
  {
   "cell_type": "code",
   "execution_count": 22,
   "id": "98b1651f-99f9-4977-9e8b-68918e3a259a",
   "metadata": {
    "id": "q-j-5_VGv1jt"
   },
   "outputs": [],
   "source": [
    "mu_wts = model.hidden2mu.weight"
   ]
  },
  {
   "cell_type": "code",
   "execution_count": 23,
   "id": "985bcad9-a107-49d8-a65f-562b6e644b1a",
   "metadata": {
    "id": "dJARYX0cwJfD"
   },
   "outputs": [],
   "source": [
    "mu_wts = mu_wts.detach().cpu().numpy()"
   ]
  },
  {
   "cell_type": "code",
   "execution_count": 24,
   "id": "692a53ef-e849-4d56-9852-0a444444007e",
   "metadata": {
    "id": "x7-zEsvcwN2V"
   },
   "outputs": [],
   "source": [
    "log_var_wts = log_var_wts.detach().cpu().numpy()"
   ]
  },
  {
   "cell_type": "code",
   "execution_count": 25,
   "id": "40f921f8-7a8c-4b6d-a62f-343bea892d41",
   "metadata": {
    "colab": {
     "base_uri": "https://localhost:8080/"
    },
    "id": "cdhDQZU-wWQ7",
    "outputId": "2b1913b7-c7c9-4c8a-bcc7-b224365add0a"
   },
   "outputs": [
    {
     "data": {
      "text/plain": [
       "((5, 5), (5, 5))"
      ]
     },
     "execution_count": 25,
     "metadata": {},
     "output_type": "execute_result"
    }
   ],
   "source": [
    "mu_wts.shape, log_var_wts.shape"
   ]
  },
  {
   "cell_type": "code",
   "execution_count": null,
   "id": "6a032664-b00f-4be1-a241-8aff8bec8c94",
   "metadata": {
    "id": "m3Gz3BmCwp4h"
   },
   "outputs": [],
   "source": []
  },
  {
   "cell_type": "code",
   "execution_count": 26,
   "id": "82e8994c-10af-41e9-ba03-92b504a94fc7",
   "metadata": {
    "colab": {
     "base_uri": "https://localhost:8080/",
     "height": 385
    },
    "id": "HgzluinKxO2f",
    "outputId": "a27905ba-06d4-44de-a1d0-567fb4c5ad2c"
   },
   "outputs": [
    {
     "data": {
      "image/png": "[encoded data removed]",
      "text/plain": [
       "<Figure size 360x360 with 1 Axes>"
      ]
     },
     "metadata": {
      "needs_background": "light"
     },
     "output_type": "display_data"
    }
   ],
   "source": [
    "sns.displot(data = mu_wts.flatten(), bins = int(np.ceil(np.sqrt(mu_wts.size))))\n",
    "plt.title(\"mu Visualization\")\n",
    "plt.show()"
   ]
  },
  {
   "cell_type": "code",
   "execution_count": 27,
   "id": "d938469f-8381-46d6-9530-fa37c07960a1",
   "metadata": {
    "colab": {
     "base_uri": "https://localhost:8080/",
     "height": 385
    },
    "id": "M3M9In0DxYx9",
    "outputId": "f22fdf36-30f6-4755-d32e-ad58a3debff7"
   },
   "outputs": [
    {
     "data": {
      "image/png": "[encoded data removed]",
      "text/plain": [
       "<Figure size 360x360 with 1 Axes>"
      ]
     },
     "metadata": {
      "needs_background": "light"
     },
     "output_type": "display_data"
    }
   ],
   "source": [
    "sns.displot(data = log_var_wts.flatten(), bins = int(np.ceil(np.sqrt(log_var_wts.size))))\n",
    "plt.title(\"log variance Visualization\")\n",
    "plt.show()"
   ]
  },
  {
   "cell_type": "code",
   "execution_count": 28,
   "id": "cadc816d-9bf5-4d3a-95fe-b737e3120526",
   "metadata": {
    "id": "0jBPklKuxg38"
   },
   "outputs": [],
   "source": [
    "del mu_wts, log_var_wts"
   ]
  },
  {
   "cell_type": "code",
   "execution_count": 22,
   "id": "fc8c8e8a-31bb-419f-b916-ceeb02ae1240",
   "metadata": {
    "id": "fc8c8e8a-31bb-419f-b916-ceeb02ae1240"
   },
   "outputs": [],
   "source": []
  },
  {
   "cell_type": "code",
   "execution_count": 29,
   "id": "iGRzJXK5X8qq",
   "metadata": {
    "id": "iGRzJXK5X8qq"
   },
   "outputs": [],
   "source": [
    "images = images.to(device)"
   ]
  },
  {
   "cell_type": "code",
   "execution_count": 30,
   "id": "9c377c9f-77f0-41af-be18-56d86ccc28fe",
   "metadata": {
    "colab": {
     "base_uri": "https://localhost:8080/"
    },
    "id": "9c377c9f-77f0-41af-be18-56d86ccc28fe",
    "outputId": "1185d33c-b893-408a-8c8c-5df5b374813d"
   },
   "outputs": [
    {
     "data": {
      "text/plain": [
       "torch.Size([64, 1, 28, 28])"
      ]
     },
     "execution_count": 30,
     "metadata": {},
     "output_type": "execute_result"
    }
   ],
   "source": [
    "images.shape"
   ]
  },
  {
   "cell_type": "code",
   "execution_count": 31,
   "id": "bbc7f380-fe3b-437a-b6f8-e889798c1d9a",
   "metadata": {
    "id": "bbc7f380-fe3b-437a-b6f8-e889798c1d9a"
   },
   "outputs": [],
   "source": [
    "# Sanity check-\n",
    "recon_images, mu, log_var = model(images)"
   ]
  },
  {
   "cell_type": "code",
   "execution_count": 32,
   "id": "86055c77-fe58-42cc-a865-d21939bcbb42",
   "metadata": {
    "colab": {
     "base_uri": "https://localhost:8080/"
    },
    "id": "86055c77-fe58-42cc-a865-d21939bcbb42",
    "outputId": "b2bad30f-66e1-43b4-d15a-87694d2ea613"
   },
   "outputs": [
    {
     "data": {
      "text/plain": [
       "(torch.Size([64, 784]), torch.Size([64, 5]), torch.Size([64, 5]))"
      ]
     },
     "execution_count": 32,
     "metadata": {},
     "output_type": "execute_result"
    }
   ],
   "source": [
    "recon_images.shape, mu.shape, log_var.shape"
   ]
  },
  {
   "cell_type": "code",
   "execution_count": 33,
   "id": "4cf7de18-b592-4bcd-81df-cac256e1a09f",
   "metadata": {},
   "outputs": [],
   "source": [
    "del recon_images, mu, log_var"
   ]
  },
  {
   "cell_type": "code",
   "execution_count": null,
   "id": "f8502998-13b2-48cb-8eb3-84d987ec652c",
   "metadata": {},
   "outputs": [],
   "source": []
  },
  {
   "cell_type": "code",
   "execution_count": null,
   "id": "8fb2c6b5-3117-43db-b2f8-d9efdbbb287d",
   "metadata": {},
   "outputs": [],
   "source": []
  },
  {
   "cell_type": "code",
   "execution_count": 34,
   "id": "b56d86af-6364-478a-b197-5219bfaf40d0",
   "metadata": {
    "colab": {
     "base_uri": "https://localhost:8080/"
    },
    "id": "b56d86af-6364-478a-b197-5219bfaf40d0",
    "outputId": "fa49d45d-1d96-4702-cb50-f6ba9fd01d3d"
   },
   "outputs": [
    {
     "name": "stdout",
     "output_type": "stream",
     "text": [
      "Adam optimizer with learning rate = 0.001 will be used\n"
     ]
    }
   ],
   "source": [
    "print(f\"Adam optimizer with learning rate = {learning_rate} will be used\")"
   ]
  },
  {
   "cell_type": "code",
   "execution_count": 35,
   "id": "5371dd75-db32-476a-8918-e61abef9c6cb",
   "metadata": {
    "id": "5371dd75-db32-476a-8918-e61abef9c6cb"
   },
   "outputs": [],
   "source": [
    "# Define gradient descent optimizer-\n",
    "optimizer = torch.optim.Adam(model.parameters(), lr = learning_rate)"
   ]
  },
  {
   "cell_type": "code",
   "execution_count": 36,
   "id": "f95bdc9d-069d-4a26-8fbd-6a3e72c71d4b",
   "metadata": {
    "id": "f95bdc9d-069d-4a26-8fbd-6a3e72c71d4b"
   },
   "outputs": [],
   "source": [
    "# Reconstruction loss-\n",
    "# criterion = nn.BCELoss(reduction = 'sum')\n",
    "\n",
    "# Note: reduction='sum' is used for the BCELoss(). If you read the PyTorch documentations, then this is\n",
    "# specifically for the case of autoencoders only.\n",
    "\n",
    "# Also, MSE loss could also be used-\n",
    "criterion = nn.MSELoss(reduction = 'sum')"
   ]
  },
  {
   "cell_type": "code",
   "execution_count": null,
   "id": "4883f7d5-498e-424a-804f-dfefd38896fe",
   "metadata": {
    "id": "4883f7d5-498e-424a-804f-dfefd38896fe"
   },
   "outputs": [],
   "source": []
  },
  {
   "cell_type": "code",
   "execution_count": 37,
   "id": "6b3a876c-4fdb-4afe-83a9-a36958f43c1f",
   "metadata": {
    "id": "6b3a876c-4fdb-4afe-83a9-a36958f43c1f"
   },
   "outputs": [],
   "source": [
    "def total_loss(reconstruction_loss, mu, log_var, alpha = 1):\n",
    "    '''\n",
    "    Function to add reconstruction loss and KL-Divergence loss.\n",
    "    KL-Divergence = 0.5 * sum(1 + log(sigma^2) - mu^2 - sigma^2)\n",
    "    \n",
    "    Inputs:\n",
    "    1. recontruction loss - BCE or MSE loss\n",
    "    2. mu: mean from the latent vector\n",
    "    3. logvar: log variance from the latent vector\n",
    "    4. alpha (int): Hyperparameter to control the importance of reconstruction\n",
    "    loss vs KL-Divergence Loss.\n",
    "    '''\n",
    "    KLD = -0.5 * torch.sum(1 + log_var - mu.pow(2) - log_var.exp())\n",
    "    \n",
    "    # final_loss = reconstruction_loss + KLD\n",
    "    final_loss = (reconstruction_loss * alpha) + KLD\n",
    "    \n",
    "    return final_loss\n"
   ]
  },
  {
   "cell_type": "code",
   "execution_count": null,
   "id": "5ee038df-9f91-4407-a51e-383aaa5a8282",
   "metadata": {
    "id": "5ee038df-9f91-4407-a51e-383aaa5a8282"
   },
   "outputs": [],
   "source": []
  },
  {
   "cell_type": "code",
   "execution_count": null,
   "id": "39a2f819-2fb9-457b-bfb4-b0a7faa768ea",
   "metadata": {
    "id": "39a2f819-2fb9-457b-bfb4-b0a7faa768ea"
   },
   "outputs": [],
   "source": []
  },
  {
   "cell_type": "code",
   "execution_count": 38,
   "id": "dc258df0-82e1-4afa-8720-d29ebdd2c6c0",
   "metadata": {
    "id": "dc258df0-82e1-4afa-8720-d29ebdd2c6c0"
   },
   "outputs": [],
   "source": [
    "def train_one_epoch(model, dataloader, alpha):\n",
    "    \n",
    "    # Place model to device-\n",
    "    model.to(device)\n",
    "    \n",
    "    # Enable training mode-\n",
    "    model.train()\n",
    "    \n",
    "    running_loss = 0.0\n",
    "    \n",
    "    for i, data in tqdm(enumerate(dataloader), total = int(len(train_dataset) / dataloader.batch_size)):\n",
    "        data, _ = data\n",
    "        data = data.to(device)\n",
    "        \n",
    "        # Flatten input data to feed into a dense layer-\n",
    "        data = data.view(data.size(0), -1)\n",
    "        \n",
    "        # Empty accumulated gradients-\n",
    "        optimizer.zero_grad()\n",
    "        \n",
    "        # Perform forward propagation-\n",
    "        reconstruction, mu, logvar = model(data)\n",
    "        \n",
    "        # Compute reconstruction loss-\n",
    "        bce_loss = criterion(reconstruction, data)\n",
    "        \n",
    "        # Compute final loss-\n",
    "        loss = total_loss(bce_loss, mu, logvar, alpha)\n",
    "        \n",
    "        # Update loss-\n",
    "        running_loss += loss.item()\n",
    "        \n",
    "        # Compute gradients wrt loss-\n",
    "        loss.backward()\n",
    "        \n",
    "        # Perform gradient descent-\n",
    "        optimizer.step()\n",
    "        \n",
    "    train_loss = running_loss/len(dataloader.dataset)\n",
    "    \n",
    "    return train_loss, mu, logvar\n"
   ]
  },
  {
   "cell_type": "code",
   "execution_count": null,
   "id": "e0b8c2ea-64c3-4106-a7f4-78204e7a7d8e",
   "metadata": {
    "id": "e0b8c2ea-64c3-4106-a7f4-78204e7a7d8e"
   },
   "outputs": [],
   "source": []
  },
  {
   "cell_type": "code",
   "execution_count": 39,
   "id": "0a228991-3c4f-4b97-8b7f-d5b76cbf6381",
   "metadata": {
    "id": "0a228991-3c4f-4b97-8b7f-d5b76cbf6381"
   },
   "outputs": [],
   "source": [
    "def validate_one_epoch(model, dataloader, alpha):\n",
    "    \n",
    "    # Place model to device-\n",
    "    model.to(device)\n",
    "    \n",
    "    # Enable evaluation mode-\n",
    "    model.eval()\n",
    "    \n",
    "    running_loss = 0.0\n",
    "    \n",
    "    with torch.no_grad():\n",
    "        for i, data in tqdm(enumerate(dataloader), total = int(len(test_dataset) / dataloader.batch_size)):\n",
    "            data, _ = data\n",
    "            data = data.to(device)\n",
    "            \n",
    "            # Flatten data to feed into a dense layer-\n",
    "            data = data.view(data.size(0), -1)\n",
    "            \n",
    "            # Forward propagation-\n",
    "            reconstruction, mu, logvar = model(data)\n",
    "            \n",
    "            # Compute reconstruction loss-\n",
    "            bce_loss = criterion(reconstruction, data)\n",
    "            \n",
    "            # Compute total loss-\n",
    "            loss = total_loss(bce_loss, mu, logvar, alpha)\n",
    "            \n",
    "            # Update loss-\n",
    "            running_loss += loss.item()\n",
    "\n",
    "            '''\n",
    "            # save the last batch input and output of every epoch\n",
    "            if i == int(len(test_dataset) / dataloader.batch_size) - 1:\n",
    "                num_rows = 8\n",
    "                both = torch.cat((data.view(batch_size, 1, 28, 28)[:8], \n",
    "                                  reconstruction.view(batch_size, 1, 28, 28)[:8]))\n",
    "                save_image(both.cpu(), f\"../outputs/output{epoch}.png\", nrow=num_rows)\n",
    "            '''\n",
    "            \n",
    "    val_loss = running_loss / len(dataloader.dataset)\n",
    "    \n",
    "    return val_loss, mu, logvar\n"
   ]
  },
  {
   "cell_type": "code",
   "execution_count": null,
   "id": "7558f1ee-0e4d-4194-b858-39d0056b79af",
   "metadata": {
    "id": "7558f1ee-0e4d-4194-b858-39d0056b79af"
   },
   "outputs": [],
   "source": []
  },
  {
   "cell_type": "code",
   "execution_count": null,
   "id": "79362c0a-5a90-4a19-8200-3fc196d8e371",
   "metadata": {
    "id": "79362c0a-5a90-4a19-8200-3fc196d8e371",
    "outputId": "ce8b8470-e17f-4c9e-b4fd-b92dba7d15d0"
   },
   "outputs": [],
   "source": [
    "# Sanity check-\n",
    "# train_loss = train_one_epoch(model = model, dataloader = train_loader, alpha = 1)"
   ]
  },
  {
   "cell_type": "code",
   "execution_count": null,
   "id": "8d6d2757-37a5-40e0-9f9a-415ba9165f6e",
   "metadata": {
    "id": "8d6d2757-37a5-40e0-9f9a-415ba9165f6e",
    "outputId": "9b829672-74d6-479d-87da-95b06577a300"
   },
   "outputs": [],
   "source": [
    "# Sanity check-\n",
    "# test_loss = validate_one_epoch(model = model, dataloader = test_loader, aplha = 1)"
   ]
  },
  {
   "cell_type": "code",
   "execution_count": 46,
   "id": "059cac80-7078-4b18-b581-a8133bbc57cf",
   "metadata": {
    "id": "059cac80-7078-4b18-b581-a8133bbc57cf",
    "outputId": "07eb1210-596a-47f0-8bb0-5bf968617716"
   },
   "outputs": [],
   "source": [
    "# print(f\"train loss = {train_loss:.4f} & test loss = {test_loss:.4f}\")"
   ]
  },
  {
   "cell_type": "code",
   "execution_count": null,
   "id": "2c2036e4-194f-4b59-a198-6e83ff274610",
   "metadata": {
    "id": "2c2036e4-194f-4b59-a198-6e83ff274610"
   },
   "outputs": [],
   "source": []
  },
  {
   "cell_type": "code",
   "execution_count": null,
   "id": "32a93104-ffd6-42f4-b6f3-7d6ceb16aa98",
   "metadata": {
    "id": "32a93104-ffd6-42f4-b6f3-7d6ceb16aa98"
   },
   "outputs": [],
   "source": []
  },
  {
   "cell_type": "code",
   "execution_count": 40,
   "id": "4c708086-044a-42bf-95c6-9b11935a4901",
   "metadata": {
    "id": "4c708086-044a-42bf-95c6-9b11935a4901"
   },
   "outputs": [],
   "source": [
    "# Specify alpha - Hyperparameter to control the importance of reconstruction\n",
    "# loss vs KL-Divergence Loss-\n",
    "alpha = 1"
   ]
  },
  {
   "cell_type": "code",
   "execution_count": null,
   "id": "56bc9183-c959-4d0f-90b1-9c3f1555cec7",
   "metadata": {
    "id": "56bc9183-c959-4d0f-90b1-9c3f1555cec7"
   },
   "outputs": [],
   "source": []
  },
  {
   "cell_type": "code",
   "execution_count": 41,
   "id": "18003b45-4f60-474e-87d6-25f8e936a9cd",
   "metadata": {
    "id": "18003b45-4f60-474e-87d6-25f8e936a9cd"
   },
   "outputs": [],
   "source": [
    "# Python dict to contain training metrics-\n",
    "train_history = {}"
   ]
  },
  {
   "cell_type": "code",
   "execution_count": null,
   "id": "de0bf942-2cb7-4526-ade1-21b1dfe221e0",
   "metadata": {},
   "outputs": [],
   "source": []
  },
  {
   "cell_type": "code",
   "execution_count": 42,
   "id": "dc0b9e88-7159-467d-b02a-f5f95398600d",
   "metadata": {
    "colab": {
     "base_uri": "https://localhost:8080/"
    },
    "id": "nhMY1nkiElZG",
    "outputId": "7d9013e2-61bb-49f4-c24b-b24de75c5794"
   },
   "outputs": [
    {
     "name": "stdout",
     "output_type": "stream",
     "text": [
      "Training VAE model for 30 epochs\n"
     ]
    }
   ],
   "source": [
    "print(f\"Training VAE model for {num_epochs} epochs\")"
   ]
  },
  {
   "cell_type": "code",
   "execution_count": null,
   "id": "dd33bc14-d75d-410c-8331-647a559b6b41",
   "metadata": {
    "id": "t0PibAAJEots"
   },
   "outputs": [],
   "source": []
  },
  {
   "cell_type": "code",
   "execution_count": 43,
   "id": "0d2e906a-924f-49e1-8c57-1adc92201d38",
   "metadata": {
    "colab": {
     "base_uri": "https://localhost:8080/"
    },
    "id": "8a71980b-7296-4f21-83f4-9ffaf76f2234",
    "outputId": "f894ae26-a2f0-475c-f4b3-6d966e834542"
   },
   "outputs": [
    {
     "name": "stderr",
     "output_type": "stream",
     "text": [
      "938it [00:24, 38.53it/s]                                                                                               \n",
      "157it [00:02, 70.27it/s]                                                                                               \n"
     ]
    },
    {
     "name": "stdout",
     "output_type": "stream",
     "text": [
      "Epoch = 1; train loss = 564.9222,test loss = 526.3487, train_logvar = -3.242538, train_mu = -0.410372, val_logvar = -3.295785 & val_mu = -0.432964\n"
     ]
    },
    {
     "name": "stderr",
     "output_type": "stream",
     "text": [
      "938it [00:27, 34.23it/s]                                                                                               \n",
      "157it [00:02, 72.94it/s]                                                                                               \n"
     ]
    },
    {
     "name": "stdout",
     "output_type": "stream",
     "text": [
      "Epoch = 2; train loss = 513.9639,test loss = 509.9031, train_logvar = -4.215951, train_mu = -0.503489, val_logvar = -3.783984 & val_mu = -0.392040\n"
     ]
    },
    {
     "name": "stderr",
     "output_type": "stream",
     "text": [
      "938it [00:27, 34.20it/s]                                                                                               \n",
      "157it [00:02, 58.96it/s]                                                                                               \n"
     ]
    },
    {
     "name": "stdout",
     "output_type": "stream",
     "text": [
      "Epoch = 3; train loss = 503.5053,test loss = 503.6503, train_logvar = -3.968493, train_mu = -0.424924, val_logvar = -3.703742 & val_mu = -0.361283\n"
     ]
    },
    {
     "name": "stderr",
     "output_type": "stream",
     "text": [
      "938it [00:27, 33.78it/s]                                                                                               \n",
      "157it [00:02, 67.55it/s]                                                                                               \n"
     ]
    },
    {
     "name": "stdout",
     "output_type": "stream",
     "text": [
      "Epoch = 4; train loss = 498.1974,test loss = 499.0942, train_logvar = -3.729372, train_mu = -0.307252, val_logvar = -3.786148 & val_mu = -0.302332\n"
     ]
    },
    {
     "name": "stderr",
     "output_type": "stream",
     "text": [
      "938it [00:29, 32.14it/s]                                                                                               \n",
      "157it [00:01, 80.11it/s]                                                                                               \n"
     ]
    },
    {
     "name": "stdout",
     "output_type": "stream",
     "text": [
      "Epoch = 5; train loss = 494.9436,test loss = 496.6619, train_logvar = -3.789744, train_mu = -0.124166, val_logvar = -3.776186 & val_mu = -0.259665\n"
     ]
    },
    {
     "name": "stderr",
     "output_type": "stream",
     "text": [
      "938it [00:27, 33.67it/s]                                                                                               \n",
      "157it [00:02, 67.79it/s]                                                                                               \n"
     ]
    },
    {
     "name": "stdout",
     "output_type": "stream",
     "text": [
      "Epoch = 6; train loss = 492.7587,test loss = 495.2298, train_logvar = -3.898631, train_mu = -0.219262, val_logvar = -3.714926 & val_mu = -0.236539\n"
     ]
    },
    {
     "name": "stderr",
     "output_type": "stream",
     "text": [
      "938it [00:28, 33.16it/s]                                                                                               \n",
      "157it [00:02, 65.42it/s]                                                                                               \n"
     ]
    },
    {
     "name": "stdout",
     "output_type": "stream",
     "text": [
      "Epoch = 7; train loss = 491.1763,test loss = 493.8175, train_logvar = -4.022129, train_mu = -0.236286, val_logvar = -3.894810 & val_mu = -0.233281\n"
     ]
    },
    {
     "name": "stderr",
     "output_type": "stream",
     "text": [
      "938it [00:28, 33.19it/s]                                                                                               \n",
      "157it [00:02, 77.91it/s]                                                                                               \n"
     ]
    },
    {
     "name": "stdout",
     "output_type": "stream",
     "text": [
      "Epoch = 8; train loss = 489.7151,test loss = 492.7557, train_logvar = -4.005558, train_mu = -0.227018, val_logvar = -3.821938 & val_mu = -0.203325\n"
     ]
    },
    {
     "name": "stderr",
     "output_type": "stream",
     "text": [
      "938it [00:28, 33.18it/s]                                                                                               \n",
      "157it [00:02, 71.90it/s]                                                                                               \n"
     ]
    },
    {
     "name": "stdout",
     "output_type": "stream",
     "text": [
      "Epoch = 9; train loss = 488.4819,test loss = 491.8487, train_logvar = -3.821387, train_mu = -0.122920, val_logvar = -3.862149 & val_mu = -0.235049\n"
     ]
    },
    {
     "name": "stderr",
     "output_type": "stream",
     "text": [
      "938it [00:27, 34.35it/s]                                                                                               \n",
      "157it [00:02, 68.00it/s]                                                                                               \n"
     ]
    },
    {
     "name": "stdout",
     "output_type": "stream",
     "text": [
      "Epoch = 10; train loss = 487.5092,test loss = 490.6660, train_logvar = -3.933377, train_mu = -0.199993, val_logvar = -3.852396 & val_mu = -0.219078\n"
     ]
    },
    {
     "name": "stderr",
     "output_type": "stream",
     "text": [
      "938it [00:28, 33.00it/s]                                                                                               \n",
      "157it [00:02, 59.33it/s]                                                                                               \n"
     ]
    },
    {
     "name": "stdout",
     "output_type": "stream",
     "text": [
      "Epoch = 11; train loss = 486.4280,test loss = 489.7921, train_logvar = -3.980959, train_mu = -0.247878, val_logvar = -3.881266 & val_mu = -0.196143\n"
     ]
    },
    {
     "name": "stderr",
     "output_type": "stream",
     "text": [
      "938it [00:28, 32.93it/s]                                                                                               \n",
      "157it [00:02, 75.72it/s]                                                                                               \n"
     ]
    },
    {
     "name": "stdout",
     "output_type": "stream",
     "text": [
      "Epoch = 12; train loss = 485.6782,test loss = 489.3476, train_logvar = -3.833818, train_mu = -0.114563, val_logvar = -3.868406 & val_mu = -0.201678\n"
     ]
    },
    {
     "name": "stderr",
     "output_type": "stream",
     "text": [
      "938it [00:28, 32.39it/s]                                                                                               \n",
      "157it [00:02, 69.03it/s]                                                                                               \n"
     ]
    },
    {
     "name": "stdout",
     "output_type": "stream",
     "text": [
      "Epoch = 13; train loss = 485.0132,test loss = 488.7201, train_logvar = -3.812292, train_mu = -0.191008, val_logvar = -3.803949 & val_mu = -0.189597\n"
     ]
    },
    {
     "name": "stderr",
     "output_type": "stream",
     "text": [
      "938it [00:28, 33.43it/s]                                                                                               \n",
      "157it [00:02, 63.34it/s]                                                                                               \n"
     ]
    },
    {
     "name": "stdout",
     "output_type": "stream",
     "text": [
      "Epoch = 14; train loss = 484.1140,test loss = 489.3127, train_logvar = -3.874294, train_mu = -0.171698, val_logvar = -3.877127 & val_mu = -0.222130\n"
     ]
    },
    {
     "name": "stderr",
     "output_type": "stream",
     "text": [
      "938it [00:27, 33.81it/s]                                                                                               \n",
      "157it [00:02, 69.86it/s]                                                                                               \n"
     ]
    },
    {
     "name": "stdout",
     "output_type": "stream",
     "text": [
      "Epoch = 15; train loss = 483.4925,test loss = 487.9809, train_logvar = -3.983365, train_mu = -0.240051, val_logvar = -3.899042 & val_mu = -0.198035\n"
     ]
    },
    {
     "name": "stderr",
     "output_type": "stream",
     "text": [
      "938it [00:29, 32.03it/s]                                                                                               \n",
      "157it [00:02, 69.76it/s]                                                                                               \n"
     ]
    },
    {
     "name": "stdout",
     "output_type": "stream",
     "text": [
      "Epoch = 16; train loss = 482.9445,test loss = 486.9742, train_logvar = -4.117385, train_mu = -0.261348, val_logvar = -3.958131 & val_mu = -0.166199\n"
     ]
    },
    {
     "name": "stderr",
     "output_type": "stream",
     "text": [
      "938it [00:28, 33.05it/s]                                                                                               \n",
      "157it [00:02, 76.15it/s]                                                                                               \n"
     ]
    },
    {
     "name": "stdout",
     "output_type": "stream",
     "text": [
      "Epoch = 17; train loss = 482.0507,test loss = 486.1317, train_logvar = -4.010552, train_mu = -0.086546, val_logvar = -3.976016 & val_mu = -0.163387\n"
     ]
    },
    {
     "name": "stderr",
     "output_type": "stream",
     "text": [
      "938it [00:29, 32.28it/s]                                                                                               \n",
      "157it [00:02, 72.01it/s]                                                                                               \n"
     ]
    },
    {
     "name": "stdout",
     "output_type": "stream",
     "text": [
      "Epoch = 18; train loss = 481.5503,test loss = 486.1118, train_logvar = -4.000056, train_mu = -0.235889, val_logvar = -3.992427 & val_mu = -0.175066\n"
     ]
    },
    {
     "name": "stderr",
     "output_type": "stream",
     "text": [
      "938it [00:27, 34.35it/s]                                                                                               \n",
      "157it [00:02, 64.39it/s]                                                                                               \n"
     ]
    },
    {
     "name": "stdout",
     "output_type": "stream",
     "text": [
      "Epoch = 19; train loss = 481.1153,test loss = 486.0501, train_logvar = -4.022594, train_mu = -0.221026, val_logvar = -4.007664 & val_mu = -0.173833\n"
     ]
    },
    {
     "name": "stderr",
     "output_type": "stream",
     "text": [
      "938it [00:29, 32.18it/s]                                                                                               \n",
      "157it [00:02, 65.12it/s]                                                                                               \n"
     ]
    },
    {
     "name": "stdout",
     "output_type": "stream",
     "text": [
      "Epoch = 20; train loss = 480.7001,test loss = 485.7432, train_logvar = -4.010121, train_mu = -0.267220, val_logvar = -3.991590 & val_mu = -0.186847\n"
     ]
    },
    {
     "name": "stderr",
     "output_type": "stream",
     "text": [
      "938it [00:28, 33.09it/s]                                                                                               \n",
      "157it [00:02, 72.93it/s]                                                                                               \n"
     ]
    },
    {
     "name": "stdout",
     "output_type": "stream",
     "text": [
      "Epoch = 21; train loss = 480.3666,test loss = 485.3136, train_logvar = -4.022922, train_mu = -0.230466, val_logvar = -4.023368 & val_mu = -0.175687\n"
     ]
    },
    {
     "name": "stderr",
     "output_type": "stream",
     "text": [
      "938it [00:28, 32.59it/s]                                                                                               \n",
      "157it [00:02, 77.54it/s]                                                                                               \n"
     ]
    },
    {
     "name": "stdout",
     "output_type": "stream",
     "text": [
      "Epoch = 22; train loss = 480.0176,test loss = 485.1577, train_logvar = -4.090878, train_mu = -0.156912, val_logvar = -4.086317 & val_mu = -0.172169\n"
     ]
    },
    {
     "name": "stderr",
     "output_type": "stream",
     "text": [
      "938it [00:29, 32.14it/s]                                                                                               \n",
      "157it [00:02, 62.79it/s]                                                                                               \n"
     ]
    },
    {
     "name": "stdout",
     "output_type": "stream",
     "text": [
      "Epoch = 23; train loss = 479.5880,test loss = 484.2279, train_logvar = -4.111521, train_mu = -0.254529, val_logvar = -4.054121 & val_mu = -0.126270\n"
     ]
    },
    {
     "name": "stderr",
     "output_type": "stream",
     "text": [
      "938it [00:28, 32.82it/s]                                                                                               \n",
      "157it [00:02, 68.72it/s]                                                                                               \n"
     ]
    },
    {
     "name": "stdout",
     "output_type": "stream",
     "text": [
      "Epoch = 24; train loss = 479.0635,test loss = 484.1762, train_logvar = -4.084072, train_mu = -0.343693, val_logvar = -4.038136 & val_mu = -0.154288\n"
     ]
    },
    {
     "name": "stderr",
     "output_type": "stream",
     "text": [
      "938it [00:27, 33.59it/s]                                                                                               \n",
      "157it [00:02, 64.78it/s]                                                                                               \n"
     ]
    },
    {
     "name": "stdout",
     "output_type": "stream",
     "text": [
      "Epoch = 25; train loss = 478.7206,test loss = 483.8740, train_logvar = -3.979512, train_mu = -0.062983, val_logvar = -4.020265 & val_mu = -0.106460\n"
     ]
    },
    {
     "name": "stderr",
     "output_type": "stream",
     "text": [
      "938it [00:27, 34.05it/s]                                                                                               \n",
      "157it [00:02, 68.91it/s]                                                                                               \n"
     ]
    },
    {
     "name": "stdout",
     "output_type": "stream",
     "text": [
      "Epoch = 26; train loss = 478.3005,test loss = 483.1375, train_logvar = -4.058555, train_mu = -0.151814, val_logvar = -4.077645 & val_mu = -0.146241\n"
     ]
    },
    {
     "name": "stderr",
     "output_type": "stream",
     "text": [
      "938it [00:27, 33.89it/s]                                                                                               \n",
      "157it [00:02, 67.02it/s]                                                                                               \n"
     ]
    },
    {
     "name": "stdout",
     "output_type": "stream",
     "text": [
      "Epoch = 27; train loss = 477.9221,test loss = 483.1717, train_logvar = -4.139944, train_mu = 0.019570, val_logvar = -4.062337 & val_mu = -0.134877\n"
     ]
    },
    {
     "name": "stderr",
     "output_type": "stream",
     "text": [
      "938it [00:27, 33.61it/s]                                                                                               \n",
      "157it [00:02, 66.55it/s]                                                                                               \n"
     ]
    },
    {
     "name": "stdout",
     "output_type": "stream",
     "text": [
      "Epoch = 28; train loss = 477.7147,test loss = 482.7376, train_logvar = -4.108309, train_mu = -0.101886, val_logvar = -4.057516 & val_mu = -0.143531\n"
     ]
    },
    {
     "name": "stderr",
     "output_type": "stream",
     "text": [
      "938it [00:28, 32.37it/s]                                                                                               \n",
      "157it [00:02, 75.37it/s]                                                                                               \n"
     ]
    },
    {
     "name": "stdout",
     "output_type": "stream",
     "text": [
      "Epoch = 29; train loss = 477.4162,test loss = 482.8217, train_logvar = -4.214827, train_mu = -0.083079, val_logvar = -4.113636 & val_mu = -0.126201\n"
     ]
    },
    {
     "name": "stderr",
     "output_type": "stream",
     "text": [
      "938it [00:27, 34.05it/s]                                                                                               \n",
      "157it [00:02, 74.70it/s]                                                                                               "
     ]
    },
    {
     "name": "stdout",
     "output_type": "stream",
     "text": [
      "Epoch = 30; train loss = 477.1281,test loss = 482.5064, train_logvar = -4.147546, train_mu = -0.071238, val_logvar = -4.080703 & val_mu = -0.114561\n"
     ]
    },
    {
     "name": "stderr",
     "output_type": "stream",
     "text": [
      "\n"
     ]
    }
   ],
   "source": [
    "for epoch in range(1, num_epochs + 1):\n",
    "    train_epoch_loss, mu_train, logvar_train = train_one_epoch(\n",
    "        model = model, dataloader = train_loader,\n",
    "        alpha = alpha\n",
    "    )\n",
    "\n",
    "    val_epoch_loss, mu_val, logvar_val = validate_one_epoch(\n",
    "        model = model, dataloader = test_loader,\n",
    "        alpha = alpha\n",
    "    )\n",
    "\n",
    "    logvar_train = logvar_train.mean().detach().cpu().numpy()\n",
    "    logvar_val = logvar_val.mean().detach().cpu().numpy()\n",
    "    mu_train = mu_train.mean().detach().cpu().numpy()\n",
    "    mu_val = mu_val.mean().detach().cpu().numpy()\n",
    "\n",
    "    train_history[epoch] = {\n",
    "        'train_loss': train_epoch_loss,\n",
    "        'val_loss': val_epoch_loss,\n",
    "        'train_logvar': logvar_train,\n",
    "        'val_logvar': logvar_val,\n",
    "        'train_mu': mu_train,\n",
    "        'val_mu': mu_val\n",
    "    }\n",
    "\n",
    "    print(f\"Epoch = {epoch}; train loss = {train_epoch_loss:.4f},\"\n",
    "    f\"test loss = {val_epoch_loss:.4f}, train_logvar = {logvar_train:.6f}\"\n",
    "    f\", train_mu = {mu_train:.6f}, val_logvar = {logvar_val:.6f} &\"\n",
    "    f\" val_mu = {mu_val:.6f}\")\n",
    "    "
   ]
  },
  {
   "cell_type": "code",
   "execution_count": null,
   "id": "7d023404-8c73-4498-88d6-17f15f8002fc",
   "metadata": {},
   "outputs": [],
   "source": []
  },
  {
   "cell_type": "code",
   "execution_count": null,
   "id": "SZYOvyHS7fmL",
   "metadata": {
    "id": "SZYOvyHS7fmL"
   },
   "outputs": [],
   "source": []
  },
  {
   "cell_type": "code",
   "execution_count": 44,
   "id": "Yxves7eh7ihw",
   "metadata": {
    "id": "Yxves7eh7ihw"
   },
   "outputs": [],
   "source": [
    "# Save trained VAE model's weights-\n",
    "torch.save(model.state_dict(), 'VAE_Dense_MNIST_Trained_Weights.pth')"
   ]
  },
  {
   "cell_type": "code",
   "execution_count": null,
   "id": "Ee-tST-I7fvl",
   "metadata": {
    "id": "Ee-tST-I7fvl"
   },
   "outputs": [],
   "source": [
    "# Load trained weights from before-\n",
    "# loaded_model = VAE_Dense(latent_space = 5).to(device)\n",
    "# loaded_model.load_state_dict(torch.load('VAE_Dense_MNIST_Trained_Weights.pth', map_location = torch.device('cpu')))"
   ]
  },
  {
   "cell_type": "code",
   "execution_count": null,
   "id": "2808c346-7ee4-4ebb-8a84-0cf16c1fbe1f",
   "metadata": {
    "id": "2808c346-7ee4-4ebb-8a84-0cf16c1fbe1f"
   },
   "outputs": [],
   "source": [
    "# Define gradient descent optimizer-\n",
    "# optimizer = torch.optim.Adam(loaded_model.parameters(), lr = learning_rate)"
   ]
  },
  {
   "cell_type": "code",
   "execution_count": null,
   "id": "f-FQXDUP7nGE",
   "metadata": {
    "id": "f-FQXDUP7nGE"
   },
   "outputs": [],
   "source": []
  },
  {
   "cell_type": "code",
   "execution_count": 45,
   "id": "XjJgbvjQ7nIp",
   "metadata": {
    "id": "XjJgbvjQ7nIp"
   },
   "outputs": [],
   "source": [
    "import pickle\n",
    "\n",
    "# Save training history as pickle file-\n",
    "with open(\"VAE_Dense_MNIST_training_history.pkl\", \"wb\") as file:\n",
    "    pickle.dump(train_history, file)"
   ]
  },
  {
   "cell_type": "code",
   "execution_count": null,
   "id": "eH2wC_nW7zoX",
   "metadata": {
    "id": "eH2wC_nW7zoX"
   },
   "outputs": [],
   "source": [
    "'''\n",
    "# Load training history from pickle file-\n",
    "with open(\"VAE_Dense_MNIST_training_history.pkl\", \"rb\") as file:\n",
    "    training_history_lr_scheduler = pickle.load(file)\n",
    "'''"
   ]
  },
  {
   "cell_type": "code",
   "execution_count": null,
   "id": "4DmhjNZT73MF",
   "metadata": {
    "id": "4DmhjNZT73MF"
   },
   "outputs": [],
   "source": []
  },
  {
   "cell_type": "code",
   "execution_count": 46,
   "id": "JoQwTaam99Tr",
   "metadata": {
    "colab": {
     "base_uri": "https://localhost:8080/",
     "height": 444
    },
    "id": "JoQwTaam99Tr",
    "outputId": "0e8c96d2-b276-49d4-9b1f-e662f1e16695"
   },
   "outputs": [
    {
     "data": {
      "image/png": "[encoded data removed]",
      "text/plain": [
       "<Figure size 648x504 with 1 Axes>"
      ]
     },
     "metadata": {
      "needs_background": "light"
     },
     "output_type": "display_data"
    }
   ],
   "source": [
    "# VAE Training Visualization-\n",
    "plt.figure(figsize = (9, 7))\n",
    "plt.plot([train_history[x]['train_loss'] for x in train_history.keys()], label = 'train_loss')\n",
    "plt.plot([train_history[x]['val_loss'] for x in train_history.keys()], label = 'val_loss')\n",
    "plt.legend(loc = 'best')\n",
    "plt.title(\"VAE: Training Visualizations\")\n",
    "plt.show()"
   ]
  },
  {
   "cell_type": "code",
   "execution_count": 47,
   "id": "981fa18e-1594-4d8b-859e-25c8de503b1b",
   "metadata": {
    "colab": {
     "base_uri": "https://localhost:8080/",
     "height": 444
    },
    "id": "JoQwTaam99Tr",
    "outputId": "0e8c96d2-b276-49d4-9b1f-e662f1e16695"
   },
   "outputs": [
    {
     "data": {
      "image/png": "[encoded data removed]",
      "text/plain": [
       "<Figure size 648x504 with 1 Axes>"
      ]
     },
     "metadata": {
      "needs_background": "light"
     },
     "output_type": "display_data"
    }
   ],
   "source": [
    "# VAE Training Visualization-\n",
    "plt.figure(figsize = (9, 7))\n",
    "plt.plot([train_history[x]['train_logvar'] for x in train_history.keys()], label = 'train_logvar')\n",
    "plt.plot([train_history[x]['val_logvar'] for x in train_history.keys()], label = 'val_logvar')\n",
    "plt.legend(loc = 'best')\n",
    "plt.title(\"VAE: Training (log var) Visualizations\")\n",
    "plt.show()"
   ]
  },
  {
   "cell_type": "code",
   "execution_count": 48,
   "id": "3008024d-5f64-4985-813f-01f1b4fa9895",
   "metadata": {
    "colab": {
     "base_uri": "https://localhost:8080/",
     "height": 444
    },
    "id": "JoQwTaam99Tr",
    "outputId": "0e8c96d2-b276-49d4-9b1f-e662f1e16695"
   },
   "outputs": [
    {
     "data": {
      "image/png": "[encoded data removed]",
      "text/plain": [
       "<Figure size 648x504 with 1 Axes>"
      ]
     },
     "metadata": {
      "needs_background": "light"
     },
     "output_type": "display_data"
    }
   ],
   "source": [
    "# VAE Training Visualization-\n",
    "plt.figure(figsize = (9, 7))\n",
    "plt.plot([train_history[x]['train_mu'] for x in train_history.keys()], label = 'train_mu')\n",
    "plt.plot([train_history[x]['val_mu'] for x in train_history.keys()], label = 'val_mu')\n",
    "plt.legend(loc = 'best')\n",
    "plt.title(\"VAE: Training (mu) Visualizations\")\n",
    "plt.show()"
   ]
  },
  {
   "cell_type": "code",
   "execution_count": null,
   "id": "aac5e25f-6e94-46e3-8d0e-e68b8c7b5539",
   "metadata": {},
   "outputs": [],
   "source": []
  },
  {
   "cell_type": "code",
   "execution_count": null,
   "id": "79cb4ee1-43e9-4690-8355-c71d05189811",
   "metadata": {},
   "outputs": [],
   "source": []
  },
  {
   "cell_type": "code",
   "execution_count": null,
   "id": "5BjWSDut-O7r",
   "metadata": {
    "id": "5BjWSDut-O7r"
   },
   "outputs": [],
   "source": []
  },
  {
   "cell_type": "code",
   "execution_count": null,
   "id": "ohN-uM86-CJy",
   "metadata": {
    "id": "ohN-uM86-CJy"
   },
   "outputs": [],
   "source": []
  },
  {
   "cell_type": "markdown",
   "id": "JU9ngmnEaQfM",
   "metadata": {
    "id": "JU9ngmnEaQfM"
   },
   "source": [
    "### Reconstruct/Generate images using _trained_ VAE model:"
   ]
  },
  {
   "cell_type": "code",
   "execution_count": 49,
   "id": "rTKwWBG6-ZLo",
   "metadata": {
    "id": "rTKwWBG6-ZLo"
   },
   "outputs": [],
   "source": [
    "images = images.to(device)"
   ]
  },
  {
   "cell_type": "code",
   "execution_count": 50,
   "id": "YxLhK_2c-W1a",
   "metadata": {
    "id": "YxLhK_2c-W1a"
   },
   "outputs": [],
   "source": [
    "# Perform forward propagation-\n",
    "recon_images, mu, log_var = model(images)"
   ]
  },
  {
   "cell_type": "code",
   "execution_count": 51,
   "id": "5c495f15-bc03-463d-bca8-552d505b0f50",
   "metadata": {
    "id": "5c495f15-bc03-463d-bca8-552d505b0f50"
   },
   "outputs": [],
   "source": [
    "# For CPU-\n",
    "recon_images = recon_images.detach().numpy()\n",
    "mu = mu.detach().numpy()\n",
    "log_var = log_var.detach().numpy()"
   ]
  },
  {
   "cell_type": "code",
   "execution_count": 52,
   "id": "e3c34c70-91d9-45e4-ac14-665353a8edfc",
   "metadata": {
    "id": "e3c34c70-91d9-45e4-ac14-665353a8edfc",
    "outputId": "d8242a58-a1a7-4057-9753-f797f24bef19"
   },
   "outputs": [
    {
     "data": {
      "text/plain": [
       "((64, 784), (64, 5), (64, 5))"
      ]
     },
     "execution_count": 52,
     "metadata": {},
     "output_type": "execute_result"
    }
   ],
   "source": [
    "recon_images.shape, mu.shape, log_var.shape"
   ]
  },
  {
   "cell_type": "code",
   "execution_count": null,
   "id": "761f03e5-dcc0-4b29-937d-3a0392270832",
   "metadata": {
    "id": "761f03e5-dcc0-4b29-937d-3a0392270832"
   },
   "outputs": [],
   "source": []
  },
  {
   "cell_type": "code",
   "execution_count": 42,
   "id": "0Mcc8N0m-bma",
   "metadata": {
    "id": "0Mcc8N0m-bma"
   },
   "outputs": [],
   "source": [
    "# FOR CUDA/GPU-\n",
    "recon_images = recon_images.detach().cpu().numpy()\n",
    "mu = mu.detach().cpu().numpy()\n",
    "log_var = log_var.detach().cpu().numpy()"
   ]
  },
  {
   "cell_type": "code",
   "execution_count": 43,
   "id": "ubgNYfQY-rI6",
   "metadata": {
    "colab": {
     "base_uri": "https://localhost:8080/"
    },
    "id": "ubgNYfQY-rI6",
    "outputId": "f6a24a2c-3cf5-4d63-a293-7f063efee2f6"
   },
   "outputs": [
    {
     "data": {
      "text/plain": [
       "(64, 784)"
      ]
     },
     "execution_count": 43,
     "metadata": {},
     "output_type": "execute_result"
    }
   ],
   "source": [
    "recon_images.shape"
   ]
  },
  {
   "cell_type": "code",
   "execution_count": null,
   "id": "63be85e1-0f6c-4ccf-befe-3b68b81f84c5",
   "metadata": {},
   "outputs": [],
   "source": []
  },
  {
   "cell_type": "code",
   "execution_count": 53,
   "id": "62ec66e4-1a3a-454e-9374-a5104a78ebb3",
   "metadata": {
    "id": "62ec66e4-1a3a-454e-9374-a5104a78ebb3"
   },
   "outputs": [],
   "source": [
    "# Reshape images for visualization-\n",
    "recon_images = recon_images.reshape(-1, 1, 28, 28)"
   ]
  },
  {
   "cell_type": "code",
   "execution_count": 54,
   "id": "25615469-a76f-4942-99c2-c48a3c6b5e72",
   "metadata": {
    "colab": {
     "base_uri": "https://localhost:8080/"
    },
    "id": "25615469-a76f-4942-99c2-c48a3c6b5e72",
    "outputId": "00a410ff-83d9-4541-a34c-ce7e2104dd15"
   },
   "outputs": [
    {
     "data": {
      "text/plain": [
       "(64, 1, 28, 28)"
      ]
     },
     "execution_count": 54,
     "metadata": {},
     "output_type": "execute_result"
    }
   ],
   "source": [
    "recon_images.shape"
   ]
  },
  {
   "cell_type": "code",
   "execution_count": null,
   "id": "8175de2a-4896-4e78-a6f4-3630c1034277",
   "metadata": {
    "id": "8175de2a-4896-4e78-a6f4-3630c1034277"
   },
   "outputs": [],
   "source": []
  },
  {
   "cell_type": "code",
   "execution_count": 55,
   "id": "396ccffc-092a-4bd2-a7d7-cd242c09162b",
   "metadata": {
    "colab": {
     "base_uri": "https://localhost:8080/",
     "height": 274
    },
    "id": "396ccffc-092a-4bd2-a7d7-cd242c09162b",
    "outputId": "5e5f26d2-9c24-45ff-e6c1-823b69ebf00e"
   },
   "outputs": [
    {
     "data": {
      "image/png": "[encoded data removed]",
      "text/plain": [
       "<Figure size 432x288 with 10 Axes>"
      ]
     },
     "metadata": {
      "needs_background": "light"
     },
     "output_type": "display_data"
    }
   ],
   "source": [
    "# Print 10 images from training set-\n",
    "for i in range(10):\n",
    "    plt.subplot(2, 5, i + 1)    # 2 rows & 5 columns\n",
    "    plt.imshow(images[i][0].cpu(), cmap = 'gray')     # '0' to access first channel\n",
    "    \n",
    "plt.suptitle(\"Sample MNIST training images\")\n",
    "plt.show()"
   ]
  },
  {
   "cell_type": "code",
   "execution_count": 56,
   "id": "4e54ebd3-8903-4402-8975-5db9202801e7",
   "metadata": {
    "colab": {
     "base_uri": "https://localhost:8080/",
     "height": 274
    },
    "id": "4e54ebd3-8903-4402-8975-5db9202801e7",
    "outputId": "7adeaee3-b2fd-4f81-bf3f-8b3f0ba6442a"
   },
   "outputs": [
    {
     "data": {
      "image/png": "[encoded data removed]",
      "text/plain": [
       "<Figure size 432x288 with 10 Axes>"
      ]
     },
     "metadata": {
      "needs_background": "light"
     },
     "output_type": "display_data"
    }
   ],
   "source": [
    "# Print 10 images from reconstructions-\n",
    "for i in range(10):\n",
    "    plt.subplot(2, 5, i + 1)    # 2 rows & 5 columns\n",
    "    # plt.imshow(recon_images[i][0].cpu().detach().numpy(), cmap = 'gray')     # '0' to access first channel\n",
    "    plt.imshow(recon_images[i][0], cmap = 'gray')\n",
    "    \n",
    "plt.suptitle(\"Sample MNIST reconstructed images\")\n",
    "plt.show()"
   ]
  },
  {
   "cell_type": "code",
   "execution_count": null,
   "id": "a92c2aa9-0ad4-4d71-ace3-64537e987195",
   "metadata": {
    "id": "a92c2aa9-0ad4-4d71-ace3-64537e987195"
   },
   "outputs": [],
   "source": []
  },
  {
   "cell_type": "code",
   "execution_count": 57,
   "id": "c0195744-b95c-4541-8d20-ab2e5bd5164f",
   "metadata": {
    "colab": {
     "base_uri": "https://localhost:8080/",
     "height": 479
    },
    "id": "c0195744-b95c-4541-8d20-ab2e5bd5164f",
    "outputId": "f5ec604c-2dab-4f92-e16d-fc1f742a9814"
   },
   "outputs": [
    {
     "data": {
      "image/png": "[encoded data removed]",
      "text/plain": [
       "<Figure size 648x504 with 50 Axes>"
      ]
     },
     "metadata": {
      "needs_background": "light"
     },
     "output_type": "display_data"
    }
   ],
   "source": [
    "# Print 50 images from reconstructions-\n",
    "plt.figure(figsize = (9, 7))\n",
    "\n",
    "for i in range(50):\n",
    "    plt.subplot(10, 5, i + 1)    # 10 rows & 5 columns\n",
    "    # plt.imshow(recon_images[i][0].cpu().detach().numpy(), cmap = 'gray')     # '0' to access first channel\n",
    "    plt.imshow(recon_images[i][0], cmap = 'gray')\n",
    "    \n",
    "plt.suptitle(\"Sample MNIST reconstructed images\")\n",
    "plt.show()"
   ]
  },
  {
   "cell_type": "code",
   "execution_count": null,
   "id": "8562435e-1836-47f9-a540-ede05f6c6f97",
   "metadata": {
    "id": "8562435e-1836-47f9-a540-ede05f6c6f97"
   },
   "outputs": [],
   "source": []
  },
  {
   "cell_type": "code",
   "execution_count": 74,
   "id": "5ef8ced7-87cd-456e-8b8f-09d117af6c33",
   "metadata": {
    "id": "5ef8ced7-87cd-456e-8b8f-09d117af6c33"
   },
   "outputs": [],
   "source": []
  },
  {
   "cell_type": "code",
   "execution_count": null,
   "id": "7GPi5IeMd5Fg",
   "metadata": {
    "id": "7GPi5IeMd5Fg"
   },
   "outputs": [],
   "source": [
    "'''\n",
    "# Iterating over train loader-\n",
    "for img, label in train_loader:\n",
    "    print(img.shape, label.shape)\n",
    "'''"
   ]
  },
  {
   "cell_type": "code",
   "execution_count": null,
   "id": "59eOXPlQd_hz",
   "metadata": {
    "id": "59eOXPlQd_hz"
   },
   "outputs": [],
   "source": []
  },
  {
   "cell_type": "code",
   "execution_count": 58,
   "id": "onIYyEbfc7to",
   "metadata": {
    "id": "onIYyEbfc7to"
   },
   "outputs": [],
   "source": [
    "# Get a batch of training data & it's corresponding labels-\n",
    "images, labels = next(iter(train_loader))\n",
    "images = images.to(device)"
   ]
  },
  {
   "cell_type": "code",
   "execution_count": 59,
   "id": "eGnSEHDtc7Gt",
   "metadata": {
    "id": "eGnSEHDtc7Gt"
   },
   "outputs": [],
   "source": [
    "# Perform forward propagation-\n",
    "recon_images, mu, log_var = model(images)"
   ]
  },
  {
   "cell_type": "code",
   "execution_count": 60,
   "id": "5fOvKSuyc2OR",
   "metadata": {
    "id": "5fOvKSuyc2OR"
   },
   "outputs": [],
   "source": [
    "# FOR CUDA/GPU-\n",
    "recon_images = recon_images.detach().cpu().numpy()\n",
    "mu = mu.detach().cpu().numpy()\n",
    "log_var = log_var.detach().cpu().numpy()"
   ]
  },
  {
   "cell_type": "code",
   "execution_count": 61,
   "id": "rAOyYMpZdVhc",
   "metadata": {
    "colab": {
     "base_uri": "https://localhost:8080/"
    },
    "id": "rAOyYMpZdVhc",
    "outputId": "f8f369ec-8c05-4d24-e30f-299dad6b3696"
   },
   "outputs": [
    {
     "data": {
      "text/plain": [
       "((64, 784), (64, 5), (64, 5))"
      ]
     },
     "execution_count": 61,
     "metadata": {},
     "output_type": "execute_result"
    }
   ],
   "source": [
    "recon_images.shape, mu.shape, log_var.shape"
   ]
  },
  {
   "cell_type": "code",
   "execution_count": null,
   "id": "IwU_PhuPdXje",
   "metadata": {
    "id": "IwU_PhuPdXje"
   },
   "outputs": [],
   "source": []
  },
  {
   "cell_type": "code",
   "execution_count": null,
   "id": "6980282e-fa95-49bc-9de3-f10c67372864",
   "metadata": {
    "id": "6980282e-fa95-49bc-9de3-f10c67372864"
   },
   "outputs": [],
   "source": [
    "!pip install umap-learn"
   ]
  },
  {
   "cell_type": "code",
   "execution_count": 57,
   "id": "77jwoql-bAFe",
   "metadata": {
    "id": "77jwoql-bAFe"
   },
   "outputs": [],
   "source": [
    "import umap\n",
    "import umap.umap_ as umap"
   ]
  },
  {
   "cell_type": "code",
   "execution_count": 60,
   "id": "gOVOPGnpbCwk",
   "metadata": {
    "id": "gOVOPGnpbCwk"
   },
   "outputs": [],
   "source": [
    "reducer = umap.UMAP(\n",
    "    n_neighbors = 15,\n",
    "    n_components = 3\n",
    ")"
   ]
  },
  {
   "cell_type": "code",
   "execution_count": 61,
   "id": "XpVToPmXbGFn",
   "metadata": {
    "colab": {
     "base_uri": "https://localhost:8080/"
    },
    "id": "XpVToPmXbGFn",
    "outputId": "74f6b30b-1870-4904-8963-4525398f075c"
   },
   "outputs": [
    {
     "name": "stderr",
     "output_type": "stream",
     "text": [
      "/usr/local/lib/python3.7/dist-packages/numba/np/ufunc/parallel.py:363: NumbaWarning: The TBB threading layer requires TBB version 2019.5 or later i.e., TBB_INTERFACE_VERSION >= 11005. Found TBB_INTERFACE_VERSION = 9107. The TBB threading layer is disabled.\n",
      "  warnings.warn(problem)\n"
     ]
    },
    {
     "data": {
      "text/plain": [
       "(64, 3)"
      ]
     },
     "execution_count": 61,
     "metadata": {},
     "output_type": "execute_result"
    }
   ],
   "source": [
    "embedding_mu = reducer.fit_transform(mu)\n",
    "embedding_mu.shape"
   ]
  },
  {
   "cell_type": "code",
   "execution_count": null,
   "id": "yvrT02dUb7b8",
   "metadata": {
    "id": "yvrT02dUb7b8"
   },
   "outputs": [],
   "source": []
  },
  {
   "cell_type": "code",
   "execution_count": 62,
   "id": "NJedU15hbuqn",
   "metadata": {
    "id": "NJedU15hbuqn"
   },
   "outputs": [],
   "source": [
    "reducer_logvar = umap.UMAP(\n",
    "    n_neighbors = 15,\n",
    "    n_components = 3\n",
    ")"
   ]
  },
  {
   "cell_type": "code",
   "execution_count": 63,
   "id": "SpXASLVrcD7z",
   "metadata": {
    "colab": {
     "base_uri": "https://localhost:8080/"
    },
    "id": "SpXASLVrcD7z",
    "outputId": "fa0b06ec-2d9f-420a-dac3-a9ad30de7495"
   },
   "outputs": [
    {
     "data": {
      "text/plain": [
       "(64, 3)"
      ]
     },
     "execution_count": 63,
     "metadata": {},
     "output_type": "execute_result"
    }
   ],
   "source": [
    "embedding_logvar = reducer.fit_transform(log_var)\n",
    "embedding_logvar.shape"
   ]
  },
  {
   "cell_type": "code",
   "execution_count": 63,
   "id": "GrcNvJz2cKVZ",
   "metadata": {
    "id": "GrcNvJz2cKVZ"
   },
   "outputs": [],
   "source": []
  },
  {
   "cell_type": "code",
   "execution_count": 64,
   "id": "RH7EN3FNcL47",
   "metadata": {
    "id": "RH7EN3FNcL47"
   },
   "outputs": [],
   "source": [
    "import plotly\n",
    "import plotly.express as px"
   ]
  },
  {
   "cell_type": "code",
   "execution_count": 64,
   "id": "L4pYyWFCcUiU",
   "metadata": {
    "id": "L4pYyWFCcUiU"
   },
   "outputs": [],
   "source": []
  },
  {
   "cell_type": "code",
   "execution_count": null,
   "id": "8oJJWCuccVCx",
   "metadata": {
    "colab": {
     "base_uri": "https://localhost:8080/",
     "height": 542
    },
    "id": "8oJJWCuccVCx",
    "outputId": "508deda2-b444-4a64-cfa1-35a1c3063dba"
   },
   "outputs": [],
   "source": [
    "# Visualize latent space for 'mean'-\n",
    "fig = px.scatter_3d(\n",
    "    x = embedding_mu[:, 0], y = embedding_mu[:, 1],\n",
    "    z = embedding_mu[:, 2],\n",
    "    # color = y_train\n",
    "    )\n",
    "fig.show()"
   ]
  },
  {
   "cell_type": "code",
   "execution_count": null,
   "id": "2zMDnSvWcjqx",
   "metadata": {
    "colab": {
     "base_uri": "https://localhost:8080/",
     "height": 542
    },
    "id": "2zMDnSvWcjqx",
    "outputId": "9f85ff8f-79e7-465e-bb5b-09f33a396bd7"
   },
   "outputs": [],
   "source": [
    "# Visualize latent space for 'log variance'-\n",
    "fig = px.scatter_3d(\n",
    "    x = embedding_logvar[:, 0], y = embedding_logvar[:, 1],\n",
    "    z = embedding_logvar[:, 2],\n",
    "    # color = y_train\n",
    "    )\n",
    "fig.show()"
   ]
  },
  {
   "cell_type": "code",
   "execution_count": null,
   "id": "f9OVvGc2cvEt",
   "metadata": {
    "id": "f9OVvGc2cvEt"
   },
   "outputs": [],
   "source": []
  },
  {
   "cell_type": "code",
   "execution_count": null,
   "id": "e_-rx-Okcp5M",
   "metadata": {
    "id": "e_-rx-Okcp5M"
   },
   "outputs": [],
   "source": []
  }
 ],
 "metadata": {
  "accelerator": "GPU",
  "colab": {
   "collapsed_sections": [],
   "name": "VAE-Dense_PyTorch_&_MNIST.ipynb",
   "provenance": []
  },
  "kernelspec": {
   "display_name": "Python 3 (ipykernel)",
   "language": "python",
   "name": "python3"
  },
  "language_info": {
   "codemirror_mode": {
    "name": "ipython",
    "version": 3
   },
   "file_extension": ".py",
   "mimetype": "text/x-python",
   "name": "python",
   "nbconvert_exporter": "python",
   "pygments_lexer": "ipython3",
   "version": "3.9.7"
  }
 },
 "nbformat": 4,
 "nbformat_minor": 5
}
