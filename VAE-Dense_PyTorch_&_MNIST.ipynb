{
  "cells": [
    {
      "cell_type": "markdown",
      "id": "QDedy7D46dMF",
      "metadata": {
        "id": "QDedy7D46dMF"
      },
      "source": [
        "# _Variational Autoencoder_: PyTorch & MNIST - _Dense_ layers"
      ]
    },
    {
      "cell_type": "code",
      "execution_count": 1,
      "id": "94a36bdf-f0e0-4281-ae7b-48f2f1c45420",
      "metadata": {
        "id": "94a36bdf-f0e0-4281-ae7b-48f2f1c45420"
      },
      "outputs": [],
      "source": [
        "import torch\n",
        "import torch.nn as nn\n",
        "import torch.nn.functional as F\n",
        "import torchvision\n",
        "import torchvision.transforms as transforms\n",
        "\n",
        "from tqdm import tqdm\n",
        "from tqdm import trange\n",
        "import matplotlib.pyplot as plt\n",
        "import numpy as np\n",
        "import os"
      ]
    },
    {
      "cell_type": "code",
      "execution_count": null,
      "id": "6f92df6c-4eda-4a9b-b68f-4caf46335ea6",
      "metadata": {
        "id": "6f92df6c-4eda-4a9b-b68f-4caf46335ea6"
      },
      "outputs": [],
      "source": [
        ""
      ]
    },
    {
      "cell_type": "code",
      "execution_count": null,
      "id": "bf34eced-c2a1-4b49-8449-057743793f13",
      "metadata": {
        "id": "bf34eced-c2a1-4b49-8449-057743793f13"
      },
      "outputs": [],
      "source": [
        ""
      ]
    },
    {
      "cell_type": "code",
      "execution_count": 2,
      "id": "e446e0e6-0e2c-467a-b5df-a23036ee8eaa",
      "metadata": {
        "colab": {
          "base_uri": "https://localhost:8080/"
        },
        "id": "e446e0e6-0e2c-467a-b5df-a23036ee8eaa",
        "outputId": "e028fdb5-4caf-41bf-f897-2a966b230491"
      },
      "outputs": [
        {
          "output_type": "stream",
          "name": "stdout",
          "text": [
            "torch version: 1.10.0+cu111\n"
          ]
        }
      ],
      "source": [
        "print(f\"torch version: {torch.__version__}\")"
      ]
    },
    {
      "cell_type": "code",
      "execution_count": null,
      "id": "f236b5bd-5e1e-4536-830f-b6868a3cd5c8",
      "metadata": {
        "id": "f236b5bd-5e1e-4536-830f-b6868a3cd5c8"
      },
      "outputs": [],
      "source": [
        ""
      ]
    },
    {
      "cell_type": "code",
      "execution_count": 4,
      "id": "80021e85-5368-49ff-a1d3-cd3a47ced799",
      "metadata": {
        "colab": {
          "base_uri": "https://localhost:8080/"
        },
        "id": "80021e85-5368-49ff-a1d3-cd3a47ced799",
        "outputId": "f08c9acb-2d9c-4aa8-d1d8-fe524698e023"
      },
      "outputs": [
        {
          "output_type": "stream",
          "name": "stdout",
          "text": [
            "Number of GPU(s) available = 1\n",
            "Current GPU: 0\n",
            "Current GPU name: Tesla K80\n"
          ]
        }
      ],
      "source": [
        "# Check if there are multiple devices (i.e., GPU cards)-\n",
        "print(f\"Number of GPU(s) available = {torch.cuda.device_count()}\")\n",
        "\n",
        "# Which GPU Is The Current GPU?\n",
        "# print(f\"current GPU: {torch.cuda.current_device()}\")\n",
        "\n",
        "# Get the name of the current GPU-\n",
        "# print(f\"Current GPU name: {torch.cuda.get_device_name(torch.cuda.current_device())}\")\n",
        "\n",
        "# Is PyTorch using a GPU?\n",
        "# print(f\"Is PyTorch using a GPU? {torch.cuda.is_available()}\")\n",
        "\n",
        "if torch.cuda.is_available():\n",
        "    print(f\"Current GPU: {torch.cuda.current_device()}\")\n",
        "    print(f\"Current GPU name: {torch.cuda.get_device_name(torch.cuda.current_device())}\")\n",
        "else:\n",
        "    print(\"PyTorch does not have access to GPU\")"
      ]
    },
    {
      "cell_type": "code",
      "execution_count": 5,
      "id": "a74fb3c6-51dd-4623-a08a-15ff802f0f26",
      "metadata": {
        "colab": {
          "base_uri": "https://localhost:8080/"
        },
        "id": "a74fb3c6-51dd-4623-a08a-15ff802f0f26",
        "outputId": "3b662b07-08a1-4b32-c969-3b637d21e2dc"
      },
      "outputs": [
        {
          "output_type": "stream",
          "name": "stdout",
          "text": [
            "Available device is cuda\n"
          ]
        }
      ],
      "source": [
        "# Device configuration-\n",
        "device = torch.device('cuda' if torch.cuda.is_available() else 'cpu')\n",
        "print(f'Available device is {device}')"
      ]
    },
    {
      "cell_type": "code",
      "execution_count": null,
      "id": "3f61144c-4ebd-43ee-813e-4cca8eb252ee",
      "metadata": {
        "id": "3f61144c-4ebd-43ee-813e-4cca8eb252ee"
      },
      "outputs": [],
      "source": [
        ""
      ]
    },
    {
      "cell_type": "code",
      "execution_count": null,
      "id": "967c6909-825c-4026-8754-cea2f30da1e9",
      "metadata": {
        "id": "967c6909-825c-4026-8754-cea2f30da1e9"
      },
      "outputs": [],
      "source": [
        ""
      ]
    },
    {
      "cell_type": "code",
      "execution_count": 6,
      "id": "31eea16a-4876-43a5-8a12-4ca9d96869aa",
      "metadata": {
        "id": "31eea16a-4876-43a5-8a12-4ca9d96869aa"
      },
      "outputs": [],
      "source": [
        "# Specify hyper-parameters-\n",
        "num_epochs = 30\n",
        "batch_size = 64\n",
        "learning_rate = 0.001"
      ]
    },
    {
      "cell_type": "code",
      "execution_count": null,
      "id": "085c86a4-5f2f-4757-823f-8079fdcd438f",
      "metadata": {
        "id": "085c86a4-5f2f-4757-823f-8079fdcd438f"
      },
      "outputs": [],
      "source": [
        ""
      ]
    },
    {
      "cell_type": "code",
      "execution_count": null,
      "id": "5aa6cb32-16dd-4ac6-82c8-2efedd5c4a4b",
      "metadata": {
        "id": "5aa6cb32-16dd-4ac6-82c8-2efedd5c4a4b"
      },
      "outputs": [],
      "source": [
        ""
      ]
    },
    {
      "cell_type": "markdown",
      "id": "214c0655-166a-4473-ac0c-a6dcdf72f939",
      "metadata": {
        "id": "214c0655-166a-4473-ac0c-a6dcdf72f939"
      },
      "source": [
        "### Load and pre-process MNIST dataset:"
      ]
    },
    {
      "cell_type": "code",
      "execution_count": 7,
      "id": "d2a14267-abef-4c2e-a051-653fceac9588",
      "metadata": {
        "id": "d2a14267-abef-4c2e-a051-653fceac9588"
      },
      "outputs": [],
      "source": [
        "# Define transformations for MNIST dataset-\n",
        "# MNIST dataset statistics:\n",
        "# mean = tensor([0.1307]) & std dev = tensor([0.3081])\n",
        "mean = np.array([0.1307])\n",
        "std_dev = np.array([0.3081])\n",
        "\n",
        "transforms_apply = transforms.Compose([\n",
        "    transforms.ToTensor(),\n",
        "    transforms.Normalize(mean = mean, std = std_dev)\n",
        "    ])"
      ]
    },
    {
      "cell_type": "code",
      "execution_count": null,
      "id": "830d7c67-0b8f-47c4-b91d-72743a066b14",
      "metadata": {
        "id": "830d7c67-0b8f-47c4-b91d-72743a066b14"
      },
      "outputs": [],
      "source": [
        "path_to_data = \"C:\\\\Users\\\\Arjun\\\\Desktop\\\\VAE_resources\\\\\""
      ]
    },
    {
      "cell_type": "code",
      "execution_count": null,
      "id": "0a287d2c-eb3f-468c-b2bc-cab05168c862",
      "metadata": {
        "id": "0a287d2c-eb3f-468c-b2bc-cab05168c862"
      },
      "outputs": [],
      "source": [
        "# Load MNIST dataset-\n",
        "train_dataset = torchvision.datasets.MNIST(\n",
        "        root = './data', train = True,\n",
        "        # root = path_to_data + \"data\", train = True,\n",
        "        transform = transforms_apply, download = True\n",
        "        )\n",
        "\n",
        "test_dataset = torchvision.datasets.MNIST(\n",
        "        root = './data', train = False,\n",
        "        # root = path_to_data + \"data\", train = False,\n",
        "        transform = transforms_apply\n",
        "        )\n"
      ]
    },
    {
      "cell_type": "code",
      "execution_count": 9,
      "id": "42a5c341-e339-4e15-abea-e6876a90194c",
      "metadata": {
        "id": "42a5c341-e339-4e15-abea-e6876a90194c"
      },
      "outputs": [],
      "source": [
        "# Create training and testing dataloaders-\n",
        "train_loader = torch.utils.data.DataLoader(\n",
        "        dataset = train_dataset, batch_size = batch_size,\n",
        "        shuffle = True\n",
        "        )\n",
        "\n",
        "test_loader = torch.utils.data.DataLoader(\n",
        "        dataset = test_dataset, batch_size = batch_size,\n",
        "        shuffle = False\n",
        "        )"
      ]
    },
    {
      "cell_type": "code",
      "execution_count": 10,
      "id": "aec56e76-da61-4795-b7f2-f409921f031b",
      "metadata": {
        "colab": {
          "base_uri": "https://localhost:8080/"
        },
        "id": "aec56e76-da61-4795-b7f2-f409921f031b",
        "outputId": "cc698e16-6beb-43e8-c8c8-7f9a6fc52d37"
      },
      "outputs": [
        {
          "output_type": "stream",
          "name": "stdout",
          "text": [
            "Sizes of train_dataset: 60000 and test_dataet: 10000\n",
            "Sizes of train_loader: 938 and test_loader: 157\n"
          ]
        }
      ],
      "source": [
        "print(f\"Sizes of train_dataset: {len(train_dataset)} and test_dataet: {len(test_dataset)}\")\n",
        "print(f\"Sizes of train_loader: {len(train_loader)} and test_loader: {len(test_loader)}\")"
      ]
    },
    {
      "cell_type": "code",
      "execution_count": 11,
      "id": "90848f57-ed68-4bd1-916a-500ee3e1f05b",
      "metadata": {
        "colab": {
          "base_uri": "https://localhost:8080/"
        },
        "id": "90848f57-ed68-4bd1-916a-500ee3e1f05b",
        "outputId": "167df965-ac14-4b09-e5c4-73b99940d17a"
      },
      "outputs": [
        {
          "output_type": "stream",
          "name": "stdout",
          "text": [
            "len(train_loader) = 938 & len(test_loader) = 157\n"
          ]
        }
      ],
      "source": [
        "print(f\"len(train_loader) = {len(train_loader)} & len(test_loader) = {len(test_loader)}\")"
      ]
    },
    {
      "cell_type": "code",
      "execution_count": 12,
      "id": "9089dc4c-ba3d-4cff-a444-f659340cdc13",
      "metadata": {
        "colab": {
          "base_uri": "https://localhost:8080/"
        },
        "id": "9089dc4c-ba3d-4cff-a444-f659340cdc13",
        "outputId": "24a7a018-763d-4379-fe8a-9bfc0afb6962"
      },
      "outputs": [
        {
          "output_type": "execute_result",
          "data": {
            "text/plain": [
              "(937.5, 156.25)"
            ]
          },
          "metadata": {},
          "execution_count": 12
        }
      ],
      "source": [
        "# Sanity check-\n",
        "len(train_dataset) / batch_size, len(test_dataset) / batch_size"
      ]
    },
    {
      "cell_type": "code",
      "execution_count": null,
      "id": "ca93e9e4-e350-4ff0-9462-514045296497",
      "metadata": {
        "id": "ca93e9e4-e350-4ff0-9462-514045296497"
      },
      "outputs": [],
      "source": [
        ""
      ]
    },
    {
      "cell_type": "code",
      "execution_count": 13,
      "id": "f15cb805-f890-4d32-8a80-e3a305802f35",
      "metadata": {
        "colab": {
          "base_uri": "https://localhost:8080/"
        },
        "id": "f15cb805-f890-4d32-8a80-e3a305802f35",
        "outputId": "3a060080-9a2a-47a1-a5c6-dea02567e6bd"
      },
      "outputs": [
        {
          "output_type": "stream",
          "name": "stdout",
          "text": [
            "images.shape: torch.Size([64, 1, 28, 28]) & labels.shape: torch.Size([64])\n"
          ]
        }
      ],
      "source": [
        "# Get some random batch of training images & labels-\n",
        "images, labels = next(iter(train_loader))\n",
        "\n",
        "# You get 64 images due to the specified batch size-\n",
        "print(f\"images.shape: {images.shape} & labels.shape: {labels.shape}\")"
      ]
    },
    {
      "cell_type": "code",
      "execution_count": 14,
      "id": "452fdb3a-801b-4b98-8471-ffadc8f3f85a",
      "metadata": {
        "colab": {
          "base_uri": "https://localhost:8080/"
        },
        "id": "452fdb3a-801b-4b98-8471-ffadc8f3f85a",
        "outputId": "e3bdf0de-9335-4b59-c4be-82ab597753a3"
      },
      "outputs": [
        {
          "output_type": "execute_result",
          "data": {
            "text/plain": [
              "torch.Size([64, 784])"
            ]
          },
          "metadata": {},
          "execution_count": 14
        }
      ],
      "source": [
        "# Reshape input so that it can be fed into LeNet-300-100 architecture model-\n",
        "images.reshape(-1, 28 * 28 * 1).shape"
      ]
    },
    {
      "cell_type": "code",
      "execution_count": null,
      "id": "b13b1d9a-87be-43ca-ab06-145056edef8f",
      "metadata": {
        "id": "b13b1d9a-87be-43ca-ab06-145056edef8f"
      },
      "outputs": [],
      "source": [
        ""
      ]
    },
    {
      "cell_type": "code",
      "execution_count": 15,
      "id": "309c02db-9103-4b37-8b53-55d8984c8b9b",
      "metadata": {
        "colab": {
          "base_uri": "https://localhost:8080/",
          "height": 274
        },
        "id": "309c02db-9103-4b37-8b53-55d8984c8b9b",
        "outputId": "76f52366-a3ba-4b59-bca7-06e71ea8ad9e"
      },
      "outputs": [
        {
          "output_type": "display_data",
          "data": {
            "image/png": "[encoded data removed]",
            "text/plain": [
              "<Figure size 432x288 with 10 Axes>"
            ]
          },
          "metadata": {
            "needs_background": "light"
          }
        }
      ],
      "source": [
        "# Visualize 10 images from training set-\n",
        "for i in range(10):\n",
        "    plt.subplot(2, 5, i + 1)    # 2 rows & 5 columns\n",
        "    plt.imshow(images[i][0], cmap = 'gray')     # '0' to access first channel\n",
        "    \n",
        "plt.suptitle(\"Sample MNIST training images\")\n",
        "plt.show()"
      ]
    },
    {
      "cell_type": "code",
      "execution_count": null,
      "id": "c2bcaf73-93af-407e-adb1-c0066d4deed7",
      "metadata": {
        "id": "c2bcaf73-93af-407e-adb1-c0066d4deed7"
      },
      "outputs": [],
      "source": [
        ""
      ]
    },
    {
      "cell_type": "code",
      "execution_count": null,
      "id": "3e73c656-ce0a-4bfd-b78d-7a03faf40607",
      "metadata": {
        "id": "3e73c656-ce0a-4bfd-b78d-7a03faf40607"
      },
      "outputs": [],
      "source": [
        ""
      ]
    },
    {
      "cell_type": "markdown",
      "id": "4029600b-f16f-45f0-9dbf-f0e0bedaeaf9",
      "metadata": {
        "id": "4029600b-f16f-45f0-9dbf-f0e0bedaeaf9"
      },
      "source": [
        "### _Variational Autoencoder_ architecture - _Dense_ layers"
      ]
    },
    {
      "cell_type": "code",
      "execution_count": 16,
      "id": "76f5e8ca-d998-457b-a848-18691eb61adf",
      "metadata": {
        "id": "76f5e8ca-d998-457b-a848-18691eb61adf"
      },
      "outputs": [],
      "source": [
        "class VAE_Dense(nn.Module):\n",
        "    def __init__(self, latent_space = 5):\n",
        "        super(VAE_Dense, self).__init__()\n",
        "        \n",
        "        self.latent_space = latent_space\n",
        "        \n",
        "        # Encoder-\n",
        "        self.enc_layer1 = nn.Linear(\n",
        "            in_features = 28 * 28 * 1, out_features = 512,\n",
        "            bias = True\n",
        "        )\n",
        "        \n",
        "        self.enc_layer2 = nn.Linear(\n",
        "            in_features = 512, out_features = latent_space,\n",
        "            bias = True\n",
        "        )\n",
        "        \n",
        "        # Two additional layers 'hidden2mu' & 'hidden2log' to convert the bottleneck into the μ and σ vectors-\n",
        "        self.hidden2mu = nn.Linear(in_features = latent_space, out_features = latent_space, bias = True)\n",
        "        self.hidden2log_var = nn.Linear(in_features = latent_space, out_features = latent_space, bias = True)\n",
        "        \n",
        "        # Decoder-\n",
        "        self.dec_layer1 = nn.Linear(\n",
        "            in_features = self.latent_space, out_features = 512,\n",
        "            bias = True\n",
        "        )\n",
        "        self.dec_layer2 = nn.Linear(\n",
        "            in_features = 512, out_features = 28 * 28 * 1,\n",
        "            bias = True\n",
        "        )\n",
        "        \n",
        "        \n",
        "    def reparameterize(self, mu, log_var):\n",
        "        '''\n",
        "        Input arguments:\n",
        "        1. mu - mean coming from the encoder's latent space\n",
        "        2. log_var - log variance coming from the encoder's latent space\n",
        "        '''\n",
        "        # Compute standard deviation using 'log_var'-\n",
        "        std = torch.exp(0.5 * log_var)\n",
        "        \n",
        "        # 'eps' samples from a normal standard distribution to add\n",
        "        # stochasticity to the sampling process-\n",
        "        eps = torch.randn_like(std)\n",
        "        \n",
        "        # Reparameterization trick - sample as if it's from the input\n",
        "        # space-\n",
        "        sample = mu + (std * eps)\n",
        "        \n",
        "        return sample\n",
        "    \n",
        "    \n",
        "    def forward(self, x):\n",
        "        # Encode input data-\n",
        "        x = F.relu(self.enc_layer1(x.view(-1, 28 * 28 * 1)))\n",
        "        x = F.relu(self.enc_layer2(x))\n",
        "        # NOTE: The line of code above does NOT give us the latent vector!\n",
        "        \n",
        "        # print(f\"encoder's output x.shape: {x.shape}\")\n",
        "        \n",
        "        mu = self.hidden2mu(x)\n",
        "        log_var = self.hidden2log_var(x)\n",
        "        \n",
        "        # Obtain the latent vector using reparameterization-\n",
        "        z = self.reparameterize(mu, log_var)\n",
        "        # latent vector 'z' is obtained through reparameterization trick using mu and log_var\n",
        "        \n",
        "        '''\n",
        "        print(f\"mu.shape: {mu.shape}, log_var.shape: {log_var.shape} &\"\n",
        "              f\" z.shape: {z.shape}\")\n",
        "        '''\n",
        "        \n",
        "        # Decode latent vector-\n",
        "        x = F.relu(self.dec_layer1(z))\n",
        "        recon_data = torch.sigmoid(self.dec_layer2(x)) # or, tanh\n",
        "        \n",
        "        return recon_data, mu, log_var\n",
        "        "
      ]
    },
    {
      "cell_type": "code",
      "execution_count": null,
      "id": "b9c5c07a-fa64-49e4-944c-22814fbb94de",
      "metadata": {
        "id": "b9c5c07a-fa64-49e4-944c-22814fbb94de"
      },
      "outputs": [],
      "source": [
        ""
      ]
    },
    {
      "cell_type": "code",
      "execution_count": 17,
      "id": "9d08548f-5dd2-4e09-95b6-e43bcbbf598d",
      "metadata": {
        "id": "9d08548f-5dd2-4e09-95b6-e43bcbbf598d"
      },
      "outputs": [],
      "source": [
        "# Initialize a VAE objetc-\n",
        "model = VAE_Dense(latent_space = 5).to(device)"
      ]
    },
    {
      "cell_type": "code",
      "execution_count": null,
      "id": "3db12ec6-36dc-4cd8-9fc4-a46523ac5ce7",
      "metadata": {
        "id": "3db12ec6-36dc-4cd8-9fc4-a46523ac5ce7"
      },
      "outputs": [],
      "source": [
        ""
      ]
    },
    {
      "cell_type": "code",
      "execution_count": 18,
      "id": "be32f07f-999e-47ce-9367-c2d285f0a157",
      "metadata": {
        "colab": {
          "base_uri": "https://localhost:8080/"
        },
        "id": "be32f07f-999e-47ce-9367-c2d285f0a157",
        "outputId": "20ee94a3-85cc-4893-da8a-93f6aa360554"
      },
      "outputs": [
        {
          "output_type": "stream",
          "name": "stdout",
          "text": [
            "VAE_Dense(\n",
            "  (enc_layer1): Linear(in_features=784, out_features=512, bias=True)\n",
            "  (enc_layer2): Linear(in_features=512, out_features=5, bias=True)\n",
            "  (hidden2mu): Linear(in_features=5, out_features=5, bias=True)\n",
            "  (hidden2log_var): Linear(in_features=5, out_features=5, bias=True)\n",
            "  (dec_layer1): Linear(in_features=5, out_features=512, bias=True)\n",
            "  (dec_layer2): Linear(in_features=512, out_features=784, bias=True)\n",
            ")\n"
          ]
        }
      ],
      "source": [
        "print(model)"
      ]
    },
    {
      "cell_type": "code",
      "execution_count": null,
      "id": "fbd4ec8d-40e9-4c44-ae96-9a4964ad4e46",
      "metadata": {
        "id": "fbd4ec8d-40e9-4c44-ae96-9a4964ad4e46"
      },
      "outputs": [],
      "source": [
        ""
      ]
    },
    {
      "cell_type": "code",
      "execution_count": 19,
      "id": "0e0ef2ec-357a-4d35-acb0-e5a3ad519905",
      "metadata": {
        "colab": {
          "base_uri": "https://localhost:8080/"
        },
        "id": "0e0ef2ec-357a-4d35-acb0-e5a3ad519905",
        "outputId": "192e8636-f9c1-46ab-a4ea-263b3a00a1a3"
      },
      "outputs": [
        {
          "output_type": "stream",
          "name": "stdout",
          "text": [
            "layer.shape = torch.Size([512, 784]) has 401408 parameters\n",
            "layer.shape = torch.Size([512]) has 512 parameters\n",
            "layer.shape = torch.Size([5, 512]) has 2560 parameters\n",
            "layer.shape = torch.Size([5]) has 5 parameters\n",
            "layer.shape = torch.Size([5, 5]) has 25 parameters\n",
            "layer.shape = torch.Size([5]) has 5 parameters\n",
            "layer.shape = torch.Size([5, 5]) has 25 parameters\n",
            "layer.shape = torch.Size([5]) has 5 parameters\n",
            "layer.shape = torch.Size([512, 5]) has 2560 parameters\n",
            "layer.shape = torch.Size([512]) has 512 parameters\n",
            "layer.shape = torch.Size([784, 512]) has 401408 parameters\n",
            "layer.shape = torch.Size([784]) has 784 parameters\n"
          ]
        }
      ],
      "source": [
        "# Count number of layer-wise parameters and total parameters-\n",
        "tot_params = 0\n",
        "for param in model.parameters():\n",
        "    print(f\"layer.shape = {param.shape} has {param.nelement()} parameters\")\n",
        "    tot_params += param.nelement()"
      ]
    },
    {
      "cell_type": "code",
      "execution_count": 20,
      "id": "ff8bc997-fe2d-465d-bbb5-929b4c2292b3",
      "metadata": {
        "colab": {
          "base_uri": "https://localhost:8080/"
        },
        "id": "ff8bc997-fe2d-465d-bbb5-929b4c2292b3",
        "outputId": "4cfd3275-82c3-4062-fd54-e89609a7100a"
      },
      "outputs": [
        {
          "output_type": "stream",
          "name": "stdout",
          "text": [
            "Total number of parameters in VAE Dense model = 809809\n"
          ]
        }
      ],
      "source": [
        "print(f\"Total number of parameters in VAE Dense model = {tot_params}\")"
      ]
    },
    {
      "cell_type": "code",
      "execution_count": 22,
      "id": "fc8c8e8a-31bb-419f-b916-ceeb02ae1240",
      "metadata": {
        "id": "fc8c8e8a-31bb-419f-b916-ceeb02ae1240"
      },
      "outputs": [],
      "source": [
        ""
      ]
    },
    {
      "cell_type": "code",
      "source": [
        "images = images.to(device)"
      ],
      "metadata": {
        "id": "iGRzJXK5X8qq"
      },
      "id": "iGRzJXK5X8qq",
      "execution_count": 23,
      "outputs": []
    },
    {
      "cell_type": "code",
      "execution_count": 24,
      "id": "9c377c9f-77f0-41af-be18-56d86ccc28fe",
      "metadata": {
        "id": "9c377c9f-77f0-41af-be18-56d86ccc28fe",
        "outputId": "1185d33c-b893-408a-8c8c-5df5b374813d",
        "colab": {
          "base_uri": "https://localhost:8080/"
        }
      },
      "outputs": [
        {
          "output_type": "execute_result",
          "data": {
            "text/plain": [
              "torch.Size([64, 1, 28, 28])"
            ]
          },
          "metadata": {},
          "execution_count": 24
        }
      ],
      "source": [
        "images.shape"
      ]
    },
    {
      "cell_type": "code",
      "execution_count": 25,
      "id": "bbc7f380-fe3b-437a-b6f8-e889798c1d9a",
      "metadata": {
        "id": "bbc7f380-fe3b-437a-b6f8-e889798c1d9a"
      },
      "outputs": [],
      "source": [
        "# Sanity check-\n",
        "recon_images, mu, log_var = model(images)"
      ]
    },
    {
      "cell_type": "code",
      "execution_count": 26,
      "id": "86055c77-fe58-42cc-a865-d21939bcbb42",
      "metadata": {
        "id": "86055c77-fe58-42cc-a865-d21939bcbb42",
        "outputId": "b2bad30f-66e1-43b4-d15a-87694d2ea613",
        "colab": {
          "base_uri": "https://localhost:8080/"
        }
      },
      "outputs": [
        {
          "output_type": "execute_result",
          "data": {
            "text/plain": [
              "(torch.Size([64, 784]), torch.Size([64, 5]), torch.Size([64, 5]))"
            ]
          },
          "metadata": {},
          "execution_count": 26
        }
      ],
      "source": [
        "recon_images.shape, mu.shape, log_var.shape"
      ]
    },
    {
      "cell_type": "code",
      "execution_count": null,
      "id": "1090cad5-985f-4428-9927-499fe0bf887f",
      "metadata": {
        "id": "1090cad5-985f-4428-9927-499fe0bf887f"
      },
      "outputs": [],
      "source": [
        ""
      ]
    },
    {
      "cell_type": "code",
      "execution_count": null,
      "id": "9339100e-266f-45e7-aaf1-92c3670ca8d1",
      "metadata": {
        "id": "9339100e-266f-45e7-aaf1-92c3670ca8d1"
      },
      "outputs": [],
      "source": [
        ""
      ]
    },
    {
      "cell_type": "code",
      "execution_count": 27,
      "id": "b56d86af-6364-478a-b197-5219bfaf40d0",
      "metadata": {
        "colab": {
          "base_uri": "https://localhost:8080/"
        },
        "id": "b56d86af-6364-478a-b197-5219bfaf40d0",
        "outputId": "fa49d45d-1d96-4702-cb50-f6ba9fd01d3d"
      },
      "outputs": [
        {
          "output_type": "stream",
          "name": "stdout",
          "text": [
            "Adam optimizer with learning rate = 0.001 will be used\n"
          ]
        }
      ],
      "source": [
        "print(f\"Adam optimizer with learning rate = {learning_rate} will be used\")"
      ]
    },
    {
      "cell_type": "code",
      "execution_count": 28,
      "id": "5371dd75-db32-476a-8918-e61abef9c6cb",
      "metadata": {
        "id": "5371dd75-db32-476a-8918-e61abef9c6cb"
      },
      "outputs": [],
      "source": [
        "# Define gradient descent optimizer-\n",
        "optimizer = torch.optim.Adam(model.parameters(), lr = learning_rate)"
      ]
    },
    {
      "cell_type": "code",
      "execution_count": 29,
      "id": "f95bdc9d-069d-4a26-8fbd-6a3e72c71d4b",
      "metadata": {
        "id": "f95bdc9d-069d-4a26-8fbd-6a3e72c71d4b"
      },
      "outputs": [],
      "source": [
        "# Reconstruction loss-\n",
        "criterion = nn.BCELoss(reduction = 'sum')\n",
        "\n",
        "# Note: reduction='sum' is used for the BCELoss(). If you read the PyTorch documentations, then this is\n",
        "# specifically for the case of autoencoders only.\n",
        "\n",
        "# Also, MSE loss could also be used-\n",
        "# criterion = nn.MSELoss(reduction = 'sum')"
      ]
    },
    {
      "cell_type": "code",
      "execution_count": null,
      "id": "4883f7d5-498e-424a-804f-dfefd38896fe",
      "metadata": {
        "id": "4883f7d5-498e-424a-804f-dfefd38896fe"
      },
      "outputs": [],
      "source": [
        ""
      ]
    },
    {
      "cell_type": "code",
      "execution_count": 30,
      "id": "6b3a876c-4fdb-4afe-83a9-a36958f43c1f",
      "metadata": {
        "id": "6b3a876c-4fdb-4afe-83a9-a36958f43c1f"
      },
      "outputs": [],
      "source": [
        "def total_loss(reconstruction_loss, mu, log_var, alpha = 1):\n",
        "    '''\n",
        "    Function to add reconstruction loss and KL-Divergence loss.\n",
        "    KL-Divergence = 0.5 * sum(1 + log(sigma^2) - mu^2 - sigma^2)\n",
        "    \n",
        "    Inputs:\n",
        "    1. recontruction loss - BCE or MSE loss\n",
        "    2. mu: mean from the latent vector\n",
        "    3. logvar: log variance from the latent vector\n",
        "    4. alpha (int): Hyperparameter to control the importance of reconstruction\n",
        "    loss vs KL-Divergence Loss.\n",
        "    '''\n",
        "    KLD = -0.5 * torch.sum(1 + log_var - mu.pow(2) - log_var.exp())\n",
        "    \n",
        "    # final_loss = reconstruction_loss + KLD\n",
        "    final_loss = (reconstruction_loss * alpha) + KLD\n",
        "    \n",
        "    return final_loss\n"
      ]
    },
    {
      "cell_type": "code",
      "execution_count": null,
      "id": "5ee038df-9f91-4407-a51e-383aaa5a8282",
      "metadata": {
        "id": "5ee038df-9f91-4407-a51e-383aaa5a8282"
      },
      "outputs": [],
      "source": [
        ""
      ]
    },
    {
      "cell_type": "code",
      "execution_count": null,
      "id": "39a2f819-2fb9-457b-bfb4-b0a7faa768ea",
      "metadata": {
        "id": "39a2f819-2fb9-457b-bfb4-b0a7faa768ea"
      },
      "outputs": [],
      "source": [
        ""
      ]
    },
    {
      "cell_type": "code",
      "execution_count": 31,
      "id": "dc258df0-82e1-4afa-8720-d29ebdd2c6c0",
      "metadata": {
        "id": "dc258df0-82e1-4afa-8720-d29ebdd2c6c0"
      },
      "outputs": [],
      "source": [
        "def train_one_epoch(model, dataloader, alpha):\n",
        "    \n",
        "    # Place model to device-\n",
        "    model.to(device)\n",
        "    \n",
        "    # Enable training mode-\n",
        "    model.train()\n",
        "    \n",
        "    running_loss = 0.0\n",
        "    \n",
        "    for i, data in tqdm(enumerate(dataloader), total = int(len(train_dataset) / dataloader.batch_size)):\n",
        "        data, _ = data\n",
        "        data = data.to(device)\n",
        "        \n",
        "        # Flatten input data to feed into a dense layer-\n",
        "        data = data.view(data.size(0), -1)\n",
        "        \n",
        "        # Empty accumulated gradients-\n",
        "        optimizer.zero_grad()\n",
        "        \n",
        "        # Perform forward propagation-\n",
        "        reconstruction, mu, logvar = model(data)\n",
        "        \n",
        "        # Compute reconstruction loss-\n",
        "        bce_loss = criterion(reconstruction, data)\n",
        "        \n",
        "        # Compute final loss-\n",
        "        loss = total_loss(bce_loss, mu, logvar, alpha)\n",
        "        \n",
        "        # Update loss-\n",
        "        running_loss += loss.item()\n",
        "        \n",
        "        # Compute gradients wrt loss-\n",
        "        loss.backward()\n",
        "        \n",
        "        # Perform gradient descent-\n",
        "        optimizer.step()\n",
        "        \n",
        "    train_loss = running_loss/len(dataloader.dataset)\n",
        "    \n",
        "    return train_loss\n"
      ]
    },
    {
      "cell_type": "code",
      "execution_count": null,
      "id": "e0b8c2ea-64c3-4106-a7f4-78204e7a7d8e",
      "metadata": {
        "id": "e0b8c2ea-64c3-4106-a7f4-78204e7a7d8e"
      },
      "outputs": [],
      "source": [
        ""
      ]
    },
    {
      "cell_type": "code",
      "execution_count": 32,
      "id": "0a228991-3c4f-4b97-8b7f-d5b76cbf6381",
      "metadata": {
        "id": "0a228991-3c4f-4b97-8b7f-d5b76cbf6381"
      },
      "outputs": [],
      "source": [
        "def validate_one_epoch(model, dataloader, alpha):\n",
        "    \n",
        "    # Place model to device-\n",
        "    model.to(device)\n",
        "    \n",
        "    # Enable evaluation mode-\n",
        "    model.eval()\n",
        "    \n",
        "    running_loss = 0.0\n",
        "    \n",
        "    with torch.no_grad():\n",
        "        for i, data in tqdm(enumerate(dataloader), total = int(len(test_dataset) / dataloader.batch_size)):\n",
        "            data, _ = data\n",
        "            data = data.to(device)\n",
        "            \n",
        "            # Flatten data to feed into a dense layer-\n",
        "            data = data.view(data.size(0), -1)\n",
        "            \n",
        "            # Forward propagation-\n",
        "            reconstruction, mu, logvar = model(data)\n",
        "            \n",
        "            # Compute reconstruction loss-\n",
        "            bce_loss = criterion(reconstruction, data)\n",
        "            \n",
        "            # Compute total loss-\n",
        "            loss = total_loss(bce_loss, mu, logvar, alpha)\n",
        "            \n",
        "            # Update loss-\n",
        "            running_loss += loss.item()\n",
        "\n",
        "            '''\n",
        "            # save the last batch input and output of every epoch\n",
        "            if i == int(len(test_dataset) / dataloader.batch_size) - 1:\n",
        "                num_rows = 8\n",
        "                both = torch.cat((data.view(batch_size, 1, 28, 28)[:8], \n",
        "                                  reconstruction.view(batch_size, 1, 28, 28)[:8]))\n",
        "                save_image(both.cpu(), f\"../outputs/output{epoch}.png\", nrow=num_rows)\n",
        "            '''\n",
        "            \n",
        "    val_loss = running_loss / len(dataloader.dataset)\n",
        "    \n",
        "    return val_loss\n"
      ]
    },
    {
      "cell_type": "code",
      "execution_count": null,
      "id": "7558f1ee-0e4d-4194-b858-39d0056b79af",
      "metadata": {
        "id": "7558f1ee-0e4d-4194-b858-39d0056b79af"
      },
      "outputs": [],
      "source": [
        ""
      ]
    },
    {
      "cell_type": "code",
      "execution_count": null,
      "id": "79362c0a-5a90-4a19-8200-3fc196d8e371",
      "metadata": {
        "id": "79362c0a-5a90-4a19-8200-3fc196d8e371",
        "outputId": "ce8b8470-e17f-4c9e-b4fd-b92dba7d15d0"
      },
      "outputs": [
        {
          "name": "stderr",
          "output_type": "stream",
          "text": [
            "938it [00:29, 32.20it/s]                                                                                               \n"
          ]
        }
      ],
      "source": [
        "# Sanity check-\n",
        "# train_loss = train_one_epoch(model = model, dataloader = train_loader, alpha = 1)"
      ]
    },
    {
      "cell_type": "code",
      "execution_count": null,
      "id": "8d6d2757-37a5-40e0-9f9a-415ba9165f6e",
      "metadata": {
        "id": "8d6d2757-37a5-40e0-9f9a-415ba9165f6e",
        "outputId": "9b829672-74d6-479d-87da-95b06577a300"
      },
      "outputs": [
        {
          "name": "stderr",
          "output_type": "stream",
          "text": [
            "157it [00:02, 52.63it/s]                                                                                               \n"
          ]
        }
      ],
      "source": [
        "# Sanity check-\n",
        "# test_loss = validate_one_epoch(model = model, dataloader = test_loader, aplha = 1)"
      ]
    },
    {
      "cell_type": "code",
      "execution_count": null,
      "id": "059cac80-7078-4b18-b581-a8133bbc57cf",
      "metadata": {
        "id": "059cac80-7078-4b18-b581-a8133bbc57cf",
        "outputId": "07eb1210-596a-47f0-8bb0-5bf968617716"
      },
      "outputs": [
        {
          "name": "stdout",
          "output_type": "stream",
          "text": [
            "train loss = -21864.5813 & test loss = -28941.7061\n"
          ]
        }
      ],
      "source": [
        "print(f\"train loss = {train_loss:.4f} & test loss = {test_loss:.4f}\")"
      ]
    },
    {
      "cell_type": "code",
      "execution_count": null,
      "id": "2c2036e4-194f-4b59-a198-6e83ff274610",
      "metadata": {
        "id": "2c2036e4-194f-4b59-a198-6e83ff274610"
      },
      "outputs": [],
      "source": [
        ""
      ]
    },
    {
      "cell_type": "code",
      "execution_count": null,
      "id": "32a93104-ffd6-42f4-b6f3-7d6ceb16aa98",
      "metadata": {
        "id": "32a93104-ffd6-42f4-b6f3-7d6ceb16aa98"
      },
      "outputs": [],
      "source": [
        ""
      ]
    },
    {
      "cell_type": "code",
      "execution_count": 33,
      "id": "4c708086-044a-42bf-95c6-9b11935a4901",
      "metadata": {
        "id": "4c708086-044a-42bf-95c6-9b11935a4901"
      },
      "outputs": [],
      "source": [
        "# Specify alpha - Hyperparameter to control the importance of reconstruction\n",
        "# loss vs KL-Divergence Loss-\n",
        "alpha = 10"
      ]
    },
    {
      "cell_type": "code",
      "execution_count": null,
      "id": "56bc9183-c959-4d0f-90b1-9c3f1555cec7",
      "metadata": {
        "id": "56bc9183-c959-4d0f-90b1-9c3f1555cec7"
      },
      "outputs": [],
      "source": [
        ""
      ]
    },
    {
      "cell_type": "code",
      "execution_count": 34,
      "id": "18003b45-4f60-474e-87d6-25f8e936a9cd",
      "metadata": {
        "id": "18003b45-4f60-474e-87d6-25f8e936a9cd"
      },
      "outputs": [],
      "source": [
        "# Python dict to contain training metrics-\n",
        "train_history = {}"
      ]
    },
    {
      "cell_type": "code",
      "execution_count": 35,
      "id": "b17156a0-83dc-4a4a-a2b7-d477c00dc277",
      "metadata": {
        "colab": {
          "base_uri": "https://localhost:8080/"
        },
        "id": "b17156a0-83dc-4a4a-a2b7-d477c00dc277",
        "outputId": "737d5605-c45c-43d1-c1d7-a55a28d6f63b"
      },
      "outputs": [
        {
          "output_type": "stream",
          "name": "stderr",
          "text": [
            "938it [00:19, 47.97it/s]                         \n",
            "157it [00:02, 58.85it/s]                         \n"
          ]
        },
        {
          "output_type": "stream",
          "name": "stdout",
          "text": [
            "Epoch = 1; train loss = -179005.4882 & test loss = -212564.0966\n"
          ]
        },
        {
          "output_type": "stream",
          "name": "stderr",
          "text": [
            "938it [00:19, 48.19it/s]                         \n",
            "157it [00:02, 59.53it/s]                         \n"
          ]
        },
        {
          "output_type": "stream",
          "name": "stdout",
          "text": [
            "Epoch = 2; train loss = -225596.5652 & test loss = -249905.5648\n"
          ]
        },
        {
          "output_type": "stream",
          "name": "stderr",
          "text": [
            "938it [00:19, 47.97it/s]\n",
            "157it [00:02, 58.02it/s]                         \n"
          ]
        },
        {
          "output_type": "stream",
          "name": "stdout",
          "text": [
            "Epoch = 3; train loss = -259069.9915 & test loss = -270184.6774\n"
          ]
        },
        {
          "output_type": "stream",
          "name": "stderr",
          "text": [
            "938it [00:19, 47.99it/s]\n",
            "157it [00:02, 58.09it/s]                         \n"
          ]
        },
        {
          "output_type": "stream",
          "name": "stdout",
          "text": [
            "Epoch = 4; train loss = -270098.3112 & test loss = -276598.5896\n"
          ]
        },
        {
          "output_type": "stream",
          "name": "stderr",
          "text": [
            "938it [00:19, 47.97it/s]                         \n",
            "157it [00:02, 58.43it/s]                         \n"
          ]
        },
        {
          "output_type": "stream",
          "name": "stdout",
          "text": [
            "Epoch = 5; train loss = -275548.6393 & test loss = -280355.6182\n"
          ]
        },
        {
          "output_type": "stream",
          "name": "stderr",
          "text": [
            "938it [00:19, 47.55it/s]                         \n",
            "157it [00:02, 57.78it/s]                         \n"
          ]
        },
        {
          "output_type": "stream",
          "name": "stdout",
          "text": [
            "Epoch = 6; train loss = -279420.0600 & test loss = -284229.2804\n"
          ]
        },
        {
          "output_type": "stream",
          "name": "stderr",
          "text": [
            "938it [00:19, 47.98it/s]                         \n",
            "157it [00:02, 57.25it/s]                         \n"
          ]
        },
        {
          "output_type": "stream",
          "name": "stdout",
          "text": [
            "Epoch = 7; train loss = -282253.9008 & test loss = -287528.7704\n"
          ]
        },
        {
          "output_type": "stream",
          "name": "stderr",
          "text": [
            "938it [00:19, 47.74it/s]\n",
            "157it [00:02, 57.12it/s]                         \n"
          ]
        },
        {
          "output_type": "stream",
          "name": "stdout",
          "text": [
            "Epoch = 8; train loss = -284432.0711 & test loss = -286963.6236\n"
          ]
        },
        {
          "output_type": "stream",
          "name": "stderr",
          "text": [
            "938it [00:19, 47.80it/s]                         \n",
            "157it [00:02, 59.06it/s]\n"
          ]
        },
        {
          "output_type": "stream",
          "name": "stdout",
          "text": [
            "Epoch = 9; train loss = -286350.3851 & test loss = -289921.1903\n"
          ]
        },
        {
          "output_type": "stream",
          "name": "stderr",
          "text": [
            "938it [00:19, 47.73it/s]                         \n",
            "157it [00:02, 58.47it/s]                         \n"
          ]
        },
        {
          "output_type": "stream",
          "name": "stdout",
          "text": [
            "Epoch = 10; train loss = -287787.5808 & test loss = -291612.1107\n"
          ]
        },
        {
          "output_type": "stream",
          "name": "stderr",
          "text": [
            "938it [00:19, 48.17it/s]                         \n",
            "157it [00:02, 58.16it/s]                         \n"
          ]
        },
        {
          "output_type": "stream",
          "name": "stdout",
          "text": [
            "Epoch = 11; train loss = -289073.0465 & test loss = -292490.0912\n"
          ]
        },
        {
          "output_type": "stream",
          "name": "stderr",
          "text": [
            "938it [00:19, 47.70it/s]                         \n",
            "157it [00:02, 57.83it/s]                         \n"
          ]
        },
        {
          "output_type": "stream",
          "name": "stdout",
          "text": [
            "Epoch = 12; train loss = -290128.4803 & test loss = -291763.6298\n"
          ]
        },
        {
          "output_type": "stream",
          "name": "stderr",
          "text": [
            "938it [00:19, 48.00it/s]                         \n",
            "157it [00:02, 58.15it/s]                         \n"
          ]
        },
        {
          "output_type": "stream",
          "name": "stdout",
          "text": [
            "Epoch = 13; train loss = -290901.9999 & test loss = -294325.9047\n"
          ]
        },
        {
          "output_type": "stream",
          "name": "stderr",
          "text": [
            "938it [00:19, 47.87it/s]                         \n",
            "157it [00:02, 57.11it/s]                         \n"
          ]
        },
        {
          "output_type": "stream",
          "name": "stdout",
          "text": [
            "Epoch = 14; train loss = -291739.9132 & test loss = -295574.9414\n"
          ]
        },
        {
          "output_type": "stream",
          "name": "stderr",
          "text": [
            "938it [00:19, 47.81it/s]                         \n",
            "157it [00:02, 57.80it/s]                         \n"
          ]
        },
        {
          "output_type": "stream",
          "name": "stdout",
          "text": [
            "Epoch = 15; train loss = -292494.1706 & test loss = -294526.1590\n"
          ]
        },
        {
          "output_type": "stream",
          "name": "stderr",
          "text": [
            "938it [00:19, 48.25it/s]                         \n",
            "157it [00:02, 59.43it/s]                         \n"
          ]
        },
        {
          "output_type": "stream",
          "name": "stdout",
          "text": [
            "Epoch = 16; train loss = -293117.8070 & test loss = -295108.9461\n"
          ]
        },
        {
          "output_type": "stream",
          "name": "stderr",
          "text": [
            "938it [00:19, 48.05it/s]                         \n",
            "157it [00:02, 57.36it/s]                         \n"
          ]
        },
        {
          "output_type": "stream",
          "name": "stdout",
          "text": [
            "Epoch = 17; train loss = -293769.7137 & test loss = -295981.9285\n"
          ]
        },
        {
          "output_type": "stream",
          "name": "stderr",
          "text": [
            "938it [00:19, 47.92it/s]\n",
            "157it [00:02, 57.67it/s]                         \n"
          ]
        },
        {
          "output_type": "stream",
          "name": "stdout",
          "text": [
            "Epoch = 18; train loss = -294225.1420 & test loss = -295852.9841\n"
          ]
        },
        {
          "output_type": "stream",
          "name": "stderr",
          "text": [
            "938it [00:19, 47.78it/s]                         \n",
            "157it [00:02, 57.85it/s]                         \n"
          ]
        },
        {
          "output_type": "stream",
          "name": "stdout",
          "text": [
            "Epoch = 19; train loss = -294804.9856 & test loss = -297111.4352\n"
          ]
        },
        {
          "output_type": "stream",
          "name": "stderr",
          "text": [
            "938it [00:19, 47.09it/s]                         \n",
            "157it [00:02, 58.28it/s]                         \n"
          ]
        },
        {
          "output_type": "stream",
          "name": "stdout",
          "text": [
            "Epoch = 20; train loss = -295241.0946 & test loss = -297158.7580\n"
          ]
        },
        {
          "output_type": "stream",
          "name": "stderr",
          "text": [
            "938it [00:19, 47.20it/s]                         \n",
            "157it [00:02, 58.63it/s]                         \n"
          ]
        },
        {
          "output_type": "stream",
          "name": "stdout",
          "text": [
            "Epoch = 21; train loss = -295657.2981 & test loss = -297644.8481\n"
          ]
        },
        {
          "output_type": "stream",
          "name": "stderr",
          "text": [
            "938it [00:19, 47.83it/s]                         \n",
            "157it [00:02, 58.13it/s]                         \n"
          ]
        },
        {
          "output_type": "stream",
          "name": "stdout",
          "text": [
            "Epoch = 22; train loss = -296079.6318 & test loss = -298018.4875\n"
          ]
        },
        {
          "output_type": "stream",
          "name": "stderr",
          "text": [
            "938it [00:19, 47.86it/s]                         \n",
            "157it [00:02, 59.30it/s]                         \n"
          ]
        },
        {
          "output_type": "stream",
          "name": "stdout",
          "text": [
            "Epoch = 23; train loss = -296284.1595 & test loss = -297824.4440\n"
          ]
        },
        {
          "output_type": "stream",
          "name": "stderr",
          "text": [
            "938it [00:19, 48.34it/s]                         \n",
            "157it [00:02, 58.15it/s]                         \n"
          ]
        },
        {
          "output_type": "stream",
          "name": "stdout",
          "text": [
            "Epoch = 24; train loss = -296570.2961 & test loss = -298394.3223\n"
          ]
        },
        {
          "output_type": "stream",
          "name": "stderr",
          "text": [
            "938it [00:19, 47.97it/s]                         \n",
            "157it [00:02, 59.45it/s]                         \n"
          ]
        },
        {
          "output_type": "stream",
          "name": "stdout",
          "text": [
            "Epoch = 25; train loss = -296825.6125 & test loss = -298271.6028\n"
          ]
        },
        {
          "output_type": "stream",
          "name": "stderr",
          "text": [
            "938it [00:19, 48.16it/s]                         \n",
            "157it [00:02, 59.07it/s]                         \n"
          ]
        },
        {
          "output_type": "stream",
          "name": "stdout",
          "text": [
            "Epoch = 26; train loss = -297266.3235 & test loss = -298393.4570\n"
          ]
        },
        {
          "output_type": "stream",
          "name": "stderr",
          "text": [
            "938it [00:19, 48.31it/s]                         \n",
            "157it [00:02, 58.48it/s]                         \n"
          ]
        },
        {
          "output_type": "stream",
          "name": "stdout",
          "text": [
            "Epoch = 27; train loss = -297470.4961 & test loss = -298020.4820\n"
          ]
        },
        {
          "output_type": "stream",
          "name": "stderr",
          "text": [
            "938it [00:19, 48.09it/s]                         \n",
            "157it [00:02, 58.59it/s]                         \n"
          ]
        },
        {
          "output_type": "stream",
          "name": "stdout",
          "text": [
            "Epoch = 28; train loss = -297790.7079 & test loss = -299207.3330\n"
          ]
        },
        {
          "output_type": "stream",
          "name": "stderr",
          "text": [
            "938it [00:19, 47.73it/s]                         \n",
            "157it [00:02, 58.86it/s]                         \n"
          ]
        },
        {
          "output_type": "stream",
          "name": "stdout",
          "text": [
            "Epoch = 29; train loss = -297883.2916 & test loss = -298965.7284\n"
          ]
        },
        {
          "output_type": "stream",
          "name": "stderr",
          "text": [
            "938it [00:19, 47.33it/s]                         \n",
            "157it [00:02, 58.01it/s]                         "
          ]
        },
        {
          "output_type": "stream",
          "name": "stdout",
          "text": [
            "Epoch = 30; train loss = -297962.3837 & test loss = -298525.9604\n"
          ]
        },
        {
          "output_type": "stream",
          "name": "stderr",
          "text": [
            "\n"
          ]
        }
      ],
      "source": [
        "for epoch in range(1, 31):\n",
        "    train_epoch_loss = train_one_epoch(\n",
        "        model = model, dataloader = train_loader,\n",
        "        alpha = alpha\n",
        "    )\n",
        "    val_epoch_loss = validate_one_epoch(\n",
        "        model = model, dataloader = test_loader,\n",
        "        alpha = alpha\n",
        "    )\n",
        "    \n",
        "    train_history[epoch] = {\n",
        "        'train_loss': train_epoch_loss,\n",
        "        'val_loss': val_epoch_loss\n",
        "    }\n",
        "\n",
        "    print(f\"Epoch = {epoch}; train loss = {train_epoch_loss:.4f} & test loss = {val_epoch_loss:.4f}\")\n",
        "    "
      ]
    },
    {
      "cell_type": "code",
      "execution_count": null,
      "id": "SZYOvyHS7fmL",
      "metadata": {
        "id": "SZYOvyHS7fmL"
      },
      "outputs": [],
      "source": [
        ""
      ]
    },
    {
      "cell_type": "code",
      "execution_count": 36,
      "id": "Yxves7eh7ihw",
      "metadata": {
        "id": "Yxves7eh7ihw"
      },
      "outputs": [],
      "source": [
        "# Save trained VAE model's weights-\n",
        "torch.save(model.state_dict(), 'VAE_Dense_MNIST_Trained_Weights.pth')"
      ]
    },
    {
      "cell_type": "code",
      "execution_count": null,
      "id": "Ee-tST-I7fvl",
      "metadata": {
        "id": "Ee-tST-I7fvl"
      },
      "outputs": [],
      "source": [
        "# Load trained weights from before-\n",
        "# loaded_model = VAE_Dense(latent_space = 5).to(device)\n",
        "# loaded_model.load_state_dict(torch.load('VAE_Dense_MNIST_Trained_Weights.pth', map_location = torch.device('cpu')))"
      ]
    },
    {
      "cell_type": "code",
      "execution_count": null,
      "id": "2808c346-7ee4-4ebb-8a84-0cf16c1fbe1f",
      "metadata": {
        "id": "2808c346-7ee4-4ebb-8a84-0cf16c1fbe1f"
      },
      "outputs": [],
      "source": [
        "# Define gradient descent optimizer-\n",
        "# optimizer = torch.optim.Adam(loaded_model.parameters(), lr = learning_rate)"
      ]
    },
    {
      "cell_type": "code",
      "execution_count": null,
      "id": "f-FQXDUP7nGE",
      "metadata": {
        "id": "f-FQXDUP7nGE"
      },
      "outputs": [],
      "source": [
        ""
      ]
    },
    {
      "cell_type": "code",
      "execution_count": 37,
      "id": "XjJgbvjQ7nIp",
      "metadata": {
        "id": "XjJgbvjQ7nIp"
      },
      "outputs": [],
      "source": [
        "import pickle\n",
        "\n",
        "# Save training history as pickle file-\n",
        "with open(\"VAE_Dense_MNIST_training_history.pkl\", \"wb\") as file:\n",
        "    pickle.dump(train_history, file)"
      ]
    },
    {
      "cell_type": "code",
      "execution_count": null,
      "id": "eH2wC_nW7zoX",
      "metadata": {
        "id": "eH2wC_nW7zoX"
      },
      "outputs": [],
      "source": [
        "'''\n",
        "# Load training history from pickle file-\n",
        "with open(\"VAE_Dense_MNIST_training_history.pkl\", \"rb\") as file:\n",
        "    training_history_lr_scheduler = pickle.load(file)\n",
        "'''"
      ]
    },
    {
      "cell_type": "code",
      "execution_count": null,
      "id": "4DmhjNZT73MF",
      "metadata": {
        "id": "4DmhjNZT73MF"
      },
      "outputs": [],
      "source": [
        ""
      ]
    },
    {
      "cell_type": "code",
      "execution_count": 38,
      "id": "JoQwTaam99Tr",
      "metadata": {
        "colab": {
          "base_uri": "https://localhost:8080/",
          "height": 444
        },
        "id": "JoQwTaam99Tr",
        "outputId": "0e8c96d2-b276-49d4-9b1f-e662f1e16695"
      },
      "outputs": [
        {
          "output_type": "display_data",
          "data": {
            "image/png": "[encoded data removed]",
            "text/plain": [
              "<Figure size 648x504 with 1 Axes>"
            ]
          },
          "metadata": {
            "needs_background": "light"
          }
        }
      ],
      "source": [
        "# VAE Training Visualization-\n",
        "plt.figure(figsize = (9, 7))\n",
        "plt.plot([train_history[x]['train_loss'] for x in train_history.keys()], label = 'train_loss')\n",
        "plt.plot([train_history[x]['val_loss'] for x in train_history.keys()], label = 'val_loss')\n",
        "plt.legend(loc = 'best')\n",
        "plt.title(\"VAE: Training Visualizations\")\n",
        "plt.show()"
      ]
    },
    {
      "cell_type": "code",
      "execution_count": null,
      "id": "5BjWSDut-O7r",
      "metadata": {
        "id": "5BjWSDut-O7r"
      },
      "outputs": [],
      "source": [
        ""
      ]
    },
    {
      "cell_type": "code",
      "execution_count": null,
      "id": "ohN-uM86-CJy",
      "metadata": {
        "id": "ohN-uM86-CJy"
      },
      "outputs": [],
      "source": [
        ""
      ]
    },
    {
      "cell_type": "markdown",
      "source": [
        "### Reconstruct/Generate images using _trained_ VAE model:"
      ],
      "metadata": {
        "id": "JU9ngmnEaQfM"
      },
      "id": "JU9ngmnEaQfM"
    },
    {
      "cell_type": "code",
      "execution_count": 39,
      "id": "rTKwWBG6-ZLo",
      "metadata": {
        "id": "rTKwWBG6-ZLo"
      },
      "outputs": [],
      "source": [
        "images = images.to(device)"
      ]
    },
    {
      "cell_type": "code",
      "execution_count": 41,
      "id": "YxLhK_2c-W1a",
      "metadata": {
        "id": "YxLhK_2c-W1a"
      },
      "outputs": [],
      "source": [
        "# Perform forward propagation-\n",
        "recon_images, mu, log_var = model(images)"
      ]
    },
    {
      "cell_type": "code",
      "execution_count": null,
      "id": "5c495f15-bc03-463d-bca8-552d505b0f50",
      "metadata": {
        "id": "5c495f15-bc03-463d-bca8-552d505b0f50"
      },
      "outputs": [],
      "source": [
        "# For CPU-\n",
        "recon_images = recon_images.detach().numpy()\n",
        "mu = mu.detach().numpy()\n",
        "log_var = log_var.detach().numpy()"
      ]
    },
    {
      "cell_type": "code",
      "execution_count": null,
      "id": "e3c34c70-91d9-45e4-ac14-665353a8edfc",
      "metadata": {
        "id": "e3c34c70-91d9-45e4-ac14-665353a8edfc",
        "outputId": "d8242a58-a1a7-4057-9753-f797f24bef19"
      },
      "outputs": [
        {
          "data": {
            "text/plain": [
              "((64, 784), (64, 5), (64, 5))"
            ]
          },
          "execution_count": 34,
          "metadata": {},
          "output_type": "execute_result"
        }
      ],
      "source": [
        "recon_images.shape, mu.shape, log_var.shape"
      ]
    },
    {
      "cell_type": "code",
      "execution_count": null,
      "id": "761f03e5-dcc0-4b29-937d-3a0392270832",
      "metadata": {
        "id": "761f03e5-dcc0-4b29-937d-3a0392270832"
      },
      "outputs": [],
      "source": [
        ""
      ]
    },
    {
      "cell_type": "code",
      "execution_count": 42,
      "id": "0Mcc8N0m-bma",
      "metadata": {
        "id": "0Mcc8N0m-bma"
      },
      "outputs": [],
      "source": [
        "# FOR CUDA/GPU-\n",
        "recon_images = recon_images.detach().cpu().numpy()\n",
        "mu = mu.detach().cpu().numpy()\n",
        "log_var = log_var.detach().cpu().numpy()"
      ]
    },
    {
      "cell_type": "code",
      "execution_count": 43,
      "id": "ubgNYfQY-rI6",
      "metadata": {
        "colab": {
          "base_uri": "https://localhost:8080/"
        },
        "id": "ubgNYfQY-rI6",
        "outputId": "f6a24a2c-3cf5-4d63-a293-7f063efee2f6"
      },
      "outputs": [
        {
          "output_type": "execute_result",
          "data": {
            "text/plain": [
              "(64, 784)"
            ]
          },
          "metadata": {},
          "execution_count": 43
        }
      ],
      "source": [
        "recon_images.shape"
      ]
    },
    {
      "cell_type": "code",
      "execution_count": 44,
      "id": "62ec66e4-1a3a-454e-9374-a5104a78ebb3",
      "metadata": {
        "id": "62ec66e4-1a3a-454e-9374-a5104a78ebb3"
      },
      "outputs": [],
      "source": [
        "# Reshape images for visualization-\n",
        "recon_images = recon_images.reshape(-1, 1, 28, 28)"
      ]
    },
    {
      "cell_type": "code",
      "execution_count": 45,
      "id": "25615469-a76f-4942-99c2-c48a3c6b5e72",
      "metadata": {
        "colab": {
          "base_uri": "https://localhost:8080/"
        },
        "id": "25615469-a76f-4942-99c2-c48a3c6b5e72",
        "outputId": "00a410ff-83d9-4541-a34c-ce7e2104dd15"
      },
      "outputs": [
        {
          "output_type": "execute_result",
          "data": {
            "text/plain": [
              "(64, 1, 28, 28)"
            ]
          },
          "metadata": {},
          "execution_count": 45
        }
      ],
      "source": [
        "recon_images.shape"
      ]
    },
    {
      "cell_type": "code",
      "execution_count": null,
      "id": "8175de2a-4896-4e78-a6f4-3630c1034277",
      "metadata": {
        "id": "8175de2a-4896-4e78-a6f4-3630c1034277"
      },
      "outputs": [],
      "source": [
        ""
      ]
    },
    {
      "cell_type": "code",
      "execution_count": 46,
      "id": "396ccffc-092a-4bd2-a7d7-cd242c09162b",
      "metadata": {
        "colab": {
          "base_uri": "https://localhost:8080/",
          "height": 274
        },
        "id": "396ccffc-092a-4bd2-a7d7-cd242c09162b",
        "outputId": "5e5f26d2-9c24-45ff-e6c1-823b69ebf00e"
      },
      "outputs": [
        {
          "output_type": "display_data",
          "data": {
            "image/png": "[encoded data removed]",
            "text/plain": [
              "<Figure size 432x288 with 10 Axes>"
            ]
          },
          "metadata": {
            "needs_background": "light"
          }
        }
      ],
      "source": [
        "# Print 10 images from training set-\n",
        "for i in range(10):\n",
        "    plt.subplot(2, 5, i + 1)    # 2 rows & 5 columns\n",
        "    plt.imshow(images[i][0].cpu(), cmap = 'gray')     # '0' to access first channel\n",
        "    \n",
        "plt.suptitle(\"Sample MNIST training images\")\n",
        "plt.show()"
      ]
    },
    {
      "cell_type": "code",
      "execution_count": 47,
      "id": "4e54ebd3-8903-4402-8975-5db9202801e7",
      "metadata": {
        "colab": {
          "base_uri": "https://localhost:8080/",
          "height": 274
        },
        "id": "4e54ebd3-8903-4402-8975-5db9202801e7",
        "outputId": "7adeaee3-b2fd-4f81-bf3f-8b3f0ba6442a"
      },
      "outputs": [
        {
          "output_type": "display_data",
          "data": {
            "image/png": "[encoded data removed]",
            "text/plain": [
              "<Figure size 432x288 with 10 Axes>"
            ]
          },
          "metadata": {
            "needs_background": "light"
          }
        }
      ],
      "source": [
        "# Print 10 images from reconstructions-\n",
        "for i in range(10):\n",
        "    plt.subplot(2, 5, i + 1)    # 2 rows & 5 columns\n",
        "    # plt.imshow(recon_images[i][0].cpu().detach().numpy(), cmap = 'gray')     # '0' to access first channel\n",
        "    plt.imshow(recon_images[i][0], cmap = 'gray')\n",
        "    \n",
        "plt.suptitle(\"Sample MNIST reconstructed images\")\n",
        "plt.show()"
      ]
    },
    {
      "cell_type": "code",
      "execution_count": null,
      "id": "a92c2aa9-0ad4-4d71-ace3-64537e987195",
      "metadata": {
        "id": "a92c2aa9-0ad4-4d71-ace3-64537e987195"
      },
      "outputs": [],
      "source": [
        ""
      ]
    },
    {
      "cell_type": "code",
      "execution_count": 48,
      "id": "c0195744-b95c-4541-8d20-ab2e5bd5164f",
      "metadata": {
        "colab": {
          "base_uri": "https://localhost:8080/",
          "height": 479
        },
        "id": "c0195744-b95c-4541-8d20-ab2e5bd5164f",
        "outputId": "f5ec604c-2dab-4f92-e16d-fc1f742a9814"
      },
      "outputs": [
        {
          "output_type": "display_data",
          "data": {
            "image/png": "[encoded data removed]",
            "text/plain": [
              "<Figure size 648x504 with 50 Axes>"
            ]
          },
          "metadata": {
            "needs_background": "light"
          }
        }
      ],
      "source": [
        "# Print 50 images from reconstructions-\n",
        "plt.figure(figsize = (9, 7))\n",
        "\n",
        "for i in range(50):\n",
        "    plt.subplot(10, 5, i + 1)    # 10 rows & 5 columns\n",
        "    # plt.imshow(recon_images[i][0].cpu().detach().numpy(), cmap = 'gray')     # '0' to access first channel\n",
        "    plt.imshow(recon_images[i][0], cmap = 'gray')\n",
        "    \n",
        "plt.suptitle(\"Sample MNIST reconstructed images\")\n",
        "plt.show()"
      ]
    },
    {
      "cell_type": "code",
      "execution_count": null,
      "id": "8562435e-1836-47f9-a540-ede05f6c6f97",
      "metadata": {
        "id": "8562435e-1836-47f9-a540-ede05f6c6f97"
      },
      "outputs": [],
      "source": [
        ""
      ]
    },
    {
      "cell_type": "code",
      "execution_count": 74,
      "id": "5ef8ced7-87cd-456e-8b8f-09d117af6c33",
      "metadata": {
        "id": "5ef8ced7-87cd-456e-8b8f-09d117af6c33"
      },
      "outputs": [],
      "source": [
        ""
      ]
    },
    {
      "cell_type": "code",
      "source": [
        "'''\n",
        "# Iterating over train loader-\n",
        "for img, label in train_loader:\n",
        "    print(img.shape, label.shape)\n",
        "'''"
      ],
      "metadata": {
        "id": "7GPi5IeMd5Fg"
      },
      "id": "7GPi5IeMd5Fg",
      "execution_count": null,
      "outputs": []
    },
    {
      "cell_type": "code",
      "source": [
        ""
      ],
      "metadata": {
        "id": "59eOXPlQd_hz"
      },
      "id": "59eOXPlQd_hz",
      "execution_count": null,
      "outputs": []
    },
    {
      "cell_type": "code",
      "source": [
        "# Get a batch of training data & it's corresponding labels-\n",
        "images, labels = next(iter(train_loader))\n",
        "images = images.to(device)"
      ],
      "metadata": {
        "id": "onIYyEbfc7to"
      },
      "id": "onIYyEbfc7to",
      "execution_count": 71,
      "outputs": []
    },
    {
      "cell_type": "code",
      "source": [
        "# Perform forward propagation-\n",
        "recon_images, mu, log_var = model(images)"
      ],
      "metadata": {
        "id": "eGnSEHDtc7Gt"
      },
      "id": "eGnSEHDtc7Gt",
      "execution_count": 72,
      "outputs": []
    },
    {
      "cell_type": "code",
      "source": [
        "# FOR CUDA/GPU-\n",
        "recon_images = recon_images.detach().cpu().numpy()\n",
        "mu = mu.detach().cpu().numpy()\n",
        "log_var = log_var.detach().cpu().numpy()"
      ],
      "metadata": {
        "id": "5fOvKSuyc2OR"
      },
      "id": "5fOvKSuyc2OR",
      "execution_count": 73,
      "outputs": []
    },
    {
      "cell_type": "code",
      "source": [
        "recon_images.shape, mu.shape, log_var.shape"
      ],
      "metadata": {
        "colab": {
          "base_uri": "https://localhost:8080/"
        },
        "id": "rAOyYMpZdVhc",
        "outputId": "f8f369ec-8c05-4d24-e30f-299dad6b3696"
      },
      "id": "rAOyYMpZdVhc",
      "execution_count": 74,
      "outputs": [
        {
          "output_type": "execute_result",
          "data": {
            "text/plain": [
              "((64, 784), (64, 5), (64, 5))"
            ]
          },
          "metadata": {},
          "execution_count": 74
        }
      ]
    },
    {
      "cell_type": "code",
      "source": [
        ""
      ],
      "metadata": {
        "id": "IwU_PhuPdXje"
      },
      "id": "IwU_PhuPdXje",
      "execution_count": null,
      "outputs": []
    },
    {
      "cell_type": "code",
      "execution_count": null,
      "id": "6980282e-fa95-49bc-9de3-f10c67372864",
      "metadata": {
        "id": "6980282e-fa95-49bc-9de3-f10c67372864"
      },
      "outputs": [],
      "source": [
        "!pip install umap-learn"
      ]
    },
    {
      "cell_type": "code",
      "source": [
        "import umap\n",
        "import umap.umap_ as umap"
      ],
      "metadata": {
        "id": "77jwoql-bAFe"
      },
      "id": "77jwoql-bAFe",
      "execution_count": 57,
      "outputs": []
    },
    {
      "cell_type": "code",
      "source": [
        "reducer = umap.UMAP(\n",
        "    n_neighbors = 15,\n",
        "    n_components = 3\n",
        ")"
      ],
      "metadata": {
        "id": "gOVOPGnpbCwk"
      },
      "id": "gOVOPGnpbCwk",
      "execution_count": 60,
      "outputs": []
    },
    {
      "cell_type": "code",
      "source": [
        "embedding_mu = reducer.fit_transform(mu)\n",
        "embedding_mu.shape"
      ],
      "metadata": {
        "colab": {
          "base_uri": "https://localhost:8080/"
        },
        "id": "XpVToPmXbGFn",
        "outputId": "74f6b30b-1870-4904-8963-4525398f075c"
      },
      "id": "XpVToPmXbGFn",
      "execution_count": 61,
      "outputs": [
        {
          "output_type": "stream",
          "name": "stderr",
          "text": [
            "/usr/local/lib/python3.7/dist-packages/numba/np/ufunc/parallel.py:363: NumbaWarning: The TBB threading layer requires TBB version 2019.5 or later i.e., TBB_INTERFACE_VERSION >= 11005. Found TBB_INTERFACE_VERSION = 9107. The TBB threading layer is disabled.\n",
            "  warnings.warn(problem)\n"
          ]
        },
        {
          "output_type": "execute_result",
          "data": {
            "text/plain": [
              "(64, 3)"
            ]
          },
          "metadata": {},
          "execution_count": 61
        }
      ]
    },
    {
      "cell_type": "code",
      "source": [
        ""
      ],
      "metadata": {
        "id": "yvrT02dUb7b8"
      },
      "id": "yvrT02dUb7b8",
      "execution_count": null,
      "outputs": []
    },
    {
      "cell_type": "code",
      "source": [
        "reducer_logvar = umap.UMAP(\n",
        "    n_neighbors = 15,\n",
        "    n_components = 3\n",
        ")"
      ],
      "metadata": {
        "id": "NJedU15hbuqn"
      },
      "id": "NJedU15hbuqn",
      "execution_count": 62,
      "outputs": []
    },
    {
      "cell_type": "code",
      "source": [
        "embedding_logvar = reducer.fit_transform(log_var)\n",
        "embedding_logvar.shape"
      ],
      "metadata": {
        "colab": {
          "base_uri": "https://localhost:8080/"
        },
        "id": "SpXASLVrcD7z",
        "outputId": "fa0b06ec-2d9f-420a-dac3-a9ad30de7495"
      },
      "id": "SpXASLVrcD7z",
      "execution_count": 63,
      "outputs": [
        {
          "output_type": "execute_result",
          "data": {
            "text/plain": [
              "(64, 3)"
            ]
          },
          "metadata": {},
          "execution_count": 63
        }
      ]
    },
    {
      "cell_type": "code",
      "source": [
        ""
      ],
      "metadata": {
        "id": "GrcNvJz2cKVZ"
      },
      "id": "GrcNvJz2cKVZ",
      "execution_count": 63,
      "outputs": []
    },
    {
      "cell_type": "code",
      "source": [
        "import plotly\n",
        "import plotly.express as px"
      ],
      "metadata": {
        "id": "RH7EN3FNcL47"
      },
      "id": "RH7EN3FNcL47",
      "execution_count": 64,
      "outputs": []
    },
    {
      "cell_type": "code",
      "source": [
        ""
      ],
      "metadata": {
        "id": "L4pYyWFCcUiU"
      },
      "id": "L4pYyWFCcUiU",
      "execution_count": 64,
      "outputs": []
    },
    {
      "cell_type": "code",
      "source": [
        "# Visualize latent space for 'mean'-\n",
        "fig = px.scatter_3d(\n",
        "    x = embedding_mu[:, 0], y = embedding_mu[:, 1],\n",
        "    z = embedding_mu[:, 2],\n",
        "    # color = y_train\n",
        "    )\n",
        "fig.show()"
      ],
      "metadata": {
        "colab": {
          "base_uri": "https://localhost:8080/",
          "height": 542
        },
        "id": "8oJJWCuccVCx",
        "outputId": "508deda2-b444-4a64-cfa1-35a1c3063dba"
      },
      "id": "8oJJWCuccVCx",
      "execution_count": 65,
      "outputs": [
        {
          "output_type": "display_data",
          "data": {
            "text/html": [
              "<html>\n",
              "<head><meta charset=\"utf-8\" /></head>\n",
              "<body>\n",
              "    <div>\n",
              "            <script src=\"https://cdnjs.cloudflare.com/ajax/libs/mathjax/2.7.5/MathJax.js?config=TeX-AMS-MML_SVG\"></script><script type=\"text/javascript\">if (window.MathJax) {MathJax.Hub.Config({SVG: {font: \"STIX-Web\"}});}</script>\n",
              "                <script type=\"text/javascript\">window.PlotlyConfig = {MathJaxConfig: 'local'};</script>\n",
              "        <script src=\"https://cdn.plot.ly/plotly-latest.min.js\"></script>    \n",
              "            <div id=\"4a3411af-5fea-4eca-b580-4043fb28d18b\" class=\"plotly-graph-div\" style=\"height:525px; width:100%;\"></div>\n",
              "            <script type=\"text/javascript\">\n",
              "                \n",
              "                    window.PLOTLYENV=window.PLOTLYENV || {};\n",
              "                    \n",
              "                if (document.getElementById(\"4a3411af-5fea-4eca-b580-4043fb28d18b\")) {\n",
              "                    Plotly.newPlot(\n",
              "                        '4a3411af-5fea-4eca-b580-4043fb28d18b',\n",
              "                        [{\"hoverlabel\": {\"namelength\": 0}, \"hovertemplate\": \"x=%{x}<br>y=%{y}<br>z=%{z}\", \"legendgroup\": \"\", \"marker\": {\"color\": \"#636efa\", \"symbol\": \"circle\"}, \"mode\": \"markers\", \"name\": \"\", \"scene\": \"scene\", \"showlegend\": false, \"type\": \"scatter3d\", \"x\": [7.101240634918213, 5.286079406738281, 6.158707141876221, 4.394260883331299, 4.580284595489502, 3.459773302078247, 7.573916912078857, 8.044692993164062, 7.485689163208008, 4.166172504425049, 4.034724712371826, 6.9474029541015625, 3.383030891418457, 4.2583489418029785, 6.39273738861084, 6.517171859741211, 3.8534140586853027, 8.203267097473145, 5.699708461761475, 7.318627834320068, 5.5766682624816895, 5.988025665283203, 6.554963111877441, 6.879480838775635, 5.362546443939209, 5.222738265991211, 3.6362664699554443, 3.9206271171569824, 5.572714328765869, 5.071201801300049, 6.165884494781494, 7.694331645965576, 4.422191619873047, 7.6628618240356445, 3.7592380046844482, 5.5247416496276855, 5.234611511230469, 7.5342535972595215, 3.895033121109009, 8.175785064697266, 6.038735866546631, 6.607673168182373, 7.877103328704834, 4.499734878540039, 6.7706122398376465, 6.787829399108887, 6.120553970336914, 6.052484035491943, 5.778310775756836, 4.9041314125061035, 3.5623812675476074, 6.797000408172607, 5.425661563873291, 6.433204650878906, 3.4055354595184326, 7.923624515533447, 8.00473403930664, 6.343317985534668, 4.409716606140137, 3.7584495544433594, 3.7704756259918213, 4.130277633666992, 6.815914154052734, 7.698137283325195], \"y\": [2.096696138381958, 4.938027381896973, 0.8975844383239746, 3.0688371658325195, 2.6563518047332764, 3.067028045654297, 2.014039993286133, 1.8359404802322388, 1.7188390493392944, 4.015416145324707, 3.5550718307495117, 1.9576598405838013, 3.370220899581909, 4.359751224517822, 2.111102819442749, 1.5118621587753296, 3.0496201515197754, 2.101489543914795, 1.5757372379302979, 0.4778238534927368, 2.2632272243499756, 1.3358571529388428, 1.7939695119857788, 0.614419162273407, 1.7306816577911377, 5.097559452056885, 2.7605175971984863, 4.071009635925293, 4.829187393188477, 4.760731220245361, 2.1012465953826904, 0.5075389742851257, 4.471837043762207, 2.0443692207336426, 3.0715317726135254, 4.765745639801025, 2.1222541332244873, 0.7378005385398865, 3.692791223526001, 1.7436400651931763, 1.2997872829437256, 0.6412813663482666, 0.6748916506767273, 2.6084139347076416, 1.3517580032348633, 2.0032260417938232, 2.382162094116211, 1.2152236700057983, 1.6084414720535278, 2.2804198265075684, 3.4907798767089844, 0.8130297660827637, 1.9691118001937866, 1.8879196643829346, 2.992541551589966, 1.6966681480407715, 0.888826310634613, 1.161865472793579, 3.011012554168701, 3.4149856567382812, 2.919797658920288, 3.2476308345794678, 2.166583299636841, 1.0077875852584839], \"z\": [8.973810195922852, 6.833244800567627, 8.509071350097656, 7.1765313148498535, 6.927053928375244, 6.991696357727051, 8.869593620300293, 8.548933029174805, 9.104201316833496, 6.952652454376221, 7.824655055999756, 9.463253021240234, 7.438720703125, 6.942871570587158, 8.701265335083008, 7.82924222946167, 7.122328758239746, 8.22887897491455, 7.035346508026123, 8.050118446350098, 8.25986099243164, 8.757622718811035, 9.335412979125977, 7.847371578216553, 7.145151615142822, 6.864201545715332, 7.080900192260742, 6.775750160217285, 6.666442394256592, 6.604022026062012, 8.389878273010254, 8.007062911987305, 7.046411991119385, 9.197379112243652, 7.675825119018555, 6.896585464477539, 6.854340076446533, 8.353487014770508, 6.9022040367126465, 8.507174491882324, 7.231224536895752, 7.974303722381592, 7.947514533996582, 7.431443691253662, 9.18360424041748, 9.203097343444824, 8.693610191345215, 8.314971923828125, 8.11994457244873, 6.83818244934082, 7.066980361938477, 7.661963939666748, 6.887251853942871, 7.955770492553711, 7.364398002624512, 8.345626831054688, 7.865829944610596, 8.88515853881836, 6.534187316894531, 7.445088863372803, 7.900496959686279, 6.5177764892578125, 8.502668380737305, 8.497150421142578]}],\n",
              "                        {\"legend\": {\"tracegroupgap\": 0}, \"margin\": {\"t\": 60}, \"scene\": {\"domain\": {\"x\": [0.0, 1.0], \"y\": [0.0, 1.0]}, \"xaxis\": {\"title\": {\"text\": \"x\"}}, \"yaxis\": {\"title\": {\"text\": \"y\"}}, \"zaxis\": {\"title\": {\"text\": \"z\"}}}, \"template\": {\"data\": {\"bar\": [{\"error_x\": {\"color\": \"#2a3f5f\"}, \"error_y\": {\"color\": \"#2a3f5f\"}, \"marker\": {\"line\": {\"color\": \"#E5ECF6\", \"width\": 0.5}}, \"type\": \"bar\"}], \"barpolar\": [{\"marker\": {\"line\": {\"color\": \"#E5ECF6\", \"width\": 0.5}}, \"type\": \"barpolar\"}], \"carpet\": [{\"aaxis\": {\"endlinecolor\": \"#2a3f5f\", \"gridcolor\": \"white\", \"linecolor\": \"white\", \"minorgridcolor\": \"white\", \"startlinecolor\": \"#2a3f5f\"}, \"baxis\": {\"endlinecolor\": \"#2a3f5f\", \"gridcolor\": \"white\", \"linecolor\": \"white\", \"minorgridcolor\": \"white\", \"startlinecolor\": \"#2a3f5f\"}, \"type\": \"carpet\"}], \"choropleth\": [{\"colorbar\": {\"outlinewidth\": 0, \"ticks\": \"\"}, \"type\": \"choropleth\"}], \"contour\": [{\"colorbar\": {\"outlinewidth\": 0, \"ticks\": \"\"}, \"colorscale\": [[0.0, \"#0d0887\"], [0.1111111111111111, \"#46039f\"], [0.2222222222222222, \"#7201a8\"], [0.3333333333333333, \"#9c179e\"], [0.4444444444444444, \"#bd3786\"], [0.5555555555555556, \"#d8576b\"], [0.6666666666666666, \"#ed7953\"], [0.7777777777777778, \"#fb9f3a\"], [0.8888888888888888, \"#fdca26\"], [1.0, \"#f0f921\"]], \"type\": \"contour\"}], \"contourcarpet\": [{\"colorbar\": {\"outlinewidth\": 0, \"ticks\": \"\"}, \"type\": \"contourcarpet\"}], \"heatmap\": [{\"colorbar\": {\"outlinewidth\": 0, \"ticks\": \"\"}, \"colorscale\": [[0.0, \"#0d0887\"], [0.1111111111111111, \"#46039f\"], [0.2222222222222222, \"#7201a8\"], [0.3333333333333333, \"#9c179e\"], [0.4444444444444444, \"#bd3786\"], [0.5555555555555556, \"#d8576b\"], [0.6666666666666666, \"#ed7953\"], [0.7777777777777778, \"#fb9f3a\"], [0.8888888888888888, \"#fdca26\"], [1.0, \"#f0f921\"]], \"type\": \"heatmap\"}], \"heatmapgl\": [{\"colorbar\": {\"outlinewidth\": 0, \"ticks\": \"\"}, \"colorscale\": [[0.0, \"#0d0887\"], [0.1111111111111111, \"#46039f\"], [0.2222222222222222, \"#7201a8\"], [0.3333333333333333, \"#9c179e\"], [0.4444444444444444, \"#bd3786\"], [0.5555555555555556, \"#d8576b\"], [0.6666666666666666, \"#ed7953\"], [0.7777777777777778, \"#fb9f3a\"], [0.8888888888888888, \"#fdca26\"], [1.0, \"#f0f921\"]], \"type\": \"heatmapgl\"}], \"histogram\": [{\"marker\": {\"colorbar\": {\"outlinewidth\": 0, \"ticks\": \"\"}}, \"type\": \"histogram\"}], \"histogram2d\": [{\"colorbar\": {\"outlinewidth\": 0, \"ticks\": \"\"}, \"colorscale\": [[0.0, \"#0d0887\"], [0.1111111111111111, \"#46039f\"], [0.2222222222222222, \"#7201a8\"], [0.3333333333333333, \"#9c179e\"], [0.4444444444444444, \"#bd3786\"], [0.5555555555555556, \"#d8576b\"], [0.6666666666666666, \"#ed7953\"], [0.7777777777777778, \"#fb9f3a\"], [0.8888888888888888, \"#fdca26\"], [1.0, \"#f0f921\"]], \"type\": \"histogram2d\"}], \"histogram2dcontour\": [{\"colorbar\": {\"outlinewidth\": 0, \"ticks\": \"\"}, \"colorscale\": [[0.0, \"#0d0887\"], [0.1111111111111111, \"#46039f\"], [0.2222222222222222, \"#7201a8\"], [0.3333333333333333, \"#9c179e\"], [0.4444444444444444, \"#bd3786\"], [0.5555555555555556, \"#d8576b\"], [0.6666666666666666, \"#ed7953\"], [0.7777777777777778, \"#fb9f3a\"], [0.8888888888888888, \"#fdca26\"], [1.0, \"#f0f921\"]], \"type\": \"histogram2dcontour\"}], \"mesh3d\": [{\"colorbar\": {\"outlinewidth\": 0, \"ticks\": \"\"}, \"type\": \"mesh3d\"}], \"parcoords\": [{\"line\": {\"colorbar\": {\"outlinewidth\": 0, \"ticks\": \"\"}}, \"type\": \"parcoords\"}], \"pie\": [{\"automargin\": true, \"type\": \"pie\"}], \"scatter\": [{\"marker\": {\"colorbar\": {\"outlinewidth\": 0, \"ticks\": \"\"}}, \"type\": \"scatter\"}], \"scatter3d\": [{\"line\": {\"colorbar\": {\"outlinewidth\": 0, \"ticks\": \"\"}}, \"marker\": {\"colorbar\": {\"outlinewidth\": 0, \"ticks\": \"\"}}, \"type\": \"scatter3d\"}], \"scattercarpet\": [{\"marker\": {\"colorbar\": {\"outlinewidth\": 0, \"ticks\": \"\"}}, \"type\": \"scattercarpet\"}], \"scattergeo\": [{\"marker\": {\"colorbar\": {\"outlinewidth\": 0, \"ticks\": \"\"}}, \"type\": \"scattergeo\"}], \"scattergl\": [{\"marker\": {\"colorbar\": {\"outlinewidth\": 0, \"ticks\": \"\"}}, \"type\": \"scattergl\"}], \"scattermapbox\": [{\"marker\": {\"colorbar\": {\"outlinewidth\": 0, \"ticks\": \"\"}}, \"type\": \"scattermapbox\"}], \"scatterpolar\": [{\"marker\": {\"colorbar\": {\"outlinewidth\": 0, \"ticks\": \"\"}}, \"type\": \"scatterpolar\"}], \"scatterpolargl\": [{\"marker\": {\"colorbar\": {\"outlinewidth\": 0, \"ticks\": \"\"}}, \"type\": \"scatterpolargl\"}], \"scatterternary\": [{\"marker\": {\"colorbar\": {\"outlinewidth\": 0, \"ticks\": \"\"}}, \"type\": \"scatterternary\"}], \"surface\": [{\"colorbar\": {\"outlinewidth\": 0, \"ticks\": \"\"}, \"colorscale\": [[0.0, \"#0d0887\"], [0.1111111111111111, \"#46039f\"], [0.2222222222222222, \"#7201a8\"], [0.3333333333333333, \"#9c179e\"], [0.4444444444444444, \"#bd3786\"], [0.5555555555555556, \"#d8576b\"], [0.6666666666666666, \"#ed7953\"], [0.7777777777777778, \"#fb9f3a\"], [0.8888888888888888, \"#fdca26\"], [1.0, \"#f0f921\"]], \"type\": \"surface\"}], \"table\": [{\"cells\": {\"fill\": {\"color\": \"#EBF0F8\"}, \"line\": {\"color\": \"white\"}}, \"header\": {\"fill\": {\"color\": \"#C8D4E3\"}, \"line\": {\"color\": \"white\"}}, \"type\": \"table\"}]}, \"layout\": {\"annotationdefaults\": {\"arrowcolor\": \"#2a3f5f\", \"arrowhead\": 0, \"arrowwidth\": 1}, \"coloraxis\": {\"colorbar\": {\"outlinewidth\": 0, \"ticks\": \"\"}}, \"colorscale\": {\"diverging\": [[0, \"#8e0152\"], [0.1, \"#c51b7d\"], [0.2, \"#de77ae\"], [0.3, \"#f1b6da\"], [0.4, \"#fde0ef\"], [0.5, \"#f7f7f7\"], [0.6, \"#e6f5d0\"], [0.7, \"#b8e186\"], [0.8, \"#7fbc41\"], [0.9, \"#4d9221\"], [1, \"#276419\"]], \"sequential\": [[0.0, \"#0d0887\"], [0.1111111111111111, \"#46039f\"], [0.2222222222222222, \"#7201a8\"], [0.3333333333333333, \"#9c179e\"], [0.4444444444444444, \"#bd3786\"], [0.5555555555555556, \"#d8576b\"], [0.6666666666666666, \"#ed7953\"], [0.7777777777777778, \"#fb9f3a\"], [0.8888888888888888, \"#fdca26\"], [1.0, \"#f0f921\"]], \"sequentialminus\": [[0.0, \"#0d0887\"], [0.1111111111111111, \"#46039f\"], [0.2222222222222222, \"#7201a8\"], [0.3333333333333333, \"#9c179e\"], [0.4444444444444444, \"#bd3786\"], [0.5555555555555556, \"#d8576b\"], [0.6666666666666666, \"#ed7953\"], [0.7777777777777778, \"#fb9f3a\"], [0.8888888888888888, \"#fdca26\"], [1.0, \"#f0f921\"]]}, \"colorway\": [\"#636efa\", \"#EF553B\", \"#00cc96\", \"#ab63fa\", \"#FFA15A\", \"#19d3f3\", \"#FF6692\", \"#B6E880\", \"#FF97FF\", \"#FECB52\"], \"font\": {\"color\": \"#2a3f5f\"}, \"geo\": {\"bgcolor\": \"white\", \"lakecolor\": \"white\", \"landcolor\": \"#E5ECF6\", \"showlakes\": true, \"showland\": true, \"subunitcolor\": \"white\"}, \"hoverlabel\": {\"align\": \"left\"}, \"hovermode\": \"closest\", \"mapbox\": {\"style\": \"light\"}, \"paper_bgcolor\": \"white\", \"plot_bgcolor\": \"#E5ECF6\", \"polar\": {\"angularaxis\": {\"gridcolor\": \"white\", \"linecolor\": \"white\", \"ticks\": \"\"}, \"bgcolor\": \"#E5ECF6\", \"radialaxis\": {\"gridcolor\": \"white\", \"linecolor\": \"white\", \"ticks\": \"\"}}, \"scene\": {\"xaxis\": {\"backgroundcolor\": \"#E5ECF6\", \"gridcolor\": \"white\", \"gridwidth\": 2, \"linecolor\": \"white\", \"showbackground\": true, \"ticks\": \"\", \"zerolinecolor\": \"white\"}, \"yaxis\": {\"backgroundcolor\": \"#E5ECF6\", \"gridcolor\": \"white\", \"gridwidth\": 2, \"linecolor\": \"white\", \"showbackground\": true, \"ticks\": \"\", \"zerolinecolor\": \"white\"}, \"zaxis\": {\"backgroundcolor\": \"#E5ECF6\", \"gridcolor\": \"white\", \"gridwidth\": 2, \"linecolor\": \"white\", \"showbackground\": true, \"ticks\": \"\", \"zerolinecolor\": \"white\"}}, \"shapedefaults\": {\"line\": {\"color\": \"#2a3f5f\"}}, \"ternary\": {\"aaxis\": {\"gridcolor\": \"white\", \"linecolor\": \"white\", \"ticks\": \"\"}, \"baxis\": {\"gridcolor\": \"white\", \"linecolor\": \"white\", \"ticks\": \"\"}, \"bgcolor\": \"#E5ECF6\", \"caxis\": {\"gridcolor\": \"white\", \"linecolor\": \"white\", \"ticks\": \"\"}}, \"title\": {\"x\": 0.05}, \"xaxis\": {\"automargin\": true, \"gridcolor\": \"white\", \"linecolor\": \"white\", \"ticks\": \"\", \"title\": {\"standoff\": 15}, \"zerolinecolor\": \"white\", \"zerolinewidth\": 2}, \"yaxis\": {\"automargin\": true, \"gridcolor\": \"white\", \"linecolor\": \"white\", \"ticks\": \"\", \"title\": {\"standoff\": 15}, \"zerolinecolor\": \"white\", \"zerolinewidth\": 2}}}},\n",
              "                        {\"responsive\": true}\n",
              "                    ).then(function(){\n",
              "                            \n",
              "var gd = document.getElementById('4a3411af-5fea-4eca-b580-4043fb28d18b');\n",
              "var x = new MutationObserver(function (mutations, observer) {{\n",
              "        var display = window.getComputedStyle(gd).display;\n",
              "        if (!display || display === 'none') {{\n",
              "            console.log([gd, 'removed!']);\n",
              "            Plotly.purge(gd);\n",
              "            observer.disconnect();\n",
              "        }}\n",
              "}});\n",
              "\n",
              "// Listen for the removal of the full notebook cells\n",
              "var notebookContainer = gd.closest('#notebook-container');\n",
              "if (notebookContainer) {{\n",
              "    x.observe(notebookContainer, {childList: true});\n",
              "}}\n",
              "\n",
              "// Listen for the clearing of the current output cell\n",
              "var outputEl = gd.closest('.output');\n",
              "if (outputEl) {{\n",
              "    x.observe(outputEl, {childList: true});\n",
              "}}\n",
              "\n",
              "                        })\n",
              "                };\n",
              "                \n",
              "            </script>\n",
              "        </div>\n",
              "</body>\n",
              "</html>"
            ]
          },
          "metadata": {}
        }
      ]
    },
    {
      "cell_type": "code",
      "source": [
        "# Visualize latent space for 'log variance'-\n",
        "fig = px.scatter_3d(\n",
        "    x = embedding_logvar[:, 0], y = embedding_logvar[:, 1],\n",
        "    z = embedding_logvar[:, 2],\n",
        "    # color = y_train\n",
        "    )\n",
        "fig.show()"
      ],
      "metadata": {
        "colab": {
          "base_uri": "https://localhost:8080/",
          "height": 542
        },
        "id": "2zMDnSvWcjqx",
        "outputId": "9f85ff8f-79e7-465e-bb5b-09f33a396bd7"
      },
      "id": "2zMDnSvWcjqx",
      "execution_count": 66,
      "outputs": [
        {
          "output_type": "display_data",
          "data": {
            "text/html": [
              "<html>\n",
              "<head><meta charset=\"utf-8\" /></head>\n",
              "<body>\n",
              "    <div>\n",
              "            <script src=\"https://cdnjs.cloudflare.com/ajax/libs/mathjax/2.7.5/MathJax.js?config=TeX-AMS-MML_SVG\"></script><script type=\"text/javascript\">if (window.MathJax) {MathJax.Hub.Config({SVG: {font: \"STIX-Web\"}});}</script>\n",
              "                <script type=\"text/javascript\">window.PlotlyConfig = {MathJaxConfig: 'local'};</script>\n",
              "        <script src=\"https://cdn.plot.ly/plotly-latest.min.js\"></script>    \n",
              "            <div id=\"c8434f69-e05e-46d0-bd63-a1ea2a587777\" class=\"plotly-graph-div\" style=\"height:525px; width:100%;\"></div>\n",
              "            <script type=\"text/javascript\">\n",
              "                \n",
              "                    window.PLOTLYENV=window.PLOTLYENV || {};\n",
              "                    \n",
              "                if (document.getElementById(\"c8434f69-e05e-46d0-bd63-a1ea2a587777\")) {\n",
              "                    Plotly.newPlot(\n",
              "                        'c8434f69-e05e-46d0-bd63-a1ea2a587777',\n",
              "                        [{\"hoverlabel\": {\"namelength\": 0}, \"hovertemplate\": \"x=%{x}<br>y=%{y}<br>z=%{z}\", \"legendgroup\": \"\", \"marker\": {\"color\": \"#636efa\", \"symbol\": \"circle\"}, \"mode\": \"markers\", \"name\": \"\", \"scene\": \"scene\", \"showlegend\": false, \"type\": \"scatter3d\", \"x\": [9.475958824157715, 10.345239639282227, 8.094504356384277, 10.454671859741211, 10.415304183959961, 9.316421508789062, 9.755448341369629, 10.10080623626709, 9.160654067993164, 10.472734451293945, 9.783297538757324, 8.933466911315918, 9.593402862548828, 10.002744674682617, 9.80505084991455, 10.216695785522461, 9.378010749816895, 10.127272605895996, 9.713018417358398, 9.10770320892334, 9.344728469848633, 8.143318176269531, 8.534989356994629, 9.83446979522705, 9.098493576049805, 9.334136962890625, 8.18506145477295, 9.982629776000977, 10.467668533325195, 10.464837074279785, 10.117136001586914, 9.984819412231445, 9.170719146728516, 9.421597480773926, 8.12765121459961, 10.484146118164062, 10.509695053100586, 8.686281204223633, 10.622641563415527, 10.349468231201172, 9.638468742370605, 8.630475044250488, 10.280172348022461, 9.809967041015625, 8.147254943847656, 8.771925926208496, 9.85532283782959, 8.915278434753418, 9.42827320098877, 9.700764656066895, 9.637924194335938, 10.637364387512207, 10.833494186401367, 10.397814750671387, 8.357528686523438, 10.444963455200195, 10.172042846679688, 8.332158088684082, 10.515222549438477, 9.0848388671875, 8.099742889404297, 8.443767547607422, 10.722848892211914, 8.588547706604004], \"y\": [6.582375526428223, 6.125338554382324, 9.796631813049316, 6.823853015899658, 7.1212921142578125, 9.71937084197998, 6.20684289932251, 5.9547319412231445, 7.198312282562256, 6.784820079803467, 7.246006965637207, 8.734400749206543, 8.750389099121094, 7.524242877960205, 6.587036609649658, 4.398987770080566, 9.37820816040039, 4.429294109344482, 8.708236694335938, 6.93443489074707, 8.5664701461792, 9.939645767211914, 9.119964599609375, 5.904738903045654, 9.738687515258789, 6.81541633605957, 10.289793014526367, 7.98545503616333, 5.6433186531066895, 5.885819911956787, 6.466637134552002, 5.549300193786621, 9.308974266052246, 7.323286533355713, 10.438494682312012, 4.493738174438477, 4.651191711425781, 8.328192710876465, 6.938005447387695, 5.448387145996094, 6.6227593421936035, 8.684042930603027, 5.352816104888916, 7.664687633514404, 9.38424301147461, 8.761957168579102, 6.950643539428711, 8.622553825378418, 8.430846214294434, 9.132110595703125, 8.7953519821167, 5.221540927886963, 5.171989440917969, 4.250499248504639, 10.515880584716797, 4.745285987854004, 4.353292942047119, 9.613789558410645, 7.274331092834473, 9.10750675201416, 10.145915985107422, 10.370383262634277, 5.380776405334473, 8.582365989685059], \"z\": [7.44975471496582, 9.242730140686035, 4.4063873291015625, 8.306957244873047, 7.955013751983643, 4.035532474517822, 7.843073844909668, 9.377761840820312, 6.607182502746582, 8.036415100097656, 7.000952243804932, 4.583951950073242, 4.684773921966553, 6.7954936027526855, 8.177558898925781, 10.511764526367188, 4.283483028411865, 9.81387710571289, 5.048003673553467, 6.874146461486816, 4.719141960144043, 4.247677803039551, 4.450558662414551, 8.732596397399902, 4.202343940734863, 7.068921089172363, 3.8112082481384277, 6.09019136428833, 9.769381523132324, 9.61356258392334, 8.448904991149902, 9.07164192199707, 3.802217960357666, 6.622636318206787, 4.075816631317139, 9.976237297058105, 10.466681480407715, 5.472249984741211, 7.9029951095581055, 10.064606666564941, 7.839732646942139, 5.303022861480713, 9.609664916992188, 6.392977714538574, 4.326334476470947, 4.9027934074401855, 7.548299789428711, 5.110452175140381, 5.076441287994385, 4.719424724578857, 4.428905963897705, 9.954285621643066, 10.395319938659668, 10.362716674804688, 3.8021068572998047, 10.007867813110352, 10.185627937316895, 4.497744083404541, 7.8013153076171875, 4.1602783203125, 3.805368661880493, 3.8966665267944336, 10.24822998046875, 5.369290351867676]}],\n",
              "                        {\"legend\": {\"tracegroupgap\": 0}, \"margin\": {\"t\": 60}, \"scene\": {\"domain\": {\"x\": [0.0, 1.0], \"y\": [0.0, 1.0]}, \"xaxis\": {\"title\": {\"text\": \"x\"}}, \"yaxis\": {\"title\": {\"text\": \"y\"}}, \"zaxis\": {\"title\": {\"text\": \"z\"}}}, \"template\": {\"data\": {\"bar\": [{\"error_x\": {\"color\": \"#2a3f5f\"}, \"error_y\": {\"color\": \"#2a3f5f\"}, \"marker\": {\"line\": {\"color\": \"#E5ECF6\", \"width\": 0.5}}, \"type\": \"bar\"}], \"barpolar\": [{\"marker\": {\"line\": {\"color\": \"#E5ECF6\", \"width\": 0.5}}, \"type\": \"barpolar\"}], \"carpet\": [{\"aaxis\": {\"endlinecolor\": \"#2a3f5f\", \"gridcolor\": \"white\", \"linecolor\": \"white\", \"minorgridcolor\": \"white\", \"startlinecolor\": \"#2a3f5f\"}, \"baxis\": {\"endlinecolor\": \"#2a3f5f\", \"gridcolor\": \"white\", \"linecolor\": \"white\", \"minorgridcolor\": \"white\", \"startlinecolor\": \"#2a3f5f\"}, \"type\": \"carpet\"}], \"choropleth\": [{\"colorbar\": {\"outlinewidth\": 0, \"ticks\": \"\"}, \"type\": \"choropleth\"}], \"contour\": [{\"colorbar\": {\"outlinewidth\": 0, \"ticks\": \"\"}, \"colorscale\": [[0.0, \"#0d0887\"], [0.1111111111111111, \"#46039f\"], [0.2222222222222222, \"#7201a8\"], [0.3333333333333333, \"#9c179e\"], [0.4444444444444444, \"#bd3786\"], [0.5555555555555556, \"#d8576b\"], [0.6666666666666666, \"#ed7953\"], [0.7777777777777778, \"#fb9f3a\"], [0.8888888888888888, \"#fdca26\"], [1.0, \"#f0f921\"]], \"type\": \"contour\"}], \"contourcarpet\": [{\"colorbar\": {\"outlinewidth\": 0, \"ticks\": \"\"}, \"type\": \"contourcarpet\"}], \"heatmap\": [{\"colorbar\": {\"outlinewidth\": 0, \"ticks\": \"\"}, \"colorscale\": [[0.0, \"#0d0887\"], [0.1111111111111111, \"#46039f\"], [0.2222222222222222, \"#7201a8\"], [0.3333333333333333, \"#9c179e\"], [0.4444444444444444, \"#bd3786\"], [0.5555555555555556, \"#d8576b\"], [0.6666666666666666, \"#ed7953\"], [0.7777777777777778, \"#fb9f3a\"], [0.8888888888888888, \"#fdca26\"], [1.0, \"#f0f921\"]], \"type\": \"heatmap\"}], \"heatmapgl\": [{\"colorbar\": {\"outlinewidth\": 0, \"ticks\": \"\"}, \"colorscale\": [[0.0, \"#0d0887\"], [0.1111111111111111, \"#46039f\"], [0.2222222222222222, \"#7201a8\"], [0.3333333333333333, \"#9c179e\"], [0.4444444444444444, \"#bd3786\"], [0.5555555555555556, \"#d8576b\"], [0.6666666666666666, \"#ed7953\"], [0.7777777777777778, \"#fb9f3a\"], [0.8888888888888888, \"#fdca26\"], [1.0, \"#f0f921\"]], \"type\": \"heatmapgl\"}], \"histogram\": [{\"marker\": {\"colorbar\": {\"outlinewidth\": 0, \"ticks\": \"\"}}, \"type\": \"histogram\"}], \"histogram2d\": [{\"colorbar\": {\"outlinewidth\": 0, \"ticks\": \"\"}, \"colorscale\": [[0.0, \"#0d0887\"], [0.1111111111111111, \"#46039f\"], [0.2222222222222222, \"#7201a8\"], [0.3333333333333333, \"#9c179e\"], [0.4444444444444444, \"#bd3786\"], [0.5555555555555556, \"#d8576b\"], [0.6666666666666666, \"#ed7953\"], [0.7777777777777778, \"#fb9f3a\"], [0.8888888888888888, \"#fdca26\"], [1.0, \"#f0f921\"]], \"type\": \"histogram2d\"}], \"histogram2dcontour\": [{\"colorbar\": {\"outlinewidth\": 0, \"ticks\": \"\"}, \"colorscale\": [[0.0, \"#0d0887\"], [0.1111111111111111, \"#46039f\"], [0.2222222222222222, \"#7201a8\"], [0.3333333333333333, \"#9c179e\"], [0.4444444444444444, \"#bd3786\"], [0.5555555555555556, \"#d8576b\"], [0.6666666666666666, \"#ed7953\"], [0.7777777777777778, \"#fb9f3a\"], [0.8888888888888888, \"#fdca26\"], [1.0, \"#f0f921\"]], \"type\": \"histogram2dcontour\"}], \"mesh3d\": [{\"colorbar\": {\"outlinewidth\": 0, \"ticks\": \"\"}, \"type\": \"mesh3d\"}], \"parcoords\": [{\"line\": {\"colorbar\": {\"outlinewidth\": 0, \"ticks\": \"\"}}, \"type\": \"parcoords\"}], \"pie\": [{\"automargin\": true, \"type\": \"pie\"}], \"scatter\": [{\"marker\": {\"colorbar\": {\"outlinewidth\": 0, \"ticks\": \"\"}}, \"type\": \"scatter\"}], \"scatter3d\": [{\"line\": {\"colorbar\": {\"outlinewidth\": 0, \"ticks\": \"\"}}, \"marker\": {\"colorbar\": {\"outlinewidth\": 0, \"ticks\": \"\"}}, \"type\": \"scatter3d\"}], \"scattercarpet\": [{\"marker\": {\"colorbar\": {\"outlinewidth\": 0, \"ticks\": \"\"}}, \"type\": \"scattercarpet\"}], \"scattergeo\": [{\"marker\": {\"colorbar\": {\"outlinewidth\": 0, \"ticks\": \"\"}}, \"type\": \"scattergeo\"}], \"scattergl\": [{\"marker\": {\"colorbar\": {\"outlinewidth\": 0, \"ticks\": \"\"}}, \"type\": \"scattergl\"}], \"scattermapbox\": [{\"marker\": {\"colorbar\": {\"outlinewidth\": 0, \"ticks\": \"\"}}, \"type\": \"scattermapbox\"}], \"scatterpolar\": [{\"marker\": {\"colorbar\": {\"outlinewidth\": 0, \"ticks\": \"\"}}, \"type\": \"scatterpolar\"}], \"scatterpolargl\": [{\"marker\": {\"colorbar\": {\"outlinewidth\": 0, \"ticks\": \"\"}}, \"type\": \"scatterpolargl\"}], \"scatterternary\": [{\"marker\": {\"colorbar\": {\"outlinewidth\": 0, \"ticks\": \"\"}}, \"type\": \"scatterternary\"}], \"surface\": [{\"colorbar\": {\"outlinewidth\": 0, \"ticks\": \"\"}, \"colorscale\": [[0.0, \"#0d0887\"], [0.1111111111111111, \"#46039f\"], [0.2222222222222222, \"#7201a8\"], [0.3333333333333333, \"#9c179e\"], [0.4444444444444444, \"#bd3786\"], [0.5555555555555556, \"#d8576b\"], [0.6666666666666666, \"#ed7953\"], [0.7777777777777778, \"#fb9f3a\"], [0.8888888888888888, \"#fdca26\"], [1.0, \"#f0f921\"]], \"type\": \"surface\"}], \"table\": [{\"cells\": {\"fill\": {\"color\": \"#EBF0F8\"}, \"line\": {\"color\": \"white\"}}, \"header\": {\"fill\": {\"color\": \"#C8D4E3\"}, \"line\": {\"color\": \"white\"}}, \"type\": \"table\"}]}, \"layout\": {\"annotationdefaults\": {\"arrowcolor\": \"#2a3f5f\", \"arrowhead\": 0, \"arrowwidth\": 1}, \"coloraxis\": {\"colorbar\": {\"outlinewidth\": 0, \"ticks\": \"\"}}, \"colorscale\": {\"diverging\": [[0, \"#8e0152\"], [0.1, \"#c51b7d\"], [0.2, \"#de77ae\"], [0.3, \"#f1b6da\"], [0.4, \"#fde0ef\"], [0.5, \"#f7f7f7\"], [0.6, \"#e6f5d0\"], [0.7, \"#b8e186\"], [0.8, \"#7fbc41\"], [0.9, \"#4d9221\"], [1, \"#276419\"]], \"sequential\": [[0.0, \"#0d0887\"], [0.1111111111111111, \"#46039f\"], [0.2222222222222222, \"#7201a8\"], [0.3333333333333333, \"#9c179e\"], [0.4444444444444444, \"#bd3786\"], [0.5555555555555556, \"#d8576b\"], [0.6666666666666666, \"#ed7953\"], [0.7777777777777778, \"#fb9f3a\"], [0.8888888888888888, \"#fdca26\"], [1.0, \"#f0f921\"]], \"sequentialminus\": [[0.0, \"#0d0887\"], [0.1111111111111111, \"#46039f\"], [0.2222222222222222, \"#7201a8\"], [0.3333333333333333, \"#9c179e\"], [0.4444444444444444, \"#bd3786\"], [0.5555555555555556, \"#d8576b\"], [0.6666666666666666, \"#ed7953\"], [0.7777777777777778, \"#fb9f3a\"], [0.8888888888888888, \"#fdca26\"], [1.0, \"#f0f921\"]]}, \"colorway\": [\"#636efa\", \"#EF553B\", \"#00cc96\", \"#ab63fa\", \"#FFA15A\", \"#19d3f3\", \"#FF6692\", \"#B6E880\", \"#FF97FF\", \"#FECB52\"], \"font\": {\"color\": \"#2a3f5f\"}, \"geo\": {\"bgcolor\": \"white\", \"lakecolor\": \"white\", \"landcolor\": \"#E5ECF6\", \"showlakes\": true, \"showland\": true, \"subunitcolor\": \"white\"}, \"hoverlabel\": {\"align\": \"left\"}, \"hovermode\": \"closest\", \"mapbox\": {\"style\": \"light\"}, \"paper_bgcolor\": \"white\", \"plot_bgcolor\": \"#E5ECF6\", \"polar\": {\"angularaxis\": {\"gridcolor\": \"white\", \"linecolor\": \"white\", \"ticks\": \"\"}, \"bgcolor\": \"#E5ECF6\", \"radialaxis\": {\"gridcolor\": \"white\", \"linecolor\": \"white\", \"ticks\": \"\"}}, \"scene\": {\"xaxis\": {\"backgroundcolor\": \"#E5ECF6\", \"gridcolor\": \"white\", \"gridwidth\": 2, \"linecolor\": \"white\", \"showbackground\": true, \"ticks\": \"\", \"zerolinecolor\": \"white\"}, \"yaxis\": {\"backgroundcolor\": \"#E5ECF6\", \"gridcolor\": \"white\", \"gridwidth\": 2, \"linecolor\": \"white\", \"showbackground\": true, \"ticks\": \"\", \"zerolinecolor\": \"white\"}, \"zaxis\": {\"backgroundcolor\": \"#E5ECF6\", \"gridcolor\": \"white\", \"gridwidth\": 2, \"linecolor\": \"white\", \"showbackground\": true, \"ticks\": \"\", \"zerolinecolor\": \"white\"}}, \"shapedefaults\": {\"line\": {\"color\": \"#2a3f5f\"}}, \"ternary\": {\"aaxis\": {\"gridcolor\": \"white\", \"linecolor\": \"white\", \"ticks\": \"\"}, \"baxis\": {\"gridcolor\": \"white\", \"linecolor\": \"white\", \"ticks\": \"\"}, \"bgcolor\": \"#E5ECF6\", \"caxis\": {\"gridcolor\": \"white\", \"linecolor\": \"white\", \"ticks\": \"\"}}, \"title\": {\"x\": 0.05}, \"xaxis\": {\"automargin\": true, \"gridcolor\": \"white\", \"linecolor\": \"white\", \"ticks\": \"\", \"title\": {\"standoff\": 15}, \"zerolinecolor\": \"white\", \"zerolinewidth\": 2}, \"yaxis\": {\"automargin\": true, \"gridcolor\": \"white\", \"linecolor\": \"white\", \"ticks\": \"\", \"title\": {\"standoff\": 15}, \"zerolinecolor\": \"white\", \"zerolinewidth\": 2}}}},\n",
              "                        {\"responsive\": true}\n",
              "                    ).then(function(){\n",
              "                            \n",
              "var gd = document.getElementById('c8434f69-e05e-46d0-bd63-a1ea2a587777');\n",
              "var x = new MutationObserver(function (mutations, observer) {{\n",
              "        var display = window.getComputedStyle(gd).display;\n",
              "        if (!display || display === 'none') {{\n",
              "            console.log([gd, 'removed!']);\n",
              "            Plotly.purge(gd);\n",
              "            observer.disconnect();\n",
              "        }}\n",
              "}});\n",
              "\n",
              "// Listen for the removal of the full notebook cells\n",
              "var notebookContainer = gd.closest('#notebook-container');\n",
              "if (notebookContainer) {{\n",
              "    x.observe(notebookContainer, {childList: true});\n",
              "}}\n",
              "\n",
              "// Listen for the clearing of the current output cell\n",
              "var outputEl = gd.closest('.output');\n",
              "if (outputEl) {{\n",
              "    x.observe(outputEl, {childList: true});\n",
              "}}\n",
              "\n",
              "                        })\n",
              "                };\n",
              "                \n",
              "            </script>\n",
              "        </div>\n",
              "</body>\n",
              "</html>"
            ]
          },
          "metadata": {}
        }
      ]
    },
    {
      "cell_type": "code",
      "source": [
        ""
      ],
      "metadata": {
        "id": "f9OVvGc2cvEt"
      },
      "id": "f9OVvGc2cvEt",
      "execution_count": null,
      "outputs": []
    },
    {
      "cell_type": "code",
      "source": [
        ""
      ],
      "metadata": {
        "id": "e_-rx-Okcp5M"
      },
      "id": "e_-rx-Okcp5M",
      "execution_count": null,
      "outputs": []
    }
  ],
  "metadata": {
    "accelerator": "GPU",
    "colab": {
      "collapsed_sections": [],
      "name": "VAE-Dense_PyTorch_&_MNIST.ipynb",
      "provenance": []
    },
    "kernelspec": {
      "display_name": "Python 3 (ipykernel)",
      "language": "python",
      "name": "python3"
    },
    "language_info": {
      "codemirror_mode": {
        "name": "ipython",
        "version": 3
      },
      "file_extension": ".py",
      "mimetype": "text/x-python",
      "name": "python",
      "nbconvert_exporter": "python",
      "pygments_lexer": "ipython3",
      "version": "3.9.7"
    }
  },
  "nbformat": 4,
  "nbformat_minor": 5
}