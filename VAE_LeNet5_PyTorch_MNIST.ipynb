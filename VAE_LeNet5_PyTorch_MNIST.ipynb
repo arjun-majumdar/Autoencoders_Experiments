{
 "cells": [
  {
   "cell_type": "markdown",
   "id": "8af2c1b5-edfa-484f-b4af-da608dbdc608",
   "metadata": {
    "id": "8af2c1b5-edfa-484f-b4af-da608dbdc608"
   },
   "source": [
    "# Variational Autoencoder: _LeNet-5_ CNN with PyTorch and MNIST"
   ]
  },
  {
   "cell_type": "code",
   "execution_count": 1,
   "id": "f00c8a07-22a4-4b9d-8fe4-d639ff5af408",
   "metadata": {
    "id": "f00c8a07-22a4-4b9d-8fe4-d639ff5af408"
   },
   "outputs": [],
   "source": [
    "import torch\n",
    "import torch.nn as nn\n",
    "import torch.nn.functional as F\n",
    "import torchvision\n",
    "import torchvision.transforms as transforms\n",
    "\n",
    "from tqdm import tqdm\n",
    "from tqdm import trange\n",
    "import matplotlib.pyplot as plt\n",
    "import seaborn as sns\n",
    "import numpy as np"
   ]
  },
  {
   "cell_type": "code",
   "execution_count": null,
   "id": "dd46203c-313e-45ca-b3ca-84f684a8b738",
   "metadata": {
    "id": "dd46203c-313e-45ca-b3ca-84f684a8b738"
   },
   "outputs": [],
   "source": []
  },
  {
   "cell_type": "code",
   "execution_count": 2,
   "id": "18e21536-7fe0-4039-8dc9-8adf0c55cb37",
   "metadata": {
    "colab": {
     "base_uri": "https://localhost:8080/"
    },
    "id": "18e21536-7fe0-4039-8dc9-8adf0c55cb37",
    "outputId": "3f3a46e4-fb10-492c-c678-07c3f0f1d543"
   },
   "outputs": [
    {
     "name": "stdout",
     "output_type": "stream",
     "text": [
      "torch version: 1.9.0\n"
     ]
    }
   ],
   "source": [
    "print(f\"torch version: {torch.__version__}\")"
   ]
  },
  {
   "cell_type": "code",
   "execution_count": null,
   "id": "e30dfd56-16b3-4b9c-91a4-2b427aeba608",
   "metadata": {
    "id": "e30dfd56-16b3-4b9c-91a4-2b427aeba608"
   },
   "outputs": [],
   "source": []
  },
  {
   "cell_type": "code",
   "execution_count": 3,
   "id": "9799277f-fe49-492d-ac9b-54da0b939360",
   "metadata": {
    "colab": {
     "base_uri": "https://localhost:8080/"
    },
    "id": "9799277f-fe49-492d-ac9b-54da0b939360",
    "outputId": "feebf7f2-3cf4-4b82-dd21-266d1b188450"
   },
   "outputs": [
    {
     "name": "stdout",
     "output_type": "stream",
     "text": [
      "Number of GPU(s) available = 0\n",
      "PyTorch does not have access to GPU\n"
     ]
    }
   ],
   "source": [
    "# Check if there are multiple devices (i.e., GPU cards)-\n",
    "print(f\"Number of GPU(s) available = {torch.cuda.device_count()}\")\n",
    "\n",
    "# Which GPU Is The Current GPU?\n",
    "# print(f\"current GPU: {torch.cuda.current_device()}\")\n",
    "\n",
    "# Get the name of the current GPU-\n",
    "# print(f\"Current GPU name: {torch.cuda.get_device_name(torch.cuda.current_device())}\")\n",
    "\n",
    "# Is PyTorch using a GPU?\n",
    "# print(f\"Is PyTorch using a GPU? {torch.cuda.is_available()}\")\n",
    "\n",
    "if torch.cuda.is_available():\n",
    "    print(f\"Current GPU: {torch.cuda.current_device()}\")\n",
    "    print(f\"Current GPU name: {torch.cuda.get_device_name(torch.cuda.current_device())}\")\n",
    "else:\n",
    "    print(\"PyTorch does not have access to GPU\")"
   ]
  },
  {
   "cell_type": "code",
   "execution_count": 4,
   "id": "a258671c-447d-4007-bc5e-a1129a6aeec2",
   "metadata": {
    "colab": {
     "base_uri": "https://localhost:8080/"
    },
    "id": "a258671c-447d-4007-bc5e-a1129a6aeec2",
    "outputId": "7ba37993-63f4-409d-c6d9-347e46aa0858"
   },
   "outputs": [
    {
     "name": "stdout",
     "output_type": "stream",
     "text": [
      "Available device is cpu\n"
     ]
    }
   ],
   "source": [
    "# Device configuration-\n",
    "device = torch.device('cuda' if torch.cuda.is_available() else 'cpu')\n",
    "print(f'Available device is {device}')"
   ]
  },
  {
   "cell_type": "code",
   "execution_count": null,
   "id": "5c66c4ba-8858-46dd-8ce1-b896a07b045c",
   "metadata": {
    "id": "5c66c4ba-8858-46dd-8ce1-b896a07b045c"
   },
   "outputs": [],
   "source": []
  },
  {
   "cell_type": "code",
   "execution_count": null,
   "id": "5240ccb6-f84e-44a1-9224-09da6456241f",
   "metadata": {
    "id": "5240ccb6-f84e-44a1-9224-09da6456241f"
   },
   "outputs": [],
   "source": []
  },
  {
   "cell_type": "code",
   "execution_count": 5,
   "id": "bc52052e-3948-4899-b58c-68416a209c65",
   "metadata": {
    "id": "bc52052e-3948-4899-b58c-68416a209c65"
   },
   "outputs": [],
   "source": [
    "# Hyper-parameters-\n",
    "num_epochs = 50\n",
    "batch_size = 32\n",
    "learning_rate = 0.001"
   ]
  },
  {
   "cell_type": "code",
   "execution_count": null,
   "id": "b5764e18-63a4-46ee-91c7-97f421e93a49",
   "metadata": {},
   "outputs": [],
   "source": []
  },
  {
   "cell_type": "code",
   "execution_count": null,
   "id": "b77daaad-e262-4ed5-b617-7d2314183c5b",
   "metadata": {},
   "outputs": [],
   "source": []
  },
  {
   "cell_type": "markdown",
   "id": "4886f225-1f56-4d65-a141-1c590bbde084",
   "metadata": {
    "id": "7094333c-06dd-4709-a8e6-90ea674c7d75"
   },
   "source": [
    "### MNIST data pre-processing:"
   ]
  },
  {
   "cell_type": "code",
   "execution_count": 6,
   "id": "67f4ba49-aefa-402c-8cf4-c2e141292134",
   "metadata": {},
   "outputs": [],
   "source": [
    "# Define transformations for MNIST dataset-\n",
    "# MNIST dataset statistics-\n",
    "mean = np.array([0.1307])\n",
    "std_dev = np.array([0.3081])\n",
    "\n",
    "transforms_apply = transforms.Compose([\n",
    "    transforms.ToTensor(),\n",
    "    transforms.Normalize(mean = mean, std = std_dev)\n",
    "    ])"
   ]
  },
  {
   "cell_type": "code",
   "execution_count": 7,
   "id": "01f4a0a2-bb6b-464c-a3b1-5e153f972e16",
   "metadata": {
    "id": "01f4a0a2-bb6b-464c-a3b1-5e153f972e16"
   },
   "outputs": [],
   "source": [
    "path_to_data = \"C:\\\\Users\\\\Arjun\\\\Desktop\\\\VAE_resources\\\\\"\n",
    "# path_to_data = \"C:\\\\Users\\\\arjun\\Downloads\\\\\""
   ]
  },
  {
   "cell_type": "code",
   "execution_count": 8,
   "id": "61b1bf6f-4d8f-4476-8bdc-99bce75660e7",
   "metadata": {},
   "outputs": [
    {
     "name": "stderr",
     "output_type": "stream",
     "text": [
      "C:\\Users\\Arjun\\anaconda3\\envs\\pytorch-cpu\\lib\\site-packages\\torchvision\\datasets\\mnist.py:498: UserWarning: The given NumPy array is not writeable, and PyTorch does not support non-writeable tensors. This means you can write to the underlying (supposedly non-writeable) NumPy array using the tensor. You may want to copy the array to protect its data or make it writeable before converting it to a tensor. This type of warning will be suppressed for the rest of this program. (Triggered internally at  ..\\torch\\csrc\\utils\\tensor_numpy.cpp:180.)\n",
      "  return torch.from_numpy(parsed.astype(m[2], copy=False)).view(*s)\n"
     ]
    }
   ],
   "source": [
    "# Load MNIST dataset-\n",
    "train_dataset = torchvision.datasets.MNIST(\n",
    "        # root = './data', train = True,\n",
    "        root = path_to_data + \"data\", train = True,\n",
    "        transform = transforms_apply, download = True\n",
    "        )\n",
    "\n",
    "test_dataset = torchvision.datasets.MNIST(\n",
    "        # root = './data', train = False,\n",
    "        root = path_to_data + \"data\", train = False,\n",
    "        transform = transforms_apply\n",
    "        )"
   ]
  },
  {
   "cell_type": "code",
   "execution_count": 9,
   "id": "89412664-d07d-4e52-a40e-4af2a34044e2",
   "metadata": {},
   "outputs": [],
   "source": [
    "# Create training and testing dataloaders-\n",
    "train_loader = torch.utils.data.DataLoader(\n",
    "        dataset = train_dataset, batch_size = batch_size,\n",
    "        shuffle = True\n",
    "        )\n",
    "\n",
    "test_loader = torch.utils.data.DataLoader(\n",
    "        dataset = test_dataset, batch_size = batch_size,\n",
    "        shuffle = False\n",
    "        )"
   ]
  },
  {
   "cell_type": "code",
   "execution_count": 10,
   "id": "9f230fe2-cb5d-4b3e-ae0f-02a00084c93d",
   "metadata": {
    "colab": {
     "base_uri": "https://localhost:8080/"
    },
    "id": "9f230fe2-cb5d-4b3e-ae0f-02a00084c93d",
    "outputId": "b5cf003d-74ab-404a-9429-47eff8ceaf6a"
   },
   "outputs": [
    {
     "name": "stdout",
     "output_type": "stream",
     "text": [
      "Sizes of train_dataset: 60000 and test_dataet: 10000\n",
      "Sizes of train_loader: 1875 and test_loader: 313\n"
     ]
    }
   ],
   "source": [
    "print(f\"Sizes of train_dataset: {len(train_dataset)} and test_dataet: {len(test_dataset)}\")\n",
    "print(f\"Sizes of train_loader: {len(train_loader)} and test_loader: {len(test_loader)}\")"
   ]
  },
  {
   "cell_type": "code",
   "execution_count": 11,
   "id": "12bfaf5a-2353-4ee0-95a8-0d35c265c3d6",
   "metadata": {
    "colab": {
     "base_uri": "https://localhost:8080/"
    },
    "id": "12bfaf5a-2353-4ee0-95a8-0d35c265c3d6",
    "outputId": "bab3d34f-2ea3-4c4f-c6b5-10862344ffd5"
   },
   "outputs": [
    {
     "name": "stdout",
     "output_type": "stream",
     "text": [
      "len(train_loader) = 1875 & len(test_loader) = 313\n"
     ]
    }
   ],
   "source": [
    "print(f\"len(train_loader) = {len(train_loader)} & len(test_loader) = {len(test_loader)}\")"
   ]
  },
  {
   "cell_type": "code",
   "execution_count": 12,
   "id": "cc665ae6-9f01-4ed5-b110-e5e722bbd996",
   "metadata": {
    "colab": {
     "base_uri": "https://localhost:8080/"
    },
    "id": "cc665ae6-9f01-4ed5-b110-e5e722bbd996",
    "outputId": "a715e1e0-b8c4-4b24-b72a-09924c8d163c"
   },
   "outputs": [
    {
     "data": {
      "text/plain": [
       "(1875.0, 312.5)"
      ]
     },
     "execution_count": 12,
     "metadata": {},
     "output_type": "execute_result"
    }
   ],
   "source": [
    "# Sanity check-\n",
    "len(train_dataset) / batch_size, len(test_dataset) / batch_size"
   ]
  },
  {
   "cell_type": "code",
   "execution_count": null,
   "id": "4985135f-4c9e-49c6-aced-61771b151480",
   "metadata": {
    "id": "4985135f-4c9e-49c6-aced-61771b151480"
   },
   "outputs": [],
   "source": []
  },
  {
   "cell_type": "code",
   "execution_count": 13,
   "id": "1c25a3a0-e120-4e0f-b7f4-68fe063e3747",
   "metadata": {
    "colab": {
     "base_uri": "https://localhost:8080/"
    },
    "id": "1c25a3a0-e120-4e0f-b7f4-68fe063e3747",
    "outputId": "1a368c3b-38c6-4ca4-815e-41b1bbe0b080"
   },
   "outputs": [
    {
     "name": "stdout",
     "output_type": "stream",
     "text": [
      "images.shape: torch.Size([32, 1, 28, 28]) & labels.shape: torch.Size([32])\n"
     ]
    }
   ],
   "source": [
    "# Get some random batch of training images & labels-\n",
    "images, labels = next(iter(train_loader))\n",
    "\n",
    "# You get 64 images due to the specified batch size-\n",
    "print(f\"images.shape: {images.shape} & labels.shape: {labels.shape}\")"
   ]
  },
  {
   "cell_type": "code",
   "execution_count": 14,
   "id": "35ecee97-cab0-4edb-a406-a99111ca4da7",
   "metadata": {},
   "outputs": [
    {
     "data": {
      "text/plain": [
       "torch.Size([32, 784])"
      ]
     },
     "execution_count": 14,
     "metadata": {},
     "output_type": "execute_result"
    }
   ],
   "source": [
    "# Reshape input so that it can be fed into LeNet-300-100 architecture model-\n",
    "images.reshape(-1, 28 * 28 * 1).shape"
   ]
  },
  {
   "cell_type": "code",
   "execution_count": null,
   "id": "4eda2200-0e19-4487-ac2f-a1cfe34eb649",
   "metadata": {
    "id": "4eda2200-0e19-4487-ac2f-a1cfe34eb649"
   },
   "outputs": [],
   "source": []
  },
  {
   "cell_type": "code",
   "execution_count": 15,
   "id": "385944f5-271b-4ba3-9bb5-4468482a7285",
   "metadata": {
    "colab": {
     "base_uri": "https://localhost:8080/",
     "height": 274
    },
    "id": "385944f5-271b-4ba3-9bb5-4468482a7285",
    "outputId": "a892a007-1f41-4eca-f71d-ec540f280dda"
   },
   "outputs": [
    {
     "data": {
      "image/png": "[encoded data removed]",
      "text/plain": [
       "<Figure size 432x288 with 10 Axes>"
      ]
     },
     "metadata": {
      "needs_background": "light"
     },
     "output_type": "display_data"
    }
   ],
   "source": [
    "# Visualize 10 images from training set-\n",
    "for i in range(10):\n",
    "    plt.subplot(2, 5, i + 1)    # 2 rows & 5 columns\n",
    "    plt.imshow(images[i][0])    # 0 to access first channel\n",
    "    # plt.imshow(images[i][0], cmap = 'gray')\n",
    "    \n",
    "plt.suptitle(\"Sample MNIST training images\")\n",
    "plt.show()"
   ]
  },
  {
   "cell_type": "code",
   "execution_count": null,
   "id": "7a7d0933-0e32-48c8-b05d-c4559825c71c",
   "metadata": {
    "id": "7a7d0933-0e32-48c8-b05d-c4559825c71c"
   },
   "outputs": [],
   "source": []
  },
  {
   "cell_type": "code",
   "execution_count": null,
   "id": "3b5228a3-fe70-4178-8814-1c0ac81ebc12",
   "metadata": {
    "id": "3b5228a3-fe70-4178-8814-1c0ac81ebc12"
   },
   "outputs": [],
   "source": []
  },
  {
   "cell_type": "markdown",
   "id": "6085dc68-8c57-4a95-8a75-0a23776e24ef",
   "metadata": {
    "id": "6085dc68-8c57-4a95-8a75-0a23776e24ef"
   },
   "source": [
    "### Define _Variational Autoencoder_ architecture:"
   ]
  },
  {
   "cell_type": "code",
   "execution_count": 14,
   "id": "e653b9d9-77c6-45b5-b396-ce2cd82dd1b0",
   "metadata": {},
   "outputs": [],
   "source": [
    "class LeNet_Encoder(nn.Module):\n",
    "    def __init__(self, latent_space):\n",
    "        super(LeNet_Encoder, self).__init__()\n",
    "        \n",
    "        self.latent_space = latent_space\n",
    "        self.conv1 = nn.Conv2d(\n",
    "            in_channels = 1, out_channels = 6,\n",
    "            kernel_size = 3, stride = 2,\n",
    "            padding = 1, bias = True\n",
    "        )\n",
    "        self.conv2 = nn.Conv2d(\n",
    "            in_channels = 6, out_channels = 16,\n",
    "            kernel_size = 5, stride = 1,\n",
    "            padding = 0, bias = True\n",
    "        )\n",
    "        self.conv3 = nn.Conv2d(\n",
    "            in_channels = 16, out_channels = 16,\n",
    "            kernel_size = 5, stride = 1,\n",
    "            padding = 0, bias = True\n",
    "        )\n",
    "        self.conv4 = nn.Conv2d(\n",
    "            in_channels = 16, out_channels = 16,\n",
    "            kernel_size = 5, stride = 1,\n",
    "            padding = 0, bias = True\n",
    "        )\n",
    "        self.dense = nn.Linear(\n",
    "            in_features = 64, out_features = 30,\n",
    "            bias = True\n",
    "        )\n",
    "        self.dense2 = nn.Linear(\n",
    "            in_features = 30, out_features = 10,\n",
    "            bias = True\n",
    "        )\n",
    "        self.encoder_output = nn.Linear(\n",
    "            in_features = 10, out_features = self.latent_space,\n",
    "            bias = True\n",
    "        )\n",
    "        \n",
    "    \n",
    "    def forward(self, x):\n",
    "        x = F.leaky_relu(self.conv1(x))\n",
    "        x = F.leaky_relu(self.conv2(x))\n",
    "        x = F.leaky_relu(self.conv3(x))\n",
    "        x = F.leaky_relu(self.conv4(x))\n",
    "        # print(f\"before flatten, x.shape: {x.shape}\")\n",
    "        x = torch.flatten(x, start_dim = 1)\n",
    "        x = F.leaky_relu(self.dense(x))\n",
    "        x = F.leaky_relu(self.dense2(x))\n",
    "        x = F.leaky_relu(self.encoder_output(x))\n",
    "        return x\n",
    "        \n"
   ]
  },
  {
   "cell_type": "code",
   "execution_count": null,
   "id": "ccbbb8a6-9b41-48a0-b54e-cbd8e69adf03",
   "metadata": {},
   "outputs": [],
   "source": []
  },
  {
   "cell_type": "code",
   "execution_count": 15,
   "id": "bebba5af-9fd7-412e-af11-6540de626ed7",
   "metadata": {},
   "outputs": [],
   "source": [
    "class LeNet_Decoder(nn.Module):\n",
    "    def __init__(self, latent_space):\n",
    "        super(LeNet_Decoder, self).__init__()\n",
    "        \n",
    "        self.latent_space = latent_space\n",
    "        self.dense_layer1 = nn.Linear(\n",
    "            in_features = self.latent_space, out_features = 10,\n",
    "            bias = True\n",
    "        )\n",
    "        self.dense_layer2 = nn.Linear(\n",
    "            in_features = 10, out_features = 30,\n",
    "            bias = True\n",
    "        )\n",
    "        self.dense_layer3 = nn.Linear(\n",
    "            in_features = 30, out_features = 64,\n",
    "            bias = True\n",
    "        )\n",
    "        \n",
    "        self.conv_tran_layer1 = nn.ConvTranspose2d(\n",
    "            in_channels = 16, out_channels = 16,\n",
    "            kernel_size = 5, stride = 1,\n",
    "            padding = 0\n",
    "        )\n",
    "        self.conv_tran_layer2 = nn.ConvTranspose2d(\n",
    "            in_channels = 16, out_channels = 16,\n",
    "            kernel_size = 5, stride = 1,\n",
    "            padding = 0\n",
    "        )\n",
    "        self.conv_tran_layer3 = nn.ConvTranspose2d(\n",
    "            in_channels = 16, out_channels = 6,\n",
    "            kernel_size = 5, stride = 1,\n",
    "            padding = 0\n",
    "        )\n",
    "        self.op_conv_tran_layer = nn.ConvTranspose2d(\n",
    "            in_channels = 6, out_channels = 1,\n",
    "            kernel_size = 2, stride = 2,\n",
    "            padding = 0\n",
    "        )\n",
    "\n",
    "        \n",
    "        \n",
    "    def forward(self, x):\n",
    "        x = F.leaky_relu(self.dense_layer1(x))\n",
    "        x = F.leaky_relu(self.dense_layer2(x))\n",
    "        x = F.leaky_relu(self.dense_layer3(x))\n",
    "        x = x.view(-1, 16, 2, 2)\n",
    "        x = F.leaky_relu(self.conv_tran_layer1(x))\n",
    "        x = F.leaky_relu(self.conv_tran_layer2(x))\n",
    "        x = F.leaky_relu(self.conv_tran_layer3(x))\n",
    "        x = self.op_conv_tran_layer(x)\n",
    "        return x\n",
    " "
   ]
  },
  {
   "cell_type": "code",
   "execution_count": null,
   "id": "d564c65c-36cd-43a2-8078-77971dff8dab",
   "metadata": {},
   "outputs": [],
   "source": []
  },
  {
   "cell_type": "code",
   "execution_count": 18,
   "id": "3a9ac4ad-15a2-44cb-bc70-f598cf555b54",
   "metadata": {},
   "outputs": [],
   "source": [
    "# encoder = LeNet_Encoder(latent_space = 3)"
   ]
  },
  {
   "cell_type": "code",
   "execution_count": null,
   "id": "d14ba0a7-2916-477a-94a3-b98922044855",
   "metadata": {},
   "outputs": [],
   "source": [
    "# encoded_images = encoder(images)"
   ]
  },
  {
   "cell_type": "code",
   "execution_count": null,
   "id": "05ad07f2-c608-45f6-a960-9bb2447b622e",
   "metadata": {},
   "outputs": [],
   "source": [
    "# encoded_images.shape, images.shape"
   ]
  },
  {
   "cell_type": "code",
   "execution_count": 19,
   "id": "fe4701e5-b4d4-4219-9c26-2d2dd40ba8f1",
   "metadata": {},
   "outputs": [],
   "source": [
    "# decoder = LeNet_Decoder(latent_space = 3)"
   ]
  },
  {
   "cell_type": "code",
   "execution_count": 21,
   "id": "3baf7e2c-681d-4235-9307-a5eb5d8ceae3",
   "metadata": {},
   "outputs": [],
   "source": [
    "# decoded_images = decoder(encoded_images)"
   ]
  },
  {
   "cell_type": "code",
   "execution_count": 20,
   "id": "7fd36d80-96be-4bfb-9373-3125fec93752",
   "metadata": {},
   "outputs": [],
   "source": [
    "# decoded_images.shape, images.shape"
   ]
  },
  {
   "cell_type": "code",
   "execution_count": null,
   "id": "494f5f0a-f9c8-422d-888e-ad00fcb581ea",
   "metadata": {},
   "outputs": [],
   "source": [
    "# del encoded_images, decoded_images, encoder, decoder"
   ]
  },
  {
   "cell_type": "code",
   "execution_count": null,
   "id": "711aa802-9e00-46fd-8beb-2578a62f1752",
   "metadata": {},
   "outputs": [],
   "source": []
  },
  {
   "cell_type": "code",
   "execution_count": 17,
   "id": "1f61ef23-2a85-41f8-b956-4277376b8c1b",
   "metadata": {
    "id": "1f61ef23-2a85-41f8-b956-4277376b8c1b"
   },
   "outputs": [],
   "source": [
    "class VAE_Conv(nn.Module):\n",
    "    def __init__(self, latent_space = 5):\n",
    "        super(VAE_Conv, self).__init__()\n",
    "        \n",
    "        self.latent_space = latent_space\n",
    "        \n",
    "        # Encoder-\n",
    "        self.encoder = LeNet_Encoder(latent_space = self.latent_space).to(device)\n",
    "        \n",
    "        # Two additional layers 'hidden2mu' & 'hidden2log' to convert the bottleneck into the μ and σ vectors-\n",
    "        self.hidden2mu = nn.Linear(\n",
    "            in_features = self.latent_space, out_features = self.latent_space,\n",
    "            bias = True\n",
    "        )\n",
    "        self.hidden2log_var = nn.Linear(\n",
    "            in_features = self.latent_space, out_features = self.latent_space,\n",
    "            bias = True\n",
    "        )\n",
    "        \n",
    "        # Decoder-\n",
    "        self.decoder = LeNet_Decoder(latent_space = self.latent_space).to(device)\n",
    "        \n",
    "        \n",
    "    def reparameterize(self, mu, log_var):\n",
    "        '''\n",
    "        Input arguments:\n",
    "        1. mu - mean coming from the encoder's latent space\n",
    "        2. log_var - log variance coming from the encoder's latent space\n",
    "        '''\n",
    "        # Compute standard deviation using 'log_var'-\n",
    "        std = torch.exp(0.5 * log_var)\n",
    "        \n",
    "        # 'eps' samples from a normal standard distribution to add\n",
    "        # stochasticity to the sampling process-\n",
    "        eps = torch.randn_like(std)\n",
    "        \n",
    "        # Reparameterization trick - sample as if it's from the input\n",
    "        # space-\n",
    "        sample = mu + (std * eps)\n",
    "        \n",
    "        return sample\n",
    "    \n",
    "    \n",
    "    def forward(self, x):\n",
    "        # Encode input data-\n",
    "        x = self.encoder(x)\n",
    "        # NOTE: The line of code above does NOT give us the latent vector!\n",
    "        \n",
    "        # print(f\"encoder's output x.shape: {x.shape}\")\n",
    "        \n",
    "        mu = self.hidden2mu(x)\n",
    "        log_var = self.hidden2log_var(x)\n",
    "        \n",
    "        # Obtain the latent vector using reparameterization-\n",
    "        z = self.reparameterize(mu, log_var)\n",
    "        # latent vector 'z' is obtained through reparameterization trick using mu and log_var\n",
    "        \n",
    "        '''\n",
    "        print(f\"mu.shape: {mu.shape}, log_var.shape: {log_var.shape} &\"\n",
    "              f\" z.shape: {z.shape}\")\n",
    "        '''\n",
    "        \n",
    "        # Decode latent vector-\n",
    "        recon_data = torch.sigmoid(self.decoder(z))\n",
    "        # recon_data = torch.tanh(self.decoder(z))\n",
    "        \n",
    "        return recon_data, mu, log_var\n",
    "        "
   ]
  },
  {
   "cell_type": "code",
   "execution_count": null,
   "id": "ea79f596-e7ff-40fe-bfa2-5f074e665d0d",
   "metadata": {
    "id": "ea79f596-e7ff-40fe-bfa2-5f074e665d0d"
   },
   "outputs": [],
   "source": []
  },
  {
   "cell_type": "code",
   "execution_count": 18,
   "id": "60ab401d-bfd3-443f-a777-970b74941b68",
   "metadata": {
    "id": "60ab401d-bfd3-443f-a777-970b74941b68"
   },
   "outputs": [],
   "source": [
    "# Initialize a VAE objetc-\n",
    "model = VAE_Conv(latent_space = 3).to(device)"
   ]
  },
  {
   "cell_type": "code",
   "execution_count": null,
   "id": "454fc338-0e0a-4234-83f6-dd72cd9278bf",
   "metadata": {
    "id": "454fc338-0e0a-4234-83f6-dd72cd9278bf"
   },
   "outputs": [],
   "source": []
  },
  {
   "cell_type": "code",
   "execution_count": 19,
   "id": "690f97c3-35f3-459e-8c3f-dfb994d824e0",
   "metadata": {
    "colab": {
     "base_uri": "https://localhost:8080/"
    },
    "id": "690f97c3-35f3-459e-8c3f-dfb994d824e0",
    "outputId": "f5fce4cc-093e-46a6-e3cd-fb200f4aa73b"
   },
   "outputs": [
    {
     "name": "stdout",
     "output_type": "stream",
     "text": [
      "VAE_Conv(\n",
      "  (encoder): LeNet_Encoder(\n",
      "    (conv1): Conv2d(1, 6, kernel_size=(3, 3), stride=(2, 2), padding=(1, 1))\n",
      "    (conv2): Conv2d(6, 16, kernel_size=(5, 5), stride=(1, 1))\n",
      "    (conv3): Conv2d(16, 16, kernel_size=(5, 5), stride=(1, 1))\n",
      "    (conv4): Conv2d(16, 16, kernel_size=(5, 5), stride=(1, 1))\n",
      "    (dense): Linear(in_features=64, out_features=30, bias=True)\n",
      "    (dense2): Linear(in_features=30, out_features=10, bias=True)\n",
      "    (encoder_output): Linear(in_features=10, out_features=3, bias=True)\n",
      "  )\n",
      "  (hidden2mu): Linear(in_features=3, out_features=3, bias=True)\n",
      "  (hidden2log_var): Linear(in_features=3, out_features=3, bias=True)\n",
      "  (decoder): LeNet_Decoder(\n",
      "    (dense_layer1): Linear(in_features=3, out_features=10, bias=True)\n",
      "    (dense_layer2): Linear(in_features=10, out_features=30, bias=True)\n",
      "    (dense_layer3): Linear(in_features=30, out_features=64, bias=True)\n",
      "    (conv_tran_layer1): ConvTranspose2d(16, 16, kernel_size=(5, 5), stride=(1, 1))\n",
      "    (conv_tran_layer2): ConvTranspose2d(16, 16, kernel_size=(5, 5), stride=(1, 1))\n",
      "    (conv_tran_layer3): ConvTranspose2d(16, 6, kernel_size=(5, 5), stride=(1, 1))\n",
      "    (op_conv_tran_layer): ConvTranspose2d(6, 1, kernel_size=(2, 2), stride=(2, 2))\n",
      "  )\n",
      ")\n"
     ]
    }
   ],
   "source": [
    "print(model)"
   ]
  },
  {
   "cell_type": "code",
   "execution_count": null,
   "id": "1f605ec5-2607-4a80-bdc3-e4257b24fce5",
   "metadata": {
    "id": "1f605ec5-2607-4a80-bdc3-e4257b24fce5"
   },
   "outputs": [],
   "source": []
  },
  {
   "cell_type": "code",
   "execution_count": 20,
   "id": "9e827468-9683-4181-99e3-3a2b0d05518d",
   "metadata": {
    "colab": {
     "base_uri": "https://localhost:8080/"
    },
    "id": "9e827468-9683-4181-99e3-3a2b0d05518d",
    "outputId": "cd75de57-4e6d-42b8-fae0-bb1e64851435"
   },
   "outputs": [
    {
     "name": "stdout",
     "output_type": "stream",
     "text": [
      "layer.shape = torch.Size([6, 1, 3, 3]) has 54 parameters\n",
      "layer.shape = torch.Size([6]) has 6 parameters\n",
      "layer.shape = torch.Size([16, 6, 5, 5]) has 2400 parameters\n",
      "layer.shape = torch.Size([16]) has 16 parameters\n",
      "layer.shape = torch.Size([16, 16, 5, 5]) has 6400 parameters\n",
      "layer.shape = torch.Size([16]) has 16 parameters\n",
      "layer.shape = torch.Size([16, 16, 5, 5]) has 6400 parameters\n",
      "layer.shape = torch.Size([16]) has 16 parameters\n",
      "layer.shape = torch.Size([30, 64]) has 1920 parameters\n",
      "layer.shape = torch.Size([30]) has 30 parameters\n",
      "layer.shape = torch.Size([10, 30]) has 300 parameters\n",
      "layer.shape = torch.Size([10]) has 10 parameters\n",
      "layer.shape = torch.Size([3, 10]) has 30 parameters\n",
      "layer.shape = torch.Size([3]) has 3 parameters\n",
      "layer.shape = torch.Size([3, 3]) has 9 parameters\n",
      "layer.shape = torch.Size([3]) has 3 parameters\n",
      "layer.shape = torch.Size([3, 3]) has 9 parameters\n",
      "layer.shape = torch.Size([3]) has 3 parameters\n",
      "layer.shape = torch.Size([10, 3]) has 30 parameters\n",
      "layer.shape = torch.Size([10]) has 10 parameters\n",
      "layer.shape = torch.Size([30, 10]) has 300 parameters\n",
      "layer.shape = torch.Size([30]) has 30 parameters\n",
      "layer.shape = torch.Size([64, 30]) has 1920 parameters\n",
      "layer.shape = torch.Size([64]) has 64 parameters\n",
      "layer.shape = torch.Size([16, 16, 5, 5]) has 6400 parameters\n",
      "layer.shape = torch.Size([16]) has 16 parameters\n",
      "layer.shape = torch.Size([16, 16, 5, 5]) has 6400 parameters\n",
      "layer.shape = torch.Size([16]) has 16 parameters\n",
      "layer.shape = torch.Size([16, 6, 5, 5]) has 2400 parameters\n",
      "layer.shape = torch.Size([6]) has 6 parameters\n",
      "layer.shape = torch.Size([6, 1, 2, 2]) has 24 parameters\n",
      "layer.shape = torch.Size([1]) has 1 parameters\n"
     ]
    }
   ],
   "source": [
    "# Count number of layer-wise parameters and total parameters-\n",
    "tot_params = 0\n",
    "for param in model.parameters():\n",
    "    print(f\"layer.shape = {param.shape} has {param.nelement()} parameters\")\n",
    "    tot_params += param.nelement()"
   ]
  },
  {
   "cell_type": "code",
   "execution_count": 21,
   "id": "4c4517d0-5b78-4584-8337-25994f91de24",
   "metadata": {
    "colab": {
     "base_uri": "https://localhost:8080/"
    },
    "id": "4c4517d0-5b78-4584-8337-25994f91de24",
    "outputId": "63a3500d-e05a-48f5-cfa4-de7816450125"
   },
   "outputs": [
    {
     "name": "stdout",
     "output_type": "stream",
     "text": [
      "Total number of parameters in VAE Dense model = 35242\n"
     ]
    }
   ],
   "source": [
    "print(f\"Total number of parameters in VAE Dense model = {tot_params}\")"
   ]
  },
  {
   "cell_type": "code",
   "execution_count": null,
   "id": "c476c09b-d6ef-43fe-8ff9-8f7139b62b6e",
   "metadata": {
    "id": "c476c09b-d6ef-43fe-8ff9-8f7139b62b6e"
   },
   "outputs": [],
   "source": []
  },
  {
   "cell_type": "code",
   "execution_count": null,
   "id": "WeCYzsSAx5Tn",
   "metadata": {
    "id": "WeCYzsSAx5Tn"
   },
   "outputs": [],
   "source": []
  },
  {
   "cell_type": "markdown",
   "id": "rMH47UZ-xse_",
   "metadata": {
    "id": "rMH47UZ-xse_"
   },
   "source": [
    "### Initial _variance_ - Sanity check:\n",
    "\n",
    "_Before_ training the VAE neural network model, there should be some initial variance."
   ]
  },
  {
   "cell_type": "code",
   "execution_count": 22,
   "id": "hJzaYABYvhXv",
   "metadata": {
    "colab": {
     "base_uri": "https://localhost:8080/"
    },
    "id": "hJzaYABYvhXv",
    "outputId": "a1b87920-f304-4c00-ee92-2ec6435a76a5"
   },
   "outputs": [
    {
     "name": "stdout",
     "output_type": "stream",
     "text": [
      "torch.Size([3, 3]) 9\n",
      "torch.Size([3]) 3\n"
     ]
    }
   ],
   "source": [
    "for x in model.hidden2mu.parameters():\n",
    "    print(x.shape, x.nelement())"
   ]
  },
  {
   "cell_type": "code",
   "execution_count": 23,
   "id": "rh66ZwUAwPKJ",
   "metadata": {
    "id": "rh66ZwUAwPKJ"
   },
   "outputs": [],
   "source": [
    "log_var_wts = model.hidden2log_var.weight\n",
    "mu_wts = model.hidden2mu.weight"
   ]
  },
  {
   "cell_type": "code",
   "execution_count": 24,
   "id": "dJARYX0cwJfD",
   "metadata": {
    "id": "dJARYX0cwJfD"
   },
   "outputs": [],
   "source": [
    "mu_wts = mu_wts.detach().cpu().numpy()\n",
    "log_var_wts = log_var_wts.detach().cpu().numpy()"
   ]
  },
  {
   "cell_type": "code",
   "execution_count": 25,
   "id": "cdhDQZU-wWQ7",
   "metadata": {
    "colab": {
     "base_uri": "https://localhost:8080/"
    },
    "id": "cdhDQZU-wWQ7",
    "outputId": "1a4046d6-cfab-417f-c204-8dac20a73eb1"
   },
   "outputs": [
    {
     "data": {
      "text/plain": [
       "((3, 3), (3, 3))"
      ]
     },
     "execution_count": 25,
     "metadata": {},
     "output_type": "execute_result"
    }
   ],
   "source": [
    "mu_wts.shape, log_var_wts.shape"
   ]
  },
  {
   "cell_type": "code",
   "execution_count": null,
   "id": "m3Gz3BmCwp4h",
   "metadata": {
    "id": "m3Gz3BmCwp4h"
   },
   "outputs": [],
   "source": []
  },
  {
   "cell_type": "code",
   "execution_count": 26,
   "id": "HgzluinKxO2f",
   "metadata": {
    "colab": {
     "base_uri": "https://localhost:8080/",
     "height": 385
    },
    "id": "HgzluinKxO2f",
    "outputId": "bca209bc-e8eb-4838-c02d-ea1dcc5ea1e8"
   },
   "outputs": [
    {
     "data": {
      "image/png": "[encoded data removed]",
      "text/plain": [
       "<Figure size 360x360 with 1 Axes>"
      ]
     },
     "metadata": {
      "needs_background": "light"
     },
     "output_type": "display_data"
    }
   ],
   "source": [
    "sns.displot(data = mu_wts.flatten(), bins = int(np.ceil(np.sqrt(mu_wts.size))))\n",
    "plt.title(\"mu randomly initialized - Visualization\")\n",
    "plt.show()"
   ]
  },
  {
   "cell_type": "code",
   "execution_count": 27,
   "id": "M3M9In0DxYx9",
   "metadata": {
    "colab": {
     "base_uri": "https://localhost:8080/",
     "height": 385
    },
    "id": "M3M9In0DxYx9",
    "outputId": "5f1b28fe-01b3-49f9-dd61-b31d43266857"
   },
   "outputs": [
    {
     "data": {
      "image/png": "[encoded data removed]",
      "text/plain": [
       "<Figure size 360x360 with 1 Axes>"
      ]
     },
     "metadata": {
      "needs_background": "light"
     },
     "output_type": "display_data"
    }
   ],
   "source": [
    "sns.displot(data = log_var_wts.flatten(), bins = int(np.ceil(np.sqrt(log_var_wts.size))))\n",
    "plt.title(\"log variance randomly initialized - Visualization\")\n",
    "plt.show()"
   ]
  },
  {
   "cell_type": "code",
   "execution_count": 28,
   "id": "0jBPklKuxg38",
   "metadata": {
    "id": "0jBPklKuxg38"
   },
   "outputs": [],
   "source": [
    "del mu_wts, log_var_wts"
   ]
  },
  {
   "cell_type": "code",
   "execution_count": null,
   "id": "E8JLR1l0xpyJ",
   "metadata": {
    "id": "E8JLR1l0xpyJ"
   },
   "outputs": [],
   "source": []
  },
  {
   "cell_type": "code",
   "execution_count": 29,
   "id": "41db8f08-7228-4c94-93d2-73d701953bdb",
   "metadata": {
    "id": "41db8f08-7228-4c94-93d2-73d701953bdb"
   },
   "outputs": [],
   "source": [
    "images = images.to(device)"
   ]
  },
  {
   "cell_type": "code",
   "execution_count": 30,
   "id": "2362adeb-106a-4b84-a696-322448199fcc",
   "metadata": {
    "colab": {
     "base_uri": "https://localhost:8080/"
    },
    "id": "2362adeb-106a-4b84-a696-322448199fcc",
    "outputId": "a76b9054-9834-4051-ec1f-34a8bd690834"
   },
   "outputs": [
    {
     "data": {
      "text/plain": [
       "torch.Size([32, 1, 28, 28])"
      ]
     },
     "execution_count": 30,
     "metadata": {},
     "output_type": "execute_result"
    }
   ],
   "source": [
    "images.shape"
   ]
  },
  {
   "cell_type": "code",
   "execution_count": 31,
   "id": "67034b3c-ef9d-45ac-b05b-2ad5768069b3",
   "metadata": {
    "colab": {
     "base_uri": "https://localhost:8080/"
    },
    "id": "67034b3c-ef9d-45ac-b05b-2ad5768069b3",
    "outputId": "5e31c5e0-d24f-4e9a-a7fc-d5f62e587642"
   },
   "outputs": [
    {
     "data": {
      "text/plain": [
       "(tensor(-0.4242), tensor(2.8215))"
      ]
     },
     "execution_count": 31,
     "metadata": {},
     "output_type": "execute_result"
    }
   ],
   "source": [
    "images.min(), images.max()"
   ]
  },
  {
   "cell_type": "code",
   "execution_count": null,
   "id": "aac462c2-430a-4a4d-ac7b-a48678314917",
   "metadata": {
    "id": "aac462c2-430a-4a4d-ac7b-a48678314917"
   },
   "outputs": [],
   "source": []
  },
  {
   "cell_type": "code",
   "execution_count": 32,
   "id": "8113e149-a1df-4fed-94ec-7601ecd8530e",
   "metadata": {
    "id": "8113e149-a1df-4fed-94ec-7601ecd8530e"
   },
   "outputs": [],
   "source": [
    "# Sanity check-\n",
    "recon_images, mu, log_var = model(images)"
   ]
  },
  {
   "cell_type": "code",
   "execution_count": 33,
   "id": "b654101c-692b-4e8e-be65-436bf75610f8",
   "metadata": {
    "colab": {
     "base_uri": "https://localhost:8080/"
    },
    "id": "b654101c-692b-4e8e-be65-436bf75610f8",
    "outputId": "f40e0323-6387-4d1a-c416-5cf379687d2c"
   },
   "outputs": [
    {
     "data": {
      "text/plain": [
       "(torch.Size([32, 1, 28, 28]), torch.Size([32, 3]), torch.Size([32, 3]))"
      ]
     },
     "execution_count": 33,
     "metadata": {},
     "output_type": "execute_result"
    }
   ],
   "source": [
    "recon_images.shape, mu.shape, log_var.shape"
   ]
  },
  {
   "cell_type": "code",
   "execution_count": 34,
   "id": "491a9b05-a2b9-453a-94db-c401c9dfb4f8",
   "metadata": {
    "colab": {
     "base_uri": "https://localhost:8080/"
    },
    "id": "491a9b05-a2b9-453a-94db-c401c9dfb4f8",
    "outputId": "4ba580c7-59d0-4e51-84d9-2514f372ea1b"
   },
   "outputs": [
    {
     "data": {
      "text/plain": [
       "(array(0.444928, dtype=float32), array(0.46043667, dtype=float32))"
      ]
     },
     "execution_count": 34,
     "metadata": {},
     "output_type": "execute_result"
    }
   ],
   "source": [
    "recon_images.min().detach().cpu().numpy(), recon_images.max().detach().cpu().numpy()\n",
    "\n",
    "# tanh activation function-\n",
    "# (array(-0.05745536, dtype=float32), array(0.23623492, dtype=float32))\n",
    "\n",
    "# sigmoid activation function-\n",
    "# (array(0.43894547, dtype=float32), array(0.5463941, dtype=float32))"
   ]
  },
  {
   "cell_type": "code",
   "execution_count": 35,
   "id": "ff3a75d4-c742-4d83-b755-fe639471e1de",
   "metadata": {
    "id": "ff3a75d4-c742-4d83-b755-fe639471e1de"
   },
   "outputs": [],
   "source": [
    "del recon_images, mu, log_var"
   ]
  },
  {
   "cell_type": "code",
   "execution_count": null,
   "id": "3d18f7c4-8418-4aad-8cd1-90ef0bc2734f",
   "metadata": {
    "id": "3d18f7c4-8418-4aad-8cd1-90ef0bc2734f"
   },
   "outputs": [],
   "source": []
  },
  {
   "cell_type": "code",
   "execution_count": null,
   "id": "d23eb0b2-9459-40e7-9bc5-3a60b5ee5f7f",
   "metadata": {
    "id": "d23eb0b2-9459-40e7-9bc5-3a60b5ee5f7f"
   },
   "outputs": [],
   "source": []
  },
  {
   "cell_type": "code",
   "execution_count": 22,
   "id": "f11e6244-761a-4994-955c-1ced8fd23fde",
   "metadata": {
    "colab": {
     "base_uri": "https://localhost:8080/"
    },
    "id": "f11e6244-761a-4994-955c-1ced8fd23fde",
    "outputId": "9b3b0862-331c-4fbe-f6c2-a04c10e28d78"
   },
   "outputs": [
    {
     "name": "stdout",
     "output_type": "stream",
     "text": [
      "Adam optimizer with learning rate = 0.001 will be used\n"
     ]
    }
   ],
   "source": [
    "print(f\"Adam optimizer with learning rate = {learning_rate} will be used\")"
   ]
  },
  {
   "cell_type": "code",
   "execution_count": 23,
   "id": "8eb045e5-fa5b-4053-a590-d6e46009eef7",
   "metadata": {
    "id": "8eb045e5-fa5b-4053-a590-d6e46009eef7"
   },
   "outputs": [],
   "source": [
    "# Define gradient descent optimizer-\n",
    "optimizer = torch.optim.Adam(model.parameters(), lr = learning_rate)\n",
    "\n",
    "# optimizer = torch.optim.SGD(model.parameters(), lr = 0.01, momentum = 0.9, weight_decay = 5e-4)"
   ]
  },
  {
   "cell_type": "code",
   "execution_count": 24,
   "id": "787d9698-7999-4b7e-bfe3-3cb933254a17",
   "metadata": {
    "id": "787d9698-7999-4b7e-bfe3-3cb933254a17"
   },
   "outputs": [],
   "source": [
    "# Reconstruction loss-\n",
    "# criterion = nn.BCELoss(reduction = 'sum')\n",
    "# BCE cost function can only be used with sigmoid activation function in decoder's last\n",
    "# layer, because log function's domain is all real positive numbers!\n",
    "\n",
    "# Note: reduction='sum' is used for the BCELoss(). If you read the PyTorch\n",
    "# documentations, then this is specifically for the case of autoencoders only.\n",
    "\n",
    "# Also, MSE loss could also be used-\n",
    "criterion = nn.MSELoss(reduction = 'sum')\n",
    "# MSE cost function can be used with either sigmoid or tanh activation function\n",
    "# in decoder's last layer."
   ]
  },
  {
   "cell_type": "code",
   "execution_count": null,
   "id": "3861e73d-04a6-4915-9bef-1ba813f3a46d",
   "metadata": {
    "id": "3861e73d-04a6-4915-9bef-1ba813f3a46d"
   },
   "outputs": [],
   "source": []
  },
  {
   "cell_type": "code",
   "execution_count": null,
   "id": "59e964b6-1abe-4a5e-92c0-10390a440c3a",
   "metadata": {
    "id": "59e964b6-1abe-4a5e-92c0-10390a440c3a"
   },
   "outputs": [],
   "source": []
  },
  {
   "cell_type": "code",
   "execution_count": 25,
   "id": "f64c085e-aba2-4a72-b17d-3b4de26808b4",
   "metadata": {
    "id": "f64c085e-aba2-4a72-b17d-3b4de26808b4"
   },
   "outputs": [],
   "source": [
    "def total_loss(reconstruction_loss, mu, log_var, alpha = 1):\n",
    "    '''\n",
    "    Function to add reconstruction loss and KL-Divergence loss.\n",
    "    KL-Divergence = 0.5 * sum(1 + log(sigma^2) - mu^2 - sigma^2)\n",
    "    \n",
    "    Inputs:\n",
    "    1. recontruction loss - BCE or MSE loss\n",
    "    2. mu: mean from the latent vector\n",
    "    3. logvar: log variance from the latent vector\n",
    "    4. alpha (int): Hyperparameter to control the importance of reconstruction\n",
    "    loss vs KL-Divergence Loss.\n",
    "    '''\n",
    "    \n",
    "    # reconstruction_loss = F.binary_cross_entropy_with_logits(input, target)\n",
    "    \n",
    "    KLD = -0.5 * torch.sum(1 + log_var - mu.pow(2) - log_var.exp())\n",
    "    \n",
    "    # final_loss = reconstruction_loss + KLD\n",
    "    final_loss = (reconstruction_loss * alpha) + KLD\n",
    "    \n",
    "    return final_loss\n"
   ]
  },
  {
   "cell_type": "code",
   "execution_count": null,
   "id": "157ee991-37e0-4d84-a2aa-f3dfa6cddb15",
   "metadata": {
    "id": "157ee991-37e0-4d84-a2aa-f3dfa6cddb15"
   },
   "outputs": [],
   "source": []
  },
  {
   "cell_type": "code",
   "execution_count": null,
   "id": "a5aee2cd-b598-4731-9577-93103e6c8e88",
   "metadata": {
    "id": "a5aee2cd-b598-4731-9577-93103e6c8e88"
   },
   "outputs": [],
   "source": []
  },
  {
   "cell_type": "code",
   "execution_count": 26,
   "id": "03f9f120-28e9-4e4a-a3dd-98e1061a03a6",
   "metadata": {
    "id": "03f9f120-28e9-4e4a-a3dd-98e1061a03a6"
   },
   "outputs": [],
   "source": [
    "def train_one_epoch(model, dataloader, alpha):\n",
    "    \n",
    "    # Place model to device-\n",
    "    model.to(device)\n",
    "    \n",
    "    # Enable training mode-\n",
    "    model.train()\n",
    "    \n",
    "    running_loss = 0.0\n",
    "    \n",
    "    for i, data in tqdm(\n",
    "        enumerate(dataloader),\n",
    "        total = int(len(train_dataset) / dataloader.batch_size)\n",
    "        ):\n",
    "      \n",
    "        # Ignore labels-\n",
    "        data, _ = data\n",
    "\n",
    "        # Push data points to 'device'-\n",
    "        data = data.to(device)\n",
    "        \n",
    "        # Flatten input data to feed into a dense layer-\n",
    "        # data = data.view(data.size(0), -1)\n",
    "        \n",
    "        # Empty accumulated gradients-\n",
    "        optimizer.zero_grad()\n",
    "        \n",
    "        # Perform forward propagation-\n",
    "        reconstruction, mu, logvar = model(data)\n",
    "        \n",
    "        # Compute reconstruction loss-\n",
    "        recon_loss = criterion(reconstruction, data)\n",
    "        \n",
    "        # Compute final loss-\n",
    "        loss = total_loss(recon_loss, mu, logvar, alpha)\n",
    "        \n",
    "        # Update loss-\n",
    "        running_loss += loss.item()\n",
    "        \n",
    "        # Compute gradients wrt loss-\n",
    "        loss.backward()\n",
    "        \n",
    "        # Perform gradient descent-\n",
    "        optimizer.step()\n",
    "        \n",
    "    train_loss = running_loss / len(dataloader.dataset)\n",
    "    \n",
    "    return train_loss, mu, logvar\n"
   ]
  },
  {
   "cell_type": "code",
   "execution_count": null,
   "id": "a4126525-a389-4c83-8648-81e3dca98309",
   "metadata": {
    "id": "a4126525-a389-4c83-8648-81e3dca98309"
   },
   "outputs": [],
   "source": []
  },
  {
   "cell_type": "code",
   "execution_count": 27,
   "id": "9a030239-e970-424f-a1fe-b16690622673",
   "metadata": {
    "id": "9a030239-e970-424f-a1fe-b16690622673"
   },
   "outputs": [],
   "source": [
    "def validate_one_epoch(model, dataloader, alpha):\n",
    "    \n",
    "    # Place model to device-\n",
    "    model.to(device)\n",
    "    \n",
    "    # Enable evaluation mode-\n",
    "    model.eval()\n",
    "    \n",
    "    running_loss = 0.0\n",
    "    \n",
    "    with torch.no_grad():\n",
    "        for i, data in tqdm(\n",
    "            enumerate(dataloader),\n",
    "            total = int(len(test_dataset) / dataloader.batch_size)):\n",
    "          \n",
    "            # Ignore labels-\n",
    "            data, _ = data\n",
    "\n",
    "            # Push data points to 'device'-\n",
    "            data = data.to(device)\n",
    "            \n",
    "            # Flatten data to feed into a dense layer-\n",
    "            # data = data.view(data.size(0), -1)\n",
    "            \n",
    "            # Forward propagation-\n",
    "            reconstruction, mu, logvar = model(data)\n",
    "            \n",
    "            # Compute reconstruction loss-\n",
    "            recon_loss = criterion(reconstruction, data)\n",
    "            \n",
    "            # Compute total loss-\n",
    "            loss = total_loss(recon_loss, mu, logvar, alpha)\n",
    "            \n",
    "            # Update loss-\n",
    "            running_loss += loss.item()\n",
    "            \n",
    "    val_loss = running_loss / len(dataloader.dataset)\n",
    "    \n",
    "    return val_loss, mu, logvar\n"
   ]
  },
  {
   "cell_type": "code",
   "execution_count": null,
   "id": "df263f24-1a96-4b1b-b066-623f9e56f76f",
   "metadata": {
    "id": "df263f24-1a96-4b1b-b066-623f9e56f76f"
   },
   "outputs": [],
   "source": []
  },
  {
   "cell_type": "code",
   "execution_count": null,
   "id": "XpbMm0H8PPNT",
   "metadata": {
    "id": "XpbMm0H8PPNT"
   },
   "outputs": [],
   "source": [
    "# alpha = 1"
   ]
  },
  {
   "cell_type": "code",
   "execution_count": null,
   "id": "df7c4ede-b4e7-4dce-b342-78f0b7a6fec2",
   "metadata": {
    "id": "df7c4ede-b4e7-4dce-b342-78f0b7a6fec2"
   },
   "outputs": [],
   "source": [
    "# Sanity check-\n",
    "'''\n",
    "train_epoch_loss, mu_train, logvar_train = train_one_epoch(\n",
    "    model = model, dataloader = train_loader,\n",
    "    alpha = alpha\n",
    "    )\n",
    "'''"
   ]
  },
  {
   "cell_type": "code",
   "execution_count": null,
   "id": "36f2c85c-de95-4d4e-8878-fac91b832dd1",
   "metadata": {
    "id": "36f2c85c-de95-4d4e-8878-fac91b832dd1"
   },
   "outputs": [],
   "source": [
    "# Sanity check-\n",
    "'''\n",
    "val_epoch_loss, mu_val, logvar_val = validate_one_epoch(\n",
    "    model = model, dataloader = test_loader,\n",
    "    alpha = alpha\n",
    "    )\n",
    "'''"
   ]
  },
  {
   "cell_type": "code",
   "execution_count": null,
   "id": "3e999296-c9b0-44a7-b137-f4e1869c1889",
   "metadata": {
    "id": "3e999296-c9b0-44a7-b137-f4e1869c1889"
   },
   "outputs": [],
   "source": [
    "# print(f\"train loss = {train_loss:.4f} & test loss = {test_loss:.4f}\")"
   ]
  },
  {
   "cell_type": "code",
   "execution_count": null,
   "id": "3fc03399-f103-4744-be1d-3b5a318041bf",
   "metadata": {
    "id": "3fc03399-f103-4744-be1d-3b5a318041bf"
   },
   "outputs": [],
   "source": []
  },
  {
   "cell_type": "code",
   "execution_count": null,
   "id": "d764ab87-e775-469d-a423-5949ba2ef641",
   "metadata": {
    "id": "d764ab87-e775-469d-a423-5949ba2ef641"
   },
   "outputs": [],
   "source": []
  },
  {
   "cell_type": "markdown",
   "id": "006a0fe2-7dfd-48d8-acb7-d1d085536dbf",
   "metadata": {},
   "source": [
    "### Train VAE model with _early stopping criterion_:"
   ]
  },
  {
   "cell_type": "code",
   "execution_count": 28,
   "id": "bbfcaf9d-e34e-4518-8dd5-7b9415f4502b",
   "metadata": {
    "id": "bbfcaf9d-e34e-4518-8dd5-7b9415f4502b"
   },
   "outputs": [],
   "source": [
    "# Specify alpha - Hyperparameter to control the importance of reconstruction\n",
    "# loss vs KL-Divergence Loss-\n",
    "alpha = 1"
   ]
  },
  {
   "cell_type": "code",
   "execution_count": null,
   "id": "d5680d41-651e-41c9-84fd-5ba5dd845a04",
   "metadata": {
    "id": "d5680d41-651e-41c9-84fd-5ba5dd845a04"
   },
   "outputs": [],
   "source": []
  },
  {
   "cell_type": "code",
   "execution_count": 29,
   "id": "6fb16c17-d884-4d85-bc85-8df9c84c8de2",
   "metadata": {
    "id": "6fb16c17-d884-4d85-bc85-8df9c84c8de2"
   },
   "outputs": [],
   "source": [
    "# Python dict to contain training metrics-\n",
    "train_history = {}"
   ]
  },
  {
   "cell_type": "code",
   "execution_count": 30,
   "id": "nhMY1nkiElZG",
   "metadata": {
    "colab": {
     "base_uri": "https://localhost:8080/"
    },
    "id": "nhMY1nkiElZG",
    "outputId": "8271bc28-8202-4c1a-9dd3-8ae96aef3c67"
   },
   "outputs": [
    {
     "name": "stdout",
     "output_type": "stream",
     "text": [
      "Training VAE model for 50 epochs\n"
     ]
    }
   ],
   "source": [
    "print(f\"Training VAE model for {num_epochs} epochs\")"
   ]
  },
  {
   "cell_type": "code",
   "execution_count": null,
   "id": "3c14c399-d929-42df-bc3e-3b2535d8d94a",
   "metadata": {},
   "outputs": [],
   "source": []
  },
  {
   "cell_type": "code",
   "execution_count": 33,
   "id": "56c90876-0378-4d8e-9be1-6009eed16a8c",
   "metadata": {},
   "outputs": [],
   "source": [
    "# Initialize parameters for Early Stopping manual implementation-\n",
    "best_val_loss = 10000\n",
    "loc_patience = 0"
   ]
  },
  {
   "cell_type": "code",
   "execution_count": 32,
   "id": "c1d8c351-8a96-4b39-92a5-e069d00776bc",
   "metadata": {},
   "outputs": [],
   "source": [
    "# User input parameters for Early Stopping in manual implementation-\n",
    "minimum_delta = 0.001\n",
    "patience = 3"
   ]
  },
  {
   "cell_type": "code",
   "execution_count": null,
   "id": "aed8d3fe-5b0d-4b70-a9ee-af0ef372bf7f",
   "metadata": {},
   "outputs": [],
   "source": []
  },
  {
   "cell_type": "code",
   "execution_count": null,
   "id": "t0PibAAJEots",
   "metadata": {
    "id": "t0PibAAJEots"
   },
   "outputs": [],
   "source": []
  },
  {
   "cell_type": "code",
   "execution_count": 34,
   "id": "8a71980b-7296-4f21-83f4-9ffaf76f2234",
   "metadata": {
    "colab": {
     "base_uri": "https://localhost:8080/"
    },
    "id": "8a71980b-7296-4f21-83f4-9ffaf76f2234",
    "outputId": "c736616a-3bd5-4e4f-b174-1ee88db0c616"
   },
   "outputs": [
    {
     "name": "stderr",
     "output_type": "stream",
     "text": [
      "100%|██████████████████████████████████████████████████████████████████████████████| 1875/1875 [01:01<00:00, 30.72it/s]\n",
      "313it [00:04, 67.02it/s]                                                                                               \n"
     ]
    },
    {
     "name": "stdout",
     "output_type": "stream",
     "text": [
      "Epoch = 1; train loss = 613.5191,test loss = 584.5461, train_logvar = -1.985159, train_mu = -0.052829, val_logvar = -1.907856 & val_mu = -0.064855\n",
      "Saving model with lowest val_loss = 584.5461\n",
      "\n"
     ]
    },
    {
     "name": "stderr",
     "output_type": "stream",
     "text": [
      "100%|██████████████████████████████████████████████████████████████████████████████| 1875/1875 [00:55<00:00, 33.55it/s]\n",
      "313it [00:04, 68.15it/s]                                                                                               \n"
     ]
    },
    {
     "name": "stdout",
     "output_type": "stream",
     "text": [
      "Epoch = 2; train loss = 574.5083,test loss = 560.8862, train_logvar = -5.106112, train_mu = 0.450328, val_logvar = -3.919033 & val_mu = 0.189184\n",
      "Saving model with lowest val_loss = 560.8862\n",
      "\n"
     ]
    },
    {
     "name": "stderr",
     "output_type": "stream",
     "text": [
      "100%|██████████████████████████████████████████████████████████████████████████████| 1875/1875 [00:56<00:00, 33.46it/s]\n",
      "313it [00:04, 70.58it/s]                                                                                               \n"
     ]
    },
    {
     "name": "stdout",
     "output_type": "stream",
     "text": [
      "Epoch = 3; train loss = 542.8471,test loss = 538.3238, train_logvar = -4.355397, train_mu = 0.227233, val_logvar = -4.242508 & val_mu = 0.143113\n",
      "Saving model with lowest val_loss = 538.3238\n",
      "\n"
     ]
    },
    {
     "name": "stderr",
     "output_type": "stream",
     "text": [
      "100%|██████████████████████████████████████████████████████████████████████████████| 1875/1875 [00:52<00:00, 35.77it/s]\n",
      "313it [00:04, 77.36it/s]                                                                                               \n"
     ]
    },
    {
     "name": "stdout",
     "output_type": "stream",
     "text": [
      "Epoch = 4; train loss = 528.2176,test loss = 529.1236, train_logvar = -4.122744, train_mu = 0.039334, val_logvar = -4.156411 & val_mu = -0.012543\n",
      "Saving model with lowest val_loss = 529.1236\n",
      "\n"
     ]
    },
    {
     "name": "stderr",
     "output_type": "stream",
     "text": [
      "100%|██████████████████████████████████████████████████████████████████████████████| 1875/1875 [00:57<00:00, 32.69it/s]\n",
      "313it [00:05, 56.84it/s]                                                                                               \n"
     ]
    },
    {
     "name": "stdout",
     "output_type": "stream",
     "text": [
      "Epoch = 5; train loss = 521.9878,test loss = 525.0874, train_logvar = -4.575462, train_mu = 0.051818, val_logvar = -4.276489 & val_mu = -0.036700\n",
      "Saving model with lowest val_loss = 525.0874\n",
      "\n"
     ]
    },
    {
     "name": "stderr",
     "output_type": "stream",
     "text": [
      "100%|██████████████████████████████████████████████████████████████████████████████| 1875/1875 [00:58<00:00, 32.26it/s]\n",
      "313it [00:05, 60.57it/s]                                                                                               \n"
     ]
    },
    {
     "name": "stdout",
     "output_type": "stream",
     "text": [
      "Epoch = 6; train loss = 517.8629,test loss = 520.4982, train_logvar = -4.654249, train_mu = 0.014441, val_logvar = -4.293824 & val_mu = -0.035627\n",
      "Saving model with lowest val_loss = 520.4982\n",
      "\n"
     ]
    },
    {
     "name": "stderr",
     "output_type": "stream",
     "text": [
      "100%|██████████████████████████████████████████████████████████████████████████████| 1875/1875 [00:58<00:00, 32.21it/s]\n",
      "313it [00:04, 71.52it/s]                                                                                               \n"
     ]
    },
    {
     "name": "stdout",
     "output_type": "stream",
     "text": [
      "Epoch = 7; train loss = 22762245551.5273,test loss = 955.7345, train_logvar = -9.392807, train_mu = 0.167750, val_logvar = -8.033805 & val_mu = -0.054466\n"
     ]
    },
    {
     "name": "stderr",
     "output_type": "stream",
     "text": [
      "100%|██████████████████████████████████████████████████████████████████████████████| 1875/1875 [00:56<00:00, 33.31it/s]\n",
      "313it [00:04, 76.56it/s]                                                                                               \n"
     ]
    },
    {
     "name": "stdout",
     "output_type": "stream",
     "text": [
      "Epoch = 8; train loss = 32951.8717,test loss = 813.9869, train_logvar = -8.310115, train_mu = -0.027313, val_logvar = -8.063334 & val_mu = -0.025932\n"
     ]
    },
    {
     "name": "stderr",
     "output_type": "stream",
     "text": [
      "100%|██████████████████████████████████████████████████████████████████████████████| 1875/1875 [00:55<00:00, 33.87it/s]\n",
      "313it [00:05, 59.63it/s]                                                                                               "
     ]
    },
    {
     "name": "stdout",
     "output_type": "stream",
     "text": [
      "Epoch = 9; train loss = 19033.4180,test loss = 724.7307, train_logvar = -9.739213, train_mu = 0.145077, val_logvar = -8.056046 & val_mu = -0.020834\n",
      "\n",
      "'EarlyStopping' called!\n",
      "\n"
     ]
    },
    {
     "name": "stderr",
     "output_type": "stream",
     "text": [
      "\n"
     ]
    }
   ],
   "source": [
    "for epoch in range(1, num_epochs + 1):\n",
    "    # Manual early stopping implementation-\n",
    "    if loc_patience >= patience:\n",
    "        print(\"\\n'EarlyStopping' called!\\n\")\n",
    "        break\n",
    "        \n",
    "    # Train model for 1 epoch-\n",
    "    train_epoch_loss, mu_train, logvar_train = train_one_epoch(\n",
    "        model = model, dataloader = train_loader,\n",
    "        alpha = alpha\n",
    "    )\n",
    "    \n",
    "    # Get validation metrics-\n",
    "    val_epoch_loss, mu_val, logvar_val = validate_one_epoch(\n",
    "        model = model, dataloader = test_loader,\n",
    "        alpha = alpha\n",
    "    )\n",
    "    \n",
    "    # Retrieve model performance metrics-\n",
    "    logvar_train = logvar_train.mean().detach().cpu().numpy()\n",
    "    logvar_val = logvar_val.mean().detach().cpu().numpy()\n",
    "    mu_train = mu_train.mean().detach().cpu().numpy()\n",
    "    mu_val = mu_val.mean().detach().cpu().numpy()\n",
    "\n",
    "    # Store model performance metrics in Python3 dict-\n",
    "    train_history[epoch] = {\n",
    "        'train_loss': train_epoch_loss,\n",
    "        'val_loss': val_epoch_loss,\n",
    "        'train_logvar': logvar_train,\n",
    "        'val_logvar': logvar_val,\n",
    "        'train_mu': mu_train,\n",
    "        'val_mu': mu_val\n",
    "    }\n",
    "\n",
    "    print(f\"Epoch = {epoch}; train loss = {train_epoch_loss:.4f},\"\n",
    "    f\"test loss = {val_epoch_loss:.4f}, train_logvar = {logvar_train:.6f}\"\n",
    "    f\", train_mu = {mu_train:.6f}, val_logvar = {logvar_val:.6f} &\"\n",
    "    f\" val_mu = {mu_val:.6f}\")\n",
    "    \n",
    "    \n",
    "    # Code for manual Early Stopping:\n",
    "    # if np.abs(val_loss < best_val_loss) >= minimum_delta:\n",
    "    if (val_epoch_loss < best_val_loss) and \\\n",
    "    (np.abs(val_epoch_loss - best_val_loss) >= minimum_delta):\n",
    "\n",
    "        # update 'best_val_loss' variable to lowest loss encountered so far-\n",
    "        best_val_loss = val_epoch_loss\n",
    "        \n",
    "        # reset 'loc_patience' variable-\n",
    "        loc_patience = 0\n",
    "\n",
    "        print(f\"Saving model with lowest val_loss = {val_epoch_loss:.4f}\\n\")\n",
    "        \n",
    "        # Save trained model with 'best' validation accuracy-\n",
    "        torch.save(model.state_dict(), \"VAE_LeNet5_MNIST_best_model.pth\")\n",
    "        \n",
    "    else:  # there is no improvement in monitored metric 'val_loss'\n",
    "        loc_patience += 1  # number of epochs without any improvement\n",
    "        \n",
    "    "
   ]
  },
  {
   "cell_type": "code",
   "execution_count": null,
   "id": "tqNNvrFjGXLn",
   "metadata": {
    "id": "tqNNvrFjGXLn"
   },
   "outputs": [],
   "source": []
  },
  {
   "cell_type": "code",
   "execution_count": null,
   "id": "156dec76-37a6-4791-b65f-302a0d7cc167",
   "metadata": {
    "id": "156dec76-37a6-4791-b65f-302a0d7cc167"
   },
   "outputs": [],
   "source": []
  },
  {
   "cell_type": "code",
   "execution_count": 48,
   "id": "e6b7b73c-da68-4d41-95a1-d88bc1a85e1b",
   "metadata": {
    "id": "e6b7b73c-da68-4d41-95a1-d88bc1a85e1b"
   },
   "outputs": [],
   "source": [
    "# Save trained VAE model's weights-\n",
    "# torch.save(model.state_dict(), 'VAE_LeNet5_MNIST_Trained_Weights.pth')"
   ]
  },
  {
   "cell_type": "code",
   "execution_count": null,
   "id": "d39c6ca2-552c-42b9-bd55-f7a0da7f076b",
   "metadata": {
    "id": "d39c6ca2-552c-42b9-bd55-f7a0da7f076b"
   },
   "outputs": [],
   "source": [
    "# Load trained weights from before-\n",
    "# loaded_model = VAE_Dense(latent_space = 5).to(device)\n",
    "# loaded_model.load_state_dict(torch.load('VAE_LeNet5_MNIST_Trained_Weights.pth', map_location = torch.device('cpu')))"
   ]
  },
  {
   "cell_type": "code",
   "execution_count": null,
   "id": "32ceef18-bf04-40e0-a3b9-09332af446d2",
   "metadata": {
    "id": "32ceef18-bf04-40e0-a3b9-09332af446d2"
   },
   "outputs": [],
   "source": [
    "# Define gradient descent optimizer-\n",
    "# optimizer = torch.optim.Adam(loaded_model.parameters(), lr = learning_rate)"
   ]
  },
  {
   "cell_type": "code",
   "execution_count": null,
   "id": "c0494cc3-3059-46e7-ab85-c4d04fd37960",
   "metadata": {
    "id": "c0494cc3-3059-46e7-ab85-c4d04fd37960"
   },
   "outputs": [],
   "source": []
  },
  {
   "cell_type": "code",
   "execution_count": 35,
   "id": "f7ede4f1-a757-4c47-91eb-280828a40489",
   "metadata": {
    "id": "f7ede4f1-a757-4c47-91eb-280828a40489"
   },
   "outputs": [],
   "source": [
    "\n",
    "import pickle\n",
    "\n",
    "# Save training history as pickle file-\n",
    "with open(\"VAE_LeNet5_MNIST_training_history.pkl\", \"wb\") as file:\n",
    "    pickle.dump(train_history, file)"
   ]
  },
  {
   "cell_type": "code",
   "execution_count": null,
   "id": "3b855080-7263-45a8-8c47-f6b94db50cf4",
   "metadata": {
    "id": "3b855080-7263-45a8-8c47-f6b94db50cf4"
   },
   "outputs": [],
   "source": [
    "'''\n",
    "# Load training history from pickle file-\n",
    "with open(\"VAE_LeNet5_MNIST_training_history.pkl\", \"rb\") as file:\n",
    "    training_history_lr_scheduler = pickle.load(file)\n",
    "'''"
   ]
  },
  {
   "cell_type": "code",
   "execution_count": null,
   "id": "e6cb576e-d042-476c-851e-8e5bc8ab833b",
   "metadata": {
    "id": "e6cb576e-d042-476c-851e-8e5bc8ab833b"
   },
   "outputs": [],
   "source": []
  },
  {
   "cell_type": "code",
   "execution_count": 36,
   "id": "8abd0a72-b722-4b88-8928-6b3e30f8b07f",
   "metadata": {
    "colab": {
     "base_uri": "https://localhost:8080/",
     "height": 444
    },
    "id": "8abd0a72-b722-4b88-8928-6b3e30f8b07f",
    "outputId": "a5e64ef5-e91e-40ea-fbc3-cf0913722c81"
   },
   "outputs": [
    {
     "data": {
      "image/png": "[encoded data removed]",
      "text/plain": [
       "<Figure size 648x504 with 1 Axes>"
      ]
     },
     "metadata": {
      "needs_background": "light"
     },
     "output_type": "display_data"
    }
   ],
   "source": [
    "# VAE Training Visualization-\n",
    "plt.figure(figsize = (9, 7))\n",
    "plt.plot([train_history[x]['train_loss'] for x in train_history.keys()], label = 'train_loss')\n",
    "plt.plot([train_history[x]['val_loss'] for x in train_history.keys()], label = 'val_loss')\n",
    "plt.legend(loc = 'best')\n",
    "plt.title(\"VAE-LeNet5: MNIST Training Visualizations\")\n",
    "plt.show()"
   ]
  },
  {
   "cell_type": "code",
   "execution_count": 37,
   "id": "cde9e68e-ab50-44d0-b518-66f43d5859c2",
   "metadata": {
    "colab": {
     "base_uri": "https://localhost:8080/",
     "height": 444
    },
    "id": "cde9e68e-ab50-44d0-b518-66f43d5859c2",
    "outputId": "b5e86496-1ec7-4677-b71b-363fadc04281"
   },
   "outputs": [
    {
     "data": {
      "image/png": "[encoded data removed]",
      "text/plain": [
       "<Figure size 648x504 with 1 Axes>"
      ]
     },
     "metadata": {
      "needs_background": "light"
     },
     "output_type": "display_data"
    }
   ],
   "source": [
    "# VAE Training Visualization-\n",
    "plt.figure(figsize = (9, 7))\n",
    "plt.plot([train_history[x]['train_logvar'] for x in train_history.keys()], label = 'train_logvar')\n",
    "plt.plot([train_history[x]['val_logvar'] for x in train_history.keys()], label = 'val_logvar')\n",
    "plt.legend(loc = 'best')\n",
    "plt.title(\"VAE-LeNet5: MNIST (log_var) Training Visualizations\")\n",
    "plt.show()"
   ]
  },
  {
   "cell_type": "code",
   "execution_count": 38,
   "id": "7GzHc6tKUXMc",
   "metadata": {
    "colab": {
     "base_uri": "https://localhost:8080/",
     "height": 444
    },
    "id": "7GzHc6tKUXMc",
    "outputId": "3d77442d-a79e-42dd-cbc7-df20f2eff760"
   },
   "outputs": [
    {
     "data": {
      "image/png": "[encoded data removed]",
      "text/plain": [
       "<Figure size 648x504 with 1 Axes>"
      ]
     },
     "metadata": {
      "needs_background": "light"
     },
     "output_type": "display_data"
    }
   ],
   "source": [
    "# VAE Training Visualization-\n",
    "plt.figure(figsize = (9, 7))\n",
    "plt.plot([train_history[x]['train_mu'] for x in train_history.keys()], label = 'mu_train')\n",
    "plt.plot([train_history[x]['val_mu'] for x in train_history.keys()], label = 'mu_val')\n",
    "plt.legend(loc = 'best')\n",
    "plt.title(\"VAE-LeNet5: MNIST (mu) Training Visualizations\")\n",
    "plt.show()"
   ]
  },
  {
   "cell_type": "code",
   "execution_count": null,
   "id": "ilazeVy0UpIz",
   "metadata": {
    "id": "ilazeVy0UpIz"
   },
   "outputs": [],
   "source": []
  },
  {
   "cell_type": "code",
   "execution_count": null,
   "id": "0cc651e6-a817-44f9-b004-b9ac1970f5d6",
   "metadata": {
    "id": "0cc651e6-a817-44f9-b004-b9ac1970f5d6"
   },
   "outputs": [],
   "source": []
  },
  {
   "cell_type": "markdown",
   "id": "0698a9e4-67bf-41a9-827f-9cb3a61149cc",
   "metadata": {
    "id": "0698a9e4-67bf-41a9-827f-9cb3a61149cc"
   },
   "source": [
    "### Reconstruct/Generate images using _trained_ VAE model:"
   ]
  },
  {
   "cell_type": "code",
   "execution_count": 39,
   "id": "86e135bd-6f94-4cf6-a510-1f982577d6e2",
   "metadata": {
    "id": "86e135bd-6f94-4cf6-a510-1f982577d6e2"
   },
   "outputs": [],
   "source": [
    "images = images.to(device)"
   ]
  },
  {
   "cell_type": "code",
   "execution_count": 40,
   "id": "f209a7f7-5678-44a8-85ef-107a3ea3935a",
   "metadata": {
    "id": "f209a7f7-5678-44a8-85ef-107a3ea3935a"
   },
   "outputs": [],
   "source": [
    "# Perform forward propagation-\n",
    "recon_images, mu, log_var = model(images)"
   ]
  },
  {
   "cell_type": "code",
   "execution_count": 41,
   "id": "rETVI8LXU1mS",
   "metadata": {
    "id": "rETVI8LXU1mS"
   },
   "outputs": [],
   "source": [
    "recon_images = recon_images.cpu().detach().numpy()\n",
    "mu = mu.cpu().detach().numpy()\n",
    "log_var = log_var.cpu().detach().numpy()"
   ]
  },
  {
   "cell_type": "code",
   "execution_count": 42,
   "id": "2c91d879-658f-41be-904a-a15b174c6193",
   "metadata": {
    "colab": {
     "base_uri": "https://localhost:8080/"
    },
    "id": "2c91d879-658f-41be-904a-a15b174c6193",
    "outputId": "07027aee-4d4e-4cf2-bf16-700c316dbb48"
   },
   "outputs": [
    {
     "data": {
      "text/plain": [
       "((32, 1, 28, 28), (32, 3), (32, 3))"
      ]
     },
     "execution_count": 42,
     "metadata": {},
     "output_type": "execute_result"
    }
   ],
   "source": [
    "recon_images.shape, mu.shape, log_var.shape"
   ]
  },
  {
   "cell_type": "code",
   "execution_count": null,
   "id": "9ddb7ac2-7706-4461-89c3-edfbb693c8a2",
   "metadata": {
    "id": "9ddb7ac2-7706-4461-89c3-edfbb693c8a2"
   },
   "outputs": [],
   "source": []
  },
  {
   "cell_type": "code",
   "execution_count": 43,
   "id": "5CEmRaxOnAeF",
   "metadata": {
    "id": "5CEmRaxOnAeF"
   },
   "outputs": [],
   "source": [
    "# Unnormalize images-\n",
    "recon_images = recon_images / 2 + 0.5\n",
    "# recon_images = np.transpose(recon_images, (0, 2, 3, 1))"
   ]
  },
  {
   "cell_type": "code",
   "execution_count": 44,
   "id": "kyg3MCSunFmt",
   "metadata": {
    "colab": {
     "base_uri": "https://localhost:8080/"
    },
    "id": "kyg3MCSunFmt",
    "outputId": "2adc6aff-dcf9-4178-e19f-9c12b69b9847"
   },
   "outputs": [
    {
     "data": {
      "text/plain": [
       "(32, 1, 28, 28)"
      ]
     },
     "execution_count": 44,
     "metadata": {},
     "output_type": "execute_result"
    }
   ],
   "source": [
    "recon_images.shape"
   ]
  },
  {
   "cell_type": "code",
   "execution_count": 46,
   "id": "JGJCTEx8nKhw",
   "metadata": {
    "colab": {
     "base_uri": "https://localhost:8080/",
     "height": 374
    },
    "id": "JGJCTEx8nKhw",
    "outputId": "6e09f239-e1fb-4a7f-9e41-747b61fefed6"
   },
   "outputs": [
    {
     "data": {
      "image/png": "[encoded data removed]",
      "text/plain": [
       "<Figure size 360x216 with 1 Axes>"
      ]
     },
     "metadata": {
      "needs_background": "light"
     },
     "output_type": "display_data"
    }
   ],
   "source": [
    "plt.figure(figsize = (5, 3))\n",
    "plt.imshow(recon_images[0][0], cmap = 'gray')\n",
    "plt.show()\n"
   ]
  },
  {
   "cell_type": "code",
   "execution_count": 47,
   "id": "yAvxGKUHnON-",
   "metadata": {
    "colab": {
     "base_uri": "https://localhost:8080/",
     "height": 274
    },
    "id": "yAvxGKUHnON-",
    "outputId": "37c3f93c-e86f-4fc5-dabd-3921d386aa3b"
   },
   "outputs": [
    {
     "data": {
      "image/png": "[encoded data removed]",
      "text/plain": [
       "<Figure size 432x288 with 10 Axes>"
      ]
     },
     "metadata": {
      "needs_background": "light"
     },
     "output_type": "display_data"
    }
   ],
   "source": [
    "# Visualize 10 images from reconstructions-\n",
    "for i in range(10):\n",
    "    plt.subplot(2, 5, i + 1)    # 2 rows & 5 columns\n",
    "    plt.imshow(recon_images[i][0], cmap = 'gray')\n",
    "    \n",
    "plt.suptitle(\"Reconstructed MNIST training images\")\n",
    "plt.show()\n"
   ]
  },
  {
   "cell_type": "code",
   "execution_count": null,
   "id": "CI-kZOL5nWeM",
   "metadata": {
    "id": "CI-kZOL5nWeM"
   },
   "outputs": [],
   "source": []
  },
  {
   "cell_type": "code",
   "execution_count": null,
   "id": "wKGifaJgh9MQ",
   "metadata": {
    "id": "wKGifaJgh9MQ"
   },
   "outputs": [],
   "source": []
  },
  {
   "cell_type": "code",
   "execution_count": 48,
   "id": "077b2f05-e594-43ff-961b-eb730b28f150",
   "metadata": {
    "colab": {
     "base_uri": "https://localhost:8080/",
     "height": 495
    },
    "id": "077b2f05-e594-43ff-961b-eb730b28f150",
    "outputId": "5c7696bc-0b1a-4c51-900e-578a3da7564a"
   },
   "outputs": [
    {
     "data": {
      "image/png": "[encoded data removed]",
      "text/plain": [
       "<Figure size 432x288 with 10 Axes>"
      ]
     },
     "metadata": {
      "needs_background": "light"
     },
     "output_type": "display_data"
    }
   ],
   "source": [
    "# Print 10 images from training set-\n",
    "for i in range(10):\n",
    "    plt.subplot(2, 5, i + 1)    # 2 rows & 5 columns\n",
    "    plt.imshow(images[i][0].cpu(), cmap = 'gray')\n",
    "    \n",
    "plt.suptitle(\"Sample MNIST training images\")\n",
    "plt.show()"
   ]
  },
  {
   "cell_type": "code",
   "execution_count": 49,
   "id": "dfc2d1c5-20d3-435f-9783-5b8b8ced6e60",
   "metadata": {
    "id": "dfc2d1c5-20d3-435f-9783-5b8b8ced6e60"
   },
   "outputs": [
    {
     "data": {
      "image/png": "[encoded data removed]",
      "text/plain": [
       "<Figure size 432x288 with 10 Axes>"
      ]
     },
     "metadata": {
      "needs_background": "light"
     },
     "output_type": "display_data"
    }
   ],
   "source": [
    "# Print 10 images from reconstructions-\n",
    "for i in range(10):\n",
    "    plt.subplot(2, 5, i + 1)    # 2 rows & 5 columns\n",
    "    # plt.imshow(recon_images[i][0].cpu().detach().numpy(), cmap = 'gray')     # '0' to access first channel\n",
    "    plt.imshow(recon_images[i][0], cmap = 'gray')\n",
    "    \n",
    "plt.suptitle(\"Sample MNIST reconstructed images\")\n",
    "plt.show()"
   ]
  },
  {
   "cell_type": "code",
   "execution_count": null,
   "id": "989feaa8-4847-4cfd-af77-60a81292bb27",
   "metadata": {
    "id": "989feaa8-4847-4cfd-af77-60a81292bb27"
   },
   "outputs": [],
   "source": []
  },
  {
   "cell_type": "code",
   "execution_count": 50,
   "id": "b2e60344-3291-4f80-a284-9481bcf7f5ec",
   "metadata": {
    "id": "b2e60344-3291-4f80-a284-9481bcf7f5ec"
   },
   "outputs": [
    {
     "data": {
      "image/png": "[encoded data removed]",
      "text/plain": [
       "<Figure size 648x504 with 30 Axes>"
      ]
     },
     "metadata": {
      "needs_background": "light"
     },
     "output_type": "display_data"
    }
   ],
   "source": [
    "# Print 30 images from reconstructions-\n",
    "plt.figure(figsize = (9, 7))\n",
    "\n",
    "for i in range(30):\n",
    "    plt.subplot(10, 3, i + 1)    # 10 rows & 3 columns\n",
    "    # plt.imshow(recon_images[i][0].cpu().detach().numpy(), cmap = 'gray')     # '0' to access first channel\n",
    "    plt.imshow(recon_images[i][0], cmap = 'gray')\n",
    "    \n",
    "plt.suptitle(\"Sample MNIST reconstructed images\")\n",
    "plt.show()"
   ]
  },
  {
   "cell_type": "code",
   "execution_count": null,
   "id": "a7f6e0cd-d576-47fc-82bf-4a842b801c60",
   "metadata": {
    "id": "a7f6e0cd-d576-47fc-82bf-4a842b801c60"
   },
   "outputs": [],
   "source": []
  },
  {
   "cell_type": "code",
   "execution_count": null,
   "id": "437cf8ed-8713-4146-a62a-07481ca3063a",
   "metadata": {
    "id": "437cf8ed-8713-4146-a62a-07481ca3063a"
   },
   "outputs": [],
   "source": []
  },
  {
   "cell_type": "code",
   "execution_count": null,
   "id": "0995446c-00be-49e0-a38f-f4209efdaee5",
   "metadata": {},
   "outputs": [],
   "source": [
    "for images, _ in train_loader:\n",
    "    images = images.to(device)\n",
    "    \n",
    "    recon_images_n, mu_n, log_var_n = model(images)\n",
    "    recon_images_n = recon_images_n.detach().cpu().numpy()\n",
    "    mu_n = mu_n.detach().cpu().numpy()\n",
    "    log_var_n = log_var_n.detach().cpu().numpy()\n",
    "\n",
    "    recon_images = np.concatenate((recon_images, recon_images_n), axis = 0)\n",
    "    mu = np.concatenate((mu, mu_n), axis = 0)\n",
    "    log_var = np.concatenate((log_var, log_var_n), axis = 0)\n",
    "    print(f\"recon_images.shape: {recon_images.shape}, mu.shape: {mu.shape}\"\n",
    "         f\" & log_var.shape: {log_var.shape}\")"
   ]
  },
  {
   "cell_type": "code",
   "execution_count": null,
   "id": "3dc2565f-7a56-42b4-b6ff-5a01af516be3",
   "metadata": {},
   "outputs": [],
   "source": []
  },
  {
   "cell_type": "code",
   "execution_count": null,
   "id": "238fa76d-efe4-4954-a03b-949355c7c2ee",
   "metadata": {
    "id": "238fa76d-efe4-4954-a03b-949355c7c2ee"
   },
   "outputs": [],
   "source": []
  },
  {
   "cell_type": "code",
   "execution_count": null,
   "id": "f8ff5514-6fba-4f01-ab61-eff8d34efa60",
   "metadata": {
    "id": "f8ff5514-6fba-4f01-ab61-eff8d34efa60"
   },
   "outputs": [],
   "source": [
    "# Get a batch of training data & it's corresponding labels-\n",
    "images, labels = next(iter(train_loader))\n",
    "images = images.to(device)"
   ]
  },
  {
   "cell_type": "code",
   "execution_count": null,
   "id": "bfb9c311-1fe5-4033-ab4c-6f883e92f552",
   "metadata": {
    "id": "bfb9c311-1fe5-4033-ab4c-6f883e92f552"
   },
   "outputs": [],
   "source": [
    "# Perform forward propagation-\n",
    "recon_images, mu, log_var = model(images)"
   ]
  },
  {
   "cell_type": "code",
   "execution_count": null,
   "id": "d9bd9d44-b946-4a9f-9ad0-50cfde19494a",
   "metadata": {
    "id": "d9bd9d44-b946-4a9f-9ad0-50cfde19494a"
   },
   "outputs": [],
   "source": [
    "# FOR CUDA/GPU-\n",
    "recon_images = recon_images.detach().cpu().numpy()\n",
    "mu = mu.detach().cpu().numpy()\n",
    "log_var = log_var.detach().cpu().numpy()"
   ]
  },
  {
   "cell_type": "code",
   "execution_count": 51,
   "id": "778d8199-645b-4fb4-98db-bbc7b5a4feb7",
   "metadata": {
    "id": "778d8199-645b-4fb4-98db-bbc7b5a4feb7"
   },
   "outputs": [
    {
     "data": {
      "text/plain": [
       "((32, 1, 28, 28), (32, 3), (32, 3))"
      ]
     },
     "execution_count": 51,
     "metadata": {},
     "output_type": "execute_result"
    }
   ],
   "source": [
    "recon_images.shape, mu.shape, log_var.shape"
   ]
  },
  {
   "cell_type": "code",
   "execution_count": null,
   "id": "c0d6bfe6-e953-455f-9208-1750f09ceefa",
   "metadata": {
    "id": "c0d6bfe6-e953-455f-9208-1750f09ceefa"
   },
   "outputs": [],
   "source": []
  },
  {
   "cell_type": "code",
   "execution_count": null,
   "id": "4de7d3c9-a4e2-4c24-a2eb-7741c201842b",
   "metadata": {
    "id": "4de7d3c9-a4e2-4c24-a2eb-7741c201842b"
   },
   "outputs": [],
   "source": [
    "# !pip install umap-learn"
   ]
  },
  {
   "cell_type": "code",
   "execution_count": null,
   "id": "6c4bb058-331d-4d58-8e82-c9dcbb1795fa",
   "metadata": {
    "id": "6c4bb058-331d-4d58-8e82-c9dcbb1795fa"
   },
   "outputs": [],
   "source": [
    "# import umap\n",
    "# import umap.umap_ as umap"
   ]
  },
  {
   "cell_type": "code",
   "execution_count": null,
   "id": "435badc7-efbf-402a-a5c2-c9ae67a8fe05",
   "metadata": {
    "id": "435badc7-efbf-402a-a5c2-c9ae67a8fe05"
   },
   "outputs": [],
   "source": [
    "'''\n",
    "reducer = umap.UMAP(\n",
    "    n_neighbors = 15,\n",
    "    n_components = 3\n",
    ")\n",
    "'''"
   ]
  },
  {
   "cell_type": "code",
   "execution_count": 52,
   "id": "aa4d4778-02a6-452c-ab56-4e9bbea85c2e",
   "metadata": {
    "colab": {
     "base_uri": "https://localhost:8080/"
    },
    "id": "aa4d4778-02a6-452c-ab56-4e9bbea85c2e",
    "outputId": "38255243-0c4e-4df7-deea-6a010f9c9897"
   },
   "outputs": [],
   "source": [
    "# embedding_mu = reducer.fit_transform(mu)\n",
    "# embedding_mu.shape"
   ]
  },
  {
   "cell_type": "code",
   "execution_count": null,
   "id": "6cacf19a-cba4-4556-8c0c-8633d72bfb96",
   "metadata": {
    "id": "6cacf19a-cba4-4556-8c0c-8633d72bfb96"
   },
   "outputs": [],
   "source": []
  },
  {
   "cell_type": "code",
   "execution_count": null,
   "id": "d32212df-3210-4c53-b187-39c63f931f63",
   "metadata": {
    "id": "d32212df-3210-4c53-b187-39c63f931f63"
   },
   "outputs": [],
   "source": [
    "'''\n",
    "reducer_logvar = umap.UMAP(\n",
    "    n_neighbors = 15,\n",
    "    n_components = 3\n",
    ")\n",
    "'''"
   ]
  },
  {
   "cell_type": "code",
   "execution_count": null,
   "id": "c3149d53-467c-44ea-9a6b-556156a94351",
   "metadata": {
    "colab": {
     "base_uri": "https://localhost:8080/"
    },
    "id": "c3149d53-467c-44ea-9a6b-556156a94351",
    "outputId": "385bd428-6dd0-4af2-d92d-c68efb7d3e08"
   },
   "outputs": [],
   "source": [
    "# embedding_logvar = reducer.fit_transform(log_var)\n",
    "# embedding_logvar.shape"
   ]
  },
  {
   "cell_type": "code",
   "execution_count": null,
   "id": "ea22e171-9c9e-40fb-9135-ad384b9a9010",
   "metadata": {
    "id": "ea22e171-9c9e-40fb-9135-ad384b9a9010"
   },
   "outputs": [],
   "source": []
  },
  {
   "cell_type": "code",
   "execution_count": 54,
   "id": "f01d7be3-0f02-4c21-bad3-7b1c57697db6",
   "metadata": {
    "id": "f01d7be3-0f02-4c21-bad3-7b1c57697db6"
   },
   "outputs": [],
   "source": [
    "import plotly\n",
    "import plotly.express as px"
   ]
  },
  {
   "cell_type": "code",
   "execution_count": null,
   "id": "eb5b5e20-804d-45e2-9a95-eb1c6a2a2df6",
   "metadata": {},
   "outputs": [],
   "source": []
  },
  {
   "cell_type": "code",
   "execution_count": null,
   "id": "6c503f89-57d5-4a66-84a7-ce1280e70f91",
   "metadata": {},
   "outputs": [],
   "source": [
    "# Visualize latent space for 'mean'-\n",
    "fig = px.scatter_3d(\n",
    "    x = mu[:, 0], y = mu[:, 1],\n",
    "    z = mu[:, 2],\n",
    "    # color = y_train\n",
    "    )\n",
    "fig.show()"
   ]
  },
  {
   "cell_type": "code",
   "execution_count": null,
   "id": "94818963-9269-478a-9fe3-e0666eb4141d",
   "metadata": {
    "id": "94818963-9269-478a-9fe3-e0666eb4141d"
   },
   "outputs": [],
   "source": [
    "'''\n",
    "# Visualize latent space for 'mean'-\n",
    "fig = px.scatter_3d(\n",
    "    x = embedding_mu[:, 0], y = embedding_mu[:, 1],\n",
    "    z = embedding_mu[:, 2],\n",
    "    # color = y_train\n",
    "    )\n",
    "fig.show()\n",
    "'''"
   ]
  },
  {
   "cell_type": "code",
   "execution_count": null,
   "id": "ab6d51c2-30a3-410e-8483-7654149aa9ee",
   "metadata": {},
   "outputs": [],
   "source": []
  },
  {
   "cell_type": "code",
   "execution_count": null,
   "id": "3e15c4fa-58e1-4f38-a4d9-103141464317",
   "metadata": {},
   "outputs": [],
   "source": [
    "# Visualize latent space for 'log variance'-\n",
    "fig = px.scatter_3d(\n",
    "    x = log_var[:, 0], y = log_var[:, 1],\n",
    "    z = log_var[:, 2],\n",
    "    # color = y_train\n",
    "    )\n",
    "fig.show()"
   ]
  },
  {
   "cell_type": "code",
   "execution_count": null,
   "id": "b10547be-77ce-4981-9a84-33f4f0376238",
   "metadata": {
    "id": "b10547be-77ce-4981-9a84-33f4f0376238"
   },
   "outputs": [],
   "source": [
    "'''\n",
    "# Visualize latent space for 'log variance'-\n",
    "fig = px.scatter_3d(\n",
    "    x = embedding_logvar[:, 0], y = embedding_logvar[:, 1],\n",
    "    z = embedding_logvar[:, 2],\n",
    "    # color = y_train\n",
    "    )\n",
    "fig.show()\n",
    "'''"
   ]
  },
  {
   "cell_type": "code",
   "execution_count": null,
   "id": "b483d671-acdf-4a7d-8761-c47ed0559f2f",
   "metadata": {
    "id": "b483d671-acdf-4a7d-8761-c47ed0559f2f"
   },
   "outputs": [],
   "source": []
  },
  {
   "cell_type": "code",
   "execution_count": null,
   "id": "faf80ab7-7c8b-4f12-8a60-6b2bfa4bf3de",
   "metadata": {
    "id": "faf80ab7-7c8b-4f12-8a60-6b2bfa4bf3de"
   },
   "outputs": [],
   "source": []
  }
 ],
 "metadata": {
  "accelerator": "GPU",
  "colab": {
   "collapsed_sections": [],
   "name": "VAE_PyTorch_CIFAR10.ipynb",
   "provenance": []
  },
  "kernelspec": {
   "display_name": "Python 3 (ipykernel)",
   "language": "python",
   "name": "python3"
  },
  "language_info": {
   "codemirror_mode": {
    "name": "ipython",
    "version": 3
   },
   "file_extension": ".py",
   "mimetype": "text/x-python",
   "name": "python",
   "nbconvert_exporter": "python",
   "pygments_lexer": "ipython3",
   "version": "3.9.7"
  },
  "widgets": {
   "application/vnd.jupyter.widget-state+json": {
    "05a3d5fa93134db49f437a50b80cb823": {
     "model_module": "@jupyter-widgets/base",
     "model_module_version": "1.2.0",
     "model_name": "LayoutModel",
     "state": {
      "_model_module": "@jupyter-widgets/base",
      "_model_module_version": "1.2.0",
      "_model_name": "LayoutModel",
      "_view_count": null,
      "_view_module": "@jupyter-widgets/base",
      "_view_module_version": "1.2.0",
      "_view_name": "LayoutView",
      "align_content": null,
      "align_items": null,
      "align_self": null,
      "border": null,
      "bottom": null,
      "display": null,
      "flex": null,
      "flex_flow": null,
      "grid_area": null,
      "grid_auto_columns": null,
      "grid_auto_flow": null,
      "grid_auto_rows": null,
      "grid_column": null,
      "grid_gap": null,
      "grid_row": null,
      "grid_template_areas": null,
      "grid_template_columns": null,
      "grid_template_rows": null,
      "height": null,
      "justify_content": null,
      "justify_items": null,
      "left": null,
      "margin": null,
      "max_height": null,
      "max_width": null,
      "min_height": null,
      "min_width": null,
      "object_fit": null,
      "object_position": null,
      "order": null,
      "overflow": null,
      "overflow_x": null,
      "overflow_y": null,
      "padding": null,
      "right": null,
      "top": null,
      "visibility": null,
      "width": null
     }
    },
    "12b9819008e4404691ea9a43c982a63d": {
     "model_module": "@jupyter-widgets/base",
     "model_module_version": "1.2.0",
     "model_name": "LayoutModel",
     "state": {
      "_model_module": "@jupyter-widgets/base",
      "_model_module_version": "1.2.0",
      "_model_name": "LayoutModel",
      "_view_count": null,
      "_view_module": "@jupyter-widgets/base",
      "_view_module_version": "1.2.0",
      "_view_name": "LayoutView",
      "align_content": null,
      "align_items": null,
      "align_self": null,
      "border": null,
      "bottom": null,
      "display": null,
      "flex": null,
      "flex_flow": null,
      "grid_area": null,
      "grid_auto_columns": null,
      "grid_auto_flow": null,
      "grid_auto_rows": null,
      "grid_column": null,
      "grid_gap": null,
      "grid_row": null,
      "grid_template_areas": null,
      "grid_template_columns": null,
      "grid_template_rows": null,
      "height": null,
      "justify_content": null,
      "justify_items": null,
      "left": null,
      "margin": null,
      "max_height": null,
      "max_width": null,
      "min_height": null,
      "min_width": null,
      "object_fit": null,
      "object_position": null,
      "order": null,
      "overflow": null,
      "overflow_x": null,
      "overflow_y": null,
      "padding": null,
      "right": null,
      "top": null,
      "visibility": null,
      "width": null
     }
    },
    "1898ce5ce7a74e9caf1def82c05e706b": {
     "model_module": "@jupyter-widgets/controls",
     "model_module_version": "1.5.0",
     "model_name": "DescriptionStyleModel",
     "state": {
      "_model_module": "@jupyter-widgets/controls",
      "_model_module_version": "1.5.0",
      "_model_name": "DescriptionStyleModel",
      "_view_count": null,
      "_view_module": "@jupyter-widgets/base",
      "_view_module_version": "1.2.0",
      "_view_name": "StyleView",
      "description_width": ""
     }
    },
    "6d77bb12d11e422992108fcfa1715164": {
     "model_module": "@jupyter-widgets/controls",
     "model_module_version": "1.5.0",
     "model_name": "ProgressStyleModel",
     "state": {
      "_model_module": "@jupyter-widgets/controls",
      "_model_module_version": "1.5.0",
      "_model_name": "ProgressStyleModel",
      "_view_count": null,
      "_view_module": "@jupyter-widgets/base",
      "_view_module_version": "1.2.0",
      "_view_name": "StyleView",
      "bar_color": null,
      "description_width": ""
     }
    },
    "74bd0e25b2a84052a1facbc18ca3ef45": {
     "model_module": "@jupyter-widgets/base",
     "model_module_version": "1.2.0",
     "model_name": "LayoutModel",
     "state": {
      "_model_module": "@jupyter-widgets/base",
      "_model_module_version": "1.2.0",
      "_model_name": "LayoutModel",
      "_view_count": null,
      "_view_module": "@jupyter-widgets/base",
      "_view_module_version": "1.2.0",
      "_view_name": "LayoutView",
      "align_content": null,
      "align_items": null,
      "align_self": null,
      "border": null,
      "bottom": null,
      "display": null,
      "flex": null,
      "flex_flow": null,
      "grid_area": null,
      "grid_auto_columns": null,
      "grid_auto_flow": null,
      "grid_auto_rows": null,
      "grid_column": null,
      "grid_gap": null,
      "grid_row": null,
      "grid_template_areas": null,
      "grid_template_columns": null,
      "grid_template_rows": null,
      "height": null,
      "justify_content": null,
      "justify_items": null,
      "left": null,
      "margin": null,
      "max_height": null,
      "max_width": null,
      "min_height": null,
      "min_width": null,
      "object_fit": null,
      "object_position": null,
      "order": null,
      "overflow": null,
      "overflow_x": null,
      "overflow_y": null,
      "padding": null,
      "right": null,
      "top": null,
      "visibility": null,
      "width": null
     }
    },
    "9844a7e49bd7434f846f7d2db3d15c04": {
     "model_module": "@jupyter-widgets/controls",
     "model_module_version": "1.5.0",
     "model_name": "DescriptionStyleModel",
     "state": {
      "_model_module": "@jupyter-widgets/controls",
      "_model_module_version": "1.5.0",
      "_model_name": "DescriptionStyleModel",
      "_view_count": null,
      "_view_module": "@jupyter-widgets/base",
      "_view_module_version": "1.2.0",
      "_view_name": "StyleView",
      "description_width": ""
     }
    },
    "9ae27e43a3c5461aaf22e3a5e8175fdc": {
     "model_module": "@jupyter-widgets/base",
     "model_module_version": "1.2.0",
     "model_name": "LayoutModel",
     "state": {
      "_model_module": "@jupyter-widgets/base",
      "_model_module_version": "1.2.0",
      "_model_name": "LayoutModel",
      "_view_count": null,
      "_view_module": "@jupyter-widgets/base",
      "_view_module_version": "1.2.0",
      "_view_name": "LayoutView",
      "align_content": null,
      "align_items": null,
      "align_self": null,
      "border": null,
      "bottom": null,
      "display": null,
      "flex": null,
      "flex_flow": null,
      "grid_area": null,
      "grid_auto_columns": null,
      "grid_auto_flow": null,
      "grid_auto_rows": null,
      "grid_column": null,
      "grid_gap": null,
      "grid_row": null,
      "grid_template_areas": null,
      "grid_template_columns": null,
      "grid_template_rows": null,
      "height": null,
      "justify_content": null,
      "justify_items": null,
      "left": null,
      "margin": null,
      "max_height": null,
      "max_width": null,
      "min_height": null,
      "min_width": null,
      "object_fit": null,
      "object_position": null,
      "order": null,
      "overflow": null,
      "overflow_x": null,
      "overflow_y": null,
      "padding": null,
      "right": null,
      "top": null,
      "visibility": null,
      "width": null
     }
    },
    "aa1b332fb3cd4ceca6fd44218da50ce5": {
     "model_module": "@jupyter-widgets/controls",
     "model_module_version": "1.5.0",
     "model_name": "HTMLModel",
     "state": {
      "_dom_classes": [],
      "_model_module": "@jupyter-widgets/controls",
      "_model_module_version": "1.5.0",
      "_model_name": "HTMLModel",
      "_view_count": null,
      "_view_module": "@jupyter-widgets/controls",
      "_view_module_version": "1.5.0",
      "_view_name": "HTMLView",
      "description": "",
      "description_tooltip": null,
      "layout": "IPY_MODEL_05a3d5fa93134db49f437a50b80cb823",
      "placeholder": "​",
      "style": "IPY_MODEL_9844a7e49bd7434f846f7d2db3d15c04",
      "value": " 170499072/? [00:06&lt;00:00, 22252606.27it/s]"
     }
    },
    "bd98ca655ce94231b30611563503c64f": {
     "model_module": "@jupyter-widgets/controls",
     "model_module_version": "1.5.0",
     "model_name": "HTMLModel",
     "state": {
      "_dom_classes": [],
      "_model_module": "@jupyter-widgets/controls",
      "_model_module_version": "1.5.0",
      "_model_name": "HTMLModel",
      "_view_count": null,
      "_view_module": "@jupyter-widgets/controls",
      "_view_module_version": "1.5.0",
      "_view_name": "HTMLView",
      "description": "",
      "description_tooltip": null,
      "layout": "IPY_MODEL_12b9819008e4404691ea9a43c982a63d",
      "placeholder": "​",
      "style": "IPY_MODEL_1898ce5ce7a74e9caf1def82c05e706b",
      "value": ""
     }
    },
    "ea0558f4cc7d486e830a4adb1acc6406": {
     "model_module": "@jupyter-widgets/controls",
     "model_module_version": "1.5.0",
     "model_name": "HBoxModel",
     "state": {
      "_dom_classes": [],
      "_model_module": "@jupyter-widgets/controls",
      "_model_module_version": "1.5.0",
      "_model_name": "HBoxModel",
      "_view_count": null,
      "_view_module": "@jupyter-widgets/controls",
      "_view_module_version": "1.5.0",
      "_view_name": "HBoxView",
      "box_style": "",
      "children": [
       "IPY_MODEL_bd98ca655ce94231b30611563503c64f",
       "IPY_MODEL_f51dacd12d394615b3c8cbdd36f728f7",
       "IPY_MODEL_aa1b332fb3cd4ceca6fd44218da50ce5"
      ],
      "layout": "IPY_MODEL_9ae27e43a3c5461aaf22e3a5e8175fdc"
     }
    },
    "f51dacd12d394615b3c8cbdd36f728f7": {
     "model_module": "@jupyter-widgets/controls",
     "model_module_version": "1.5.0",
     "model_name": "FloatProgressModel",
     "state": {
      "_dom_classes": [],
      "_model_module": "@jupyter-widgets/controls",
      "_model_module_version": "1.5.0",
      "_model_name": "FloatProgressModel",
      "_view_count": null,
      "_view_module": "@jupyter-widgets/controls",
      "_view_module_version": "1.5.0",
      "_view_name": "ProgressView",
      "bar_style": "success",
      "description": "",
      "description_tooltip": null,
      "layout": "IPY_MODEL_74bd0e25b2a84052a1facbc18ca3ef45",
      "max": 170498071,
      "min": 0,
      "orientation": "horizontal",
      "style": "IPY_MODEL_6d77bb12d11e422992108fcfa1715164",
      "value": 170498071
     }
    }
   }
  }
 },
 "nbformat": 4,
 "nbformat_minor": 5
}
