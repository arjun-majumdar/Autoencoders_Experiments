{
 "cells": [
  {
   "cell_type": "markdown",
   "metadata": {
    "id": "I6Yk7xzAEvux"
   },
   "source": [
    "# Conditional Variational Autoencoder - MNIST & TensorFlow2\n",
    "\n",
    "- [Learning Structured Output Representation using Deep Conditional Generative Models](https://papers.nips.cc/paper/2015/hash/8d55a249e6baa5c06772297520da2051-Abstract.html) by Kihyuk Sohn et al.\n",
    "\n",
    "- [YouTube video](https://www.youtube.com/watch?app=desktop&v=W4peyiOaEFU)"
   ]
  },
  {
   "cell_type": "code",
   "execution_count": 1,
   "metadata": {},
   "outputs": [
    {
     "name": "stdout",
     "output_type": "stream",
     "text": [
      "env: CUDA_DEVICE_ORDER=PCI_BUS_ID\n",
      "env: CUDA_VISIBLE_DEVICES=0\n"
     ]
    }
   ],
   "source": [
    "# Specify GPU to be used-\n",
    "%env CUDA_DEVICE_ORDER = PCI_BUS_ID\n",
    "%env CUDA_VISIBLE_DEVICES = 0"
   ]
  },
  {
   "cell_type": "code",
   "execution_count": null,
   "metadata": {},
   "outputs": [],
   "source": []
  },
  {
   "cell_type": "code",
   "execution_count": 2,
   "metadata": {
    "id": "HV2w-bItE198"
   },
   "outputs": [],
   "source": [
    "import tensorflow\n",
    "from tensorflow import keras\n",
    "from tensorflow.keras import layers\n",
    "from tensorflow.keras.layers import Conv2D, Conv2DTranspose, Dense, Input, Flatten,\\\n",
    "Conv2DTranspose, BatchNormalization, LeakyReLU, Reshape\n",
    "from tensorflow.keras.models import Sequential, Model\n",
    "from tensorflow.keras.datasets import mnist\n",
    "import tensorflow.keras.backend as K\n",
    "import tensorflow as tf\n",
    "\n",
    "import numpy as np\n",
    "import matplotlib.pyplot as plt\n",
    "import plotly\n",
    "import plotly.express as px"
   ]
  },
  {
   "cell_type": "code",
   "execution_count": null,
   "metadata": {
    "id": "izTxhI7GE2aK"
   },
   "outputs": [],
   "source": []
  },
  {
   "cell_type": "code",
   "execution_count": null,
   "metadata": {
    "id": "7tUfvjG2b-wf"
   },
   "outputs": [],
   "source": []
  },
  {
   "cell_type": "code",
   "execution_count": 3,
   "metadata": {
    "colab": {
     "base_uri": "https://localhost:8080/"
    },
    "id": "OF3bFLN9E25o",
    "outputId": "d28b227a-b49a-423c-a121-713b5a3300eb"
   },
   "outputs": [
    {
     "name": "stdout",
     "output_type": "stream",
     "text": [
      "TensorFlow version: 2.8.0\n"
     ]
    }
   ],
   "source": [
    "print(f\"TensorFlow version: {tf.__version__}\")"
   ]
  },
  {
   "cell_type": "code",
   "execution_count": 4,
   "metadata": {
    "colab": {
     "base_uri": "https://localhost:8080/"
    },
    "id": "qy0FAt-NE4ma",
    "outputId": "8b8b3ef6-6306-49da-f5b4-f9aa4f5a7c01"
   },
   "outputs": [
    {
     "name": "stdout",
     "output_type": "stream",
     "text": [
      "number of GPUs available = 1\n",
      "GPU: [PhysicalDevice(name='/physical_device:GPU:0', device_type='GPU')]\n",
      "GPU details: NVIDIA GeForce RTX 3080\n"
     ]
    },
    {
     "name": "stderr",
     "output_type": "stream",
     "text": [
      "2022-02-17 17:25:18.966904: I tensorflow/stream_executor/cuda/cuda_gpu_executor.cc:936] successful NUMA node read from SysFS had negative value (-1), but there must be at least one NUMA node, so returning NUMA node zero\n",
      "2022-02-17 17:25:18.987882: I tensorflow/stream_executor/cuda/cuda_gpu_executor.cc:936] successful NUMA node read from SysFS had negative value (-1), but there must be at least one NUMA node, so returning NUMA node zero\n",
      "2022-02-17 17:25:18.987973: I tensorflow/stream_executor/cuda/cuda_gpu_executor.cc:936] successful NUMA node read from SysFS had negative value (-1), but there must be at least one NUMA node, so returning NUMA node zero\n",
      "2022-02-17 17:25:18.988573: I tensorflow/stream_executor/cuda/cuda_gpu_executor.cc:936] successful NUMA node read from SysFS had negative value (-1), but there must be at least one NUMA node, so returning NUMA node zero\n"
     ]
    }
   ],
   "source": [
    "# Check GPU availibility-\n",
    "gpu_devices = tf.config.list_physical_devices('GPU')\n",
    "\n",
    "if gpu_devices:\n",
    "    # Get number of available GPUs-\n",
    "    num_gpus = len(tf.config.list_physical_devices('GPU'))\n",
    "    print(f\"number of GPUs available = {num_gpus}\")\n",
    "    \n",
    "    print(f\"GPU: {gpu_devices}\")\n",
    "    details = tf.config.experimental.get_device_details(gpu_devices[0])\n",
    "    print(f\"GPU details: {details.get('device_name', 'Unknown GPU')}\")\n",
    "else:\n",
    "    print(\"No GPU found\")"
   ]
  },
  {
   "cell_type": "code",
   "execution_count": null,
   "metadata": {
    "id": "sB22456eE5wM"
   },
   "outputs": [],
   "source": []
  },
  {
   "cell_type": "code",
   "execution_count": null,
   "metadata": {
    "id": "Zi7-Iw9iE53g"
   },
   "outputs": [],
   "source": []
  },
  {
   "cell_type": "code",
   "execution_count": 5,
   "metadata": {
    "id": "4K6nSZElE6Lt"
   },
   "outputs": [],
   "source": [
    "# input image dimensions\n",
    "img_rows, img_cols = 28, 28"
   ]
  },
  {
   "cell_type": "code",
   "execution_count": 6,
   "metadata": {
    "colab": {
     "base_uri": "https://localhost:8080/"
    },
    "id": "RiqoqdBRE7Ym",
    "outputId": "cc4e9f7e-0f3c-49d0-f875-2f7c2716d2bf"
   },
   "outputs": [
    {
     "name": "stdout",
     "output_type": "stream",
     "text": [
      "Downloading data from https://storage.googleapis.com/tensorflow/tf-keras-datasets/mnist.npz\n",
      "11493376/11490434 [==============================] - 0s 0us/step\n",
      "11501568/11490434 [==============================] - 0s 0us/step\n"
     ]
    }
   ],
   "source": [
    "# Load MNIST dataset-\n",
    "(X_train, y_train), (X_test, y_test) = mnist.load_data()"
   ]
  },
  {
   "cell_type": "code",
   "execution_count": 7,
   "metadata": {
    "id": "WjC2BsqOE8jF"
   },
   "outputs": [],
   "source": [
    "if tf.keras.backend.image_data_format() == 'channels_first':\n",
    "    X_train = X_train.reshape(X_train.shape[0], 1, img_rows, img_cols)\n",
    "    X_test = X_test.reshape(X_test.shape[0], 1, img_rows, img_cols)\n",
    "    input_shape = (1, img_rows, img_cols)\n",
    "else:\n",
    "    X_train = X_train.reshape(X_train.shape[0], img_rows, img_cols, 1)\n",
    "    X_test = X_test.reshape(X_test.shape[0], img_rows, img_cols, 1)\n",
    "    input_shape = (img_rows, img_cols, 1)"
   ]
  },
  {
   "cell_type": "code",
   "execution_count": 8,
   "metadata": {
    "colab": {
     "base_uri": "https://localhost:8080/"
    },
    "id": "3tLn-6RAE95Z",
    "outputId": "9e3b421d-b70e-4891-951a-a166669644b3"
   },
   "outputs": [
    {
     "name": "stdout",
     "output_type": "stream",
     "text": [
      "\n",
      "input_shape to be used: (28, 28, 1)\n"
     ]
    }
   ],
   "source": [
    "print(f\"\\ninput_shape to be used: {input_shape}\")"
   ]
  },
  {
   "cell_type": "code",
   "execution_count": null,
   "metadata": {
    "id": "gEsNBbCSE_Mt"
   },
   "outputs": [],
   "source": []
  },
  {
   "cell_type": "code",
   "execution_count": 9,
   "metadata": {
    "id": "XU2bV0T3E_Q1"
   },
   "outputs": [],
   "source": [
    "# Specify hyper-parameters-\n",
    "batch_size = 64\n",
    "num_classes = 10\n",
    "num_epochs = 30"
   ]
  },
  {
   "cell_type": "code",
   "execution_count": null,
   "metadata": {
    "id": "DZOOq938FAvC"
   },
   "outputs": [],
   "source": []
  },
  {
   "cell_type": "code",
   "execution_count": 10,
   "metadata": {
    "id": "tDp3gAYOFA0l"
   },
   "outputs": [],
   "source": [
    "# Convert datasets to floating point types-\n",
    "X_train = X_train.astype('float32')\n",
    "X_test = X_test.astype('float32')"
   ]
  },
  {
   "cell_type": "code",
   "execution_count": 11,
   "metadata": {
    "id": "D15N_X3-FB2G"
   },
   "outputs": [],
   "source": [
    "# By default the image data consists of integers between 0 and 255 for each pixel channel. Neural networks\n",
    "# work best when each input is inside the range –1 to 1, so we need to divide by 255.\n",
    "\n",
    "# Normalize the training and testing datasets-\n",
    "X_train /= 255.0\n",
    "X_test /= 255.0"
   ]
  },
  {
   "cell_type": "code",
   "execution_count": 12,
   "metadata": {
    "id": "aPkaWmynFC6w"
   },
   "outputs": [],
   "source": [
    "# Convert class vectors/target to binary class matrices or one-hot encoded values-\n",
    "y_train = tf.keras.utils.to_categorical(y_train, num_classes)\n",
    "y_test = tf.keras.utils.to_categorical(y_test, num_classes)"
   ]
  },
  {
   "cell_type": "code",
   "execution_count": 13,
   "metadata": {},
   "outputs": [],
   "source": [
    "# Reshape training and testing sets-\n",
    "X_train = X_train.reshape(X_train.shape[0], 784)\n",
    "X_test = X_test.reshape(X_test.shape[0], 784)"
   ]
  },
  {
   "cell_type": "code",
   "execution_count": 14,
   "metadata": {
    "colab": {
     "base_uri": "https://localhost:8080/"
    },
    "id": "qd4Gl-AyFEq1",
    "outputId": "a88d5f66-4bd1-4fde-c60e-beb911c9e303"
   },
   "outputs": [
    {
     "name": "stdout",
     "output_type": "stream",
     "text": [
      "\n",
      "Dimensions of training and testing sets are:\n",
      "X_train.shape: (60000, 784), y_train.shape: (60000, 10)\n",
      "X_test.shape: (10000, 784), y_test.shape: (10000, 10)\n"
     ]
    }
   ],
   "source": [
    "print(\"\\nDimensions of training and testing sets are:\")\n",
    "print(f\"X_train.shape: {X_train.shape}, y_train.shape: {y_train.shape}\")\n",
    "print(f\"X_test.shape: {X_test.shape}, y_test.shape: {y_test.shape}\")"
   ]
  },
  {
   "cell_type": "code",
   "execution_count": null,
   "metadata": {},
   "outputs": [],
   "source": [
    "# X_train_concat = tf.concat(values = [X_train, y_train], axis = 1)\n",
    "# X_test_concat = tf.concat(values = [X_test, y_test], axis = 1)"
   ]
  },
  {
   "cell_type": "code",
   "execution_count": null,
   "metadata": {
    "colab": {
     "base_uri": "https://localhost:8080/"
    },
    "id": "qd4Gl-AyFEq1",
    "outputId": "a88d5f66-4bd1-4fde-c60e-beb911c9e303"
   },
   "outputs": [],
   "source": [
    "# print(\"\\nDimensions of training and testing concatenated sets are:\")\n",
    "# print(f\"X_train_concat.shape: {X_train_concat.shape} & X_test_concat.shape: {X_test_concat.shape}\")\n",
    "# Dimensions of training and testing concatenated sets are:\n",
    "# X_train_concat.shape: (60000, 794) & X_test_concat.shape: (10000, 794)"
   ]
  },
  {
   "cell_type": "code",
   "execution_count": null,
   "metadata": {},
   "outputs": [],
   "source": [
    "# del X_train_concat, X_test_concat"
   ]
  },
  {
   "cell_type": "code",
   "execution_count": null,
   "metadata": {},
   "outputs": [],
   "source": []
  },
  {
   "cell_type": "code",
   "execution_count": 19,
   "metadata": {},
   "outputs": [],
   "source": [
    "# Create training and testing datasets-\n",
    "train_dataset = tf.data.Dataset.from_tensor_slices((X_train, y_train))\n",
    "test_dataset = tf.data.Dataset.from_tensor_slices((X_test, y_test))"
   ]
  },
  {
   "cell_type": "code",
   "execution_count": 16,
   "metadata": {
    "id": "t-U-OFacFFzf"
   },
   "outputs": [],
   "source": [
    "# Create TF datasets-\n",
    "# train_dataset = tf.data.Dataset.from_tensor_slices(X_train_concat).shuffle(60000).batch(128)\n",
    "# test_dataset = tf.data.Dataset.from_tensor_slices(X_test_concat).shuffle(10000).batch(128)\n",
    "\n",
    "# Needed by 'tf.GradientTape()' API for custom training and testing code."
   ]
  },
  {
   "cell_type": "code",
   "execution_count": 20,
   "metadata": {},
   "outputs": [],
   "source": [
    "train_dataset = train_dataset.shuffle(buffer_size = 60000, reshuffle_each_iteration = True).batch(batch_size = batch_size, drop_remainder = False)\n",
    "test_dataset = test_dataset.batch(batch_size = batch_size, drop_remainder = False)"
   ]
  },
  {
   "cell_type": "code",
   "execution_count": null,
   "metadata": {},
   "outputs": [],
   "source": []
  },
  {
   "cell_type": "code",
   "execution_count": 21,
   "metadata": {},
   "outputs": [],
   "source": [
    "# Sanity check-\n",
    "x, y = next(iter(train_dataset))"
   ]
  },
  {
   "cell_type": "code",
   "execution_count": 22,
   "metadata": {},
   "outputs": [
    {
     "data": {
      "text/plain": [
       "(TensorShape([64, 784]), TensorShape([64, 10]))"
      ]
     },
     "execution_count": 22,
     "metadata": {},
     "output_type": "execute_result"
    }
   ],
   "source": [
    "x.shape, y.shape"
   ]
  },
  {
   "cell_type": "code",
   "execution_count": 23,
   "metadata": {},
   "outputs": [
    {
     "data": {
      "text/plain": [
       "<tf.Tensor: shape=(10,), dtype=float32, numpy=array([0., 0., 0., 0., 0., 0., 0., 0., 0., 1.], dtype=float32)>"
      ]
     },
     "execution_count": 23,
     "metadata": {},
     "output_type": "execute_result"
    }
   ],
   "source": [
    "y[0]"
   ]
  },
  {
   "cell_type": "code",
   "execution_count": 24,
   "metadata": {},
   "outputs": [],
   "source": [
    "del x, y"
   ]
  },
  {
   "cell_type": "code",
   "execution_count": null,
   "metadata": {},
   "outputs": [],
   "source": []
  },
  {
   "cell_type": "code",
   "execution_count": null,
   "metadata": {
    "id": "NAuquyXvFHJP"
   },
   "outputs": [],
   "source": []
  },
  {
   "cell_type": "markdown",
   "metadata": {
    "id": "6VrJiwM5WHMC"
   },
   "source": [
    "### Define _Variational Autoencoder_ architecture using dense layers"
   ]
  },
  {
   "cell_type": "code",
   "execution_count": 25,
   "metadata": {},
   "outputs": [],
   "source": [
    "class Encoder(Model):\n",
    "    def __init__(self, latent_space = 3):\n",
    "        super(Encoder, self).__init__()\n",
    "            \n",
    "        self.latent_space = latent_space\n",
    "        \n",
    "        self.dense = Dense(\n",
    "            units = 300, activation = None\n",
    "        )\n",
    "        self.dense2 = Dense(\n",
    "            units = 100, activation = None\n",
    "        )\n",
    "        self.encoder_output = Dense(\n",
    "            units = self.latent_space, activation = None\n",
    "        )\n",
    "        \n",
    "    \n",
    "    def call(self, x):\n",
    "        x = tf.keras.activations.relu(self.dense(x))\n",
    "        x = tf.keras.activations.relu(self.dense2(x))\n",
    "        x = tf.keras.activations.relu(self.encoder_output(x))\n",
    "        \n",
    "        return x\n",
    "        "
   ]
  },
  {
   "cell_type": "code",
   "execution_count": null,
   "metadata": {},
   "outputs": [],
   "source": []
  },
  {
   "cell_type": "code",
   "execution_count": 26,
   "metadata": {},
   "outputs": [],
   "source": [
    "class Decoder(Model):\n",
    "    def __init__(self, latent_space = 3):\n",
    "        super(Decoder, self).__init__()\n",
    "            \n",
    "        self.latent_space = latent_space\n",
    "        \n",
    "        self.dense = Dense(\n",
    "            units = 100, activation = None\n",
    "        )\n",
    "        self.dense2 = Dense(\n",
    "            units = 300, activation = None\n",
    "        )\n",
    "        self.decoder_output = Dense(\n",
    "            units = 784, activation = None\n",
    "        )\n",
    "    \n",
    "    \n",
    "    def call(self, x):\n",
    "        x = tf.keras.activations.relu(self.dense(x))\n",
    "        x = tf.keras.activations.relu(self.dense2(x))\n",
    "        x = self.decoder_output(x)\n",
    "        \n",
    "        return x\n",
    "    "
   ]
  },
  {
   "cell_type": "code",
   "execution_count": null,
   "metadata": {},
   "outputs": [],
   "source": []
  },
  {
   "cell_type": "code",
   "execution_count": null,
   "metadata": {},
   "outputs": [],
   "source": [
    "# encoder = Encoder(latent_space = 3)"
   ]
  },
  {
   "cell_type": "code",
   "execution_count": null,
   "metadata": {},
   "outputs": [],
   "source": [
    "# decoder = Decoder(latent_space = 3)"
   ]
  },
  {
   "cell_type": "code",
   "execution_count": null,
   "metadata": {},
   "outputs": [],
   "source": [
    "# x, y = next(iter(train_dataset))"
   ]
  },
  {
   "cell_type": "code",
   "execution_count": null,
   "metadata": {},
   "outputs": [],
   "source": [
    "# x.shape, y.shape\n",
    "# (TensorShape([64, 784]), TensorShape([64, 10]))"
   ]
  },
  {
   "cell_type": "code",
   "execution_count": null,
   "metadata": {},
   "outputs": [],
   "source": [
    "# tf.concat(values = [x, y], axis = 1).shape\n",
    "# TensorShape([64, 794])"
   ]
  },
  {
   "cell_type": "code",
   "execution_count": null,
   "metadata": {},
   "outputs": [],
   "source": [
    "# x_enc = encoder(tf.concat(values = [x, y], axis = 1))"
   ]
  },
  {
   "cell_type": "code",
   "execution_count": null,
   "metadata": {},
   "outputs": [],
   "source": [
    "# x_enc.shape\n",
    "# TensorShape([64, 3])"
   ]
  },
  {
   "cell_type": "code",
   "execution_count": null,
   "metadata": {},
   "outputs": [],
   "source": [
    "# x_dec = decoder(tf.concat(values = [x_enc, y], axis = 1))"
   ]
  },
  {
   "cell_type": "code",
   "execution_count": null,
   "metadata": {},
   "outputs": [],
   "source": [
    "# x_dec.shape, x.shape, x_enc.shape\n",
    "# (TensorShape([64, 784]), TensorShape([64, 784]), TensorShape([64, 3]))"
   ]
  },
  {
   "cell_type": "code",
   "execution_count": null,
   "metadata": {},
   "outputs": [],
   "source": [
    "# del x, x_enc, x_dec, encoder, decoder"
   ]
  },
  {
   "cell_type": "code",
   "execution_count": null,
   "metadata": {},
   "outputs": [],
   "source": []
  },
  {
   "cell_type": "code",
   "execution_count": null,
   "metadata": {},
   "outputs": [],
   "source": []
  },
  {
   "cell_type": "code",
   "execution_count": 27,
   "metadata": {
    "id": "8RfrZXXTFJ-T"
   },
   "outputs": [],
   "source": [
    "class VAE(Model):\n",
    "    def __init__(self, latent_space = 3):\n",
    "        super(VAE, self).__init__()\n",
    "        \n",
    "        self.latent_space = latent_space\n",
    "        \n",
    "        self.encoder = Encoder(latent_space = self.latent_space)\n",
    "        self.decoder = Decoder(latent_space = self.latent_space)\n",
    "        \n",
    "        # Define fully-connected layers for computing mean & log variance-\n",
    "        self.mu = Dense(units = self.latent_space, activation = None)\n",
    "        self.log_var = Dense(units = self.latent_space, activation = None)\n",
    "\n",
    "\n",
    "    def reparameterize(self, mean, logvar):\n",
    "        # Sample from a multivariate Gaussian distribution.\n",
    "        # Adds stochasticity or variation-\n",
    "        eps = tf.random.normal(\n",
    "            shape = mean.shape, mean = 0.0,\n",
    "            stddev = 1.0, dtype = tf.float32\n",
    "        )\n",
    "        return (eps * tf.exp(logvar * 0.5) + mean)\n",
    "        \n",
    "    \n",
    "    def call(self, x, y):\n",
    "        # y = x[:, 784:]\n",
    "        # x = self.encoder(x)\n",
    "        x = self.encoder(tf.concat(values = [x, y], axis = 1))\n",
    "        # print(f\"x.shape: {x.shape}, y.shape: {y.shape}\")\n",
    "        # x.shape: (batch_size, 3), y.shape: (batch_size, 10)\n",
    "        \n",
    "        mu = self.mu(x)\n",
    "        log_var = self.log_var(x)\n",
    "        z = self.reparameterize(mu, log_var)\n",
    "        # z = Sampling()([mu, log_var])\n",
    "        '''\n",
    "        print(f\"mu.shape: {mu.shape}, log_var.shape: {log_var.shape}\"\n",
    "              f\" & z.shape: {z.shape}\")\n",
    "        # mu.shape: (batch_size, 3), log_var.shape: (batch_size, 3) & z.shape: (batch_size, 3)\n",
    "        '''\n",
    "        # z = tf.concat(values = [z, y], axis = 1)\n",
    "        # print(f\"After concat z.shape: {z.shape}\")\n",
    "        x = tf.keras.activations.sigmoid(self.decoder(tf.concat(values = [z, y], axis = 1)))\n",
    "        # x = tf.keras.activations.sigmoid(self.decoder(z))\n",
    "        return x, mu, log_var\n",
    "        "
   ]
  },
  {
   "cell_type": "code",
   "execution_count": null,
   "metadata": {
    "id": "3gmv9UzaFbUK"
   },
   "outputs": [],
   "source": []
  },
  {
   "cell_type": "code",
   "execution_count": 28,
   "metadata": {
    "id": "w9A5AvV0Fbc8"
   },
   "outputs": [],
   "source": [
    "# Initialize VAE model-\n",
    "model = VAE(latent_space = 3)"
   ]
  },
  {
   "cell_type": "code",
   "execution_count": null,
   "metadata": {},
   "outputs": [],
   "source": []
  },
  {
   "cell_type": "code",
   "execution_count": 29,
   "metadata": {},
   "outputs": [],
   "source": [
    "# Sanity check-\n",
    "x, y = next(iter(train_dataset))"
   ]
  },
  {
   "cell_type": "code",
   "execution_count": 30,
   "metadata": {},
   "outputs": [
    {
     "data": {
      "text/plain": [
       "(TensorShape([64, 784]), TensorShape([64, 10]))"
      ]
     },
     "execution_count": 30,
     "metadata": {},
     "output_type": "execute_result"
    }
   ],
   "source": [
    "x.shape, y.shape"
   ]
  },
  {
   "cell_type": "code",
   "execution_count": 31,
   "metadata": {},
   "outputs": [
    {
     "name": "stderr",
     "output_type": "stream",
     "text": [
      "2022-02-17 17:26:42.256279: I tensorflow/stream_executor/cuda/cuda_blas.cc:1786] TensorFloat-32 will be used for the matrix multiplication. This will only be logged once.\n"
     ]
    }
   ],
   "source": [
    "x_recon, mu, log_var = model(x, y)"
   ]
  },
  {
   "cell_type": "code",
   "execution_count": 32,
   "metadata": {},
   "outputs": [
    {
     "data": {
      "text/plain": [
       "(TensorShape([64, 784]), TensorShape([64, 784]))"
      ]
     },
     "execution_count": 32,
     "metadata": {},
     "output_type": "execute_result"
    }
   ],
   "source": [
    "x_recon.shape, x.shape "
   ]
  },
  {
   "cell_type": "code",
   "execution_count": 33,
   "metadata": {},
   "outputs": [
    {
     "data": {
      "text/plain": [
       "(TensorShape([64, 3]), TensorShape([64, 3]))"
      ]
     },
     "execution_count": 33,
     "metadata": {},
     "output_type": "execute_result"
    }
   ],
   "source": [
    "mu.shape, log_var.shape"
   ]
  },
  {
   "cell_type": "code",
   "execution_count": 34,
   "metadata": {
    "colab": {
     "base_uri": "https://localhost:8080/"
    },
    "id": "Ho3fINwCYpNG",
    "outputId": "9170d51b-c084-4b29-b8ac-063dc7be6786"
   },
   "outputs": [
    {
     "data": {
      "text/plain": [
       "(0.00077247503, 0.12035693)"
      ]
     },
     "execution_count": 34,
     "metadata": {},
     "output_type": "execute_result"
    }
   ],
   "source": [
    "mu.numpy().mean(), mu.numpy().std()"
   ]
  },
  {
   "cell_type": "code",
   "execution_count": 35,
   "metadata": {
    "colab": {
     "base_uri": "https://localhost:8080/"
    },
    "id": "4AiM1Y_HYrwG",
    "outputId": "87635e67-b154-4489-9437-4721ccaf5d88"
   },
   "outputs": [
    {
     "data": {
      "text/plain": [
       "(-0.015541531, 0.08232848)"
      ]
     },
     "execution_count": 35,
     "metadata": {},
     "output_type": "execute_result"
    }
   ],
   "source": [
    "log_var.numpy().mean(), log_var.numpy().std()"
   ]
  },
  {
   "cell_type": "code",
   "execution_count": 36,
   "metadata": {
    "id": "c3bSy3KfI5p-"
   },
   "outputs": [],
   "source": [
    "del x, y, x_recon, mu, log_var"
   ]
  },
  {
   "cell_type": "code",
   "execution_count": null,
   "metadata": {
    "id": "xeUy4pTpI8cI"
   },
   "outputs": [],
   "source": []
  },
  {
   "cell_type": "code",
   "execution_count": null,
   "metadata": {
    "id": "exN2kJRjL1Q5"
   },
   "outputs": [],
   "source": []
  },
  {
   "cell_type": "code",
   "execution_count": 37,
   "metadata": {
    "colab": {
     "base_uri": "https://localhost:8080/"
    },
    "id": "p5vNyixQF1Wp",
    "outputId": "b26e0176-d3d4-4f6d-ba3f-53231d56dc1d"
   },
   "outputs": [
    {
     "name": "stdout",
     "output_type": "stream",
     "text": [
      "Model: \"vae\"\n",
      "_________________________________________________________________\n",
      " Layer (type)                Output Shape              Param #   \n",
      "=================================================================\n",
      " encoder (Encoder)           multiple                  268903    \n",
      "                                                                 \n",
      " decoder (Decoder)           multiple                  267684    \n",
      "                                                                 \n",
      " dense_6 (Dense)             multiple                  12        \n",
      "                                                                 \n",
      " dense_7 (Dense)             multiple                  12        \n",
      "                                                                 \n",
      "=================================================================\n",
      "Total params: 536,611\n",
      "Trainable params: 536,611\n",
      "Non-trainable params: 0\n",
      "_________________________________________________________________\n"
     ]
    }
   ],
   "source": [
    "# Get model summary-\n",
    "model.summary()"
   ]
  },
  {
   "cell_type": "code",
   "execution_count": 38,
   "metadata": {
    "colab": {
     "base_uri": "https://localhost:8080/"
    },
    "id": "LIM2BgoRF4OI",
    "outputId": "d78376a1-f822-44ef-c0ea-4dcc1770e240"
   },
   "outputs": [
    {
     "name": "stdout",
     "output_type": "stream",
     "text": [
      "layer: (794, 300) has 238199 parameters\n",
      "layer: (300,) has 0 parameters\n",
      "layer: (300, 100) has 30000 parameters\n",
      "layer: (100,) has 0 parameters\n",
      "layer: (100, 3) has 300 parameters\n",
      "layer: (3,) has 0 parameters\n",
      "layer: (13, 100) has 1300 parameters\n",
      "layer: (100,) has 0 parameters\n",
      "layer: (100, 300) has 30000 parameters\n",
      "layer: (300,) has 0 parameters\n",
      "layer: (300, 784) has 235200 parameters\n",
      "layer: (784,) has 0 parameters\n",
      "layer: (3, 3) has 9 parameters\n",
      "layer: (3,) has 0 parameters\n",
      "layer: (3, 3) has 9 parameters\n",
      "layer: (3,) has 0 parameters\n"
     ]
    }
   ],
   "source": [
    "# Count layer-wise number of trainable parameters-\n",
    "tot_params = 0\n",
    "\n",
    "for layer in model.trainable_weights:\n",
    "    loc_params = tf.math.count_nonzero(layer, axis = None).numpy()\n",
    "    tot_params += loc_params\n",
    "    print(f\"layer: {layer.shape} has {loc_params} parameters\")"
   ]
  },
  {
   "cell_type": "code",
   "execution_count": 39,
   "metadata": {
    "colab": {
     "base_uri": "https://localhost:8080/"
    },
    "id": "T3QDX-IVF5zH",
    "outputId": "4ba1a9b6-3ee0-42fd-8c58-d4be9de584b5"
   },
   "outputs": [
    {
     "name": "stdout",
     "output_type": "stream",
     "text": [
      "VAE has 535017 trainable parameters\n"
     ]
    }
   ],
   "source": [
    "print(f\"VAE has {tot_params} trainable parameters\")"
   ]
  },
  {
   "cell_type": "code",
   "execution_count": null,
   "metadata": {
    "id": "GbZM0R2RF7h2"
   },
   "outputs": [],
   "source": []
  },
  {
   "cell_type": "code",
   "execution_count": null,
   "metadata": {},
   "outputs": [],
   "source": []
  },
  {
   "cell_type": "code",
   "execution_count": 40,
   "metadata": {
    "id": "IFPw4LsCF7lQ"
   },
   "outputs": [],
   "source": [
    "# Define an optimizer-\n",
    "optimizer = tf.keras.optimizers.Adam(learning_rate = 1e-4)"
   ]
  },
  {
   "cell_type": "code",
   "execution_count": null,
   "metadata": {},
   "outputs": [],
   "source": []
  },
  {
   "cell_type": "code",
   "execution_count": null,
   "metadata": {
    "id": "Nc-UrbkRVze1"
   },
   "outputs": [],
   "source": []
  },
  {
   "cell_type": "code",
   "execution_count": 41,
   "metadata": {
    "id": "RhYClYu0Vze1"
   },
   "outputs": [],
   "source": [
    "def compute_loss(data, reconstruction, mu, log_var, alpha = 1, beta = 1):\n",
    "    \n",
    "    # Reconstruction loss-\n",
    "    # recon_loss = tf.keras.losses.mean_squared_error(K.flatten(data), K.flatten(reconstruction))\n",
    "\n",
    "    recon_loss = tf.reduce_mean(\n",
    "        tf.reduce_sum(\n",
    "            # tf.keras.losses.binary_crossentropy(data, reconstruction), axis=(1, 2)\n",
    "            tf.keras.losses.mean_squared_error(data, reconstruction),\n",
    "            # axis = (1, 2)\n",
    "            )\n",
    "        )\n",
    "    \n",
    "    # KL-divergence loss-    \n",
    "    kl_loss = -0.5 * (1 + log_var - tf.square(mu) - tf.exp(log_var))\n",
    "    kl_loss = tf.reduce_mean(tf.reduce_sum(kl_loss, axis = 1))\n",
    "\n",
    "    total_loss = (recon_loss * alpha) + (kl_loss * beta)\n",
    "    \n",
    "    return total_loss, recon_loss, kl_loss\n",
    "    "
   ]
  },
  {
   "cell_type": "code",
   "execution_count": null,
   "metadata": {
    "id": "-U2wS1AzVze1"
   },
   "outputs": [],
   "source": [
    "\"\"\"\n",
    "def compute_loss(data, reconstruction, mu, log_var, alpha = 1, beta = 1):\n",
    "    \n",
    "    # Reconstruction loss-\n",
    "    recon_loss = tf.keras.losses.mean_squared_error(K.flatten(data), K.flatten(reconstruction))\n",
    "    \n",
    "    # KL-divergence loss-\n",
    "    kl_loss = -0.5 * (1 + log_var - K.square(mu) - K.exp(log_var))\n",
    "    # kl_loss = K.sum(kl_loss, axis = -1)\n",
    "    # kl_loss = K.mean(kl_loss)\n",
    "    kl_loss = K.mean(K.sum(kl_loss, axis = -1))\n",
    "    \n",
    "    total_loss = (recon_loss * alpha) + kl_loss\n",
    "    \n",
    "    return total_loss, recon_loss, kl_loss\n",
    "\"\"\""
   ]
  },
  {
   "cell_type": "code",
   "execution_count": null,
   "metadata": {
    "id": "lGnjV1ZsVze2"
   },
   "outputs": [],
   "source": [
    "'''\n",
    "total_loss, recon_loss, kl_loss = compute_loss(\n",
    "    data = X, reconstruction = X_recon,\n",
    "    mu = mu, log_var = log_var,\n",
    "    alpha = 1, beta = 1\n",
    ")\n",
    "'''"
   ]
  },
  {
   "cell_type": "code",
   "execution_count": null,
   "metadata": {
    "id": "ziwaKEthVze2"
   },
   "outputs": [],
   "source": [
    "# total_loss\n",
    "# <tf.Tensor: shape=(), dtype=float32, numpy=1.0787445>"
   ]
  },
  {
   "cell_type": "code",
   "execution_count": null,
   "metadata": {
    "id": "8SyKojsHVze3"
   },
   "outputs": [],
   "source": []
  },
  {
   "cell_type": "code",
   "execution_count": null,
   "metadata": {
    "id": "UT2gny4jVze3"
   },
   "outputs": [],
   "source": []
  },
  {
   "cell_type": "code",
   "execution_count": 64,
   "metadata": {
    "id": "mqFh7aRmVze3"
   },
   "outputs": [],
   "source": [
    "@tf.function\n",
    "def train_one_step(model, optimizer, x, y, alpha, beta):\n",
    "    # Function to perform one step/iteration of training\n",
    "\n",
    "    with tf.GradientTape() as tape:\n",
    "        # Make predictions using defined model-\n",
    "        X_recon, mu, log_var = model(x, y)\n",
    "\n",
    "        # Compute loss-\n",
    "        total_loss, recon_loss, kl_loss = compute_loss(\n",
    "            data = x, reconstruction = X_recon,\n",
    "            mu = mu, log_var = log_var,\n",
    "            alpha = alpha\n",
    "        )\n",
    "    \n",
    "    # Compute gradients wrt defined loss and weights and biases-\n",
    "    grads = tape.gradient(total_loss, model.trainable_variables)\n",
    "    \n",
    "    # type(grads), len(grads)\n",
    "    # (list, 20)\n",
    "    \n",
    "    # Apply computed gradients to model's weights and biases-\n",
    "    optimizer.apply_gradients(zip(grads, model.trainable_variables))\n",
    "    \n",
    "    return total_loss, recon_loss, kl_loss\n"
   ]
  },
  {
   "cell_type": "code",
   "execution_count": 65,
   "metadata": {
    "id": "8wQ-GmThVze3"
   },
   "outputs": [],
   "source": [
    "@tf.function\n",
    "def test_step(model, optimizer, x, y, alpha, beta):\n",
    "    '''\n",
    "    Function to test model performance\n",
    "    on testing dataset\n",
    "    '''\n",
    "    # Make predictions using defined model-\n",
    "    X_recon, mu, log_var = model(x, y)\n",
    "    \n",
    "    # Compute loss-\n",
    "    total_loss, recon_loss, kl_loss = compute_loss(\n",
    "        data = x, reconstruction = X_recon,\n",
    "        mu = mu, log_var = log_var,\n",
    "        alpha = alpha\n",
    "    )\n",
    "    \n",
    "    return total_loss, recon_loss, kl_loss\n"
   ]
  },
  {
   "cell_type": "code",
   "execution_count": null,
   "metadata": {
    "id": "UuvJRTCzVze4"
   },
   "outputs": [],
   "source": [
    "'''\n",
    "total_loss = train_one_step(\n",
    "    model = model, optimizer = optimizer,\n",
    "    data = X, alpha = 1,\n",
    "    beta = 1\n",
    ")\n",
    "'''"
   ]
  },
  {
   "cell_type": "code",
   "execution_count": null,
   "metadata": {
    "id": "wDWJAVVsVze4"
   },
   "outputs": [],
   "source": [
    "# total_loss\n",
    "# <tf.Tensor: shape=(), dtype=float32, numpy=0.23313756>"
   ]
  },
  {
   "cell_type": "code",
   "execution_count": null,
   "metadata": {
    "id": "bvee16hKVze4"
   },
   "outputs": [],
   "source": []
  },
  {
   "cell_type": "code",
   "execution_count": 66,
   "metadata": {
    "id": "YEdbEGw4ZwAd"
   },
   "outputs": [],
   "source": [
    "# Python3 dict to contain training metrics-\n",
    "training_metrics = {}\n",
    "val_metrics = {}"
   ]
  },
  {
   "cell_type": "code",
   "execution_count": 67,
   "metadata": {
    "id": "ijfWUXEBVze5"
   },
   "outputs": [],
   "source": [
    "# Specify hyper-parameter for reconstruction loss vs. kl-divergence-\n",
    "alpha = 1"
   ]
  },
  {
   "cell_type": "code",
   "execution_count": 68,
   "metadata": {},
   "outputs": [],
   "source": [
    "beta = 1"
   ]
  },
  {
   "cell_type": "code",
   "execution_count": null,
   "metadata": {},
   "outputs": [],
   "source": []
  },
  {
   "cell_type": "code",
   "execution_count": 69,
   "metadata": {
    "id": "vMy_55q9aESs"
   },
   "outputs": [
    {
     "name": "stdout",
     "output_type": "stream",
     "text": [
      "Conditional VAE will be trained for 30 epochs\n"
     ]
    }
   ],
   "source": [
    "print(f\"Conditional VAE will be trained for {num_epochs} epochs\")"
   ]
  },
  {
   "cell_type": "code",
   "execution_count": null,
   "metadata": {},
   "outputs": [],
   "source": []
  },
  {
   "cell_type": "code",
   "execution_count": null,
   "metadata": {},
   "outputs": [],
   "source": []
  },
  {
   "cell_type": "code",
   "execution_count": 70,
   "metadata": {
    "colab": {
     "base_uri": "https://localhost:8080/"
    },
    "id": "9VVkC8qPVze5",
    "outputId": "53089c5f-f2cb-4029-bacc-d637acbec688"
   },
   "outputs": [
    {
     "name": "stdout",
     "output_type": "stream",
     "text": [
      "epoch = 1; total train loss = 5059.9284, train recon loss = 5037.8071, train kl loss = 22.1213; total val loss = 630.9005, val recon loss = 630.8390 & val kl loss = 0.0615\n",
      "epoch = 2; total train loss = 3533.9863, train recon loss = 3533.7802, train kl loss = 0.2062; total val loss = 554.4937, val recon loss = 554.4602 & val kl loss = 0.0335\n",
      "epoch = 3; total train loss = 3285.5968, train recon loss = 3285.3708, train kl loss = 0.2260; total val loss = 538.7989, val recon loss = 538.7647 & val kl loss = 0.0342\n",
      "epoch = 4; total train loss = 3237.8277, train recon loss = 3237.6700, train kl loss = 0.1577; total val loss = 534.0060, val recon loss = 533.9882 & val kl loss = 0.0178\n",
      "epoch = 5; total train loss = 3223.1565, train recon loss = 3223.0766, train kl loss = 0.0799; total val loss = 532.3537, val recon loss = 532.3447 & val kl loss = 0.0091\n",
      "epoch = 6; total train loss = 3215.7607, train recon loss = 3215.7194, train kl loss = 0.0414; total val loss = 531.2437, val recon loss = 531.2388 & val kl loss = 0.0049\n",
      "epoch = 7; total train loss = 3211.6221, train recon loss = 3211.5990, train kl loss = 0.0231; total val loss = 531.5323, val recon loss = 531.5296 & val kl loss = 0.0027\n",
      "epoch = 8; total train loss = 3209.2120, train recon loss = 3209.1984, train kl loss = 0.0136; total val loss = 530.5724, val recon loss = 530.5709 & val kl loss = 0.0015\n",
      "epoch = 9; total train loss = 3207.7172, train recon loss = 3207.7075, train kl loss = 0.0097; total val loss = 530.0890, val recon loss = 530.0875 & val kl loss = 0.0015\n",
      "epoch = 10; total train loss = 3206.5571, train recon loss = 3206.5503, train kl loss = 0.0068; total val loss = 530.5108, val recon loss = 530.5097 & val kl loss = 0.0011\n",
      "epoch = 11; total train loss = 3206.1393, train recon loss = 3206.1334, train kl loss = 0.0058; total val loss = 530.2070, val recon loss = 530.2061 & val kl loss = 0.0009\n",
      "epoch = 12; total train loss = 3205.5067, train recon loss = 3205.5023, train kl loss = 0.0045; total val loss = 530.2435, val recon loss = 530.2425 & val kl loss = 0.0010\n",
      "epoch = 13; total train loss = 3204.7087, train recon loss = 3204.7052, train kl loss = 0.0036; total val loss = 530.0421, val recon loss = 530.0418 & val kl loss = 0.0003\n",
      "epoch = 14; total train loss = 3204.4888, train recon loss = 3204.4861, train kl loss = 0.0026; total val loss = 530.1273, val recon loss = 530.1269 & val kl loss = 0.0004\n",
      "epoch = 15; total train loss = 3203.9765, train recon loss = 3203.9744, train kl loss = 0.0021; total val loss = 529.6359, val recon loss = 529.6356 & val kl loss = 0.0002\n",
      "epoch = 16; total train loss = 3203.8105, train recon loss = 3203.8089, train kl loss = 0.0016; total val loss = 530.1994, val recon loss = 530.1990 & val kl loss = 0.0003\n",
      "epoch = 17; total train loss = 3203.5361, train recon loss = 3203.5346, train kl loss = 0.0015; total val loss = 530.2735, val recon loss = 530.2733 & val kl loss = 0.0003\n",
      "epoch = 18; total train loss = 3203.7003, train recon loss = 3203.6989, train kl loss = 0.0014; total val loss = 529.7729, val recon loss = 529.7726 & val kl loss = 0.0003\n",
      "epoch = 19; total train loss = 3203.3867, train recon loss = 3203.3854, train kl loss = 0.0013; total val loss = 530.1215, val recon loss = 530.1213 & val kl loss = 0.0002\n",
      "epoch = 20; total train loss = 3203.0997, train recon loss = 3203.0986, train kl loss = 0.0011; total val loss = 529.8685, val recon loss = 529.8684 & val kl loss = 0.0001\n",
      "epoch = 21; total train loss = 3203.0221, train recon loss = 3203.0211, train kl loss = 0.0010; total val loss = 529.9449, val recon loss = 529.9446 & val kl loss = 0.0003\n",
      "epoch = 22; total train loss = 3202.8755, train recon loss = 3202.8746, train kl loss = 0.0009; total val loss = 529.5222, val recon loss = 529.5221 & val kl loss = 0.0001\n",
      "epoch = 23; total train loss = 3202.9815, train recon loss = 3202.9807, train kl loss = 0.0008; total val loss = 529.7276, val recon loss = 529.7275 & val kl loss = 0.0001\n",
      "epoch = 24; total train loss = 3202.7029, train recon loss = 3202.7023, train kl loss = 0.0006; total val loss = 529.8979, val recon loss = 529.8978 & val kl loss = 0.0001\n",
      "epoch = 25; total train loss = 3202.8765, train recon loss = 3202.8760, train kl loss = 0.0006; total val loss = 529.6557, val recon loss = 529.6556 & val kl loss = 0.0001\n",
      "epoch = 26; total train loss = 3202.5720, train recon loss = 3202.5714, train kl loss = 0.0006; total val loss = 530.2415, val recon loss = 530.2412 & val kl loss = 0.0003\n",
      "epoch = 27; total train loss = 3202.6699, train recon loss = 3202.6693, train kl loss = 0.0006; total val loss = 529.8704, val recon loss = 529.8702 & val kl loss = 0.0001\n",
      "epoch = 28; total train loss = 3202.3344, train recon loss = 3202.3339, train kl loss = 0.0005; total val loss = 529.6601, val recon loss = 529.6600 & val kl loss = 0.0001\n",
      "epoch = 29; total train loss = 3202.4267, train recon loss = 3202.4261, train kl loss = 0.0006; total val loss = 529.5466, val recon loss = 529.5466 & val kl loss = 0.0001\n",
      "epoch = 30; total train loss = 3202.3675, train recon loss = 3202.3670, train kl loss = 0.0005; total val loss = 529.8834, val recon loss = 529.8834 & val kl loss = 0.0001\n"
     ]
    }
   ],
   "source": [
    "for epoch in range(1, num_epochs + 1):\n",
    "    \n",
    "    # Epoch train & validation losses-\n",
    "    train_loss = 0.0\n",
    "    train_r_loss = 0.0\n",
    "    train_kl_l = 0.0\n",
    "    val_loss = 0.0\n",
    "    val_r_loss = 0.0\n",
    "    val_kl_l = 0.0\n",
    "    \n",
    "    for x, y in train_dataset:\n",
    "        train_total_loss, train_recon_loss, train_kl_loss = train_one_step(\n",
    "            model = model, optimizer = optimizer,\n",
    "            x = x, y = y,\n",
    "            alpha = alpha, beta = beta\n",
    "        )\n",
    "        \n",
    "        train_loss += train_total_loss.numpy()\n",
    "        train_r_loss += train_recon_loss.numpy()\n",
    "        train_kl_l += train_kl_loss.numpy()\n",
    "    \n",
    "    for x, y in test_dataset:\n",
    "        test_total_loss, test_recon_loss, test_kl_loss = test_step(\n",
    "            model = model, optimizer = optimizer,\n",
    "            x = x, y = y,\n",
    "            alpha = alpha, beta = beta\n",
    "        )\n",
    "        \n",
    "        val_loss += test_total_loss.numpy()\n",
    "        val_r_loss += test_recon_loss.numpy()\n",
    "        val_kl_l += test_kl_loss.numpy()\n",
    "    \n",
    "    # vae_train_loss.append(train_loss)\n",
    "    # vae_val_loss.append(val_loss)\n",
    "\n",
    "    training_metrics[epoch] = {\n",
    "        'total_loss': train_loss, 'recon_loss': train_r_loss,\n",
    "        'kl_loss': train_kl_l\n",
    "        }\n",
    "    \n",
    "    val_metrics[epoch] = {\n",
    "        'total_loss': val_loss, 'recon_loss': val_r_loss,\n",
    "        'kl_loss': val_kl_l\n",
    "    }\n",
    "\n",
    "    print(f\"epoch = {epoch}; total train loss = {train_loss:.4f},\"\n",
    "    f\" train recon loss = {train_r_loss:.4f}, train kl loss = {train_kl_l:.4f};\"\n",
    "    f\" total val loss = {val_loss:.4f}, val recon loss = {val_r_loss:.4f} &\"\n",
    "    f\" val kl loss = {val_kl_l:.4f}\"\n",
    "    )\n",
    "    "
   ]
  },
  {
   "cell_type": "code",
   "execution_count": null,
   "metadata": {
    "id": "4B4hmX_nbdBV"
   },
   "outputs": [],
   "source": []
  },
  {
   "cell_type": "code",
   "execution_count": null,
   "metadata": {
    "id": "LLE-3suofUvE"
   },
   "outputs": [],
   "source": []
  },
  {
   "cell_type": "code",
   "execution_count": 71,
   "metadata": {
    "colab": {
     "base_uri": "https://localhost:8080/"
    },
    "id": "FFCwu8J8bo3D",
    "outputId": "f4797146-35d5-4265-c688-36f0f8cb5736"
   },
   "outputs": [
    {
     "data": {
      "text/plain": [
       "dict_keys([1, 2, 3, 4, 5, 6, 7, 8, 9, 10, 11, 12, 13, 14, 15, 16, 17, 18, 19, 20, 21, 22, 23, 24, 25, 26, 27, 28, 29, 30])"
      ]
     },
     "execution_count": 71,
     "metadata": {},
     "output_type": "execute_result"
    }
   ],
   "source": [
    "# Sanity check for Python3 dicts containing training metrics-\n",
    "training_metrics.keys()"
   ]
  },
  {
   "cell_type": "code",
   "execution_count": 72,
   "metadata": {
    "colab": {
     "base_uri": "https://localhost:8080/"
    },
    "id": "5YBdfauiVze5",
    "outputId": "fc06d418-ea9b-4909-8b2d-0f1ad6bf3e64"
   },
   "outputs": [
    {
     "data": {
      "text/plain": [
       "dict_keys([1, 2, 3, 4, 5, 6, 7, 8, 9, 10, 11, 12, 13, 14, 15, 16, 17, 18, 19, 20, 21, 22, 23, 24, 25, 26, 27, 28, 29, 30])"
      ]
     },
     "execution_count": 72,
     "metadata": {},
     "output_type": "execute_result"
    }
   ],
   "source": [
    "val_metrics.keys()"
   ]
  },
  {
   "cell_type": "code",
   "execution_count": 73,
   "metadata": {
    "colab": {
     "base_uri": "https://localhost:8080/"
    },
    "id": "w5EV_gO5bvWa",
    "outputId": "cd493dfc-8bf4-43d6-859e-13ba6981ba71"
   },
   "outputs": [
    {
     "data": {
      "text/plain": [
       "dict_keys(['total_loss', 'recon_loss', 'kl_loss'])"
      ]
     },
     "execution_count": 73,
     "metadata": {},
     "output_type": "execute_result"
    }
   ],
   "source": [
    "training_metrics[5].keys()"
   ]
  },
  {
   "cell_type": "code",
   "execution_count": 74,
   "metadata": {
    "colab": {
     "base_uri": "https://localhost:8080/"
    },
    "id": "Xosj1JxmbyE0",
    "outputId": "ca685842-4464-416d-8e1f-2c6cb24ef578"
   },
   "outputs": [
    {
     "data": {
      "text/plain": [
       "dict_keys(['total_loss', 'recon_loss', 'kl_loss'])"
      ]
     },
     "execution_count": 74,
     "metadata": {},
     "output_type": "execute_result"
    }
   ],
   "source": [
    "val_metrics[5].keys()"
   ]
  },
  {
   "cell_type": "code",
   "execution_count": null,
   "metadata": {
    "id": "B-4EvOqxb0CC"
   },
   "outputs": [],
   "source": []
  },
  {
   "cell_type": "code",
   "execution_count": 75,
   "metadata": {
    "id": "R7XranATfV7y"
   },
   "outputs": [],
   "source": [
    "# Save trained model-\n",
    "model.save_weights(\"Conditional_VAE_MNIST_trained.h5\", overwrite = True)"
   ]
  },
  {
   "cell_type": "code",
   "execution_count": null,
   "metadata": {
    "id": "wLGj8VlZfamX"
   },
   "outputs": [],
   "source": []
  },
  {
   "cell_type": "code",
   "execution_count": null,
   "metadata": {
    "id": "TWVLuGRefaqB"
   },
   "outputs": [],
   "source": []
  },
  {
   "cell_type": "markdown",
   "metadata": {
    "id": "Zi_6ZtzKfR2L"
   },
   "source": [
    "### Visualize training metrics"
   ]
  },
  {
   "cell_type": "code",
   "execution_count": 76,
   "metadata": {
    "colab": {
     "base_uri": "https://localhost:8080/",
     "height": 458
    },
    "id": "Bc8ltdTEbsC7",
    "outputId": "040fb8e0-20c8-43ac-ab63-91558eb83f6f"
   },
   "outputs": [
    {
     "data": {
      "image/png": "[encoded data removed]",
      "text/plain": [
       "<Figure size 648x504 with 1 Axes>"
      ]
     },
     "metadata": {
      "needs_background": "light"
     },
     "output_type": "display_data"
    }
   ],
   "source": [
    "plt.figure(figsize = (9, 7))\n",
    "plt.plot([training_metrics[e]['total_loss'] for e in training_metrics.keys()], label = 'train total loss')\n",
    "plt.legend(loc = 'best')\n",
    "plt.xlabel(\"epochs\")\n",
    "plt.title(\"Conditional VAE: Training Visualization - Total Training Loss\")\n",
    "plt.show()"
   ]
  },
  {
   "cell_type": "code",
   "execution_count": 77,
   "metadata": {
    "colab": {
     "base_uri": "https://localhost:8080/",
     "height": 458
    },
    "id": "v-bl7zWRdjLT",
    "outputId": "9809d8ad-b1c6-4683-f5b2-f59da6fda21f"
   },
   "outputs": [
    {
     "data": {
      "image/png": "[encoded data removed]",
      "text/plain": [
       "<Figure size 648x504 with 1 Axes>"
      ]
     },
     "metadata": {
      "needs_background": "light"
     },
     "output_type": "display_data"
    }
   ],
   "source": [
    "plt.figure(figsize = (9, 7))\n",
    "plt.plot([val_metrics[e]['total_loss'] for e in val_metrics.keys()], label = 'val total loss')\n",
    "plt.legend(loc = 'best')\n",
    "plt.xlabel(\"epochs\")\n",
    "plt.title(\"Conditional VAE: Training Visualization - Total Validation Loss\")\n",
    "plt.show()"
   ]
  },
  {
   "cell_type": "code",
   "execution_count": 78,
   "metadata": {
    "colab": {
     "base_uri": "https://localhost:8080/",
     "height": 458
    },
    "id": "TjkFW_Vwd0A6",
    "outputId": "5193160b-f62e-443e-c739-0397bbf1669d"
   },
   "outputs": [
    {
     "data": {
      "image/png": "[encoded data removed]",
      "text/plain": [
       "<Figure size 648x504 with 1 Axes>"
      ]
     },
     "metadata": {
      "needs_background": "light"
     },
     "output_type": "display_data"
    }
   ],
   "source": [
    "plt.figure(figsize = (9, 7))\n",
    "plt.plot([training_metrics[e]['recon_loss'] for e in training_metrics.keys()], label = 'train recon loss')\n",
    "plt.legend(loc = 'best')\n",
    "plt.xlabel(\"epochs\")\n",
    "plt.title(\"Conditional VAE: Training Visualization - Reconstruction Loss (training)\")\n",
    "plt.show()"
   ]
  },
  {
   "cell_type": "code",
   "execution_count": 79,
   "metadata": {
    "colab": {
     "base_uri": "https://localhost:8080/",
     "height": 458
    },
    "id": "f6b0MxLsd5YC",
    "outputId": "6b9d6223-08ae-4cf6-d942-f2b5c4d69c2d"
   },
   "outputs": [
    {
     "data": {
      "image/png": "[encoded data removed]",
      "text/plain": [
       "<Figure size 648x504 with 1 Axes>"
      ]
     },
     "metadata": {
      "needs_background": "light"
     },
     "output_type": "display_data"
    }
   ],
   "source": [
    "plt.figure(figsize = (9, 7))\n",
    "plt.plot([val_metrics[e]['recon_loss'] for e in val_metrics.keys()], label = 'val recon loss')\n",
    "plt.legend(loc = 'best')\n",
    "plt.xlabel(\"epochs\")\n",
    "plt.title(\"Conditional VAE: Training Visualization - Reconstruction Loss (validation)\")\n",
    "plt.show()"
   ]
  },
  {
   "cell_type": "code",
   "execution_count": 80,
   "metadata": {
    "colab": {
     "base_uri": "https://localhost:8080/",
     "height": 458
    },
    "id": "XHNued-Gd-Ke",
    "outputId": "1201ea7c-08f0-415e-e052-d3435aa899d5"
   },
   "outputs": [
    {
     "data": {
      "image/png": "[encoded data removed]",
      "text/plain": [
       "<Figure size 648x504 with 1 Axes>"
      ]
     },
     "metadata": {
      "needs_background": "light"
     },
     "output_type": "display_data"
    }
   ],
   "source": [
    "plt.figure(figsize = (9, 7))\n",
    "plt.plot([training_metrics[e]['kl_loss'] for e in training_metrics.keys()], label = 'train KL-div loss')\n",
    "plt.legend(loc = 'best')\n",
    "plt.xlabel(\"epochs\")\n",
    "plt.title(\"Conditional VAE: Training Visualization - KL-div Loss (training)\")\n",
    "plt.show()"
   ]
  },
  {
   "cell_type": "code",
   "execution_count": 81,
   "metadata": {
    "colab": {
     "base_uri": "https://localhost:8080/",
     "height": 458
    },
    "id": "QL4_P35FeEi_",
    "outputId": "47e9b357-c0ab-4168-9926-681eefb39fa5"
   },
   "outputs": [
    {
     "data": {
      "image/png": "[encoded data removed]",
      "text/plain": [
       "<Figure size 648x504 with 1 Axes>"
      ]
     },
     "metadata": {
      "needs_background": "light"
     },
     "output_type": "display_data"
    }
   ],
   "source": [
    "plt.figure(figsize = (9, 7))\n",
    "plt.plot([val_metrics[e]['kl_loss'] for e in val_metrics.keys()], label = 'val KL-div loss')\n",
    "plt.legend(loc = 'best')\n",
    "plt.xlabel(\"epochs\")\n",
    "plt.title(\"Conditional VAE: Training Visualization - KL-div Loss (validation)\")\n",
    "plt.show()"
   ]
  },
  {
   "cell_type": "code",
   "execution_count": null,
   "metadata": {
    "id": "JGqzGa0UeJi3"
   },
   "outputs": [],
   "source": []
  },
  {
   "cell_type": "code",
   "execution_count": null,
   "metadata": {
    "id": "nbn8zLwMXBSs"
   },
   "outputs": [],
   "source": []
  },
  {
   "cell_type": "markdown",
   "metadata": {
    "id": "gbj3vB2KeoWV"
   },
   "source": [
    "### Visualize _reconstructions_ using trained VAE model"
   ]
  },
  {
   "cell_type": "code",
   "execution_count": 115,
   "metadata": {},
   "outputs": [],
   "source": [
    "x, y = next(iter(train_dataset))"
   ]
  },
  {
   "cell_type": "code",
   "execution_count": 116,
   "metadata": {},
   "outputs": [
    {
     "data": {
      "text/plain": [
       "(TensorShape([64, 784]), TensorShape([64, 10]))"
      ]
     },
     "execution_count": 116,
     "metadata": {},
     "output_type": "execute_result"
    }
   ],
   "source": [
    "x.shape, y.shape"
   ]
  },
  {
   "cell_type": "code",
   "execution_count": null,
   "metadata": {},
   "outputs": [],
   "source": []
  },
  {
   "cell_type": "code",
   "execution_count": 117,
   "metadata": {},
   "outputs": [],
   "source": [
    "# Get reconstructions, mean & log-variance from trained model-\n",
    "x_recon, mu, log_var = model(x, y)"
   ]
  },
  {
   "cell_type": "code",
   "execution_count": 118,
   "metadata": {
    "colab": {
     "base_uri": "https://localhost:8080/"
    },
    "id": "_5dxnX4oYN3Z",
    "outputId": "494e9e7c-1742-46c0-c3ca-86243be1a244"
   },
   "outputs": [
    {
     "data": {
      "text/plain": [
       "(TensorShape([64, 784]), TensorShape([64, 784]))"
      ]
     },
     "execution_count": 118,
     "metadata": {},
     "output_type": "execute_result"
    }
   ],
   "source": [
    "# Sanity check-\n",
    "x.shape, x_recon.shape"
   ]
  },
  {
   "cell_type": "code",
   "execution_count": 119,
   "metadata": {},
   "outputs": [],
   "source": [
    "x_recon = tf.reshape(\n",
    "    tensor = x_recon,\n",
    "    shape = ((x_recon.shape[0], 28, 28)),\n",
    "    name = None\n",
    ")"
   ]
  },
  {
   "cell_type": "code",
   "execution_count": 120,
   "metadata": {},
   "outputs": [
    {
     "data": {
      "text/plain": [
       "(64, 28, 28)"
      ]
     },
     "execution_count": 120,
     "metadata": {},
     "output_type": "execute_result"
    }
   ],
   "source": [
    "x_recon.numpy().shape"
   ]
  },
  {
   "cell_type": "code",
   "execution_count": null,
   "metadata": {
    "id": "Aq3mf5ODYRIV"
   },
   "outputs": [],
   "source": []
  },
  {
   "cell_type": "code",
   "execution_count": 121,
   "metadata": {
    "colab": {
     "base_uri": "https://localhost:8080/",
     "height": 265
    },
    "id": "Q6EoeQHpYqob",
    "outputId": "9c3d5b9b-0737-407d-cc41-f9f6bdf35276"
   },
   "outputs": [
    {
     "data": {
      "image/png": "[encoded data removed]",
      "text/plain": [
       "<Figure size 432x288 with 1 Axes>"
      ]
     },
     "metadata": {
      "needs_background": "light"
     },
     "output_type": "display_data"
    }
   ],
   "source": [
    "# Visualize a single digit-\n",
    "plt.imshow(x_recon[20], cmap = plt.get_cmap('gray'))\n",
    "plt.show()"
   ]
  },
  {
   "cell_type": "code",
   "execution_count": 122,
   "metadata": {
    "colab": {
     "base_uri": "https://localhost:8080/",
     "height": 479
    },
    "id": "MqgovHByaI-7",
    "outputId": "e975ccb9-af39-432f-da77-bd0ba0d9c33a"
   },
   "outputs": [
    {
     "data": {
      "image/png": "[encoded data removed]",
      "text/plain": [
       "<Figure size 648x504 with 20 Axes>"
      ]
     },
     "metadata": {
      "needs_background": "light"
     },
     "output_type": "display_data"
    }
   ],
   "source": [
    "# Visualize 20 reconstruced images-\n",
    "plt.figure(figsize = (9, 7))\n",
    "for i in range(20):\n",
    "    # 4 rows & 5 columns-\n",
    "    plt.subplot(4, 5, i + 1)\n",
    "    plt.imshow(x_recon[i], cmap = plt.get_cmap('gray'))\n",
    "    \n",
    "plt.suptitle(\"Conditional VAE: MNIST Reconstructed images\")\n",
    "plt.show()"
   ]
  },
  {
   "cell_type": "code",
   "execution_count": null,
   "metadata": {
    "id": "TLzWku6tZTsp"
   },
   "outputs": [],
   "source": []
  },
  {
   "cell_type": "code",
   "execution_count": null,
   "metadata": {},
   "outputs": [],
   "source": []
  },
  {
   "cell_type": "markdown",
   "metadata": {},
   "source": [
    "### Generate MNIST reconstructed images for digit _5_:"
   ]
  },
  {
   "cell_type": "code",
   "execution_count": 123,
   "metadata": {},
   "outputs": [
    {
     "data": {
      "text/plain": [
       "(TensorShape([64, 3]), TensorShape([64, 3]))"
      ]
     },
     "execution_count": 123,
     "metadata": {},
     "output_type": "execute_result"
    }
   ],
   "source": [
    "mu.shape, log_var.shape"
   ]
  },
  {
   "cell_type": "code",
   "execution_count": 125,
   "metadata": {},
   "outputs": [
    {
     "data": {
      "text/plain": [
       "(TensorShape([20, 3]), TensorShape([20, 3]))"
      ]
     },
     "execution_count": 125,
     "metadata": {},
     "output_type": "execute_result"
    }
   ],
   "source": [
    "mu[:20].shape, log_var[:20].shape"
   ]
  },
  {
   "cell_type": "code",
   "execution_count": null,
   "metadata": {},
   "outputs": [],
   "source": []
  },
  {
   "cell_type": "code",
   "execution_count": 128,
   "metadata": {},
   "outputs": [],
   "source": [
    "eps = tf.random.normal(\n",
    "    shape = mu.shape, mean = 0.0,\n",
    "    stddev = 1.0, dtype = tf.float32\n",
    ")"
   ]
  },
  {
   "cell_type": "code",
   "execution_count": 131,
   "metadata": {},
   "outputs": [],
   "source": [
    "z = (eps * tf.exp(log_var * 0.5) + mu)"
   ]
  },
  {
   "cell_type": "code",
   "execution_count": 132,
   "metadata": {},
   "outputs": [
    {
     "data": {
      "text/plain": [
       "(TensorShape([64, 3]), TensorShape([64, 3]))"
      ]
     },
     "execution_count": 132,
     "metadata": {},
     "output_type": "execute_result"
    }
   ],
   "source": [
    "z.shape, eps.shape"
   ]
  },
  {
   "cell_type": "code",
   "execution_count": 161,
   "metadata": {},
   "outputs": [
    {
     "data": {
      "text/plain": [
       "TensorShape([5, 3])"
      ]
     },
     "execution_count": 161,
     "metadata": {},
     "output_type": "execute_result"
    }
   ],
   "source": [
    "z[:5, :].shape"
   ]
  },
  {
   "cell_type": "code",
   "execution_count": null,
   "metadata": {},
   "outputs": [],
   "source": []
  },
  {
   "cell_type": "code",
   "execution_count": 181,
   "metadata": {},
   "outputs": [],
   "source": [
    "# Condition reconstructions for MNIST digit '9'-\n",
    "y = tf.constant(\n",
    "    [\n",
    "        [0., 0., 0., 0., 0., 0., 0., 0., 0., 1.],\n",
    "        [0., 0., 0., 0., 0., 0., 0., 0., 0., 1.],\n",
    "        [0., 0., 0., 0., 0., 0., 0., 0., 0., 1.],\n",
    "        [0., 0., 0., 0., 0., 0., 0., 0., 0., 1.],\n",
    "        [0., 0., 0., 0., 0., 0., 0., 0., 0., 1.]\n",
    "    ]\n",
    ") "
   ]
  },
  {
   "cell_type": "code",
   "execution_count": 182,
   "metadata": {},
   "outputs": [
    {
     "data": {
      "text/plain": [
       "TensorShape([5, 10])"
      ]
     },
     "execution_count": 182,
     "metadata": {},
     "output_type": "execute_result"
    }
   ],
   "source": [
    "y.shape"
   ]
  },
  {
   "cell_type": "code",
   "execution_count": null,
   "metadata": {},
   "outputs": [],
   "source": []
  },
  {
   "cell_type": "code",
   "execution_count": 183,
   "metadata": {},
   "outputs": [],
   "source": [
    "z_final = tf.concat(values = [z[:5, :], y], axis = 1)"
   ]
  },
  {
   "cell_type": "code",
   "execution_count": 184,
   "metadata": {},
   "outputs": [
    {
     "data": {
      "text/plain": [
       "(TensorShape([5, 13]), TensorShape([5, 3]), TensorShape([5, 3]))"
      ]
     },
     "execution_count": 184,
     "metadata": {},
     "output_type": "execute_result"
    }
   ],
   "source": [
    "# Sanity check-\n",
    "z_final.shape, mu[:5].shape, log_var[:5].shape"
   ]
  },
  {
   "cell_type": "code",
   "execution_count": null,
   "metadata": {},
   "outputs": [],
   "source": []
  },
  {
   "cell_type": "code",
   "execution_count": 185,
   "metadata": {},
   "outputs": [],
   "source": [
    "# Get reconstructions using trained decoder-\n",
    "img_recon = model.decoder(z_final)"
   ]
  },
  {
   "cell_type": "code",
   "execution_count": 186,
   "metadata": {},
   "outputs": [
    {
     "data": {
      "text/plain": [
       "TensorShape([5, 784])"
      ]
     },
     "execution_count": 186,
     "metadata": {},
     "output_type": "execute_result"
    }
   ],
   "source": [
    "img_recon.shape"
   ]
  },
  {
   "cell_type": "code",
   "execution_count": null,
   "metadata": {},
   "outputs": [],
   "source": []
  },
  {
   "cell_type": "code",
   "execution_count": 187,
   "metadata": {},
   "outputs": [],
   "source": [
    "img_recon = img_recon.numpy().reshape(img_recon.shape[0], 28, 28)"
   ]
  },
  {
   "cell_type": "code",
   "execution_count": 188,
   "metadata": {},
   "outputs": [
    {
     "data": {
      "text/plain": [
       "(5, 28, 28)"
      ]
     },
     "execution_count": 188,
     "metadata": {},
     "output_type": "execute_result"
    }
   ],
   "source": [
    "img_recon.shape"
   ]
  },
  {
   "cell_type": "code",
   "execution_count": null,
   "metadata": {},
   "outputs": [],
   "source": []
  },
  {
   "cell_type": "code",
   "execution_count": 189,
   "metadata": {
    "colab": {
     "base_uri": "https://localhost:8080/",
     "height": 265
    },
    "id": "Q6EoeQHpYqob",
    "outputId": "9c3d5b9b-0737-407d-cc41-f9f6bdf35276"
   },
   "outputs": [
    {
     "data": {
      "image/png": "[encoded data removed]",
      "text/plain": [
       "<Figure size 432x288 with 1 Axes>"
      ]
     },
     "metadata": {
      "needs_background": "light"
     },
     "output_type": "display_data"
    }
   ],
   "source": [
    "# Visualize a single digit-\n",
    "plt.imshow(img_recon[0], cmap = plt.get_cmap('gray'))\n",
    "plt.show()"
   ]
  },
  {
   "cell_type": "code",
   "execution_count": 190,
   "metadata": {
    "colab": {
     "base_uri": "https://localhost:8080/",
     "height": 479
    },
    "id": "MqgovHByaI-7",
    "outputId": "e975ccb9-af39-432f-da77-bd0ba0d9c33a"
   },
   "outputs": [
    {
     "data": {
      "image/png": "[encoded data removed]",
      "text/plain": [
       "<Figure size 648x504 with 5 Axes>"
      ]
     },
     "metadata": {
      "needs_background": "light"
     },
     "output_type": "display_data"
    }
   ],
   "source": [
    "# Visualize 20 reconstruced images for MNIST digit '5'-\n",
    "plt.figure(figsize = (9, 7))\n",
    "for i in range(5):\n",
    "    # 1 row & 5 columns-\n",
    "    plt.subplot(4, 5, i + 1)\n",
    "    plt.imshow(img_recon[i], cmap = plt.get_cmap('gray'))\n",
    "    \n",
    "plt.suptitle(\"Conditional VAE: MNIST Reconstructed images for digit '9'\")\n",
    "plt.show()"
   ]
  },
  {
   "cell_type": "code",
   "execution_count": null,
   "metadata": {},
   "outputs": [],
   "source": []
  },
  {
   "cell_type": "code",
   "execution_count": null,
   "metadata": {},
   "outputs": [],
   "source": []
  },
  {
   "cell_type": "code",
   "execution_count": 202,
   "metadata": {},
   "outputs": [],
   "source": [
    "# Condition reconstructions for MNIST digit '1-\n",
    "y = tf.constant(\n",
    "    [\n",
    "        [0., 1., 0., 0., 0., 0., 0., 0., 0., 0.],\n",
    "        [0., 1., 0., 0., 0., 0., 0., 0., 0., 0.],\n",
    "        [0., 1., 0., 0., 0., 0., 0., 0., 0., 0.],\n",
    "        [0., 1., 0., 0., 0., 0., 0., 0., 0., 0.],\n",
    "        [0., 1., 0., 0., 0., 0., 0., 0., 0., 0.]\n",
    "    ]\n",
    ") "
   ]
  },
  {
   "cell_type": "code",
   "execution_count": 203,
   "metadata": {},
   "outputs": [
    {
     "data": {
      "text/plain": [
       "TensorShape([5, 10])"
      ]
     },
     "execution_count": 203,
     "metadata": {},
     "output_type": "execute_result"
    }
   ],
   "source": [
    "y.shape"
   ]
  },
  {
   "cell_type": "code",
   "execution_count": 204,
   "metadata": {},
   "outputs": [],
   "source": [
    "z_final = tf.concat(values = [z[:5, :], y], axis = 1)"
   ]
  },
  {
   "cell_type": "code",
   "execution_count": 205,
   "metadata": {},
   "outputs": [
    {
     "data": {
      "text/plain": [
       "(TensorShape([5, 13]), TensorShape([5, 3]), TensorShape([5, 3]))"
      ]
     },
     "execution_count": 205,
     "metadata": {},
     "output_type": "execute_result"
    }
   ],
   "source": [
    "# Sanity check-\n",
    "z_final.shape, mu[:5].shape, log_var[:5].shape"
   ]
  },
  {
   "cell_type": "code",
   "execution_count": null,
   "metadata": {},
   "outputs": [],
   "source": []
  },
  {
   "cell_type": "code",
   "execution_count": 206,
   "metadata": {},
   "outputs": [],
   "source": [
    "# Get reconstructions using trained decoder-\n",
    "img_recon = model.decoder(z_final)"
   ]
  },
  {
   "cell_type": "code",
   "execution_count": 207,
   "metadata": {},
   "outputs": [
    {
     "data": {
      "text/plain": [
       "TensorShape([5, 784])"
      ]
     },
     "execution_count": 207,
     "metadata": {},
     "output_type": "execute_result"
    }
   ],
   "source": [
    "img_recon.shape"
   ]
  },
  {
   "cell_type": "code",
   "execution_count": null,
   "metadata": {},
   "outputs": [],
   "source": []
  },
  {
   "cell_type": "code",
   "execution_count": 208,
   "metadata": {},
   "outputs": [],
   "source": [
    "img_recon = img_recon.numpy().reshape(img_recon.shape[0], 28, 28)"
   ]
  },
  {
   "cell_type": "code",
   "execution_count": 209,
   "metadata": {},
   "outputs": [
    {
     "data": {
      "text/plain": [
       "(5, 28, 28)"
      ]
     },
     "execution_count": 209,
     "metadata": {},
     "output_type": "execute_result"
    }
   ],
   "source": [
    "img_recon.shape"
   ]
  },
  {
   "cell_type": "code",
   "execution_count": null,
   "metadata": {},
   "outputs": [],
   "source": []
  },
  {
   "cell_type": "code",
   "execution_count": 210,
   "metadata": {
    "colab": {
     "base_uri": "https://localhost:8080/",
     "height": 479
    },
    "id": "MqgovHByaI-7",
    "outputId": "e975ccb9-af39-432f-da77-bd0ba0d9c33a"
   },
   "outputs": [
    {
     "data": {
      "image/png": "[encoded data removed]",
      "text/plain": [
       "<Figure size 648x504 with 5 Axes>"
      ]
     },
     "metadata": {
      "needs_background": "light"
     },
     "output_type": "display_data"
    }
   ],
   "source": [
    "# Visualize 20 reconstruced images for MNIST digit '2'-\n",
    "plt.figure(figsize = (9, 7))\n",
    "for i in range(5):\n",
    "    # 1 row & 5 columns-\n",
    "    plt.subplot(4, 5, i + 1)\n",
    "    plt.imshow(img_recon[i], cmap = plt.get_cmap('gray'))\n",
    "    \n",
    "plt.suptitle(\"Conditional VAE: MNIST Reconstructed images for digit '1'\")\n",
    "plt.show()"
   ]
  },
  {
   "cell_type": "code",
   "execution_count": null,
   "metadata": {},
   "outputs": [],
   "source": []
  },
  {
   "cell_type": "code",
   "execution_count": 192,
   "metadata": {},
   "outputs": [],
   "source": [
    "# Condition reconstructions for MNIST digit '2'-\n",
    "y = tf.constant(\n",
    "    [\n",
    "        [0., 0., 1., 0., 0., 0., 0., 0., 0., 0.],\n",
    "        [0., 0., 1., 0., 0., 0., 0., 0., 0., 0.],\n",
    "        [0., 0., 1., 0., 0., 0., 0., 0., 0., 0.],\n",
    "        [0., 0., 1., 0., 0., 0., 0., 0., 0., 0.],\n",
    "        [0., 0., 1., 0., 0., 0., 0., 0., 0., 0.]\n",
    "    ]\n",
    ") "
   ]
  },
  {
   "cell_type": "code",
   "execution_count": 193,
   "metadata": {},
   "outputs": [
    {
     "data": {
      "text/plain": [
       "TensorShape([5, 10])"
      ]
     },
     "execution_count": 193,
     "metadata": {},
     "output_type": "execute_result"
    }
   ],
   "source": [
    "y.shape"
   ]
  },
  {
   "cell_type": "code",
   "execution_count": 194,
   "metadata": {},
   "outputs": [],
   "source": [
    "z_final = tf.concat(values = [z[:5, :], y], axis = 1)"
   ]
  },
  {
   "cell_type": "code",
   "execution_count": 195,
   "metadata": {},
   "outputs": [
    {
     "data": {
      "text/plain": [
       "(TensorShape([5, 13]), TensorShape([5, 3]), TensorShape([5, 3]))"
      ]
     },
     "execution_count": 195,
     "metadata": {},
     "output_type": "execute_result"
    }
   ],
   "source": [
    "# Sanity check-\n",
    "z_final.shape, mu[:5].shape, log_var[:5].shape"
   ]
  },
  {
   "cell_type": "code",
   "execution_count": null,
   "metadata": {},
   "outputs": [],
   "source": []
  },
  {
   "cell_type": "code",
   "execution_count": 196,
   "metadata": {},
   "outputs": [],
   "source": [
    "# Get reconstructions using trained decoder-\n",
    "img_recon = model.decoder(z_final)"
   ]
  },
  {
   "cell_type": "code",
   "execution_count": 197,
   "metadata": {},
   "outputs": [
    {
     "data": {
      "text/plain": [
       "TensorShape([5, 784])"
      ]
     },
     "execution_count": 197,
     "metadata": {},
     "output_type": "execute_result"
    }
   ],
   "source": [
    "img_recon.shape"
   ]
  },
  {
   "cell_type": "code",
   "execution_count": null,
   "metadata": {},
   "outputs": [],
   "source": []
  },
  {
   "cell_type": "code",
   "execution_count": 198,
   "metadata": {},
   "outputs": [],
   "source": [
    "img_recon = img_recon.numpy().reshape(img_recon.shape[0], 28, 28)"
   ]
  },
  {
   "cell_type": "code",
   "execution_count": 199,
   "metadata": {},
   "outputs": [
    {
     "data": {
      "text/plain": [
       "(5, 28, 28)"
      ]
     },
     "execution_count": 199,
     "metadata": {},
     "output_type": "execute_result"
    }
   ],
   "source": [
    "img_recon.shape"
   ]
  },
  {
   "cell_type": "code",
   "execution_count": null,
   "metadata": {},
   "outputs": [],
   "source": []
  },
  {
   "cell_type": "code",
   "execution_count": 201,
   "metadata": {
    "colab": {
     "base_uri": "https://localhost:8080/",
     "height": 479
    },
    "id": "MqgovHByaI-7",
    "outputId": "e975ccb9-af39-432f-da77-bd0ba0d9c33a"
   },
   "outputs": [
    {
     "data": {
      "image/png": "[encoded data removed]",
      "text/plain": [
       "<Figure size 648x504 with 5 Axes>"
      ]
     },
     "metadata": {
      "needs_background": "light"
     },
     "output_type": "display_data"
    }
   ],
   "source": [
    "# Visualize 20 reconstruced images for MNIST digit '2'-\n",
    "plt.figure(figsize = (9, 7))\n",
    "for i in range(5):\n",
    "    # 1 row & 5 columns-\n",
    "    plt.subplot(4, 5, i + 1)\n",
    "    plt.imshow(img_recon[i], cmap = plt.get_cmap('gray'))\n",
    "    \n",
    "plt.suptitle(\"Conditional VAE: MNIST Reconstructed images for digit '2'\")\n",
    "plt.show()"
   ]
  },
  {
   "cell_type": "code",
   "execution_count": null,
   "metadata": {},
   "outputs": [],
   "source": []
  },
  {
   "cell_type": "code",
   "execution_count": null,
   "metadata": {},
   "outputs": [],
   "source": []
  },
  {
   "cell_type": "markdown",
   "metadata": {
    "id": "yPYPgw1RXTRD"
   },
   "source": [
    "#### Check _mu_ and _log_var_ latent space vectors:"
   ]
  },
  {
   "cell_type": "code",
   "execution_count": 211,
   "metadata": {
    "colab": {
     "base_uri": "https://localhost:8080/"
    },
    "id": "GciIbyxXWwv5",
    "outputId": "4007e613-9d13-4105-dda2-f58639492834"
   },
   "outputs": [
    {
     "data": {
      "text/plain": [
       "(TensorShape([64, 3]), TensorShape([64, 3]))"
      ]
     },
     "execution_count": 211,
     "metadata": {},
     "output_type": "execute_result"
    }
   ],
   "source": [
    "mu.shape, log_var.shape"
   ]
  },
  {
   "cell_type": "code",
   "execution_count": 212,
   "metadata": {
    "colab": {
     "base_uri": "https://localhost:8080/"
    },
    "id": "O5ACoPPsWyDm",
    "outputId": "64b69067-cebf-46e9-8cbb-6490cc69fdba"
   },
   "outputs": [
    {
     "name": "stdout",
     "output_type": "stream",
     "text": [
      "mu: mean = -0.0003 & std dev = 0.0004\n"
     ]
    }
   ],
   "source": [
    "print(f\"mu: mean = {mu.numpy().mean():.4f} & \"\n",
    "f\"std dev = {mu.numpy().std():.4f}\")"
   ]
  },
  {
   "cell_type": "code",
   "execution_count": 213,
   "metadata": {
    "colab": {
     "base_uri": "https://localhost:8080/"
    },
    "id": "FbZMDaRQW1Gc",
    "outputId": "b50c1431-cd65-4a61-bec3-e9612943e7e3"
   },
   "outputs": [
    {
     "name": "stdout",
     "output_type": "stream",
     "text": [
      "log var: mean = -0.000576 & std dev = 0.0001\n"
     ]
    }
   ],
   "source": [
    "print(f\"log var: mean = {log_var.numpy().mean():4f} &\"\n",
    "f\" std dev = {log_var.numpy().std():.4f}\")"
   ]
  },
  {
   "cell_type": "code",
   "execution_count": null,
   "metadata": {
    "id": "4LvslCd3W47D"
   },
   "outputs": [],
   "source": []
  },
  {
   "cell_type": "code",
   "execution_count": null,
   "metadata": {
    "id": "qlTCcCNRYYgt"
   },
   "outputs": [],
   "source": []
  },
  {
   "cell_type": "markdown",
   "metadata": {
    "id": "hYVXoBi3fB0e"
   },
   "source": [
    "### Visualize _mean_ and _log-variance_ of _latent space_ using trained VAE model"
   ]
  },
  {
   "cell_type": "code",
   "execution_count": null,
   "metadata": {
    "colab": {
     "base_uri": "https://localhost:8080/",
     "height": 542
    },
    "id": "vDpThxLzeXsb",
    "outputId": "ba59dc77-57c7-4d0c-c8b5-6cb974c98e9c"
   },
   "outputs": [],
   "source": [
    "fig = px.scatter_3d(\n",
    "    x = mu[:, 0], y = mu[:, 1],\n",
    "    z = mu[:, 2],\n",
    "    # color = y_train[:1000]\n",
    "    )\n",
    "fig.show()"
   ]
  },
  {
   "cell_type": "code",
   "execution_count": null,
   "metadata": {
    "colab": {
     "base_uri": "https://localhost:8080/",
     "height": 542
    },
    "id": "PXQnwPlmebjm",
    "outputId": "447024b4-c14d-438d-eaff-e3f2f912807b"
   },
   "outputs": [],
   "source": [
    "fig = px.scatter_3d(\n",
    "    x = log_var[:, 0], y = log_var[:, 1],\n",
    "    z = log_var[:, 2],\n",
    "    # color = y_train[:1000]\n",
    "    )\n",
    "fig.show()"
   ]
  },
  {
   "cell_type": "code",
   "execution_count": null,
   "metadata": {
    "id": "yaT2dfiKYWFk"
   },
   "outputs": [],
   "source": []
  },
  {
   "cell_type": "code",
   "execution_count": null,
   "metadata": {
    "id": "2VIIbXNWVze6"
   },
   "outputs": [],
   "source": []
  },
  {
   "cell_type": "markdown",
   "metadata": {
    "id": "a2iOkZrmfH6n"
   },
   "source": [
    "### Visualize _latent space_ of train & test datasets"
   ]
  },
  {
   "cell_type": "code",
   "execution_count": 193,
   "metadata": {
    "id": "IQTc4PVHFDQs"
   },
   "outputs": [],
   "source": [
    "X_train_encoded = model.encoder(X_train_concat)\n",
    "X_test_encoded = model.encoder(X_test_concat)"
   ]
  },
  {
   "cell_type": "code",
   "execution_count": 194,
   "metadata": {
    "colab": {
     "base_uri": "https://localhost:8080/"
    },
    "id": "zqCV5MlHFOjX",
    "outputId": "796b5ca5-bc6f-428d-fb22-dc2dc05d0b03"
   },
   "outputs": [
    {
     "data": {
      "text/plain": [
       "(TensorShape([60000, 794]), TensorShape([60000, 3]))"
      ]
     },
     "execution_count": 194,
     "metadata": {},
     "output_type": "execute_result"
    }
   ],
   "source": [
    "X_train_concat.shape, X_train_encoded.shape"
   ]
  },
  {
   "cell_type": "code",
   "execution_count": 195,
   "metadata": {
    "colab": {
     "base_uri": "https://localhost:8080/"
    },
    "id": "o4Scxef-FSJM",
    "outputId": "e9801df1-a593-4705-a9a4-dfb0a58f152a"
   },
   "outputs": [
    {
     "data": {
      "text/plain": [
       "(TensorShape([10000, 794]), TensorShape([10000, 3]))"
      ]
     },
     "execution_count": 195,
     "metadata": {},
     "output_type": "execute_result"
    }
   ],
   "source": [
    "X_test_concat.shape, X_test_encoded.shape"
   ]
  },
  {
   "cell_type": "code",
   "execution_count": null,
   "metadata": {
    "id": "UllamU_YFSvP"
   },
   "outputs": [],
   "source": []
  },
  {
   "cell_type": "code",
   "execution_count": null,
   "metadata": {
    "id": "zYuYVTuuFQAp"
   },
   "outputs": [],
   "source": []
  },
  {
   "cell_type": "code",
   "execution_count": null,
   "metadata": {
    "colab": {
     "base_uri": "https://localhost:8080/",
     "height": 542
    },
    "id": "pMsHeggVVze6",
    "outputId": "b0ea7632-c122-4fda-f9a5-30ec3c46e72f"
   },
   "outputs": [],
   "source": [
    "fig = px.scatter_3d(\n",
    "    x = X_train_encoded[:, 0], y = X_train_encoded[:, 1],\n",
    "    z = X_train_encoded[:, 2],\n",
    "    # color = y_train\n",
    ")\n",
    "fig.show()"
   ]
  },
  {
   "cell_type": "code",
   "execution_count": null,
   "metadata": {
    "colab": {
     "base_uri": "https://localhost:8080/",
     "height": 542
    },
    "id": "uplwSAD3Vze6",
    "outputId": "8d0fab19-3646-4301-a069-222cd394b18d"
   },
   "outputs": [],
   "source": [
    "fig = px.scatter_3d(\n",
    "    x = X_test_encoded[:, 0], y = X_test_encoded[:, 1],\n",
    "    z = X_test_encoded[:, 2],\n",
    "    # color = y_test\n",
    ")\n",
    "fig.show()"
   ]
  },
  {
   "cell_type": "code",
   "execution_count": null,
   "metadata": {
    "id": "reseG4NdXbzo"
   },
   "outputs": [],
   "source": []
  },
  {
   "cell_type": "code",
   "execution_count": 198,
   "metadata": {
    "id": "akETILVPVze6"
   },
   "outputs": [],
   "source": [
    "del X_train_encoded, X_test_encoded"
   ]
  },
  {
   "cell_type": "code",
   "execution_count": null,
   "metadata": {
    "id": "T0zEhZw3Fbc9"
   },
   "outputs": [],
   "source": []
  },
  {
   "cell_type": "code",
   "execution_count": null,
   "metadata": {
    "id": "huzZfpvKFbgf"
   },
   "outputs": [],
   "source": []
  }
 ],
 "metadata": {
  "accelerator": "GPU",
  "colab": {
   "collapsed_sections": [],
   "name": "Variational_AutoEncoder_MNIST_TF2.ipynb",
   "provenance": []
  },
  "kernelspec": {
   "display_name": "Python 3 (ipykernel)",
   "language": "python",
   "name": "python3"
  },
  "language_info": {
   "codemirror_mode": {
    "name": "ipython",
    "version": 3
   },
   "file_extension": ".py",
   "mimetype": "text/x-python",
   "name": "python",
   "nbconvert_exporter": "python",
   "pygments_lexer": "ipython3",
   "version": "3.9.7"
  }
 },
 "nbformat": 4,
 "nbformat_minor": 4
}
