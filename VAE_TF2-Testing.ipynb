{
  "nbformat": 4,
  "nbformat_minor": 0,
  "metadata": {
    "colab": {
      "name": "VAE-TF2.ipynb",
      "provenance": [],
      "collapsed_sections": []
    },
    "kernelspec": {
      "name": "python3",
      "display_name": "Python 3"
    },
    "language_info": {
      "name": "python"
    },
    "accelerator": "GPU"
  },
  "cells": [
    {
      "cell_type": "code",
      "execution_count": null,
      "metadata": {
        "id": "I6Yk7xzAEvux"
      },
      "outputs": [],
      "source": [
        ""
      ]
    },
    {
      "cell_type": "code",
      "source": [
        "import tensorflow\n",
        "from tensorflow import keras\n",
        "from tensorflow.keras import layers\n",
        "from tensorflow.keras.layers import Conv2D, Conv2DTranspose, Dense, Input, Flatten,\\\n",
        "Conv2DTranspose, BatchNormalization, LeakyReLU, Reshape\n",
        "from tensorflow.keras.models import Sequential, Model\n",
        "from tensorflow.keras.datasets import mnist\n",
        "import tensorflow.keras.backend as K\n",
        "import tensorflow as tf\n",
        "\n",
        "import numpy as np\n",
        "import matplotlib.pyplot as plt\n",
        "import plotly\n",
        "import plotly.express as px"
      ],
      "metadata": {
        "id": "HV2w-bItE198"
      },
      "execution_count": 1,
      "outputs": []
    },
    {
      "cell_type": "code",
      "source": [
        ""
      ],
      "metadata": {
        "id": "izTxhI7GE2aK"
      },
      "execution_count": null,
      "outputs": []
    },
    {
      "cell_type": "code",
      "source": [
        "print(f\"TensorFlow version: {tf.__version__}\")"
      ],
      "metadata": {
        "colab": {
          "base_uri": "https://localhost:8080/"
        },
        "id": "OF3bFLN9E25o",
        "outputId": "68a9acfe-2eb0-495f-d0ce-ced70f87efaf"
      },
      "execution_count": 2,
      "outputs": [
        {
          "output_type": "stream",
          "name": "stdout",
          "text": [
            "TensorFlow version: 2.7.0\n"
          ]
        }
      ]
    },
    {
      "cell_type": "code",
      "source": [
        "# Check GPU availibility-\n",
        "gpu_devices = tf.config.list_physical_devices('GPU')\n",
        "\n",
        "if gpu_devices:\n",
        "    # Get number of available GPUs-\n",
        "    num_gpus = len(tf.config.list_physical_devices('GPU'))\n",
        "    print(f\"number of GPUs available = {num_gpus}\")\n",
        "    \n",
        "    print(f\"GPU: {gpu_devices}\")\n",
        "    details = tf.config.experimental.get_device_details(gpu_devices[0])\n",
        "    print(f\"GPU details: {details.get('device_name', 'Unknown GPU')}\")\n",
        "else:\n",
        "    print(\"No GPU found\")"
      ],
      "metadata": {
        "colab": {
          "base_uri": "https://localhost:8080/"
        },
        "id": "qy0FAt-NE4ma",
        "outputId": "bcc5de6b-402b-48a7-ed3e-f02506a2f8b0"
      },
      "execution_count": 3,
      "outputs": [
        {
          "output_type": "stream",
          "name": "stdout",
          "text": [
            "number of GPUs available = 1\n",
            "GPU: [PhysicalDevice(name='/physical_device:GPU:0', device_type='GPU')]\n",
            "GPU details: Tesla K80\n"
          ]
        }
      ]
    },
    {
      "cell_type": "code",
      "source": [
        ""
      ],
      "metadata": {
        "id": "sB22456eE5wM"
      },
      "execution_count": null,
      "outputs": []
    },
    {
      "cell_type": "code",
      "source": [
        ""
      ],
      "metadata": {
        "id": "Zi7-Iw9iE53g"
      },
      "execution_count": null,
      "outputs": []
    },
    {
      "cell_type": "code",
      "source": [
        "# input image dimensions\n",
        "img_rows, img_cols = 28, 28"
      ],
      "metadata": {
        "id": "4K6nSZElE6Lt"
      },
      "execution_count": 4,
      "outputs": []
    },
    {
      "cell_type": "code",
      "source": [
        "# Load MNIST dataset-\n",
        "(X_train, y_train), (X_test, y_test) = mnist.load_data()"
      ],
      "metadata": {
        "colab": {
          "base_uri": "https://localhost:8080/"
        },
        "id": "RiqoqdBRE7Ym",
        "outputId": "b3314981-b459-4d69-c671-525389596a6c"
      },
      "execution_count": 5,
      "outputs": [
        {
          "output_type": "stream",
          "name": "stdout",
          "text": [
            "Downloading data from https://storage.googleapis.com/tensorflow/tf-keras-datasets/mnist.npz\n",
            "11493376/11490434 [==============================] - 0s 0us/step\n",
            "11501568/11490434 [==============================] - 0s 0us/step\n"
          ]
        }
      ]
    },
    {
      "cell_type": "code",
      "source": [
        "if tf.keras.backend.image_data_format() == 'channels_first':\n",
        "    X_train = X_train.reshape(X_train.shape[0], 1, img_rows, img_cols)\n",
        "    X_test = X_test.reshape(X_test.shape[0], 1, img_rows, img_cols)\n",
        "    input_shape = (1, img_rows, img_cols)\n",
        "else:\n",
        "    X_train = X_train.reshape(X_train.shape[0], img_rows, img_cols, 1)\n",
        "    X_test = X_test.reshape(X_test.shape[0], img_rows, img_cols, 1)\n",
        "    input_shape = (img_rows, img_cols, 1)"
      ],
      "metadata": {
        "id": "WjC2BsqOE8jF"
      },
      "execution_count": 6,
      "outputs": []
    },
    {
      "cell_type": "code",
      "source": [
        "print(f\"\\ninput_shape to be used: {input_shape}\")"
      ],
      "metadata": {
        "colab": {
          "base_uri": "https://localhost:8080/"
        },
        "id": "3tLn-6RAE95Z",
        "outputId": "b95a8b2f-beb1-44c4-f1c4-24be10e8ebc3"
      },
      "execution_count": 7,
      "outputs": [
        {
          "output_type": "stream",
          "name": "stdout",
          "text": [
            "\n",
            "input_shape to be used: (28, 28, 1)\n"
          ]
        }
      ]
    },
    {
      "cell_type": "code",
      "source": [
        ""
      ],
      "metadata": {
        "id": "gEsNBbCSE_Mt"
      },
      "execution_count": null,
      "outputs": []
    },
    {
      "cell_type": "code",
      "source": [
        "# Specify hyper-parameters-\n",
        "batch_size = 64\n",
        "num_classes = 10\n",
        "num_epochs = 100"
      ],
      "metadata": {
        "id": "XU2bV0T3E_Q1"
      },
      "execution_count": 8,
      "outputs": []
    },
    {
      "cell_type": "code",
      "source": [
        ""
      ],
      "metadata": {
        "id": "DZOOq938FAvC"
      },
      "execution_count": null,
      "outputs": []
    },
    {
      "cell_type": "code",
      "source": [
        "# Convert datasets to floating point types-\n",
        "X_train = X_train.astype('float32')\n",
        "X_test = X_test.astype('float32')"
      ],
      "metadata": {
        "id": "tDp3gAYOFA0l"
      },
      "execution_count": 9,
      "outputs": []
    },
    {
      "cell_type": "code",
      "source": [
        "# By default the image data consists of integers between 0 and 255 for each pixel channel. Neural networks\n",
        "# work best when each input is inside the range –1 to 1, so we need to divide by 255.\n",
        "\n",
        "# Normalize the training and testing datasets-\n",
        "X_train /= 255.0\n",
        "X_test /= 255.0"
      ],
      "metadata": {
        "id": "D15N_X3-FB2G"
      },
      "execution_count": 10,
      "outputs": []
    },
    {
      "cell_type": "code",
      "source": [
        "# Convert class vectors/target to binary class matrices or one-hot encoded values-\n",
        "# y_train = tf.keras.utils.to_categorical(y_train, num_classes)\n",
        "# y_test = tf.keras.utils.to_categorical(y_test, num_classes)"
      ],
      "metadata": {
        "id": "aPkaWmynFC6w"
      },
      "execution_count": null,
      "outputs": []
    },
    {
      "cell_type": "code",
      "source": [
        "print(\"\\nDimensions of training and testing sets are:\")\n",
        "print(f\"X_train.shape: {X_train.shape}, y_train.shape: {y_train.shape}\")\n",
        "print(f\"X_test.shape: {X_test.shape}, y_test.shape: {y_test.shape}\")"
      ],
      "metadata": {
        "colab": {
          "base_uri": "https://localhost:8080/"
        },
        "id": "qd4Gl-AyFEq1",
        "outputId": "e472b9cd-d9b7-432d-fcb4-434dd07e2daa"
      },
      "execution_count": 11,
      "outputs": [
        {
          "output_type": "stream",
          "name": "stdout",
          "text": [
            "\n",
            "Dimensions of training and testing sets are:\n",
            "X_train.shape: (60000, 28, 28, 1), y_train.shape: (60000,)\n",
            "X_test.shape: (10000, 28, 28, 1), y_test.shape: (10000,)\n"
          ]
        }
      ]
    },
    {
      "cell_type": "code",
      "source": [
        "# Create TF datasets-\n",
        "train_dataset = tf.data.Dataset.from_tensor_slices(X_train).shuffle(60000).batch(128)\n",
        "test_dataset = tf.data.Dataset.from_tensor_slices(X_test).shuffle(10000).batch(128)"
      ],
      "metadata": {
        "id": "t-U-OFacFFzf"
      },
      "execution_count": 12,
      "outputs": []
    },
    {
      "cell_type": "code",
      "source": [
        ""
      ],
      "metadata": {
        "id": "NAuquyXvFHJP"
      },
      "execution_count": null,
      "outputs": []
    },
    {
      "cell_type": "code",
      "source": [
        ""
      ],
      "metadata": {
        "id": "D-FlfEpiFHMm"
      },
      "execution_count": null,
      "outputs": []
    },
    {
      "cell_type": "code",
      "source": [
        "class Encoder(Model):\n",
        "    def __init__(self, latent_space = 3):\n",
        "        super(Encoder, self).__init__()\n",
        "            \n",
        "        self.latent_space = latent_space\n",
        "        \n",
        "        self.conv1 = Conv2D(\n",
        "            filters = 32, kernel_size = 3,\n",
        "            strides = (2, 2), activation = None\n",
        "        )\n",
        "        \n",
        "        self.conv2 = Conv2D(\n",
        "            filters = 64, kernel_size = 3,\n",
        "            strides = (2, 2), activation = None\n",
        "        )\n",
        "        \n",
        "        self.flatten = Flatten()\n",
        "\n",
        "        self.dense = Dense(units = self.latent_space, activation = None)\n",
        "        \n",
        "        # self.dense = Dense(units = self.latent_space + self.latent_space, activation = None)\n",
        "        \n",
        "        \n",
        "    def call(self, x):\n",
        "        x = tf.keras.activations.relu(self.conv1(x))\n",
        "        x = tf.keras.activations.relu(self.conv2(x))\n",
        "        x = self.flatten(x)\n",
        "        # print(f\"flattened shape: {x.shape}\")\n",
        "        # flattened shape: (None, 2304)\n",
        "        x = tf.keras.activations.relu(self.dense(x))\n",
        "        \n",
        "        return x\n"
      ],
      "metadata": {
        "id": "WgqktqJsFIO_"
      },
      "execution_count": 13,
      "outputs": []
    },
    {
      "cell_type": "code",
      "source": [
        ""
      ],
      "metadata": {
        "id": "qNV8aDPmFIY5"
      },
      "execution_count": null,
      "outputs": []
    },
    {
      "cell_type": "code",
      "source": [
        "class Decoder(Model):\n",
        "    def __init__(self, latent_space = 3):\n",
        "        super(Decoder, self).__init__()\n",
        "            \n",
        "        self.latent_space = latent_space\n",
        "        \n",
        "        self.dense = Dense(units = self.latent_space, activation = None)\n",
        "        self.dense2 = Dense(units = 7 * 7 * 32, activation = None)\n",
        "        self.reshape = Reshape(target_shape = (7, 7, 32))\n",
        "        \n",
        "        self.conv2d_tran = Conv2DTranspose(\n",
        "            filters = 64, kernel_size = 3,\n",
        "            strides = 2, padding = 'same',\n",
        "            activation = None\n",
        "        )\n",
        "        \n",
        "        self.conv2d_tran2 = Conv2DTranspose(\n",
        "            filters = 32, kernel_size = 3,\n",
        "            strides = 2, padding = 'same',\n",
        "            activation = None\n",
        "        )\n",
        "        \n",
        "        self.conv2d_output = Conv2DTranspose(\n",
        "            filters = 1, kernel_size = 3,\n",
        "            strides = 1, padding = 'same'\n",
        "        )\n",
        "       \n",
        "    \n",
        "    def call(self, x):\n",
        "        x = tf.keras.activations.relu(self.dense(x))\n",
        "        x = tf.keras.activations.relu(self.dense2(x))\n",
        "        x = self.reshape(x)\n",
        "        x = tf.keras.activations.relu(self.conv2d_tran(x))\n",
        "        x = tf.keras.activations.relu(self.conv2d_tran2(x))\n",
        "        # x = tf.keras.activations.sigmoid(self.conv2d_output(x))\n",
        "        x = self.conv2d_output(x)\n",
        "        return x\n",
        "        "
      ],
      "metadata": {
        "id": "5B9d5_vZFIgL"
      },
      "execution_count": 14,
      "outputs": []
    },
    {
      "cell_type": "code",
      "source": [
        ""
      ],
      "metadata": {
        "id": "hNxAksElKdkY"
      },
      "execution_count": null,
      "outputs": []
    },
    {
      "cell_type": "code",
      "source": [
        "encoder = Encoder(latent_space = 3)"
      ],
      "metadata": {
        "id": "FoMVbX1dKds8"
      },
      "execution_count": null,
      "outputs": []
    },
    {
      "cell_type": "code",
      "source": [
        "decoder = Decoder(latent_space = 3)"
      ],
      "metadata": {
        "id": "7VyoXG30KfSg"
      },
      "execution_count": null,
      "outputs": []
    },
    {
      "cell_type": "code",
      "source": [
        "X = X_train[:6, :]"
      ],
      "metadata": {
        "id": "rlv8_RukKgJj"
      },
      "execution_count": null,
      "outputs": []
    },
    {
      "cell_type": "code",
      "source": [
        "X_enc = encoder(X)"
      ],
      "metadata": {
        "id": "HhNoeZgRKhq1"
      },
      "execution_count": null,
      "outputs": []
    },
    {
      "cell_type": "code",
      "source": [
        "X.shape, X_enc.shape"
      ],
      "metadata": {
        "colab": {
          "base_uri": "https://localhost:8080/"
        },
        "id": "eleKTXPIKjX4",
        "outputId": "1ff73443-3a73-4ab4-b627-c5cf1c73abc2"
      },
      "execution_count": null,
      "outputs": [
        {
          "output_type": "execute_result",
          "data": {
            "text/plain": [
              "((6, 28, 28, 1), TensorShape([6, 3]))"
            ]
          },
          "metadata": {},
          "execution_count": 28
        }
      ]
    },
    {
      "cell_type": "code",
      "source": [
        "X_recon = decoder(X_enc)"
      ],
      "metadata": {
        "id": "QVtQcSAuKkqR"
      },
      "execution_count": null,
      "outputs": []
    },
    {
      "cell_type": "code",
      "source": [
        "X_recon.shape"
      ],
      "metadata": {
        "colab": {
          "base_uri": "https://localhost:8080/"
        },
        "id": "ChSgFcxoKmaK",
        "outputId": "283c1dcc-40d7-411f-98a1-6dc6c74a4999"
      },
      "execution_count": null,
      "outputs": [
        {
          "output_type": "execute_result",
          "data": {
            "text/plain": [
              "TensorShape([6, 28, 28, 1])"
            ]
          },
          "metadata": {},
          "execution_count": 30
        }
      ]
    },
    {
      "cell_type": "code",
      "source": [
        "del encoder, decoder, X, X_enc, X_recon"
      ],
      "metadata": {
        "id": "wvVsga6fKnnx"
      },
      "execution_count": null,
      "outputs": []
    },
    {
      "cell_type": "code",
      "source": [
        ""
      ],
      "metadata": {
        "id": "ilXt_xkFFJ5t"
      },
      "execution_count": null,
      "outputs": []
    },
    {
      "cell_type": "code",
      "source": [
        "class VAE(Model):\n",
        "    def __init__(self, latent_space = 3):\n",
        "        super(VAE, self).__init__()\n",
        "        \n",
        "        self.latent_space = latent_space\n",
        "        \n",
        "        self.encoder = Encoder(latent_space = self.latent_space)\n",
        "        self.decoder = Decoder(latent_space = self.latent_space)\n",
        "        \n",
        "        # Define fully-connected layers for computing mean & log variance-\n",
        "        self.mu = Dense(units = self.latent_space, activation = None)\n",
        "        self.log_var = Dense(units = self.latent_space, activation = None)\n",
        "\n",
        "\n",
        "    def reparameterize(self, mean, logvar):\n",
        "        # Sample from a multivariate Gaussian distribution.\n",
        "        # Adds stochasticity or variation-\n",
        "        eps = tf.random.normal(shape = mean.shape)\n",
        "        return (eps * tf.exp(logvar * 0.5) + mean)\n",
        "        \n",
        "    \n",
        "    def call(self, x):\n",
        "        x = self.encoder(x)\n",
        "        # print(f\"x.shape: {x.shape}\")\n",
        "        # x.shape: (batch_size, 3)\n",
        "        \n",
        "        mu = self.mu(x)\n",
        "        log_var = self.log_var(x)\n",
        "        z = self.reparameterize(mu, log_var)\n",
        "        # z = Sampling()([mu, log_var])\n",
        "        '''\n",
        "        print(f\"mu.shape: {mu.shape}, log_var.shape: {log_var.shape}\"\n",
        "              f\" & z.shape: {z.shape}\")\n",
        "        # mu.shape: (batch_size, 3), log_var.shape: (batch_size, 3) & z.shape: (batch_size, 3)\n",
        "        '''\n",
        "        x = tf.keras.activations.sigmoid(self.decoder(z))\n",
        "        return x, mu, log_var\n",
        "        "
      ],
      "metadata": {
        "id": "8RfrZXXTFJ-T"
      },
      "execution_count": 15,
      "outputs": []
    },
    {
      "cell_type": "code",
      "source": [
        ""
      ],
      "metadata": {
        "id": "3gmv9UzaFbUK"
      },
      "execution_count": null,
      "outputs": []
    },
    {
      "cell_type": "code",
      "source": [
        "# Initialize VAE model-\n",
        "model = VAE(latent_space = 3)"
      ],
      "metadata": {
        "id": "w9A5AvV0Fbc8"
      },
      "execution_count": 16,
      "outputs": []
    },
    {
      "cell_type": "code",
      "source": [
        ""
      ],
      "metadata": {
        "id": "u4nVifIxFeyI"
      },
      "execution_count": null,
      "outputs": []
    },
    {
      "cell_type": "code",
      "source": [
        "X = X_train[:4, :]"
      ],
      "metadata": {
        "id": "eljWZBXUFe56"
      },
      "execution_count": 17,
      "outputs": []
    },
    {
      "cell_type": "code",
      "source": [
        "X_recon, mu, log_var = model(X)"
      ],
      "metadata": {
        "id": "l40-nzOwFhA1"
      },
      "execution_count": 18,
      "outputs": []
    },
    {
      "cell_type": "code",
      "source": [
        "X.shape, X_recon.shape"
      ],
      "metadata": {
        "colab": {
          "base_uri": "https://localhost:8080/"
        },
        "id": "FiJmVqr2Fy0j",
        "outputId": "488983ee-b2fd-4346-933c-b33d75ffb838"
      },
      "execution_count": 19,
      "outputs": [
        {
          "output_type": "execute_result",
          "data": {
            "text/plain": [
              "((4, 28, 28, 1), TensorShape([4, 28, 28, 1]))"
            ]
          },
          "metadata": {},
          "execution_count": 19
        }
      ]
    },
    {
      "cell_type": "code",
      "source": [
        "mu.shape, log_var.shape"
      ],
      "metadata": {
        "colab": {
          "base_uri": "https://localhost:8080/"
        },
        "id": "dYBoIiHWF0IM",
        "outputId": "f4bf248c-a0e5-4115-ab94-f30934fb2430"
      },
      "execution_count": 20,
      "outputs": [
        {
          "output_type": "execute_result",
          "data": {
            "text/plain": [
              "(TensorShape([4, 3]), TensorShape([4, 3]))"
            ]
          },
          "metadata": {},
          "execution_count": 20
        }
      ]
    },
    {
      "cell_type": "code",
      "source": [
        "# del X, X_recon, mu, log_var"
      ],
      "metadata": {
        "id": "c3bSy3KfI5p-"
      },
      "execution_count": null,
      "outputs": []
    },
    {
      "cell_type": "code",
      "source": [
        ""
      ],
      "metadata": {
        "id": "xeUy4pTpI8cI"
      },
      "execution_count": null,
      "outputs": []
    },
    {
      "cell_type": "code",
      "source": [
        "# eps = tf.random.normal(shape = mu.shape)\n",
        "# z = (eps * tf.exp(log_var * 0.5) + mu)"
      ],
      "metadata": {
        "id": "1HSjGsgnF1Sa"
      },
      "execution_count": null,
      "outputs": []
    },
    {
      "cell_type": "code",
      "source": [
        ""
      ],
      "metadata": {
        "id": "P9Dr2aeiME33"
      },
      "execution_count": null,
      "outputs": []
    },
    {
      "cell_type": "code",
      "source": [
        ""
      ],
      "metadata": {
        "id": "exN2kJRjL1Q5"
      },
      "execution_count": null,
      "outputs": []
    },
    {
      "cell_type": "code",
      "source": [
        "# Get model summary-\n",
        "model.summary()"
      ],
      "metadata": {
        "colab": {
          "base_uri": "https://localhost:8080/"
        },
        "id": "p5vNyixQF1Wp",
        "outputId": "13a1a4da-cbcf-4bbb-f498-29bd36db3002"
      },
      "execution_count": 21,
      "outputs": [
        {
          "output_type": "stream",
          "name": "stdout",
          "text": [
            "Model: \"vae\"\n",
            "_________________________________________________________________\n",
            " Layer (type)                Output Shape              Param #   \n",
            "=================================================================\n",
            " encoder (Encoder)           multiple                  25731     \n",
            "                                                                 \n",
            " decoder (Decoder)           multiple                  43533     \n",
            "                                                                 \n",
            " dense_3 (Dense)             multiple                  12        \n",
            "                                                                 \n",
            " dense_4 (Dense)             multiple                  12        \n",
            "                                                                 \n",
            "=================================================================\n",
            "Total params: 69,288\n",
            "Trainable params: 69,288\n",
            "Non-trainable params: 0\n",
            "_________________________________________________________________\n"
          ]
        }
      ]
    },
    {
      "cell_type": "code",
      "source": [
        "# Count layer-wise number of trainable parameters-\n",
        "tot_params = 0\n",
        "\n",
        "for layer in model.trainable_weights:\n",
        "    loc_params = tf.math.count_nonzero(layer, axis = None).numpy()\n",
        "    tot_params += loc_params\n",
        "    print(f\"layer: {layer.shape} has {loc_params} parameters\")"
      ],
      "metadata": {
        "colab": {
          "base_uri": "https://localhost:8080/"
        },
        "id": "LIM2BgoRF4OI",
        "outputId": "59131078-2ee4-4dbd-b17b-0bf64a087da4"
      },
      "execution_count": 22,
      "outputs": [
        {
          "output_type": "stream",
          "name": "stdout",
          "text": [
            "layer: (3, 3, 1, 32) has 288 parameters\n",
            "layer: (32,) has 0 parameters\n",
            "layer: (3, 3, 32, 64) has 18432 parameters\n",
            "layer: (64,) has 0 parameters\n",
            "layer: (2304, 3) has 6912 parameters\n",
            "layer: (3,) has 0 parameters\n",
            "layer: (3, 3) has 9 parameters\n",
            "layer: (3,) has 0 parameters\n",
            "layer: (3, 1568) has 4704 parameters\n",
            "layer: (1568,) has 0 parameters\n",
            "layer: (3, 3, 64, 32) has 18432 parameters\n",
            "layer: (64,) has 0 parameters\n",
            "layer: (3, 3, 32, 64) has 18432 parameters\n",
            "layer: (32,) has 0 parameters\n",
            "layer: (3, 3, 1, 32) has 288 parameters\n",
            "layer: (1,) has 0 parameters\n",
            "layer: (3, 3) has 9 parameters\n",
            "layer: (3,) has 0 parameters\n",
            "layer: (3, 3) has 9 parameters\n",
            "layer: (3,) has 0 parameters\n"
          ]
        }
      ]
    },
    {
      "cell_type": "code",
      "source": [
        "print(f\"VAE has {tot_params} trainable parameters\")"
      ],
      "metadata": {
        "colab": {
          "base_uri": "https://localhost:8080/"
        },
        "id": "T3QDX-IVF5zH",
        "outputId": "ddb14a11-a9fb-484b-8fb1-a6058d4b6f13"
      },
      "execution_count": 23,
      "outputs": [
        {
          "output_type": "stream",
          "name": "stdout",
          "text": [
            "VAE has 67515 trainable parameters\n"
          ]
        }
      ]
    },
    {
      "cell_type": "code",
      "source": [
        ""
      ],
      "metadata": {
        "id": "GbZM0R2RF7h2"
      },
      "execution_count": null,
      "outputs": []
    },
    {
      "cell_type": "code",
      "source": [
        "# Define an optimizer-\n",
        "optimizer = tf.keras.optimizers.Adam(learning_rate = 1e-4)"
      ],
      "metadata": {
        "id": "IFPw4LsCF7lQ"
      },
      "execution_count": 24,
      "outputs": []
    },
    {
      "cell_type": "code",
      "source": [
        ""
      ],
      "metadata": {
        "id": "DWZX4oiLF91-"
      },
      "execution_count": null,
      "outputs": []
    },
    {
      "cell_type": "code",
      "source": [
        "def compute_reconstruction_loss(data, reconstruction):\n",
        "    # Reconstruction loss-\n",
        "    reconstruction_loss = tf.reduce_mean(\n",
        "        tf.reduce_sum(\n",
        "            # tf.keras.losses.binary_crossentropy(data, reconstruction), axis = (1, 2)\n",
        "            tf.keras.losses.mean_squared_error(data, reconstruction), axis = (1, 2)\n",
        "        )\n",
        "    )\n",
        "    \n",
        "    return reconstruction_loss\n"
      ],
      "metadata": {
        "id": "wymC12zhF9_v"
      },
      "execution_count": 25,
      "outputs": []
    },
    {
      "cell_type": "code",
      "source": [
        ""
      ],
      "metadata": {
        "id": "wrS7zfxiF_Lt"
      },
      "execution_count": null,
      "outputs": []
    },
    {
      "cell_type": "code",
      "source": [
        "# recon_loss = compute_reconstruction_loss(data = X, reconstruction = X_recon)"
      ],
      "metadata": {
        "id": "1sW6URXLF_fZ"
      },
      "execution_count": null,
      "outputs": []
    },
    {
      "cell_type": "code",
      "source": [
        "# recon_loss, recon_loss.numpy()\n",
        "# (<tf.Tensor: shape=(), dtype=float32, numpy=80.38895>, 80.38895)"
      ],
      "metadata": {
        "id": "pQgk7czkGA1Z"
      },
      "execution_count": null,
      "outputs": []
    },
    {
      "cell_type": "code",
      "source": [
        ""
      ],
      "metadata": {
        "id": "yCeeeauEGDRk"
      },
      "execution_count": null,
      "outputs": []
    },
    {
      "cell_type": "code",
      "source": [
        "def compute_kl_divergence_loss(mu, log_var):\n",
        "    kl_loss = -0.5 * (1 + log_var - tf.square(mu) - tf.exp(log_var))\n",
        "    kl_loss = tf.reduce_mean(tf.reduce_sum(kl_loss, axis = 1))\n",
        "    \n",
        "    return kl_loss\n"
      ],
      "metadata": {
        "id": "ByvGTBPhGDyo"
      },
      "execution_count": 26,
      "outputs": []
    },
    {
      "cell_type": "code",
      "source": [
        ""
      ],
      "metadata": {
        "id": "Slt4F8z3GFL2"
      },
      "execution_count": null,
      "outputs": []
    },
    {
      "cell_type": "code",
      "source": [
        "# kl_loss = compute_kl_divergence_loss(mu = mu, log_var = log_var)"
      ],
      "metadata": {
        "id": "AhlEB2f_GFPA"
      },
      "execution_count": null,
      "outputs": []
    },
    {
      "cell_type": "code",
      "source": [
        "# kl_loss, kl_loss.numpy()\n",
        "# (<tf.Tensor: shape=(), dtype=float32, numpy=0.0031785667>, 0.0031785667)"
      ],
      "metadata": {
        "id": "Ml1YuvORGG4r"
      },
      "execution_count": null,
      "outputs": []
    },
    {
      "cell_type": "code",
      "source": [
        ""
      ],
      "metadata": {
        "id": "4-r66Bv2GIKc"
      },
      "execution_count": null,
      "outputs": []
    },
    {
      "cell_type": "code",
      "source": [
        "def compute_total_loss(data, reconstruction, mu, log_var, alpha = 1):\n",
        "    recon_loss = compute_reconstruction_loss(data = data, reconstruction = reconstruction)\n",
        "    kl_loss = compute_kl_divergence_loss(mu = mu, log_var = log_var)\n",
        "    \n",
        "    total_loss = (recon_loss * alpha) + kl_loss\n",
        "    loss = total_loss**2\n",
        "    \n",
        "    # return total_loss\n",
        "    return loss\n"
      ],
      "metadata": {
        "id": "_sY5tXPQGINq"
      },
      "execution_count": 27,
      "outputs": []
    },
    {
      "cell_type": "code",
      "source": [
        ""
      ],
      "metadata": {
        "id": "IPxX4fsUJtMz"
      },
      "execution_count": null,
      "outputs": []
    },
    {
      "cell_type": "code",
      "source": [
        "'''\n",
        "total_loss = compute_total_loss(\n",
        "    data = X, reconstruction = X_recon,\n",
        "    mu = mu, log_var = log_var,\n",
        "    alpha = 1\n",
        ")\n",
        "'''"
      ],
      "metadata": {
        "id": "oo5zHk56GKKF"
      },
      "execution_count": null,
      "outputs": []
    },
    {
      "cell_type": "code",
      "source": [
        "# total_loss, total_loss.numpy()\n",
        "# (<tf.Tensor: shape=(), dtype=float32, numpy=80.39213>, 80.39213)"
      ],
      "metadata": {
        "id": "A0LVYpdSGLdO"
      },
      "execution_count": null,
      "outputs": []
    },
    {
      "cell_type": "code",
      "source": [
        ""
      ],
      "metadata": {
        "id": "AlrCyV7pMMms"
      },
      "execution_count": 31,
      "outputs": []
    },
    {
      "cell_type": "code",
      "source": [
        "X_recon, mu, log_var = model(X)"
      ],
      "metadata": {
        "id": "BO2GNsebKb-a"
      },
      "execution_count": 32,
      "outputs": []
    },
    {
      "cell_type": "code",
      "source": [
        "X_recon.shape, X.shape"
      ],
      "metadata": {
        "colab": {
          "base_uri": "https://localhost:8080/"
        },
        "id": "C81nRkSMKe_t",
        "outputId": "663adf78-7dfc-4011-a7e9-6bb322b0d288"
      },
      "execution_count": 33,
      "outputs": [
        {
          "output_type": "execute_result",
          "data": {
            "text/plain": [
              "(TensorShape([4, 28, 28, 1]), (4, 28, 28, 1))"
            ]
          },
          "metadata": {},
          "execution_count": 33
        }
      ]
    },
    {
      "cell_type": "code",
      "source": [
        "mu.shape, log_var.shape"
      ],
      "metadata": {
        "colab": {
          "base_uri": "https://localhost:8080/"
        },
        "id": "DCyDajRIKgNZ",
        "outputId": "613147f9-2a1c-420d-d1ca-4915770fbaa0"
      },
      "execution_count": 34,
      "outputs": [
        {
          "output_type": "execute_result",
          "data": {
            "text/plain": [
              "(TensorShape([4, 3]), TensorShape([4, 3]))"
            ]
          },
          "metadata": {},
          "execution_count": 34
        }
      ]
    },
    {
      "cell_type": "code",
      "source": [
        ""
      ],
      "metadata": {
        "id": "tNvkJ9z8Kh1m"
      },
      "execution_count": null,
      "outputs": []
    },
    {
      "cell_type": "code",
      "source": [
        "with tf.GradientTape() as tape:\n",
        "    loss = compute_total_loss(\n",
        "    data = X, reconstruction = X_recon,\n",
        "    mu = mu, log_var = log_var,\n",
        "    alpha = 1\n",
        ")"
      ],
      "metadata": {
        "id": "PXdcVwMkJ4zc"
      },
      "execution_count": 35,
      "outputs": []
    },
    {
      "cell_type": "code",
      "source": [
        "grads = tape.gradient(loss, model.trainable_weights)"
      ],
      "metadata": {
        "id": "-wWNvnvMJ81P"
      },
      "execution_count": 36,
      "outputs": []
    },
    {
      "cell_type": "code",
      "source": [
        "type(grads), len(grads)"
      ],
      "metadata": {
        "colab": {
          "base_uri": "https://localhost:8080/"
        },
        "id": "kEWveoLxKANM",
        "outputId": "ef7d0775-355c-4d32-e7ba-d98730118881"
      },
      "execution_count": 37,
      "outputs": [
        {
          "output_type": "execute_result",
          "data": {
            "text/plain": [
              "(list, 20)"
            ]
          },
          "metadata": {},
          "execution_count": 37
        }
      ]
    },
    {
      "cell_type": "code",
      "source": [
        ""
      ],
      "metadata": {
        "id": "goXk-GfQKCON"
      },
      "execution_count": 30,
      "outputs": []
    },
    {
      "cell_type": "code",
      "source": [
        "for x in grads:\n",
        "    print(x)"
      ],
      "metadata": {
        "colab": {
          "base_uri": "https://localhost:8080/"
        },
        "id": "i9yKmPPCKC15",
        "outputId": "2bca98d1-3dd0-4bf7-a986-cd6aed9a7cef"
      },
      "execution_count": 38,
      "outputs": [
        {
          "output_type": "stream",
          "name": "stdout",
          "text": [
            "None\n",
            "None\n",
            "None\n",
            "None\n",
            "None\n",
            "None\n",
            "None\n",
            "None\n",
            "None\n",
            "None\n",
            "None\n",
            "None\n",
            "None\n",
            "None\n",
            "None\n",
            "None\n",
            "None\n",
            "None\n",
            "None\n",
            "None\n"
          ]
        }
      ]
    },
    {
      "cell_type": "code",
      "source": [
        ""
      ],
      "metadata": {
        "id": "pbU4QbBMKEQw"
      },
      "execution_count": 38,
      "outputs": []
    },
    {
      "cell_type": "code",
      "source": [
        "optimizer.apply_gradients(zip(grads, model.trainable_weights))"
      ],
      "metadata": {
        "colab": {
          "base_uri": "https://localhost:8080/",
          "height": 1000
        },
        "id": "GVv9sgHJKpHV",
        "outputId": "6738c378-069d-4800-d80f-52bfe19c633a"
      },
      "execution_count": 39,
      "outputs": [
        {
          "output_type": "error",
          "ename": "ValueError",
          "evalue": "ignored",
          "traceback": [
            "\u001b[0;31m---------------------------------------------------------------------------\u001b[0m",
            "\u001b[0;31mValueError\u001b[0m                                Traceback (most recent call last)",
            "\u001b[0;32m<ipython-input-39-455ef87a6a2b>\u001b[0m in \u001b[0;36m<module>\u001b[0;34m()\u001b[0m\n\u001b[0;32m----> 1\u001b[0;31m \u001b[0moptimizer\u001b[0m\u001b[0;34m.\u001b[0m\u001b[0mapply_gradients\u001b[0m\u001b[0;34m(\u001b[0m\u001b[0mzip\u001b[0m\u001b[0;34m(\u001b[0m\u001b[0mgrads\u001b[0m\u001b[0;34m,\u001b[0m \u001b[0mmodel\u001b[0m\u001b[0;34m.\u001b[0m\u001b[0mtrainable_weights\u001b[0m\u001b[0;34m)\u001b[0m\u001b[0;34m)\u001b[0m\u001b[0;34m\u001b[0m\u001b[0;34m\u001b[0m\u001b[0m\n\u001b[0m",
            "\u001b[0;32m/usr/local/lib/python3.7/dist-packages/keras/optimizer_v2/optimizer_v2.py\u001b[0m in \u001b[0;36mapply_gradients\u001b[0;34m(self, grads_and_vars, name, experimental_aggregate_gradients)\u001b[0m\n\u001b[1;32m    631\u001b[0m       \u001b[0mRuntimeError\u001b[0m\u001b[0;34m:\u001b[0m \u001b[0mIf\u001b[0m \u001b[0mcalled\u001b[0m \u001b[0;32min\u001b[0m \u001b[0ma\u001b[0m \u001b[0mcross\u001b[0m\u001b[0;34m-\u001b[0m\u001b[0mreplica\u001b[0m \u001b[0mcontext\u001b[0m\u001b[0;34m.\u001b[0m\u001b[0;34m\u001b[0m\u001b[0;34m\u001b[0m\u001b[0m\n\u001b[1;32m    632\u001b[0m     \"\"\"\n\u001b[0;32m--> 633\u001b[0;31m     \u001b[0mgrads_and_vars\u001b[0m \u001b[0;34m=\u001b[0m \u001b[0moptimizer_utils\u001b[0m\u001b[0;34m.\u001b[0m\u001b[0mfilter_empty_gradients\u001b[0m\u001b[0;34m(\u001b[0m\u001b[0mgrads_and_vars\u001b[0m\u001b[0;34m)\u001b[0m\u001b[0;34m\u001b[0m\u001b[0;34m\u001b[0m\u001b[0m\n\u001b[0m\u001b[1;32m    634\u001b[0m     \u001b[0mvar_list\u001b[0m \u001b[0;34m=\u001b[0m \u001b[0;34m[\u001b[0m\u001b[0mv\u001b[0m \u001b[0;32mfor\u001b[0m \u001b[0;34m(\u001b[0m\u001b[0m_\u001b[0m\u001b[0;34m,\u001b[0m \u001b[0mv\u001b[0m\u001b[0;34m)\u001b[0m \u001b[0;32min\u001b[0m \u001b[0mgrads_and_vars\u001b[0m\u001b[0;34m]\u001b[0m\u001b[0;34m\u001b[0m\u001b[0;34m\u001b[0m\u001b[0m\n\u001b[1;32m    635\u001b[0m \u001b[0;34m\u001b[0m\u001b[0m\n",
            "\u001b[0;32m/usr/local/lib/python3.7/dist-packages/keras/optimizer_v2/utils.py\u001b[0m in \u001b[0;36mfilter_empty_gradients\u001b[0;34m(grads_and_vars)\u001b[0m\n\u001b[1;32m     71\u001b[0m   \u001b[0;32mif\u001b[0m \u001b[0;32mnot\u001b[0m \u001b[0mfiltered\u001b[0m\u001b[0;34m:\u001b[0m\u001b[0;34m\u001b[0m\u001b[0;34m\u001b[0m\u001b[0m\n\u001b[1;32m     72\u001b[0m     \u001b[0mvariable\u001b[0m \u001b[0;34m=\u001b[0m \u001b[0;34m(\u001b[0m\u001b[0;34m[\u001b[0m\u001b[0mv\u001b[0m\u001b[0;34m.\u001b[0m\u001b[0mname\u001b[0m \u001b[0;32mfor\u001b[0m \u001b[0m_\u001b[0m\u001b[0;34m,\u001b[0m \u001b[0mv\u001b[0m \u001b[0;32min\u001b[0m \u001b[0mgrads_and_vars\u001b[0m\u001b[0;34m]\u001b[0m\u001b[0;34m,\u001b[0m\u001b[0;34m)\u001b[0m\u001b[0;34m\u001b[0m\u001b[0;34m\u001b[0m\u001b[0m\n\u001b[0;32m---> 73\u001b[0;31m     raise ValueError(f\"No gradients provided for any variable: {variable}. \"\n\u001b[0m\u001b[1;32m     74\u001b[0m                      f\"Provided `grads_and_vars` is {grads_and_vars}.\")\n\u001b[1;32m     75\u001b[0m   \u001b[0;32mif\u001b[0m \u001b[0mvars_with_empty_grads\u001b[0m\u001b[0;34m:\u001b[0m\u001b[0;34m\u001b[0m\u001b[0;34m\u001b[0m\u001b[0m\n",
            "\u001b[0;31mValueError\u001b[0m: No gradients provided for any variable: (['vae/encoder/conv2d/kernel:0', 'vae/encoder/conv2d/bias:0', 'vae/encoder/conv2d_1/kernel:0', 'vae/encoder/conv2d_1/bias:0', 'vae/encoder/dense/kernel:0', 'vae/encoder/dense/bias:0', 'vae/decoder/dense_1/kernel:0', 'vae/decoder/dense_1/bias:0', 'vae/decoder/dense_2/kernel:0', 'vae/decoder/dense_2/bias:0', 'vae/decoder/conv2d_transpose/kernel:0', 'vae/decoder/conv2d_transpose/bias:0', 'vae/decoder/conv2d_transpose_1/kernel:0', 'vae/decoder/conv2d_transpose_1/bias:0', 'vae/decoder/conv2d_transpose_2/kernel:0', 'vae/decoder/conv2d_transpose_2/bias:0', 'vae/dense_3/kernel:0', 'vae/dense_3/bias:0', 'vae/dense_4/kernel:0', 'vae/dense_4/bias:0'],). Provided `grads_and_vars` is ((None, <tf.Variable 'vae/encoder/conv2d/kernel:0' shape=(3, 3, 1, 32) dtype=float32, numpy=\narray([[[[-1.25096276e-01, -1.80214942e-02,  1.25518277e-01,\n           5.63254952e-03, -1.32536858e-01,  1.26161560e-01,\n          -9.44357216e-02, -7.92127848e-02, -8.01934302e-03,\n           4.37560081e-02, -3.86515260e-03,  9.01318640e-02,\n          -8.93294364e-02, -4.65244055e-04, -3.33443657e-02,\n          -9.88567322e-02,  3.95142734e-02,  1.38873383e-01,\n          -8.46691579e-02, -3.20963636e-02,  4.29532528e-02,\n          -1.27389908e-01, -3.46774235e-02,  6.73547834e-02,\n           1.12302586e-01, -1.33999571e-01,  1.41090438e-01,\n           2.77085602e-02,  1.77845210e-02, -1.22628160e-01,\n          -6.23455942e-02, -3.69559452e-02]],\n\n        [[-4.58866507e-02, -9.49749351e-02, -1.02876648e-01,\n           7.70284981e-02,  3.93103063e-02, -5.55787981e-02,\n           3.97931337e-02, -1.18241206e-01,  4.75045294e-02,\n          -4.82263342e-02, -5.38856536e-02, -9.69854742e-02,\n           1.37123987e-01, -4.17949557e-02, -2.93032974e-02,\n          -6.18325397e-02, -1.37198269e-02,  5.75922877e-02,\n          -7.54050985e-02, -4.69979495e-02,  1.05433688e-01,\n          -4.05162573e-04,  9.15125012e-02,  3.89887393e-02,\n           1.23665676e-01, -4.66376916e-02, -1.23807788e-03,\n           1.35063380e-02,  6.47719949e-02,  1.10057294e-02,\n          -5.83183765e-03,  1.24593064e-01]],\n\n        [[-1.26731813e-01,  5.22881746e-04, -2.75904983e-02,\n          -4.95076105e-02,  1.10316977e-01,  9.79465842e-02,\n          -1.40452236e-02, -1.01106882e-01, -9.53007936e-02,\n          -9.20811594e-02, -6.19043484e-02, -3.26640755e-02,\n          -9.26642567e-02, -6.53402880e-02,  4.58927453e-02,\n           1.29405484e-01,  5.78122139e-02, -1.12926587e-01,\n          -1.29190683e-01, -2.79204249e-02, -1.34464502e-01,\n           8.00684094e-02,  1.92123950e-02,  5.10931611e-02,\n          -1.37829632e-02, -1.32237554e-01, -1.21381447e-01,\n          -6.23300672e-03, -9.52415317e-02, -1.27030134e-01,\n          -1.17208220e-01,  1.00284517e-02]]],\n\n\n       [[[-5.02151772e-02, -5.76614812e-02,  1.08768895e-01,\n          -2.90306062e-02,  4.24445421e-02, -5.03722131e-02,\n           3.79830599e-05, -2.43628621e-02,  9.12573636e-02,\n          -1.35605931e-01,  1.19214430e-01, -3.86964679e-02,\n           8.20409507e-02, -8.05335790e-02,  8.78863782e-02,\n          -8.96286964e-02, -6.03518635e-02, -8.02545473e-02,\n          -6.52399659e-03,  2.34687775e-02,  1.24130398e-02,\n          -7.81512633e-02, -1.31922275e-01, -7.03457519e-02,\n           9.49296951e-02,  2.91868299e-02,  7.89059997e-02,\n           1.45857930e-02,  6.59293830e-02,  6.96168691e-02,\n          -1.20361134e-01,  1.21535316e-01]],\n\n        [[ 1.41863212e-01,  9.09950733e-02, -8.53933245e-02,\n          -1.34136707e-01,  1.40002921e-01,  5.21457791e-02,\n           2.67056674e-02,  5.25523275e-02, -1.34598464e-02,\n           1.95696652e-02,  9.17573273e-02,  2.09029019e-02,\n           6.44868612e-03,  1.16239920e-01,  6.45065159e-02,\n          -1.81525350e-02, -9.28125829e-02,  1.37976483e-01,\n           9.96752828e-02, -9.68156606e-02, -9.84854996e-02,\n           4.52128053e-03, -1.86062157e-02, -8.13498870e-02,\n           4.26407456e-02, -6.48426190e-02,  7.25606978e-02,\n           7.62347281e-02,  5.56609780e-02, -1.40744746e-01,\n          -3.19938213e-02,  1.07689396e-01]],\n\n        [[-6.00527748e-02,  1.10549793e-01,  4.45640981e-02,\n           8.75071138e-02, -1.25024840e-01, -1.04439497e-01,\n          -1.11976996e-01, -3.91279832e-02, -7.83040226e-02,\n           3.40927988e-02,  4.37296182e-02,  3.41257453e-02,\n           1.11465558e-01, -1.11693531e-01, -1.08950615e-01,\n          -5.45265973e-02, -6.64693788e-02, -1.35370851e-01,\n           2.16268003e-02, -1.44478679e-02,  5.72291166e-02,\n           5.80684394e-02, -7.11401030e-02, -3.27468663e-02,\n           9.85851288e-02,  1.33754835e-01, -1.20291494e-01,\n          -1.27174288e-01,  9.74135399e-02,  9.79533941e-02,\n          -6.99485913e-02,  6.44171238e-02]]],\n\n\n       [[[-6.57709241e-02, -1.00965843e-01, -4.77766991e-03,\n          -6.42215610e-02,  9.26873088e-03, -2.45720148e-03,\n          -8.48936886e-02,  4.32222933e-02,  3.19382846e-02,\n          -1.33539811e-01,  1.34567276e-01, -1.03718042e-02,\n           1.19595274e-01, -9.61369723e-02, -4.71616611e-02,\n           4.94303107e-02,  1.06292263e-01, -7.04704896e-02,\n           4.97668982e-03, -1.26742527e-01, -1.04541227e-01,\n           2.43429393e-02, -3.36371884e-02, -2.06341371e-02,\n          -1.02492504e-01,  8.76968503e-02,  1.15480348e-01,\n          -4.03480679e-02,  8.77182335e-02,  4.35699522e-03,\n          -6.10167012e-02,  6.50044680e-02]],\n\n        [[-9.78410244e-02, -7.18104318e-02,  5.86716235e-02,\n           6.65024519e-02, -6.87015355e-02,  6.29290342e-02,\n           1.16169453e-03, -8.85312557e-02,  5.20643145e-02,\n           1.34954885e-01, -1.95288360e-02, -2.41863802e-02,\n           1.35072902e-01,  1.01614863e-01,  2.67253816e-02,\n          -3.77032235e-02, -7.91563243e-02,  3.32390368e-02,\n           8.53974968e-02,  1.05033994e-01,  4.98160720e-03,\n           1.71197504e-02,  1.06778651e-01,  1.69879645e-02,\n          -4.35771048e-03, -1.17568716e-01,  1.23120084e-01,\n           1.07299387e-01, -6.01781607e-02,  7.99826384e-02,\n           1.37556359e-01, -3.08934301e-02]],\n\n        [[-4.17372137e-02,  5.93107045e-02, -4.73249257e-02,\n          -9.45955515e-03,  4.64393795e-02,  9.92169827e-02,\n           7.99497962e-03,  1.10239282e-01, -5.73216602e-02,\n           9.10999477e-02,  2.69626975e-02, -1.17527694e-02,\n          -2.17499435e-02,  1.39786467e-01,  1.33649841e-01,\n           5.27988225e-02,  1.25501648e-01,  1.17058739e-01,\n          -9.71156061e-02,  9.31095332e-02, -5.30523285e-02,\n           1.23621598e-01, -1.45408511e-02,  6.98130727e-02,\n          -5.79461679e-02, -2.90516168e-02,  5.18754274e-02,\n           5.24731576e-02,  2.49692798e-03, -8.35204422e-02,\n           6.20113015e-02,  1.18717864e-01]]]], dtype=float32)>), (None, <tf.Variable 'vae/encoder/conv2d/bias:0' shape=(32,) dtype=float32, numpy=\narray([0., 0., 0., 0., 0., 0., 0., 0., 0., 0., 0., 0., 0., 0., 0., 0., 0.,\n       0., 0., 0., 0., 0., 0., 0., 0., 0., 0., 0., 0., 0., 0., 0.],\n      dtype=float32)>), (None, <tf.Variable 'vae/encoder/conv2d_1/kernel:0' shape=(3, 3, 32, 64) dtype=float32, numpy=\narray([[[[-5.86722493e-02,  1.08843669e-02, -4.80703115e-02, ...,\n           5.75714782e-02,  3.73111591e-02,  1.84696689e-02],\n         [ 3.72034088e-02,  5.08236662e-02, -3.29729319e-02, ...,\n           1.17907152e-02, -7.15900064e-02,  8.17678794e-02],\n         [-5.96178398e-02, -2.78915167e-02,  3.42633352e-02, ...,\n           2.51683593e-02,  4.46535647e-04,  2.57057771e-02],\n         ...,\n         [-4.13559079e-02, -2.36283541e-02,  4.96789888e-02, ...,\n           2.90346369e-02, -2.12120041e-02, -6.93334788e-02],\n         [ 2.16185227e-02,  7.19436035e-02, -1.89509392e-02, ...,\n           5.71714416e-02, -1.69139504e-02,  4.01434079e-02],\n         [-5.20810485e-02,  1.25818253e-02,  4.82744351e-02, ...,\n          -3.28747630e-02,  4.93216589e-02, -2.76668295e-02]],\n\n        [[-1.74314007e-02, -3.09512839e-02,  5.35821393e-02, ...,\n          -5.15191779e-02,  1.06455311e-02,  3.02229077e-03],\n         [ 7.51801357e-02, -7.83665180e-02,  2.27233544e-02, ...,\n          -8.00919533e-02, -2.39226632e-02, -5.64378724e-02],\n         [-5.13407402e-02,  7.25647882e-02,  2.57527232e-02, ...,\n           5.80772832e-02, -1.96194649e-02, -1.96131691e-02],\n         ...,\n         [ 5.79138473e-02,  2.42140666e-02,  5.67498878e-02, ...,\n           3.53586897e-02,  2.78879777e-02,  4.86747399e-02],\n         [ 6.43749312e-02, -5.04976325e-02, -2.79150009e-02, ...,\n           7.02524409e-02,  8.04341659e-02, -7.24008903e-02],\n         [-3.86532955e-02, -1.77944526e-02,  6.53747469e-03, ...,\n          -7.48571008e-03, -7.68486410e-03,  4.32953462e-02]],\n\n        [[-8.12914222e-02,  3.14792246e-03,  6.33143261e-02, ...,\n           1.72125697e-02,  1.56355724e-02,  1.94291025e-03],\n         [ 7.94500187e-02, -5.20941615e-02,  3.82754207e-02, ...,\n          -1.08206272e-02,  1.75314769e-02, -8.00211653e-02],\n         [-5.75928316e-02, -7.37539753e-02,  8.08894634e-03, ...,\n           6.43098727e-02, -1.58057362e-03, -8.26568455e-02],\n         ...,\n         [ 3.19955572e-02, -8.06140304e-02,  3.80754694e-02, ...,\n           4.24775705e-02,  1.71487927e-02,  3.94988284e-02],\n         [ 1.06242299e-02,  3.35577875e-03,  5.68326339e-02, ...,\n          -4.44755778e-02, -2.00164095e-02,  1.43182054e-02],\n         [-4.55493331e-02, -9.98570770e-03, -5.72191104e-02, ...,\n           1.36198401e-02, -5.03696203e-02, -2.27718577e-02]]],\n\n\n       [[[ 7.04018027e-03, -2.99700499e-02, -7.89628252e-02, ...,\n           6.46210983e-02,  6.92009926e-05, -7.98565596e-02],\n         [ 7.03577772e-02, -3.88346128e-02, -2.98780613e-02, ...,\n          -5.89023456e-02, -3.14401798e-02,  1.29524693e-02],\n         [ 2.03295574e-02, -6.66356683e-02, -8.85762274e-04, ...,\n           5.07569313e-03,  6.29544258e-04, -1.40600204e-02],\n         ...,\n         [-8.05547833e-02, -6.12379313e-02, -4.89845276e-02, ...,\n          -4.54252958e-02, -1.66914463e-02,  7.22587481e-02],\n         [ 1.73836723e-02,  8.30720887e-02,  3.69225517e-02, ...,\n           5.46918064e-03, -1.61186233e-02,  9.85070318e-03],\n         [-4.34250645e-02, -6.88567758e-02, -9.34541225e-03, ...,\n          -7.62154907e-02, -2.64659524e-02,  3.24843302e-02]],\n\n        [[ 2.29238868e-02, -6.07239418e-02, -7.21929297e-02, ...,\n          -7.79789910e-02, -6.02885708e-02, -3.59663367e-02],\n         [ 1.48154721e-02,  2.49607340e-02, -1.42529383e-02, ...,\n          -3.88202071e-02, -3.90670300e-02, -5.49293756e-02],\n         [ 6.88110217e-02,  4.05255556e-02, -7.21441731e-02, ...,\n           2.22372189e-02,  1.59462318e-02, -5.53008541e-02],\n         ...,\n         [-4.38310951e-03,  7.08699226e-03,  4.13545966e-02, ...,\n          -6.25130385e-02, -7.65660629e-02,  2.55262479e-02],\n         [-6.54989332e-02, -6.98452592e-02, -6.78816289e-02, ...,\n          -7.80629739e-02, -3.28115635e-02, -2.47434787e-02],\n         [-4.45952639e-02,  4.71593216e-02, -1.66746974e-02, ...,\n           4.56151143e-02, -7.78403282e-02, -2.16785297e-02]],\n\n        [[-1.31894946e-02, -1.68597698e-03,  8.32030848e-02, ...,\n           4.44509089e-04,  1.58461705e-02,  2.93757096e-02],\n         [-8.76523554e-04,  6.36988953e-02, -6.81225285e-02, ...,\n           5.70169464e-02, -1.97171569e-02,  1.77445263e-03],\n         [ 8.53681564e-03,  4.61460128e-02,  8.18355307e-02, ...,\n          -2.20583491e-02, -4.01483588e-02,  3.16619501e-02],\n         ...,\n         [ 3.50609645e-02,  6.81847334e-03, -4.29884009e-02, ...,\n           6.98716715e-02,  2.24533901e-02, -6.60233349e-02],\n         [-7.68766552e-03, -6.00882992e-02,  1.99369416e-02, ...,\n          -1.16685033e-02, -5.90630583e-02,  3.29915509e-02],\n         [ 6.19253144e-02, -2.41079181e-03, -2.76474170e-02, ...,\n          -7.83122405e-02,  6.95744231e-02, -5.03368601e-02]]],\n\n\n       [[[-4.68759947e-02, -3.04278731e-02, -1.29633546e-02, ...,\n          -2.87882090e-02,  6.71157613e-02,  1.37501955e-03],\n         [-3.36632133e-02,  1.06236935e-02, -3.51736955e-02, ...,\n          -4.82995734e-02,  1.19251981e-02,  6.82764426e-02],\n         [-1.56938806e-02,  6.16457090e-02,  8.05848017e-02, ...,\n          -4.23974991e-02,  7.71316960e-02, -2.85104923e-02],\n         ...,\n         [ 6.75067976e-02, -7.56779537e-02, -6.91772327e-02, ...,\n          -5.70837073e-02, -9.07389075e-03,  7.77804330e-02],\n         [ 7.33766183e-02,  3.61712351e-02,  7.23751634e-03, ...,\n          -3.43056731e-02,  7.56379142e-02, -7.35480785e-02],\n         [-9.19678062e-03, -3.11677866e-02,  5.70830181e-02, ...,\n           2.94466019e-02, -7.01463670e-02, -4.93707880e-02]],\n\n        [[ 4.69077453e-02, -6.35099411e-03, -1.10203624e-02, ...,\n          -6.41656965e-02, -5.66402078e-02, -5.22841439e-02],\n         [ 8.25655460e-03, -2.84964852e-02, -9.70818847e-03, ...,\n           5.94914928e-02, -8.76134634e-03, -2.26193890e-02],\n         [-6.10406399e-02,  7.19708204e-03, -7.07922578e-02, ...,\n          -1.27193555e-02, -1.56412125e-02, -4.13250327e-02],\n         ...,\n         [-8.16365108e-02,  2.12755203e-02, -6.39198422e-02, ...,\n          -2.22632103e-02, -6.64719194e-03, -4.24447283e-02],\n         [-8.23424309e-02, -8.10087174e-02, -3.30429301e-02, ...,\n          -4.03380990e-02,  7.36143366e-02, -1.86183304e-03],\n         [ 4.35476378e-02,  7.82131776e-02, -3.26830745e-02, ...,\n           1.13292709e-02,  6.83341399e-02, -4.74891663e-02]],\n\n        [[ 6.35390505e-02,  2.86050215e-02,  3.92967686e-02, ...,\n           1.20673180e-02, -6.25529289e-02,  2.47979164e-03],\n         [ 1.41406655e-02, -4.94457297e-02,  2.80958787e-02, ...,\n           6.42002001e-02, -5.88247925e-03,  7.10493326e-03],\n         [ 3.15479264e-02,  3.26597095e-02,  7.24867806e-02, ...,\n          -6.84970468e-02, -9.31841135e-03,  3.27916369e-02],\n         ...,\n         [-6.23639040e-02,  7.19628558e-02, -6.81660399e-02, ...,\n           2.38033906e-02, -6.54164702e-03,  6.24465570e-02],\n         [ 4.09020409e-02, -7.46848434e-03,  5.40457740e-02, ...,\n           1.17495283e-02,  4.31647375e-02, -5.08851409e-02],\n         [ 7.32584074e-02,  1.50194019e-03,  2.65574679e-02, ...,\n           5.19302115e-02,  5.78913838e-03, -4.53440771e-02]]]],\n      dtype=float32)>), (None, <tf.Variable 'vae/encoder/conv2d_1/bias:0' shape=(64,) dtype=float32, numpy=\narray([0., 0., 0., 0., 0., 0., 0., 0., 0., 0., 0., 0., 0., 0., 0., 0., 0.,\n       0., 0., 0., 0., 0., 0., 0., 0., 0., 0., 0., 0., 0., 0., 0., 0., 0.,\n       0., 0., 0., 0., 0., 0., 0., 0., 0., 0., 0., 0., 0., 0., 0., 0., 0.,\n       0., 0., 0., 0., 0., 0., 0., 0., 0., 0., 0., 0., 0.], dtype=float32)>), (None, <tf.Variable 'vae/encoder/dense/kernel:0' shape=(2304, 3) dtype=float32, numpy=\narray([[ 0.02491064, -0.03619374,  0.03902419],\n       [ 0.01141718,  0.04264164,  0.03020959],\n       [-0.03423277,  0.03922655,  0.00384995],\n       ...,\n       [ 0.03808738,  0.02093624,  0.03157216],\n       [-0.04042313, -0.01894401,  0.03792798],\n       [-0.02799728,  0.00248975, -0.02033285]], dtype=float32)>), (None, <tf.Variable 'vae/encoder/dense/bias:0' shape=(3,) dtype=float32, numpy=array([0., 0., 0.], dtype=float32)>), (None, <tf.Variable 'vae/decoder/dense_1/kernel:0' shape=(3, 3) dtype=float32, numpy=\narray([[-0.19108272,  0.53626776, -0.6819694 ],\n       [ 0.5041001 , -0.26660872,  0.06005406],\n       [ 0.25144458,  0.8224113 ,  0.13508344]], dtype=float32)>), (None, <tf.Variable 'vae/decoder/dense_1/bias:0' shape=(3,) dtype=float32, numpy=array([0., 0., 0.], dtype=float32)>), (None, <tf.Variable 'vae/decoder/dense_2/kernel:0' shape=(3, 1568) dtype=float32, numpy=\narray([[ 0.05096746,  0.05674073, -0.01255348, ..., -0.00276178,\n         0.01877855,  0.0316624 ],\n       [ 0.01904854, -0.01573674,  0.05569312, ...,  0.05021163,\n         0.01885545, -0.02153433],\n       [ 0.05740526, -0.02396408, -0.00920563, ..., -0.0483436 ,\n         0.03570027,  0.01429389]], dtype=float32)>), (None, <tf.Variable 'vae/decoder/dense_2/bias:0' shape=(1568,) dtype=float32, numpy=array([0., 0., 0., ..., 0., 0., 0.], dtype=float32)>), (None, <tf.Variable 'vae/decoder/conv2d_transpose/kernel:0' shape=(3, 3, 64, 32) dtype=float32, numpy=\narray([[[[-4.66382504e-02,  7.42360577e-02,  7.63132945e-02, ...,\n          -8.28476399e-02,  9.13619995e-03, -6.95305467e-02],\n         [-7.61843175e-02, -7.44383931e-02, -3.76195721e-02, ...,\n          -4.47567701e-02,  5.87125793e-02,  6.51948079e-02],\n         [-1.35076270e-02,  5.45522943e-02, -7.36038312e-02, ...,\n          -7.11807013e-02,  2.18007341e-02,  2.31693164e-02],\n         ...,\n         [ 2.41217613e-02,  2.84892693e-02,  2.63834000e-03, ...,\n           7.31781870e-03,  4.92973700e-02, -2.82353163e-02],\n         [ 7.12165982e-03,  1.19328871e-02, -7.75626525e-02, ...,\n           4.55306247e-02, -3.66585478e-02, -1.68356895e-02],\n         [-8.15771520e-04, -6.88454732e-02,  1.33081675e-02, ...,\n           6.15443811e-02, -3.09939981e-02, -1.21781006e-02]],\n\n        [[ 3.87595519e-02, -3.84930596e-02,  4.00700793e-02, ...,\n           3.22991610e-02, -9.37853009e-03, -3.84660773e-02],\n         [-3.02988887e-02, -8.00520405e-02, -5.78201227e-02, ...,\n          -3.62356119e-02,  7.65403882e-02,  5.00177220e-02],\n         [ 7.14429691e-02,  2.14946866e-02,  2.97243819e-02, ...,\n           8.01352337e-02,  3.10379639e-02, -5.94977960e-02],\n         ...,\n         [-7.27850795e-02, -4.57196832e-02,  6.06494024e-02, ...,\n           5.63462749e-02, -7.97710419e-02, -1.64443627e-02],\n         [ 2.09131092e-03,  2.72793397e-02,  5.13382331e-02, ...,\n          -7.82230124e-02,  4.15935889e-02, -1.75558329e-02],\n         [-5.41334152e-02,  7.04765692e-02, -6.06037602e-02, ...,\n          -7.93929920e-02,  2.08671466e-02,  2.38094479e-03]],\n\n        [[-7.83326477e-02, -4.93385606e-02,  2.88971439e-02, ...,\n          -5.53092584e-02, -4.38436680e-02, -2.66600251e-02],\n         [ 2.72019729e-02, -7.36144632e-02,  3.31745967e-02, ...,\n           7.66400322e-02, -6.27166480e-02,  6.24408573e-03],\n         [-3.62291746e-02,  4.17863503e-02,  6.96649775e-02, ...,\n           7.90642723e-02, -7.41857737e-02, -5.90520501e-02],\n         ...,\n         [-2.38577537e-02, -5.28530292e-02,  7.17533007e-02, ...,\n           5.71164116e-02, -2.89210901e-02,  7.24351183e-02],\n         [-3.41866836e-02, -5.44619374e-02, -5.47355823e-02, ...,\n          -7.89084285e-02, -6.31345958e-02,  7.66196921e-02],\n         [ 7.43279085e-02,  6.94291815e-02, -8.24930519e-02, ...,\n          -6.66526407e-02, -3.74317989e-02,  3.49435806e-02]]],\n\n\n       [[[-7.51916990e-02,  3.39813009e-02, -4.94187698e-02, ...,\n          -7.11533874e-02,  5.57824001e-02, -3.32929119e-02],\n         [ 6.03779331e-02, -4.47587781e-02, -1.71902403e-02, ...,\n          -2.58941278e-02, -1.48147121e-02,  4.53574285e-02],\n         [-7.79110193e-02,  3.93264070e-02, -4.86410260e-02, ...,\n           5.14333323e-02,  2.08190307e-02, -4.31138873e-02],\n         ...,\n         [ 1.96366310e-02,  5.68988398e-02, -7.09758252e-02, ...,\n          -8.01909193e-02, -2.38469467e-02,  1.56047717e-02],\n         [-5.82727008e-02,  5.45027480e-02,  1.10445842e-02, ...,\n          -6.08196668e-02,  7.40942433e-02,  6.61597028e-02],\n         [ 4.63613048e-02,  8.32957402e-02,  3.27256322e-02, ...,\n          -2.98805051e-02, -1.37508139e-02,  2.85472870e-02]],\n\n        [[ 3.23837996e-03, -7.17105716e-02, -6.37558848e-03, ...,\n           3.33085284e-02,  7.71917328e-02,  3.73500809e-02],\n         [ 1.37249827e-02,  4.19669524e-02,  4.89259437e-02, ...,\n          -1.58238411e-02,  5.75279668e-02,  7.68270865e-02],\n         [-2.05502883e-02, -7.24412426e-02, -1.94055066e-02, ...,\n          -3.72600555e-03,  5.48131838e-02,  2.31536031e-02],\n         ...,\n         [ 5.28837219e-02,  4.69619408e-02,  6.36598691e-02, ...,\n           7.62419477e-02, -6.04857802e-02,  2.86102071e-02],\n         [ 5.17730489e-02,  4.65588197e-02, -7.78155178e-02, ...,\n           7.50312433e-02,  7.83709064e-02, -1.05053186e-02],\n         [-3.19242701e-02, -7.52827376e-02,  3.76943722e-02, ...,\n          -5.76017722e-02, -5.90326414e-02,  5.59656397e-02]],\n\n        [[-3.12643871e-02,  3.09613943e-02, -7.30707049e-02, ...,\n          -8.30648169e-02,  8.09530169e-03, -1.06571093e-02],\n         [-6.50301799e-02,  3.71063724e-02, -6.15286827e-02, ...,\n           6.25704303e-02, -1.90952048e-02, -7.45836720e-02],\n         [-2.70701945e-04,  2.13361979e-02,  1.52853876e-03, ...,\n          -7.57901296e-02,  5.74359372e-02, -6.41462803e-02],\n         ...,\n         [ 5.47630563e-02,  2.79175043e-02,  1.56790614e-02, ...,\n          -1.75657123e-03,  5.23865297e-02,  5.68942055e-02],\n         [ 6.17426708e-02, -1.76774263e-02, -1.28408447e-02, ...,\n           2.90217623e-02,  8.10868815e-02,  4.30800542e-02],\n         [-8.02035779e-02,  7.13134035e-02,  7.73186907e-02, ...,\n           3.59421372e-02, -2.87328772e-02, -4.71748710e-02]]],\n\n\n       [[[-3.20306644e-02,  1.13037005e-02, -4.87857088e-02, ...,\n           3.45915928e-02, -3.94782424e-02, -4.28267941e-02],\n         [-7.07895011e-02,  6.28852621e-02, -2.92993411e-02, ...,\n          -4.51915264e-02, -6.22866377e-02,  7.03235343e-02],\n         [ 1.67675018e-02,  4.00874019e-02,  2.98691764e-02, ...,\n          -1.87220201e-02,  2.23272070e-02, -6.40319213e-02],\n         ...,\n         [-4.30293903e-02, -6.42747879e-02, -6.28393516e-02, ...,\n          -2.49535665e-02,  2.37533674e-02,  8.29672441e-02],\n         [ 4.39867005e-02,  1.61156058e-05, -4.66029271e-02, ...,\n           1.52180195e-02,  6.04249611e-02, -7.50487447e-02],\n         [ 4.02001515e-02,  4.25009504e-02,  4.69561443e-02, ...,\n           2.62263790e-02, -5.83618693e-02, -5.05838208e-02]],\n\n        [[-4.26497310e-03, -4.73490581e-02,  7.66336098e-02, ...,\n          -3.00101861e-02,  1.36128291e-02, -2.70145945e-02],\n         [ 2.69739851e-02,  2.50115618e-02, -3.65672112e-02, ...,\n           4.40083370e-02,  7.34130368e-02,  3.51182446e-02],\n         [ 4.76799905e-04, -7.79026970e-02,  1.56407133e-02, ...,\n           3.37142721e-02, -5.79446554e-03, -7.20207691e-02],\n         ...,\n         [ 2.85104737e-02,  7.52603784e-02,  1.41691566e-02, ...,\n           3.96428481e-02,  7.33071044e-02, -6.81226701e-02],\n         [ 6.79520443e-02, -6.62655681e-02,  1.11745968e-02, ...,\n           6.98783621e-02, -4.21184301e-02,  6.85491934e-02],\n         [ 3.33133712e-02, -7.31421337e-02, -4.79003005e-02, ...,\n           8.30172971e-02,  6.18968979e-02,  5.33059984e-03]],\n\n        [[-7.31069073e-02, -2.55809650e-02,  2.04350725e-02, ...,\n          -3.21567878e-02, -3.43679003e-02,  7.90721998e-02],\n         [-8.27101916e-02,  6.70546070e-02, -8.15975666e-02, ...,\n           7.81709924e-02, -5.28859496e-02, -5.76288514e-02],\n         [-3.19137387e-02,  2.61614695e-02,  5.07746413e-02, ...,\n           7.60607496e-02,  7.27619305e-02, -7.56037459e-02],\n         ...,\n         [ 6.56795278e-02, -2.83439569e-02,  7.53223896e-03, ...,\n          -5.55491671e-02, -2.40296535e-02, -4.09324169e-02],\n         [-4.05593924e-02,  1.33079290e-02,  4.13276926e-02, ...,\n          -1.84383765e-02, -1.86075345e-02,  6.99777231e-02],\n         [-7.56592974e-02,  3.64541635e-02, -6.17729053e-02, ...,\n           3.54979634e-02,  3.30754891e-02, -3.64098549e-02]]]],\n      dtype=float32)>), (None, <tf.Variable 'vae/decoder/conv2d_transpose/bias:0' shape=(64,) dtype=float32, numpy=\narray([0., 0., 0., 0., 0., 0., 0., 0., 0., 0., 0., 0., 0., 0., 0., 0., 0.,\n       0., 0., 0., 0., 0., 0., 0., 0., 0., 0., 0., 0., 0., 0., 0., 0., 0.,\n       0., 0., 0., 0., 0., 0., 0., 0., 0., 0., 0., 0., 0., 0., 0., 0., 0.,\n       0., 0., 0., 0., 0., 0., 0., 0., 0., 0., 0., 0., 0.], dtype=float32)>), (None, <tf.Variable 'vae/decoder/conv2d_transpose_1/kernel:0' shape=(3, 3, 32, 64) dtype=float32, numpy=\narray([[[[-8.79988074e-05,  5.76140061e-02, -6.45954013e-02, ...,\n          -3.70932817e-02,  5.44378385e-02, -2.69112810e-02],\n         [-4.55250740e-02,  7.38047585e-02,  2.05349326e-02, ...,\n           5.35658225e-02,  1.69820786e-02, -8.29285383e-03],\n         [-2.00211406e-02, -8.02556872e-02, -4.10885438e-02, ...,\n          -5.08401804e-02, -6.46311641e-02, -5.22818789e-02],\n         ...,\n         [-1.36970058e-02, -2.44525820e-03,  6.26989082e-02, ...,\n           7.58512989e-02,  4.28412035e-02,  2.79387832e-02],\n         [ 3.88499275e-02,  1.68841705e-02,  1.20430589e-02, ...,\n           1.68768167e-02,  4.86503020e-02, -1.98717713e-02],\n         [-5.53456955e-02,  4.90683392e-02,  1.55616626e-02, ...,\n           3.13423648e-02, -6.90200776e-02,  1.64140463e-02]],\n\n        [[ 1.24371648e-02,  1.72698870e-02, -2.70857811e-02, ...,\n           7.29290396e-03,  2.28762627e-04,  7.71287903e-02],\n         [ 4.50234488e-02,  5.56191280e-02, -7.01290593e-02, ...,\n          -2.51032114e-02,  7.23782256e-02,  7.89053515e-02],\n         [-6.70746416e-02,  1.44262686e-02, -2.30865292e-02, ...,\n           2.91861296e-02, -3.49767432e-02,  2.22045779e-02],\n         ...,\n         [ 9.83909518e-03, -1.67285576e-02, -4.33409028e-02, ...,\n          -4.06376943e-02,  4.23348770e-02,  7.36287981e-03],\n         [ 5.23538813e-02, -5.05631194e-02, -6.46197051e-02, ...,\n           1.45492703e-03, -2.95254998e-02,  2.42455602e-02],\n         [ 6.01323321e-02, -5.03795370e-02,  8.03476796e-02, ...,\n          -5.22457175e-02,  3.10376510e-02,  7.05287233e-02]],\n\n        [[-6.77944869e-02,  6.67201057e-02, -1.65865794e-02, ...,\n           7.30017647e-02,  3.95077094e-02, -6.82260841e-03],\n         [ 2.77259946e-02, -2.71865129e-02,  5.14759794e-02, ...,\n           6.30390272e-02,  7.58027062e-02, -6.82681426e-02],\n         [ 6.87106922e-02,  7.08334222e-02,  4.99409214e-02, ...,\n          -6.46312460e-02,  3.25968117e-03,  8.20774660e-02],\n         ...,\n         [-6.03779778e-02, -8.21432099e-02,  1.45161524e-02, ...,\n          -3.36285643e-02, -1.36241093e-02,  3.55678573e-02],\n         [-7.95494542e-02, -1.63652897e-02,  6.30789623e-02, ...,\n          -3.44720297e-02, -2.79020891e-02,  7.25729838e-02],\n         [-1.36576891e-02, -4.37910371e-02, -2.00499073e-02, ...,\n          -1.65679455e-02,  3.86903509e-02,  4.20800820e-02]]],\n\n\n       [[[-2.87958011e-02,  4.64492664e-02,  9.29109007e-03, ...,\n           1.12174153e-02, -3.98530811e-03,  2.65988931e-02],\n         [-3.80407386e-02, -4.46494035e-02,  5.65423742e-02, ...,\n          -2.21572816e-04,  7.91360214e-02, -8.10184926e-02],\n         [ 6.16773441e-02,  8.05105940e-02,  7.89845064e-02, ...,\n          -3.00246887e-02, -5.52609563e-02,  7.85256401e-02],\n         ...,\n         [ 1.44377351e-02, -1.12417713e-02,  7.65810162e-03, ...,\n          -2.44041495e-02,  7.87080303e-02,  4.90013584e-02],\n         [-3.14943604e-02,  4.58167270e-02, -4.90425453e-02, ...,\n          -7.69982487e-03, -6.25606626e-03,  5.62953725e-02],\n         [ 5.02865985e-02, -5.77920899e-02,  6.12202361e-02, ...,\n          -1.83310136e-02, -9.37396288e-03,  6.34024814e-02]],\n\n        [[ 4.68397513e-02,  2.74686441e-02,  5.43492064e-02, ...,\n          -5.92465214e-02, -5.48443794e-02,  5.06370738e-02],\n         [ 3.42405811e-02,  5.03006950e-02, -6.63484931e-02, ...,\n           2.17944756e-02, -3.87630463e-02,  6.91026524e-02],\n         [-4.38382626e-02, -2.38595009e-02, -3.25815082e-02, ...,\n           7.39081949e-03,  4.27319184e-02, -1.43292770e-02],\n         ...,\n         [ 4.35233489e-02,  7.19723776e-02, -2.46621184e-02, ...,\n           7.22338781e-02, -4.33227643e-02,  3.68811935e-03],\n         [-6.36190176e-03,  2.61143073e-02,  8.14770684e-02, ...,\n           8.08261856e-02,  5.49983159e-02,  6.91880956e-02],\n         [-5.81156611e-02,  5.61621040e-03,  5.36606088e-02, ...,\n           1.56157985e-02,  6.91386089e-02, -2.87198238e-02]],\n\n        [[ 4.87542227e-02,  1.59865618e-03, -1.35494694e-02, ...,\n           8.19827095e-02,  5.73541969e-03,  1.05295330e-03],\n         [-4.80453596e-02,  7.81192556e-02,  5.70983067e-02, ...,\n           6.17870912e-02, -6.60016760e-02, -5.70618324e-02],\n         [-7.51942396e-03, -6.05650358e-02, -2.98551321e-02, ...,\n           7.27222189e-02,  4.38444242e-02,  4.56290022e-02],\n         ...,\n         [ 1.57891139e-02,  4.30760756e-02,  6.70498833e-02, ...,\n           3.61464247e-02,  6.43364415e-02, -7.40922093e-02],\n         [-7.87534565e-02, -5.90164661e-02, -8.03722367e-02, ...,\n          -5.81499189e-03, -2.71705538e-03, -8.94399732e-03],\n         [ 6.25606254e-02, -4.79028225e-02, -6.72076195e-02, ...,\n           7.53686801e-02,  8.09098706e-02,  7.12276921e-02]]],\n\n\n       [[[ 5.53867966e-03, -3.93532515e-02, -2.53696069e-02, ...,\n           2.98608318e-02,  1.70184746e-02,  6.33045286e-03],\n         [ 4.56733480e-02, -2.14569792e-02,  1.69697404e-02, ...,\n           5.53721264e-02,  8.02196562e-04,  5.29241562e-03],\n         [ 7.90086016e-02,  6.87859878e-02,  1.75446048e-02, ...,\n           4.75233793e-03,  2.71000043e-02,  2.81448588e-02],\n         ...,\n         [-4.09274325e-02, -7.95366019e-02, -1.31211057e-02, ...,\n           6.53792098e-02, -6.53458461e-02,  3.90243530e-03],\n         [ 5.31521216e-02,  7.15645924e-02, -2.54290700e-02, ...,\n          -1.26615986e-02, -2.92970166e-02, -1.16479397e-02],\n         [ 4.92378697e-02,  7.13589564e-02,  1.93796977e-02, ...,\n           1.32060051e-02,  5.63984290e-02,  7.02633038e-02]],\n\n        [[-4.58223224e-02,  5.51570877e-02, -6.54572248e-02, ...,\n           1.19495615e-02,  3.42132822e-02,  8.08834210e-02],\n         [-5.11491299e-03, -1.06229559e-02,  1.37487054e-02, ...,\n           2.09032521e-02,  7.60928020e-02, -5.41951507e-03],\n         [-9.06623900e-04,  4.71228436e-02,  7.12502971e-02, ...,\n          -2.94879824e-03, -7.03076124e-02, -4.65238094e-02],\n         ...,\n         [ 7.36492872e-03,  2.08263025e-02, -3.63189988e-02, ...,\n          -1.64437518e-02, -6.83586448e-02, -9.01675224e-03],\n         [-3.64119634e-02,  6.15733936e-02, -2.08775029e-02, ...,\n          -5.95230274e-02,  1.56509280e-02,  6.45926669e-02],\n         [-1.73658729e-02, -6.41562790e-02,  6.80725053e-02, ...,\n           1.31750926e-02,  3.91629115e-02, -1.43804774e-02]],\n\n        [[ 6.19783029e-02, -2.39248686e-02, -5.40837459e-02, ...,\n           7.64809474e-02,  2.13967562e-02,  3.48917395e-03],\n         [-7.61613697e-02,  6.98870495e-02, -7.90359825e-02, ...,\n          -3.09225135e-02, -2.73710489e-02,  3.73110175e-02],\n         [-2.63079256e-03,  1.72436461e-02,  5.46655282e-02, ...,\n           7.61178508e-02, -4.76111993e-02, -9.03785229e-03],\n         ...,\n         [ 4.95404229e-02, -5.63827902e-03,  2.09179148e-02, ...,\n           5.98110184e-02,  6.31245002e-02,  2.24444047e-02],\n         [ 4.81434092e-02, -6.86514974e-02,  4.58788499e-02, ...,\n          -4.82941680e-02,  1.45497546e-02,  7.49608129e-03],\n         [-7.07267970e-02,  4.75619808e-02,  7.16799274e-02, ...,\n           2.35071033e-03,  8.24167952e-02,  7.84640089e-02]]]],\n      dtype=float32)>), (None, <tf.Variable 'vae/decoder/conv2d_transpose_1/bias:0' shape=(32,) dtype=float32, numpy=\narray([0., 0., 0., 0., 0., 0., 0., 0., 0., 0., 0., 0., 0., 0., 0., 0., 0.,\n       0., 0., 0., 0., 0., 0., 0., 0., 0., 0., 0., 0., 0., 0., 0.],\n      dtype=float32)>), (None, <tf.Variable 'vae/decoder/conv2d_transpose_2/kernel:0' shape=(3, 3, 1, 32) dtype=float32, numpy=\narray([[[[-0.00117081, -0.11722672, -0.04909754, -0.03147206,\n           0.10150011, -0.02196564, -0.07548982, -0.0228439 ,\n          -0.03533396,  0.06577238,  0.12032737,  0.10204591,\n           0.12269919,  0.05862947, -0.11203165, -0.07840826,\n           0.03860618, -0.13828641, -0.03790323,  0.0202115 ,\n           0.10564148,  0.09862271,  0.05741926, -0.10063497,\n          -0.0797137 ,  0.05299444,  0.11861385,  0.10506243,\n          -0.07693999, -0.11105116, -0.11105049,  0.07781442]],\n\n        [[ 0.11978935, -0.04990908, -0.11159281,  0.02207594,\n           0.01435699, -0.07624195, -0.00326365, -0.11244159,\n           0.09597129, -0.10459474, -0.11719907,  0.12123413,\n           0.03709926,  0.08851224, -0.05121221, -0.01479702,\n          -0.1306185 , -0.01251785,  0.08566947, -0.0871205 ,\n           0.07070814,  0.06539738, -0.06994601, -0.02289866,\n          -0.05003134,  0.05621246,  0.08737017, -0.02704959,\n           0.06449452, -0.03228597,  0.08121556,  0.09584641]],\n\n        [[ 0.06706563,  0.00022851, -0.04610708,  0.00186639,\n           0.07864198, -0.08808862,  0.0016802 ,  0.13470592,\n          -0.09752869, -0.06663522, -0.02737355, -0.04815584,\n           0.01725699, -0.06876755, -0.04916013, -0.03423458,\n           0.0703651 , -0.05902623,  0.05642347,  0.02573243,\n           0.11034681, -0.12231223,  0.08669975,  0.07087548,\n          -0.00793964, -0.07940824,  0.07813814, -0.13539508,\n          -0.1077387 , -0.11984544,  0.10495429, -0.04858036]]],\n\n\n       [[[ 0.10586958,  0.05210762, -0.10576941,  0.04431045,\n          -0.13618265,  0.00344323, -0.09386482,  0.12527381,\n           0.0080011 , -0.05475808, -0.01816569,  0.04414897,\n           0.13914518,  0.01250347,  0.05497554,  0.05341373,\n          -0.09487829,  0.13320644, -0.03936086,  0.11434318,\n           0.04836056,  0.06274363,  0.01835461,  0.12923448,\n          -0.09791334, -0.07120581, -0.1181083 , -0.12006398,\n          -0.02486965, -0.04955804,  0.07326372,  0.10004872]],\n\n        [[-0.09144428, -0.04066481, -0.08650114, -0.09229475,\n           0.03982227, -0.02804052,  0.00270481,  0.06520261,\n          -0.0601724 ,  0.14195894,  0.10308367,  0.1068556 ,\n          -0.04365703,  0.07381138, -0.14094318, -0.08685742,\n          -0.06443228, -0.05653263, -0.12676252,  0.04978983,\n           0.13556011,  0.02699995,  0.01115839,  0.08458498,\n          -0.13961917,  0.03815819, -0.06871998,  0.06563132,\n          -0.11254007, -0.0183093 , -0.01158507, -0.04262543]],\n\n        [[-0.09996718,  0.04229255, -0.0872004 , -0.01181144,\n           0.07778779, -0.00281391, -0.01042582,  0.1046064 ,\n           0.12982847,  0.14014618,  0.0989728 , -0.07463674,\n           0.12850545, -0.12930638,  0.01831804, -0.09410194,\n           0.1388834 , -0.04702069, -0.06914685, -0.12228536,\n           0.05462995, -0.07707419,  0.00519592, -0.14025642,\n          -0.11094706, -0.11321385,  0.05007865,  0.12551935,\n           0.00810389,  0.11599196,  0.01412977, -0.06588434]]],\n\n\n       [[[-0.13419503, -0.01729332,  0.01337503, -0.13171132,\n           0.03127073,  0.04483004,  0.04793286, -0.10172523,\n           0.08791116, -0.12218786,  0.07084173,  0.13856412,\n           0.00941384, -0.06303198,  0.10678113, -0.06209737,\n           0.06482665,  0.03722554,  0.1069492 , -0.1131437 ,\n           0.12849458, -0.08678907, -0.09096301, -0.12362303,\n           0.14037065,  0.13024546, -0.13559482, -0.05563959,\n          -0.04836073,  0.12239854, -0.05274887,  0.00762001]],\n\n        [[-0.08849496,  0.08044675, -0.02075962,  0.04517552,\n           0.14153172,  0.05898939, -0.12336616, -0.09116353,\n           0.14102046,  0.05274664,  0.06020971, -0.05345037,\n          -0.0965853 , -0.08878084, -0.02054034, -0.11330186,\n           0.12694256, -0.11826429,  0.09250082, -0.10472836,\n           0.13909526, -0.033324  , -0.02844223,  0.00797616,\n           0.05709007,  0.09541316,  0.05859353,  0.05701739,\n           0.11460178,  0.03328557,  0.11395253, -0.01799414]],\n\n        [[-0.05281634,  0.03268918,  0.09267955,  0.04855521,\n           0.00085498,  0.1046145 ,  0.13708161,  0.05967554,\n          -0.02132127,  0.10944681,  0.12570937,  0.10856493,\n           0.01398578, -0.08898392,  0.13413145, -0.05848043,\n          -0.06270131,  0.08126846,  0.08369496,  0.07990561,\n           0.09080988, -0.07256869,  0.13491662,  0.07068954,\n          -0.12497723, -0.13385707, -0.08708394, -0.06146947,\n          -0.00714609, -0.08633342, -0.07716199,  0.01025465]]]],\n      dtype=float32)>), (None, <tf.Variable 'vae/decoder/conv2d_transpose_2/bias:0' shape=(1,) dtype=float32, numpy=array([0.], dtype=float32)>), (None, <tf.Variable 'vae/dense_3/kernel:0' shape=(3, 3) dtype=float32, numpy=\narray([[-0.38525963,  0.08717513, -0.79364324],\n       [-0.9677162 ,  0.1885984 ,  0.8736131 ],\n       [ 0.8351848 ,  0.42564273, -0.75109625]], dtype=float32)>), (None, <tf.Variable 'vae/dense_3/bias:0' shape=(3,) dtype=float32, numpy=array([0., 0., 0.], dtype=float32)>), (None, <tf.Variable 'vae/dense_4/kernel:0' shape=(3, 3) dtype=float32, numpy=\narray([[ 0.8795719 , -0.9308059 ,  0.7669947 ],\n       [-0.86681366, -0.02081656,  0.65398765],\n       [ 0.623487  ,  0.8273215 ,  0.03563333]], dtype=float32)>), (None, <tf.Variable 'vae/dense_4/bias:0' shape=(3,) dtype=float32, numpy=array([0., 0., 0.], dtype=float32)>))."
          ]
        }
      ]
    },
    {
      "cell_type": "code",
      "source": [
        ""
      ],
      "metadata": {
        "id": "dMvRMpZjKpj9"
      },
      "execution_count": null,
      "outputs": []
    },
    {
      "cell_type": "code",
      "source": [
        ""
      ],
      "metadata": {
        "id": "PZhmkehdMl5_"
      },
      "execution_count": null,
      "outputs": []
    },
    {
      "cell_type": "code",
      "source": [
        "with tf.GradientTape() as tape:\n",
        "    recon_loss = compute_reconstruction_loss(data = X, reconstruction = X_recon)\n",
        "    # kl_loss = compute_kl_divergence_loss(mu = mu, log_var = log_var)"
      ],
      "metadata": {
        "id": "FsMG669YMMqj"
      },
      "execution_count": null,
      "outputs": []
    },
    {
      "cell_type": "code",
      "source": [
        "grads = tape.gradient(recon_loss, model.trainable_weights)"
      ],
      "metadata": {
        "id": "9L2IyifIMTQC"
      },
      "execution_count": null,
      "outputs": []
    },
    {
      "cell_type": "code",
      "source": [
        "type(grads), len(grads)"
      ],
      "metadata": {
        "colab": {
          "base_uri": "https://localhost:8080/"
        },
        "id": "JgBdwIWkMWP4",
        "outputId": "facb1452-05a3-4098-c502-803bb4b8d74a"
      },
      "execution_count": null,
      "outputs": [
        {
          "output_type": "execute_result",
          "data": {
            "text/plain": [
              "(list, 20)"
            ]
          },
          "metadata": {},
          "execution_count": 79
        }
      ]
    },
    {
      "cell_type": "code",
      "source": [
        ""
      ],
      "metadata": {
        "id": "OUMTGfvzMYIT"
      },
      "execution_count": null,
      "outputs": []
    },
    {
      "cell_type": "code",
      "source": [
        "for x in grads:\n",
        "    print(x)"
      ],
      "metadata": {
        "colab": {
          "base_uri": "https://localhost:8080/"
        },
        "id": "7Rv7tvMfMZOE",
        "outputId": "76a95135-e063-457d-fa43-49d8e24bff18"
      },
      "execution_count": null,
      "outputs": [
        {
          "output_type": "stream",
          "name": "stdout",
          "text": [
            "None\n",
            "None\n",
            "None\n",
            "None\n",
            "None\n",
            "None\n",
            "None\n",
            "None\n",
            "None\n",
            "None\n",
            "None\n",
            "None\n",
            "None\n",
            "None\n",
            "None\n",
            "None\n",
            "None\n",
            "None\n",
            "None\n",
            "None\n"
          ]
        }
      ]
    },
    {
      "cell_type": "code",
      "source": [
        ""
      ],
      "metadata": {
        "id": "ZIBjtNQeMatk"
      },
      "execution_count": null,
      "outputs": []
    },
    {
      "cell_type": "code",
      "source": [
        "optimizer.apply_gradients(zip(grads, model.trainable_weights))"
      ],
      "metadata": {
        "id": "UxOQs4lzMeAm"
      },
      "execution_count": null,
      "outputs": []
    },
    {
      "cell_type": "code",
      "source": [
        ""
      ],
      "metadata": {
        "id": "-fmuG5FaMeUM"
      },
      "execution_count": null,
      "outputs": []
    },
    {
      "cell_type": "code",
      "source": [
        ""
      ],
      "metadata": {
        "id": "EWSTUMlOGNC8"
      },
      "execution_count": null,
      "outputs": []
    },
    {
      "cell_type": "code",
      "source": [
        ""
      ],
      "metadata": {
        "id": "TinF4jUdGNF7"
      },
      "execution_count": null,
      "outputs": []
    },
    {
      "cell_type": "code",
      "source": [
        "\"\"\"\n",
        "with tf.GradientTape() as tape:\n",
        "    total_loss = compute_total_loss(\n",
        "        data = X, reconstruction = X_recon,\n",
        "        mu = mu, log_var = log_var,\n",
        "        alpha = 1\n",
        "    )\n",
        "\"\"\""
      ],
      "metadata": {
        "id": "d4HvmXUqFiD1"
      },
      "execution_count": null,
      "outputs": []
    },
    {
      "cell_type": "code",
      "source": [
        "# total_loss\n",
        "# <tf.Tensor: shape=(), dtype=float32, numpy=80.39213>"
      ],
      "metadata": {
        "id": "BcGjX7YIGPb_"
      },
      "execution_count": null,
      "outputs": []
    },
    {
      "cell_type": "code",
      "source": [
        "# grads = tape.gradient(total_loss, model.trainable_weights)"
      ],
      "metadata": {
        "id": "aDcN2UtIGWTc"
      },
      "execution_count": null,
      "outputs": []
    },
    {
      "cell_type": "code",
      "source": [
        "# type(grads), len(grads)\n",
        "# (list, 16)"
      ],
      "metadata": {
        "id": "-41YmjI1GRFp"
      },
      "execution_count": null,
      "outputs": []
    },
    {
      "cell_type": "code",
      "source": [
        ""
      ],
      "metadata": {
        "id": "HY9v48ozGT3t"
      },
      "execution_count": null,
      "outputs": []
    },
    {
      "cell_type": "code",
      "source": [
        "'''\n",
        "for x in grads:\n",
        "    print(x)\n",
        "'''\n",
        "\n",
        "'''\n",
        "None\n",
        "None\n",
        "None\n",
        "None\n",
        "None\n",
        "None\n",
        "None\n",
        "None\n",
        "None\n",
        "None\n",
        "None\n",
        "None\n",
        "None\n",
        "None\n",
        "None\n",
        "None\n",
        "'''"
      ],
      "metadata": {
        "id": "Rzea1uUrGT-U"
      },
      "execution_count": null,
      "outputs": []
    },
    {
      "cell_type": "code",
      "source": [
        ""
      ],
      "metadata": {
        "id": "8u3bwcDtGZFa"
      },
      "execution_count": null,
      "outputs": []
    },
    {
      "cell_type": "code",
      "source": [
        "# optimizer.apply_gradients(zip(grads, model.trainable_weights))\n",
        "# ValueError: No gradients provided for any variable: "
      ],
      "metadata": {
        "id": "KyUY7ubhGZ00"
      },
      "execution_count": null,
      "outputs": []
    },
    {
      "cell_type": "code",
      "source": [
        ""
      ],
      "metadata": {
        "id": "LQ2XhnirGbkz"
      },
      "execution_count": null,
      "outputs": []
    },
    {
      "cell_type": "code",
      "source": [
        "@tf.function\n",
        "def train_one_step(model, data, optimizer):\n",
        "    data_recon, mu, log_var = model(data)\n",
        "\n",
        "    with tf.GradientTape() as tape:\n",
        "      total_loss = compute_total_loss(\n",
        "          data = data, reconstruction = data_recon,\n",
        "          mu = mu, log_var = log_var,\n",
        "          alpha = 1\n",
        "          )\n",
        "\n",
        "    grads = tape.gradient(total_loss, model.trainable_weights)\n",
        "\n",
        "    optimizer.apply_gradients(zip(grads, model.trainable_weights))\n",
        "\n",
        "    return total_loss\n",
        "\n"
      ],
      "metadata": {
        "id": "DAYE0JhXGbqZ"
      },
      "execution_count": null,
      "outputs": []
    },
    {
      "cell_type": "code",
      "source": [
        ""
      ],
      "metadata": {
        "id": "GCOgjPnTHZHc"
      },
      "execution_count": null,
      "outputs": []
    },
    {
      "cell_type": "code",
      "source": [
        "'''\n",
        "total_loss = train_one_step(\n",
        "    model = model, data = X,\n",
        "    optimizer = optimizer\n",
        ")\n",
        "'''\n",
        "# ValueError: No gradients provided for any variable:"
      ],
      "metadata": {
        "id": "USsTwdTCHZRT"
      },
      "execution_count": null,
      "outputs": []
    },
    {
      "cell_type": "code",
      "source": [
        "# total_loss\n",
        "# <tf.Tensor: shape=(), dtype=float32, numpy=80.39213>"
      ],
      "metadata": {
        "id": "PaHkpBXFHdKE"
      },
      "execution_count": null,
      "outputs": []
    },
    {
      "cell_type": "code",
      "source": [
        ""
      ],
      "metadata": {
        "id": "n38DPvoXHejQ"
      },
      "execution_count": null,
      "outputs": []
    },
    {
      "cell_type": "code",
      "source": [
        "vae_total_loss = []"
      ],
      "metadata": {
        "id": "e5qxE9zTHmgJ"
      },
      "execution_count": null,
      "outputs": []
    },
    {
      "cell_type": "code",
      "source": [
        ""
      ],
      "metadata": {
        "id": "5Nc4bl4UHoa5"
      },
      "execution_count": null,
      "outputs": []
    },
    {
      "cell_type": "code",
      "source": [
        "for epoch in range(1, 6):\n",
        "  for data in train_dataset:\n",
        "    total_loss = train_one_step(\n",
        "        model = model, data = data,\n",
        "        optimizer = optimizer\n",
        "        )\n",
        "    \n",
        "    vae_total_loss.append(total_loss)\n"
      ],
      "metadata": {
        "colab": {
          "base_uri": "https://localhost:8080/",
          "height": 778
        },
        "id": "cNKPA515HDfg",
        "outputId": "2b19e429-1474-48a0-a91a-30a5a200b7e0"
      },
      "execution_count": null,
      "outputs": [
        {
          "output_type": "error",
          "ename": "ValueError",
          "evalue": "ignored",
          "traceback": [
            "\u001b[0;31m---------------------------------------------------------------------------\u001b[0m",
            "\u001b[0;31mValueError\u001b[0m                                Traceback (most recent call last)",
            "\u001b[0;32m<ipython-input-35-8f468f30822f>\u001b[0m in \u001b[0;36m<module>\u001b[0;34m()\u001b[0m\n\u001b[1;32m      3\u001b[0m     total_loss = train_one_step(\n\u001b[1;32m      4\u001b[0m         \u001b[0mmodel\u001b[0m \u001b[0;34m=\u001b[0m \u001b[0mmodel\u001b[0m\u001b[0;34m,\u001b[0m \u001b[0mdata\u001b[0m \u001b[0;34m=\u001b[0m \u001b[0mdata\u001b[0m\u001b[0;34m,\u001b[0m\u001b[0;34m\u001b[0m\u001b[0;34m\u001b[0m\u001b[0m\n\u001b[0;32m----> 5\u001b[0;31m         \u001b[0moptimizer\u001b[0m \u001b[0;34m=\u001b[0m \u001b[0moptimizer\u001b[0m\u001b[0;34m\u001b[0m\u001b[0;34m\u001b[0m\u001b[0m\n\u001b[0m\u001b[1;32m      6\u001b[0m         )\n\u001b[1;32m      7\u001b[0m \u001b[0;34m\u001b[0m\u001b[0m\n",
            "\u001b[0;32m/usr/local/lib/python3.7/dist-packages/tensorflow/python/util/traceback_utils.py\u001b[0m in \u001b[0;36merror_handler\u001b[0;34m(*args, **kwargs)\u001b[0m\n\u001b[1;32m    151\u001b[0m     \u001b[0;32mexcept\u001b[0m \u001b[0mException\u001b[0m \u001b[0;32mas\u001b[0m \u001b[0me\u001b[0m\u001b[0;34m:\u001b[0m\u001b[0;34m\u001b[0m\u001b[0;34m\u001b[0m\u001b[0m\n\u001b[1;32m    152\u001b[0m       \u001b[0mfiltered_tb\u001b[0m \u001b[0;34m=\u001b[0m \u001b[0m_process_traceback_frames\u001b[0m\u001b[0;34m(\u001b[0m\u001b[0me\u001b[0m\u001b[0;34m.\u001b[0m\u001b[0m__traceback__\u001b[0m\u001b[0;34m)\u001b[0m\u001b[0;34m\u001b[0m\u001b[0;34m\u001b[0m\u001b[0m\n\u001b[0;32m--> 153\u001b[0;31m       \u001b[0;32mraise\u001b[0m \u001b[0me\u001b[0m\u001b[0;34m.\u001b[0m\u001b[0mwith_traceback\u001b[0m\u001b[0;34m(\u001b[0m\u001b[0mfiltered_tb\u001b[0m\u001b[0;34m)\u001b[0m \u001b[0;32mfrom\u001b[0m \u001b[0;32mNone\u001b[0m\u001b[0;34m\u001b[0m\u001b[0;34m\u001b[0m\u001b[0m\n\u001b[0m\u001b[1;32m    154\u001b[0m     \u001b[0;32mfinally\u001b[0m\u001b[0;34m:\u001b[0m\u001b[0;34m\u001b[0m\u001b[0;34m\u001b[0m\u001b[0m\n\u001b[1;32m    155\u001b[0m       \u001b[0;32mdel\u001b[0m \u001b[0mfiltered_tb\u001b[0m\u001b[0;34m\u001b[0m\u001b[0;34m\u001b[0m\u001b[0m\n",
            "\u001b[0;32m/usr/local/lib/python3.7/dist-packages/tensorflow/python/framework/func_graph.py\u001b[0m in \u001b[0;36mautograph_handler\u001b[0;34m(*args, **kwargs)\u001b[0m\n\u001b[1;32m   1127\u001b[0m           \u001b[0;32mexcept\u001b[0m \u001b[0mException\u001b[0m \u001b[0;32mas\u001b[0m \u001b[0me\u001b[0m\u001b[0;34m:\u001b[0m  \u001b[0;31m# pylint:disable=broad-except\u001b[0m\u001b[0;34m\u001b[0m\u001b[0;34m\u001b[0m\u001b[0m\n\u001b[1;32m   1128\u001b[0m             \u001b[0;32mif\u001b[0m \u001b[0mhasattr\u001b[0m\u001b[0;34m(\u001b[0m\u001b[0me\u001b[0m\u001b[0;34m,\u001b[0m \u001b[0;34m\"ag_error_metadata\"\u001b[0m\u001b[0;34m)\u001b[0m\u001b[0;34m:\u001b[0m\u001b[0;34m\u001b[0m\u001b[0;34m\u001b[0m\u001b[0m\n\u001b[0;32m-> 1129\u001b[0;31m               \u001b[0;32mraise\u001b[0m \u001b[0me\u001b[0m\u001b[0;34m.\u001b[0m\u001b[0mag_error_metadata\u001b[0m\u001b[0;34m.\u001b[0m\u001b[0mto_exception\u001b[0m\u001b[0;34m(\u001b[0m\u001b[0me\u001b[0m\u001b[0;34m)\u001b[0m\u001b[0;34m\u001b[0m\u001b[0;34m\u001b[0m\u001b[0m\n\u001b[0m\u001b[1;32m   1130\u001b[0m             \u001b[0;32melse\u001b[0m\u001b[0;34m:\u001b[0m\u001b[0;34m\u001b[0m\u001b[0;34m\u001b[0m\u001b[0m\n\u001b[1;32m   1131\u001b[0m               \u001b[0;32mraise\u001b[0m\u001b[0;34m\u001b[0m\u001b[0;34m\u001b[0m\u001b[0m\n",
            "\u001b[0;31mValueError\u001b[0m: in user code:\n\n    File \"<ipython-input-33-2631c4a31c65>\", line 14, in train_one_step  *\n        optimizer.apply_gradients(zip(grads, model.trainable_weights))\n    File \"/usr/local/lib/python3.7/dist-packages/keras/optimizer_v2/optimizer_v2.py\", line 633, in apply_gradients  **\n        grads_and_vars = optimizer_utils.filter_empty_gradients(grads_and_vars)\n    File \"/usr/local/lib/python3.7/dist-packages/keras/optimizer_v2/utils.py\", line 73, in filter_empty_gradients\n        raise ValueError(f\"No gradients provided for any variable: {variable}. \"\n\n    ValueError: No gradients provided for any variable: (['vae/encoder/conv2d/kernel:0', 'vae/encoder/conv2d/bias:0', 'vae/encoder/conv2d_1/kernel:0', 'vae/encoder/conv2d_1/bias:0', 'vae/encoder/dense/kernel:0', 'vae/encoder/dense/bias:0', 'vae/decoder/dense_1/kernel:0', 'vae/decoder/dense_1/bias:0', 'vae/decoder/dense_2/kernel:0', 'vae/decoder/dense_2/bias:0', 'vae/decoder/conv2d_transpose/kernel:0', 'vae/decoder/conv2d_transpose/bias:0', 'vae/decoder/conv2d_transpose_1/kernel:0', 'vae/decoder/conv2d_transpose_1/bias:0', 'vae/decoder/conv2d_transpose_2/kernel:0', 'vae/decoder/conv2d_transpose_2/bias:0', 'vae/dense_3/kernel:0', 'vae/dense_3/bias:0', 'vae/dense_4/kernel:0', 'vae/dense_4/bias:0'],). Provided `grads_and_vars` is ((None, <tf.Variable 'vae/encoder/conv2d/kernel:0' shape=(3, 3, 1, 32) dtype=float32>), (None, <tf.Variable 'vae/encoder/conv2d/bias:0' shape=(32,) dtype=float32>), (None, <tf.Variable 'vae/encoder/conv2d_1/kernel:0' shape=(3, 3, 32, 64) dtype=float32>), (None, <tf.Variable 'vae/encoder/conv2d_1/bias:0' shape=(64,) dtype=float32>), (None, <tf.Variable 'vae/encoder/dense/kernel:0' shape=(2304, 200) dtype=float32>), (None, <tf.Variable 'vae/encoder/dense/bias:0' shape=(200,) dtype=float32>), (None, <tf.Variable 'vae/decoder/dense_1/kernel:0' shape=(3, 200) dtype=float32>), (None, <tf.Variable 'vae/decoder/dense_1/bias:0' shape=(200,) dtype=float32>), (None, <tf.Variable 'vae/decoder/dense_2/kernel:0' shape=(200, 1568) dtype=float32>), (None, <tf.Variabl...\n"
          ]
        }
      ]
    },
    {
      "cell_type": "code",
      "source": [
        ""
      ],
      "metadata": {
        "id": "X0eUdbYyHxvO"
      },
      "execution_count": null,
      "outputs": []
    },
    {
      "cell_type": "code",
      "source": [
        "data.shape"
      ],
      "metadata": {
        "colab": {
          "base_uri": "https://localhost:8080/"
        },
        "id": "YymbxmfwHjH7",
        "outputId": "3a7e6630-1fa3-4d57-86cc-e9bf216b8457"
      },
      "execution_count": null,
      "outputs": [
        {
          "output_type": "execute_result",
          "data": {
            "text/plain": [
              "TensorShape([128, 28, 28, 1])"
            ]
          },
          "metadata": {},
          "execution_count": 56
        }
      ]
    },
    {
      "cell_type": "code",
      "source": [
        ""
      ],
      "metadata": {
        "id": "3opVlTyDHjqn"
      },
      "execution_count": null,
      "outputs": []
    }
  ]
}