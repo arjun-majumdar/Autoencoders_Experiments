{
 "cells": [
  {
   "cell_type": "markdown",
   "id": "f940f8ab-a485-406e-9863-625351268df1",
   "metadata": {},
   "source": [
    "# Convolutional β-Variational Autoencoder: MNIST & PyTorch"
   ]
  },
  {
   "cell_type": "code",
   "execution_count": 1,
   "id": "1c2831d6-5438-4509-862d-4e052a774dc6",
   "metadata": {},
   "outputs": [
    {
     "name": "stdout",
     "output_type": "stream",
     "text": [
      "env: CUDA_DEVICE_ORDER=PCI_BUS_ID\n",
      "env: CUDA_VISIBLE_DEVICES=0\n"
     ]
    }
   ],
   "source": [
    "# Specify GPU to be used-\n",
    "%env CUDA_DEVICE_ORDER = PCI_BUS_ID\n",
    "%env CUDA_VISIBLE_DEVICES = 0"
   ]
  },
  {
   "cell_type": "code",
   "execution_count": 2,
   "id": "1306f275-2a35-4eed-a9fa-0ac3e900bc38",
   "metadata": {},
   "outputs": [
    {
     "name": "stderr",
     "output_type": "stream",
     "text": [
      "C:\\Users\\arjun\\anaconda3\\envs\\torch-gpu\\lib\\site-packages\\tqdm\\auto.py:22: TqdmWarning: IProgress not found. Please update jupyter and ipywidgets. See https://ipywidgets.readthedocs.io/en/stable/user_install.html\n",
      "  from .autonotebook import tqdm as notebook_tqdm\n"
     ]
    }
   ],
   "source": [
    "import torch\n",
    "import torch.nn as nn\n",
    "import torch.nn.functional as F\n",
    "import torchvision\n",
    "import torchvision.transforms as transforms\n",
    "\n",
    "from tqdm import tqdm\n",
    "from tqdm import trange\n",
    "import matplotlib.pyplot as plt\n",
    "import plotly, pickle\n",
    "import plotly.express as px\n",
    "import seaborn as sns\n",
    "import numpy as np"
   ]
  },
  {
   "cell_type": "code",
   "execution_count": null,
   "id": "d7119a73-906e-437b-aa90-18640af7aa06",
   "metadata": {},
   "outputs": [],
   "source": []
  },
  {
   "cell_type": "code",
   "execution_count": null,
   "id": "05856a14-0841-47d3-aa9b-d47e1f3ae5ce",
   "metadata": {},
   "outputs": [],
   "source": []
  },
  {
   "cell_type": "code",
   "execution_count": 3,
   "id": "7d0c61b4-8cc9-47b8-955a-3fbc0b22879a",
   "metadata": {},
   "outputs": [
    {
     "name": "stdout",
     "output_type": "stream",
     "text": [
      "torch version: 1.12.1\n"
     ]
    }
   ],
   "source": [
    "print(f\"torch version: {torch.__version__}\")"
   ]
  },
  {
   "cell_type": "code",
   "execution_count": 4,
   "id": "6ea5da16-758c-4c54-a7a5-c12d5d3bd9dd",
   "metadata": {},
   "outputs": [
    {
     "name": "stdout",
     "output_type": "stream",
     "text": [
      "Number of GPU(s) available = 1\n",
      "Current GPU: 0\n",
      "Current GPU name: NVIDIA GeForce RTX 3080 Laptop GPU\n"
     ]
    }
   ],
   "source": [
    "# Check if there are multiple devices (i.e., GPU cards)-\n",
    "print(f\"Number of GPU(s) available = {torch.cuda.device_count()}\")\n",
    "\n",
    "if torch.cuda.is_available():\n",
    "    print(f\"Current GPU: {torch.cuda.current_device()}\")\n",
    "    print(f\"Current GPU name: {torch.cuda.get_device_name(torch.cuda.current_device())}\")\n",
    "else:\n",
    "    print(\"PyTorch does not have access to GPU\")"
   ]
  },
  {
   "cell_type": "code",
   "execution_count": 5,
   "id": "e977899e-a260-417a-9a72-45c3315d0da4",
   "metadata": {},
   "outputs": [
    {
     "name": "stdout",
     "output_type": "stream",
     "text": [
      "Available device is cuda\n"
     ]
    }
   ],
   "source": [
    "# Device configuration-\n",
    "device = torch.device('cuda' if torch.cuda.is_available() else 'cpu')\n",
    "print(f'Available device is {device}')"
   ]
  },
  {
   "cell_type": "code",
   "execution_count": null,
   "id": "7bdb3775-d637-45cc-a9ec-dcfbd9930f3e",
   "metadata": {},
   "outputs": [],
   "source": []
  },
  {
   "cell_type": "code",
   "execution_count": 6,
   "id": "82699b2d-cdef-43bd-8d82-e3f3d99098fe",
   "metadata": {},
   "outputs": [],
   "source": [
    "# Specify hyper-parameters-\n",
    "num_epochs = 50\n",
    "batch_size = 256"
   ]
  },
  {
   "cell_type": "code",
   "execution_count": null,
   "id": "584e7490-305e-4c0c-87bb-02d42d71a807",
   "metadata": {},
   "outputs": [],
   "source": []
  },
  {
   "cell_type": "code",
   "execution_count": 7,
   "id": "17b478b4-d99e-4443-9b2b-8b356db74ebe",
   "metadata": {},
   "outputs": [],
   "source": [
    "def count_params(model):\n",
    "    # Count number of layer-wise parameters and total parameters-\n",
    "    tot_params = 0\n",
    "    for param in model.parameters():\n",
    "        # print(f\"layer.shape = {param.shape} has {param.nelement()} parameters\")\n",
    "        tot_params += param.nelement()\n",
    "    return tot_params\n"
   ]
  },
  {
   "cell_type": "code",
   "execution_count": null,
   "id": "7b8020de-2645-4fd4-a0c8-58861af8755e",
   "metadata": {},
   "outputs": [],
   "source": []
  },
  {
   "cell_type": "code",
   "execution_count": null,
   "id": "2cbd7a7c-a630-47c9-8369-6ba0e141a030",
   "metadata": {},
   "outputs": [],
   "source": []
  },
  {
   "cell_type": "markdown",
   "id": "c4b71c71-2e6d-4177-ae4e-0dcceeff17c4",
   "metadata": {},
   "source": [
    "### MNIST data pre-processing"
   ]
  },
  {
   "cell_type": "code",
   "execution_count": 8,
   "id": "b29ad4f1-1fa2-4d07-a542-3bf2bf4df71a",
   "metadata": {},
   "outputs": [],
   "source": [
    "# Define transformations for MNIST dataset-\n",
    "# MNIST dataset statistics-\n",
    "mean = np.array([0.1307])\n",
    "std_dev = np.array([0.3081])\n",
    "\n",
    "transforms_apply = transforms.Compose(\n",
    "    [\n",
    "        transforms.ToTensor(),\n",
    "        transforms.Normalize(mean = mean, std = std_dev)\n",
    "    ]\n",
    ")"
   ]
  },
  {
   "cell_type": "code",
   "execution_count": 9,
   "id": "5533b54d-54f9-451a-801a-3575d18ff8ae",
   "metadata": {},
   "outputs": [],
   "source": [
    "path_to_data = \"C:\\\\Users\\\\arjun\\Downloads\\\\\""
   ]
  },
  {
   "cell_type": "code",
   "execution_count": 10,
   "id": "7a0f71f2-4867-45ec-b9a8-0ceab196d94e",
   "metadata": {},
   "outputs": [],
   "source": [
    "# Load MNIST dataset-\n",
    "train_dataset = torchvision.datasets.MNIST(\n",
    "    # root = './data', train = True,\n",
    "    root = path_to_data + \"data\", train = True,\n",
    "    transform = transforms_apply, download = True\n",
    ")\n",
    "\n",
    "test_dataset = torchvision.datasets.MNIST(\n",
    "    # root = './data', train = False,\n",
    "    root = path_to_data + \"data\", train = False,\n",
    "    transform = transforms_apply\n",
    ")"
   ]
  },
  {
   "cell_type": "code",
   "execution_count": 11,
   "id": "5409bb40-3f09-4f16-b0b2-e86db6d38ea6",
   "metadata": {},
   "outputs": [
    {
     "data": {
      "text/plain": [
       "(60000, 60000)"
      ]
     },
     "execution_count": 11,
     "metadata": {},
     "output_type": "execute_result"
    }
   ],
   "source": [
    "len(train_dataset.targets), len(train_dataset.data)"
   ]
  },
  {
   "cell_type": "code",
   "execution_count": 12,
   "id": "1e89442e-bc45-43a5-beb9-391e16f33d17",
   "metadata": {},
   "outputs": [
    {
     "data": {
      "text/plain": [
       "(10000, 10000)"
      ]
     },
     "execution_count": 12,
     "metadata": {},
     "output_type": "execute_result"
    }
   ],
   "source": [
    "len(test_dataset.targets), len(test_dataset.data)"
   ]
  },
  {
   "cell_type": "code",
   "execution_count": 13,
   "id": "230c84d9-fee6-4df4-9c3c-689dc19597c3",
   "metadata": {},
   "outputs": [
    {
     "name": "stdout",
     "output_type": "stream",
     "text": [
      "training dataset length/shape: [60000, 28, 28]\n"
     ]
    }
   ],
   "source": [
    "print(f\"training dataset length/shape: {list(train_dataset.data.size())}\")"
   ]
  },
  {
   "cell_type": "code",
   "execution_count": 14,
   "id": "a5bc7709-3ef6-43a5-bdd1-57716652716a",
   "metadata": {},
   "outputs": [
    {
     "name": "stdout",
     "output_type": "stream",
     "text": [
      "mean = 0.1307\n",
      "std dev = 0.3081\n"
     ]
    }
   ],
   "source": [
    "print(f\"mean = {train_dataset.data.float().mean() / 255:.4f}\")\n",
    "print(f\"std dev = {train_dataset.data.float().std() / 255:.4f}\")"
   ]
  },
  {
   "cell_type": "code",
   "execution_count": 15,
   "id": "20f59c6a-5953-424b-aa3f-1bd8d2e66206",
   "metadata": {},
   "outputs": [
    {
     "data": {
      "text/plain": [
       "(tensor(0, dtype=torch.uint8), tensor(255, dtype=torch.uint8))"
      ]
     },
     "execution_count": 15,
     "metadata": {},
     "output_type": "execute_result"
    }
   ],
   "source": [
    "# Sanity check-\n",
    "train_dataset.data.min(), train_dataset.data.max()"
   ]
  },
  {
   "cell_type": "code",
   "execution_count": 16,
   "id": "57ddd296-bcc6-48d4-a8ba-e83fc68e2c05",
   "metadata": {},
   "outputs": [
    {
     "data": {
      "text/plain": [
       "(tensor(0, dtype=torch.uint8), tensor(255, dtype=torch.uint8))"
      ]
     },
     "execution_count": 16,
     "metadata": {},
     "output_type": "execute_result"
    }
   ],
   "source": [
    "test_dataset.data.min(), test_dataset.data.max()"
   ]
  },
  {
   "cell_type": "code",
   "execution_count": 17,
   "id": "0dec858e-fec5-4c27-9d09-cec81eedd0f8",
   "metadata": {},
   "outputs": [],
   "source": [
    "# Scale pixel values in the range 0 to 1\n",
    "# To manually convert the pixel values in the range 0 to 1, divide the training and testing\n",
    "# datasets by 255.0-\n",
    "train = train_dataset.data.float() / 255.0\n",
    "test = test_dataset.data.float() / 255.0"
   ]
  },
  {
   "cell_type": "code",
   "execution_count": 18,
   "id": "9efc5113-eed2-4024-9531-8374b67262a0",
   "metadata": {},
   "outputs": [],
   "source": [
    "# Reshape to include gray-scale channel-\n",
    "train = train.reshape(60000, 1, 28, 28)\n",
    "test = test.reshape(10000, 1, 28, 28)"
   ]
  },
  {
   "cell_type": "code",
   "execution_count": 19,
   "id": "50ffd2da-5e68-4fe3-8d87-13970db7e679",
   "metadata": {},
   "outputs": [
    {
     "data": {
      "text/plain": [
       "(torch.Size([60000, 1, 28, 28]), torch.Size([10000, 1, 28, 28]))"
      ]
     },
     "execution_count": 19,
     "metadata": {},
     "output_type": "execute_result"
    }
   ],
   "source": [
    "train.shape, test.shape"
   ]
  },
  {
   "cell_type": "code",
   "execution_count": 20,
   "id": "7e0b2ffb-a300-40d7-be07-f141e11a0fea",
   "metadata": {},
   "outputs": [
    {
     "data": {
      "text/plain": [
       "(tensor(0.), tensor(1.))"
      ]
     },
     "execution_count": 20,
     "metadata": {},
     "output_type": "execute_result"
    }
   ],
   "source": [
    "# Sanity check- min and max pixel values are in the range 0 to 1-\n",
    "train.data.min(), train.data.max()"
   ]
  },
  {
   "cell_type": "code",
   "execution_count": 21,
   "id": "128234f7-dcca-454b-b230-510f01be48a4",
   "metadata": {},
   "outputs": [
    {
     "data": {
      "text/plain": [
       "(tensor(0.), tensor(1.))"
      ]
     },
     "execution_count": 21,
     "metadata": {},
     "output_type": "execute_result"
    }
   ],
   "source": [
    "test.data.min(), test.data.max()"
   ]
  },
  {
   "cell_type": "code",
   "execution_count": 22,
   "id": "23531c6f-db23-44a6-8a2c-befc85ce7dae",
   "metadata": {},
   "outputs": [],
   "source": [
    "del train_dataset, test_dataset"
   ]
  },
  {
   "cell_type": "code",
   "execution_count": null,
   "id": "56eadd87-1723-4474-bdd5-eb9c0293e7ee",
   "metadata": {},
   "outputs": [],
   "source": []
  },
  {
   "cell_type": "code",
   "execution_count": 23,
   "id": "e6fdf3a6-d591-4634-9ce6-a4d2bd8a1b15",
   "metadata": {},
   "outputs": [],
   "source": [
    "# Create training and testing dataloaders-\n",
    "train_loader = torch.utils.data.DataLoader(\n",
    "    dataset = train, batch_size = batch_size,\n",
    "    shuffle = True, pin_memory = True\n",
    ")\n",
    "\n",
    "test_loader = torch.utils.data.DataLoader(\n",
    "    dataset = test, batch_size = batch_size,\n",
    "    shuffle = False, pin_memory = True\n",
    ")"
   ]
  },
  {
   "cell_type": "code",
   "execution_count": 24,
   "id": "cd38e033-958a-4866-8c31-1c55356cab72",
   "metadata": {},
   "outputs": [
    {
     "name": "stdout",
     "output_type": "stream",
     "text": [
      "Sizes of train_dataset: 60000 and test_dataet: 10000\n",
      "Sizes of train_loader: 235 and test_loader: 40\n"
     ]
    }
   ],
   "source": [
    "print(f\"Sizes of train_dataset: {len(train)} and test_dataet: {len(test)}\")\n",
    "print(f\"Sizes of train_loader: {len(train_loader)} and test_loader: {len(test_loader)}\")"
   ]
  },
  {
   "cell_type": "code",
   "execution_count": 25,
   "id": "1daf93f9-b615-4c95-a4d9-f8576932704e",
   "metadata": {},
   "outputs": [
    {
     "name": "stdout",
     "output_type": "stream",
     "text": [
      "len(train_loader) = 235 & len(test_loader) = 40\n"
     ]
    }
   ],
   "source": [
    "print(f\"len(train_loader) = {len(train_loader)} & len(test_loader) = {len(test_loader)}\")"
   ]
  },
  {
   "cell_type": "code",
   "execution_count": 26,
   "id": "8d9834c0-45ed-47ae-b059-920b5c5a5d89",
   "metadata": {},
   "outputs": [
    {
     "data": {
      "text/plain": [
       "(234.375, 39.0625)"
      ]
     },
     "execution_count": 26,
     "metadata": {},
     "output_type": "execute_result"
    }
   ],
   "source": [
    "# Sanity check-\n",
    "len(train) / batch_size, len(test) / batch_size"
   ]
  },
  {
   "cell_type": "code",
   "execution_count": null,
   "id": "0fd56c7c-2e1b-4877-95dc-ecf17d8d3382",
   "metadata": {},
   "outputs": [],
   "source": []
  },
  {
   "cell_type": "code",
   "execution_count": 26,
   "id": "91970aeb-300f-46b5-85ae-04b170b0f5bb",
   "metadata": {},
   "outputs": [
    {
     "name": "stdout",
     "output_type": "stream",
     "text": [
      "images.shape: torch.Size([256, 1, 28, 28])\n"
     ]
    }
   ],
   "source": [
    "# Get some random batch of training images & labels-\n",
    "images = next(iter(train_loader))\n",
    "\n",
    "# You get 64 images due to the specified batch size-\n",
    "print(f\"images.shape: {images.shape}\")"
   ]
  },
  {
   "cell_type": "code",
   "execution_count": 27,
   "id": "e1221304-e839-4ba7-a20a-0d7583c5a819",
   "metadata": {},
   "outputs": [
    {
     "data": {
      "text/plain": [
       "(tensor(0.), tensor(1.))"
      ]
     },
     "execution_count": 27,
     "metadata": {},
     "output_type": "execute_result"
    }
   ],
   "source": [
    "images.min(), images.max()"
   ]
  },
  {
   "cell_type": "code",
   "execution_count": 28,
   "id": "cd6def22-1713-4e2d-b8bf-aec676394531",
   "metadata": {},
   "outputs": [
    {
     "data": {
      "text/plain": [
       "(tensor(0.), tensor(255.))"
      ]
     },
     "execution_count": 28,
     "metadata": {},
     "output_type": "execute_result"
    }
   ],
   "source": [
    "# De-normalize the batch of images-\n",
    "images *= 255.0\n",
    "\n",
    "images.min(), images.max()"
   ]
  },
  {
   "cell_type": "code",
   "execution_count": 29,
   "id": "d9cf0219-03ac-45c2-8669-63a32d99a1d8",
   "metadata": {},
   "outputs": [],
   "source": [
    "# Reshape images for visualization-\n",
    "images = images.view(-1, 1, 28, 28)"
   ]
  },
  {
   "cell_type": "code",
   "execution_count": 31,
   "id": "76498567-dbaa-4d69-86d0-712c3cb1c03e",
   "metadata": {},
   "outputs": [
    {
     "data": {
      "image/png": "[encoded data removed]",
      "text/plain": [
       "<Figure size 600x500 with 20 Axes>"
      ]
     },
     "metadata": {},
     "output_type": "display_data"
    }
   ],
   "source": [
    "# Visualize 20 images from training set-\n",
    "plt.figure(figsize = (6, 5))\n",
    "for i in range(20):\n",
    "    # 4 rows & 5 columns-\n",
    "    plt.subplot(4, 5, i + 1)\n",
    "    # plt.imshow(images[i], cmap = 'gray')\n",
    "    # 0 to access first channel-\n",
    "    plt.imshow(images[i][0], cmap = 'gray')\n",
    "    \n",
    "    # get current axes-\n",
    "    ax = plt.gca()\n",
    "    \n",
    "    # hide x-axis-\n",
    "    ax.get_xaxis().set_visible(False)\n",
    "    \n",
    "    # hide y-axis-\n",
    "    ax.get_yaxis().set_visible(False)\n",
    "    \n",
    "plt.suptitle(\"Sample MNIST training images\")\n",
    "plt.show()"
   ]
  },
  {
   "cell_type": "code",
   "execution_count": 32,
   "id": "df6f4ca2-3e94-45ea-b30b-4c0b7045c006",
   "metadata": {},
   "outputs": [],
   "source": [
    "del images"
   ]
  },
  {
   "cell_type": "code",
   "execution_count": null,
   "id": "bf20497a-c98d-4645-8afa-c34ce822729d",
   "metadata": {},
   "outputs": [],
   "source": []
  },
  {
   "cell_type": "code",
   "execution_count": null,
   "id": "c40353c5-94cf-4e8c-a436-74bc367cb574",
   "metadata": {},
   "outputs": [],
   "source": []
  },
  {
   "cell_type": "markdown",
   "id": "0f3c0304-68c1-41c8-bc2f-6d330c5b5f61",
   "metadata": {},
   "source": [
    "### Define Convolutional VAE architecture"
   ]
  },
  {
   "cell_type": "code",
   "execution_count": 27,
   "id": "9093f817-654a-4024-a81d-8950594e907b",
   "metadata": {},
   "outputs": [],
   "source": [
    "class Conv_Encoder(nn.Module):\n",
    "    def __init__(self, latent_space = 3):\n",
    "        super(Conv_Encoder, self).__init__()\n",
    "        \n",
    "        self.conv1 = nn.Conv2d(\n",
    "            in_channels = 1, out_channels = 32,\n",
    "            kernel_size = 3, stride = 1,\n",
    "            padding = 0, bias = True\n",
    "        )\n",
    "        self.bn1 = nn.BatchNorm2d(num_features = 32)\n",
    "        self.conv2 = nn.Conv2d(\n",
    "            in_channels = 32, out_channels = 32,\n",
    "            kernel_size = 3, stride = 1,\n",
    "            padding = 0, bias = True\n",
    "        )\n",
    "        self.bn2 = nn.BatchNorm2d(num_features = 32)\n",
    "        self.conv3 = nn.Conv2d(\n",
    "            in_channels = 32, out_channels = 64,\n",
    "            kernel_size = 3, stride = 2,\n",
    "            padding = 0, bias = True\n",
    "        )\n",
    "        self.bn3 = nn.BatchNorm2d(num_features = 64)\n",
    "        self.conv4 = nn.Conv2d(\n",
    "            in_channels = 64, out_channels = 64,\n",
    "            kernel_size = 3, stride = 1,\n",
    "            padding = 0, bias = True\n",
    "        )\n",
    "        self.bn4 = nn.BatchNorm2d(num_features = 64)\n",
    "        self.conv5 = nn.Conv2d(\n",
    "            in_channels = 64, out_channels = 128,\n",
    "            kernel_size = 3, stride = 1,\n",
    "            padding = 0, bias = True\n",
    "        )\n",
    "        self.bn5 = nn.BatchNorm2d(num_features = 128)\n",
    "        self.conv6 = nn.Conv2d(\n",
    "            in_channels = 128, out_channels = 128,\n",
    "            kernel_size = 3, stride = 2,\n",
    "            padding = 0, bias = True\n",
    "        )\n",
    "        self.bn6 = nn.BatchNorm2d(num_features = 128)\n",
    "        self.conv7 = nn.Conv2d(\n",
    "            in_channels = 128, out_channels = 128,\n",
    "            kernel_size = 3, stride = 1,\n",
    "            padding = 0, bias = True\n",
    "        )\n",
    "        self.bn7 = nn.BatchNorm2d(num_features = 128)\n",
    "        self.conv8 = nn.Conv2d(\n",
    "            in_channels = 128, out_channels = latent_space,\n",
    "            kernel_size = 1, stride = 1,\n",
    "            padding = 0, bias = True\n",
    "        )\n",
    "        \n",
    "        self.initialize_weights()\n",
    "        \n",
    "    \n",
    "    def initialize_weights(self):\n",
    "        for m in self.modules():\n",
    "            # print(m)\n",
    "            if isinstance(m, nn.Conv2d):\n",
    "                nn.init.kaiming_normal_(m.weight)\n",
    "                \n",
    "                # Do not initialize bias (due to batchnorm)-\n",
    "                if m.bias is not None:\n",
    "                    nn.init.constant_(m.bias, 0)\n",
    "                \n",
    "            elif isinstance(m, nn.BatchNorm2d):\n",
    "                # Standard initialization for batch normalization-\n",
    "                nn.init.constant_(m.weight, 1)\n",
    "                nn.init.constant_(m.bias, 0)\n",
    "\n",
    "            elif isinstance(m, nn.Linear):\n",
    "                nn.init.kaiming_normal_(m.weight)\n",
    "                nn.init.constant_(m.bias, 0)\n",
    "    \n",
    "    \n",
    "    def forward(self, x):\n",
    "        x = F.leaky_relu(self.bn1(self.conv1(x)))\n",
    "        # x = nn.SiLU()(self.bn1(self.conv1(x)))\n",
    "        x = F.leaky_relu(self.bn2(self.conv2(x)))\n",
    "        x = F.leaky_relu(self.bn3(self.conv3(x)))\n",
    "        x = F.leaky_relu(self.bn4(self.conv4(x)))\n",
    "        x = F.leaky_relu(self.bn5(self.conv5(x)))\n",
    "        x = F.leaky_relu(self.bn6(self.conv6(x)))\n",
    "        x = F.leaky_relu(self.bn7(self.conv7(x)))\n",
    "        x = F.leaky_relu(self.conv8(x))\n",
    "        return x\n",
    "    \n",
    "    \n",
    "    def shape_computation(self, x):\n",
    "        print(f\"Input shape: {x.shape}\")\n",
    "        x = self.conv1(x)\n",
    "        print(f\"conv1 output shape: {x.shape}\")\n",
    "        x = self.conv2(x)\n",
    "        print(f\"conv2 output shape: {x.shape}\")\n",
    "        x = self.conv3(x)\n",
    "        print(f\"conv3 output shape: {x.shape}\")\n",
    "        x = self.conv4(x)\n",
    "        print(f\"conv4 output shape: {x.shape}\")\n",
    "        x = self.conv5(x)\n",
    "        print(f\"conv5 output shape: {x.shape}\")\n",
    "        x = self.conv6(x)\n",
    "        print(f\"conv6 output shape: {x.shape}\")\n",
    "        x = self.conv7(x)\n",
    "        print(f\"conv7 output shape: {x.shape}\")\n",
    "        x = self.conv8(x)\n",
    "        print(f\"conv8 output shape: {x.shape}\")\n",
    "        # encoder output shape: torch.Size([256, 3, 1, 1])\n",
    "        \n",
    "        return None\n",
    "    "
   ]
  },
  {
   "cell_type": "code",
   "execution_count": 28,
   "id": "dcd22e4d-49f0-4129-8a67-56878f3a6143",
   "metadata": {},
   "outputs": [],
   "source": [
    "class Conv_Decoder(nn.Module):\n",
    "    def __init__(self, latent_space):\n",
    "        super(Conv_Decoder, self).__init__()\n",
    "        \n",
    "        self.conv_tran1 = nn.ConvTranspose2d(\n",
    "            in_channels = latent_space, out_channels = 32,\n",
    "            kernel_size = 3, stride = 1,\n",
    "            padding = 0\n",
    "        )\n",
    "        self.bn1 = nn.BatchNorm2d(num_features = 32) \n",
    "        self.conv_tran2 = nn.ConvTranspose2d(\n",
    "            in_channels = 32, out_channels = 32,\n",
    "            kernel_size = 3, stride = 1,\n",
    "            padding = 1\n",
    "        )\n",
    "        self.bn2 = nn.BatchNorm2d(num_features = 32)\n",
    "        self.conv_tran3 = nn.ConvTranspose2d(\n",
    "            in_channels = 32, out_channels = 64,\n",
    "            kernel_size = 3, stride = 2,\n",
    "            padding = 0\n",
    "        )\n",
    "        self.bn3 = nn.BatchNorm2d(num_features = 64)\n",
    "        self.conv_tran4 = nn.ConvTranspose2d(\n",
    "            in_channels = 64, out_channels = 64,\n",
    "            kernel_size = 3, stride = 1,\n",
    "            padding = 1\n",
    "        )\n",
    "        self.bn4 = nn.BatchNorm2d(num_features = 64)\n",
    "        self.conv_tran5 = nn.ConvTranspose2d(\n",
    "            in_channels = 64, out_channels = 128,\n",
    "            kernel_size = 3, stride = 1,\n",
    "            padding = 0\n",
    "        )\n",
    "        self.bn5 = nn.BatchNorm2d(num_features = 128)\n",
    "        self.conv_tran6 = nn.ConvTranspose2d(\n",
    "            in_channels = 128, out_channels = 128,\n",
    "            kernel_size = 3, stride = 1,\n",
    "            padding = 0\n",
    "        )\n",
    "        self.bn6 = nn.BatchNorm2d(num_features = 128)\n",
    "        self.conv_tran7 = nn.ConvTranspose2d(\n",
    "            in_channels = 128, out_channels = 256,\n",
    "            kernel_size = 3, stride = 2,\n",
    "            padding = 0\n",
    "        )\n",
    "        self.bn7 = nn.BatchNorm2d(num_features = 256)\n",
    "        self.conv_tran8 = nn.ConvTranspose2d(\n",
    "            in_channels = 256, out_channels = 256,\n",
    "            kernel_size = 3, stride = 1,\n",
    "            padding = 0\n",
    "        )\n",
    "        self.bn8 = nn.BatchNorm2d(num_features = 256)\n",
    "        self.conv_tran9 = nn.ConvTranspose2d(\n",
    "            in_channels = 256, out_channels = 64,\n",
    "            kernel_size = 3, stride = 1,\n",
    "            padding = 0\n",
    "        )\n",
    "        self.bn9 = nn.BatchNorm2d(num_features = 64)\n",
    "        self.conv_tran10 = nn.ConvTranspose2d(\n",
    "            in_channels = 64, out_channels = 1,\n",
    "            kernel_size = 2, stride = 1,\n",
    "            padding = 0\n",
    "        )\n",
    "        \n",
    "        self.initialize_weights()\n",
    "        \n",
    "    \n",
    "    def initialize_weights(self):\n",
    "        for m in self.modules():\n",
    "            # print(m)\n",
    "            if isinstance(m, nn.Conv2d):\n",
    "                nn.init.kaiming_normal_(m.weight)\n",
    "                \n",
    "                # Do not initialize bias (due to batchnorm)-\n",
    "                if m.bias is not None:\n",
    "                    nn.init.constant_(m.bias, 0)\n",
    "                \n",
    "            elif isinstance(m, nn.BatchNorm2d):\n",
    "                # Standard initialization for batch normalization-\n",
    "                nn.init.constant_(m.weight, 1)\n",
    "                nn.init.constant_(m.bias, 0)\n",
    "\n",
    "            elif isinstance(m, nn.Linear):\n",
    "                nn.init.kaiming_normal_(m.weight)\n",
    "                nn.init.constant_(m.bias, 0)\n",
    "    \n",
    "    \n",
    "    def forward(self, x):\n",
    "        x = F.leaky_relu(self.bn1(self.conv_tran1(x)))\n",
    "        # x = nn.SiLU()(self.bn1(self.conv_tran1(x)))\n",
    "        x = F.leaky_relu(self.bn2(self.conv_tran2(x)))\n",
    "        x = F.leaky_relu(self.bn3(self.conv_tran3(x)))\n",
    "        x = F.leaky_relu(self.bn4(self.conv_tran4(x)))\n",
    "        x = F.leaky_relu(self.bn5(self.conv_tran5(x)))\n",
    "        x = F.leaky_relu(self.bn6(self.conv_tran6(x)))\n",
    "        x = F.leaky_relu(self.bn7(self.conv_tran7(x)))\n",
    "        x = F.leaky_relu(self.bn8(self.conv_tran8(x)))\n",
    "        x = F.leaky_relu(self.bn9(self.conv_tran9(x)))\n",
    "\n",
    "        # Use sigmoid activation function due to data pre-processing-\n",
    "        x = torch.sigmoid(self.conv_tran10(x))\n",
    "        return x\n",
    "    \n",
    "    \n",
    "    def shape_computation(self, x):\n",
    "        # Input: torch.Size([256, 3, 1, 1])\n",
    "        print(f\"Input shape: {x.shape}\")\n",
    "        x = self.conv_tran1(x)\n",
    "        print(f\"conv transpose1 output shape: {x.shape}\")\n",
    "        x = self.conv_tran2(x)\n",
    "        print(f\"conv transpose2 output shape: {x.shape}\")\n",
    "        x = self.conv_tran3(x)\n",
    "        print(f\"conv transpose3 output shape: {x.shape}\")\n",
    "        x = self.conv_tran4(x)\n",
    "        print(f\"conv transpose4 output shape: {x.shape}\")\n",
    "        x = self.conv_tran5(x)\n",
    "        print(f\"conv transpose5 output shape: {x.shape}\")\n",
    "        x = self.conv_tran6(x)\n",
    "        print(f\"conv transpose6 output shape: {x.shape}\")\n",
    "        x = self.conv_tran7(x)\n",
    "        print(f\"conv transpose7 output shape: {x.shape}\")\n",
    "        x = self.conv_tran8(x)\n",
    "        print(f\"conv transpose8 output shape: {x.shape}\")\n",
    "        x = self.conv_tran9(x)\n",
    "        print(f\"conv transpose9 output shape: {x.shape}\")\n",
    "        x = self.conv_tran10(x)\n",
    "        print(f\"conv transpose10 output shape: {x.shape}\")\n",
    "        return None\n",
    "        "
   ]
  },
  {
   "cell_type": "code",
   "execution_count": null,
   "id": "45f8e1db-e4a4-4763-bd33-8135c29a7584",
   "metadata": {},
   "outputs": [],
   "source": []
  },
  {
   "cell_type": "code",
   "execution_count": 29,
   "id": "b7a9309b-1883-498e-b9d2-db6e5f7b2707",
   "metadata": {},
   "outputs": [],
   "source": [
    "class Conv_VAE(nn.Module):\n",
    "    def __init__(self, latent_space = 3):\n",
    "        super(Conv_VAE, self).__init__()\n",
    "        \n",
    "        self.encoder = Conv_Encoder(latent_space = latent_space)\n",
    "        self.decoder = Conv_Decoder(latent_space = latent_space)\n",
    "        \n",
    "        # Define mean & log-variance vectors to represent latent space 'z'-\n",
    "        self.mu = torch.nn.Linear(in_features = latent_space, out_features = latent_space)\n",
    "        self.log_var = torch.nn.Linear(in_features = latent_space, out_features = latent_space)\n",
    "    \n",
    "    \n",
    "    def reparameterize(self, mu, log_var):\n",
    "        '''\n",
    "        Input arguments:\n",
    "        1. mu - mean coming from the encoder's latent space\n",
    "        2. log_var - log variance coming from the encoder's latent space\n",
    "        '''\n",
    "        # Compute standard deviation using 'log_var'-\n",
    "        std = torch.exp(0.5 * log_var)\n",
    "        \n",
    "        # 'eps' samples from a normal standard distribution to add\n",
    "        # stochasticity to the sampling process-\n",
    "        eps = torch.randn_like(std)\n",
    "        \n",
    "        # Reparameterization trick - sample as if it's from the input\n",
    "        # space-\n",
    "        z = mu + (std * eps)\n",
    "        \n",
    "        return z\n",
    "    \n",
    "    \n",
    "    def forward(self, x):\n",
    "        x = self.encoder(x)\n",
    "        x = torch.reshape(x, (-1, 3))\n",
    "        mu = self.mu(x)\n",
    "        logvar = self.log_var(x)\n",
    "        z = self.reparameterize(mu = mu, log_var = logvar)\n",
    "        z = torch.reshape(z, (-1, 3, 1, 1))\n",
    "        return self.decoder(z), mu, logvar\n",
    "    \n",
    "    \n",
    "    def shape_computation(self, x):\n",
    "        print(f\"Input shape: {x.shape}\")\n",
    "        x = self.encoder(x)\n",
    "        print(f\"Encoder output shape: {x.shape}\")\n",
    "        \n",
    "        x = torch.reshape(x, (-1, 3))\n",
    "        print(f\"Reshaped output shape: {x.shape}\")\n",
    "        mu = self.mu(x)\n",
    "        logvar = self.log_var(x)\n",
    "        print(f\"mean shape: {mu.shape} & logvar shape: {logvar.shape}\")\n",
    "        z = self.reparameterize(mu = mu, log_var = logvar)\n",
    "        print(f\"z.shape: {z.shape}\")\n",
    "        z = torch.reshape(z, (-1, 3, 1, 1))\n",
    "        print(f\"reshaped z output shape: {z.shape}\")\n",
    "    \n",
    "        x = self.decoder(z)\n",
    "        print(f\"Decoder output shape: {x.shape}\")\n",
    "        \n",
    "        return None\n",
    "    "
   ]
  },
  {
   "cell_type": "code",
   "execution_count": null,
   "id": "0bbef97c-2446-427a-a211-16dd6c247e9a",
   "metadata": {},
   "outputs": [],
   "source": []
  },
  {
   "cell_type": "code",
   "execution_count": 30,
   "id": "0d8f63d0-1870-4033-a932-fee9da2a3650",
   "metadata": {},
   "outputs": [],
   "source": [
    "# Initialize an instance of Conv-VAE-\n",
    "model = Conv_VAE(latent_space = 3)"
   ]
  },
  {
   "cell_type": "code",
   "execution_count": null,
   "id": "3a177ff5-761e-4492-a22a-567f2c8c6484",
   "metadata": {},
   "outputs": [],
   "source": []
  },
  {
   "cell_type": "code",
   "execution_count": 31,
   "id": "e53b0191-268a-4c25-ae54-f8e17cf19cc8",
   "metadata": {},
   "outputs": [],
   "source": [
    "images = next(iter(train_loader))"
   ]
  },
  {
   "cell_type": "code",
   "execution_count": 32,
   "id": "843ed673-88b6-4758-b0b2-2adbc08c9a31",
   "metadata": {},
   "outputs": [
    {
     "name": "stdout",
     "output_type": "stream",
     "text": [
      "Input shape: torch.Size([256, 1, 28, 28])\n",
      "Encoder output shape: torch.Size([256, 3, 1, 1])\n",
      "Reshaped output shape: torch.Size([256, 3])\n",
      "mean shape: torch.Size([256, 3]) & logvar shape: torch.Size([256, 3])\n",
      "z.shape: torch.Size([256, 3])\n",
      "reshaped z output shape: torch.Size([256, 3, 1, 1])\n",
      "Decoder output shape: torch.Size([256, 1, 28, 28])\n"
     ]
    }
   ],
   "source": [
    "model.shape_computation(images)"
   ]
  },
  {
   "cell_type": "code",
   "execution_count": 33,
   "id": "68674d4b-0669-45fc-b1eb-704827f53d1b",
   "metadata": {},
   "outputs": [],
   "source": [
    "out, mu, logvar = model(images)"
   ]
  },
  {
   "cell_type": "code",
   "execution_count": 34,
   "id": "fce60110-fde7-4d9c-9329-cd69eca88fb6",
   "metadata": {},
   "outputs": [
    {
     "data": {
      "text/plain": [
       "(torch.Size([256, 1, 28, 28]), torch.Size([256, 3]), torch.Size([256, 3]))"
      ]
     },
     "execution_count": 34,
     "metadata": {},
     "output_type": "execute_result"
    }
   ],
   "source": [
    "out.shape, mu.shape, logvar.shape"
   ]
  },
  {
   "cell_type": "code",
   "execution_count": 35,
   "id": "de346535-7ea0-44e7-8a48-b5cb4a88c327",
   "metadata": {},
   "outputs": [],
   "source": [
    "del out, mu, logvar"
   ]
  },
  {
   "cell_type": "code",
   "execution_count": null,
   "id": "57f75133-3b48-47f0-b00d-bbf789b831e2",
   "metadata": {},
   "outputs": [],
   "source": []
  },
  {
   "cell_type": "code",
   "execution_count": 36,
   "id": "2ee8dd83-1739-4b4d-9bc9-11c52ce42f5d",
   "metadata": {},
   "outputs": [
    {
     "name": "stdout",
     "output_type": "stream",
     "text": [
      "Total trainable parameters = 1757660\n"
     ]
    }
   ],
   "source": [
    "print(f\"Total trainable parameters = {count_params(model = model)}\")"
   ]
  },
  {
   "cell_type": "code",
   "execution_count": null,
   "id": "1a833282-a1be-4540-a04f-7339c385dd64",
   "metadata": {},
   "outputs": [],
   "source": []
  },
  {
   "cell_type": "code",
   "execution_count": null,
   "id": "515a5263-eb4d-4fcf-8768-5d583ef9bc1b",
   "metadata": {},
   "outputs": [],
   "source": []
  },
  {
   "cell_type": "code",
   "execution_count": 37,
   "id": "807f88c0-d67a-4c80-a658-11e1452dd9c0",
   "metadata": {},
   "outputs": [],
   "source": [
    "def compute_total_loss(data, data_recon, mu, log_var, beta = 1):\n",
    "    '''\n",
    "    Function to compute loss = reconstruction loss * reconstruction_term_weight + KL-Divergence loss.\n",
    "    KL-Divergence = 0.5 * sum(1 + log(sigma^2) - mu^2 - sigma^2)\n",
    "    \n",
    "    Inputs:\n",
    "    1. mu: mean from the latent vector\n",
    "    2. logvar: log variance from the latent vector\n",
    "    3. beta: beta parameter (beta-VAE paper by Higgins et al.)\n",
    "    4. data: training data\n",
    "    5. data_recon: VAE's reconstructed data\n",
    "    '''\n",
    "    \n",
    "    batchsize = data.size(0)\n",
    "    \n",
    "    # Sum over latent dimensions-\n",
    "    # kl_div = -0.5 * torch.sum(1 + log_var - mu.pow(2) - torch.exp(log_var))\n",
    "    kl_div = -0.5 * torch.sum(1 + log_var - mu.pow(2) - torch.exp(log_var), dim = -1)\n",
    "    \n",
    "    # kl_div.shape\n",
    "    # torch.Size([32])\n",
    "\n",
    "    # Average over batch dimension-\n",
    "    kl_div = kl_div.mean()\n",
    "    \n",
    "    reconstruction_loss_fn = F.mse_loss\n",
    "    recon_loss = reconstruction_loss_fn(data_recon, data, reduction = 'none')\n",
    "    \n",
    "    # recon_loss.shape\n",
    "    # torch.Size([32, 1, 28, 28])\n",
    "    \n",
    "    # Sum over all pixels-\n",
    "    recon_loss = recon_loss.view(batchsize, -1).sum(axis = 1)\n",
    "    \n",
    "    # recon_loss.shape\n",
    "    # torch.Size([32])\n",
    "    \n",
    "    # Average over mini-batch dimension-\n",
    "    recon_loss = recon_loss.mean()\n",
    "    \n",
    "    final_loss = recon_loss + (beta * kl_div)\n",
    "    \n",
    "    return final_loss, recon_loss, kl_div\n"
   ]
  },
  {
   "cell_type": "code",
   "execution_count": null,
   "id": "aceb4ca9-2836-41f0-9274-f25325534fc1",
   "metadata": {},
   "outputs": [],
   "source": []
  },
  {
   "cell_type": "code",
   "execution_count": null,
   "id": "f776b3f2-b454-4c93-81bb-7361ebbcd0e4",
   "metadata": {},
   "outputs": [],
   "source": []
  },
  {
   "cell_type": "markdown",
   "id": "87f956dd-43e5-4627-a24e-859715c98506",
   "metadata": {},
   "source": [
    "### Learning Rate Scheduler\n",
    "\n",
    "An initial lr warmup followed by step-decays.\n",
    "\n",
    "Training dataset = 60K, batch size = 256, number of training steps per epoch = 60K / 256 = 234.375.\n",
    "\n",
    "After an initial lr warmup of 10 epochs or 2344 steps:\n",
    "\n",
    "- For the next 20 epochs, or, 4688 steps - until 30th epoch, use lr = 0.1\n",
    "- For the next 10 epochs, or, 2344 steps - until 40th epoch, use lr = 0.01\n",
    "- For remaining epochs (10 epochs), use lr = 0.001\n",
    "\n",
    "- Using SGD learning rate scheduler (defined below) leads to losses becoming ```nan```. However, using Adam lr scheduler overcomes this. _Do not use SGD with lr scheduler for this experiment!_"
   ]
  },
  {
   "cell_type": "code",
   "execution_count": null,
   "id": "2be8bfb5-1dc1-4e0d-9821-3341077cb428",
   "metadata": {},
   "outputs": [],
   "source": [
    "'''\n",
    "boundaries = [4688, 7032]\n",
    "values = [0.1, 0.01, 0.001]\n",
    "'''"
   ]
  },
  {
   "cell_type": "code",
   "execution_count": null,
   "id": "416ec02c-ea9a-467d-9ced-d5d47dea802a",
   "metadata": {},
   "outputs": [],
   "source": []
  },
  {
   "cell_type": "code",
   "execution_count": 38,
   "id": "526c7fa5-1fd0-4d6e-99ab-2f6c55b8bfef",
   "metadata": {},
   "outputs": [],
   "source": [
    "# Define gradient descent optimizer-\n",
    "# optimizer = torch.optim.SGD(model.parameters(), lr = 0.0, momentum = 0.9, weight_decay = 5e-4)\n",
    "optimizer = torch.optim.Adam(model.parameters(), lr = 10e-3)"
   ]
  },
  {
   "cell_type": "code",
   "execution_count": null,
   "id": "0bad8c18-0c0b-4e3f-b5b1-1120e67c73f9",
   "metadata": {},
   "outputs": [],
   "source": []
  },
  {
   "cell_type": "code",
   "execution_count": null,
   "id": "c4fa3b55-ba5e-49ab-a6b8-1a5b7b5ff0ee",
   "metadata": {},
   "outputs": [],
   "source": [
    "# Sanity check-\n",
    "# optimizer.param_groups[0]['lr']"
   ]
  },
  {
   "cell_type": "code",
   "execution_count": null,
   "id": "b8fb729d-ca28-4754-b32a-aad3f4e97936",
   "metadata": {},
   "outputs": [],
   "source": []
  },
  {
   "cell_type": "code",
   "execution_count": 33,
   "id": "0c39662f-92dc-481c-a42b-d80cbfa2b14e",
   "metadata": {},
   "outputs": [],
   "source": [
    "def decay_function(\n",
    "    step, boundaries = [4688, 7032],\n",
    "    values = [0.1, 0.01, 0.001]\n",
    "):\n",
    "    \n",
    "    for idx, bound in enumerate(boundaries):\n",
    "        if step < bound:\n",
    "            return values[idx]\n",
    "\n",
    "    return values[-1]\n"
   ]
  },
  {
   "cell_type": "code",
   "execution_count": 34,
   "id": "afa21a22-28ee-4f6b-9537-67114cd0cd45",
   "metadata": {},
   "outputs": [],
   "source": [
    "class schedule():\n",
    "\n",
    "    def __init__(\n",
    "        self, initial_learning_rate = 0.1,\n",
    "        warmup_steps = 1000, decay_func = None\n",
    "    ):\n",
    "        self.initial_learning_rate = initial_learning_rate\n",
    "        self.warmup_steps = warmup_steps\n",
    "        self.decay_func = decay_func\n",
    "        self.warmup_step_size = initial_learning_rate/warmup_steps\n",
    "        self.current_lr = 0\n",
    "\n",
    "    def get_lr(self, step):\n",
    "        if step == 0:\n",
    "            return self.current_lr\n",
    "        elif step <= self.warmup_steps:\n",
    "            self.current_lr += self.warmup_step_size\n",
    "            return self.current_lr\n",
    "        elif step > self.warmup_steps:\n",
    "            if self.decay_func:\n",
    "                return self.decay_func(step)\n",
    "        else:\n",
    "            return self.current_lr\n",
    "        "
   ]
  },
  {
   "cell_type": "code",
   "execution_count": null,
   "id": "99d7186b-9a05-4dd2-9ab1-610fcef33005",
   "metadata": {},
   "outputs": [],
   "source": [
    "'''\n",
    "# Initial linear LR warmup: 234.375 x 10 = 2343.75 steps in 13 epochs.\n",
    "custom_lr_scheduler = schedule(\n",
    "    initial_learning_rate = 0.1, warmup_steps = 2344,\n",
    "    decay_func = decay_function\n",
    ")\n",
    "'''"
   ]
  },
  {
   "cell_type": "code",
   "execution_count": null,
   "id": "c521ab68-7f01-4ab0-a672-54678922867c",
   "metadata": {},
   "outputs": [],
   "source": [
    "# step = 0"
   ]
  },
  {
   "cell_type": "code",
   "execution_count": null,
   "id": "6d464c2d-aef9-4f79-b8bd-2a20f87c4698",
   "metadata": {},
   "outputs": [],
   "source": []
  },
  {
   "cell_type": "code",
   "execution_count": 48,
   "id": "d07128a1-414e-41f1-b980-5ced18e3dd41",
   "metadata": {},
   "outputs": [],
   "source": [
    "def train_one_epoch(model, dataloader, dataset, beta):\n",
    "    \n",
    "    # Place model to device-\n",
    "    model.to(device)\n",
    "    \n",
    "    # Enable training mode-\n",
    "    model.train()\n",
    "    \n",
    "    # Initialize variables to keep track of 3 losses-\n",
    "    running_final_loss = 0.0\n",
    "    running_recon_loss = 0.0\n",
    "    running_kl_loss = 0.0\n",
    "    \n",
    "    \n",
    "    for i, data in tqdm(\n",
    "        enumerate(dataloader),\n",
    "        total = int(len(dataset) / dataloader.batch_size)\n",
    "        ):\n",
    "      \n",
    "        # Push data points to 'device'-\n",
    "        data = data.to(device)\n",
    "\n",
    "        # Empty accumulated gradients-\n",
    "        optimizer.zero_grad()\n",
    "        \n",
    "        # Perform forward propagation-\n",
    "        recon, mu, logvar = model(data)\n",
    "        \n",
    "        final_loss, recon_loss, kl_div_loss = compute_total_loss(\n",
    "            data = data, data_recon = recon,\n",
    "            mu = mu, log_var = logvar,\n",
    "            beta = beta\n",
    "        )\n",
    "        \n",
    "        # Update losses-\n",
    "        running_final_loss += final_loss.item()\n",
    "        running_kl_loss += kl_div_loss.cpu().detach().numpy()\n",
    "        running_recon_loss += recon_loss.cpu().detach().numpy()\n",
    "        \n",
    "        # Compute gradients wrt total loss-\n",
    "        final_loss.backward()\n",
    "        \n",
    "        # Perform gradient descent-\n",
    "        optimizer.step()\n",
    "        \n",
    "        '''\n",
    "        global step\n",
    "        optimizer.param_groups[0]['lr'] = custom_lr_scheduler.get_lr(step)\n",
    "        step += 1\n",
    "        '''\n",
    "        \n",
    "    # Compute losses as float values-\n",
    "    train_loss = running_final_loss / len(dataloader.dataset)\n",
    "    kl_loss = running_kl_loss / len(dataloader.dataset)\n",
    "    recon_loss = running_recon_loss / len(dataloader.dataset)\n",
    "    \n",
    "    return train_loss, kl_loss, recon_loss\n"
   ]
  },
  {
   "cell_type": "code",
   "execution_count": 42,
   "id": "ec56348c-6bec-4334-a0ae-ff897db7efb2",
   "metadata": {},
   "outputs": [],
   "source": [
    "def validate_one_epoch(model, dataloader, dataset, beta):\n",
    "    \n",
    "    # Place model to device-\n",
    "    # model.to(device)\n",
    "    model.to(0)\n",
    "    \n",
    "    # Enable evaluation mode-\n",
    "    model.eval()\n",
    "    \n",
    "    running_final_loss = 0.0\n",
    "    running_recon_loss = 0.0\n",
    "    running_kl_loss = 0.0\n",
    "    \n",
    "    with torch.no_grad():\n",
    "        for i, data in tqdm(\n",
    "            enumerate(dataloader),\n",
    "            total = int(len(dataset) / dataloader.batch_size)\n",
    "        ):\n",
    "            # Push data points to 'device'-\n",
    "            data = data.to(device)\n",
    "            \n",
    "            # Forward propagation-\n",
    "            recon, mu, logvar = model(data)\n",
    "            \n",
    "            final_loss, recon_loss, kl_div_loss = compute_total_loss(\n",
    "                data = data, data_recon = recon,\n",
    "                mu = mu, log_var = logvar,\n",
    "                beta = beta\n",
    "            )\n",
    "        \n",
    "            # Update losses-\n",
    "            running_final_loss += final_loss.item()\n",
    "            running_kl_loss += kl_div_loss.cpu().detach().numpy()\n",
    "            running_recon_loss += recon_loss.cpu().detach().numpy()\n",
    "            \n",
    "                \n",
    "    val_loss = running_final_loss / len(dataloader.dataset)\n",
    "    val_kl_loss = running_kl_loss / len(dataloader.dataset)\n",
    "    val_recon_loss = running_recon_loss / len(dataloader.dataset)\n",
    "    \n",
    "    return val_loss, val_kl_loss, val_recon_loss\n"
   ]
  },
  {
   "cell_type": "code",
   "execution_count": null,
   "id": "608d1fba-9fa4-4943-a9c0-33dbd46a97c8",
   "metadata": {},
   "outputs": [],
   "source": []
  },
  {
   "cell_type": "code",
   "execution_count": null,
   "id": "5d0c5c57-445b-46d0-a045-bc7df4f6d86a",
   "metadata": {},
   "outputs": [],
   "source": []
  },
  {
   "cell_type": "markdown",
   "id": "cb27aec9-eec5-4616-afa2-b581a1587c28",
   "metadata": {},
   "source": [
    "#### Do _not_ use ```earlystopping``` since lr scheduler is used"
   ]
  },
  {
   "cell_type": "code",
   "execution_count": 43,
   "id": "194d31d2-9fbc-4881-9860-10c64caeb6d2",
   "metadata": {},
   "outputs": [],
   "source": [
    "# Specify hyper-parameter-\n",
    "beta = 1"
   ]
  },
  {
   "cell_type": "code",
   "execution_count": 50,
   "id": "b0408fbf-3c70-47fe-ad2f-5b889d3724a1",
   "metadata": {},
   "outputs": [],
   "source": [
    "# Python dict to contain training metrics-\n",
    "train_history = {}"
   ]
  },
  {
   "cell_type": "code",
   "execution_count": 45,
   "id": "86881f45-71da-4e94-b9e5-4afc39daa664",
   "metadata": {},
   "outputs": [
    {
     "name": "stdout",
     "output_type": "stream",
     "text": [
      "Training VAE model for 50 epochs\n"
     ]
    }
   ],
   "source": [
    "print(f\"Training VAE model for {num_epochs} epochs\")"
   ]
  },
  {
   "cell_type": "code",
   "execution_count": 46,
   "id": "cb52ca55-e212-44bf-94c4-d9dc6e31b3ab",
   "metadata": {},
   "outputs": [],
   "source": [
    "# Initialize parameters for Early Stopping manual implementation-\n",
    "best_val_loss = 10000\n",
    "# loc_patience = 0\n",
    "\n",
    "# User input parameters for Early Stopping in manual implementation-\n",
    "# minimum_delta = 0.001\n",
    "# patience = 3"
   ]
  },
  {
   "cell_type": "code",
   "execution_count": null,
   "id": "f0109212-f9e1-4e87-a9a4-ded1c384b404",
   "metadata": {},
   "outputs": [],
   "source": []
  },
  {
   "cell_type": "code",
   "execution_count": 51,
   "id": "22e12c56-319d-45c0-80ed-47a5f1004767",
   "metadata": {},
   "outputs": [
    {
     "name": "stderr",
     "output_type": "stream",
     "text": [
      "235it [00:24,  9.47it/s]                                                                                               \n",
      "40it [00:01, 22.78it/s]                                                                                                \n"
     ]
    },
    {
     "name": "stdout",
     "output_type": "stream",
     "text": [
      "Epoch = 1; train loss = 0.2228 , kl-loss = 0.0030, recon loss = 0.2198 , val loss = 0.2104, val kl-loss = 0.0024,  val recon loss = 0.2080 & LR = 0.0100\n",
      "\n",
      "Saving model with lowest val_loss = 0.2104\n",
      "\n"
     ]
    },
    {
     "name": "stderr",
     "output_type": "stream",
     "text": [
      "235it [00:20, 11.32it/s]                                                                                               \n",
      "40it [00:01, 35.50it/s]                                                                                                \n"
     ]
    },
    {
     "name": "stdout",
     "output_type": "stream",
     "text": [
      "Epoch = 2; train loss = 0.1919 , kl-loss = 0.0054, recon loss = 0.1865 , val loss = 0.1886, val kl-loss = 0.0078,  val recon loss = 0.1808 & LR = 0.0100\n",
      "\n",
      "Saving model with lowest val_loss = 0.1886\n",
      "\n"
     ]
    },
    {
     "name": "stderr",
     "output_type": "stream",
     "text": [
      "235it [00:20, 11.57it/s]                                                                                               \n",
      "40it [00:01, 35.27it/s]                                                                                                \n"
     ]
    },
    {
     "name": "stdout",
     "output_type": "stream",
     "text": [
      "Epoch = 3; train loss = 0.1772 , kl-loss = 0.0094, recon loss = 0.1679 , val loss = 0.1785, val kl-loss = 0.0104,  val recon loss = 0.1681 & LR = 0.0100\n",
      "\n",
      "Saving model with lowest val_loss = 0.1785\n",
      "\n"
     ]
    },
    {
     "name": "stderr",
     "output_type": "stream",
     "text": [
      "235it [00:19, 11.80it/s]                                                                                               \n",
      "40it [00:01, 35.20it/s]                                                                                                \n"
     ]
    },
    {
     "name": "stdout",
     "output_type": "stream",
     "text": [
      "Epoch = 4; train loss = 0.1716 , kl-loss = 0.0103, recon loss = 0.1612 , val loss = 0.1747, val kl-loss = 0.0113,  val recon loss = 0.1635 & LR = 0.0100\n",
      "\n",
      "Saving model with lowest val_loss = 0.1747\n",
      "\n"
     ]
    },
    {
     "name": "stderr",
     "output_type": "stream",
     "text": [
      "235it [00:20, 11.72it/s]                                                                                               \n",
      "40it [00:01, 35.08it/s]                                                                                                \n"
     ]
    },
    {
     "name": "stdout",
     "output_type": "stream",
     "text": [
      "Epoch = 5; train loss = 0.1681 , kl-loss = 0.0113, recon loss = 0.1568 , val loss = 0.1691, val kl-loss = 0.0117,  val recon loss = 0.1574 & LR = 0.0100\n",
      "\n",
      "Saving model with lowest val_loss = 0.1691\n",
      "\n"
     ]
    },
    {
     "name": "stderr",
     "output_type": "stream",
     "text": [
      "235it [00:20, 11.72it/s]                                                                                               \n",
      "40it [00:01, 34.75it/s]                                                                                                \n"
     ]
    },
    {
     "name": "stdout",
     "output_type": "stream",
     "text": [
      "Epoch = 6; train loss = 0.1672 , kl-loss = 0.0117, recon loss = 0.1555 , val loss = 0.1676, val kl-loss = 0.0121,  val recon loss = 0.1556 & LR = 0.0100\n",
      "\n",
      "Saving model with lowest val_loss = 0.1676\n",
      "\n"
     ]
    },
    {
     "name": "stderr",
     "output_type": "stream",
     "text": [
      "235it [00:20, 11.70it/s]                                                                                               \n",
      "40it [00:01, 33.88it/s]                                                                                                \n"
     ]
    },
    {
     "name": "stdout",
     "output_type": "stream",
     "text": [
      "Epoch = 7; train loss = 0.1642 , kl-loss = 0.0122, recon loss = 0.1520 , val loss = 0.1666, val kl-loss = 0.0125,  val recon loss = 0.1541 & LR = 0.0100\n",
      "\n",
      "Saving model with lowest val_loss = 0.1666\n",
      "\n"
     ]
    },
    {
     "name": "stderr",
     "output_type": "stream",
     "text": [
      "235it [00:20, 11.71it/s]                                                                                               \n",
      "40it [00:01, 34.84it/s]                                                                                                \n"
     ]
    },
    {
     "name": "stdout",
     "output_type": "stream",
     "text": [
      "Epoch = 8; train loss = 0.1633 , kl-loss = 0.0125, recon loss = 0.1508 , val loss = 0.1670, val kl-loss = 0.0129,  val recon loss = 0.1540 & LR = 0.0100\n",
      "\n"
     ]
    },
    {
     "name": "stderr",
     "output_type": "stream",
     "text": [
      "235it [00:20, 11.69it/s]                                                                                               \n",
      "40it [00:01, 34.43it/s]                                                                                                \n"
     ]
    },
    {
     "name": "stdout",
     "output_type": "stream",
     "text": [
      "Epoch = 9; train loss = 0.1620 , kl-loss = 0.0128, recon loss = 0.1493 , val loss = 0.1649, val kl-loss = 0.0132,  val recon loss = 0.1518 & LR = 0.0100\n",
      "\n",
      "Saving model with lowest val_loss = 0.1649\n",
      "\n"
     ]
    },
    {
     "name": "stderr",
     "output_type": "stream",
     "text": [
      "235it [00:20, 11.68it/s]                                                                                               \n",
      "40it [00:01, 34.83it/s]                                                                                                \n"
     ]
    },
    {
     "name": "stdout",
     "output_type": "stream",
     "text": [
      "Epoch = 10; train loss = 0.1622 , kl-loss = 0.0128, recon loss = 0.1494 , val loss = 0.1636, val kl-loss = 0.0130,  val recon loss = 0.1506 & LR = 0.0100\n",
      "\n",
      "Saving model with lowest val_loss = 0.1636\n",
      "\n"
     ]
    },
    {
     "name": "stderr",
     "output_type": "stream",
     "text": [
      "235it [00:20, 11.66it/s]                                                                                               \n",
      "40it [00:01, 34.82it/s]                                                                                                \n"
     ]
    },
    {
     "name": "stdout",
     "output_type": "stream",
     "text": [
      "Epoch = 11; train loss = 0.1624 , kl-loss = 0.0129, recon loss = 0.1495 , val loss = 0.1690, val kl-loss = 0.0134,  val recon loss = 0.1556 & LR = 0.0100\n",
      "\n"
     ]
    },
    {
     "name": "stderr",
     "output_type": "stream",
     "text": [
      "235it [00:20, 11.65it/s]                                                                                               \n",
      "40it [00:01, 34.79it/s]                                                                                                \n"
     ]
    },
    {
     "name": "stdout",
     "output_type": "stream",
     "text": [
      "Epoch = 12; train loss = 0.1634 , kl-loss = 0.0129, recon loss = 0.1504 , val loss = 0.1650, val kl-loss = 0.0132,  val recon loss = 0.1518 & LR = 0.0100\n",
      "\n"
     ]
    },
    {
     "name": "stderr",
     "output_type": "stream",
     "text": [
      "235it [00:20, 11.64it/s]                                                                                               \n",
      "40it [00:01, 33.98it/s]                                                                                                \n"
     ]
    },
    {
     "name": "stdout",
     "output_type": "stream",
     "text": [
      "Epoch = 13; train loss = 0.1617 , kl-loss = 0.0130, recon loss = 0.1487 , val loss = 0.1633, val kl-loss = 0.0132,  val recon loss = 0.1501 & LR = 0.0100\n",
      "\n",
      "Saving model with lowest val_loss = 0.1633\n",
      "\n"
     ]
    },
    {
     "name": "stderr",
     "output_type": "stream",
     "text": [
      "235it [00:20, 11.62it/s]                                                                                               \n",
      "40it [00:01, 34.77it/s]                                                                                                \n"
     ]
    },
    {
     "name": "stdout",
     "output_type": "stream",
     "text": [
      "Epoch = 14; train loss = 0.1599 , kl-loss = 0.0132, recon loss = 0.1467 , val loss = 0.1625, val kl-loss = 0.0138,  val recon loss = 0.1488 & LR = 0.0100\n",
      "\n",
      "Saving model with lowest val_loss = 0.1625\n",
      "\n"
     ]
    },
    {
     "name": "stderr",
     "output_type": "stream",
     "text": [
      "235it [00:20, 11.64it/s]                                                                                               \n",
      "40it [00:01, 34.38it/s]                                                                                                \n"
     ]
    },
    {
     "name": "stdout",
     "output_type": "stream",
     "text": [
      "Epoch = 15; train loss = 0.1618 , kl-loss = 0.0132, recon loss = 0.1486 , val loss = 0.1628, val kl-loss = 0.0138,  val recon loss = 0.1490 & LR = 0.0100\n",
      "\n"
     ]
    },
    {
     "name": "stderr",
     "output_type": "stream",
     "text": [
      "235it [00:20, 11.63it/s]                                                                                               \n",
      "40it [00:01, 34.70it/s]                                                                                                \n"
     ]
    },
    {
     "name": "stdout",
     "output_type": "stream",
     "text": [
      "Epoch = 16; train loss = 0.1593 , kl-loss = 0.0135, recon loss = 0.1459 , val loss = 0.1671, val kl-loss = 0.0140,  val recon loss = 0.1531 & LR = 0.0100\n",
      "\n"
     ]
    },
    {
     "name": "stderr",
     "output_type": "stream",
     "text": [
      "235it [00:20, 11.63it/s]                                                                                               \n",
      "40it [00:01, 34.68it/s]                                                                                                \n"
     ]
    },
    {
     "name": "stdout",
     "output_type": "stream",
     "text": [
      "Epoch = 17; train loss = 0.1598 , kl-loss = 0.0135, recon loss = 0.1463 , val loss = 0.1635, val kl-loss = 0.0139,  val recon loss = 0.1496 & LR = 0.0100\n",
      "\n"
     ]
    },
    {
     "name": "stderr",
     "output_type": "stream",
     "text": [
      "235it [00:20, 11.63it/s]                                                                                               \n",
      "40it [00:01, 34.60it/s]                                                                                                \n"
     ]
    },
    {
     "name": "stdout",
     "output_type": "stream",
     "text": [
      "Epoch = 18; train loss = 0.1588 , kl-loss = 0.0136, recon loss = 0.1451 , val loss = 0.1630, val kl-loss = 0.0142,  val recon loss = 0.1488 & LR = 0.0100\n",
      "\n"
     ]
    },
    {
     "name": "stderr",
     "output_type": "stream",
     "text": [
      "235it [00:20, 11.62it/s]                                                                                               \n",
      "40it [00:01, 34.53it/s]                                                                                                \n"
     ]
    },
    {
     "name": "stdout",
     "output_type": "stream",
     "text": [
      "Epoch = 19; train loss = 0.1603 , kl-loss = 0.0136, recon loss = 0.1467 , val loss = 0.1627, val kl-loss = 0.0139,  val recon loss = 0.1488 & LR = 0.0100\n",
      "\n"
     ]
    },
    {
     "name": "stderr",
     "output_type": "stream",
     "text": [
      "235it [00:20, 11.62it/s]                                                                                               \n",
      "40it [00:01, 34.69it/s]                                                                                                \n"
     ]
    },
    {
     "name": "stdout",
     "output_type": "stream",
     "text": [
      "Epoch = 20; train loss = 0.1597 , kl-loss = 0.0137, recon loss = 0.1459 , val loss = 0.1595, val kl-loss = 0.0138,  val recon loss = 0.1457 & LR = 0.0100\n",
      "\n",
      "Saving model with lowest val_loss = 0.1595\n",
      "\n"
     ]
    },
    {
     "name": "stderr",
     "output_type": "stream",
     "text": [
      "235it [00:20, 11.62it/s]                                                                                               \n",
      "40it [00:01, 34.70it/s]                                                                                                \n"
     ]
    },
    {
     "name": "stdout",
     "output_type": "stream",
     "text": [
      "Epoch = 21; train loss = 0.1587 , kl-loss = 0.0139, recon loss = 0.1449 , val loss = 0.1621, val kl-loss = 0.0141,  val recon loss = 0.1479 & LR = 0.0100\n",
      "\n"
     ]
    },
    {
     "name": "stderr",
     "output_type": "stream",
     "text": [
      "235it [00:20, 11.62it/s]                                                                                               \n",
      "40it [00:01, 34.56it/s]                                                                                                \n"
     ]
    },
    {
     "name": "stdout",
     "output_type": "stream",
     "text": [
      "Epoch = 22; train loss = 0.1582 , kl-loss = 0.0139, recon loss = 0.1442 , val loss = 0.1614, val kl-loss = 0.0140,  val recon loss = 0.1475 & LR = 0.0100\n",
      "\n"
     ]
    },
    {
     "name": "stderr",
     "output_type": "stream",
     "text": [
      "235it [00:20, 11.61it/s]                                                                                               \n",
      "40it [00:01, 34.59it/s]                                                                                                \n"
     ]
    },
    {
     "name": "stdout",
     "output_type": "stream",
     "text": [
      "Epoch = 23; train loss = 0.1583 , kl-loss = 0.0139, recon loss = 0.1444 , val loss = 0.1666, val kl-loss = 0.0142,  val recon loss = 0.1524 & LR = 0.0100\n",
      "\n"
     ]
    },
    {
     "name": "stderr",
     "output_type": "stream",
     "text": [
      "235it [00:20, 11.60it/s]                                                                                               \n",
      "40it [00:01, 34.56it/s]                                                                                                \n"
     ]
    },
    {
     "name": "stdout",
     "output_type": "stream",
     "text": [
      "Epoch = 24; train loss = 0.1578 , kl-loss = 0.0139, recon loss = 0.1439 , val loss = 0.1599, val kl-loss = 0.0143,  val recon loss = 0.1456 & LR = 0.0100\n",
      "\n"
     ]
    },
    {
     "name": "stderr",
     "output_type": "stream",
     "text": [
      "235it [00:20, 11.60it/s]                                                                                               \n",
      "40it [00:01, 34.42it/s]                                                                                                \n"
     ]
    },
    {
     "name": "stdout",
     "output_type": "stream",
     "text": [
      "Epoch = 25; train loss = 0.1577 , kl-loss = 0.0140, recon loss = 0.1438 , val loss = 0.1623, val kl-loss = 0.0143,  val recon loss = 0.1480 & LR = 0.0100\n",
      "\n"
     ]
    },
    {
     "name": "stderr",
     "output_type": "stream",
     "text": [
      "235it [00:20, 11.59it/s]                                                                                               \n",
      "40it [00:01, 34.60it/s]                                                                                                \n"
     ]
    },
    {
     "name": "stdout",
     "output_type": "stream",
     "text": [
      "Epoch = 26; train loss = 0.1577 , kl-loss = 0.0140, recon loss = 0.1437 , val loss = 0.1603, val kl-loss = 0.0142,  val recon loss = 0.1461 & LR = 0.0100\n",
      "\n"
     ]
    },
    {
     "name": "stderr",
     "output_type": "stream",
     "text": [
      "235it [00:20, 11.59it/s]                                                                                               \n",
      "40it [00:01, 34.62it/s]                                                                                                \n"
     ]
    },
    {
     "name": "stdout",
     "output_type": "stream",
     "text": [
      "Epoch = 27; train loss = 0.1565 , kl-loss = 0.0141, recon loss = 0.1424 , val loss = 0.1597, val kl-loss = 0.0143,  val recon loss = 0.1455 & LR = 0.0100\n",
      "\n"
     ]
    },
    {
     "name": "stderr",
     "output_type": "stream",
     "text": [
      "235it [00:20, 11.60it/s]                                                                                               \n",
      "40it [00:01, 34.55it/s]                                                                                                \n"
     ]
    },
    {
     "name": "stdout",
     "output_type": "stream",
     "text": [
      "Epoch = 28; train loss = 0.1567 , kl-loss = 0.0141, recon loss = 0.1426 , val loss = 0.1581, val kl-loss = 0.0144,  val recon loss = 0.1437 & LR = 0.0100\n",
      "\n",
      "Saving model with lowest val_loss = 0.1581\n",
      "\n"
     ]
    },
    {
     "name": "stderr",
     "output_type": "stream",
     "text": [
      "235it [00:20, 11.59it/s]                                                                                               \n",
      "40it [00:01, 34.56it/s]                                                                                                \n"
     ]
    },
    {
     "name": "stdout",
     "output_type": "stream",
     "text": [
      "Epoch = 29; train loss = 0.1562 , kl-loss = 0.0142, recon loss = 0.1420 , val loss = 0.1611, val kl-loss = 0.0143,  val recon loss = 0.1468 & LR = 0.0100\n",
      "\n"
     ]
    },
    {
     "name": "stderr",
     "output_type": "stream",
     "text": [
      "235it [00:20, 11.59it/s]                                                                                               \n",
      "40it [00:01, 34.62it/s]                                                                                                \n"
     ]
    },
    {
     "name": "stdout",
     "output_type": "stream",
     "text": [
      "Epoch = 30; train loss = 0.1567 , kl-loss = 0.0142, recon loss = 0.1425 , val loss = 0.1602, val kl-loss = 0.0143,  val recon loss = 0.1459 & LR = 0.0100\n",
      "\n"
     ]
    },
    {
     "name": "stderr",
     "output_type": "stream",
     "text": [
      "235it [00:20, 11.59it/s]                                                                                               \n",
      "40it [00:01, 34.37it/s]                                                                                                \n"
     ]
    },
    {
     "name": "stdout",
     "output_type": "stream",
     "text": [
      "Epoch = 31; train loss = 0.1572 , kl-loss = 0.0141, recon loss = 0.1431 , val loss = 0.1636, val kl-loss = 0.0147,  val recon loss = 0.1490 & LR = 0.0100\n",
      "\n"
     ]
    },
    {
     "name": "stderr",
     "output_type": "stream",
     "text": [
      "235it [00:20, 11.58it/s]                                                                                               \n",
      "40it [00:01, 33.75it/s]                                                                                                \n"
     ]
    },
    {
     "name": "stdout",
     "output_type": "stream",
     "text": [
      "Epoch = 32; train loss = 0.1570 , kl-loss = 0.0142, recon loss = 0.1428 , val loss = 0.1595, val kl-loss = 0.0146,  val recon loss = 0.1449 & LR = 0.0100\n",
      "\n"
     ]
    },
    {
     "name": "stderr",
     "output_type": "stream",
     "text": [
      "235it [00:20, 11.52it/s]                                                                                               \n",
      "40it [00:01, 34.06it/s]                                                                                                \n"
     ]
    },
    {
     "name": "stdout",
     "output_type": "stream",
     "text": [
      "Epoch = 33; train loss = 0.1569 , kl-loss = 0.0142, recon loss = 0.1427 , val loss = 0.1612, val kl-loss = 0.0146,  val recon loss = 0.1466 & LR = 0.0100\n",
      "\n"
     ]
    },
    {
     "name": "stderr",
     "output_type": "stream",
     "text": [
      "235it [00:20, 11.56it/s]                                                                                               \n",
      "40it [00:01, 34.44it/s]                                                                                                \n"
     ]
    },
    {
     "name": "stdout",
     "output_type": "stream",
     "text": [
      "Epoch = 34; train loss = 0.1564 , kl-loss = 0.0143, recon loss = 0.1421 , val loss = 0.1602, val kl-loss = 0.0149,  val recon loss = 0.1453 & LR = 0.0100\n",
      "\n"
     ]
    },
    {
     "name": "stderr",
     "output_type": "stream",
     "text": [
      "235it [00:20, 11.58it/s]                                                                                               \n",
      "40it [00:01, 34.46it/s]                                                                                                \n"
     ]
    },
    {
     "name": "stdout",
     "output_type": "stream",
     "text": [
      "Epoch = 35; train loss = 0.1567 , kl-loss = 0.0143, recon loss = 0.1424 , val loss = 0.1646, val kl-loss = 0.0145,  val recon loss = 0.1500 & LR = 0.0100\n",
      "\n"
     ]
    },
    {
     "name": "stderr",
     "output_type": "stream",
     "text": [
      "235it [00:20, 11.58it/s]                                                                                               \n",
      "40it [00:01, 34.50it/s]                                                                                                \n"
     ]
    },
    {
     "name": "stdout",
     "output_type": "stream",
     "text": [
      "Epoch = 36; train loss = 0.1559 , kl-loss = 0.0143, recon loss = 0.1416 , val loss = 0.1595, val kl-loss = 0.0146,  val recon loss = 0.1450 & LR = 0.0100\n",
      "\n"
     ]
    },
    {
     "name": "stderr",
     "output_type": "stream",
     "text": [
      "235it [00:20, 11.58it/s]                                                                                               \n",
      "40it [00:01, 34.39it/s]                                                                                                \n"
     ]
    },
    {
     "name": "stdout",
     "output_type": "stream",
     "text": [
      "Epoch = 37; train loss = 0.1561 , kl-loss = 0.0143, recon loss = 0.1418 , val loss = 0.1622, val kl-loss = 0.0145,  val recon loss = 0.1477 & LR = 0.0100\n",
      "\n"
     ]
    },
    {
     "name": "stderr",
     "output_type": "stream",
     "text": [
      "235it [00:20, 11.57it/s]                                                                                               \n",
      "40it [00:01, 34.50it/s]                                                                                                \n"
     ]
    },
    {
     "name": "stdout",
     "output_type": "stream",
     "text": [
      "Epoch = 38; train loss = 0.1548 , kl-loss = 0.0144, recon loss = 0.1404 , val loss = 0.1591, val kl-loss = 0.0145,  val recon loss = 0.1445 & LR = 0.0100\n",
      "\n"
     ]
    },
    {
     "name": "stderr",
     "output_type": "stream",
     "text": [
      "235it [00:20, 11.57it/s]                                                                                               \n",
      "40it [00:01, 34.50it/s]                                                                                                \n"
     ]
    },
    {
     "name": "stdout",
     "output_type": "stream",
     "text": [
      "Epoch = 39; train loss = 0.1558 , kl-loss = 0.0144, recon loss = 0.1413 , val loss = 0.1577, val kl-loss = 0.0148,  val recon loss = 0.1429 & LR = 0.0100\n",
      "\n",
      "Saving model with lowest val_loss = 0.1577\n",
      "\n"
     ]
    },
    {
     "name": "stderr",
     "output_type": "stream",
     "text": [
      "235it [00:20, 11.57it/s]                                                                                               \n",
      "40it [00:01, 34.42it/s]                                                                                                \n"
     ]
    },
    {
     "name": "stdout",
     "output_type": "stream",
     "text": [
      "Epoch = 40; train loss = 0.1551 , kl-loss = 0.0144, recon loss = 0.1407 , val loss = 0.1576, val kl-loss = 0.0146,  val recon loss = 0.1430 & LR = 0.0100\n",
      "\n",
      "Saving model with lowest val_loss = 0.1576\n",
      "\n"
     ]
    },
    {
     "name": "stderr",
     "output_type": "stream",
     "text": [
      "235it [00:20, 11.57it/s]                                                                                               \n",
      "40it [00:01, 34.53it/s]                                                                                                \n"
     ]
    },
    {
     "name": "stdout",
     "output_type": "stream",
     "text": [
      "Epoch = 41; train loss = 0.1549 , kl-loss = 0.0145, recon loss = 0.1404 , val loss = 0.1581, val kl-loss = 0.0147,  val recon loss = 0.1434 & LR = 0.0100\n",
      "\n"
     ]
    },
    {
     "name": "stderr",
     "output_type": "stream",
     "text": [
      "235it [00:20, 11.57it/s]                                                                                               \n",
      "40it [00:01, 34.48it/s]                                                                                                \n"
     ]
    },
    {
     "name": "stdout",
     "output_type": "stream",
     "text": [
      "Epoch = 42; train loss = 0.1543 , kl-loss = 0.0145, recon loss = 0.1398 , val loss = 0.1577, val kl-loss = 0.0149,  val recon loss = 0.1428 & LR = 0.0100\n",
      "\n"
     ]
    },
    {
     "name": "stderr",
     "output_type": "stream",
     "text": [
      "235it [00:20, 11.57it/s]                                                                                               \n",
      "40it [00:01, 34.45it/s]                                                                                                \n"
     ]
    },
    {
     "name": "stdout",
     "output_type": "stream",
     "text": [
      "Epoch = 43; train loss = 0.1543 , kl-loss = 0.0145, recon loss = 0.1398 , val loss = 0.1578, val kl-loss = 0.0145,  val recon loss = 0.1433 & LR = 0.0100\n",
      "\n"
     ]
    },
    {
     "name": "stderr",
     "output_type": "stream",
     "text": [
      "235it [00:20, 11.57it/s]                                                                                               \n",
      "40it [00:01, 34.46it/s]                                                                                                \n"
     ]
    },
    {
     "name": "stdout",
     "output_type": "stream",
     "text": [
      "Epoch = 44; train loss = 0.1546 , kl-loss = 0.0145, recon loss = 0.1401 , val loss = 0.1612, val kl-loss = 0.0146,  val recon loss = 0.1465 & LR = 0.0100\n",
      "\n"
     ]
    },
    {
     "name": "stderr",
     "output_type": "stream",
     "text": [
      "235it [00:20, 11.56it/s]                                                                                               \n",
      "40it [00:01, 34.22it/s]                                                                                                \n"
     ]
    },
    {
     "name": "stdout",
     "output_type": "stream",
     "text": [
      "Epoch = 45; train loss = 0.1540 , kl-loss = 0.0146, recon loss = 0.1395 , val loss = 0.1603, val kl-loss = 0.0149,  val recon loss = 0.1455 & LR = 0.0100\n",
      "\n"
     ]
    },
    {
     "name": "stderr",
     "output_type": "stream",
     "text": [
      "235it [00:20, 11.57it/s]                                                                                               \n",
      "40it [00:01, 34.44it/s]                                                                                                \n"
     ]
    },
    {
     "name": "stdout",
     "output_type": "stream",
     "text": [
      "Epoch = 46; train loss = 0.1541 , kl-loss = 0.0146, recon loss = 0.1395 , val loss = 0.1573, val kl-loss = 0.0149,  val recon loss = 0.1425 & LR = 0.0100\n",
      "\n",
      "Saving model with lowest val_loss = 0.1573\n",
      "\n"
     ]
    },
    {
     "name": "stderr",
     "output_type": "stream",
     "text": [
      "235it [00:20, 11.57it/s]                                                                                               \n",
      "40it [00:01, 34.39it/s]                                                                                                \n"
     ]
    },
    {
     "name": "stdout",
     "output_type": "stream",
     "text": [
      "Epoch = 47; train loss = 0.1557 , kl-loss = 0.0145, recon loss = 0.1411 , val loss = 0.1589, val kl-loss = 0.0148,  val recon loss = 0.1441 & LR = 0.0100\n",
      "\n"
     ]
    },
    {
     "name": "stderr",
     "output_type": "stream",
     "text": [
      "235it [00:20, 11.57it/s]                                                                                               \n",
      "40it [00:01, 34.44it/s]                                                                                                \n"
     ]
    },
    {
     "name": "stdout",
     "output_type": "stream",
     "text": [
      "Epoch = 48; train loss = 0.1539 , kl-loss = 0.0146, recon loss = 0.1393 , val loss = 0.1574, val kl-loss = 0.0151,  val recon loss = 0.1423 & LR = 0.0100\n",
      "\n"
     ]
    },
    {
     "name": "stderr",
     "output_type": "stream",
     "text": [
      "235it [00:20, 11.57it/s]                                                                                               \n",
      "40it [00:01, 34.54it/s]                                                                                                \n"
     ]
    },
    {
     "name": "stdout",
     "output_type": "stream",
     "text": [
      "Epoch = 49; train loss = 0.1535 , kl-loss = 0.0147, recon loss = 0.1388 , val loss = 0.1577, val kl-loss = 0.0150,  val recon loss = 0.1427 & LR = 0.0100\n",
      "\n"
     ]
    },
    {
     "name": "stderr",
     "output_type": "stream",
     "text": [
      "235it [00:20, 11.57it/s]                                                                                               \n",
      "40it [00:01, 34.38it/s]                                                                                                "
     ]
    },
    {
     "name": "stdout",
     "output_type": "stream",
     "text": [
      "Epoch = 50; train loss = 0.1542 , kl-loss = 0.0147, recon loss = 0.1395 , val loss = 0.1605, val kl-loss = 0.0149,  val recon loss = 0.1456 & LR = 0.0100\n",
      "\n"
     ]
    },
    {
     "name": "stderr",
     "output_type": "stream",
     "text": [
      "\n"
     ]
    }
   ],
   "source": [
    "for epoch in range(1, num_epochs + 1):\n",
    "    '''\n",
    "    # Manual early stopping implementation-\n",
    "    if loc_patience >= patience:\n",
    "        print(\"\\n'EarlyStopping' called!\\n\")\n",
    "        break\n",
    "    '''\n",
    "    \n",
    "    # Train model for 1 epoch-\n",
    "    train_loss, kl_train_loss, recon_train_loss = train_one_epoch(\n",
    "        model = model, dataloader = train_loader,\n",
    "        dataset = train, beta = beta\n",
    "    )\n",
    "    \n",
    "    # Get validation after 1 epoch-\n",
    "    val_loss, val_kl_loss, val_recon_loss = validate_one_epoch(\n",
    "        model = model, dataloader = test_loader,\n",
    "        dataset = test, beta = beta\n",
    "    )\n",
    "    \n",
    "    # Store model performance metrics in Python3 dict-\n",
    "    train_history[epoch] = {\n",
    "        'train_loss': train_loss,\n",
    "        'train_recon_loss': kl_train_loss,\n",
    "        'train_kl_loss': kl_train_loss,\n",
    "        'val_loss': val_loss,\n",
    "        'val_recon_loss': val_recon_loss,\n",
    "        'val_kl_loss': val_kl_loss,\n",
    "        'lr': optimizer.param_groups[0]['lr']\n",
    "    }\n",
    "    \n",
    "    print(f\"Epoch = {epoch}; train loss = {train_loss:.4f}\",\n",
    "          f\", kl-loss = {kl_train_loss:.4f}, recon loss = {recon_train_loss:.4f}\",\n",
    "          f\", val loss = {val_loss:.4f}, val kl-loss = {val_kl_loss:.4f},\",\n",
    "          f\" val recon loss = {val_recon_loss:.4f} &\"\n",
    "          f\" LR = {optimizer.param_groups[0]['lr']:.4f}\\n\"\n",
    "         )\n",
    "    \n",
    "    \n",
    "    # Code for manual Early Stopping:\n",
    "    if (val_loss < best_val_loss):\n",
    "    # (np.abs(val_epoch_loss - best_val_loss) >= minimum_delta):\n",
    "\n",
    "        # update 'best_val_loss' variable to lowest loss encountered so far-\n",
    "        best_val_loss = val_loss\n",
    "        \n",
    "        # reset 'loc_patience' variable-\n",
    "        # loc_patience = 0\n",
    "\n",
    "        print(f\"Saving model with lowest val_loss = {val_loss:.4f}\\n\")\n",
    "        \n",
    "        # Save trained model with 'best' validation accuracy-\n",
    "        torch.save(model.state_dict(), \"ConvVAE_MNIST_best_model.pth\")\n",
    "        \n",
    "    '''\n",
    "    else:  # there is no improvement in monitored metric 'val_loss'\n",
    "        loc_patience += 1  # number of epochs without any improvement\n",
    "    '''"
   ]
  },
  {
   "cell_type": "code",
   "execution_count": null,
   "id": "1769dd75-dae5-43d1-8724-a2e429105014",
   "metadata": {},
   "outputs": [],
   "source": []
  },
  {
   "cell_type": "code",
   "execution_count": null,
   "id": "aa9e07e1-0c57-4b92-8325-870eb5df77db",
   "metadata": {},
   "outputs": [],
   "source": []
  },
  {
   "cell_type": "code",
   "execution_count": 57,
   "id": "2b40660a-5971-44b6-b67b-8f442eee256d",
   "metadata": {},
   "outputs": [],
   "source": [
    "# Save training history as pickle file-\n",
    "with open(\"Conv_VAE_MNIST_training_history.pkl\", \"wb\") as file:\n",
    "    pickle.dump(train_history, file)"
   ]
  },
  {
   "cell_type": "code",
   "execution_count": null,
   "id": "0ebc45c2-85c2-4465-bcd0-f302724ac0cd",
   "metadata": {},
   "outputs": [],
   "source": []
  },
  {
   "cell_type": "code",
   "execution_count": null,
   "id": "96909c9b-7ebd-403b-aa5a-3d15c9a242cd",
   "metadata": {},
   "outputs": [],
   "source": []
  },
  {
   "cell_type": "markdown",
   "id": "a2bc9ed9-3781-4029-b68f-81a8a05f8be8",
   "metadata": {},
   "source": [
    "### Training Visualizations"
   ]
  },
  {
   "cell_type": "code",
   "execution_count": 58,
   "id": "05222624-2d72-494a-acdb-1b948c133673",
   "metadata": {},
   "outputs": [
    {
     "data": {
      "image/png": "[encoded data removed]",
      "text/plain": [
       "<Figure size 700x600 with 1 Axes>"
      ]
     },
     "metadata": {},
     "output_type": "display_data"
    }
   ],
   "source": [
    "plt.figure(figsize = (7, 6))\n",
    "plt.plot([train_history[e]['train_loss'] for e in train_history.keys()], label = 'loss')\n",
    "plt.plot([train_history[e]['val_loss'] for e in train_history.keys()], label = 'val loss')\n",
    "plt.xlabel(\"epochs\")\n",
    "plt.ylabel(\"loss\")\n",
    "plt.title(\"Conv-VAE training visualization\")\n",
    "plt.legend(loc = 'best')\n",
    "plt.show()"
   ]
  },
  {
   "cell_type": "code",
   "execution_count": 73,
   "id": "f56e386a-c5ad-4ab9-9d87-74350a71d25a",
   "metadata": {},
   "outputs": [
    {
     "data": {
      "image/png": "[encoded data removed]",
      "text/plain": [
       "<Figure size 600x500 with 1 Axes>"
      ]
     },
     "metadata": {},
     "output_type": "display_data"
    }
   ],
   "source": [
    "plt.figure(figsize = (6, 5))\n",
    "plt.plot([train_history[e]['train_recon_loss'] for e in train_history.keys()], label = 'train_recon_loss')\n",
    "plt.xlabel(\"epochs\")\n",
    "plt.ylabel(\"loss\")\n",
    "plt.legend(loc = 'best')\n",
    "plt.title(\"Conv VAE Training: Reconstruction Loss\")\n",
    "plt.show()"
   ]
  },
  {
   "cell_type": "code",
   "execution_count": 74,
   "id": "2229a1c0-0684-439f-92fa-81659c54e8c1",
   "metadata": {},
   "outputs": [
    {
     "data": {
      "image/png": "[encoded data removed]",
      "text/plain": [
       "<Figure size 600x500 with 1 Axes>"
      ]
     },
     "metadata": {},
     "output_type": "display_data"
    }
   ],
   "source": [
    "plt.figure(figsize = (6, 5))\n",
    "plt.plot([train_history[e]['val_recon_loss'] for e in train_history.keys()], label = 'val_recon_loss')\n",
    "plt.xlabel(\"epochs\")\n",
    "plt.ylabel(\"loss\")\n",
    "plt.legend(loc = 'best')\n",
    "plt.title(\"Conv VAE Validation Reconstruction Loss\")\n",
    "plt.show()"
   ]
  },
  {
   "cell_type": "code",
   "execution_count": 75,
   "id": "65062900-f064-488f-aa04-51a5ea60f279",
   "metadata": {},
   "outputs": [
    {
     "data": {
      "image/png": "[encoded data removed]",
      "text/plain": [
       "<Figure size 600x500 with 1 Axes>"
      ]
     },
     "metadata": {},
     "output_type": "display_data"
    }
   ],
   "source": [
    "plt.figure(figsize = (6, 5))\n",
    "plt.plot([train_history[e]['train_kl_loss'] for e in train_history.keys()], label = 'train_kl_loss')\n",
    "plt.plot([train_history[e]['val_kl_loss'] for e in train_history.keys()], label = 'val_kl_loss')\n",
    "plt.xlabel(\"epochs\")\n",
    "plt.ylabel(\"loss\")\n",
    "plt.legend(loc = 'best')\n",
    "plt.title(\"Conv VAE KL-Divergence Loss\")\n",
    "plt.show()"
   ]
  },
  {
   "cell_type": "code",
   "execution_count": null,
   "id": "8db1dc89-1b55-4de4-a06d-0bb291c23d4b",
   "metadata": {},
   "outputs": [],
   "source": []
  },
  {
   "cell_type": "code",
   "execution_count": 72,
   "id": "76d26ecd-bf5f-46b1-8d87-de39b9bf3745",
   "metadata": {},
   "outputs": [],
   "source": [
    "del model"
   ]
  },
  {
   "cell_type": "code",
   "execution_count": null,
   "id": "2410658e-5b32-4d45-8a2b-0be75fe604f0",
   "metadata": {},
   "outputs": [],
   "source": []
  },
  {
   "cell_type": "code",
   "execution_count": 62,
   "id": "67ebbe6b-bb5b-4446-82ec-e723ca4d6b1f",
   "metadata": {},
   "outputs": [
    {
     "data": {
      "text/plain": [
       "<All keys matched successfully>"
      ]
     },
     "execution_count": 62,
     "metadata": {},
     "output_type": "execute_result"
    }
   ],
   "source": [
    "# Load 'best' trained weights from before-\n",
    "trained_model = Conv_VAE(latent_space = 3).to(device)\n",
    "trained_model.load_state_dict(torch.load('ConvVAE_MNIST_best_model.pth'))"
   ]
  },
  {
   "cell_type": "code",
   "execution_count": 68,
   "id": "844a0f06-1a16-4680-94f1-e2b6e3c3f3b1",
   "metadata": {},
   "outputs": [],
   "source": [
    "def synthesize_images(model, num_samples = 32):\n",
    "    # Synthesize new images using trained 'model'.\n",
    "    z = torch.randn((num_samples, 3)).to(device)\n",
    "    z = torch.reshape(z, (-1, 3, 1, 1))\n",
    "    return model.decoder(z).permute((0, 2, 3, 1)).cpu().detach().numpy()\n"
   ]
  },
  {
   "cell_type": "code",
   "execution_count": 69,
   "id": "96cd5486-e3a4-44a0-a813-5d9227358dd5",
   "metadata": {},
   "outputs": [],
   "source": [
    "new_images = synthesize_images(model = trained_model, num_samples = 32)"
   ]
  },
  {
   "cell_type": "code",
   "execution_count": 70,
   "id": "5ea5a732-e28f-43aa-abdb-383ef2f8308d",
   "metadata": {},
   "outputs": [
    {
     "data": {
      "text/plain": [
       "(32, 28, 28, 1)"
      ]
     },
     "execution_count": 70,
     "metadata": {},
     "output_type": "execute_result"
    }
   ],
   "source": [
    "new_images.shape"
   ]
  },
  {
   "cell_type": "code",
   "execution_count": null,
   "id": "fb2735f2-e087-4257-9873-e53b20bf7232",
   "metadata": {},
   "outputs": [],
   "source": []
  },
  {
   "cell_type": "code",
   "execution_count": 71,
   "id": "48c80650-1afa-4b9b-9f02-3607c25c175a",
   "metadata": {},
   "outputs": [
    {
     "data": {
      "image/png": "[encoded data removed]",
      "text/plain": [
       "<Figure size 700x600 with 32 Axes>"
      ]
     },
     "metadata": {},
     "output_type": "display_data"
    }
   ],
   "source": [
    "# Visualize images from training set-\n",
    "plt.figure(figsize = (7, 6))\n",
    "for i in range(32):\n",
    "    # 8 rows & 4 columns-\n",
    "    plt.subplot(8, 4, i + 1)\n",
    "    # 0 to access first channel-\n",
    "    plt.imshow(new_images[i], cmap = 'gray')\n",
    "    \n",
    "    # get current axes-\n",
    "    ax = plt.gca()\n",
    "    \n",
    "    # hide x-axis-\n",
    "    ax.get_xaxis().set_visible(False)\n",
    "    \n",
    "    # hide y-axis-\n",
    "    ax.get_yaxis().set_visible(False)\n",
    "    \n",
    "plt.suptitle(\"Synthesized MNIST training images\")\n",
    "plt.show()"
   ]
  },
  {
   "cell_type": "code",
   "execution_count": null,
   "id": "fcc81867-2ea5-4517-9c98-967651e1a356",
   "metadata": {},
   "outputs": [],
   "source": []
  },
  {
   "cell_type": "code",
   "execution_count": null,
   "id": "22696bd4-3673-4205-9700-017b0025ba7d",
   "metadata": {},
   "outputs": [],
   "source": []
  }
 ],
 "metadata": {
  "kernelspec": {
   "display_name": "Python 3 (ipykernel)",
   "language": "python",
   "name": "python3"
  },
  "language_info": {
   "codemirror_mode": {
    "name": "ipython",
    "version": 3
   },
   "file_extension": ".py",
   "mimetype": "text/x-python",
   "name": "python",
   "nbconvert_exporter": "python",
   "pygments_lexer": "ipython3",
   "version": "3.10.6"
  }
 },
 "nbformat": 4,
 "nbformat_minor": 5
}
