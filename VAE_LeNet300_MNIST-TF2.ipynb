{
 "cells": [
  {
   "cell_type": "markdown",
   "id": "c4e546ff-5d22-4e42-8de0-7b7b9a14d3f4",
   "metadata": {},
   "source": [
    "# Variational AutoEncoder - LeNet300 + MNIST + TF2"
   ]
  },
  {
   "cell_type": "code",
   "execution_count": 1,
   "id": "86e7c5ed-a657-497a-b92f-c9fd2de625e1",
   "metadata": {},
   "outputs": [
    {
     "name": "stdout",
     "output_type": "stream",
     "text": [
      "env: CUDA_DEVICE_ORDER=PCI_BUS_ID\n",
      "env: CUDA_VISIBLE_DEVICES=1\n"
     ]
    }
   ],
   "source": [
    "# Specify GPU to be used-\n",
    "%env CUDA_DEVICE_ORDER = PCI_BUS_ID\n",
    "%env CUDA_VISIBLE_DEVICES = 1"
   ]
  },
  {
   "cell_type": "code",
   "execution_count": null,
   "id": "26651a3a-8bc4-4925-8197-011eb9026b17",
   "metadata": {},
   "outputs": [],
   "source": []
  },
  {
   "cell_type": "code",
   "execution_count": 2,
   "id": "9862eeed-a61e-44e0-8ad4-867a7a976aa6",
   "metadata": {},
   "outputs": [],
   "source": [
    "import tensorflow\n",
    "from tensorflow import keras\n",
    "from tensorflow.keras import layers\n",
    "from tensorflow.keras.layers import Conv2D, Conv2DTranspose, Dense, Input, Flatten,\\\n",
    "Conv2DTranspose, BatchNormalization, LeakyReLU, Reshape\n",
    "from tensorflow.keras.models import Sequential, Model\n",
    "from tensorflow.keras.datasets import mnist\n",
    "import tensorflow.keras.backend as K\n",
    "import tensorflow as tf\n",
    "\n",
    "import numpy as np\n",
    "import matplotlib.pyplot as plt\n",
    "import plotly\n",
    "import plotly.express as px"
   ]
  },
  {
   "cell_type": "code",
   "execution_count": null,
   "id": "aaa79ddf-b1d1-4cda-9fcf-ca22f402d5a6",
   "metadata": {},
   "outputs": [],
   "source": []
  },
  {
   "cell_type": "code",
   "execution_count": null,
   "id": "c2f20223-c6c2-4685-a890-1681ac1725a6",
   "metadata": {},
   "outputs": [],
   "source": []
  },
  {
   "cell_type": "code",
   "execution_count": 3,
   "id": "6edeacbb-842b-40b6-9ee4-e23e141c8ea9",
   "metadata": {},
   "outputs": [
    {
     "name": "stdout",
     "output_type": "stream",
     "text": [
      "TensorFlow version: 2.8.0\n"
     ]
    }
   ],
   "source": [
    "print(f\"TensorFlow version: {tf.__version__}\")"
   ]
  },
  {
   "cell_type": "code",
   "execution_count": 4,
   "id": "0c2f32cc-bf23-402c-a785-86cbf1875786",
   "metadata": {},
   "outputs": [
    {
     "name": "stdout",
     "output_type": "stream",
     "text": [
      "number of GPUs available = 1\n",
      "GPU: [PhysicalDevice(name='/physical_device:GPU:0', device_type='GPU')]\n",
      "GPU details: NVIDIA GeForce RTX 3080\n"
     ]
    },
    {
     "name": "stderr",
     "output_type": "stream",
     "text": [
      "2022-02-20 05:42:11.486291: I tensorflow/stream_executor/cuda/cuda_gpu_executor.cc:936] successful NUMA node read from SysFS had negative value (-1), but there must be at least one NUMA node, so returning NUMA node zero\n",
      "2022-02-20 05:42:11.507290: I tensorflow/stream_executor/cuda/cuda_gpu_executor.cc:936] successful NUMA node read from SysFS had negative value (-1), but there must be at least one NUMA node, so returning NUMA node zero\n",
      "2022-02-20 05:42:11.507379: I tensorflow/stream_executor/cuda/cuda_gpu_executor.cc:936] successful NUMA node read from SysFS had negative value (-1), but there must be at least one NUMA node, so returning NUMA node zero\n",
      "2022-02-20 05:42:11.507867: I tensorflow/stream_executor/cuda/cuda_gpu_executor.cc:936] successful NUMA node read from SysFS had negative value (-1), but there must be at least one NUMA node, so returning NUMA node zero\n"
     ]
    }
   ],
   "source": [
    "# Check GPU availibility-\n",
    "gpu_devices = tf.config.list_physical_devices('GPU')\n",
    "\n",
    "if gpu_devices:\n",
    "    # Get number of available GPUs-\n",
    "    num_gpus = len(tf.config.list_physical_devices('GPU'))\n",
    "    print(f\"number of GPUs available = {num_gpus}\")\n",
    "    \n",
    "    print(f\"GPU: {gpu_devices}\")\n",
    "    details = tf.config.experimental.get_device_details(gpu_devices[0])\n",
    "    print(f\"GPU details: {details.get('device_name', 'Unknown GPU')}\")\n",
    "else:\n",
    "    print(\"No GPU found\")"
   ]
  },
  {
   "cell_type": "code",
   "execution_count": null,
   "id": "455a4a78-b00c-4da7-b6c4-f38da22df8a1",
   "metadata": {},
   "outputs": [],
   "source": []
  },
  {
   "cell_type": "code",
   "execution_count": null,
   "id": "d94f223e-52f2-451d-abd5-1f010da4068c",
   "metadata": {},
   "outputs": [],
   "source": []
  },
  {
   "cell_type": "markdown",
   "id": "93d3e7da-96c0-416c-be40-05efb97989be",
   "metadata": {},
   "source": [
    "### MNIST Data Pre-processing"
   ]
  },
  {
   "cell_type": "code",
   "execution_count": 5,
   "id": "658bfb80-b2a5-4f3c-ab22-c5e1bfa6f753",
   "metadata": {},
   "outputs": [],
   "source": [
    "# input image dimensions\n",
    "img_rows, img_cols = 28, 28"
   ]
  },
  {
   "cell_type": "code",
   "execution_count": 6,
   "id": "868a64da-2f98-4fb7-ae84-0482c93d9683",
   "metadata": {},
   "outputs": [],
   "source": [
    "# Load MNIST dataset-\n",
    "(X_train, y_train), (X_test, y_test) = mnist.load_data()"
   ]
  },
  {
   "cell_type": "code",
   "execution_count": 7,
   "id": "96dbb2ae-9c9c-4822-829b-80baf05bb10a",
   "metadata": {},
   "outputs": [],
   "source": [
    "if tf.keras.backend.image_data_format() == 'channels_first':\n",
    "    X_train = X_train.reshape(X_train.shape[0], 1, img_rows, img_cols)\n",
    "    X_test = X_test.reshape(X_test.shape[0], 1, img_rows, img_cols)\n",
    "    input_shape = (1, img_rows, img_cols)\n",
    "else:\n",
    "    X_train = X_train.reshape(X_train.shape[0], img_rows, img_cols, 1)\n",
    "    X_test = X_test.reshape(X_test.shape[0], img_rows, img_cols, 1)\n",
    "    input_shape = (img_rows, img_cols, 1)"
   ]
  },
  {
   "cell_type": "code",
   "execution_count": 8,
   "id": "1113cd63-4693-4229-87b7-34d8967678fe",
   "metadata": {},
   "outputs": [
    {
     "name": "stdout",
     "output_type": "stream",
     "text": [
      "\n",
      "input_shape to be used: (28, 28, 1)\n"
     ]
    }
   ],
   "source": [
    "print(f\"\\ninput_shape to be used: {input_shape}\")"
   ]
  },
  {
   "cell_type": "code",
   "execution_count": null,
   "id": "d87518d0-4d41-4fdf-b02f-0a3de0e595a7",
   "metadata": {},
   "outputs": [],
   "source": []
  },
  {
   "cell_type": "code",
   "execution_count": 9,
   "id": "04f94abb-4cd6-4b20-b91f-67c79042cd85",
   "metadata": {},
   "outputs": [],
   "source": [
    "# Specify hyper-parameters-\n",
    "batch_size = 64\n",
    "num_classes = 10\n",
    "num_epochs = 30"
   ]
  },
  {
   "cell_type": "code",
   "execution_count": null,
   "id": "74965bf8-dc08-4bc2-b097-e9f13cf72c7c",
   "metadata": {},
   "outputs": [],
   "source": []
  },
  {
   "cell_type": "code",
   "execution_count": 10,
   "id": "6a459807-4cc1-4f19-862f-41e4cd19cec7",
   "metadata": {},
   "outputs": [],
   "source": [
    "# Convert datasets to floating point types-\n",
    "X_train = X_train.astype('float32')\n",
    "X_test = X_test.astype('float32')"
   ]
  },
  {
   "cell_type": "code",
   "execution_count": 11,
   "id": "e3a00480-133d-410e-b65b-484960664e98",
   "metadata": {},
   "outputs": [],
   "source": [
    "# By default the image data consists of integers between 0 and 255 for each pixel channel. Neural networks\n",
    "# work best when each input is inside the range –1 to 1, so we need to divide by 255.\n",
    "\n",
    "# Normalize the training and testing datasets-\n",
    "X_train /= 255.0\n",
    "X_test /= 255.0"
   ]
  },
  {
   "cell_type": "code",
   "execution_count": 12,
   "id": "2bf6c8af-ef2d-4277-8fc7-21ed0ec8d6a2",
   "metadata": {},
   "outputs": [],
   "source": [
    "# Convert class vectors/target to binary class matrices or one-hot encoded values-\n",
    "# y_train = tf.keras.utils.to_categorical(y_train, num_classes)\n",
    "# y_test = tf.keras.utils.to_categorical(y_test, num_classes)"
   ]
  },
  {
   "cell_type": "code",
   "execution_count": 13,
   "id": "fa762e3b-cfff-4620-a15f-e7a39369355d",
   "metadata": {},
   "outputs": [],
   "source": [
    "# Reshape training and testing sets-\n",
    "X_train = X_train.reshape(X_train.shape[0], 784)\n",
    "X_test = X_test.reshape(X_test.shape[0], 784)"
   ]
  },
  {
   "cell_type": "code",
   "execution_count": null,
   "id": "c862097a-d99a-4333-a983-4909d045d019",
   "metadata": {},
   "outputs": [],
   "source": []
  },
  {
   "cell_type": "code",
   "execution_count": 14,
   "id": "9e3eff0c-5831-4c31-b637-7e1cf4f11bab",
   "metadata": {},
   "outputs": [
    {
     "name": "stdout",
     "output_type": "stream",
     "text": [
      "\n",
      "Dimensions of training and testing sets are:\n",
      "X_train.shape: (60000, 784), y_train.shape: (60000,)\n",
      "X_test.shape: (10000, 784), y_test.shape: (10000,)\n"
     ]
    }
   ],
   "source": [
    "print(\"\\nDimensions of training and testing sets are:\")\n",
    "print(f\"X_train.shape: {X_train.shape}, y_train.shape: {y_train.shape}\")\n",
    "print(f\"X_test.shape: {X_test.shape}, y_test.shape: {y_test.shape}\")"
   ]
  },
  {
   "cell_type": "code",
   "execution_count": 15,
   "id": "64a62d8b-c1b4-4eec-ad75-1a46b2e0dbcd",
   "metadata": {},
   "outputs": [
    {
     "name": "stderr",
     "output_type": "stream",
     "text": [
      "2022-02-20 05:42:19.332446: I tensorflow/core/platform/cpu_feature_guard.cc:151] This TensorFlow binary is optimized with oneAPI Deep Neural Network Library (oneDNN) to use the following CPU instructions in performance-critical operations:  AVX2 FMA\n",
      "To enable them in other operations, rebuild TensorFlow with the appropriate compiler flags.\n",
      "2022-02-20 05:42:19.333440: I tensorflow/stream_executor/cuda/cuda_gpu_executor.cc:936] successful NUMA node read from SysFS had negative value (-1), but there must be at least one NUMA node, so returning NUMA node zero\n",
      "2022-02-20 05:42:19.333547: I tensorflow/stream_executor/cuda/cuda_gpu_executor.cc:936] successful NUMA node read from SysFS had negative value (-1), but there must be at least one NUMA node, so returning NUMA node zero\n",
      "2022-02-20 05:42:19.333616: I tensorflow/stream_executor/cuda/cuda_gpu_executor.cc:936] successful NUMA node read from SysFS had negative value (-1), but there must be at least one NUMA node, so returning NUMA node zero\n",
      "2022-02-20 05:42:19.658316: I tensorflow/stream_executor/cuda/cuda_gpu_executor.cc:936] successful NUMA node read from SysFS had negative value (-1), but there must be at least one NUMA node, so returning NUMA node zero\n",
      "2022-02-20 05:42:19.658429: I tensorflow/stream_executor/cuda/cuda_gpu_executor.cc:936] successful NUMA node read from SysFS had negative value (-1), but there must be at least one NUMA node, so returning NUMA node zero\n",
      "2022-02-20 05:42:19.658506: I tensorflow/stream_executor/cuda/cuda_gpu_executor.cc:936] successful NUMA node read from SysFS had negative value (-1), but there must be at least one NUMA node, so returning NUMA node zero\n",
      "2022-02-20 05:42:19.658574: I tensorflow/core/common_runtime/gpu/gpu_device.cc:1525] Created device /job:localhost/replica:0/task:0/device:GPU:0 with 8102 MB memory:  -> device: 0, name: NVIDIA GeForce RTX 3080, pci bus id: 0000:03:00.0, compute capability: 8.6\n"
     ]
    }
   ],
   "source": [
    "# Create TF datasets-\n",
    "train_dataset = tf.data.Dataset.from_tensor_slices(X_train).shuffle(60000).batch(batch_size)\n",
    "test_dataset = tf.data.Dataset.from_tensor_slices(X_test).shuffle(10000).batch(batch_size)\n",
    "\n",
    "# Needed by 'tf.GradientTape()' API for custom training and testing code."
   ]
  },
  {
   "cell_type": "code",
   "execution_count": null,
   "id": "3c82fd47-c576-4e7b-8a99-92303f9d664a",
   "metadata": {},
   "outputs": [],
   "source": []
  },
  {
   "cell_type": "code",
   "execution_count": null,
   "id": "311f3432-4893-4763-b211-362a23aaa912",
   "metadata": {},
   "outputs": [],
   "source": []
  },
  {
   "cell_type": "markdown",
   "id": "e817b5ff-0063-4172-943f-68b9216c7bae",
   "metadata": {},
   "source": [
    "### Define Variational Autoencoder architecture using _dense_ layers"
   ]
  },
  {
   "cell_type": "code",
   "execution_count": 16,
   "id": "c82445b4-54f2-48ec-8f88-4344b276244d",
   "metadata": {},
   "outputs": [],
   "source": [
    "class Encoder(Model):\n",
    "    def __init__(self, latent_space = 3):\n",
    "        super(Encoder, self).__init__()\n",
    "            \n",
    "        self.latent_space = latent_space\n",
    "        \n",
    "        self.dense = Dense(\n",
    "            units = 300, activation = None\n",
    "        )\n",
    "        self.dense2 = Dense(\n",
    "            units = 100, activation = None\n",
    "        )\n",
    "        self.encoder_output = Dense(\n",
    "            units = self.latent_space, activation = None\n",
    "        )\n",
    "    \n",
    "    \n",
    "    def call(self, x):\n",
    "        x = tf.keras.activations.relu(self.dense(x))\n",
    "        x = tf.keras.activations.relu(self.dense2(x))\n",
    "        x = tf.keras.activations.relu(self.encoder_output(x))\n",
    "        return x\n",
    "        "
   ]
  },
  {
   "cell_type": "code",
   "execution_count": null,
   "id": "89d8dd59-06e1-4c56-90b9-9e8859b9b0cb",
   "metadata": {},
   "outputs": [],
   "source": []
  },
  {
   "cell_type": "code",
   "execution_count": 17,
   "id": "a874c0c0-41bf-49eb-90bb-e72f6da2225e",
   "metadata": {},
   "outputs": [],
   "source": [
    "class Decoder(Model):\n",
    "    def __init__(self, latent_space = 3):\n",
    "        super(Decoder, self).__init__()\n",
    "            \n",
    "        self.latent_space = latent_space\n",
    "        \n",
    "        self.dense = Dense(units = self.latent_space, activation = None)\n",
    "        self.dense2 = Dense(units = 100, activation = None)\n",
    "        self.dense3 = Dense(units = 300, activation = None)\n",
    "        self.decoder_output = Dense(units = 784, activation = None)\n",
    "    \n",
    "    \n",
    "    def call(self, x):\n",
    "        x = tf.keras.activations.relu(self.dense(x))\n",
    "        x = tf.keras.activations.relu(self.dense2(x))\n",
    "        x = tf.keras.activations.relu(self.dense3(x))\n",
    "        x = self.decoder_output(x)\n",
    "        return x\n",
    "        "
   ]
  },
  {
   "cell_type": "code",
   "execution_count": null,
   "id": "c4fbd079-b498-4527-94db-426013d6c78e",
   "metadata": {},
   "outputs": [],
   "source": []
  },
  {
   "cell_type": "code",
   "execution_count": null,
   "id": "224c8323-6e0a-4ae1-8ab9-ac553313a3e3",
   "metadata": {},
   "outputs": [],
   "source": [
    "# encoder = Encoder(latent_space = 3)"
   ]
  },
  {
   "cell_type": "code",
   "execution_count": null,
   "id": "831309ea-89cd-464b-87c5-56583565c037",
   "metadata": {},
   "outputs": [],
   "source": [
    "# x = next(iter(train_dataset))"
   ]
  },
  {
   "cell_type": "code",
   "execution_count": null,
   "id": "760448a7-1ee4-47de-bfbd-9b11068a82eb",
   "metadata": {},
   "outputs": [],
   "source": [
    "# x_enc = encoder(x)"
   ]
  },
  {
   "cell_type": "code",
   "execution_count": null,
   "id": "41a38dbe-0396-4842-a4e7-0e289d187b4a",
   "metadata": {},
   "outputs": [],
   "source": [
    "# decoder = Decoder(latent_space = 3)"
   ]
  },
  {
   "cell_type": "code",
   "execution_count": null,
   "id": "4382f5b3-9cd3-491e-914a-cc3348e6ddeb",
   "metadata": {},
   "outputs": [],
   "source": [
    "# x_recon = decoder(x_enc)"
   ]
  },
  {
   "cell_type": "code",
   "execution_count": null,
   "id": "a62bc11c-0c54-4c8a-97ef-ca4a37493d55",
   "metadata": {},
   "outputs": [],
   "source": [
    "# x.shape, x_recon.shape\n",
    "# (TensorShape([64, 784]), TensorShape([64, 784]))"
   ]
  },
  {
   "cell_type": "code",
   "execution_count": null,
   "id": "19ee2ce0-6ccd-45e7-ba5b-f79a1610f651",
   "metadata": {},
   "outputs": [],
   "source": [
    "# x_enc.shape\n",
    "# TensorShape([64, 3])"
   ]
  },
  {
   "cell_type": "code",
   "execution_count": null,
   "id": "7a31ebd4-c849-455c-958f-8fe4cbacc8b8",
   "metadata": {},
   "outputs": [],
   "source": []
  },
  {
   "cell_type": "code",
   "execution_count": 18,
   "id": "4f5318e6-edee-436e-a337-ed0f1be8a632",
   "metadata": {
    "id": "8RfrZXXTFJ-T"
   },
   "outputs": [],
   "source": [
    "class VAE(Model):\n",
    "    def __init__(self, latent_space = 3):\n",
    "        super(VAE, self).__init__()\n",
    "        \n",
    "        self.latent_space = latent_space\n",
    "        \n",
    "        self.encoder = Encoder(latent_space = self.latent_space)\n",
    "        self.decoder = Decoder(latent_space = self.latent_space)\n",
    "        \n",
    "        # Define fully-connected layers for computing mean & log variance-\n",
    "        self.mu = Dense(units = self.latent_space, activation = None)\n",
    "        self.log_var = Dense(units = self.latent_space, activation = None)\n",
    "\n",
    "\n",
    "    def reparameterize(self, mu, logvar):\n",
    "        # Sample from a multivariate Gaussian distribution.\n",
    "        # Adds stochasticity or variation-\n",
    "        eps = tf.random.normal(\n",
    "            shape = mu.shape, mean = 0.,\n",
    "            stddev = 1.\n",
    "        )\n",
    "        return (eps * tf.exp(logvar * 0.5)) + mu\n",
    "        \n",
    "    \n",
    "    def call(self, x):\n",
    "        x = self.encoder(x)\n",
    "        # print(f\"x.shape: {x.shape}\")\n",
    "        # x.shape: (batch_size, 3)\n",
    "        \n",
    "        mu = self.mu(x)\n",
    "        log_var = self.log_var(x)\n",
    "        z = self.reparameterize(mu, log_var)\n",
    "        # z = Sampling()([mu, log_var])\n",
    "        '''\n",
    "        print(f\"mu.shape: {mu.shape}, log_var.shape: {log_var.shape}\"\n",
    "              f\" & z.shape: {z.shape}\")\n",
    "        # mu.shape: (batch_size, 3), log_var.shape: (batch_size, 3) & z.shape: (batch_size, 3)\n",
    "        '''\n",
    "        \n",
    "        x = tf.keras.activations.sigmoid(self.decoder(z))\n",
    "        \n",
    "        return x, mu, log_var\n",
    "        "
   ]
  },
  {
   "cell_type": "code",
   "execution_count": null,
   "id": "e84492a3-6fec-493f-aa3d-c9c90bb87188",
   "metadata": {},
   "outputs": [],
   "source": []
  },
  {
   "cell_type": "code",
   "execution_count": null,
   "id": "9d9d0423-462a-4a80-9b2c-54133655a2b4",
   "metadata": {},
   "outputs": [],
   "source": []
  },
  {
   "cell_type": "code",
   "execution_count": 19,
   "id": "9de86b35-d564-41d4-bd08-b1d24c75451a",
   "metadata": {},
   "outputs": [],
   "source": [
    "# Initialize a VAE model-\n",
    "model = VAE(latent_space = 3)"
   ]
  },
  {
   "cell_type": "code",
   "execution_count": null,
   "id": "823e0feb-5fdf-4839-8497-8b4450c2c94b",
   "metadata": {},
   "outputs": [],
   "source": []
  },
  {
   "cell_type": "code",
   "execution_count": 20,
   "id": "506d236e-9f63-420c-be13-43450b0ab335",
   "metadata": {},
   "outputs": [],
   "source": [
    "# Sanity check-\n",
    "x = next(iter(train_dataset))"
   ]
  },
  {
   "cell_type": "code",
   "execution_count": 21,
   "id": "ff3088d6-5fcb-4fa2-9288-371792d3a100",
   "metadata": {},
   "outputs": [
    {
     "name": "stderr",
     "output_type": "stream",
     "text": [
      "2022-02-20 05:42:29.548648: I tensorflow/stream_executor/cuda/cuda_blas.cc:1786] TensorFloat-32 will be used for the matrix multiplication. This will only be logged once.\n"
     ]
    }
   ],
   "source": [
    "x_recon, mu, log_var = model(x)"
   ]
  },
  {
   "cell_type": "code",
   "execution_count": 22,
   "id": "829b9323-3d31-46da-86bb-7607481e0c91",
   "metadata": {},
   "outputs": [
    {
     "data": {
      "text/plain": [
       "(TensorShape([64, 784]), TensorShape([64, 784]))"
      ]
     },
     "execution_count": 22,
     "metadata": {},
     "output_type": "execute_result"
    }
   ],
   "source": [
    "x_recon.shape, x.shape"
   ]
  },
  {
   "cell_type": "code",
   "execution_count": 23,
   "id": "a04415cf-5ee6-4e41-9323-ab20dc71932a",
   "metadata": {},
   "outputs": [
    {
     "data": {
      "text/plain": [
       "(TensorShape([64, 3]), TensorShape([64, 3]))"
      ]
     },
     "execution_count": 23,
     "metadata": {},
     "output_type": "execute_result"
    }
   ],
   "source": [
    "mu.shape, log_var.shape"
   ]
  },
  {
   "cell_type": "code",
   "execution_count": 24,
   "id": "ca063196-3bf8-451c-84df-a2a75e114ea4",
   "metadata": {},
   "outputs": [
    {
     "data": {
      "text/plain": [
       "(0.20056318, 0.134825)"
      ]
     },
     "execution_count": 24,
     "metadata": {},
     "output_type": "execute_result"
    }
   ],
   "source": [
    "mu.numpy().mean(), mu.numpy().std()"
   ]
  },
  {
   "cell_type": "code",
   "execution_count": 25,
   "id": "f6f8679c-edce-4ca4-aaf9-9b05bf6e4f68",
   "metadata": {},
   "outputs": [
    {
     "data": {
      "text/plain": [
       "(0.06823531, 0.38253328)"
      ]
     },
     "execution_count": 25,
     "metadata": {},
     "output_type": "execute_result"
    }
   ],
   "source": [
    "log_var.numpy().mean(), log_var.numpy().std()"
   ]
  },
  {
   "cell_type": "code",
   "execution_count": 26,
   "id": "7b1f9a45-6900-41b0-8a4d-62f432c2d5dd",
   "metadata": {},
   "outputs": [],
   "source": [
    "del x, x_recon, mu, log_var"
   ]
  },
  {
   "cell_type": "code",
   "execution_count": null,
   "id": "8c0168e9-2696-45b8-959e-8e00d528a9b7",
   "metadata": {},
   "outputs": [],
   "source": []
  },
  {
   "cell_type": "code",
   "execution_count": null,
   "id": "0e0f8e8a-32d5-42d4-bfac-3e06e2b6ccdf",
   "metadata": {},
   "outputs": [],
   "source": []
  },
  {
   "cell_type": "code",
   "execution_count": 27,
   "id": "f8d320e4-b2f9-4afb-b0a2-1c5b34d834f5",
   "metadata": {},
   "outputs": [
    {
     "name": "stdout",
     "output_type": "stream",
     "text": [
      "Model: \"vae\"\n",
      "_________________________________________________________________\n",
      " Layer (type)                Output Shape              Param #   \n",
      "=================================================================\n",
      " encoder (Encoder)           multiple                  265903    \n",
      "                                                                 \n",
      " decoder (Decoder)           multiple                  266696    \n",
      "                                                                 \n",
      " dense_7 (Dense)             multiple                  12        \n",
      "                                                                 \n",
      " dense_8 (Dense)             multiple                  12        \n",
      "                                                                 \n",
      "=================================================================\n",
      "Total params: 532,623\n",
      "Trainable params: 532,623\n",
      "Non-trainable params: 0\n",
      "_________________________________________________________________\n"
     ]
    }
   ],
   "source": [
    "# Get model summary-\n",
    "model.summary()"
   ]
  },
  {
   "cell_type": "code",
   "execution_count": 28,
   "id": "4bde26a3-530a-46d2-bc8a-475b2877b5a4",
   "metadata": {},
   "outputs": [
    {
     "name": "stdout",
     "output_type": "stream",
     "text": [
      "layer: (784, 300) has 235200 parameters\n",
      "layer: (300,) has 0 parameters\n",
      "layer: (300, 100) has 30000 parameters\n",
      "layer: (100,) has 0 parameters\n",
      "layer: (100, 3) has 300 parameters\n",
      "layer: (3,) has 0 parameters\n",
      "layer: (3, 3) has 9 parameters\n",
      "layer: (3,) has 0 parameters\n",
      "layer: (3, 100) has 300 parameters\n",
      "layer: (100,) has 0 parameters\n",
      "layer: (100, 300) has 29999 parameters\n",
      "layer: (300,) has 0 parameters\n",
      "layer: (300, 784) has 235200 parameters\n",
      "layer: (784,) has 0 parameters\n",
      "layer: (3, 3) has 9 parameters\n",
      "layer: (3,) has 0 parameters\n",
      "layer: (3, 3) has 9 parameters\n",
      "layer: (3,) has 0 parameters\n"
     ]
    }
   ],
   "source": [
    "# Count layer-wise number of trainable parameters-\n",
    "tot_params = 0\n",
    "\n",
    "for layer in model.trainable_weights:\n",
    "    loc_params = tf.math.count_nonzero(layer, axis = None).numpy()\n",
    "    tot_params += loc_params\n",
    "    print(f\"layer: {layer.shape} has {loc_params} parameters\")"
   ]
  },
  {
   "cell_type": "code",
   "execution_count": 29,
   "id": "8c0ef292-eedc-4572-8df0-ae805ffb6715",
   "metadata": {},
   "outputs": [
    {
     "name": "stdout",
     "output_type": "stream",
     "text": [
      "VAE has 531026 trainable parameters\n"
     ]
    }
   ],
   "source": [
    "print(f\"VAE has {tot_params} trainable parameters\")"
   ]
  },
  {
   "cell_type": "code",
   "execution_count": null,
   "id": "8989939f-7773-4c63-a8d7-2f4002dc0b94",
   "metadata": {},
   "outputs": [],
   "source": []
  },
  {
   "cell_type": "code",
   "execution_count": null,
   "id": "d1560d38-0dc6-4430-86af-d0e57214c870",
   "metadata": {},
   "outputs": [],
   "source": []
  },
  {
   "cell_type": "code",
   "execution_count": 30,
   "id": "e7f968ab-a864-4537-a57f-1457be5c9634",
   "metadata": {},
   "outputs": [],
   "source": [
    "# Define an optimizer-\n",
    "optimizer = tf.keras.optimizers.Adam(learning_rate = 1e-4)"
   ]
  },
  {
   "cell_type": "code",
   "execution_count": null,
   "id": "baf2a7ad-0046-45e2-87a4-2090207081c0",
   "metadata": {},
   "outputs": [],
   "source": []
  },
  {
   "cell_type": "markdown",
   "id": "ed80caa8-65b4-471f-8646-268ae1406e62",
   "metadata": {},
   "source": [
    "#### Tutorials\n",
    "\n",
    "1. [Keras VAE](https://keras.io/examples/generative/vae/)\n",
    "\n",
    "1. [Creating VAE with Keras](https://github.com/christianversloot/machine-learning-articles/blob/main/how-to-create-a-variational-autoencoder-with-keras.md)\n",
    "\n",
    "1. [VAE LearnOpenCV](https://learnopencv.com/variational-autoencoder-in-tensorflow/#reconstruction-error)"
   ]
  },
  {
   "cell_type": "code",
   "execution_count": null,
   "id": "a014a092-63ab-4543-8861-928bf68e5d6e",
   "metadata": {},
   "outputs": [],
   "source": []
  },
  {
   "cell_type": "code",
   "execution_count": null,
   "id": "6ea0d4a3-e9dc-447e-a1ca-2edac9bc459a",
   "metadata": {},
   "outputs": [],
   "source": []
  },
  {
   "cell_type": "code",
   "execution_count": 31,
   "id": "0da6d223-e24b-4510-9aa1-bd4ee8029c37",
   "metadata": {},
   "outputs": [],
   "source": [
    "def compute_reconstruction_loss(data, reconstruction):\n",
    "    # Compute reconstruction loss for the input data and its\n",
    "    # corresponding reconstruction.\n",
    "    \n",
    "    '''\n",
    "    recon_loss = tf.reduce_mean(\n",
    "        input_tensor = tf.keras.losses.mean_squared_error(y_true = x, y_pred = x_recon)\n",
    "    )\n",
    "    '''\n",
    "    \n",
    "    recon_loss = tf.keras.losses.mean_squared_error(K.flatten(data), K.flatten(reconstruction))\n",
    "    # recon_loss = tf.keras.losses.mean_squared_error(y_true = K.flatten(data), y_pred = K.flatten(reconstruction))\n",
    "    # OR-\n",
    "    # tf.keras.losses.mean_squared_error(tf.reshape(x, [-1]), tf.reshape(x_recon, [-1]))\n",
    "    recon_loss *= 28 * 28\n",
    "    \n",
    "    return recon_loss"
   ]
  },
  {
   "cell_type": "markdown",
   "id": "1f0939a7-0acd-4594-b7fb-9c4ad8f73cdb",
   "metadata": {},
   "source": [
    "#### NOTE:\n",
    "\n",
    "If you change the ```recon_loss``` as follows:\n",
    "\n",
    "```\n",
    "recon_loss = tf.reduce_mean(\n",
    "    input_tensor = tf.keras.losses.mean_squared_error(y_true = x, y_pred = x_recon)\n",
    ")\n",
    "```\n",
    "\n",
    "then _KL-divergence_ loss for some reason becomes 0! Why?"
   ]
  },
  {
   "cell_type": "code",
   "execution_count": 33,
   "id": "ab2e2fef-06bc-4d6f-bead-75c6e9606053",
   "metadata": {},
   "outputs": [],
   "source": [
    "def compute_kl_divergence_loss(mu, log_var):\n",
    "    # Compute KL-divergence loss with mean & log-variance of\n",
    "    # latent space distribution.\n",
    "    # kl_loss = -0.5 * (1 + log_var - tf.square(mu) - tf.exp(log_var))\n",
    "    kl_loss = -0.5 * (1 + log_var - K.square(mu) - K.exp(log_var))\n",
    "    \n",
    "    # kl_loss.shape\n",
    "    # TensorShape([None, 3])\n",
    "    \n",
    "    # Compute sum for all latent variables or dimensions-\n",
    "    # tf.reduce_sum(input_tensor=kl_loss, axis=1).shape\n",
    "    # TensorShape([batch_size])\n",
    "    \n",
    "    \n",
    "    kl_loss = tf.reduce_mean(\n",
    "        input_tensor = tf.reduce_sum(\n",
    "            input_tensor = kl_loss,\n",
    "            axis = 1),\n",
    "        axis = None\n",
    "        )\n",
    "    \n",
    "    return kl_loss\n"
   ]
  },
  {
   "cell_type": "code",
   "execution_count": 34,
   "id": "e742d714-6c81-4faf-8205-3fe8b364a3e6",
   "metadata": {},
   "outputs": [],
   "source": [
    "def compute_loss(data, reconstruction, mu, log_var, alpha = 1):\n",
    "    # Compute total loss for a VAE consisting of - reconstruction loss &\n",
    "    # KL-divergence loss.\n",
    "    recon_loss = compute_reconstruction_loss(data = data, reconstruction = reconstruction)\n",
    "    kl_loss = compute_kl_divergence_loss(mu=mu, log_var=log_var)\n",
    "    \n",
    "    total_loss = (alpha * recon_loss) + kl_loss\n",
    "    \n",
    "    return total_loss, recon_loss, kl_loss\n"
   ]
  },
  {
   "cell_type": "code",
   "execution_count": null,
   "id": "8e7fbf4d-e621-49c0-a24d-8ef2658059ad",
   "metadata": {},
   "outputs": [],
   "source": [
    "'''\n",
    "# Sanity check-\n",
    "total_loss, recon_loss, kl_loss = compute_loss(\n",
    "    data = x, reconstruction = x_recon,\n",
    "    mu = mu, log_var = log_var,\n",
    "    alpha = 1\n",
    ")\n",
    "'''"
   ]
  },
  {
   "cell_type": "code",
   "execution_count": null,
   "id": "a2228241-d376-4f31-9c62-7bd212f5c49c",
   "metadata": {},
   "outputs": [],
   "source": [
    "'''\n",
    "print(f\"Total loss = {total_loss.numpy():.4f}, Reconstruction loss = {recon_loss.numpy():.4f} &\"\n",
    "    f\" KL-divergence loss = {kl_loss.numpy():.4f}\"\n",
    ")\n",
    "'''\n",
    "# Total loss = 182.1384, Reconstruction loss = 182.0477 & KL-divergence loss = 0.0907"
   ]
  },
  {
   "cell_type": "code",
   "execution_count": null,
   "id": "5e5010aa-db38-4601-b17e-71f5715ed6a9",
   "metadata": {},
   "outputs": [],
   "source": []
  },
  {
   "cell_type": "code",
   "execution_count": null,
   "id": "4a81b141-6331-4d1b-90ee-5cc11b51c3ef",
   "metadata": {},
   "outputs": [],
   "source": []
  },
  {
   "cell_type": "code",
   "execution_count": 35,
   "id": "1b7c9db6-7406-4979-891c-ec48477f99aa",
   "metadata": {
    "id": "mqFh7aRmVze3"
   },
   "outputs": [],
   "source": [
    "@tf.function\n",
    "def train_one_step(model, optimizer, data, alpha):\n",
    "    # Function to perform one step/iteration of training\n",
    "\n",
    "    with tf.GradientTape() as tape:\n",
    "        # Make predictions using defined model-\n",
    "        data_recon, mu, log_var = model(data)\n",
    "\n",
    "        # Compute loss-\n",
    "        total_loss, recon_loss, kl_loss = compute_loss(\n",
    "            data = data, reconstruction = data_recon,\n",
    "            mu = mu, log_var = log_var,\n",
    "            alpha = alpha\n",
    "        )\n",
    "    \n",
    "    # Compute gradients wrt defined loss and weights and biases-\n",
    "    grads = tape.gradient(total_loss, model.trainable_variables)\n",
    "    \n",
    "    # type(grads), len(grads)\n",
    "    # (list, 20)\n",
    "    \n",
    "    # Apply computed gradients to model's weights and biases-\n",
    "    optimizer.apply_gradients(zip(grads, model.trainable_variables))\n",
    "    \n",
    "    return total_loss, recon_loss, kl_loss\n"
   ]
  },
  {
   "cell_type": "code",
   "execution_count": 36,
   "id": "f9ba96db-16ea-4a5f-afa2-3be84a9c4ec1",
   "metadata": {
    "id": "8wQ-GmThVze3"
   },
   "outputs": [],
   "source": [
    "@tf.function\n",
    "def test_step(model, optimizer, data, alpha):\n",
    "    '''\n",
    "    Function to test model performance\n",
    "    on testing dataset\n",
    "    '''\n",
    "    # Make predictions using defined model-\n",
    "    data_recon, mu, log_var = model(data)\n",
    "    \n",
    "    # Compute loss-\n",
    "    total_loss, recon_loss, kl_loss = compute_loss(\n",
    "        data = data, reconstruction = data_recon,\n",
    "        mu = mu, log_var = log_var,\n",
    "        alpha = alpha\n",
    "    )\n",
    "    \n",
    "    return total_loss, recon_loss, kl_loss\n"
   ]
  },
  {
   "cell_type": "code",
   "execution_count": null,
   "id": "05a4af3e-40ba-4b8e-b779-783ad597e0ae",
   "metadata": {
    "id": "UuvJRTCzVze4"
   },
   "outputs": [],
   "source": [
    "'''\n",
    "total_loss = train_one_step(\n",
    "    model = model, optimizer = optimizer,\n",
    "    data = X, alpha = 1\n",
    ")\n",
    "'''"
   ]
  },
  {
   "cell_type": "code",
   "execution_count": null,
   "id": "2579bf5b-3230-4213-ae3d-98f54060c875",
   "metadata": {
    "id": "wDWJAVVsVze4"
   },
   "outputs": [],
   "source": [
    "# total_loss\n",
    "# <tf.Tensor: shape=(), dtype=float32, numpy=0.23313756>"
   ]
  },
  {
   "cell_type": "code",
   "execution_count": null,
   "id": "5f1b0719-ab10-45f4-921b-07b6f5721660",
   "metadata": {
    "id": "bvee16hKVze4"
   },
   "outputs": [],
   "source": []
  },
  {
   "cell_type": "code",
   "execution_count": null,
   "id": "f0fc4837-1b23-45f5-bbb4-2a98bfb7bb5b",
   "metadata": {},
   "outputs": [],
   "source": []
  },
  {
   "cell_type": "code",
   "execution_count": 37,
   "id": "a9b15740-c93c-4c68-a649-2557a280bd26",
   "metadata": {},
   "outputs": [
    {
     "name": "stdout",
     "output_type": "stream",
     "text": [
      "Train VAE model for 30 epochs\n"
     ]
    }
   ],
   "source": [
    "print(f\"Train VAE model for {num_epochs} epochs\")"
   ]
  },
  {
   "cell_type": "code",
   "execution_count": null,
   "id": "8daf8c01-8c52-484e-a711-1e293aad0422",
   "metadata": {},
   "outputs": [],
   "source": []
  },
  {
   "cell_type": "code",
   "execution_count": null,
   "id": "3142a9bc-8ae7-4ff0-a0cb-43621a586805",
   "metadata": {},
   "outputs": [],
   "source": []
  },
  {
   "cell_type": "code",
   "execution_count": 38,
   "id": "a9239f43-4f33-4f5c-82bc-a8f964f7cd8c",
   "metadata": {
    "id": "YEdbEGw4ZwAd"
   },
   "outputs": [],
   "source": [
    "# Python3 dict to contain training metrics-\n",
    "training_metrics = {}\n",
    "val_metrics = {}"
   ]
  },
  {
   "cell_type": "code",
   "execution_count": 39,
   "id": "a8102aa6-a9fc-4a7d-871c-f2cec95765a8",
   "metadata": {
    "id": "ijfWUXEBVze5"
   },
   "outputs": [],
   "source": [
    "# Specify hyper-parameter for reconstruction loss vs. kl-divergence\n",
    "# trade-off-\n",
    "alpha = 1"
   ]
  },
  {
   "cell_type": "code",
   "execution_count": null,
   "id": "0ea77d81-391e-4594-9c37-64efdb692ba4",
   "metadata": {
    "id": "vMy_55q9aESs"
   },
   "outputs": [],
   "source": []
  },
  {
   "cell_type": "code",
   "execution_count": 40,
   "id": "700b59d6-5de3-4105-9065-1606feda5613",
   "metadata": {
    "colab": {
     "base_uri": "https://localhost:8080/"
    },
    "id": "9VVkC8qPVze5",
    "outputId": "53089c5f-f2cb-4029-bacc-d637acbec688"
   },
   "outputs": [
    {
     "name": "stdout",
     "output_type": "stream",
     "text": [
      "epoch = 1; total train loss = 66334.6239, train recon loss = 62936.0735, train kl loss = 3398.5503; total val loss = 8381.8197, val recon loss = 8271.0411 & val kl loss = 110.7786\n",
      "epoch = 2; total train loss = 48738.3713, train recon loss = 47776.4577, train kl loss = 961.9137; total val loss = 7957.5331, val recon loss = 7767.7424 & val kl loss = 189.7907\n",
      "epoch = 3; total train loss = 47120.0778, train recon loss = 45889.8416, train kl loss = 1230.2362; total val loss = 7821.6356, val recon loss = 7609.4861 & val kl loss = 212.1495\n",
      "epoch = 4; total train loss = 46346.2629, train recon loss = 44922.3937, train kl loss = 1423.8692; total val loss = 7691.7140, val recon loss = 7426.1005 & val kl loss = 265.6135\n",
      "epoch = 5; total train loss = 45629.2898, train recon loss = 43931.3384, train kl loss = 1697.9514; total val loss = 7545.0150, val recon loss = 7193.8850 & val kl loss = 351.1300\n",
      "epoch = 6; total train loss = 44552.9951, train recon loss = 42357.2493, train kl loss = 2195.7458; total val loss = 7371.5352, val recon loss = 6999.3324 & val kl loss = 372.2028\n",
      "epoch = 7; total train loss = 43925.9610, train recon loss = 41696.6807, train kl loss = 2229.2804; total val loss = 7290.0150, val recon loss = 6902.3611 & val kl loss = 387.6539\n",
      "epoch = 8; total train loss = 43585.8957, train recon loss = 41276.9346, train kl loss = 2308.9611; total val loss = 7238.4636, val recon loss = 6834.5042 & val kl loss = 403.9594\n",
      "epoch = 9; total train loss = 43265.5216, train recon loss = 40881.0612, train kl loss = 2384.4605; total val loss = 7187.3735, val recon loss = 6780.1817 & val kl loss = 407.1918\n",
      "epoch = 10; total train loss = 42918.7529, train recon loss = 40460.7770, train kl loss = 2457.9759; total val loss = 7114.5346, val recon loss = 6700.9134 & val kl loss = 413.6212\n",
      "epoch = 11; total train loss = 42504.4468, train recon loss = 39934.3655, train kl loss = 2570.0813; total val loss = 7053.6385, val recon loss = 6603.8133 & val kl loss = 449.8251\n",
      "epoch = 12; total train loss = 42066.2598, train recon loss = 39360.4844, train kl loss = 2705.7754; total val loss = 6980.0786, val recon loss = 6519.0921 & val kl loss = 460.9865\n",
      "epoch = 13; total train loss = 41675.4274, train recon loss = 38864.9197, train kl loss = 2810.5077; total val loss = 6920.7347, val recon loss = 6452.0708 & val kl loss = 468.6640\n",
      "epoch = 14; total train loss = 41324.1173, train recon loss = 38407.1345, train kl loss = 2916.9828; total val loss = 6864.4043, val recon loss = 6368.2276 & val kl loss = 496.1767\n",
      "epoch = 15; total train loss = 41000.5161, train recon loss = 37996.1061, train kl loss = 3004.4100; total val loss = 6809.7974, val recon loss = 6290.5144 & val kl loss = 519.2829\n",
      "epoch = 16; total train loss = 40667.6764, train recon loss = 37612.0258, train kl loss = 3055.6507; total val loss = 6760.2132, val recon loss = 6250.9659 & val kl loss = 509.2473\n",
      "epoch = 17; total train loss = 40407.5053, train recon loss = 37295.3869, train kl loss = 3112.1184; total val loss = 6716.9796, val recon loss = 6189.3306 & val kl loss = 527.6491\n",
      "epoch = 18; total train loss = 40174.5193, train recon loss = 37012.3481, train kl loss = 3162.1712; total val loss = 6682.3497, val recon loss = 6153.3759 & val kl loss = 528.9737\n",
      "epoch = 19; total train loss = 39950.5986, train recon loss = 36758.6578, train kl loss = 3191.9408; total val loss = 6645.9355, val recon loss = 6110.5887 & val kl loss = 535.3468\n",
      "epoch = 20; total train loss = 39765.1410, train recon loss = 36532.9547, train kl loss = 3232.1863; total val loss = 6625.6093, val recon loss = 6075.0172 & val kl loss = 550.5922\n",
      "epoch = 21; total train loss = 39565.3091, train recon loss = 36306.1952, train kl loss = 3259.1139; total val loss = 6574.1853, val recon loss = 6019.9575 & val kl loss = 554.2278\n",
      "epoch = 22; total train loss = 39373.0757, train recon loss = 36085.9651, train kl loss = 3287.1106; total val loss = 6552.3569, val recon loss = 5993.9331 & val kl loss = 558.4238\n",
      "epoch = 23; total train loss = 39199.5639, train recon loss = 35878.1007, train kl loss = 3321.4633; total val loss = 6521.8460, val recon loss = 5965.3653 & val kl loss = 556.4807\n",
      "epoch = 24; total train loss = 39026.2037, train recon loss = 35665.5532, train kl loss = 3360.6504; total val loss = 6490.6432, val recon loss = 5928.7542 & val kl loss = 561.8890\n",
      "epoch = 25; total train loss = 38873.1891, train recon loss = 35481.1140, train kl loss = 3392.0752; total val loss = 6465.6675, val recon loss = 5893.4964 & val kl loss = 572.1712\n",
      "epoch = 26; total train loss = 38725.2131, train recon loss = 35300.2717, train kl loss = 3424.9414; total val loss = 6451.7979, val recon loss = 5879.2093 & val kl loss = 572.5887\n",
      "epoch = 27; total train loss = 38577.2620, train recon loss = 35122.8325, train kl loss = 3454.4295; total val loss = 6436.3734, val recon loss = 5861.6140 & val kl loss = 574.7594\n",
      "epoch = 28; total train loss = 38434.7606, train recon loss = 34955.1762, train kl loss = 3479.5844; total val loss = 6411.3541, val recon loss = 5830.3066 & val kl loss = 581.0475\n",
      "epoch = 29; total train loss = 38307.8512, train recon loss = 34802.0618, train kl loss = 3505.7894; total val loss = 6389.8885, val recon loss = 5806.7414 & val kl loss = 583.1471\n",
      "epoch = 30; total train loss = 38192.7399, train recon loss = 34647.8370, train kl loss = 3544.9028; total val loss = 6366.1259, val recon loss = 5761.8315 & val kl loss = 604.2944\n"
     ]
    }
   ],
   "source": [
    "for epoch in range(1, num_epochs + 1):\n",
    "    \n",
    "    # Epoch train & validation losses-\n",
    "    train_loss = 0.0\n",
    "    train_r_loss = 0.0\n",
    "    train_kl_l = 0.0\n",
    "    val_loss = 0.0\n",
    "    val_r_loss = 0.0\n",
    "    val_kl_l = 0.0\n",
    "    \n",
    "    for data in train_dataset:\n",
    "        train_total_loss, train_recon_loss, train_kl_loss = train_one_step(\n",
    "            model = model, optimizer = optimizer,\n",
    "            data = data, alpha = alpha\n",
    "        )\n",
    "        \n",
    "        train_loss += train_total_loss.numpy()\n",
    "        train_r_loss += train_recon_loss.numpy()\n",
    "        train_kl_l += train_kl_loss.numpy()\n",
    "    \n",
    "    for test_data in test_dataset:\n",
    "        test_total_loss, test_recon_loss, test_kl_loss = test_step(\n",
    "            model = model, optimizer = optimizer,\n",
    "            data = test_data, alpha = alpha)\n",
    "        \n",
    "        val_loss += test_total_loss.numpy()\n",
    "        val_r_loss += test_recon_loss.numpy()\n",
    "        val_kl_l += test_kl_loss.numpy()\n",
    "    \n",
    "    # vae_train_loss.append(train_loss)\n",
    "    # vae_val_loss.append(val_loss)\n",
    "\n",
    "    training_metrics[epoch] = {\n",
    "        'total_loss': train_loss, 'recon_loss': train_r_loss,\n",
    "        'kl_loss': train_kl_l\n",
    "        }\n",
    "    \n",
    "    val_metrics[epoch] = {\n",
    "        'total_loss': val_loss, 'recon_loss': val_r_loss,\n",
    "        'kl_loss': val_kl_l\n",
    "    }\n",
    "\n",
    "    print(f\"epoch = {epoch}; total train loss = {train_loss:.4f},\"\n",
    "    f\" train recon loss = {train_r_loss:.4f}, train kl loss = {train_kl_l:.4f};\"\n",
    "    f\" total val loss = {val_loss:.4f}, val recon loss = {val_r_loss:.4f} &\"\n",
    "    f\" val kl loss = {val_kl_l:.4f}\"\n",
    "    )\n",
    "    "
   ]
  },
  {
   "cell_type": "code",
   "execution_count": null,
   "id": "942a9219-0b44-433b-ad59-2003fcd81185",
   "metadata": {},
   "outputs": [],
   "source": []
  },
  {
   "cell_type": "code",
   "execution_count": null,
   "id": "dc19f56c-e3c5-488b-a30b-629db2a96e96",
   "metadata": {},
   "outputs": [],
   "source": []
  },
  {
   "cell_type": "code",
   "execution_count": 67,
   "id": "a4829418-6712-447e-8f05-6a6bd9808a17",
   "metadata": {
    "id": "R7XranATfV7y"
   },
   "outputs": [],
   "source": [
    "# Save trained model-\n",
    "model.save_weights(\"VAE_MNIST_LeNet300_trained.h5\", overwrite = True)"
   ]
  },
  {
   "cell_type": "code",
   "execution_count": null,
   "id": "fe87c6db-9bfe-48af-a29d-cc30cc9e9540",
   "metadata": {
    "id": "wLGj8VlZfamX"
   },
   "outputs": [],
   "source": []
  },
  {
   "cell_type": "code",
   "execution_count": null,
   "id": "8afa44fd-e47c-4fa3-b459-673fbf2f6176",
   "metadata": {
    "id": "TWVLuGRefaqB"
   },
   "outputs": [],
   "source": []
  },
  {
   "cell_type": "markdown",
   "id": "e751d0d4-4b7e-4a51-8fa4-c474c5900e48",
   "metadata": {
    "id": "Zi_6ZtzKfR2L"
   },
   "source": [
    "### Visualize training metrics"
   ]
  },
  {
   "cell_type": "code",
   "execution_count": 41,
   "id": "6f64a7fd-5572-48cf-a35a-048be4bf4850",
   "metadata": {
    "colab": {
     "base_uri": "https://localhost:8080/",
     "height": 458
    },
    "id": "Bc8ltdTEbsC7",
    "outputId": "040fb8e0-20c8-43ac-ab63-91558eb83f6f"
   },
   "outputs": [
    {
     "data": {
      "image/png": "[encoded data removed]",
      "text/plain": [
       "<Figure size 648x504 with 1 Axes>"
      ]
     },
     "metadata": {
      "needs_background": "light"
     },
     "output_type": "display_data"
    }
   ],
   "source": [
    "plt.figure(figsize = (9, 7))\n",
    "plt.plot([training_metrics[e]['total_loss'] for e in training_metrics.keys()], label = 'train total loss')\n",
    "plt.legend(loc = 'best')\n",
    "plt.xlabel(\"epochs\")\n",
    "plt.title(\"VAE: Training Visualization - Total Training Loss\")\n",
    "plt.show()"
   ]
  },
  {
   "cell_type": "code",
   "execution_count": 42,
   "id": "ef0e28e9-16cb-4403-a1f4-da275f2a4809",
   "metadata": {
    "colab": {
     "base_uri": "https://localhost:8080/",
     "height": 458
    },
    "id": "v-bl7zWRdjLT",
    "outputId": "9809d8ad-b1c6-4683-f5b2-f59da6fda21f"
   },
   "outputs": [
    {
     "data": {
      "image/png": "[encoded data removed]",
      "text/plain": [
       "<Figure size 648x504 with 1 Axes>"
      ]
     },
     "metadata": {
      "needs_background": "light"
     },
     "output_type": "display_data"
    }
   ],
   "source": [
    "plt.figure(figsize = (9, 7))\n",
    "plt.plot([val_metrics[e]['total_loss'] for e in val_metrics.keys()], label = 'val total loss')\n",
    "plt.legend(loc = 'best')\n",
    "plt.xlabel(\"epochs\")\n",
    "plt.title(\"VAE: Training Visualization - Total Validation Loss\")\n",
    "plt.show()"
   ]
  },
  {
   "cell_type": "code",
   "execution_count": 43,
   "id": "930eb55a-4ced-4f67-93ae-49b5cda1b9e7",
   "metadata": {
    "colab": {
     "base_uri": "https://localhost:8080/",
     "height": 458
    },
    "id": "TjkFW_Vwd0A6",
    "outputId": "5193160b-f62e-443e-c739-0397bbf1669d"
   },
   "outputs": [
    {
     "data": {
      "image/png": "[encoded data removed]",
      "text/plain": [
       "<Figure size 648x504 with 1 Axes>"
      ]
     },
     "metadata": {
      "needs_background": "light"
     },
     "output_type": "display_data"
    }
   ],
   "source": [
    "plt.figure(figsize = (9, 7))\n",
    "plt.plot([training_metrics[e]['recon_loss'] for e in training_metrics.keys()], label = 'train recon loss')\n",
    "plt.legend(loc = 'best')\n",
    "plt.xlabel(\"epochs\")\n",
    "plt.title(\"VAE: Training Visualization - Reconstruction Loss (training)\")\n",
    "plt.show()"
   ]
  },
  {
   "cell_type": "code",
   "execution_count": 44,
   "id": "764bf41e-9f97-4bf3-9ab5-408021230c8e",
   "metadata": {
    "colab": {
     "base_uri": "https://localhost:8080/",
     "height": 458
    },
    "id": "f6b0MxLsd5YC",
    "outputId": "6b9d6223-08ae-4cf6-d942-f2b5c4d69c2d"
   },
   "outputs": [
    {
     "data": {
      "image/png": "[encoded data removed]",
      "text/plain": [
       "<Figure size 648x504 with 1 Axes>"
      ]
     },
     "metadata": {
      "needs_background": "light"
     },
     "output_type": "display_data"
    }
   ],
   "source": [
    "plt.figure(figsize = (9, 7))\n",
    "plt.plot([val_metrics[e]['recon_loss'] for e in val_metrics.keys()], label = 'val recon loss')\n",
    "plt.legend(loc = 'best')\n",
    "plt.xlabel(\"epochs\")\n",
    "plt.title(\"VAE: Training Visualization - Reconstruction Loss (validation)\")\n",
    "plt.show()"
   ]
  },
  {
   "cell_type": "code",
   "execution_count": 45,
   "id": "ac535554-d554-4aff-94cc-6c400a95ace3",
   "metadata": {
    "colab": {
     "base_uri": "https://localhost:8080/",
     "height": 458
    },
    "id": "XHNued-Gd-Ke",
    "outputId": "1201ea7c-08f0-415e-e052-d3435aa899d5"
   },
   "outputs": [
    {
     "data": {
      "image/png": "[encoded data removed]",
      "text/plain": [
       "<Figure size 648x504 with 1 Axes>"
      ]
     },
     "metadata": {
      "needs_background": "light"
     },
     "output_type": "display_data"
    }
   ],
   "source": [
    "plt.figure(figsize = (9, 7))\n",
    "plt.plot([training_metrics[e]['kl_loss'] for e in training_metrics.keys()], label = 'train KL-div loss')\n",
    "plt.legend(loc = 'best')\n",
    "plt.xlabel(\"epochs\")\n",
    "plt.title(\"VAE: Training Visualization - KL-div Loss (training)\")\n",
    "plt.show()"
   ]
  },
  {
   "cell_type": "code",
   "execution_count": 46,
   "id": "bacd5377-cdb0-4a97-9974-6c50c88bd955",
   "metadata": {
    "colab": {
     "base_uri": "https://localhost:8080/",
     "height": 458
    },
    "id": "QL4_P35FeEi_",
    "outputId": "47e9b357-c0ab-4168-9926-681eefb39fa5"
   },
   "outputs": [
    {
     "data": {
      "image/png": "[encoded data removed]",
      "text/plain": [
       "<Figure size 648x504 with 1 Axes>"
      ]
     },
     "metadata": {
      "needs_background": "light"
     },
     "output_type": "display_data"
    }
   ],
   "source": [
    "plt.figure(figsize = (9, 7))\n",
    "plt.plot([val_metrics[e]['kl_loss'] for e in val_metrics.keys()], label = 'val KL-div loss')\n",
    "plt.legend(loc = 'best')\n",
    "plt.xlabel(\"epochs\")\n",
    "plt.title(\"VAE: Training Visualization - KL-div Loss (validation)\")\n",
    "plt.show()"
   ]
  },
  {
   "cell_type": "code",
   "execution_count": null,
   "id": "aae622a3-3650-445e-92d3-0fb4963d877c",
   "metadata": {
    "id": "JGqzGa0UeJi3"
   },
   "outputs": [],
   "source": []
  },
  {
   "cell_type": "code",
   "execution_count": null,
   "id": "d2a43f6a-ea30-4506-8c20-915700c4a8da",
   "metadata": {
    "id": "nbn8zLwMXBSs"
   },
   "outputs": [],
   "source": []
  },
  {
   "cell_type": "markdown",
   "id": "f7a5f7cf-6e10-4350-af6c-48f6c3da984a",
   "metadata": {
    "id": "gbj3vB2KeoWV"
   },
   "source": [
    "### Visualize _reconstructions_ using trained VAE model"
   ]
  },
  {
   "cell_type": "code",
   "execution_count": 47,
   "id": "ca4209e3-8e9d-47a5-9c21-ebdcf59b4d1b",
   "metadata": {
    "id": "ttDuYMZTXqmX"
   },
   "outputs": [],
   "source": [
    "# Get reconstructions, mean & log-variance from trained model-\n",
    "X_train_reconstruced, mu, log_var = model(X_train[:5000, :])"
   ]
  },
  {
   "cell_type": "code",
   "execution_count": 48,
   "id": "1f3dabfe-6f73-4490-8b2f-cd34ab6fe1d7",
   "metadata": {
    "colab": {
     "base_uri": "https://localhost:8080/"
    },
    "id": "_5dxnX4oYN3Z",
    "outputId": "494e9e7c-1742-46c0-c3ca-86243be1a244"
   },
   "outputs": [
    {
     "data": {
      "text/plain": [
       "((5000, 784), TensorShape([5000, 784]))"
      ]
     },
     "execution_count": 48,
     "metadata": {},
     "output_type": "execute_result"
    }
   ],
   "source": [
    "# Sanity check-\n",
    "X_train[:5000, :].shape, X_train_reconstruced.shape"
   ]
  },
  {
   "cell_type": "code",
   "execution_count": 49,
   "id": "d770f1ce-b8d8-4266-8361-08e9dc51f143",
   "metadata": {
    "id": "MFwdbrruVoJs"
   },
   "outputs": [],
   "source": [
    "# Reshape for visualization-\n",
    "X_train_reconstruced = tf.reshape(\n",
    "    tensor = X_train_reconstruced,\n",
    "    shape = ((X_train_reconstruced.shape[0], 28, 28)),\n",
    "    name = None\n",
    "    )"
   ]
  },
  {
   "cell_type": "code",
   "execution_count": 50,
   "id": "3ec0f618-e1a9-4485-86e3-13569eb67465",
   "metadata": {
    "colab": {
     "base_uri": "https://localhost:8080/"
    },
    "id": "quD3eRxBZAYn",
    "outputId": "8631629a-9068-428c-f98a-20609a29e4f0"
   },
   "outputs": [
    {
     "data": {
      "text/plain": [
       "(5000, 28, 28)"
      ]
     },
     "execution_count": 50,
     "metadata": {},
     "output_type": "execute_result"
    }
   ],
   "source": [
    "# Sanity check-\n",
    "X_train_reconstruced.numpy().shape"
   ]
  },
  {
   "cell_type": "code",
   "execution_count": null,
   "id": "277f5ce7-d053-4dd3-bc2f-be13f2ff4c4e",
   "metadata": {
    "id": "Aq3mf5ODYRIV"
   },
   "outputs": [],
   "source": []
  },
  {
   "cell_type": "code",
   "execution_count": 51,
   "id": "0972a23b-f70d-46aa-b0e4-6ccaf3f76165",
   "metadata": {
    "colab": {
     "base_uri": "https://localhost:8080/",
     "height": 265
    },
    "id": "Q6EoeQHpYqob",
    "outputId": "9c3d5b9b-0737-407d-cc41-f9f6bdf35276"
   },
   "outputs": [
    {
     "data": {
      "image/png": "[encoded data removed]",
      "text/plain": [
       "<Figure size 432x360 with 1 Axes>"
      ]
     },
     "metadata": {
      "needs_background": "light"
     },
     "output_type": "display_data"
    }
   ],
   "source": [
    "# Visualize a single digit-\n",
    "plt.figure(figsize = (6, 5))\n",
    "plt.imshow(X_train_reconstruced[0], cmap = plt.get_cmap('gray'))\n",
    "plt.show()"
   ]
  },
  {
   "cell_type": "code",
   "execution_count": 52,
   "id": "89e65e63-62fc-4f8f-bc75-3b07730ffefb",
   "metadata": {
    "colab": {
     "base_uri": "https://localhost:8080/",
     "height": 479
    },
    "id": "MqgovHByaI-7",
    "outputId": "e975ccb9-af39-432f-da77-bd0ba0d9c33a"
   },
   "outputs": [
    {
     "data": {
      "image/png": "[encoded data removed]",
      "text/plain": [
       "<Figure size 648x504 with 50 Axes>"
      ]
     },
     "metadata": {
      "needs_background": "light"
     },
     "output_type": "display_data"
    }
   ],
   "source": [
    "# Visualize some of the reconstruced images-\n",
    "plt.figure(figsize = (9, 7))\n",
    "for i in range(50):\n",
    "    # 5 rows & 10 columns-\n",
    "    plt.subplot(5, 10, i + 1)\n",
    "    plt.imshow(X_train_reconstruced[i], cmap = plt.get_cmap('gray'))\n",
    "    \n",
    "plt.suptitle(\"MNIST Reconstructed images\")\n",
    "plt.show()"
   ]
  },
  {
   "cell_type": "code",
   "execution_count": null,
   "id": "e2920827-76e4-4959-94b8-65314e6e6354",
   "metadata": {
    "id": "TLzWku6tZTsp"
   },
   "outputs": [],
   "source": []
  },
  {
   "cell_type": "code",
   "execution_count": null,
   "id": "7da0dc8a-1bcf-4f13-9f03-e1fb32da7e2a",
   "metadata": {
    "id": "f1kr_C9tXSk_"
   },
   "outputs": [],
   "source": []
  },
  {
   "cell_type": "markdown",
   "id": "3b847ca1-8937-4dcb-b2f7-013fe69e346c",
   "metadata": {
    "id": "yPYPgw1RXTRD"
   },
   "source": [
    "#### Check _mu_ and _log_var_ latent space vectors:"
   ]
  },
  {
   "cell_type": "code",
   "execution_count": 53,
   "id": "d212d444-9eaa-40ff-9b86-e1652743fed4",
   "metadata": {
    "colab": {
     "base_uri": "https://localhost:8080/"
    },
    "id": "GciIbyxXWwv5",
    "outputId": "4007e613-9d13-4105-dda2-f58639492834"
   },
   "outputs": [
    {
     "data": {
      "text/plain": [
       "(TensorShape([5000, 3]), TensorShape([5000, 3]))"
      ]
     },
     "execution_count": 53,
     "metadata": {},
     "output_type": "execute_result"
    }
   ],
   "source": [
    "mu.shape, log_var.shape"
   ]
  },
  {
   "cell_type": "code",
   "execution_count": 54,
   "id": "9e90b253-c20a-4f15-b16c-4eee5ffae478",
   "metadata": {
    "colab": {
     "base_uri": "https://localhost:8080/"
    },
    "id": "O5ACoPPsWyDm",
    "outputId": "64b69067-cebf-46e9-8cbb-6490cc69fdba"
   },
   "outputs": [
    {
     "name": "stdout",
     "output_type": "stream",
     "text": [
      "mu: mean = -0.0731 & std dev = 0.7791\n"
     ]
    }
   ],
   "source": [
    "print(f\"mu: mean = {mu.numpy().mean():.4f} & \"\n",
    "f\"std dev = {mu.numpy().std():.4f}\")"
   ]
  },
  {
   "cell_type": "code",
   "execution_count": 55,
   "id": "745d5b8c-5f51-4645-b78d-9ad12be07f70",
   "metadata": {
    "colab": {
     "base_uri": "https://localhost:8080/"
    },
    "id": "FbZMDaRQW1Gc",
    "outputId": "b50c1431-cd65-4a61-bec3-e9612943e7e3"
   },
   "outputs": [
    {
     "name": "stdout",
     "output_type": "stream",
     "text": [
      "log var: mean = -2.594016 & std dev = 1.8809\n"
     ]
    }
   ],
   "source": [
    "print(f\"log var: mean = {log_var.numpy().mean():4f} &\"\n",
    "f\" std dev = {log_var.numpy().std():.4f}\")"
   ]
  },
  {
   "cell_type": "code",
   "execution_count": null,
   "id": "f57cf220-60b9-416f-b345-2ab18fb2383c",
   "metadata": {
    "id": "4LvslCd3W47D"
   },
   "outputs": [],
   "source": []
  },
  {
   "cell_type": "code",
   "execution_count": null,
   "id": "62881435-09cf-4d33-81b8-832c2f05d587",
   "metadata": {
    "id": "qlTCcCNRYYgt"
   },
   "outputs": [],
   "source": []
  },
  {
   "cell_type": "markdown",
   "id": "f1ad005a-de2a-48bb-b434-ed0b8a9d6f78",
   "metadata": {
    "id": "hYVXoBi3fB0e"
   },
   "source": [
    "### Visualize _mean_ and _log-variance_ of _latent space_ using trained VAE model"
   ]
  },
  {
   "cell_type": "code",
   "execution_count": null,
   "id": "3e7be079-cd8a-425e-92e4-621384936a83",
   "metadata": {
    "colab": {
     "base_uri": "https://localhost:8080/",
     "height": 542
    },
    "id": "vDpThxLzeXsb",
    "outputId": "ba59dc77-57c7-4d0c-c8b5-6cb974c98e9c"
   },
   "outputs": [],
   "source": [
    "fig = px.scatter_3d(\n",
    "    x = mu[:, 0], y = mu[:, 1],\n",
    "    z = mu[:, 2],\n",
    "    color = y_train[:5000]\n",
    "    )\n",
    "fig.show()"
   ]
  },
  {
   "cell_type": "code",
   "execution_count": null,
   "id": "b774d255-ebcc-4903-b61c-05e471754347",
   "metadata": {
    "colab": {
     "base_uri": "https://localhost:8080/",
     "height": 542
    },
    "id": "PXQnwPlmebjm",
    "outputId": "447024b4-c14d-438d-eaff-e3f2f912807b"
   },
   "outputs": [],
   "source": [
    "fig = px.scatter_3d(\n",
    "    x = log_var[:, 0], y = log_var[:, 1],\n",
    "    z = log_var[:, 2],\n",
    "    color = y_train[:5000]\n",
    "    )\n",
    "fig.show()"
   ]
  },
  {
   "cell_type": "code",
   "execution_count": null,
   "id": "07961e59-597f-46fc-9ef4-68b606e6b2b6",
   "metadata": {
    "id": "yaT2dfiKYWFk"
   },
   "outputs": [],
   "source": []
  },
  {
   "cell_type": "code",
   "execution_count": 60,
   "id": "56eba48d-8778-465a-9474-83c9f5a58ed6",
   "metadata": {
    "id": "2VIIbXNWVze6"
   },
   "outputs": [],
   "source": [
    "# Delete variables to free GPU space-\n",
    "del X_train_reconstruced, mu, log_var"
   ]
  },
  {
   "cell_type": "code",
   "execution_count": null,
   "id": "3206bf8f-5dd7-4adb-81a7-cf44e7e1541a",
   "metadata": {},
   "outputs": [],
   "source": []
  },
  {
   "cell_type": "code",
   "execution_count": null,
   "id": "ff79a9c9-c9c9-46e8-b2be-94e03b8f9be2",
   "metadata": {},
   "outputs": [],
   "source": []
  },
  {
   "cell_type": "markdown",
   "id": "8f50c66e-855f-4121-baff-f212f2bcd7ab",
   "metadata": {
    "id": "a2iOkZrmfH6n"
   },
   "source": [
    "### Visualize _latent space_ of train & test datasets"
   ]
  },
  {
   "cell_type": "code",
   "execution_count": 61,
   "id": "a0d63172-f8b6-4f35-ac78-7749df8f6877",
   "metadata": {
    "id": "IQTc4PVHFDQs"
   },
   "outputs": [],
   "source": [
    "X_train_encoded = model.encoder(X_train[:5000])\n",
    "X_test_encoded = model.encoder(X_test[:5000])"
   ]
  },
  {
   "cell_type": "code",
   "execution_count": 62,
   "id": "71ef98e7-d4e6-4ce7-8538-f0dde4b696b9",
   "metadata": {
    "colab": {
     "base_uri": "https://localhost:8080/"
    },
    "id": "zqCV5MlHFOjX",
    "outputId": "796b5ca5-bc6f-428d-fb22-dc2dc05d0b03"
   },
   "outputs": [
    {
     "data": {
      "text/plain": [
       "((5000, 784), TensorShape([5000, 3]))"
      ]
     },
     "execution_count": 62,
     "metadata": {},
     "output_type": "execute_result"
    }
   ],
   "source": [
    "X_train[:5000].shape, X_train_encoded.shape"
   ]
  },
  {
   "cell_type": "code",
   "execution_count": 63,
   "id": "957c74e8-c015-455a-8bc2-977c1a8c04c3",
   "metadata": {
    "colab": {
     "base_uri": "https://localhost:8080/"
    },
    "id": "o4Scxef-FSJM",
    "outputId": "e9801df1-a593-4705-a9a4-dfb0a58f152a"
   },
   "outputs": [
    {
     "data": {
      "text/plain": [
       "((5000, 784), TensorShape([5000, 3]))"
      ]
     },
     "execution_count": 63,
     "metadata": {},
     "output_type": "execute_result"
    }
   ],
   "source": [
    "X_test[:5000].shape, X_test_encoded.shape"
   ]
  },
  {
   "cell_type": "code",
   "execution_count": null,
   "id": "2b399b86-5752-448e-8e95-d2574784da2c",
   "metadata": {
    "id": "UllamU_YFSvP"
   },
   "outputs": [],
   "source": []
  },
  {
   "cell_type": "code",
   "execution_count": null,
   "id": "0fc2b60c-3124-48e5-ab64-e3c03d1fabed",
   "metadata": {
    "id": "zYuYVTuuFQAp"
   },
   "outputs": [],
   "source": []
  },
  {
   "cell_type": "code",
   "execution_count": null,
   "id": "7736c210-3889-4300-a5c8-c70d2a4e6454",
   "metadata": {
    "colab": {
     "base_uri": "https://localhost:8080/",
     "height": 542
    },
    "id": "pMsHeggVVze6",
    "outputId": "b0ea7632-c122-4fda-f9a5-30ec3c46e72f"
   },
   "outputs": [],
   "source": [
    "fig = px.scatter_3d(\n",
    "    x = X_train_encoded[:, 0], y = X_train_encoded[:, 1],\n",
    "    z = X_train_encoded[:, 2],\n",
    "    color = y_train[:5000]\n",
    ")\n",
    "fig.show()"
   ]
  },
  {
   "cell_type": "code",
   "execution_count": null,
   "id": "d544458a-7b91-49dd-8042-c94becab6f86",
   "metadata": {
    "colab": {
     "base_uri": "https://localhost:8080/",
     "height": 542
    },
    "id": "uplwSAD3Vze6",
    "outputId": "8d0fab19-3646-4301-a069-222cd394b18d"
   },
   "outputs": [],
   "source": [
    "fig = px.scatter_3d(\n",
    "    x = X_test_encoded[:, 0], y = X_test_encoded[:, 1],\n",
    "    z = X_test_encoded[:, 2],\n",
    "    color = y_test[:5000]\n",
    ")\n",
    "fig.show()"
   ]
  },
  {
   "cell_type": "code",
   "execution_count": null,
   "id": "032e719f-0060-404f-af5a-53080a90260e",
   "metadata": {
    "id": "reseG4NdXbzo"
   },
   "outputs": [],
   "source": []
  },
  {
   "cell_type": "code",
   "execution_count": 66,
   "id": "2561f714-a487-40ef-af05-1fca24ddf741",
   "metadata": {
    "id": "akETILVPVze6"
   },
   "outputs": [],
   "source": [
    "del X_train_encoded, X_test_encoded"
   ]
  },
  {
   "cell_type": "code",
   "execution_count": null,
   "id": "7cfbab5b-c5c4-4e6d-8b76-5837fe71385c",
   "metadata": {
    "id": "T0zEhZw3Fbc9"
   },
   "outputs": [],
   "source": []
  },
  {
   "cell_type": "code",
   "execution_count": null,
   "id": "19fe7a1a-0b00-461a-94a7-fe2794a1d51e",
   "metadata": {
    "id": "huzZfpvKFbgf"
   },
   "outputs": [],
   "source": []
  }
 ],
 "metadata": {
  "kernelspec": {
   "display_name": "Python 3 (ipykernel)",
   "language": "python",
   "name": "python3"
  },
  "language_info": {
   "codemirror_mode": {
    "name": "ipython",
    "version": 3
   },
   "file_extension": ".py",
   "mimetype": "text/x-python",
   "name": "python",
   "nbconvert_exporter": "python",
   "pygments_lexer": "ipython3",
   "version": "3.9.7"
  }
 },
 "nbformat": 4,
 "nbformat_minor": 5
}
