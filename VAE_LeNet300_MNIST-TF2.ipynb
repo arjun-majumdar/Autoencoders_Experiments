{
 "cells": [
  {
   "cell_type": "markdown",
   "id": "c4e546ff-5d22-4e42-8de0-7b7b9a14d3f4",
   "metadata": {},
   "source": [
    "# Variational AutoEncoder - LeNet300 + MNIST + TF2"
   ]
  },
  {
   "cell_type": "code",
   "execution_count": 1,
   "id": "86e7c5ed-a657-497a-b92f-c9fd2de625e1",
   "metadata": {},
   "outputs": [
    {
     "name": "stdout",
     "output_type": "stream",
     "text": [
      "env: CUDA_DEVICE_ORDER=PCI_BUS_ID\n",
      "env: CUDA_VISIBLE_DEVICES=1\n"
     ]
    }
   ],
   "source": [
    "# Specify GPU to be used-\n",
    "%env CUDA_DEVICE_ORDER = PCI_BUS_ID\n",
    "%env CUDA_VISIBLE_DEVICES = 1"
   ]
  },
  {
   "cell_type": "code",
   "execution_count": null,
   "id": "26651a3a-8bc4-4925-8197-011eb9026b17",
   "metadata": {},
   "outputs": [],
   "source": []
  },
  {
   "cell_type": "code",
   "execution_count": 2,
   "id": "9862eeed-a61e-44e0-8ad4-867a7a976aa6",
   "metadata": {},
   "outputs": [],
   "source": [
    "import tensorflow\n",
    "from tensorflow import keras\n",
    "from tensorflow.keras import layers\n",
    "from tensorflow.keras.layers import Conv2D, Conv2DTranspose, Dense, Input, Flatten,\\\n",
    "Conv2DTranspose, BatchNormalization, LeakyReLU, Reshape\n",
    "from tensorflow.keras.models import Sequential, Model\n",
    "from tensorflow.keras.datasets import mnist\n",
    "import tensorflow.keras.backend as K\n",
    "import tensorflow as tf\n",
    "\n",
    "import numpy as np\n",
    "import matplotlib.pyplot as plt\n",
    "import plotly\n",
    "import plotly.express as px\n",
    "import pickle"
   ]
  },
  {
   "cell_type": "code",
   "execution_count": null,
   "id": "aaa79ddf-b1d1-4cda-9fcf-ca22f402d5a6",
   "metadata": {},
   "outputs": [],
   "source": []
  },
  {
   "cell_type": "code",
   "execution_count": null,
   "id": "c2f20223-c6c2-4685-a890-1681ac1725a6",
   "metadata": {},
   "outputs": [],
   "source": []
  },
  {
   "cell_type": "code",
   "execution_count": 3,
   "id": "6edeacbb-842b-40b6-9ee4-e23e141c8ea9",
   "metadata": {},
   "outputs": [
    {
     "name": "stdout",
     "output_type": "stream",
     "text": [
      "TensorFlow version: 2.8.0\n"
     ]
    }
   ],
   "source": [
    "print(f\"TensorFlow version: {tf.__version__}\")"
   ]
  },
  {
   "cell_type": "code",
   "execution_count": 4,
   "id": "0c2f32cc-bf23-402c-a785-86cbf1875786",
   "metadata": {},
   "outputs": [
    {
     "name": "stdout",
     "output_type": "stream",
     "text": [
      "number of GPUs available = 1\n",
      "GPU: [PhysicalDevice(name='/physical_device:GPU:0', device_type='GPU')]\n",
      "GPU details: NVIDIA GeForce RTX 3080\n"
     ]
    },
    {
     "name": "stderr",
     "output_type": "stream",
     "text": [
      "2022-03-15 16:01:58.917859: I tensorflow/stream_executor/cuda/cuda_gpu_executor.cc:936] successful NUMA node read from SysFS had negative value (-1), but there must be at least one NUMA node, so returning NUMA node zero\n",
      "2022-03-15 16:01:58.964665: I tensorflow/stream_executor/cuda/cuda_gpu_executor.cc:936] successful NUMA node read from SysFS had negative value (-1), but there must be at least one NUMA node, so returning NUMA node zero\n",
      "2022-03-15 16:01:58.964763: I tensorflow/stream_executor/cuda/cuda_gpu_executor.cc:936] successful NUMA node read from SysFS had negative value (-1), but there must be at least one NUMA node, so returning NUMA node zero\n",
      "2022-03-15 16:01:58.965397: I tensorflow/stream_executor/cuda/cuda_gpu_executor.cc:936] successful NUMA node read from SysFS had negative value (-1), but there must be at least one NUMA node, so returning NUMA node zero\n"
     ]
    }
   ],
   "source": [
    "# Check GPU availibility-\n",
    "gpu_devices = tf.config.list_physical_devices('GPU')\n",
    "\n",
    "if gpu_devices:\n",
    "    # Get number of available GPUs-\n",
    "    num_gpus = len(tf.config.list_physical_devices('GPU'))\n",
    "    print(f\"number of GPUs available = {num_gpus}\")\n",
    "    \n",
    "    print(f\"GPU: {gpu_devices}\")\n",
    "    details = tf.config.experimental.get_device_details(gpu_devices[0])\n",
    "    print(f\"GPU details: {details.get('device_name', 'Unknown GPU')}\")\n",
    "else:\n",
    "    print(\"No GPU found\")"
   ]
  },
  {
   "cell_type": "code",
   "execution_count": null,
   "id": "455a4a78-b00c-4da7-b6c4-f38da22df8a1",
   "metadata": {},
   "outputs": [],
   "source": []
  },
  {
   "cell_type": "code",
   "execution_count": null,
   "id": "d94f223e-52f2-451d-abd5-1f010da4068c",
   "metadata": {},
   "outputs": [],
   "source": []
  },
  {
   "cell_type": "markdown",
   "id": "93d3e7da-96c0-416c-be40-05efb97989be",
   "metadata": {},
   "source": [
    "### MNIST Data Pre-processing"
   ]
  },
  {
   "cell_type": "code",
   "execution_count": 5,
   "id": "658bfb80-b2a5-4f3c-ab22-c5e1bfa6f753",
   "metadata": {},
   "outputs": [],
   "source": [
    "# input image dimensions\n",
    "img_rows, img_cols = 28, 28"
   ]
  },
  {
   "cell_type": "code",
   "execution_count": 6,
   "id": "868a64da-2f98-4fb7-ae84-0482c93d9683",
   "metadata": {},
   "outputs": [],
   "source": [
    "# Load MNIST dataset-\n",
    "(X_train, y_train), (X_test, y_test) = mnist.load_data()"
   ]
  },
  {
   "cell_type": "code",
   "execution_count": 7,
   "id": "96dbb2ae-9c9c-4822-829b-80baf05bb10a",
   "metadata": {},
   "outputs": [],
   "source": [
    "if tf.keras.backend.image_data_format() == 'channels_first':\n",
    "    X_train = X_train.reshape(X_train.shape[0], 1, img_rows, img_cols)\n",
    "    X_test = X_test.reshape(X_test.shape[0], 1, img_rows, img_cols)\n",
    "    input_shape = (1, img_rows, img_cols)\n",
    "else:\n",
    "    X_train = X_train.reshape(X_train.shape[0], img_rows, img_cols, 1)\n",
    "    X_test = X_test.reshape(X_test.shape[0], img_rows, img_cols, 1)\n",
    "    input_shape = (img_rows, img_cols, 1)"
   ]
  },
  {
   "cell_type": "code",
   "execution_count": 9,
   "id": "1113cd63-4693-4229-87b7-34d8967678fe",
   "metadata": {},
   "outputs": [
    {
     "name": "stdout",
     "output_type": "stream",
     "text": [
      "input_shape to be used: (28, 28, 1)\n"
     ]
    }
   ],
   "source": [
    "print(f\"input_shape to be used: {input_shape}\")"
   ]
  },
  {
   "cell_type": "code",
   "execution_count": null,
   "id": "d87518d0-4d41-4fdf-b02f-0a3de0e595a7",
   "metadata": {},
   "outputs": [],
   "source": []
  },
  {
   "cell_type": "code",
   "execution_count": 10,
   "id": "04f94abb-4cd6-4b20-b91f-67c79042cd85",
   "metadata": {},
   "outputs": [],
   "source": [
    "# Specify hyper-parameters-\n",
    "batch_size = 64\n",
    "num_classes = 10\n",
    "num_epochs = 50"
   ]
  },
  {
   "cell_type": "code",
   "execution_count": null,
   "id": "74965bf8-dc08-4bc2-b097-e9f13cf72c7c",
   "metadata": {},
   "outputs": [],
   "source": []
  },
  {
   "cell_type": "code",
   "execution_count": 11,
   "id": "6a459807-4cc1-4f19-862f-41e4cd19cec7",
   "metadata": {},
   "outputs": [],
   "source": [
    "# Convert datasets to floating point types-\n",
    "X_train = X_train.astype('float32')\n",
    "X_test = X_test.astype('float32')"
   ]
  },
  {
   "cell_type": "code",
   "execution_count": 12,
   "id": "e3a00480-133d-410e-b65b-484960664e98",
   "metadata": {},
   "outputs": [],
   "source": [
    "# By default the image data consists of integers between 0 and 255 for each pixel channel. Neural networks\n",
    "# work best when each input is inside the range –1 to 1, so we need to divide by 255.\n",
    "\n",
    "# Normalize the training and testing datasets-\n",
    "X_train /= 255.0\n",
    "X_test /= 255.0"
   ]
  },
  {
   "cell_type": "code",
   "execution_count": null,
   "id": "2bf6c8af-ef2d-4277-8fc7-21ed0ec8d6a2",
   "metadata": {},
   "outputs": [],
   "source": [
    "# Convert class vectors/target to binary class matrices or one-hot encoded values-\n",
    "# y_train = tf.keras.utils.to_categorical(y_train, num_classes)\n",
    "# y_test = tf.keras.utils.to_categorical(y_test, num_classes)"
   ]
  },
  {
   "cell_type": "code",
   "execution_count": 13,
   "id": "fa762e3b-cfff-4620-a15f-e7a39369355d",
   "metadata": {},
   "outputs": [],
   "source": [
    "# Reshape training and testing sets-\n",
    "X_train = X_train.reshape(X_train.shape[0], 784)\n",
    "X_test = X_test.reshape(X_test.shape[0], 784)"
   ]
  },
  {
   "cell_type": "code",
   "execution_count": null,
   "id": "c862097a-d99a-4333-a983-4909d045d019",
   "metadata": {},
   "outputs": [],
   "source": []
  },
  {
   "cell_type": "code",
   "execution_count": 14,
   "id": "9e3eff0c-5831-4c31-b637-7e1cf4f11bab",
   "metadata": {},
   "outputs": [
    {
     "name": "stdout",
     "output_type": "stream",
     "text": [
      "\n",
      "Dimensions of training and testing sets are:\n",
      "X_train.shape: (60000, 784), y_train.shape: (60000,)\n",
      "X_test.shape: (10000, 784), y_test.shape: (10000,)\n"
     ]
    }
   ],
   "source": [
    "print(\"\\nDimensions of training and testing sets are:\")\n",
    "print(f\"X_train.shape: {X_train.shape}, y_train.shape: {y_train.shape}\")\n",
    "print(f\"X_test.shape: {X_test.shape}, y_test.shape: {y_test.shape}\")"
   ]
  },
  {
   "cell_type": "code",
   "execution_count": 15,
   "id": "64a62d8b-c1b4-4eec-ad75-1a46b2e0dbcd",
   "metadata": {},
   "outputs": [
    {
     "name": "stderr",
     "output_type": "stream",
     "text": [
      "2022-03-15 16:02:19.271858: I tensorflow/core/platform/cpu_feature_guard.cc:151] This TensorFlow binary is optimized with oneAPI Deep Neural Network Library (oneDNN) to use the following CPU instructions in performance-critical operations:  AVX2 FMA\n",
      "To enable them in other operations, rebuild TensorFlow with the appropriate compiler flags.\n",
      "2022-03-15 16:02:19.308659: I tensorflow/stream_executor/cuda/cuda_gpu_executor.cc:936] successful NUMA node read from SysFS had negative value (-1), but there must be at least one NUMA node, so returning NUMA node zero\n",
      "2022-03-15 16:02:19.309198: I tensorflow/stream_executor/cuda/cuda_gpu_executor.cc:936] successful NUMA node read from SysFS had negative value (-1), but there must be at least one NUMA node, so returning NUMA node zero\n",
      "2022-03-15 16:02:19.309628: I tensorflow/stream_executor/cuda/cuda_gpu_executor.cc:936] successful NUMA node read from SysFS had negative value (-1), but there must be at least one NUMA node, so returning NUMA node zero\n",
      "2022-03-15 16:02:24.478125: I tensorflow/stream_executor/cuda/cuda_gpu_executor.cc:936] successful NUMA node read from SysFS had negative value (-1), but there must be at least one NUMA node, so returning NUMA node zero\n",
      "2022-03-15 16:02:24.478640: I tensorflow/stream_executor/cuda/cuda_gpu_executor.cc:936] successful NUMA node read from SysFS had negative value (-1), but there must be at least one NUMA node, so returning NUMA node zero\n",
      "2022-03-15 16:02:24.479082: I tensorflow/stream_executor/cuda/cuda_gpu_executor.cc:936] successful NUMA node read from SysFS had negative value (-1), but there must be at least one NUMA node, so returning NUMA node zero\n",
      "2022-03-15 16:02:24.495836: I tensorflow/core/common_runtime/gpu/gpu_device.cc:1525] Created device /job:localhost/replica:0/task:0/device:GPU:0 with 8102 MB memory:  -> device: 0, name: NVIDIA GeForce RTX 3080, pci bus id: 0000:03:00.0, compute capability: 8.6\n"
     ]
    }
   ],
   "source": [
    "# Create TF datasets-\n",
    "train_dataset = tf.data.Dataset.from_tensor_slices(X_train).shuffle(60000).batch(batch_size)\n",
    "test_dataset = tf.data.Dataset.from_tensor_slices(X_test).shuffle(10000).batch(batch_size)\n",
    "\n",
    "# Needed by 'tf.GradientTape()' API for custom training and testing code."
   ]
  },
  {
   "cell_type": "code",
   "execution_count": null,
   "id": "3c82fd47-c576-4e7b-8a99-92303f9d664a",
   "metadata": {},
   "outputs": [],
   "source": []
  },
  {
   "cell_type": "code",
   "execution_count": null,
   "id": "311f3432-4893-4763-b211-362a23aaa912",
   "metadata": {},
   "outputs": [],
   "source": []
  },
  {
   "cell_type": "markdown",
   "id": "e817b5ff-0063-4172-943f-68b9216c7bae",
   "metadata": {},
   "source": [
    "### Define Variational Autoencoder architecture using _dense_ layers"
   ]
  },
  {
   "cell_type": "code",
   "execution_count": 17,
   "id": "c82445b4-54f2-48ec-8f88-4344b276244d",
   "metadata": {},
   "outputs": [],
   "source": [
    "class Encoder(Model):\n",
    "    def __init__(self, latent_space = 3):\n",
    "        super(Encoder, self).__init__()\n",
    "            \n",
    "        self.latent_space = latent_space\n",
    "        \n",
    "        self.dense = Dense(\n",
    "            units = 300, activation = None\n",
    "        )\n",
    "        self.dense2 = Dense(\n",
    "            units = 100, activation = None\n",
    "        )\n",
    "        self.encoder_output = Dense(\n",
    "            units = self.latent_space, activation = None\n",
    "        )\n",
    "    \n",
    "    \n",
    "    def call(self, x):\n",
    "        x = tf.keras.activations.relu(self.dense(x))\n",
    "        x = tf.keras.activations.relu(self.dense2(x))\n",
    "        x = tf.keras.activations.relu(self.encoder_output(x))\n",
    "        return x\n",
    "    \n",
    "    \n",
    "    def shape_computation(self, x):\n",
    "        print(f\"Input shape: {x.shape}\")\n",
    "        x = self.dense(x)\n",
    "        print(f\"dense1 output shape: {x.shape}\")\n",
    "        x = self.dense2(x)\n",
    "        print(f\"dense2 output shape: {x.shape}\")\n",
    "        x = self.encoder_output(x)\n",
    "        print(f\"Encoder output shape: {x.shape}\")\n",
    "        del x\n",
    "        return None\n",
    "        "
   ]
  },
  {
   "cell_type": "code",
   "execution_count": null,
   "id": "89d8dd59-06e1-4c56-90b9-9e8859b9b0cb",
   "metadata": {},
   "outputs": [],
   "source": []
  },
  {
   "cell_type": "code",
   "execution_count": 18,
   "id": "a874c0c0-41bf-49eb-90bb-e72f6da2225e",
   "metadata": {},
   "outputs": [],
   "source": [
    "class Decoder(Model):\n",
    "    def __init__(self, latent_space = 3):\n",
    "        super(Decoder, self).__init__()\n",
    "            \n",
    "        self.latent_space = latent_space\n",
    "        \n",
    "        self.dense = Dense(units = self.latent_space, activation = None)\n",
    "        self.dense2 = Dense(units = 100, activation = None)\n",
    "        self.dense3 = Dense(units = 300, activation = None)\n",
    "        self.decoder_output = Dense(units = 784, activation = None)\n",
    "    \n",
    "    \n",
    "    def call(self, x):\n",
    "        x = tf.keras.activations.relu(self.dense(x))\n",
    "        x = tf.keras.activations.relu(self.dense2(x))\n",
    "        x = tf.keras.activations.relu(self.dense3(x))\n",
    "        x = self.decoder_output(x)\n",
    "        return x\n",
    "    \n",
    "    \n",
    "    def shape_computation(self, x):\n",
    "        print(f\"Input shape: {x.shape}\")\n",
    "        x = self.dense(x)\n",
    "        print(f\"dense1 output shape: {x.shape}\")\n",
    "        x = self.dense2(x)\n",
    "        print(f\"dense2 output shape: {x.shape}\")\n",
    "        x = self.dense3(x)\n",
    "        print(f\"dense3 output shape: {x.shape}\")\n",
    "        x = self.decoder_output(x)\n",
    "        print(f\"Decoder output shape: {x.shape}\")\n",
    "        del x\n",
    "        return None\n",
    "        "
   ]
  },
  {
   "cell_type": "code",
   "execution_count": null,
   "id": "c4fbd079-b498-4527-94db-426013d6c78e",
   "metadata": {},
   "outputs": [],
   "source": []
  },
  {
   "cell_type": "markdown",
   "id": "fcd614da-00b5-4b39-ad42-c05204c4d3c7",
   "metadata": {},
   "source": [
    "#### Sanity check"
   ]
  },
  {
   "cell_type": "code",
   "execution_count": 19,
   "id": "224c8323-6e0a-4ae1-8ab9-ac553313a3e3",
   "metadata": {},
   "outputs": [],
   "source": [
    "encoder = Encoder(latent_space = 3)"
   ]
  },
  {
   "cell_type": "code",
   "execution_count": 20,
   "id": "831309ea-89cd-464b-87c5-56583565c037",
   "metadata": {},
   "outputs": [],
   "source": [
    "x = next(iter(train_dataset))"
   ]
  },
  {
   "cell_type": "code",
   "execution_count": 21,
   "id": "760448a7-1ee4-47de-bfbd-9b11068a82eb",
   "metadata": {},
   "outputs": [
    {
     "name": "stderr",
     "output_type": "stream",
     "text": [
      "2022-03-15 16:04:30.089733: I tensorflow/stream_executor/cuda/cuda_blas.cc:1786] TensorFloat-32 will be used for the matrix multiplication. This will only be logged once.\n"
     ]
    }
   ],
   "source": [
    "x_enc = encoder(x)"
   ]
  },
  {
   "cell_type": "code",
   "execution_count": 22,
   "id": "41a38dbe-0396-4842-a4e7-0e289d187b4a",
   "metadata": {},
   "outputs": [],
   "source": [
    "decoder = Decoder(latent_space = 3)"
   ]
  },
  {
   "cell_type": "code",
   "execution_count": 23,
   "id": "4382f5b3-9cd3-491e-914a-cc3348e6ddeb",
   "metadata": {},
   "outputs": [],
   "source": [
    "x_recon = decoder(x_enc)"
   ]
  },
  {
   "cell_type": "code",
   "execution_count": 24,
   "id": "a62bc11c-0c54-4c8a-97ef-ca4a37493d55",
   "metadata": {},
   "outputs": [
    {
     "data": {
      "text/plain": [
       "(TensorShape([64, 784]), TensorShape([64, 784]))"
      ]
     },
     "execution_count": 24,
     "metadata": {},
     "output_type": "execute_result"
    }
   ],
   "source": [
    "x.shape, x_recon.shape\n",
    "# (TensorShape([64, 784]), TensorShape([64, 784]))"
   ]
  },
  {
   "cell_type": "code",
   "execution_count": 25,
   "id": "19ee2ce0-6ccd-45e7-ba5b-f79a1610f651",
   "metadata": {},
   "outputs": [
    {
     "data": {
      "text/plain": [
       "TensorShape([64, 3])"
      ]
     },
     "execution_count": 25,
     "metadata": {},
     "output_type": "execute_result"
    }
   ],
   "source": [
    "x_enc.shape\n",
    "# TensorShape([64, 3])"
   ]
  },
  {
   "cell_type": "code",
   "execution_count": 26,
   "id": "404b2bfd-8bdf-4c9d-9844-6f226c081299",
   "metadata": {},
   "outputs": [
    {
     "name": "stdout",
     "output_type": "stream",
     "text": [
      "Input shape: (64, 784)\n",
      "dense1 output shape: (64, 300)\n",
      "dense2 output shape: (64, 100)\n",
      "Encoder output shape: (64, 3)\n"
     ]
    }
   ],
   "source": [
    "encoder.shape_computation(x)"
   ]
  },
  {
   "cell_type": "code",
   "execution_count": 27,
   "id": "25ce1b99-61fc-4805-a9a7-3f430a7dab1b",
   "metadata": {},
   "outputs": [
    {
     "name": "stdout",
     "output_type": "stream",
     "text": [
      "Input shape: (64, 3)\n",
      "dense1 output shape: (64, 3)\n",
      "dense2 output shape: (64, 100)\n",
      "dense3 output shape: (64, 300)\n",
      "Decoder output shape: (64, 784)\n"
     ]
    }
   ],
   "source": [
    "decoder.shape_computation(x_enc)"
   ]
  },
  {
   "cell_type": "code",
   "execution_count": 28,
   "id": "68be90e9-7ffb-4c3c-91b4-03ae59057b38",
   "metadata": {},
   "outputs": [],
   "source": [
    "del x, x_enc, x_recon, encoder, decoder"
   ]
  },
  {
   "cell_type": "code",
   "execution_count": null,
   "id": "5c24fa10-49e8-438f-a96b-5a71c1a905df",
   "metadata": {},
   "outputs": [],
   "source": []
  },
  {
   "cell_type": "code",
   "execution_count": null,
   "id": "7a31ebd4-c849-455c-958f-8fe4cbacc8b8",
   "metadata": {},
   "outputs": [],
   "source": []
  },
  {
   "cell_type": "code",
   "execution_count": 29,
   "id": "4f5318e6-edee-436e-a337-ed0f1be8a632",
   "metadata": {
    "id": "8RfrZXXTFJ-T"
   },
   "outputs": [],
   "source": [
    "class VAE(Model):\n",
    "    def __init__(self, latent_space = 3):\n",
    "        super(VAE, self).__init__()\n",
    "        \n",
    "        self.latent_space = latent_space\n",
    "        \n",
    "        self.encoder = Encoder(latent_space = self.latent_space)\n",
    "        self.decoder = Decoder(latent_space = self.latent_space)\n",
    "        \n",
    "        # Define fully-connected layers for computing mean & log variance-\n",
    "        self.mu = Dense(units = self.latent_space, activation = None)\n",
    "        self.log_var = Dense(units = self.latent_space, activation = None)\n",
    "\n",
    "\n",
    "    def reparameterize(self, mu, logvar):\n",
    "        # Sample from a multivariate Gaussian distribution.\n",
    "        # Adds stochasticity or variation-\n",
    "        eps = tf.random.normal(\n",
    "            shape = mu.shape, mean = 0.,\n",
    "            stddev = 1.\n",
    "        )\n",
    "        return (eps * tf.exp(logvar * 0.5)) + mu\n",
    "        \n",
    "    \n",
    "    def call(self, x):\n",
    "        x = self.encoder(x)\n",
    "        # print(f\"x.shape: {x.shape}\")\n",
    "        # x.shape: (batch_size, 3)\n",
    "        \n",
    "        mu = self.mu(x)\n",
    "        log_var = self.log_var(x)\n",
    "        z = self.reparameterize(mu, log_var)\n",
    "        # z = Sampling()([mu, log_var])\n",
    "        '''\n",
    "        print(f\"mu.shape: {mu.shape}, log_var.shape: {log_var.shape}\"\n",
    "              f\" & z.shape: {z.shape}\")\n",
    "        # mu.shape: (batch_size, 3), log_var.shape: (batch_size, 3) & z.shape: (batch_size, 3)\n",
    "        '''\n",
    "        \n",
    "        x = tf.keras.activations.sigmoid(self.decoder(z))\n",
    "        \n",
    "        return x, mu, log_var\n",
    "        "
   ]
  },
  {
   "cell_type": "code",
   "execution_count": null,
   "id": "e84492a3-6fec-493f-aa3d-c9c90bb87188",
   "metadata": {},
   "outputs": [],
   "source": []
  },
  {
   "cell_type": "code",
   "execution_count": null,
   "id": "9d9d0423-462a-4a80-9b2c-54133655a2b4",
   "metadata": {},
   "outputs": [],
   "source": []
  },
  {
   "cell_type": "code",
   "execution_count": 30,
   "id": "9de86b35-d564-41d4-bd08-b1d24c75451a",
   "metadata": {},
   "outputs": [],
   "source": [
    "# Initialize a VAE model-\n",
    "model = VAE(latent_space = 3)"
   ]
  },
  {
   "cell_type": "code",
   "execution_count": null,
   "id": "823e0feb-5fdf-4839-8497-8b4450c2c94b",
   "metadata": {},
   "outputs": [],
   "source": []
  },
  {
   "cell_type": "code",
   "execution_count": 31,
   "id": "506d236e-9f63-420c-be13-43450b0ab335",
   "metadata": {},
   "outputs": [],
   "source": [
    "# Sanity check-\n",
    "x = next(iter(train_dataset))"
   ]
  },
  {
   "cell_type": "code",
   "execution_count": 32,
   "id": "ff3088d6-5fcb-4fa2-9288-371792d3a100",
   "metadata": {},
   "outputs": [],
   "source": [
    "x_recon, mu, log_var = model(x)"
   ]
  },
  {
   "cell_type": "code",
   "execution_count": 33,
   "id": "829b9323-3d31-46da-86bb-7607481e0c91",
   "metadata": {},
   "outputs": [
    {
     "data": {
      "text/plain": [
       "(TensorShape([64, 784]), TensorShape([64, 784]))"
      ]
     },
     "execution_count": 33,
     "metadata": {},
     "output_type": "execute_result"
    }
   ],
   "source": [
    "x_recon.shape, x.shape"
   ]
  },
  {
   "cell_type": "code",
   "execution_count": 34,
   "id": "a04415cf-5ee6-4e41-9323-ab20dc71932a",
   "metadata": {},
   "outputs": [
    {
     "data": {
      "text/plain": [
       "(TensorShape([64, 3]), TensorShape([64, 3]))"
      ]
     },
     "execution_count": 34,
     "metadata": {},
     "output_type": "execute_result"
    }
   ],
   "source": [
    "mu.shape, log_var.shape"
   ]
  },
  {
   "cell_type": "code",
   "execution_count": 35,
   "id": "ca063196-3bf8-451c-84df-a2a75e114ea4",
   "metadata": {},
   "outputs": [
    {
     "data": {
      "text/plain": [
       "(0.012649395, 0.09325593)"
      ]
     },
     "execution_count": 35,
     "metadata": {},
     "output_type": "execute_result"
    }
   ],
   "source": [
    "mu.numpy().mean(), mu.numpy().std()"
   ]
  },
  {
   "cell_type": "code",
   "execution_count": 36,
   "id": "f6f8679c-edce-4ca4-aaf9-9b05bf6e4f68",
   "metadata": {},
   "outputs": [
    {
     "data": {
      "text/plain": [
       "(-0.032763954, 0.14971866)"
      ]
     },
     "execution_count": 36,
     "metadata": {},
     "output_type": "execute_result"
    }
   ],
   "source": [
    "log_var.numpy().mean(), log_var.numpy().std()"
   ]
  },
  {
   "cell_type": "code",
   "execution_count": 37,
   "id": "7b1f9a45-6900-41b0-8a4d-62f432c2d5dd",
   "metadata": {},
   "outputs": [],
   "source": [
    "del x, x_recon, mu, log_var"
   ]
  },
  {
   "cell_type": "code",
   "execution_count": null,
   "id": "8c0168e9-2696-45b8-959e-8e00d528a9b7",
   "metadata": {},
   "outputs": [],
   "source": []
  },
  {
   "cell_type": "code",
   "execution_count": null,
   "id": "0e0f8e8a-32d5-42d4-bfac-3e06e2b6ccdf",
   "metadata": {},
   "outputs": [],
   "source": []
  },
  {
   "cell_type": "code",
   "execution_count": 38,
   "id": "f8d320e4-b2f9-4afb-b0a2-1c5b34d834f5",
   "metadata": {},
   "outputs": [
    {
     "name": "stdout",
     "output_type": "stream",
     "text": [
      "Model: \"vae\"\n",
      "_________________________________________________________________\n",
      " Layer (type)                Output Shape              Param #   \n",
      "=================================================================\n",
      " encoder_1 (Encoder)         multiple                  265903    \n",
      "                                                                 \n",
      " decoder_1 (Decoder)         multiple                  266696    \n",
      "                                                                 \n",
      " dense_14 (Dense)            multiple                  12        \n",
      "                                                                 \n",
      " dense_15 (Dense)            multiple                  12        \n",
      "                                                                 \n",
      "=================================================================\n",
      "Total params: 532,623\n",
      "Trainable params: 532,623\n",
      "Non-trainable params: 0\n",
      "_________________________________________________________________\n"
     ]
    }
   ],
   "source": [
    "# Get model summary-\n",
    "model.summary()"
   ]
  },
  {
   "cell_type": "code",
   "execution_count": 39,
   "id": "4bde26a3-530a-46d2-bc8a-475b2877b5a4",
   "metadata": {},
   "outputs": [
    {
     "name": "stdout",
     "output_type": "stream",
     "text": [
      "layer: (784, 300) has 235200 parameters\n",
      "layer: (300,) has 0 parameters\n",
      "layer: (300, 100) has 30000 parameters\n",
      "layer: (100,) has 0 parameters\n",
      "layer: (100, 3) has 300 parameters\n",
      "layer: (3,) has 0 parameters\n",
      "layer: (3, 3) has 9 parameters\n",
      "layer: (3,) has 0 parameters\n",
      "layer: (3, 100) has 300 parameters\n",
      "layer: (100,) has 0 parameters\n",
      "layer: (100, 300) has 30000 parameters\n",
      "layer: (300,) has 0 parameters\n",
      "layer: (300, 784) has 235200 parameters\n",
      "layer: (784,) has 0 parameters\n",
      "layer: (3, 3) has 9 parameters\n",
      "layer: (3,) has 0 parameters\n",
      "layer: (3, 3) has 9 parameters\n",
      "layer: (3,) has 0 parameters\n"
     ]
    }
   ],
   "source": [
    "# Count layer-wise number of trainable parameters-\n",
    "tot_params = 0\n",
    "\n",
    "for layer in model.trainable_weights:\n",
    "    loc_params = tf.math.count_nonzero(layer, axis = None).numpy()\n",
    "    tot_params += loc_params\n",
    "    print(f\"layer: {layer.shape} has {loc_params} parameters\")"
   ]
  },
  {
   "cell_type": "code",
   "execution_count": 40,
   "id": "8c0ef292-eedc-4572-8df0-ae805ffb6715",
   "metadata": {},
   "outputs": [
    {
     "name": "stdout",
     "output_type": "stream",
     "text": [
      "VAE has 531027 trainable parameters\n"
     ]
    }
   ],
   "source": [
    "print(f\"VAE has {tot_params} trainable parameters\")"
   ]
  },
  {
   "cell_type": "code",
   "execution_count": null,
   "id": "8989939f-7773-4c63-a8d7-2f4002dc0b94",
   "metadata": {},
   "outputs": [],
   "source": []
  },
  {
   "cell_type": "code",
   "execution_count": 41,
   "id": "0029d873-b7ae-4032-a3d4-ea6a4de8ddcc",
   "metadata": {},
   "outputs": [],
   "source": [
    "# Save randomly initialize weights-\n",
    "model.save_weights(\"VAE_LeNet300_MNIST_random_weights.h5\", overwrite = True)"
   ]
  },
  {
   "cell_type": "code",
   "execution_count": null,
   "id": "ddf57aab-e6fb-4a35-aeb5-95372733acd6",
   "metadata": {},
   "outputs": [],
   "source": []
  },
  {
   "cell_type": "code",
   "execution_count": null,
   "id": "d1560d38-0dc6-4430-86af-d0e57214c870",
   "metadata": {},
   "outputs": [],
   "source": []
  },
  {
   "cell_type": "code",
   "execution_count": 42,
   "id": "e7f968ab-a864-4537-a57f-1457be5c9634",
   "metadata": {},
   "outputs": [],
   "source": [
    "# Define an optimizer-\n",
    "optimizer = tf.keras.optimizers.Adam(learning_rate = 1e-4)"
   ]
  },
  {
   "cell_type": "code",
   "execution_count": null,
   "id": "baf2a7ad-0046-45e2-87a4-2090207081c0",
   "metadata": {},
   "outputs": [],
   "source": []
  },
  {
   "cell_type": "code",
   "execution_count": null,
   "id": "79810ffc-a85d-41e3-a4ae-710fd0ab40e0",
   "metadata": {},
   "outputs": [],
   "source": []
  },
  {
   "cell_type": "code",
   "execution_count": 43,
   "id": "5574f4e6-2736-47bc-9214-48e54b841479",
   "metadata": {},
   "outputs": [],
   "source": [
    "def compute_total_loss(data, data_recon, mu, log_var, alpha = 1, beta = 1):\n",
    "    \n",
    "    # Compute KL-divergence loss:\n",
    "    \n",
    "    # Sum over latent dimensions-\n",
    "    kl_loss = -0.5 * tf.math.reduce_sum(\n",
    "        input_tensor = (1 + log_var - tf.square(mu) - tf.exp(log_var)),\n",
    "        axis = 1\n",
    "    )\n",
    "    # Omitting 'axis' will give bad results as it will sum over everything!\n",
    "    # First, sum over the latent dimensions and then average over the batches.\n",
    "    \n",
    "    # kl_loss.shape\n",
    "    # TensorShape([64])\n",
    "    \n",
    "    batchsize = len(kl_loss)\n",
    "    \n",
    "    # Compute average KL-divergence over batch size-\n",
    "    kl_loss = tf.math.reduce_mean(input_tensor = kl_loss)\n",
    "    \n",
    "    \n",
    "    # Compute Reconstruction loss:\n",
    "    \n",
    "    # Sum over all pixels-\n",
    "    '''\n",
    "    1. Reshape recon_loss so that it is batchsize and a 1-D vector. So, instead\n",
    "    of having a (multi-dim) tensor, it is now a 2-D matrix/table.\n",
    "    \n",
    "    2. Then, sum over the pixels. This is equivalent to summing over the latent\n",
    "    dimensions for 'kl_div' above. We are summing first the squared error over the\n",
    "    channels/pixels and then average over the batch dimensions below.\n",
    "    '''\n",
    "    recon_loss = tf.square(tf.reshape(tensor = data, shape = (batchsize, -1)) - tf.reshape(tensor = data_recon, shape = (batchsize, -1)))\n",
    "    \n",
    "    # recon_loss.shape\n",
    "    # TensorShape([64, 784])\n",
    "    \n",
    "    recon_loss = tf.math.reduce_sum(recon_loss, axis = 1)\n",
    "    \n",
    "    # recon_loss.shape\n",
    "    # TensorShape([64, 784])\n",
    "    \n",
    "    recon_loss = tf.math.reduce_mean(recon_loss)\n",
    "    \n",
    "    final_loss = (alpha * recon_loss) + (beta * kl_loss)\n",
    "    \n",
    "    return final_loss, recon_loss, kl_loss\n",
    "    \n",
    "    "
   ]
  },
  {
   "cell_type": "code",
   "execution_count": null,
   "id": "a1a44c4c-2879-4e3c-bf3a-3874d1d82ee0",
   "metadata": {},
   "outputs": [],
   "source": []
  },
  {
   "cell_type": "code",
   "execution_count": null,
   "id": "82637597-b49a-4aeb-a850-f636df5309e2",
   "metadata": {},
   "outputs": [],
   "source": [
    "'''\n",
    "# Sanity check-\n",
    "total_loss, recon_loss, kl_loss = compute_total_loss(\n",
    "    data = x, data_recon = x_recon,\n",
    "    mu = mu, log_var = log_var,\n",
    "    alpha = 1, beta = 1\n",
    ")\n",
    "'''"
   ]
  },
  {
   "cell_type": "code",
   "execution_count": null,
   "id": "b3db4bbc-afa2-4a17-8884-59577a3fb55f",
   "metadata": {},
   "outputs": [],
   "source": [
    "'''\n",
    "print(f\"Total loss = {total_loss:.4f}, Reconstruction loss = {recon_loss:.4f} &\"\n",
    "      f\" KL-div loss = {kl_loss:.4f}\")\n",
    "'''\n",
    "# Total loss = 181.8672, Reconstruction loss = 181.8597 & KL-div loss = 0.0075"
   ]
  },
  {
   "cell_type": "code",
   "execution_count": null,
   "id": "3e06f5e1-3725-4a94-a2d1-3bea5e16e7ff",
   "metadata": {},
   "outputs": [],
   "source": []
  },
  {
   "cell_type": "code",
   "execution_count": null,
   "id": "6b06c093-5177-4238-8aab-d887fa0f73e0",
   "metadata": {},
   "outputs": [],
   "source": []
  },
  {
   "cell_type": "code",
   "execution_count": null,
   "id": "0da6d223-e24b-4510-9aa1-bd4ee8029c37",
   "metadata": {},
   "outputs": [],
   "source": [
    "\"\"\"\n",
    "def compute_reconstruction_loss(data, reconstruction):\n",
    "    # Compute reconstruction loss for the input data and its\n",
    "    # corresponding reconstruction.\n",
    "    \n",
    "    '''\n",
    "    recon_loss = tf.reduce_mean(\n",
    "        input_tensor = tf.keras.losses.mean_squared_error(y_true = x, y_pred = x_recon)\n",
    "    )\n",
    "    '''\n",
    "    \n",
    "    recon_loss = tf.keras.losses.mean_squared_error(K.flatten(data), K.flatten(reconstruction))\n",
    "    # recon_loss = tf.keras.losses.mean_squared_error(y_true = K.flatten(data), y_pred = K.flatten(reconstruction))\n",
    "    # OR-\n",
    "    # tf.keras.losses.mean_squared_error(tf.reshape(x, [-1]), tf.reshape(x_recon, [-1]))\n",
    "    recon_loss *= 28 * 28\n",
    "    \n",
    "    return recon_loss\n",
    "\"\"\""
   ]
  },
  {
   "cell_type": "markdown",
   "id": "1f0939a7-0acd-4594-b7fb-9c4ad8f73cdb",
   "metadata": {},
   "source": [
    "#### NOTE:\n",
    "\n",
    "If you change the ```recon_loss``` as follows:\n",
    "\n",
    "```\n",
    "recon_loss = tf.reduce_mean(\n",
    "    input_tensor = tf.keras.losses.mean_squared_error(y_true = x, y_pred = x_recon)\n",
    ")\n",
    "```\n",
    "\n",
    "then _KL-divergence_ loss for some reason becomes 0! Why?"
   ]
  },
  {
   "cell_type": "code",
   "execution_count": null,
   "id": "ab2e2fef-06bc-4d6f-bead-75c6e9606053",
   "metadata": {},
   "outputs": [],
   "source": [
    "\"\"\"\n",
    "def compute_kl_divergence_loss(mu, log_var):\n",
    "    # Compute KL-divergence loss with mean & log-variance of\n",
    "    # latent space distribution.\n",
    "    # kl_loss = -0.5 * (1 + log_var - tf.square(mu) - tf.exp(log_var))\n",
    "    kl_loss = -0.5 * (1 + log_var - K.square(mu) - K.exp(log_var))\n",
    "    \n",
    "    # kl_loss.shape\n",
    "    # TensorShape([None, 3])\n",
    "    \n",
    "    # Compute sum for all latent variables or dimensions-\n",
    "    # tf.reduce_sum(input_tensor=kl_loss, axis=1).shape\n",
    "    # TensorShape([batch_size])\n",
    "    \n",
    "    \n",
    "    kl_loss = tf.reduce_mean(\n",
    "        input_tensor = tf.reduce_sum(\n",
    "            input_tensor = kl_loss,\n",
    "            axis = 1),\n",
    "        axis = None\n",
    "        )\n",
    "    \n",
    "    return kl_loss\n",
    "\"\"\""
   ]
  },
  {
   "cell_type": "code",
   "execution_count": null,
   "id": "e742d714-6c81-4faf-8205-3fe8b364a3e6",
   "metadata": {},
   "outputs": [],
   "source": [
    "\"\"\"\n",
    "def compute_loss(data, reconstruction, mu, log_var, alpha = 1):\n",
    "    # Compute total loss for a VAE consisting of - reconstruction loss &\n",
    "    # KL-divergence loss.\n",
    "    recon_loss = compute_reconstruction_loss(data = data, reconstruction = reconstruction)\n",
    "    kl_loss = compute_kl_divergence_loss(mu=mu, log_var=log_var)\n",
    "    \n",
    "    total_loss = (alpha * recon_loss) + kl_loss\n",
    "    \n",
    "    return total_loss, recon_loss, kl_loss\n",
    "\"\"\""
   ]
  },
  {
   "cell_type": "code",
   "execution_count": null,
   "id": "8e7fbf4d-e621-49c0-a24d-8ef2658059ad",
   "metadata": {},
   "outputs": [],
   "source": [
    "'''\n",
    "# Sanity check-\n",
    "total_loss, recon_loss, kl_loss = compute_loss(\n",
    "    data = x, reconstruction = x_recon,\n",
    "    mu = mu, log_var = log_var,\n",
    "    alpha = 1\n",
    ")\n",
    "'''"
   ]
  },
  {
   "cell_type": "code",
   "execution_count": null,
   "id": "a2228241-d376-4f31-9c62-7bd212f5c49c",
   "metadata": {},
   "outputs": [],
   "source": [
    "'''\n",
    "print(f\"Total loss = {total_loss.numpy():.4f}, Reconstruction loss = {recon_loss.numpy():.4f} &\"\n",
    "    f\" KL-divergence loss = {kl_loss.numpy():.4f}\"\n",
    ")\n",
    "'''\n",
    "# Total loss = 182.1384, Reconstruction loss = 182.0477 & KL-divergence loss = 0.0907"
   ]
  },
  {
   "cell_type": "code",
   "execution_count": null,
   "id": "5e5010aa-db38-4601-b17e-71f5715ed6a9",
   "metadata": {},
   "outputs": [],
   "source": []
  },
  {
   "cell_type": "code",
   "execution_count": null,
   "id": "4a81b141-6331-4d1b-90ee-5cc11b51c3ef",
   "metadata": {},
   "outputs": [],
   "source": []
  },
  {
   "cell_type": "markdown",
   "id": "9625e54e-ebdd-43cd-9e80-505a65814ced",
   "metadata": {},
   "source": [
    "### Train VAE model with _tf.GradientTape()_ API"
   ]
  },
  {
   "cell_type": "code",
   "execution_count": 46,
   "id": "1b7c9db6-7406-4979-891c-ec48477f99aa",
   "metadata": {
    "id": "mqFh7aRmVze3"
   },
   "outputs": [],
   "source": [
    "@tf.function\n",
    "def train_one_step(model, optimizer, data, alpha, beta):\n",
    "    # Function to perform one step/iteration of training\n",
    "\n",
    "    with tf.GradientTape() as tape:\n",
    "        # Make predictions using defined model-\n",
    "        data_recon, mu, log_var = model(data)\n",
    " \n",
    "        # Compute loss-\n",
    "        total_loss, recon_loss, kl_loss = compute_total_loss(\n",
    "            data = data, data_recon = data_recon,\n",
    "            mu = mu, log_var = log_var,\n",
    "            alpha = alpha, beta = beta\n",
    "        )\n",
    "\n",
    "        '''\n",
    "        # Compute loss-\n",
    "        total_loss, recon_loss, kl_loss = compute_loss(\n",
    "            data = data, reconstruction = data_recon,\n",
    "            mu = mu, log_var = log_var,\n",
    "            alpha = alpha\n",
    "        )\n",
    "        '''\n",
    "    \n",
    "    # Compute gradients wrt defined loss and weights and biases-\n",
    "    grads = tape.gradient(total_loss, model.trainable_variables)\n",
    "    \n",
    "    # type(grads)\n",
    "    # list\n",
    "    \n",
    "    # Apply computed gradients to model's weights and biases-\n",
    "    optimizer.apply_gradients(zip(grads, model.trainable_variables))\n",
    "    \n",
    "    return total_loss, recon_loss, kl_loss\n"
   ]
  },
  {
   "cell_type": "code",
   "execution_count": 47,
   "id": "f9ba96db-16ea-4a5f-afa2-3be84a9c4ec1",
   "metadata": {
    "id": "8wQ-GmThVze3"
   },
   "outputs": [],
   "source": [
    "@tf.function\n",
    "def test_step(model, optimizer, data, alpha, beta):\n",
    "    '''\n",
    "    Function to test model performance\n",
    "    on testing dataset\n",
    "    '''\n",
    "    # Make predictions using defined model-\n",
    "    data_recon, mu, log_var = model(data)\n",
    "    \n",
    "    # Compute loss-\n",
    "    total_loss, recon_loss, kl_loss = compute_total_loss(\n",
    "            data = data, data_recon = data_recon,\n",
    "            mu = mu, log_var = log_var,\n",
    "            alpha = alpha, beta = beta\n",
    "        )\n",
    "    '''\n",
    "    total_loss, recon_loss, kl_loss = compute_loss(\n",
    "        data = data, reconstruction = data_recon,\n",
    "        mu = mu, log_var = log_var,\n",
    "        alpha = alpha\n",
    "    )\n",
    "    '''\n",
    "    \n",
    "    return total_loss, recon_loss, kl_loss\n"
   ]
  },
  {
   "cell_type": "code",
   "execution_count": null,
   "id": "05a4af3e-40ba-4b8e-b779-783ad597e0ae",
   "metadata": {
    "id": "UuvJRTCzVze4"
   },
   "outputs": [],
   "source": [
    "'''\n",
    "# Sanity check-\n",
    "total_train_loss, recon_train_loss, kl_train_loss = train_one_step(\n",
    "    model = model, optimizer = optimizer,\n",
    "    data = x, alpha = 1,\n",
    "    beta = 1\n",
    ")\n",
    "'''"
   ]
  },
  {
   "cell_type": "code",
   "execution_count": null,
   "id": "7ccda4a6-d3ec-4b03-a0f3-fe0c1b8477ff",
   "metadata": {},
   "outputs": [],
   "source": [
    "'''\n",
    "# Sanity check-\n",
    "total_val_loss, recon_val_loss, kl_val_loss = test_step(\n",
    "    model = model, optimizer = optimizer,\n",
    "    data = x, alpha = 1,\n",
    "    beta = 1\n",
    ")\n",
    "'''"
   ]
  },
  {
   "cell_type": "code",
   "execution_count": null,
   "id": "075e0cbb-0836-4b76-a8a9-27f7b464ad16",
   "metadata": {},
   "outputs": [],
   "source": [
    "'''\n",
    "print(f\"Total train loss = {total_train_loss:.4f}, total val loss = {total_val_loss:.4f}\"\n",
    "      f\", recon_train_loss = {recon_train_loss:.4f}, recon_val_loss = {recon_val_loss:.4f}\"\n",
    "      f\", kl_train_loss = {kl_train_loss:.4f} & kl_val_loss = {kl_val_loss:.4f}\")\n",
    "'''\n",
    "# Total train loss = 181.6657, total val loss = 181.6058, recon_train_loss = 181.6629, recon_val_loss = 181.6049, kl_train_loss = 0.0028 & kl_val_loss = 0.0009"
   ]
  },
  {
   "cell_type": "code",
   "execution_count": null,
   "id": "10d692c7-f7d9-4228-8dd2-5441d5a14b82",
   "metadata": {},
   "outputs": [],
   "source": []
  },
  {
   "cell_type": "code",
   "execution_count": null,
   "id": "5f1b0719-ab10-45f4-921b-07b6f5721660",
   "metadata": {
    "id": "bvee16hKVze4"
   },
   "outputs": [],
   "source": []
  },
  {
   "cell_type": "code",
   "execution_count": 50,
   "id": "a9b15740-c93c-4c68-a649-2557a280bd26",
   "metadata": {},
   "outputs": [
    {
     "name": "stdout",
     "output_type": "stream",
     "text": [
      "Train VAE model for 50 epochs\n"
     ]
    }
   ],
   "source": [
    "print(f\"Train VAE model for {num_epochs} epochs\")"
   ]
  },
  {
   "cell_type": "code",
   "execution_count": null,
   "id": "8daf8c01-8c52-484e-a711-1e293aad0422",
   "metadata": {},
   "outputs": [],
   "source": []
  },
  {
   "cell_type": "code",
   "execution_count": null,
   "id": "3142a9bc-8ae7-4ff0-a0cb-43621a586805",
   "metadata": {},
   "outputs": [],
   "source": []
  },
  {
   "cell_type": "code",
   "execution_count": 51,
   "id": "a9239f43-4f33-4f5c-82bc-a8f964f7cd8c",
   "metadata": {
    "id": "YEdbEGw4ZwAd"
   },
   "outputs": [],
   "source": [
    "# Python3 dict to contain training metrics-\n",
    "training_metrics = {}"
   ]
  },
  {
   "cell_type": "code",
   "execution_count": 52,
   "id": "a8102aa6-a9fc-4a7d-871c-f2cec95765a8",
   "metadata": {
    "id": "ijfWUXEBVze5"
   },
   "outputs": [],
   "source": [
    "# Specify hyper-parameter for reconstruction loss vs. kl-divergence\n",
    "# trade-off-\n",
    "alpha = 1\n",
    "beta = 1"
   ]
  },
  {
   "cell_type": "code",
   "execution_count": 53,
   "id": "6b051308-e74a-4de8-ae02-98c56bbe247b",
   "metadata": {},
   "outputs": [],
   "source": [
    "# Initialize parameters for Early Stopping manual implementation-\n",
    "best_val_loss = 10000"
   ]
  },
  {
   "cell_type": "code",
   "execution_count": null,
   "id": "f48a84c7-1312-4bfc-b1f3-b2c866e19fd4",
   "metadata": {},
   "outputs": [],
   "source": []
  },
  {
   "cell_type": "code",
   "execution_count": null,
   "id": "0ea77d81-391e-4594-9c37-64efdb692ba4",
   "metadata": {
    "id": "vMy_55q9aESs"
   },
   "outputs": [],
   "source": []
  },
  {
   "cell_type": "code",
   "execution_count": 54,
   "id": "700b59d6-5de3-4105-9065-1606feda5613",
   "metadata": {
    "colab": {
     "base_uri": "https://localhost:8080/"
    },
    "id": "9VVkC8qPVze5",
    "outputId": "53089c5f-f2cb-4029-bacc-d637acbec688"
   },
   "outputs": [
    {
     "name": "stdout",
     "output_type": "stream",
     "text": [
      "epoch = 1; total train loss = 65446.2711, train recon loss = 63112.0033, train kl loss = 2334.2678; total val loss = 8339.7550, val recon loss = 8168.8317 & val kl loss = 170.9233\n",
      "\n",
      "Saving model with lowest Total validation loss = 8339.7550\n",
      "\n",
      "epoch = 2; total train loss = 48645.3585, train recon loss = 47545.3994, train kl loss = 1099.9592; total val loss = 8079.2425, val recon loss = 7861.6178 & val kl loss = 217.6247\n",
      "\n",
      "Saving model with lowest Total validation loss = 8079.2425\n",
      "\n",
      "epoch = 3; total train loss = 47512.8746, train recon loss = 46224.0655, train kl loss = 1288.8091; total val loss = 7838.2757, val recon loss = 7602.4534 & val kl loss = 235.8223\n",
      "\n",
      "Saving model with lowest Total validation loss = 7838.2757\n",
      "\n",
      "epoch = 4; total train loss = 46022.7021, train recon loss = 44214.9087, train kl loss = 1807.7935; total val loss = 7494.2719, val recon loss = 7067.7741 & val kl loss = 426.4977\n",
      "\n",
      "Saving model with lowest Total validation loss = 7494.2719\n",
      "\n",
      "epoch = 5; total train loss = 44159.2133, train recon loss = 41576.2837, train kl loss = 2582.9295; total val loss = 7271.6295, val recon loss = 6818.7913 & val kl loss = 452.8382\n",
      "\n",
      "Saving model with lowest Total validation loss = 7271.6295\n",
      "\n",
      "epoch = 6; total train loss = 43174.0824, train recon loss = 40358.9885, train kl loss = 2815.0939; total val loss = 7137.8390, val recon loss = 6657.0868 & val kl loss = 480.7522\n",
      "\n",
      "Saving model with lowest Total validation loss = 7137.8390\n",
      "\n",
      "epoch = 7; total train loss = 42680.6216, train recon loss = 39753.1143, train kl loss = 2927.5073; total val loss = 7094.0856, val recon loss = 6596.8816 & val kl loss = 497.2040\n",
      "\n",
      "Saving model with lowest Total validation loss = 7094.0856\n",
      "\n",
      "epoch = 8; total train loss = 42393.8657, train recon loss = 39374.8362, train kl loss = 3019.0295; total val loss = 7045.5667, val recon loss = 6528.8803 & val kl loss = 516.6865\n",
      "\n",
      "Saving model with lowest Total validation loss = 7045.5667\n",
      "\n",
      "epoch = 9; total train loss = 42132.4659, train recon loss = 39011.9285, train kl loss = 3120.5374; total val loss = 7000.3097, val recon loss = 6479.4399 & val kl loss = 520.8698\n",
      "\n",
      "Saving model with lowest Total validation loss = 7000.3097\n",
      "\n",
      "epoch = 10; total train loss = 41882.2522, train recon loss = 38670.1274, train kl loss = 3212.1247; total val loss = 6958.1344, val recon loss = 6414.8300 & val kl loss = 543.3044\n",
      "\n",
      "Saving model with lowest Total validation loss = 6958.1344\n",
      "\n",
      "epoch = 11; total train loss = 41624.4409, train recon loss = 38311.3275, train kl loss = 3313.1134; total val loss = 6906.6170, val recon loss = 6338.2776 & val kl loss = 568.3394\n",
      "\n",
      "Saving model with lowest Total validation loss = 6906.6170\n",
      "\n",
      "epoch = 12; total train loss = 41356.4518, train recon loss = 37941.4179, train kl loss = 3415.0339; total val loss = 6861.6878, val recon loss = 6279.9373 & val kl loss = 581.7506\n",
      "\n",
      "Saving model with lowest Total validation loss = 6861.6878\n",
      "\n",
      "epoch = 13; total train loss = 41066.5725, train recon loss = 37563.1245, train kl loss = 3503.4480; total val loss = 6814.2933, val recon loss = 6221.6927 & val kl loss = 592.6006\n",
      "\n",
      "Saving model with lowest Total validation loss = 6814.2933\n",
      "\n",
      "epoch = 14; total train loss = 40791.7778, train recon loss = 37199.5005, train kl loss = 3592.2773; total val loss = 6769.5110, val recon loss = 6165.6775 & val kl loss = 603.8335\n",
      "\n",
      "Saving model with lowest Total validation loss = 6769.5110\n",
      "\n",
      "epoch = 15; total train loss = 40508.6974, train recon loss = 36839.3899, train kl loss = 3669.3076; total val loss = 6738.8456, val recon loss = 6118.3660 & val kl loss = 620.4796\n",
      "\n",
      "Saving model with lowest Total validation loss = 6738.8456\n",
      "\n",
      "epoch = 16; total train loss = 40259.0663, train recon loss = 36524.6165, train kl loss = 3734.4498; total val loss = 6686.9329, val recon loss = 6060.5047 & val kl loss = 626.4281\n",
      "\n",
      "Saving model with lowest Total validation loss = 6686.9329\n",
      "\n",
      "epoch = 17; total train loss = 39984.7013, train recon loss = 36200.0587, train kl loss = 3784.6426; total val loss = 6645.0368, val recon loss = 6019.2303 & val kl loss = 625.8065\n",
      "\n",
      "Saving model with lowest Total validation loss = 6645.0368\n",
      "\n",
      "epoch = 18; total train loss = 39733.3527, train recon loss = 35919.0006, train kl loss = 3814.3520; total val loss = 6600.8249, val recon loss = 5948.6204 & val kl loss = 652.2046\n",
      "\n",
      "Saving model with lowest Total validation loss = 6600.8249\n",
      "\n",
      "epoch = 19; total train loss = 39463.8583, train recon loss = 35622.1199, train kl loss = 3841.7383; total val loss = 6557.2160, val recon loss = 5904.9075 & val kl loss = 652.3085\n",
      "\n",
      "Saving model with lowest Total validation loss = 6557.2160\n",
      "\n",
      "epoch = 20; total train loss = 39195.7987, train recon loss = 35346.9225, train kl loss = 3848.8762; total val loss = 6516.3301, val recon loss = 5880.8094 & val kl loss = 635.5207\n",
      "\n",
      "Saving model with lowest Total validation loss = 6516.3301\n",
      "\n",
      "epoch = 21; total train loss = 38900.4656, train recon loss = 35047.6159, train kl loss = 3852.8497; total val loss = 6477.1239, val recon loss = 5822.5251 & val kl loss = 654.5987\n",
      "\n",
      "Saving model with lowest Total validation loss = 6477.1239\n",
      "\n",
      "epoch = 22; total train loss = 38632.9235, train recon loss = 34788.2999, train kl loss = 3844.6236; total val loss = 6429.1075, val recon loss = 5791.6863 & val kl loss = 637.4212\n",
      "\n",
      "Saving model with lowest Total validation loss = 6429.1075\n",
      "\n",
      "epoch = 23; total train loss = 38376.9384, train recon loss = 34534.9847, train kl loss = 3841.9537; total val loss = 6389.1306, val recon loss = 5758.2956 & val kl loss = 630.8349\n",
      "\n",
      "Saving model with lowest Total validation loss = 6389.1306\n",
      "\n",
      "epoch = 24; total train loss = 38123.6149, train recon loss = 34285.8906, train kl loss = 3837.7243; total val loss = 6352.9275, val recon loss = 5700.3538 & val kl loss = 652.5737\n",
      "\n",
      "Saving model with lowest Total validation loss = 6352.9275\n",
      "\n",
      "epoch = 25; total train loss = 37879.1243, train recon loss = 34049.4809, train kl loss = 3829.6434; total val loss = 6314.0720, val recon loss = 5686.6400 & val kl loss = 627.4321\n",
      "\n",
      "Saving model with lowest Total validation loss = 6314.0720\n",
      "\n",
      "epoch = 26; total train loss = 37670.0243, train recon loss = 33831.6729, train kl loss = 3838.3514; total val loss = 6298.1358, val recon loss = 5653.3803 & val kl loss = 644.7555\n",
      "\n",
      "Saving model with lowest Total validation loss = 6298.1358\n",
      "\n",
      "epoch = 27; total train loss = 37506.6411, train recon loss = 33657.8663, train kl loss = 3848.7748; total val loss = 6267.7181, val recon loss = 5620.3204 & val kl loss = 647.3976\n",
      "\n",
      "Saving model with lowest Total validation loss = 6267.7181\n",
      "\n",
      "epoch = 28; total train loss = 37350.4442, train recon loss = 33490.0780, train kl loss = 3860.3662; total val loss = 6241.9979, val recon loss = 5600.3315 & val kl loss = 641.6665\n",
      "\n",
      "Saving model with lowest Total validation loss = 6241.9979\n",
      "\n",
      "epoch = 29; total train loss = 37208.5681, train recon loss = 33332.2820, train kl loss = 3876.2860; total val loss = 6230.3638, val recon loss = 5585.0812 & val kl loss = 645.2826\n",
      "\n",
      "Saving model with lowest Total validation loss = 6230.3638\n",
      "\n",
      "epoch = 30; total train loss = 37069.6378, train recon loss = 33174.7502, train kl loss = 3894.8877; total val loss = 6202.4492, val recon loss = 5549.7623 & val kl loss = 652.6869\n",
      "\n",
      "Saving model with lowest Total validation loss = 6202.4492\n",
      "\n",
      "epoch = 31; total train loss = 36955.3310, train recon loss = 33043.6954, train kl loss = 3911.6356; total val loss = 6179.7409, val recon loss = 5523.8867 & val kl loss = 655.8541\n",
      "\n",
      "Saving model with lowest Total validation loss = 6179.7409\n",
      "\n",
      "epoch = 32; total train loss = 36836.3536, train recon loss = 32900.2789, train kl loss = 3936.0747; total val loss = 6178.6786, val recon loss = 5520.1953 & val kl loss = 658.4834\n",
      "\n",
      "Saving model with lowest Total validation loss = 6178.6786\n",
      "\n",
      "epoch = 33; total train loss = 36736.2868, train recon loss = 32769.7915, train kl loss = 3966.4954; total val loss = 6155.2766, val recon loss = 5501.4597 & val kl loss = 653.8169\n",
      "\n",
      "Saving model with lowest Total validation loss = 6155.2766\n",
      "\n",
      "epoch = 34; total train loss = 36630.4916, train recon loss = 32641.3850, train kl loss = 3989.1067; total val loss = 6138.7007, val recon loss = 5466.2574 & val kl loss = 672.4434\n",
      "\n",
      "Saving model with lowest Total validation loss = 6138.7007\n",
      "\n",
      "epoch = 35; total train loss = 36508.4453, train recon loss = 32500.1489, train kl loss = 4008.2965; total val loss = 6123.0076, val recon loss = 5446.9153 & val kl loss = 676.0923\n",
      "\n",
      "Saving model with lowest Total validation loss = 6123.0076\n",
      "\n",
      "epoch = 36; total train loss = 36420.6456, train recon loss = 32388.3578, train kl loss = 4032.2878; total val loss = 6102.5586, val recon loss = 5434.4177 & val kl loss = 668.1410\n",
      "\n",
      "Saving model with lowest Total validation loss = 6102.5586\n",
      "\n",
      "epoch = 37; total train loss = 36323.3790, train recon loss = 32268.3964, train kl loss = 4054.9827; total val loss = 6109.4328, val recon loss = 5428.3098 & val kl loss = 681.1230\n",
      "epoch = 38; total train loss = 36224.0868, train recon loss = 32150.3675, train kl loss = 4073.7193; total val loss = 6079.6025, val recon loss = 5397.6935 & val kl loss = 681.9091\n",
      "\n",
      "Saving model with lowest Total validation loss = 6079.6025\n",
      "\n",
      "epoch = 39; total train loss = 36117.3763, train recon loss = 32025.1905, train kl loss = 4092.1858; total val loss = 6072.8983, val recon loss = 5384.2328 & val kl loss = 688.6655\n",
      "\n",
      "Saving model with lowest Total validation loss = 6072.8983\n",
      "\n",
      "epoch = 40; total train loss = 36030.7048, train recon loss = 31916.5396, train kl loss = 4114.1652; total val loss = 6058.3613, val recon loss = 5386.2107 & val kl loss = 672.1506\n",
      "\n",
      "Saving model with lowest Total validation loss = 6058.3613\n",
      "\n",
      "epoch = 41; total train loss = 35928.6884, train recon loss = 31795.8056, train kl loss = 4132.8828; total val loss = 6048.3959, val recon loss = 5363.3417 & val kl loss = 685.0542\n",
      "\n",
      "Saving model with lowest Total validation loss = 6048.3959\n",
      "\n",
      "epoch = 42; total train loss = 35852.9231, train recon loss = 31697.0311, train kl loss = 4155.8920; total val loss = 6034.3688, val recon loss = 5336.6944 & val kl loss = 697.6744\n",
      "\n",
      "Saving model with lowest Total validation loss = 6034.3688\n",
      "\n",
      "epoch = 43; total train loss = 35760.6537, train recon loss = 31585.1998, train kl loss = 4175.4539; total val loss = 6029.6584, val recon loss = 5341.9048 & val kl loss = 687.7536\n",
      "\n",
      "Saving model with lowest Total validation loss = 6029.6584\n",
      "\n",
      "epoch = 44; total train loss = 35671.2653, train recon loss = 31480.9272, train kl loss = 4190.3380; total val loss = 6000.5346, val recon loss = 5308.1887 & val kl loss = 692.3459\n",
      "\n",
      "Saving model with lowest Total validation loss = 6000.5346\n",
      "\n",
      "epoch = 45; total train loss = 35599.7993, train recon loss = 31390.5159, train kl loss = 4209.2833; total val loss = 5985.7416, val recon loss = 5284.2671 & val kl loss = 701.4745\n",
      "\n",
      "Saving model with lowest Total validation loss = 5985.7416\n",
      "\n",
      "epoch = 46; total train loss = 35515.2395, train recon loss = 31288.7582, train kl loss = 4226.4814; total val loss = 5993.9259, val recon loss = 5277.6955 & val kl loss = 716.2304\n",
      "epoch = 47; total train loss = 35429.1870, train recon loss = 31187.6987, train kl loss = 4241.4883; total val loss = 5973.9102, val recon loss = 5264.8628 & val kl loss = 709.0474\n",
      "\n",
      "Saving model with lowest Total validation loss = 5973.9102\n",
      "\n",
      "epoch = 48; total train loss = 35355.9090, train recon loss = 31098.1495, train kl loss = 4257.7595; total val loss = 5972.8834, val recon loss = 5264.3101 & val kl loss = 708.5733\n",
      "\n",
      "Saving model with lowest Total validation loss = 5972.8834\n",
      "\n",
      "epoch = 49; total train loss = 35284.8914, train recon loss = 31009.9213, train kl loss = 4274.9702; total val loss = 5949.8539, val recon loss = 5234.5872 & val kl loss = 715.2667\n",
      "\n",
      "Saving model with lowest Total validation loss = 5949.8539\n",
      "\n",
      "epoch = 50; total train loss = 35204.1846, train recon loss = 30923.1614, train kl loss = 4281.0232; total val loss = 5946.1792, val recon loss = 5233.4597 & val kl loss = 712.7195\n",
      "\n",
      "Saving model with lowest Total validation loss = 5946.1792\n",
      "\n"
     ]
    }
   ],
   "source": [
    "for epoch in range(1, num_epochs + 1):\n",
    "    \n",
    "    # Epoch train & validation losses-\n",
    "    train_loss = 0.0\n",
    "    val_loss = 0.0\n",
    "    train_recon_loss = 0.0\n",
    "    val_recon_loss = 0.0\n",
    "    train_kl_loss = 0.0\n",
    "    val_kl_loss = 0.0\n",
    "    \n",
    "    for data in train_dataset:\n",
    "        total_train_loss, recon_train_loss, kl_train_loss = train_one_step(\n",
    "            model = model, optimizer = optimizer,\n",
    "            data = data, alpha = alpha,\n",
    "            beta = beta\n",
    "        )\n",
    "        \n",
    "        train_loss += total_train_loss.numpy()\n",
    "        train_recon_loss += recon_train_loss.numpy()\n",
    "        train_kl_loss += kl_train_loss.numpy()\n",
    "        \n",
    "    \n",
    "    for test_data in test_dataset:\n",
    "        total_val_loss, recon_val_loss, kl_val_loss = test_step(\n",
    "            model = model, optimizer = optimizer,\n",
    "            data = test_data, alpha = alpha,\n",
    "            beta = beta\n",
    "        )\n",
    "        \n",
    "        val_loss += total_val_loss.numpy()\n",
    "        val_recon_loss += recon_val_loss.numpy()\n",
    "        val_kl_loss += kl_val_loss.numpy()\n",
    "\n",
    "    training_metrics[epoch] = {\n",
    "        'total_loss': train_loss, 'recon_loss': train_recon_loss,\n",
    "        'kl_loss': train_kl_loss, 'total_val_loss': val_loss,\n",
    "        'recon_val_loss': val_recon_loss, 'val_kl_loss': val_kl_loss\n",
    "        }\n",
    "    \n",
    "\n",
    "    print(f\"epoch = {epoch}; total train loss = {train_loss:.4f},\"\n",
    "    f\" train recon loss = {train_recon_loss:.4f}, train kl loss = {train_kl_loss:.4f};\"\n",
    "    f\" total val loss = {val_loss:.4f}, val recon loss = {val_recon_loss:.4f} &\"\n",
    "    f\" val kl loss = {val_kl_loss:.4f}\"\n",
    "    )\n",
    "    \n",
    "    \n",
    "    # Save 'best' model so far-\n",
    "    if val_loss < best_val_loss:\n",
    "        # Update for lowest val_loss so far-\n",
    "        best_val_loss = val_loss\n",
    "        \n",
    "        print(f\"\\nSaving model with lowest Total validation loss = {val_loss:.4f}\\n\")\n",
    "        \n",
    "        # Save trained model with 'best' validation loss-\n",
    "        model.save_weights(\"VAE_MNIST_LeNet300_best_total_val_loss.h5\", overwrite = True)\n",
    "\n",
    "    "
   ]
  },
  {
   "cell_type": "code",
   "execution_count": null,
   "id": "942a9219-0b44-433b-ad59-2003fcd81185",
   "metadata": {},
   "outputs": [],
   "source": []
  },
  {
   "cell_type": "code",
   "execution_count": null,
   "id": "dc19f56c-e3c5-488b-a30b-629db2a96e96",
   "metadata": {},
   "outputs": [],
   "source": []
  },
  {
   "cell_type": "code",
   "execution_count": null,
   "id": "a4829418-6712-447e-8f05-6a6bd9808a17",
   "metadata": {
    "id": "R7XranATfV7y"
   },
   "outputs": [],
   "source": [
    "# Save trained model-\n",
    "# model.save_weights(\"VAE_MNIST_LeNet300_last_epoch.h5\", overwrite = True)"
   ]
  },
  {
   "cell_type": "code",
   "execution_count": null,
   "id": "03b60472-fcba-4f87-b343-56828e7ea48c",
   "metadata": {},
   "outputs": [],
   "source": []
  },
  {
   "cell_type": "code",
   "execution_count": 55,
   "id": "fe87c6db-9bfe-48af-a29d-cc30cc9e9540",
   "metadata": {
    "id": "wLGj8VlZfamX"
   },
   "outputs": [],
   "source": [
    "# Save training metrics-\n",
    "with open(\"VAE_MNIST_LeNet300_training_metrics.pkl\", \"wb\") as file:\n",
    "    pickle.dump(training_metrics, file)"
   ]
  },
  {
   "cell_type": "code",
   "execution_count": null,
   "id": "4ef915bf-510b-4d6e-bef9-e7386b5c64fa",
   "metadata": {},
   "outputs": [],
   "source": []
  },
  {
   "cell_type": "code",
   "execution_count": null,
   "id": "8afa44fd-e47c-4fa3-b459-673fbf2f6176",
   "metadata": {
    "id": "TWVLuGRefaqB"
   },
   "outputs": [],
   "source": []
  },
  {
   "cell_type": "markdown",
   "id": "e751d0d4-4b7e-4a51-8fa4-c474c5900e48",
   "metadata": {
    "id": "Zi_6ZtzKfR2L"
   },
   "source": [
    "### Visualize training metrics"
   ]
  },
  {
   "cell_type": "code",
   "execution_count": 56,
   "id": "6f64a7fd-5572-48cf-a35a-048be4bf4850",
   "metadata": {
    "colab": {
     "base_uri": "https://localhost:8080/",
     "height": 458
    },
    "id": "Bc8ltdTEbsC7",
    "outputId": "040fb8e0-20c8-43ac-ab63-91558eb83f6f"
   },
   "outputs": [
    {
     "data": {
      "image/png": "[encoded data removed]",
      "text/plain": [
       "<Figure size 648x504 with 1 Axes>"
      ]
     },
     "metadata": {
      "needs_background": "light"
     },
     "output_type": "display_data"
    }
   ],
   "source": [
    "plt.figure(figsize = (9, 7))\n",
    "plt.plot([training_metrics[e]['total_loss'] for e in training_metrics.keys()], label = 'train total loss')\n",
    "plt.legend(loc = 'best')\n",
    "plt.xlabel(\"epochs\")\n",
    "plt.ylabel(\"loss\")\n",
    "plt.legend(loc = 'best')\n",
    "plt.title(\"VAE: Training Visualization - Total Training Loss\")\n",
    "plt.show()"
   ]
  },
  {
   "cell_type": "code",
   "execution_count": 57,
   "id": "ef0e28e9-16cb-4403-a1f4-da275f2a4809",
   "metadata": {
    "colab": {
     "base_uri": "https://localhost:8080/",
     "height": 458
    },
    "id": "v-bl7zWRdjLT",
    "outputId": "9809d8ad-b1c6-4683-f5b2-f59da6fda21f"
   },
   "outputs": [
    {
     "data": {
      "image/png": "[encoded data removed]",
      "text/plain": [
       "<Figure size 648x504 with 1 Axes>"
      ]
     },
     "metadata": {
      "needs_background": "light"
     },
     "output_type": "display_data"
    }
   ],
   "source": [
    "plt.figure(figsize = (9, 7))\n",
    "plt.plot([training_metrics[e]['total_val_loss'] for e in training_metrics.keys()], label = 'val total loss')\n",
    "plt.legend(loc = 'best')\n",
    "plt.xlabel(\"epochs\")\n",
    "plt.ylabel(\"loss\")\n",
    "plt.title(\"VAE: Training Visualization - Total Validation Loss\")\n",
    "plt.show()"
   ]
  },
  {
   "cell_type": "code",
   "execution_count": 58,
   "id": "930eb55a-4ced-4f67-93ae-49b5cda1b9e7",
   "metadata": {
    "colab": {
     "base_uri": "https://localhost:8080/",
     "height": 458
    },
    "id": "TjkFW_Vwd0A6",
    "outputId": "5193160b-f62e-443e-c739-0397bbf1669d"
   },
   "outputs": [
    {
     "data": {
      "image/png": "[encoded data removed]",
      "text/plain": [
       "<Figure size 648x504 with 1 Axes>"
      ]
     },
     "metadata": {
      "needs_background": "light"
     },
     "output_type": "display_data"
    }
   ],
   "source": [
    "plt.figure(figsize = (9, 7))\n",
    "plt.plot([training_metrics[e]['recon_loss'] for e in training_metrics.keys()], label = 'train recon loss')\n",
    "plt.legend(loc = 'best')\n",
    "plt.xlabel(\"epochs\")\n",
    "plt.ylabel(\"loss\")\n",
    "plt.title(\"VAE: Training Visualization - Reconstruction Loss (training)\")\n",
    "plt.show()"
   ]
  },
  {
   "cell_type": "code",
   "execution_count": 59,
   "id": "764bf41e-9f97-4bf3-9ab5-408021230c8e",
   "metadata": {
    "colab": {
     "base_uri": "https://localhost:8080/",
     "height": 458
    },
    "id": "f6b0MxLsd5YC",
    "outputId": "6b9d6223-08ae-4cf6-d942-f2b5c4d69c2d"
   },
   "outputs": [
    {
     "data": {
      "image/png": "[encoded data removed]",
      "text/plain": [
       "<Figure size 648x504 with 1 Axes>"
      ]
     },
     "metadata": {
      "needs_background": "light"
     },
     "output_type": "display_data"
    }
   ],
   "source": [
    "plt.figure(figsize = (9, 7))\n",
    "plt.plot([training_metrics[e]['recon_val_loss'] for e in training_metrics.keys()], label = 'val recon loss')\n",
    "plt.legend(loc = 'best')\n",
    "plt.xlabel(\"epochs\")\n",
    "plt.ylabel(\"loss\")\n",
    "plt.title(\"VAE: Training Visualization - Reconstruction Loss (validation)\")\n",
    "plt.show()"
   ]
  },
  {
   "cell_type": "code",
   "execution_count": 60,
   "id": "ac535554-d554-4aff-94cc-6c400a95ace3",
   "metadata": {
    "colab": {
     "base_uri": "https://localhost:8080/",
     "height": 458
    },
    "id": "XHNued-Gd-Ke",
    "outputId": "1201ea7c-08f0-415e-e052-d3435aa899d5"
   },
   "outputs": [
    {
     "data": {
      "image/png": "[encoded data removed]",
      "text/plain": [
       "<Figure size 648x504 with 1 Axes>"
      ]
     },
     "metadata": {
      "needs_background": "light"
     },
     "output_type": "display_data"
    }
   ],
   "source": [
    "plt.figure(figsize = (9, 7))\n",
    "plt.plot([training_metrics[e]['kl_loss'] for e in training_metrics.keys()], label = 'train KL-div loss')\n",
    "plt.legend(loc = 'best')\n",
    "plt.xlabel(\"epochs\")\n",
    "plt.ylabel(\"loss\")\n",
    "plt.title(\"VAE: Training Visualization - KL-div Loss (training)\")\n",
    "plt.show()"
   ]
  },
  {
   "cell_type": "code",
   "execution_count": 61,
   "id": "bacd5377-cdb0-4a97-9974-6c50c88bd955",
   "metadata": {
    "colab": {
     "base_uri": "https://localhost:8080/",
     "height": 458
    },
    "id": "QL4_P35FeEi_",
    "outputId": "47e9b357-c0ab-4168-9926-681eefb39fa5"
   },
   "outputs": [
    {
     "data": {
      "image/png": "[encoded data removed]",
      "text/plain": [
       "<Figure size 648x504 with 1 Axes>"
      ]
     },
     "metadata": {
      "needs_background": "light"
     },
     "output_type": "display_data"
    }
   ],
   "source": [
    "plt.figure(figsize = (9, 7))\n",
    "plt.plot([training_metrics[e]['val_kl_loss'] for e in training_metrics.keys()], label = 'val KL-div los')\n",
    "plt.legend(loc = 'best')\n",
    "plt.ylabel(\"loss\")\n",
    "plt.xlabel(\"epochs\")\n",
    "plt.title(\"VAE: Training Visualization - KL-div Loss (validation)\")\n",
    "plt.show()"
   ]
  },
  {
   "cell_type": "code",
   "execution_count": null,
   "id": "c22650ce-e4c2-4c64-a381-c1ddc358b3f9",
   "metadata": {},
   "outputs": [],
   "source": []
  },
  {
   "cell_type": "code",
   "execution_count": null,
   "id": "1801045a-51bc-4c37-8e52-9e7e3c97b5c8",
   "metadata": {},
   "outputs": [],
   "source": []
  },
  {
   "cell_type": "markdown",
   "id": "f7a5f7cf-6e10-4350-af6c-48f6c3da984a",
   "metadata": {
    "id": "gbj3vB2KeoWV"
   },
   "source": [
    "### Visualize _reconstructions_ using trained VAE model"
   ]
  },
  {
   "cell_type": "code",
   "execution_count": 68,
   "id": "ca4209e3-8e9d-47a5-9c21-ebdcf59b4d1b",
   "metadata": {
    "id": "ttDuYMZTXqmX"
   },
   "outputs": [],
   "source": [
    "# Get reconstructions, mean & log-variance from trained model-\n",
    "X_train_reconstruced, mu, log_var = model(X_train[:, :])"
   ]
  },
  {
   "cell_type": "code",
   "execution_count": 69,
   "id": "1f3dabfe-6f73-4490-8b2f-cd34ab6fe1d7",
   "metadata": {
    "colab": {
     "base_uri": "https://localhost:8080/"
    },
    "id": "_5dxnX4oYN3Z",
    "outputId": "494e9e7c-1742-46c0-c3ca-86243be1a244"
   },
   "outputs": [
    {
     "data": {
      "text/plain": [
       "((60000, 784), TensorShape([60000, 784]))"
      ]
     },
     "execution_count": 69,
     "metadata": {},
     "output_type": "execute_result"
    }
   ],
   "source": [
    "# Sanity check-\n",
    "X_train[:, :].shape, X_train_reconstruced.shape"
   ]
  },
  {
   "cell_type": "code",
   "execution_count": 70,
   "id": "d770f1ce-b8d8-4266-8361-08e9dc51f143",
   "metadata": {
    "id": "MFwdbrruVoJs"
   },
   "outputs": [],
   "source": [
    "# Reshape for visualization-\n",
    "X_train_reconstruced = tf.reshape(\n",
    "    tensor = X_train_reconstruced,\n",
    "    shape = ((X_train_reconstruced.shape[0], 28, 28)),\n",
    "    name = None\n",
    "    )"
   ]
  },
  {
   "cell_type": "code",
   "execution_count": 71,
   "id": "3ec0f618-e1a9-4485-86e3-13569eb67465",
   "metadata": {
    "colab": {
     "base_uri": "https://localhost:8080/"
    },
    "id": "quD3eRxBZAYn",
    "outputId": "8631629a-9068-428c-f98a-20609a29e4f0"
   },
   "outputs": [
    {
     "data": {
      "text/plain": [
       "(60000, 28, 28)"
      ]
     },
     "execution_count": 71,
     "metadata": {},
     "output_type": "execute_result"
    }
   ],
   "source": [
    "# Sanity check-\n",
    "X_train_reconstruced.numpy().shape"
   ]
  },
  {
   "cell_type": "code",
   "execution_count": null,
   "id": "277f5ce7-d053-4dd3-bc2f-be13f2ff4c4e",
   "metadata": {
    "id": "Aq3mf5ODYRIV"
   },
   "outputs": [],
   "source": []
  },
  {
   "cell_type": "code",
   "execution_count": 66,
   "id": "0972a23b-f70d-46aa-b0e4-6ccaf3f76165",
   "metadata": {
    "colab": {
     "base_uri": "https://localhost:8080/",
     "height": 265
    },
    "id": "Q6EoeQHpYqob",
    "outputId": "9c3d5b9b-0737-407d-cc41-f9f6bdf35276"
   },
   "outputs": [
    {
     "data": {
      "image/png": "[encoded data removed]",
      "text/plain": [
       "<Figure size 432x360 with 1 Axes>"
      ]
     },
     "metadata": {
      "needs_background": "light"
     },
     "output_type": "display_data"
    }
   ],
   "source": [
    "# Visualize a single digit-\n",
    "plt.figure(figsize = (6, 5))\n",
    "plt.imshow(X_train_reconstruced[0], cmap = plt.get_cmap('gray'))\n",
    "plt.show()"
   ]
  },
  {
   "cell_type": "code",
   "execution_count": 72,
   "id": "89e65e63-62fc-4f8f-bc75-3b07730ffefb",
   "metadata": {
    "colab": {
     "base_uri": "https://localhost:8080/",
     "height": 479
    },
    "id": "MqgovHByaI-7",
    "outputId": "e975ccb9-af39-432f-da77-bd0ba0d9c33a"
   },
   "outputs": [
    {
     "data": {
      "image/png": "[encoded data removed]",
      "text/plain": [
       "<Figure size 648x504 with 50 Axes>"
      ]
     },
     "metadata": {
      "needs_background": "light"
     },
     "output_type": "display_data"
    }
   ],
   "source": [
    "# Visualize some of the reconstruced images-\n",
    "plt.figure(figsize = (9, 7))\n",
    "for i in range(50):\n",
    "    # 5 rows & 10 columns-\n",
    "    plt.subplot(5, 10, i + 1)\n",
    "    plt.imshow(X_train_reconstruced[i], cmap = plt.get_cmap('gray'))\n",
    "    \n",
    "plt.suptitle(\"MNIST Reconstructed images\")\n",
    "plt.show()"
   ]
  },
  {
   "cell_type": "code",
   "execution_count": null,
   "id": "e2920827-76e4-4959-94b8-65314e6e6354",
   "metadata": {
    "id": "TLzWku6tZTsp"
   },
   "outputs": [],
   "source": []
  },
  {
   "cell_type": "code",
   "execution_count": null,
   "id": "7da0dc8a-1bcf-4f13-9f03-e1fb32da7e2a",
   "metadata": {
    "id": "f1kr_C9tXSk_"
   },
   "outputs": [],
   "source": []
  },
  {
   "cell_type": "markdown",
   "id": "3b847ca1-8937-4dcb-b2f7-013fe69e346c",
   "metadata": {
    "id": "yPYPgw1RXTRD"
   },
   "source": [
    "#### Check _mu_ and _log_var_ latent space vectors:"
   ]
  },
  {
   "cell_type": "code",
   "execution_count": 73,
   "id": "d212d444-9eaa-40ff-9b86-e1652743fed4",
   "metadata": {
    "colab": {
     "base_uri": "https://localhost:8080/"
    },
    "id": "GciIbyxXWwv5",
    "outputId": "4007e613-9d13-4105-dda2-f58639492834"
   },
   "outputs": [
    {
     "data": {
      "text/plain": [
       "(TensorShape([60000, 3]), TensorShape([60000, 3]))"
      ]
     },
     "execution_count": 73,
     "metadata": {},
     "output_type": "execute_result"
    }
   ],
   "source": [
    "mu.shape, log_var.shape"
   ]
  },
  {
   "cell_type": "code",
   "execution_count": 74,
   "id": "9e90b253-c20a-4f15-b16c-4eee5ffae478",
   "metadata": {
    "colab": {
     "base_uri": "https://localhost:8080/"
    },
    "id": "O5ACoPPsWyDm",
    "outputId": "64b69067-cebf-46e9-8cbb-6490cc69fdba"
   },
   "outputs": [
    {
     "name": "stdout",
     "output_type": "stream",
     "text": [
      "mu: mean = 0.0246 & std dev = 0.8243\n"
     ]
    }
   ],
   "source": [
    "print(f\"mu: mean = {mu.numpy().mean():.4f} & \"\n",
    "f\"std dev = {mu.numpy().std():.4f}\")"
   ]
  },
  {
   "cell_type": "code",
   "execution_count": 75,
   "id": "745d5b8c-5f51-4645-b78d-9ad12be07f70",
   "metadata": {
    "colab": {
     "base_uri": "https://localhost:8080/"
    },
    "id": "FbZMDaRQW1Gc",
    "outputId": "b50c1431-cd65-4a61-bec3-e9612943e7e3"
   },
   "outputs": [
    {
     "name": "stdout",
     "output_type": "stream",
     "text": [
      "log var: mean = -3.018380 & std dev = 2.2199\n"
     ]
    }
   ],
   "source": [
    "print(f\"log var: mean = {log_var.numpy().mean():4f} &\"\n",
    "f\" std dev = {log_var.numpy().std():.4f}\")"
   ]
  },
  {
   "cell_type": "code",
   "execution_count": null,
   "id": "f57cf220-60b9-416f-b345-2ab18fb2383c",
   "metadata": {
    "id": "4LvslCd3W47D"
   },
   "outputs": [],
   "source": []
  },
  {
   "cell_type": "code",
   "execution_count": null,
   "id": "62881435-09cf-4d33-81b8-832c2f05d587",
   "metadata": {
    "id": "qlTCcCNRYYgt"
   },
   "outputs": [],
   "source": []
  },
  {
   "cell_type": "markdown",
   "id": "f1ad005a-de2a-48bb-b434-ed0b8a9d6f78",
   "metadata": {
    "id": "hYVXoBi3fB0e"
   },
   "source": [
    "### Visualize _mean_ and _log-variance_ of _latent space_ using trained VAE model"
   ]
  },
  {
   "cell_type": "code",
   "execution_count": null,
   "id": "3e7be079-cd8a-425e-92e4-621384936a83",
   "metadata": {
    "colab": {
     "base_uri": "https://localhost:8080/",
     "height": 542
    },
    "id": "vDpThxLzeXsb",
    "outputId": "ba59dc77-57c7-4d0c-c8b5-6cb974c98e9c"
   },
   "outputs": [],
   "source": [
    "fig = px.scatter_3d(\n",
    "    x = mu[:, 0], y = mu[:, 1],\n",
    "    z = mu[:, 2],\n",
    "    color = y_train\n",
    "    )\n",
    "fig.show()"
   ]
  },
  {
   "cell_type": "code",
   "execution_count": null,
   "id": "b774d255-ebcc-4903-b61c-05e471754347",
   "metadata": {
    "colab": {
     "base_uri": "https://localhost:8080/",
     "height": 542
    },
    "id": "PXQnwPlmebjm",
    "outputId": "447024b4-c14d-438d-eaff-e3f2f912807b"
   },
   "outputs": [],
   "source": [
    "fig = px.scatter_3d(\n",
    "    x = log_var[:, 0], y = log_var[:, 1],\n",
    "    z = log_var[:, 2],\n",
    "    color = y_train\n",
    "    )\n",
    "fig.show()"
   ]
  },
  {
   "cell_type": "code",
   "execution_count": null,
   "id": "07961e59-597f-46fc-9ef4-68b606e6b2b6",
   "metadata": {
    "id": "yaT2dfiKYWFk"
   },
   "outputs": [],
   "source": []
  },
  {
   "cell_type": "code",
   "execution_count": 79,
   "id": "56eba48d-8778-465a-9474-83c9f5a58ed6",
   "metadata": {
    "id": "2VIIbXNWVze6"
   },
   "outputs": [],
   "source": [
    "# Delete variables to free GPU space-\n",
    "del X_train_reconstruced, mu, log_var"
   ]
  },
  {
   "cell_type": "code",
   "execution_count": null,
   "id": "3206bf8f-5dd7-4adb-81a7-cf44e7e1541a",
   "metadata": {},
   "outputs": [],
   "source": []
  },
  {
   "cell_type": "code",
   "execution_count": null,
   "id": "ff79a9c9-c9c9-46e8-b2be-94e03b8f9be2",
   "metadata": {},
   "outputs": [],
   "source": []
  },
  {
   "cell_type": "markdown",
   "id": "8f50c66e-855f-4121-baff-f212f2bcd7ab",
   "metadata": {
    "id": "a2iOkZrmfH6n"
   },
   "source": [
    "### Visualize _latent space_ of train & test datasets"
   ]
  },
  {
   "cell_type": "code",
   "execution_count": 80,
   "id": "a0d63172-f8b6-4f35-ac78-7749df8f6877",
   "metadata": {
    "id": "IQTc4PVHFDQs"
   },
   "outputs": [],
   "source": [
    "X_train_encoded = model.encoder(X_train)\n",
    "X_test_encoded = model.encoder(X_test)"
   ]
  },
  {
   "cell_type": "code",
   "execution_count": 81,
   "id": "71ef98e7-d4e6-4ce7-8538-f0dde4b696b9",
   "metadata": {
    "colab": {
     "base_uri": "https://localhost:8080/"
    },
    "id": "zqCV5MlHFOjX",
    "outputId": "796b5ca5-bc6f-428d-fb22-dc2dc05d0b03"
   },
   "outputs": [
    {
     "data": {
      "text/plain": [
       "((60000, 784), TensorShape([60000, 3]))"
      ]
     },
     "execution_count": 81,
     "metadata": {},
     "output_type": "execute_result"
    }
   ],
   "source": [
    "X_train.shape, X_train_encoded.shape"
   ]
  },
  {
   "cell_type": "code",
   "execution_count": 82,
   "id": "957c74e8-c015-455a-8bc2-977c1a8c04c3",
   "metadata": {
    "colab": {
     "base_uri": "https://localhost:8080/"
    },
    "id": "o4Scxef-FSJM",
    "outputId": "e9801df1-a593-4705-a9a4-dfb0a58f152a"
   },
   "outputs": [
    {
     "data": {
      "text/plain": [
       "((10000, 784), TensorShape([10000, 3]))"
      ]
     },
     "execution_count": 82,
     "metadata": {},
     "output_type": "execute_result"
    }
   ],
   "source": [
    "X_test.shape, X_test_encoded.shape"
   ]
  },
  {
   "cell_type": "code",
   "execution_count": null,
   "id": "2b399b86-5752-448e-8e95-d2574784da2c",
   "metadata": {
    "id": "UllamU_YFSvP"
   },
   "outputs": [],
   "source": []
  },
  {
   "cell_type": "code",
   "execution_count": null,
   "id": "0fc2b60c-3124-48e5-ab64-e3c03d1fabed",
   "metadata": {
    "id": "zYuYVTuuFQAp"
   },
   "outputs": [],
   "source": []
  },
  {
   "cell_type": "code",
   "execution_count": null,
   "id": "7736c210-3889-4300-a5c8-c70d2a4e6454",
   "metadata": {
    "colab": {
     "base_uri": "https://localhost:8080/",
     "height": 542
    },
    "id": "pMsHeggVVze6",
    "outputId": "b0ea7632-c122-4fda-f9a5-30ec3c46e72f"
   },
   "outputs": [],
   "source": [
    "fig = px.scatter_3d(\n",
    "    x = X_train_encoded[:, 0], y = X_train_encoded[:, 1],\n",
    "    z = X_train_encoded[:, 2],\n",
    "    color = y_train\n",
    ")\n",
    "fig.show()"
   ]
  },
  {
   "cell_type": "code",
   "execution_count": null,
   "id": "d544458a-7b91-49dd-8042-c94becab6f86",
   "metadata": {
    "colab": {
     "base_uri": "https://localhost:8080/",
     "height": 542
    },
    "id": "uplwSAD3Vze6",
    "outputId": "8d0fab19-3646-4301-a069-222cd394b18d"
   },
   "outputs": [],
   "source": [
    "fig = px.scatter_3d(\n",
    "    x = X_test_encoded[:, 0], y = X_test_encoded[:, 1],\n",
    "    z = X_test_encoded[:, 2],\n",
    "    color = y_test\n",
    ")\n",
    "fig.show()"
   ]
  },
  {
   "cell_type": "code",
   "execution_count": null,
   "id": "032e719f-0060-404f-af5a-53080a90260e",
   "metadata": {
    "id": "reseG4NdXbzo"
   },
   "outputs": [],
   "source": []
  },
  {
   "cell_type": "code",
   "execution_count": null,
   "id": "2a08fea8-7624-486c-bb20-7a09bc476dce",
   "metadata": {},
   "outputs": [],
   "source": []
  },
  {
   "cell_type": "markdown",
   "id": "cb5042ed-7a69-4dc3-b9e3-ba89072f18d8",
   "metadata": {},
   "source": [
    "### Get mean and standard deviation for each of the latent variables for encoded data"
   ]
  },
  {
   "cell_type": "code",
   "execution_count": 86,
   "id": "161ff034-7267-474e-b276-4f6158458ebb",
   "metadata": {},
   "outputs": [
    {
     "name": "stdout",
     "output_type": "stream",
     "text": [
      "Encoded Training data: Mean & standard-deviation for each latent variable in latent space 'z'\n",
      "\n",
      "lv = 1: mean = 2.9625 & std dev = 0.9063\n",
      "lv = 2: mean = 3.3614 & std dev = 1.1289\n",
      "lv = 3: mean = 3.5749 & std dev = 0.9113\n"
     ]
    }
   ],
   "source": [
    "print(\"Encoded Training data: Mean & standard-deviation for each latent variable in latent space 'z'\\n\")\n",
    "for i in range(3):\n",
    "    print(f\"lv = {i + 1}: mean = {X_train_encoded[:, i].numpy().mean():.4f} &\"\n",
    "          f\" std dev = {X_train_encoded[:, i].numpy().std():.4f}\")"
   ]
  },
  {
   "cell_type": "code",
   "execution_count": 87,
   "id": "1062f29c-b4ac-4466-a276-2435278cb541",
   "metadata": {},
   "outputs": [
    {
     "name": "stdout",
     "output_type": "stream",
     "text": [
      "Encoded Testing data: Mean & standard-deviation for each latent variable in latent space 'z'\n",
      "\n",
      "lv = 1: mean = 2.9593 & std dev = 0.8959\n",
      "lv = 2: mean = 3.3637 & std dev = 1.1323\n",
      "lv = 3: mean = 3.5783 & std dev = 0.8940\n"
     ]
    }
   ],
   "source": [
    "print(\"Encoded Testing data: Mean & standard-deviation for each latent variable in latent space 'z'\\n\")\n",
    "for i in range(3):\n",
    "    print(f\"lv = {i + 1}: mean = {X_test_encoded[:, i].numpy().mean():.4f} &\"\n",
    "          f\" std dev = {X_test_encoded[:, i].numpy().std():.4f}\")"
   ]
  },
  {
   "cell_type": "code",
   "execution_count": null,
   "id": "66ec32c7-08d6-449d-ad42-19dfb8fbb983",
   "metadata": {},
   "outputs": [],
   "source": []
  },
  {
   "cell_type": "code",
   "execution_count": null,
   "id": "ba0ead04-59d5-4531-a465-5e1fdea05771",
   "metadata": {},
   "outputs": [],
   "source": []
  },
  {
   "cell_type": "markdown",
   "id": "868a31c2-1868-4144-81d7-181e9cfc5fe3",
   "metadata": {},
   "source": [
    "### Visualize _latent space_ distributions for all latent variables"
   ]
  },
  {
   "cell_type": "code",
   "execution_count": 88,
   "id": "95e2ad65-5b33-4d72-b5f8-34114f5069ae",
   "metadata": {},
   "outputs": [
    {
     "name": "stdout",
     "output_type": "stream",
     "text": [
      "number of bins - rule of thumb = 245\n"
     ]
    }
   ],
   "source": [
    "# Compute number of bins using rule of thumnb-\n",
    "num_bins = int(np.ceil(np.sqrt(len(X_train_encoded[:, 0]))))\n",
    "print(f\"number of bins - rule of thumb = {num_bins}\")"
   ]
  },
  {
   "cell_type": "code",
   "execution_count": null,
   "id": "489bc7dc-27e4-47b7-9b27-90ef49c5db93",
   "metadata": {},
   "outputs": [],
   "source": []
  },
  {
   "cell_type": "code",
   "execution_count": 89,
   "id": "7d260e9b-c0d3-4b0a-ba99-507ac0ba0674",
   "metadata": {},
   "outputs": [
    {
     "data": {
      "image/png": "[encoded data removed]",
      "text/plain": [
       "<Figure size 432x288 with 1 Axes>"
      ]
     },
     "metadata": {
      "needs_background": "light"
     },
     "output_type": "display_data"
    }
   ],
   "source": [
    "n, b, _ = plt.hist(X_train_encoded[:, 0].numpy(), bins = num_bins)\n",
    "plt.title(\"Histogram: 1st latent variable distribution\")\n",
    "plt.xlabel(\"z1 - trained weights\")\n",
    "plt.show()"
   ]
  },
  {
   "cell_type": "code",
   "execution_count": 90,
   "id": "8c776f69-24c4-4cd4-b66b-722adba42f1e",
   "metadata": {},
   "outputs": [
    {
     "data": {
      "image/png": "[encoded data removed]",
      "text/plain": [
       "<Figure size 432x288 with 1 Axes>"
      ]
     },
     "metadata": {
      "needs_background": "light"
     },
     "output_type": "display_data"
    }
   ],
   "source": [
    "n, b, _ = plt.hist(X_train_encoded[:, 1].numpy(), bins = num_bins)\n",
    "plt.title(\"Histogram: 2nd latent variable distribution\")\n",
    "plt.xlabel(\"z2 - trained weights\")\n",
    "plt.show()"
   ]
  },
  {
   "cell_type": "code",
   "execution_count": 91,
   "id": "08b4de83-1cee-472b-99d9-ac397b838373",
   "metadata": {},
   "outputs": [
    {
     "data": {
      "image/png": "[encoded data removed]",
      "text/plain": [
       "<Figure size 432x288 with 1 Axes>"
      ]
     },
     "metadata": {
      "needs_background": "light"
     },
     "output_type": "display_data"
    }
   ],
   "source": [
    "n, b, _ = plt.hist(X_train_encoded[:, 2].numpy(), bins = num_bins)\n",
    "plt.title(\"Histogram: 3rd latent variable distribution\")\n",
    "plt.xlabel(\"z3 - trained weights\")\n",
    "plt.show()"
   ]
  },
  {
   "cell_type": "code",
   "execution_count": null,
   "id": "b11be27f-6360-4916-843f-5e70d353d725",
   "metadata": {},
   "outputs": [],
   "source": []
  },
  {
   "cell_type": "code",
   "execution_count": null,
   "id": "6f0e9cb5-b157-4402-af18-9bdcc2e4663f",
   "metadata": {},
   "outputs": [],
   "source": []
  },
  {
   "cell_type": "code",
   "execution_count": 93,
   "id": "fd9edc4c-7f33-4cdf-a509-0cf567307201",
   "metadata": {},
   "outputs": [
    {
     "data": {
      "image/png": "[encoded data removed]",
      "text/plain": [
       "<Figure size 576x288 with 3 Axes>"
      ]
     },
     "metadata": {
      "needs_background": "light"
     },
     "output_type": "display_data"
    }
   ],
   "source": [
    "fig, axes = plt.subplots(\n",
    "    nrows = 1, ncols = 3, \n",
    "    sharex = True, sharey = True,\n",
    "    figsize = (8, 4)\n",
    ")\n",
    "\n",
    "i = 0\n",
    "for col in range(len(axes)):\n",
    "    # for col in range(len(axes[0])):\n",
    "    axes[col].hist(X_train_encoded[:, i].numpy(), bins = num_bins)\n",
    "    i += 1\n",
    "\n",
    "plt.suptitle(\"Latent Space Distribution with Histograms\")\n",
    "plt.show()"
   ]
  },
  {
   "cell_type": "code",
   "execution_count": null,
   "id": "23022711-debe-493b-a2aa-a40d55e96b37",
   "metadata": {},
   "outputs": [],
   "source": []
  },
  {
   "cell_type": "code",
   "execution_count": null,
   "id": "365be7a4-8316-409d-bb32-babce610aad7",
   "metadata": {},
   "outputs": [],
   "source": []
  },
  {
   "cell_type": "code",
   "execution_count": 94,
   "id": "2561f714-a487-40ef-af05-1fca24ddf741",
   "metadata": {
    "id": "akETILVPVze6"
   },
   "outputs": [],
   "source": [
    "del X_train_encoded, X_test_encoded"
   ]
  },
  {
   "cell_type": "code",
   "execution_count": null,
   "id": "7cfbab5b-c5c4-4e6d-8b76-5837fe71385c",
   "metadata": {
    "id": "T0zEhZw3Fbc9"
   },
   "outputs": [],
   "source": []
  },
  {
   "cell_type": "code",
   "execution_count": null,
   "id": "19fe7a1a-0b00-461a-94a7-fe2794a1d51e",
   "metadata": {
    "id": "huzZfpvKFbgf"
   },
   "outputs": [],
   "source": []
  }
 ],
 "metadata": {
  "kernelspec": {
   "display_name": "Python 3 (ipykernel)",
   "language": "python",
   "name": "python3"
  },
  "language_info": {
   "codemirror_mode": {
    "name": "ipython",
    "version": 3
   },
   "file_extension": ".py",
   "mimetype": "text/x-python",
   "name": "python",
   "nbconvert_exporter": "python",
   "pygments_lexer": "ipython3",
   "version": "3.9.7"
  }
 },
 "nbformat": 4,
 "nbformat_minor": 5
}
