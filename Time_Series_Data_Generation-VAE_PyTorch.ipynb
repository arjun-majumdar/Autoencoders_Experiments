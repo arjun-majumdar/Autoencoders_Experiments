{
 "cells": [
  {
   "cell_type": "markdown",
   "id": "d57f120d-9f73-4cb8-848d-2851318ae563",
   "metadata": {},
   "source": [
    "# Time Series Synthetic Data Generation with VAE\n",
    "\n",
    "An experiment for synthetic data generation __without using a seq2seq__ deep learning model (such as - RNN, LSTM, GRU, etc). The idea is to use the dataset _without shuffling_ to preserve it's time series nature and get the reconstructed data points from the trained VAE. A loss such as _mean squared error_ can be used to gauge feature-wise loss for subsequent analysis.\n",
    "\n",
    "[Dataset source](https://storage.googleapis.com/tensorflow/tf-keras-datasets/jena_climate_2009_2016.csv.zip)"
   ]
  },
  {
   "cell_type": "code",
   "execution_count": 1,
   "id": "0e680245-ac02-4b8f-a511-095a8b5b422f",
   "metadata": {},
   "outputs": [],
   "source": [
    "import pandas as pd\n",
    "import numpy as np\n",
    "import matplotlib.pyplot as plt\n",
    "import seaborn as sns\n",
    "\n",
    "import torch\n",
    "import torch.nn as nn\n",
    "import torch.nn.functional as F\n",
    "from torch.utils.data import Dataset, DataLoader\n",
    "# import torchvision\n",
    "# import torchvision.transforms as transforms\n",
    "\n",
    "from tqdm import tqdm\n",
    "from tqdm import trange\n",
    "\n",
    "from sklearn.preprocessing import StandardScaler, MinMaxScaler, RobustScaler"
   ]
  },
  {
   "cell_type": "code",
   "execution_count": null,
   "id": "b531076d-4486-4792-b1cc-65c9911d2e19",
   "metadata": {},
   "outputs": [],
   "source": []
  },
  {
   "cell_type": "code",
   "execution_count": null,
   "id": "0b72075c-5d8d-4a2d-b9a3-f3ec3b86a39b",
   "metadata": {},
   "outputs": [],
   "source": []
  },
  {
   "cell_type": "code",
   "execution_count": 2,
   "id": "de5562e8-9fcd-4808-9504-638a3c56a85f",
   "metadata": {},
   "outputs": [
    {
     "name": "stdout",
     "output_type": "stream",
     "text": [
      "torch version: 1.9.0\n"
     ]
    }
   ],
   "source": [
    "print(f\"torch version: {torch.__version__}\")"
   ]
  },
  {
   "cell_type": "code",
   "execution_count": 3,
   "id": "e3dd5c53-f7ac-4a01-87b4-f9ad1139db61",
   "metadata": {},
   "outputs": [
    {
     "name": "stdout",
     "output_type": "stream",
     "text": [
      "Number of GPU(s) available = 0\n"
     ]
    }
   ],
   "source": [
    "# Check if there are multiple devices (i.e., GPU cards)-\n",
    "print(f\"Number of GPU(s) available = {torch.cuda.device_count()}\")\n",
    "\n",
    "# Which GPU Is The Current GPU?\n",
    "# print(f\"current GPU: {torch.cuda.current_device()}\")\n",
    "\n",
    "# Get the name of the current GPU-\n",
    "# print(f\"Current GPU name: {torch.cuda.get_device_name(torch.cuda.current_device())}\")\n",
    "\n",
    "# Is PyTorch using a GPU?\n",
    "# print(f\"Is PyTorch using a GPU? {torch.cuda.is_available()}\")"
   ]
  },
  {
   "cell_type": "code",
   "execution_count": 4,
   "id": "f895758d-ba23-4b6c-9209-311af557dce4",
   "metadata": {},
   "outputs": [
    {
     "name": "stdout",
     "output_type": "stream",
     "text": [
      "PyTorch does not have access to GPU\n"
     ]
    }
   ],
   "source": [
    "if torch.cuda.is_available():\n",
    "    print(f\"Current GPU: {torch.cuda.current_device()}\")\n",
    "    print(f\"Current GPU name: {torch.cuda.get_device_name(torch.cuda.current_device())}\")\n",
    "else:\n",
    "    print(\"PyTorch does not have access to GPU\")"
   ]
  },
  {
   "cell_type": "code",
   "execution_count": 5,
   "id": "00d4620a-91f4-4868-8c88-574d01b3c558",
   "metadata": {},
   "outputs": [
    {
     "name": "stdout",
     "output_type": "stream",
     "text": [
      "Available device is cpu\n"
     ]
    }
   ],
   "source": [
    "# Device configuration-\n",
    "device = torch.device('cuda' if torch.cuda.is_available() else 'cpu')\n",
    "print(f'Available device is {device}')"
   ]
  },
  {
   "cell_type": "code",
   "execution_count": null,
   "id": "81c8f58e-7e78-4827-96c0-5c6631e29a78",
   "metadata": {},
   "outputs": [],
   "source": []
  },
  {
   "cell_type": "code",
   "execution_count": null,
   "id": "d275be98-7b56-44c9-8ca0-e95f5b1dfa61",
   "metadata": {},
   "outputs": [],
   "source": []
  },
  {
   "cell_type": "code",
   "execution_count": 6,
   "id": "7df6401e-b29f-41d0-87dc-5e168f4d1b44",
   "metadata": {},
   "outputs": [],
   "source": [
    "# Read-in dataset-\n",
    "data = pd.read_csv(\"C:\\\\Users\\\\Arjun\\\\Downloads\\\\jena_climate_2009_2016.csv\")"
   ]
  },
  {
   "cell_type": "code",
   "execution_count": 7,
   "id": "c5f33b5b-a887-4511-a93f-eefd9a8bd01a",
   "metadata": {},
   "outputs": [
    {
     "data": {
      "text/plain": [
       "(420551, 15)"
      ]
     },
     "execution_count": 7,
     "metadata": {},
     "output_type": "execute_result"
    }
   ],
   "source": [
    "data.shape"
   ]
  },
  {
   "cell_type": "code",
   "execution_count": 8,
   "id": "4513bc37-28d0-47a2-8750-c3d48b4858f0",
   "metadata": {},
   "outputs": [
    {
     "data": {
      "text/plain": [
       "Index(['Date Time', 'p (mbar)', 'T (degC)', 'Tpot (K)', 'Tdew (degC)',\n",
       "       'rh (%)', 'VPmax (mbar)', 'VPact (mbar)', 'VPdef (mbar)', 'sh (g/kg)',\n",
       "       'H2OC (mmol/mol)', 'rho (g/m**3)', 'wv (m/s)', 'max. wv (m/s)',\n",
       "       'wd (deg)'],\n",
       "      dtype='object')"
      ]
     },
     "execution_count": 8,
     "metadata": {},
     "output_type": "execute_result"
    }
   ],
   "source": [
    "data.columns"
   ]
  },
  {
   "cell_type": "code",
   "execution_count": null,
   "id": "5fae0eee-02c8-4ea4-bcb4-ff11ab9e81f0",
   "metadata": {},
   "outputs": [],
   "source": []
  },
  {
   "cell_type": "code",
   "execution_count": 9,
   "id": "ff4bc2d5-0194-4a3f-8263-6f93d08f6e44",
   "metadata": {},
   "outputs": [],
   "source": [
    "# Convert 'Dae Time' column to datetime-\n",
    "data['Date Time'] = pd.to_datetime(data['Date Time'])"
   ]
  },
  {
   "cell_type": "code",
   "execution_count": 10,
   "id": "3a4b0bfa-7387-4dc7-99c4-271ed51fa0ed",
   "metadata": {},
   "outputs": [],
   "source": [
    "# Sort in increasing order for 'Date Time' column-\n",
    "data.sort_values(by = 'Date Time', ascending = True, inplace = True)"
   ]
  },
  {
   "cell_type": "code",
   "execution_count": null,
   "id": "3fce5f55-429c-4ac0-b550-6d6875f087a9",
   "metadata": {},
   "outputs": [],
   "source": []
  },
  {
   "cell_type": "code",
   "execution_count": 11,
   "id": "cea337b0-3bd7-4699-b25d-a234e40a4552",
   "metadata": {},
   "outputs": [
    {
     "data": {
      "text/plain": [
       "False"
      ]
     },
     "execution_count": 11,
     "metadata": {},
     "output_type": "execute_result"
    }
   ],
   "source": [
    "# Check for missing values-\n",
    "data.isna().values.any()\n",
    "# False"
   ]
  },
  {
   "cell_type": "code",
   "execution_count": 12,
   "id": "f19204e6-0b01-4a26-a885-ae9045130915",
   "metadata": {},
   "outputs": [
    {
     "data": {
      "text/plain": [
       "0"
      ]
     },
     "execution_count": 12,
     "metadata": {},
     "output_type": "execute_result"
    }
   ],
   "source": [
    "# Check for missing values-\n",
    "data.isna().sum().sum()\n",
    "# 0"
   ]
  },
  {
   "cell_type": "code",
   "execution_count": null,
   "id": "ecbbb75f-2f60-471d-ab5b-d35a2d1599e0",
   "metadata": {},
   "outputs": [],
   "source": []
  },
  {
   "cell_type": "code",
   "execution_count": 13,
   "id": "74e0fafd-7cdf-4c42-a86a-8f98cb5c68cb",
   "metadata": {},
   "outputs": [],
   "source": [
    "# Select desired attributes/features/variables/channels/columns-\n",
    "cols = [\n",
    "    'p (mbar)', 'T (degC)', 'Tpot (K)', 'Tdew (degC)', 'rh (%)',\n",
    "    'VPmax (mbar)', 'VPact (mbar)', 'VPdef (mbar)', 'sh (g/kg)',\n",
    "    'H2OC (mmol/mol)', 'rho (g/m**3)', 'wv (m/s)', 'max. wv (m/s)',\n",
    "    'wd (deg)'\n",
    "]"
   ]
  },
  {
   "cell_type": "code",
   "execution_count": null,
   "id": "3f589339-dfd0-4876-940d-5cdff2d66a73",
   "metadata": {},
   "outputs": [],
   "source": []
  },
  {
   "cell_type": "code",
   "execution_count": 14,
   "id": "173d4f44-dee1-4fdc-b723-c3f4d82c6928",
   "metadata": {},
   "outputs": [
    {
     "data": {
      "text/plain": [
       "<Figure size 720x576 with 0 Axes>"
      ]
     },
     "metadata": {},
     "output_type": "display_data"
    },
    {
     "data": {
      "image/png": "[encoded data removed]",
      "text/plain": [
       "<Figure size 432x288 with 16 Axes>"
      ]
     },
     "metadata": {
      "needs_background": "light"
     },
     "output_type": "display_data"
    }
   ],
   "source": [
    "plt.figure(figsize = (10, 8))\n",
    "\n",
    "data.loc[:, cols].hist(bins = int(np.ceil(np.sqrt(len(data)))))\n",
    "\n",
    "plt.suptitle(\"Dataset Distribution\")\n",
    "plt.show()"
   ]
  },
  {
   "cell_type": "code",
   "execution_count": null,
   "id": "b601dee0-2785-4b9f-b9fb-14638ca9a932",
   "metadata": {},
   "outputs": [],
   "source": []
  },
  {
   "cell_type": "code",
   "execution_count": null,
   "id": "92c578ce-79fc-4c4b-804c-9fa3ca5600e1",
   "metadata": {},
   "outputs": [],
   "source": []
  },
  {
   "cell_type": "code",
   "execution_count": 15,
   "id": "25fee715-66e7-427e-a37b-5d42cbea6797",
   "metadata": {},
   "outputs": [
    {
     "data": {
      "image/png": "[encoded data removed]",
      "text/plain": [
       "<Figure size 432x288 with 1 Axes>"
      ]
     },
     "metadata": {
      "needs_background": "light"
     },
     "output_type": "display_data"
    }
   ],
   "source": [
    "sns.histplot(data = data, x = 'p (mbar)', bins = int(np.ceil(np.sqrt(len(data)))))\n",
    "plt.title(\"Data distribution - 'p (mbar)'\")\n",
    "plt.show()"
   ]
  },
  {
   "cell_type": "code",
   "execution_count": 16,
   "id": "4480b6a8-6b08-4319-a5d2-c8d559622727",
   "metadata": {},
   "outputs": [
    {
     "data": {
      "image/png": "[encoded data removed]",
      "text/plain": [
       "<Figure size 432x288 with 1 Axes>"
      ]
     },
     "metadata": {
      "needs_background": "light"
     },
     "output_type": "display_data"
    }
   ],
   "source": [
    "sns.histplot(data = data, x = 'T (degC)', bins = int(np.ceil(np.sqrt(len(data)))))\n",
    "plt.title(\"Data distribution - 'T (degC)'\")\n",
    "plt.show()"
   ]
  },
  {
   "cell_type": "code",
   "execution_count": 17,
   "id": "59254eba-1db6-40c2-ab78-b3178a8f6039",
   "metadata": {},
   "outputs": [
    {
     "data": {
      "image/png": "[encoded data removed]",
      "text/plain": [
       "<Figure size 432x288 with 1 Axes>"
      ]
     },
     "metadata": {
      "needs_background": "light"
     },
     "output_type": "display_data"
    }
   ],
   "source": [
    "sns.histplot(data = data, x = 'Tpot (K)', bins = int(np.ceil(np.sqrt(len(data)))))\n",
    "plt.title(\"Data distribution - 'Tpot (K)'\")\n",
    "plt.show()"
   ]
  },
  {
   "cell_type": "code",
   "execution_count": 18,
   "id": "e9fe8db7-e685-4a36-87d5-35c1a653e835",
   "metadata": {},
   "outputs": [
    {
     "data": {
      "image/png": "[encoded data removed]",
      "text/plain": [
       "<Figure size 432x288 with 1 Axes>"
      ]
     },
     "metadata": {
      "needs_background": "light"
     },
     "output_type": "display_data"
    }
   ],
   "source": [
    "sns.histplot(data = data, x = 'Tdew (degC)', bins = int(np.ceil(np.sqrt(len(data)))))\n",
    "plt.title(\"Data distribution - 'Tdew (degC)'\")\n",
    "plt.show()"
   ]
  },
  {
   "cell_type": "code",
   "execution_count": 19,
   "id": "a1c60886-ec2b-4050-b866-e9b8d534441c",
   "metadata": {},
   "outputs": [
    {
     "data": {
      "image/png": "[encoded data removed]",
      "text/plain": [
       "<Figure size 432x288 with 1 Axes>"
      ]
     },
     "metadata": {
      "needs_background": "light"
     },
     "output_type": "display_data"
    }
   ],
   "source": [
    "sns.histplot(data = data, x = 'rh (%)', bins = int(np.ceil(np.sqrt(len(data)))))\n",
    "plt.title(\"Data distribution - 'rh (%)'\")\n",
    "plt.show()"
   ]
  },
  {
   "cell_type": "code",
   "execution_count": 20,
   "id": "bb04c596-cab6-412b-9cbe-33bb9c95e1d2",
   "metadata": {},
   "outputs": [
    {
     "data": {
      "image/png": "[encoded data removed]",
      "text/plain": [
       "<Figure size 432x288 with 1 Axes>"
      ]
     },
     "metadata": {
      "needs_background": "light"
     },
     "output_type": "display_data"
    }
   ],
   "source": [
    "sns.histplot(data = data, x = 'VPmax (mbar)', bins = int(np.ceil(np.sqrt(len(data)))))\n",
    "plt.title(\"Data distribution - 'VPmax (mbar)'\")\n",
    "plt.show()"
   ]
  },
  {
   "cell_type": "code",
   "execution_count": 21,
   "id": "56f8b56b-a3b0-4370-884e-d48e5602d768",
   "metadata": {},
   "outputs": [
    {
     "data": {
      "image/png": "[encoded data removed]",
      "text/plain": [
       "<Figure size 432x288 with 1 Axes>"
      ]
     },
     "metadata": {
      "needs_background": "light"
     },
     "output_type": "display_data"
    }
   ],
   "source": [
    "sns.histplot(data = data, x = 'VPact (mbar)', bins = int(np.ceil(np.sqrt(len(data)))))\n",
    "plt.title(\"Data distribution - 'VPact (mbar)'\")\n",
    "plt.show()"
   ]
  },
  {
   "cell_type": "code",
   "execution_count": 22,
   "id": "500db3fa-f507-4893-8c12-a2aa853e725c",
   "metadata": {},
   "outputs": [
    {
     "data": {
      "image/png": "[encoded data removed]",
      "text/plain": [
       "<Figure size 432x288 with 1 Axes>"
      ]
     },
     "metadata": {
      "needs_background": "light"
     },
     "output_type": "display_data"
    }
   ],
   "source": [
    "sns.histplot(data = data, x = 'VPdef (mbar)', bins = int(np.ceil(np.sqrt(len(data)))))\n",
    "plt.title(\"Data distribution - 'VPdef (mbar)'\")\n",
    "plt.show()"
   ]
  },
  {
   "cell_type": "code",
   "execution_count": 23,
   "id": "6380cb2c-9cb2-4bdd-9a71-dba9bc396710",
   "metadata": {},
   "outputs": [
    {
     "data": {
      "image/png": "[encoded data removed]",
      "text/plain": [
       "<Figure size 432x288 with 1 Axes>"
      ]
     },
     "metadata": {
      "needs_background": "light"
     },
     "output_type": "display_data"
    }
   ],
   "source": [
    "sns.histplot(data = data, x = 'sh (g/kg)', bins = int(np.ceil(np.sqrt(len(data)))))\n",
    "plt.title(\"Data distribution - 'sh (g/kg)'\")\n",
    "plt.show()"
   ]
  },
  {
   "cell_type": "code",
   "execution_count": 24,
   "id": "b26b041a-7525-4be4-93e0-91c483bff301",
   "metadata": {},
   "outputs": [
    {
     "data": {
      "image/png": "[encoded data removed]",
      "text/plain": [
       "<Figure size 432x288 with 1 Axes>"
      ]
     },
     "metadata": {
      "needs_background": "light"
     },
     "output_type": "display_data"
    }
   ],
   "source": [
    "sns.histplot(data = data, x = 'H2OC (mmol/mol)', bins = int(np.ceil(np.sqrt(len(data)))))\n",
    "plt.title(\"Data distribution - 'H2OC (mmol/mol)'\")\n",
    "plt.show()"
   ]
  },
  {
   "cell_type": "code",
   "execution_count": 25,
   "id": "c4d820c5-c7b1-446c-8028-d1a4d293f1fb",
   "metadata": {},
   "outputs": [
    {
     "data": {
      "image/png": "[encoded data removed]",
      "text/plain": [
       "<Figure size 432x288 with 1 Axes>"
      ]
     },
     "metadata": {
      "needs_background": "light"
     },
     "output_type": "display_data"
    }
   ],
   "source": [
    "sns.histplot(data = data, x = 'rho (g/m**3)', bins = int(np.ceil(np.sqrt(len(data)))))\n",
    "plt.title(\"Data distribution - 'rho (g/m**3)'\")\n",
    "plt.show()"
   ]
  },
  {
   "cell_type": "code",
   "execution_count": 26,
   "id": "be6e13d1-e5e3-42de-9f33-371525184c91",
   "metadata": {},
   "outputs": [
    {
     "data": {
      "image/png": "[encoded data removed]",
      "text/plain": [
       "<Figure size 432x288 with 1 Axes>"
      ]
     },
     "metadata": {
      "needs_background": "light"
     },
     "output_type": "display_data"
    }
   ],
   "source": [
    "sns.histplot(data = data, x = 'wv (m/s)', bins = int(np.ceil(np.sqrt(len(data)))))\n",
    "plt.title(\"Data distribution - 'wv (m/s)'\")\n",
    "plt.show()"
   ]
  },
  {
   "cell_type": "code",
   "execution_count": 27,
   "id": "7be82913-bcb2-4093-a656-2c4e6b32e8a0",
   "metadata": {},
   "outputs": [
    {
     "data": {
      "image/png": "[encoded data removed]",
      "text/plain": [
       "<Figure size 432x288 with 1 Axes>"
      ]
     },
     "metadata": {
      "needs_background": "light"
     },
     "output_type": "display_data"
    }
   ],
   "source": [
    "sns.histplot(data = data, x = 'max. wv (m/s)', bins = int(np.ceil(np.sqrt(len(data)))))\n",
    "plt.title(\"Data distribution - 'max. wv (m/s)'\")\n",
    "plt.show()"
   ]
  },
  {
   "cell_type": "code",
   "execution_count": null,
   "id": "58f714da-dfb9-4ef4-9cc9-202e3f734d4b",
   "metadata": {},
   "outputs": [],
   "source": []
  },
  {
   "cell_type": "code",
   "execution_count": 28,
   "id": "fe8cb057-eff1-4ac5-9596-689fd5cbe0a0",
   "metadata": {},
   "outputs": [
    {
     "data": {
      "text/plain": [
       "(-9999.0, 23.5)"
      ]
     },
     "execution_count": 28,
     "metadata": {},
     "output_type": "execute_result"
    }
   ],
   "source": [
    "data['max. wv (m/s)'].min(), data['max. wv (m/s)'].max()"
   ]
  },
  {
   "cell_type": "code",
   "execution_count": 29,
   "id": "3e19e672-9ca3-45ea-89fe-c9d1928d873a",
   "metadata": {},
   "outputs": [
    {
     "data": {
      "text/plain": [
       "(-9999.0, 28.49)"
      ]
     },
     "execution_count": 29,
     "metadata": {},
     "output_type": "execute_result"
    }
   ],
   "source": [
    "data['wv (m/s)'].min(), data['wv (m/s)'].max()"
   ]
  },
  {
   "cell_type": "code",
   "execution_count": null,
   "id": "f14f0b1e-d6b0-4888-aa55-260ca96cb51d",
   "metadata": {},
   "outputs": [],
   "source": []
  },
  {
   "cell_type": "code",
   "execution_count": 30,
   "id": "8c73c1f4-30ab-4cf1-b7ad-f613b2907c96",
   "metadata": {},
   "outputs": [
    {
     "data": {
      "text/plain": [
       "343578   -9999.0\n",
       "343579   -9999.0\n",
       "343580   -9999.0\n",
       "343581   -9999.0\n",
       "343582   -9999.0\n",
       "343583   -9999.0\n",
       "343584   -9999.0\n",
       "343585   -9999.0\n",
       "343586   -9999.0\n",
       "343587   -9999.0\n",
       "343588   -9999.0\n",
       "343589   -9999.0\n",
       "343590   -9999.0\n",
       "343591   -9999.0\n",
       "343592   -9999.0\n",
       "343593   -9999.0\n",
       "343594   -9999.0\n",
       "343595   -9999.0\n",
       "Name: wv (m/s), dtype: float64"
      ]
     },
     "execution_count": 30,
     "metadata": {},
     "output_type": "execute_result"
    }
   ],
   "source": [
    "data.loc[data['wv (m/s)'] < 0, 'wv (m/s)']"
   ]
  },
  {
   "cell_type": "code",
   "execution_count": 31,
   "id": "d9d6fcf9-5252-42fa-9d7b-7ea467017d2a",
   "metadata": {},
   "outputs": [
    {
     "data": {
      "text/plain": [
       "343577   -9999.0\n",
       "343578   -9999.0\n",
       "343579   -9999.0\n",
       "343580   -9999.0\n",
       "343581   -9999.0\n",
       "343582   -9999.0\n",
       "343583   -9999.0\n",
       "343584   -9999.0\n",
       "343585   -9999.0\n",
       "343586   -9999.0\n",
       "343587   -9999.0\n",
       "343588   -9999.0\n",
       "343589   -9999.0\n",
       "343590   -9999.0\n",
       "343591   -9999.0\n",
       "343592   -9999.0\n",
       "343593   -9999.0\n",
       "343594   -9999.0\n",
       "343595   -9999.0\n",
       "343596   -9999.0\n",
       "Name: max. wv (m/s), dtype: float64"
      ]
     },
     "execution_count": 31,
     "metadata": {},
     "output_type": "execute_result"
    }
   ],
   "source": [
    "data.loc[data['max. wv (m/s)'] < 0, 'max. wv (m/s)']"
   ]
  },
  {
   "cell_type": "markdown",
   "id": "20fc42c1-67e8-458d-afc8-15f3f54a63b3",
   "metadata": {},
   "source": [
    "### Observation:\n",
    "\n",
    "- _max. wv (m/s)_ and _wv (m/s)_ cannot be negative! Data is faulty and/or corrupt.\n",
    "\n",
    "- not a lot of values are negative."
   ]
  },
  {
   "cell_type": "code",
   "execution_count": 32,
   "id": "02a5ed34-1ec9-4046-9ad9-08a104c740d8",
   "metadata": {},
   "outputs": [],
   "source": [
    "# Replace negative values by 0-\n",
    "data.loc[data['wv (m/s)'] < 0, 'wv (m/s)'] = 0"
   ]
  },
  {
   "cell_type": "code",
   "execution_count": 33,
   "id": "f286115e-8e98-48cd-8d2d-a52f72dc068b",
   "metadata": {},
   "outputs": [],
   "source": [
    "# Replace negative values by 0-\n",
    "data.loc[data['max. wv (m/s)'] < 0, 'max. wv (m/s)'] = 0"
   ]
  },
  {
   "cell_type": "code",
   "execution_count": null,
   "id": "c456c747-9afe-409c-a6ec-ab17a264528c",
   "metadata": {},
   "outputs": [],
   "source": []
  },
  {
   "cell_type": "code",
   "execution_count": 34,
   "id": "bdd907fb-fee0-4ae4-809d-02b9dc6a0db6",
   "metadata": {},
   "outputs": [
    {
     "data": {
      "text/plain": [
       "Series([], Name: wv (m/s), dtype: float64)"
      ]
     },
     "execution_count": 34,
     "metadata": {},
     "output_type": "execute_result"
    }
   ],
   "source": [
    "# Sanity check-\n",
    "data.loc[data['wv (m/s)'] < 0, 'wv (m/s)']"
   ]
  },
  {
   "cell_type": "code",
   "execution_count": 35,
   "id": "3f6a60bb-bb83-4422-9397-5a479ade664c",
   "metadata": {},
   "outputs": [
    {
     "data": {
      "text/plain": [
       "Series([], Name: max. wv (m/s), dtype: float64)"
      ]
     },
     "execution_count": 35,
     "metadata": {},
     "output_type": "execute_result"
    }
   ],
   "source": [
    "# Sanity check-\n",
    "data.loc[data['max. wv (m/s)'] < 0, 'max. wv (m/s)']"
   ]
  },
  {
   "cell_type": "code",
   "execution_count": null,
   "id": "159bb1dd-4035-4570-972b-adef04ccb413",
   "metadata": {},
   "outputs": [],
   "source": []
  },
  {
   "cell_type": "code",
   "execution_count": null,
   "id": "12d2eab0-669e-4257-aa93-5ced4e0b1a2b",
   "metadata": {},
   "outputs": [],
   "source": []
  },
  {
   "cell_type": "code",
   "execution_count": 36,
   "id": "3096d85d-8a29-43da-9985-871d1a01614e",
   "metadata": {},
   "outputs": [
    {
     "data": {
      "image/png": "[encoded data removed]",
      "text/plain": [
       "<Figure size 432x288 with 1 Axes>"
      ]
     },
     "metadata": {
      "needs_background": "light"
     },
     "output_type": "display_data"
    }
   ],
   "source": [
    "sns.histplot(data = data, x = 'wd (deg)', bins = int(np.ceil(np.sqrt(len(data)))))\n",
    "plt.title(\"Data distribution - 'wd (deg)'\")\n",
    "plt.show()"
   ]
  },
  {
   "cell_type": "markdown",
   "id": "b4024077-5164-401d-b20c-b90ec21b2462",
   "metadata": {},
   "source": [
    "### Future Works\n",
    "\n",
    "Skewed features can be normalized before scaling to further improve the VAE's reconstructions."
   ]
  },
  {
   "cell_type": "code",
   "execution_count": null,
   "id": "0623f18c-f4a2-453a-8cd4-501c288cf5f6",
   "metadata": {},
   "outputs": [],
   "source": []
  },
  {
   "cell_type": "code",
   "execution_count": null,
   "id": "44373254-5227-4473-81c1-ec7bbc115024",
   "metadata": {},
   "outputs": [],
   "source": []
  },
  {
   "cell_type": "markdown",
   "id": "2e98b4cd-a255-423f-adab-0914ecc1aa68",
   "metadata": {},
   "source": [
    "### Data Scaling\n",
    "\n",
    "1. If data is scaled between 0 to 1 using ```MinxMaxScaler()```, then last layer of VAE uses _sigmoid_ activation function and the _reconstruction loss_ is ```BCEloss```.\n",
    "\n",
    "1. If data is scaled between -1 to 1 using ```MinxMaxScaler()```, then last layer of VAE uses _tanh_ activation function and the _reconstruction loss_ is ```MSEloss```.\n"
   ]
  },
  {
   "cell_type": "code",
   "execution_count": 37,
   "id": "a1703f15-ea39-4485-99e3-ba2befd14eb0",
   "metadata": {},
   "outputs": [],
   "source": [
    "# Initialize a MinMax scaler-\n",
    "mm_scaler = MinMaxScaler(feature_range = (-1, 1))"
   ]
  },
  {
   "cell_type": "code",
   "execution_count": null,
   "id": "157f3058-16ed-4385-8361-180b6778c4d3",
   "metadata": {},
   "outputs": [],
   "source": [
    "# Initialize standard scaler-\n",
    "# std_scaler = StandardScaler()"
   ]
  },
  {
   "cell_type": "code",
   "execution_count": 38,
   "id": "9000eb5a-e2bf-45bf-9995-2f092dcb760c",
   "metadata": {},
   "outputs": [],
   "source": [
    "# data_scaled = std_scaler.fit_transform(data.loc[:, cols].to_numpy())\n",
    "data_scaled = mm_scaler.fit_transform(data.loc[:, cols].to_numpy())"
   ]
  },
  {
   "cell_type": "code",
   "execution_count": 39,
   "id": "3d907f4e-ab29-4483-b42d-d20e84784566",
   "metadata": {},
   "outputs": [],
   "source": [
    "data_scaled = pd.DataFrame(data_scaled, columns = cols)"
   ]
  },
  {
   "cell_type": "code",
   "execution_count": 40,
   "id": "2930e0c1-f6ce-4478-8a32-87e3ec613b65",
   "metadata": {},
   "outputs": [
    {
     "data": {
      "text/plain": [
       "(420551, 14)"
      ]
     },
     "execution_count": 40,
     "metadata": {},
     "output_type": "execute_result"
    }
   ],
   "source": [
    "data_scaled.shape"
   ]
  },
  {
   "cell_type": "code",
   "execution_count": null,
   "id": "7ec44de7-5e5d-4b85-9bcb-a4c4f0311cf4",
   "metadata": {},
   "outputs": [],
   "source": []
  },
  {
   "cell_type": "code",
   "execution_count": 41,
   "id": "16c648eb-b028-465d-84ce-769ddd70b505",
   "metadata": {},
   "outputs": [
    {
     "data": {
      "text/html": [
       "<div>\n",
       "<style scoped>\n",
       "    .dataframe tbody tr th:only-of-type {\n",
       "        vertical-align: middle;\n",
       "    }\n",
       "\n",
       "    .dataframe tbody tr th {\n",
       "        vertical-align: top;\n",
       "    }\n",
       "\n",
       "    .dataframe thead th {\n",
       "        text-align: right;\n",
       "    }\n",
       "</style>\n",
       "<table border=\"1\" class=\"dataframe\">\n",
       "  <thead>\n",
       "    <tr style=\"text-align: right;\">\n",
       "      <th></th>\n",
       "      <th>p (mbar)</th>\n",
       "      <th>T (degC)</th>\n",
       "      <th>Tpot (K)</th>\n",
       "      <th>Tdew (degC)</th>\n",
       "      <th>rh (%)</th>\n",
       "      <th>VPmax (mbar)</th>\n",
       "      <th>VPact (mbar)</th>\n",
       "      <th>VPdef (mbar)</th>\n",
       "      <th>sh (g/kg)</th>\n",
       "      <th>H2OC (mmol/mol)</th>\n",
       "      <th>rho (g/m**3)</th>\n",
       "      <th>wv (m/s)</th>\n",
       "      <th>max. wv (m/s)</th>\n",
       "      <th>wd (deg)</th>\n",
       "    </tr>\n",
       "  </thead>\n",
       "  <tbody>\n",
       "    <tr>\n",
       "      <th>0</th>\n",
       "      <td>0.629877</td>\n",
       "      <td>-0.502737</td>\n",
       "      <td>-0.512677</td>\n",
       "      <td>-0.330424</td>\n",
       "      <td>0.846065</td>\n",
       "      <td>-0.924228</td>\n",
       "      <td>-0.831457</td>\n",
       "      <td>-0.990437</td>\n",
       "      <td>-0.836642</td>\n",
       "      <td>-0.834404</td>\n",
       "      <td>0.486426</td>\n",
       "      <td>-0.927694</td>\n",
       "      <td>-0.851064</td>\n",
       "      <td>-0.153889</td>\n",
       "    </tr>\n",
       "    <tr>\n",
       "      <th>1</th>\n",
       "      <td>0.630860</td>\n",
       "      <td>-0.515674</td>\n",
       "      <td>-0.525519</td>\n",
       "      <td>-0.346218</td>\n",
       "      <td>0.848363</td>\n",
       "      <td>-0.927412</td>\n",
       "      <td>-0.837995</td>\n",
       "      <td>-0.990872</td>\n",
       "      <td>-0.842314</td>\n",
       "      <td>-0.840828</td>\n",
       "      <td>0.498698</td>\n",
       "      <td>-0.949456</td>\n",
       "      <td>-0.872340</td>\n",
       "      <td>-0.243889</td>\n",
       "    </tr>\n",
       "    <tr>\n",
       "      <th>2</th>\n",
       "      <td>0.630074</td>\n",
       "      <td>-0.518992</td>\n",
       "      <td>-0.528811</td>\n",
       "      <td>-0.347465</td>\n",
       "      <td>0.859851</td>\n",
       "      <td>-0.928048</td>\n",
       "      <td>-0.838721</td>\n",
       "      <td>-0.991306</td>\n",
       "      <td>-0.843449</td>\n",
       "      <td>-0.841542</td>\n",
       "      <td>0.501332</td>\n",
       "      <td>-0.986662</td>\n",
       "      <td>-0.946383</td>\n",
       "      <td>-0.046667</td>\n",
       "    </tr>\n",
       "    <tr>\n",
       "      <th>3</th>\n",
       "      <td>0.629681</td>\n",
       "      <td>-0.512357</td>\n",
       "      <td>-0.521897</td>\n",
       "      <td>-0.337490</td>\n",
       "      <td>0.866743</td>\n",
       "      <td>-0.926457</td>\n",
       "      <td>-0.834363</td>\n",
       "      <td>-0.991741</td>\n",
       "      <td>-0.838911</td>\n",
       "      <td>-0.837259</td>\n",
       "      <td>0.495046</td>\n",
       "      <td>-0.976132</td>\n",
       "      <td>-0.957447</td>\n",
       "      <td>0.100000</td>\n",
       "    </tr>\n",
       "    <tr>\n",
       "      <th>4</th>\n",
       "      <td>0.629681</td>\n",
       "      <td>-0.511030</td>\n",
       "      <td>-0.520909</td>\n",
       "      <td>-0.336243</td>\n",
       "      <td>0.864446</td>\n",
       "      <td>-0.926138</td>\n",
       "      <td>-0.833636</td>\n",
       "      <td>-0.991741</td>\n",
       "      <td>-0.838911</td>\n",
       "      <td>-0.836545</td>\n",
       "      <td>0.493909</td>\n",
       "      <td>-0.977536</td>\n",
       "      <td>-0.946383</td>\n",
       "      <td>0.190556</td>\n",
       "    </tr>\n",
       "  </tbody>\n",
       "</table>\n",
       "</div>"
      ],
      "text/plain": [
       "   p (mbar)  T (degC)  Tpot (K)  Tdew (degC)    rh (%)  VPmax (mbar)  \\\n",
       "0  0.629877 -0.502737 -0.512677    -0.330424  0.846065     -0.924228   \n",
       "1  0.630860 -0.515674 -0.525519    -0.346218  0.848363     -0.927412   \n",
       "2  0.630074 -0.518992 -0.528811    -0.347465  0.859851     -0.928048   \n",
       "3  0.629681 -0.512357 -0.521897    -0.337490  0.866743     -0.926457   \n",
       "4  0.629681 -0.511030 -0.520909    -0.336243  0.864446     -0.926138   \n",
       "\n",
       "   VPact (mbar)  VPdef (mbar)  sh (g/kg)  H2OC (mmol/mol)  rho (g/m**3)  \\\n",
       "0     -0.831457     -0.990437  -0.836642        -0.834404      0.486426   \n",
       "1     -0.837995     -0.990872  -0.842314        -0.840828      0.498698   \n",
       "2     -0.838721     -0.991306  -0.843449        -0.841542      0.501332   \n",
       "3     -0.834363     -0.991741  -0.838911        -0.837259      0.495046   \n",
       "4     -0.833636     -0.991741  -0.838911        -0.836545      0.493909   \n",
       "\n",
       "   wv (m/s)  max. wv (m/s)  wd (deg)  \n",
       "0 -0.927694      -0.851064 -0.153889  \n",
       "1 -0.949456      -0.872340 -0.243889  \n",
       "2 -0.986662      -0.946383 -0.046667  \n",
       "3 -0.976132      -0.957447  0.100000  \n",
       "4 -0.977536      -0.946383  0.190556  "
      ]
     },
     "execution_count": 41,
     "metadata": {},
     "output_type": "execute_result"
    }
   ],
   "source": [
    "data_scaled.head()"
   ]
  },
  {
   "cell_type": "code",
   "execution_count": 42,
   "id": "4aae3a70-4e50-4cc2-8dec-2603e1670cd5",
   "metadata": {},
   "outputs": [
    {
     "data": {
      "text/plain": [
       "Index(['p (mbar)', 'T (degC)', 'Tpot (K)', 'Tdew (degC)', 'rh (%)',\n",
       "       'VPmax (mbar)', 'VPact (mbar)', 'VPdef (mbar)', 'sh (g/kg)',\n",
       "       'H2OC (mmol/mol)', 'rho (g/m**3)', 'wv (m/s)', 'max. wv (m/s)',\n",
       "       'wd (deg)'],\n",
       "      dtype='object')"
      ]
     },
     "execution_count": 42,
     "metadata": {},
     "output_type": "execute_result"
    }
   ],
   "source": [
    "data_scaled.columns"
   ]
  },
  {
   "cell_type": "code",
   "execution_count": null,
   "id": "86600e24-7d8f-4385-82c9-1cce65f8f190",
   "metadata": {},
   "outputs": [],
   "source": []
  },
  {
   "cell_type": "code",
   "execution_count": 64,
   "id": "b8bd238d-7dbf-45c3-b29d-7f4f8e253b2e",
   "metadata": {},
   "outputs": [],
   "source": [
    "dataset_tensor = torch.tensor(data_scaled.to_numpy(), dtype = torch.float32)\n",
    "# train_tensor = torch.tensor(train.values)"
   ]
  },
  {
   "cell_type": "code",
   "execution_count": 65,
   "id": "9873237a-a3ae-4b36-aaa9-92e927574e87",
   "metadata": {},
   "outputs": [
    {
     "data": {
      "text/plain": [
       "torch.Size([420551, 14])"
      ]
     },
     "execution_count": 65,
     "metadata": {},
     "output_type": "execute_result"
    }
   ],
   "source": [
    "dataset_tensor.shape"
   ]
  },
  {
   "cell_type": "code",
   "execution_count": null,
   "id": "e9d88d53-4ef5-48a9-b262-8fbb3f034ce4",
   "metadata": {},
   "outputs": [],
   "source": []
  },
  {
   "cell_type": "code",
   "execution_count": null,
   "id": "0aa471a7-f619-47a6-9fea-5d665309ece3",
   "metadata": {},
   "outputs": [],
   "source": [
    "# std_scaler.inverse_transform(data_scaled)"
   ]
  },
  {
   "cell_type": "code",
   "execution_count": null,
   "id": "c06f291c-ae68-4156-a578-bd2aae8f3379",
   "metadata": {},
   "outputs": [],
   "source": []
  },
  {
   "cell_type": "code",
   "execution_count": null,
   "id": "b6e1b303-d1f5-49e1-a53d-ee18dbea03da",
   "metadata": {},
   "outputs": [],
   "source": []
  },
  {
   "cell_type": "markdown",
   "id": "97b1d2d6-d7f7-48a6-8302-d20b83a09ea9",
   "metadata": {},
   "source": [
    "### Time Series data preparation for VAE\n",
    "\n",
    "Make sure to split the _processed_ data __without shuffling to preserve it's time series nature__."
   ]
  },
  {
   "cell_type": "code",
   "execution_count": null,
   "id": "b313aef8-cbd7-4354-84f4-330c8d219c55",
   "metadata": {},
   "outputs": [],
   "source": [
    "# len(data_scaled)\n",
    "# 420551"
   ]
  },
  {
   "cell_type": "code",
   "execution_count": null,
   "id": "5a45b4ae-f0d1-4811-9048-ef92ae68d148",
   "metadata": {},
   "outputs": [],
   "source": [
    "# 80-20 train-test split-\n",
    "# int(np.ceil(0.8 * len(data_scaled)))\n",
    "# 336441"
   ]
  },
  {
   "cell_type": "code",
   "execution_count": null,
   "id": "596cbc1f-7fa1-4a29-8e85-ce92bbe7b49d",
   "metadata": {},
   "outputs": [],
   "source": [
    "# Split data into training and testing sets-\n",
    "# X_train = data_scaled.loc[:336440, :]\n",
    "# X_test = data_scaled.loc[336441:, :]"
   ]
  },
  {
   "cell_type": "code",
   "execution_count": null,
   "id": "a17a55a1-4b51-48c3-a68e-6c7bf19a7289",
   "metadata": {},
   "outputs": [],
   "source": [
    "# Sanity check-\n",
    "# X_train.shape, X_test.shape, data_scaled.shape\n",
    "# ((336441, 14), (84110, 14), (420551, 14))"
   ]
  },
  {
   "cell_type": "code",
   "execution_count": null,
   "id": "e732bf51-3099-4e3b-9dfe-136ca16ec13c",
   "metadata": {},
   "outputs": [],
   "source": [
    "# len(X_train) + len(X_test) == len(data_scaled)\n",
    "# True"
   ]
  },
  {
   "cell_type": "code",
   "execution_count": null,
   "id": "e16eb3b5-9637-402d-ad66-7e2861d49e9e",
   "metadata": {},
   "outputs": [],
   "source": [
    "# len(X_train) + len(X_test)\n",
    "# 420551"
   ]
  },
  {
   "cell_type": "code",
   "execution_count": null,
   "id": "d24a38ee-2c62-4d07-a791-61fd27d8d3d0",
   "metadata": {},
   "outputs": [],
   "source": [
    "# Convert from pd.DataFrame to np arrays-\n",
    "# X_train = X_train.to_numpy()\n",
    "# X_test = X_test.to_numpy()"
   ]
  },
  {
   "cell_type": "code",
   "execution_count": null,
   "id": "074c0f75-a3cb-4406-a220-90646f4a479b",
   "metadata": {},
   "outputs": [],
   "source": []
  },
  {
   "cell_type": "code",
   "execution_count": null,
   "id": "e75789bc-5906-47f6-808a-e87e343de667",
   "metadata": {},
   "outputs": [],
   "source": []
  },
  {
   "cell_type": "markdown",
   "id": "a5bb09a2-df17-4fce-9e05-a5c02accd8e3",
   "metadata": {},
   "source": [
    "### Create ```Dataset``` for CSV file in PyTorch\n",
    "\n",
    "- [Refer](https://shashikachamod4u.medium.com/excel-csv-to-pytorch-dataset-def496b6bcc1)\n",
    "\n",
    "- G: read csv file in pytorch"
   ]
  },
  {
   "cell_type": "code",
   "execution_count": 32,
   "id": "40dcd84b-25dc-447f-86e3-bac5716fd4bc",
   "metadata": {},
   "outputs": [],
   "source": [
    "class TimeSeriesDataset(Dataset):\n",
    "    def __init__(self, filename):\n",
    "        data = pd.read_csv(filename)\n",
    "        \n",
    "        # Convert 'Dae Time' column to datetime-\n",
    "        data['Date Time'] = pd.to_datetime(data['Date Time'])\n",
    "        \n",
    "        # Sort in increasing order for 'Date Time' column-\n",
    "        data.sort_values(by = 'Date Time', ascending = True, inplace = True)\n",
    "        \n",
    "        # Select desired attributes/features/variables/channels/columns-\n",
    "        cols = [\n",
    "            'p (mbar)', 'T (degC)', 'Tpot (K)', 'Tdew (degC)', 'rh (%)',\n",
    "            'VPmax (mbar)', 'VPact (mbar)', 'VPdef (mbar)', 'sh (g/kg)',\n",
    "            'H2OC (mmol/mol)', 'rho (g/m**3)', 'wv (m/s)', 'max. wv (m/s)',\n",
    "            'wd (deg)'\n",
    "        ]\n",
    "\n",
    "        # Replace negative values by 0-\n",
    "        data.loc[data['wv (m/s)'] < 0, 'wv (m/s)'] = 0\n",
    "        \n",
    "        # Replace negative values by 0-\n",
    "        data.loc[data['max. wv (m/s)'] < 0, 'max. wv (m/s)'] = 0\n",
    "        \n",
    "        # Initialize a MinMax scaler-\n",
    "        mm_scaler = MinMaxScaler(feature_range = (0, 1))\n",
    "        data_scaled = mm_scaler.fit_transform(data.loc[:, cols].to_numpy())\n",
    "        \n",
    "        # Convert from np array to pd.DataFrame-\n",
    "        # data_scaled = pd.DataFrame(data_scaled, columns = cols)\n",
    "        \n",
    "        # Convert to torch tensors-\n",
    "        self.data_scaled = torch.tensor(data_scaled, dtype = torch.float32)\n",
    "    \n",
    "    \n",
    "    def __len__(self):\n",
    "        return len(self.data_scaled)\n",
    "    \n",
    "    \n",
    "    def __getitem__(self, idx):\n",
    "        return self.data_scaled[idx]\n",
    "        \n"
   ]
  },
  {
   "cell_type": "code",
   "execution_count": null,
   "id": "ddc50d05-f641-4544-adf1-d8f0c839c8be",
   "metadata": {},
   "outputs": [],
   "source": []
  },
  {
   "cell_type": "code",
   "execution_count": null,
   "id": "2acca73b-38a3-4098-87b5-19c66fee4eef",
   "metadata": {},
   "outputs": [],
   "source": []
  },
  {
   "cell_type": "code",
   "execution_count": null,
   "id": "de3c94b6-5b53-4542-9714-13315118bab1",
   "metadata": {},
   "outputs": [],
   "source": [
    "# Instantiate dataset-\n",
    "# dataset = TimeSeriesDataset(filename = \"C:\\\\Users\\\\Arjun\\\\Downloads\\\\jena_climate_2009_2016.csv\")"
   ]
  },
  {
   "cell_type": "code",
   "execution_count": null,
   "id": "13afe3d6-a2b1-4af1-93fa-e7951bcc0b9d",
   "metadata": {},
   "outputs": [],
   "source": [
    "# print(f\"length of dataset = {len(dataset)}\")\n",
    "# length of dataset = 420551"
   ]
  },
  {
   "cell_type": "code",
   "execution_count": null,
   "id": "c842c997-47e4-4e6e-baec-5d6f47cc9fa1",
   "metadata": {},
   "outputs": [],
   "source": []
  },
  {
   "cell_type": "code",
   "execution_count": 46,
   "id": "e9602af1-235a-43be-b922-cdd5eca71b22",
   "metadata": {},
   "outputs": [],
   "source": [
    "# Specify hyper-parameters-\n",
    "batch_size = 64\n",
    "num_epochs = 200\n",
    "learning_rate = 0.001"
   ]
  },
  {
   "cell_type": "code",
   "execution_count": null,
   "id": "189ddec0-b78d-4922-88cd-ef605301c876",
   "metadata": {},
   "outputs": [],
   "source": []
  },
  {
   "cell_type": "code",
   "execution_count": null,
   "id": "7d38a14f-7cc3-4591-b41d-63d1a323d4be",
   "metadata": {},
   "outputs": [],
   "source": []
  },
  {
   "cell_type": "code",
   "execution_count": 66,
   "id": "37a55270-d8fa-41cc-8ef5-0b421bf60ae4",
   "metadata": {},
   "outputs": [],
   "source": [
    "# Create data loader-\n",
    "data_loader = DataLoader(\n",
    "    dataset = dataset_tensor, batch_size = batch_size,\n",
    "    shuffle = False\n",
    ")"
   ]
  },
  {
   "cell_type": "code",
   "execution_count": null,
   "id": "9ffc358f-6076-4341-907c-90ec70e7f218",
   "metadata": {},
   "outputs": [],
   "source": []
  },
  {
   "cell_type": "code",
   "execution_count": 67,
   "id": "37dfc3cf-ac95-4dd6-8201-df6a89199718",
   "metadata": {},
   "outputs": [
    {
     "name": "stdout",
     "output_type": "stream",
     "text": [
      "len(data_loader) = 6572\n"
     ]
    }
   ],
   "source": [
    "print(f\"len(data_loader) = {len(data_loader)}\")"
   ]
  },
  {
   "cell_type": "code",
   "execution_count": 68,
   "id": "a2c78794-81b4-48a7-b8c6-4cb4c4275124",
   "metadata": {},
   "outputs": [
    {
     "data": {
      "text/plain": [
       "6571.109375"
      ]
     },
     "execution_count": 68,
     "metadata": {},
     "output_type": "execute_result"
    }
   ],
   "source": [
    "# Sanity check-\n",
    "len(dataset_tensor) / batch_size"
   ]
  },
  {
   "cell_type": "code",
   "execution_count": null,
   "id": "5157d803-6311-4d66-b251-840642305ab1",
   "metadata": {},
   "outputs": [],
   "source": []
  },
  {
   "cell_type": "code",
   "execution_count": 69,
   "id": "ba7a9126-0bae-45ef-9bfc-0629a674d8fe",
   "metadata": {},
   "outputs": [
    {
     "name": "stdout",
     "output_type": "stream",
     "text": [
      "x.shape: torch.Size([64, 14])\n"
     ]
    }
   ],
   "source": [
    "# Get some batch of data-\n",
    "x = next(iter(data_loader))\n",
    "\n",
    "# You get 32 data points due to the specified batch size-\n",
    "print(f\"x.shape: {x.shape}\")"
   ]
  },
  {
   "cell_type": "code",
   "execution_count": 70,
   "id": "c70fcff9-4666-4474-9926-fb334cb017f5",
   "metadata": {},
   "outputs": [],
   "source": [
    "del x"
   ]
  },
  {
   "cell_type": "code",
   "execution_count": null,
   "id": "a9cf6148-bda1-459d-8e15-b2afedca0b9c",
   "metadata": {},
   "outputs": [],
   "source": []
  },
  {
   "cell_type": "code",
   "execution_count": null,
   "id": "e589dbd3-4426-4060-b4f4-726854520847",
   "metadata": {},
   "outputs": [],
   "source": []
  },
  {
   "cell_type": "markdown",
   "id": "28ecbe04-9275-4b6b-b767-510357b0b329",
   "metadata": {
    "id": "c7bbfa0a-82a7-4882-9782-5a0364acbf50"
   },
   "source": [
    "### Define _Variational Autoencoder_ architecture:"
   ]
  },
  {
   "cell_type": "code",
   "execution_count": 79,
   "id": "b7f39ab9-cc85-4e9d-a2fa-206cf49b407b",
   "metadata": {},
   "outputs": [],
   "source": [
    "class VAE_TimeSeries(nn.Module):\n",
    "    def __init__(self, latent_space = 10):\n",
    "        super(VAE_TimeSeries, self).__init__()\n",
    "        \n",
    "        self.latent_space = latent_space\n",
    "        \n",
    "        # Encoder-\n",
    "        self.enc_layer1 = nn.Linear(\n",
    "            in_features = 14, out_features = 300,\n",
    "            bias = True\n",
    "        )\n",
    "        self.enc_layer2 = nn.Linear(\n",
    "            in_features = 300, out_features = 150,\n",
    "            bias = True\n",
    "        )\n",
    "        self.enc_layer3 = nn.Linear(\n",
    "            in_features = 150, out_features = 70,\n",
    "            bias = True\n",
    "        )\n",
    "        self.enc_layer4 = nn.Linear(\n",
    "            in_features = 70, out_features = 30,\n",
    "            bias = True\n",
    "        )\n",
    "        self.enc_output = nn.Linear(\n",
    "            in_features = 30, out_features = self.latent_space,\n",
    "            bias = True\n",
    "        )\n",
    "        \n",
    "        # Two additional layers 'hidden2mu' & 'hidden2log' to convert the bottleneck into the μ and σ vectors-\n",
    "        self.hidden2mu = nn.Linear(\n",
    "            in_features = self.latent_space, out_features = self.latent_space,\n",
    "            bias = True\n",
    "        )\n",
    "        self.hidden2log_var = nn.Linear(\n",
    "            in_features = self.latent_space, out_features = self.latent_space,\n",
    "            bias = True\n",
    "        )\n",
    "        \n",
    "        # Decoder-\n",
    "        self.dec_layer1 = nn.Linear(\n",
    "            in_features = self.latent_space, out_features = 30,\n",
    "            bias = True\n",
    "        )\n",
    "        self.dec_layer2 = nn.Linear(\n",
    "            in_features = 30, out_features = 70,\n",
    "            bias = True\n",
    "        )\n",
    "        self.dec_layer3 = nn.Linear(\n",
    "            in_features = 70, out_features = 150,\n",
    "            bias = True\n",
    "        )\n",
    "        self.dec_layer4 = nn.Linear(\n",
    "            in_features = 150, out_features = 300,\n",
    "            bias = True\n",
    "        )\n",
    "        self.dec_output = nn.Linear(\n",
    "            in_features = 300, out_features = 14,\n",
    "            bias = True\n",
    "        )\n",
    "        \n",
    "        \n",
    "    def reparameterize(self, mu, log_var):\n",
    "        '''\n",
    "        Input arguments:\n",
    "        1. mu - mean coming from the encoder's latent space\n",
    "        2. log_var - log variance coming from the encoder's latent space\n",
    "        '''\n",
    "        # Compute standard deviation using 'log_var'-\n",
    "        std = torch.exp(0.5 * log_var)\n",
    "        \n",
    "        # 'eps' samples from a normal standard distribution to add\n",
    "        # stochasticity to the sampling process-\n",
    "        eps = torch.randn_like(std)\n",
    "        \n",
    "        # Reparameterization trick - sample as if it's from the input\n",
    "        # space-\n",
    "        sample = mu + (std * eps)\n",
    "        \n",
    "        return sample\n",
    "    \n",
    "    \n",
    "    def forward(self, x):\n",
    "        # Encode input data-\n",
    "        x = F.relu(self.enc_layer1(x))\n",
    "        x = F.relu(self.enc_layer2(x))\n",
    "        x = F.relu(self.enc_layer3(x))\n",
    "        x = F.relu(self.enc_layer4(x))\n",
    "        x = F.relu(self.enc_output(x))\n",
    "        # NOTE: The line of code above does NOT give us the latent vector!\n",
    "        \n",
    "        # print(f\"encoder's output x.shape: {x.shape}\")\n",
    "        \n",
    "        mu = self.hidden2mu(x)\n",
    "        log_var = self.hidden2log_var(x)\n",
    "        \n",
    "        # Obtain the latent vector using reparameterization-\n",
    "        z = self.reparameterize(mu, log_var)\n",
    "        # latent vector 'z' is obtained through reparameterization trick using mu and log_var\n",
    "        \n",
    "        '''\n",
    "        print(f\"mu.shape: {mu.shape}, log_var.shape: {log_var.shape} &\"\n",
    "              f\" z.shape: {z.shape}\")\n",
    "        '''\n",
    "        \n",
    "        # Decode latent vector-\n",
    "        x = F.relu(self.dec_layer1(x))\n",
    "        x = F.relu(self.dec_layer2(x))\n",
    "        x = F.relu(self.dec_layer3(x))\n",
    "        x = F.relu(self.dec_layer4(x))\n",
    "        recon_data = torch.tanh(self.dec_output(x))\n",
    "        # recon_data = torch.sigmoid(self.dec_output(x))\n",
    "\n",
    "        return recon_data, mu, log_var\n",
    "\n",
    "    "
   ]
  },
  {
   "cell_type": "code",
   "execution_count": null,
   "id": "2147576e-0272-4aa0-a3ef-04ad52ad0620",
   "metadata": {},
   "outputs": [],
   "source": []
  },
  {
   "cell_type": "code",
   "execution_count": 80,
   "id": "f1970aa3-8bb8-4a77-813e-ac26cfa9111f",
   "metadata": {},
   "outputs": [],
   "source": [
    "# Initialize model-\n",
    "model = VAE_TimeSeries(latent_space = 10).to(device)"
   ]
  },
  {
   "cell_type": "code",
   "execution_count": null,
   "id": "21347830-ae94-481a-878d-e0a58cb97e06",
   "metadata": {},
   "outputs": [],
   "source": []
  },
  {
   "cell_type": "code",
   "execution_count": 81,
   "id": "dff28be2-0e60-4f62-8967-1af50aec4763",
   "metadata": {},
   "outputs": [
    {
     "name": "stdout",
     "output_type": "stream",
     "text": [
      "VAE_TimeSeries(\n",
      "  (enc_layer1): Linear(in_features=14, out_features=300, bias=True)\n",
      "  (enc_layer2): Linear(in_features=300, out_features=150, bias=True)\n",
      "  (enc_layer3): Linear(in_features=150, out_features=70, bias=True)\n",
      "  (enc_layer4): Linear(in_features=70, out_features=30, bias=True)\n",
      "  (enc_output): Linear(in_features=30, out_features=10, bias=True)\n",
      "  (hidden2mu): Linear(in_features=10, out_features=10, bias=True)\n",
      "  (hidden2log_var): Linear(in_features=10, out_features=10, bias=True)\n",
      "  (dec_layer1): Linear(in_features=10, out_features=30, bias=True)\n",
      "  (dec_layer2): Linear(in_features=30, out_features=70, bias=True)\n",
      "  (dec_layer3): Linear(in_features=70, out_features=150, bias=True)\n",
      "  (dec_layer4): Linear(in_features=150, out_features=300, bias=True)\n",
      "  (dec_output): Linear(in_features=300, out_features=14, bias=True)\n",
      ")\n"
     ]
    }
   ],
   "source": [
    "print(model)"
   ]
  },
  {
   "cell_type": "code",
   "execution_count": 82,
   "id": "7984b500-2fc7-4e3e-9721-922d2f656d0e",
   "metadata": {},
   "outputs": [
    {
     "name": "stdout",
     "output_type": "stream",
     "text": [
      "layer.shape = torch.Size([300, 14]) has 4200 parameters\n",
      "layer.shape = torch.Size([300]) has 300 parameters\n",
      "layer.shape = torch.Size([150, 300]) has 45000 parameters\n",
      "layer.shape = torch.Size([150]) has 150 parameters\n",
      "layer.shape = torch.Size([70, 150]) has 10500 parameters\n",
      "layer.shape = torch.Size([70]) has 70 parameters\n",
      "layer.shape = torch.Size([30, 70]) has 2100 parameters\n",
      "layer.shape = torch.Size([30]) has 30 parameters\n",
      "layer.shape = torch.Size([10, 30]) has 300 parameters\n",
      "layer.shape = torch.Size([10]) has 10 parameters\n",
      "layer.shape = torch.Size([10, 10]) has 100 parameters\n",
      "layer.shape = torch.Size([10]) has 10 parameters\n",
      "layer.shape = torch.Size([10, 10]) has 100 parameters\n",
      "layer.shape = torch.Size([10]) has 10 parameters\n",
      "layer.shape = torch.Size([30, 10]) has 300 parameters\n",
      "layer.shape = torch.Size([30]) has 30 parameters\n",
      "layer.shape = torch.Size([70, 30]) has 2100 parameters\n",
      "layer.shape = torch.Size([70]) has 70 parameters\n",
      "layer.shape = torch.Size([150, 70]) has 10500 parameters\n",
      "layer.shape = torch.Size([150]) has 150 parameters\n",
      "layer.shape = torch.Size([300, 150]) has 45000 parameters\n",
      "layer.shape = torch.Size([300]) has 300 parameters\n",
      "layer.shape = torch.Size([14, 300]) has 4200 parameters\n",
      "layer.shape = torch.Size([14]) has 14 parameters\n"
     ]
    }
   ],
   "source": [
    "# Count number of layer-wise parameters and total parameters-\n",
    "tot_params = 0\n",
    "for param in model.parameters():\n",
    "    print(f\"layer.shape = {param.shape} has {param.nelement()} parameters\")\n",
    "    tot_params += param.nelement()"
   ]
  },
  {
   "cell_type": "code",
   "execution_count": 83,
   "id": "1ffc481b-24b7-46a6-8be5-f0e566071bea",
   "metadata": {},
   "outputs": [
    {
     "name": "stdout",
     "output_type": "stream",
     "text": [
      "Total number of parameters in VAE Dense model = 125544\n"
     ]
    }
   ],
   "source": [
    "print(f\"Total number of parameters in VAE Dense model = {tot_params}\")"
   ]
  },
  {
   "cell_type": "code",
   "execution_count": null,
   "id": "a2f6abbe-64ae-41df-8c52-5a2c8b382b84",
   "metadata": {},
   "outputs": [],
   "source": []
  },
  {
   "cell_type": "code",
   "execution_count": 84,
   "id": "9796a8a3-ab43-4038-affa-457990196ce3",
   "metadata": {},
   "outputs": [],
   "source": [
    "x = next(iter(data_loader))"
   ]
  },
  {
   "cell_type": "code",
   "execution_count": 85,
   "id": "1cb00969-8b7e-4d0a-a3a9-d471eabc71f4",
   "metadata": {},
   "outputs": [
    {
     "data": {
      "text/plain": [
       "torch.Size([64, 14])"
      ]
     },
     "execution_count": 85,
     "metadata": {},
     "output_type": "execute_result"
    }
   ],
   "source": [
    "x.shape"
   ]
  },
  {
   "cell_type": "code",
   "execution_count": null,
   "id": "707a7e0a-e713-4a64-a177-ec03bb78bda9",
   "metadata": {},
   "outputs": [],
   "source": []
  },
  {
   "cell_type": "code",
   "execution_count": 86,
   "id": "f7a2c66d-4dfc-46e9-bf40-a67d9b6c7162",
   "metadata": {},
   "outputs": [],
   "source": [
    "# Sanity check-\n",
    "recon_data, mu, log_var = model(x)"
   ]
  },
  {
   "cell_type": "code",
   "execution_count": 87,
   "id": "bebfc434-54cd-48f2-abf9-8db0859c233a",
   "metadata": {},
   "outputs": [
    {
     "data": {
      "text/plain": [
       "(torch.Size([64, 14]), torch.Size([64, 14]))"
      ]
     },
     "execution_count": 87,
     "metadata": {},
     "output_type": "execute_result"
    }
   ],
   "source": [
    "recon_data.shape, x.shape"
   ]
  },
  {
   "cell_type": "code",
   "execution_count": 88,
   "id": "27c3b2ba-8b6a-440f-b8b0-5674c0813b7a",
   "metadata": {},
   "outputs": [
    {
     "data": {
      "text/plain": [
       "(torch.Size([64, 10]), torch.Size([64, 10]))"
      ]
     },
     "execution_count": 88,
     "metadata": {},
     "output_type": "execute_result"
    }
   ],
   "source": [
    "mu.shape, log_var.shape"
   ]
  },
  {
   "cell_type": "code",
   "execution_count": 89,
   "id": "6ededfc0-6118-4c44-946c-1fd64296ec25",
   "metadata": {},
   "outputs": [],
   "source": [
    "del recon_data, x, mu, log_var"
   ]
  },
  {
   "cell_type": "code",
   "execution_count": null,
   "id": "191a3e04-2727-412b-9966-5bf36081e1ce",
   "metadata": {},
   "outputs": [],
   "source": []
  },
  {
   "cell_type": "code",
   "execution_count": null,
   "id": "f5e8d232-f238-4b2b-a6ec-1d47ab3fa782",
   "metadata": {},
   "outputs": [],
   "source": []
  },
  {
   "cell_type": "markdown",
   "id": "5862d235-28f5-4931-bf8c-ade927e161ba",
   "metadata": {},
   "source": [
    "#### Initial variance - Sanity check:\n",
    "\n",
    "Before training the VAE neural network model, there should be some initial variance."
   ]
  },
  {
   "cell_type": "code",
   "execution_count": 90,
   "id": "771c6580-4eaf-461d-ba22-0d4081544ff0",
   "metadata": {},
   "outputs": [
    {
     "name": "stdout",
     "output_type": "stream",
     "text": [
      "torch.Size([10, 10]) 100\n",
      "torch.Size([10]) 10\n"
     ]
    }
   ],
   "source": [
    "for x in model.hidden2mu.parameters():\n",
    "    print(x.shape, x.nelement())"
   ]
  },
  {
   "cell_type": "code",
   "execution_count": 91,
   "id": "910985cc-e8fc-46b0-8b1c-c8a6e5fafadf",
   "metadata": {},
   "outputs": [],
   "source": [
    "log_var_wts = model.hidden2log_var.weight\n",
    "log_var_wts = log_var_wts.detach().cpu().numpy()"
   ]
  },
  {
   "cell_type": "code",
   "execution_count": 92,
   "id": "4bca24e8-109b-43dd-a705-6a3f3f22ff1d",
   "metadata": {},
   "outputs": [],
   "source": [
    "mu_wts = model.hidden2mu.weight\n",
    "mu_wts = mu_wts.detach().cpu().numpy()"
   ]
  },
  {
   "cell_type": "code",
   "execution_count": 93,
   "id": "b4e212a8-b77e-497b-9140-3fdddeff85d8",
   "metadata": {},
   "outputs": [
    {
     "data": {
      "text/plain": [
       "((10, 10), (10, 10))"
      ]
     },
     "execution_count": 93,
     "metadata": {},
     "output_type": "execute_result"
    }
   ],
   "source": [
    "mu_wts.shape, log_var_wts.shape"
   ]
  },
  {
   "cell_type": "code",
   "execution_count": null,
   "id": "3d48ebd8-b3b1-47d2-a057-2742bcbea549",
   "metadata": {},
   "outputs": [],
   "source": []
  },
  {
   "cell_type": "code",
   "execution_count": 94,
   "id": "3a8705f0-2769-4bb4-b5a9-a9a6b6217b3e",
   "metadata": {},
   "outputs": [
    {
     "data": {
      "image/png": "[encoded data removed]",
      "text/plain": [
       "<Figure size 360x360 with 1 Axes>"
      ]
     },
     "metadata": {
      "needs_background": "light"
     },
     "output_type": "display_data"
    }
   ],
   "source": [
    "sns.displot(data = mu_wts.flatten(), bins = int(np.ceil(np.sqrt(mu_wts.size))))\n",
    "plt.title(\"mu Visualization\")\n",
    "plt.show()"
   ]
  },
  {
   "cell_type": "code",
   "execution_count": 95,
   "id": "e3a6e181-dbd3-415e-a67d-56f110e975fe",
   "metadata": {},
   "outputs": [
    {
     "data": {
      "image/png": "[encoded data removed]",
      "text/plain": [
       "<Figure size 360x360 with 1 Axes>"
      ]
     },
     "metadata": {
      "needs_background": "light"
     },
     "output_type": "display_data"
    }
   ],
   "source": [
    "sns.displot(data = log_var_wts.flatten(), bins = int(np.ceil(np.sqrt(log_var_wts.size))))\n",
    "plt.title(\"log variance Visualization\")\n",
    "plt.show()"
   ]
  },
  {
   "cell_type": "code",
   "execution_count": null,
   "id": "537cef54-989a-42c9-b51d-6fc34b118f55",
   "metadata": {},
   "outputs": [],
   "source": []
  },
  {
   "cell_type": "code",
   "execution_count": 96,
   "id": "7693f3ff-b15a-439f-b25c-a9c23ecd9608",
   "metadata": {},
   "outputs": [],
   "source": [
    "del log_var_wts, mu_wts"
   ]
  },
  {
   "cell_type": "code",
   "execution_count": null,
   "id": "ad135f84-f89a-47bb-937e-c4a73df354f1",
   "metadata": {},
   "outputs": [],
   "source": []
  },
  {
   "cell_type": "code",
   "execution_count": null,
   "id": "59c286cd-16bc-4b4c-8c35-7a11a9a5d0ec",
   "metadata": {},
   "outputs": [],
   "source": []
  },
  {
   "cell_type": "code",
   "execution_count": 97,
   "id": "30014e42-5c0d-48ad-8236-b678823ebf61",
   "metadata": {},
   "outputs": [
    {
     "name": "stdout",
     "output_type": "stream",
     "text": [
      "Adam optimizer with learning rate = 0.001 will be used\n"
     ]
    }
   ],
   "source": [
    "print(f\"Adam optimizer with learning rate = {learning_rate} will be used\")"
   ]
  },
  {
   "cell_type": "code",
   "execution_count": 98,
   "id": "9869b578-fc6d-446b-b8ca-5b222ffbe3f3",
   "metadata": {},
   "outputs": [],
   "source": [
    "# Define gradient descent optimizer-\n",
    "optimizer = torch.optim.Adam(model.parameters(), lr = learning_rate)"
   ]
  },
  {
   "cell_type": "code",
   "execution_count": null,
   "id": "2ea87670-e350-4f59-90b5-dfaf7bcf4018",
   "metadata": {},
   "outputs": [],
   "source": []
  },
  {
   "cell_type": "code",
   "execution_count": 99,
   "id": "cb6b173f-ae08-43b9-82f5-3dee30fb7c5f",
   "metadata": {},
   "outputs": [],
   "source": [
    "# Reconstruction loss-\n",
    "# criterion = nn.BCELoss(reduction = 'sum')\n",
    "\n",
    "# Note: reduction='sum' is used for the BCELoss(). If you read the PyTorch documentations, then this is\n",
    "# specifically for the case of autoencoders only.\n",
    "\n",
    "# MSE loss could also be used-\n",
    "criterion = nn.MSELoss(reduction = 'sum')"
   ]
  },
  {
   "cell_type": "code",
   "execution_count": null,
   "id": "5a8ebb0f-3156-4039-8e4f-e91b0e4c1400",
   "metadata": {},
   "outputs": [],
   "source": []
  },
  {
   "cell_type": "code",
   "execution_count": null,
   "id": "4f730b8a-6a41-40ea-b127-146c83d620c9",
   "metadata": {},
   "outputs": [],
   "source": []
  },
  {
   "cell_type": "code",
   "execution_count": 100,
   "id": "ca09ee69-dda0-4767-b6d7-1e4e668e2cd2",
   "metadata": {},
   "outputs": [],
   "source": [
    "def total_loss(reconstruction_loss, mu, log_var, alpha = 1):\n",
    "    '''\n",
    "    Function to add reconstruction loss and KL-Divergence loss.\n",
    "    KL-Divergence = 0.5 * sum(1 + log(sigma^2) - mu^2 - sigma^2)\n",
    "    \n",
    "    Inputs:\n",
    "    1. recontruction loss - BCE or MSE loss\n",
    "    2. mu: mean from the latent vector\n",
    "    3. logvar: log variance from the latent vector\n",
    "    4. alpha (int): Hyperparameter to control the importance of reconstruction\n",
    "    loss vs KL-Divergence Loss.\n",
    "    '''\n",
    "    KLD = -0.5 * torch.sum(1 + log_var - mu.pow(2) - log_var.exp())\n",
    "    \n",
    "    # final_loss = reconstruction_loss + KLD\n",
    "    final_loss = (reconstruction_loss * alpha) + KLD\n",
    "    \n",
    "    return final_loss\n"
   ]
  },
  {
   "cell_type": "code",
   "execution_count": null,
   "id": "26b451c6-bf81-4cda-97af-3ea72b568e2f",
   "metadata": {},
   "outputs": [],
   "source": []
  },
  {
   "cell_type": "code",
   "execution_count": 105,
   "id": "8d79231c-2a9e-4dd8-b144-ea1df02c1dc2",
   "metadata": {},
   "outputs": [],
   "source": [
    "def train_one_epoch(model, dataloader, dataset, alpha):\n",
    "    \n",
    "    # Place model to device-\n",
    "    model.to(device)\n",
    "    \n",
    "    # Enable training mode-\n",
    "    model.train()\n",
    "    \n",
    "    running_loss = 0.0\n",
    "    \n",
    "    for i, data in tqdm(enumerate(dataloader), total = int(len(dataset) / dataloader.batch_size)):\n",
    "        data = data\n",
    "        data = data.to(device)\n",
    "        \n",
    "        # Flatten input data to feed into a dense layer-\n",
    "        # data = data.view(data.size(0), -1)\n",
    "        \n",
    "        # Empty accumulated gradients-\n",
    "        optimizer.zero_grad()\n",
    "        \n",
    "        # Perform forward propagation-\n",
    "        reconstruction, mu, logvar = model(data)\n",
    "        \n",
    "        # Compute reconstruction loss-\n",
    "        recon_loss = criterion(reconstruction, data)\n",
    "        \n",
    "        # Compute final loss-\n",
    "        loss = total_loss(recon_loss, mu, logvar, alpha)\n",
    "        \n",
    "        # Update loss-\n",
    "        running_loss += loss.item()\n",
    "        \n",
    "        # Compute gradients wrt loss-\n",
    "        loss.backward()\n",
    "        \n",
    "        # Perform gradient descent-\n",
    "        optimizer.step()\n",
    "        \n",
    "    train_loss = running_loss / len(dataloader.dataset)\n",
    "    \n",
    "    return train_loss, mu, logvar\n"
   ]
  },
  {
   "cell_type": "code",
   "execution_count": null,
   "id": "b724c3be-bd9c-4dd3-976b-7ebb9e07e16c",
   "metadata": {},
   "outputs": [],
   "source": []
  },
  {
   "cell_type": "code",
   "execution_count": null,
   "id": "7e3dd656-6bdd-4b56-8d47-e4259c6b3f64",
   "metadata": {},
   "outputs": [],
   "source": [
    "\"\"\"\n",
    "def validate_one_epoch(model, dataloader, alpha):\n",
    "    \n",
    "    # Place model to device-\n",
    "    model.to(device)\n",
    "    \n",
    "    # Enable evaluation mode-\n",
    "    model.eval()\n",
    "    \n",
    "    running_loss = 0.0\n",
    "    \n",
    "    with torch.no_grad():\n",
    "        for i, data in tqdm(enumerate(data_loader), total = int(len(dataset) / dataloader.batch_size)):\n",
    "            data = data\n",
    "            data = data.to(device)\n",
    "            \n",
    "            # Flatten data to feed into a dense layer-\n",
    "            # data = data.view(data.size(0), -1)\n",
    "            \n",
    "            # Forward propagation-\n",
    "            reconstruction, mu, logvar = model(data)\n",
    "            \n",
    "            # Compute reconstruction loss-\n",
    "            bce_loss = criterion(reconstruction, data)\n",
    "            \n",
    "            # Compute total loss-\n",
    "            loss = total_loss(bce_loss, mu, logvar, alpha)\n",
    "            \n",
    "            # Update loss-\n",
    "            running_loss += loss.item()\n",
    "\n",
    "            '''\n",
    "            # save the last batch input and output of every epoch\n",
    "            if i == int(len(test_dataset) / dataloader.batch_size) - 1:\n",
    "                num_rows = 8\n",
    "                both = torch.cat((data.view(batch_size, 1, 28, 28)[:8], \n",
    "                                  reconstruction.view(batch_size, 1, 28, 28)[:8]))\n",
    "                save_image(both.cpu(), f\"../outputs/output{epoch}.png\", nrow=num_rows)\n",
    "            '''\n",
    "            \n",
    "    val_loss = running_loss / len(dataloader.dataset)\n",
    "    \n",
    "    return val_loss, mu, logvar\n",
    "\n",
    "\"\"\""
   ]
  },
  {
   "cell_type": "code",
   "execution_count": null,
   "id": "6e42346c-77a3-4eed-be24-01eed06f446e",
   "metadata": {},
   "outputs": [],
   "source": []
  },
  {
   "cell_type": "code",
   "execution_count": null,
   "id": "af634b29-00b1-4302-8523-7409f7b9d306",
   "metadata": {},
   "outputs": [],
   "source": [
    "'''\n",
    "# Sanity check-\n",
    "train_loss, mu, logvar = train_one_epoch(\n",
    "    model = model, dataloader = data_loader,\n",
    "    dataset = dataset_tensor, alpha = 10\n",
    ")\n",
    "'''"
   ]
  },
  {
   "cell_type": "code",
   "execution_count": null,
   "id": "105433cf-ddec-47cc-820b-61ef0bf067fd",
   "metadata": {},
   "outputs": [],
   "source": [
    "# Sanity check-\n",
    "# test_loss = validate_one_epoch(model = model, dataloader = test_loader, aplha = 1)\n",
    "\n",
    "# print(f\"train loss = {train_loss:.4f} & test loss = {test_loss:.4f}\")"
   ]
  },
  {
   "cell_type": "code",
   "execution_count": null,
   "id": "5a33559e-ca7c-42c9-9b22-eb61f477449d",
   "metadata": {},
   "outputs": [],
   "source": [
    "# print(f\"train loss = {train_loss:.4f}\")\n",
    "# train loss = 4.5863"
   ]
  },
  {
   "cell_type": "code",
   "execution_count": null,
   "id": "72965b10-8cdd-49d2-998e-8c8c02fb3f75",
   "metadata": {},
   "outputs": [],
   "source": []
  },
  {
   "cell_type": "code",
   "execution_count": null,
   "id": "f9408c1f-8c68-41dd-a852-1d9b728d0dcd",
   "metadata": {},
   "outputs": [],
   "source": []
  },
  {
   "cell_type": "code",
   "execution_count": 108,
   "id": "810f193e-11ad-4669-b2b0-ec700c73578c",
   "metadata": {},
   "outputs": [],
   "source": [
    "# Specify alpha - Hyperparameter to control the importance of reconstruction\n",
    "# loss vs KL-Divergence Loss-\n",
    "alpha = 10"
   ]
  },
  {
   "cell_type": "code",
   "execution_count": 109,
   "id": "57a1dcdb-9323-449b-954a-19e9f01c9a2b",
   "metadata": {},
   "outputs": [],
   "source": [
    "# Python dict to contain training metrics-\n",
    "train_history = {}"
   ]
  },
  {
   "cell_type": "code",
   "execution_count": null,
   "id": "a1dbed45-9387-4f0a-bab4-d423d3494c25",
   "metadata": {},
   "outputs": [],
   "source": []
  },
  {
   "cell_type": "code",
   "execution_count": 110,
   "id": "149c2f1e-85fa-4a1e-9f2a-9ce215dc1b00",
   "metadata": {},
   "outputs": [
    {
     "name": "stdout",
     "output_type": "stream",
     "text": [
      "Training VAE model for 10 epochs\n"
     ]
    }
   ],
   "source": [
    "num_epochs = 10\n",
    "print(f\"Training VAE model for {num_epochs} epochs\")"
   ]
  },
  {
   "cell_type": "code",
   "execution_count": null,
   "id": "3cfb63e3-d54c-4e34-a991-3943ecf34a57",
   "metadata": {},
   "outputs": [],
   "source": []
  },
  {
   "cell_type": "code",
   "execution_count": null,
   "id": "22078ea5-bd22-48dc-b1c6-40647327a804",
   "metadata": {},
   "outputs": [],
   "source": []
  },
  {
   "cell_type": "code",
   "execution_count": 112,
   "id": "170b6ce7-ae6d-4daf-bebf-8853a8a11fb4",
   "metadata": {},
   "outputs": [
    {
     "name": "stderr",
     "output_type": "stream",
     "text": [
      "6572it [00:58, 111.90it/s]                                                                                             \n"
     ]
    },
    {
     "name": "stdout",
     "output_type": "stream",
     "text": [
      "Epoch = 1; train loss = 1.8011, train_logvar = 0.001863 & train_mu = 0.002006\n"
     ]
    },
    {
     "name": "stderr",
     "output_type": "stream",
     "text": [
      "6572it [00:59, 109.94it/s]                                                                                             \n"
     ]
    },
    {
     "name": "stdout",
     "output_type": "stream",
     "text": [
      "Epoch = 2; train loss = 1.4003, train_logvar = -0.001606 & train_mu = 0.001037\n"
     ]
    },
    {
     "name": "stderr",
     "output_type": "stream",
     "text": [
      "6572it [01:03, 104.08it/s]                                                                                             \n"
     ]
    },
    {
     "name": "stdout",
     "output_type": "stream",
     "text": [
      "Epoch = 3; train loss = 0.8381, train_logvar = -0.000001 & train_mu = -0.001908\n"
     ]
    },
    {
     "name": "stderr",
     "output_type": "stream",
     "text": [
      "6572it [01:00, 108.42it/s]                                                                                             \n"
     ]
    },
    {
     "name": "stdout",
     "output_type": "stream",
     "text": [
      "Epoch = 4; train loss = 0.7221, train_logvar = -0.000444 & train_mu = 0.001285\n"
     ]
    },
    {
     "name": "stderr",
     "output_type": "stream",
     "text": [
      "6572it [01:01, 106.99it/s]                                                                                             \n"
     ]
    },
    {
     "name": "stdout",
     "output_type": "stream",
     "text": [
      "Epoch = 5; train loss = 0.6479, train_logvar = 0.000821 & train_mu = 0.001611\n"
     ]
    },
    {
     "name": "stderr",
     "output_type": "stream",
     "text": [
      "6572it [01:00, 108.45it/s]                                                                                             \n"
     ]
    },
    {
     "name": "stdout",
     "output_type": "stream",
     "text": [
      "Epoch = 6; train loss = 0.6084, train_logvar = -0.000678 & train_mu = 0.000886\n"
     ]
    },
    {
     "name": "stderr",
     "output_type": "stream",
     "text": [
      "6572it [01:02, 104.49it/s]                                                                                             \n"
     ]
    },
    {
     "name": "stdout",
     "output_type": "stream",
     "text": [
      "Epoch = 7; train loss = 0.5753, train_logvar = 0.000432 & train_mu = -0.000135\n"
     ]
    },
    {
     "name": "stderr",
     "output_type": "stream",
     "text": [
      "6572it [01:01, 106.46it/s]                                                                                             \n"
     ]
    },
    {
     "name": "stdout",
     "output_type": "stream",
     "text": [
      "Epoch = 8; train loss = 0.5399, train_logvar = -0.000555 & train_mu = 0.000754\n"
     ]
    },
    {
     "name": "stderr",
     "output_type": "stream",
     "text": [
      "6572it [01:03, 103.37it/s]                                                                                             \n"
     ]
    },
    {
     "name": "stdout",
     "output_type": "stream",
     "text": [
      "Epoch = 9; train loss = 0.5293, train_logvar = -0.001901 & train_mu = 0.000048\n"
     ]
    },
    {
     "name": "stderr",
     "output_type": "stream",
     "text": [
      "6572it [01:05, 100.86it/s]                                                                                             "
     ]
    },
    {
     "name": "stdout",
     "output_type": "stream",
     "text": [
      "Epoch = 10; train loss = 0.5278, train_logvar = 0.001465 & train_mu = -0.000025\n"
     ]
    },
    {
     "name": "stderr",
     "output_type": "stream",
     "text": [
      "\n"
     ]
    }
   ],
   "source": [
    "for epoch in range(1, num_epochs + 1):\n",
    "    \n",
    "    # Train model for 1 epoch-\n",
    "    train_epoch_loss, mu_train, logvar_train = train_one_epoch(\n",
    "        model = model, dataloader = data_loader,\n",
    "        dataset = dataset_tensor, alpha = 10\n",
    "    )\n",
    "    \n",
    "    '''\n",
    "    # Get validation metrics-\n",
    "    val_epoch_loss, mu_val, logvar_val = validate_one_epoch(\n",
    "        model = model, dataloader = test_loader,\n",
    "        alpha = alpha\n",
    "    )\n",
    "    '''\n",
    "    \n",
    "    # Retrieve model performance metrics-\n",
    "    logvar_train = logvar_train.mean().detach().cpu().numpy()\n",
    "    # logvar_val = logvar_val.mean().detach().cpu().numpy()\n",
    "    mu_train = mu_train.mean().detach().cpu().numpy()\n",
    "    # mu_val = mu_val.mean().detach().cpu().numpy()\n",
    "\n",
    "    # Store model performance metrics in Python3 dict-\n",
    "    train_history[epoch] = {\n",
    "        'train_loss': train_epoch_loss,\n",
    "        # 'val_loss': val_epoch_loss,\n",
    "        'train_logvar': logvar_train,\n",
    "        # 'val_logvar': logvar_val,\n",
    "        'train_mu': mu_train,\n",
    "        # 'val_mu': mu_val\n",
    "    }\n",
    "\n",
    "    '''\n",
    "    print(f\"Epoch = {epoch}; train loss = {train_epoch_loss:.4f},\"\n",
    "    f\"test loss = {val_epoch_loss:.4f}, train_logvar = {logvar_train:.6f}\"\n",
    "    f\", train_mu = {mu_train:.6f}, val_logvar = {logvar_val:.6f} &\"\n",
    "    f\" val_mu = {mu_val:.6f}\")\n",
    "    '''\n",
    "    \n",
    "    print(f\"Epoch = {epoch}; train loss = {train_epoch_loss:.4f},\"\n",
    "          f\" train_logvar = {logvar_train:.6f} & train_mu = {mu_train:.6f}\"\n",
    "         )\n",
    "    \n",
    "    "
   ]
  },
  {
   "cell_type": "code",
   "execution_count": null,
   "id": "9b3529ca-d71d-49ee-a760-8bdc2f8881e6",
   "metadata": {},
   "outputs": [],
   "source": []
  },
  {
   "cell_type": "code",
   "execution_count": null,
   "id": "fc8d8ac2-5bbc-4693-b95f-1a7b7570428f",
   "metadata": {},
   "outputs": [],
   "source": []
  },
  {
   "cell_type": "code",
   "execution_count": 113,
   "id": "f4c5284e-b4bf-4d47-940c-fb660aa190a8",
   "metadata": {},
   "outputs": [],
   "source": [
    "# Save trained VAE model's weights-\n",
    "torch.save(model.state_dict(), 'VAE_Time_Series.pth')"
   ]
  },
  {
   "cell_type": "code",
   "execution_count": null,
   "id": "c8090f8e-9b86-4c80-95c9-bed2a91d66db",
   "metadata": {},
   "outputs": [],
   "source": [
    "# Load trained weights from before-\n",
    "# loaded_model = VAE_Dense(latent_space = 5).to(device)\n",
    "# loaded_model.load_state_dict(torch.load('VAE_LeNet5_MNIST_Trained_Weights.pth', map_location = torch.device('cpu')))\n",
    "\n",
    "# Define gradient descent optimizer-\n",
    "# optimizer = torch.optim.Adam(loaded_model.parameters(), lr = learning_rate)"
   ]
  },
  {
   "cell_type": "code",
   "execution_count": null,
   "id": "4e8cea22-5d7d-4411-9a29-0d9f2233fbf9",
   "metadata": {},
   "outputs": [],
   "source": []
  },
  {
   "cell_type": "code",
   "execution_count": 114,
   "id": "e74134ef-eb6c-4141-b99d-c40a77036c8d",
   "metadata": {},
   "outputs": [],
   "source": [
    "import pickle\n",
    "\n",
    "# Save training history as pickle file-\n",
    "with open(\"VAE_Time_Series_training_history.pkl\", \"wb\") as file:\n",
    "    pickle.dump(train_history, file)"
   ]
  },
  {
   "cell_type": "code",
   "execution_count": null,
   "id": "d39c02b4-a537-4d98-92f3-9cebdec3a8b3",
   "metadata": {},
   "outputs": [],
   "source": [
    "'''\n",
    "# Load training history from pickle file-\n",
    "with open(\"VAE_LeNet5_MNIST_training_history.pkl\", \"rb\") as file:\n",
    "    training_history_lr_scheduler = pickle.load(file)\n",
    "'''"
   ]
  },
  {
   "cell_type": "code",
   "execution_count": null,
   "id": "416d2a8b-a4dc-421b-8e3b-daface0d6bc2",
   "metadata": {},
   "outputs": [],
   "source": []
  },
  {
   "cell_type": "code",
   "execution_count": null,
   "id": "9c214a4a-f7c0-42bb-8051-76dd91082158",
   "metadata": {},
   "outputs": [],
   "source": []
  },
  {
   "cell_type": "code",
   "execution_count": 115,
   "id": "2c34e153-1404-4a8a-b9ff-e6c8a8f50ac6",
   "metadata": {},
   "outputs": [
    {
     "data": {
      "image/png": "[encoded data removed]",
      "text/plain": [
       "<Figure size 648x504 with 1 Axes>"
      ]
     },
     "metadata": {
      "needs_background": "light"
     },
     "output_type": "display_data"
    }
   ],
   "source": [
    "# VAE Training Visualization-\n",
    "plt.figure(figsize = (9, 7))\n",
    "plt.plot([train_history[x]['train_loss'] for x in train_history.keys()], label = 'train_loss')\n",
    "plt.title(\"VAE Time Series training - Total loss Visualization\")\n",
    "plt.xlabel(\"epochs\")\n",
    "plt.ylabel(\"total loss\")\n",
    "plt.show()"
   ]
  },
  {
   "cell_type": "code",
   "execution_count": 116,
   "id": "2d7b54b5-2cb2-4f4a-85f6-fb87ed8c5881",
   "metadata": {},
   "outputs": [
    {
     "data": {
      "image/png": "[encoded data removed]",
      "text/plain": [
       "<Figure size 648x504 with 1 Axes>"
      ]
     },
     "metadata": {
      "needs_background": "light"
     },
     "output_type": "display_data"
    }
   ],
   "source": [
    "# VAE Training Visualization-\n",
    "plt.figure(figsize = (9, 7))\n",
    "plt.plot([train_history[x]['train_logvar'] for x in train_history.keys()], label = 'train_logvar')\n",
    "plt.title(\"VAE Time Series training - log var Visualization\")\n",
    "plt.xlabel(\"epochs\")\n",
    "plt.ylabel(\"log var\")\n",
    "plt.show()"
   ]
  },
  {
   "cell_type": "code",
   "execution_count": 117,
   "id": "a59e71b0-43e6-47cd-bda5-3244fbecb5a8",
   "metadata": {},
   "outputs": [
    {
     "data": {
      "image/png": "[encoded data removed]",
      "text/plain": [
       "<Figure size 648x504 with 1 Axes>"
      ]
     },
     "metadata": {
      "needs_background": "light"
     },
     "output_type": "display_data"
    }
   ],
   "source": [
    "# VAE Training Visualization-\n",
    "plt.figure(figsize = (9, 7))\n",
    "plt.plot([train_history[x]['train_mu'] for x in train_history.keys()], label = 'mu_train')\n",
    "plt.title(\"VAE Time Series training - mean Visualization\")\n",
    "plt.xlabel(\"epochs\")\n",
    "plt.ylabel(\"mean\")\n",
    "plt.show()"
   ]
  },
  {
   "cell_type": "code",
   "execution_count": null,
   "id": "2d4ff352-bba8-4e6b-872b-73a9a407c08d",
   "metadata": {},
   "outputs": [],
   "source": []
  },
  {
   "cell_type": "code",
   "execution_count": null,
   "id": "2acf8919-0c2d-47bf-b67d-8d98eaac5970",
   "metadata": {},
   "outputs": [],
   "source": []
  },
  {
   "cell_type": "code",
   "execution_count": 118,
   "id": "1176c6b0-5d70-4ad8-9847-1f241160f540",
   "metadata": {},
   "outputs": [],
   "source": [
    "x = next(iter(data_loader))"
   ]
  },
  {
   "cell_type": "code",
   "execution_count": 119,
   "id": "fee62a8e-cb7e-4475-b5ce-0915af45c168",
   "metadata": {},
   "outputs": [],
   "source": [
    "# Perform forward propagation-\n",
    "recon_data, mu, log_var = model(x)"
   ]
  },
  {
   "cell_type": "code",
   "execution_count": 120,
   "id": "1d7e3d47-7c20-4537-80f9-b568c6a8b637",
   "metadata": {},
   "outputs": [],
   "source": [
    "recon_data = recon_data.cpu().detach().numpy()\n",
    "mu = mu.cpu().detach().numpy()\n",
    "log_var = log_var.cpu().detach().numpy()"
   ]
  },
  {
   "cell_type": "code",
   "execution_count": 121,
   "id": "3adc49c8-363b-4538-9ba1-5150c67d3f9a",
   "metadata": {},
   "outputs": [
    {
     "data": {
      "text/plain": [
       "((64, 14), torch.Size([64, 14]), (64, 10), (64, 10))"
      ]
     },
     "execution_count": 121,
     "metadata": {},
     "output_type": "execute_result"
    }
   ],
   "source": [
    "recon_data.shape, x.shape, mu.shape, log_var.shape"
   ]
  },
  {
   "cell_type": "code",
   "execution_count": null,
   "id": "025d5175-7902-4e97-8fbc-0a6513d3b308",
   "metadata": {},
   "outputs": [],
   "source": []
  },
  {
   "cell_type": "code",
   "execution_count": 122,
   "id": "eab7676a-f64d-4939-852e-2b9fbc1c32f4",
   "metadata": {},
   "outputs": [],
   "source": [
    "# for x in dataset:\n",
    "for x in data_loader:\n",
    "    x = x.to(device)\n",
    "    \n",
    "    recon_data_n, mu_n, log_var_n = model(x)\n",
    "    \n",
    "    recon_data_n = recon_data_n.detach().cpu().numpy()\n",
    "    mu_n = mu_n.detach().cpu().numpy()\n",
    "    log_var_n = log_var_n.detach().cpu().numpy()\n",
    "\n",
    "    recon_data = np.concatenate((recon_data, recon_data_n), axis = 0)\n",
    "    mu = np.concatenate((mu, mu_n), axis = 0)\n",
    "    log_var = np.concatenate((log_var, log_var_n), axis = 0)\n",
    "    \n",
    "    \"\"\"\n",
    "    print(f\"recon_data.shape: {recon_data.shape}, mu.shape: {mu.shape}\"\n",
    "         f\" & log_var.shape: {log_var.shape}\")\n",
    "    \"\"\"\n",
    "    "
   ]
  },
  {
   "cell_type": "code",
   "execution_count": null,
   "id": "2d74b8f7-8e18-4093-8d4a-caeaec0cbb45",
   "metadata": {},
   "outputs": [],
   "source": []
  },
  {
   "cell_type": "code",
   "execution_count": 123,
   "id": "bfb6a2d8-1990-4209-863c-1e1f9a8cc35a",
   "metadata": {},
   "outputs": [
    {
     "data": {
      "text/plain": [
       "((420615, 14), (420615, 10), (420615, 10))"
      ]
     },
     "execution_count": 123,
     "metadata": {},
     "output_type": "execute_result"
    }
   ],
   "source": [
    "recon_data.shape, mu.shape, log_var.shape"
   ]
  },
  {
   "cell_type": "code",
   "execution_count": 124,
   "id": "cdb0441e-3d64-48d1-b96e-f0db8a6da27d",
   "metadata": {},
   "outputs": [
    {
     "data": {
      "text/plain": [
       "(numpy.ndarray, numpy.ndarray, numpy.ndarray)"
      ]
     },
     "execution_count": 124,
     "metadata": {},
     "output_type": "execute_result"
    }
   ],
   "source": [
    "type(recon_data), type(mu), type(log_var)"
   ]
  },
  {
   "cell_type": "code",
   "execution_count": null,
   "id": "fb6ee40d-d823-4fe3-b10f-0faf870fb6cb",
   "metadata": {},
   "outputs": [],
   "source": []
  },
  {
   "cell_type": "code",
   "execution_count": 125,
   "id": "7dc390c0-5656-4f74-a864-8732047d7943",
   "metadata": {},
   "outputs": [],
   "source": [
    "recon_data_orig = mm_scaler.inverse_transform(recon_data)"
   ]
  },
  {
   "cell_type": "code",
   "execution_count": 126,
   "id": "a478667e-0460-4af3-aeec-e643ac31bec1",
   "metadata": {},
   "outputs": [],
   "source": [
    "recon_data_orig = pd.DataFrame(recon_data_orig, columns = cols)"
   ]
  },
  {
   "cell_type": "code",
   "execution_count": null,
   "id": "0cf2c2fc-c7a5-4b7f-affb-7a1c6307feb1",
   "metadata": {},
   "outputs": [],
   "source": []
  },
  {
   "cell_type": "code",
   "execution_count": 127,
   "id": "85e45041-0485-418b-9701-ec485cd9199a",
   "metadata": {},
   "outputs": [
    {
     "data": {
      "text/html": [
       "<div>\n",
       "<style scoped>\n",
       "    .dataframe tbody tr th:only-of-type {\n",
       "        vertical-align: middle;\n",
       "    }\n",
       "\n",
       "    .dataframe tbody tr th {\n",
       "        vertical-align: top;\n",
       "    }\n",
       "\n",
       "    .dataframe thead th {\n",
       "        text-align: right;\n",
       "    }\n",
       "</style>\n",
       "<table border=\"1\" class=\"dataframe\">\n",
       "  <thead>\n",
       "    <tr style=\"text-align: right;\">\n",
       "      <th></th>\n",
       "      <th>Date Time</th>\n",
       "      <th>p (mbar)</th>\n",
       "      <th>T (degC)</th>\n",
       "      <th>Tpot (K)</th>\n",
       "      <th>Tdew (degC)</th>\n",
       "      <th>rh (%)</th>\n",
       "      <th>VPmax (mbar)</th>\n",
       "      <th>VPact (mbar)</th>\n",
       "      <th>VPdef (mbar)</th>\n",
       "      <th>sh (g/kg)</th>\n",
       "      <th>H2OC (mmol/mol)</th>\n",
       "      <th>rho (g/m**3)</th>\n",
       "      <th>wv (m/s)</th>\n",
       "      <th>max. wv (m/s)</th>\n",
       "      <th>wd (deg)</th>\n",
       "    </tr>\n",
       "  </thead>\n",
       "  <tbody>\n",
       "    <tr>\n",
       "      <th>0</th>\n",
       "      <td>2009-01-01 00:10:00</td>\n",
       "      <td>996.52</td>\n",
       "      <td>-8.02</td>\n",
       "      <td>265.40</td>\n",
       "      <td>-8.90</td>\n",
       "      <td>93.3</td>\n",
       "      <td>3.33</td>\n",
       "      <td>3.11</td>\n",
       "      <td>0.22</td>\n",
       "      <td>1.94</td>\n",
       "      <td>3.12</td>\n",
       "      <td>1307.75</td>\n",
       "      <td>1.03</td>\n",
       "      <td>1.75</td>\n",
       "      <td>152.3</td>\n",
       "    </tr>\n",
       "    <tr>\n",
       "      <th>1</th>\n",
       "      <td>2009-01-01 00:20:00</td>\n",
       "      <td>996.57</td>\n",
       "      <td>-8.41</td>\n",
       "      <td>265.01</td>\n",
       "      <td>-9.28</td>\n",
       "      <td>93.4</td>\n",
       "      <td>3.23</td>\n",
       "      <td>3.02</td>\n",
       "      <td>0.21</td>\n",
       "      <td>1.89</td>\n",
       "      <td>3.03</td>\n",
       "      <td>1309.80</td>\n",
       "      <td>0.72</td>\n",
       "      <td>1.50</td>\n",
       "      <td>136.1</td>\n",
       "    </tr>\n",
       "    <tr>\n",
       "      <th>2</th>\n",
       "      <td>2009-01-01 00:30:00</td>\n",
       "      <td>996.53</td>\n",
       "      <td>-8.51</td>\n",
       "      <td>264.91</td>\n",
       "      <td>-9.31</td>\n",
       "      <td>93.9</td>\n",
       "      <td>3.21</td>\n",
       "      <td>3.01</td>\n",
       "      <td>0.20</td>\n",
       "      <td>1.88</td>\n",
       "      <td>3.02</td>\n",
       "      <td>1310.24</td>\n",
       "      <td>0.19</td>\n",
       "      <td>0.63</td>\n",
       "      <td>171.6</td>\n",
       "    </tr>\n",
       "    <tr>\n",
       "      <th>3</th>\n",
       "      <td>2009-01-01 00:40:00</td>\n",
       "      <td>996.51</td>\n",
       "      <td>-8.31</td>\n",
       "      <td>265.12</td>\n",
       "      <td>-9.07</td>\n",
       "      <td>94.2</td>\n",
       "      <td>3.26</td>\n",
       "      <td>3.07</td>\n",
       "      <td>0.19</td>\n",
       "      <td>1.92</td>\n",
       "      <td>3.08</td>\n",
       "      <td>1309.19</td>\n",
       "      <td>0.34</td>\n",
       "      <td>0.50</td>\n",
       "      <td>198.0</td>\n",
       "    </tr>\n",
       "    <tr>\n",
       "      <th>4</th>\n",
       "      <td>2009-01-01 00:50:00</td>\n",
       "      <td>996.51</td>\n",
       "      <td>-8.27</td>\n",
       "      <td>265.15</td>\n",
       "      <td>-9.04</td>\n",
       "      <td>94.1</td>\n",
       "      <td>3.27</td>\n",
       "      <td>3.08</td>\n",
       "      <td>0.19</td>\n",
       "      <td>1.92</td>\n",
       "      <td>3.09</td>\n",
       "      <td>1309.00</td>\n",
       "      <td>0.32</td>\n",
       "      <td>0.63</td>\n",
       "      <td>214.3</td>\n",
       "    </tr>\n",
       "    <tr>\n",
       "      <th>5</th>\n",
       "      <td>2009-01-01 01:00:00</td>\n",
       "      <td>996.50</td>\n",
       "      <td>-8.05</td>\n",
       "      <td>265.38</td>\n",
       "      <td>-8.78</td>\n",
       "      <td>94.4</td>\n",
       "      <td>3.33</td>\n",
       "      <td>3.14</td>\n",
       "      <td>0.19</td>\n",
       "      <td>1.96</td>\n",
       "      <td>3.15</td>\n",
       "      <td>1307.86</td>\n",
       "      <td>0.21</td>\n",
       "      <td>0.63</td>\n",
       "      <td>192.7</td>\n",
       "    </tr>\n",
       "  </tbody>\n",
       "</table>\n",
       "</div>"
      ],
      "text/plain": [
       "            Date Time  p (mbar)  T (degC)  Tpot (K)  Tdew (degC)  rh (%)  \\\n",
       "0 2009-01-01 00:10:00    996.52     -8.02    265.40        -8.90    93.3   \n",
       "1 2009-01-01 00:20:00    996.57     -8.41    265.01        -9.28    93.4   \n",
       "2 2009-01-01 00:30:00    996.53     -8.51    264.91        -9.31    93.9   \n",
       "3 2009-01-01 00:40:00    996.51     -8.31    265.12        -9.07    94.2   \n",
       "4 2009-01-01 00:50:00    996.51     -8.27    265.15        -9.04    94.1   \n",
       "5 2009-01-01 01:00:00    996.50     -8.05    265.38        -8.78    94.4   \n",
       "\n",
       "   VPmax (mbar)  VPact (mbar)  VPdef (mbar)  sh (g/kg)  H2OC (mmol/mol)  \\\n",
       "0          3.33          3.11          0.22       1.94             3.12   \n",
       "1          3.23          3.02          0.21       1.89             3.03   \n",
       "2          3.21          3.01          0.20       1.88             3.02   \n",
       "3          3.26          3.07          0.19       1.92             3.08   \n",
       "4          3.27          3.08          0.19       1.92             3.09   \n",
       "5          3.33          3.14          0.19       1.96             3.15   \n",
       "\n",
       "   rho (g/m**3)  wv (m/s)  max. wv (m/s)  wd (deg)  \n",
       "0       1307.75      1.03           1.75     152.3  \n",
       "1       1309.80      0.72           1.50     136.1  \n",
       "2       1310.24      0.19           0.63     171.6  \n",
       "3       1309.19      0.34           0.50     198.0  \n",
       "4       1309.00      0.32           0.63     214.3  \n",
       "5       1307.86      0.21           0.63     192.7  "
      ]
     },
     "execution_count": 127,
     "metadata": {},
     "output_type": "execute_result"
    }
   ],
   "source": [
    "data.loc[:5, :]"
   ]
  },
  {
   "cell_type": "code",
   "execution_count": 128,
   "id": "f34f45c1-997d-441a-a02a-b2eed2f1dce1",
   "metadata": {},
   "outputs": [
    {
     "data": {
      "text/html": [
       "<div>\n",
       "<style scoped>\n",
       "    .dataframe tbody tr th:only-of-type {\n",
       "        vertical-align: middle;\n",
       "    }\n",
       "\n",
       "    .dataframe tbody tr th {\n",
       "        vertical-align: top;\n",
       "    }\n",
       "\n",
       "    .dataframe thead th {\n",
       "        text-align: right;\n",
       "    }\n",
       "</style>\n",
       "<table border=\"1\" class=\"dataframe\">\n",
       "  <thead>\n",
       "    <tr style=\"text-align: right;\">\n",
       "      <th></th>\n",
       "      <th>p (mbar)</th>\n",
       "      <th>T (degC)</th>\n",
       "      <th>Tpot (K)</th>\n",
       "      <th>Tdew (degC)</th>\n",
       "      <th>rh (%)</th>\n",
       "      <th>VPmax (mbar)</th>\n",
       "      <th>VPact (mbar)</th>\n",
       "      <th>VPdef (mbar)</th>\n",
       "      <th>sh (g/kg)</th>\n",
       "      <th>H2OC (mmol/mol)</th>\n",
       "      <th>rho (g/m**3)</th>\n",
       "      <th>wv (m/s)</th>\n",
       "      <th>max. wv (m/s)</th>\n",
       "      <th>wd (deg)</th>\n",
       "    </tr>\n",
       "  </thead>\n",
       "  <tbody>\n",
       "    <tr>\n",
       "      <th>0</th>\n",
       "      <td>1008.861267</td>\n",
       "      <td>-5.589265</td>\n",
       "      <td>266.356903</td>\n",
       "      <td>-6.872425</td>\n",
       "      <td>89.109276</td>\n",
       "      <td>4.102803</td>\n",
       "      <td>3.671323</td>\n",
       "      <td>0.406468</td>\n",
       "      <td>2.239503</td>\n",
       "      <td>3.596094</td>\n",
       "      <td>1320.166870</td>\n",
       "      <td>1.356020</td>\n",
       "      <td>2.275971</td>\n",
       "      <td>165.628387</td>\n",
       "    </tr>\n",
       "    <tr>\n",
       "      <th>1</th>\n",
       "      <td>1009.424133</td>\n",
       "      <td>-5.851975</td>\n",
       "      <td>266.109314</td>\n",
       "      <td>-7.100641</td>\n",
       "      <td>89.606094</td>\n",
       "      <td>4.029233</td>\n",
       "      <td>3.617514</td>\n",
       "      <td>0.382422</td>\n",
       "      <td>2.208613</td>\n",
       "      <td>3.546960</td>\n",
       "      <td>1322.049316</td>\n",
       "      <td>1.259863</td>\n",
       "      <td>2.133749</td>\n",
       "      <td>143.232880</td>\n",
       "    </tr>\n",
       "    <tr>\n",
       "      <th>2</th>\n",
       "      <td>1009.378662</td>\n",
       "      <td>-5.849324</td>\n",
       "      <td>266.077454</td>\n",
       "      <td>-7.066114</td>\n",
       "      <td>89.436958</td>\n",
       "      <td>4.035912</td>\n",
       "      <td>3.619995</td>\n",
       "      <td>0.388140</td>\n",
       "      <td>2.206310</td>\n",
       "      <td>3.542154</td>\n",
       "      <td>1321.968628</td>\n",
       "      <td>1.377921</td>\n",
       "      <td>2.303730</td>\n",
       "      <td>178.923279</td>\n",
       "    </tr>\n",
       "    <tr>\n",
       "      <th>3</th>\n",
       "      <td>1009.467407</td>\n",
       "      <td>-5.635225</td>\n",
       "      <td>266.283386</td>\n",
       "      <td>-6.850080</td>\n",
       "      <td>90.072357</td>\n",
       "      <td>4.118686</td>\n",
       "      <td>3.690723</td>\n",
       "      <td>0.366673</td>\n",
       "      <td>2.249763</td>\n",
       "      <td>3.609921</td>\n",
       "      <td>1321.108521</td>\n",
       "      <td>1.422249</td>\n",
       "      <td>2.362643</td>\n",
       "      <td>192.676361</td>\n",
       "    </tr>\n",
       "    <tr>\n",
       "      <th>4</th>\n",
       "      <td>1009.138794</td>\n",
       "      <td>-5.482256</td>\n",
       "      <td>266.421509</td>\n",
       "      <td>-6.874983</td>\n",
       "      <td>90.085976</td>\n",
       "      <td>4.209219</td>\n",
       "      <td>3.716740</td>\n",
       "      <td>0.371787</td>\n",
       "      <td>2.265795</td>\n",
       "      <td>3.629528</td>\n",
       "      <td>1320.616821</td>\n",
       "      <td>1.458745</td>\n",
       "      <td>2.388640</td>\n",
       "      <td>211.091873</td>\n",
       "    </tr>\n",
       "    <tr>\n",
       "      <th>5</th>\n",
       "      <td>1009.517883</td>\n",
       "      <td>-5.595650</td>\n",
       "      <td>266.331299</td>\n",
       "      <td>-6.763481</td>\n",
       "      <td>90.019279</td>\n",
       "      <td>4.128090</td>\n",
       "      <td>3.711557</td>\n",
       "      <td>0.372262</td>\n",
       "      <td>2.262777</td>\n",
       "      <td>3.631704</td>\n",
       "      <td>1320.867432</td>\n",
       "      <td>1.404469</td>\n",
       "      <td>2.339224</td>\n",
       "      <td>188.336258</td>\n",
       "    </tr>\n",
       "  </tbody>\n",
       "</table>\n",
       "</div>"
      ],
      "text/plain": [
       "      p (mbar)  T (degC)    Tpot (K)  Tdew (degC)     rh (%)  VPmax (mbar)  \\\n",
       "0  1008.861267 -5.589265  266.356903    -6.872425  89.109276      4.102803   \n",
       "1  1009.424133 -5.851975  266.109314    -7.100641  89.606094      4.029233   \n",
       "2  1009.378662 -5.849324  266.077454    -7.066114  89.436958      4.035912   \n",
       "3  1009.467407 -5.635225  266.283386    -6.850080  90.072357      4.118686   \n",
       "4  1009.138794 -5.482256  266.421509    -6.874983  90.085976      4.209219   \n",
       "5  1009.517883 -5.595650  266.331299    -6.763481  90.019279      4.128090   \n",
       "\n",
       "   VPact (mbar)  VPdef (mbar)  sh (g/kg)  H2OC (mmol/mol)  rho (g/m**3)  \\\n",
       "0      3.671323      0.406468   2.239503         3.596094   1320.166870   \n",
       "1      3.617514      0.382422   2.208613         3.546960   1322.049316   \n",
       "2      3.619995      0.388140   2.206310         3.542154   1321.968628   \n",
       "3      3.690723      0.366673   2.249763         3.609921   1321.108521   \n",
       "4      3.716740      0.371787   2.265795         3.629528   1320.616821   \n",
       "5      3.711557      0.372262   2.262777         3.631704   1320.867432   \n",
       "\n",
       "   wv (m/s)  max. wv (m/s)    wd (deg)  \n",
       "0  1.356020       2.275971  165.628387  \n",
       "1  1.259863       2.133749  143.232880  \n",
       "2  1.377921       2.303730  178.923279  \n",
       "3  1.422249       2.362643  192.676361  \n",
       "4  1.458745       2.388640  211.091873  \n",
       "5  1.404469       2.339224  188.336258  "
      ]
     },
     "execution_count": 128,
     "metadata": {},
     "output_type": "execute_result"
    }
   ],
   "source": [
    "recon_data_orig.loc[:5, :]"
   ]
  },
  {
   "cell_type": "code",
   "execution_count": null,
   "id": "22c4f350-3eef-462a-8c53-8a8b7d604817",
   "metadata": {},
   "outputs": [],
   "source": []
  },
  {
   "cell_type": "code",
   "execution_count": 129,
   "id": "023dd44d-ecb4-4147-a90e-1a0836b8dbe8",
   "metadata": {},
   "outputs": [
    {
     "data": {
      "text/html": [
       "<div>\n",
       "<style scoped>\n",
       "    .dataframe tbody tr th:only-of-type {\n",
       "        vertical-align: middle;\n",
       "    }\n",
       "\n",
       "    .dataframe tbody tr th {\n",
       "        vertical-align: top;\n",
       "    }\n",
       "\n",
       "    .dataframe thead th {\n",
       "        text-align: right;\n",
       "    }\n",
       "</style>\n",
       "<table border=\"1\" class=\"dataframe\">\n",
       "  <thead>\n",
       "    <tr style=\"text-align: right;\">\n",
       "      <th></th>\n",
       "      <th>p (mbar)</th>\n",
       "      <th>T (degC)</th>\n",
       "      <th>Tpot (K)</th>\n",
       "      <th>Tdew (degC)</th>\n",
       "      <th>rh (%)</th>\n",
       "      <th>VPmax (mbar)</th>\n",
       "      <th>VPact (mbar)</th>\n",
       "      <th>VPdef (mbar)</th>\n",
       "      <th>sh (g/kg)</th>\n",
       "      <th>H2OC (mmol/mol)</th>\n",
       "      <th>rho (g/m**3)</th>\n",
       "      <th>wv (m/s)</th>\n",
       "      <th>max. wv (m/s)</th>\n",
       "      <th>wd (deg)</th>\n",
       "    </tr>\n",
       "  </thead>\n",
       "  <tbody>\n",
       "    <tr>\n",
       "      <th>323421</th>\n",
       "      <td>1000.757141</td>\n",
       "      <td>-0.371166</td>\n",
       "      <td>272.150696</td>\n",
       "      <td>-2.351492</td>\n",
       "      <td>85.136299</td>\n",
       "      <td>5.826116</td>\n",
       "      <td>5.070172</td>\n",
       "      <td>0.808951</td>\n",
       "      <td>3.139179</td>\n",
       "      <td>5.039440</td>\n",
       "      <td>1282.785645</td>\n",
       "      <td>1.371698</td>\n",
       "      <td>2.326677</td>\n",
       "      <td>91.283600</td>\n",
       "    </tr>\n",
       "    <tr>\n",
       "      <th>156443</th>\n",
       "      <td>1002.571045</td>\n",
       "      <td>1.467914</td>\n",
       "      <td>273.735168</td>\n",
       "      <td>-0.384841</td>\n",
       "      <td>90.612152</td>\n",
       "      <td>6.794502</td>\n",
       "      <td>5.930066</td>\n",
       "      <td>0.589126</td>\n",
       "      <td>3.666747</td>\n",
       "      <td>5.872581</td>\n",
       "      <td>1277.688232</td>\n",
       "      <td>1.283464</td>\n",
       "      <td>2.314390</td>\n",
       "      <td>262.260315</td>\n",
       "    </tr>\n",
       "    <tr>\n",
       "      <th>377230</th>\n",
       "      <td>992.045227</td>\n",
       "      <td>3.731211</td>\n",
       "      <td>276.840393</td>\n",
       "      <td>-0.927037</td>\n",
       "      <td>70.828163</td>\n",
       "      <td>7.867400</td>\n",
       "      <td>5.699627</td>\n",
       "      <td>2.180698</td>\n",
       "      <td>3.562393</td>\n",
       "      <td>5.713637</td>\n",
       "      <td>1251.678955</td>\n",
       "      <td>2.814818</td>\n",
       "      <td>4.972702</td>\n",
       "      <td>226.344940</td>\n",
       "    </tr>\n",
       "    <tr>\n",
       "      <th>364219</th>\n",
       "      <td>999.503906</td>\n",
       "      <td>2.034644</td>\n",
       "      <td>274.463409</td>\n",
       "      <td>0.644518</td>\n",
       "      <td>92.455925</td>\n",
       "      <td>6.982144</td>\n",
       "      <td>6.362566</td>\n",
       "      <td>0.449297</td>\n",
       "      <td>3.940905</td>\n",
       "      <td>6.313928</td>\n",
       "      <td>1271.349609</td>\n",
       "      <td>1.545899</td>\n",
       "      <td>2.526143</td>\n",
       "      <td>36.977310</td>\n",
       "    </tr>\n",
       "    <tr>\n",
       "      <th>72971</th>\n",
       "      <td>994.059692</td>\n",
       "      <td>8.507005</td>\n",
       "      <td>281.471252</td>\n",
       "      <td>6.392197</td>\n",
       "      <td>86.454399</td>\n",
       "      <td>11.152791</td>\n",
       "      <td>9.708918</td>\n",
       "      <td>1.482211</td>\n",
       "      <td>6.070263</td>\n",
       "      <td>9.708211</td>\n",
       "      <td>1231.516479</td>\n",
       "      <td>1.387499</td>\n",
       "      <td>2.343621</td>\n",
       "      <td>205.979752</td>\n",
       "    </tr>\n",
       "    <tr>\n",
       "      <th>325327</th>\n",
       "      <td>993.229004</td>\n",
       "      <td>12.815883</td>\n",
       "      <td>285.993530</td>\n",
       "      <td>9.199231</td>\n",
       "      <td>78.715050</td>\n",
       "      <td>14.736712</td>\n",
       "      <td>11.678026</td>\n",
       "      <td>3.152707</td>\n",
       "      <td>7.328439</td>\n",
       "      <td>11.711457</td>\n",
       "      <td>1209.323853</td>\n",
       "      <td>1.340602</td>\n",
       "      <td>2.306241</td>\n",
       "      <td>191.536392</td>\n",
       "    </tr>\n",
       "    <tr>\n",
       "      <th>235894</th>\n",
       "      <td>996.950684</td>\n",
       "      <td>10.026675</td>\n",
       "      <td>282.722473</td>\n",
       "      <td>7.707159</td>\n",
       "      <td>84.265244</td>\n",
       "      <td>12.230993</td>\n",
       "      <td>10.599215</td>\n",
       "      <td>1.919055</td>\n",
       "      <td>6.612808</td>\n",
       "      <td>10.577492</td>\n",
       "      <td>1228.278198</td>\n",
       "      <td>1.521406</td>\n",
       "      <td>2.766650</td>\n",
       "      <td>260.725677</td>\n",
       "    </tr>\n",
       "    <tr>\n",
       "      <th>13249</th>\n",
       "      <td>995.501282</td>\n",
       "      <td>5.416340</td>\n",
       "      <td>278.263184</td>\n",
       "      <td>1.497382</td>\n",
       "      <td>76.314827</td>\n",
       "      <td>8.716458</td>\n",
       "      <td>6.727996</td>\n",
       "      <td>1.827529</td>\n",
       "      <td>4.197552</td>\n",
       "      <td>6.730323</td>\n",
       "      <td>1248.759766</td>\n",
       "      <td>2.022458</td>\n",
       "      <td>3.285396</td>\n",
       "      <td>37.405357</td>\n",
       "    </tr>\n",
       "    <tr>\n",
       "      <th>150487</th>\n",
       "      <td>986.938293</td>\n",
       "      <td>12.772204</td>\n",
       "      <td>286.528442</td>\n",
       "      <td>10.023632</td>\n",
       "      <td>80.334839</td>\n",
       "      <td>15.104410</td>\n",
       "      <td>12.503593</td>\n",
       "      <td>3.151487</td>\n",
       "      <td>7.879903</td>\n",
       "      <td>12.586817</td>\n",
       "      <td>1201.577637</td>\n",
       "      <td>4.276856</td>\n",
       "      <td>6.913639</td>\n",
       "      <td>223.604095</td>\n",
       "    </tr>\n",
       "    <tr>\n",
       "      <th>142564</th>\n",
       "      <td>992.932617</td>\n",
       "      <td>16.991274</td>\n",
       "      <td>290.384796</td>\n",
       "      <td>8.880503</td>\n",
       "      <td>57.976913</td>\n",
       "      <td>18.981878</td>\n",
       "      <td>11.334653</td>\n",
       "      <td>7.836201</td>\n",
       "      <td>7.124619</td>\n",
       "      <td>11.397239</td>\n",
       "      <td>1190.200806</td>\n",
       "      <td>3.354573</td>\n",
       "      <td>5.254882</td>\n",
       "      <td>38.140228</td>\n",
       "    </tr>\n",
       "  </tbody>\n",
       "</table>\n",
       "</div>"
      ],
      "text/plain": [
       "           p (mbar)   T (degC)    Tpot (K)  Tdew (degC)     rh (%)  \\\n",
       "323421  1000.757141  -0.371166  272.150696    -2.351492  85.136299   \n",
       "156443  1002.571045   1.467914  273.735168    -0.384841  90.612152   \n",
       "377230   992.045227   3.731211  276.840393    -0.927037  70.828163   \n",
       "364219   999.503906   2.034644  274.463409     0.644518  92.455925   \n",
       "72971    994.059692   8.507005  281.471252     6.392197  86.454399   \n",
       "325327   993.229004  12.815883  285.993530     9.199231  78.715050   \n",
       "235894   996.950684  10.026675  282.722473     7.707159  84.265244   \n",
       "13249    995.501282   5.416340  278.263184     1.497382  76.314827   \n",
       "150487   986.938293  12.772204  286.528442    10.023632  80.334839   \n",
       "142564   992.932617  16.991274  290.384796     8.880503  57.976913   \n",
       "\n",
       "        VPmax (mbar)  VPact (mbar)  VPdef (mbar)  sh (g/kg)  H2OC (mmol/mol)  \\\n",
       "323421      5.826116      5.070172      0.808951   3.139179         5.039440   \n",
       "156443      6.794502      5.930066      0.589126   3.666747         5.872581   \n",
       "377230      7.867400      5.699627      2.180698   3.562393         5.713637   \n",
       "364219      6.982144      6.362566      0.449297   3.940905         6.313928   \n",
       "72971      11.152791      9.708918      1.482211   6.070263         9.708211   \n",
       "325327     14.736712     11.678026      3.152707   7.328439        11.711457   \n",
       "235894     12.230993     10.599215      1.919055   6.612808        10.577492   \n",
       "13249       8.716458      6.727996      1.827529   4.197552         6.730323   \n",
       "150487     15.104410     12.503593      3.151487   7.879903        12.586817   \n",
       "142564     18.981878     11.334653      7.836201   7.124619        11.397239   \n",
       "\n",
       "        rho (g/m**3)  wv (m/s)  max. wv (m/s)    wd (deg)  \n",
       "323421   1282.785645  1.371698       2.326677   91.283600  \n",
       "156443   1277.688232  1.283464       2.314390  262.260315  \n",
       "377230   1251.678955  2.814818       4.972702  226.344940  \n",
       "364219   1271.349609  1.545899       2.526143   36.977310  \n",
       "72971    1231.516479  1.387499       2.343621  205.979752  \n",
       "325327   1209.323853  1.340602       2.306241  191.536392  \n",
       "235894   1228.278198  1.521406       2.766650  260.725677  \n",
       "13249    1248.759766  2.022458       3.285396   37.405357  \n",
       "150487   1201.577637  4.276856       6.913639  223.604095  \n",
       "142564   1190.200806  3.354573       5.254882   38.140228  "
      ]
     },
     "execution_count": 129,
     "metadata": {},
     "output_type": "execute_result"
    }
   ],
   "source": [
    "recon_data_orig.sample(n = 10)"
   ]
  },
  {
   "cell_type": "code",
   "execution_count": null,
   "id": "b93fcff0-075b-4c53-bc1f-1fab5cd14851",
   "metadata": {},
   "outputs": [],
   "source": []
  },
  {
   "cell_type": "code",
   "execution_count": 130,
   "id": "35210f3e-f6e0-4f42-8576-43c671623e80",
   "metadata": {},
   "outputs": [
    {
     "name": "stdout",
     "output_type": "stream",
     "text": [
      "p (mbar) has 200287 unique values\n",
      "T (degC) has 417241 unique values\n",
      "Tpot (K) has 337671 unique values\n",
      "Tdew (degC) has 416978 unique values\n",
      "rh (%) has 401873 unique values\n",
      "VPmax (mbar) has 410763 unique values\n",
      "VPact (mbar) has 413447 unique values\n",
      "VPdef (mbar) has 395368 unique values\n",
      "sh (g/kg) has 413619 unique values\n",
      "H2OC (mmol/mol) has 413454 unique values\n",
      "rho (g/m**3) has 350906 unique values\n",
      "wv (m/s) has 389320 unique values\n",
      "max. wv (m/s) has 403171 unique values\n",
      "wd (deg) has 411604 unique values\n"
     ]
    }
   ],
   "source": [
    "for col in recon_data_orig.columns:\n",
    "    print(f\"{col} has {recon_data_orig[col].nunique()} unique values\")"
   ]
  },
  {
   "cell_type": "code",
   "execution_count": null,
   "id": "7a37e688-5c4d-4054-9d01-b6e956c7e06d",
   "metadata": {},
   "outputs": [],
   "source": []
  },
  {
   "cell_type": "code",
   "execution_count": 139,
   "id": "af33aa51-3328-41ca-92fa-a96ea932d43a",
   "metadata": {},
   "outputs": [
    {
     "data": {
      "text/plain": [
       "(420615, 420551)"
      ]
     },
     "execution_count": 139,
     "metadata": {},
     "output_type": "execute_result"
    }
   ],
   "source": [
    "len(recon_data_orig), len(data)"
   ]
  },
  {
   "cell_type": "code",
   "execution_count": 140,
   "id": "92b3a0cf-a024-42e7-b852-023f7f48245d",
   "metadata": {},
   "outputs": [],
   "source": [
    "recon_data_orig = recon_data_orig.loc[64:, :]"
   ]
  },
  {
   "cell_type": "code",
   "execution_count": 141,
   "id": "501d392f-1518-4543-87f7-58c6573de000",
   "metadata": {},
   "outputs": [
    {
     "data": {
      "text/plain": [
       "((420551, 14), (420551, 15))"
      ]
     },
     "execution_count": 141,
     "metadata": {},
     "output_type": "execute_result"
    }
   ],
   "source": [
    "recon_data_orig.shape, data.shape"
   ]
  },
  {
   "cell_type": "code",
   "execution_count": null,
   "id": "78ef30e5-16e4-4b11-be3f-a1d88437a6f4",
   "metadata": {},
   "outputs": [],
   "source": []
  },
  {
   "cell_type": "code",
   "execution_count": 142,
   "id": "913623ce-0530-4e40-af4c-390f6de2fb57",
   "metadata": {},
   "outputs": [],
   "source": [
    "# Save reconstructed pd.DataFrame as CSV file-\n",
    "recon_data_orig.to_csv(\"jena_climate_2009_2016_reconstructed.csv\", index = False)"
   ]
  },
  {
   "cell_type": "code",
   "execution_count": null,
   "id": "2caba38d-65db-427e-aa0c-cc21919ae888",
   "metadata": {},
   "outputs": [],
   "source": []
  },
  {
   "cell_type": "code",
   "execution_count": null,
   "id": "7044db7c-da4f-4f0e-b8bd-57d23a147763",
   "metadata": {},
   "outputs": [],
   "source": []
  },
  {
   "cell_type": "code",
   "execution_count": 133,
   "id": "711fb80a-9f6c-48ca-973a-9fe0c3bb3908",
   "metadata": {},
   "outputs": [],
   "source": [
    "from sklearn.metrics import mean_squared_error"
   ]
  },
  {
   "cell_type": "code",
   "execution_count": 144,
   "id": "63dbbfdf-79d3-4648-82f5-ea7edbf0ad64",
   "metadata": {},
   "outputs": [
    {
     "name": "stdout",
     "output_type": "stream",
     "text": [
      "col: p (mbar) has MSE = 95.4236\n",
      "col: T (degC) has MSE = 2.7081\n",
      "col: Tpot (K) has MSE = 4.8144\n",
      "col: Tdew (degC) has MSE = 1.1830\n",
      "col: rh (%) has MSE = 15.5345\n",
      "col: VPmax (mbar) has MSE = 2.6029\n",
      "col: VPact (mbar) has MSE = 0.2024\n",
      "col: VPdef (mbar) has MSE = 1.6535\n",
      "col: sh (g/kg) has MSE = 0.0930\n",
      "col: H2OC (mmol/mol) has MSE = 0.2410\n",
      "col: rho (g/m**3) has MSE = 354.7920\n",
      "col: wv (m/s) has MSE = 0.5807\n",
      "col: max. wv (m/s) has MSE = 1.2791\n",
      "col: wd (deg) has MSE = 258.2982\n"
     ]
    }
   ],
   "source": [
    "for col in cols:\n",
    "    print(f\"col: {col} has MSE = \"\n",
    "          f\"{mean_squared_error(y_true = data[col], y_pred = recon_data_orig[col]):.4f}\"\n",
    "         )"
   ]
  },
  {
   "cell_type": "code",
   "execution_count": null,
   "id": "8227cf35-d3bd-4c57-b06e-81c47b7f1152",
   "metadata": {},
   "outputs": [],
   "source": []
  },
  {
   "cell_type": "code",
   "execution_count": null,
   "id": "8d13fa68-59f7-422e-a8f9-097364c607e9",
   "metadata": {},
   "outputs": [],
   "source": []
  }
 ],
 "metadata": {
  "kernelspec": {
   "display_name": "Python 3 (ipykernel)",
   "language": "python",
   "name": "python3"
  },
  "language_info": {
   "codemirror_mode": {
    "name": "ipython",
    "version": 3
   },
   "file_extension": ".py",
   "mimetype": "text/x-python",
   "name": "python",
   "nbconvert_exporter": "python",
   "pygments_lexer": "ipython3",
   "version": "3.9.7"
  }
 },
 "nbformat": 4,
 "nbformat_minor": 5
}
