{
 "cells": [
  {
   "cell_type": "markdown",
   "id": "3190daed-5dae-4412-871d-5be42c3a9ee1",
   "metadata": {},
   "source": [
    "# Variational AutoEncoders - MNIST with TensorFlow2\n",
    "\n",
    "[Reference](https://keras.io/examples/generative/vae/)"
   ]
  },
  {
   "cell_type": "code",
   "execution_count": 1,
   "id": "cc17985c-e265-4cdb-8248-2e887e16113c",
   "metadata": {},
   "outputs": [],
   "source": [
    "import tensorflow as tf\n",
    "import tensorflow\n",
    "from tensorflow import keras\n",
    "from tensorflow.keras import layers\n",
    "from tensorflow.keras.layers import Conv2D, Conv2DTranspose, Dense, Input, Flatten, Conv2DTranspose\n",
    "from tensorflow.keras.models import Sequential, Model\n",
    "from tensorflow.keras.datasets import mnist\n",
    "\n",
    "import numpy as np\n",
    "import matplotlib.pyplot as plt\n",
    "import plotly\n",
    "import plotly.express as px"
   ]
  },
  {
   "cell_type": "code",
   "execution_count": null,
   "id": "30adffec-e766-4ea4-b0a1-a9da8f503de8",
   "metadata": {},
   "outputs": [],
   "source": []
  },
  {
   "cell_type": "code",
   "execution_count": null,
   "id": "c45bb5c5-973d-405c-805a-e49ca7c9f0ec",
   "metadata": {},
   "outputs": [],
   "source": []
  },
  {
   "cell_type": "code",
   "execution_count": 2,
   "id": "17b81bd7-cb4f-4bf8-ab8f-a0ea21f84882",
   "metadata": {},
   "outputs": [
    {
     "name": "stdout",
     "output_type": "stream",
     "text": [
      "TensorFlow version: 2.6.0\n"
     ]
    }
   ],
   "source": [
    "print(f\"TensorFlow version: {tf.__version__}\")"
   ]
  },
  {
   "cell_type": "code",
   "execution_count": 3,
   "id": "83e14b87-f798-4445-a169-b2103a6f7b73",
   "metadata": {},
   "outputs": [
    {
     "name": "stdout",
     "output_type": "stream",
     "text": [
      "number of GPUs available = 1\n"
     ]
    }
   ],
   "source": [
    "# Get number of available GPUs-\n",
    "num_gpus = len(tf.config.list_physical_devices('GPU'))\n",
    "print(f\"number of GPUs available = {num_gpus}\")"
   ]
  },
  {
   "cell_type": "code",
   "execution_count": 4,
   "id": "a11d96d1-188a-4ebf-a294-181439a3535e",
   "metadata": {},
   "outputs": [
    {
     "name": "stdout",
     "output_type": "stream",
     "text": [
      "GPU: [PhysicalDevice(name='/physical_device:GPU:0', device_type='GPU')]\n",
      "GPU details: NVIDIA GeForce RTX 3080 Laptop GPU\n"
     ]
    }
   ],
   "source": [
    "# Check GPU availibility-\n",
    "gpu_devices = tf.config.list_physical_devices('GPU')\n",
    "# print(f\"GPU: {gpu_devices}\")\n",
    "\n",
    "if gpu_devices:\n",
    "    print(f\"GPU: {gpu_devices}\")\n",
    "    details = tf.config.experimental.get_device_details(gpu_devices[0])\n",
    "    print(f\"GPU details: {details.get('device_name', 'Unknown GPU')}\")\n",
    "else:\n",
    "    print(\"No GPU found\")"
   ]
  },
  {
   "cell_type": "code",
   "execution_count": null,
   "id": "7b883855-6e64-45df-82ae-ee0d83a5f361",
   "metadata": {},
   "outputs": [],
   "source": []
  },
  {
   "cell_type": "code",
   "execution_count": null,
   "id": "cf60ede8-e2e7-4b78-a7be-b848b7efc766",
   "metadata": {},
   "outputs": [],
   "source": []
  },
  {
   "cell_type": "markdown",
   "id": "c1cc8e1a-ae0f-4efe-b17c-aac2224888de",
   "metadata": {},
   "source": [
    "### Data preprocessing and cleaning:"
   ]
  },
  {
   "cell_type": "code",
   "execution_count": 5,
   "id": "192d9fd3-9efe-4ceb-bcba-43a5ca3bd709",
   "metadata": {},
   "outputs": [],
   "source": [
    "# input image dimensions\n",
    "img_rows, img_cols = 28, 28\n",
    "\n",
    "# Load MNIST dataset-\n",
    "(X_train, y_train), (X_test, y_test) = mnist.load_data()"
   ]
  },
  {
   "cell_type": "code",
   "execution_count": 6,
   "id": "481d371a-4ffe-4174-8987-a9e07fccc6c5",
   "metadata": {},
   "outputs": [],
   "source": [
    "if tf.keras.backend.image_data_format() == 'channels_first':\n",
    "    X_train = X_train.reshape(X_train.shape[0], 1, img_rows, img_cols)\n",
    "    X_test = X_test.reshape(X_test.shape[0], 1, img_rows, img_cols)\n",
    "    input_shape = (1, img_rows, img_cols)\n",
    "else:\n",
    "    X_train = X_train.reshape(X_train.shape[0], img_rows, img_cols, 1)\n",
    "    X_test = X_test.reshape(X_test.shape[0], img_rows, img_cols, 1)\n",
    "    input_shape = (img_rows, img_cols, 1)"
   ]
  },
  {
   "cell_type": "code",
   "execution_count": 7,
   "id": "ab8becae-dcc1-430f-aec6-7e30b920f121",
   "metadata": {},
   "outputs": [
    {
     "name": "stdout",
     "output_type": "stream",
     "text": [
      "\n",
      "input_shape to be used: (28, 28, 1)\n"
     ]
    }
   ],
   "source": [
    "print(f\"\\ninput_shape to be used: {input_shape}\")"
   ]
  },
  {
   "cell_type": "code",
   "execution_count": null,
   "id": "db9d4b78-6b2e-440a-aa18-7da435d69318",
   "metadata": {},
   "outputs": [],
   "source": []
  },
  {
   "cell_type": "code",
   "execution_count": 8,
   "id": "9ac6c081-4bfa-49d8-a776-6ae652f9e02d",
   "metadata": {},
   "outputs": [],
   "source": [
    "# Specify hyper-parameters-\n",
    "batch_size = 64\n",
    "num_classes = 10\n",
    "num_epochs = 100"
   ]
  },
  {
   "cell_type": "code",
   "execution_count": null,
   "id": "a4837317-8d0c-48e4-b7e6-b071ea0e05ab",
   "metadata": {},
   "outputs": [],
   "source": []
  },
  {
   "cell_type": "code",
   "execution_count": 9,
   "id": "decdbc48-568c-4c24-915a-55b601911ee5",
   "metadata": {},
   "outputs": [],
   "source": [
    "# Convert datasets to floating point types-\n",
    "X_train = X_train.astype('float32')\n",
    "X_test = X_test.astype('float32')"
   ]
  },
  {
   "cell_type": "code",
   "execution_count": 10,
   "id": "9d4aef5c-f893-4d1f-82e9-3c7e54de182b",
   "metadata": {},
   "outputs": [],
   "source": [
    "# By default the image data consists of integers between 0 and 255 for each pixel channel. Neural networks\n",
    "# work best when each input is inside the range –1 to 1, so we need to divide by 255.\n",
    "\n",
    "# Normalize the training and testing datasets-\n",
    "X_train /= 255.0\n",
    "X_test /= 255.0"
   ]
  },
  {
   "cell_type": "code",
   "execution_count": 11,
   "id": "8b735fe3-33ca-4c86-af5b-84bd6beef277",
   "metadata": {},
   "outputs": [],
   "source": [
    "# Convert class vectors/target to binary class matrices or one-hot encoded values-\n",
    "# y_train = tf.keras.utils.to_categorical(y_train, num_classes)\n",
    "# y_test = tf.keras.utils.to_categorical(y_test, num_classes)"
   ]
  },
  {
   "cell_type": "code",
   "execution_count": 11,
   "id": "098a7c46-ab4a-4974-be80-ff82917ecfd4",
   "metadata": {},
   "outputs": [
    {
     "name": "stdout",
     "output_type": "stream",
     "text": [
      "\n",
      "Dimensions of training and testing sets are:\n",
      "X_train.shape: (60000, 28, 28, 1), y_train.shape: (60000,)\n",
      "X_test.shape: (10000, 28, 28, 1), y_test.shape: (10000,)\n"
     ]
    }
   ],
   "source": [
    "print(\"\\nDimensions of training and testing sets are:\")\n",
    "print(f\"X_train.shape: {X_train.shape}, y_train.shape: {y_train.shape}\")\n",
    "print(f\"X_test.shape: {X_test.shape}, y_test.shape: {y_test.shape}\")"
   ]
  },
  {
   "cell_type": "code",
   "execution_count": null,
   "id": "60a79dd6-b6a8-4130-a154-2fbb4434273f",
   "metadata": {},
   "outputs": [],
   "source": []
  },
  {
   "cell_type": "code",
   "execution_count": null,
   "id": "b6c2c0cd-c20f-444f-951d-def58ce53ecd",
   "metadata": {},
   "outputs": [],
   "source": []
  },
  {
   "cell_type": "code",
   "execution_count": 12,
   "id": "3e21557c-4b59-4ff1-8657-7c9015935f6c",
   "metadata": {},
   "outputs": [],
   "source": [
    "class Sampling(layers.Layer):\n",
    "    \"\"\"\n",
    "    Create a sampling layer.\n",
    "    Uses (z_mean, z_log_var) to sample z - the vector encoding a digit.\n",
    "    \"\"\"\n",
    "\n",
    "    def call(self, inputs):\n",
    "        z_mean, z_log_var = inputs\n",
    "        batch = tf.shape(z_mean)[0]\n",
    "        dim = tf.shape(z_mean)[1]\n",
    "        epsilon = tf.keras.backend.random_normal(shape = (batch, dim))\n",
    "        return z_mean + tf.exp(0.5 * z_log_var) * epsilon\n"
   ]
  },
  {
   "cell_type": "code",
   "execution_count": null,
   "id": "f5d28cc2-1b12-4093-8dfe-bd6edbd4ef02",
   "metadata": {},
   "outputs": [],
   "source": []
  },
  {
   "cell_type": "code",
   "execution_count": 13,
   "id": "3ae2d0d8-49f8-4903-9151-eb395aabda50",
   "metadata": {},
   "outputs": [],
   "source": [
    "# Specify latent space-\n",
    "latent_dim = 3"
   ]
  },
  {
   "cell_type": "code",
   "execution_count": null,
   "id": "ef075221-8a45-4f23-9dc0-4abe4957bd25",
   "metadata": {},
   "outputs": [],
   "source": []
  },
  {
   "cell_type": "markdown",
   "id": "3d1da570-cf98-41f7-b2f8-a609f3525f40",
   "metadata": {},
   "source": [
    "### Create _encoder_"
   ]
  },
  {
   "cell_type": "code",
   "execution_count": 14,
   "id": "9ad308d7-15c9-4441-9543-0f76057074ad",
   "metadata": {},
   "outputs": [],
   "source": [
    "encoder_inputs = Input(shape = (28, 28, 1))\n",
    "\n",
    "x = Conv2D(\n",
    "    filters = 32, kernel_size = (3, 3),\n",
    "    activation = \"relu\" , strides = 2,\n",
    "    padding=\"same\")(encoder_inputs)\n",
    "\n",
    "x = Conv2D(\n",
    "    filters = 64, kernel_size = (3, 3),\n",
    "    activation = \"relu\", strides = 2,\n",
    "    padding = \"same\")(x)\n",
    "\n",
    "x = Flatten()(x)\n",
    "\n",
    "x = Dense(units = 16, activation = \"relu\")(x)\n",
    "\n",
    "z_mean = Dense(units = latent_dim, name = \"z_mean\")(x)\n",
    "z_log_var = layers.Dense(units = latent_dim, name = \"z_log_var\")(x)\n",
    "\n",
    "z = Sampling()([z_mean, z_log_var])"
   ]
  },
  {
   "cell_type": "code",
   "execution_count": 15,
   "id": "84452f60-ae07-48ea-9853-d2268538b2bb",
   "metadata": {},
   "outputs": [],
   "source": [
    "encoder = Model(inputs = encoder_inputs, outputs = [z_mean, z_log_var, z], name = \"encoder\")"
   ]
  },
  {
   "cell_type": "code",
   "execution_count": 16,
   "id": "5a61bae0-4732-464d-bf76-0a88815605e0",
   "metadata": {},
   "outputs": [
    {
     "name": "stdout",
     "output_type": "stream",
     "text": [
      "Model: \"encoder\"\n",
      "__________________________________________________________________________________________________\n",
      "Layer (type)                    Output Shape         Param #     Connected to                     \n",
      "==================================================================================================\n",
      "input_1 (InputLayer)            [(None, 28, 28, 1)]  0                                            \n",
      "__________________________________________________________________________________________________\n",
      "conv2d (Conv2D)                 (None, 14, 14, 32)   320         input_1[0][0]                    \n",
      "__________________________________________________________________________________________________\n",
      "conv2d_1 (Conv2D)               (None, 7, 7, 64)     18496       conv2d[0][0]                     \n",
      "__________________________________________________________________________________________________\n",
      "flatten (Flatten)               (None, 3136)         0           conv2d_1[0][0]                   \n",
      "__________________________________________________________________________________________________\n",
      "dense (Dense)                   (None, 16)           50192       flatten[0][0]                    \n",
      "__________________________________________________________________________________________________\n",
      "z_mean (Dense)                  (None, 3)            51          dense[0][0]                      \n",
      "__________________________________________________________________________________________________\n",
      "z_log_var (Dense)               (None, 3)            51          dense[0][0]                      \n",
      "__________________________________________________________________________________________________\n",
      "sampling (Sampling)             (None, 3)            0           z_mean[0][0]                     \n",
      "                                                                 z_log_var[0][0]                  \n",
      "==================================================================================================\n",
      "Total params: 69,110\n",
      "Trainable params: 69,110\n",
      "Non-trainable params: 0\n",
      "__________________________________________________________________________________________________\n"
     ]
    }
   ],
   "source": [
    "encoder.summary()"
   ]
  },
  {
   "cell_type": "code",
   "execution_count": null,
   "id": "aade4df3-bcc1-4e66-9a4d-136f4dc2b276",
   "metadata": {},
   "outputs": [],
   "source": []
  },
  {
   "cell_type": "code",
   "execution_count": 17,
   "id": "6bb38392-03b4-4c7a-8adf-eee905a2203a",
   "metadata": {},
   "outputs": [],
   "source": [
    "# Sanity check-\n",
    "l = encoder(X_train[:5, :])"
   ]
  },
  {
   "cell_type": "code",
   "execution_count": 18,
   "id": "afb9d5c7-423a-4f1f-802d-131a1d417bc4",
   "metadata": {},
   "outputs": [
    {
     "data": {
      "text/plain": [
       "(list, 3)"
      ]
     },
     "execution_count": 18,
     "metadata": {},
     "output_type": "execute_result"
    }
   ],
   "source": [
    "type(l), len(l)"
   ]
  },
  {
   "cell_type": "code",
   "execution_count": 19,
   "id": "2a980fe9-7ffa-4314-8b41-ca9b225f0a03",
   "metadata": {},
   "outputs": [
    {
     "name": "stdout",
     "output_type": "stream",
     "text": [
      "shape: (5, 3)\n",
      "shape: (5, 3)\n",
      "shape: (5, 3)\n"
     ]
    }
   ],
   "source": [
    "for x in l:\n",
    "    print(f\"shape: {x.shape}\")"
   ]
  },
  {
   "cell_type": "code",
   "execution_count": 20,
   "id": "2a9fbef5-4d47-4aa3-9a16-fe6df4863a86",
   "metadata": {},
   "outputs": [
    {
     "data": {
      "text/plain": [
       "array([[-0.01216803, -0.01785355, -0.09443256],\n",
       "       [-0.07006311, -0.00863914, -0.0540884 ],\n",
       "       [-0.04860036,  0.00742457, -0.02787741],\n",
       "       [-0.00783078, -0.00117484, -0.06881581],\n",
       "       [-0.05342957,  0.01560506, -0.06613626]], dtype=float32)"
      ]
     },
     "execution_count": 20,
     "metadata": {},
     "output_type": "execute_result"
    }
   ],
   "source": [
    "l[0].numpy()"
   ]
  },
  {
   "cell_type": "code",
   "execution_count": null,
   "id": "9c8ecef0-e7ef-4030-bc32-1375d76a1f28",
   "metadata": {},
   "outputs": [],
   "source": []
  },
  {
   "cell_type": "code",
   "execution_count": null,
   "id": "877d88d5-4f89-450b-a588-3309bd6e6129",
   "metadata": {},
   "outputs": [],
   "source": []
  },
  {
   "cell_type": "markdown",
   "id": "2773b3b6-916c-4ee2-b4e1-2412b41d0192",
   "metadata": {},
   "source": [
    "### Create _decoder_"
   ]
  },
  {
   "cell_type": "code",
   "execution_count": 21,
   "id": "7dfde83f-bd67-4eff-9454-8a802887fc11",
   "metadata": {},
   "outputs": [],
   "source": [
    "latent_inputs = Input(shape = (latent_dim,))\n",
    "\n",
    "x = layers.Dense(units = 7 * 7 * 64, activation = \"relu\")(latent_inputs)\n",
    "\n",
    "x = layers.Reshape((7, 7, 64))(x)\n",
    "\n",
    "x = Conv2DTranspose(\n",
    "    filters = 64, kernel_size = (3, 3),\n",
    "    activation = \"relu\", strides = 2,\n",
    "    padding = \"same\")(x)\n",
    "\n",
    "x = Conv2DTranspose(\n",
    "    filters = 32, kernel_size = (3, 3),\n",
    "    activation = \"relu\", strides = 2,\n",
    "    padding = \"same\")(x)\n",
    "\n",
    "decoder_outputs = Conv2DTranspose(\n",
    "    filters = 1, kernel_size = (3, 3),\n",
    "    activation = \"sigmoid\", padding = \"same\")(x)"
   ]
  },
  {
   "cell_type": "code",
   "execution_count": 22,
   "id": "f8d7d558-3005-4401-a2f0-1c5e74a96ae7",
   "metadata": {},
   "outputs": [],
   "source": [
    "decoder = Model(inputs = latent_inputs, outputs = decoder_outputs, name = \"decoder\")"
   ]
  },
  {
   "cell_type": "code",
   "execution_count": 23,
   "id": "a823cf31-700b-4a42-91a1-b34105cba7c1",
   "metadata": {},
   "outputs": [
    {
     "name": "stdout",
     "output_type": "stream",
     "text": [
      "Model: \"decoder\"\n",
      "_________________________________________________________________\n",
      "Layer (type)                 Output Shape              Param #   \n",
      "=================================================================\n",
      "input_2 (InputLayer)         [(None, 3)]               0         \n",
      "_________________________________________________________________\n",
      "dense_1 (Dense)              (None, 3136)              12544     \n",
      "_________________________________________________________________\n",
      "reshape (Reshape)            (None, 7, 7, 64)          0         \n",
      "_________________________________________________________________\n",
      "conv2d_transpose (Conv2DTran (None, 14, 14, 64)        36928     \n",
      "_________________________________________________________________\n",
      "conv2d_transpose_1 (Conv2DTr (None, 28, 28, 32)        18464     \n",
      "_________________________________________________________________\n",
      "conv2d_transpose_2 (Conv2DTr (None, 28, 28, 1)         289       \n",
      "=================================================================\n",
      "Total params: 68,225\n",
      "Trainable params: 68,225\n",
      "Non-trainable params: 0\n",
      "_________________________________________________________________\n"
     ]
    }
   ],
   "source": [
    "decoder.summary()"
   ]
  },
  {
   "cell_type": "code",
   "execution_count": null,
   "id": "dc1a96fa-93e3-4d48-9dab-7ff84e2c8479",
   "metadata": {},
   "outputs": [],
   "source": []
  },
  {
   "cell_type": "code",
   "execution_count": 24,
   "id": "2b63faf1-7fa9-4f92-8e26-c9dcba88eee3",
   "metadata": {},
   "outputs": [],
   "source": [
    "# Sanity check-\n",
    "x_hat = decoder(l[0])"
   ]
  },
  {
   "cell_type": "code",
   "execution_count": 25,
   "id": "18169d3b-dad2-491f-949f-6d7f206a1319",
   "metadata": {},
   "outputs": [
    {
     "data": {
      "text/plain": [
       "TensorShape([5, 28, 28, 1])"
      ]
     },
     "execution_count": 25,
     "metadata": {},
     "output_type": "execute_result"
    }
   ],
   "source": [
    "x_hat.shape"
   ]
  },
  {
   "cell_type": "code",
   "execution_count": 26,
   "id": "7cacfecd-e846-4abc-a37b-c34e3445a74a",
   "metadata": {},
   "outputs": [],
   "source": [
    "del l, x_hat"
   ]
  },
  {
   "cell_type": "code",
   "execution_count": null,
   "id": "e142ba69-c2c8-4264-b36c-27bdeafa1b82",
   "metadata": {},
   "outputs": [],
   "source": []
  },
  {
   "cell_type": "code",
   "execution_count": 29,
   "id": "121c6323-95eb-4a43-9e30-b536597c3531",
   "metadata": {},
   "outputs": [],
   "source": [
    "import tensorflow\n",
    "from tensorflow import keras"
   ]
  },
  {
   "cell_type": "code",
   "execution_count": null,
   "id": "ac0b0e1e-655c-4e09-9240-1ade782168c1",
   "metadata": {},
   "outputs": [],
   "source": []
  },
  {
   "cell_type": "code",
   "execution_count": 30,
   "id": "25b9a58d-7285-4a0c-8040-fbe4486e7912",
   "metadata": {},
   "outputs": [],
   "source": [
    "class VAE(keras.Model):\n",
    "    \"\"\"\n",
    "    VAE as a 'Model' with a custom 'train_step()' method.\n",
    "    \"\"\"\n",
    "    def __init__(self, encoder, decoder, **kwargs):\n",
    "        super(VAE, self).__init__(**kwargs)\n",
    "        self.encoder = encoder\n",
    "        self.decoder = decoder\n",
    "        self.total_loss_tracker = keras.metrics.Mean(name = \"total_loss\")\n",
    "        self.reconstruction_loss_tracker = keras.metrics.Mean(\n",
    "            name = \"reconstruction_loss\"\n",
    "        )\n",
    "        self.kl_loss_tracker = keras.metrics.Mean(name = \"kl_loss\")\n",
    "\n",
    "    @property\n",
    "    def metrics(self):\n",
    "        return [\n",
    "            self.total_loss_tracker,\n",
    "            self.reconstruction_loss_tracker,\n",
    "            self.kl_loss_tracker,\n",
    "        ]\n",
    " \n",
    "    def train_step(self, data):\n",
    "        with tf.GradientTape() as tape:\n",
    "            z_mean, z_log_var, z = self.encoder(data)\n",
    "            reconstruction = self.decoder(z)\n",
    "            reconstruction_loss = tf.reduce_mean(\n",
    "                tf.reduce_sum(\n",
    "                    keras.losses.binary_crossentropy(data, reconstruction), axis=(1, 2)\n",
    "                )\n",
    "            )\n",
    "            kl_loss = -0.5 * (1 + z_log_var - tf.square(z_mean) - tf.exp(z_log_var))\n",
    "            kl_loss = tf.reduce_mean(tf.reduce_sum(kl_loss, axis = 1))\n",
    "            total_loss = reconstruction_loss + kl_loss\n",
    "            \n",
    "        grads = tape.gradient(total_loss, self.trainable_weights)\n",
    "        self.optimizer.apply_gradients(zip(grads, self.trainable_weights))\n",
    "        self.total_loss_tracker.update_state(total_loss)\n",
    "        self.reconstruction_loss_tracker.update_state(reconstruction_loss)\n",
    "        self.kl_loss_tracker.update_state(kl_loss)\n",
    "        \n",
    "        return {\n",
    "            \"loss\": self.total_loss_tracker.result(),\n",
    "            \"reconstruction_loss\": self.reconstruction_loss_tracker.result(),\n",
    "            \"kl_loss\": self.kl_loss_tracker.result(),\n",
    "        }\n",
    "    \n",
    "    def call(self, data):\n",
    "        loss_obj = self.train_step(data)\n",
    "        return loss_obj\n"
   ]
  },
  {
   "cell_type": "code",
   "execution_count": null,
   "id": "c21fd241-b171-4e8c-9114-291f5ac5de9e",
   "metadata": {},
   "outputs": [],
   "source": []
  },
  {
   "cell_type": "code",
   "execution_count": 31,
   "id": "d69cb2b9-24ba-457f-8dd5-27f51540ea06",
   "metadata": {},
   "outputs": [],
   "source": [
    "# Initialize VAE model-\n",
    "vae_model = VAE(encoder, decoder)"
   ]
  },
  {
   "cell_type": "code",
   "execution_count": 32,
   "id": "3b0e833b-11fd-4810-a4c0-775cf0bf42bb",
   "metadata": {},
   "outputs": [],
   "source": [
    "# Compile instantiated model-\n",
    "vae_model.compile(\n",
    "    optimizer = tf.keras.optimizers.Adam(learning_rate = 0.001)\n",
    ")"
   ]
  },
  {
   "cell_type": "code",
   "execution_count": null,
   "id": "b80c2c34-c892-4853-bf04-6cdacc776326",
   "metadata": {},
   "outputs": [],
   "source": []
  },
  {
   "cell_type": "code",
   "execution_count": 33,
   "id": "e7e71ee5-f08f-4c22-a02d-5da2da1d8ac3",
   "metadata": {},
   "outputs": [],
   "source": [
    "# Sanity check-\n",
    "loss_dict = vae_model(X_train[:5, :])"
   ]
  },
  {
   "cell_type": "code",
   "execution_count": 34,
   "id": "b8d0b768-a91b-4315-aa95-76e54897fa04",
   "metadata": {},
   "outputs": [
    {
     "name": "stdout",
     "output_type": "stream",
     "text": [
      "loss = 543.2289, reconstruction loss = 543.2248 & KL-loss = 0.0041\n"
     ]
    }
   ],
   "source": [
    "print(f\"loss = {loss_dict['loss'].numpy():.4f},\"\n",
    "      f\" reconstruction loss = {loss_dict['reconstruction_loss'].numpy():.4f}\"\n",
    "      f\" & KL-loss = {loss_dict['kl_loss'].numpy():.4f}\"\n",
    "     )"
   ]
  },
  {
   "cell_type": "code",
   "execution_count": null,
   "id": "66a9e76c-efe6-4486-aab2-b8b9bab5f399",
   "metadata": {},
   "outputs": [],
   "source": []
  },
  {
   "cell_type": "code",
   "execution_count": 36,
   "id": "5e7428d0-939d-4b4e-b2e1-7b72dffab436",
   "metadata": {},
   "outputs": [
    {
     "name": "stdout",
     "output_type": "stream",
     "text": [
      "Model: \"vae\"\n",
      "_________________________________________________________________\n",
      "Layer (type)                 Output Shape              Param #   \n",
      "=================================================================\n",
      "encoder (Functional)         [(None, 3), (None, 3), (N 69110     \n",
      "_________________________________________________________________\n",
      "decoder (Functional)         (None, 28, 28, 1)         68225     \n",
      "=================================================================\n",
      "Total params: 137,341\n",
      "Trainable params: 137,335\n",
      "Non-trainable params: 6\n",
      "_________________________________________________________________\n"
     ]
    }
   ],
   "source": [
    "vae_model.summary()"
   ]
  },
  {
   "cell_type": "code",
   "execution_count": null,
   "id": "7a3c08d6-5536-4ce1-bddf-1763253450a4",
   "metadata": {},
   "outputs": [],
   "source": []
  },
  {
   "cell_type": "code",
   "execution_count": 37,
   "id": "1ff6bee0-ba90-406e-820e-773e8c0ad4ec",
   "metadata": {},
   "outputs": [
    {
     "name": "stdout",
     "output_type": "stream",
     "text": [
      "layer.shape: (3, 3, 1, 32) has 288 parameters\n",
      "layer.shape: (32,) has 32 parameters\n",
      "layer.shape: (3, 3, 32, 64) has 18432 parameters\n",
      "layer.shape: (64,) has 64 parameters\n",
      "layer.shape: (3136, 16) has 50176 parameters\n",
      "layer.shape: (16,) has 14 parameters\n",
      "layer.shape: (16, 3) has 48 parameters\n",
      "layer.shape: (3,) has 3 parameters\n",
      "layer.shape: (16, 3) has 48 parameters\n",
      "layer.shape: (3,) has 3 parameters\n",
      "layer.shape: (3, 3136) has 9408 parameters\n",
      "layer.shape: (3136,) has 3136 parameters\n",
      "layer.shape: (3, 3, 64, 64) has 36864 parameters\n",
      "layer.shape: (64,) has 64 parameters\n",
      "layer.shape: (3, 3, 32, 64) has 18432 parameters\n",
      "layer.shape: (32,) has 32 parameters\n",
      "layer.shape: (3, 3, 1, 32) has 288 parameters\n",
      "layer.shape: (1,) has 1 parameters\n"
     ]
    }
   ],
   "source": [
    "# Count number of trainable parameters-\n",
    "tot_params = 0\n",
    "\n",
    "for layer in vae_model.trainable_weights:\n",
    "    loc_param = tf.math.count_nonzero(layer, axis = None).numpy()\n",
    "    tot_params += loc_param\n",
    "    print(f\"layer.shape: {layer.shape} has {loc_param} parameters\")"
   ]
  },
  {
   "cell_type": "code",
   "execution_count": 38,
   "id": "c5a484e5-4829-4698-b496-95ae153cafcb",
   "metadata": {},
   "outputs": [
    {
     "name": "stdout",
     "output_type": "stream",
     "text": [
      "VAE model has 137333 trainable parameters\n"
     ]
    }
   ],
   "source": [
    "print(f\"VAE model has {tot_params} trainable parameters\")"
   ]
  },
  {
   "cell_type": "code",
   "execution_count": null,
   "id": "8bedcf74-ebe7-4049-9bf7-f992ef14bb23",
   "metadata": {},
   "outputs": [],
   "source": []
  },
  {
   "cell_type": "code",
   "execution_count": null,
   "id": "c8e2ad6c-5b05-4d9e-ae51-3aea780aa4d5",
   "metadata": {},
   "outputs": [],
   "source": []
  },
  {
   "cell_type": "code",
   "execution_count": 98,
   "id": "461f8890-06ba-4092-a863-e4ea4971066d",
   "metadata": {},
   "outputs": [],
   "source": [
    "'''\n",
    "# Define early stopping criterion-\n",
    "early_stopping = tf.keras.callbacks.EarlyStopping(\n",
    "    monitor = 'val_loss', min_delta = 0.0001,\n",
    "    patience = 4,\n",
    "    restore_best_weights = True\n",
    ")\n",
    "# Adjust 'min_delta' according to training loss for early stopping\n",
    "# to effectively happen.\n",
    "'''"
   ]
  },
  {
   "cell_type": "code",
   "execution_count": null,
   "id": "56bba663-7ca1-4d40-948f-ca2d98d2868f",
   "metadata": {},
   "outputs": [],
   "source": []
  },
  {
   "cell_type": "code",
   "execution_count": 39,
   "id": "1a790683-b549-4a15-87c3-c16721d35264",
   "metadata": {},
   "outputs": [
    {
     "name": "stdout",
     "output_type": "stream",
     "text": [
      "number of training epochs = 30\n"
     ]
    }
   ],
   "source": [
    "num_epochs = 30\n",
    "print(f\"number of training epochs = {num_epochs}\")"
   ]
  },
  {
   "cell_type": "code",
   "execution_count": null,
   "id": "1ed3844e-c800-4f6f-a078-a2b83e91e3ff",
   "metadata": {},
   "outputs": [],
   "source": []
  },
  {
   "cell_type": "code",
   "execution_count": null,
   "id": "7be33652-3a7f-42a3-a3cb-71d94e381924",
   "metadata": {},
   "outputs": [],
   "source": [
    "'''\n",
    "# Train Variational Autoencoder-\n",
    "training_hist = vae_model.fit(\n",
    "    x = X_train, y = X_train,\n",
    "    batch_size = batch_size, shuffle = True,\n",
    "    validation_data = (X_test, X_test),\n",
    "    epochs = num_epochs, callbacks = [early_stopping]\n",
    "    )\n",
    "'''"
   ]
  },
  {
   "cell_type": "code",
   "execution_count": null,
   "id": "489b3191-5815-4ead-976d-1cc276ef17ce",
   "metadata": {},
   "outputs": [],
   "source": [
    "# Train Variational Autoencoder-\n",
    "training_hist = vae_model.fit(\n",
    "    X_train,\n",
    "    epochs = num_epochs, batch_size = batch_size,\n",
    "    shuffle = True\n",
    ")"
   ]
  },
  {
   "cell_type": "code",
   "execution_count": null,
   "id": "1b5577a3-eae1-4302-9c47-e4b1283616c7",
   "metadata": {},
   "outputs": [],
   "source": []
  },
  {
   "cell_type": "code",
   "execution_count": null,
   "id": "c6c7c74b-08fb-416f-9846-58d7d4250a1f",
   "metadata": {},
   "outputs": [],
   "source": []
  },
  {
   "cell_type": "code",
   "execution_count": 47,
   "id": "0cd6601c-a158-4aab-8c5e-ca803e70dcae",
   "metadata": {},
   "outputs": [
    {
     "data": {
      "image/png": "[encoded data removed]",
      "text/plain": [
       "<Figure size 648x504 with 1 Axes>"
      ]
     },
     "metadata": {
      "needs_background": "light"
     },
     "output_type": "display_data"
    }
   ],
   "source": [
    "# Visualize training wrt loss-\n",
    "plt.figure(figsize = (9, 7))\n",
    "plt.plot(training_hist.history['loss'], label = 'Total loss')\n",
    "plt.plot(training_hist.history['reconstruction_loss'], label = 'Reconstruction loss')\n",
    "# plt.plot(training_hist.history['kl_loss'], label = 'KL loss')\n",
    "plt.xlabel(\"epochs\")\n",
    "plt.ylabel(\"loss\")\n",
    "plt.legend(loc = 'best')\n",
    "plt.title(\"Variational Autoencoder: MNIST Training Visualization\")\n",
    "plt.show()"
   ]
  },
  {
   "cell_type": "code",
   "execution_count": 48,
   "id": "ef4e22cd-bb59-4eb9-aabc-a9f087ae91ec",
   "metadata": {},
   "outputs": [
    {
     "data": {
      "image/png": "[encoded data removed]",
      "text/plain": [
       "<Figure size 648x504 with 1 Axes>"
      ]
     },
     "metadata": {
      "needs_background": "light"
     },
     "output_type": "display_data"
    }
   ],
   "source": [
    "plt.figure(figsize = (9, 7))\n",
    "plt.plot(training_hist.history['kl_loss'], label = 'KL loss')\n",
    "plt.xlabel(\"epochs\")\n",
    "plt.ylabel(\"loss\")\n",
    "plt.legend(loc = 'best')\n",
    "plt.title(\"Variational Autoencoder: MNIST Training Visualization\")\n",
    "plt.show()"
   ]
  },
  {
   "cell_type": "code",
   "execution_count": null,
   "id": "ebb6eea5-c14e-4be2-88ad-6ca167109f22",
   "metadata": {},
   "outputs": [],
   "source": []
  },
  {
   "cell_type": "code",
   "execution_count": null,
   "id": "ee04d75f-f137-481f-9f7c-b6a11803669c",
   "metadata": {},
   "outputs": [],
   "source": []
  },
  {
   "cell_type": "code",
   "execution_count": 49,
   "id": "da96ae2b-92ca-4443-a2c3-6efe261d9637",
   "metadata": {},
   "outputs": [],
   "source": [
    "# Save trained VAE weights-\n",
    "vae_model.save_weights(\"Trained_VAE_MNIST_model.h5\", overwrite = True)"
   ]
  },
  {
   "cell_type": "code",
   "execution_count": 35,
   "id": "9a056809-7f85-458e-8b5f-381c51119909",
   "metadata": {},
   "outputs": [],
   "source": [
    "# Load pre-trained VAE weights-\n",
    "# vae_model.load_weights(\"Trained_VAE_MNIST_model.h5\")"
   ]
  },
  {
   "cell_type": "code",
   "execution_count": null,
   "id": "22f2acb0-e039-4cb7-984c-c4da6f9b54e9",
   "metadata": {},
   "outputs": [],
   "source": []
  },
  {
   "cell_type": "code",
   "execution_count": null,
   "id": "d40718db-5d89-423b-9207-6c3fcc51a6e2",
   "metadata": {},
   "outputs": [],
   "source": []
  },
  {
   "cell_type": "markdown",
   "id": "a7471fbb-2c7f-4898-a046-de571176557f",
   "metadata": {},
   "source": [
    "### Visualize a grid of _sampled_ digits:"
   ]
  },
  {
   "cell_type": "code",
   "execution_count": 67,
   "id": "be60ac96-ebc6-4b87-bde5-5533c74b5e00",
   "metadata": {},
   "outputs": [],
   "source": [
    "def plot_latent_space(vae, n = 30, figsize = 15):\n",
    "    # Display a n*n 2D manifold of digits\n",
    "    digit_size = 28\n",
    "    scale = 1.0\n",
    "    figure = np.zeros((digit_size * n, digit_size * n))\n",
    "    \n",
    "    # linearly spaced coordinates corresponding to the 2D plot\n",
    "    # of digit classes in the latent space-\n",
    "    grid_x = np.linspace(-scale, scale, n)\n",
    "    grid_y = np.linspace(-scale, scale, n)[::-1]\n",
    "    grid_z = np.linspace(-scale, scale, n)[::-1]\n",
    "\n",
    "    for i, yi in enumerate(grid_y):\n",
    "        for j, xi in enumerate(grid_x):\n",
    "            for k, zi in enumerate(grid_z):\n",
    "                z_sample = np.array([[xi, yi, zi]])\n",
    "                x_decoded = vae.decoder.predict(z_sample)\n",
    "                digit = x_decoded[0].reshape(digit_size, digit_size)\n",
    "                figure[\n",
    "                    i * digit_size : (i + 1) * digit_size,\n",
    "                    j * digit_size : (j + 1) * digit_size,\n",
    "                ] = digit\n",
    "\n",
    "    plt.figure(figsize = (figsize, figsize))\n",
    "    start_range = digit_size // 2\n",
    "    end_range = n * digit_size + start_range\n",
    "    pixel_range = np.arange(start_range, end_range, digit_size)\n",
    "    sample_range_x = np.round(grid_x, 1)\n",
    "    sample_range_y = np.round(grid_y, 1)\n",
    "    plt.xticks(pixel_range, sample_range_x)\n",
    "    plt.yticks(pixel_range, sample_range_y)\n",
    "    plt.xlabel(\"z[0]\")\n",
    "    plt.ylabel(\"z[1]\")\n",
    "    plt.imshow(figure, cmap = \"Greys_r\")\n",
    "    plt.show()\n",
    "\n",
    "    return None\n"
   ]
  },
  {
   "cell_type": "code",
   "execution_count": null,
   "id": "17109ca6-dbef-4b12-9e42-436e339b0e65",
   "metadata": {},
   "outputs": [],
   "source": []
  },
  {
   "cell_type": "code",
   "execution_count": 54,
   "id": "227d56d5-5780-4fb6-b70c-08baa42627af",
   "metadata": {},
   "outputs": [],
   "source": [
    "scale = 1.0\n",
    "digit_size = 28\n",
    "n = 30\n",
    "figure = np.zeros((digit_size * n, digit_size * n))\n",
    "    \n",
    "# linearly spaced coordinates corresponding to the 2D plot\n",
    "# of digit classes in the latent space-\n",
    "grid_x = np.linspace(-scale, scale, n)\n",
    "grid_y = np.linspace(-scale, scale, n)[::-1]\n",
    "grid_z = np.linspace(-scale, scale, n)[::-1]\n",
    "\n",
    "for i, yi in enumerate(grid_y):\n",
    "    for j, xi in enumerate(grid_x):\n",
    "        for k, zi in enumerate(grid_z):\n",
    "            break"
   ]
  },
  {
   "cell_type": "code",
   "execution_count": 57,
   "id": "9445be22-5804-4580-9e7f-a575ec07157b",
   "metadata": {},
   "outputs": [
    {
     "data": {
      "text/plain": [
       "(1.0, -1.0, 1.0)"
      ]
     },
     "execution_count": 57,
     "metadata": {},
     "output_type": "execute_result"
    }
   ],
   "source": [
    "xi, yi, zi"
   ]
  },
  {
   "cell_type": "code",
   "execution_count": 58,
   "id": "7a433927-3edd-4434-974f-9d40e8c2e8fb",
   "metadata": {},
   "outputs": [],
   "source": [
    "z_sample = np.array([[xi, yi, zi]])"
   ]
  },
  {
   "cell_type": "code",
   "execution_count": 59,
   "id": "a0aa834b-8be0-400a-afaf-cc6e81139219",
   "metadata": {},
   "outputs": [
    {
     "data": {
      "text/plain": [
       "(1, 3)"
      ]
     },
     "execution_count": 59,
     "metadata": {},
     "output_type": "execute_result"
    }
   ],
   "source": [
    "z_sample.shape"
   ]
  },
  {
   "cell_type": "code",
   "execution_count": 60,
   "id": "189ddf80-2f1c-4711-bc23-b92b0d729d1c",
   "metadata": {},
   "outputs": [
    {
     "data": {
      "text/plain": [
       "array([[ 1., -1.,  1.]])"
      ]
     },
     "execution_count": 60,
     "metadata": {},
     "output_type": "execute_result"
    }
   ],
   "source": [
    "z_sample"
   ]
  },
  {
   "cell_type": "code",
   "execution_count": 61,
   "id": "695af394-61d8-417d-b6ce-993d7c53b1dd",
   "metadata": {},
   "outputs": [],
   "source": [
    "x_decoded = vae_model.decoder.predict(z_sample)"
   ]
  },
  {
   "cell_type": "code",
   "execution_count": 62,
   "id": "7ded4577-d06b-4d30-8b9f-0c4e76193274",
   "metadata": {},
   "outputs": [
    {
     "data": {
      "text/plain": [
       "(1, 28, 28, 1)"
      ]
     },
     "execution_count": 62,
     "metadata": {},
     "output_type": "execute_result"
    }
   ],
   "source": [
    "x_decoded.shape"
   ]
  },
  {
   "cell_type": "code",
   "execution_count": 63,
   "id": "0b957c78-8cba-4d15-94e9-e5d5e4f182a6",
   "metadata": {},
   "outputs": [
    {
     "data": {
      "text/plain": [
       "(28, 28)"
      ]
     },
     "execution_count": 63,
     "metadata": {},
     "output_type": "execute_result"
    }
   ],
   "source": [
    "digit = x_decoded[0].reshape(digit_size, digit_size)\n",
    "digit.shape"
   ]
  },
  {
   "cell_type": "code",
   "execution_count": 64,
   "id": "d435ea5a-ffa4-4dd2-b990-ce0939c700f3",
   "metadata": {},
   "outputs": [
    {
     "data": {
      "image/png": "[encoded data removed]",
      "text/plain": [
       "<Figure size 432x288 with 1 Axes>"
      ]
     },
     "metadata": {
      "needs_background": "light"
     },
     "output_type": "display_data"
    }
   ],
   "source": [
    "plt.imshow(digit, cmap = \"Greys_r\")\n",
    "plt.show()"
   ]
  },
  {
   "cell_type": "code",
   "execution_count": null,
   "id": "24119ffe-47fa-4269-b292-f259ec678b52",
   "metadata": {},
   "outputs": [],
   "source": []
  },
  {
   "cell_type": "code",
   "execution_count": null,
   "id": "6398100b-4006-4bd0-ae3f-487e664a52e4",
   "metadata": {},
   "outputs": [],
   "source": []
  },
  {
   "cell_type": "code",
   "execution_count": null,
   "id": "d5fdf17d-264e-41af-b453-f6402a8a3a56",
   "metadata": {},
   "outputs": [],
   "source": [
    "plot_latent_space(vae_model)"
   ]
  },
  {
   "cell_type": "code",
   "execution_count": null,
   "id": "4f3faea4-1f8e-4049-976c-1b12b95ee404",
   "metadata": {},
   "outputs": [],
   "source": []
  },
  {
   "cell_type": "code",
   "execution_count": null,
   "id": "e679d684-cc9c-4e04-934b-7c532ba9ea1a",
   "metadata": {},
   "outputs": [],
   "source": []
  },
  {
   "cell_type": "markdown",
   "id": "619faa46-c4e2-4fd2-9272-9caf26da1fdc",
   "metadata": {},
   "source": [
    "### Visualize - _latent space mean_, _latent space log variance_ & _latent space_"
   ]
  },
  {
   "cell_type": "code",
   "execution_count": 37,
   "id": "c130d28e-c06a-4b23-ab18-83afd4d625ed",
   "metadata": {},
   "outputs": [],
   "source": [
    "z_mean, z_log_var, z = vae_model.encoder.predict(X_train)"
   ]
  },
  {
   "cell_type": "code",
   "execution_count": 38,
   "id": "d38e36ce-e6bd-4eb6-96bc-09ff2acfb09b",
   "metadata": {},
   "outputs": [
    {
     "data": {
      "text/plain": [
       "((60000, 3), (60000, 3), (60000, 3))"
      ]
     },
     "execution_count": 38,
     "metadata": {},
     "output_type": "execute_result"
    }
   ],
   "source": [
    "z_mean.shape, z_log_var.shape, z.shape"
   ]
  },
  {
   "cell_type": "code",
   "execution_count": null,
   "id": "e1b56d0d-53a7-4347-80ad-cf0e752f9ee0",
   "metadata": {},
   "outputs": [],
   "source": []
  },
  {
   "cell_type": "code",
   "execution_count": null,
   "id": "fd2c65bf-bce5-4ab4-aa1d-d806cda6c15e",
   "metadata": {},
   "outputs": [],
   "source": [
    "# Visualize z_mean-\n",
    "fig = px.scatter_3d(\n",
    "    x = z_mean[:, 0], y = z_mean[:, 1],\n",
    "    z = z_mean[:, 2],\n",
    "    color = y_train\n",
    "    )\n",
    "fig.show()"
   ]
  },
  {
   "cell_type": "code",
   "execution_count": null,
   "id": "5b7c4ab4-1854-43a6-a892-c3c42efd99fd",
   "metadata": {},
   "outputs": [],
   "source": [
    "# Visualize z_log_var-\n",
    "fig = px.scatter_3d(\n",
    "    x = z_log_var[:, 0], y = z_log_var[:, 1],\n",
    "    z = z_log_var[:, 2],\n",
    "    color = y_train\n",
    "    )\n",
    "fig.show()"
   ]
  },
  {
   "cell_type": "code",
   "execution_count": null,
   "id": "d412bec5-df4e-4c86-a43a-9087f4b681e6",
   "metadata": {},
   "outputs": [],
   "source": [
    "# Visualize z-\n",
    "fig = px.scatter_3d(\n",
    "    x = z[:, 0], y = z[:, 1],\n",
    "    z = z[:, 2],\n",
    "    color = y_train\n",
    "    )\n",
    "fig.show()"
   ]
  },
  {
   "cell_type": "code",
   "execution_count": null,
   "id": "2cfaa04e-370b-4690-bc5c-b9e3b43f84fe",
   "metadata": {},
   "outputs": [],
   "source": []
  },
  {
   "cell_type": "code",
   "execution_count": null,
   "id": "cae90b51-0b15-43ab-9a2d-7e552bb832d9",
   "metadata": {},
   "outputs": [],
   "source": []
  }
 ],
 "metadata": {
  "kernelspec": {
   "display_name": "Python 3 (ipykernel)",
   "language": "python",
   "name": "python3"
  },
  "language_info": {
   "codemirror_mode": {
    "name": "ipython",
    "version": 3
   },
   "file_extension": ".py",
   "mimetype": "text/x-python",
   "name": "python",
   "nbconvert_exporter": "python",
   "pygments_lexer": "ipython3",
   "version": "3.9.7"
  }
 },
 "nbformat": 4,
 "nbformat_minor": 5
}
