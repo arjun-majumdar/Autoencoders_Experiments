{
 "cells": [
  {
   "cell_type": "markdown",
   "id": "46480bcc-743f-476b-a89e-e3b410f79203",
   "metadata": {},
   "source": [
    "# VAE with _Dense_ layers: PyTorch and MNIST\n",
    "\n",
    "[Refer](https://debuggercafe.com/getting-started-with-variational-autoencoder-using-pytorch/)"
   ]
  },
  {
   "cell_type": "code",
   "execution_count": 1,
   "id": "a463406e-7280-4b86-b94f-f7e2343b09b7",
   "metadata": {
    "id": "544e9e64-75b9-4486-b7be-91923245a955"
   },
   "outputs": [],
   "source": [
    "import torch\n",
    "import torch.nn as nn\n",
    "import torch.nn.functional as F\n",
    "import torchvision\n",
    "import torchvision.transforms as transforms\n",
    "\n",
    "from tqdm import tqdm\n",
    "from tqdm import trange\n",
    "import matplotlib.pyplot as plt\n",
    "import numpy as np\n",
    "import os"
   ]
  },
  {
   "cell_type": "code",
   "execution_count": null,
   "id": "9fdf67bc-0408-472c-b120-a23c5f50ea2d",
   "metadata": {
    "id": "rmHcnSF6jYlH"
   },
   "outputs": [],
   "source": []
  },
  {
   "cell_type": "code",
   "execution_count": null,
   "id": "8a2c86b5-d430-4e1d-8546-a7a04f30c44c",
   "metadata": {
    "id": "583d5ada-6fc3-46d9-8981-d518151e7100"
   },
   "outputs": [],
   "source": []
  },
  {
   "cell_type": "code",
   "execution_count": 2,
   "id": "9ab9397f-55d3-4567-b52d-00381ab540b4",
   "metadata": {
    "colab": {
     "base_uri": "https://localhost:8080/"
    },
    "id": "b793da6e-d9c5-43eb-8a25-bd61d4d74161",
    "outputId": "6f4fa4fe-e803-4dee-ffa6-b02685bcb4bd"
   },
   "outputs": [
    {
     "name": "stdout",
     "output_type": "stream",
     "text": [
      "torch version: 1.9.0\n"
     ]
    }
   ],
   "source": [
    "print(f\"torch version: {torch.__version__}\")"
   ]
  },
  {
   "cell_type": "code",
   "execution_count": null,
   "id": "dcdd7be9-8396-46d8-86ff-a850888c3d7c",
   "metadata": {
    "id": "30040681-848b-48aa-a3d4-a2f9a2252e6a"
   },
   "outputs": [],
   "source": []
  },
  {
   "cell_type": "code",
   "execution_count": 3,
   "id": "2a0cf8fe-23d8-4074-b560-9f745e66bf0f",
   "metadata": {
    "colab": {
     "base_uri": "https://localhost:8080/"
    },
    "id": "0b47f61d-4785-4040-a847-f6a457f34e49",
    "outputId": "5943e914-32a1-456d-95d9-c5baf641b28e"
   },
   "outputs": [
    {
     "name": "stdout",
     "output_type": "stream",
     "text": [
      "number of GPU(s) available = 0\n",
      "PyTorch does not have access to GPU\n"
     ]
    }
   ],
   "source": [
    "# Check if there are multiple devices (i.e., GPU cards)-\n",
    "print(f\"number of GPU(s) available = {torch.cuda.device_count()}\")\n",
    "\n",
    "# Which GPU Is The Current GPU?\n",
    "# print(f\"current GPU: {torch.cuda.current_device()}\")\n",
    "\n",
    "# Get the name of the current GPU-\n",
    "# print(f\"Current GPU name: {torch.cuda.get_device_name(torch.cuda.current_device())}\")\n",
    "\n",
    "# Is PyTorch using a GPU?\n",
    "# print(f\"Is PyTorch using a GPU? {torch.cuda.is_available()}\")\n",
    "\n",
    "if torch.cuda.is_available():\n",
    "    print(f\"current GPU: {torch.cuda.current_device()}\")\n",
    "    print(f\"Current GPU name: {torch.cuda.get_device_name(torch.cuda.current_device())}\")\n",
    "else:\n",
    "    print(\"PyTorch does not have access to GPU\")"
   ]
  },
  {
   "cell_type": "code",
   "execution_count": 4,
   "id": "5ae5d6b2-f078-4ea7-ab1b-86b1d953af7d",
   "metadata": {
    "colab": {
     "base_uri": "https://localhost:8080/"
    },
    "id": "83a7919f-0ada-4f5b-9e31-7ae9df5f7b26",
    "outputId": "0d21f314-7c6f-4218-affc-90b0161b9a63"
   },
   "outputs": [
    {
     "name": "stdout",
     "output_type": "stream",
     "text": [
      "Available device is cpu\n"
     ]
    }
   ],
   "source": [
    "# Device configuration-\n",
    "device = torch.device('cuda' if torch.cuda.is_available() else 'cpu')\n",
    "print(f'Available device is {device}')"
   ]
  },
  {
   "cell_type": "code",
   "execution_count": null,
   "id": "2377ced0-363d-407f-9d7e-ab204701f892",
   "metadata": {
    "id": "890ab24d-865c-4a65-ad2b-b63278aa890f"
   },
   "outputs": [],
   "source": []
  },
  {
   "cell_type": "code",
   "execution_count": null,
   "id": "cc64451d-6c52-4c76-8933-35530546d3f6",
   "metadata": {
    "id": "97257346-97a4-499d-8cb9-64b695674cbc"
   },
   "outputs": [],
   "source": []
  },
  {
   "cell_type": "code",
   "execution_count": 5,
   "id": "493c80d9-898b-4ff3-ad12-7108cea4e580",
   "metadata": {
    "id": "b1c230c1-9810-4f76-a1bd-e8aabec2f236"
   },
   "outputs": [],
   "source": [
    "# Specify hyper-parameters-\n",
    "num_epochs = 30\n",
    "batch_size = 64\n",
    "learning_rate = 0.001"
   ]
  },
  {
   "cell_type": "code",
   "execution_count": null,
   "id": "8907c4aa-f4e1-49dc-85f9-dba2f3a8bc47",
   "metadata": {
    "id": "44d928e3-7975-435f-8bee-7c86c4bfd570"
   },
   "outputs": [],
   "source": []
  },
  {
   "cell_type": "code",
   "execution_count": null,
   "id": "4ecd6b13-726d-4ab3-9a75-92965fc22415",
   "metadata": {
    "id": "0e84cae4-156e-4089-bb79-c9659ad5aa3f"
   },
   "outputs": [],
   "source": []
  },
  {
   "cell_type": "markdown",
   "id": "ac486ea8-f2af-4c94-ade6-cebcae2cba77",
   "metadata": {
    "id": "59eb39cc-707f-4359-9ee9-9dbdd961e564"
   },
   "source": [
    "### Load and pre-process MNIST dataset:"
   ]
  },
  {
   "cell_type": "code",
   "execution_count": 6,
   "id": "9b07b5b2-e039-484e-b76c-3e0408eb9fbb",
   "metadata": {
    "id": "ec64ef9e-adf7-4ae8-8925-17e24c6c9428"
   },
   "outputs": [],
   "source": [
    "# Define transformations for MNIST dataset-\n",
    "# MNIST dataset statistics:\n",
    "# mean = tensor([0.1307]) & std dev = tensor([0.3081])\n",
    "mean = np.array([0.1307])\n",
    "std_dev = np.array([0.3081])\n",
    "\n",
    "transforms_apply = transforms.Compose([\n",
    "    transforms.ToTensor(),\n",
    "    transforms.Normalize(mean = mean, std = std_dev)\n",
    "    ])"
   ]
  },
  {
   "cell_type": "code",
   "execution_count": 7,
   "id": "ffd7a2b1-9316-4ac3-9d1c-0b700b175498",
   "metadata": {
    "id": "01eda28e-6e88-43d0-8ce2-28851c2798b5"
   },
   "outputs": [],
   "source": [
    "path_to_data = \"C:\\\\Users\\\\Arjun\\\\Desktop\\\\VAE_resources\\\\\""
   ]
  },
  {
   "cell_type": "code",
   "execution_count": 8,
   "id": "39014916-33ea-4688-85c5-8ade80ec19aa",
   "metadata": {
    "colab": {
     "base_uri": "https://localhost:8080/",
     "height": 443,
     "referenced_widgets": [
      "8fb92fa25393406fbbba1af04a31c479",
      "8d1b54cd01414a48885d8a91bde46e96",
      "8640c465fa184c3d8af440f4135deca5",
      "f8fdd13a17c340838aa87b99ea6bfd51",
      "41a163b54d844d518986df0dff83b369",
      "de74a5e7eded43f99eca4d68ac40b72d",
      "cff41021401a4cbaae6f0e6dfd0c44dd",
      "a60d0ec8c1184184bfef7568cc25534a",
      "2881a46f35714a6db3bf2cc0b85b610e",
      "47720e690b21433aba63df9377465466",
      "1429f945784844aea71eccb14814e088",
      "921598d6b05c48048d7eacfc0e20cbcf",
      "7d1241858cfb497f9481b2fd1a165f39",
      "dfcac0f7908b4826a71922cc49c9e162",
      "2394a93cf0f5424397df7bab21cb39c5",
      "f4a458cfa8ae48e8b519ee491141f6ce",
      "06b5a95721e74d11a6411c93ff39065a",
      "025eb5a247f24d258b3d683787efd875",
      "16e4b170e23744de9a208d7f4c586249",
      "45c36ac41fa2414491a7f9a523002377",
      "d17cd6da0d854cf580c62019d0537646",
      "6999cd8495344c2ebfe6a09dfd2a85ad",
      "707124d1a1e9455aa56f22298cda24ea",
      "2ff401f26f8446ec80a42d2ac4c55386",
      "22b33c7727854154a18bbdfed43b51b5",
      "cf67e131195d49a88156fcd76c65899f",
      "12cacb90c5644cf5a9fd6b0fd31fee0c",
      "d235ef833e764b74b044301c3f3333cf",
      "e1efb034a408458aa244e2c955f19cf0",
      "17f5c357650448b0ad4458c283963a9e",
      "2d42f813f5b74474b07e090257534cd3",
      "33477eb489214176877aa966e16e3829",
      "3702e288500b481b8b04aabb6c8138a0",
      "785260bb44c647c6bf221b7ab8ff9547",
      "9e6018ce3fa04cf89cb202f13af5c00a",
      "8fff73b9d8394c14b0a5e0514ab86d11",
      "3f392dac72bb4626815f264abc612568",
      "36d161ca163b4ba7900f5fc1dc19321d",
      "2163560e28554b678fd8f179758409bd",
      "311e8d1127d64702aa98826bbdc7084c",
      "e9a56ffd76474c2a9cd4811b85c288e9",
      "ce4a1fe33a2247b19249fc467a2dcd68",
      "a19d4d4da40c4418b4a72e9d4146124b",
      "b6f664b016fc4dd99551e321fc3d434b"
     ]
    },
    "id": "7f4f260c-ccf8-45da-b17b-70d3e59f3862",
    "outputId": "0a0d6a2b-a1f7-41a5-818b-5824e53dd3f0"
   },
   "outputs": [
    {
     "name": "stderr",
     "output_type": "stream",
     "text": [
      "C:\\Users\\Arjun\\anaconda3\\envs\\pytorch-cpu\\lib\\site-packages\\torchvision\\datasets\\mnist.py:498: UserWarning: The given NumPy array is not writeable, and PyTorch does not support non-writeable tensors. This means you can write to the underlying (supposedly non-writeable) NumPy array using the tensor. You may want to copy the array to protect its data or make it writeable before converting it to a tensor. This type of warning will be suppressed for the rest of this program. (Triggered internally at  ..\\torch\\csrc\\utils\\tensor_numpy.cpp:180.)\n",
      "  return torch.from_numpy(parsed.astype(m[2], copy=False)).view(*s)\n"
     ]
    }
   ],
   "source": [
    "# Load MNIST dataset-\n",
    "train_dataset = torchvision.datasets.MNIST(\n",
    "        # root = './data', train = True,\n",
    "        root = path_to_data + \"data\", train = True,\n",
    "        transform = transforms_apply, download = True\n",
    "        )\n",
    "\n",
    "test_dataset = torchvision.datasets.MNIST(\n",
    "        # root = './data', train = False,\n",
    "        root = path_to_data + \"data\", train = False,\n",
    "        transform = transforms_apply\n",
    "        )\n"
   ]
  },
  {
   "cell_type": "code",
   "execution_count": 9,
   "id": "c5d129af-7d66-49af-b885-ed1d7ebf9957",
   "metadata": {
    "id": "3d6e354e-9b87-4951-b96d-74cf04f24b4f"
   },
   "outputs": [],
   "source": [
    "# Create training and testing dataloaders-\n",
    "train_loader = torch.utils.data.DataLoader(\n",
    "        dataset = train_dataset, batch_size = batch_size,\n",
    "        shuffle = True\n",
    "        )\n",
    "\n",
    "test_loader = torch.utils.data.DataLoader(\n",
    "        dataset = test_dataset, batch_size = batch_size,\n",
    "        shuffle = False\n",
    "        )"
   ]
  },
  {
   "cell_type": "code",
   "execution_count": 10,
   "id": "66237025-bcca-4379-b61f-d5d77825240c",
   "metadata": {
    "colab": {
     "base_uri": "https://localhost:8080/"
    },
    "id": "a08584ab-91b8-4540-83ef-5999c53c2eb1",
    "outputId": "ed8ba3c2-c310-4a84-e19b-45581da57e13"
   },
   "outputs": [
    {
     "name": "stdout",
     "output_type": "stream",
     "text": [
      "Sizes of train_dataset: 60000 and test_dataet: 10000\n",
      "Sizes of train_loader: 938 and test_loader: 157\n"
     ]
    }
   ],
   "source": [
    "print(f\"Sizes of train_dataset: {len(train_dataset)} and test_dataet: {len(test_dataset)}\")\n",
    "print(f\"Sizes of train_loader: {len(train_loader)} and test_loader: {len(test_loader)}\")"
   ]
  },
  {
   "cell_type": "code",
   "execution_count": 11,
   "id": "d79c1eea-6d7b-4f17-918e-0888cbca35b5",
   "metadata": {
    "colab": {
     "base_uri": "https://localhost:8080/"
    },
    "id": "ad2adda6-2a32-48c9-9a9e-1cdd0e062a91",
    "outputId": "ce9fa199-0504-4c3e-99bd-5b527d315580"
   },
   "outputs": [
    {
     "name": "stdout",
     "output_type": "stream",
     "text": [
      "len(train_loader) = 938 & len(test_loader) = 157\n"
     ]
    }
   ],
   "source": [
    "print(f\"len(train_loader) = {len(train_loader)} & len(test_loader) = {len(test_loader)}\")"
   ]
  },
  {
   "cell_type": "code",
   "execution_count": 12,
   "id": "a8e98468-ff63-48e3-bf64-c431bb34b7ab",
   "metadata": {
    "colab": {
     "base_uri": "https://localhost:8080/"
    },
    "id": "d9fd01b7-443d-48bb-8d3d-c517717c41f7",
    "outputId": "eb3fa982-c7ca-4798-b042-eff501256874"
   },
   "outputs": [
    {
     "data": {
      "text/plain": [
       "(937.5, 156.25)"
      ]
     },
     "execution_count": 12,
     "metadata": {},
     "output_type": "execute_result"
    }
   ],
   "source": [
    "# Sanity check-\n",
    "len(train_dataset) / batch_size, len(test_dataset) / batch_size"
   ]
  },
  {
   "cell_type": "code",
   "execution_count": null,
   "id": "924cd34e-210f-4e25-8138-16aa60452a6e",
   "metadata": {
    "id": "6ba72e60-7d6e-4e07-9599-83e61bb2b47b"
   },
   "outputs": [],
   "source": []
  },
  {
   "cell_type": "code",
   "execution_count": 13,
   "id": "3f877eca-0f96-4f44-a8ca-2101298e224c",
   "metadata": {
    "colab": {
     "base_uri": "https://localhost:8080/"
    },
    "id": "b9a0f559-7301-4422-88c5-ca9b25a515f0",
    "outputId": "1e98940c-45a5-4cc8-e6f1-3eb288f7bc2b"
   },
   "outputs": [
    {
     "name": "stdout",
     "output_type": "stream",
     "text": [
      "images.shape: torch.Size([64, 1, 28, 28]) & labels.shape: torch.Size([64])\n"
     ]
    }
   ],
   "source": [
    "# Get some random batch of training images & labels-\n",
    "images, labels = next(iter(train_loader))\n",
    "\n",
    "# You get 64 images due to the specified batch size-\n",
    "print(f\"images.shape: {images.shape} & labels.shape: {labels.shape}\")"
   ]
  },
  {
   "cell_type": "code",
   "execution_count": 14,
   "id": "53cd73a4-f221-4e09-9ec0-59cf9cc2a773",
   "metadata": {
    "colab": {
     "base_uri": "https://localhost:8080/"
    },
    "id": "194f8cae-a051-470b-b299-87d3b3ad29d4",
    "outputId": "6891249c-3c83-4e1a-8022-5f8803b30af9"
   },
   "outputs": [
    {
     "data": {
      "text/plain": [
       "torch.Size([64, 784])"
      ]
     },
     "execution_count": 14,
     "metadata": {},
     "output_type": "execute_result"
    }
   ],
   "source": [
    "# Reshape input so that it can be fed into LeNet-300-100 architecture model-\n",
    "images.reshape(-1, 28 * 28 * 1).shape"
   ]
  },
  {
   "cell_type": "code",
   "execution_count": null,
   "id": "e01fa003-aff8-4793-8e3c-aac30c58dd84",
   "metadata": {
    "id": "33a4eb86-ebcb-45eb-98f5-12992739392a"
   },
   "outputs": [],
   "source": []
  },
  {
   "cell_type": "code",
   "execution_count": 15,
   "id": "86fc6da8-d04e-4e16-90db-6ed7a6d57014",
   "metadata": {
    "colab": {
     "base_uri": "https://localhost:8080/",
     "height": 274
    },
    "id": "31251834-0c72-4e3b-b859-64d1ea17ac88",
    "outputId": "67f9831d-5e36-4342-995c-61bb2ac0452e"
   },
   "outputs": [
    {
     "data": {
      "image/png": "[encoded data removed]",
      "text/plain": [
       "<Figure size 432x288 with 10 Axes>"
      ]
     },
     "metadata": {
      "needs_background": "light"
     },
     "output_type": "display_data"
    }
   ],
   "source": [
    "# Print 10 images from training set-\n",
    "for i in range(10):\n",
    "    plt.subplot(2, 5, i + 1)    # 2 rows & 5 columns\n",
    "    plt.imshow(images[i][0], cmap = 'gray')     # '0' to access first channel\n",
    "    \n",
    "plt.suptitle(\"Sample MNIST training images\")\n",
    "plt.show()"
   ]
  },
  {
   "cell_type": "code",
   "execution_count": null,
   "id": "34997f8d-47c1-4c02-adec-6551045db997",
   "metadata": {},
   "outputs": [],
   "source": []
  },
  {
   "cell_type": "code",
   "execution_count": null,
   "id": "f184e12c-bf23-454d-8871-26f23a0d10b1",
   "metadata": {},
   "outputs": [],
   "source": []
  },
  {
   "cell_type": "markdown",
   "id": "563c9fee-2893-4680-86dd-6529d0ac2849",
   "metadata": {},
   "source": [
    "### Define _Variational Autoencoder_ architecture:"
   ]
  },
  {
   "cell_type": "code",
   "execution_count": 16,
   "id": "854301b2-eaf4-4d18-8612-da102c82e261",
   "metadata": {},
   "outputs": [],
   "source": [
    "# Specify latent-space dimensions-\n",
    "latent_space = 16"
   ]
  },
  {
   "cell_type": "code",
   "execution_count": null,
   "id": "7a0a45b5-90a2-4b44-83ad-1ad63fb9a8b0",
   "metadata": {},
   "outputs": [],
   "source": []
  },
  {
   "cell_type": "code",
   "execution_count": 43,
   "id": "0644a7ed-de3d-4415-b353-faaee7033d67",
   "metadata": {},
   "outputs": [],
   "source": [
    "class VAE_Dense(nn.Module):\n",
    "    def __init__(self):\n",
    "        super(VAE_Dense, self).__init__()\n",
    "        \n",
    "        # Encoder-\n",
    "        self.enc_layer1 = nn.Linear(\n",
    "            in_features = 28 * 28 * 1, out_features = 512,\n",
    "            bias = True\n",
    "        )\n",
    "        self.enc_layer2 = nn.Linear(\n",
    "            in_features = 512, out_features = latent_space * 2,\n",
    "            bias = True\n",
    "        )\n",
    "        \n",
    "        # Decoder-\n",
    "        self.dec_layer1 = nn.Linear(\n",
    "            in_features = latent_space, out_features = 512,\n",
    "            bias = True\n",
    "        )\n",
    "        self.dec_layer2 = nn.Linear(\n",
    "            in_features = 512, out_features = 28 * 28 * 1,\n",
    "            bias = True\n",
    "        )\n",
    "    \n",
    "    \n",
    "    def reparameterize(self, mu, log_var):\n",
    "        '''\n",
    "        Input arguments:\n",
    "        1. mu - mean coming from the encoder's latent space\n",
    "        2. log_var - log variance coming from the encoder's latent space\n",
    "        '''\n",
    "        # Compute standard deviation using 'log_var'-\n",
    "        std = torch.exp(0.5 * log_var)\n",
    "        \n",
    "        # 'eps' samples from a normal standard distribution to add\n",
    "        # stochasticity to the sampling process-\n",
    "        eps = torch.randn_like(std)\n",
    "        \n",
    "        # Reparameterization trick - sample as if it's from the input\n",
    "        # space-\n",
    "        sample = mu + (std * eps)\n",
    "        \n",
    "        return sample\n",
    "    \n",
    "    \n",
    "    def forward(self, x):\n",
    "        # Encode input data-\n",
    "        x = F.relu(self.enc_layer1(x.view(-1, 28 * 28 * 1)))\n",
    "        x = self.enc_layer2(x).view(-1, 2, latent_space)\n",
    "        # NOTE: The line of code above does NOT give us the latent vector!\n",
    "        \n",
    "        # print(f\"encoder's output x.shape: {x.shape}\")\n",
    "        \n",
    "        # Compute 'mu' & 'log_var'-\n",
    "        # First feature value as mean-\n",
    "        mu = x[:, 0, :]\n",
    "        \n",
    "        # The other feature value as log variance-\n",
    "        log_var = x[:, 1, :]\n",
    "        \n",
    "        # Obtain the latent vector using reparameterization-\n",
    "        z = self.reparameterize(mu, log_var)\n",
    "        # latent vector 'z' is obtained through reparameterization trick using mu and log_var\n",
    "        \n",
    "        '''\n",
    "        print(f\"mu.shape: {mu.shape}, log_var.shape: {log_var.shape} &\"\n",
    "              f\" z.shape: {z.shape}\")\n",
    "        '''\n",
    "        \n",
    "        # Decode latent vector-\n",
    "        x = F.relu(self.dec_layer1(z))\n",
    "        recon_data = torch.sigmoid(self.dec_layer2(x))\n",
    "        \n",
    "        return recon_data, mu, log_var\n",
    "    \n",
    "        "
   ]
  },
  {
   "cell_type": "code",
   "execution_count": null,
   "id": "0d994b7b-877d-403e-81b6-2db218e19846",
   "metadata": {},
   "outputs": [],
   "source": []
  },
  {
   "cell_type": "code",
   "execution_count": 44,
   "id": "bb4cdb09-2371-43f9-989c-ff01500032b1",
   "metadata": {},
   "outputs": [],
   "source": [
    "# Initialize a VAE objetc-\n",
    "model = VAE_Dense().to(device)"
   ]
  },
  {
   "cell_type": "code",
   "execution_count": null,
   "id": "6108a76f-e223-4a13-8eb7-149d1d887a58",
   "metadata": {},
   "outputs": [],
   "source": []
  },
  {
   "cell_type": "code",
   "execution_count": 78,
   "id": "136dda06-b63f-4625-81af-54125bfe0ea8",
   "metadata": {},
   "outputs": [
    {
     "name": "stdout",
     "output_type": "stream",
     "text": [
      "VAE_Dense(\n",
      "  (enc_layer1): Linear(in_features=784, out_features=512, bias=True)\n",
      "  (enc_layer2): Linear(in_features=512, out_features=32, bias=True)\n",
      "  (dec_layer1): Linear(in_features=16, out_features=512, bias=True)\n",
      "  (dec_layer2): Linear(in_features=512, out_features=784, bias=True)\n",
      ")\n"
     ]
    }
   ],
   "source": [
    "print(model)"
   ]
  },
  {
   "cell_type": "code",
   "execution_count": null,
   "id": "a75ae157-092f-4791-b579-31931c73e84f",
   "metadata": {},
   "outputs": [],
   "source": []
  },
  {
   "cell_type": "code",
   "execution_count": 79,
   "id": "29056c8f-6e39-454e-a958-a2ffca450908",
   "metadata": {},
   "outputs": [
    {
     "name": "stdout",
     "output_type": "stream",
     "text": [
      "layer.shape = torch.Size([512, 784]) has 401408 parameters\n",
      "layer.shape = torch.Size([512]) has 512 parameters\n",
      "layer.shape = torch.Size([32, 512]) has 16384 parameters\n",
      "layer.shape = torch.Size([32]) has 32 parameters\n",
      "layer.shape = torch.Size([512, 16]) has 8192 parameters\n",
      "layer.shape = torch.Size([512]) has 512 parameters\n",
      "layer.shape = torch.Size([784, 512]) has 401408 parameters\n",
      "layer.shape = torch.Size([784]) has 784 parameters\n"
     ]
    }
   ],
   "source": [
    "# Count number of layer-wise parameters and total parameters-\n",
    "tot_params = 0\n",
    "for param in model.parameters():\n",
    "    print(f\"layer.shape = {param.shape} has {param.nelement()} parameters\")\n",
    "    tot_params += param.nelement()"
   ]
  },
  {
   "cell_type": "code",
   "execution_count": 80,
   "id": "63f8ce16-7374-4825-8990-374b110d8da2",
   "metadata": {},
   "outputs": [
    {
     "name": "stdout",
     "output_type": "stream",
     "text": [
      "Total number of parameters in VAE Dense model = 829232\n"
     ]
    }
   ],
   "source": [
    "print(f\"Total number of parameters in VAE Dense model = {tot_params}\")"
   ]
  },
  {
   "cell_type": "code",
   "execution_count": null,
   "id": "3dac64cf-8124-4252-bda7-a81626cc872d",
   "metadata": {},
   "outputs": [],
   "source": []
  },
  {
   "cell_type": "code",
   "execution_count": null,
   "id": "28cff0fa-a06d-407a-b116-9d8c2291220d",
   "metadata": {},
   "outputs": [],
   "source": []
  },
  {
   "cell_type": "code",
   "execution_count": 45,
   "id": "a3610c82-c3a4-4d43-a60c-f9723f97e0b0",
   "metadata": {},
   "outputs": [
    {
     "data": {
      "text/plain": [
       "torch.Size([64, 1, 28, 28])"
      ]
     },
     "execution_count": 45,
     "metadata": {},
     "output_type": "execute_result"
    }
   ],
   "source": [
    "images.shape"
   ]
  },
  {
   "cell_type": "code",
   "execution_count": 23,
   "id": "019f617b-785f-4943-aa82-f06d55fe4595",
   "metadata": {},
   "outputs": [
    {
     "name": "stdout",
     "output_type": "stream",
     "text": [
      "encoder's output x.shape: torch.Size([64, 2, 16])\n",
      "mu.shape: torch.Size([64, 16]), log_var.shape: torch.Size([64, 16]) & z.shape: torch.Size([64, 16])\n"
     ]
    }
   ],
   "source": [
    "# Sanity check-\n",
    "recon_images, mu, log_var = model(images)"
   ]
  },
  {
   "cell_type": "code",
   "execution_count": 24,
   "id": "cfb92c33-fe62-460d-a9c7-7647d8479a5a",
   "metadata": {},
   "outputs": [
    {
     "data": {
      "text/plain": [
       "(torch.Size([64, 784]), torch.Size([64, 16]), torch.Size([64, 16]))"
      ]
     },
     "execution_count": 24,
     "metadata": {},
     "output_type": "execute_result"
    }
   ],
   "source": [
    "recon_images.shape, mu.shape, log_var.shape"
   ]
  },
  {
   "cell_type": "code",
   "execution_count": null,
   "id": "9512b275-14c5-40aa-ad7a-f6c3d8088cb3",
   "metadata": {},
   "outputs": [],
   "source": []
  },
  {
   "cell_type": "code",
   "execution_count": null,
   "id": "6608e3c1-6e5b-4754-8bf0-679c08eb8fae",
   "metadata": {},
   "outputs": [],
   "source": []
  },
  {
   "cell_type": "code",
   "execution_count": 46,
   "id": "fbf119f1-2ad2-416b-81a4-27ea2711ca29",
   "metadata": {},
   "outputs": [],
   "source": [
    "# Define gradient descent optimizer-\n",
    "optimizer = torch.optim.Adam(model.parameters(), lr = learning_rate)"
   ]
  },
  {
   "cell_type": "code",
   "execution_count": 47,
   "id": "13813ae2-1032-4242-a469-f24fb724bd7b",
   "metadata": {},
   "outputs": [],
   "source": [
    "# Reconstruction loss-\n",
    "criterion = nn.BCELoss(reduction = 'sum')\n",
    "\n",
    "# Note: reduction='sum' is used for the BCELoss(). If you read the PyTorch documentations, then this is\n",
    "# specifically for the case of autoencoders only.\n",
    "\n",
    "# Also, MSE loss could also be used."
   ]
  },
  {
   "cell_type": "code",
   "execution_count": null,
   "id": "68ebab4a-0d0e-4ffb-a4ce-51ad15d5c0d6",
   "metadata": {},
   "outputs": [],
   "source": [
    "criterion(images.view(-1, 28 * 28 * 1), recon_images)"
   ]
  },
  {
   "cell_type": "code",
   "execution_count": null,
   "id": "55a8f488-edc5-4816-849f-bfeb48720cf3",
   "metadata": {},
   "outputs": [],
   "source": []
  },
  {
   "cell_type": "code",
   "execution_count": 48,
   "id": "470173e5-bf12-4bfa-909f-5a7577202478",
   "metadata": {},
   "outputs": [],
   "source": [
    "def total_loss(reconstruction_loss, mu, log_var):\n",
    "    '''\n",
    "    This function will add the reconstruction loss and the KL-Divergence loss.\n",
    "    KL-Divergence = 0.5 * sum(1 + log(sigma^2) - mu^2 - sigma^2)\n",
    "    \n",
    "    Inputs:\n",
    "    1. recontruction loss - BCE or MSE loss\n",
    "    2. mu: mean from the latent vector\n",
    "    3. logvar: log variance from the latent vector\n",
    "    '''\n",
    "    KLD = -0.5 * torch.sum(1 + log_var - mu.pow(2) - log_var.exp())\n",
    "    return reconstruction_loss + KLD\n"
   ]
  },
  {
   "cell_type": "code",
   "execution_count": null,
   "id": "32624896-4889-42da-b3c7-eb883273e0e0",
   "metadata": {},
   "outputs": [],
   "source": [
    "# Sanity check-\n",
    "total_loss(criterion, mu, log_var)"
   ]
  },
  {
   "cell_type": "code",
   "execution_count": null,
   "id": "d9b80a82-31c9-4903-a34d-72f220a525b1",
   "metadata": {},
   "outputs": [],
   "source": []
  },
  {
   "cell_type": "code",
   "execution_count": null,
   "id": "d7202cf8-11bd-48d5-8716-0bfe01305e0f",
   "metadata": {},
   "outputs": [],
   "source": []
  },
  {
   "cell_type": "code",
   "execution_count": 49,
   "id": "f6a9f8ed-8fe9-4c16-8ac7-23b6cb202f18",
   "metadata": {},
   "outputs": [],
   "source": [
    "def fit(model, dataloader):\n",
    "    \n",
    "    # Place model to device-\n",
    "    model.to(device)\n",
    "    \n",
    "    # Enable training mode-\n",
    "    model.train()\n",
    "    \n",
    "    running_loss = 0.0\n",
    "    \n",
    "    for i, data in tqdm(enumerate(dataloader), total = int(len(train_dataset) / dataloader.batch_size)):\n",
    "        data, _ = data\n",
    "        data = data.to(device)\n",
    "        \n",
    "        # Flatten input data to feed into a dense layer-\n",
    "        data = data.view(data.size(0), -1)\n",
    "        \n",
    "        # Empty accumulated gradients-\n",
    "        optimizer.zero_grad()\n",
    "        \n",
    "        # Perform forward propagation-\n",
    "        reconstruction, mu, logvar = model(data)\n",
    "        \n",
    "        # Compute reconstruction loss-\n",
    "        bce_loss = criterion(reconstruction, data)\n",
    "        \n",
    "        # Compute final loss-\n",
    "        loss = total_loss(bce_loss, mu, logvar)\n",
    "        \n",
    "        # Update loss-\n",
    "        running_loss += loss.item()\n",
    "        \n",
    "        # Compute gradients wrt loss-\n",
    "        loss.backward()\n",
    "        \n",
    "        # Perform gradient descent-\n",
    "        optimizer.step()\n",
    "        \n",
    "    train_loss = running_loss/len(dataloader.dataset)\n",
    "    \n",
    "    return train_loss\n"
   ]
  },
  {
   "cell_type": "code",
   "execution_count": null,
   "id": "fa76504a-5f15-465c-b0f9-b887001fe385",
   "metadata": {},
   "outputs": [],
   "source": []
  },
  {
   "cell_type": "code",
   "execution_count": 53,
   "id": "53f2117e-a3b7-4c8a-a106-ec1a560fd3f1",
   "metadata": {},
   "outputs": [],
   "source": [
    "def validate(model, dataloader):\n",
    "    \n",
    "    # Place model to device-\n",
    "    model.to(device)\n",
    "    \n",
    "    # Enable evaluation mode-\n",
    "    model.eval()\n",
    "    \n",
    "    running_loss = 0.0\n",
    "    \n",
    "    with torch.no_grad():\n",
    "        for i, data in tqdm(enumerate(dataloader), total = int(len(test_dataset) / dataloader.batch_size)):\n",
    "            data, _ = data\n",
    "            data = data.to(device)\n",
    "            \n",
    "            # Flatten data to feed into a dense layer-\n",
    "            data = data.view(data.size(0), -1)\n",
    "            \n",
    "            # Forward propagation-\n",
    "            reconstruction, mu, logvar = model(data)\n",
    "            \n",
    "            # Compute reconstruction loss-\n",
    "            bce_loss = criterion(reconstruction, data)\n",
    "            \n",
    "            # Compute total loss-\n",
    "            loss = total_loss(bce_loss, mu, logvar)\n",
    "            \n",
    "            # Update loss-\n",
    "            running_loss += loss.item()\n",
    "\n",
    "            '''\n",
    "            # save the last batch input and output of every epoch\n",
    "            if i == int(len(test_dataset) / dataloader.batch_size) - 1:\n",
    "                num_rows = 8\n",
    "                both = torch.cat((data.view(batch_size, 1, 28, 28)[:8], \n",
    "                                  reconstruction.view(batch_size, 1, 28, 28)[:8]))\n",
    "                save_image(both.cpu(), f\"../outputs/output{epoch}.png\", nrow=num_rows)\n",
    "            '''\n",
    "            \n",
    "    val_loss = running_loss / len(dataloader.dataset)\n",
    "    \n",
    "    return val_loss\n"
   ]
  },
  {
   "cell_type": "code",
   "execution_count": null,
   "id": "a0f4b865-201d-490c-9904-8fdd8a25af1a",
   "metadata": {},
   "outputs": [],
   "source": []
  },
  {
   "cell_type": "code",
   "execution_count": 50,
   "id": "49932d7b-5d4e-4193-87f3-27a6df667884",
   "metadata": {},
   "outputs": [
    {
     "name": "stderr",
     "output_type": "stream",
     "text": [
      "938it [00:29, 31.72it/s]                                                                                               \n"
     ]
    }
   ],
   "source": [
    "train_loss = fit(model = model, dataloader = train_loader)"
   ]
  },
  {
   "cell_type": "code",
   "execution_count": 54,
   "id": "140a656d-2e7b-4394-9de8-0ebe3aa27a1f",
   "metadata": {},
   "outputs": [
    {
     "name": "stderr",
     "output_type": "stream",
     "text": [
      "157it [00:02, 54.03it/s]                                                                                               \n"
     ]
    }
   ],
   "source": [
    "test_loss = validate(model = model, dataloader = test_loader)"
   ]
  },
  {
   "cell_type": "code",
   "execution_count": 55,
   "id": "399576b3-8d87-4fd1-bc6c-aa58a48c2257",
   "metadata": {},
   "outputs": [
    {
     "name": "stdout",
     "output_type": "stream",
     "text": [
      "train loss = -21864.5813 & test loss = -28941.7061\n"
     ]
    }
   ],
   "source": [
    "print(f\"train loss = {train_loss:.4f} & test loss = {test_loss:.4f}\")"
   ]
  },
  {
   "cell_type": "code",
   "execution_count": null,
   "id": "510979f7-e453-468a-8e3e-655900414d71",
   "metadata": {},
   "outputs": [],
   "source": []
  },
  {
   "cell_type": "code",
   "execution_count": null,
   "id": "1d86f323-b093-4867-a349-9dd2aad6223b",
   "metadata": {},
   "outputs": [],
   "source": []
  },
  {
   "cell_type": "code",
   "execution_count": 56,
   "id": "7827bf0c-f428-4f01-88eb-d895d0e7567e",
   "metadata": {},
   "outputs": [],
   "source": [
    "train_loss = []\n",
    "val_loss = []"
   ]
  },
  {
   "cell_type": "code",
   "execution_count": 58,
   "id": "04831010-8586-4efd-8400-a116e3f9309f",
   "metadata": {},
   "outputs": [
    {
     "name": "stderr",
     "output_type": "stream",
     "text": [
      "938it [00:32, 29.30it/s]                                                                                               \n",
      "157it [00:03, 50.84it/s]                                                                                               \n"
     ]
    },
    {
     "name": "stdout",
     "output_type": "stream",
     "text": [
      "Epoch = 1; train loss = -30278.5917 & test loss = -31636.5825\n"
     ]
    },
    {
     "name": "stderr",
     "output_type": "stream",
     "text": [
      "938it [00:36, 25.60it/s]                                                                                               \n",
      "157it [00:02, 57.08it/s]                                                                                               \n"
     ]
    },
    {
     "name": "stdout",
     "output_type": "stream",
     "text": [
      "Epoch = 2; train loss = -31880.1612 & test loss = -33054.3590\n"
     ]
    },
    {
     "name": "stderr",
     "output_type": "stream",
     "text": [
      "938it [00:30, 31.03it/s]                                                                                               \n",
      "157it [00:02, 60.90it/s]                                                                                               \n"
     ]
    },
    {
     "name": "stdout",
     "output_type": "stream",
     "text": [
      "Epoch = 3; train loss = -32749.4880 & test loss = -33852.3556\n"
     ]
    },
    {
     "name": "stderr",
     "output_type": "stream",
     "text": [
      "938it [00:27, 33.70it/s]                                                                                               \n",
      "157it [00:03, 49.63it/s]                                                                                               \n"
     ]
    },
    {
     "name": "stdout",
     "output_type": "stream",
     "text": [
      "Epoch = 4; train loss = -33289.6524 & test loss = -33857.6819\n"
     ]
    },
    {
     "name": "stderr",
     "output_type": "stream",
     "text": [
      "938it [00:32, 29.00it/s]                                                                                               \n",
      "157it [00:02, 70.33it/s]                                                                                               \n"
     ]
    },
    {
     "name": "stdout",
     "output_type": "stream",
     "text": [
      "Epoch = 5; train loss = -33699.2112 & test loss = -34159.3255\n"
     ]
    },
    {
     "name": "stderr",
     "output_type": "stream",
     "text": [
      "938it [00:32, 28.58it/s]                                                                                               \n",
      "157it [00:03, 50.74it/s]                                                                                               \n"
     ]
    },
    {
     "name": "stdout",
     "output_type": "stream",
     "text": [
      "Epoch = 6; train loss = -34031.7420 & test loss = -34643.9732\n"
     ]
    },
    {
     "name": "stderr",
     "output_type": "stream",
     "text": [
      "938it [00:31, 29.60it/s]                                                                                               \n",
      "157it [00:03, 46.85it/s]                                                                                               \n"
     ]
    },
    {
     "name": "stdout",
     "output_type": "stream",
     "text": [
      "Epoch = 7; train loss = -34337.0264 & test loss = -34607.1998\n"
     ]
    },
    {
     "name": "stderr",
     "output_type": "stream",
     "text": [
      "938it [00:31, 29.81it/s]                                                                                               \n",
      "157it [00:02, 60.70it/s]                                                                                               \n"
     ]
    },
    {
     "name": "stdout",
     "output_type": "stream",
     "text": [
      "Epoch = 8; train loss = -34599.6888 & test loss = -34901.8180\n"
     ]
    },
    {
     "name": "stderr",
     "output_type": "stream",
     "text": [
      "938it [00:30, 30.89it/s]                                                                                               \n",
      "157it [00:02, 55.79it/s]                                                                                               \n"
     ]
    },
    {
     "name": "stdout",
     "output_type": "stream",
     "text": [
      "Epoch = 9; train loss = -34824.3166 & test loss = -35514.7717\n"
     ]
    },
    {
     "name": "stderr",
     "output_type": "stream",
     "text": [
      "938it [00:34, 27.06it/s]                                                                                               \n",
      "157it [00:02, 58.33it/s]                                                                                               \n"
     ]
    },
    {
     "name": "stdout",
     "output_type": "stream",
     "text": [
      "Epoch = 10; train loss = -35035.6830 & test loss = -35266.6457\n"
     ]
    },
    {
     "name": "stderr",
     "output_type": "stream",
     "text": [
      "938it [00:31, 29.52it/s]                                                                                               \n",
      "157it [00:02, 54.98it/s]                                                                                               \n"
     ]
    },
    {
     "name": "stdout",
     "output_type": "stream",
     "text": [
      "Epoch = 11; train loss = -35201.8921 & test loss = -35703.4342\n"
     ]
    },
    {
     "name": "stderr",
     "output_type": "stream",
     "text": [
      "938it [00:34, 27.21it/s]                                                                                               \n",
      "157it [00:03, 42.85it/s]                                                                                               \n"
     ]
    },
    {
     "name": "stdout",
     "output_type": "stream",
     "text": [
      "Epoch = 12; train loss = -35376.1994 & test loss = -35900.9081\n"
     ]
    },
    {
     "name": "stderr",
     "output_type": "stream",
     "text": [
      "938it [00:36, 25.99it/s]                                                                                               \n",
      "157it [00:03, 46.11it/s]                                                                                               \n"
     ]
    },
    {
     "name": "stdout",
     "output_type": "stream",
     "text": [
      "Epoch = 13; train loss = -35525.1333 & test loss = -35927.9290\n"
     ]
    },
    {
     "name": "stderr",
     "output_type": "stream",
     "text": [
      "938it [00:36, 25.72it/s]                                                                                               \n",
      "157it [00:03, 51.51it/s]                                                                                               \n"
     ]
    },
    {
     "name": "stdout",
     "output_type": "stream",
     "text": [
      "Epoch = 14; train loss = -35619.4404 & test loss = -35940.6410\n"
     ]
    },
    {
     "name": "stderr",
     "output_type": "stream",
     "text": [
      "938it [00:35, 26.56it/s]                                                                                               \n",
      "157it [00:03, 48.32it/s]                                                                                               \n"
     ]
    },
    {
     "name": "stdout",
     "output_type": "stream",
     "text": [
      "Epoch = 15; train loss = -35783.7542 & test loss = -36105.0817\n"
     ]
    },
    {
     "name": "stderr",
     "output_type": "stream",
     "text": [
      "938it [00:37, 25.11it/s]                                                                                               \n",
      "157it [00:03, 45.64it/s]                                                                                               \n"
     ]
    },
    {
     "name": "stdout",
     "output_type": "stream",
     "text": [
      "Epoch = 16; train loss = -36029.0347 & test loss = -36266.1728\n"
     ]
    },
    {
     "name": "stderr",
     "output_type": "stream",
     "text": [
      "938it [00:36, 25.83it/s]                                                                                               \n",
      "157it [00:02, 54.71it/s]                                                                                               \n"
     ]
    },
    {
     "name": "stdout",
     "output_type": "stream",
     "text": [
      "Epoch = 17; train loss = -36111.2745 & test loss = -36359.9145\n"
     ]
    },
    {
     "name": "stderr",
     "output_type": "stream",
     "text": [
      "938it [00:35, 26.63it/s]                                                                                               \n",
      "157it [00:03, 49.04it/s]                                                                                               \n"
     ]
    },
    {
     "name": "stdout",
     "output_type": "stream",
     "text": [
      "Epoch = 18; train loss = -36208.9190 & test loss = -36367.8300\n"
     ]
    },
    {
     "name": "stderr",
     "output_type": "stream",
     "text": [
      "938it [00:35, 26.50it/s]                                                                                               \n",
      "157it [00:03, 39.96it/s]                                                                                               \n"
     ]
    },
    {
     "name": "stdout",
     "output_type": "stream",
     "text": [
      "Epoch = 19; train loss = -36280.4183 & test loss = -36593.2728\n"
     ]
    },
    {
     "name": "stderr",
     "output_type": "stream",
     "text": [
      "938it [00:37, 25.17it/s]                                                                                               \n",
      "157it [00:03, 48.06it/s]                                                                                               \n"
     ]
    },
    {
     "name": "stdout",
     "output_type": "stream",
     "text": [
      "Epoch = 20; train loss = -36375.7232 & test loss = -36764.3179\n"
     ]
    },
    {
     "name": "stderr",
     "output_type": "stream",
     "text": [
      "938it [00:36, 25.35it/s]                                                                                               \n",
      "157it [00:03, 43.11it/s]                                                                                               \n"
     ]
    },
    {
     "name": "stdout",
     "output_type": "stream",
     "text": [
      "Epoch = 21; train loss = -36458.9702 & test loss = -36830.3435\n"
     ]
    },
    {
     "name": "stderr",
     "output_type": "stream",
     "text": [
      "938it [00:36, 25.42it/s]                                                                                               \n",
      "157it [00:02, 54.82it/s]                                                                                               \n"
     ]
    },
    {
     "name": "stdout",
     "output_type": "stream",
     "text": [
      "Epoch = 22; train loss = -36527.9752 & test loss = -36699.2416\n"
     ]
    },
    {
     "name": "stderr",
     "output_type": "stream",
     "text": [
      "938it [00:36, 25.71it/s]                                                                                               \n",
      "157it [00:03, 49.78it/s]                                                                                               \n"
     ]
    },
    {
     "name": "stdout",
     "output_type": "stream",
     "text": [
      "Epoch = 23; train loss = -36591.9769 & test loss = -37038.5037\n"
     ]
    },
    {
     "name": "stderr",
     "output_type": "stream",
     "text": [
      "938it [00:36, 25.99it/s]                                                                                               \n",
      "157it [00:03, 50.39it/s]                                                                                               \n"
     ]
    },
    {
     "name": "stdout",
     "output_type": "stream",
     "text": [
      "Epoch = 24; train loss = -36651.1738 & test loss = -37085.0606\n"
     ]
    },
    {
     "name": "stderr",
     "output_type": "stream",
     "text": [
      "938it [00:35, 26.53it/s]                                                                                               \n",
      "157it [00:03, 45.04it/s]                                                                                               \n"
     ]
    },
    {
     "name": "stdout",
     "output_type": "stream",
     "text": [
      "Epoch = 25; train loss = -36714.6233 & test loss = -37002.2770\n"
     ]
    },
    {
     "name": "stderr",
     "output_type": "stream",
     "text": [
      "938it [00:35, 26.13it/s]                                                                                               \n",
      "157it [00:03, 43.57it/s]                                                                                               \n"
     ]
    },
    {
     "name": "stdout",
     "output_type": "stream",
     "text": [
      "Epoch = 26; train loss = -36775.3909 & test loss = -37056.2273\n"
     ]
    },
    {
     "name": "stderr",
     "output_type": "stream",
     "text": [
      "938it [00:37, 24.68it/s]                                                                                               \n",
      "157it [00:03, 44.58it/s]                                                                                               \n"
     ]
    },
    {
     "name": "stdout",
     "output_type": "stream",
     "text": [
      "Epoch = 27; train loss = -36850.7558 & test loss = -37211.0811\n"
     ]
    },
    {
     "name": "stderr",
     "output_type": "stream",
     "text": [
      "938it [00:36, 26.04it/s]                                                                                               \n",
      "157it [00:03, 47.10it/s]                                                                                               \n"
     ]
    },
    {
     "name": "stdout",
     "output_type": "stream",
     "text": [
      "Epoch = 28; train loss = -36905.9938 & test loss = -37163.6667\n"
     ]
    },
    {
     "name": "stderr",
     "output_type": "stream",
     "text": [
      "938it [00:35, 26.42it/s]                                                                                               \n",
      "157it [00:02, 52.73it/s]                                                                                               \n"
     ]
    },
    {
     "name": "stdout",
     "output_type": "stream",
     "text": [
      "Epoch = 29; train loss = -36969.2894 & test loss = -37251.5955\n"
     ]
    },
    {
     "name": "stderr",
     "output_type": "stream",
     "text": [
      "938it [00:34, 27.55it/s]                                                                                               \n",
      "157it [00:03, 45.04it/s]                                                                                               "
     ]
    },
    {
     "name": "stdout",
     "output_type": "stream",
     "text": [
      "Epoch = 30; train loss = -37057.5634 & test loss = -37415.4150\n"
     ]
    },
    {
     "name": "stderr",
     "output_type": "stream",
     "text": [
      "\n"
     ]
    }
   ],
   "source": [
    "for epoch in range(1, 31):\n",
    "    train_epoch_loss = fit(model, train_loader)\n",
    "    val_epoch_loss = validate(model, test_loader)\n",
    "    train_loss.append(train_epoch_loss)\n",
    "    val_loss.append(val_epoch_loss)\n",
    "    \n",
    "    print(f\"Epoch = {epoch}; train loss = {train_epoch_loss:.4f} & test loss = {val_epoch_loss:.4f}\")\n",
    "    "
   ]
  },
  {
   "cell_type": "code",
   "execution_count": null,
   "id": "23a895fc-8be3-473e-8480-4c251a17205e",
   "metadata": {},
   "outputs": [],
   "source": []
  },
  {
   "cell_type": "code",
   "execution_count": null,
   "id": "2c35868c-173c-48c8-93e5-0efa1631969c",
   "metadata": {},
   "outputs": [],
   "source": []
  },
  {
   "cell_type": "code",
   "execution_count": 59,
   "id": "6bad613c-a82f-4aaa-a740-e05ff4fe6121",
   "metadata": {
    "id": "MnqrnBIzolz2"
   },
   "outputs": [],
   "source": [
    "# Save trained VAE model's weights-\n",
    "torch.save(model.state_dict(), 'VAE_Dense_MNIST_Trained_Weights.pth')"
   ]
  },
  {
   "cell_type": "code",
   "execution_count": null,
   "id": "2b1dbe33-70fa-4db0-9bd8-821452d25013",
   "metadata": {
    "id": "LiyKmXOEo7r8"
   },
   "outputs": [],
   "source": [
    "# Load trained weights from before-\n",
    "# loaded_model = VAE_LeNet300(latent_space = 5)\n",
    "# loaded_model.load_state_dict(torch.load('VAE_LeNet300_MNIST_Trained_Weights.pth'))"
   ]
  },
  {
   "cell_type": "code",
   "execution_count": null,
   "id": "63b42d19-7dbe-446b-98e2-34a8a8f356b3",
   "metadata": {},
   "outputs": [],
   "source": []
  },
  {
   "cell_type": "code",
   "execution_count": 60,
   "id": "1772c367-26c1-483c-a1db-14e378bcfc61",
   "metadata": {},
   "outputs": [
    {
     "data": {
      "image/png": "[encoded data removed]",
      "text/plain": [
       "<Figure size 648x504 with 1 Axes>"
      ]
     },
     "metadata": {
      "needs_background": "light"
     },
     "output_type": "display_data"
    }
   ],
   "source": [
    "# Visualize training-\n",
    "plt.figure(figsize = (9, 7))\n",
    "plt.plot(train_loss, label = 'train loss')\n",
    "plt.plot(val_loss, label = 'val loss')\n",
    "plt.legend(loc = 'best')\n",
    "plt.title(\"VAE: MNIST Training Visualization\")\n",
    "plt.show()"
   ]
  },
  {
   "cell_type": "code",
   "execution_count": null,
   "id": "b0dc29c7-ba3c-4a8f-b2ee-f7363b2832a1",
   "metadata": {},
   "outputs": [],
   "source": []
  },
  {
   "cell_type": "code",
   "execution_count": null,
   "id": "fd133d69-4e7f-4b70-b836-191ab0f655e3",
   "metadata": {},
   "outputs": [],
   "source": []
  },
  {
   "cell_type": "code",
   "execution_count": 61,
   "id": "f63ca86b-e468-4964-bfd7-5556b02aeab4",
   "metadata": {},
   "outputs": [],
   "source": [
    "# Perform forward propagation-\n",
    "recon_images, mu, log_var = model(images)"
   ]
  },
  {
   "cell_type": "code",
   "execution_count": 62,
   "id": "979ffab4-d131-4fea-afea-9a094b94ec39",
   "metadata": {},
   "outputs": [
    {
     "data": {
      "text/plain": [
       "(torch.Size([64, 784]), torch.Size([64, 16]), torch.Size([64, 16]))"
      ]
     },
     "execution_count": 62,
     "metadata": {},
     "output_type": "execute_result"
    }
   ],
   "source": [
    "recon_images.shape, mu.shape, log_var.shape"
   ]
  },
  {
   "cell_type": "code",
   "execution_count": 71,
   "id": "5db46d9e-5fba-487a-98d3-b17a3d94441b",
   "metadata": {},
   "outputs": [],
   "source": [
    "recon_images = recon_images.detach().numpy()"
   ]
  },
  {
   "cell_type": "code",
   "execution_count": 66,
   "id": "5e8347ae-27f8-4ce7-b076-7eb9bec91c46",
   "metadata": {},
   "outputs": [],
   "source": [
    "# Reshape reconstructed images for visualization-\n",
    "recon_images = recon_images.view(-1, 1, 28, 28)"
   ]
  },
  {
   "cell_type": "code",
   "execution_count": 67,
   "id": "c6ec877d-607e-4324-ad93-62e75fcfeed4",
   "metadata": {},
   "outputs": [
    {
     "data": {
      "text/plain": [
       "(torch.Size([64, 1, 28, 28]), torch.Size([64, 1, 28, 28]))"
      ]
     },
     "execution_count": 67,
     "metadata": {},
     "output_type": "execute_result"
    }
   ],
   "source": [
    "recon_images.shape, images.shape"
   ]
  },
  {
   "cell_type": "code",
   "execution_count": null,
   "id": "8dd3f902-f888-4b53-8365-48822d3b8c9b",
   "metadata": {},
   "outputs": [],
   "source": []
  },
  {
   "cell_type": "code",
   "execution_count": 68,
   "id": "1d7a3954-af41-45a6-a7c3-fb1c168e6c5f",
   "metadata": {
    "colab": {
     "base_uri": "https://localhost:8080/",
     "height": 274
    },
    "id": "31251834-0c72-4e3b-b859-64d1ea17ac88",
    "outputId": "67f9831d-5e36-4342-995c-61bb2ac0452e"
   },
   "outputs": [
    {
     "data": {
      "image/png": "[encoded data removed]",
      "text/plain": [
       "<Figure size 432x288 with 10 Axes>"
      ]
     },
     "metadata": {
      "needs_background": "light"
     },
     "output_type": "display_data"
    }
   ],
   "source": [
    "# Print 10 images from training set-\n",
    "for i in range(10):\n",
    "    plt.subplot(2, 5, i + 1)    # 2 rows & 5 columns\n",
    "    plt.imshow(images[i][0], cmap = 'gray')     # '0' to access first channel\n",
    "    \n",
    "plt.suptitle(\"Sample MNIST training images\")\n",
    "plt.show()"
   ]
  },
  {
   "cell_type": "code",
   "execution_count": 72,
   "id": "a1492eb9-4955-4b4f-979e-6117011b4e5f",
   "metadata": {},
   "outputs": [
    {
     "data": {
      "image/png": "[encoded data removed]",
      "text/plain": [
       "<Figure size 432x288 with 10 Axes>"
      ]
     },
     "metadata": {
      "needs_background": "light"
     },
     "output_type": "display_data"
    }
   ],
   "source": [
    "# Print 10 images from reconstructed images-\n",
    "for i in range(10):\n",
    "    plt.subplot(2, 5, i + 1)    # 2 rows & 5 columns\n",
    "    plt.imshow(recon_images[i][0], cmap = 'gray')     # '0' to access first channel\n",
    "    \n",
    "plt.suptitle(\"Reconstructed MNIST training images\")\n",
    "plt.show()"
   ]
  },
  {
   "cell_type": "code",
   "execution_count": null,
   "id": "8ad268af-1393-4f7d-9839-b24b48bc9cab",
   "metadata": {},
   "outputs": [],
   "source": []
  },
  {
   "cell_type": "code",
   "execution_count": 77,
   "id": "930416ba-6132-4f36-8087-58e6fc30dc94",
   "metadata": {},
   "outputs": [
    {
     "data": {
      "image/png": "[encoded data removed]",
      "text/plain": [
       "<Figure size 864x864 with 40 Axes>"
      ]
     },
     "metadata": {
      "needs_background": "light"
     },
     "output_type": "display_data"
    }
   ],
   "source": [
    "# Print 40 images from reconstructed images-\n",
    "plt.figure(figsize = (12, 12))\n",
    "\n",
    "for i in range(40):\n",
    "    plt.subplot(8, 5, i + 1)    # 8 rows & 5 columns\n",
    "    plt.imshow(recon_images[i][0], cmap = 'gray')     # '0' to access first channel\n",
    "    \n",
    "plt.suptitle(\"Reconstructed MNIST training images\")\n",
    "plt.show()"
   ]
  },
  {
   "cell_type": "code",
   "execution_count": null,
   "id": "55d1a92c-8e50-44a1-bca4-9f98c5a880a1",
   "metadata": {},
   "outputs": [],
   "source": []
  },
  {
   "cell_type": "code",
   "execution_count": null,
   "id": "5486f7bd-2704-41b9-a1bf-518dc987c569",
   "metadata": {},
   "outputs": [],
   "source": []
  },
  {
   "cell_type": "code",
   "execution_count": 73,
   "id": "1ceb6862-eb34-435b-b5bd-96935ac89c04",
   "metadata": {},
   "outputs": [],
   "source": [
    "# Get latent space representation-\n",
    "latent_space = model.reparameterize(mu, log_var)"
   ]
  },
  {
   "cell_type": "code",
   "execution_count": 74,
   "id": "f49c2313-3e3d-4c76-b3a4-d4f4e73dc67d",
   "metadata": {},
   "outputs": [],
   "source": [
    "latent_space = latent_space.detach().numpy()"
   ]
  },
  {
   "cell_type": "code",
   "execution_count": 75,
   "id": "dbfe4201-d65d-42bd-bc97-ea857044d12d",
   "metadata": {},
   "outputs": [
    {
     "data": {
      "text/plain": [
       "(64, 16)"
      ]
     },
     "execution_count": 75,
     "metadata": {},
     "output_type": "execute_result"
    }
   ],
   "source": [
    "latent_space.shape"
   ]
  },
  {
   "cell_type": "code",
   "execution_count": null,
   "id": "17261d29-b13a-4523-83b3-d244c2e2442e",
   "metadata": {},
   "outputs": [],
   "source": []
  },
  {
   "cell_type": "code",
   "execution_count": null,
   "id": "21eb152f-9231-4745-a61c-21ac8291fbbb",
   "metadata": {},
   "outputs": [],
   "source": []
  },
  {
   "cell_type": "code",
   "execution_count": null,
   "id": "15f389f5-8f42-419e-b981-a62482a91bd2",
   "metadata": {},
   "outputs": [],
   "source": []
  }
 ],
 "metadata": {
  "kernelspec": {
   "display_name": "Python 3 (ipykernel)",
   "language": "python",
   "name": "python3"
  },
  "language_info": {
   "codemirror_mode": {
    "name": "ipython",
    "version": 3
   },
   "file_extension": ".py",
   "mimetype": "text/x-python",
   "name": "python",
   "nbconvert_exporter": "python",
   "pygments_lexer": "ipython3",
   "version": "3.9.7"
  }
 },
 "nbformat": 4,
 "nbformat_minor": 5
}
